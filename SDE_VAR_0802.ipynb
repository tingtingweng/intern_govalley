{
 "cells": [
  {
   "cell_type": "code",
   "execution_count": 1,
   "metadata": {},
   "outputs": [
    {
     "data": {
      "text/html": [
       "        <script type=\"text/javascript\">\n",
       "        window.PlotlyConfig = {MathJaxConfig: 'local'};\n",
       "        if (window.MathJax) {MathJax.Hub.Config({SVG: {font: \"STIX-Web\"}});}\n",
       "        if (typeof require !== 'undefined') {\n",
       "        require.undef(\"plotly\");\n",
       "        requirejs.config({\n",
       "            paths: {\n",
       "                'plotly': ['https://cdn.plot.ly/plotly-latest.min']\n",
       "            }\n",
       "        });\n",
       "        require(['plotly'], function(Plotly) {\n",
       "            window._Plotly = Plotly;\n",
       "        });\n",
       "        }\n",
       "        </script>\n",
       "        "
      ]
     },
     "metadata": {},
     "output_type": "display_data"
    }
   ],
   "source": [
    "import pandas as pd\n",
    "import numpy as np\n",
    "import os\n",
    "import seaborn as sns\n",
    "import matplotlib.pyplot as plt\n",
    "%matplotlib inline\n",
    "\n",
    "import plotly as py\n",
    "import plotly.graph_objs as go\n",
    "from plotly.subplots import make_subplots\n",
    "from plotly.offline import download_plotlyjs, init_notebook_mode, plot, iplot\n",
    "import plotly.express as px\n",
    "from plotly.subplots import make_subplots\n",
    "import datetime as dt\n",
    "from datetime import timedelta\n",
    "from sklearn.model_selection import GridSearchCV\n",
    "from sklearn.preprocessing import StandardScaler\n",
    "from sklearn.cluster import KMeans\n",
    "from sklearn.metrics import silhouette_score,silhouette_samples\n",
    "from sklearn.linear_model import LinearRegression,Ridge,Lasso\n",
    "from sklearn.svm import SVR\n",
    "from sklearn.metrics import mean_squared_error,r2_score\n",
    "import statsmodels.api as sm\n",
    "from statsmodels.tsa.api import Holt,SimpleExpSmoothing,ExponentialSmoothing\n",
    "#from fbprophet import Prophet\n",
    "from sklearn.preprocessing import PolynomialFeatures\n",
    "from statsmodels.tsa.stattools import adfuller\n",
    "\n",
    "std=StandardScaler()\n",
    "# set up everything so that the figures show up in the notebook\n",
    "init_notebook_mode(connected=True)"
   ]
  },
  {
   "cell_type": "code",
   "execution_count": 2,
   "metadata": {},
   "outputs": [],
   "source": [
    "from statsmodels.tsa.statespace.sarimax import SARIMAX\n",
    "from statsmodels.tsa.api import VAR\n",
    "from statsmodels.tsa.statespace.varmax import VARMAX\n",
    "from multiprocessing import cpu_count\n",
    "from joblib import Parallel, delayed\n",
    "from warnings import catch_warnings, filterwarnings\n",
    "from statsmodels.tools.eval_measures import rmse, aic\n",
    "\n",
    "filterwarnings('ignore')"
   ]
  },
  {
   "cell_type": "markdown",
   "metadata": {},
   "source": [
    "# Indeed data modeling"
   ]
  },
  {
   "cell_type": "markdown",
   "metadata": {},
   "source": [
    "## Load data"
   ]
  },
  {
   "cell_type": "code",
   "execution_count": 3,
   "metadata": {},
   "outputs": [
    {
     "data": {
      "text/html": [
       "<div>\n",
       "<style scoped>\n",
       "    .dataframe tbody tr th:only-of-type {\n",
       "        vertical-align: middle;\n",
       "    }\n",
       "\n",
       "    .dataframe tbody tr th {\n",
       "        vertical-align: top;\n",
       "    }\n",
       "\n",
       "    .dataframe thead th {\n",
       "        text-align: right;\n",
       "    }\n",
       "</style>\n",
       "<table border=\"1\" class=\"dataframe\">\n",
       "  <thead>\n",
       "    <tr style=\"text-align: right;\">\n",
       "      <th></th>\n",
       "      <th>Title</th>\n",
       "      <th>Company</th>\n",
       "      <th>State</th>\n",
       "      <th>Location</th>\n",
       "      <th>Date</th>\n",
       "      <th>Salary</th>\n",
       "      <th>Summary</th>\n",
       "      <th>Description</th>\n",
       "      <th>Code</th>\n",
       "      <th>Post date</th>\n",
       "      <th>Day of week</th>\n",
       "      <th>City</th>\n",
       "      <th>Date in num</th>\n",
       "    </tr>\n",
       "  </thead>\n",
       "  <tbody>\n",
       "    <tr>\n",
       "      <td>0</td>\n",
       "      <td>Backend Software Engineer</td>\n",
       "      <td>PayPal</td>\n",
       "      <td>Alabama</td>\n",
       "      <td>Montgomery, AL 36101</td>\n",
       "      <td>1 day ago</td>\n",
       "      <td>NaN</td>\n",
       "      <td>Provide technical leadership and mentoring to ...</td>\n",
       "      <td>Experience in developing software for distribu...</td>\n",
       "      <td>AL</td>\n",
       "      <td>2020-08-01</td>\n",
       "      <td>Sat</td>\n",
       "      <td>Montgomery</td>\n",
       "      <td>NaN</td>\n",
       "    </tr>\n",
       "    <tr>\n",
       "      <td>1</td>\n",
       "      <td>Backend Software Engineer</td>\n",
       "      <td>PayPal</td>\n",
       "      <td>Alabama</td>\n",
       "      <td>Montgomery, AL 36101</td>\n",
       "      <td>1 day ago</td>\n",
       "      <td>NaN</td>\n",
       "      <td>Provide technical leadership and mentoring to ...</td>\n",
       "      <td>Experience in developing software for distribu...</td>\n",
       "      <td>AL</td>\n",
       "      <td>2020-08-01</td>\n",
       "      <td>Sat</td>\n",
       "      <td>Montgomery</td>\n",
       "      <td>NaN</td>\n",
       "    </tr>\n",
       "    <tr>\n",
       "      <td>2</td>\n",
       "      <td>C++ Software Developer (Jr.)</td>\n",
       "      <td>Brockwell Technologies</td>\n",
       "      <td>Alabama</td>\n",
       "      <td>Huntsville, AL 35805</td>\n",
       "      <td>1 day ago</td>\n",
       "      <td>NaN</td>\n",
       "      <td>The candidate will perform development activit...</td>\n",
       "      <td>BTI is seeking mid to senior level C++ softwar...</td>\n",
       "      <td>AL</td>\n",
       "      <td>2020-08-01</td>\n",
       "      <td>Sat</td>\n",
       "      <td>Huntsville</td>\n",
       "      <td>NaN</td>\n",
       "    </tr>\n",
       "    <tr>\n",
       "      <td>3</td>\n",
       "      <td>UX Software Developer</td>\n",
       "      <td>Trideum Corporation</td>\n",
       "      <td>Alabama</td>\n",
       "      <td>Birmingham, AL 35246</td>\n",
       "      <td>1 day ago</td>\n",
       "      <td>NaN</td>\n",
       "      <td>Experience with software systems engineering a...</td>\n",
       "      <td>Come and join Trideum Corporation's dynamic an...</td>\n",
       "      <td>AL</td>\n",
       "      <td>2020-08-01</td>\n",
       "      <td>Sat</td>\n",
       "      <td>Birmingham</td>\n",
       "      <td>NaN</td>\n",
       "    </tr>\n",
       "    <tr>\n",
       "      <td>4</td>\n",
       "      <td>C++ Software Developer (Mid-Level)</td>\n",
       "      <td>Brockwell Technologies</td>\n",
       "      <td>Alabama</td>\n",
       "      <td>Huntsville, AL 35805</td>\n",
       "      <td>1 day ago</td>\n",
       "      <td>NaN</td>\n",
       "      <td>The candidate will perform development activit...</td>\n",
       "      <td>BTI is seeking mid to senior level C++ softwar...</td>\n",
       "      <td>AL</td>\n",
       "      <td>2020-08-01</td>\n",
       "      <td>Sat</td>\n",
       "      <td>Huntsville</td>\n",
       "      <td>NaN</td>\n",
       "    </tr>\n",
       "  </tbody>\n",
       "</table>\n",
       "</div>"
      ],
      "text/plain": [
       "                                Title                 Company    State  \\\n",
       "0           Backend Software Engineer                  PayPal  Alabama   \n",
       "1           Backend Software Engineer                  PayPal  Alabama   \n",
       "2        C++ Software Developer (Jr.)  Brockwell Technologies  Alabama   \n",
       "3               UX Software Developer     Trideum Corporation  Alabama   \n",
       "4  C++ Software Developer (Mid-Level)  Brockwell Technologies  Alabama   \n",
       "\n",
       "               Location       Date Salary  \\\n",
       "0  Montgomery, AL 36101  1 day ago    NaN   \n",
       "1  Montgomery, AL 36101  1 day ago    NaN   \n",
       "2  Huntsville, AL 35805  1 day ago    NaN   \n",
       "3  Birmingham, AL 35246  1 day ago    NaN   \n",
       "4  Huntsville, AL 35805  1 day ago    NaN   \n",
       "\n",
       "                                             Summary  \\\n",
       "0  Provide technical leadership and mentoring to ...   \n",
       "1  Provide technical leadership and mentoring to ...   \n",
       "2  The candidate will perform development activit...   \n",
       "3  Experience with software systems engineering a...   \n",
       "4  The candidate will perform development activit...   \n",
       "\n",
       "                                         Description Code   Post date  \\\n",
       "0  Experience in developing software for distribu...   AL  2020-08-01   \n",
       "1  Experience in developing software for distribu...   AL  2020-08-01   \n",
       "2  BTI is seeking mid to senior level C++ softwar...   AL  2020-08-01   \n",
       "3  Come and join Trideum Corporation's dynamic an...   AL  2020-08-01   \n",
       "4  BTI is seeking mid to senior level C++ softwar...   AL  2020-08-01   \n",
       "\n",
       "  Day of week        City  Date in num  \n",
       "0         Sat  Montgomery          NaN  \n",
       "1         Sat  Montgomery          NaN  \n",
       "2         Sat  Huntsville          NaN  \n",
       "3         Sat  Birmingham          NaN  \n",
       "4         Sat  Huntsville          NaN  "
      ]
     },
     "execution_count": 3,
     "metadata": {},
     "output_type": "execute_result"
    }
   ],
   "source": [
    "df_indeed = pd.read_csv('/Users/tingtingweng/Documents/summer_intern/data/Indeed_SDEJobs_20200802_combined.csv')\n",
    "df_indeed.head()"
   ]
  },
  {
   "cell_type": "code",
   "execution_count": 4,
   "metadata": {},
   "outputs": [],
   "source": [
    "bydate = df_indeed.groupby('Post date').size()\n",
    "\n",
    "df_date_indeed = pd.DataFrame({'Date': bydate.index, 'Jobnums': bydate.values})"
   ]
  },
  {
   "cell_type": "code",
   "execution_count": 5,
   "metadata": {},
   "outputs": [
    {
     "data": {
      "application/vnd.plotly.v1+json": {
       "config": {
        "plotlyServerURL": "https://plot.ly"
       },
       "data": [
        {
         "mode": "lines+markers",
         "type": "scatter",
         "x": [
          "2020-06-12",
          "2020-06-13",
          "2020-06-14",
          "2020-06-15",
          "2020-06-16",
          "2020-06-17",
          "2020-06-18",
          "2020-06-19",
          "2020-06-20",
          "2020-06-21",
          "2020-06-22",
          "2020-06-23",
          "2020-06-24",
          "2020-06-25",
          "2020-06-26",
          "2020-06-27",
          "2020-06-28",
          "2020-06-29",
          "2020-06-30",
          "2020-07-01",
          "2020-07-02",
          "2020-07-03",
          "2020-07-04",
          "2020-07-05",
          "2020-07-06",
          "2020-07-07",
          "2020-07-08",
          "2020-07-09",
          "2020-07-10",
          "2020-07-11",
          "2020-07-12",
          "2020-07-13",
          "2020-07-14",
          "2020-07-15",
          "2020-07-16",
          "2020-07-17",
          "2020-07-18",
          "2020-07-19",
          "2020-07-20",
          "2020-07-21",
          "2020-07-22",
          "2020-07-23",
          "2020-07-24",
          "2020-07-25",
          "2020-07-26",
          "2020-07-27",
          "2020-07-28",
          "2020-07-29",
          "2020-07-30",
          "2020-07-31",
          "2020-08-01",
          "2020-08-02"
         ],
         "y": [
          282,
          330,
          61,
          227,
          576,
          645,
          680,
          686,
          334,
          39,
          302,
          815,
          726,
          719,
          805,
          433,
          55,
          326,
          964,
          1865,
          863,
          619,
          176,
          85,
          786,
          1740,
          1747,
          1794,
          1943,
          1167,
          205,
          606,
          804,
          820,
          793,
          721,
          334,
          103,
          551,
          995,
          981,
          953,
          989,
          403,
          81,
          678,
          1240,
          1294,
          1490,
          1500,
          728,
          143
         ]
        }
       ],
       "layout": {
        "template": {
         "data": {
          "bar": [
           {
            "error_x": {
             "color": "#2a3f5f"
            },
            "error_y": {
             "color": "#2a3f5f"
            },
            "marker": {
             "line": {
              "color": "#E5ECF6",
              "width": 0.5
             }
            },
            "type": "bar"
           }
          ],
          "barpolar": [
           {
            "marker": {
             "line": {
              "color": "#E5ECF6",
              "width": 0.5
             }
            },
            "type": "barpolar"
           }
          ],
          "carpet": [
           {
            "aaxis": {
             "endlinecolor": "#2a3f5f",
             "gridcolor": "white",
             "linecolor": "white",
             "minorgridcolor": "white",
             "startlinecolor": "#2a3f5f"
            },
            "baxis": {
             "endlinecolor": "#2a3f5f",
             "gridcolor": "white",
             "linecolor": "white",
             "minorgridcolor": "white",
             "startlinecolor": "#2a3f5f"
            },
            "type": "carpet"
           }
          ],
          "choropleth": [
           {
            "colorbar": {
             "outlinewidth": 0,
             "ticks": ""
            },
            "type": "choropleth"
           }
          ],
          "contour": [
           {
            "colorbar": {
             "outlinewidth": 0,
             "ticks": ""
            },
            "colorscale": [
             [
              0,
              "#0d0887"
             ],
             [
              0.1111111111111111,
              "#46039f"
             ],
             [
              0.2222222222222222,
              "#7201a8"
             ],
             [
              0.3333333333333333,
              "#9c179e"
             ],
             [
              0.4444444444444444,
              "#bd3786"
             ],
             [
              0.5555555555555556,
              "#d8576b"
             ],
             [
              0.6666666666666666,
              "#ed7953"
             ],
             [
              0.7777777777777778,
              "#fb9f3a"
             ],
             [
              0.8888888888888888,
              "#fdca26"
             ],
             [
              1,
              "#f0f921"
             ]
            ],
            "type": "contour"
           }
          ],
          "contourcarpet": [
           {
            "colorbar": {
             "outlinewidth": 0,
             "ticks": ""
            },
            "type": "contourcarpet"
           }
          ],
          "heatmap": [
           {
            "colorbar": {
             "outlinewidth": 0,
             "ticks": ""
            },
            "colorscale": [
             [
              0,
              "#0d0887"
             ],
             [
              0.1111111111111111,
              "#46039f"
             ],
             [
              0.2222222222222222,
              "#7201a8"
             ],
             [
              0.3333333333333333,
              "#9c179e"
             ],
             [
              0.4444444444444444,
              "#bd3786"
             ],
             [
              0.5555555555555556,
              "#d8576b"
             ],
             [
              0.6666666666666666,
              "#ed7953"
             ],
             [
              0.7777777777777778,
              "#fb9f3a"
             ],
             [
              0.8888888888888888,
              "#fdca26"
             ],
             [
              1,
              "#f0f921"
             ]
            ],
            "type": "heatmap"
           }
          ],
          "heatmapgl": [
           {
            "colorbar": {
             "outlinewidth": 0,
             "ticks": ""
            },
            "colorscale": [
             [
              0,
              "#0d0887"
             ],
             [
              0.1111111111111111,
              "#46039f"
             ],
             [
              0.2222222222222222,
              "#7201a8"
             ],
             [
              0.3333333333333333,
              "#9c179e"
             ],
             [
              0.4444444444444444,
              "#bd3786"
             ],
             [
              0.5555555555555556,
              "#d8576b"
             ],
             [
              0.6666666666666666,
              "#ed7953"
             ],
             [
              0.7777777777777778,
              "#fb9f3a"
             ],
             [
              0.8888888888888888,
              "#fdca26"
             ],
             [
              1,
              "#f0f921"
             ]
            ],
            "type": "heatmapgl"
           }
          ],
          "histogram": [
           {
            "marker": {
             "colorbar": {
              "outlinewidth": 0,
              "ticks": ""
             }
            },
            "type": "histogram"
           }
          ],
          "histogram2d": [
           {
            "colorbar": {
             "outlinewidth": 0,
             "ticks": ""
            },
            "colorscale": [
             [
              0,
              "#0d0887"
             ],
             [
              0.1111111111111111,
              "#46039f"
             ],
             [
              0.2222222222222222,
              "#7201a8"
             ],
             [
              0.3333333333333333,
              "#9c179e"
             ],
             [
              0.4444444444444444,
              "#bd3786"
             ],
             [
              0.5555555555555556,
              "#d8576b"
             ],
             [
              0.6666666666666666,
              "#ed7953"
             ],
             [
              0.7777777777777778,
              "#fb9f3a"
             ],
             [
              0.8888888888888888,
              "#fdca26"
             ],
             [
              1,
              "#f0f921"
             ]
            ],
            "type": "histogram2d"
           }
          ],
          "histogram2dcontour": [
           {
            "colorbar": {
             "outlinewidth": 0,
             "ticks": ""
            },
            "colorscale": [
             [
              0,
              "#0d0887"
             ],
             [
              0.1111111111111111,
              "#46039f"
             ],
             [
              0.2222222222222222,
              "#7201a8"
             ],
             [
              0.3333333333333333,
              "#9c179e"
             ],
             [
              0.4444444444444444,
              "#bd3786"
             ],
             [
              0.5555555555555556,
              "#d8576b"
             ],
             [
              0.6666666666666666,
              "#ed7953"
             ],
             [
              0.7777777777777778,
              "#fb9f3a"
             ],
             [
              0.8888888888888888,
              "#fdca26"
             ],
             [
              1,
              "#f0f921"
             ]
            ],
            "type": "histogram2dcontour"
           }
          ],
          "mesh3d": [
           {
            "colorbar": {
             "outlinewidth": 0,
             "ticks": ""
            },
            "type": "mesh3d"
           }
          ],
          "parcoords": [
           {
            "line": {
             "colorbar": {
              "outlinewidth": 0,
              "ticks": ""
             }
            },
            "type": "parcoords"
           }
          ],
          "pie": [
           {
            "automargin": true,
            "type": "pie"
           }
          ],
          "scatter": [
           {
            "marker": {
             "colorbar": {
              "outlinewidth": 0,
              "ticks": ""
             }
            },
            "type": "scatter"
           }
          ],
          "scatter3d": [
           {
            "line": {
             "colorbar": {
              "outlinewidth": 0,
              "ticks": ""
             }
            },
            "marker": {
             "colorbar": {
              "outlinewidth": 0,
              "ticks": ""
             }
            },
            "type": "scatter3d"
           }
          ],
          "scattercarpet": [
           {
            "marker": {
             "colorbar": {
              "outlinewidth": 0,
              "ticks": ""
             }
            },
            "type": "scattercarpet"
           }
          ],
          "scattergeo": [
           {
            "marker": {
             "colorbar": {
              "outlinewidth": 0,
              "ticks": ""
             }
            },
            "type": "scattergeo"
           }
          ],
          "scattergl": [
           {
            "marker": {
             "colorbar": {
              "outlinewidth": 0,
              "ticks": ""
             }
            },
            "type": "scattergl"
           }
          ],
          "scattermapbox": [
           {
            "marker": {
             "colorbar": {
              "outlinewidth": 0,
              "ticks": ""
             }
            },
            "type": "scattermapbox"
           }
          ],
          "scatterpolar": [
           {
            "marker": {
             "colorbar": {
              "outlinewidth": 0,
              "ticks": ""
             }
            },
            "type": "scatterpolar"
           }
          ],
          "scatterpolargl": [
           {
            "marker": {
             "colorbar": {
              "outlinewidth": 0,
              "ticks": ""
             }
            },
            "type": "scatterpolargl"
           }
          ],
          "scatterternary": [
           {
            "marker": {
             "colorbar": {
              "outlinewidth": 0,
              "ticks": ""
             }
            },
            "type": "scatterternary"
           }
          ],
          "surface": [
           {
            "colorbar": {
             "outlinewidth": 0,
             "ticks": ""
            },
            "colorscale": [
             [
              0,
              "#0d0887"
             ],
             [
              0.1111111111111111,
              "#46039f"
             ],
             [
              0.2222222222222222,
              "#7201a8"
             ],
             [
              0.3333333333333333,
              "#9c179e"
             ],
             [
              0.4444444444444444,
              "#bd3786"
             ],
             [
              0.5555555555555556,
              "#d8576b"
             ],
             [
              0.6666666666666666,
              "#ed7953"
             ],
             [
              0.7777777777777778,
              "#fb9f3a"
             ],
             [
              0.8888888888888888,
              "#fdca26"
             ],
             [
              1,
              "#f0f921"
             ]
            ],
            "type": "surface"
           }
          ],
          "table": [
           {
            "cells": {
             "fill": {
              "color": "#EBF0F8"
             },
             "line": {
              "color": "white"
             }
            },
            "header": {
             "fill": {
              "color": "#C8D4E3"
             },
             "line": {
              "color": "white"
             }
            },
            "type": "table"
           }
          ]
         },
         "layout": {
          "annotationdefaults": {
           "arrowcolor": "#2a3f5f",
           "arrowhead": 0,
           "arrowwidth": 1
          },
          "coloraxis": {
           "colorbar": {
            "outlinewidth": 0,
            "ticks": ""
           }
          },
          "colorscale": {
           "diverging": [
            [
             0,
             "#8e0152"
            ],
            [
             0.1,
             "#c51b7d"
            ],
            [
             0.2,
             "#de77ae"
            ],
            [
             0.3,
             "#f1b6da"
            ],
            [
             0.4,
             "#fde0ef"
            ],
            [
             0.5,
             "#f7f7f7"
            ],
            [
             0.6,
             "#e6f5d0"
            ],
            [
             0.7,
             "#b8e186"
            ],
            [
             0.8,
             "#7fbc41"
            ],
            [
             0.9,
             "#4d9221"
            ],
            [
             1,
             "#276419"
            ]
           ],
           "sequential": [
            [
             0,
             "#0d0887"
            ],
            [
             0.1111111111111111,
             "#46039f"
            ],
            [
             0.2222222222222222,
             "#7201a8"
            ],
            [
             0.3333333333333333,
             "#9c179e"
            ],
            [
             0.4444444444444444,
             "#bd3786"
            ],
            [
             0.5555555555555556,
             "#d8576b"
            ],
            [
             0.6666666666666666,
             "#ed7953"
            ],
            [
             0.7777777777777778,
             "#fb9f3a"
            ],
            [
             0.8888888888888888,
             "#fdca26"
            ],
            [
             1,
             "#f0f921"
            ]
           ],
           "sequentialminus": [
            [
             0,
             "#0d0887"
            ],
            [
             0.1111111111111111,
             "#46039f"
            ],
            [
             0.2222222222222222,
             "#7201a8"
            ],
            [
             0.3333333333333333,
             "#9c179e"
            ],
            [
             0.4444444444444444,
             "#bd3786"
            ],
            [
             0.5555555555555556,
             "#d8576b"
            ],
            [
             0.6666666666666666,
             "#ed7953"
            ],
            [
             0.7777777777777778,
             "#fb9f3a"
            ],
            [
             0.8888888888888888,
             "#fdca26"
            ],
            [
             1,
             "#f0f921"
            ]
           ]
          },
          "colorway": [
           "#636efa",
           "#EF553B",
           "#00cc96",
           "#ab63fa",
           "#FFA15A",
           "#19d3f3",
           "#FF6692",
           "#B6E880",
           "#FF97FF",
           "#FECB52"
          ],
          "font": {
           "color": "#2a3f5f"
          },
          "geo": {
           "bgcolor": "white",
           "lakecolor": "white",
           "landcolor": "#E5ECF6",
           "showlakes": true,
           "showland": true,
           "subunitcolor": "white"
          },
          "hoverlabel": {
           "align": "left"
          },
          "hovermode": "closest",
          "mapbox": {
           "style": "light"
          },
          "paper_bgcolor": "white",
          "plot_bgcolor": "#E5ECF6",
          "polar": {
           "angularaxis": {
            "gridcolor": "white",
            "linecolor": "white",
            "ticks": ""
           },
           "bgcolor": "#E5ECF6",
           "radialaxis": {
            "gridcolor": "white",
            "linecolor": "white",
            "ticks": ""
           }
          },
          "scene": {
           "xaxis": {
            "backgroundcolor": "#E5ECF6",
            "gridcolor": "white",
            "gridwidth": 2,
            "linecolor": "white",
            "showbackground": true,
            "ticks": "",
            "zerolinecolor": "white"
           },
           "yaxis": {
            "backgroundcolor": "#E5ECF6",
            "gridcolor": "white",
            "gridwidth": 2,
            "linecolor": "white",
            "showbackground": true,
            "ticks": "",
            "zerolinecolor": "white"
           },
           "zaxis": {
            "backgroundcolor": "#E5ECF6",
            "gridcolor": "white",
            "gridwidth": 2,
            "linecolor": "white",
            "showbackground": true,
            "ticks": "",
            "zerolinecolor": "white"
           }
          },
          "shapedefaults": {
           "line": {
            "color": "#2a3f5f"
           }
          },
          "ternary": {
           "aaxis": {
            "gridcolor": "white",
            "linecolor": "white",
            "ticks": ""
           },
           "baxis": {
            "gridcolor": "white",
            "linecolor": "white",
            "ticks": ""
           },
           "bgcolor": "#E5ECF6",
           "caxis": {
            "gridcolor": "white",
            "linecolor": "white",
            "ticks": ""
           }
          },
          "title": {
           "x": 0.05
          },
          "xaxis": {
           "automargin": true,
           "gridcolor": "white",
           "linecolor": "white",
           "ticks": "",
           "title": {
            "standoff": 15
           },
           "zerolinecolor": "white",
           "zerolinewidth": 2
          },
          "yaxis": {
           "automargin": true,
           "gridcolor": "white",
           "linecolor": "white",
           "ticks": "",
           "title": {
            "standoff": 15
           },
           "zerolinecolor": "white",
           "zerolinewidth": 2
          }
         }
        },
        "title": {
         "text": "Data scientist open positions vs. post date"
        }
       }
      },
      "text/html": [
       "<div>\n",
       "        \n",
       "        \n",
       "            <div id=\"40442226-4b8f-44c0-b6a6-7a1a6b503a46\" class=\"plotly-graph-div\" style=\"height:525px; width:100%;\"></div>\n",
       "            <script type=\"text/javascript\">\n",
       "                require([\"plotly\"], function(Plotly) {\n",
       "                    window.PLOTLYENV=window.PLOTLYENV || {};\n",
       "                    \n",
       "                if (document.getElementById(\"40442226-4b8f-44c0-b6a6-7a1a6b503a46\")) {\n",
       "                    Plotly.newPlot(\n",
       "                        '40442226-4b8f-44c0-b6a6-7a1a6b503a46',\n",
       "                        [{\"mode\": \"lines+markers\", \"type\": \"scatter\", \"x\": [\"2020-06-12\", \"2020-06-13\", \"2020-06-14\", \"2020-06-15\", \"2020-06-16\", \"2020-06-17\", \"2020-06-18\", \"2020-06-19\", \"2020-06-20\", \"2020-06-21\", \"2020-06-22\", \"2020-06-23\", \"2020-06-24\", \"2020-06-25\", \"2020-06-26\", \"2020-06-27\", \"2020-06-28\", \"2020-06-29\", \"2020-06-30\", \"2020-07-01\", \"2020-07-02\", \"2020-07-03\", \"2020-07-04\", \"2020-07-05\", \"2020-07-06\", \"2020-07-07\", \"2020-07-08\", \"2020-07-09\", \"2020-07-10\", \"2020-07-11\", \"2020-07-12\", \"2020-07-13\", \"2020-07-14\", \"2020-07-15\", \"2020-07-16\", \"2020-07-17\", \"2020-07-18\", \"2020-07-19\", \"2020-07-20\", \"2020-07-21\", \"2020-07-22\", \"2020-07-23\", \"2020-07-24\", \"2020-07-25\", \"2020-07-26\", \"2020-07-27\", \"2020-07-28\", \"2020-07-29\", \"2020-07-30\", \"2020-07-31\", \"2020-08-01\", \"2020-08-02\"], \"y\": [282, 330, 61, 227, 576, 645, 680, 686, 334, 39, 302, 815, 726, 719, 805, 433, 55, 326, 964, 1865, 863, 619, 176, 85, 786, 1740, 1747, 1794, 1943, 1167, 205, 606, 804, 820, 793, 721, 334, 103, 551, 995, 981, 953, 989, 403, 81, 678, 1240, 1294, 1490, 1500, 728, 143]}],\n",
       "                        {\"template\": {\"data\": {\"bar\": [{\"error_x\": {\"color\": \"#2a3f5f\"}, \"error_y\": {\"color\": \"#2a3f5f\"}, \"marker\": {\"line\": {\"color\": \"#E5ECF6\", \"width\": 0.5}}, \"type\": \"bar\"}], \"barpolar\": [{\"marker\": {\"line\": {\"color\": \"#E5ECF6\", \"width\": 0.5}}, \"type\": \"barpolar\"}], \"carpet\": [{\"aaxis\": {\"endlinecolor\": \"#2a3f5f\", \"gridcolor\": \"white\", \"linecolor\": \"white\", \"minorgridcolor\": \"white\", \"startlinecolor\": \"#2a3f5f\"}, \"baxis\": {\"endlinecolor\": \"#2a3f5f\", \"gridcolor\": \"white\", \"linecolor\": \"white\", \"minorgridcolor\": \"white\", \"startlinecolor\": \"#2a3f5f\"}, \"type\": \"carpet\"}], \"choropleth\": [{\"colorbar\": {\"outlinewidth\": 0, \"ticks\": \"\"}, \"type\": \"choropleth\"}], \"contour\": [{\"colorbar\": {\"outlinewidth\": 0, \"ticks\": \"\"}, \"colorscale\": [[0.0, \"#0d0887\"], [0.1111111111111111, \"#46039f\"], [0.2222222222222222, \"#7201a8\"], [0.3333333333333333, \"#9c179e\"], [0.4444444444444444, \"#bd3786\"], [0.5555555555555556, \"#d8576b\"], [0.6666666666666666, \"#ed7953\"], [0.7777777777777778, \"#fb9f3a\"], [0.8888888888888888, \"#fdca26\"], [1.0, \"#f0f921\"]], \"type\": \"contour\"}], \"contourcarpet\": [{\"colorbar\": {\"outlinewidth\": 0, \"ticks\": \"\"}, \"type\": \"contourcarpet\"}], \"heatmap\": [{\"colorbar\": {\"outlinewidth\": 0, \"ticks\": \"\"}, \"colorscale\": [[0.0, \"#0d0887\"], [0.1111111111111111, \"#46039f\"], [0.2222222222222222, \"#7201a8\"], [0.3333333333333333, \"#9c179e\"], [0.4444444444444444, \"#bd3786\"], [0.5555555555555556, \"#d8576b\"], [0.6666666666666666, \"#ed7953\"], [0.7777777777777778, \"#fb9f3a\"], [0.8888888888888888, \"#fdca26\"], [1.0, \"#f0f921\"]], \"type\": \"heatmap\"}], \"heatmapgl\": [{\"colorbar\": {\"outlinewidth\": 0, \"ticks\": \"\"}, \"colorscale\": [[0.0, \"#0d0887\"], [0.1111111111111111, \"#46039f\"], [0.2222222222222222, \"#7201a8\"], [0.3333333333333333, \"#9c179e\"], [0.4444444444444444, \"#bd3786\"], [0.5555555555555556, \"#d8576b\"], [0.6666666666666666, \"#ed7953\"], [0.7777777777777778, \"#fb9f3a\"], [0.8888888888888888, \"#fdca26\"], [1.0, \"#f0f921\"]], \"type\": \"heatmapgl\"}], \"histogram\": [{\"marker\": {\"colorbar\": {\"outlinewidth\": 0, \"ticks\": \"\"}}, \"type\": \"histogram\"}], \"histogram2d\": [{\"colorbar\": {\"outlinewidth\": 0, \"ticks\": \"\"}, \"colorscale\": [[0.0, \"#0d0887\"], [0.1111111111111111, \"#46039f\"], [0.2222222222222222, \"#7201a8\"], [0.3333333333333333, \"#9c179e\"], [0.4444444444444444, \"#bd3786\"], [0.5555555555555556, \"#d8576b\"], [0.6666666666666666, \"#ed7953\"], [0.7777777777777778, \"#fb9f3a\"], [0.8888888888888888, \"#fdca26\"], [1.0, \"#f0f921\"]], \"type\": \"histogram2d\"}], \"histogram2dcontour\": [{\"colorbar\": {\"outlinewidth\": 0, \"ticks\": \"\"}, \"colorscale\": [[0.0, \"#0d0887\"], [0.1111111111111111, \"#46039f\"], [0.2222222222222222, \"#7201a8\"], [0.3333333333333333, \"#9c179e\"], [0.4444444444444444, \"#bd3786\"], [0.5555555555555556, \"#d8576b\"], [0.6666666666666666, \"#ed7953\"], [0.7777777777777778, \"#fb9f3a\"], [0.8888888888888888, \"#fdca26\"], [1.0, \"#f0f921\"]], \"type\": \"histogram2dcontour\"}], \"mesh3d\": [{\"colorbar\": {\"outlinewidth\": 0, \"ticks\": \"\"}, \"type\": \"mesh3d\"}], \"parcoords\": [{\"line\": {\"colorbar\": {\"outlinewidth\": 0, \"ticks\": \"\"}}, \"type\": \"parcoords\"}], \"pie\": [{\"automargin\": true, \"type\": \"pie\"}], \"scatter\": [{\"marker\": {\"colorbar\": {\"outlinewidth\": 0, \"ticks\": \"\"}}, \"type\": \"scatter\"}], \"scatter3d\": [{\"line\": {\"colorbar\": {\"outlinewidth\": 0, \"ticks\": \"\"}}, \"marker\": {\"colorbar\": {\"outlinewidth\": 0, \"ticks\": \"\"}}, \"type\": \"scatter3d\"}], \"scattercarpet\": [{\"marker\": {\"colorbar\": {\"outlinewidth\": 0, \"ticks\": \"\"}}, \"type\": \"scattercarpet\"}], \"scattergeo\": [{\"marker\": {\"colorbar\": {\"outlinewidth\": 0, \"ticks\": \"\"}}, \"type\": \"scattergeo\"}], \"scattergl\": [{\"marker\": {\"colorbar\": {\"outlinewidth\": 0, \"ticks\": \"\"}}, \"type\": \"scattergl\"}], \"scattermapbox\": [{\"marker\": {\"colorbar\": {\"outlinewidth\": 0, \"ticks\": \"\"}}, \"type\": \"scattermapbox\"}], \"scatterpolar\": [{\"marker\": {\"colorbar\": {\"outlinewidth\": 0, \"ticks\": \"\"}}, \"type\": \"scatterpolar\"}], \"scatterpolargl\": [{\"marker\": {\"colorbar\": {\"outlinewidth\": 0, \"ticks\": \"\"}}, \"type\": \"scatterpolargl\"}], \"scatterternary\": [{\"marker\": {\"colorbar\": {\"outlinewidth\": 0, \"ticks\": \"\"}}, \"type\": \"scatterternary\"}], \"surface\": [{\"colorbar\": {\"outlinewidth\": 0, \"ticks\": \"\"}, \"colorscale\": [[0.0, \"#0d0887\"], [0.1111111111111111, \"#46039f\"], [0.2222222222222222, \"#7201a8\"], [0.3333333333333333, \"#9c179e\"], [0.4444444444444444, \"#bd3786\"], [0.5555555555555556, \"#d8576b\"], [0.6666666666666666, \"#ed7953\"], [0.7777777777777778, \"#fb9f3a\"], [0.8888888888888888, \"#fdca26\"], [1.0, \"#f0f921\"]], \"type\": \"surface\"}], \"table\": [{\"cells\": {\"fill\": {\"color\": \"#EBF0F8\"}, \"line\": {\"color\": \"white\"}}, \"header\": {\"fill\": {\"color\": \"#C8D4E3\"}, \"line\": {\"color\": \"white\"}}, \"type\": \"table\"}]}, \"layout\": {\"annotationdefaults\": {\"arrowcolor\": \"#2a3f5f\", \"arrowhead\": 0, \"arrowwidth\": 1}, \"coloraxis\": {\"colorbar\": {\"outlinewidth\": 0, \"ticks\": \"\"}}, \"colorscale\": {\"diverging\": [[0, \"#8e0152\"], [0.1, \"#c51b7d\"], [0.2, \"#de77ae\"], [0.3, \"#f1b6da\"], [0.4, \"#fde0ef\"], [0.5, \"#f7f7f7\"], [0.6, \"#e6f5d0\"], [0.7, \"#b8e186\"], [0.8, \"#7fbc41\"], [0.9, \"#4d9221\"], [1, \"#276419\"]], \"sequential\": [[0.0, \"#0d0887\"], [0.1111111111111111, \"#46039f\"], [0.2222222222222222, \"#7201a8\"], [0.3333333333333333, \"#9c179e\"], [0.4444444444444444, \"#bd3786\"], [0.5555555555555556, \"#d8576b\"], [0.6666666666666666, \"#ed7953\"], [0.7777777777777778, \"#fb9f3a\"], [0.8888888888888888, \"#fdca26\"], [1.0, \"#f0f921\"]], \"sequentialminus\": [[0.0, \"#0d0887\"], [0.1111111111111111, \"#46039f\"], [0.2222222222222222, \"#7201a8\"], [0.3333333333333333, \"#9c179e\"], [0.4444444444444444, \"#bd3786\"], [0.5555555555555556, \"#d8576b\"], [0.6666666666666666, \"#ed7953\"], [0.7777777777777778, \"#fb9f3a\"], [0.8888888888888888, \"#fdca26\"], [1.0, \"#f0f921\"]]}, \"colorway\": [\"#636efa\", \"#EF553B\", \"#00cc96\", \"#ab63fa\", \"#FFA15A\", \"#19d3f3\", \"#FF6692\", \"#B6E880\", \"#FF97FF\", \"#FECB52\"], \"font\": {\"color\": \"#2a3f5f\"}, \"geo\": {\"bgcolor\": \"white\", \"lakecolor\": \"white\", \"landcolor\": \"#E5ECF6\", \"showlakes\": true, \"showland\": true, \"subunitcolor\": \"white\"}, \"hoverlabel\": {\"align\": \"left\"}, \"hovermode\": \"closest\", \"mapbox\": {\"style\": \"light\"}, \"paper_bgcolor\": \"white\", \"plot_bgcolor\": \"#E5ECF6\", \"polar\": {\"angularaxis\": {\"gridcolor\": \"white\", \"linecolor\": \"white\", \"ticks\": \"\"}, \"bgcolor\": \"#E5ECF6\", \"radialaxis\": {\"gridcolor\": \"white\", \"linecolor\": \"white\", \"ticks\": \"\"}}, \"scene\": {\"xaxis\": {\"backgroundcolor\": \"#E5ECF6\", \"gridcolor\": \"white\", \"gridwidth\": 2, \"linecolor\": \"white\", \"showbackground\": true, \"ticks\": \"\", \"zerolinecolor\": \"white\"}, \"yaxis\": {\"backgroundcolor\": \"#E5ECF6\", \"gridcolor\": \"white\", \"gridwidth\": 2, \"linecolor\": \"white\", \"showbackground\": true, \"ticks\": \"\", \"zerolinecolor\": \"white\"}, \"zaxis\": {\"backgroundcolor\": \"#E5ECF6\", \"gridcolor\": \"white\", \"gridwidth\": 2, \"linecolor\": \"white\", \"showbackground\": true, \"ticks\": \"\", \"zerolinecolor\": \"white\"}}, \"shapedefaults\": {\"line\": {\"color\": \"#2a3f5f\"}}, \"ternary\": {\"aaxis\": {\"gridcolor\": \"white\", \"linecolor\": \"white\", \"ticks\": \"\"}, \"baxis\": {\"gridcolor\": \"white\", \"linecolor\": \"white\", \"ticks\": \"\"}, \"bgcolor\": \"#E5ECF6\", \"caxis\": {\"gridcolor\": \"white\", \"linecolor\": \"white\", \"ticks\": \"\"}}, \"title\": {\"x\": 0.05}, \"xaxis\": {\"automargin\": true, \"gridcolor\": \"white\", \"linecolor\": \"white\", \"ticks\": \"\", \"title\": {\"standoff\": 15}, \"zerolinecolor\": \"white\", \"zerolinewidth\": 2}, \"yaxis\": {\"automargin\": true, \"gridcolor\": \"white\", \"linecolor\": \"white\", \"ticks\": \"\", \"title\": {\"standoff\": 15}, \"zerolinecolor\": \"white\", \"zerolinewidth\": 2}}}, \"title\": {\"text\": \"Data scientist open positions vs. post date\"}},\n",
       "                        {\"responsive\": true}\n",
       "                    ).then(function(){\n",
       "                            \n",
       "var gd = document.getElementById('40442226-4b8f-44c0-b6a6-7a1a6b503a46');\n",
       "var x = new MutationObserver(function (mutations, observer) {{\n",
       "        var display = window.getComputedStyle(gd).display;\n",
       "        if (!display || display === 'none') {{\n",
       "            console.log([gd, 'removed!']);\n",
       "            Plotly.purge(gd);\n",
       "            observer.disconnect();\n",
       "        }}\n",
       "}});\n",
       "\n",
       "// Listen for the removal of the full notebook cells\n",
       "var notebookContainer = gd.closest('#notebook-container');\n",
       "if (notebookContainer) {{\n",
       "    x.observe(notebookContainer, {childList: true});\n",
       "}}\n",
       "\n",
       "// Listen for the clearing of the current output cell\n",
       "var outputEl = gd.closest('.output');\n",
       "if (outputEl) {{\n",
       "    x.observe(outputEl, {childList: true});\n",
       "}}\n",
       "\n",
       "                        })\n",
       "                };\n",
       "                });\n",
       "            </script>\n",
       "        </div>"
      ]
     },
     "metadata": {},
     "output_type": "display_data"
    }
   ],
   "source": [
    "fig = go.Figure()\n",
    "\n",
    "fig.add_trace(go.Scatter(x=df_date_indeed['Date'], y=df_date_indeed['Jobnums'], mode='lines+markers'))\n",
    "\n",
    "fig.update_layout(title='Data scientist open positions vs. post date')\n",
    "fig.show()"
   ]
  },
  {
   "cell_type": "code",
   "execution_count": 6,
   "metadata": {},
   "outputs": [],
   "source": [
    "df_date_indeed['Date'] = pd.to_datetime(df_date_indeed['Date'])\n",
    "df_date_indeed.set_index('Date', drop=False, inplace=True)"
   ]
  },
  {
   "cell_type": "code",
   "execution_count": 7,
   "metadata": {},
   "outputs": [],
   "source": [
    "week = {0: 'Mon', 1: 'Tue', 2: 'Wed', 3: 'Thu', 4: 'Fri', 5: 'Sat', 6: 'Sun'}\n",
    "df_date_indeed['Day of week'] = df_date_indeed['Date'].apply(lambda x: week[x.weekday()])"
   ]
  },
  {
   "cell_type": "code",
   "execution_count": 8,
   "metadata": {},
   "outputs": [],
   "source": [
    "df_date_indeed['Weekend'] = df_date_indeed['Day of week'].apply(lambda x: 1 if (x == 'Sun') or (x == 'Sat') else 0)"
   ]
  },
  {
   "cell_type": "code",
   "execution_count": 9,
   "metadata": {},
   "outputs": [
    {
     "name": "stdout",
     "output_type": "stream",
     "text": [
      "<class 'pandas.core.frame.DataFrame'>\n",
      "DatetimeIndex: 52 entries, 2020-06-12 to 2020-08-02\n",
      "Data columns (total 4 columns):\n",
      "Date           52 non-null datetime64[ns]\n",
      "Jobnums        52 non-null int64\n",
      "Day of week    52 non-null object\n",
      "Weekend        52 non-null int64\n",
      "dtypes: datetime64[ns](1), int64(2), object(1)\n",
      "memory usage: 2.0+ KB\n"
     ]
    }
   ],
   "source": [
    "df_date_indeed.info()"
   ]
  },
  {
   "cell_type": "code",
   "execution_count": 10,
   "metadata": {},
   "outputs": [
    {
     "data": {
      "text/plain": [
       "Text(0.5, 0, ' ')"
      ]
     },
     "execution_count": 10,
     "metadata": {},
     "output_type": "execute_result"
    },
    {
     "data": {
      "image/png": "[encoded data removed]",
      "text/plain": [
       "<Figure size 576x288 with 1 Axes>"
      ]
     },
     "metadata": {
      "needs_background": "light"
     },
     "output_type": "display_data"
    }
   ],
   "source": [
    "by_weekday = df_date_indeed.groupby('Day of week').sum()\n",
    "by_weekday.reset_index(inplace=True)\n",
    "by_weekday\n",
    "\n",
    "plt.figure(figsize=(8,4))\n",
    "sns.barplot(x='Day of week', y='Jobnums', data=by_weekday)\n",
    "plt.xticks(horizontalalignment='right', fontweight='light', fontsize='large')\n",
    "plt.yticks(fontsize='large')\n",
    "plt.ylabel('Job numbers', fontsize='x-large')\n",
    "plt.xlabel(' ')"
   ]
  },
  {
   "cell_type": "markdown",
   "metadata": {},
   "source": [
    "## Load Covid-19 Data"
   ]
  },
  {
   "cell_type": "code",
   "execution_count": 11,
   "metadata": {},
   "outputs": [
    {
     "data": {
      "text/html": [
       "<div>\n",
       "<style scoped>\n",
       "    .dataframe tbody tr th:only-of-type {\n",
       "        vertical-align: middle;\n",
       "    }\n",
       "\n",
       "    .dataframe tbody tr th {\n",
       "        vertical-align: top;\n",
       "    }\n",
       "\n",
       "    .dataframe thead th {\n",
       "        text-align: right;\n",
       "    }\n",
       "</style>\n",
       "<table border=\"1\" class=\"dataframe\">\n",
       "  <thead>\n",
       "    <tr style=\"text-align: right;\">\n",
       "      <th></th>\n",
       "      <th>SNo</th>\n",
       "      <th>ObservationDate</th>\n",
       "      <th>Province/State</th>\n",
       "      <th>Country/Region</th>\n",
       "      <th>Last Update</th>\n",
       "      <th>Confirmed</th>\n",
       "      <th>Deaths</th>\n",
       "      <th>Recovered</th>\n",
       "    </tr>\n",
       "  </thead>\n",
       "  <tbody>\n",
       "    <tr>\n",
       "      <td>0</td>\n",
       "      <td>1</td>\n",
       "      <td>01/22/2020</td>\n",
       "      <td>Anhui</td>\n",
       "      <td>Mainland China</td>\n",
       "      <td>1/22/2020 17:00</td>\n",
       "      <td>1.0</td>\n",
       "      <td>0.0</td>\n",
       "      <td>0.0</td>\n",
       "    </tr>\n",
       "    <tr>\n",
       "      <td>1</td>\n",
       "      <td>2</td>\n",
       "      <td>01/22/2020</td>\n",
       "      <td>Beijing</td>\n",
       "      <td>Mainland China</td>\n",
       "      <td>1/22/2020 17:00</td>\n",
       "      <td>14.0</td>\n",
       "      <td>0.0</td>\n",
       "      <td>0.0</td>\n",
       "    </tr>\n",
       "    <tr>\n",
       "      <td>2</td>\n",
       "      <td>3</td>\n",
       "      <td>01/22/2020</td>\n",
       "      <td>Chongqing</td>\n",
       "      <td>Mainland China</td>\n",
       "      <td>1/22/2020 17:00</td>\n",
       "      <td>6.0</td>\n",
       "      <td>0.0</td>\n",
       "      <td>0.0</td>\n",
       "    </tr>\n",
       "    <tr>\n",
       "      <td>3</td>\n",
       "      <td>4</td>\n",
       "      <td>01/22/2020</td>\n",
       "      <td>Fujian</td>\n",
       "      <td>Mainland China</td>\n",
       "      <td>1/22/2020 17:00</td>\n",
       "      <td>1.0</td>\n",
       "      <td>0.0</td>\n",
       "      <td>0.0</td>\n",
       "    </tr>\n",
       "    <tr>\n",
       "      <td>4</td>\n",
       "      <td>5</td>\n",
       "      <td>01/22/2020</td>\n",
       "      <td>Gansu</td>\n",
       "      <td>Mainland China</td>\n",
       "      <td>1/22/2020 17:00</td>\n",
       "      <td>0.0</td>\n",
       "      <td>0.0</td>\n",
       "      <td>0.0</td>\n",
       "    </tr>\n",
       "  </tbody>\n",
       "</table>\n",
       "</div>"
      ],
      "text/plain": [
       "   SNo ObservationDate Province/State  Country/Region      Last Update  \\\n",
       "0    1      01/22/2020          Anhui  Mainland China  1/22/2020 17:00   \n",
       "1    2      01/22/2020        Beijing  Mainland China  1/22/2020 17:00   \n",
       "2    3      01/22/2020      Chongqing  Mainland China  1/22/2020 17:00   \n",
       "3    4      01/22/2020         Fujian  Mainland China  1/22/2020 17:00   \n",
       "4    5      01/22/2020          Gansu  Mainland China  1/22/2020 17:00   \n",
       "\n",
       "   Confirmed  Deaths  Recovered  \n",
       "0        1.0     0.0        0.0  \n",
       "1       14.0     0.0        0.0  \n",
       "2        6.0     0.0        0.0  \n",
       "3        1.0     0.0        0.0  \n",
       "4        0.0     0.0        0.0  "
      ]
     },
     "execution_count": 11,
     "metadata": {},
     "output_type": "execute_result"
    }
   ],
   "source": [
    "df_covid = pd.read_csv('/Users/tingtingweng/Documents/summer_intern/data/covid_19_data.csv')\n",
    "df_covid.head()"
   ]
  },
  {
   "cell_type": "code",
   "execution_count": 12,
   "metadata": {},
   "outputs": [],
   "source": [
    "df_us = df_covid[df_covid['Country/Region']=='US'].reset_index(drop=True)\n",
    "df_us['ObservationDate'] = pd.to_datetime(df_us['ObservationDate'])\n",
    "bydate_us = df_us.groupby('ObservationDate').sum()\n",
    "bydate_us.drop('SNo', axis=1, inplace=True)"
   ]
  },
  {
   "cell_type": "code",
   "execution_count": 13,
   "metadata": {},
   "outputs": [],
   "source": [
    "bydate_us['Active'] = bydate_us['Confirmed'] - bydate_us['Deaths'] - bydate_us['Recovered']\n",
    "bydate_us['New'] = bydate_us['Confirmed'].diff()\n",
    "bydate_us.at['2020-01-22','New'] = 0.0\n",
    "bydate_us['Fatality'] = bydate_us['Deaths']/bydate_us['Confirmed']*100"
   ]
  },
  {
   "cell_type": "code",
   "execution_count": 14,
   "metadata": {},
   "outputs": [
    {
     "data": {
      "text/html": [
       "<div>\n",
       "<style scoped>\n",
       "    .dataframe tbody tr th:only-of-type {\n",
       "        vertical-align: middle;\n",
       "    }\n",
       "\n",
       "    .dataframe tbody tr th {\n",
       "        vertical-align: top;\n",
       "    }\n",
       "\n",
       "    .dataframe thead th {\n",
       "        text-align: right;\n",
       "    }\n",
       "</style>\n",
       "<table border=\"1\" class=\"dataframe\">\n",
       "  <thead>\n",
       "    <tr style=\"text-align: right;\">\n",
       "      <th></th>\n",
       "      <th>Confirmed</th>\n",
       "      <th>Deaths</th>\n",
       "      <th>Recovered</th>\n",
       "      <th>Active</th>\n",
       "      <th>New</th>\n",
       "      <th>Fatality</th>\n",
       "    </tr>\n",
       "    <tr>\n",
       "      <th>ObservationDate</th>\n",
       "      <th></th>\n",
       "      <th></th>\n",
       "      <th></th>\n",
       "      <th></th>\n",
       "      <th></th>\n",
       "      <th></th>\n",
       "    </tr>\n",
       "  </thead>\n",
       "  <tbody>\n",
       "    <tr>\n",
       "      <td>2020-01-22</td>\n",
       "      <td>1.0</td>\n",
       "      <td>0.0</td>\n",
       "      <td>0.0</td>\n",
       "      <td>1.0</td>\n",
       "      <td>0.0</td>\n",
       "      <td>0.000000</td>\n",
       "    </tr>\n",
       "    <tr>\n",
       "      <td>2020-01-23</td>\n",
       "      <td>1.0</td>\n",
       "      <td>0.0</td>\n",
       "      <td>0.0</td>\n",
       "      <td>1.0</td>\n",
       "      <td>0.0</td>\n",
       "      <td>0.000000</td>\n",
       "    </tr>\n",
       "    <tr>\n",
       "      <td>2020-01-24</td>\n",
       "      <td>2.0</td>\n",
       "      <td>0.0</td>\n",
       "      <td>0.0</td>\n",
       "      <td>2.0</td>\n",
       "      <td>1.0</td>\n",
       "      <td>0.000000</td>\n",
       "    </tr>\n",
       "    <tr>\n",
       "      <td>2020-01-25</td>\n",
       "      <td>2.0</td>\n",
       "      <td>0.0</td>\n",
       "      <td>0.0</td>\n",
       "      <td>2.0</td>\n",
       "      <td>0.0</td>\n",
       "      <td>0.000000</td>\n",
       "    </tr>\n",
       "    <tr>\n",
       "      <td>2020-01-26</td>\n",
       "      <td>5.0</td>\n",
       "      <td>0.0</td>\n",
       "      <td>0.0</td>\n",
       "      <td>5.0</td>\n",
       "      <td>3.0</td>\n",
       "      <td>0.000000</td>\n",
       "    </tr>\n",
       "    <tr>\n",
       "      <td>...</td>\n",
       "      <td>...</td>\n",
       "      <td>...</td>\n",
       "      <td>...</td>\n",
       "      <td>...</td>\n",
       "      <td>...</td>\n",
       "      <td>...</td>\n",
       "    </tr>\n",
       "    <tr>\n",
       "      <td>2020-08-03</td>\n",
       "      <td>4713540.0</td>\n",
       "      <td>155402.0</td>\n",
       "      <td>1513446.0</td>\n",
       "      <td>3044692.0</td>\n",
       "      <td>45585.0</td>\n",
       "      <td>3.296928</td>\n",
       "    </tr>\n",
       "    <tr>\n",
       "      <td>2020-08-04</td>\n",
       "      <td>4771080.0</td>\n",
       "      <td>156801.0</td>\n",
       "      <td>1528979.0</td>\n",
       "      <td>3085300.0</td>\n",
       "      <td>57540.0</td>\n",
       "      <td>3.286489</td>\n",
       "    </tr>\n",
       "    <tr>\n",
       "      <td>2020-08-05</td>\n",
       "      <td>4823890.0</td>\n",
       "      <td>158250.0</td>\n",
       "      <td>1577851.0</td>\n",
       "      <td>3087789.0</td>\n",
       "      <td>52810.0</td>\n",
       "      <td>3.280547</td>\n",
       "    </tr>\n",
       "    <tr>\n",
       "      <td>2020-08-06</td>\n",
       "      <td>4883582.0</td>\n",
       "      <td>160104.0</td>\n",
       "      <td>1598624.0</td>\n",
       "      <td>3124854.0</td>\n",
       "      <td>59692.0</td>\n",
       "      <td>3.278413</td>\n",
       "    </tr>\n",
       "    <tr>\n",
       "      <td>2020-08-07</td>\n",
       "      <td>4941755.0</td>\n",
       "      <td>161347.0</td>\n",
       "      <td>1623870.0</td>\n",
       "      <td>3156538.0</td>\n",
       "      <td>58173.0</td>\n",
       "      <td>3.264974</td>\n",
       "    </tr>\n",
       "  </tbody>\n",
       "</table>\n",
       "<p>199 rows × 6 columns</p>\n",
       "</div>"
      ],
      "text/plain": [
       "                 Confirmed    Deaths  Recovered     Active      New  Fatality\n",
       "ObservationDate                                                              \n",
       "2020-01-22             1.0       0.0        0.0        1.0      0.0  0.000000\n",
       "2020-01-23             1.0       0.0        0.0        1.0      0.0  0.000000\n",
       "2020-01-24             2.0       0.0        0.0        2.0      1.0  0.000000\n",
       "2020-01-25             2.0       0.0        0.0        2.0      0.0  0.000000\n",
       "2020-01-26             5.0       0.0        0.0        5.0      3.0  0.000000\n",
       "...                    ...       ...        ...        ...      ...       ...\n",
       "2020-08-03       4713540.0  155402.0  1513446.0  3044692.0  45585.0  3.296928\n",
       "2020-08-04       4771080.0  156801.0  1528979.0  3085300.0  57540.0  3.286489\n",
       "2020-08-05       4823890.0  158250.0  1577851.0  3087789.0  52810.0  3.280547\n",
       "2020-08-06       4883582.0  160104.0  1598624.0  3124854.0  59692.0  3.278413\n",
       "2020-08-07       4941755.0  161347.0  1623870.0  3156538.0  58173.0  3.264974\n",
       "\n",
       "[199 rows x 6 columns]"
      ]
     },
     "execution_count": 14,
     "metadata": {},
     "output_type": "execute_result"
    }
   ],
   "source": [
    "bydate_us"
   ]
  },
  {
   "cell_type": "code",
   "execution_count": 15,
   "metadata": {},
   "outputs": [
    {
     "data": {
      "application/vnd.plotly.v1+json": {
       "config": {
        "plotlyServerURL": "https://plot.ly"
       },
       "data": [
        {
         "mode": "lines",
         "name": "Confirmed",
         "type": "scatter",
         "x": [
          "2020-01-22T00:00:00",
          "2020-01-23T00:00:00",
          "2020-01-24T00:00:00",
          "2020-01-25T00:00:00",
          "2020-01-26T00:00:00",
          "2020-01-27T00:00:00",
          "2020-01-28T00:00:00",
          "2020-01-29T00:00:00",
          "2020-01-30T00:00:00",
          "2020-01-31T00:00:00",
          "2020-02-01T00:00:00",
          "2020-02-02T00:00:00",
          "2020-02-03T00:00:00",
          "2020-02-04T00:00:00",
          "2020-02-05T00:00:00",
          "2020-02-06T00:00:00",
          "2020-02-07T00:00:00",
          "2020-02-08T00:00:00",
          "2020-02-09T00:00:00",
          "2020-02-10T00:00:00",
          "2020-02-11T00:00:00",
          "2020-02-12T00:00:00",
          "2020-02-13T00:00:00",
          "2020-02-14T00:00:00",
          "2020-02-15T00:00:00",
          "2020-02-16T00:00:00",
          "2020-02-17T00:00:00",
          "2020-02-18T00:00:00",
          "2020-02-19T00:00:00",
          "2020-02-20T00:00:00",
          "2020-02-21T00:00:00",
          "2020-02-22T00:00:00",
          "2020-02-23T00:00:00",
          "2020-02-24T00:00:00",
          "2020-02-25T00:00:00",
          "2020-02-26T00:00:00",
          "2020-02-27T00:00:00",
          "2020-02-28T00:00:00",
          "2020-02-29T00:00:00",
          "2020-03-01T00:00:00",
          "2020-03-02T00:00:00",
          "2020-03-03T00:00:00",
          "2020-03-04T00:00:00",
          "2020-03-05T00:00:00",
          "2020-03-06T00:00:00",
          "2020-03-07T00:00:00",
          "2020-03-08T00:00:00",
          "2020-03-09T00:00:00",
          "2020-03-10T00:00:00",
          "2020-03-11T00:00:00",
          "2020-03-12T00:00:00",
          "2020-03-13T00:00:00",
          "2020-03-14T00:00:00",
          "2020-03-15T00:00:00",
          "2020-03-16T00:00:00",
          "2020-03-17T00:00:00",
          "2020-03-18T00:00:00",
          "2020-03-19T00:00:00",
          "2020-03-20T00:00:00",
          "2020-03-21T00:00:00",
          "2020-03-22T00:00:00",
          "2020-03-23T00:00:00",
          "2020-03-24T00:00:00",
          "2020-03-25T00:00:00",
          "2020-03-26T00:00:00",
          "2020-03-27T00:00:00",
          "2020-03-28T00:00:00",
          "2020-03-29T00:00:00",
          "2020-03-30T00:00:00",
          "2020-03-31T00:00:00",
          "2020-04-01T00:00:00",
          "2020-04-02T00:00:00",
          "2020-04-03T00:00:00",
          "2020-04-04T00:00:00",
          "2020-04-05T00:00:00",
          "2020-04-06T00:00:00",
          "2020-04-07T00:00:00",
          "2020-04-08T00:00:00",
          "2020-04-09T00:00:00",
          "2020-04-10T00:00:00",
          "2020-04-11T00:00:00",
          "2020-04-12T00:00:00",
          "2020-04-13T00:00:00",
          "2020-04-14T00:00:00",
          "2020-04-15T00:00:00",
          "2020-04-16T00:00:00",
          "2020-04-17T00:00:00",
          "2020-04-18T00:00:00",
          "2020-04-19T00:00:00",
          "2020-04-20T00:00:00",
          "2020-04-21T00:00:00",
          "2020-04-22T00:00:00",
          "2020-04-23T00:00:00",
          "2020-04-24T00:00:00",
          "2020-04-25T00:00:00",
          "2020-04-26T00:00:00",
          "2020-04-27T00:00:00",
          "2020-04-28T00:00:00",
          "2020-04-29T00:00:00",
          "2020-04-30T00:00:00",
          "2020-05-01T00:00:00",
          "2020-05-02T00:00:00",
          "2020-05-03T00:00:00",
          "2020-05-04T00:00:00",
          "2020-05-05T00:00:00",
          "2020-05-06T00:00:00",
          "2020-05-07T00:00:00",
          "2020-05-08T00:00:00",
          "2020-05-09T00:00:00",
          "2020-05-10T00:00:00",
          "2020-05-11T00:00:00",
          "2020-05-12T00:00:00",
          "2020-05-13T00:00:00",
          "2020-05-14T00:00:00",
          "2020-05-15T00:00:00",
          "2020-05-16T00:00:00",
          "2020-05-17T00:00:00",
          "2020-05-18T00:00:00",
          "2020-05-19T00:00:00",
          "2020-05-20T00:00:00",
          "2020-05-21T00:00:00",
          "2020-05-22T00:00:00",
          "2020-05-23T00:00:00",
          "2020-05-24T00:00:00",
          "2020-05-25T00:00:00",
          "2020-05-26T00:00:00",
          "2020-05-27T00:00:00",
          "2020-05-28T00:00:00",
          "2020-05-29T00:00:00",
          "2020-05-30T00:00:00",
          "2020-05-31T00:00:00",
          "2020-06-01T00:00:00",
          "2020-06-02T00:00:00",
          "2020-06-03T00:00:00",
          "2020-06-04T00:00:00",
          "2020-06-05T00:00:00",
          "2020-06-06T00:00:00",
          "2020-06-07T00:00:00",
          "2020-06-08T00:00:00",
          "2020-06-09T00:00:00",
          "2020-06-10T00:00:00",
          "2020-06-11T00:00:00",
          "2020-06-12T00:00:00",
          "2020-06-13T00:00:00",
          "2020-06-14T00:00:00",
          "2020-06-15T00:00:00",
          "2020-06-16T00:00:00",
          "2020-06-17T00:00:00",
          "2020-06-18T00:00:00",
          "2020-06-19T00:00:00",
          "2020-06-20T00:00:00",
          "2020-06-21T00:00:00",
          "2020-06-22T00:00:00",
          "2020-06-23T00:00:00",
          "2020-06-24T00:00:00",
          "2020-06-25T00:00:00",
          "2020-06-26T00:00:00",
          "2020-06-27T00:00:00",
          "2020-06-28T00:00:00",
          "2020-06-29T00:00:00",
          "2020-06-30T00:00:00",
          "2020-07-01T00:00:00",
          "2020-07-02T00:00:00",
          "2020-07-03T00:00:00",
          "2020-07-04T00:00:00",
          "2020-07-05T00:00:00",
          "2020-07-06T00:00:00",
          "2020-07-07T00:00:00",
          "2020-07-08T00:00:00",
          "2020-07-09T00:00:00",
          "2020-07-10T00:00:00",
          "2020-07-11T00:00:00",
          "2020-07-12T00:00:00",
          "2020-07-13T00:00:00",
          "2020-07-14T00:00:00",
          "2020-07-15T00:00:00",
          "2020-07-16T00:00:00",
          "2020-07-17T00:00:00",
          "2020-07-18T00:00:00",
          "2020-07-19T00:00:00",
          "2020-07-20T00:00:00",
          "2020-07-21T00:00:00",
          "2020-07-22T00:00:00",
          "2020-07-23T00:00:00",
          "2020-07-24T00:00:00",
          "2020-07-25T00:00:00",
          "2020-07-26T00:00:00",
          "2020-07-27T00:00:00",
          "2020-07-28T00:00:00",
          "2020-07-29T00:00:00",
          "2020-07-30T00:00:00",
          "2020-07-31T00:00:00",
          "2020-08-01T00:00:00",
          "2020-08-02T00:00:00",
          "2020-08-03T00:00:00",
          "2020-08-04T00:00:00",
          "2020-08-05T00:00:00",
          "2020-08-06T00:00:00",
          "2020-08-07T00:00:00"
         ],
         "y": [
          1,
          1,
          2,
          2,
          5,
          5,
          5,
          5,
          5,
          6,
          8,
          8,
          11,
          11,
          12,
          12,
          12,
          12,
          12,
          12,
          13,
          13,
          15,
          15,
          15,
          15,
          15,
          15,
          15,
          15,
          35,
          35,
          35,
          53,
          53,
          59,
          60,
          62,
          70,
          76,
          101,
          122,
          153,
          221,
          278,
          417,
          537,
          605,
          959,
          1281,
          1663,
          2179,
          2726,
          3499,
          4632,
          6421,
          7786,
          13680,
          19101,
          25514,
          33848,
          43663,
          53736,
          65778,
          83836,
          101657,
          121465,
          140909,
          161831,
          188172,
          213372,
          243599,
          275586,
          308853,
          337072,
          366667,
          396223,
          429052,
          461437,
          496535,
          526396,
          555313,
          580619,
          607670,
          636350,
          667801,
          699706,
          732197,
          759086,
          784326,
          811865,
          840220,
          869170,
          905333,
          938154,
          965783,
          988090,
          1012582,
          1039909,
          1069424,
          1103461,
          1132539,
          1158040,
          1180375,
          1204351,
          1228603,
          1257023,
          1283929,
          1309550,
          1329260,
          1347881,
          1369574,
          1390406,
          1417774,
          1442824,
          1467820,
          1486757,
          1508308,
          1528568,
          1551853,
          1577147,
          1600937,
          1622612,
          1643246,
          1662302,
          1680913,
          1699176,
          1721753,
          1746019,
          1770165,
          1790172,
          1811020,
          1831821,
          1851520,
          1872660,
          1902632,
          1925765,
          1943880,
          1961428,
          1979489,
          2000464,
          2023347,
          2048986,
          2074526,
          2094058,
          2114026,
          2137731,
          2163290,
          2191053,
          2222812,
          2255119,
          2281290,
          2312300,
          2347022,
          2381493,
          2422299,
          2467554,
          2510151,
          2548996,
          2590651,
          2635417,
          2686258,
          2739879,
          2794153,
          2839436,
          2888635,
          2936077,
          2996098,
          3054699,
          3117946,
          3184573,
          3245925,
          3304942,
          3364157,
          3431574,
          3497847,
          3576157,
          3647715,
          3711413,
          3773260,
          3834677,
          3899211,
          3970085,
          4038748,
          4112531,
          4178021,
          4233923,
          4290337,
          4356206,
          4426982,
          4495015,
          4562038,
          4620444,
          4667955,
          4713540,
          4771080,
          4823890,
          4883582,
          4941755
         ]
        },
        {
         "mode": "lines",
         "name": "Deaths",
         "type": "scatter",
         "x": [
          "2020-01-22T00:00:00",
          "2020-01-23T00:00:00",
          "2020-01-24T00:00:00",
          "2020-01-25T00:00:00",
          "2020-01-26T00:00:00",
          "2020-01-27T00:00:00",
          "2020-01-28T00:00:00",
          "2020-01-29T00:00:00",
          "2020-01-30T00:00:00",
          "2020-01-31T00:00:00",
          "2020-02-01T00:00:00",
          "2020-02-02T00:00:00",
          "2020-02-03T00:00:00",
          "2020-02-04T00:00:00",
          "2020-02-05T00:00:00",
          "2020-02-06T00:00:00",
          "2020-02-07T00:00:00",
          "2020-02-08T00:00:00",
          "2020-02-09T00:00:00",
          "2020-02-10T00:00:00",
          "2020-02-11T00:00:00",
          "2020-02-12T00:00:00",
          "2020-02-13T00:00:00",
          "2020-02-14T00:00:00",
          "2020-02-15T00:00:00",
          "2020-02-16T00:00:00",
          "2020-02-17T00:00:00",
          "2020-02-18T00:00:00",
          "2020-02-19T00:00:00",
          "2020-02-20T00:00:00",
          "2020-02-21T00:00:00",
          "2020-02-22T00:00:00",
          "2020-02-23T00:00:00",
          "2020-02-24T00:00:00",
          "2020-02-25T00:00:00",
          "2020-02-26T00:00:00",
          "2020-02-27T00:00:00",
          "2020-02-28T00:00:00",
          "2020-02-29T00:00:00",
          "2020-03-01T00:00:00",
          "2020-03-02T00:00:00",
          "2020-03-03T00:00:00",
          "2020-03-04T00:00:00",
          "2020-03-05T00:00:00",
          "2020-03-06T00:00:00",
          "2020-03-07T00:00:00",
          "2020-03-08T00:00:00",
          "2020-03-09T00:00:00",
          "2020-03-10T00:00:00",
          "2020-03-11T00:00:00",
          "2020-03-12T00:00:00",
          "2020-03-13T00:00:00",
          "2020-03-14T00:00:00",
          "2020-03-15T00:00:00",
          "2020-03-16T00:00:00",
          "2020-03-17T00:00:00",
          "2020-03-18T00:00:00",
          "2020-03-19T00:00:00",
          "2020-03-20T00:00:00",
          "2020-03-21T00:00:00",
          "2020-03-22T00:00:00",
          "2020-03-23T00:00:00",
          "2020-03-24T00:00:00",
          "2020-03-25T00:00:00",
          "2020-03-26T00:00:00",
          "2020-03-27T00:00:00",
          "2020-03-28T00:00:00",
          "2020-03-29T00:00:00",
          "2020-03-30T00:00:00",
          "2020-03-31T00:00:00",
          "2020-04-01T00:00:00",
          "2020-04-02T00:00:00",
          "2020-04-03T00:00:00",
          "2020-04-04T00:00:00",
          "2020-04-05T00:00:00",
          "2020-04-06T00:00:00",
          "2020-04-07T00:00:00",
          "2020-04-08T00:00:00",
          "2020-04-09T00:00:00",
          "2020-04-10T00:00:00",
          "2020-04-11T00:00:00",
          "2020-04-12T00:00:00",
          "2020-04-13T00:00:00",
          "2020-04-14T00:00:00",
          "2020-04-15T00:00:00",
          "2020-04-16T00:00:00",
          "2020-04-17T00:00:00",
          "2020-04-18T00:00:00",
          "2020-04-19T00:00:00",
          "2020-04-20T00:00:00",
          "2020-04-21T00:00:00",
          "2020-04-22T00:00:00",
          "2020-04-23T00:00:00",
          "2020-04-24T00:00:00",
          "2020-04-25T00:00:00",
          "2020-04-26T00:00:00",
          "2020-04-27T00:00:00",
          "2020-04-28T00:00:00",
          "2020-04-29T00:00:00",
          "2020-04-30T00:00:00",
          "2020-05-01T00:00:00",
          "2020-05-02T00:00:00",
          "2020-05-03T00:00:00",
          "2020-05-04T00:00:00",
          "2020-05-05T00:00:00",
          "2020-05-06T00:00:00",
          "2020-05-07T00:00:00",
          "2020-05-08T00:00:00",
          "2020-05-09T00:00:00",
          "2020-05-10T00:00:00",
          "2020-05-11T00:00:00",
          "2020-05-12T00:00:00",
          "2020-05-13T00:00:00",
          "2020-05-14T00:00:00",
          "2020-05-15T00:00:00",
          "2020-05-16T00:00:00",
          "2020-05-17T00:00:00",
          "2020-05-18T00:00:00",
          "2020-05-19T00:00:00",
          "2020-05-20T00:00:00",
          "2020-05-21T00:00:00",
          "2020-05-22T00:00:00",
          "2020-05-23T00:00:00",
          "2020-05-24T00:00:00",
          "2020-05-25T00:00:00",
          "2020-05-26T00:00:00",
          "2020-05-27T00:00:00",
          "2020-05-28T00:00:00",
          "2020-05-29T00:00:00",
          "2020-05-30T00:00:00",
          "2020-05-31T00:00:00",
          "2020-06-01T00:00:00",
          "2020-06-02T00:00:00",
          "2020-06-03T00:00:00",
          "2020-06-04T00:00:00",
          "2020-06-05T00:00:00",
          "2020-06-06T00:00:00",
          "2020-06-07T00:00:00",
          "2020-06-08T00:00:00",
          "2020-06-09T00:00:00",
          "2020-06-10T00:00:00",
          "2020-06-11T00:00:00",
          "2020-06-12T00:00:00",
          "2020-06-13T00:00:00",
          "2020-06-14T00:00:00",
          "2020-06-15T00:00:00",
          "2020-06-16T00:00:00",
          "2020-06-17T00:00:00",
          "2020-06-18T00:00:00",
          "2020-06-19T00:00:00",
          "2020-06-20T00:00:00",
          "2020-06-21T00:00:00",
          "2020-06-22T00:00:00",
          "2020-06-23T00:00:00",
          "2020-06-24T00:00:00",
          "2020-06-25T00:00:00",
          "2020-06-26T00:00:00",
          "2020-06-27T00:00:00",
          "2020-06-28T00:00:00",
          "2020-06-29T00:00:00",
          "2020-06-30T00:00:00",
          "2020-07-01T00:00:00",
          "2020-07-02T00:00:00",
          "2020-07-03T00:00:00",
          "2020-07-04T00:00:00",
          "2020-07-05T00:00:00",
          "2020-07-06T00:00:00",
          "2020-07-07T00:00:00",
          "2020-07-08T00:00:00",
          "2020-07-09T00:00:00",
          "2020-07-10T00:00:00",
          "2020-07-11T00:00:00",
          "2020-07-12T00:00:00",
          "2020-07-13T00:00:00",
          "2020-07-14T00:00:00",
          "2020-07-15T00:00:00",
          "2020-07-16T00:00:00",
          "2020-07-17T00:00:00",
          "2020-07-18T00:00:00",
          "2020-07-19T00:00:00",
          "2020-07-20T00:00:00",
          "2020-07-21T00:00:00",
          "2020-07-22T00:00:00",
          "2020-07-23T00:00:00",
          "2020-07-24T00:00:00",
          "2020-07-25T00:00:00",
          "2020-07-26T00:00:00",
          "2020-07-27T00:00:00",
          "2020-07-28T00:00:00",
          "2020-07-29T00:00:00",
          "2020-07-30T00:00:00",
          "2020-07-31T00:00:00",
          "2020-08-01T00:00:00",
          "2020-08-02T00:00:00",
          "2020-08-03T00:00:00",
          "2020-08-04T00:00:00",
          "2020-08-05T00:00:00",
          "2020-08-06T00:00:00",
          "2020-08-07T00:00:00"
         ],
         "y": [
          0,
          0,
          0,
          0,
          0,
          0,
          0,
          0,
          0,
          0,
          0,
          0,
          0,
          0,
          0,
          0,
          0,
          0,
          0,
          0,
          0,
          0,
          0,
          0,
          0,
          0,
          0,
          0,
          0,
          0,
          0,
          0,
          0,
          0,
          0,
          0,
          0,
          0,
          1,
          1,
          6,
          7,
          11,
          12,
          14,
          17,
          21,
          22,
          28,
          36,
          40,
          47,
          54,
          63,
          85,
          108,
          118,
          200,
          244,
          307,
          427,
          552,
          706,
          942,
          1209,
          1581,
          2026,
          2467,
          2978,
          3873,
          4757,
          5926,
          7087,
          8407,
          9619,
          10783,
          12722,
          14695,
          16478,
          18586,
          20462,
          22019,
          23528,
          25831,
          28325,
          32916,
          36773,
          38664,
          40661,
          42094,
          44444,
          46622,
          49954,
          51949,
          53755,
          54881,
          56259,
          58355,
          60967,
          62996,
          64943,
          66369,
          67682,
          68922,
          71064,
          73431,
          75662,
          77180,
          78795,
          79526,
          80682,
          82376,
          84119,
          85898,
          87530,
          88754,
          89562,
          90347,
          91921,
          93439,
          94702,
          95979,
          97087,
          97720,
          98220,
          98913,
          100418,
          101616,
          102809,
          103776,
          104381,
          105149,
          106180,
          107175,
          108211,
          109373,
          110084,
          110528,
          111011,
          111989,
          112924,
          113820,
          114669,
          115436,
          115732,
          116127,
          116963,
          117717,
          118438,
          119125,
          119719,
          119977,
          120402,
          121228,
          121980,
          124410,
          125039,
          125539,
          125803,
          126140,
          127417,
          128062,
          128740,
          129434,
          129676,
          129947,
          130285,
          131480,
          132300,
          133290,
          134092,
          134777,
          135205,
          135566,
          136466,
          137407,
          138358,
          139266,
          140119,
          140534,
          140913,
          141995,
          143190,
          144304,
          145546,
          146460,
          146935,
          148012,
          149310,
          150713,
          152055,
          153314,
          154447,
          154860,
          155402,
          156801,
          158250,
          160104,
          161347
         ]
        },
        {
         "mode": "lines",
         "name": "Recovered",
         "type": "scatter",
         "x": [
          "2020-01-22T00:00:00",
          "2020-01-23T00:00:00",
          "2020-01-24T00:00:00",
          "2020-01-25T00:00:00",
          "2020-01-26T00:00:00",
          "2020-01-27T00:00:00",
          "2020-01-28T00:00:00",
          "2020-01-29T00:00:00",
          "2020-01-30T00:00:00",
          "2020-01-31T00:00:00",
          "2020-02-01T00:00:00",
          "2020-02-02T00:00:00",
          "2020-02-03T00:00:00",
          "2020-02-04T00:00:00",
          "2020-02-05T00:00:00",
          "2020-02-06T00:00:00",
          "2020-02-07T00:00:00",
          "2020-02-08T00:00:00",
          "2020-02-09T00:00:00",
          "2020-02-10T00:00:00",
          "2020-02-11T00:00:00",
          "2020-02-12T00:00:00",
          "2020-02-13T00:00:00",
          "2020-02-14T00:00:00",
          "2020-02-15T00:00:00",
          "2020-02-16T00:00:00",
          "2020-02-17T00:00:00",
          "2020-02-18T00:00:00",
          "2020-02-19T00:00:00",
          "2020-02-20T00:00:00",
          "2020-02-21T00:00:00",
          "2020-02-22T00:00:00",
          "2020-02-23T00:00:00",
          "2020-02-24T00:00:00",
          "2020-02-25T00:00:00",
          "2020-02-26T00:00:00",
          "2020-02-27T00:00:00",
          "2020-02-28T00:00:00",
          "2020-02-29T00:00:00",
          "2020-03-01T00:00:00",
          "2020-03-02T00:00:00",
          "2020-03-03T00:00:00",
          "2020-03-04T00:00:00",
          "2020-03-05T00:00:00",
          "2020-03-06T00:00:00",
          "2020-03-07T00:00:00",
          "2020-03-08T00:00:00",
          "2020-03-09T00:00:00",
          "2020-03-10T00:00:00",
          "2020-03-11T00:00:00",
          "2020-03-12T00:00:00",
          "2020-03-13T00:00:00",
          "2020-03-14T00:00:00",
          "2020-03-15T00:00:00",
          "2020-03-16T00:00:00",
          "2020-03-17T00:00:00",
          "2020-03-18T00:00:00",
          "2020-03-19T00:00:00",
          "2020-03-20T00:00:00",
          "2020-03-21T00:00:00",
          "2020-03-22T00:00:00",
          "2020-03-23T00:00:00",
          "2020-03-24T00:00:00",
          "2020-03-25T00:00:00",
          "2020-03-26T00:00:00",
          "2020-03-27T00:00:00",
          "2020-03-28T00:00:00",
          "2020-03-29T00:00:00",
          "2020-03-30T00:00:00",
          "2020-03-31T00:00:00",
          "2020-04-01T00:00:00",
          "2020-04-02T00:00:00",
          "2020-04-03T00:00:00",
          "2020-04-04T00:00:00",
          "2020-04-05T00:00:00",
          "2020-04-06T00:00:00",
          "2020-04-07T00:00:00",
          "2020-04-08T00:00:00",
          "2020-04-09T00:00:00",
          "2020-04-10T00:00:00",
          "2020-04-11T00:00:00",
          "2020-04-12T00:00:00",
          "2020-04-13T00:00:00",
          "2020-04-14T00:00:00",
          "2020-04-15T00:00:00",
          "2020-04-16T00:00:00",
          "2020-04-17T00:00:00",
          "2020-04-18T00:00:00",
          "2020-04-19T00:00:00",
          "2020-04-20T00:00:00",
          "2020-04-21T00:00:00",
          "2020-04-22T00:00:00",
          "2020-04-23T00:00:00",
          "2020-04-24T00:00:00",
          "2020-04-25T00:00:00",
          "2020-04-26T00:00:00",
          "2020-04-27T00:00:00",
          "2020-04-28T00:00:00",
          "2020-04-29T00:00:00",
          "2020-04-30T00:00:00",
          "2020-05-01T00:00:00",
          "2020-05-02T00:00:00",
          "2020-05-03T00:00:00",
          "2020-05-04T00:00:00",
          "2020-05-05T00:00:00",
          "2020-05-06T00:00:00",
          "2020-05-07T00:00:00",
          "2020-05-08T00:00:00",
          "2020-05-09T00:00:00",
          "2020-05-10T00:00:00",
          "2020-05-11T00:00:00",
          "2020-05-12T00:00:00",
          "2020-05-13T00:00:00",
          "2020-05-14T00:00:00",
          "2020-05-15T00:00:00",
          "2020-05-16T00:00:00",
          "2020-05-17T00:00:00",
          "2020-05-18T00:00:00",
          "2020-05-19T00:00:00",
          "2020-05-20T00:00:00",
          "2020-05-21T00:00:00",
          "2020-05-22T00:00:00",
          "2020-05-23T00:00:00",
          "2020-05-24T00:00:00",
          "2020-05-25T00:00:00",
          "2020-05-26T00:00:00",
          "2020-05-27T00:00:00",
          "2020-05-28T00:00:00",
          "2020-05-29T00:00:00",
          "2020-05-30T00:00:00",
          "2020-05-31T00:00:00",
          "2020-06-01T00:00:00",
          "2020-06-02T00:00:00",
          "2020-06-03T00:00:00",
          "2020-06-04T00:00:00",
          "2020-06-05T00:00:00",
          "2020-06-06T00:00:00",
          "2020-06-07T00:00:00",
          "2020-06-08T00:00:00",
          "2020-06-09T00:00:00",
          "2020-06-10T00:00:00",
          "2020-06-11T00:00:00",
          "2020-06-12T00:00:00",
          "2020-06-13T00:00:00",
          "2020-06-14T00:00:00",
          "2020-06-15T00:00:00",
          "2020-06-16T00:00:00",
          "2020-06-17T00:00:00",
          "2020-06-18T00:00:00",
          "2020-06-19T00:00:00",
          "2020-06-20T00:00:00",
          "2020-06-21T00:00:00",
          "2020-06-22T00:00:00",
          "2020-06-23T00:00:00",
          "2020-06-24T00:00:00",
          "2020-06-25T00:00:00",
          "2020-06-26T00:00:00",
          "2020-06-27T00:00:00",
          "2020-06-28T00:00:00",
          "2020-06-29T00:00:00",
          "2020-06-30T00:00:00",
          "2020-07-01T00:00:00",
          "2020-07-02T00:00:00",
          "2020-07-03T00:00:00",
          "2020-07-04T00:00:00",
          "2020-07-05T00:00:00",
          "2020-07-06T00:00:00",
          "2020-07-07T00:00:00",
          "2020-07-08T00:00:00",
          "2020-07-09T00:00:00",
          "2020-07-10T00:00:00",
          "2020-07-11T00:00:00",
          "2020-07-12T00:00:00",
          "2020-07-13T00:00:00",
          "2020-07-14T00:00:00",
          "2020-07-15T00:00:00",
          "2020-07-16T00:00:00",
          "2020-07-17T00:00:00",
          "2020-07-18T00:00:00",
          "2020-07-19T00:00:00",
          "2020-07-20T00:00:00",
          "2020-07-21T00:00:00",
          "2020-07-22T00:00:00",
          "2020-07-23T00:00:00",
          "2020-07-24T00:00:00",
          "2020-07-25T00:00:00",
          "2020-07-26T00:00:00",
          "2020-07-27T00:00:00",
          "2020-07-28T00:00:00",
          "2020-07-29T00:00:00",
          "2020-07-30T00:00:00",
          "2020-07-31T00:00:00",
          "2020-08-01T00:00:00",
          "2020-08-02T00:00:00",
          "2020-08-03T00:00:00",
          "2020-08-04T00:00:00",
          "2020-08-05T00:00:00",
          "2020-08-06T00:00:00",
          "2020-08-07T00:00:00"
         ],
         "y": [
          0,
          0,
          0,
          0,
          0,
          0,
          0,
          0,
          0,
          0,
          0,
          0,
          0,
          0,
          0,
          0,
          0,
          0,
          3,
          3,
          3,
          3,
          3,
          3,
          3,
          3,
          3,
          3,
          3,
          3,
          5,
          5,
          5,
          5,
          6,
          6,
          6,
          7,
          7,
          7,
          7,
          8,
          8,
          8,
          8,
          8,
          8,
          8,
          8,
          8,
          12,
          12,
          12,
          12,
          17,
          17,
          106,
          108,
          147,
          171,
          0,
          0,
          348,
          361,
          681,
          869,
          1072,
          2665,
          5644,
          7024,
          8474,
          9001,
          9707,
          14652,
          17448,
          19581,
          21763,
          23559,
          25410,
          28790,
          31270,
          32988,
          43482,
          47763,
          52096,
          54703,
          58545,
          64840,
          70337,
          72329,
          75204,
          77366,
          80203,
          99079,
          100372,
          106988,
          111424,
          115936,
          120720,
          153947,
          164015,
          175382,
          180152,
          187180,
          189791,
          189910,
          195036,
          198993,
          212534,
          216169,
          232733,
          230287,
          243430,
          246414,
          250747,
          268376,
          272265,
          283178,
          289392,
          294312,
          298418,
          350135,
          361239,
          366736,
          379157,
          384902,
          391508,
          399991,
          406446,
          416461,
          444758,
          458231,
          463868,
          479258,
          485002,
          491706,
          500849,
          506367,
          518522,
          524860,
          533504,
          540292,
          547386,
          556606,
          561816,
          576334,
          583503,
          592191,
          599115,
          606715,
          617460,
          622133,
          640198,
          647548,
          656161,
          663562,
          670809,
          679308,
          685164,
          705203,
          720631,
          729994,
          781970,
          790404,
          894325,
          906763,
          924148,
          936476,
          953420,
          969111,
          983185,
          995576,
          1006326,
          1031939,
          1049098,
          1075882,
          1090645,
          1107204,
          1122720,
          1131121,
          1160087,
          1182018,
          1210849,
          1233269,
          1261624,
          1279414,
          1297863,
          1325804,
          1355363,
          1389425,
          1414155,
          1438160,
          1461885,
          1468689,
          1513446,
          1528979,
          1577851,
          1598624,
          1623870
         ]
        },
        {
         "mode": "lines",
         "name": "Active",
         "type": "scatter",
         "x": [
          "2020-01-22T00:00:00",
          "2020-01-23T00:00:00",
          "2020-01-24T00:00:00",
          "2020-01-25T00:00:00",
          "2020-01-26T00:00:00",
          "2020-01-27T00:00:00",
          "2020-01-28T00:00:00",
          "2020-01-29T00:00:00",
          "2020-01-30T00:00:00",
          "2020-01-31T00:00:00",
          "2020-02-01T00:00:00",
          "2020-02-02T00:00:00",
          "2020-02-03T00:00:00",
          "2020-02-04T00:00:00",
          "2020-02-05T00:00:00",
          "2020-02-06T00:00:00",
          "2020-02-07T00:00:00",
          "2020-02-08T00:00:00",
          "2020-02-09T00:00:00",
          "2020-02-10T00:00:00",
          "2020-02-11T00:00:00",
          "2020-02-12T00:00:00",
          "2020-02-13T00:00:00",
          "2020-02-14T00:00:00",
          "2020-02-15T00:00:00",
          "2020-02-16T00:00:00",
          "2020-02-17T00:00:00",
          "2020-02-18T00:00:00",
          "2020-02-19T00:00:00",
          "2020-02-20T00:00:00",
          "2020-02-21T00:00:00",
          "2020-02-22T00:00:00",
          "2020-02-23T00:00:00",
          "2020-02-24T00:00:00",
          "2020-02-25T00:00:00",
          "2020-02-26T00:00:00",
          "2020-02-27T00:00:00",
          "2020-02-28T00:00:00",
          "2020-02-29T00:00:00",
          "2020-03-01T00:00:00",
          "2020-03-02T00:00:00",
          "2020-03-03T00:00:00",
          "2020-03-04T00:00:00",
          "2020-03-05T00:00:00",
          "2020-03-06T00:00:00",
          "2020-03-07T00:00:00",
          "2020-03-08T00:00:00",
          "2020-03-09T00:00:00",
          "2020-03-10T00:00:00",
          "2020-03-11T00:00:00",
          "2020-03-12T00:00:00",
          "2020-03-13T00:00:00",
          "2020-03-14T00:00:00",
          "2020-03-15T00:00:00",
          "2020-03-16T00:00:00",
          "2020-03-17T00:00:00",
          "2020-03-18T00:00:00",
          "2020-03-19T00:00:00",
          "2020-03-20T00:00:00",
          "2020-03-21T00:00:00",
          "2020-03-22T00:00:00",
          "2020-03-23T00:00:00",
          "2020-03-24T00:00:00",
          "2020-03-25T00:00:00",
          "2020-03-26T00:00:00",
          "2020-03-27T00:00:00",
          "2020-03-28T00:00:00",
          "2020-03-29T00:00:00",
          "2020-03-30T00:00:00",
          "2020-03-31T00:00:00",
          "2020-04-01T00:00:00",
          "2020-04-02T00:00:00",
          "2020-04-03T00:00:00",
          "2020-04-04T00:00:00",
          "2020-04-05T00:00:00",
          "2020-04-06T00:00:00",
          "2020-04-07T00:00:00",
          "2020-04-08T00:00:00",
          "2020-04-09T00:00:00",
          "2020-04-10T00:00:00",
          "2020-04-11T00:00:00",
          "2020-04-12T00:00:00",
          "2020-04-13T00:00:00",
          "2020-04-14T00:00:00",
          "2020-04-15T00:00:00",
          "2020-04-16T00:00:00",
          "2020-04-17T00:00:00",
          "2020-04-18T00:00:00",
          "2020-04-19T00:00:00",
          "2020-04-20T00:00:00",
          "2020-04-21T00:00:00",
          "2020-04-22T00:00:00",
          "2020-04-23T00:00:00",
          "2020-04-24T00:00:00",
          "2020-04-25T00:00:00",
          "2020-04-26T00:00:00",
          "2020-04-27T00:00:00",
          "2020-04-28T00:00:00",
          "2020-04-29T00:00:00",
          "2020-04-30T00:00:00",
          "2020-05-01T00:00:00",
          "2020-05-02T00:00:00",
          "2020-05-03T00:00:00",
          "2020-05-04T00:00:00",
          "2020-05-05T00:00:00",
          "2020-05-06T00:00:00",
          "2020-05-07T00:00:00",
          "2020-05-08T00:00:00",
          "2020-05-09T00:00:00",
          "2020-05-10T00:00:00",
          "2020-05-11T00:00:00",
          "2020-05-12T00:00:00",
          "2020-05-13T00:00:00",
          "2020-05-14T00:00:00",
          "2020-05-15T00:00:00",
          "2020-05-16T00:00:00",
          "2020-05-17T00:00:00",
          "2020-05-18T00:00:00",
          "2020-05-19T00:00:00",
          "2020-05-20T00:00:00",
          "2020-05-21T00:00:00",
          "2020-05-22T00:00:00",
          "2020-05-23T00:00:00",
          "2020-05-24T00:00:00",
          "2020-05-25T00:00:00",
          "2020-05-26T00:00:00",
          "2020-05-27T00:00:00",
          "2020-05-28T00:00:00",
          "2020-05-29T00:00:00",
          "2020-05-30T00:00:00",
          "2020-05-31T00:00:00",
          "2020-06-01T00:00:00",
          "2020-06-02T00:00:00",
          "2020-06-03T00:00:00",
          "2020-06-04T00:00:00",
          "2020-06-05T00:00:00",
          "2020-06-06T00:00:00",
          "2020-06-07T00:00:00",
          "2020-06-08T00:00:00",
          "2020-06-09T00:00:00",
          "2020-06-10T00:00:00",
          "2020-06-11T00:00:00",
          "2020-06-12T00:00:00",
          "2020-06-13T00:00:00",
          "2020-06-14T00:00:00",
          "2020-06-15T00:00:00",
          "2020-06-16T00:00:00",
          "2020-06-17T00:00:00",
          "2020-06-18T00:00:00",
          "2020-06-19T00:00:00",
          "2020-06-20T00:00:00",
          "2020-06-21T00:00:00",
          "2020-06-22T00:00:00",
          "2020-06-23T00:00:00",
          "2020-06-24T00:00:00",
          "2020-06-25T00:00:00",
          "2020-06-26T00:00:00",
          "2020-06-27T00:00:00",
          "2020-06-28T00:00:00",
          "2020-06-29T00:00:00",
          "2020-06-30T00:00:00",
          "2020-07-01T00:00:00",
          "2020-07-02T00:00:00",
          "2020-07-03T00:00:00",
          "2020-07-04T00:00:00",
          "2020-07-05T00:00:00",
          "2020-07-06T00:00:00",
          "2020-07-07T00:00:00",
          "2020-07-08T00:00:00",
          "2020-07-09T00:00:00",
          "2020-07-10T00:00:00",
          "2020-07-11T00:00:00",
          "2020-07-12T00:00:00",
          "2020-07-13T00:00:00",
          "2020-07-14T00:00:00",
          "2020-07-15T00:00:00",
          "2020-07-16T00:00:00",
          "2020-07-17T00:00:00",
          "2020-07-18T00:00:00",
          "2020-07-19T00:00:00",
          "2020-07-20T00:00:00",
          "2020-07-21T00:00:00",
          "2020-07-22T00:00:00",
          "2020-07-23T00:00:00",
          "2020-07-24T00:00:00",
          "2020-07-25T00:00:00",
          "2020-07-26T00:00:00",
          "2020-07-27T00:00:00",
          "2020-07-28T00:00:00",
          "2020-07-29T00:00:00",
          "2020-07-30T00:00:00",
          "2020-07-31T00:00:00",
          "2020-08-01T00:00:00",
          "2020-08-02T00:00:00",
          "2020-08-03T00:00:00",
          "2020-08-04T00:00:00",
          "2020-08-05T00:00:00",
          "2020-08-06T00:00:00",
          "2020-08-07T00:00:00"
         ],
         "y": [
          1,
          1,
          2,
          2,
          5,
          5,
          5,
          5,
          5,
          6,
          8,
          8,
          11,
          11,
          12,
          12,
          12,
          12,
          9,
          9,
          10,
          10,
          12,
          12,
          12,
          12,
          12,
          12,
          12,
          12,
          30,
          30,
          30,
          48,
          47,
          53,
          54,
          55,
          62,
          68,
          88,
          107,
          134,
          201,
          256,
          392,
          508,
          575,
          923,
          1237,
          1611,
          2120,
          2660,
          3424,
          4530,
          6296,
          7562,
          13372,
          18710,
          25036,
          33421,
          43111,
          52682,
          64475,
          81946,
          99207,
          118367,
          135777,
          153209,
          177275,
          200141,
          228672,
          258792,
          285794,
          310005,
          336303,
          361738,
          390798,
          419549,
          449159,
          474664,
          500306,
          513609,
          534076,
          555929,
          580182,
          604388,
          628693,
          648088,
          669903,
          692217,
          716232,
          739013,
          754305,
          784027,
          803914,
          820407,
          838291,
          858222,
          852481,
          874503,
          890788,
          910206,
          924273,
          943496,
          965262,
          986325,
          1007756,
          1018221,
          1033565,
          1034466,
          1056911,
          1062857,
          1085462,
          1104547,
          1110690,
          1124930,
          1134783,
          1147255,
          1164102,
          1184027,
          1154823,
          1164286,
          1178790,
          1184925,
          1197098,
          1207250,
          1220146,
          1236764,
          1249928,
          1241033,
          1247640,
          1261773,
          1265087,
          1279447,
          1301553,
          1314832,
          1326985,
          1331895,
          1342640,
          1354036,
          1369235,
          1386931,
          1402484,
          1416510,
          1421565,
          1437265,
          1453382,
          1473500,
          1496972,
          1517940,
          1539180,
          1551700,
          1578246,
          1603352,
          1634327,
          1671706,
          1705304,
          1738029,
          1759308,
          1787369,
          1828202,
          1829169,
          1874315,
          1815435,
          1851925,
          1881644,
          1928142,
          1968979,
          2015545,
          2067296,
          2115572,
          2163411,
          2196652,
          2246010,
          2284558,
          2347154,
          2401245,
          2448574,
          2501605,
          2533677,
          2575198,
          2616046,
          2661175,
          2705361,
          2752147,
          2789125,
          2816521,
          2851533,
          2886844,
          2928805,
          2970564,
          3004112,
          3044406,
          3044692,
          3085300,
          3087789,
          3124854,
          3156538
         ]
        },
        {
         "mode": "lines",
         "name": "New",
         "type": "scatter",
         "x": [
          "2020-01-22T00:00:00",
          "2020-01-23T00:00:00",
          "2020-01-24T00:00:00",
          "2020-01-25T00:00:00",
          "2020-01-26T00:00:00",
          "2020-01-27T00:00:00",
          "2020-01-28T00:00:00",
          "2020-01-29T00:00:00",
          "2020-01-30T00:00:00",
          "2020-01-31T00:00:00",
          "2020-02-01T00:00:00",
          "2020-02-02T00:00:00",
          "2020-02-03T00:00:00",
          "2020-02-04T00:00:00",
          "2020-02-05T00:00:00",
          "2020-02-06T00:00:00",
          "2020-02-07T00:00:00",
          "2020-02-08T00:00:00",
          "2020-02-09T00:00:00",
          "2020-02-10T00:00:00",
          "2020-02-11T00:00:00",
          "2020-02-12T00:00:00",
          "2020-02-13T00:00:00",
          "2020-02-14T00:00:00",
          "2020-02-15T00:00:00",
          "2020-02-16T00:00:00",
          "2020-02-17T00:00:00",
          "2020-02-18T00:00:00",
          "2020-02-19T00:00:00",
          "2020-02-20T00:00:00",
          "2020-02-21T00:00:00",
          "2020-02-22T00:00:00",
          "2020-02-23T00:00:00",
          "2020-02-24T00:00:00",
          "2020-02-25T00:00:00",
          "2020-02-26T00:00:00",
          "2020-02-27T00:00:00",
          "2020-02-28T00:00:00",
          "2020-02-29T00:00:00",
          "2020-03-01T00:00:00",
          "2020-03-02T00:00:00",
          "2020-03-03T00:00:00",
          "2020-03-04T00:00:00",
          "2020-03-05T00:00:00",
          "2020-03-06T00:00:00",
          "2020-03-07T00:00:00",
          "2020-03-08T00:00:00",
          "2020-03-09T00:00:00",
          "2020-03-10T00:00:00",
          "2020-03-11T00:00:00",
          "2020-03-12T00:00:00",
          "2020-03-13T00:00:00",
          "2020-03-14T00:00:00",
          "2020-03-15T00:00:00",
          "2020-03-16T00:00:00",
          "2020-03-17T00:00:00",
          "2020-03-18T00:00:00",
          "2020-03-19T00:00:00",
          "2020-03-20T00:00:00",
          "2020-03-21T00:00:00",
          "2020-03-22T00:00:00",
          "2020-03-23T00:00:00",
          "2020-03-24T00:00:00",
          "2020-03-25T00:00:00",
          "2020-03-26T00:00:00",
          "2020-03-27T00:00:00",
          "2020-03-28T00:00:00",
          "2020-03-29T00:00:00",
          "2020-03-30T00:00:00",
          "2020-03-31T00:00:00",
          "2020-04-01T00:00:00",
          "2020-04-02T00:00:00",
          "2020-04-03T00:00:00",
          "2020-04-04T00:00:00",
          "2020-04-05T00:00:00",
          "2020-04-06T00:00:00",
          "2020-04-07T00:00:00",
          "2020-04-08T00:00:00",
          "2020-04-09T00:00:00",
          "2020-04-10T00:00:00",
          "2020-04-11T00:00:00",
          "2020-04-12T00:00:00",
          "2020-04-13T00:00:00",
          "2020-04-14T00:00:00",
          "2020-04-15T00:00:00",
          "2020-04-16T00:00:00",
          "2020-04-17T00:00:00",
          "2020-04-18T00:00:00",
          "2020-04-19T00:00:00",
          "2020-04-20T00:00:00",
          "2020-04-21T00:00:00",
          "2020-04-22T00:00:00",
          "2020-04-23T00:00:00",
          "2020-04-24T00:00:00",
          "2020-04-25T00:00:00",
          "2020-04-26T00:00:00",
          "2020-04-27T00:00:00",
          "2020-04-28T00:00:00",
          "2020-04-29T00:00:00",
          "2020-04-30T00:00:00",
          "2020-05-01T00:00:00",
          "2020-05-02T00:00:00",
          "2020-05-03T00:00:00",
          "2020-05-04T00:00:00",
          "2020-05-05T00:00:00",
          "2020-05-06T00:00:00",
          "2020-05-07T00:00:00",
          "2020-05-08T00:00:00",
          "2020-05-09T00:00:00",
          "2020-05-10T00:00:00",
          "2020-05-11T00:00:00",
          "2020-05-12T00:00:00",
          "2020-05-13T00:00:00",
          "2020-05-14T00:00:00",
          "2020-05-15T00:00:00",
          "2020-05-16T00:00:00",
          "2020-05-17T00:00:00",
          "2020-05-18T00:00:00",
          "2020-05-19T00:00:00",
          "2020-05-20T00:00:00",
          "2020-05-21T00:00:00",
          "2020-05-22T00:00:00",
          "2020-05-23T00:00:00",
          "2020-05-24T00:00:00",
          "2020-05-25T00:00:00",
          "2020-05-26T00:00:00",
          "2020-05-27T00:00:00",
          "2020-05-28T00:00:00",
          "2020-05-29T00:00:00",
          "2020-05-30T00:00:00",
          "2020-05-31T00:00:00",
          "2020-06-01T00:00:00",
          "2020-06-02T00:00:00",
          "2020-06-03T00:00:00",
          "2020-06-04T00:00:00",
          "2020-06-05T00:00:00",
          "2020-06-06T00:00:00",
          "2020-06-07T00:00:00",
          "2020-06-08T00:00:00",
          "2020-06-09T00:00:00",
          "2020-06-10T00:00:00",
          "2020-06-11T00:00:00",
          "2020-06-12T00:00:00",
          "2020-06-13T00:00:00",
          "2020-06-14T00:00:00",
          "2020-06-15T00:00:00",
          "2020-06-16T00:00:00",
          "2020-06-17T00:00:00",
          "2020-06-18T00:00:00",
          "2020-06-19T00:00:00",
          "2020-06-20T00:00:00",
          "2020-06-21T00:00:00",
          "2020-06-22T00:00:00",
          "2020-06-23T00:00:00",
          "2020-06-24T00:00:00",
          "2020-06-25T00:00:00",
          "2020-06-26T00:00:00",
          "2020-06-27T00:00:00",
          "2020-06-28T00:00:00",
          "2020-06-29T00:00:00",
          "2020-06-30T00:00:00",
          "2020-07-01T00:00:00",
          "2020-07-02T00:00:00",
          "2020-07-03T00:00:00",
          "2020-07-04T00:00:00",
          "2020-07-05T00:00:00",
          "2020-07-06T00:00:00",
          "2020-07-07T00:00:00",
          "2020-07-08T00:00:00",
          "2020-07-09T00:00:00",
          "2020-07-10T00:00:00",
          "2020-07-11T00:00:00",
          "2020-07-12T00:00:00",
          "2020-07-13T00:00:00",
          "2020-07-14T00:00:00",
          "2020-07-15T00:00:00",
          "2020-07-16T00:00:00",
          "2020-07-17T00:00:00",
          "2020-07-18T00:00:00",
          "2020-07-19T00:00:00",
          "2020-07-20T00:00:00",
          "2020-07-21T00:00:00",
          "2020-07-22T00:00:00",
          "2020-07-23T00:00:00",
          "2020-07-24T00:00:00",
          "2020-07-25T00:00:00",
          "2020-07-26T00:00:00",
          "2020-07-27T00:00:00",
          "2020-07-28T00:00:00",
          "2020-07-29T00:00:00",
          "2020-07-30T00:00:00",
          "2020-07-31T00:00:00",
          "2020-08-01T00:00:00",
          "2020-08-02T00:00:00",
          "2020-08-03T00:00:00",
          "2020-08-04T00:00:00",
          "2020-08-05T00:00:00",
          "2020-08-06T00:00:00",
          "2020-08-07T00:00:00"
         ],
         "y": [
          0,
          0,
          1,
          0,
          3,
          0,
          0,
          0,
          0,
          1,
          2,
          0,
          3,
          0,
          1,
          0,
          0,
          0,
          0,
          0,
          1,
          0,
          2,
          0,
          0,
          0,
          0,
          0,
          0,
          0,
          20,
          0,
          0,
          18,
          0,
          6,
          1,
          2,
          8,
          6,
          25,
          21,
          31,
          68,
          57,
          139,
          120,
          68,
          354,
          322,
          382,
          516,
          547,
          773,
          1133,
          1789,
          1365,
          5894,
          5421,
          6413,
          8334,
          9815,
          10073,
          12042,
          18058,
          17821,
          19808,
          19444,
          20922,
          26341,
          25200,
          30227,
          31987,
          33267,
          28219,
          29595,
          29556,
          32829,
          32385,
          35098,
          29861,
          28917,
          25306,
          27051,
          28680,
          31451,
          31905,
          32491,
          26889,
          25240,
          27539,
          28355,
          28950,
          36163,
          32821,
          27629,
          22307,
          24492,
          27327,
          29515,
          34037,
          29078,
          25501,
          22335,
          23976,
          24252,
          28420,
          26906,
          25621,
          19710,
          18621,
          21693,
          20832,
          27368,
          25050,
          24996,
          18937,
          21551,
          20260,
          23285,
          25294,
          23790,
          21675,
          20634,
          19056,
          18611,
          18263,
          22577,
          24266,
          24146,
          20007,
          20848,
          20801,
          19699,
          21140,
          29972,
          23133,
          18115,
          17548,
          18061,
          20975,
          22883,
          25639,
          25540,
          19532,
          19968,
          23705,
          25559,
          27763,
          31759,
          32307,
          26171,
          31010,
          34722,
          34471,
          40806,
          45255,
          42597,
          38845,
          41655,
          44766,
          50841,
          53621,
          54274,
          45283,
          49199,
          47442,
          60021,
          58601,
          63247,
          66627,
          61352,
          59017,
          59215,
          67417,
          66273,
          78310,
          71558,
          63698,
          61847,
          61417,
          64534,
          70874,
          68663,
          73783,
          65490,
          55902,
          56414,
          65869,
          70776,
          68033,
          67023,
          58406,
          47511,
          45585,
          57540,
          52810,
          59692,
          58173
         ]
        },
        {
         "mode": "lines",
         "name": "Fatality Rate",
         "type": "scatter",
         "x": [
          "2020-01-22T00:00:00",
          "2020-01-23T00:00:00",
          "2020-01-24T00:00:00",
          "2020-01-25T00:00:00",
          "2020-01-26T00:00:00",
          "2020-01-27T00:00:00",
          "2020-01-28T00:00:00",
          "2020-01-29T00:00:00",
          "2020-01-30T00:00:00",
          "2020-01-31T00:00:00",
          "2020-02-01T00:00:00",
          "2020-02-02T00:00:00",
          "2020-02-03T00:00:00",
          "2020-02-04T00:00:00",
          "2020-02-05T00:00:00",
          "2020-02-06T00:00:00",
          "2020-02-07T00:00:00",
          "2020-02-08T00:00:00",
          "2020-02-09T00:00:00",
          "2020-02-10T00:00:00",
          "2020-02-11T00:00:00",
          "2020-02-12T00:00:00",
          "2020-02-13T00:00:00",
          "2020-02-14T00:00:00",
          "2020-02-15T00:00:00",
          "2020-02-16T00:00:00",
          "2020-02-17T00:00:00",
          "2020-02-18T00:00:00",
          "2020-02-19T00:00:00",
          "2020-02-20T00:00:00",
          "2020-02-21T00:00:00",
          "2020-02-22T00:00:00",
          "2020-02-23T00:00:00",
          "2020-02-24T00:00:00",
          "2020-02-25T00:00:00",
          "2020-02-26T00:00:00",
          "2020-02-27T00:00:00",
          "2020-02-28T00:00:00",
          "2020-02-29T00:00:00",
          "2020-03-01T00:00:00",
          "2020-03-02T00:00:00",
          "2020-03-03T00:00:00",
          "2020-03-04T00:00:00",
          "2020-03-05T00:00:00",
          "2020-03-06T00:00:00",
          "2020-03-07T00:00:00",
          "2020-03-08T00:00:00",
          "2020-03-09T00:00:00",
          "2020-03-10T00:00:00",
          "2020-03-11T00:00:00",
          "2020-03-12T00:00:00",
          "2020-03-13T00:00:00",
          "2020-03-14T00:00:00",
          "2020-03-15T00:00:00",
          "2020-03-16T00:00:00",
          "2020-03-17T00:00:00",
          "2020-03-18T00:00:00",
          "2020-03-19T00:00:00",
          "2020-03-20T00:00:00",
          "2020-03-21T00:00:00",
          "2020-03-22T00:00:00",
          "2020-03-23T00:00:00",
          "2020-03-24T00:00:00",
          "2020-03-25T00:00:00",
          "2020-03-26T00:00:00",
          "2020-03-27T00:00:00",
          "2020-03-28T00:00:00",
          "2020-03-29T00:00:00",
          "2020-03-30T00:00:00",
          "2020-03-31T00:00:00",
          "2020-04-01T00:00:00",
          "2020-04-02T00:00:00",
          "2020-04-03T00:00:00",
          "2020-04-04T00:00:00",
          "2020-04-05T00:00:00",
          "2020-04-06T00:00:00",
          "2020-04-07T00:00:00",
          "2020-04-08T00:00:00",
          "2020-04-09T00:00:00",
          "2020-04-10T00:00:00",
          "2020-04-11T00:00:00",
          "2020-04-12T00:00:00",
          "2020-04-13T00:00:00",
          "2020-04-14T00:00:00",
          "2020-04-15T00:00:00",
          "2020-04-16T00:00:00",
          "2020-04-17T00:00:00",
          "2020-04-18T00:00:00",
          "2020-04-19T00:00:00",
          "2020-04-20T00:00:00",
          "2020-04-21T00:00:00",
          "2020-04-22T00:00:00",
          "2020-04-23T00:00:00",
          "2020-04-24T00:00:00",
          "2020-04-25T00:00:00",
          "2020-04-26T00:00:00",
          "2020-04-27T00:00:00",
          "2020-04-28T00:00:00",
          "2020-04-29T00:00:00",
          "2020-04-30T00:00:00",
          "2020-05-01T00:00:00",
          "2020-05-02T00:00:00",
          "2020-05-03T00:00:00",
          "2020-05-04T00:00:00",
          "2020-05-05T00:00:00",
          "2020-05-06T00:00:00",
          "2020-05-07T00:00:00",
          "2020-05-08T00:00:00",
          "2020-05-09T00:00:00",
          "2020-05-10T00:00:00",
          "2020-05-11T00:00:00",
          "2020-05-12T00:00:00",
          "2020-05-13T00:00:00",
          "2020-05-14T00:00:00",
          "2020-05-15T00:00:00",
          "2020-05-16T00:00:00",
          "2020-05-17T00:00:00",
          "2020-05-18T00:00:00",
          "2020-05-19T00:00:00",
          "2020-05-20T00:00:00",
          "2020-05-21T00:00:00",
          "2020-05-22T00:00:00",
          "2020-05-23T00:00:00",
          "2020-05-24T00:00:00",
          "2020-05-25T00:00:00",
          "2020-05-26T00:00:00",
          "2020-05-27T00:00:00",
          "2020-05-28T00:00:00",
          "2020-05-29T00:00:00",
          "2020-05-30T00:00:00",
          "2020-05-31T00:00:00",
          "2020-06-01T00:00:00",
          "2020-06-02T00:00:00",
          "2020-06-03T00:00:00",
          "2020-06-04T00:00:00",
          "2020-06-05T00:00:00",
          "2020-06-06T00:00:00",
          "2020-06-07T00:00:00",
          "2020-06-08T00:00:00",
          "2020-06-09T00:00:00",
          "2020-06-10T00:00:00",
          "2020-06-11T00:00:00",
          "2020-06-12T00:00:00",
          "2020-06-13T00:00:00",
          "2020-06-14T00:00:00",
          "2020-06-15T00:00:00",
          "2020-06-16T00:00:00",
          "2020-06-17T00:00:00",
          "2020-06-18T00:00:00",
          "2020-06-19T00:00:00",
          "2020-06-20T00:00:00",
          "2020-06-21T00:00:00",
          "2020-06-22T00:00:00",
          "2020-06-23T00:00:00",
          "2020-06-24T00:00:00",
          "2020-06-25T00:00:00",
          "2020-06-26T00:00:00",
          "2020-06-27T00:00:00",
          "2020-06-28T00:00:00",
          "2020-06-29T00:00:00",
          "2020-06-30T00:00:00",
          "2020-07-01T00:00:00",
          "2020-07-02T00:00:00",
          "2020-07-03T00:00:00",
          "2020-07-04T00:00:00",
          "2020-07-05T00:00:00",
          "2020-07-06T00:00:00",
          "2020-07-07T00:00:00",
          "2020-07-08T00:00:00",
          "2020-07-09T00:00:00",
          "2020-07-10T00:00:00",
          "2020-07-11T00:00:00",
          "2020-07-12T00:00:00",
          "2020-07-13T00:00:00",
          "2020-07-14T00:00:00",
          "2020-07-15T00:00:00",
          "2020-07-16T00:00:00",
          "2020-07-17T00:00:00",
          "2020-07-18T00:00:00",
          "2020-07-19T00:00:00",
          "2020-07-20T00:00:00",
          "2020-07-21T00:00:00",
          "2020-07-22T00:00:00",
          "2020-07-23T00:00:00",
          "2020-07-24T00:00:00",
          "2020-07-25T00:00:00",
          "2020-07-26T00:00:00",
          "2020-07-27T00:00:00",
          "2020-07-28T00:00:00",
          "2020-07-29T00:00:00",
          "2020-07-30T00:00:00",
          "2020-07-31T00:00:00",
          "2020-08-01T00:00:00",
          "2020-08-02T00:00:00",
          "2020-08-03T00:00:00",
          "2020-08-04T00:00:00",
          "2020-08-05T00:00:00",
          "2020-08-06T00:00:00",
          "2020-08-07T00:00:00"
         ],
         "y": [
          0,
          0,
          0,
          0,
          0,
          0,
          0,
          0,
          0,
          0,
          0,
          0,
          0,
          0,
          0,
          0,
          0,
          0,
          0,
          0,
          0,
          0,
          0,
          0,
          0,
          0,
          0,
          0,
          0,
          0,
          0,
          0,
          0,
          0,
          0,
          0,
          0,
          0,
          1.4285714285714286,
          1.3157894736842104,
          5.9405940594059405,
          5.737704918032787,
          7.18954248366013,
          5.429864253393665,
          5.0359712230215825,
          4.07673860911271,
          3.910614525139665,
          3.6363636363636362,
          2.9197080291970803,
          2.810304449648712,
          2.4052916416115453,
          2.1569527306103717,
          1.9809244314013204,
          1.8005144326950557,
          1.8350604490500866,
          1.6819809998442612,
          1.5155407141022348,
          1.461988304093567,
          1.2774200303649024,
          1.2032609547699302,
          1.2615220987946112,
          1.2642282939788836,
          1.3138305791275866,
          1.4320897564535255,
          1.4421012452884203,
          1.5552298415259156,
          1.6679701971761411,
          1.7507753230808536,
          1.8401913106883105,
          2.0582233275939035,
          2.229439664060889,
          2.4326865052812203,
          2.571611039748028,
          2.7220069094358803,
          2.8536929795414627,
          2.9408155083495378,
          3.210818150385011,
          3.424992774768559,
          3.571018362203291,
          3.7431399599222615,
          3.8871875926108865,
          3.965151185007374,
          4.052227019784058,
          4.250826929089802,
          4.451166810717373,
          4.929013283897449,
          5.255493021354683,
          5.28054608254336,
          5.356573563469752,
          5.366901007999225,
          5.474309152383709,
          5.5487848420651735,
          5.747322157920775,
          5.738109623751702,
          5.7298695096967025,
          5.682539452444286,
          5.693712111244928,
          5.762990059076697,
          5.8627245268576385,
          5.890647675758165,
          5.885391509079161,
          5.860195542934946,
          5.844530413457221,
          5.838991845811712,
          5.9006053882962695,
          5.976788270906062,
          6.019142052293395,
          6.011235823787764,
          6.016952388224963,
          5.982727231692821,
          5.985839996260797,
          6.0147169849894935,
          6.04995950822997,
          6.058652507381289,
          6.066574994593935,
          6.0466542219073185,
          6.023983744485481,
          5.989956958393114,
          6.013536852792941,
          6.021124423511763,
          6.0046400240434155,
          5.99517657471843,
          5.9833774186311945,
          5.94676633930647,
          5.908673634514066,
          5.884480636416043,
          5.909805694054059,
          5.901891850921706,
          5.8881948020038735,
          5.8625043428155,
          5.830780506007244,
          5.8060650903910505,
          5.796417881441473,
          5.788487296923608,
          5.778464857475463,
          5.748510484423683,
          5.7163776473245695,
          5.685947692244377,
          5.659703032688429,
          5.657470185487265,
          5.64489038543058,
          5.62533267897202,
          5.5963779157105025,
          5.564451831406307,
          5.526685507278213,
          5.493168012124733,
          5.47136192533111,
          5.441572789593628,
          5.405528757177485,
          5.359202667612016,
          5.308766410996492,
          5.259173537779064,
          5.207023310124119,
          5.165183794612918,
          5.1219969993613255,
          5.1360298625396785,
          5.067325780915027,
          5.001252912673381,
          4.9353941708813975,
          4.869046428870581,
          4.834794645401468,
          4.767300832608036,
          4.698747645425218,
          4.632316125852808,
          4.566963298345164,
          4.498560738895707,
          4.437383624475789,
          4.388374479072446,
          4.331032288287651,
          4.274929713343336,
          4.21067439810612,
          4.152190823879172,
          4.090994637727379,
          4.029716805725774,
          3.976775672038545,
          3.928330770328148,
          3.868901728867049,
          3.8178969574103236,
          3.775354561726221,
          3.724471677011391,
          3.6747032409770104,
          3.64163416650189,
          3.6067237855108893,
          3.57298846078042,
          3.5390857843989503,
          3.5054874065975254,
          3.470422112069586,
          3.4498921646481384,
          3.4275238590645163,
          3.4044186310222178,
          3.382747332322584,
          3.3606471493661387,
          3.342687412724837,
          3.317512700957914,
          3.2969275746042257,
          3.2864885937775097,
          3.280547442002202,
          3.2784132630515876,
          3.2649736783794423
         ]
        }
       ],
       "layout": {
        "template": {
         "data": {
          "bar": [
           {
            "error_x": {
             "color": "#2a3f5f"
            },
            "error_y": {
             "color": "#2a3f5f"
            },
            "marker": {
             "line": {
              "color": "#E5ECF6",
              "width": 0.5
             }
            },
            "type": "bar"
           }
          ],
          "barpolar": [
           {
            "marker": {
             "line": {
              "color": "#E5ECF6",
              "width": 0.5
             }
            },
            "type": "barpolar"
           }
          ],
          "carpet": [
           {
            "aaxis": {
             "endlinecolor": "#2a3f5f",
             "gridcolor": "white",
             "linecolor": "white",
             "minorgridcolor": "white",
             "startlinecolor": "#2a3f5f"
            },
            "baxis": {
             "endlinecolor": "#2a3f5f",
             "gridcolor": "white",
             "linecolor": "white",
             "minorgridcolor": "white",
             "startlinecolor": "#2a3f5f"
            },
            "type": "carpet"
           }
          ],
          "choropleth": [
           {
            "colorbar": {
             "outlinewidth": 0,
             "ticks": ""
            },
            "type": "choropleth"
           }
          ],
          "contour": [
           {
            "colorbar": {
             "outlinewidth": 0,
             "ticks": ""
            },
            "colorscale": [
             [
              0,
              "#0d0887"
             ],
             [
              0.1111111111111111,
              "#46039f"
             ],
             [
              0.2222222222222222,
              "#7201a8"
             ],
             [
              0.3333333333333333,
              "#9c179e"
             ],
             [
              0.4444444444444444,
              "#bd3786"
             ],
             [
              0.5555555555555556,
              "#d8576b"
             ],
             [
              0.6666666666666666,
              "#ed7953"
             ],
             [
              0.7777777777777778,
              "#fb9f3a"
             ],
             [
              0.8888888888888888,
              "#fdca26"
             ],
             [
              1,
              "#f0f921"
             ]
            ],
            "type": "contour"
           }
          ],
          "contourcarpet": [
           {
            "colorbar": {
             "outlinewidth": 0,
             "ticks": ""
            },
            "type": "contourcarpet"
           }
          ],
          "heatmap": [
           {
            "colorbar": {
             "outlinewidth": 0,
             "ticks": ""
            },
            "colorscale": [
             [
              0,
              "#0d0887"
             ],
             [
              0.1111111111111111,
              "#46039f"
             ],
             [
              0.2222222222222222,
              "#7201a8"
             ],
             [
              0.3333333333333333,
              "#9c179e"
             ],
             [
              0.4444444444444444,
              "#bd3786"
             ],
             [
              0.5555555555555556,
              "#d8576b"
             ],
             [
              0.6666666666666666,
              "#ed7953"
             ],
             [
              0.7777777777777778,
              "#fb9f3a"
             ],
             [
              0.8888888888888888,
              "#fdca26"
             ],
             [
              1,
              "#f0f921"
             ]
            ],
            "type": "heatmap"
           }
          ],
          "heatmapgl": [
           {
            "colorbar": {
             "outlinewidth": 0,
             "ticks": ""
            },
            "colorscale": [
             [
              0,
              "#0d0887"
             ],
             [
              0.1111111111111111,
              "#46039f"
             ],
             [
              0.2222222222222222,
              "#7201a8"
             ],
             [
              0.3333333333333333,
              "#9c179e"
             ],
             [
              0.4444444444444444,
              "#bd3786"
             ],
             [
              0.5555555555555556,
              "#d8576b"
             ],
             [
              0.6666666666666666,
              "#ed7953"
             ],
             [
              0.7777777777777778,
              "#fb9f3a"
             ],
             [
              0.8888888888888888,
              "#fdca26"
             ],
             [
              1,
              "#f0f921"
             ]
            ],
            "type": "heatmapgl"
           }
          ],
          "histogram": [
           {
            "marker": {
             "colorbar": {
              "outlinewidth": 0,
              "ticks": ""
             }
            },
            "type": "histogram"
           }
          ],
          "histogram2d": [
           {
            "colorbar": {
             "outlinewidth": 0,
             "ticks": ""
            },
            "colorscale": [
             [
              0,
              "#0d0887"
             ],
             [
              0.1111111111111111,
              "#46039f"
             ],
             [
              0.2222222222222222,
              "#7201a8"
             ],
             [
              0.3333333333333333,
              "#9c179e"
             ],
             [
              0.4444444444444444,
              "#bd3786"
             ],
             [
              0.5555555555555556,
              "#d8576b"
             ],
             [
              0.6666666666666666,
              "#ed7953"
             ],
             [
              0.7777777777777778,
              "#fb9f3a"
             ],
             [
              0.8888888888888888,
              "#fdca26"
             ],
             [
              1,
              "#f0f921"
             ]
            ],
            "type": "histogram2d"
           }
          ],
          "histogram2dcontour": [
           {
            "colorbar": {
             "outlinewidth": 0,
             "ticks": ""
            },
            "colorscale": [
             [
              0,
              "#0d0887"
             ],
             [
              0.1111111111111111,
              "#46039f"
             ],
             [
              0.2222222222222222,
              "#7201a8"
             ],
             [
              0.3333333333333333,
              "#9c179e"
             ],
             [
              0.4444444444444444,
              "#bd3786"
             ],
             [
              0.5555555555555556,
              "#d8576b"
             ],
             [
              0.6666666666666666,
              "#ed7953"
             ],
             [
              0.7777777777777778,
              "#fb9f3a"
             ],
             [
              0.8888888888888888,
              "#fdca26"
             ],
             [
              1,
              "#f0f921"
             ]
            ],
            "type": "histogram2dcontour"
           }
          ],
          "mesh3d": [
           {
            "colorbar": {
             "outlinewidth": 0,
             "ticks": ""
            },
            "type": "mesh3d"
           }
          ],
          "parcoords": [
           {
            "line": {
             "colorbar": {
              "outlinewidth": 0,
              "ticks": ""
             }
            },
            "type": "parcoords"
           }
          ],
          "pie": [
           {
            "automargin": true,
            "type": "pie"
           }
          ],
          "scatter": [
           {
            "marker": {
             "colorbar": {
              "outlinewidth": 0,
              "ticks": ""
             }
            },
            "type": "scatter"
           }
          ],
          "scatter3d": [
           {
            "line": {
             "colorbar": {
              "outlinewidth": 0,
              "ticks": ""
             }
            },
            "marker": {
             "colorbar": {
              "outlinewidth": 0,
              "ticks": ""
             }
            },
            "type": "scatter3d"
           }
          ],
          "scattercarpet": [
           {
            "marker": {
             "colorbar": {
              "outlinewidth": 0,
              "ticks": ""
             }
            },
            "type": "scattercarpet"
           }
          ],
          "scattergeo": [
           {
            "marker": {
             "colorbar": {
              "outlinewidth": 0,
              "ticks": ""
             }
            },
            "type": "scattergeo"
           }
          ],
          "scattergl": [
           {
            "marker": {
             "colorbar": {
              "outlinewidth": 0,
              "ticks": ""
             }
            },
            "type": "scattergl"
           }
          ],
          "scattermapbox": [
           {
            "marker": {
             "colorbar": {
              "outlinewidth": 0,
              "ticks": ""
             }
            },
            "type": "scattermapbox"
           }
          ],
          "scatterpolar": [
           {
            "marker": {
             "colorbar": {
              "outlinewidth": 0,
              "ticks": ""
             }
            },
            "type": "scatterpolar"
           }
          ],
          "scatterpolargl": [
           {
            "marker": {
             "colorbar": {
              "outlinewidth": 0,
              "ticks": ""
             }
            },
            "type": "scatterpolargl"
           }
          ],
          "scatterternary": [
           {
            "marker": {
             "colorbar": {
              "outlinewidth": 0,
              "ticks": ""
             }
            },
            "type": "scatterternary"
           }
          ],
          "surface": [
           {
            "colorbar": {
             "outlinewidth": 0,
             "ticks": ""
            },
            "colorscale": [
             [
              0,
              "#0d0887"
             ],
             [
              0.1111111111111111,
              "#46039f"
             ],
             [
              0.2222222222222222,
              "#7201a8"
             ],
             [
              0.3333333333333333,
              "#9c179e"
             ],
             [
              0.4444444444444444,
              "#bd3786"
             ],
             [
              0.5555555555555556,
              "#d8576b"
             ],
             [
              0.6666666666666666,
              "#ed7953"
             ],
             [
              0.7777777777777778,
              "#fb9f3a"
             ],
             [
              0.8888888888888888,
              "#fdca26"
             ],
             [
              1,
              "#f0f921"
             ]
            ],
            "type": "surface"
           }
          ],
          "table": [
           {
            "cells": {
             "fill": {
              "color": "#EBF0F8"
             },
             "line": {
              "color": "white"
             }
            },
            "header": {
             "fill": {
              "color": "#C8D4E3"
             },
             "line": {
              "color": "white"
             }
            },
            "type": "table"
           }
          ]
         },
         "layout": {
          "annotationdefaults": {
           "arrowcolor": "#2a3f5f",
           "arrowhead": 0,
           "arrowwidth": 1
          },
          "coloraxis": {
           "colorbar": {
            "outlinewidth": 0,
            "ticks": ""
           }
          },
          "colorscale": {
           "diverging": [
            [
             0,
             "#8e0152"
            ],
            [
             0.1,
             "#c51b7d"
            ],
            [
             0.2,
             "#de77ae"
            ],
            [
             0.3,
             "#f1b6da"
            ],
            [
             0.4,
             "#fde0ef"
            ],
            [
             0.5,
             "#f7f7f7"
            ],
            [
             0.6,
             "#e6f5d0"
            ],
            [
             0.7,
             "#b8e186"
            ],
            [
             0.8,
             "#7fbc41"
            ],
            [
             0.9,
             "#4d9221"
            ],
            [
             1,
             "#276419"
            ]
           ],
           "sequential": [
            [
             0,
             "#0d0887"
            ],
            [
             0.1111111111111111,
             "#46039f"
            ],
            [
             0.2222222222222222,
             "#7201a8"
            ],
            [
             0.3333333333333333,
             "#9c179e"
            ],
            [
             0.4444444444444444,
             "#bd3786"
            ],
            [
             0.5555555555555556,
             "#d8576b"
            ],
            [
             0.6666666666666666,
             "#ed7953"
            ],
            [
             0.7777777777777778,
             "#fb9f3a"
            ],
            [
             0.8888888888888888,
             "#fdca26"
            ],
            [
             1,
             "#f0f921"
            ]
           ],
           "sequentialminus": [
            [
             0,
             "#0d0887"
            ],
            [
             0.1111111111111111,
             "#46039f"
            ],
            [
             0.2222222222222222,
             "#7201a8"
            ],
            [
             0.3333333333333333,
             "#9c179e"
            ],
            [
             0.4444444444444444,
             "#bd3786"
            ],
            [
             0.5555555555555556,
             "#d8576b"
            ],
            [
             0.6666666666666666,
             "#ed7953"
            ],
            [
             0.7777777777777778,
             "#fb9f3a"
            ],
            [
             0.8888888888888888,
             "#fdca26"
            ],
            [
             1,
             "#f0f921"
            ]
           ]
          },
          "colorway": [
           "#636efa",
           "#EF553B",
           "#00cc96",
           "#ab63fa",
           "#FFA15A",
           "#19d3f3",
           "#FF6692",
           "#B6E880",
           "#FF97FF",
           "#FECB52"
          ],
          "font": {
           "color": "#2a3f5f"
          },
          "geo": {
           "bgcolor": "white",
           "lakecolor": "white",
           "landcolor": "#E5ECF6",
           "showlakes": true,
           "showland": true,
           "subunitcolor": "white"
          },
          "hoverlabel": {
           "align": "left"
          },
          "hovermode": "closest",
          "mapbox": {
           "style": "light"
          },
          "paper_bgcolor": "white",
          "plot_bgcolor": "#E5ECF6",
          "polar": {
           "angularaxis": {
            "gridcolor": "white",
            "linecolor": "white",
            "ticks": ""
           },
           "bgcolor": "#E5ECF6",
           "radialaxis": {
            "gridcolor": "white",
            "linecolor": "white",
            "ticks": ""
           }
          },
          "scene": {
           "xaxis": {
            "backgroundcolor": "#E5ECF6",
            "gridcolor": "white",
            "gridwidth": 2,
            "linecolor": "white",
            "showbackground": true,
            "ticks": "",
            "zerolinecolor": "white"
           },
           "yaxis": {
            "backgroundcolor": "#E5ECF6",
            "gridcolor": "white",
            "gridwidth": 2,
            "linecolor": "white",
            "showbackground": true,
            "ticks": "",
            "zerolinecolor": "white"
           },
           "zaxis": {
            "backgroundcolor": "#E5ECF6",
            "gridcolor": "white",
            "gridwidth": 2,
            "linecolor": "white",
            "showbackground": true,
            "ticks": "",
            "zerolinecolor": "white"
           }
          },
          "shapedefaults": {
           "line": {
            "color": "#2a3f5f"
           }
          },
          "ternary": {
           "aaxis": {
            "gridcolor": "white",
            "linecolor": "white",
            "ticks": ""
           },
           "baxis": {
            "gridcolor": "white",
            "linecolor": "white",
            "ticks": ""
           },
           "bgcolor": "#E5ECF6",
           "caxis": {
            "gridcolor": "white",
            "linecolor": "white",
            "ticks": ""
           }
          },
          "title": {
           "x": 0.05
          },
          "xaxis": {
           "automargin": true,
           "gridcolor": "white",
           "linecolor": "white",
           "ticks": "",
           "title": {
            "standoff": 15
           },
           "zerolinecolor": "white",
           "zerolinewidth": 2
          },
          "yaxis": {
           "automargin": true,
           "gridcolor": "white",
           "linecolor": "white",
           "ticks": "",
           "title": {
            "standoff": 15
           },
           "zerolinecolor": "white",
           "zerolinewidth": 2
          }
         }
        },
        "title": {
         "text": "US COVID-19 Cases"
        }
       }
      },
      "text/html": [
       "<div>\n",
       "        \n",
       "        \n",
       "            <div id=\"e7c951e5-47a5-4b33-8e27-a46de8908224\" class=\"plotly-graph-div\" style=\"height:525px; width:100%;\"></div>\n",
       "            <script type=\"text/javascript\">\n",
       "                require([\"plotly\"], function(Plotly) {\n",
       "                    window.PLOTLYENV=window.PLOTLYENV || {};\n",
       "                    \n",
       "                if (document.getElementById(\"e7c951e5-47a5-4b33-8e27-a46de8908224\")) {\n",
       "                    Plotly.newPlot(\n",
       "                        'e7c951e5-47a5-4b33-8e27-a46de8908224',\n",
       "                        [{\"mode\": \"lines\", \"name\": \"Confirmed\", \"type\": \"scatter\", \"x\": [\"2020-01-22T00:00:00\", \"2020-01-23T00:00:00\", \"2020-01-24T00:00:00\", \"2020-01-25T00:00:00\", \"2020-01-26T00:00:00\", \"2020-01-27T00:00:00\", \"2020-01-28T00:00:00\", \"2020-01-29T00:00:00\", \"2020-01-30T00:00:00\", \"2020-01-31T00:00:00\", \"2020-02-01T00:00:00\", \"2020-02-02T00:00:00\", \"2020-02-03T00:00:00\", \"2020-02-04T00:00:00\", \"2020-02-05T00:00:00\", \"2020-02-06T00:00:00\", \"2020-02-07T00:00:00\", \"2020-02-08T00:00:00\", \"2020-02-09T00:00:00\", \"2020-02-10T00:00:00\", \"2020-02-11T00:00:00\", \"2020-02-12T00:00:00\", \"2020-02-13T00:00:00\", \"2020-02-14T00:00:00\", \"2020-02-15T00:00:00\", \"2020-02-16T00:00:00\", \"2020-02-17T00:00:00\", \"2020-02-18T00:00:00\", \"2020-02-19T00:00:00\", \"2020-02-20T00:00:00\", \"2020-02-21T00:00:00\", \"2020-02-22T00:00:00\", \"2020-02-23T00:00:00\", \"2020-02-24T00:00:00\", \"2020-02-25T00:00:00\", \"2020-02-26T00:00:00\", \"2020-02-27T00:00:00\", \"2020-02-28T00:00:00\", \"2020-02-29T00:00:00\", \"2020-03-01T00:00:00\", \"2020-03-02T00:00:00\", \"2020-03-03T00:00:00\", \"2020-03-04T00:00:00\", \"2020-03-05T00:00:00\", \"2020-03-06T00:00:00\", \"2020-03-07T00:00:00\", \"2020-03-08T00:00:00\", \"2020-03-09T00:00:00\", \"2020-03-10T00:00:00\", \"2020-03-11T00:00:00\", \"2020-03-12T00:00:00\", \"2020-03-13T00:00:00\", \"2020-03-14T00:00:00\", \"2020-03-15T00:00:00\", \"2020-03-16T00:00:00\", \"2020-03-17T00:00:00\", \"2020-03-18T00:00:00\", \"2020-03-19T00:00:00\", \"2020-03-20T00:00:00\", \"2020-03-21T00:00:00\", \"2020-03-22T00:00:00\", \"2020-03-23T00:00:00\", \"2020-03-24T00:00:00\", \"2020-03-25T00:00:00\", \"2020-03-26T00:00:00\", \"2020-03-27T00:00:00\", \"2020-03-28T00:00:00\", \"2020-03-29T00:00:00\", \"2020-03-30T00:00:00\", \"2020-03-31T00:00:00\", \"2020-04-01T00:00:00\", \"2020-04-02T00:00:00\", \"2020-04-03T00:00:00\", \"2020-04-04T00:00:00\", \"2020-04-05T00:00:00\", \"2020-04-06T00:00:00\", \"2020-04-07T00:00:00\", \"2020-04-08T00:00:00\", \"2020-04-09T00:00:00\", \"2020-04-10T00:00:00\", \"2020-04-11T00:00:00\", \"2020-04-12T00:00:00\", \"2020-04-13T00:00:00\", \"2020-04-14T00:00:00\", \"2020-04-15T00:00:00\", \"2020-04-16T00:00:00\", \"2020-04-17T00:00:00\", \"2020-04-18T00:00:00\", \"2020-04-19T00:00:00\", \"2020-04-20T00:00:00\", \"2020-04-21T00:00:00\", \"2020-04-22T00:00:00\", \"2020-04-23T00:00:00\", \"2020-04-24T00:00:00\", \"2020-04-25T00:00:00\", \"2020-04-26T00:00:00\", \"2020-04-27T00:00:00\", \"2020-04-28T00:00:00\", \"2020-04-29T00:00:00\", \"2020-04-30T00:00:00\", \"2020-05-01T00:00:00\", \"2020-05-02T00:00:00\", \"2020-05-03T00:00:00\", \"2020-05-04T00:00:00\", \"2020-05-05T00:00:00\", \"2020-05-06T00:00:00\", \"2020-05-07T00:00:00\", \"2020-05-08T00:00:00\", \"2020-05-09T00:00:00\", \"2020-05-10T00:00:00\", \"2020-05-11T00:00:00\", \"2020-05-12T00:00:00\", \"2020-05-13T00:00:00\", \"2020-05-14T00:00:00\", \"2020-05-15T00:00:00\", \"2020-05-16T00:00:00\", \"2020-05-17T00:00:00\", \"2020-05-18T00:00:00\", \"2020-05-19T00:00:00\", \"2020-05-20T00:00:00\", \"2020-05-21T00:00:00\", \"2020-05-22T00:00:00\", \"2020-05-23T00:00:00\", \"2020-05-24T00:00:00\", \"2020-05-25T00:00:00\", \"2020-05-26T00:00:00\", \"2020-05-27T00:00:00\", \"2020-05-28T00:00:00\", \"2020-05-29T00:00:00\", \"2020-05-30T00:00:00\", \"2020-05-31T00:00:00\", \"2020-06-01T00:00:00\", \"2020-06-02T00:00:00\", \"2020-06-03T00:00:00\", \"2020-06-04T00:00:00\", \"2020-06-05T00:00:00\", \"2020-06-06T00:00:00\", \"2020-06-07T00:00:00\", \"2020-06-08T00:00:00\", \"2020-06-09T00:00:00\", \"2020-06-10T00:00:00\", \"2020-06-11T00:00:00\", \"2020-06-12T00:00:00\", \"2020-06-13T00:00:00\", \"2020-06-14T00:00:00\", \"2020-06-15T00:00:00\", \"2020-06-16T00:00:00\", \"2020-06-17T00:00:00\", \"2020-06-18T00:00:00\", \"2020-06-19T00:00:00\", \"2020-06-20T00:00:00\", \"2020-06-21T00:00:00\", \"2020-06-22T00:00:00\", \"2020-06-23T00:00:00\", \"2020-06-24T00:00:00\", \"2020-06-25T00:00:00\", \"2020-06-26T00:00:00\", \"2020-06-27T00:00:00\", \"2020-06-28T00:00:00\", \"2020-06-29T00:00:00\", \"2020-06-30T00:00:00\", \"2020-07-01T00:00:00\", \"2020-07-02T00:00:00\", \"2020-07-03T00:00:00\", \"2020-07-04T00:00:00\", \"2020-07-05T00:00:00\", \"2020-07-06T00:00:00\", \"2020-07-07T00:00:00\", \"2020-07-08T00:00:00\", \"2020-07-09T00:00:00\", \"2020-07-10T00:00:00\", \"2020-07-11T00:00:00\", \"2020-07-12T00:00:00\", \"2020-07-13T00:00:00\", \"2020-07-14T00:00:00\", \"2020-07-15T00:00:00\", \"2020-07-16T00:00:00\", \"2020-07-17T00:00:00\", \"2020-07-18T00:00:00\", \"2020-07-19T00:00:00\", \"2020-07-20T00:00:00\", \"2020-07-21T00:00:00\", \"2020-07-22T00:00:00\", \"2020-07-23T00:00:00\", \"2020-07-24T00:00:00\", \"2020-07-25T00:00:00\", \"2020-07-26T00:00:00\", \"2020-07-27T00:00:00\", \"2020-07-28T00:00:00\", \"2020-07-29T00:00:00\", \"2020-07-30T00:00:00\", \"2020-07-31T00:00:00\", \"2020-08-01T00:00:00\", \"2020-08-02T00:00:00\", \"2020-08-03T00:00:00\", \"2020-08-04T00:00:00\", \"2020-08-05T00:00:00\", \"2020-08-06T00:00:00\", \"2020-08-07T00:00:00\"], \"y\": [1.0, 1.0, 2.0, 2.0, 5.0, 5.0, 5.0, 5.0, 5.0, 6.0, 8.0, 8.0, 11.0, 11.0, 12.0, 12.0, 12.0, 12.0, 12.0, 12.0, 13.0, 13.0, 15.0, 15.0, 15.0, 15.0, 15.0, 15.0, 15.0, 15.0, 35.0, 35.0, 35.0, 53.0, 53.0, 59.0, 60.0, 62.0, 70.0, 76.0, 101.0, 122.0, 153.0, 221.0, 278.0, 417.0, 537.0, 605.0, 959.0, 1281.0, 1663.0, 2179.0, 2726.0, 3499.0, 4632.0, 6421.0, 7786.0, 13680.0, 19101.0, 25514.0, 33848.0, 43663.0, 53736.0, 65778.0, 83836.0, 101657.0, 121465.0, 140909.0, 161831.0, 188172.0, 213372.0, 243599.0, 275586.0, 308853.0, 337072.0, 366667.0, 396223.0, 429052.0, 461437.0, 496535.0, 526396.0, 555313.0, 580619.0, 607670.0, 636350.0, 667801.0, 699706.0, 732197.0, 759086.0, 784326.0, 811865.0, 840220.0, 869170.0, 905333.0, 938154.0, 965783.0, 988090.0, 1012582.0, 1039909.0, 1069424.0, 1103461.0, 1132539.0, 1158040.0, 1180375.0, 1204351.0, 1228603.0, 1257023.0, 1283929.0, 1309550.0, 1329260.0, 1347881.0, 1369574.0, 1390406.0, 1417774.0, 1442824.0, 1467820.0, 1486757.0, 1508308.0, 1528568.0, 1551853.0, 1577147.0, 1600937.0, 1622612.0, 1643246.0, 1662302.0, 1680913.0, 1699176.0, 1721753.0, 1746019.0, 1770165.0, 1790172.0, 1811020.0, 1831821.0, 1851520.0, 1872660.0, 1902632.0, 1925765.0, 1943880.0, 1961428.0, 1979489.0, 2000464.0, 2023347.0, 2048986.0, 2074526.0, 2094058.0, 2114026.0, 2137731.0, 2163290.0, 2191053.0, 2222812.0, 2255119.0, 2281290.0, 2312300.0, 2347022.0, 2381493.0, 2422299.0, 2467554.0, 2510151.0, 2548996.0, 2590651.0, 2635417.0, 2686258.0, 2739879.0, 2794153.0, 2839436.0, 2888635.0, 2936077.0, 2996098.0, 3054699.0, 3117946.0, 3184573.0, 3245925.0, 3304942.0, 3364157.0, 3431574.0, 3497847.0, 3576157.0, 3647715.0, 3711413.0, 3773260.0, 3834677.0, 3899211.0, 3970085.0, 4038748.0, 4112531.0, 4178021.0, 4233923.0, 4290337.0, 4356206.0, 4426982.0, 4495015.0, 4562038.0, 4620444.0, 4667955.0, 4713540.0, 4771080.0, 4823890.0, 4883582.0, 4941755.0]}, {\"mode\": \"lines\", \"name\": \"Deaths\", \"type\": \"scatter\", \"x\": [\"2020-01-22T00:00:00\", \"2020-01-23T00:00:00\", \"2020-01-24T00:00:00\", \"2020-01-25T00:00:00\", \"2020-01-26T00:00:00\", \"2020-01-27T00:00:00\", \"2020-01-28T00:00:00\", \"2020-01-29T00:00:00\", \"2020-01-30T00:00:00\", \"2020-01-31T00:00:00\", \"2020-02-01T00:00:00\", \"2020-02-02T00:00:00\", \"2020-02-03T00:00:00\", \"2020-02-04T00:00:00\", \"2020-02-05T00:00:00\", \"2020-02-06T00:00:00\", \"2020-02-07T00:00:00\", \"2020-02-08T00:00:00\", \"2020-02-09T00:00:00\", \"2020-02-10T00:00:00\", \"2020-02-11T00:00:00\", \"2020-02-12T00:00:00\", \"2020-02-13T00:00:00\", \"2020-02-14T00:00:00\", \"2020-02-15T00:00:00\", \"2020-02-16T00:00:00\", \"2020-02-17T00:00:00\", \"2020-02-18T00:00:00\", \"2020-02-19T00:00:00\", \"2020-02-20T00:00:00\", \"2020-02-21T00:00:00\", \"2020-02-22T00:00:00\", \"2020-02-23T00:00:00\", \"2020-02-24T00:00:00\", \"2020-02-25T00:00:00\", \"2020-02-26T00:00:00\", \"2020-02-27T00:00:00\", \"2020-02-28T00:00:00\", \"2020-02-29T00:00:00\", \"2020-03-01T00:00:00\", \"2020-03-02T00:00:00\", \"2020-03-03T00:00:00\", \"2020-03-04T00:00:00\", \"2020-03-05T00:00:00\", \"2020-03-06T00:00:00\", \"2020-03-07T00:00:00\", \"2020-03-08T00:00:00\", \"2020-03-09T00:00:00\", \"2020-03-10T00:00:00\", \"2020-03-11T00:00:00\", \"2020-03-12T00:00:00\", \"2020-03-13T00:00:00\", \"2020-03-14T00:00:00\", \"2020-03-15T00:00:00\", \"2020-03-16T00:00:00\", \"2020-03-17T00:00:00\", \"2020-03-18T00:00:00\", \"2020-03-19T00:00:00\", \"2020-03-20T00:00:00\", \"2020-03-21T00:00:00\", \"2020-03-22T00:00:00\", \"2020-03-23T00:00:00\", \"2020-03-24T00:00:00\", \"2020-03-25T00:00:00\", \"2020-03-26T00:00:00\", \"2020-03-27T00:00:00\", \"2020-03-28T00:00:00\", \"2020-03-29T00:00:00\", \"2020-03-30T00:00:00\", \"2020-03-31T00:00:00\", \"2020-04-01T00:00:00\", \"2020-04-02T00:00:00\", \"2020-04-03T00:00:00\", \"2020-04-04T00:00:00\", \"2020-04-05T00:00:00\", \"2020-04-06T00:00:00\", \"2020-04-07T00:00:00\", \"2020-04-08T00:00:00\", \"2020-04-09T00:00:00\", \"2020-04-10T00:00:00\", \"2020-04-11T00:00:00\", \"2020-04-12T00:00:00\", \"2020-04-13T00:00:00\", \"2020-04-14T00:00:00\", \"2020-04-15T00:00:00\", \"2020-04-16T00:00:00\", \"2020-04-17T00:00:00\", \"2020-04-18T00:00:00\", \"2020-04-19T00:00:00\", \"2020-04-20T00:00:00\", \"2020-04-21T00:00:00\", \"2020-04-22T00:00:00\", \"2020-04-23T00:00:00\", \"2020-04-24T00:00:00\", \"2020-04-25T00:00:00\", \"2020-04-26T00:00:00\", \"2020-04-27T00:00:00\", \"2020-04-28T00:00:00\", \"2020-04-29T00:00:00\", \"2020-04-30T00:00:00\", \"2020-05-01T00:00:00\", \"2020-05-02T00:00:00\", \"2020-05-03T00:00:00\", \"2020-05-04T00:00:00\", \"2020-05-05T00:00:00\", \"2020-05-06T00:00:00\", \"2020-05-07T00:00:00\", \"2020-05-08T00:00:00\", \"2020-05-09T00:00:00\", \"2020-05-10T00:00:00\", \"2020-05-11T00:00:00\", \"2020-05-12T00:00:00\", \"2020-05-13T00:00:00\", \"2020-05-14T00:00:00\", \"2020-05-15T00:00:00\", \"2020-05-16T00:00:00\", \"2020-05-17T00:00:00\", \"2020-05-18T00:00:00\", \"2020-05-19T00:00:00\", \"2020-05-20T00:00:00\", \"2020-05-21T00:00:00\", \"2020-05-22T00:00:00\", \"2020-05-23T00:00:00\", \"2020-05-24T00:00:00\", \"2020-05-25T00:00:00\", \"2020-05-26T00:00:00\", \"2020-05-27T00:00:00\", \"2020-05-28T00:00:00\", \"2020-05-29T00:00:00\", \"2020-05-30T00:00:00\", \"2020-05-31T00:00:00\", \"2020-06-01T00:00:00\", \"2020-06-02T00:00:00\", \"2020-06-03T00:00:00\", \"2020-06-04T00:00:00\", \"2020-06-05T00:00:00\", \"2020-06-06T00:00:00\", \"2020-06-07T00:00:00\", \"2020-06-08T00:00:00\", \"2020-06-09T00:00:00\", \"2020-06-10T00:00:00\", \"2020-06-11T00:00:00\", \"2020-06-12T00:00:00\", \"2020-06-13T00:00:00\", \"2020-06-14T00:00:00\", \"2020-06-15T00:00:00\", \"2020-06-16T00:00:00\", \"2020-06-17T00:00:00\", \"2020-06-18T00:00:00\", \"2020-06-19T00:00:00\", \"2020-06-20T00:00:00\", \"2020-06-21T00:00:00\", \"2020-06-22T00:00:00\", \"2020-06-23T00:00:00\", \"2020-06-24T00:00:00\", \"2020-06-25T00:00:00\", \"2020-06-26T00:00:00\", \"2020-06-27T00:00:00\", \"2020-06-28T00:00:00\", \"2020-06-29T00:00:00\", \"2020-06-30T00:00:00\", \"2020-07-01T00:00:00\", \"2020-07-02T00:00:00\", \"2020-07-03T00:00:00\", \"2020-07-04T00:00:00\", \"2020-07-05T00:00:00\", \"2020-07-06T00:00:00\", \"2020-07-07T00:00:00\", \"2020-07-08T00:00:00\", \"2020-07-09T00:00:00\", \"2020-07-10T00:00:00\", \"2020-07-11T00:00:00\", \"2020-07-12T00:00:00\", \"2020-07-13T00:00:00\", \"2020-07-14T00:00:00\", \"2020-07-15T00:00:00\", \"2020-07-16T00:00:00\", \"2020-07-17T00:00:00\", \"2020-07-18T00:00:00\", \"2020-07-19T00:00:00\", \"2020-07-20T00:00:00\", \"2020-07-21T00:00:00\", \"2020-07-22T00:00:00\", \"2020-07-23T00:00:00\", \"2020-07-24T00:00:00\", \"2020-07-25T00:00:00\", \"2020-07-26T00:00:00\", \"2020-07-27T00:00:00\", \"2020-07-28T00:00:00\", \"2020-07-29T00:00:00\", \"2020-07-30T00:00:00\", \"2020-07-31T00:00:00\", \"2020-08-01T00:00:00\", \"2020-08-02T00:00:00\", \"2020-08-03T00:00:00\", \"2020-08-04T00:00:00\", \"2020-08-05T00:00:00\", \"2020-08-06T00:00:00\", \"2020-08-07T00:00:00\"], \"y\": [0.0, 0.0, 0.0, 0.0, 0.0, 0.0, 0.0, 0.0, 0.0, 0.0, 0.0, 0.0, 0.0, 0.0, 0.0, 0.0, 0.0, 0.0, 0.0, 0.0, 0.0, 0.0, 0.0, 0.0, 0.0, 0.0, 0.0, 0.0, 0.0, 0.0, 0.0, 0.0, 0.0, 0.0, 0.0, 0.0, 0.0, 0.0, 1.0, 1.0, 6.0, 7.0, 11.0, 12.0, 14.0, 17.0, 21.0, 22.0, 28.0, 36.0, 40.0, 47.0, 54.0, 63.0, 85.0, 108.0, 118.0, 200.0, 244.0, 307.0, 427.0, 552.0, 706.0, 942.0, 1209.0, 1581.0, 2026.0, 2467.0, 2978.0, 3873.0, 4757.0, 5926.0, 7087.0, 8407.0, 9619.0, 10783.0, 12722.0, 14695.0, 16478.0, 18586.0, 20462.0, 22019.0, 23528.0, 25831.0, 28325.0, 32916.0, 36773.0, 38664.0, 40661.0, 42094.0, 44444.0, 46622.0, 49954.0, 51949.0, 53755.0, 54881.0, 56259.0, 58355.0, 60967.0, 62996.0, 64943.0, 66369.0, 67682.0, 68922.0, 71064.0, 73431.0, 75662.0, 77180.0, 78795.0, 79526.0, 80682.0, 82376.0, 84119.0, 85898.0, 87530.0, 88754.0, 89562.0, 90347.0, 91921.0, 93439.0, 94702.0, 95979.0, 97087.0, 97720.0, 98220.0, 98913.0, 100418.0, 101616.0, 102809.0, 103776.0, 104381.0, 105149.0, 106180.0, 107175.0, 108211.0, 109373.0, 110084.0, 110528.0, 111011.0, 111989.0, 112924.0, 113820.0, 114669.0, 115436.0, 115732.0, 116127.0, 116963.0, 117717.0, 118438.0, 119125.0, 119719.0, 119977.0, 120402.0, 121228.0, 121980.0, 124410.0, 125039.0, 125539.0, 125803.0, 126140.0, 127417.0, 128062.0, 128740.0, 129434.0, 129676.0, 129947.0, 130285.0, 131480.0, 132300.0, 133290.0, 134092.0, 134777.0, 135205.0, 135566.0, 136466.0, 137407.0, 138358.0, 139266.0, 140119.0, 140534.0, 140913.0, 141995.0, 143190.0, 144304.0, 145546.0, 146460.0, 146935.0, 148012.0, 149310.0, 150713.0, 152055.0, 153314.0, 154447.0, 154860.0, 155402.0, 156801.0, 158250.0, 160104.0, 161347.0]}, {\"mode\": \"lines\", \"name\": \"Recovered\", \"type\": \"scatter\", \"x\": [\"2020-01-22T00:00:00\", \"2020-01-23T00:00:00\", \"2020-01-24T00:00:00\", \"2020-01-25T00:00:00\", \"2020-01-26T00:00:00\", \"2020-01-27T00:00:00\", \"2020-01-28T00:00:00\", \"2020-01-29T00:00:00\", \"2020-01-30T00:00:00\", \"2020-01-31T00:00:00\", \"2020-02-01T00:00:00\", \"2020-02-02T00:00:00\", \"2020-02-03T00:00:00\", \"2020-02-04T00:00:00\", \"2020-02-05T00:00:00\", \"2020-02-06T00:00:00\", \"2020-02-07T00:00:00\", \"2020-02-08T00:00:00\", \"2020-02-09T00:00:00\", \"2020-02-10T00:00:00\", \"2020-02-11T00:00:00\", \"2020-02-12T00:00:00\", \"2020-02-13T00:00:00\", \"2020-02-14T00:00:00\", \"2020-02-15T00:00:00\", \"2020-02-16T00:00:00\", \"2020-02-17T00:00:00\", \"2020-02-18T00:00:00\", \"2020-02-19T00:00:00\", \"2020-02-20T00:00:00\", \"2020-02-21T00:00:00\", \"2020-02-22T00:00:00\", \"2020-02-23T00:00:00\", \"2020-02-24T00:00:00\", \"2020-02-25T00:00:00\", \"2020-02-26T00:00:00\", \"2020-02-27T00:00:00\", \"2020-02-28T00:00:00\", \"2020-02-29T00:00:00\", \"2020-03-01T00:00:00\", \"2020-03-02T00:00:00\", \"2020-03-03T00:00:00\", \"2020-03-04T00:00:00\", \"2020-03-05T00:00:00\", \"2020-03-06T00:00:00\", \"2020-03-07T00:00:00\", \"2020-03-08T00:00:00\", \"2020-03-09T00:00:00\", \"2020-03-10T00:00:00\", \"2020-03-11T00:00:00\", \"2020-03-12T00:00:00\", \"2020-03-13T00:00:00\", \"2020-03-14T00:00:00\", \"2020-03-15T00:00:00\", \"2020-03-16T00:00:00\", \"2020-03-17T00:00:00\", \"2020-03-18T00:00:00\", \"2020-03-19T00:00:00\", \"2020-03-20T00:00:00\", \"2020-03-21T00:00:00\", \"2020-03-22T00:00:00\", \"2020-03-23T00:00:00\", \"2020-03-24T00:00:00\", \"2020-03-25T00:00:00\", \"2020-03-26T00:00:00\", \"2020-03-27T00:00:00\", \"2020-03-28T00:00:00\", \"2020-03-29T00:00:00\", \"2020-03-30T00:00:00\", \"2020-03-31T00:00:00\", \"2020-04-01T00:00:00\", \"2020-04-02T00:00:00\", \"2020-04-03T00:00:00\", \"2020-04-04T00:00:00\", \"2020-04-05T00:00:00\", \"2020-04-06T00:00:00\", \"2020-04-07T00:00:00\", \"2020-04-08T00:00:00\", \"2020-04-09T00:00:00\", \"2020-04-10T00:00:00\", \"2020-04-11T00:00:00\", \"2020-04-12T00:00:00\", \"2020-04-13T00:00:00\", \"2020-04-14T00:00:00\", \"2020-04-15T00:00:00\", \"2020-04-16T00:00:00\", \"2020-04-17T00:00:00\", \"2020-04-18T00:00:00\", \"2020-04-19T00:00:00\", \"2020-04-20T00:00:00\", \"2020-04-21T00:00:00\", \"2020-04-22T00:00:00\", \"2020-04-23T00:00:00\", \"2020-04-24T00:00:00\", \"2020-04-25T00:00:00\", \"2020-04-26T00:00:00\", \"2020-04-27T00:00:00\", \"2020-04-28T00:00:00\", \"2020-04-29T00:00:00\", \"2020-04-30T00:00:00\", \"2020-05-01T00:00:00\", \"2020-05-02T00:00:00\", \"2020-05-03T00:00:00\", \"2020-05-04T00:00:00\", \"2020-05-05T00:00:00\", \"2020-05-06T00:00:00\", \"2020-05-07T00:00:00\", \"2020-05-08T00:00:00\", \"2020-05-09T00:00:00\", \"2020-05-10T00:00:00\", \"2020-05-11T00:00:00\", \"2020-05-12T00:00:00\", \"2020-05-13T00:00:00\", \"2020-05-14T00:00:00\", \"2020-05-15T00:00:00\", \"2020-05-16T00:00:00\", \"2020-05-17T00:00:00\", \"2020-05-18T00:00:00\", \"2020-05-19T00:00:00\", \"2020-05-20T00:00:00\", \"2020-05-21T00:00:00\", \"2020-05-22T00:00:00\", \"2020-05-23T00:00:00\", \"2020-05-24T00:00:00\", \"2020-05-25T00:00:00\", \"2020-05-26T00:00:00\", \"2020-05-27T00:00:00\", \"2020-05-28T00:00:00\", \"2020-05-29T00:00:00\", \"2020-05-30T00:00:00\", \"2020-05-31T00:00:00\", \"2020-06-01T00:00:00\", \"2020-06-02T00:00:00\", \"2020-06-03T00:00:00\", \"2020-06-04T00:00:00\", \"2020-06-05T00:00:00\", \"2020-06-06T00:00:00\", \"2020-06-07T00:00:00\", \"2020-06-08T00:00:00\", \"2020-06-09T00:00:00\", \"2020-06-10T00:00:00\", \"2020-06-11T00:00:00\", \"2020-06-12T00:00:00\", \"2020-06-13T00:00:00\", \"2020-06-14T00:00:00\", \"2020-06-15T00:00:00\", \"2020-06-16T00:00:00\", \"2020-06-17T00:00:00\", \"2020-06-18T00:00:00\", \"2020-06-19T00:00:00\", \"2020-06-20T00:00:00\", \"2020-06-21T00:00:00\", \"2020-06-22T00:00:00\", \"2020-06-23T00:00:00\", \"2020-06-24T00:00:00\", \"2020-06-25T00:00:00\", \"2020-06-26T00:00:00\", \"2020-06-27T00:00:00\", \"2020-06-28T00:00:00\", \"2020-06-29T00:00:00\", \"2020-06-30T00:00:00\", \"2020-07-01T00:00:00\", \"2020-07-02T00:00:00\", \"2020-07-03T00:00:00\", \"2020-07-04T00:00:00\", \"2020-07-05T00:00:00\", \"2020-07-06T00:00:00\", \"2020-07-07T00:00:00\", \"2020-07-08T00:00:00\", \"2020-07-09T00:00:00\", \"2020-07-10T00:00:00\", \"2020-07-11T00:00:00\", \"2020-07-12T00:00:00\", \"2020-07-13T00:00:00\", \"2020-07-14T00:00:00\", \"2020-07-15T00:00:00\", \"2020-07-16T00:00:00\", \"2020-07-17T00:00:00\", \"2020-07-18T00:00:00\", \"2020-07-19T00:00:00\", \"2020-07-20T00:00:00\", \"2020-07-21T00:00:00\", \"2020-07-22T00:00:00\", \"2020-07-23T00:00:00\", \"2020-07-24T00:00:00\", \"2020-07-25T00:00:00\", \"2020-07-26T00:00:00\", \"2020-07-27T00:00:00\", \"2020-07-28T00:00:00\", \"2020-07-29T00:00:00\", \"2020-07-30T00:00:00\", \"2020-07-31T00:00:00\", \"2020-08-01T00:00:00\", \"2020-08-02T00:00:00\", \"2020-08-03T00:00:00\", \"2020-08-04T00:00:00\", \"2020-08-05T00:00:00\", \"2020-08-06T00:00:00\", \"2020-08-07T00:00:00\"], \"y\": [0.0, 0.0, 0.0, 0.0, 0.0, 0.0, 0.0, 0.0, 0.0, 0.0, 0.0, 0.0, 0.0, 0.0, 0.0, 0.0, 0.0, 0.0, 3.0, 3.0, 3.0, 3.0, 3.0, 3.0, 3.0, 3.0, 3.0, 3.0, 3.0, 3.0, 5.0, 5.0, 5.0, 5.0, 6.0, 6.0, 6.0, 7.0, 7.0, 7.0, 7.0, 8.0, 8.0, 8.0, 8.0, 8.0, 8.0, 8.0, 8.0, 8.0, 12.0, 12.0, 12.0, 12.0, 17.0, 17.0, 106.0, 108.0, 147.0, 171.0, 0.0, 0.0, 348.0, 361.0, 681.0, 869.0, 1072.0, 2665.0, 5644.0, 7024.0, 8474.0, 9001.0, 9707.0, 14652.0, 17448.0, 19581.0, 21763.0, 23559.0, 25410.0, 28790.0, 31270.0, 32988.0, 43482.0, 47763.0, 52096.0, 54703.0, 58545.0, 64840.0, 70337.0, 72329.0, 75204.0, 77366.0, 80203.0, 99079.0, 100372.0, 106988.0, 111424.0, 115936.0, 120720.0, 153947.0, 164015.0, 175382.0, 180152.0, 187180.0, 189791.0, 189910.0, 195036.0, 198993.0, 212534.0, 216169.0, 232733.0, 230287.0, 243430.0, 246414.0, 250747.0, 268376.0, 272265.0, 283178.0, 289392.0, 294312.0, 298418.0, 350135.0, 361239.0, 366736.0, 379157.0, 384902.0, 391508.0, 399991.0, 406446.0, 416461.0, 444758.0, 458231.0, 463868.0, 479258.0, 485002.0, 491706.0, 500849.0, 506367.0, 518522.0, 524860.0, 533504.0, 540292.0, 547386.0, 556606.0, 561816.0, 576334.0, 583503.0, 592191.0, 599115.0, 606715.0, 617460.0, 622133.0, 640198.0, 647548.0, 656161.0, 663562.0, 670809.0, 679308.0, 685164.0, 705203.0, 720631.0, 729994.0, 781970.0, 790404.0, 894325.0, 906763.0, 924148.0, 936476.0, 953420.0, 969111.0, 983185.0, 995576.0, 1006326.0, 1031939.0, 1049098.0, 1075882.0, 1090645.0, 1107204.0, 1122720.0, 1131121.0, 1160087.0, 1182018.0, 1210849.0, 1233269.0, 1261624.0, 1279414.0, 1297863.0, 1325804.0, 1355363.0, 1389425.0, 1414155.0, 1438160.0, 1461885.0, 1468689.0, 1513446.0, 1528979.0, 1577851.0, 1598624.0, 1623870.0]}, {\"mode\": \"lines\", \"name\": \"Active\", \"type\": \"scatter\", \"x\": [\"2020-01-22T00:00:00\", \"2020-01-23T00:00:00\", \"2020-01-24T00:00:00\", \"2020-01-25T00:00:00\", \"2020-01-26T00:00:00\", \"2020-01-27T00:00:00\", \"2020-01-28T00:00:00\", \"2020-01-29T00:00:00\", \"2020-01-30T00:00:00\", \"2020-01-31T00:00:00\", \"2020-02-01T00:00:00\", \"2020-02-02T00:00:00\", \"2020-02-03T00:00:00\", \"2020-02-04T00:00:00\", \"2020-02-05T00:00:00\", \"2020-02-06T00:00:00\", \"2020-02-07T00:00:00\", \"2020-02-08T00:00:00\", \"2020-02-09T00:00:00\", \"2020-02-10T00:00:00\", \"2020-02-11T00:00:00\", \"2020-02-12T00:00:00\", \"2020-02-13T00:00:00\", \"2020-02-14T00:00:00\", \"2020-02-15T00:00:00\", \"2020-02-16T00:00:00\", \"2020-02-17T00:00:00\", \"2020-02-18T00:00:00\", \"2020-02-19T00:00:00\", \"2020-02-20T00:00:00\", \"2020-02-21T00:00:00\", \"2020-02-22T00:00:00\", \"2020-02-23T00:00:00\", \"2020-02-24T00:00:00\", \"2020-02-25T00:00:00\", \"2020-02-26T00:00:00\", \"2020-02-27T00:00:00\", \"2020-02-28T00:00:00\", \"2020-02-29T00:00:00\", \"2020-03-01T00:00:00\", \"2020-03-02T00:00:00\", \"2020-03-03T00:00:00\", \"2020-03-04T00:00:00\", \"2020-03-05T00:00:00\", \"2020-03-06T00:00:00\", \"2020-03-07T00:00:00\", \"2020-03-08T00:00:00\", \"2020-03-09T00:00:00\", \"2020-03-10T00:00:00\", \"2020-03-11T00:00:00\", \"2020-03-12T00:00:00\", \"2020-03-13T00:00:00\", \"2020-03-14T00:00:00\", \"2020-03-15T00:00:00\", \"2020-03-16T00:00:00\", \"2020-03-17T00:00:00\", \"2020-03-18T00:00:00\", \"2020-03-19T00:00:00\", \"2020-03-20T00:00:00\", \"2020-03-21T00:00:00\", \"2020-03-22T00:00:00\", \"2020-03-23T00:00:00\", \"2020-03-24T00:00:00\", \"2020-03-25T00:00:00\", \"2020-03-26T00:00:00\", \"2020-03-27T00:00:00\", \"2020-03-28T00:00:00\", \"2020-03-29T00:00:00\", \"2020-03-30T00:00:00\", \"2020-03-31T00:00:00\", \"2020-04-01T00:00:00\", \"2020-04-02T00:00:00\", \"2020-04-03T00:00:00\", \"2020-04-04T00:00:00\", \"2020-04-05T00:00:00\", \"2020-04-06T00:00:00\", \"2020-04-07T00:00:00\", \"2020-04-08T00:00:00\", \"2020-04-09T00:00:00\", \"2020-04-10T00:00:00\", \"2020-04-11T00:00:00\", \"2020-04-12T00:00:00\", \"2020-04-13T00:00:00\", \"2020-04-14T00:00:00\", \"2020-04-15T00:00:00\", \"2020-04-16T00:00:00\", \"2020-04-17T00:00:00\", \"2020-04-18T00:00:00\", \"2020-04-19T00:00:00\", \"2020-04-20T00:00:00\", \"2020-04-21T00:00:00\", \"2020-04-22T00:00:00\", \"2020-04-23T00:00:00\", \"2020-04-24T00:00:00\", \"2020-04-25T00:00:00\", \"2020-04-26T00:00:00\", \"2020-04-27T00:00:00\", \"2020-04-28T00:00:00\", \"2020-04-29T00:00:00\", \"2020-04-30T00:00:00\", \"2020-05-01T00:00:00\", \"2020-05-02T00:00:00\", \"2020-05-03T00:00:00\", \"2020-05-04T00:00:00\", \"2020-05-05T00:00:00\", \"2020-05-06T00:00:00\", \"2020-05-07T00:00:00\", \"2020-05-08T00:00:00\", \"2020-05-09T00:00:00\", \"2020-05-10T00:00:00\", \"2020-05-11T00:00:00\", \"2020-05-12T00:00:00\", \"2020-05-13T00:00:00\", \"2020-05-14T00:00:00\", \"2020-05-15T00:00:00\", \"2020-05-16T00:00:00\", \"2020-05-17T00:00:00\", \"2020-05-18T00:00:00\", \"2020-05-19T00:00:00\", \"2020-05-20T00:00:00\", \"2020-05-21T00:00:00\", \"2020-05-22T00:00:00\", \"2020-05-23T00:00:00\", \"2020-05-24T00:00:00\", \"2020-05-25T00:00:00\", \"2020-05-26T00:00:00\", \"2020-05-27T00:00:00\", \"2020-05-28T00:00:00\", \"2020-05-29T00:00:00\", \"2020-05-30T00:00:00\", \"2020-05-31T00:00:00\", \"2020-06-01T00:00:00\", \"2020-06-02T00:00:00\", \"2020-06-03T00:00:00\", \"2020-06-04T00:00:00\", \"2020-06-05T00:00:00\", \"2020-06-06T00:00:00\", \"2020-06-07T00:00:00\", \"2020-06-08T00:00:00\", \"2020-06-09T00:00:00\", \"2020-06-10T00:00:00\", \"2020-06-11T00:00:00\", \"2020-06-12T00:00:00\", \"2020-06-13T00:00:00\", \"2020-06-14T00:00:00\", \"2020-06-15T00:00:00\", \"2020-06-16T00:00:00\", \"2020-06-17T00:00:00\", \"2020-06-18T00:00:00\", \"2020-06-19T00:00:00\", \"2020-06-20T00:00:00\", \"2020-06-21T00:00:00\", \"2020-06-22T00:00:00\", \"2020-06-23T00:00:00\", \"2020-06-24T00:00:00\", \"2020-06-25T00:00:00\", \"2020-06-26T00:00:00\", \"2020-06-27T00:00:00\", \"2020-06-28T00:00:00\", \"2020-06-29T00:00:00\", \"2020-06-30T00:00:00\", \"2020-07-01T00:00:00\", \"2020-07-02T00:00:00\", \"2020-07-03T00:00:00\", \"2020-07-04T00:00:00\", \"2020-07-05T00:00:00\", \"2020-07-06T00:00:00\", \"2020-07-07T00:00:00\", \"2020-07-08T00:00:00\", \"2020-07-09T00:00:00\", \"2020-07-10T00:00:00\", \"2020-07-11T00:00:00\", \"2020-07-12T00:00:00\", \"2020-07-13T00:00:00\", \"2020-07-14T00:00:00\", \"2020-07-15T00:00:00\", \"2020-07-16T00:00:00\", \"2020-07-17T00:00:00\", \"2020-07-18T00:00:00\", \"2020-07-19T00:00:00\", \"2020-07-20T00:00:00\", \"2020-07-21T00:00:00\", \"2020-07-22T00:00:00\", \"2020-07-23T00:00:00\", \"2020-07-24T00:00:00\", \"2020-07-25T00:00:00\", \"2020-07-26T00:00:00\", \"2020-07-27T00:00:00\", \"2020-07-28T00:00:00\", \"2020-07-29T00:00:00\", \"2020-07-30T00:00:00\", \"2020-07-31T00:00:00\", \"2020-08-01T00:00:00\", \"2020-08-02T00:00:00\", \"2020-08-03T00:00:00\", \"2020-08-04T00:00:00\", \"2020-08-05T00:00:00\", \"2020-08-06T00:00:00\", \"2020-08-07T00:00:00\"], \"y\": [1.0, 1.0, 2.0, 2.0, 5.0, 5.0, 5.0, 5.0, 5.0, 6.0, 8.0, 8.0, 11.0, 11.0, 12.0, 12.0, 12.0, 12.0, 9.0, 9.0, 10.0, 10.0, 12.0, 12.0, 12.0, 12.0, 12.0, 12.0, 12.0, 12.0, 30.0, 30.0, 30.0, 48.0, 47.0, 53.0, 54.0, 55.0, 62.0, 68.0, 88.0, 107.0, 134.0, 201.0, 256.0, 392.0, 508.0, 575.0, 923.0, 1237.0, 1611.0, 2120.0, 2660.0, 3424.0, 4530.0, 6296.0, 7562.0, 13372.0, 18710.0, 25036.0, 33421.0, 43111.0, 52682.0, 64475.0, 81946.0, 99207.0, 118367.0, 135777.0, 153209.0, 177275.0, 200141.0, 228672.0, 258792.0, 285794.0, 310005.0, 336303.0, 361738.0, 390798.0, 419549.0, 449159.0, 474664.0, 500306.0, 513609.0, 534076.0, 555929.0, 580182.0, 604388.0, 628693.0, 648088.0, 669903.0, 692217.0, 716232.0, 739013.0, 754305.0, 784027.0, 803914.0, 820407.0, 838291.0, 858222.0, 852481.0, 874503.0, 890788.0, 910206.0, 924273.0, 943496.0, 965262.0, 986325.0, 1007756.0, 1018221.0, 1033565.0, 1034466.0, 1056911.0, 1062857.0, 1085462.0, 1104547.0, 1110690.0, 1124930.0, 1134783.0, 1147255.0, 1164102.0, 1184027.0, 1154823.0, 1164286.0, 1178790.0, 1184925.0, 1197098.0, 1207250.0, 1220146.0, 1236764.0, 1249928.0, 1241033.0, 1247640.0, 1261773.0, 1265087.0, 1279447.0, 1301553.0, 1314832.0, 1326985.0, 1331895.0, 1342640.0, 1354036.0, 1369235.0, 1386931.0, 1402484.0, 1416510.0, 1421565.0, 1437265.0, 1453382.0, 1473500.0, 1496972.0, 1517940.0, 1539180.0, 1551700.0, 1578246.0, 1603352.0, 1634327.0, 1671706.0, 1705304.0, 1738029.0, 1759308.0, 1787369.0, 1828202.0, 1829169.0, 1874315.0, 1815435.0, 1851925.0, 1881644.0, 1928142.0, 1968979.0, 2015545.0, 2067296.0, 2115572.0, 2163411.0, 2196652.0, 2246010.0, 2284558.0, 2347154.0, 2401245.0, 2448574.0, 2501605.0, 2533677.0, 2575198.0, 2616046.0, 2661175.0, 2705361.0, 2752147.0, 2789125.0, 2816521.0, 2851533.0, 2886844.0, 2928805.0, 2970564.0, 3004112.0, 3044406.0, 3044692.0, 3085300.0, 3087789.0, 3124854.0, 3156538.0]}, {\"mode\": \"lines\", \"name\": \"New\", \"type\": \"scatter\", \"x\": [\"2020-01-22T00:00:00\", \"2020-01-23T00:00:00\", \"2020-01-24T00:00:00\", \"2020-01-25T00:00:00\", \"2020-01-26T00:00:00\", \"2020-01-27T00:00:00\", \"2020-01-28T00:00:00\", \"2020-01-29T00:00:00\", \"2020-01-30T00:00:00\", \"2020-01-31T00:00:00\", \"2020-02-01T00:00:00\", \"2020-02-02T00:00:00\", \"2020-02-03T00:00:00\", \"2020-02-04T00:00:00\", \"2020-02-05T00:00:00\", \"2020-02-06T00:00:00\", \"2020-02-07T00:00:00\", \"2020-02-08T00:00:00\", \"2020-02-09T00:00:00\", \"2020-02-10T00:00:00\", \"2020-02-11T00:00:00\", \"2020-02-12T00:00:00\", \"2020-02-13T00:00:00\", \"2020-02-14T00:00:00\", \"2020-02-15T00:00:00\", \"2020-02-16T00:00:00\", \"2020-02-17T00:00:00\", \"2020-02-18T00:00:00\", \"2020-02-19T00:00:00\", \"2020-02-20T00:00:00\", \"2020-02-21T00:00:00\", \"2020-02-22T00:00:00\", \"2020-02-23T00:00:00\", \"2020-02-24T00:00:00\", \"2020-02-25T00:00:00\", \"2020-02-26T00:00:00\", \"2020-02-27T00:00:00\", \"2020-02-28T00:00:00\", \"2020-02-29T00:00:00\", \"2020-03-01T00:00:00\", \"2020-03-02T00:00:00\", \"2020-03-03T00:00:00\", \"2020-03-04T00:00:00\", \"2020-03-05T00:00:00\", \"2020-03-06T00:00:00\", \"2020-03-07T00:00:00\", \"2020-03-08T00:00:00\", \"2020-03-09T00:00:00\", \"2020-03-10T00:00:00\", \"2020-03-11T00:00:00\", \"2020-03-12T00:00:00\", \"2020-03-13T00:00:00\", \"2020-03-14T00:00:00\", \"2020-03-15T00:00:00\", \"2020-03-16T00:00:00\", \"2020-03-17T00:00:00\", \"2020-03-18T00:00:00\", \"2020-03-19T00:00:00\", \"2020-03-20T00:00:00\", \"2020-03-21T00:00:00\", \"2020-03-22T00:00:00\", \"2020-03-23T00:00:00\", \"2020-03-24T00:00:00\", \"2020-03-25T00:00:00\", \"2020-03-26T00:00:00\", \"2020-03-27T00:00:00\", \"2020-03-28T00:00:00\", \"2020-03-29T00:00:00\", \"2020-03-30T00:00:00\", \"2020-03-31T00:00:00\", \"2020-04-01T00:00:00\", \"2020-04-02T00:00:00\", \"2020-04-03T00:00:00\", \"2020-04-04T00:00:00\", \"2020-04-05T00:00:00\", \"2020-04-06T00:00:00\", \"2020-04-07T00:00:00\", \"2020-04-08T00:00:00\", \"2020-04-09T00:00:00\", \"2020-04-10T00:00:00\", \"2020-04-11T00:00:00\", \"2020-04-12T00:00:00\", \"2020-04-13T00:00:00\", \"2020-04-14T00:00:00\", \"2020-04-15T00:00:00\", \"2020-04-16T00:00:00\", \"2020-04-17T00:00:00\", \"2020-04-18T00:00:00\", \"2020-04-19T00:00:00\", \"2020-04-20T00:00:00\", \"2020-04-21T00:00:00\", \"2020-04-22T00:00:00\", \"2020-04-23T00:00:00\", \"2020-04-24T00:00:00\", \"2020-04-25T00:00:00\", \"2020-04-26T00:00:00\", \"2020-04-27T00:00:00\", \"2020-04-28T00:00:00\", \"2020-04-29T00:00:00\", \"2020-04-30T00:00:00\", \"2020-05-01T00:00:00\", \"2020-05-02T00:00:00\", \"2020-05-03T00:00:00\", \"2020-05-04T00:00:00\", \"2020-05-05T00:00:00\", \"2020-05-06T00:00:00\", \"2020-05-07T00:00:00\", \"2020-05-08T00:00:00\", \"2020-05-09T00:00:00\", \"2020-05-10T00:00:00\", \"2020-05-11T00:00:00\", \"2020-05-12T00:00:00\", \"2020-05-13T00:00:00\", \"2020-05-14T00:00:00\", \"2020-05-15T00:00:00\", \"2020-05-16T00:00:00\", \"2020-05-17T00:00:00\", \"2020-05-18T00:00:00\", \"2020-05-19T00:00:00\", \"2020-05-20T00:00:00\", \"2020-05-21T00:00:00\", \"2020-05-22T00:00:00\", \"2020-05-23T00:00:00\", \"2020-05-24T00:00:00\", \"2020-05-25T00:00:00\", \"2020-05-26T00:00:00\", \"2020-05-27T00:00:00\", \"2020-05-28T00:00:00\", \"2020-05-29T00:00:00\", \"2020-05-30T00:00:00\", \"2020-05-31T00:00:00\", \"2020-06-01T00:00:00\", \"2020-06-02T00:00:00\", \"2020-06-03T00:00:00\", \"2020-06-04T00:00:00\", \"2020-06-05T00:00:00\", \"2020-06-06T00:00:00\", \"2020-06-07T00:00:00\", \"2020-06-08T00:00:00\", \"2020-06-09T00:00:00\", \"2020-06-10T00:00:00\", \"2020-06-11T00:00:00\", \"2020-06-12T00:00:00\", \"2020-06-13T00:00:00\", \"2020-06-14T00:00:00\", \"2020-06-15T00:00:00\", \"2020-06-16T00:00:00\", \"2020-06-17T00:00:00\", \"2020-06-18T00:00:00\", \"2020-06-19T00:00:00\", \"2020-06-20T00:00:00\", \"2020-06-21T00:00:00\", \"2020-06-22T00:00:00\", \"2020-06-23T00:00:00\", \"2020-06-24T00:00:00\", \"2020-06-25T00:00:00\", \"2020-06-26T00:00:00\", \"2020-06-27T00:00:00\", \"2020-06-28T00:00:00\", \"2020-06-29T00:00:00\", \"2020-06-30T00:00:00\", \"2020-07-01T00:00:00\", \"2020-07-02T00:00:00\", \"2020-07-03T00:00:00\", \"2020-07-04T00:00:00\", \"2020-07-05T00:00:00\", \"2020-07-06T00:00:00\", \"2020-07-07T00:00:00\", \"2020-07-08T00:00:00\", \"2020-07-09T00:00:00\", \"2020-07-10T00:00:00\", \"2020-07-11T00:00:00\", \"2020-07-12T00:00:00\", \"2020-07-13T00:00:00\", \"2020-07-14T00:00:00\", \"2020-07-15T00:00:00\", \"2020-07-16T00:00:00\", \"2020-07-17T00:00:00\", \"2020-07-18T00:00:00\", \"2020-07-19T00:00:00\", \"2020-07-20T00:00:00\", \"2020-07-21T00:00:00\", \"2020-07-22T00:00:00\", \"2020-07-23T00:00:00\", \"2020-07-24T00:00:00\", \"2020-07-25T00:00:00\", \"2020-07-26T00:00:00\", \"2020-07-27T00:00:00\", \"2020-07-28T00:00:00\", \"2020-07-29T00:00:00\", \"2020-07-30T00:00:00\", \"2020-07-31T00:00:00\", \"2020-08-01T00:00:00\", \"2020-08-02T00:00:00\", \"2020-08-03T00:00:00\", \"2020-08-04T00:00:00\", \"2020-08-05T00:00:00\", \"2020-08-06T00:00:00\", \"2020-08-07T00:00:00\"], \"y\": [0.0, 0.0, 1.0, 0.0, 3.0, 0.0, 0.0, 0.0, 0.0, 1.0, 2.0, 0.0, 3.0, 0.0, 1.0, 0.0, 0.0, 0.0, 0.0, 0.0, 1.0, 0.0, 2.0, 0.0, 0.0, 0.0, 0.0, 0.0, 0.0, 0.0, 20.0, 0.0, 0.0, 18.0, 0.0, 6.0, 1.0, 2.0, 8.0, 6.0, 25.0, 21.0, 31.0, 68.0, 57.0, 139.0, 120.0, 68.0, 354.0, 322.0, 382.0, 516.0, 547.0, 773.0, 1133.0, 1789.0, 1365.0, 5894.0, 5421.0, 6413.0, 8334.0, 9815.0, 10073.0, 12042.0, 18058.0, 17821.0, 19808.0, 19444.0, 20922.0, 26341.0, 25200.0, 30227.0, 31987.0, 33267.0, 28219.0, 29595.0, 29556.0, 32829.0, 32385.0, 35098.0, 29861.0, 28917.0, 25306.0, 27051.0, 28680.0, 31451.0, 31905.0, 32491.0, 26889.0, 25240.0, 27539.0, 28355.0, 28950.0, 36163.0, 32821.0, 27629.0, 22307.0, 24492.0, 27327.0, 29515.0, 34037.0, 29078.0, 25501.0, 22335.0, 23976.0, 24252.0, 28420.0, 26906.0, 25621.0, 19710.0, 18621.0, 21693.0, 20832.0, 27368.0, 25050.0, 24996.0, 18937.0, 21551.0, 20260.0, 23285.0, 25294.0, 23790.0, 21675.0, 20634.0, 19056.0, 18611.0, 18263.0, 22577.0, 24266.0, 24146.0, 20007.0, 20848.0, 20801.0, 19699.0, 21140.0, 29972.0, 23133.0, 18115.0, 17548.0, 18061.0, 20975.0, 22883.0, 25639.0, 25540.0, 19532.0, 19968.0, 23705.0, 25559.0, 27763.0, 31759.0, 32307.0, 26171.0, 31010.0, 34722.0, 34471.0, 40806.0, 45255.0, 42597.0, 38845.0, 41655.0, 44766.0, 50841.0, 53621.0, 54274.0, 45283.0, 49199.0, 47442.0, 60021.0, 58601.0, 63247.0, 66627.0, 61352.0, 59017.0, 59215.0, 67417.0, 66273.0, 78310.0, 71558.0, 63698.0, 61847.0, 61417.0, 64534.0, 70874.0, 68663.0, 73783.0, 65490.0, 55902.0, 56414.0, 65869.0, 70776.0, 68033.0, 67023.0, 58406.0, 47511.0, 45585.0, 57540.0, 52810.0, 59692.0, 58173.0]}, {\"mode\": \"lines\", \"name\": \"Fatality Rate\", \"type\": \"scatter\", \"x\": [\"2020-01-22T00:00:00\", \"2020-01-23T00:00:00\", \"2020-01-24T00:00:00\", \"2020-01-25T00:00:00\", \"2020-01-26T00:00:00\", \"2020-01-27T00:00:00\", \"2020-01-28T00:00:00\", \"2020-01-29T00:00:00\", \"2020-01-30T00:00:00\", \"2020-01-31T00:00:00\", \"2020-02-01T00:00:00\", \"2020-02-02T00:00:00\", \"2020-02-03T00:00:00\", \"2020-02-04T00:00:00\", \"2020-02-05T00:00:00\", \"2020-02-06T00:00:00\", \"2020-02-07T00:00:00\", \"2020-02-08T00:00:00\", \"2020-02-09T00:00:00\", \"2020-02-10T00:00:00\", \"2020-02-11T00:00:00\", \"2020-02-12T00:00:00\", \"2020-02-13T00:00:00\", \"2020-02-14T00:00:00\", \"2020-02-15T00:00:00\", \"2020-02-16T00:00:00\", \"2020-02-17T00:00:00\", \"2020-02-18T00:00:00\", \"2020-02-19T00:00:00\", \"2020-02-20T00:00:00\", \"2020-02-21T00:00:00\", \"2020-02-22T00:00:00\", \"2020-02-23T00:00:00\", \"2020-02-24T00:00:00\", \"2020-02-25T00:00:00\", \"2020-02-26T00:00:00\", \"2020-02-27T00:00:00\", \"2020-02-28T00:00:00\", \"2020-02-29T00:00:00\", \"2020-03-01T00:00:00\", \"2020-03-02T00:00:00\", \"2020-03-03T00:00:00\", \"2020-03-04T00:00:00\", \"2020-03-05T00:00:00\", \"2020-03-06T00:00:00\", \"2020-03-07T00:00:00\", \"2020-03-08T00:00:00\", \"2020-03-09T00:00:00\", \"2020-03-10T00:00:00\", \"2020-03-11T00:00:00\", \"2020-03-12T00:00:00\", \"2020-03-13T00:00:00\", \"2020-03-14T00:00:00\", \"2020-03-15T00:00:00\", \"2020-03-16T00:00:00\", \"2020-03-17T00:00:00\", \"2020-03-18T00:00:00\", \"2020-03-19T00:00:00\", \"2020-03-20T00:00:00\", \"2020-03-21T00:00:00\", \"2020-03-22T00:00:00\", \"2020-03-23T00:00:00\", \"2020-03-24T00:00:00\", \"2020-03-25T00:00:00\", \"2020-03-26T00:00:00\", \"2020-03-27T00:00:00\", \"2020-03-28T00:00:00\", \"2020-03-29T00:00:00\", \"2020-03-30T00:00:00\", \"2020-03-31T00:00:00\", \"2020-04-01T00:00:00\", \"2020-04-02T00:00:00\", \"2020-04-03T00:00:00\", \"2020-04-04T00:00:00\", \"2020-04-05T00:00:00\", \"2020-04-06T00:00:00\", \"2020-04-07T00:00:00\", \"2020-04-08T00:00:00\", \"2020-04-09T00:00:00\", \"2020-04-10T00:00:00\", \"2020-04-11T00:00:00\", \"2020-04-12T00:00:00\", \"2020-04-13T00:00:00\", \"2020-04-14T00:00:00\", \"2020-04-15T00:00:00\", \"2020-04-16T00:00:00\", \"2020-04-17T00:00:00\", \"2020-04-18T00:00:00\", \"2020-04-19T00:00:00\", \"2020-04-20T00:00:00\", \"2020-04-21T00:00:00\", \"2020-04-22T00:00:00\", \"2020-04-23T00:00:00\", \"2020-04-24T00:00:00\", \"2020-04-25T00:00:00\", \"2020-04-26T00:00:00\", \"2020-04-27T00:00:00\", \"2020-04-28T00:00:00\", \"2020-04-29T00:00:00\", \"2020-04-30T00:00:00\", \"2020-05-01T00:00:00\", \"2020-05-02T00:00:00\", \"2020-05-03T00:00:00\", \"2020-05-04T00:00:00\", \"2020-05-05T00:00:00\", \"2020-05-06T00:00:00\", \"2020-05-07T00:00:00\", \"2020-05-08T00:00:00\", \"2020-05-09T00:00:00\", \"2020-05-10T00:00:00\", \"2020-05-11T00:00:00\", \"2020-05-12T00:00:00\", \"2020-05-13T00:00:00\", \"2020-05-14T00:00:00\", \"2020-05-15T00:00:00\", \"2020-05-16T00:00:00\", \"2020-05-17T00:00:00\", \"2020-05-18T00:00:00\", \"2020-05-19T00:00:00\", \"2020-05-20T00:00:00\", \"2020-05-21T00:00:00\", \"2020-05-22T00:00:00\", \"2020-05-23T00:00:00\", \"2020-05-24T00:00:00\", \"2020-05-25T00:00:00\", \"2020-05-26T00:00:00\", \"2020-05-27T00:00:00\", \"2020-05-28T00:00:00\", \"2020-05-29T00:00:00\", \"2020-05-30T00:00:00\", \"2020-05-31T00:00:00\", \"2020-06-01T00:00:00\", \"2020-06-02T00:00:00\", \"2020-06-03T00:00:00\", \"2020-06-04T00:00:00\", \"2020-06-05T00:00:00\", \"2020-06-06T00:00:00\", \"2020-06-07T00:00:00\", \"2020-06-08T00:00:00\", \"2020-06-09T00:00:00\", \"2020-06-10T00:00:00\", \"2020-06-11T00:00:00\", \"2020-06-12T00:00:00\", \"2020-06-13T00:00:00\", \"2020-06-14T00:00:00\", \"2020-06-15T00:00:00\", \"2020-06-16T00:00:00\", \"2020-06-17T00:00:00\", \"2020-06-18T00:00:00\", \"2020-06-19T00:00:00\", \"2020-06-20T00:00:00\", \"2020-06-21T00:00:00\", \"2020-06-22T00:00:00\", \"2020-06-23T00:00:00\", \"2020-06-24T00:00:00\", \"2020-06-25T00:00:00\", \"2020-06-26T00:00:00\", \"2020-06-27T00:00:00\", \"2020-06-28T00:00:00\", \"2020-06-29T00:00:00\", \"2020-06-30T00:00:00\", \"2020-07-01T00:00:00\", \"2020-07-02T00:00:00\", \"2020-07-03T00:00:00\", \"2020-07-04T00:00:00\", \"2020-07-05T00:00:00\", \"2020-07-06T00:00:00\", \"2020-07-07T00:00:00\", \"2020-07-08T00:00:00\", \"2020-07-09T00:00:00\", \"2020-07-10T00:00:00\", \"2020-07-11T00:00:00\", \"2020-07-12T00:00:00\", \"2020-07-13T00:00:00\", \"2020-07-14T00:00:00\", \"2020-07-15T00:00:00\", \"2020-07-16T00:00:00\", \"2020-07-17T00:00:00\", \"2020-07-18T00:00:00\", \"2020-07-19T00:00:00\", \"2020-07-20T00:00:00\", \"2020-07-21T00:00:00\", \"2020-07-22T00:00:00\", \"2020-07-23T00:00:00\", \"2020-07-24T00:00:00\", \"2020-07-25T00:00:00\", \"2020-07-26T00:00:00\", \"2020-07-27T00:00:00\", \"2020-07-28T00:00:00\", \"2020-07-29T00:00:00\", \"2020-07-30T00:00:00\", \"2020-07-31T00:00:00\", \"2020-08-01T00:00:00\", \"2020-08-02T00:00:00\", \"2020-08-03T00:00:00\", \"2020-08-04T00:00:00\", \"2020-08-05T00:00:00\", \"2020-08-06T00:00:00\", \"2020-08-07T00:00:00\"], \"y\": [0.0, 0.0, 0.0, 0.0, 0.0, 0.0, 0.0, 0.0, 0.0, 0.0, 0.0, 0.0, 0.0, 0.0, 0.0, 0.0, 0.0, 0.0, 0.0, 0.0, 0.0, 0.0, 0.0, 0.0, 0.0, 0.0, 0.0, 0.0, 0.0, 0.0, 0.0, 0.0, 0.0, 0.0, 0.0, 0.0, 0.0, 0.0, 1.4285714285714286, 1.3157894736842104, 5.9405940594059405, 5.737704918032787, 7.18954248366013, 5.429864253393665, 5.0359712230215825, 4.07673860911271, 3.910614525139665, 3.6363636363636362, 2.9197080291970803, 2.810304449648712, 2.4052916416115453, 2.1569527306103717, 1.9809244314013204, 1.8005144326950557, 1.8350604490500866, 1.6819809998442612, 1.5155407141022348, 1.461988304093567, 1.2774200303649024, 1.2032609547699302, 1.2615220987946112, 1.2642282939788836, 1.3138305791275866, 1.4320897564535255, 1.4421012452884203, 1.5552298415259156, 1.6679701971761411, 1.7507753230808536, 1.8401913106883105, 2.0582233275939035, 2.229439664060889, 2.4326865052812203, 2.571611039748028, 2.7220069094358803, 2.8536929795414627, 2.9408155083495378, 3.210818150385011, 3.424992774768559, 3.571018362203291, 3.7431399599222615, 3.8871875926108865, 3.965151185007374, 4.052227019784058, 4.250826929089802, 4.451166810717373, 4.929013283897449, 5.255493021354683, 5.28054608254336, 5.356573563469752, 5.366901007999225, 5.474309152383709, 5.5487848420651735, 5.747322157920775, 5.738109623751702, 5.7298695096967025, 5.682539452444286, 5.693712111244928, 5.762990059076697, 5.8627245268576385, 5.890647675758165, 5.885391509079161, 5.860195542934946, 5.844530413457221, 5.838991845811712, 5.9006053882962695, 5.976788270906062, 6.019142052293395, 6.011235823787764, 6.016952388224963, 5.982727231692821, 5.985839996260797, 6.0147169849894935, 6.04995950822997, 6.058652507381289, 6.066574994593935, 6.0466542219073185, 6.023983744485481, 5.989956958393114, 6.013536852792941, 6.021124423511763, 6.0046400240434155, 5.99517657471843, 5.9833774186311945, 5.94676633930647, 5.908673634514066, 5.884480636416043, 5.909805694054059, 5.901891850921706, 5.8881948020038735, 5.8625043428155, 5.830780506007244, 5.8060650903910505, 5.796417881441473, 5.788487296923608, 5.778464857475463, 5.748510484423683, 5.7163776473245695, 5.685947692244377, 5.659703032688429, 5.657470185487265, 5.64489038543058, 5.62533267897202, 5.5963779157105025, 5.564451831406307, 5.526685507278213, 5.493168012124733, 5.47136192533111, 5.441572789593628, 5.405528757177485, 5.359202667612016, 5.308766410996492, 5.259173537779064, 5.207023310124119, 5.165183794612918, 5.1219969993613255, 5.1360298625396785, 5.067325780915027, 5.001252912673381, 4.9353941708813975, 4.869046428870581, 4.834794645401468, 4.767300832608036, 4.698747645425218, 4.632316125852808, 4.566963298345164, 4.498560738895707, 4.437383624475789, 4.388374479072446, 4.331032288287651, 4.274929713343336, 4.21067439810612, 4.152190823879172, 4.090994637727379, 4.029716805725774, 3.976775672038545, 3.928330770328148, 3.868901728867049, 3.8178969574103236, 3.775354561726221, 3.724471677011391, 3.6747032409770104, 3.64163416650189, 3.6067237855108893, 3.57298846078042, 3.5390857843989503, 3.5054874065975254, 3.470422112069586, 3.4498921646481384, 3.4275238590645163, 3.4044186310222178, 3.382747332322584, 3.3606471493661387, 3.342687412724837, 3.317512700957914, 3.2969275746042257, 3.2864885937775097, 3.280547442002202, 3.2784132630515876, 3.2649736783794423]}],\n",
       "                        {\"template\": {\"data\": {\"bar\": [{\"error_x\": {\"color\": \"#2a3f5f\"}, \"error_y\": {\"color\": \"#2a3f5f\"}, \"marker\": {\"line\": {\"color\": \"#E5ECF6\", \"width\": 0.5}}, \"type\": \"bar\"}], \"barpolar\": [{\"marker\": {\"line\": {\"color\": \"#E5ECF6\", \"width\": 0.5}}, \"type\": \"barpolar\"}], \"carpet\": [{\"aaxis\": {\"endlinecolor\": \"#2a3f5f\", \"gridcolor\": \"white\", \"linecolor\": \"white\", \"minorgridcolor\": \"white\", \"startlinecolor\": \"#2a3f5f\"}, \"baxis\": {\"endlinecolor\": \"#2a3f5f\", \"gridcolor\": \"white\", \"linecolor\": \"white\", \"minorgridcolor\": \"white\", \"startlinecolor\": \"#2a3f5f\"}, \"type\": \"carpet\"}], \"choropleth\": [{\"colorbar\": {\"outlinewidth\": 0, \"ticks\": \"\"}, \"type\": \"choropleth\"}], \"contour\": [{\"colorbar\": {\"outlinewidth\": 0, \"ticks\": \"\"}, \"colorscale\": [[0.0, \"#0d0887\"], [0.1111111111111111, \"#46039f\"], [0.2222222222222222, \"#7201a8\"], [0.3333333333333333, \"#9c179e\"], [0.4444444444444444, \"#bd3786\"], [0.5555555555555556, \"#d8576b\"], [0.6666666666666666, \"#ed7953\"], [0.7777777777777778, \"#fb9f3a\"], [0.8888888888888888, \"#fdca26\"], [1.0, \"#f0f921\"]], \"type\": \"contour\"}], \"contourcarpet\": [{\"colorbar\": {\"outlinewidth\": 0, \"ticks\": \"\"}, \"type\": \"contourcarpet\"}], \"heatmap\": [{\"colorbar\": {\"outlinewidth\": 0, \"ticks\": \"\"}, \"colorscale\": [[0.0, \"#0d0887\"], [0.1111111111111111, \"#46039f\"], [0.2222222222222222, \"#7201a8\"], [0.3333333333333333, \"#9c179e\"], [0.4444444444444444, \"#bd3786\"], [0.5555555555555556, \"#d8576b\"], [0.6666666666666666, \"#ed7953\"], [0.7777777777777778, \"#fb9f3a\"], [0.8888888888888888, \"#fdca26\"], [1.0, \"#f0f921\"]], \"type\": \"heatmap\"}], \"heatmapgl\": [{\"colorbar\": {\"outlinewidth\": 0, \"ticks\": \"\"}, \"colorscale\": [[0.0, \"#0d0887\"], [0.1111111111111111, \"#46039f\"], [0.2222222222222222, \"#7201a8\"], [0.3333333333333333, \"#9c179e\"], [0.4444444444444444, \"#bd3786\"], [0.5555555555555556, \"#d8576b\"], [0.6666666666666666, \"#ed7953\"], [0.7777777777777778, \"#fb9f3a\"], [0.8888888888888888, \"#fdca26\"], [1.0, \"#f0f921\"]], \"type\": \"heatmapgl\"}], \"histogram\": [{\"marker\": {\"colorbar\": {\"outlinewidth\": 0, \"ticks\": \"\"}}, \"type\": \"histogram\"}], \"histogram2d\": [{\"colorbar\": {\"outlinewidth\": 0, \"ticks\": \"\"}, \"colorscale\": [[0.0, \"#0d0887\"], [0.1111111111111111, \"#46039f\"], [0.2222222222222222, \"#7201a8\"], [0.3333333333333333, \"#9c179e\"], [0.4444444444444444, \"#bd3786\"], [0.5555555555555556, \"#d8576b\"], [0.6666666666666666, \"#ed7953\"], [0.7777777777777778, \"#fb9f3a\"], [0.8888888888888888, \"#fdca26\"], [1.0, \"#f0f921\"]], \"type\": \"histogram2d\"}], \"histogram2dcontour\": [{\"colorbar\": {\"outlinewidth\": 0, \"ticks\": \"\"}, \"colorscale\": [[0.0, \"#0d0887\"], [0.1111111111111111, \"#46039f\"], [0.2222222222222222, \"#7201a8\"], [0.3333333333333333, \"#9c179e\"], [0.4444444444444444, \"#bd3786\"], [0.5555555555555556, \"#d8576b\"], [0.6666666666666666, \"#ed7953\"], [0.7777777777777778, \"#fb9f3a\"], [0.8888888888888888, \"#fdca26\"], [1.0, \"#f0f921\"]], \"type\": \"histogram2dcontour\"}], \"mesh3d\": [{\"colorbar\": {\"outlinewidth\": 0, \"ticks\": \"\"}, \"type\": \"mesh3d\"}], \"parcoords\": [{\"line\": {\"colorbar\": {\"outlinewidth\": 0, \"ticks\": \"\"}}, \"type\": \"parcoords\"}], \"pie\": [{\"automargin\": true, \"type\": \"pie\"}], \"scatter\": [{\"marker\": {\"colorbar\": {\"outlinewidth\": 0, \"ticks\": \"\"}}, \"type\": \"scatter\"}], \"scatter3d\": [{\"line\": {\"colorbar\": {\"outlinewidth\": 0, \"ticks\": \"\"}}, \"marker\": {\"colorbar\": {\"outlinewidth\": 0, \"ticks\": \"\"}}, \"type\": \"scatter3d\"}], \"scattercarpet\": [{\"marker\": {\"colorbar\": {\"outlinewidth\": 0, \"ticks\": \"\"}}, \"type\": \"scattercarpet\"}], \"scattergeo\": [{\"marker\": {\"colorbar\": {\"outlinewidth\": 0, \"ticks\": \"\"}}, \"type\": \"scattergeo\"}], \"scattergl\": [{\"marker\": {\"colorbar\": {\"outlinewidth\": 0, \"ticks\": \"\"}}, \"type\": \"scattergl\"}], \"scattermapbox\": [{\"marker\": {\"colorbar\": {\"outlinewidth\": 0, \"ticks\": \"\"}}, \"type\": \"scattermapbox\"}], \"scatterpolar\": [{\"marker\": {\"colorbar\": {\"outlinewidth\": 0, \"ticks\": \"\"}}, \"type\": \"scatterpolar\"}], \"scatterpolargl\": [{\"marker\": {\"colorbar\": {\"outlinewidth\": 0, \"ticks\": \"\"}}, \"type\": \"scatterpolargl\"}], \"scatterternary\": [{\"marker\": {\"colorbar\": {\"outlinewidth\": 0, \"ticks\": \"\"}}, \"type\": \"scatterternary\"}], \"surface\": [{\"colorbar\": {\"outlinewidth\": 0, \"ticks\": \"\"}, \"colorscale\": [[0.0, \"#0d0887\"], [0.1111111111111111, \"#46039f\"], [0.2222222222222222, \"#7201a8\"], [0.3333333333333333, \"#9c179e\"], [0.4444444444444444, \"#bd3786\"], [0.5555555555555556, \"#d8576b\"], [0.6666666666666666, \"#ed7953\"], [0.7777777777777778, \"#fb9f3a\"], [0.8888888888888888, \"#fdca26\"], [1.0, \"#f0f921\"]], \"type\": \"surface\"}], \"table\": [{\"cells\": {\"fill\": {\"color\": \"#EBF0F8\"}, \"line\": {\"color\": \"white\"}}, \"header\": {\"fill\": {\"color\": \"#C8D4E3\"}, \"line\": {\"color\": \"white\"}}, \"type\": \"table\"}]}, \"layout\": {\"annotationdefaults\": {\"arrowcolor\": \"#2a3f5f\", \"arrowhead\": 0, \"arrowwidth\": 1}, \"coloraxis\": {\"colorbar\": {\"outlinewidth\": 0, \"ticks\": \"\"}}, \"colorscale\": {\"diverging\": [[0, \"#8e0152\"], [0.1, \"#c51b7d\"], [0.2, \"#de77ae\"], [0.3, \"#f1b6da\"], [0.4, \"#fde0ef\"], [0.5, \"#f7f7f7\"], [0.6, \"#e6f5d0\"], [0.7, \"#b8e186\"], [0.8, \"#7fbc41\"], [0.9, \"#4d9221\"], [1, \"#276419\"]], \"sequential\": [[0.0, \"#0d0887\"], [0.1111111111111111, \"#46039f\"], [0.2222222222222222, \"#7201a8\"], [0.3333333333333333, \"#9c179e\"], [0.4444444444444444, \"#bd3786\"], [0.5555555555555556, \"#d8576b\"], [0.6666666666666666, \"#ed7953\"], [0.7777777777777778, \"#fb9f3a\"], [0.8888888888888888, \"#fdca26\"], [1.0, \"#f0f921\"]], \"sequentialminus\": [[0.0, \"#0d0887\"], [0.1111111111111111, \"#46039f\"], [0.2222222222222222, \"#7201a8\"], [0.3333333333333333, \"#9c179e\"], [0.4444444444444444, \"#bd3786\"], [0.5555555555555556, \"#d8576b\"], [0.6666666666666666, \"#ed7953\"], [0.7777777777777778, \"#fb9f3a\"], [0.8888888888888888, \"#fdca26\"], [1.0, \"#f0f921\"]]}, \"colorway\": [\"#636efa\", \"#EF553B\", \"#00cc96\", \"#ab63fa\", \"#FFA15A\", \"#19d3f3\", \"#FF6692\", \"#B6E880\", \"#FF97FF\", \"#FECB52\"], \"font\": {\"color\": \"#2a3f5f\"}, \"geo\": {\"bgcolor\": \"white\", \"lakecolor\": \"white\", \"landcolor\": \"#E5ECF6\", \"showlakes\": true, \"showland\": true, \"subunitcolor\": \"white\"}, \"hoverlabel\": {\"align\": \"left\"}, \"hovermode\": \"closest\", \"mapbox\": {\"style\": \"light\"}, \"paper_bgcolor\": \"white\", \"plot_bgcolor\": \"#E5ECF6\", \"polar\": {\"angularaxis\": {\"gridcolor\": \"white\", \"linecolor\": \"white\", \"ticks\": \"\"}, \"bgcolor\": \"#E5ECF6\", \"radialaxis\": {\"gridcolor\": \"white\", \"linecolor\": \"white\", \"ticks\": \"\"}}, \"scene\": {\"xaxis\": {\"backgroundcolor\": \"#E5ECF6\", \"gridcolor\": \"white\", \"gridwidth\": 2, \"linecolor\": \"white\", \"showbackground\": true, \"ticks\": \"\", \"zerolinecolor\": \"white\"}, \"yaxis\": {\"backgroundcolor\": \"#E5ECF6\", \"gridcolor\": \"white\", \"gridwidth\": 2, \"linecolor\": \"white\", \"showbackground\": true, \"ticks\": \"\", \"zerolinecolor\": \"white\"}, \"zaxis\": {\"backgroundcolor\": \"#E5ECF6\", \"gridcolor\": \"white\", \"gridwidth\": 2, \"linecolor\": \"white\", \"showbackground\": true, \"ticks\": \"\", \"zerolinecolor\": \"white\"}}, \"shapedefaults\": {\"line\": {\"color\": \"#2a3f5f\"}}, \"ternary\": {\"aaxis\": {\"gridcolor\": \"white\", \"linecolor\": \"white\", \"ticks\": \"\"}, \"baxis\": {\"gridcolor\": \"white\", \"linecolor\": \"white\", \"ticks\": \"\"}, \"bgcolor\": \"#E5ECF6\", \"caxis\": {\"gridcolor\": \"white\", \"linecolor\": \"white\", \"ticks\": \"\"}}, \"title\": {\"x\": 0.05}, \"xaxis\": {\"automargin\": true, \"gridcolor\": \"white\", \"linecolor\": \"white\", \"ticks\": \"\", \"title\": {\"standoff\": 15}, \"zerolinecolor\": \"white\", \"zerolinewidth\": 2}, \"yaxis\": {\"automargin\": true, \"gridcolor\": \"white\", \"linecolor\": \"white\", \"ticks\": \"\", \"title\": {\"standoff\": 15}, \"zerolinecolor\": \"white\", \"zerolinewidth\": 2}}}, \"title\": {\"text\": \"US COVID-19 Cases\"}},\n",
       "                        {\"responsive\": true}\n",
       "                    ).then(function(){\n",
       "                            \n",
       "var gd = document.getElementById('e7c951e5-47a5-4b33-8e27-a46de8908224');\n",
       "var x = new MutationObserver(function (mutations, observer) {{\n",
       "        var display = window.getComputedStyle(gd).display;\n",
       "        if (!display || display === 'none') {{\n",
       "            console.log([gd, 'removed!']);\n",
       "            Plotly.purge(gd);\n",
       "            observer.disconnect();\n",
       "        }}\n",
       "}});\n",
       "\n",
       "// Listen for the removal of the full notebook cells\n",
       "var notebookContainer = gd.closest('#notebook-container');\n",
       "if (notebookContainer) {{\n",
       "    x.observe(notebookContainer, {childList: true});\n",
       "}}\n",
       "\n",
       "// Listen for the clearing of the current output cell\n",
       "var outputEl = gd.closest('.output');\n",
       "if (outputEl) {{\n",
       "    x.observe(outputEl, {childList: true});\n",
       "}}\n",
       "\n",
       "                        })\n",
       "                };\n",
       "                });\n",
       "            </script>\n",
       "        </div>"
      ]
     },
     "metadata": {},
     "output_type": "display_data"
    }
   ],
   "source": [
    "fig = go.Figure()\n",
    "\n",
    "fig.add_trace(go.Scatter(x=bydate_us.index, y=bydate_us['Confirmed'], mode='lines', name='Confirmed'))\n",
    "fig.add_trace(go.Scatter(x=bydate_us.index, y=bydate_us['Deaths'], mode='lines', name='Deaths'))\n",
    "fig.add_trace(go.Scatter(x=bydate_us.index, y=bydate_us['Recovered'], mode='lines', name='Recovered'))\n",
    "fig.add_trace(go.Scatter(x=bydate_us.index, y=bydate_us['Active'], mode='lines', name='Active'))\n",
    "fig.add_trace(go.Scatter(x=bydate_us.index, y=bydate_us['New'], mode='lines', name='New'))\n",
    "fig.add_trace(go.Scatter(x=bydate_us.index, y=bydate_us['Fatality'], mode='lines', name='Fatality Rate'))\n",
    "\n",
    "fig.update_layout(title='US COVID-19 Cases')\n",
    "fig.show()"
   ]
  },
  {
   "cell_type": "markdown",
   "metadata": {},
   "source": [
    "## Combine Data"
   ]
  },
  {
   "cell_type": "code",
   "execution_count": 16,
   "metadata": {},
   "outputs": [
    {
     "data": {
      "text/html": [
       "<div>\n",
       "<style scoped>\n",
       "    .dataframe tbody tr th:only-of-type {\n",
       "        vertical-align: middle;\n",
       "    }\n",
       "\n",
       "    .dataframe tbody tr th {\n",
       "        vertical-align: top;\n",
       "    }\n",
       "\n",
       "    .dataframe thead th {\n",
       "        text-align: right;\n",
       "    }\n",
       "</style>\n",
       "<table border=\"1\" class=\"dataframe\">\n",
       "  <thead>\n",
       "    <tr style=\"text-align: right;\">\n",
       "      <th></th>\n",
       "      <th>Date</th>\n",
       "      <th>Jobnums</th>\n",
       "      <th>Day of week</th>\n",
       "      <th>Weekend</th>\n",
       "      <th>Confirmed</th>\n",
       "      <th>Deaths</th>\n",
       "      <th>Recovered</th>\n",
       "      <th>Active</th>\n",
       "      <th>New</th>\n",
       "      <th>Fatality</th>\n",
       "    </tr>\n",
       "  </thead>\n",
       "  <tbody>\n",
       "    <tr>\n",
       "      <td>2020-06-12</td>\n",
       "      <td>2020-06-12</td>\n",
       "      <td>282</td>\n",
       "      <td>Fri</td>\n",
       "      <td>0</td>\n",
       "      <td>2048986.0</td>\n",
       "      <td>114669.0</td>\n",
       "      <td>547386.0</td>\n",
       "      <td>1386931.0</td>\n",
       "      <td>25639.0</td>\n",
       "      <td>5.596378</td>\n",
       "    </tr>\n",
       "    <tr>\n",
       "      <td>2020-06-13</td>\n",
       "      <td>2020-06-13</td>\n",
       "      <td>330</td>\n",
       "      <td>Sat</td>\n",
       "      <td>1</td>\n",
       "      <td>2074526.0</td>\n",
       "      <td>115436.0</td>\n",
       "      <td>556606.0</td>\n",
       "      <td>1402484.0</td>\n",
       "      <td>25540.0</td>\n",
       "      <td>5.564452</td>\n",
       "    </tr>\n",
       "    <tr>\n",
       "      <td>2020-06-14</td>\n",
       "      <td>2020-06-14</td>\n",
       "      <td>61</td>\n",
       "      <td>Sun</td>\n",
       "      <td>1</td>\n",
       "      <td>2094058.0</td>\n",
       "      <td>115732.0</td>\n",
       "      <td>561816.0</td>\n",
       "      <td>1416510.0</td>\n",
       "      <td>19532.0</td>\n",
       "      <td>5.526686</td>\n",
       "    </tr>\n",
       "    <tr>\n",
       "      <td>2020-06-15</td>\n",
       "      <td>2020-06-15</td>\n",
       "      <td>227</td>\n",
       "      <td>Mon</td>\n",
       "      <td>0</td>\n",
       "      <td>2114026.0</td>\n",
       "      <td>116127.0</td>\n",
       "      <td>576334.0</td>\n",
       "      <td>1421565.0</td>\n",
       "      <td>19968.0</td>\n",
       "      <td>5.493168</td>\n",
       "    </tr>\n",
       "    <tr>\n",
       "      <td>2020-06-16</td>\n",
       "      <td>2020-06-16</td>\n",
       "      <td>576</td>\n",
       "      <td>Tue</td>\n",
       "      <td>0</td>\n",
       "      <td>2137731.0</td>\n",
       "      <td>116963.0</td>\n",
       "      <td>583503.0</td>\n",
       "      <td>1437265.0</td>\n",
       "      <td>23705.0</td>\n",
       "      <td>5.471362</td>\n",
       "    </tr>\n",
       "  </tbody>\n",
       "</table>\n",
       "</div>"
      ],
      "text/plain": [
       "                 Date  Jobnums Day of week  Weekend  Confirmed    Deaths  \\\n",
       "2020-06-12 2020-06-12      282         Fri        0  2048986.0  114669.0   \n",
       "2020-06-13 2020-06-13      330         Sat        1  2074526.0  115436.0   \n",
       "2020-06-14 2020-06-14       61         Sun        1  2094058.0  115732.0   \n",
       "2020-06-15 2020-06-15      227         Mon        0  2114026.0  116127.0   \n",
       "2020-06-16 2020-06-16      576         Tue        0  2137731.0  116963.0   \n",
       "\n",
       "            Recovered     Active      New  Fatality  \n",
       "2020-06-12   547386.0  1386931.0  25639.0  5.596378  \n",
       "2020-06-13   556606.0  1402484.0  25540.0  5.564452  \n",
       "2020-06-14   561816.0  1416510.0  19532.0  5.526686  \n",
       "2020-06-15   576334.0  1421565.0  19968.0  5.493168  \n",
       "2020-06-16   583503.0  1437265.0  23705.0  5.471362  "
      ]
     },
     "execution_count": 16,
     "metadata": {},
     "output_type": "execute_result"
    }
   ],
   "source": [
    "df_covid_trunc1 = bydate_us['2020-06-12':'2020-08-02']\n",
    "df_indeed_trunc = df_date_indeed['2020-06-12':'2020-08-02']\n",
    "\n",
    "df_combined_indeed = pd.concat([df_indeed_trunc, df_covid_trunc1], axis=1)\n",
    "df_combined_indeed.head()"
   ]
  },
  {
   "cell_type": "code",
   "execution_count": 17,
   "metadata": {
    "scrolled": true
   },
   "outputs": [
    {
     "data": {
      "image/png": "[encoded data removed]",
      "text/plain": [
       "<Figure size 792x648 with 4 Axes>"
      ]
     },
     "metadata": {
      "needs_background": "light"
     },
     "output_type": "display_data"
    }
   ],
   "source": [
    "from pylab import rcParams\n",
    "rcParams['figure.figsize'] = 11, 9\n",
    "\n",
    "y=df_combined_indeed['Jobnums']\n",
    "decomposition = sm.tsa.seasonal_decompose(y, model='additive')\n",
    "fig = decomposition.plot()\n",
    "plt.show()"
   ]
  },
  {
   "cell_type": "markdown",
   "metadata": {},
   "source": [
    "### Grid Search"
   ]
  },
  {
   "cell_type": "code",
   "execution_count": 18,
   "metadata": {},
   "outputs": [],
   "source": [
    "def diff_transform(df_train,  d):\n",
    "    \"\"\"take difference\"\"\"\n",
    "    df_diff = df_train.copy()\n",
    "    columns = df_train.columns\n",
    "    if d>0:\n",
    "        for col in columns:        \n",
    "            df_diff[str(col)+'_1d'] = df_diff[col].diff().fillna(0)\n",
    "            df_diff.drop(columns=[col],inplace=True)\n",
    "            if d>1:\n",
    "                df_diff[str(col)+'_2d'] = df_diff[str(col)+'_1d'].diff().fillna(0)\n",
    "                df_diff.drop(columns=[str(col)+'_1d'],inplace=True)\n",
    "            \n",
    "    return df_diff"
   ]
  },
  {
   "cell_type": "code",
   "execution_count": 19,
   "metadata": {},
   "outputs": [],
   "source": [
    "def invert_transform(df_train, df_forecast, d):\n",
    "    \"\"\"Revert back the differencing to get the forecast to original scale.\"\"\"\n",
    "    df_fc = df_forecast.copy()\n",
    "    columns = df_train.columns\n",
    "    if d>0:\n",
    "        for col in columns:        \n",
    "            # Roll back 2nd Diff\n",
    "            if d==2:\n",
    "                df_fc[str(col)+'_1d'] = (df_train[col].iloc[-1]-df_train[col].iloc[-2]) + df_fc[str(col)+'_2d'].cumsum()\n",
    "                df_fc.drop(columns=[str(col)+'_2d'],inplace=True)\n",
    "            # Roll back 1st Diff\n",
    "            df_fc[col] = df_train[col].iloc[-1] + df_fc[str(col)+'_1d'].cumsum()\n",
    "            df_fc.drop(columns=[str(col)+'_1d'],inplace=True)\n",
    "    return df_fc"
   ]
  },
  {
   "cell_type": "code",
   "execution_count": 20,
   "metadata": {},
   "outputs": [],
   "source": [
    "def train_test_split(data, n_test):\n",
    "    return data[:-n_test], data[-n_test:]\n",
    "\n",
    "def measure_rmse(actual, predicted):\n",
    "    return rmse(actual, predicted)\n",
    "\n",
    "def varmax_forecast(train, test_len, config, exog1=None, exog2=None):\n",
    "    order, trend, d= config\n",
    "    #d parameter to take difference\n",
    "    df_diff = diff_transform(train,  d)\n",
    "    try:\n",
    "        model = VARMAX(df_diff, order=order, trend=trend, exog=exog1, initialization='approximate_diffuse')\n",
    "        model_fit = model.fit(disp=False)\n",
    "        yhat_diff = model_fit.forecast(steps=test_len, exog=exog2)\n",
    "        yhat = invert_transform(train, yhat_diff, d)\n",
    "    except:\n",
    "        yhat = None\n",
    "    return yhat\n",
    "\n",
    "def single_validation(data, n_test, cfg, exog=None):\n",
    "    train, test = train_test_split(data, n_test)\n",
    "    if exog is not None:\n",
    "        exog_train, exog_test = train_test_split(exog, n_test)\n",
    "        yhat = varmax_forecast(train, len(test), cfg, exog1=exog_train, exog2=exog_test)\n",
    "    else:\n",
    "        yhat = varmax_forecast(train, len(test), cfg)\n",
    "    if yhat is not None:\n",
    "        error = measure_rmse(test['Jobnums'], yhat['Jobnums'])\n",
    "    else:\n",
    "        error = None\n",
    "    return error\n",
    "\n",
    "def walk_forward_validation(data, n_test, cfg, exog=None):\n",
    "    train, test = train_test_split(data, n_test)\n",
    "    predictions = pd.DataFrame()\n",
    "    history = train.copy()\n",
    "    if exog is not None:\n",
    "        exog_train, exog_test = train_test_split(exog, n_test)\n",
    "        exog_ = [x[:] for x in exog_train.values]\n",
    "        for i in range(len(test)):\n",
    "            yhat = varmax_forecast(history, 1, cfg, exog1=exog_, exog2=np.array(exog_test.iloc[i]).reshape(1,-1))\n",
    "            predictions = predictions.append(yhat)\n",
    "            history = history.append(test.iloc[i])\n",
    "            exog_.append(np.array(exog_test.iloc[i]))\n",
    "        error = measure_rmse(test['Jobnums'], predictions['Jobnums'])\n",
    "        return error\n",
    "    else:\n",
    "        for i in range(len(test)):\n",
    "            yhat = varmax_forecast(history, 1, cfg)\n",
    "            predictions = predictions.append(yhat)\n",
    "            history = history.append(test.iloc[i])\n",
    "        error = measure_rmse(test['Jobnums'], predictions['Jobnums'])\n",
    "        return error\n",
    "\n",
    "def score_model(data, n_test, cfg, method, exog=None, debug=True):\n",
    "    result = None\n",
    "    key = str(cfg)\n",
    "    if debug:\n",
    "        if method=='walk':\n",
    "            result = walk_forward_validation(data, n_test, cfg, exog)\n",
    "        else:\n",
    "            result = single_validation(data, n_test, cfg, exog)\n",
    "    else:\n",
    "        try:\n",
    "            with catch_warnings():\n",
    "                filterwarnings(\"ignore\")\n",
    "                if method=='walk':\n",
    "                    result = walk_forward_validation(data, n_test, cfg, exog)\n",
    "                else:\n",
    "                    result = single_validation(data, n_test, cfg, exog)\n",
    "        except:\n",
    "            error = None\n",
    "    if result is not None:\n",
    "        print('---> Model[%s] %.3f' % (key, result))\n",
    "    return (key, result)\n",
    "\n",
    "def grid_search(data, cfg_list, n_test, method, exog=None, parallel=True):\n",
    "    scores = None\n",
    "    if parallel:\n",
    "        executor = Parallel(n_jobs=cpu_count(), backend='multiprocessing')\n",
    "        tasks = (delayed(score_model)(data, n_test, cfg, method, exog) for cfg in cfg_list)\n",
    "        scores = executor(tasks)\n",
    "    else:\n",
    "        scores = [score_model(data, n_test, cfg, method, exog) for cfg in cfg_list]\n",
    "    scores = [r for r in scores if r[1] != None]\n",
    "    scores.sort(key=lambda tup: tup[1])\n",
    "    return scores\n",
    "\n",
    "def varmax_configs():\n",
    "    models = list()\n",
    "    p_params = [3, 4, 5, 6, 7, 8, 9, 10]\n",
    "    q_params = [0, 1, 2]\n",
    "    t_params = ['n', 'c', 't', 'ct']\n",
    "    d_params = [0, 1, 2]\n",
    "    \n",
    "    for p in p_params:\n",
    "        for q in q_params:\n",
    "            for t in t_params:\n",
    "                for d in d_params:\n",
    "                    cfg = [(p,q), t, d]\n",
    "                    models.append(cfg)\n",
    "    return models"
   ]
  },
  {
   "cell_type": "code",
   "execution_count": 21,
   "metadata": {},
   "outputs": [],
   "source": [
    "def walk_forward_best(data, n_test, cfg, exog=None):\n",
    "    train, test = train_test_split(data, n_test)\n",
    "    predictions = pd.DataFrame()\n",
    "    history = train.copy()\n",
    "    if exog is not None:\n",
    "        exog_train, exog_test = train_test_split(exog, n_test)\n",
    "        exog_ = [x[:] for x in exog_train.values]\n",
    "        for i in range(len(test)):\n",
    "            yhat = varmax_forecast(history, 1, cfg, exog1=exog_, exog2=np.array(exog_test.iloc[i]).reshape(1,-1))\n",
    "            predictions = predictions.append(yhat)\n",
    "            history = history.append(test.iloc[i])\n",
    "            exog_.append(np.array(exog_test.iloc[i]))\n",
    "        error = measure_rmse(test['Jobnums'], predictions['Jobnums'])\n",
    "        return predictions, error\n",
    "    else:\n",
    "        for i in range(len(test)):\n",
    "            yhat = varmax_forecast(history, 1, cfg)\n",
    "            predictions = predictions.append(yhat)\n",
    "            history = history.append(test.iloc[i])\n",
    "        error = measure_rmse(test['Jobnums'], predictions['Jobnums'])\n",
    "        return predictions, error"
   ]
  },
  {
   "cell_type": "markdown",
   "metadata": {},
   "source": [
    "#### No eXog + Walk"
   ]
  },
  {
   "cell_type": "code",
   "execution_count": 22,
   "metadata": {},
   "outputs": [
    {
     "name": "stdout",
     "output_type": "stream",
     "text": [
      "---> Model[[(3, 0), 'n', 0]] 350.734\n",
      "---> Model[[(3, 0), 'n', 1]] 492.777\n",
      "---> Model[[(3, 0), 'n', 2]] 615.051\n",
      "---> Model[[(3, 0), 'c', 0]] 357.137\n",
      "---> Model[[(3, 0), 'c', 1]] 529.812\n",
      "---> Model[[(3, 0), 'c', 2]] 615.149\n",
      "---> Model[[(3, 0), 't', 0]] 380.682\n",
      "---> Model[[(3, 0), 't', 1]] 535.391\n",
      "---> Model[[(3, 0), 't', 2]] 632.641\n",
      "---> Model[[(3, 0), 'ct', 0]] 450.076\n",
      "---> Model[[(3, 0), 'ct', 1]] 537.971\n",
      "---> Model[[(3, 0), 'ct', 2]] 629.137\n",
      "---> Model[[(3, 1), 'n', 0]] 359.047\n",
      "---> Model[[(3, 1), 'n', 1]] 424.749\n",
      "---> Model[[(3, 1), 'n', 2]] 538.536\n",
      "---> Model[[(3, 1), 'c', 0]] 390.284\n",
      "---> Model[[(3, 1), 'c', 1]] 495.343\n",
      "---> Model[[(3, 1), 'c', 2]] 520.422\n",
      "---> Model[[(3, 1), 't', 0]] 360.413\n",
      "---> Model[[(3, 1), 't', 1]] 512.307\n",
      "---> Model[[(3, 1), 't', 2]] 543.866\n",
      "---> Model[[(3, 1), 'ct', 0]] 402.844\n",
      "---> Model[[(3, 1), 'ct', 1]] 494.913\n",
      "---> Model[[(3, 1), 'ct', 2]] 566.529\n",
      "---> Model[[(3, 2), 'n', 0]] 383.710\n",
      "---> Model[[(3, 2), 'n', 1]] 397.400\n",
      "---> Model[[(3, 2), 'n', 2]] 574.405\n",
      "---> Model[[(3, 2), 'c', 0]] 372.970\n",
      "---> Model[[(3, 2), 'c', 1]] 371.221\n",
      "---> Model[[(3, 2), 'c', 2]] 558.290\n",
      "---> Model[[(3, 2), 't', 0]] 377.755\n",
      "---> Model[[(3, 2), 't', 1]] 431.312\n",
      "---> Model[[(3, 2), 't', 2]] 574.142\n",
      "---> Model[[(3, 2), 'ct', 0]] 445.886\n",
      "---> Model[[(3, 2), 'ct', 1]] 348.808\n",
      "---> Model[[(3, 2), 'ct', 2]] 556.908\n",
      "---> Model[[(4, 0), 'n', 0]] 335.722\n",
      "---> Model[[(4, 0), 'n', 1]] 438.425\n",
      "---> Model[[(4, 0), 'n', 2]] 652.561\n",
      "---> Model[[(4, 0), 'c', 0]] 361.523\n",
      "---> Model[[(4, 0), 'c', 1]] 465.519\n",
      "---> Model[[(4, 0), 'c', 2]] 649.870\n",
      "---> Model[[(4, 0), 't', 0]] 429.647\n",
      "---> Model[[(4, 0), 't', 1]] 474.749\n",
      "---> Model[[(4, 0), 't', 2]] 673.940\n",
      "---> Model[[(4, 0), 'ct', 0]] 443.173\n",
      "---> Model[[(4, 0), 'ct', 1]] 478.726\n",
      "---> Model[[(4, 0), 'ct', 2]] 665.433\n",
      "---> Model[[(4, 1), 'n', 0]] 357.412\n",
      "---> Model[[(4, 1), 'n', 1]] 413.626\n",
      "---> Model[[(4, 1), 'n', 2]] 437.181\n",
      "---> Model[[(4, 1), 'c', 0]] 412.395\n",
      "---> Model[[(4, 1), 'c', 1]] 432.064\n",
      "---> Model[[(4, 1), 'c', 2]] 452.089\n",
      "---> Model[[(4, 1), 't', 0]] 447.138\n",
      "---> Model[[(4, 1), 't', 1]] 424.223\n",
      "---> Model[[(4, 1), 't', 2]] 472.161\n",
      "---> Model[[(4, 1), 'ct', 0]] 432.526\n",
      "---> Model[[(4, 1), 'ct', 1]] 384.792\n",
      "---> Model[[(4, 1), 'ct', 2]] 499.893\n",
      "---> Model[[(4, 2), 'n', 0]] 304.803\n",
      "---> Model[[(4, 2), 'n', 1]] 392.840\n",
      "---> Model[[(4, 2), 'n', 2]] 399.425\n",
      "---> Model[[(4, 2), 'c', 0]] 456.271\n",
      "---> Model[[(4, 2), 'c', 1]] 411.879\n",
      "---> Model[[(4, 2), 'c', 2]] 402.947\n",
      "---> Model[[(4, 2), 't', 0]] 493.067\n",
      "---> Model[[(4, 2), 't', 1]] 402.844\n",
      "---> Model[[(4, 2), 't', 2]] 426.460\n",
      "---> Model[[(4, 2), 'ct', 0]] 421.802\n",
      "---> Model[[(4, 2), 'ct', 1]] 386.298\n",
      "---> Model[[(4, 2), 'ct', 2]] 409.951\n",
      "---> Model[[(5, 0), 'n', 0]] 354.825\n",
      "---> Model[[(5, 0), 'n', 1]] 356.015\n",
      "---> Model[[(5, 0), 'n', 2]] 464.017\n",
      "---> Model[[(5, 0), 'c', 0]] 353.317\n",
      "---> Model[[(5, 0), 'c', 1]] 341.418\n",
      "---> Model[[(5, 0), 'c', 2]] 464.773\n",
      "---> Model[[(5, 0), 't', 0]] 417.085\n",
      "---> Model[[(5, 0), 't', 1]] 369.602\n",
      "---> Model[[(5, 0), 't', 2]] 495.400\n",
      "---> Model[[(5, 0), 'ct', 0]] 464.569\n",
      "---> Model[[(5, 0), 'ct', 1]] 318.646\n",
      "---> Model[[(5, 0), 'ct', 2]] 486.591\n",
      "---> Model[[(5, 1), 'n', 0]] 365.458\n",
      "---> Model[[(5, 1), 'n', 1]] 360.432\n",
      "---> Model[[(5, 1), 'n', 2]] 342.824\n",
      "---> Model[[(5, 1), 'c', 0]] 390.496\n",
      "---> Model[[(5, 1), 'c', 1]] 345.817\n",
      "---> Model[[(5, 1), 'c', 2]] 330.945\n",
      "---> Model[[(5, 1), 't', 0]] 355.038\n",
      "---> Model[[(5, 1), 't', 1]] 371.676\n",
      "---> Model[[(5, 1), 't', 2]] 333.474\n",
      "---> Model[[(5, 1), 'ct', 0]] 446.764\n",
      "---> Model[[(5, 1), 'ct', 1]] 370.654\n",
      "---> Model[[(5, 1), 'ct', 2]] 375.502\n",
      "---> Model[[(5, 2), 'n', 0]] 342.663\n",
      "---> Model[[(5, 2), 'n', 1]] 403.691\n",
      "---> Model[[(5, 2), 'n', 2]] 376.502\n",
      "---> Model[[(5, 2), 'c', 0]] 424.096\n",
      "---> Model[[(5, 2), 'c', 1]] 445.984\n",
      "---> Model[[(5, 2), 'c', 2]] 358.968\n",
      "---> Model[[(5, 2), 't', 0]] 384.093\n",
      "---> Model[[(5, 2), 't', 1]] 427.357\n",
      "---> Model[[(5, 2), 't', 2]] 370.515\n",
      "---> Model[[(5, 2), 'ct', 0]] 436.498\n",
      "---> Model[[(5, 2), 'ct', 1]] 396.850\n",
      "---> Model[[(5, 2), 'ct', 2]] 392.770\n",
      "---> Model[[(6, 0), 'n', 0]] 305.507\n",
      "---> Model[[(6, 0), 'n', 1]] 357.838\n",
      "---> Model[[(6, 0), 'n', 2]] 392.766\n",
      "---> Model[[(6, 0), 'c', 0]] 283.061\n",
      "---> Model[[(6, 0), 'c', 1]] 348.175\n",
      "---> Model[[(6, 0), 'c', 2]] 372.076\n",
      "---> Model[[(6, 0), 't', 0]] 328.638\n",
      "---> Model[[(6, 0), 't', 1]] 404.367\n",
      "---> Model[[(6, 0), 't', 2]] 405.592\n",
      "---> Model[[(6, 0), 'ct', 0]] 342.986\n",
      "---> Model[[(6, 0), 'ct', 1]] 362.900\n",
      "---> Model[[(6, 0), 'ct', 2]] 375.515\n",
      "---> Model[[(6, 1), 'n', 0]] 328.538\n",
      "---> Model[[(6, 1), 'n', 1]] 387.141\n",
      "---> Model[[(6, 1), 'n', 2]] 482.613\n",
      "---> Model[[(6, 1), 'c', 0]] 351.129\n",
      "---> Model[[(6, 1), 'c', 1]] 392.564\n",
      "---> Model[[(6, 1), 'c', 2]] 448.118\n",
      "---> Model[[(6, 1), 't', 0]] 341.307\n",
      "---> Model[[(6, 1), 't', 1]] 400.903\n",
      "---> Model[[(6, 1), 't', 2]] 442.085\n",
      "---> Model[[(6, 1), 'ct', 0]] 365.792\n",
      "---> Model[[(6, 1), 'ct', 1]] 384.464\n",
      "---> Model[[(6, 1), 'ct', 2]] 381.268\n",
      "---> Model[[(6, 2), 'n', 0]] 361.211\n",
      "---> Model[[(6, 2), 'n', 1]] 432.276\n",
      "---> Model[[(6, 2), 'n', 2]] 418.773\n",
      "---> Model[[(6, 2), 'c', 0]] 361.559\n",
      "---> Model[[(6, 2), 'c', 1]] 419.289\n",
      "---> Model[[(6, 2), 'c', 2]] 376.421\n",
      "---> Model[[(6, 2), 't', 0]] 341.171\n",
      "---> Model[[(6, 2), 't', 1]] 402.654\n",
      "---> Model[[(6, 2), 't', 2]] 377.112\n",
      "---> Model[[(6, 2), 'ct', 0]] 413.152\n",
      "---> Model[[(6, 2), 'ct', 1]] 339.371\n",
      "---> Model[[(6, 2), 'ct', 2]] 363.250\n",
      "---> Model[[(7, 0), 'n', 0]] 309.433\n",
      "---> Model[[(7, 0), 'n', 1]] 343.068\n",
      "---> Model[[(7, 0), 'n', 2]] 491.605\n",
      "---> Model[[(7, 0), 'c', 0]] 292.172\n",
      "---> Model[[(7, 0), 'c', 1]] 371.657\n",
      "---> Model[[(7, 0), 'c', 2]] 485.499\n",
      "---> Model[[(7, 0), 't', 0]] 325.029\n",
      "---> Model[[(7, 0), 't', 1]] 403.314\n",
      "---> Model[[(7, 0), 't', 2]] 485.202\n",
      "---> Model[[(7, 0), 'ct', 0]] 384.252\n",
      "---> Model[[(7, 0), 'ct', 1]] 385.543\n",
      "---> Model[[(7, 0), 'ct', 2]] 464.248\n",
      "---> Model[[(7, 1), 'n', 0]] 344.224\n",
      "---> Model[[(7, 1), 'n', 1]] 445.702\n",
      "---> Model[[(7, 1), 'n', 2]] 521.077\n",
      "---> Model[[(7, 1), 'c', 0]] 329.321\n",
      "---> Model[[(7, 1), 'c', 1]] 485.598\n",
      "---> Model[[(7, 1), 'c', 2]] 508.738\n",
      "---> Model[[(7, 1), 't', 0]] 329.277\n",
      "---> Model[[(7, 1), 't', 1]] 441.302\n",
      "---> Model[[(7, 1), 't', 2]] 516.369\n",
      "---> Model[[(7, 1), 'ct', 0]] 353.513\n",
      "---> Model[[(7, 1), 'ct', 1]] 412.751\n",
      "---> Model[[(7, 1), 'ct', 2]] 503.871\n",
      "---> Model[[(7, 2), 'n', 0]] 345.866\n",
      "---> Model[[(7, 2), 'n', 1]] 447.490\n",
      "---> Model[[(7, 2), 'n', 2]] 482.877\n",
      "---> Model[[(7, 2), 'c', 0]] 336.012\n",
      "---> Model[[(7, 2), 'c', 1]] 448.615\n",
      "---> Model[[(7, 2), 'c', 2]] 462.506\n",
      "---> Model[[(7, 2), 't', 0]] 334.830\n",
      "---> Model[[(7, 2), 't', 1]] 441.108\n",
      "---> Model[[(7, 2), 't', 2]] 462.304\n",
      "---> Model[[(7, 2), 'ct', 0]] 418.703\n",
      "---> Model[[(7, 2), 'ct', 1]] 462.639\n",
      "---> Model[[(7, 2), 'ct', 2]] 426.940\n",
      "---> Model[[(8, 0), 'n', 0]] 365.448\n",
      "---> Model[[(8, 0), 'n', 1]] 404.681\n",
      "---> Model[[(8, 0), 'n', 2]] 522.561\n",
      "---> Model[[(8, 0), 'c', 0]] 276.589\n",
      "---> Model[[(8, 0), 'c', 1]] 412.573\n",
      "---> Model[[(8, 0), 'c', 2]] 503.763\n",
      "---> Model[[(8, 0), 't', 0]] 297.979\n",
      "---> Model[[(8, 0), 't', 1]] 429.206\n",
      "---> Model[[(8, 0), 't', 2]] 517.218\n",
      "---> Model[[(8, 0), 'ct', 0]] 395.776\n",
      "---> Model[[(8, 0), 'ct', 1]] 440.257\n",
      "---> Model[[(8, 0), 'ct', 2]] 502.310\n",
      "---> Model[[(8, 1), 'n', 0]] 323.698\n",
      "---> Model[[(8, 1), 'n', 1]] 432.834\n",
      "---> Model[[(8, 1), 'n', 2]] 429.219\n",
      "---> Model[[(8, 1), 'c', 0]] 326.219\n",
      "---> Model[[(8, 1), 'c', 1]] 439.217\n",
      "---> Model[[(8, 1), 'c', 2]] 463.467\n",
      "---> Model[[(8, 1), 't', 0]] 350.411\n",
      "---> Model[[(8, 1), 't', 1]] 432.355\n",
      "---> Model[[(8, 1), 't', 2]] 509.552\n",
      "---> Model[[(8, 1), 'ct', 0]] 404.173\n",
      "---> Model[[(8, 1), 'ct', 1]] 488.385\n",
      "---> Model[[(8, 1), 'ct', 2]] 442.941\n",
      "---> Model[[(8, 2), 'n', 0]] 347.388\n",
      "---> Model[[(8, 2), 'n', 1]] 431.338\n",
      "---> Model[[(8, 2), 'n', 2]] 482.969\n",
      "---> Model[[(8, 2), 'c', 0]] 306.453\n",
      "---> Model[[(8, 2), 'c', 1]] 451.910\n",
      "---> Model[[(8, 2), 'c', 2]] 484.720\n",
      "---> Model[[(8, 2), 't', 0]] 320.311\n",
      "---> Model[[(8, 2), 't', 1]] 446.454\n",
      "---> Model[[(8, 2), 't', 2]] 498.854\n",
      "---> Model[[(8, 2), 'ct', 0]] 388.990\n",
      "---> Model[[(8, 2), 'ct', 1]] 493.898\n",
      "---> Model[[(8, 2), 'ct', 2]] 516.056\n",
      "---> Model[[(9, 0), 'n', 0]] 319.185\n",
      "---> Model[[(9, 0), 'n', 1]] 432.657\n",
      "---> Model[[(9, 0), 'n', 2]] 489.467\n",
      "---> Model[[(9, 0), 'c', 0]] 340.379\n"
     ]
    },
    {
     "name": "stdout",
     "output_type": "stream",
     "text": [
      "---> Model[[(9, 0), 'c', 1]] 442.359\n",
      "---> Model[[(9, 0), 'c', 2]] 494.399\n",
      "---> Model[[(9, 0), 't', 0]] 284.400\n",
      "---> Model[[(9, 0), 't', 1]] 453.199\n",
      "---> Model[[(9, 0), 't', 2]] 505.900\n",
      "---> Model[[(9, 0), 'ct', 0]] 360.186\n",
      "---> Model[[(9, 0), 'ct', 1]] 442.113\n",
      "---> Model[[(9, 0), 'ct', 2]] 495.779\n",
      "---> Model[[(9, 1), 'n', 0]] 341.023\n",
      "---> Model[[(9, 1), 'n', 1]] 439.664\n",
      "---> Model[[(9, 1), 'n', 2]] 505.037\n",
      "---> Model[[(9, 1), 'c', 0]] 412.563\n",
      "---> Model[[(9, 1), 'c', 1]] 449.878\n",
      "---> Model[[(9, 1), 'c', 2]] 495.055\n",
      "---> Model[[(9, 1), 't', 0]] 295.990\n",
      "---> Model[[(9, 1), 't', 1]] 451.089\n",
      "---> Model[[(9, 1), 't', 2]] 499.203\n",
      "---> Model[[(9, 1), 'ct', 0]] 359.315\n",
      "---> Model[[(9, 1), 'ct', 1]] 435.122\n",
      "---> Model[[(9, 1), 'ct', 2]] 495.163\n",
      "---> Model[[(9, 2), 'n', 0]] 371.895\n",
      "---> Model[[(9, 2), 'n', 1]] 448.138\n",
      "---> Model[[(9, 2), 'n', 2]] 507.370\n",
      "---> Model[[(9, 2), 'c', 0]] 379.342\n",
      "---> Model[[(9, 2), 'c', 1]] 434.502\n",
      "---> Model[[(9, 2), 'c', 2]] 504.488\n",
      "---> Model[[(9, 2), 't', 0]] 265.391\n",
      "---> Model[[(9, 2), 't', 1]] 455.976\n",
      "---> Model[[(9, 2), 't', 2]] 512.580\n",
      "---> Model[[(9, 2), 'ct', 0]] 326.762\n",
      "---> Model[[(9, 2), 'ct', 1]] 428.942\n",
      "---> Model[[(9, 2), 'ct', 2]] 525.451\n",
      "---> Model[[(10, 0), 'n', 0]] 330.729\n",
      "---> Model[[(10, 0), 'n', 1]] 430.572\n",
      "---> Model[[(10, 0), 'n', 2]] 533.558\n",
      "---> Model[[(10, 0), 'c', 0]] 366.870\n",
      "---> Model[[(10, 0), 'c', 1]] 449.570\n",
      "---> Model[[(10, 0), 'c', 2]] 532.958\n",
      "---> Model[[(10, 0), 't', 0]] 545.479\n",
      "---> Model[[(10, 0), 't', 1]] 451.313\n",
      "---> Model[[(10, 0), 't', 2]] 532.789\n",
      "---> Model[[(10, 0), 'ct', 0]] 316.688\n",
      "---> Model[[(10, 0), 'ct', 1]] 430.994\n",
      "---> Model[[(10, 0), 'ct', 2]] 529.618\n",
      "---> Model[[(10, 1), 'n', 0]] 374.811\n",
      "---> Model[[(10, 1), 'n', 1]] 428.135\n",
      "---> Model[[(10, 1), 'n', 2]] 524.923\n",
      "---> Model[[(10, 1), 'c', 0]] 450.001\n",
      "---> Model[[(10, 1), 'c', 1]] 439.221\n",
      "---> Model[[(10, 1), 'c', 2]] 484.104\n",
      "---> Model[[(10, 1), 't', 0]] 371.138\n",
      "---> Model[[(10, 1), 't', 1]] 424.741\n",
      "---> Model[[(10, 1), 't', 2]] 518.559\n",
      "---> Model[[(10, 1), 'ct', 0]] 372.252\n",
      "---> Model[[(10, 1), 'ct', 1]] 438.402\n",
      "---> Model[[(10, 1), 'ct', 2]] 511.099\n",
      "---> Model[[(10, 2), 'n', 0]] 329.079\n",
      "---> Model[[(10, 2), 'n', 1]] 426.429\n",
      "---> Model[[(10, 2), 'n', 2]] 525.566\n",
      "---> Model[[(10, 2), 'c', 0]] 486.366\n",
      "---> Model[[(10, 2), 'c', 1]] 426.054\n",
      "---> Model[[(10, 2), 'c', 2]] 490.207\n",
      "---> Model[[(10, 2), 't', 0]] 363.483\n",
      "---> Model[[(10, 2), 't', 1]] 458.678\n",
      "---> Model[[(10, 2), 't', 2]] 516.893\n",
      "---> Model[[(10, 2), 'ct', 0]] 412.246\n",
      "---> Model[[(10, 2), 'ct', 1]] 428.703\n",
      "---> Model[[(10, 2), 'ct', 2]] 504.624\n",
      "n_test:7, method:walk, best_cfg parameters are:[(9, 2), 't', 0], rmse:265.39055318525686\n"
     ]
    }
   ],
   "source": [
    "n_test = 7\n",
    "cfg_list = varmax_configs()\n",
    "method = 'walk'\n",
    "scores = grid_search(df_combined_indeed[['New','Jobnums']], cfg_list, n_test, method, exog=None, parallel=False)\n",
    "print('n_test:{}, method:{}, best_cfg parameters are:{}, rmse:{}'.format(n_test,method,scores[0][0],scores[0][1]))"
   ]
  },
  {
   "cell_type": "code",
   "execution_count": 42,
   "metadata": {},
   "outputs": [],
   "source": [
    "best_cfg = [(9, 2), 't', 0]\n",
    "n_test = 7\n",
    "indeed_data = df_combined_indeed[['New','Jobnums']]\n",
    "train, test = train_test_split(indeed_data, n_test)\n",
    "yhat_varma, error = walk_forward_best(indeed_data, n_test, best_cfg)"
   ]
  },
  {
   "cell_type": "markdown",
   "metadata": {},
   "source": [
    "#### X=weekend + Walk"
   ]
  },
  {
   "cell_type": "code",
   "execution_count": 23,
   "metadata": {},
   "outputs": [
    {
     "name": "stdout",
     "output_type": "stream",
     "text": [
      "---> Model[[(3, 0), 'n', 1]] 338.615\n",
      "---> Model[[(3, 0), 'n', 2]] 543.558\n",
      "---> Model[[(3, 0), 'n', 0]] 275.021\n",
      "---> Model[[(3, 0), 'c', 0]] 252.424\n",
      "---> Model[[(3, 0), 'c', 1]] 197.003\n",
      "---> Model[[(3, 0), 'c', 2]] 523.515\n",
      "---> Model[[(3, 0), 't', 0]] 312.920\n",
      "---> Model[[(3, 0), 't', 1]] 277.230\n",
      "---> Model[[(3, 0), 't', 2]] 570.018\n",
      "---> Model[[(3, 0), 'ct', 0]] 367.550\n",
      "---> Model[[(3, 0), 'ct', 1]] 157.545\n",
      "---> Model[[(3, 0), 'ct', 2]] 528.608\n",
      "---> Model[[(3, 1), 'n', 0]] 281.873\n",
      "---> Model[[(3, 1), 'n', 2]] 457.896\n",
      "---> Model[[(3, 1), 'n', 1]] 348.135\n",
      "---> Model[[(3, 1), 'c', 0]] 285.102\n",
      "---> Model[[(3, 1), 'c', 1]] 121.290\n",
      "---> Model[[(3, 1), 't', 0]] 291.274\n",
      "---> Model[[(3, 1), 'c', 2]] 495.679\n",
      "---> Model[[(3, 1), 't', 1]] 275.634\n",
      "---> Model[[(3, 1), 't', 2]] 419.120\n",
      "---> Model[[(3, 1), 'ct', 0]] 291.717\n",
      "---> Model[[(3, 1), 'ct', 1]] 152.665\n",
      "---> Model[[(3, 1), 'ct', 2]] 503.338\n",
      "---> Model[[(3, 2), 'n', 0]] 304.162\n",
      "---> Model[[(3, 2), 'n', 1]] 334.048\n",
      "---> Model[[(3, 2), 'n', 2]] 463.140\n",
      "---> Model[[(3, 2), 'c', 0]] 280.838\n",
      "---> Model[[(3, 2), 'c', 1]] 133.023\n",
      "---> Model[[(3, 2), 'c', 2]] 378.972\n",
      "---> Model[[(3, 2), 't', 0]] 333.760\n",
      "---> Model[[(3, 2), 't', 1]] 247.716\n",
      "---> Model[[(3, 2), 't', 2]] 434.752\n",
      "---> Model[[(3, 2), 'ct', 0]] 329.355\n",
      "---> Model[[(3, 2), 'ct', 1]] 205.216\n",
      "---> Model[[(3, 2), 'ct', 2]] 398.461\n",
      "---> Model[[(4, 0), 'n', 0]] 266.672\n",
      "---> Model[[(4, 0), 'n', 1]] 346.069\n",
      "---> Model[[(4, 0), 'n', 2]] 498.577\n",
      "---> Model[[(4, 0), 'c', 0]] 245.639\n",
      "---> Model[[(4, 0), 'c', 1]] 191.856\n",
      "---> Model[[(4, 0), 'c', 2]] 388.677\n",
      "---> Model[[(4, 0), 't', 0]] 317.757\n",
      "---> Model[[(4, 0), 't', 1]] 260.495\n",
      "---> Model[[(4, 0), 't', 2]] 523.598\n",
      "---> Model[[(4, 0), 'ct', 0]] 324.470\n",
      "---> Model[[(4, 0), 'ct', 1]] 225.618\n",
      "---> Model[[(4, 0), 'ct', 2]] 456.871\n",
      "---> Model[[(4, 1), 'n', 0]] 280.819\n",
      "---> Model[[(4, 1), 'n', 1]] 363.586\n",
      "---> Model[[(4, 1), 'n', 2]] 362.185\n",
      "---> Model[[(4, 1), 'c', 0]] 284.598\n",
      "---> Model[[(4, 1), 'c', 1]] 187.552\n",
      "---> Model[[(4, 1), 'c', 2]] 354.587\n",
      "---> Model[[(4, 1), 't', 0]] 297.682\n",
      "---> Model[[(4, 1), 't', 1]] 278.416\n",
      "---> Model[[(4, 1), 't', 2]] 342.844\n",
      "---> Model[[(4, 1), 'ct', 0]] 287.826\n",
      "---> Model[[(4, 1), 'ct', 1]] 196.847\n",
      "---> Model[[(4, 1), 'ct', 2]] 323.880\n",
      "---> Model[[(4, 2), 'n', 0]] 310.647\n",
      "---> Model[[(4, 2), 'n', 1]] 281.767\n",
      "---> Model[[(4, 2), 'n', 2]] 453.303\n",
      "---> Model[[(4, 2), 'c', 0]] 307.886\n",
      "---> Model[[(4, 2), 'c', 1]] 258.209\n",
      "---> Model[[(4, 2), 'c', 2]] 368.915\n",
      "---> Model[[(4, 2), 't', 0]] 328.030\n",
      "---> Model[[(4, 2), 't', 1]] 224.221\n",
      "---> Model[[(4, 2), 't', 2]] 401.222\n",
      "---> Model[[(4, 2), 'ct', 0]] 287.010\n",
      "---> Model[[(4, 2), 'ct', 1]] 274.283\n",
      "---> Model[[(5, 0), 'n', 0]] 344.865\n",
      "---> Model[[(4, 2), 'ct', 2]] 468.214\n",
      "---> Model[[(5, 0), 'n', 1]] 360.081\n",
      "---> Model[[(5, 0), 'n', 2]] 358.356\n",
      "---> Model[[(5, 0), 'c', 0]] 223.491\n",
      "---> Model[[(5, 0), 'c', 1]] 269.961\n",
      "---> Model[[(5, 0), 'c', 2]] 282.473\n",
      "---> Model[[(5, 0), 't', 0]] 325.311\n",
      "---> Model[[(5, 0), 't', 1]] 251.697\n",
      "---> Model[[(5, 0), 't', 2]] 356.786\n",
      "---> Model[[(5, 0), 'ct', 0]] 317.858\n",
      "---> Model[[(5, 0), 'ct', 1]] 317.096\n",
      "---> Model[[(5, 0), 'ct', 2]] 272.389\n",
      "---> Model[[(5, 1), 'n', 0]] 364.036\n",
      "---> Model[[(5, 1), 'n', 1]] 344.706\n",
      "---> Model[[(5, 1), 'n', 2]] 322.750\n",
      "---> Model[[(5, 1), 'c', 0]] 243.478\n",
      "---> Model[[(5, 1), 'c', 1]] 230.559\n",
      "---> Model[[(5, 1), 'c', 2]] 260.660\n",
      "---> Model[[(5, 1), 't', 0]] 320.458\n",
      "---> Model[[(5, 1), 't', 1]] 242.583\n",
      "---> Model[[(5, 1), 't', 2]] 290.895\n",
      "---> Model[[(5, 1), 'ct', 0]] 264.683\n",
      "---> Model[[(5, 1), 'ct', 1]] 265.622\n",
      "---> Model[[(5, 1), 'ct', 2]] 283.773\n",
      "---> Model[[(5, 2), 'n', 0]] 440.879\n",
      "---> Model[[(5, 2), 'n', 1]] 393.911\n",
      "---> Model[[(5, 2), 'n', 2]] 299.444\n",
      "---> Model[[(5, 2), 'c', 0]] 241.992\n",
      "---> Model[[(5, 2), 'c', 1]] 342.736\n",
      "---> Model[[(5, 2), 'c', 2]] 321.512\n",
      "---> Model[[(5, 2), 't', 0]] 344.960\n",
      "---> Model[[(5, 2), 't', 1]] 337.106\n",
      "---> Model[[(5, 2), 't', 2]] 269.940\n",
      "---> Model[[(5, 2), 'ct', 0]] 262.199\n",
      "---> Model[[(5, 2), 'ct', 1]] 285.371\n",
      "---> Model[[(6, 0), 'n', 0]] 298.615\n",
      "---> Model[[(5, 2), 'ct', 2]] 358.383\n",
      "---> Model[[(6, 0), 'n', 1]] 351.454\n",
      "---> Model[[(6, 0), 'n', 2]] 359.591\n",
      "---> Model[[(6, 0), 'c', 0]] 215.685\n",
      "---> Model[[(6, 0), 'c', 1]] 276.260\n",
      "---> Model[[(6, 0), 'c', 2]] 262.236\n",
      "---> Model[[(6, 0), 't', 0]] 299.844\n",
      "---> Model[[(6, 0), 't', 1]] 266.211\n",
      "---> Model[[(6, 0), 't', 2]] 379.001\n",
      "---> Model[[(6, 0), 'ct', 0]] 258.777\n",
      "---> Model[[(6, 0), 'ct', 1]] 374.696\n",
      "---> Model[[(6, 0), 'ct', 2]] 262.850\n",
      "---> Model[[(6, 1), 'n', 0]] 301.221\n",
      "---> Model[[(6, 1), 'n', 1]] 336.188\n",
      "---> Model[[(6, 1), 'n', 2]] 327.257\n",
      "---> Model[[(6, 1), 'c', 0]] 260.243\n",
      "---> Model[[(6, 1), 'c', 1]] 275.705\n",
      "---> Model[[(6, 1), 'c', 2]] 265.840\n",
      "---> Model[[(6, 1), 't', 0]] 289.298\n",
      "---> Model[[(6, 1), 't', 1]] 278.462\n",
      "---> Model[[(6, 1), 't', 2]] 343.688\n",
      "---> Model[[(6, 1), 'ct', 0]] 258.344\n",
      "---> Model[[(6, 1), 'ct', 1]] 330.051\n",
      "---> Model[[(6, 1), 'ct', 2]] 238.157\n",
      "---> Model[[(6, 2), 'n', 0]] 356.185\n",
      "---> Model[[(6, 2), 'n', 1]] 389.522\n",
      "---> Model[[(6, 2), 'n', 2]] 258.090\n",
      "---> Model[[(6, 2), 'c', 0]] 290.603\n",
      "---> Model[[(6, 2), 'c', 1]] 264.755\n",
      "---> Model[[(6, 2), 'c', 2]] 378.170\n",
      "---> Model[[(6, 2), 't', 0]] 327.266\n",
      "---> Model[[(6, 2), 't', 1]] 335.305\n",
      "---> Model[[(6, 2), 't', 2]] 301.898\n",
      "---> Model[[(6, 2), 'ct', 0]] 312.520\n",
      "---> Model[[(6, 2), 'ct', 1]] 373.390\n",
      "---> Model[[(7, 0), 'n', 0]] 275.506\n",
      "---> Model[[(6, 2), 'ct', 2]] 348.820\n",
      "---> Model[[(7, 0), 'n', 1]] 359.233\n",
      "---> Model[[(7, 0), 'n', 2]] 456.773\n",
      "---> Model[[(7, 0), 'c', 0]] 221.033\n",
      "---> Model[[(7, 0), 'c', 1]] 280.840\n",
      "---> Model[[(7, 0), 'c', 2]] 410.223\n",
      "---> Model[[(7, 0), 't', 0]] 300.163\n",
      "---> Model[[(7, 0), 't', 1]] 302.243\n",
      "---> Model[[(7, 0), 't', 2]] 407.532\n",
      "---> Model[[(7, 0), 'ct', 0]] 273.259\n",
      "---> Model[[(7, 0), 'ct', 1]] 306.814\n",
      "---> Model[[(7, 0), 'ct', 2]] 301.195\n",
      "---> Model[[(7, 1), 'n', 0]] 324.198\n",
      "---> Model[[(7, 1), 'n', 1]] 388.076\n",
      "---> Model[[(7, 1), 'n', 2]] 393.220\n",
      "---> Model[[(7, 1), 'c', 0]] 242.504\n",
      "---> Model[[(7, 1), 'c', 1]] 280.844\n",
      "---> Model[[(7, 1), 'c', 2]] 478.223\n",
      "---> Model[[(7, 1), 't', 0]] 280.972\n",
      "---> Model[[(7, 1), 't', 1]] 365.050\n",
      "---> Model[[(7, 1), 't', 2]] 355.916\n",
      "---> Model[[(7, 1), 'ct', 0]] 272.548\n",
      "---> Model[[(7, 1), 'ct', 1]] 381.349\n",
      "---> Model[[(7, 1), 'ct', 2]] 385.782\n",
      "---> Model[[(7, 2), 'n', 0]] 322.382\n",
      "---> Model[[(7, 2), 'n', 1]] 400.663\n",
      "---> Model[[(7, 2), 'n', 2]] 397.673\n",
      "---> Model[[(7, 2), 'c', 0]] 259.770\n",
      "---> Model[[(7, 2), 'c', 1]] 374.410\n",
      "---> Model[[(7, 2), 'c', 2]] 647.816\n",
      "---> Model[[(7, 2), 't', 0]] 292.992\n",
      "---> Model[[(7, 2), 't', 1]] 387.190\n",
      "---> Model[[(7, 2), 't', 2]] 339.143\n",
      "---> Model[[(7, 2), 'ct', 0]] 334.248\n",
      "---> Model[[(7, 2), 'ct', 1]] 646.245\n",
      "---> Model[[(8, 0), 'n', 0]] 260.443\n",
      "---> Model[[(7, 2), 'ct', 2]] 660.705\n",
      "---> Model[[(8, 0), 'n', 1]] 388.455\n",
      "---> Model[[(8, 0), 'n', 2]] 442.998\n",
      "---> Model[[(8, 0), 'c', 0]] 235.035\n",
      "---> Model[[(8, 0), 'c', 1]] 280.708\n",
      "---> Model[[(8, 0), 'c', 2]] 624.027\n",
      "---> Model[[(8, 0), 't', 0]] 265.557\n",
      "---> Model[[(8, 0), 't', 1]] 349.154\n",
      "---> Model[[(8, 0), 't', 2]] 409.159\n",
      "---> Model[[(8, 0), 'ct', 0]] 294.284\n",
      "---> Model[[(8, 0), 'ct', 1]] 321.207\n",
      "---> Model[[(8, 0), 'ct', 2]] 331.375\n",
      "---> Model[[(8, 1), 'n', 0]] 316.304\n",
      "---> Model[[(8, 1), 'n', 1]] 414.555\n",
      "---> Model[[(8, 1), 'n', 2]] 445.888\n",
      "---> Model[[(8, 1), 'c', 0]] 280.969\n",
      "---> Model[[(8, 1), 'c', 1]] 371.051\n",
      "---> Model[[(8, 1), 'c', 2]] 701.808\n",
      "---> Model[[(8, 1), 't', 0]] 287.334\n",
      "---> Model[[(8, 1), 't', 1]] 364.887\n",
      "---> Model[[(8, 1), 't', 2]] 464.039\n",
      "---> Model[[(8, 1), 'ct', 0]] 306.310\n",
      "---> Model[[(8, 1), 'ct', 1]] 322.040\n",
      "---> Model[[(8, 1), 'ct', 2]] 459.913\n",
      "---> Model[[(8, 2), 'n', 0]] 368.394\n",
      "---> Model[[(8, 2), 'n', 1]] 407.147\n",
      "---> Model[[(8, 2), 'n', 2]] 426.146\n",
      "---> Model[[(8, 2), 'c', 0]] 253.825\n",
      "---> Model[[(8, 2), 'c', 1]] 364.877\n",
      "---> Model[[(8, 2), 'c', 2]] 781.641\n",
      "---> Model[[(8, 2), 't', 0]] 302.204\n",
      "---> Model[[(8, 2), 't', 1]] 352.912\n",
      "---> Model[[(8, 2), 't', 2]] 415.965\n",
      "---> Model[[(8, 2), 'ct', 0]] 314.362\n",
      "---> Model[[(8, 2), 'ct', 1]] 561.494\n",
      "---> Model[[(9, 0), 'n', 0]] 286.574\n",
      "---> Model[[(8, 2), 'ct', 2]] 378.028\n",
      "---> Model[[(9, 0), 'n', 1]] 462.137\n",
      "---> Model[[(9, 0), 'n', 2]] 473.752\n",
      "---> Model[[(9, 0), 'c', 0]] 258.809\n"
     ]
    },
    {
     "name": "stdout",
     "output_type": "stream",
     "text": [
      "---> Model[[(9, 0), 'c', 1]] 211.078\n",
      "---> Model[[(9, 0), 'c', 2]] 459.521\n",
      "---> Model[[(9, 0), 't', 0]] 309.311\n",
      "---> Model[[(9, 0), 't', 1]] 334.553\n",
      "---> Model[[(9, 0), 't', 2]] 441.036\n",
      "---> Model[[(9, 0), 'ct', 0]] 313.674\n",
      "---> Model[[(9, 0), 'ct', 1]] 327.025\n",
      "---> Model[[(9, 0), 'ct', 2]] 487.261\n",
      "---> Model[[(9, 1), 'n', 0]] 287.558\n",
      "---> Model[[(9, 1), 'n', 1]] 452.472\n",
      "---> Model[[(9, 1), 'n', 2]] 453.727\n",
      "---> Model[[(9, 1), 'c', 0]] 264.342\n",
      "---> Model[[(9, 1), 'c', 1]] 262.708\n",
      "---> Model[[(9, 1), 'c', 2]] 405.917\n",
      "---> Model[[(9, 1), 't', 0]] 277.800\n",
      "---> Model[[(9, 1), 't', 1]] 375.680\n",
      "---> Model[[(9, 1), 't', 2]] 394.001\n",
      "---> Model[[(9, 1), 'ct', 0]] 317.697\n",
      "---> Model[[(9, 1), 'ct', 1]] 372.175\n",
      "---> Model[[(9, 1), 'ct', 2]] 481.652\n",
      "---> Model[[(9, 2), 'n', 0]] 432.138\n",
      "---> Model[[(9, 2), 'n', 1]] 430.562\n",
      "---> Model[[(9, 2), 'n', 2]] 494.441\n",
      "---> Model[[(9, 2), 'c', 0]] 254.516\n",
      "---> Model[[(9, 2), 'c', 1]] 302.525\n",
      "---> Model[[(9, 2), 't', 0]] 222.983\n",
      "---> Model[[(9, 2), 'c', 2]] 468.525\n",
      "---> Model[[(9, 2), 't', 1]] 393.424\n",
      "---> Model[[(9, 2), 't', 2]] 434.226\n",
      "---> Model[[(9, 2), 'ct', 1]] 536.438\n",
      "---> Model[[(9, 2), 'ct', 0]] 353.644\n",
      "---> Model[[(10, 0), 'n', 0]] 315.076\n",
      "---> Model[[(9, 2), 'ct', 2]] 464.448\n",
      "---> Model[[(10, 0), 'n', 1]] 473.509\n",
      "---> Model[[(10, 0), 'n', 2]] 480.224\n",
      "---> Model[[(10, 0), 'c', 0]] 240.365\n",
      "---> Model[[(10, 0), 'c', 1]] 297.415\n",
      "---> Model[[(10, 0), 'c', 2]] 490.875\n",
      "---> Model[[(10, 0), 't', 0]] 376.565\n",
      "---> Model[[(10, 0), 't', 1]] 328.794\n",
      "---> Model[[(10, 0), 't', 2]] 497.200\n",
      "---> Model[[(10, 0), 'ct', 0]] 194.520\n",
      "---> Model[[(10, 0), 'ct', 1]] 303.594\n",
      "---> Model[[(10, 0), 'ct', 2]] 498.424\n",
      "---> Model[[(10, 1), 'n', 0]] 318.346\n",
      "---> Model[[(10, 1), 'n', 1]] 439.309\n",
      "---> Model[[(10, 1), 'n', 2]] 476.906\n",
      "---> Model[[(10, 1), 'c', 0]] 281.360\n",
      "---> Model[[(10, 1), 'c', 1]] 291.583\n",
      "---> Model[[(10, 1), 'c', 2]] 456.901\n",
      "---> Model[[(10, 1), 't', 0]] 283.296\n",
      "---> Model[[(10, 1), 't', 1]] 338.603\n",
      "---> Model[[(10, 1), 't', 2]] 469.814\n",
      "---> Model[[(10, 1), 'ct', 0]] 200.894\n",
      "---> Model[[(10, 1), 'ct', 1]] 384.679\n",
      "---> Model[[(10, 1), 'ct', 2]] 496.432\n",
      "---> Model[[(10, 2), 'n', 0]] 438.786\n",
      "---> Model[[(10, 2), 'n', 1]] 428.258\n",
      "---> Model[[(10, 2), 'n', 2]] 413.182\n",
      "---> Model[[(10, 2), 'c', 0]] 266.434\n",
      "---> Model[[(10, 2), 'c', 1]] 321.766\n",
      "---> Model[[(10, 2), 'c', 2]] 436.413\n",
      "---> Model[[(10, 2), 't', 0]] 249.677\n",
      "---> Model[[(10, 2), 't', 1]] 299.906\n",
      "---> Model[[(10, 2), 't', 2]] 458.649\n",
      "---> Model[[(10, 2), 'ct', 0]] 265.711\n",
      "---> Model[[(10, 2), 'ct', 1]] 362.364\n",
      "---> Model[[(10, 2), 'ct', 2]] 514.341\n",
      "n_test:7, method:walk, best_cfg parameters are:[(3, 1), 'c', 1], rmse:121.2900826985804\n"
     ]
    }
   ],
   "source": [
    "n_test = 7\n",
    "cfg_list = varmax_configs()\n",
    "method = 'walk'\n",
    "scores = grid_search(df_combined_indeed[['New','Jobnums']], cfg_list, n_test, method, exog=df_combined_indeed[['Weekend']])\n",
    "print('n_test:{}, method:{}, best_cfg parameters are:{}, rmse:{}'.format(n_test,method,scores[0][0],scores[0][1]))"
   ]
  },
  {
   "cell_type": "code",
   "execution_count": 43,
   "metadata": {},
   "outputs": [],
   "source": [
    "n_test = 7\n",
    "best_cfg = [(3, 1), 'c', 1]\n",
    "indeed_data = df_combined_indeed[['New','Jobnums']]\n",
    "train, test = train_test_split(indeed_data, n_test)\n",
    "yhat_varmax, errorx = walk_forward_best(indeed_data, n_test, best_cfg, exog=df_combined_indeed[['Weekend']])"
   ]
  },
  {
   "cell_type": "code",
   "execution_count": 44,
   "metadata": {},
   "outputs": [
    {
     "data": {
      "application/vnd.plotly.v1+json": {
       "config": {
        "plotlyServerURL": "https://plot.ly"
       },
       "data": [
        {
         "mode": "lines+markers",
         "name": "Train",
         "showlegend": false,
         "type": "scatter",
         "x": [
          "2020-06-12T00:00:00",
          "2020-06-13T00:00:00",
          "2020-06-14T00:00:00",
          "2020-06-15T00:00:00",
          "2020-06-16T00:00:00",
          "2020-06-17T00:00:00",
          "2020-06-18T00:00:00",
          "2020-06-19T00:00:00",
          "2020-06-20T00:00:00",
          "2020-06-21T00:00:00",
          "2020-06-22T00:00:00",
          "2020-06-23T00:00:00",
          "2020-06-24T00:00:00",
          "2020-06-25T00:00:00",
          "2020-06-26T00:00:00",
          "2020-06-27T00:00:00",
          "2020-06-28T00:00:00",
          "2020-06-29T00:00:00",
          "2020-06-30T00:00:00",
          "2020-07-01T00:00:00",
          "2020-07-02T00:00:00",
          "2020-07-03T00:00:00",
          "2020-07-04T00:00:00",
          "2020-07-05T00:00:00",
          "2020-07-06T00:00:00",
          "2020-07-07T00:00:00",
          "2020-07-08T00:00:00",
          "2020-07-09T00:00:00",
          "2020-07-10T00:00:00",
          "2020-07-11T00:00:00",
          "2020-07-12T00:00:00",
          "2020-07-13T00:00:00",
          "2020-07-14T00:00:00",
          "2020-07-15T00:00:00",
          "2020-07-16T00:00:00",
          "2020-07-17T00:00:00",
          "2020-07-18T00:00:00",
          "2020-07-19T00:00:00",
          "2020-07-20T00:00:00",
          "2020-07-21T00:00:00",
          "2020-07-22T00:00:00",
          "2020-07-23T00:00:00",
          "2020-07-24T00:00:00",
          "2020-07-25T00:00:00",
          "2020-07-26T00:00:00"
         ],
         "xaxis": "x",
         "y": [
          282,
          330,
          61,
          227,
          576,
          645,
          680,
          686,
          334,
          39,
          302,
          815,
          726,
          719,
          805,
          433,
          55,
          326,
          964,
          1865,
          863,
          619,
          176,
          85,
          786,
          1740,
          1747,
          1794,
          1943,
          1167,
          205,
          606,
          804,
          820,
          793,
          721,
          334,
          103,
          551,
          995,
          981,
          953,
          989,
          403,
          81
         ],
         "yaxis": "y"
        },
        {
         "line": {
          "color": "green"
         },
         "mode": "lines+markers",
         "name": "Test",
         "showlegend": false,
         "type": "scatter",
         "x": [
          "2020-07-27T00:00:00",
          "2020-07-28T00:00:00",
          "2020-07-29T00:00:00",
          "2020-07-30T00:00:00",
          "2020-07-31T00:00:00",
          "2020-08-01T00:00:00",
          "2020-08-02T00:00:00"
         ],
         "xaxis": "x2",
         "y": [
          678,
          1240,
          1294,
          1490,
          1500,
          728,
          143
         ],
         "yaxis": "y2"
        },
        {
         "line": {
          "color": "red"
         },
         "mode": "lines+markers",
         "name": "Prediction",
         "showlegend": false,
         "type": "scatter",
         "x": [
          "2020-07-27T00:00:00",
          "2020-07-28T00:00:00",
          "2020-07-29T00:00:00",
          "2020-07-30T00:00:00",
          "2020-07-31T00:00:00",
          "2020-08-01T00:00:00",
          "2020-08-02T00:00:00"
         ],
         "xaxis": "x2",
         "y": [
          755.9565899678196,
          1285.8217532571593,
          1416.5484916088544,
          1353.058259102581,
          1025.8665470086244,
          1183.1153563478817,
          281.36352490472353
         ],
         "yaxis": "y2"
        },
        {
         "line": {
          "color": "green"
         },
         "mode": "lines+markers",
         "name": "Test",
         "showlegend": true,
         "type": "scatter",
         "x": [
          "2020-07-27T00:00:00",
          "2020-07-28T00:00:00",
          "2020-07-29T00:00:00",
          "2020-07-30T00:00:00",
          "2020-07-31T00:00:00",
          "2020-08-01T00:00:00",
          "2020-08-02T00:00:00"
         ],
         "xaxis": "x3",
         "y": [
          678,
          1240,
          1294,
          1490,
          1500,
          728,
          143
         ],
         "yaxis": "y3"
        },
        {
         "line": {
          "color": "red"
         },
         "mode": "lines+markers",
         "name": "Prediction",
         "showlegend": true,
         "type": "scatter",
         "x": [
          "2020-07-27T00:00:00",
          "2020-07-28T00:00:00",
          "2020-07-29T00:00:00",
          "2020-07-30T00:00:00",
          "2020-07-31T00:00:00",
          "2020-08-01T00:00:00",
          "2020-08-02T00:00:00"
         ],
         "xaxis": "x3",
         "y": [
          661.404769687294,
          1258.857805549333,
          1321.738967764864,
          1221.122701314664,
          1640.17839999049,
          768.4211295976531,
          232.44085758255818
         ],
         "yaxis": "y3"
        }
       ],
       "layout": {
        "annotations": [
         {
          "font": {
           "size": 16
          },
          "showarrow": false,
          "text": "Train data",
          "x": 0.5,
          "xanchor": "center",
          "xref": "paper",
          "y": 1,
          "yanchor": "bottom",
          "yref": "paper"
         },
         {
          "font": {
           "size": 16
          },
          "showarrow": false,
          "text": "No eXog, RMSE: 265.39",
          "x": 0.225,
          "xanchor": "center",
          "xref": "paper",
          "y": 0.375,
          "yanchor": "bottom",
          "yref": "paper"
         },
         {
          "font": {
           "size": 16
          },
          "showarrow": false,
          "text": "X=Weekend, RMSE: 121.29",
          "x": 0.775,
          "xanchor": "center",
          "xref": "paper",
          "y": 0.375,
          "yanchor": "bottom",
          "yref": "paper"
         }
        ],
        "legend": {
         "x": 1,
         "y": 0.25
        },
        "template": {
         "data": {
          "bar": [
           {
            "error_x": {
             "color": "#2a3f5f"
            },
            "error_y": {
             "color": "#2a3f5f"
            },
            "marker": {
             "line": {
              "color": "#E5ECF6",
              "width": 0.5
             }
            },
            "type": "bar"
           }
          ],
          "barpolar": [
           {
            "marker": {
             "line": {
              "color": "#E5ECF6",
              "width": 0.5
             }
            },
            "type": "barpolar"
           }
          ],
          "carpet": [
           {
            "aaxis": {
             "endlinecolor": "#2a3f5f",
             "gridcolor": "white",
             "linecolor": "white",
             "minorgridcolor": "white",
             "startlinecolor": "#2a3f5f"
            },
            "baxis": {
             "endlinecolor": "#2a3f5f",
             "gridcolor": "white",
             "linecolor": "white",
             "minorgridcolor": "white",
             "startlinecolor": "#2a3f5f"
            },
            "type": "carpet"
           }
          ],
          "choropleth": [
           {
            "colorbar": {
             "outlinewidth": 0,
             "ticks": ""
            },
            "type": "choropleth"
           }
          ],
          "contour": [
           {
            "colorbar": {
             "outlinewidth": 0,
             "ticks": ""
            },
            "colorscale": [
             [
              0,
              "#0d0887"
             ],
             [
              0.1111111111111111,
              "#46039f"
             ],
             [
              0.2222222222222222,
              "#7201a8"
             ],
             [
              0.3333333333333333,
              "#9c179e"
             ],
             [
              0.4444444444444444,
              "#bd3786"
             ],
             [
              0.5555555555555556,
              "#d8576b"
             ],
             [
              0.6666666666666666,
              "#ed7953"
             ],
             [
              0.7777777777777778,
              "#fb9f3a"
             ],
             [
              0.8888888888888888,
              "#fdca26"
             ],
             [
              1,
              "#f0f921"
             ]
            ],
            "type": "contour"
           }
          ],
          "contourcarpet": [
           {
            "colorbar": {
             "outlinewidth": 0,
             "ticks": ""
            },
            "type": "contourcarpet"
           }
          ],
          "heatmap": [
           {
            "colorbar": {
             "outlinewidth": 0,
             "ticks": ""
            },
            "colorscale": [
             [
              0,
              "#0d0887"
             ],
             [
              0.1111111111111111,
              "#46039f"
             ],
             [
              0.2222222222222222,
              "#7201a8"
             ],
             [
              0.3333333333333333,
              "#9c179e"
             ],
             [
              0.4444444444444444,
              "#bd3786"
             ],
             [
              0.5555555555555556,
              "#d8576b"
             ],
             [
              0.6666666666666666,
              "#ed7953"
             ],
             [
              0.7777777777777778,
              "#fb9f3a"
             ],
             [
              0.8888888888888888,
              "#fdca26"
             ],
             [
              1,
              "#f0f921"
             ]
            ],
            "type": "heatmap"
           }
          ],
          "heatmapgl": [
           {
            "colorbar": {
             "outlinewidth": 0,
             "ticks": ""
            },
            "colorscale": [
             [
              0,
              "#0d0887"
             ],
             [
              0.1111111111111111,
              "#46039f"
             ],
             [
              0.2222222222222222,
              "#7201a8"
             ],
             [
              0.3333333333333333,
              "#9c179e"
             ],
             [
              0.4444444444444444,
              "#bd3786"
             ],
             [
              0.5555555555555556,
              "#d8576b"
             ],
             [
              0.6666666666666666,
              "#ed7953"
             ],
             [
              0.7777777777777778,
              "#fb9f3a"
             ],
             [
              0.8888888888888888,
              "#fdca26"
             ],
             [
              1,
              "#f0f921"
             ]
            ],
            "type": "heatmapgl"
           }
          ],
          "histogram": [
           {
            "marker": {
             "colorbar": {
              "outlinewidth": 0,
              "ticks": ""
             }
            },
            "type": "histogram"
           }
          ],
          "histogram2d": [
           {
            "colorbar": {
             "outlinewidth": 0,
             "ticks": ""
            },
            "colorscale": [
             [
              0,
              "#0d0887"
             ],
             [
              0.1111111111111111,
              "#46039f"
             ],
             [
              0.2222222222222222,
              "#7201a8"
             ],
             [
              0.3333333333333333,
              "#9c179e"
             ],
             [
              0.4444444444444444,
              "#bd3786"
             ],
             [
              0.5555555555555556,
              "#d8576b"
             ],
             [
              0.6666666666666666,
              "#ed7953"
             ],
             [
              0.7777777777777778,
              "#fb9f3a"
             ],
             [
              0.8888888888888888,
              "#fdca26"
             ],
             [
              1,
              "#f0f921"
             ]
            ],
            "type": "histogram2d"
           }
          ],
          "histogram2dcontour": [
           {
            "colorbar": {
             "outlinewidth": 0,
             "ticks": ""
            },
            "colorscale": [
             [
              0,
              "#0d0887"
             ],
             [
              0.1111111111111111,
              "#46039f"
             ],
             [
              0.2222222222222222,
              "#7201a8"
             ],
             [
              0.3333333333333333,
              "#9c179e"
             ],
             [
              0.4444444444444444,
              "#bd3786"
             ],
             [
              0.5555555555555556,
              "#d8576b"
             ],
             [
              0.6666666666666666,
              "#ed7953"
             ],
             [
              0.7777777777777778,
              "#fb9f3a"
             ],
             [
              0.8888888888888888,
              "#fdca26"
             ],
             [
              1,
              "#f0f921"
             ]
            ],
            "type": "histogram2dcontour"
           }
          ],
          "mesh3d": [
           {
            "colorbar": {
             "outlinewidth": 0,
             "ticks": ""
            },
            "type": "mesh3d"
           }
          ],
          "parcoords": [
           {
            "line": {
             "colorbar": {
              "outlinewidth": 0,
              "ticks": ""
             }
            },
            "type": "parcoords"
           }
          ],
          "pie": [
           {
            "automargin": true,
            "type": "pie"
           }
          ],
          "scatter": [
           {
            "marker": {
             "colorbar": {
              "outlinewidth": 0,
              "ticks": ""
             }
            },
            "type": "scatter"
           }
          ],
          "scatter3d": [
           {
            "line": {
             "colorbar": {
              "outlinewidth": 0,
              "ticks": ""
             }
            },
            "marker": {
             "colorbar": {
              "outlinewidth": 0,
              "ticks": ""
             }
            },
            "type": "scatter3d"
           }
          ],
          "scattercarpet": [
           {
            "marker": {
             "colorbar": {
              "outlinewidth": 0,
              "ticks": ""
             }
            },
            "type": "scattercarpet"
           }
          ],
          "scattergeo": [
           {
            "marker": {
             "colorbar": {
              "outlinewidth": 0,
              "ticks": ""
             }
            },
            "type": "scattergeo"
           }
          ],
          "scattergl": [
           {
            "marker": {
             "colorbar": {
              "outlinewidth": 0,
              "ticks": ""
             }
            },
            "type": "scattergl"
           }
          ],
          "scattermapbox": [
           {
            "marker": {
             "colorbar": {
              "outlinewidth": 0,
              "ticks": ""
             }
            },
            "type": "scattermapbox"
           }
          ],
          "scatterpolar": [
           {
            "marker": {
             "colorbar": {
              "outlinewidth": 0,
              "ticks": ""
             }
            },
            "type": "scatterpolar"
           }
          ],
          "scatterpolargl": [
           {
            "marker": {
             "colorbar": {
              "outlinewidth": 0,
              "ticks": ""
             }
            },
            "type": "scatterpolargl"
           }
          ],
          "scatterternary": [
           {
            "marker": {
             "colorbar": {
              "outlinewidth": 0,
              "ticks": ""
             }
            },
            "type": "scatterternary"
           }
          ],
          "surface": [
           {
            "colorbar": {
             "outlinewidth": 0,
             "ticks": ""
            },
            "colorscale": [
             [
              0,
              "#0d0887"
             ],
             [
              0.1111111111111111,
              "#46039f"
             ],
             [
              0.2222222222222222,
              "#7201a8"
             ],
             [
              0.3333333333333333,
              "#9c179e"
             ],
             [
              0.4444444444444444,
              "#bd3786"
             ],
             [
              0.5555555555555556,
              "#d8576b"
             ],
             [
              0.6666666666666666,
              "#ed7953"
             ],
             [
              0.7777777777777778,
              "#fb9f3a"
             ],
             [
              0.8888888888888888,
              "#fdca26"
             ],
             [
              1,
              "#f0f921"
             ]
            ],
            "type": "surface"
           }
          ],
          "table": [
           {
            "cells": {
             "fill": {
              "color": "#EBF0F8"
             },
             "line": {
              "color": "white"
             }
            },
            "header": {
             "fill": {
              "color": "#C8D4E3"
             },
             "line": {
              "color": "white"
             }
            },
            "type": "table"
           }
          ]
         },
         "layout": {
          "annotationdefaults": {
           "arrowcolor": "#2a3f5f",
           "arrowhead": 0,
           "arrowwidth": 1
          },
          "coloraxis": {
           "colorbar": {
            "outlinewidth": 0,
            "ticks": ""
           }
          },
          "colorscale": {
           "diverging": [
            [
             0,
             "#8e0152"
            ],
            [
             0.1,
             "#c51b7d"
            ],
            [
             0.2,
             "#de77ae"
            ],
            [
             0.3,
             "#f1b6da"
            ],
            [
             0.4,
             "#fde0ef"
            ],
            [
             0.5,
             "#f7f7f7"
            ],
            [
             0.6,
             "#e6f5d0"
            ],
            [
             0.7,
             "#b8e186"
            ],
            [
             0.8,
             "#7fbc41"
            ],
            [
             0.9,
             "#4d9221"
            ],
            [
             1,
             "#276419"
            ]
           ],
           "sequential": [
            [
             0,
             "#0d0887"
            ],
            [
             0.1111111111111111,
             "#46039f"
            ],
            [
             0.2222222222222222,
             "#7201a8"
            ],
            [
             0.3333333333333333,
             "#9c179e"
            ],
            [
             0.4444444444444444,
             "#bd3786"
            ],
            [
             0.5555555555555556,
             "#d8576b"
            ],
            [
             0.6666666666666666,
             "#ed7953"
            ],
            [
             0.7777777777777778,
             "#fb9f3a"
            ],
            [
             0.8888888888888888,
             "#fdca26"
            ],
            [
             1,
             "#f0f921"
            ]
           ],
           "sequentialminus": [
            [
             0,
             "#0d0887"
            ],
            [
             0.1111111111111111,
             "#46039f"
            ],
            [
             0.2222222222222222,
             "#7201a8"
            ],
            [
             0.3333333333333333,
             "#9c179e"
            ],
            [
             0.4444444444444444,
             "#bd3786"
            ],
            [
             0.5555555555555556,
             "#d8576b"
            ],
            [
             0.6666666666666666,
             "#ed7953"
            ],
            [
             0.7777777777777778,
             "#fb9f3a"
            ],
            [
             0.8888888888888888,
             "#fdca26"
            ],
            [
             1,
             "#f0f921"
            ]
           ]
          },
          "colorway": [
           "#636efa",
           "#EF553B",
           "#00cc96",
           "#ab63fa",
           "#FFA15A",
           "#19d3f3",
           "#FF6692",
           "#B6E880",
           "#FF97FF",
           "#FECB52"
          ],
          "font": {
           "color": "#2a3f5f"
          },
          "geo": {
           "bgcolor": "white",
           "lakecolor": "white",
           "landcolor": "#E5ECF6",
           "showlakes": true,
           "showland": true,
           "subunitcolor": "white"
          },
          "hoverlabel": {
           "align": "left"
          },
          "hovermode": "closest",
          "mapbox": {
           "style": "light"
          },
          "paper_bgcolor": "white",
          "plot_bgcolor": "#E5ECF6",
          "polar": {
           "angularaxis": {
            "gridcolor": "white",
            "linecolor": "white",
            "ticks": ""
           },
           "bgcolor": "#E5ECF6",
           "radialaxis": {
            "gridcolor": "white",
            "linecolor": "white",
            "ticks": ""
           }
          },
          "scene": {
           "xaxis": {
            "backgroundcolor": "#E5ECF6",
            "gridcolor": "white",
            "gridwidth": 2,
            "linecolor": "white",
            "showbackground": true,
            "ticks": "",
            "zerolinecolor": "white"
           },
           "yaxis": {
            "backgroundcolor": "#E5ECF6",
            "gridcolor": "white",
            "gridwidth": 2,
            "linecolor": "white",
            "showbackground": true,
            "ticks": "",
            "zerolinecolor": "white"
           },
           "zaxis": {
            "backgroundcolor": "#E5ECF6",
            "gridcolor": "white",
            "gridwidth": 2,
            "linecolor": "white",
            "showbackground": true,
            "ticks": "",
            "zerolinecolor": "white"
           }
          },
          "shapedefaults": {
           "line": {
            "color": "#2a3f5f"
           }
          },
          "ternary": {
           "aaxis": {
            "gridcolor": "white",
            "linecolor": "white",
            "ticks": ""
           },
           "baxis": {
            "gridcolor": "white",
            "linecolor": "white",
            "ticks": ""
           },
           "bgcolor": "#E5ECF6",
           "caxis": {
            "gridcolor": "white",
            "linecolor": "white",
            "ticks": ""
           }
          },
          "title": {
           "x": 0.05
          },
          "xaxis": {
           "automargin": true,
           "gridcolor": "white",
           "linecolor": "white",
           "ticks": "",
           "title": {
            "standoff": 15
           },
           "zerolinecolor": "white",
           "zerolinewidth": 2
          },
          "yaxis": {
           "automargin": true,
           "gridcolor": "white",
           "linecolor": "white",
           "ticks": "",
           "title": {
            "standoff": 15
           },
           "zerolinecolor": "white",
           "zerolinewidth": 2
          }
         }
        },
        "title": {
         "text": "Indeed Software Engineer Job Openings Forecast via VARMAX Model"
        },
        "xaxis": {
         "anchor": "y",
         "domain": [
          0,
          1
         ]
        },
        "xaxis2": {
         "anchor": "y2",
         "domain": [
          0,
          0.45
         ]
        },
        "xaxis3": {
         "anchor": "y3",
         "domain": [
          0.55,
          1
         ]
        },
        "yaxis": {
         "anchor": "x",
         "domain": [
          0.625,
          1
         ]
        },
        "yaxis2": {
         "anchor": "x2",
         "domain": [
          0,
          0.375
         ]
        },
        "yaxis3": {
         "anchor": "x3",
         "domain": [
          0,
          0.375
         ]
        }
       }
      },
      "text/html": [
       "<div>\n",
       "        \n",
       "        \n",
       "            <div id=\"22f00f7a-0722-468a-a051-7b5a629dce27\" class=\"plotly-graph-div\" style=\"height:525px; width:100%;\"></div>\n",
       "            <script type=\"text/javascript\">\n",
       "                require([\"plotly\"], function(Plotly) {\n",
       "                    window.PLOTLYENV=window.PLOTLYENV || {};\n",
       "                    \n",
       "                if (document.getElementById(\"22f00f7a-0722-468a-a051-7b5a629dce27\")) {\n",
       "                    Plotly.newPlot(\n",
       "                        '22f00f7a-0722-468a-a051-7b5a629dce27',\n",
       "                        [{\"mode\": \"lines+markers\", \"name\": \"Train\", \"showlegend\": false, \"type\": \"scatter\", \"x\": [\"2020-06-12T00:00:00\", \"2020-06-13T00:00:00\", \"2020-06-14T00:00:00\", \"2020-06-15T00:00:00\", \"2020-06-16T00:00:00\", \"2020-06-17T00:00:00\", \"2020-06-18T00:00:00\", \"2020-06-19T00:00:00\", \"2020-06-20T00:00:00\", \"2020-06-21T00:00:00\", \"2020-06-22T00:00:00\", \"2020-06-23T00:00:00\", \"2020-06-24T00:00:00\", \"2020-06-25T00:00:00\", \"2020-06-26T00:00:00\", \"2020-06-27T00:00:00\", \"2020-06-28T00:00:00\", \"2020-06-29T00:00:00\", \"2020-06-30T00:00:00\", \"2020-07-01T00:00:00\", \"2020-07-02T00:00:00\", \"2020-07-03T00:00:00\", \"2020-07-04T00:00:00\", \"2020-07-05T00:00:00\", \"2020-07-06T00:00:00\", \"2020-07-07T00:00:00\", \"2020-07-08T00:00:00\", \"2020-07-09T00:00:00\", \"2020-07-10T00:00:00\", \"2020-07-11T00:00:00\", \"2020-07-12T00:00:00\", \"2020-07-13T00:00:00\", \"2020-07-14T00:00:00\", \"2020-07-15T00:00:00\", \"2020-07-16T00:00:00\", \"2020-07-17T00:00:00\", \"2020-07-18T00:00:00\", \"2020-07-19T00:00:00\", \"2020-07-20T00:00:00\", \"2020-07-21T00:00:00\", \"2020-07-22T00:00:00\", \"2020-07-23T00:00:00\", \"2020-07-24T00:00:00\", \"2020-07-25T00:00:00\", \"2020-07-26T00:00:00\"], \"xaxis\": \"x\", \"y\": [282, 330, 61, 227, 576, 645, 680, 686, 334, 39, 302, 815, 726, 719, 805, 433, 55, 326, 964, 1865, 863, 619, 176, 85, 786, 1740, 1747, 1794, 1943, 1167, 205, 606, 804, 820, 793, 721, 334, 103, 551, 995, 981, 953, 989, 403, 81], \"yaxis\": \"y\"}, {\"line\": {\"color\": \"green\"}, \"mode\": \"lines+markers\", \"name\": \"Test\", \"showlegend\": false, \"type\": \"scatter\", \"x\": [\"2020-07-27T00:00:00\", \"2020-07-28T00:00:00\", \"2020-07-29T00:00:00\", \"2020-07-30T00:00:00\", \"2020-07-31T00:00:00\", \"2020-08-01T00:00:00\", \"2020-08-02T00:00:00\"], \"xaxis\": \"x2\", \"y\": [678, 1240, 1294, 1490, 1500, 728, 143], \"yaxis\": \"y2\"}, {\"line\": {\"color\": \"red\"}, \"mode\": \"lines+markers\", \"name\": \"Prediction\", \"showlegend\": false, \"type\": \"scatter\", \"x\": [\"2020-07-27T00:00:00\", \"2020-07-28T00:00:00\", \"2020-07-29T00:00:00\", \"2020-07-30T00:00:00\", \"2020-07-31T00:00:00\", \"2020-08-01T00:00:00\", \"2020-08-02T00:00:00\"], \"xaxis\": \"x2\", \"y\": [755.9565899678196, 1285.8217532571593, 1416.5484916088544, 1353.058259102581, 1025.8665470086244, 1183.1153563478817, 281.36352490472353], \"yaxis\": \"y2\"}, {\"line\": {\"color\": \"green\"}, \"mode\": \"lines+markers\", \"name\": \"Test\", \"showlegend\": true, \"type\": \"scatter\", \"x\": [\"2020-07-27T00:00:00\", \"2020-07-28T00:00:00\", \"2020-07-29T00:00:00\", \"2020-07-30T00:00:00\", \"2020-07-31T00:00:00\", \"2020-08-01T00:00:00\", \"2020-08-02T00:00:00\"], \"xaxis\": \"x3\", \"y\": [678, 1240, 1294, 1490, 1500, 728, 143], \"yaxis\": \"y3\"}, {\"line\": {\"color\": \"red\"}, \"mode\": \"lines+markers\", \"name\": \"Prediction\", \"showlegend\": true, \"type\": \"scatter\", \"x\": [\"2020-07-27T00:00:00\", \"2020-07-28T00:00:00\", \"2020-07-29T00:00:00\", \"2020-07-30T00:00:00\", \"2020-07-31T00:00:00\", \"2020-08-01T00:00:00\", \"2020-08-02T00:00:00\"], \"xaxis\": \"x3\", \"y\": [661.404769687294, 1258.857805549333, 1321.738967764864, 1221.122701314664, 1640.17839999049, 768.4211295976531, 232.44085758255818], \"yaxis\": \"y3\"}],\n",
       "                        {\"annotations\": [{\"font\": {\"size\": 16}, \"showarrow\": false, \"text\": \"Train data\", \"x\": 0.5, \"xanchor\": \"center\", \"xref\": \"paper\", \"y\": 1.0, \"yanchor\": \"bottom\", \"yref\": \"paper\"}, {\"font\": {\"size\": 16}, \"showarrow\": false, \"text\": \"No eXog, RMSE: 265.39\", \"x\": 0.225, \"xanchor\": \"center\", \"xref\": \"paper\", \"y\": 0.375, \"yanchor\": \"bottom\", \"yref\": \"paper\"}, {\"font\": {\"size\": 16}, \"showarrow\": false, \"text\": \"X=Weekend, RMSE: 121.29\", \"x\": 0.775, \"xanchor\": \"center\", \"xref\": \"paper\", \"y\": 0.375, \"yanchor\": \"bottom\", \"yref\": \"paper\"}], \"legend\": {\"x\": 1, \"y\": 0.25}, \"template\": {\"data\": {\"bar\": [{\"error_x\": {\"color\": \"#2a3f5f\"}, \"error_y\": {\"color\": \"#2a3f5f\"}, \"marker\": {\"line\": {\"color\": \"#E5ECF6\", \"width\": 0.5}}, \"type\": \"bar\"}], \"barpolar\": [{\"marker\": {\"line\": {\"color\": \"#E5ECF6\", \"width\": 0.5}}, \"type\": \"barpolar\"}], \"carpet\": [{\"aaxis\": {\"endlinecolor\": \"#2a3f5f\", \"gridcolor\": \"white\", \"linecolor\": \"white\", \"minorgridcolor\": \"white\", \"startlinecolor\": \"#2a3f5f\"}, \"baxis\": {\"endlinecolor\": \"#2a3f5f\", \"gridcolor\": \"white\", \"linecolor\": \"white\", \"minorgridcolor\": \"white\", \"startlinecolor\": \"#2a3f5f\"}, \"type\": \"carpet\"}], \"choropleth\": [{\"colorbar\": {\"outlinewidth\": 0, \"ticks\": \"\"}, \"type\": \"choropleth\"}], \"contour\": [{\"colorbar\": {\"outlinewidth\": 0, \"ticks\": \"\"}, \"colorscale\": [[0.0, \"#0d0887\"], [0.1111111111111111, \"#46039f\"], [0.2222222222222222, \"#7201a8\"], [0.3333333333333333, \"#9c179e\"], [0.4444444444444444, \"#bd3786\"], [0.5555555555555556, \"#d8576b\"], [0.6666666666666666, \"#ed7953\"], [0.7777777777777778, \"#fb9f3a\"], [0.8888888888888888, \"#fdca26\"], [1.0, \"#f0f921\"]], \"type\": \"contour\"}], \"contourcarpet\": [{\"colorbar\": {\"outlinewidth\": 0, \"ticks\": \"\"}, \"type\": \"contourcarpet\"}], \"heatmap\": [{\"colorbar\": {\"outlinewidth\": 0, \"ticks\": \"\"}, \"colorscale\": [[0.0, \"#0d0887\"], [0.1111111111111111, \"#46039f\"], [0.2222222222222222, \"#7201a8\"], [0.3333333333333333, \"#9c179e\"], [0.4444444444444444, \"#bd3786\"], [0.5555555555555556, \"#d8576b\"], [0.6666666666666666, \"#ed7953\"], [0.7777777777777778, \"#fb9f3a\"], [0.8888888888888888, \"#fdca26\"], [1.0, \"#f0f921\"]], \"type\": \"heatmap\"}], \"heatmapgl\": [{\"colorbar\": {\"outlinewidth\": 0, \"ticks\": \"\"}, \"colorscale\": [[0.0, \"#0d0887\"], [0.1111111111111111, \"#46039f\"], [0.2222222222222222, \"#7201a8\"], [0.3333333333333333, \"#9c179e\"], [0.4444444444444444, \"#bd3786\"], [0.5555555555555556, \"#d8576b\"], [0.6666666666666666, \"#ed7953\"], [0.7777777777777778, \"#fb9f3a\"], [0.8888888888888888, \"#fdca26\"], [1.0, \"#f0f921\"]], \"type\": \"heatmapgl\"}], \"histogram\": [{\"marker\": {\"colorbar\": {\"outlinewidth\": 0, \"ticks\": \"\"}}, \"type\": \"histogram\"}], \"histogram2d\": [{\"colorbar\": {\"outlinewidth\": 0, \"ticks\": \"\"}, \"colorscale\": [[0.0, \"#0d0887\"], [0.1111111111111111, \"#46039f\"], [0.2222222222222222, \"#7201a8\"], [0.3333333333333333, \"#9c179e\"], [0.4444444444444444, \"#bd3786\"], [0.5555555555555556, \"#d8576b\"], [0.6666666666666666, \"#ed7953\"], [0.7777777777777778, \"#fb9f3a\"], [0.8888888888888888, \"#fdca26\"], [1.0, \"#f0f921\"]], \"type\": \"histogram2d\"}], \"histogram2dcontour\": [{\"colorbar\": {\"outlinewidth\": 0, \"ticks\": \"\"}, \"colorscale\": [[0.0, \"#0d0887\"], [0.1111111111111111, \"#46039f\"], [0.2222222222222222, \"#7201a8\"], [0.3333333333333333, \"#9c179e\"], [0.4444444444444444, \"#bd3786\"], [0.5555555555555556, \"#d8576b\"], [0.6666666666666666, \"#ed7953\"], [0.7777777777777778, \"#fb9f3a\"], [0.8888888888888888, \"#fdca26\"], [1.0, \"#f0f921\"]], \"type\": \"histogram2dcontour\"}], \"mesh3d\": [{\"colorbar\": {\"outlinewidth\": 0, \"ticks\": \"\"}, \"type\": \"mesh3d\"}], \"parcoords\": [{\"line\": {\"colorbar\": {\"outlinewidth\": 0, \"ticks\": \"\"}}, \"type\": \"parcoords\"}], \"pie\": [{\"automargin\": true, \"type\": \"pie\"}], \"scatter\": [{\"marker\": {\"colorbar\": {\"outlinewidth\": 0, \"ticks\": \"\"}}, \"type\": \"scatter\"}], \"scatter3d\": [{\"line\": {\"colorbar\": {\"outlinewidth\": 0, \"ticks\": \"\"}}, \"marker\": {\"colorbar\": {\"outlinewidth\": 0, \"ticks\": \"\"}}, \"type\": \"scatter3d\"}], \"scattercarpet\": [{\"marker\": {\"colorbar\": {\"outlinewidth\": 0, \"ticks\": \"\"}}, \"type\": \"scattercarpet\"}], \"scattergeo\": [{\"marker\": {\"colorbar\": {\"outlinewidth\": 0, \"ticks\": \"\"}}, \"type\": \"scattergeo\"}], \"scattergl\": [{\"marker\": {\"colorbar\": {\"outlinewidth\": 0, \"ticks\": \"\"}}, \"type\": \"scattergl\"}], \"scattermapbox\": [{\"marker\": {\"colorbar\": {\"outlinewidth\": 0, \"ticks\": \"\"}}, \"type\": \"scattermapbox\"}], \"scatterpolar\": [{\"marker\": {\"colorbar\": {\"outlinewidth\": 0, \"ticks\": \"\"}}, \"type\": \"scatterpolar\"}], \"scatterpolargl\": [{\"marker\": {\"colorbar\": {\"outlinewidth\": 0, \"ticks\": \"\"}}, \"type\": \"scatterpolargl\"}], \"scatterternary\": [{\"marker\": {\"colorbar\": {\"outlinewidth\": 0, \"ticks\": \"\"}}, \"type\": \"scatterternary\"}], \"surface\": [{\"colorbar\": {\"outlinewidth\": 0, \"ticks\": \"\"}, \"colorscale\": [[0.0, \"#0d0887\"], [0.1111111111111111, \"#46039f\"], [0.2222222222222222, \"#7201a8\"], [0.3333333333333333, \"#9c179e\"], [0.4444444444444444, \"#bd3786\"], [0.5555555555555556, \"#d8576b\"], [0.6666666666666666, \"#ed7953\"], [0.7777777777777778, \"#fb9f3a\"], [0.8888888888888888, \"#fdca26\"], [1.0, \"#f0f921\"]], \"type\": \"surface\"}], \"table\": [{\"cells\": {\"fill\": {\"color\": \"#EBF0F8\"}, \"line\": {\"color\": \"white\"}}, \"header\": {\"fill\": {\"color\": \"#C8D4E3\"}, \"line\": {\"color\": \"white\"}}, \"type\": \"table\"}]}, \"layout\": {\"annotationdefaults\": {\"arrowcolor\": \"#2a3f5f\", \"arrowhead\": 0, \"arrowwidth\": 1}, \"coloraxis\": {\"colorbar\": {\"outlinewidth\": 0, \"ticks\": \"\"}}, \"colorscale\": {\"diverging\": [[0, \"#8e0152\"], [0.1, \"#c51b7d\"], [0.2, \"#de77ae\"], [0.3, \"#f1b6da\"], [0.4, \"#fde0ef\"], [0.5, \"#f7f7f7\"], [0.6, \"#e6f5d0\"], [0.7, \"#b8e186\"], [0.8, \"#7fbc41\"], [0.9, \"#4d9221\"], [1, \"#276419\"]], \"sequential\": [[0.0, \"#0d0887\"], [0.1111111111111111, \"#46039f\"], [0.2222222222222222, \"#7201a8\"], [0.3333333333333333, \"#9c179e\"], [0.4444444444444444, \"#bd3786\"], [0.5555555555555556, \"#d8576b\"], [0.6666666666666666, \"#ed7953\"], [0.7777777777777778, \"#fb9f3a\"], [0.8888888888888888, \"#fdca26\"], [1.0, \"#f0f921\"]], \"sequentialminus\": [[0.0, \"#0d0887\"], [0.1111111111111111, \"#46039f\"], [0.2222222222222222, \"#7201a8\"], [0.3333333333333333, \"#9c179e\"], [0.4444444444444444, \"#bd3786\"], [0.5555555555555556, \"#d8576b\"], [0.6666666666666666, \"#ed7953\"], [0.7777777777777778, \"#fb9f3a\"], [0.8888888888888888, \"#fdca26\"], [1.0, \"#f0f921\"]]}, \"colorway\": [\"#636efa\", \"#EF553B\", \"#00cc96\", \"#ab63fa\", \"#FFA15A\", \"#19d3f3\", \"#FF6692\", \"#B6E880\", \"#FF97FF\", \"#FECB52\"], \"font\": {\"color\": \"#2a3f5f\"}, \"geo\": {\"bgcolor\": \"white\", \"lakecolor\": \"white\", \"landcolor\": \"#E5ECF6\", \"showlakes\": true, \"showland\": true, \"subunitcolor\": \"white\"}, \"hoverlabel\": {\"align\": \"left\"}, \"hovermode\": \"closest\", \"mapbox\": {\"style\": \"light\"}, \"paper_bgcolor\": \"white\", \"plot_bgcolor\": \"#E5ECF6\", \"polar\": {\"angularaxis\": {\"gridcolor\": \"white\", \"linecolor\": \"white\", \"ticks\": \"\"}, \"bgcolor\": \"#E5ECF6\", \"radialaxis\": {\"gridcolor\": \"white\", \"linecolor\": \"white\", \"ticks\": \"\"}}, \"scene\": {\"xaxis\": {\"backgroundcolor\": \"#E5ECF6\", \"gridcolor\": \"white\", \"gridwidth\": 2, \"linecolor\": \"white\", \"showbackground\": true, \"ticks\": \"\", \"zerolinecolor\": \"white\"}, \"yaxis\": {\"backgroundcolor\": \"#E5ECF6\", \"gridcolor\": \"white\", \"gridwidth\": 2, \"linecolor\": \"white\", \"showbackground\": true, \"ticks\": \"\", \"zerolinecolor\": \"white\"}, \"zaxis\": {\"backgroundcolor\": \"#E5ECF6\", \"gridcolor\": \"white\", \"gridwidth\": 2, \"linecolor\": \"white\", \"showbackground\": true, \"ticks\": \"\", \"zerolinecolor\": \"white\"}}, \"shapedefaults\": {\"line\": {\"color\": \"#2a3f5f\"}}, \"ternary\": {\"aaxis\": {\"gridcolor\": \"white\", \"linecolor\": \"white\", \"ticks\": \"\"}, \"baxis\": {\"gridcolor\": \"white\", \"linecolor\": \"white\", \"ticks\": \"\"}, \"bgcolor\": \"#E5ECF6\", \"caxis\": {\"gridcolor\": \"white\", \"linecolor\": \"white\", \"ticks\": \"\"}}, \"title\": {\"x\": 0.05}, \"xaxis\": {\"automargin\": true, \"gridcolor\": \"white\", \"linecolor\": \"white\", \"ticks\": \"\", \"title\": {\"standoff\": 15}, \"zerolinecolor\": \"white\", \"zerolinewidth\": 2}, \"yaxis\": {\"automargin\": true, \"gridcolor\": \"white\", \"linecolor\": \"white\", \"ticks\": \"\", \"title\": {\"standoff\": 15}, \"zerolinecolor\": \"white\", \"zerolinewidth\": 2}}}, \"title\": {\"text\": \"Indeed Software Engineer Job Openings Forecast via VARMAX Model\"}, \"xaxis\": {\"anchor\": \"y\", \"domain\": [0.0, 1.0]}, \"xaxis2\": {\"anchor\": \"y2\", \"domain\": [0.0, 0.45]}, \"xaxis3\": {\"anchor\": \"y3\", \"domain\": [0.55, 1.0]}, \"yaxis\": {\"anchor\": \"x\", \"domain\": [0.625, 1.0]}, \"yaxis2\": {\"anchor\": \"x2\", \"domain\": [0.0, 0.375]}, \"yaxis3\": {\"anchor\": \"x3\", \"domain\": [0.0, 0.375]}},\n",
       "                        {\"responsive\": true}\n",
       "                    ).then(function(){\n",
       "                            \n",
       "var gd = document.getElementById('22f00f7a-0722-468a-a051-7b5a629dce27');\n",
       "var x = new MutationObserver(function (mutations, observer) {{\n",
       "        var display = window.getComputedStyle(gd).display;\n",
       "        if (!display || display === 'none') {{\n",
       "            console.log([gd, 'removed!']);\n",
       "            Plotly.purge(gd);\n",
       "            observer.disconnect();\n",
       "        }}\n",
       "}});\n",
       "\n",
       "// Listen for the removal of the full notebook cells\n",
       "var notebookContainer = gd.closest('#notebook-container');\n",
       "if (notebookContainer) {{\n",
       "    x.observe(notebookContainer, {childList: true});\n",
       "}}\n",
       "\n",
       "// Listen for the clearing of the current output cell\n",
       "var outputEl = gd.closest('.output');\n",
       "if (outputEl) {{\n",
       "    x.observe(outputEl, {childList: true});\n",
       "}}\n",
       "\n",
       "                        })\n",
       "                };\n",
       "                });\n",
       "            </script>\n",
       "        </div>"
      ]
     },
     "metadata": {},
     "output_type": "display_data"
    }
   ],
   "source": [
    "fig = make_subplots(\n",
    "    rows=2, cols=2,\n",
    "    specs=[[{\"colspan\": 2}, None],[{}, {}]],\n",
    "    subplot_titles=(\"Train data\",'No eXog, RMSE: {:0.2f}'.format(error), 'X=Weekend, RMSE: {:0.2f}'.format(errorx)))\n",
    "\n",
    "fig.add_trace(go.Scatter(x=train.index, y=train['Jobnums'], mode='lines+markers',name='Train', showlegend=False), row=1, col=1)\n",
    "fig.add_trace(go.Scatter(x=test.index, y=test['Jobnums'], mode='lines+markers',line=dict(color='green'), name='Test', showlegend=False), row=2, col=1)\n",
    "fig.add_trace(go.Scatter(x=test.index, y=yhat_varma[\"Jobnums\"], mode='lines+markers',line=dict(color='red'), name='Prediction',showlegend=False),row=2, col=1)\n",
    "#fig.add_trace(go.Scatter(x=pred_cix.index, y=pred_ci.iloc[:,1], fill=None, mode='lines',line=dict(width=0.0,color='lightgray'),showlegend=False), row=2, col=1)\n",
    "#fig.add_trace(go.Scatter(x=pred_cix.index, y=pred_ci.iloc[:,3], fill='tonexty', mode='lines',line=dict(width=0.0,color='lightgray'),showlegend=False),row=2, col=1)\n",
    "fig.add_trace(go.Scatter(x=test.index, y=test['Jobnums'], mode='lines+markers', line=dict(color='green'), name='Test',showlegend=True), row=2, col=2)\n",
    "fig.add_trace(go.Scatter(x=test.index, y=yhat_varmax[\"Jobnums\"], mode='lines+markers', line=dict(color='red'), name='Prediction',showlegend=True),row=2, col=2)\n",
    "#fig.add_trace(go.Scatter(x=pred_cix.index, y=pred_u, fill=None, mode='lines',line=dict(width=0.0,color='lightgray'),showlegend=False), row=2, col=2)\n",
    "#fig.add_trace(go.Scatter(x=pred_cix.index, y=pred_l, fill='tonexty', mode='lines',line=dict(width=0.0,color='lightgray'),showlegend=False),row=2, col=2)\n",
    "fig.update_layout(title='Indeed Software Engineer Job Openings Forecast via VARMAX Model',legend=dict(x=1,y=0.25))\n",
    "fig.show()"
   ]
  },
  {
   "cell_type": "markdown",
   "metadata": {},
   "source": [
    "### Forecast the Future"
   ]
  },
  {
   "cell_type": "code",
   "execution_count": 51,
   "metadata": {},
   "outputs": [
    {
     "data": {
      "text/html": [
       "<div>\n",
       "<style scoped>\n",
       "    .dataframe tbody tr th:only-of-type {\n",
       "        vertical-align: middle;\n",
       "    }\n",
       "\n",
       "    .dataframe tbody tr th {\n",
       "        vertical-align: top;\n",
       "    }\n",
       "\n",
       "    .dataframe thead th {\n",
       "        text-align: right;\n",
       "    }\n",
       "</style>\n",
       "<table border=\"1\" class=\"dataframe\">\n",
       "  <thead>\n",
       "    <tr style=\"text-align: right;\">\n",
       "      <th></th>\n",
       "      <th>Date</th>\n",
       "      <th>Day of week</th>\n",
       "      <th>Weekend</th>\n",
       "    </tr>\n",
       "    <tr>\n",
       "      <th>Date</th>\n",
       "      <th></th>\n",
       "      <th></th>\n",
       "      <th></th>\n",
       "    </tr>\n",
       "  </thead>\n",
       "  <tbody>\n",
       "    <tr>\n",
       "      <td>2020-08-03</td>\n",
       "      <td>2020-08-03</td>\n",
       "      <td>Mon</td>\n",
       "      <td>0</td>\n",
       "    </tr>\n",
       "    <tr>\n",
       "      <td>2020-08-04</td>\n",
       "      <td>2020-08-04</td>\n",
       "      <td>Tue</td>\n",
       "      <td>0</td>\n",
       "    </tr>\n",
       "    <tr>\n",
       "      <td>2020-08-05</td>\n",
       "      <td>2020-08-05</td>\n",
       "      <td>Wed</td>\n",
       "      <td>0</td>\n",
       "    </tr>\n",
       "    <tr>\n",
       "      <td>2020-08-06</td>\n",
       "      <td>2020-08-06</td>\n",
       "      <td>Thu</td>\n",
       "      <td>0</td>\n",
       "    </tr>\n",
       "    <tr>\n",
       "      <td>2020-08-07</td>\n",
       "      <td>2020-08-07</td>\n",
       "      <td>Fri</td>\n",
       "      <td>0</td>\n",
       "    </tr>\n",
       "    <tr>\n",
       "      <td>2020-08-08</td>\n",
       "      <td>2020-08-08</td>\n",
       "      <td>Sat</td>\n",
       "      <td>1</td>\n",
       "    </tr>\n",
       "    <tr>\n",
       "      <td>2020-08-09</td>\n",
       "      <td>2020-08-09</td>\n",
       "      <td>Sun</td>\n",
       "      <td>1</td>\n",
       "    </tr>\n",
       "  </tbody>\n",
       "</table>\n",
       "</div>"
      ],
      "text/plain": [
       "                 Date Day of week  Weekend\n",
       "Date                                      \n",
       "2020-08-03 2020-08-03         Mon        0\n",
       "2020-08-04 2020-08-04         Tue        0\n",
       "2020-08-05 2020-08-05         Wed        0\n",
       "2020-08-06 2020-08-06         Thu        0\n",
       "2020-08-07 2020-08-07         Fri        0\n",
       "2020-08-08 2020-08-08         Sat        1\n",
       "2020-08-09 2020-08-09         Sun        1"
      ]
     },
     "execution_count": 51,
     "metadata": {},
     "output_type": "execute_result"
    }
   ],
   "source": [
    "df_indeed_future = pd.DataFrame(columns=['Date', 'Day of week', 'Weekend'])\n",
    "df_indeed_future['Date'] = pd.date_range('2020-08-03', '2020-08-09')\n",
    "df_indeed_future.set_index('Date', inplace=True, drop=False)\n",
    "df_indeed_future['Day of week'] = df_indeed_future['Date'].apply(lambda x: week[x.weekday()])\n",
    "df_indeed_future['Weekend'] = df_indeed_future['Day of week'].apply(lambda x: 1 if (x=='Sun') or (x=='Sat') else 0)\n",
    "df_indeed_future"
   ]
  },
  {
   "cell_type": "code",
   "execution_count": 52,
   "metadata": {},
   "outputs": [],
   "source": [
    "n_test = 7\n",
    "best_cfg = [(3, 1), 'c', 1]\n",
    "train = df_combined_indeed[['New','Jobnums']]\n",
    "exog_train = df_combined_indeed[['Weekend']]\n",
    "exog_test = df_indeed_future[['Weekend']]\n",
    "indeed_pred = pd.DataFrame()\n",
    "history = train.copy()\n",
    "exog_ = [x[:] for x in exog_train.values]\n",
    "for i in range(n_test):\n",
    "    yhat = varmax_forecast(history, 1, best_cfg, exog1=exog_, exog2=np.array(exog_test.iloc[i]).reshape(1,-1))\n",
    "    indeed_pred = indeed_pred.append(yhat)\n",
    "    history = history.append(yhat)\n",
    "    exog_.append(np.array(exog_test.iloc[i]))"
   ]
  },
  {
   "cell_type": "code",
   "execution_count": 56,
   "metadata": {},
   "outputs": [
    {
     "data": {
      "application/vnd.plotly.v1+json": {
       "config": {
        "plotlyServerURL": "https://plot.ly"
       },
       "data": [
        {
         "marker": {
          "color": "royalblue",
          "size": 8
         },
         "mode": "lines+markers",
         "name": "Train",
         "type": "scatter",
         "x": [
          "2020-06-12T00:00:00",
          "2020-06-13T00:00:00",
          "2020-06-14T00:00:00",
          "2020-06-15T00:00:00",
          "2020-06-16T00:00:00",
          "2020-06-17T00:00:00",
          "2020-06-18T00:00:00",
          "2020-06-19T00:00:00",
          "2020-06-20T00:00:00",
          "2020-06-21T00:00:00",
          "2020-06-22T00:00:00",
          "2020-06-23T00:00:00",
          "2020-06-24T00:00:00",
          "2020-06-25T00:00:00",
          "2020-06-26T00:00:00",
          "2020-06-27T00:00:00",
          "2020-06-28T00:00:00",
          "2020-06-29T00:00:00",
          "2020-06-30T00:00:00",
          "2020-07-01T00:00:00",
          "2020-07-02T00:00:00",
          "2020-07-03T00:00:00",
          "2020-07-04T00:00:00",
          "2020-07-05T00:00:00",
          "2020-07-06T00:00:00",
          "2020-07-07T00:00:00",
          "2020-07-08T00:00:00",
          "2020-07-09T00:00:00",
          "2020-07-10T00:00:00",
          "2020-07-11T00:00:00",
          "2020-07-12T00:00:00",
          "2020-07-13T00:00:00",
          "2020-07-14T00:00:00",
          "2020-07-15T00:00:00",
          "2020-07-16T00:00:00",
          "2020-07-17T00:00:00",
          "2020-07-18T00:00:00",
          "2020-07-19T00:00:00",
          "2020-07-20T00:00:00",
          "2020-07-21T00:00:00",
          "2020-07-22T00:00:00",
          "2020-07-23T00:00:00",
          "2020-07-24T00:00:00",
          "2020-07-25T00:00:00",
          "2020-07-26T00:00:00",
          "2020-07-27T00:00:00",
          "2020-07-28T00:00:00",
          "2020-07-29T00:00:00",
          "2020-07-30T00:00:00",
          "2020-07-31T00:00:00",
          "2020-08-01T00:00:00",
          "2020-08-02T00:00:00"
         ],
         "y": [
          282,
          330,
          61,
          227,
          576,
          645,
          680,
          686,
          334,
          39,
          302,
          815,
          726,
          719,
          805,
          433,
          55,
          326,
          964,
          1865,
          863,
          619,
          176,
          85,
          786,
          1740,
          1747,
          1794,
          1943,
          1167,
          205,
          606,
          804,
          820,
          793,
          721,
          334,
          103,
          551,
          995,
          981,
          953,
          989,
          403,
          81,
          678,
          1240,
          1294,
          1490,
          1500,
          728,
          143
         ]
        },
        {
         "marker": {
          "color": "red",
          "size": 8
         },
         "mode": "lines+markers",
         "name": "Future Forecast",
         "type": "scatter",
         "x": [
          "2020-08-03T00:00:00",
          "2020-08-04T00:00:00",
          "2020-08-05T00:00:00",
          "2020-08-06T00:00:00",
          "2020-08-07T00:00:00",
          "2020-08-08T00:00:00",
          "2020-08-09T00:00:00"
         ],
         "y": [
          737.6108288945313,
          1325.5956655361156,
          1527.2748624085377,
          1401.0323287873196,
          1441.7672555285128,
          809.6235442502808,
          344.6135286360468
         ]
        }
       ],
       "layout": {
        "annotations": [
         {
          "arrowhead": 2,
          "arrowsize": 1,
          "arrowwidth": 2,
          "ax": 10,
          "ay": -70,
          "font": {
           "size": 16
          },
          "text": "Future<br>forecast",
          "x": "2020-08-05",
          "y": 1600
         }
        ],
        "height": 500,
        "legend": {
         "font": {
          "size": 16
         },
         "x": 0.05,
         "y": 0.95
        },
        "margin": {
         "b": 0,
         "l": 0,
         "r": 10,
         "t": 90
        },
        "shapes": [
         {
          "fillcolor": "LightSalmon",
          "layer": "below",
          "line": {
           "width": 0
          },
          "opacity": 0.2,
          "type": "rect",
          "x0": "2020-08-03T00:00:00",
          "x1": "2020-08-09T00:00:00",
          "xref": "x",
          "y0": 0,
          "y1": 1,
          "yref": "paper"
         }
        ],
        "template": {
         "data": {
          "bar": [
           {
            "error_x": {
             "color": "#2a3f5f"
            },
            "error_y": {
             "color": "#2a3f5f"
            },
            "marker": {
             "line": {
              "color": "#E5ECF6",
              "width": 0.5
             }
            },
            "type": "bar"
           }
          ],
          "barpolar": [
           {
            "marker": {
             "line": {
              "color": "#E5ECF6",
              "width": 0.5
             }
            },
            "type": "barpolar"
           }
          ],
          "carpet": [
           {
            "aaxis": {
             "endlinecolor": "#2a3f5f",
             "gridcolor": "white",
             "linecolor": "white",
             "minorgridcolor": "white",
             "startlinecolor": "#2a3f5f"
            },
            "baxis": {
             "endlinecolor": "#2a3f5f",
             "gridcolor": "white",
             "linecolor": "white",
             "minorgridcolor": "white",
             "startlinecolor": "#2a3f5f"
            },
            "type": "carpet"
           }
          ],
          "choropleth": [
           {
            "colorbar": {
             "outlinewidth": 0,
             "ticks": ""
            },
            "type": "choropleth"
           }
          ],
          "contour": [
           {
            "colorbar": {
             "outlinewidth": 0,
             "ticks": ""
            },
            "colorscale": [
             [
              0,
              "#0d0887"
             ],
             [
              0.1111111111111111,
              "#46039f"
             ],
             [
              0.2222222222222222,
              "#7201a8"
             ],
             [
              0.3333333333333333,
              "#9c179e"
             ],
             [
              0.4444444444444444,
              "#bd3786"
             ],
             [
              0.5555555555555556,
              "#d8576b"
             ],
             [
              0.6666666666666666,
              "#ed7953"
             ],
             [
              0.7777777777777778,
              "#fb9f3a"
             ],
             [
              0.8888888888888888,
              "#fdca26"
             ],
             [
              1,
              "#f0f921"
             ]
            ],
            "type": "contour"
           }
          ],
          "contourcarpet": [
           {
            "colorbar": {
             "outlinewidth": 0,
             "ticks": ""
            },
            "type": "contourcarpet"
           }
          ],
          "heatmap": [
           {
            "colorbar": {
             "outlinewidth": 0,
             "ticks": ""
            },
            "colorscale": [
             [
              0,
              "#0d0887"
             ],
             [
              0.1111111111111111,
              "#46039f"
             ],
             [
              0.2222222222222222,
              "#7201a8"
             ],
             [
              0.3333333333333333,
              "#9c179e"
             ],
             [
              0.4444444444444444,
              "#bd3786"
             ],
             [
              0.5555555555555556,
              "#d8576b"
             ],
             [
              0.6666666666666666,
              "#ed7953"
             ],
             [
              0.7777777777777778,
              "#fb9f3a"
             ],
             [
              0.8888888888888888,
              "#fdca26"
             ],
             [
              1,
              "#f0f921"
             ]
            ],
            "type": "heatmap"
           }
          ],
          "heatmapgl": [
           {
            "colorbar": {
             "outlinewidth": 0,
             "ticks": ""
            },
            "colorscale": [
             [
              0,
              "#0d0887"
             ],
             [
              0.1111111111111111,
              "#46039f"
             ],
             [
              0.2222222222222222,
              "#7201a8"
             ],
             [
              0.3333333333333333,
              "#9c179e"
             ],
             [
              0.4444444444444444,
              "#bd3786"
             ],
             [
              0.5555555555555556,
              "#d8576b"
             ],
             [
              0.6666666666666666,
              "#ed7953"
             ],
             [
              0.7777777777777778,
              "#fb9f3a"
             ],
             [
              0.8888888888888888,
              "#fdca26"
             ],
             [
              1,
              "#f0f921"
             ]
            ],
            "type": "heatmapgl"
           }
          ],
          "histogram": [
           {
            "marker": {
             "colorbar": {
              "outlinewidth": 0,
              "ticks": ""
             }
            },
            "type": "histogram"
           }
          ],
          "histogram2d": [
           {
            "colorbar": {
             "outlinewidth": 0,
             "ticks": ""
            },
            "colorscale": [
             [
              0,
              "#0d0887"
             ],
             [
              0.1111111111111111,
              "#46039f"
             ],
             [
              0.2222222222222222,
              "#7201a8"
             ],
             [
              0.3333333333333333,
              "#9c179e"
             ],
             [
              0.4444444444444444,
              "#bd3786"
             ],
             [
              0.5555555555555556,
              "#d8576b"
             ],
             [
              0.6666666666666666,
              "#ed7953"
             ],
             [
              0.7777777777777778,
              "#fb9f3a"
             ],
             [
              0.8888888888888888,
              "#fdca26"
             ],
             [
              1,
              "#f0f921"
             ]
            ],
            "type": "histogram2d"
           }
          ],
          "histogram2dcontour": [
           {
            "colorbar": {
             "outlinewidth": 0,
             "ticks": ""
            },
            "colorscale": [
             [
              0,
              "#0d0887"
             ],
             [
              0.1111111111111111,
              "#46039f"
             ],
             [
              0.2222222222222222,
              "#7201a8"
             ],
             [
              0.3333333333333333,
              "#9c179e"
             ],
             [
              0.4444444444444444,
              "#bd3786"
             ],
             [
              0.5555555555555556,
              "#d8576b"
             ],
             [
              0.6666666666666666,
              "#ed7953"
             ],
             [
              0.7777777777777778,
              "#fb9f3a"
             ],
             [
              0.8888888888888888,
              "#fdca26"
             ],
             [
              1,
              "#f0f921"
             ]
            ],
            "type": "histogram2dcontour"
           }
          ],
          "mesh3d": [
           {
            "colorbar": {
             "outlinewidth": 0,
             "ticks": ""
            },
            "type": "mesh3d"
           }
          ],
          "parcoords": [
           {
            "line": {
             "colorbar": {
              "outlinewidth": 0,
              "ticks": ""
             }
            },
            "type": "parcoords"
           }
          ],
          "pie": [
           {
            "automargin": true,
            "type": "pie"
           }
          ],
          "scatter": [
           {
            "marker": {
             "colorbar": {
              "outlinewidth": 0,
              "ticks": ""
             }
            },
            "type": "scatter"
           }
          ],
          "scatter3d": [
           {
            "line": {
             "colorbar": {
              "outlinewidth": 0,
              "ticks": ""
             }
            },
            "marker": {
             "colorbar": {
              "outlinewidth": 0,
              "ticks": ""
             }
            },
            "type": "scatter3d"
           }
          ],
          "scattercarpet": [
           {
            "marker": {
             "colorbar": {
              "outlinewidth": 0,
              "ticks": ""
             }
            },
            "type": "scattercarpet"
           }
          ],
          "scattergeo": [
           {
            "marker": {
             "colorbar": {
              "outlinewidth": 0,
              "ticks": ""
             }
            },
            "type": "scattergeo"
           }
          ],
          "scattergl": [
           {
            "marker": {
             "colorbar": {
              "outlinewidth": 0,
              "ticks": ""
             }
            },
            "type": "scattergl"
           }
          ],
          "scattermapbox": [
           {
            "marker": {
             "colorbar": {
              "outlinewidth": 0,
              "ticks": ""
             }
            },
            "type": "scattermapbox"
           }
          ],
          "scatterpolar": [
           {
            "marker": {
             "colorbar": {
              "outlinewidth": 0,
              "ticks": ""
             }
            },
            "type": "scatterpolar"
           }
          ],
          "scatterpolargl": [
           {
            "marker": {
             "colorbar": {
              "outlinewidth": 0,
              "ticks": ""
             }
            },
            "type": "scatterpolargl"
           }
          ],
          "scatterternary": [
           {
            "marker": {
             "colorbar": {
              "outlinewidth": 0,
              "ticks": ""
             }
            },
            "type": "scatterternary"
           }
          ],
          "surface": [
           {
            "colorbar": {
             "outlinewidth": 0,
             "ticks": ""
            },
            "colorscale": [
             [
              0,
              "#0d0887"
             ],
             [
              0.1111111111111111,
              "#46039f"
             ],
             [
              0.2222222222222222,
              "#7201a8"
             ],
             [
              0.3333333333333333,
              "#9c179e"
             ],
             [
              0.4444444444444444,
              "#bd3786"
             ],
             [
              0.5555555555555556,
              "#d8576b"
             ],
             [
              0.6666666666666666,
              "#ed7953"
             ],
             [
              0.7777777777777778,
              "#fb9f3a"
             ],
             [
              0.8888888888888888,
              "#fdca26"
             ],
             [
              1,
              "#f0f921"
             ]
            ],
            "type": "surface"
           }
          ],
          "table": [
           {
            "cells": {
             "fill": {
              "color": "#EBF0F8"
             },
             "line": {
              "color": "white"
             }
            },
            "header": {
             "fill": {
              "color": "#C8D4E3"
             },
             "line": {
              "color": "white"
             }
            },
            "type": "table"
           }
          ]
         },
         "layout": {
          "annotationdefaults": {
           "arrowcolor": "#2a3f5f",
           "arrowhead": 0,
           "arrowwidth": 1
          },
          "coloraxis": {
           "colorbar": {
            "outlinewidth": 0,
            "ticks": ""
           }
          },
          "colorscale": {
           "diverging": [
            [
             0,
             "#8e0152"
            ],
            [
             0.1,
             "#c51b7d"
            ],
            [
             0.2,
             "#de77ae"
            ],
            [
             0.3,
             "#f1b6da"
            ],
            [
             0.4,
             "#fde0ef"
            ],
            [
             0.5,
             "#f7f7f7"
            ],
            [
             0.6,
             "#e6f5d0"
            ],
            [
             0.7,
             "#b8e186"
            ],
            [
             0.8,
             "#7fbc41"
            ],
            [
             0.9,
             "#4d9221"
            ],
            [
             1,
             "#276419"
            ]
           ],
           "sequential": [
            [
             0,
             "#0d0887"
            ],
            [
             0.1111111111111111,
             "#46039f"
            ],
            [
             0.2222222222222222,
             "#7201a8"
            ],
            [
             0.3333333333333333,
             "#9c179e"
            ],
            [
             0.4444444444444444,
             "#bd3786"
            ],
            [
             0.5555555555555556,
             "#d8576b"
            ],
            [
             0.6666666666666666,
             "#ed7953"
            ],
            [
             0.7777777777777778,
             "#fb9f3a"
            ],
            [
             0.8888888888888888,
             "#fdca26"
            ],
            [
             1,
             "#f0f921"
            ]
           ],
           "sequentialminus": [
            [
             0,
             "#0d0887"
            ],
            [
             0.1111111111111111,
             "#46039f"
            ],
            [
             0.2222222222222222,
             "#7201a8"
            ],
            [
             0.3333333333333333,
             "#9c179e"
            ],
            [
             0.4444444444444444,
             "#bd3786"
            ],
            [
             0.5555555555555556,
             "#d8576b"
            ],
            [
             0.6666666666666666,
             "#ed7953"
            ],
            [
             0.7777777777777778,
             "#fb9f3a"
            ],
            [
             0.8888888888888888,
             "#fdca26"
            ],
            [
             1,
             "#f0f921"
            ]
           ]
          },
          "colorway": [
           "#636efa",
           "#EF553B",
           "#00cc96",
           "#ab63fa",
           "#FFA15A",
           "#19d3f3",
           "#FF6692",
           "#B6E880",
           "#FF97FF",
           "#FECB52"
          ],
          "font": {
           "color": "#2a3f5f"
          },
          "geo": {
           "bgcolor": "white",
           "lakecolor": "white",
           "landcolor": "#E5ECF6",
           "showlakes": true,
           "showland": true,
           "subunitcolor": "white"
          },
          "hoverlabel": {
           "align": "left"
          },
          "hovermode": "closest",
          "mapbox": {
           "style": "light"
          },
          "paper_bgcolor": "white",
          "plot_bgcolor": "#E5ECF6",
          "polar": {
           "angularaxis": {
            "gridcolor": "white",
            "linecolor": "white",
            "ticks": ""
           },
           "bgcolor": "#E5ECF6",
           "radialaxis": {
            "gridcolor": "white",
            "linecolor": "white",
            "ticks": ""
           }
          },
          "scene": {
           "xaxis": {
            "backgroundcolor": "#E5ECF6",
            "gridcolor": "white",
            "gridwidth": 2,
            "linecolor": "white",
            "showbackground": true,
            "ticks": "",
            "zerolinecolor": "white"
           },
           "yaxis": {
            "backgroundcolor": "#E5ECF6",
            "gridcolor": "white",
            "gridwidth": 2,
            "linecolor": "white",
            "showbackground": true,
            "ticks": "",
            "zerolinecolor": "white"
           },
           "zaxis": {
            "backgroundcolor": "#E5ECF6",
            "gridcolor": "white",
            "gridwidth": 2,
            "linecolor": "white",
            "showbackground": true,
            "ticks": "",
            "zerolinecolor": "white"
           }
          },
          "shapedefaults": {
           "line": {
            "color": "#2a3f5f"
           }
          },
          "ternary": {
           "aaxis": {
            "gridcolor": "white",
            "linecolor": "white",
            "ticks": ""
           },
           "baxis": {
            "gridcolor": "white",
            "linecolor": "white",
            "ticks": ""
           },
           "bgcolor": "#E5ECF6",
           "caxis": {
            "gridcolor": "white",
            "linecolor": "white",
            "ticks": ""
           }
          },
          "title": {
           "x": 0.05
          },
          "xaxis": {
           "automargin": true,
           "gridcolor": "white",
           "linecolor": "white",
           "ticks": "",
           "title": {
            "standoff": 15
           },
           "zerolinecolor": "white",
           "zerolinewidth": 2
          },
          "yaxis": {
           "automargin": true,
           "gridcolor": "white",
           "linecolor": "white",
           "ticks": "",
           "title": {
            "standoff": 15
           },
           "zerolinecolor": "white",
           "zerolinewidth": 2
          }
         }
        },
        "title": {
         "font": {
          "size": 20
         },
         "text": "Indeed Software Engineer Open Positions Future Forecast (VARMAX Model)",
         "x": 0.52,
         "xanchor": "center",
         "y": 0.9,
         "yanchor": "top"
        },
        "width": 900,
        "xaxis": {
         "tickfont": {
          "size": 16
         },
         "title": {
          "font": {
           "size": 18
          },
          "standoff": 0,
          "text": "Post date"
         }
        },
        "yaxis": {
         "tickfont": {
          "size": 16
         },
         "title": {
          "font": {
           "size": 18
          },
          "text": "Job numbers"
         }
        }
       }
      },
      "text/html": [
       "<div>\n",
       "        \n",
       "        \n",
       "            <div id=\"c5f06b69-49a5-432a-9e88-7faca367b1a1\" class=\"plotly-graph-div\" style=\"height:500px; width:900px;\"></div>\n",
       "            <script type=\"text/javascript\">\n",
       "                require([\"plotly\"], function(Plotly) {\n",
       "                    window.PLOTLYENV=window.PLOTLYENV || {};\n",
       "                    \n",
       "                if (document.getElementById(\"c5f06b69-49a5-432a-9e88-7faca367b1a1\")) {\n",
       "                    Plotly.newPlot(\n",
       "                        'c5f06b69-49a5-432a-9e88-7faca367b1a1',\n",
       "                        [{\"marker\": {\"color\": \"royalblue\", \"size\": 8}, \"mode\": \"lines+markers\", \"name\": \"Train\", \"type\": \"scatter\", \"x\": [\"2020-06-12T00:00:00\", \"2020-06-13T00:00:00\", \"2020-06-14T00:00:00\", \"2020-06-15T00:00:00\", \"2020-06-16T00:00:00\", \"2020-06-17T00:00:00\", \"2020-06-18T00:00:00\", \"2020-06-19T00:00:00\", \"2020-06-20T00:00:00\", \"2020-06-21T00:00:00\", \"2020-06-22T00:00:00\", \"2020-06-23T00:00:00\", \"2020-06-24T00:00:00\", \"2020-06-25T00:00:00\", \"2020-06-26T00:00:00\", \"2020-06-27T00:00:00\", \"2020-06-28T00:00:00\", \"2020-06-29T00:00:00\", \"2020-06-30T00:00:00\", \"2020-07-01T00:00:00\", \"2020-07-02T00:00:00\", \"2020-07-03T00:00:00\", \"2020-07-04T00:00:00\", \"2020-07-05T00:00:00\", \"2020-07-06T00:00:00\", \"2020-07-07T00:00:00\", \"2020-07-08T00:00:00\", \"2020-07-09T00:00:00\", \"2020-07-10T00:00:00\", \"2020-07-11T00:00:00\", \"2020-07-12T00:00:00\", \"2020-07-13T00:00:00\", \"2020-07-14T00:00:00\", \"2020-07-15T00:00:00\", \"2020-07-16T00:00:00\", \"2020-07-17T00:00:00\", \"2020-07-18T00:00:00\", \"2020-07-19T00:00:00\", \"2020-07-20T00:00:00\", \"2020-07-21T00:00:00\", \"2020-07-22T00:00:00\", \"2020-07-23T00:00:00\", \"2020-07-24T00:00:00\", \"2020-07-25T00:00:00\", \"2020-07-26T00:00:00\", \"2020-07-27T00:00:00\", \"2020-07-28T00:00:00\", \"2020-07-29T00:00:00\", \"2020-07-30T00:00:00\", \"2020-07-31T00:00:00\", \"2020-08-01T00:00:00\", \"2020-08-02T00:00:00\"], \"y\": [282, 330, 61, 227, 576, 645, 680, 686, 334, 39, 302, 815, 726, 719, 805, 433, 55, 326, 964, 1865, 863, 619, 176, 85, 786, 1740, 1747, 1794, 1943, 1167, 205, 606, 804, 820, 793, 721, 334, 103, 551, 995, 981, 953, 989, 403, 81, 678, 1240, 1294, 1490, 1500, 728, 143]}, {\"marker\": {\"color\": \"red\", \"size\": 8}, \"mode\": \"lines+markers\", \"name\": \"Future Forecast\", \"type\": \"scatter\", \"x\": [\"2020-08-03T00:00:00\", \"2020-08-04T00:00:00\", \"2020-08-05T00:00:00\", \"2020-08-06T00:00:00\", \"2020-08-07T00:00:00\", \"2020-08-08T00:00:00\", \"2020-08-09T00:00:00\"], \"y\": [737.6108288945313, 1325.5956655361156, 1527.2748624085377, 1401.0323287873196, 1441.7672555285128, 809.6235442502808, 344.6135286360468]}],\n",
       "                        {\"annotations\": [{\"arrowhead\": 2, \"arrowsize\": 1, \"arrowwidth\": 2, \"ax\": 10, \"ay\": -70, \"font\": {\"size\": 16}, \"text\": \"Future<br>forecast\", \"x\": \"2020-08-05\", \"y\": 1600}], \"height\": 500, \"legend\": {\"font\": {\"size\": 16}, \"x\": 0.05, \"y\": 0.95}, \"margin\": {\"b\": 0, \"l\": 0, \"r\": 10, \"t\": 90}, \"shapes\": [{\"fillcolor\": \"LightSalmon\", \"layer\": \"below\", \"line\": {\"width\": 0}, \"opacity\": 0.2, \"type\": \"rect\", \"x0\": \"2020-08-03T00:00:00\", \"x1\": \"2020-08-09T00:00:00\", \"xref\": \"x\", \"y0\": 0, \"y1\": 1, \"yref\": \"paper\"}], \"template\": {\"data\": {\"bar\": [{\"error_x\": {\"color\": \"#2a3f5f\"}, \"error_y\": {\"color\": \"#2a3f5f\"}, \"marker\": {\"line\": {\"color\": \"#E5ECF6\", \"width\": 0.5}}, \"type\": \"bar\"}], \"barpolar\": [{\"marker\": {\"line\": {\"color\": \"#E5ECF6\", \"width\": 0.5}}, \"type\": \"barpolar\"}], \"carpet\": [{\"aaxis\": {\"endlinecolor\": \"#2a3f5f\", \"gridcolor\": \"white\", \"linecolor\": \"white\", \"minorgridcolor\": \"white\", \"startlinecolor\": \"#2a3f5f\"}, \"baxis\": {\"endlinecolor\": \"#2a3f5f\", \"gridcolor\": \"white\", \"linecolor\": \"white\", \"minorgridcolor\": \"white\", \"startlinecolor\": \"#2a3f5f\"}, \"type\": \"carpet\"}], \"choropleth\": [{\"colorbar\": {\"outlinewidth\": 0, \"ticks\": \"\"}, \"type\": \"choropleth\"}], \"contour\": [{\"colorbar\": {\"outlinewidth\": 0, \"ticks\": \"\"}, \"colorscale\": [[0.0, \"#0d0887\"], [0.1111111111111111, \"#46039f\"], [0.2222222222222222, \"#7201a8\"], [0.3333333333333333, \"#9c179e\"], [0.4444444444444444, \"#bd3786\"], [0.5555555555555556, \"#d8576b\"], [0.6666666666666666, \"#ed7953\"], [0.7777777777777778, \"#fb9f3a\"], [0.8888888888888888, \"#fdca26\"], [1.0, \"#f0f921\"]], \"type\": \"contour\"}], \"contourcarpet\": [{\"colorbar\": {\"outlinewidth\": 0, \"ticks\": \"\"}, \"type\": \"contourcarpet\"}], \"heatmap\": [{\"colorbar\": {\"outlinewidth\": 0, \"ticks\": \"\"}, \"colorscale\": [[0.0, \"#0d0887\"], [0.1111111111111111, \"#46039f\"], [0.2222222222222222, \"#7201a8\"], [0.3333333333333333, \"#9c179e\"], [0.4444444444444444, \"#bd3786\"], [0.5555555555555556, \"#d8576b\"], [0.6666666666666666, \"#ed7953\"], [0.7777777777777778, \"#fb9f3a\"], [0.8888888888888888, \"#fdca26\"], [1.0, \"#f0f921\"]], \"type\": \"heatmap\"}], \"heatmapgl\": [{\"colorbar\": {\"outlinewidth\": 0, \"ticks\": \"\"}, \"colorscale\": [[0.0, \"#0d0887\"], [0.1111111111111111, \"#46039f\"], [0.2222222222222222, \"#7201a8\"], [0.3333333333333333, \"#9c179e\"], [0.4444444444444444, \"#bd3786\"], [0.5555555555555556, \"#d8576b\"], [0.6666666666666666, \"#ed7953\"], [0.7777777777777778, \"#fb9f3a\"], [0.8888888888888888, \"#fdca26\"], [1.0, \"#f0f921\"]], \"type\": \"heatmapgl\"}], \"histogram\": [{\"marker\": {\"colorbar\": {\"outlinewidth\": 0, \"ticks\": \"\"}}, \"type\": \"histogram\"}], \"histogram2d\": [{\"colorbar\": {\"outlinewidth\": 0, \"ticks\": \"\"}, \"colorscale\": [[0.0, \"#0d0887\"], [0.1111111111111111, \"#46039f\"], [0.2222222222222222, \"#7201a8\"], [0.3333333333333333, \"#9c179e\"], [0.4444444444444444, \"#bd3786\"], [0.5555555555555556, \"#d8576b\"], [0.6666666666666666, \"#ed7953\"], [0.7777777777777778, \"#fb9f3a\"], [0.8888888888888888, \"#fdca26\"], [1.0, \"#f0f921\"]], \"type\": \"histogram2d\"}], \"histogram2dcontour\": [{\"colorbar\": {\"outlinewidth\": 0, \"ticks\": \"\"}, \"colorscale\": [[0.0, \"#0d0887\"], [0.1111111111111111, \"#46039f\"], [0.2222222222222222, \"#7201a8\"], [0.3333333333333333, \"#9c179e\"], [0.4444444444444444, \"#bd3786\"], [0.5555555555555556, \"#d8576b\"], [0.6666666666666666, \"#ed7953\"], [0.7777777777777778, \"#fb9f3a\"], [0.8888888888888888, \"#fdca26\"], [1.0, \"#f0f921\"]], \"type\": \"histogram2dcontour\"}], \"mesh3d\": [{\"colorbar\": {\"outlinewidth\": 0, \"ticks\": \"\"}, \"type\": \"mesh3d\"}], \"parcoords\": [{\"line\": {\"colorbar\": {\"outlinewidth\": 0, \"ticks\": \"\"}}, \"type\": \"parcoords\"}], \"pie\": [{\"automargin\": true, \"type\": \"pie\"}], \"scatter\": [{\"marker\": {\"colorbar\": {\"outlinewidth\": 0, \"ticks\": \"\"}}, \"type\": \"scatter\"}], \"scatter3d\": [{\"line\": {\"colorbar\": {\"outlinewidth\": 0, \"ticks\": \"\"}}, \"marker\": {\"colorbar\": {\"outlinewidth\": 0, \"ticks\": \"\"}}, \"type\": \"scatter3d\"}], \"scattercarpet\": [{\"marker\": {\"colorbar\": {\"outlinewidth\": 0, \"ticks\": \"\"}}, \"type\": \"scattercarpet\"}], \"scattergeo\": [{\"marker\": {\"colorbar\": {\"outlinewidth\": 0, \"ticks\": \"\"}}, \"type\": \"scattergeo\"}], \"scattergl\": [{\"marker\": {\"colorbar\": {\"outlinewidth\": 0, \"ticks\": \"\"}}, \"type\": \"scattergl\"}], \"scattermapbox\": [{\"marker\": {\"colorbar\": {\"outlinewidth\": 0, \"ticks\": \"\"}}, \"type\": \"scattermapbox\"}], \"scatterpolar\": [{\"marker\": {\"colorbar\": {\"outlinewidth\": 0, \"ticks\": \"\"}}, \"type\": \"scatterpolar\"}], \"scatterpolargl\": [{\"marker\": {\"colorbar\": {\"outlinewidth\": 0, \"ticks\": \"\"}}, \"type\": \"scatterpolargl\"}], \"scatterternary\": [{\"marker\": {\"colorbar\": {\"outlinewidth\": 0, \"ticks\": \"\"}}, \"type\": \"scatterternary\"}], \"surface\": [{\"colorbar\": {\"outlinewidth\": 0, \"ticks\": \"\"}, \"colorscale\": [[0.0, \"#0d0887\"], [0.1111111111111111, \"#46039f\"], [0.2222222222222222, \"#7201a8\"], [0.3333333333333333, \"#9c179e\"], [0.4444444444444444, \"#bd3786\"], [0.5555555555555556, \"#d8576b\"], [0.6666666666666666, \"#ed7953\"], [0.7777777777777778, \"#fb9f3a\"], [0.8888888888888888, \"#fdca26\"], [1.0, \"#f0f921\"]], \"type\": \"surface\"}], \"table\": [{\"cells\": {\"fill\": {\"color\": \"#EBF0F8\"}, \"line\": {\"color\": \"white\"}}, \"header\": {\"fill\": {\"color\": \"#C8D4E3\"}, \"line\": {\"color\": \"white\"}}, \"type\": \"table\"}]}, \"layout\": {\"annotationdefaults\": {\"arrowcolor\": \"#2a3f5f\", \"arrowhead\": 0, \"arrowwidth\": 1}, \"coloraxis\": {\"colorbar\": {\"outlinewidth\": 0, \"ticks\": \"\"}}, \"colorscale\": {\"diverging\": [[0, \"#8e0152\"], [0.1, \"#c51b7d\"], [0.2, \"#de77ae\"], [0.3, \"#f1b6da\"], [0.4, \"#fde0ef\"], [0.5, \"#f7f7f7\"], [0.6, \"#e6f5d0\"], [0.7, \"#b8e186\"], [0.8, \"#7fbc41\"], [0.9, \"#4d9221\"], [1, \"#276419\"]], \"sequential\": [[0.0, \"#0d0887\"], [0.1111111111111111, \"#46039f\"], [0.2222222222222222, \"#7201a8\"], [0.3333333333333333, \"#9c179e\"], [0.4444444444444444, \"#bd3786\"], [0.5555555555555556, \"#d8576b\"], [0.6666666666666666, \"#ed7953\"], [0.7777777777777778, \"#fb9f3a\"], [0.8888888888888888, \"#fdca26\"], [1.0, \"#f0f921\"]], \"sequentialminus\": [[0.0, \"#0d0887\"], [0.1111111111111111, \"#46039f\"], [0.2222222222222222, \"#7201a8\"], [0.3333333333333333, \"#9c179e\"], [0.4444444444444444, \"#bd3786\"], [0.5555555555555556, \"#d8576b\"], [0.6666666666666666, \"#ed7953\"], [0.7777777777777778, \"#fb9f3a\"], [0.8888888888888888, \"#fdca26\"], [1.0, \"#f0f921\"]]}, \"colorway\": [\"#636efa\", \"#EF553B\", \"#00cc96\", \"#ab63fa\", \"#FFA15A\", \"#19d3f3\", \"#FF6692\", \"#B6E880\", \"#FF97FF\", \"#FECB52\"], \"font\": {\"color\": \"#2a3f5f\"}, \"geo\": {\"bgcolor\": \"white\", \"lakecolor\": \"white\", \"landcolor\": \"#E5ECF6\", \"showlakes\": true, \"showland\": true, \"subunitcolor\": \"white\"}, \"hoverlabel\": {\"align\": \"left\"}, \"hovermode\": \"closest\", \"mapbox\": {\"style\": \"light\"}, \"paper_bgcolor\": \"white\", \"plot_bgcolor\": \"#E5ECF6\", \"polar\": {\"angularaxis\": {\"gridcolor\": \"white\", \"linecolor\": \"white\", \"ticks\": \"\"}, \"bgcolor\": \"#E5ECF6\", \"radialaxis\": {\"gridcolor\": \"white\", \"linecolor\": \"white\", \"ticks\": \"\"}}, \"scene\": {\"xaxis\": {\"backgroundcolor\": \"#E5ECF6\", \"gridcolor\": \"white\", \"gridwidth\": 2, \"linecolor\": \"white\", \"showbackground\": true, \"ticks\": \"\", \"zerolinecolor\": \"white\"}, \"yaxis\": {\"backgroundcolor\": \"#E5ECF6\", \"gridcolor\": \"white\", \"gridwidth\": 2, \"linecolor\": \"white\", \"showbackground\": true, \"ticks\": \"\", \"zerolinecolor\": \"white\"}, \"zaxis\": {\"backgroundcolor\": \"#E5ECF6\", \"gridcolor\": \"white\", \"gridwidth\": 2, \"linecolor\": \"white\", \"showbackground\": true, \"ticks\": \"\", \"zerolinecolor\": \"white\"}}, \"shapedefaults\": {\"line\": {\"color\": \"#2a3f5f\"}}, \"ternary\": {\"aaxis\": {\"gridcolor\": \"white\", \"linecolor\": \"white\", \"ticks\": \"\"}, \"baxis\": {\"gridcolor\": \"white\", \"linecolor\": \"white\", \"ticks\": \"\"}, \"bgcolor\": \"#E5ECF6\", \"caxis\": {\"gridcolor\": \"white\", \"linecolor\": \"white\", \"ticks\": \"\"}}, \"title\": {\"x\": 0.05}, \"xaxis\": {\"automargin\": true, \"gridcolor\": \"white\", \"linecolor\": \"white\", \"ticks\": \"\", \"title\": {\"standoff\": 15}, \"zerolinecolor\": \"white\", \"zerolinewidth\": 2}, \"yaxis\": {\"automargin\": true, \"gridcolor\": \"white\", \"linecolor\": \"white\", \"ticks\": \"\", \"title\": {\"standoff\": 15}, \"zerolinecolor\": \"white\", \"zerolinewidth\": 2}}}, \"title\": {\"font\": {\"size\": 20}, \"text\": \"Indeed Software Engineer Open Positions Future Forecast (VARMAX Model)\", \"x\": 0.52, \"xanchor\": \"center\", \"y\": 0.9, \"yanchor\": \"top\"}, \"width\": 900, \"xaxis\": {\"tickfont\": {\"size\": 16}, \"title\": {\"font\": {\"size\": 18}, \"standoff\": 0, \"text\": \"Post date\"}}, \"yaxis\": {\"tickfont\": {\"size\": 16}, \"title\": {\"font\": {\"size\": 18}, \"text\": \"Job numbers\"}}},\n",
       "                        {\"responsive\": true}\n",
       "                    ).then(function(){\n",
       "                            \n",
       "var gd = document.getElementById('c5f06b69-49a5-432a-9e88-7faca367b1a1');\n",
       "var x = new MutationObserver(function (mutations, observer) {{\n",
       "        var display = window.getComputedStyle(gd).display;\n",
       "        if (!display || display === 'none') {{\n",
       "            console.log([gd, 'removed!']);\n",
       "            Plotly.purge(gd);\n",
       "            observer.disconnect();\n",
       "        }}\n",
       "}});\n",
       "\n",
       "// Listen for the removal of the full notebook cells\n",
       "var notebookContainer = gd.closest('#notebook-container');\n",
       "if (notebookContainer) {{\n",
       "    x.observe(notebookContainer, {childList: true});\n",
       "}}\n",
       "\n",
       "// Listen for the clearing of the current output cell\n",
       "var outputEl = gd.closest('.output');\n",
       "if (outputEl) {{\n",
       "    x.observe(outputEl, {childList: true});\n",
       "}}\n",
       "\n",
       "                        })\n",
       "                };\n",
       "                });\n",
       "            </script>\n",
       "        </div>"
      ]
     },
     "metadata": {},
     "output_type": "display_data"
    }
   ],
   "source": [
    "fig = go.Figure()\n",
    "\n",
    "fig.update_layout(\n",
    "    shapes=[\n",
    "        dict(\n",
    "            type=\"rect\",\n",
    "            xref=\"x\",\n",
    "            yref=\"paper\",\n",
    "            x0=df_indeed_future.index[0],\n",
    "            y0=0,\n",
    "            x1=df_indeed_future.index[-1],\n",
    "            y1=1,\n",
    "            fillcolor=\"LightSalmon\",\n",
    "            opacity=0.2,\n",
    "            layer=\"below\",\n",
    "            line_width=0,\n",
    "        )\n",
    "    ]\n",
    ")\n",
    "\n",
    "fig.add_trace(go.Scatter(x=df_combined_indeed.index, y=df_combined_indeed['Jobnums'], mode='lines+markers', \n",
    "                         marker=dict(size=8, color='royalblue'), name='Train'))\n",
    "\n",
    "fig.add_trace(go.Scatter(x=df_indeed_future.index, y=indeed_pred['Jobnums'], mode='lines+markers', \n",
    "                         marker=dict(size=8, color='red'), name='Future Forecast'))\n",
    "#fig.add_trace(go.Scatter(x=df_indeed_future.index, y=yhat_fcast['Jobnums'], mode='lines+markers', \n",
    "#                         marker=dict(size=8, color='green'), name='Future Forecast'))\n",
    "\n",
    "# fig.add_trace(go.Scatter(x=df_indeed_future.index, y=pred_ci.iloc[:,1],\n",
    "#                          fill='tonexty',\n",
    "#                          mode='lines', line_color='lightgrey',line_width=0,\n",
    "#                          showlegend=False))\n",
    "# fig.add_trace(go.Scatter(x=df_indeed_future.index, y=pred_ci.iloc[:,0],\n",
    "#                          fill='tonexty',\n",
    "#                          mode='lines', line_color='grey', opacity=0.1, line_width=0,\n",
    "#                          showlegend=False))\n",
    "\n",
    "fig.add_annotation(\n",
    "            x='2020-08-05',\n",
    "            y=1600,\n",
    "            text=\"Future<br>forecast\",\n",
    "            font=dict(size=16),\n",
    "            arrowhead=2,\n",
    "            arrowsize=1,\n",
    "            arrowwidth=2,\n",
    "            ax=10,\n",
    "            ay=-70,)\n",
    "\n",
    "fig.update_layout(title={'text': \"Indeed Software Engineer Open Positions Future Forecast (VARMAX Model)\", \n",
    "                         'y':0.9, 'x':0.52,\n",
    "                         'xanchor': 'center',\n",
    "                         'yanchor': 'top'},\n",
    "                  width=900,\n",
    "                  height=500,\n",
    "                  titlefont=dict(size=20),\n",
    "                  xaxis=dict(title=dict(text='Post date', standoff=0), titlefont=dict(size=18), tickfont=dict(size=16)),\n",
    "                  yaxis=dict(title=dict(text='Job numbers'), titlefont=dict(size=18), tickfont=dict(size=16)),\n",
    "                  legend=dict(font=dict(size=16), x=0.05, y=0.95),\n",
    "                  margin = {'r':10, 'l': 0, 't':90, 'b':0}\n",
    "                 )\n",
    "fig.show()"
   ]
  },
  {
   "cell_type": "markdown",
   "metadata": {},
   "source": [
    "# LinkedIn Data Modeling"
   ]
  },
  {
   "cell_type": "markdown",
   "metadata": {},
   "source": [
    "## Load data"
   ]
  },
  {
   "cell_type": "code",
   "execution_count": 24,
   "metadata": {},
   "outputs": [
    {
     "data": {
      "text/html": [
       "<div>\n",
       "<style scoped>\n",
       "    .dataframe tbody tr th:only-of-type {\n",
       "        vertical-align: middle;\n",
       "    }\n",
       "\n",
       "    .dataframe tbody tr th {\n",
       "        vertical-align: top;\n",
       "    }\n",
       "\n",
       "    .dataframe thead th {\n",
       "        text-align: right;\n",
       "    }\n",
       "</style>\n",
       "<table border=\"1\" class=\"dataframe\">\n",
       "  <thead>\n",
       "    <tr style=\"text-align: right;\">\n",
       "      <th></th>\n",
       "      <th>Title</th>\n",
       "      <th>Company</th>\n",
       "      <th>Location</th>\n",
       "      <th>Date</th>\n",
       "      <th>Seniority level</th>\n",
       "      <th>Employment type</th>\n",
       "      <th>Industry</th>\n",
       "      <th>Description</th>\n",
       "      <th>State</th>\n",
       "      <th>Code</th>\n",
       "    </tr>\n",
       "  </thead>\n",
       "  <tbody>\n",
       "    <tr>\n",
       "      <td>0</td>\n",
       "      <td>JSIL Mid-Level Software Developer</td>\n",
       "      <td>Modern Technology Solutions, Inc. (MTSI)</td>\n",
       "      <td>Huntsville, Alabama, United States</td>\n",
       "      <td>2020-08-06</td>\n",
       "      <td>Entry level</td>\n",
       "      <td>Full-time</td>\n",
       "      <td>Defense &amp; Space,Aviation &amp; Aerospace,Military</td>\n",
       "      <td>OverviewModern Technology Solutions, Inc. (MTS...</td>\n",
       "      <td>Alabama</td>\n",
       "      <td>AL</td>\n",
       "    </tr>\n",
       "    <tr>\n",
       "      <td>1</td>\n",
       "      <td>Senior Software Engineer</td>\n",
       "      <td>Integrate</td>\n",
       "      <td>Birmingham, Alabama, United States</td>\n",
       "      <td>2020-08-06</td>\n",
       "      <td>Mid-Senior level</td>\n",
       "      <td>Full-time</td>\n",
       "      <td>Computer Software,Online Media,Marketing and A...</td>\n",
       "      <td>Integrate&amp;nbsp;is a rapidly growing, venture-b...</td>\n",
       "      <td>Alabama</td>\n",
       "      <td>AL</td>\n",
       "    </tr>\n",
       "    <tr>\n",
       "      <td>2</td>\n",
       "      <td>Software Engineer</td>\n",
       "      <td>Integrate</td>\n",
       "      <td>Birmingham, Alabama, United States</td>\n",
       "      <td>2020-08-06</td>\n",
       "      <td>Associate</td>\n",
       "      <td>Full-time</td>\n",
       "      <td>Computer Software,Online Media,Marketing and A...</td>\n",
       "      <td>Integrate&amp;nbsp;is a rapidly growing, venture-b...</td>\n",
       "      <td>Alabama</td>\n",
       "      <td>AL</td>\n",
       "    </tr>\n",
       "    <tr>\n",
       "      <td>3</td>\n",
       "      <td>Software Developer</td>\n",
       "      <td>Cyberdata Technologies, Inc.</td>\n",
       "      <td>Tuscaloosa, Alabama, United States</td>\n",
       "      <td>2020-08-06</td>\n",
       "      <td>Entry level</td>\n",
       "      <td>Full-time</td>\n",
       "      <td>Information Technology and Services,Computer S...</td>\n",
       "      <td>CyberData Technologies is looking to hire a So...</td>\n",
       "      <td>Alabama</td>\n",
       "      <td>AL</td>\n",
       "    </tr>\n",
       "    <tr>\n",
       "      <td>4</td>\n",
       "      <td>Software Engineer</td>\n",
       "      <td>SAIC</td>\n",
       "      <td>Huntsville, Alabama, United States</td>\n",
       "      <td>2020-08-06</td>\n",
       "      <td>Entry level</td>\n",
       "      <td>Full-time</td>\n",
       "      <td>Computer Hardware,Defense &amp; Space,Information ...</td>\n",
       "      <td>DescriptionSAIC has immediate need for an expe...</td>\n",
       "      <td>Alabama</td>\n",
       "      <td>AL</td>\n",
       "    </tr>\n",
       "  </tbody>\n",
       "</table>\n",
       "</div>"
      ],
      "text/plain": [
       "                               Title  \\\n",
       "0  JSIL Mid-Level Software Developer   \n",
       "1           Senior Software Engineer   \n",
       "2                  Software Engineer   \n",
       "3                 Software Developer   \n",
       "4                  Software Engineer   \n",
       "\n",
       "                                    Company  \\\n",
       "0  Modern Technology Solutions, Inc. (MTSI)   \n",
       "1                                 Integrate   \n",
       "2                                 Integrate   \n",
       "3              Cyberdata Technologies, Inc.   \n",
       "4                                      SAIC   \n",
       "\n",
       "                             Location        Date   Seniority level  \\\n",
       "0  Huntsville, Alabama, United States  2020-08-06       Entry level   \n",
       "1  Birmingham, Alabama, United States  2020-08-06  Mid-Senior level   \n",
       "2  Birmingham, Alabama, United States  2020-08-06         Associate   \n",
       "3  Tuscaloosa, Alabama, United States  2020-08-06       Entry level   \n",
       "4  Huntsville, Alabama, United States  2020-08-06       Entry level   \n",
       "\n",
       "  Employment type                                           Industry  \\\n",
       "0       Full-time      Defense & Space,Aviation & Aerospace,Military   \n",
       "1       Full-time  Computer Software,Online Media,Marketing and A...   \n",
       "2       Full-time  Computer Software,Online Media,Marketing and A...   \n",
       "3       Full-time  Information Technology and Services,Computer S...   \n",
       "4       Full-time  Computer Hardware,Defense & Space,Information ...   \n",
       "\n",
       "                                         Description    State Code  \n",
       "0  OverviewModern Technology Solutions, Inc. (MTS...  Alabama   AL  \n",
       "1  Integrate&nbsp;is a rapidly growing, venture-b...  Alabama   AL  \n",
       "2  Integrate&nbsp;is a rapidly growing, venture-b...  Alabama   AL  \n",
       "3  CyberData Technologies is looking to hire a So...  Alabama   AL  \n",
       "4  DescriptionSAIC has immediate need for an expe...  Alabama   AL  "
      ]
     },
     "execution_count": 24,
     "metadata": {},
     "output_type": "execute_result"
    }
   ],
   "source": [
    "df_linkedin = pd.read_csv('/Users/tingtingweng/Documents/summer_intern/data/linkedin_se_080620_combined.csv')\n",
    "df_linkedin.head()"
   ]
  },
  {
   "cell_type": "code",
   "execution_count": 25,
   "metadata": {},
   "outputs": [],
   "source": [
    "bydate = df_linkedin.groupby('Date').size()\n",
    "\n",
    "df_date_linkedin = pd.DataFrame({'Date': bydate.index, 'Jobnums': bydate.values})\n",
    "df_date_linkedin['Date'] = pd.to_datetime(df_date_linkedin['Date'])\n",
    "df_date_linkedin.set_index('Date', inplace=True, drop=False)"
   ]
  },
  {
   "cell_type": "code",
   "execution_count": 26,
   "metadata": {},
   "outputs": [],
   "source": [
    "week = {0: 'Mon', 1: 'Tue', 2: 'Wed', 3: 'Thu', 4: 'Fri', 5: 'Sat', 6: 'Sun'}\n",
    "df_date_linkedin['Day of week'] = df_date_linkedin['Date'].apply(lambda x: week[x.weekday()])"
   ]
  },
  {
   "cell_type": "code",
   "execution_count": 27,
   "metadata": {},
   "outputs": [],
   "source": [
    "df_date_linkedin['Weekend'] = df_date_linkedin['Day of week'].apply(lambda x: 1 if (x == 'Sun') or (x == 'Sat') else 0)"
   ]
  },
  {
   "cell_type": "code",
   "execution_count": 29,
   "metadata": {},
   "outputs": [],
   "source": [
    "df_date_linkedin_trunc = df_date_linkedin['2020-06-12':'2020-08-02']"
   ]
  },
  {
   "cell_type": "code",
   "execution_count": 30,
   "metadata": {},
   "outputs": [
    {
     "data": {
      "application/vnd.plotly.v1+json": {
       "config": {
        "plotlyServerURL": "https://plot.ly"
       },
       "data": [
        {
         "mode": "lines+markers",
         "type": "scatter",
         "x": [
          "2020-06-12T00:00:00",
          "2020-06-13T00:00:00",
          "2020-06-14T00:00:00",
          "2020-06-15T00:00:00",
          "2020-06-16T00:00:00",
          "2020-06-17T00:00:00",
          "2020-06-18T00:00:00",
          "2020-06-19T00:00:00",
          "2020-06-20T00:00:00",
          "2020-06-21T00:00:00",
          "2020-06-22T00:00:00",
          "2020-06-23T00:00:00",
          "2020-06-24T00:00:00",
          "2020-06-25T00:00:00",
          "2020-06-26T00:00:00",
          "2020-06-27T00:00:00",
          "2020-06-28T00:00:00",
          "2020-06-29T00:00:00",
          "2020-06-30T00:00:00",
          "2020-07-01T00:00:00",
          "2020-07-02T00:00:00",
          "2020-07-03T00:00:00",
          "2020-07-04T00:00:00",
          "2020-07-05T00:00:00",
          "2020-07-06T00:00:00",
          "2020-07-07T00:00:00",
          "2020-07-08T00:00:00",
          "2020-07-09T00:00:00",
          "2020-07-10T00:00:00",
          "2020-07-11T00:00:00",
          "2020-07-12T00:00:00",
          "2020-07-13T00:00:00",
          "2020-07-14T00:00:00",
          "2020-07-15T00:00:00",
          "2020-07-16T00:00:00",
          "2020-07-17T00:00:00",
          "2020-07-18T00:00:00",
          "2020-07-19T00:00:00",
          "2020-07-20T00:00:00",
          "2020-07-21T00:00:00",
          "2020-07-22T00:00:00",
          "2020-07-23T00:00:00",
          "2020-07-24T00:00:00",
          "2020-07-25T00:00:00",
          "2020-07-26T00:00:00",
          "2020-07-27T00:00:00",
          "2020-07-28T00:00:00",
          "2020-07-29T00:00:00",
          "2020-07-30T00:00:00",
          "2020-07-31T00:00:00",
          "2020-08-01T00:00:00",
          "2020-08-02T00:00:00"
         ],
         "y": [
          759,
          624,
          733,
          673,
          953,
          1540,
          1982,
          1625,
          1046,
          965,
          2140,
          2375,
          2096,
          2676,
          2794,
          2225,
          1175,
          1481,
          1924,
          2579,
          4777,
          2306,
          1195,
          1088,
          1725,
          2715,
          3581,
          4825,
          5456,
          2981,
          5378,
          5248,
          5423,
          4452,
          4856,
          5824,
          3528,
          2666,
          4025,
          4280,
          2548,
          2574,
          2267,
          1459,
          681,
          1571,
          2456,
          2503,
          3154,
          3459,
          3302,
          4145
         ]
        }
       ],
       "layout": {
        "template": {
         "data": {
          "bar": [
           {
            "error_x": {
             "color": "#2a3f5f"
            },
            "error_y": {
             "color": "#2a3f5f"
            },
            "marker": {
             "line": {
              "color": "#E5ECF6",
              "width": 0.5
             }
            },
            "type": "bar"
           }
          ],
          "barpolar": [
           {
            "marker": {
             "line": {
              "color": "#E5ECF6",
              "width": 0.5
             }
            },
            "type": "barpolar"
           }
          ],
          "carpet": [
           {
            "aaxis": {
             "endlinecolor": "#2a3f5f",
             "gridcolor": "white",
             "linecolor": "white",
             "minorgridcolor": "white",
             "startlinecolor": "#2a3f5f"
            },
            "baxis": {
             "endlinecolor": "#2a3f5f",
             "gridcolor": "white",
             "linecolor": "white",
             "minorgridcolor": "white",
             "startlinecolor": "#2a3f5f"
            },
            "type": "carpet"
           }
          ],
          "choropleth": [
           {
            "colorbar": {
             "outlinewidth": 0,
             "ticks": ""
            },
            "type": "choropleth"
           }
          ],
          "contour": [
           {
            "colorbar": {
             "outlinewidth": 0,
             "ticks": ""
            },
            "colorscale": [
             [
              0,
              "#0d0887"
             ],
             [
              0.1111111111111111,
              "#46039f"
             ],
             [
              0.2222222222222222,
              "#7201a8"
             ],
             [
              0.3333333333333333,
              "#9c179e"
             ],
             [
              0.4444444444444444,
              "#bd3786"
             ],
             [
              0.5555555555555556,
              "#d8576b"
             ],
             [
              0.6666666666666666,
              "#ed7953"
             ],
             [
              0.7777777777777778,
              "#fb9f3a"
             ],
             [
              0.8888888888888888,
              "#fdca26"
             ],
             [
              1,
              "#f0f921"
             ]
            ],
            "type": "contour"
           }
          ],
          "contourcarpet": [
           {
            "colorbar": {
             "outlinewidth": 0,
             "ticks": ""
            },
            "type": "contourcarpet"
           }
          ],
          "heatmap": [
           {
            "colorbar": {
             "outlinewidth": 0,
             "ticks": ""
            },
            "colorscale": [
             [
              0,
              "#0d0887"
             ],
             [
              0.1111111111111111,
              "#46039f"
             ],
             [
              0.2222222222222222,
              "#7201a8"
             ],
             [
              0.3333333333333333,
              "#9c179e"
             ],
             [
              0.4444444444444444,
              "#bd3786"
             ],
             [
              0.5555555555555556,
              "#d8576b"
             ],
             [
              0.6666666666666666,
              "#ed7953"
             ],
             [
              0.7777777777777778,
              "#fb9f3a"
             ],
             [
              0.8888888888888888,
              "#fdca26"
             ],
             [
              1,
              "#f0f921"
             ]
            ],
            "type": "heatmap"
           }
          ],
          "heatmapgl": [
           {
            "colorbar": {
             "outlinewidth": 0,
             "ticks": ""
            },
            "colorscale": [
             [
              0,
              "#0d0887"
             ],
             [
              0.1111111111111111,
              "#46039f"
             ],
             [
              0.2222222222222222,
              "#7201a8"
             ],
             [
              0.3333333333333333,
              "#9c179e"
             ],
             [
              0.4444444444444444,
              "#bd3786"
             ],
             [
              0.5555555555555556,
              "#d8576b"
             ],
             [
              0.6666666666666666,
              "#ed7953"
             ],
             [
              0.7777777777777778,
              "#fb9f3a"
             ],
             [
              0.8888888888888888,
              "#fdca26"
             ],
             [
              1,
              "#f0f921"
             ]
            ],
            "type": "heatmapgl"
           }
          ],
          "histogram": [
           {
            "marker": {
             "colorbar": {
              "outlinewidth": 0,
              "ticks": ""
             }
            },
            "type": "histogram"
           }
          ],
          "histogram2d": [
           {
            "colorbar": {
             "outlinewidth": 0,
             "ticks": ""
            },
            "colorscale": [
             [
              0,
              "#0d0887"
             ],
             [
              0.1111111111111111,
              "#46039f"
             ],
             [
              0.2222222222222222,
              "#7201a8"
             ],
             [
              0.3333333333333333,
              "#9c179e"
             ],
             [
              0.4444444444444444,
              "#bd3786"
             ],
             [
              0.5555555555555556,
              "#d8576b"
             ],
             [
              0.6666666666666666,
              "#ed7953"
             ],
             [
              0.7777777777777778,
              "#fb9f3a"
             ],
             [
              0.8888888888888888,
              "#fdca26"
             ],
             [
              1,
              "#f0f921"
             ]
            ],
            "type": "histogram2d"
           }
          ],
          "histogram2dcontour": [
           {
            "colorbar": {
             "outlinewidth": 0,
             "ticks": ""
            },
            "colorscale": [
             [
              0,
              "#0d0887"
             ],
             [
              0.1111111111111111,
              "#46039f"
             ],
             [
              0.2222222222222222,
              "#7201a8"
             ],
             [
              0.3333333333333333,
              "#9c179e"
             ],
             [
              0.4444444444444444,
              "#bd3786"
             ],
             [
              0.5555555555555556,
              "#d8576b"
             ],
             [
              0.6666666666666666,
              "#ed7953"
             ],
             [
              0.7777777777777778,
              "#fb9f3a"
             ],
             [
              0.8888888888888888,
              "#fdca26"
             ],
             [
              1,
              "#f0f921"
             ]
            ],
            "type": "histogram2dcontour"
           }
          ],
          "mesh3d": [
           {
            "colorbar": {
             "outlinewidth": 0,
             "ticks": ""
            },
            "type": "mesh3d"
           }
          ],
          "parcoords": [
           {
            "line": {
             "colorbar": {
              "outlinewidth": 0,
              "ticks": ""
             }
            },
            "type": "parcoords"
           }
          ],
          "pie": [
           {
            "automargin": true,
            "type": "pie"
           }
          ],
          "scatter": [
           {
            "marker": {
             "colorbar": {
              "outlinewidth": 0,
              "ticks": ""
             }
            },
            "type": "scatter"
           }
          ],
          "scatter3d": [
           {
            "line": {
             "colorbar": {
              "outlinewidth": 0,
              "ticks": ""
             }
            },
            "marker": {
             "colorbar": {
              "outlinewidth": 0,
              "ticks": ""
             }
            },
            "type": "scatter3d"
           }
          ],
          "scattercarpet": [
           {
            "marker": {
             "colorbar": {
              "outlinewidth": 0,
              "ticks": ""
             }
            },
            "type": "scattercarpet"
           }
          ],
          "scattergeo": [
           {
            "marker": {
             "colorbar": {
              "outlinewidth": 0,
              "ticks": ""
             }
            },
            "type": "scattergeo"
           }
          ],
          "scattergl": [
           {
            "marker": {
             "colorbar": {
              "outlinewidth": 0,
              "ticks": ""
             }
            },
            "type": "scattergl"
           }
          ],
          "scattermapbox": [
           {
            "marker": {
             "colorbar": {
              "outlinewidth": 0,
              "ticks": ""
             }
            },
            "type": "scattermapbox"
           }
          ],
          "scatterpolar": [
           {
            "marker": {
             "colorbar": {
              "outlinewidth": 0,
              "ticks": ""
             }
            },
            "type": "scatterpolar"
           }
          ],
          "scatterpolargl": [
           {
            "marker": {
             "colorbar": {
              "outlinewidth": 0,
              "ticks": ""
             }
            },
            "type": "scatterpolargl"
           }
          ],
          "scatterternary": [
           {
            "marker": {
             "colorbar": {
              "outlinewidth": 0,
              "ticks": ""
             }
            },
            "type": "scatterternary"
           }
          ],
          "surface": [
           {
            "colorbar": {
             "outlinewidth": 0,
             "ticks": ""
            },
            "colorscale": [
             [
              0,
              "#0d0887"
             ],
             [
              0.1111111111111111,
              "#46039f"
             ],
             [
              0.2222222222222222,
              "#7201a8"
             ],
             [
              0.3333333333333333,
              "#9c179e"
             ],
             [
              0.4444444444444444,
              "#bd3786"
             ],
             [
              0.5555555555555556,
              "#d8576b"
             ],
             [
              0.6666666666666666,
              "#ed7953"
             ],
             [
              0.7777777777777778,
              "#fb9f3a"
             ],
             [
              0.8888888888888888,
              "#fdca26"
             ],
             [
              1,
              "#f0f921"
             ]
            ],
            "type": "surface"
           }
          ],
          "table": [
           {
            "cells": {
             "fill": {
              "color": "#EBF0F8"
             },
             "line": {
              "color": "white"
             }
            },
            "header": {
             "fill": {
              "color": "#C8D4E3"
             },
             "line": {
              "color": "white"
             }
            },
            "type": "table"
           }
          ]
         },
         "layout": {
          "annotationdefaults": {
           "arrowcolor": "#2a3f5f",
           "arrowhead": 0,
           "arrowwidth": 1
          },
          "coloraxis": {
           "colorbar": {
            "outlinewidth": 0,
            "ticks": ""
           }
          },
          "colorscale": {
           "diverging": [
            [
             0,
             "#8e0152"
            ],
            [
             0.1,
             "#c51b7d"
            ],
            [
             0.2,
             "#de77ae"
            ],
            [
             0.3,
             "#f1b6da"
            ],
            [
             0.4,
             "#fde0ef"
            ],
            [
             0.5,
             "#f7f7f7"
            ],
            [
             0.6,
             "#e6f5d0"
            ],
            [
             0.7,
             "#b8e186"
            ],
            [
             0.8,
             "#7fbc41"
            ],
            [
             0.9,
             "#4d9221"
            ],
            [
             1,
             "#276419"
            ]
           ],
           "sequential": [
            [
             0,
             "#0d0887"
            ],
            [
             0.1111111111111111,
             "#46039f"
            ],
            [
             0.2222222222222222,
             "#7201a8"
            ],
            [
             0.3333333333333333,
             "#9c179e"
            ],
            [
             0.4444444444444444,
             "#bd3786"
            ],
            [
             0.5555555555555556,
             "#d8576b"
            ],
            [
             0.6666666666666666,
             "#ed7953"
            ],
            [
             0.7777777777777778,
             "#fb9f3a"
            ],
            [
             0.8888888888888888,
             "#fdca26"
            ],
            [
             1,
             "#f0f921"
            ]
           ],
           "sequentialminus": [
            [
             0,
             "#0d0887"
            ],
            [
             0.1111111111111111,
             "#46039f"
            ],
            [
             0.2222222222222222,
             "#7201a8"
            ],
            [
             0.3333333333333333,
             "#9c179e"
            ],
            [
             0.4444444444444444,
             "#bd3786"
            ],
            [
             0.5555555555555556,
             "#d8576b"
            ],
            [
             0.6666666666666666,
             "#ed7953"
            ],
            [
             0.7777777777777778,
             "#fb9f3a"
            ],
            [
             0.8888888888888888,
             "#fdca26"
            ],
            [
             1,
             "#f0f921"
            ]
           ]
          },
          "colorway": [
           "#636efa",
           "#EF553B",
           "#00cc96",
           "#ab63fa",
           "#FFA15A",
           "#19d3f3",
           "#FF6692",
           "#B6E880",
           "#FF97FF",
           "#FECB52"
          ],
          "font": {
           "color": "#2a3f5f"
          },
          "geo": {
           "bgcolor": "white",
           "lakecolor": "white",
           "landcolor": "#E5ECF6",
           "showlakes": true,
           "showland": true,
           "subunitcolor": "white"
          },
          "hoverlabel": {
           "align": "left"
          },
          "hovermode": "closest",
          "mapbox": {
           "style": "light"
          },
          "paper_bgcolor": "white",
          "plot_bgcolor": "#E5ECF6",
          "polar": {
           "angularaxis": {
            "gridcolor": "white",
            "linecolor": "white",
            "ticks": ""
           },
           "bgcolor": "#E5ECF6",
           "radialaxis": {
            "gridcolor": "white",
            "linecolor": "white",
            "ticks": ""
           }
          },
          "scene": {
           "xaxis": {
            "backgroundcolor": "#E5ECF6",
            "gridcolor": "white",
            "gridwidth": 2,
            "linecolor": "white",
            "showbackground": true,
            "ticks": "",
            "zerolinecolor": "white"
           },
           "yaxis": {
            "backgroundcolor": "#E5ECF6",
            "gridcolor": "white",
            "gridwidth": 2,
            "linecolor": "white",
            "showbackground": true,
            "ticks": "",
            "zerolinecolor": "white"
           },
           "zaxis": {
            "backgroundcolor": "#E5ECF6",
            "gridcolor": "white",
            "gridwidth": 2,
            "linecolor": "white",
            "showbackground": true,
            "ticks": "",
            "zerolinecolor": "white"
           }
          },
          "shapedefaults": {
           "line": {
            "color": "#2a3f5f"
           }
          },
          "ternary": {
           "aaxis": {
            "gridcolor": "white",
            "linecolor": "white",
            "ticks": ""
           },
           "baxis": {
            "gridcolor": "white",
            "linecolor": "white",
            "ticks": ""
           },
           "bgcolor": "#E5ECF6",
           "caxis": {
            "gridcolor": "white",
            "linecolor": "white",
            "ticks": ""
           }
          },
          "title": {
           "x": 0.05
          },
          "xaxis": {
           "automargin": true,
           "gridcolor": "white",
           "linecolor": "white",
           "ticks": "",
           "title": {
            "standoff": 15
           },
           "zerolinecolor": "white",
           "zerolinewidth": 2
          },
          "yaxis": {
           "automargin": true,
           "gridcolor": "white",
           "linecolor": "white",
           "ticks": "",
           "title": {
            "standoff": 15
           },
           "zerolinecolor": "white",
           "zerolinewidth": 2
          }
         }
        },
        "title": {
         "text": "Data scientist(LinkedIn) open positions vs. post date"
        }
       }
      },
      "text/html": [
       "<div>\n",
       "        \n",
       "        \n",
       "            <div id=\"88c01cb5-ce3a-483b-a560-fc8617e97460\" class=\"plotly-graph-div\" style=\"height:525px; width:100%;\"></div>\n",
       "            <script type=\"text/javascript\">\n",
       "                require([\"plotly\"], function(Plotly) {\n",
       "                    window.PLOTLYENV=window.PLOTLYENV || {};\n",
       "                    \n",
       "                if (document.getElementById(\"88c01cb5-ce3a-483b-a560-fc8617e97460\")) {\n",
       "                    Plotly.newPlot(\n",
       "                        '88c01cb5-ce3a-483b-a560-fc8617e97460',\n",
       "                        [{\"mode\": \"lines+markers\", \"type\": \"scatter\", \"x\": [\"2020-06-12T00:00:00\", \"2020-06-13T00:00:00\", \"2020-06-14T00:00:00\", \"2020-06-15T00:00:00\", \"2020-06-16T00:00:00\", \"2020-06-17T00:00:00\", \"2020-06-18T00:00:00\", \"2020-06-19T00:00:00\", \"2020-06-20T00:00:00\", \"2020-06-21T00:00:00\", \"2020-06-22T00:00:00\", \"2020-06-23T00:00:00\", \"2020-06-24T00:00:00\", \"2020-06-25T00:00:00\", \"2020-06-26T00:00:00\", \"2020-06-27T00:00:00\", \"2020-06-28T00:00:00\", \"2020-06-29T00:00:00\", \"2020-06-30T00:00:00\", \"2020-07-01T00:00:00\", \"2020-07-02T00:00:00\", \"2020-07-03T00:00:00\", \"2020-07-04T00:00:00\", \"2020-07-05T00:00:00\", \"2020-07-06T00:00:00\", \"2020-07-07T00:00:00\", \"2020-07-08T00:00:00\", \"2020-07-09T00:00:00\", \"2020-07-10T00:00:00\", \"2020-07-11T00:00:00\", \"2020-07-12T00:00:00\", \"2020-07-13T00:00:00\", \"2020-07-14T00:00:00\", \"2020-07-15T00:00:00\", \"2020-07-16T00:00:00\", \"2020-07-17T00:00:00\", \"2020-07-18T00:00:00\", \"2020-07-19T00:00:00\", \"2020-07-20T00:00:00\", \"2020-07-21T00:00:00\", \"2020-07-22T00:00:00\", \"2020-07-23T00:00:00\", \"2020-07-24T00:00:00\", \"2020-07-25T00:00:00\", \"2020-07-26T00:00:00\", \"2020-07-27T00:00:00\", \"2020-07-28T00:00:00\", \"2020-07-29T00:00:00\", \"2020-07-30T00:00:00\", \"2020-07-31T00:00:00\", \"2020-08-01T00:00:00\", \"2020-08-02T00:00:00\"], \"y\": [759, 624, 733, 673, 953, 1540, 1982, 1625, 1046, 965, 2140, 2375, 2096, 2676, 2794, 2225, 1175, 1481, 1924, 2579, 4777, 2306, 1195, 1088, 1725, 2715, 3581, 4825, 5456, 2981, 5378, 5248, 5423, 4452, 4856, 5824, 3528, 2666, 4025, 4280, 2548, 2574, 2267, 1459, 681, 1571, 2456, 2503, 3154, 3459, 3302, 4145]}],\n",
       "                        {\"template\": {\"data\": {\"bar\": [{\"error_x\": {\"color\": \"#2a3f5f\"}, \"error_y\": {\"color\": \"#2a3f5f\"}, \"marker\": {\"line\": {\"color\": \"#E5ECF6\", \"width\": 0.5}}, \"type\": \"bar\"}], \"barpolar\": [{\"marker\": {\"line\": {\"color\": \"#E5ECF6\", \"width\": 0.5}}, \"type\": \"barpolar\"}], \"carpet\": [{\"aaxis\": {\"endlinecolor\": \"#2a3f5f\", \"gridcolor\": \"white\", \"linecolor\": \"white\", \"minorgridcolor\": \"white\", \"startlinecolor\": \"#2a3f5f\"}, \"baxis\": {\"endlinecolor\": \"#2a3f5f\", \"gridcolor\": \"white\", \"linecolor\": \"white\", \"minorgridcolor\": \"white\", \"startlinecolor\": \"#2a3f5f\"}, \"type\": \"carpet\"}], \"choropleth\": [{\"colorbar\": {\"outlinewidth\": 0, \"ticks\": \"\"}, \"type\": \"choropleth\"}], \"contour\": [{\"colorbar\": {\"outlinewidth\": 0, \"ticks\": \"\"}, \"colorscale\": [[0.0, \"#0d0887\"], [0.1111111111111111, \"#46039f\"], [0.2222222222222222, \"#7201a8\"], [0.3333333333333333, \"#9c179e\"], [0.4444444444444444, \"#bd3786\"], [0.5555555555555556, \"#d8576b\"], [0.6666666666666666, \"#ed7953\"], [0.7777777777777778, \"#fb9f3a\"], [0.8888888888888888, \"#fdca26\"], [1.0, \"#f0f921\"]], \"type\": \"contour\"}], \"contourcarpet\": [{\"colorbar\": {\"outlinewidth\": 0, \"ticks\": \"\"}, \"type\": \"contourcarpet\"}], \"heatmap\": [{\"colorbar\": {\"outlinewidth\": 0, \"ticks\": \"\"}, \"colorscale\": [[0.0, \"#0d0887\"], [0.1111111111111111, \"#46039f\"], [0.2222222222222222, \"#7201a8\"], [0.3333333333333333, \"#9c179e\"], [0.4444444444444444, \"#bd3786\"], [0.5555555555555556, \"#d8576b\"], [0.6666666666666666, \"#ed7953\"], [0.7777777777777778, \"#fb9f3a\"], [0.8888888888888888, \"#fdca26\"], [1.0, \"#f0f921\"]], \"type\": \"heatmap\"}], \"heatmapgl\": [{\"colorbar\": {\"outlinewidth\": 0, \"ticks\": \"\"}, \"colorscale\": [[0.0, \"#0d0887\"], [0.1111111111111111, \"#46039f\"], [0.2222222222222222, \"#7201a8\"], [0.3333333333333333, \"#9c179e\"], [0.4444444444444444, \"#bd3786\"], [0.5555555555555556, \"#d8576b\"], [0.6666666666666666, \"#ed7953\"], [0.7777777777777778, \"#fb9f3a\"], [0.8888888888888888, \"#fdca26\"], [1.0, \"#f0f921\"]], \"type\": \"heatmapgl\"}], \"histogram\": [{\"marker\": {\"colorbar\": {\"outlinewidth\": 0, \"ticks\": \"\"}}, \"type\": \"histogram\"}], \"histogram2d\": [{\"colorbar\": {\"outlinewidth\": 0, \"ticks\": \"\"}, \"colorscale\": [[0.0, \"#0d0887\"], [0.1111111111111111, \"#46039f\"], [0.2222222222222222, \"#7201a8\"], [0.3333333333333333, \"#9c179e\"], [0.4444444444444444, \"#bd3786\"], [0.5555555555555556, \"#d8576b\"], [0.6666666666666666, \"#ed7953\"], [0.7777777777777778, \"#fb9f3a\"], [0.8888888888888888, \"#fdca26\"], [1.0, \"#f0f921\"]], \"type\": \"histogram2d\"}], \"histogram2dcontour\": [{\"colorbar\": {\"outlinewidth\": 0, \"ticks\": \"\"}, \"colorscale\": [[0.0, \"#0d0887\"], [0.1111111111111111, \"#46039f\"], [0.2222222222222222, \"#7201a8\"], [0.3333333333333333, \"#9c179e\"], [0.4444444444444444, \"#bd3786\"], [0.5555555555555556, \"#d8576b\"], [0.6666666666666666, \"#ed7953\"], [0.7777777777777778, \"#fb9f3a\"], [0.8888888888888888, \"#fdca26\"], [1.0, \"#f0f921\"]], \"type\": \"histogram2dcontour\"}], \"mesh3d\": [{\"colorbar\": {\"outlinewidth\": 0, \"ticks\": \"\"}, \"type\": \"mesh3d\"}], \"parcoords\": [{\"line\": {\"colorbar\": {\"outlinewidth\": 0, \"ticks\": \"\"}}, \"type\": \"parcoords\"}], \"pie\": [{\"automargin\": true, \"type\": \"pie\"}], \"scatter\": [{\"marker\": {\"colorbar\": {\"outlinewidth\": 0, \"ticks\": \"\"}}, \"type\": \"scatter\"}], \"scatter3d\": [{\"line\": {\"colorbar\": {\"outlinewidth\": 0, \"ticks\": \"\"}}, \"marker\": {\"colorbar\": {\"outlinewidth\": 0, \"ticks\": \"\"}}, \"type\": \"scatter3d\"}], \"scattercarpet\": [{\"marker\": {\"colorbar\": {\"outlinewidth\": 0, \"ticks\": \"\"}}, \"type\": \"scattercarpet\"}], \"scattergeo\": [{\"marker\": {\"colorbar\": {\"outlinewidth\": 0, \"ticks\": \"\"}}, \"type\": \"scattergeo\"}], \"scattergl\": [{\"marker\": {\"colorbar\": {\"outlinewidth\": 0, \"ticks\": \"\"}}, \"type\": \"scattergl\"}], \"scattermapbox\": [{\"marker\": {\"colorbar\": {\"outlinewidth\": 0, \"ticks\": \"\"}}, \"type\": \"scattermapbox\"}], \"scatterpolar\": [{\"marker\": {\"colorbar\": {\"outlinewidth\": 0, \"ticks\": \"\"}}, \"type\": \"scatterpolar\"}], \"scatterpolargl\": [{\"marker\": {\"colorbar\": {\"outlinewidth\": 0, \"ticks\": \"\"}}, \"type\": \"scatterpolargl\"}], \"scatterternary\": [{\"marker\": {\"colorbar\": {\"outlinewidth\": 0, \"ticks\": \"\"}}, \"type\": \"scatterternary\"}], \"surface\": [{\"colorbar\": {\"outlinewidth\": 0, \"ticks\": \"\"}, \"colorscale\": [[0.0, \"#0d0887\"], [0.1111111111111111, \"#46039f\"], [0.2222222222222222, \"#7201a8\"], [0.3333333333333333, \"#9c179e\"], [0.4444444444444444, \"#bd3786\"], [0.5555555555555556, \"#d8576b\"], [0.6666666666666666, \"#ed7953\"], [0.7777777777777778, \"#fb9f3a\"], [0.8888888888888888, \"#fdca26\"], [1.0, \"#f0f921\"]], \"type\": \"surface\"}], \"table\": [{\"cells\": {\"fill\": {\"color\": \"#EBF0F8\"}, \"line\": {\"color\": \"white\"}}, \"header\": {\"fill\": {\"color\": \"#C8D4E3\"}, \"line\": {\"color\": \"white\"}}, \"type\": \"table\"}]}, \"layout\": {\"annotationdefaults\": {\"arrowcolor\": \"#2a3f5f\", \"arrowhead\": 0, \"arrowwidth\": 1}, \"coloraxis\": {\"colorbar\": {\"outlinewidth\": 0, \"ticks\": \"\"}}, \"colorscale\": {\"diverging\": [[0, \"#8e0152\"], [0.1, \"#c51b7d\"], [0.2, \"#de77ae\"], [0.3, \"#f1b6da\"], [0.4, \"#fde0ef\"], [0.5, \"#f7f7f7\"], [0.6, \"#e6f5d0\"], [0.7, \"#b8e186\"], [0.8, \"#7fbc41\"], [0.9, \"#4d9221\"], [1, \"#276419\"]], \"sequential\": [[0.0, \"#0d0887\"], [0.1111111111111111, \"#46039f\"], [0.2222222222222222, \"#7201a8\"], [0.3333333333333333, \"#9c179e\"], [0.4444444444444444, \"#bd3786\"], [0.5555555555555556, \"#d8576b\"], [0.6666666666666666, \"#ed7953\"], [0.7777777777777778, \"#fb9f3a\"], [0.8888888888888888, \"#fdca26\"], [1.0, \"#f0f921\"]], \"sequentialminus\": [[0.0, \"#0d0887\"], [0.1111111111111111, \"#46039f\"], [0.2222222222222222, \"#7201a8\"], [0.3333333333333333, \"#9c179e\"], [0.4444444444444444, \"#bd3786\"], [0.5555555555555556, \"#d8576b\"], [0.6666666666666666, \"#ed7953\"], [0.7777777777777778, \"#fb9f3a\"], [0.8888888888888888, \"#fdca26\"], [1.0, \"#f0f921\"]]}, \"colorway\": [\"#636efa\", \"#EF553B\", \"#00cc96\", \"#ab63fa\", \"#FFA15A\", \"#19d3f3\", \"#FF6692\", \"#B6E880\", \"#FF97FF\", \"#FECB52\"], \"font\": {\"color\": \"#2a3f5f\"}, \"geo\": {\"bgcolor\": \"white\", \"lakecolor\": \"white\", \"landcolor\": \"#E5ECF6\", \"showlakes\": true, \"showland\": true, \"subunitcolor\": \"white\"}, \"hoverlabel\": {\"align\": \"left\"}, \"hovermode\": \"closest\", \"mapbox\": {\"style\": \"light\"}, \"paper_bgcolor\": \"white\", \"plot_bgcolor\": \"#E5ECF6\", \"polar\": {\"angularaxis\": {\"gridcolor\": \"white\", \"linecolor\": \"white\", \"ticks\": \"\"}, \"bgcolor\": \"#E5ECF6\", \"radialaxis\": {\"gridcolor\": \"white\", \"linecolor\": \"white\", \"ticks\": \"\"}}, \"scene\": {\"xaxis\": {\"backgroundcolor\": \"#E5ECF6\", \"gridcolor\": \"white\", \"gridwidth\": 2, \"linecolor\": \"white\", \"showbackground\": true, \"ticks\": \"\", \"zerolinecolor\": \"white\"}, \"yaxis\": {\"backgroundcolor\": \"#E5ECF6\", \"gridcolor\": \"white\", \"gridwidth\": 2, \"linecolor\": \"white\", \"showbackground\": true, \"ticks\": \"\", \"zerolinecolor\": \"white\"}, \"zaxis\": {\"backgroundcolor\": \"#E5ECF6\", \"gridcolor\": \"white\", \"gridwidth\": 2, \"linecolor\": \"white\", \"showbackground\": true, \"ticks\": \"\", \"zerolinecolor\": \"white\"}}, \"shapedefaults\": {\"line\": {\"color\": \"#2a3f5f\"}}, \"ternary\": {\"aaxis\": {\"gridcolor\": \"white\", \"linecolor\": \"white\", \"ticks\": \"\"}, \"baxis\": {\"gridcolor\": \"white\", \"linecolor\": \"white\", \"ticks\": \"\"}, \"bgcolor\": \"#E5ECF6\", \"caxis\": {\"gridcolor\": \"white\", \"linecolor\": \"white\", \"ticks\": \"\"}}, \"title\": {\"x\": 0.05}, \"xaxis\": {\"automargin\": true, \"gridcolor\": \"white\", \"linecolor\": \"white\", \"ticks\": \"\", \"title\": {\"standoff\": 15}, \"zerolinecolor\": \"white\", \"zerolinewidth\": 2}, \"yaxis\": {\"automargin\": true, \"gridcolor\": \"white\", \"linecolor\": \"white\", \"ticks\": \"\", \"title\": {\"standoff\": 15}, \"zerolinecolor\": \"white\", \"zerolinewidth\": 2}}}, \"title\": {\"text\": \"Data scientist(LinkedIn) open positions vs. post date\"}},\n",
       "                        {\"responsive\": true}\n",
       "                    ).then(function(){\n",
       "                            \n",
       "var gd = document.getElementById('88c01cb5-ce3a-483b-a560-fc8617e97460');\n",
       "var x = new MutationObserver(function (mutations, observer) {{\n",
       "        var display = window.getComputedStyle(gd).display;\n",
       "        if (!display || display === 'none') {{\n",
       "            console.log([gd, 'removed!']);\n",
       "            Plotly.purge(gd);\n",
       "            observer.disconnect();\n",
       "        }}\n",
       "}});\n",
       "\n",
       "// Listen for the removal of the full notebook cells\n",
       "var notebookContainer = gd.closest('#notebook-container');\n",
       "if (notebookContainer) {{\n",
       "    x.observe(notebookContainer, {childList: true});\n",
       "}}\n",
       "\n",
       "// Listen for the clearing of the current output cell\n",
       "var outputEl = gd.closest('.output');\n",
       "if (outputEl) {{\n",
       "    x.observe(outputEl, {childList: true});\n",
       "}}\n",
       "\n",
       "                        })\n",
       "                };\n",
       "                });\n",
       "            </script>\n",
       "        </div>"
      ]
     },
     "metadata": {},
     "output_type": "display_data"
    }
   ],
   "source": [
    "fig = go.Figure()\n",
    "\n",
    "fig.add_trace(go.Scatter(x=df_date_linkedin_trunc.index, y=df_date_linkedin_trunc['Jobnums'], mode='lines+markers'))\n",
    "\n",
    "fig.update_layout(title='Data scientist(LinkedIn) open positions vs. post date')\n",
    "fig.show()"
   ]
  },
  {
   "cell_type": "code",
   "execution_count": 31,
   "metadata": {},
   "outputs": [
    {
     "data": {
      "text/plain": [
       "Text(0.5, 0, ' ')"
      ]
     },
     "execution_count": 31,
     "metadata": {},
     "output_type": "execute_result"
    },
    {
     "data": {
      "image/png": "[encoded data removed]",
      "text/plain": [
       "<Figure size 576x288 with 1 Axes>"
      ]
     },
     "metadata": {
      "needs_background": "light"
     },
     "output_type": "display_data"
    }
   ],
   "source": [
    "by_weekday = df_date_linkedin_trunc.groupby('Day of week').sum()\n",
    "by_weekday.reset_index(inplace=True)\n",
    "by_weekday\n",
    "\n",
    "plt.figure(figsize=(8,4))\n",
    "sns.barplot(x='Day of week', y='Jobnums', data=by_weekday, palette='viridis')\n",
    "plt.xticks(horizontalalignment='right', fontweight='light', fontsize='large')\n",
    "plt.yticks(fontsize='large')\n",
    "plt.ylabel('Job numbers', fontsize='x-large')\n",
    "plt.xlabel(' ')"
   ]
  },
  {
   "cell_type": "markdown",
   "metadata": {},
   "source": [
    "## Combine with COVID-19 "
   ]
  },
  {
   "cell_type": "code",
   "execution_count": 32,
   "metadata": {},
   "outputs": [
    {
     "data": {
      "text/html": [
       "<div>\n",
       "<style scoped>\n",
       "    .dataframe tbody tr th:only-of-type {\n",
       "        vertical-align: middle;\n",
       "    }\n",
       "\n",
       "    .dataframe tbody tr th {\n",
       "        vertical-align: top;\n",
       "    }\n",
       "\n",
       "    .dataframe thead th {\n",
       "        text-align: right;\n",
       "    }\n",
       "</style>\n",
       "<table border=\"1\" class=\"dataframe\">\n",
       "  <thead>\n",
       "    <tr style=\"text-align: right;\">\n",
       "      <th></th>\n",
       "      <th>Date</th>\n",
       "      <th>Jobnums</th>\n",
       "      <th>Day of week</th>\n",
       "      <th>Weekend</th>\n",
       "      <th>Confirmed</th>\n",
       "      <th>Deaths</th>\n",
       "      <th>Recovered</th>\n",
       "      <th>Active</th>\n",
       "      <th>New</th>\n",
       "      <th>Fatality</th>\n",
       "    </tr>\n",
       "  </thead>\n",
       "  <tbody>\n",
       "    <tr>\n",
       "      <td>2020-06-12</td>\n",
       "      <td>2020-06-12</td>\n",
       "      <td>759</td>\n",
       "      <td>Fri</td>\n",
       "      <td>0</td>\n",
       "      <td>2048986.0</td>\n",
       "      <td>114669.0</td>\n",
       "      <td>547386.0</td>\n",
       "      <td>1386931.0</td>\n",
       "      <td>25639.0</td>\n",
       "      <td>5.596378</td>\n",
       "    </tr>\n",
       "    <tr>\n",
       "      <td>2020-06-13</td>\n",
       "      <td>2020-06-13</td>\n",
       "      <td>624</td>\n",
       "      <td>Sat</td>\n",
       "      <td>1</td>\n",
       "      <td>2074526.0</td>\n",
       "      <td>115436.0</td>\n",
       "      <td>556606.0</td>\n",
       "      <td>1402484.0</td>\n",
       "      <td>25540.0</td>\n",
       "      <td>5.564452</td>\n",
       "    </tr>\n",
       "    <tr>\n",
       "      <td>2020-06-14</td>\n",
       "      <td>2020-06-14</td>\n",
       "      <td>733</td>\n",
       "      <td>Sun</td>\n",
       "      <td>1</td>\n",
       "      <td>2094058.0</td>\n",
       "      <td>115732.0</td>\n",
       "      <td>561816.0</td>\n",
       "      <td>1416510.0</td>\n",
       "      <td>19532.0</td>\n",
       "      <td>5.526686</td>\n",
       "    </tr>\n",
       "    <tr>\n",
       "      <td>2020-06-15</td>\n",
       "      <td>2020-06-15</td>\n",
       "      <td>673</td>\n",
       "      <td>Mon</td>\n",
       "      <td>0</td>\n",
       "      <td>2114026.0</td>\n",
       "      <td>116127.0</td>\n",
       "      <td>576334.0</td>\n",
       "      <td>1421565.0</td>\n",
       "      <td>19968.0</td>\n",
       "      <td>5.493168</td>\n",
       "    </tr>\n",
       "    <tr>\n",
       "      <td>2020-06-16</td>\n",
       "      <td>2020-06-16</td>\n",
       "      <td>953</td>\n",
       "      <td>Tue</td>\n",
       "      <td>0</td>\n",
       "      <td>2137731.0</td>\n",
       "      <td>116963.0</td>\n",
       "      <td>583503.0</td>\n",
       "      <td>1437265.0</td>\n",
       "      <td>23705.0</td>\n",
       "      <td>5.471362</td>\n",
       "    </tr>\n",
       "    <tr>\n",
       "      <td>2020-06-17</td>\n",
       "      <td>2020-06-17</td>\n",
       "      <td>1540</td>\n",
       "      <td>Wed</td>\n",
       "      <td>0</td>\n",
       "      <td>2163290.0</td>\n",
       "      <td>117717.0</td>\n",
       "      <td>592191.0</td>\n",
       "      <td>1453382.0</td>\n",
       "      <td>25559.0</td>\n",
       "      <td>5.441573</td>\n",
       "    </tr>\n",
       "    <tr>\n",
       "      <td>2020-06-18</td>\n",
       "      <td>2020-06-18</td>\n",
       "      <td>1982</td>\n",
       "      <td>Thu</td>\n",
       "      <td>0</td>\n",
       "      <td>2191053.0</td>\n",
       "      <td>118438.0</td>\n",
       "      <td>599115.0</td>\n",
       "      <td>1473500.0</td>\n",
       "      <td>27763.0</td>\n",
       "      <td>5.405529</td>\n",
       "    </tr>\n",
       "    <tr>\n",
       "      <td>2020-06-19</td>\n",
       "      <td>2020-06-19</td>\n",
       "      <td>1625</td>\n",
       "      <td>Fri</td>\n",
       "      <td>0</td>\n",
       "      <td>2222812.0</td>\n",
       "      <td>119125.0</td>\n",
       "      <td>606715.0</td>\n",
       "      <td>1496972.0</td>\n",
       "      <td>31759.0</td>\n",
       "      <td>5.359203</td>\n",
       "    </tr>\n",
       "    <tr>\n",
       "      <td>2020-06-20</td>\n",
       "      <td>2020-06-20</td>\n",
       "      <td>1046</td>\n",
       "      <td>Sat</td>\n",
       "      <td>1</td>\n",
       "      <td>2255119.0</td>\n",
       "      <td>119719.0</td>\n",
       "      <td>617460.0</td>\n",
       "      <td>1517940.0</td>\n",
       "      <td>32307.0</td>\n",
       "      <td>5.308766</td>\n",
       "    </tr>\n",
       "    <tr>\n",
       "      <td>2020-06-21</td>\n",
       "      <td>2020-06-21</td>\n",
       "      <td>965</td>\n",
       "      <td>Sun</td>\n",
       "      <td>1</td>\n",
       "      <td>2281290.0</td>\n",
       "      <td>119977.0</td>\n",
       "      <td>622133.0</td>\n",
       "      <td>1539180.0</td>\n",
       "      <td>26171.0</td>\n",
       "      <td>5.259174</td>\n",
       "    </tr>\n",
       "    <tr>\n",
       "      <td>2020-06-22</td>\n",
       "      <td>2020-06-22</td>\n",
       "      <td>2140</td>\n",
       "      <td>Mon</td>\n",
       "      <td>0</td>\n",
       "      <td>2312300.0</td>\n",
       "      <td>120402.0</td>\n",
       "      <td>640198.0</td>\n",
       "      <td>1551700.0</td>\n",
       "      <td>31010.0</td>\n",
       "      <td>5.207023</td>\n",
       "    </tr>\n",
       "    <tr>\n",
       "      <td>2020-06-23</td>\n",
       "      <td>2020-06-23</td>\n",
       "      <td>2375</td>\n",
       "      <td>Tue</td>\n",
       "      <td>0</td>\n",
       "      <td>2347022.0</td>\n",
       "      <td>121228.0</td>\n",
       "      <td>647548.0</td>\n",
       "      <td>1578246.0</td>\n",
       "      <td>34722.0</td>\n",
       "      <td>5.165184</td>\n",
       "    </tr>\n",
       "    <tr>\n",
       "      <td>2020-06-24</td>\n",
       "      <td>2020-06-24</td>\n",
       "      <td>2096</td>\n",
       "      <td>Wed</td>\n",
       "      <td>0</td>\n",
       "      <td>2381493.0</td>\n",
       "      <td>121980.0</td>\n",
       "      <td>656161.0</td>\n",
       "      <td>1603352.0</td>\n",
       "      <td>34471.0</td>\n",
       "      <td>5.121997</td>\n",
       "    </tr>\n",
       "    <tr>\n",
       "      <td>2020-06-25</td>\n",
       "      <td>2020-06-25</td>\n",
       "      <td>2676</td>\n",
       "      <td>Thu</td>\n",
       "      <td>0</td>\n",
       "      <td>2422299.0</td>\n",
       "      <td>124410.0</td>\n",
       "      <td>663562.0</td>\n",
       "      <td>1634327.0</td>\n",
       "      <td>40806.0</td>\n",
       "      <td>5.136030</td>\n",
       "    </tr>\n",
       "    <tr>\n",
       "      <td>2020-06-26</td>\n",
       "      <td>2020-06-26</td>\n",
       "      <td>2794</td>\n",
       "      <td>Fri</td>\n",
       "      <td>0</td>\n",
       "      <td>2467554.0</td>\n",
       "      <td>125039.0</td>\n",
       "      <td>670809.0</td>\n",
       "      <td>1671706.0</td>\n",
       "      <td>45255.0</td>\n",
       "      <td>5.067326</td>\n",
       "    </tr>\n",
       "    <tr>\n",
       "      <td>2020-06-27</td>\n",
       "      <td>2020-06-27</td>\n",
       "      <td>2225</td>\n",
       "      <td>Sat</td>\n",
       "      <td>1</td>\n",
       "      <td>2510151.0</td>\n",
       "      <td>125539.0</td>\n",
       "      <td>679308.0</td>\n",
       "      <td>1705304.0</td>\n",
       "      <td>42597.0</td>\n",
       "      <td>5.001253</td>\n",
       "    </tr>\n",
       "    <tr>\n",
       "      <td>2020-06-28</td>\n",
       "      <td>2020-06-28</td>\n",
       "      <td>1175</td>\n",
       "      <td>Sun</td>\n",
       "      <td>1</td>\n",
       "      <td>2548996.0</td>\n",
       "      <td>125803.0</td>\n",
       "      <td>685164.0</td>\n",
       "      <td>1738029.0</td>\n",
       "      <td>38845.0</td>\n",
       "      <td>4.935394</td>\n",
       "    </tr>\n",
       "    <tr>\n",
       "      <td>2020-06-29</td>\n",
       "      <td>2020-06-29</td>\n",
       "      <td>1481</td>\n",
       "      <td>Mon</td>\n",
       "      <td>0</td>\n",
       "      <td>2590651.0</td>\n",
       "      <td>126140.0</td>\n",
       "      <td>705203.0</td>\n",
       "      <td>1759308.0</td>\n",
       "      <td>41655.0</td>\n",
       "      <td>4.869046</td>\n",
       "    </tr>\n",
       "    <tr>\n",
       "      <td>2020-06-30</td>\n",
       "      <td>2020-06-30</td>\n",
       "      <td>1924</td>\n",
       "      <td>Tue</td>\n",
       "      <td>0</td>\n",
       "      <td>2635417.0</td>\n",
       "      <td>127417.0</td>\n",
       "      <td>720631.0</td>\n",
       "      <td>1787369.0</td>\n",
       "      <td>44766.0</td>\n",
       "      <td>4.834795</td>\n",
       "    </tr>\n",
       "    <tr>\n",
       "      <td>2020-07-01</td>\n",
       "      <td>2020-07-01</td>\n",
       "      <td>2579</td>\n",
       "      <td>Wed</td>\n",
       "      <td>0</td>\n",
       "      <td>2686258.0</td>\n",
       "      <td>128062.0</td>\n",
       "      <td>729994.0</td>\n",
       "      <td>1828202.0</td>\n",
       "      <td>50841.0</td>\n",
       "      <td>4.767301</td>\n",
       "    </tr>\n",
       "    <tr>\n",
       "      <td>2020-07-02</td>\n",
       "      <td>2020-07-02</td>\n",
       "      <td>4777</td>\n",
       "      <td>Thu</td>\n",
       "      <td>0</td>\n",
       "      <td>2739879.0</td>\n",
       "      <td>128740.0</td>\n",
       "      <td>781970.0</td>\n",
       "      <td>1829169.0</td>\n",
       "      <td>53621.0</td>\n",
       "      <td>4.698748</td>\n",
       "    </tr>\n",
       "    <tr>\n",
       "      <td>2020-07-03</td>\n",
       "      <td>2020-07-03</td>\n",
       "      <td>2306</td>\n",
       "      <td>Fri</td>\n",
       "      <td>0</td>\n",
       "      <td>2794153.0</td>\n",
       "      <td>129434.0</td>\n",
       "      <td>790404.0</td>\n",
       "      <td>1874315.0</td>\n",
       "      <td>54274.0</td>\n",
       "      <td>4.632316</td>\n",
       "    </tr>\n",
       "    <tr>\n",
       "      <td>2020-07-04</td>\n",
       "      <td>2020-07-04</td>\n",
       "      <td>1195</td>\n",
       "      <td>Sat</td>\n",
       "      <td>1</td>\n",
       "      <td>2839436.0</td>\n",
       "      <td>129676.0</td>\n",
       "      <td>894325.0</td>\n",
       "      <td>1815435.0</td>\n",
       "      <td>45283.0</td>\n",
       "      <td>4.566963</td>\n",
       "    </tr>\n",
       "    <tr>\n",
       "      <td>2020-07-05</td>\n",
       "      <td>2020-07-05</td>\n",
       "      <td>1088</td>\n",
       "      <td>Sun</td>\n",
       "      <td>1</td>\n",
       "      <td>2888635.0</td>\n",
       "      <td>129947.0</td>\n",
       "      <td>906763.0</td>\n",
       "      <td>1851925.0</td>\n",
       "      <td>49199.0</td>\n",
       "      <td>4.498561</td>\n",
       "    </tr>\n",
       "    <tr>\n",
       "      <td>2020-07-06</td>\n",
       "      <td>2020-07-06</td>\n",
       "      <td>1725</td>\n",
       "      <td>Mon</td>\n",
       "      <td>0</td>\n",
       "      <td>2936077.0</td>\n",
       "      <td>130285.0</td>\n",
       "      <td>924148.0</td>\n",
       "      <td>1881644.0</td>\n",
       "      <td>47442.0</td>\n",
       "      <td>4.437384</td>\n",
       "    </tr>\n",
       "    <tr>\n",
       "      <td>2020-07-07</td>\n",
       "      <td>2020-07-07</td>\n",
       "      <td>2715</td>\n",
       "      <td>Tue</td>\n",
       "      <td>0</td>\n",
       "      <td>2996098.0</td>\n",
       "      <td>131480.0</td>\n",
       "      <td>936476.0</td>\n",
       "      <td>1928142.0</td>\n",
       "      <td>60021.0</td>\n",
       "      <td>4.388374</td>\n",
       "    </tr>\n",
       "    <tr>\n",
       "      <td>2020-07-08</td>\n",
       "      <td>2020-07-08</td>\n",
       "      <td>3581</td>\n",
       "      <td>Wed</td>\n",
       "      <td>0</td>\n",
       "      <td>3054699.0</td>\n",
       "      <td>132300.0</td>\n",
       "      <td>953420.0</td>\n",
       "      <td>1968979.0</td>\n",
       "      <td>58601.0</td>\n",
       "      <td>4.331032</td>\n",
       "    </tr>\n",
       "    <tr>\n",
       "      <td>2020-07-09</td>\n",
       "      <td>2020-07-09</td>\n",
       "      <td>4825</td>\n",
       "      <td>Thu</td>\n",
       "      <td>0</td>\n",
       "      <td>3117946.0</td>\n",
       "      <td>133290.0</td>\n",
       "      <td>969111.0</td>\n",
       "      <td>2015545.0</td>\n",
       "      <td>63247.0</td>\n",
       "      <td>4.274930</td>\n",
       "    </tr>\n",
       "    <tr>\n",
       "      <td>2020-07-10</td>\n",
       "      <td>2020-07-10</td>\n",
       "      <td>5456</td>\n",
       "      <td>Fri</td>\n",
       "      <td>0</td>\n",
       "      <td>3184573.0</td>\n",
       "      <td>134092.0</td>\n",
       "      <td>983185.0</td>\n",
       "      <td>2067296.0</td>\n",
       "      <td>66627.0</td>\n",
       "      <td>4.210674</td>\n",
       "    </tr>\n",
       "    <tr>\n",
       "      <td>2020-07-11</td>\n",
       "      <td>2020-07-11</td>\n",
       "      <td>2981</td>\n",
       "      <td>Sat</td>\n",
       "      <td>1</td>\n",
       "      <td>3245925.0</td>\n",
       "      <td>134777.0</td>\n",
       "      <td>995576.0</td>\n",
       "      <td>2115572.0</td>\n",
       "      <td>61352.0</td>\n",
       "      <td>4.152191</td>\n",
       "    </tr>\n",
       "    <tr>\n",
       "      <td>2020-07-12</td>\n",
       "      <td>2020-07-12</td>\n",
       "      <td>5378</td>\n",
       "      <td>Sun</td>\n",
       "      <td>1</td>\n",
       "      <td>3304942.0</td>\n",
       "      <td>135205.0</td>\n",
       "      <td>1006326.0</td>\n",
       "      <td>2163411.0</td>\n",
       "      <td>59017.0</td>\n",
       "      <td>4.090995</td>\n",
       "    </tr>\n",
       "    <tr>\n",
       "      <td>2020-07-13</td>\n",
       "      <td>2020-07-13</td>\n",
       "      <td>5248</td>\n",
       "      <td>Mon</td>\n",
       "      <td>0</td>\n",
       "      <td>3364157.0</td>\n",
       "      <td>135566.0</td>\n",
       "      <td>1031939.0</td>\n",
       "      <td>2196652.0</td>\n",
       "      <td>59215.0</td>\n",
       "      <td>4.029717</td>\n",
       "    </tr>\n",
       "    <tr>\n",
       "      <td>2020-07-14</td>\n",
       "      <td>2020-07-14</td>\n",
       "      <td>5423</td>\n",
       "      <td>Tue</td>\n",
       "      <td>0</td>\n",
       "      <td>3431574.0</td>\n",
       "      <td>136466.0</td>\n",
       "      <td>1049098.0</td>\n",
       "      <td>2246010.0</td>\n",
       "      <td>67417.0</td>\n",
       "      <td>3.976776</td>\n",
       "    </tr>\n",
       "    <tr>\n",
       "      <td>2020-07-15</td>\n",
       "      <td>2020-07-15</td>\n",
       "      <td>4452</td>\n",
       "      <td>Wed</td>\n",
       "      <td>0</td>\n",
       "      <td>3497847.0</td>\n",
       "      <td>137407.0</td>\n",
       "      <td>1075882.0</td>\n",
       "      <td>2284558.0</td>\n",
       "      <td>66273.0</td>\n",
       "      <td>3.928331</td>\n",
       "    </tr>\n",
       "    <tr>\n",
       "      <td>2020-07-16</td>\n",
       "      <td>2020-07-16</td>\n",
       "      <td>4856</td>\n",
       "      <td>Thu</td>\n",
       "      <td>0</td>\n",
       "      <td>3576157.0</td>\n",
       "      <td>138358.0</td>\n",
       "      <td>1090645.0</td>\n",
       "      <td>2347154.0</td>\n",
       "      <td>78310.0</td>\n",
       "      <td>3.868902</td>\n",
       "    </tr>\n",
       "    <tr>\n",
       "      <td>2020-07-17</td>\n",
       "      <td>2020-07-17</td>\n",
       "      <td>5824</td>\n",
       "      <td>Fri</td>\n",
       "      <td>0</td>\n",
       "      <td>3647715.0</td>\n",
       "      <td>139266.0</td>\n",
       "      <td>1107204.0</td>\n",
       "      <td>2401245.0</td>\n",
       "      <td>71558.0</td>\n",
       "      <td>3.817897</td>\n",
       "    </tr>\n",
       "    <tr>\n",
       "      <td>2020-07-18</td>\n",
       "      <td>2020-07-18</td>\n",
       "      <td>3528</td>\n",
       "      <td>Sat</td>\n",
       "      <td>1</td>\n",
       "      <td>3711413.0</td>\n",
       "      <td>140119.0</td>\n",
       "      <td>1122720.0</td>\n",
       "      <td>2448574.0</td>\n",
       "      <td>63698.0</td>\n",
       "      <td>3.775355</td>\n",
       "    </tr>\n",
       "    <tr>\n",
       "      <td>2020-07-19</td>\n",
       "      <td>2020-07-19</td>\n",
       "      <td>2666</td>\n",
       "      <td>Sun</td>\n",
       "      <td>1</td>\n",
       "      <td>3773260.0</td>\n",
       "      <td>140534.0</td>\n",
       "      <td>1131121.0</td>\n",
       "      <td>2501605.0</td>\n",
       "      <td>61847.0</td>\n",
       "      <td>3.724472</td>\n",
       "    </tr>\n",
       "    <tr>\n",
       "      <td>2020-07-20</td>\n",
       "      <td>2020-07-20</td>\n",
       "      <td>4025</td>\n",
       "      <td>Mon</td>\n",
       "      <td>0</td>\n",
       "      <td>3834677.0</td>\n",
       "      <td>140913.0</td>\n",
       "      <td>1160087.0</td>\n",
       "      <td>2533677.0</td>\n",
       "      <td>61417.0</td>\n",
       "      <td>3.674703</td>\n",
       "    </tr>\n",
       "    <tr>\n",
       "      <td>2020-07-21</td>\n",
       "      <td>2020-07-21</td>\n",
       "      <td>4280</td>\n",
       "      <td>Tue</td>\n",
       "      <td>0</td>\n",
       "      <td>3899211.0</td>\n",
       "      <td>141995.0</td>\n",
       "      <td>1182018.0</td>\n",
       "      <td>2575198.0</td>\n",
       "      <td>64534.0</td>\n",
       "      <td>3.641634</td>\n",
       "    </tr>\n",
       "    <tr>\n",
       "      <td>2020-07-22</td>\n",
       "      <td>2020-07-22</td>\n",
       "      <td>2548</td>\n",
       "      <td>Wed</td>\n",
       "      <td>0</td>\n",
       "      <td>3970085.0</td>\n",
       "      <td>143190.0</td>\n",
       "      <td>1210849.0</td>\n",
       "      <td>2616046.0</td>\n",
       "      <td>70874.0</td>\n",
       "      <td>3.606724</td>\n",
       "    </tr>\n",
       "    <tr>\n",
       "      <td>2020-07-23</td>\n",
       "      <td>2020-07-23</td>\n",
       "      <td>2574</td>\n",
       "      <td>Thu</td>\n",
       "      <td>0</td>\n",
       "      <td>4038748.0</td>\n",
       "      <td>144304.0</td>\n",
       "      <td>1233269.0</td>\n",
       "      <td>2661175.0</td>\n",
       "      <td>68663.0</td>\n",
       "      <td>3.572988</td>\n",
       "    </tr>\n",
       "    <tr>\n",
       "      <td>2020-07-24</td>\n",
       "      <td>2020-07-24</td>\n",
       "      <td>2267</td>\n",
       "      <td>Fri</td>\n",
       "      <td>0</td>\n",
       "      <td>4112531.0</td>\n",
       "      <td>145546.0</td>\n",
       "      <td>1261624.0</td>\n",
       "      <td>2705361.0</td>\n",
       "      <td>73783.0</td>\n",
       "      <td>3.539086</td>\n",
       "    </tr>\n",
       "    <tr>\n",
       "      <td>2020-07-25</td>\n",
       "      <td>2020-07-25</td>\n",
       "      <td>1459</td>\n",
       "      <td>Sat</td>\n",
       "      <td>1</td>\n",
       "      <td>4178021.0</td>\n",
       "      <td>146460.0</td>\n",
       "      <td>1279414.0</td>\n",
       "      <td>2752147.0</td>\n",
       "      <td>65490.0</td>\n",
       "      <td>3.505487</td>\n",
       "    </tr>\n",
       "    <tr>\n",
       "      <td>2020-07-26</td>\n",
       "      <td>2020-07-26</td>\n",
       "      <td>681</td>\n",
       "      <td>Sun</td>\n",
       "      <td>1</td>\n",
       "      <td>4233923.0</td>\n",
       "      <td>146935.0</td>\n",
       "      <td>1297863.0</td>\n",
       "      <td>2789125.0</td>\n",
       "      <td>55902.0</td>\n",
       "      <td>3.470422</td>\n",
       "    </tr>\n",
       "    <tr>\n",
       "      <td>2020-07-27</td>\n",
       "      <td>2020-07-27</td>\n",
       "      <td>1571</td>\n",
       "      <td>Mon</td>\n",
       "      <td>0</td>\n",
       "      <td>4290337.0</td>\n",
       "      <td>148012.0</td>\n",
       "      <td>1325804.0</td>\n",
       "      <td>2816521.0</td>\n",
       "      <td>56414.0</td>\n",
       "      <td>3.449892</td>\n",
       "    </tr>\n",
       "    <tr>\n",
       "      <td>2020-07-28</td>\n",
       "      <td>2020-07-28</td>\n",
       "      <td>2456</td>\n",
       "      <td>Tue</td>\n",
       "      <td>0</td>\n",
       "      <td>4356206.0</td>\n",
       "      <td>149310.0</td>\n",
       "      <td>1355363.0</td>\n",
       "      <td>2851533.0</td>\n",
       "      <td>65869.0</td>\n",
       "      <td>3.427524</td>\n",
       "    </tr>\n",
       "    <tr>\n",
       "      <td>2020-07-29</td>\n",
       "      <td>2020-07-29</td>\n",
       "      <td>2503</td>\n",
       "      <td>Wed</td>\n",
       "      <td>0</td>\n",
       "      <td>4426982.0</td>\n",
       "      <td>150713.0</td>\n",
       "      <td>1389425.0</td>\n",
       "      <td>2886844.0</td>\n",
       "      <td>70776.0</td>\n",
       "      <td>3.404419</td>\n",
       "    </tr>\n",
       "    <tr>\n",
       "      <td>2020-07-30</td>\n",
       "      <td>2020-07-30</td>\n",
       "      <td>3154</td>\n",
       "      <td>Thu</td>\n",
       "      <td>0</td>\n",
       "      <td>4495015.0</td>\n",
       "      <td>152055.0</td>\n",
       "      <td>1414155.0</td>\n",
       "      <td>2928805.0</td>\n",
       "      <td>68033.0</td>\n",
       "      <td>3.382747</td>\n",
       "    </tr>\n",
       "    <tr>\n",
       "      <td>2020-07-31</td>\n",
       "      <td>2020-07-31</td>\n",
       "      <td>3459</td>\n",
       "      <td>Fri</td>\n",
       "      <td>0</td>\n",
       "      <td>4562038.0</td>\n",
       "      <td>153314.0</td>\n",
       "      <td>1438160.0</td>\n",
       "      <td>2970564.0</td>\n",
       "      <td>67023.0</td>\n",
       "      <td>3.360647</td>\n",
       "    </tr>\n",
       "    <tr>\n",
       "      <td>2020-08-01</td>\n",
       "      <td>2020-08-01</td>\n",
       "      <td>3302</td>\n",
       "      <td>Sat</td>\n",
       "      <td>1</td>\n",
       "      <td>4620444.0</td>\n",
       "      <td>154447.0</td>\n",
       "      <td>1461885.0</td>\n",
       "      <td>3004112.0</td>\n",
       "      <td>58406.0</td>\n",
       "      <td>3.342687</td>\n",
       "    </tr>\n",
       "    <tr>\n",
       "      <td>2020-08-02</td>\n",
       "      <td>2020-08-02</td>\n",
       "      <td>4145</td>\n",
       "      <td>Sun</td>\n",
       "      <td>1</td>\n",
       "      <td>4667955.0</td>\n",
       "      <td>154860.0</td>\n",
       "      <td>1468689.0</td>\n",
       "      <td>3044406.0</td>\n",
       "      <td>47511.0</td>\n",
       "      <td>3.317513</td>\n",
       "    </tr>\n",
       "  </tbody>\n",
       "</table>\n",
       "</div>"
      ],
      "text/plain": [
       "                 Date  Jobnums Day of week  Weekend  Confirmed    Deaths  \\\n",
       "2020-06-12 2020-06-12      759         Fri        0  2048986.0  114669.0   \n",
       "2020-06-13 2020-06-13      624         Sat        1  2074526.0  115436.0   \n",
       "2020-06-14 2020-06-14      733         Sun        1  2094058.0  115732.0   \n",
       "2020-06-15 2020-06-15      673         Mon        0  2114026.0  116127.0   \n",
       "2020-06-16 2020-06-16      953         Tue        0  2137731.0  116963.0   \n",
       "2020-06-17 2020-06-17     1540         Wed        0  2163290.0  117717.0   \n",
       "2020-06-18 2020-06-18     1982         Thu        0  2191053.0  118438.0   \n",
       "2020-06-19 2020-06-19     1625         Fri        0  2222812.0  119125.0   \n",
       "2020-06-20 2020-06-20     1046         Sat        1  2255119.0  119719.0   \n",
       "2020-06-21 2020-06-21      965         Sun        1  2281290.0  119977.0   \n",
       "2020-06-22 2020-06-22     2140         Mon        0  2312300.0  120402.0   \n",
       "2020-06-23 2020-06-23     2375         Tue        0  2347022.0  121228.0   \n",
       "2020-06-24 2020-06-24     2096         Wed        0  2381493.0  121980.0   \n",
       "2020-06-25 2020-06-25     2676         Thu        0  2422299.0  124410.0   \n",
       "2020-06-26 2020-06-26     2794         Fri        0  2467554.0  125039.0   \n",
       "2020-06-27 2020-06-27     2225         Sat        1  2510151.0  125539.0   \n",
       "2020-06-28 2020-06-28     1175         Sun        1  2548996.0  125803.0   \n",
       "2020-06-29 2020-06-29     1481         Mon        0  2590651.0  126140.0   \n",
       "2020-06-30 2020-06-30     1924         Tue        0  2635417.0  127417.0   \n",
       "2020-07-01 2020-07-01     2579         Wed        0  2686258.0  128062.0   \n",
       "2020-07-02 2020-07-02     4777         Thu        0  2739879.0  128740.0   \n",
       "2020-07-03 2020-07-03     2306         Fri        0  2794153.0  129434.0   \n",
       "2020-07-04 2020-07-04     1195         Sat        1  2839436.0  129676.0   \n",
       "2020-07-05 2020-07-05     1088         Sun        1  2888635.0  129947.0   \n",
       "2020-07-06 2020-07-06     1725         Mon        0  2936077.0  130285.0   \n",
       "2020-07-07 2020-07-07     2715         Tue        0  2996098.0  131480.0   \n",
       "2020-07-08 2020-07-08     3581         Wed        0  3054699.0  132300.0   \n",
       "2020-07-09 2020-07-09     4825         Thu        0  3117946.0  133290.0   \n",
       "2020-07-10 2020-07-10     5456         Fri        0  3184573.0  134092.0   \n",
       "2020-07-11 2020-07-11     2981         Sat        1  3245925.0  134777.0   \n",
       "2020-07-12 2020-07-12     5378         Sun        1  3304942.0  135205.0   \n",
       "2020-07-13 2020-07-13     5248         Mon        0  3364157.0  135566.0   \n",
       "2020-07-14 2020-07-14     5423         Tue        0  3431574.0  136466.0   \n",
       "2020-07-15 2020-07-15     4452         Wed        0  3497847.0  137407.0   \n",
       "2020-07-16 2020-07-16     4856         Thu        0  3576157.0  138358.0   \n",
       "2020-07-17 2020-07-17     5824         Fri        0  3647715.0  139266.0   \n",
       "2020-07-18 2020-07-18     3528         Sat        1  3711413.0  140119.0   \n",
       "2020-07-19 2020-07-19     2666         Sun        1  3773260.0  140534.0   \n",
       "2020-07-20 2020-07-20     4025         Mon        0  3834677.0  140913.0   \n",
       "2020-07-21 2020-07-21     4280         Tue        0  3899211.0  141995.0   \n",
       "2020-07-22 2020-07-22     2548         Wed        0  3970085.0  143190.0   \n",
       "2020-07-23 2020-07-23     2574         Thu        0  4038748.0  144304.0   \n",
       "2020-07-24 2020-07-24     2267         Fri        0  4112531.0  145546.0   \n",
       "2020-07-25 2020-07-25     1459         Sat        1  4178021.0  146460.0   \n",
       "2020-07-26 2020-07-26      681         Sun        1  4233923.0  146935.0   \n",
       "2020-07-27 2020-07-27     1571         Mon        0  4290337.0  148012.0   \n",
       "2020-07-28 2020-07-28     2456         Tue        0  4356206.0  149310.0   \n",
       "2020-07-29 2020-07-29     2503         Wed        0  4426982.0  150713.0   \n",
       "2020-07-30 2020-07-30     3154         Thu        0  4495015.0  152055.0   \n",
       "2020-07-31 2020-07-31     3459         Fri        0  4562038.0  153314.0   \n",
       "2020-08-01 2020-08-01     3302         Sat        1  4620444.0  154447.0   \n",
       "2020-08-02 2020-08-02     4145         Sun        1  4667955.0  154860.0   \n",
       "\n",
       "            Recovered     Active      New  Fatality  \n",
       "2020-06-12   547386.0  1386931.0  25639.0  5.596378  \n",
       "2020-06-13   556606.0  1402484.0  25540.0  5.564452  \n",
       "2020-06-14   561816.0  1416510.0  19532.0  5.526686  \n",
       "2020-06-15   576334.0  1421565.0  19968.0  5.493168  \n",
       "2020-06-16   583503.0  1437265.0  23705.0  5.471362  \n",
       "2020-06-17   592191.0  1453382.0  25559.0  5.441573  \n",
       "2020-06-18   599115.0  1473500.0  27763.0  5.405529  \n",
       "2020-06-19   606715.0  1496972.0  31759.0  5.359203  \n",
       "2020-06-20   617460.0  1517940.0  32307.0  5.308766  \n",
       "2020-06-21   622133.0  1539180.0  26171.0  5.259174  \n",
       "2020-06-22   640198.0  1551700.0  31010.0  5.207023  \n",
       "2020-06-23   647548.0  1578246.0  34722.0  5.165184  \n",
       "2020-06-24   656161.0  1603352.0  34471.0  5.121997  \n",
       "2020-06-25   663562.0  1634327.0  40806.0  5.136030  \n",
       "2020-06-26   670809.0  1671706.0  45255.0  5.067326  \n",
       "2020-06-27   679308.0  1705304.0  42597.0  5.001253  \n",
       "2020-06-28   685164.0  1738029.0  38845.0  4.935394  \n",
       "2020-06-29   705203.0  1759308.0  41655.0  4.869046  \n",
       "2020-06-30   720631.0  1787369.0  44766.0  4.834795  \n",
       "2020-07-01   729994.0  1828202.0  50841.0  4.767301  \n",
       "2020-07-02   781970.0  1829169.0  53621.0  4.698748  \n",
       "2020-07-03   790404.0  1874315.0  54274.0  4.632316  \n",
       "2020-07-04   894325.0  1815435.0  45283.0  4.566963  \n",
       "2020-07-05   906763.0  1851925.0  49199.0  4.498561  \n",
       "2020-07-06   924148.0  1881644.0  47442.0  4.437384  \n",
       "2020-07-07   936476.0  1928142.0  60021.0  4.388374  \n",
       "2020-07-08   953420.0  1968979.0  58601.0  4.331032  \n",
       "2020-07-09   969111.0  2015545.0  63247.0  4.274930  \n",
       "2020-07-10   983185.0  2067296.0  66627.0  4.210674  \n",
       "2020-07-11   995576.0  2115572.0  61352.0  4.152191  \n",
       "2020-07-12  1006326.0  2163411.0  59017.0  4.090995  \n",
       "2020-07-13  1031939.0  2196652.0  59215.0  4.029717  \n",
       "2020-07-14  1049098.0  2246010.0  67417.0  3.976776  \n",
       "2020-07-15  1075882.0  2284558.0  66273.0  3.928331  \n",
       "2020-07-16  1090645.0  2347154.0  78310.0  3.868902  \n",
       "2020-07-17  1107204.0  2401245.0  71558.0  3.817897  \n",
       "2020-07-18  1122720.0  2448574.0  63698.0  3.775355  \n",
       "2020-07-19  1131121.0  2501605.0  61847.0  3.724472  \n",
       "2020-07-20  1160087.0  2533677.0  61417.0  3.674703  \n",
       "2020-07-21  1182018.0  2575198.0  64534.0  3.641634  \n",
       "2020-07-22  1210849.0  2616046.0  70874.0  3.606724  \n",
       "2020-07-23  1233269.0  2661175.0  68663.0  3.572988  \n",
       "2020-07-24  1261624.0  2705361.0  73783.0  3.539086  \n",
       "2020-07-25  1279414.0  2752147.0  65490.0  3.505487  \n",
       "2020-07-26  1297863.0  2789125.0  55902.0  3.470422  \n",
       "2020-07-27  1325804.0  2816521.0  56414.0  3.449892  \n",
       "2020-07-28  1355363.0  2851533.0  65869.0  3.427524  \n",
       "2020-07-29  1389425.0  2886844.0  70776.0  3.404419  \n",
       "2020-07-30  1414155.0  2928805.0  68033.0  3.382747  \n",
       "2020-07-31  1438160.0  2970564.0  67023.0  3.360647  \n",
       "2020-08-01  1461885.0  3004112.0  58406.0  3.342687  \n",
       "2020-08-02  1468689.0  3044406.0  47511.0  3.317513  "
      ]
     },
     "execution_count": 32,
     "metadata": {},
     "output_type": "execute_result"
    }
   ],
   "source": [
    "df_covid_trunc = bydate_us['2020-06-12':'2020-08-02']\n",
    "\n",
    "df_combined_linkedin = pd.concat([df_date_linkedin_trunc, df_covid_trunc], axis=1)\n",
    "df_combined_linkedin"
   ]
  },
  {
   "cell_type": "code",
   "execution_count": 48,
   "metadata": {},
   "outputs": [
    {
     "data": {
      "image/png": "[encoded data removed]",
      "text/plain": [
       "<Figure size 1080x432 with 2 Axes>"
      ]
     },
     "metadata": {
      "needs_background": "light"
     },
     "output_type": "display_data"
    }
   ],
   "source": [
    "plt.figure(figsize=(15,6))\n",
    "sns.set_context('poster',font_scale=0.5)\n",
    "plt.subplot(121)\n",
    "sns.boxplot(data=df_combined_indeed, x='Day of week', y='Jobnums',order=['Mon','Tue','Wed','Thu','Fri','Sat','Sun'])\n",
    "plt.ylabel('Job Openings', fontsize='large')\n",
    "plt.xlabel('Day of Week', fontsize='large')\n",
    "plt.title('Indeed', fontsize='x-large')\n",
    "plt.subplot(122)\n",
    "sns.boxplot(data=df_combined_linkedin, x='Day of week', y='Jobnums',order=['Mon','Tue','Wed','Thu','Fri','Sat','Sun'])\n",
    "plt.ylabel('Job Openings', fontsize='large')\n",
    "plt.xlabel('Day of Week', fontsize='large')\n",
    "plt.title('LinkedIn', fontsize='x-large')\n",
    "plt.suptitle('Software Engineer Openings Boxplot by Day of Week', fontsize='xx-large')\n",
    "plt.show()"
   ]
  },
  {
   "cell_type": "markdown",
   "metadata": {},
   "source": [
    "## Grid Search"
   ]
  },
  {
   "cell_type": "code",
   "execution_count": 33,
   "metadata": {},
   "outputs": [
    {
     "name": "stdout",
     "output_type": "stream",
     "text": [
      "---> Model[[(3, 0), 'n', 1]] 783.730\n",
      "---> Model[[(3, 0), 'n', 2]] 874.350\n",
      "---> Model[[(3, 0), 'c', 0]] 528.856\n",
      "---> Model[[(3, 0), 'c', 1]] 739.376\n",
      "---> Model[[(3, 0), 'c', 2]] 881.095\n",
      "---> Model[[(3, 0), 'n', 0]] 548.569\n",
      "---> Model[[(3, 0), 't', 0]] 681.190\n",
      "---> Model[[(3, 0), 't', 1]] 795.899\n",
      "---> Model[[(3, 0), 't', 2]] 909.042\n",
      "---> Model[[(3, 0), 'ct', 0]] 421.356\n",
      "---> Model[[(3, 0), 'ct', 1]] 953.071\n",
      "---> Model[[(3, 0), 'ct', 2]] 905.063\n",
      "---> Model[[(3, 1), 'n', 0]] 823.036\n",
      "---> Model[[(3, 1), 'n', 1]] 856.188\n",
      "---> Model[[(3, 1), 'n', 2]] 829.629\n",
      "---> Model[[(3, 1), 'c', 0]] 703.122\n",
      "---> Model[[(3, 1), 'c', 1]] 695.564\n",
      "---> Model[[(3, 1), 'c', 2]] 933.407\n",
      "---> Model[[(3, 1), 't', 0]] 594.827\n",
      "---> Model[[(3, 1), 't', 1]] 697.781\n",
      "---> Model[[(3, 1), 't', 2]] 1243.651\n",
      "---> Model[[(3, 1), 'ct', 0]] 546.260\n",
      "---> Model[[(3, 1), 'ct', 1]] 938.341\n",
      "---> Model[[(3, 1), 'ct', 2]] 1269.069\n",
      "---> Model[[(3, 2), 'n', 0]] 663.476\n",
      "---> Model[[(3, 2), 'n', 1]] 1051.331\n",
      "---> Model[[(3, 2), 'n', 2]] 943.543\n",
      "---> Model[[(3, 2), 'c', 0]] 727.016\n",
      "---> Model[[(3, 2), 'c', 1]] 1066.352\n",
      "---> Model[[(3, 2), 'c', 2]] 1104.832\n",
      "---> Model[[(3, 2), 't', 0]] 636.780\n",
      "---> Model[[(3, 2), 't', 1]] 1093.979\n",
      "---> Model[[(3, 2), 't', 2]] 1258.271\n",
      "---> Model[[(3, 2), 'ct', 0]] 581.054\n",
      "---> Model[[(4, 0), 'n', 0]] 686.373\n",
      "---> Model[[(3, 2), 'ct', 1]] 1183.852\n",
      "---> Model[[(4, 0), 'n', 1]] 809.415\n",
      "---> Model[[(4, 0), 'n', 2]] 906.536\n",
      "---> Model[[(4, 0), 'c', 0]] 541.338\n",
      "---> Model[[(4, 0), 'c', 1]] 692.003\n",
      "---> Model[[(3, 2), 'ct', 2]] 1132.973\n",
      "---> Model[[(4, 0), 'c', 2]] 923.969\n",
      "---> Model[[(4, 0), 't', 0]] 596.746\n",
      "---> Model[[(4, 0), 't', 1]] 713.493\n",
      "---> Model[[(4, 0), 't', 2]] 942.368\n",
      "---> Model[[(4, 0), 'ct', 0]] 439.997\n",
      "---> Model[[(4, 0), 'ct', 1]] 849.234\n",
      "---> Model[[(4, 0), 'ct', 2]] 934.122\n",
      "---> Model[[(4, 1), 'n', 0]] 937.552\n",
      "---> Model[[(4, 1), 'n', 1]] 1203.594\n",
      "---> Model[[(4, 1), 'n', 2]] 924.520\n",
      "---> Model[[(4, 1), 'c', 0]] 581.405\n",
      "---> Model[[(4, 1), 'c', 1]] 1434.963\n",
      "---> Model[[(4, 1), 'c', 2]] 997.779\n",
      "---> Model[[(4, 1), 't', 0]] 705.773\n",
      "---> Model[[(4, 1), 't', 1]] 1475.963\n",
      "---> Model[[(4, 1), 't', 2]] 937.576\n",
      "---> Model[[(4, 1), 'ct', 0]] 531.843\n",
      "---> Model[[(4, 1), 'ct', 1]] 1207.732\n",
      "---> Model[[(4, 1), 'ct', 2]] 831.166\n",
      "---> Model[[(4, 2), 'n', 0]] 858.810\n",
      "---> Model[[(4, 2), 'n', 1]] 1068.373\n",
      "---> Model[[(4, 2), 'n', 2]] 1060.287\n",
      "---> Model[[(4, 2), 'c', 1]] 1372.181\n",
      "---> Model[[(4, 2), 'c', 0]] 619.012\n",
      "---> Model[[(4, 2), 'c', 2]] 1094.884\n",
      "---> Model[[(4, 2), 't', 0]] 737.913\n",
      "---> Model[[(4, 2), 't', 1]] 1414.539\n",
      "---> Model[[(4, 2), 't', 2]] 1157.973\n",
      "---> Model[[(4, 2), 'ct', 0]] 583.858\n",
      "---> Model[[(5, 0), 'n', 0]] 639.764\n",
      "---> Model[[(5, 0), 'n', 1]] 843.626\n",
      "---> Model[[(4, 2), 'ct', 1]] 1448.219\n",
      "---> Model[[(4, 2), 'ct', 2]] 1144.646\n",
      "---> Model[[(5, 0), 'n', 2]] 825.596\n",
      "---> Model[[(5, 0), 'c', 0]] 538.522\n",
      "---> Model[[(5, 0), 'c', 1]] 716.476\n",
      "---> Model[[(5, 0), 'c', 2]] 853.470\n",
      "---> Model[[(5, 0), 't', 0]] 602.108\n",
      "---> Model[[(5, 0), 't', 1]] 744.259\n",
      "---> Model[[(5, 0), 't', 2]] 833.170\n",
      "---> Model[[(5, 0), 'ct', 0]] 650.661\n",
      "---> Model[[(5, 0), 'ct', 1]] 878.054\n",
      "---> Model[[(5, 0), 'ct', 2]] 841.405\n",
      "---> Model[[(5, 1), 'n', 0]] 976.677\n",
      "---> Model[[(5, 1), 'n', 1]] 1019.487\n",
      "---> Model[[(5, 1), 'n', 2]] 1181.185\n",
      "---> Model[[(5, 1), 'c', 0]] 552.263\n",
      "---> Model[[(5, 1), 'c', 1]] 1184.469\n",
      "---> Model[[(5, 1), 'c', 2]] 1218.317\n",
      "---> Model[[(5, 1), 't', 0]] 809.179\n",
      "---> Model[[(5, 1), 't', 1]] 1541.418\n",
      "---> Model[[(5, 1), 't', 2]] 1217.778\n",
      "---> Model[[(5, 1), 'ct', 0]] 743.462\n",
      "---> Model[[(5, 1), 'ct', 1]] 1261.857\n",
      "---> Model[[(5, 1), 'ct', 2]] 1373.340\n",
      "---> Model[[(5, 2), 'n', 0]] 707.231\n",
      "---> Model[[(5, 2), 'n', 1]] 1331.904\n",
      "---> Model[[(5, 2), 'n', 2]] 1557.678\n",
      "---> Model[[(5, 2), 'c', 1]] 1378.356\n",
      "---> Model[[(5, 2), 'c', 0]] 678.833\n",
      "---> Model[[(5, 2), 'c', 2]] 1529.576\n",
      "---> Model[[(5, 2), 't', 0]] 767.599\n",
      "---> Model[[(5, 2), 't', 1]] 1382.282\n",
      "---> Model[[(5, 2), 't', 2]] 1481.434\n",
      "---> Model[[(5, 2), 'ct', 0]] 718.449\n",
      "---> Model[[(6, 0), 'n', 0]] 774.942\n",
      "---> Model[[(5, 2), 'ct', 1]] 1479.458\n",
      "---> Model[[(6, 0), 'n', 1]] 843.765\n",
      "---> Model[[(5, 2), 'ct', 2]] 1477.458\n",
      "---> Model[[(6, 0), 'n', 2]] 925.677\n",
      "---> Model[[(6, 0), 'c', 0]] 486.485\n",
      "---> Model[[(6, 0), 'c', 1]] 750.663\n",
      "---> Model[[(6, 0), 'c', 2]] 999.584\n",
      "---> Model[[(6, 0), 't', 0]] 509.448\n",
      "---> Model[[(6, 0), 't', 1]] 879.391\n",
      "---> Model[[(6, 0), 't', 2]] 994.851\n",
      "---> Model[[(6, 0), 'ct', 0]] 665.754\n",
      "---> Model[[(6, 0), 'ct', 1]] 1080.350\n",
      "---> Model[[(6, 0), 'ct', 2]] 1097.967\n",
      "---> Model[[(6, 1), 'n', 0]] 977.149\n",
      "---> Model[[(6, 1), 'n', 1]] 992.813\n",
      "---> Model[[(6, 1), 'n', 2]] 1255.683\n",
      "---> Model[[(6, 1), 'c', 0]] 591.688\n",
      "---> Model[[(6, 1), 'c', 1]] 1147.264\n",
      "---> Model[[(6, 1), 'c', 2]] 1211.309\n",
      "---> Model[[(6, 1), 't', 0]] 656.403\n",
      "---> Model[[(6, 1), 't', 1]] 1227.985\n",
      "---> Model[[(6, 1), 't', 2]] 1094.540\n",
      "---> Model[[(6, 1), 'ct', 0]] 613.884\n",
      "---> Model[[(6, 1), 'ct', 1]] 1236.363\n",
      "---> Model[[(6, 1), 'ct', 2]] 1090.372\n",
      "---> Model[[(6, 2), 'n', 0]] 986.820\n",
      "---> Model[[(6, 2), 'n', 1]] 1545.629\n",
      "---> Model[[(6, 2), 'n', 2]] 1512.820\n",
      "---> Model[[(6, 2), 'c', 0]] 837.379\n",
      "---> Model[[(6, 2), 'c', 1]] 1592.108\n",
      "---> Model[[(6, 2), 'c', 2]] 1479.011\n",
      "---> Model[[(6, 2), 't', 0]] 976.376\n",
      "---> Model[[(6, 2), 't', 1]] 1595.890\n",
      "---> Model[[(6, 2), 't', 2]] 1593.217\n",
      "---> Model[[(6, 2), 'ct', 0]] 1100.805\n",
      "---> Model[[(6, 2), 'ct', 1]] 1569.046\n",
      "---> Model[[(7, 0), 'n', 0]] 707.858\n",
      "---> Model[[(6, 2), 'ct', 2]] 1654.327\n",
      "---> Model[[(7, 0), 'n', 1]] 1121.359\n",
      "---> Model[[(7, 0), 'n', 2]] 1313.212\n",
      "---> Model[[(7, 0), 'c', 0]] 583.622\n",
      "---> Model[[(7, 0), 'c', 1]] 1316.598\n",
      "---> Model[[(7, 0), 'c', 2]] 1309.200\n",
      "---> Model[[(7, 0), 't', 0]] 540.144\n",
      "---> Model[[(7, 0), 't', 1]] 1520.110\n",
      "---> Model[[(7, 0), 't', 2]] 1304.340\n",
      "---> Model[[(7, 0), 'ct', 0]] 950.975\n",
      "---> Model[[(7, 0), 'ct', 1]] 1545.420\n",
      "---> Model[[(7, 0), 'ct', 2]] 1295.422\n",
      "---> Model[[(7, 1), 'n', 0]] 935.268\n",
      "---> Model[[(7, 1), 'n', 1]] 1416.340\n",
      "---> Model[[(7, 1), 'n', 2]] 1323.508\n",
      "---> Model[[(7, 1), 'c', 0]] 593.075\n",
      "---> Model[[(7, 1), 'c', 1]] 1589.101\n",
      "---> Model[[(7, 1), 'c', 2]] 1337.959\n",
      "---> Model[[(7, 1), 't', 0]] 509.227\n",
      "---> Model[[(7, 1), 't', 1]] 1675.446\n",
      "---> Model[[(7, 1), 't', 2]] 1322.720\n",
      "---> Model[[(7, 1), 'ct', 0]] 861.926\n",
      "---> Model[[(7, 1), 'ct', 1]] 1459.881\n",
      "---> Model[[(7, 1), 'ct', 2]] 1319.493\n",
      "---> Model[[(7, 2), 'n', 0]] 1043.879\n",
      "---> Model[[(7, 2), 'n', 1]] 1528.375\n",
      "---> Model[[(7, 2), 'n', 2]] 1644.443\n",
      "---> Model[[(7, 2), 'c', 0]] 835.108\n",
      "---> Model[[(7, 2), 'c', 1]] 1691.350\n",
      "---> Model[[(7, 2), 'c', 2]] 1398.365\n",
      "---> Model[[(7, 2), 't', 0]] 897.441\n",
      "---> Model[[(7, 2), 't', 1]] 1683.115\n",
      "---> Model[[(7, 2), 't', 2]] 1395.989\n",
      "---> Model[[(7, 2), 'ct', 0]] 1083.627\n",
      "---> Model[[(8, 0), 'n', 0]] 810.339\n",
      "---> Model[[(7, 2), 'ct', 1]] 1618.332\n",
      "---> Model[[(7, 2), 'ct', 2]] 1503.296\n",
      "---> Model[[(8, 0), 'n', 1]] 1305.502\n",
      "---> Model[[(8, 0), 'n', 2]] 1202.148\n",
      "---> Model[[(8, 0), 'c', 0]] 737.147\n",
      "---> Model[[(8, 0), 'c', 1]] 1258.714\n",
      "---> Model[[(8, 0), 'c', 2]] 1187.937\n",
      "---> Model[[(8, 0), 't', 0]] 976.595\n",
      "---> Model[[(8, 0), 't', 1]] 1288.324\n",
      "---> Model[[(8, 0), 't', 2]] 1169.954\n",
      "---> Model[[(8, 0), 'ct', 0]] 987.485\n",
      "---> Model[[(8, 0), 'ct', 1]] 1370.878\n",
      "---> Model[[(8, 0), 'ct', 2]] 1181.802\n",
      "---> Model[[(8, 1), 'n', 0]] 600.863\n",
      "---> Model[[(8, 1), 'n', 1]] 1304.562\n",
      "---> Model[[(8, 1), 'n', 2]] 1305.403\n",
      "---> Model[[(8, 1), 'c', 0]] 695.001\n",
      "---> Model[[(8, 1), 'c', 1]] 1389.634\n",
      "---> Model[[(8, 1), 'c', 2]] 1460.579\n",
      "---> Model[[(8, 1), 't', 0]] 981.298\n",
      "---> Model[[(8, 1), 't', 1]] 1426.828\n",
      "---> Model[[(8, 1), 't', 2]] 1523.630\n",
      "---> Model[[(8, 1), 'ct', 0]] 1095.913\n",
      "---> Model[[(8, 1), 'ct', 1]] 1441.682\n",
      "---> Model[[(8, 1), 'ct', 2]] 1614.722\n",
      "---> Model[[(8, 2), 'n', 0]] 883.340\n",
      "---> Model[[(8, 2), 'n', 1]] 1353.305\n",
      "---> Model[[(8, 2), 'n', 2]] 1395.107\n",
      "---> Model[[(8, 2), 'c', 0]] 802.477\n",
      "---> Model[[(8, 2), 'c', 1]] 1386.062\n",
      "---> Model[[(8, 2), 'c', 2]] 1456.064\n",
      "---> Model[[(8, 2), 't', 0]] 1092.760\n",
      "---> Model[[(8, 2), 't', 1]] 1402.512\n",
      "---> Model[[(8, 2), 't', 2]] 1463.748\n",
      "---> Model[[(8, 2), 'ct', 0]] 1119.828\n",
      "---> Model[[(9, 0), 'n', 0]] 652.927\n",
      "---> Model[[(8, 2), 'ct', 1]] 1447.225\n",
      "---> Model[[(8, 2), 'ct', 2]] 1345.367\n",
      "---> Model[[(9, 0), 'n', 1]] 1186.118\n"
     ]
    },
    {
     "name": "stdout",
     "output_type": "stream",
     "text": [
      "---> Model[[(9, 0), 'n', 2]] 1294.028\n",
      "---> Model[[(9, 0), 'c', 0]] 652.747\n",
      "---> Model[[(9, 0), 'c', 1]] 1147.571\n",
      "---> Model[[(9, 0), 'c', 2]] 1292.835\n",
      "---> Model[[(9, 0), 't', 0]] 1139.292\n",
      "---> Model[[(9, 0), 't', 1]] 1162.077\n",
      "---> Model[[(9, 0), 't', 2]] 1290.467\n",
      "---> Model[[(9, 0), 'ct', 0]] 783.441\n",
      "---> Model[[(9, 0), 'ct', 1]] 1221.688\n",
      "---> Model[[(9, 0), 'ct', 2]] 1314.745\n",
      "---> Model[[(9, 1), 'n', 0]] 885.906\n",
      "---> Model[[(9, 1), 'n', 1]] 1276.760\n",
      "---> Model[[(9, 1), 'n', 2]] 1345.300\n",
      "---> Model[[(9, 1), 'c', 0]] 684.365\n",
      "---> Model[[(9, 1), 'c', 1]] 1291.352\n",
      "---> Model[[(9, 1), 'c', 2]] 1391.458\n",
      "---> Model[[(9, 1), 't', 0]] 1010.490\n",
      "---> Model[[(9, 1), 't', 1]] 1298.255\n",
      "---> Model[[(9, 1), 't', 2]] 1277.277\n",
      "---> Model[[(9, 1), 'ct', 0]] 811.418\n",
      "---> Model[[(9, 1), 'ct', 1]] 1319.818\n",
      "---> Model[[(9, 1), 'ct', 2]] 1342.652\n",
      "---> Model[[(9, 2), 'n', 0]] 913.695\n",
      "---> Model[[(9, 2), 'n', 1]] 1243.083\n",
      "---> Model[[(9, 2), 'n', 2]] 1311.045\n",
      "---> Model[[(9, 2), 'c', 0]] 794.033\n",
      "---> Model[[(9, 2), 'c', 1]] 1214.268\n",
      "---> Model[[(9, 2), 'c', 2]] 1305.380\n",
      "---> Model[[(9, 2), 't', 0]] 1153.307\n",
      "---> Model[[(9, 2), 't', 1]] 1238.699\n",
      "---> Model[[(9, 2), 't', 2]] 1321.846\n",
      "---> Model[[(9, 2), 'ct', 0]] 960.708\n",
      "---> Model[[(10, 0), 'n', 0]] 724.840\n",
      "---> Model[[(9, 2), 'ct', 1]] 1401.145\n",
      "---> Model[[(9, 2), 'ct', 2]] 1434.162\n",
      "---> Model[[(10, 0), 'n', 1]] 1296.811\n",
      "---> Model[[(10, 0), 'n', 2]] 1365.850\n",
      "---> Model[[(10, 0), 'c', 0]] 559.601\n",
      "---> Model[[(10, 0), 'c', 1]] 1249.584\n",
      "---> Model[[(10, 0), 'c', 2]] 1380.875\n",
      "---> Model[[(10, 0), 't', 0]] 1246.221\n",
      "---> Model[[(10, 0), 't', 1]] 1258.265\n",
      "---> Model[[(10, 0), 't', 2]] 1352.730\n",
      "---> Model[[(10, 0), 'ct', 0]] 741.186\n",
      "---> Model[[(10, 0), 'ct', 1]] 1330.436\n",
      "---> Model[[(10, 0), 'ct', 2]] 1373.067\n",
      "---> Model[[(10, 1), 'n', 0]] 778.567\n",
      "---> Model[[(10, 1), 'n', 1]] 1355.527\n",
      "---> Model[[(10, 1), 'n', 2]] 1418.408\n",
      "---> Model[[(10, 1), 'c', 0]] 614.324\n",
      "---> Model[[(10, 1), 'c', 1]] 1369.862\n",
      "---> Model[[(10, 1), 'c', 2]] 1428.255\n",
      "---> Model[[(10, 1), 't', 0]] 999.410\n",
      "---> Model[[(10, 1), 't', 1]] 1383.415\n",
      "---> Model[[(10, 1), 't', 2]] 1377.871\n",
      "---> Model[[(10, 1), 'ct', 0]] 636.824\n",
      "---> Model[[(10, 1), 'ct', 1]] 1423.286\n",
      "---> Model[[(10, 1), 'ct', 2]] 1379.718\n",
      "---> Model[[(10, 2), 'n', 0]] 1103.423\n",
      "---> Model[[(10, 2), 'n', 1]] 1297.657\n",
      "---> Model[[(10, 2), 'n', 2]] 1406.750\n",
      "---> Model[[(10, 2), 'c', 0]] 783.197\n",
      "---> Model[[(10, 2), 'c', 1]] 1264.997\n",
      "---> Model[[(10, 2), 'c', 2]] 1405.342\n",
      "---> Model[[(10, 2), 't', 0]] 968.146\n",
      "---> Model[[(10, 2), 't', 1]] 1312.392\n",
      "---> Model[[(10, 2), 't', 2]] 1460.136\n",
      "---> Model[[(10, 2), 'ct', 0]] 720.395\n",
      "---> Model[[(10, 2), 'ct', 1]] 1568.599\n",
      "---> Model[[(10, 2), 'ct', 2]] 1361.902\n",
      "n_test:7, method:walk, best_cfg parameters are:[(3, 0), 'ct', 0], rmse:421.35610805629153\n"
     ]
    }
   ],
   "source": [
    "n_test = 7\n",
    "cfg_list = varmax_configs()\n",
    "method = 'walk'\n",
    "scores = grid_search(df_combined_linkedin[['New','Jobnums']], cfg_list, n_test, method)\n",
    "print('n_test:{}, method:{}, best_cfg parameters are:{}, rmse:{}'.format(n_test,method,scores[0][0],scores[0][1]))\n",
    "#model_summary = model_summary.append({'n_test':n_test, 'validation':method, 'data':'LinkedIn', 'model':'No eXog', 'best_param':scores[0][0], 'rmse':scores[0][1]},ignore_index=True)"
   ]
  },
  {
   "cell_type": "code",
   "execution_count": 45,
   "metadata": {},
   "outputs": [],
   "source": [
    "best_cfg = [(3, 0), 'ct', 0]\n",
    "n_test = 7\n",
    "data = df_combined_linkedin[['New','Jobnums']]\n",
    "train, test = train_test_split(data, n_test)\n",
    "yhat_varma, error = walk_forward_best(data, n_test, best_cfg)"
   ]
  },
  {
   "cell_type": "markdown",
   "metadata": {},
   "source": [
    "### X=Weekend"
   ]
  },
  {
   "cell_type": "code",
   "execution_count": 34,
   "metadata": {},
   "outputs": [
    {
     "name": "stdout",
     "output_type": "stream",
     "text": [
      "---> Model[[(3, 0), 'c', 0]] 535.029\n",
      "---> Model[[(3, 0), 'n', 1]] 969.227\n",
      "---> Model[[(3, 0), 'n', 0]] 432.031\n",
      "---> Model[[(3, 0), 'n', 2]] 948.870\n",
      "---> Model[[(3, 0), 'c', 1]] 853.586\n",
      "---> Model[[(3, 0), 'c', 2]] 1175.438\n",
      "---> Model[[(3, 0), 't', 0]] 716.676\n",
      "---> Model[[(3, 0), 't', 1]] 790.245\n",
      "---> Model[[(3, 0), 't', 2]] 1156.755\n",
      "---> Model[[(3, 0), 'ct', 0]] 540.940\n",
      "---> Model[[(3, 0), 'ct', 1]] 1049.161\n",
      "---> Model[[(3, 0), 'ct', 2]] 1145.359\n",
      "---> Model[[(3, 1), 'n', 0]] 845.581\n",
      "---> Model[[(3, 1), 'n', 1]] 1027.360\n",
      "---> Model[[(3, 1), 'n', 2]] 945.278\n",
      "---> Model[[(3, 1), 'c', 0]] 542.718\n",
      "---> Model[[(3, 1), 'c', 1]] 1046.855\n",
      "---> Model[[(3, 1), 'c', 2]] 1348.919\n",
      "---> Model[[(3, 1), 't', 0]] 599.475\n",
      "---> Model[[(3, 1), 't', 1]] 870.093\n",
      "---> Model[[(3, 1), 't', 2]] 1296.112\n",
      "---> Model[[(3, 1), 'ct', 0]] 545.363\n",
      "---> Model[[(3, 1), 'ct', 1]] 1002.671\n",
      "---> Model[[(3, 1), 'ct', 2]] 1148.710\n",
      "---> Model[[(3, 2), 'n', 0]] 1225.679\n",
      "---> Model[[(3, 2), 'n', 1]] 1107.995\n",
      "---> Model[[(3, 2), 'n', 2]] 1018.077\n",
      "---> Model[[(3, 2), 'c', 0]] 715.121\n",
      "---> Model[[(3, 2), 'c', 1]] 1173.185\n",
      "---> Model[[(3, 2), 'c', 2]] 1423.553\n",
      "---> Model[[(3, 2), 't', 0]] 682.775\n",
      "---> Model[[(3, 2), 't', 1]] 1135.549\n",
      "---> Model[[(3, 2), 't', 2]] 1082.078\n",
      "---> Model[[(3, 2), 'ct', 0]] 631.783\n",
      "---> Model[[(3, 2), 'ct', 1]] 1177.386\n",
      "---> Model[[(4, 0), 'n', 0]] 450.340\n",
      "---> Model[[(4, 0), 'n', 1]] 1009.002\n",
      "---> Model[[(3, 2), 'ct', 2]] 1128.829\n",
      "---> Model[[(4, 0), 'n', 2]] 977.075\n",
      "---> Model[[(4, 0), 'c', 0]] 578.583\n",
      "---> Model[[(4, 0), 'c', 1]] 915.895\n",
      "---> Model[[(4, 0), 'c', 2]] 1197.906\n",
      "---> Model[[(4, 0), 't', 0]] 629.927\n",
      "---> Model[[(4, 0), 't', 1]] 734.362\n",
      "---> Model[[(4, 0), 't', 2]] 1231.800\n",
      "---> Model[[(4, 0), 'ct', 0]] 609.814\n",
      "---> Model[[(4, 0), 'ct', 1]] 1195.362\n",
      "---> Model[[(4, 0), 'ct', 2]] 1264.697\n",
      "---> Model[[(4, 1), 'n', 0]] 719.693\n",
      "---> Model[[(4, 1), 'n', 1]] 1208.869\n",
      "---> Model[[(4, 1), 'n', 2]] 915.491\n",
      "---> Model[[(4, 1), 'c', 0]] 534.064\n",
      "---> Model[[(4, 1), 'c', 1]] 1102.122\n",
      "---> Model[[(4, 1), 'c', 2]] 1207.113\n",
      "---> Model[[(4, 1), 't', 0]] 643.052\n",
      "---> Model[[(4, 1), 't', 1]] 1291.036\n",
      "---> Model[[(4, 1), 't', 2]] 1410.365\n",
      "---> Model[[(4, 1), 'ct', 0]] 564.693\n",
      "---> Model[[(4, 1), 'ct', 1]] 1073.732\n",
      "---> Model[[(4, 1), 'ct', 2]] 1050.235\n",
      "---> Model[[(4, 2), 'n', 0]] 793.609\n",
      "---> Model[[(4, 2), 'n', 1]] 983.811\n",
      "---> Model[[(4, 2), 'n', 2]] 1017.811\n",
      "---> Model[[(4, 2), 'c', 0]] 651.576\n",
      "---> Model[[(4, 2), 'c', 1]] 963.133\n",
      "---> Model[[(4, 2), 'c', 2]] 1292.567\n",
      "---> Model[[(4, 2), 't', 0]] 788.169\n",
      "---> Model[[(4, 2), 't', 1]] 1225.937\n",
      "---> Model[[(4, 2), 't', 2]] 1346.671\n",
      "---> Model[[(4, 2), 'ct', 0]] 632.503\n",
      "---> Model[[(4, 2), 'ct', 1]] 1182.977\n",
      "---> Model[[(5, 0), 'n', 1]] 979.407\n",
      "---> Model[[(5, 0), 'n', 0]] 563.785\n",
      "---> Model[[(4, 2), 'ct', 2]] 1137.148\n",
      "---> Model[[(5, 0), 'n', 2]] 814.645\n",
      "---> Model[[(5, 0), 'c', 1]] 926.090\n",
      "---> Model[[(5, 0), 'c', 0]] 578.023\n",
      "---> Model[[(5, 0), 'c', 2]] 997.361\n",
      "---> Model[[(5, 0), 't', 0]] 677.096\n",
      "---> Model[[(5, 0), 't', 1]] 811.547\n",
      "---> Model[[(5, 0), 't', 2]] 1115.393\n",
      "---> Model[[(5, 0), 'ct', 0]] 705.046\n",
      "---> Model[[(5, 0), 'ct', 1]] 715.091\n",
      "---> Model[[(5, 0), 'ct', 2]] 1023.216\n",
      "---> Model[[(5, 1), 'n', 0]] 854.016\n",
      "---> Model[[(5, 1), 'n', 1]] 876.316\n",
      "---> Model[[(5, 1), 'n', 2]] 960.062\n",
      "---> Model[[(5, 1), 'c', 0]] 616.603\n",
      "---> Model[[(5, 1), 'c', 1]] 1437.300\n",
      "---> Model[[(5, 1), 'c', 2]] 1198.051\n",
      "---> Model[[(5, 1), 't', 0]] 687.581\n",
      "---> Model[[(5, 1), 't', 1]] 1328.243\n",
      "---> Model[[(5, 1), 't', 2]] 1421.181\n",
      "---> Model[[(5, 1), 'ct', 0]] 750.764\n",
      "---> Model[[(5, 1), 'ct', 1]] 1288.144\n",
      "---> Model[[(5, 1), 'ct', 2]] 1034.071\n",
      "---> Model[[(5, 2), 'n', 0]] 769.880\n",
      "---> Model[[(5, 2), 'n', 1]] 1412.703\n",
      "---> Model[[(5, 2), 'n', 2]] 1151.990\n",
      "---> Model[[(5, 2), 'c', 0]] 712.942\n",
      "---> Model[[(5, 2), 'c', 1]] 1279.668\n",
      "---> Model[[(5, 2), 'c', 2]] 1328.008\n",
      "---> Model[[(5, 2), 't', 0]] 726.498\n",
      "---> Model[[(5, 2), 't', 1]] 1332.569\n",
      "---> Model[[(5, 2), 't', 2]] 1296.166\n",
      "---> Model[[(5, 2), 'ct', 0]] 756.183\n",
      "---> Model[[(6, 0), 'n', 0]] 718.961\n",
      "---> Model[[(5, 2), 'ct', 1]] 1123.519\n",
      "---> Model[[(5, 2), 'ct', 2]] 1036.407\n",
      "---> Model[[(6, 0), 'n', 1]] 995.894\n",
      "---> Model[[(6, 0), 'c', 0]] 567.913\n",
      "---> Model[[(6, 0), 'n', 2]] 1001.992\n",
      "---> Model[[(6, 0), 'c', 1]] 961.431\n",
      "---> Model[[(6, 0), 'c', 2]] 951.563\n",
      "---> Model[[(6, 0), 't', 1]] 930.641\n",
      "---> Model[[(6, 0), 't', 0]] 623.425\n",
      "---> Model[[(6, 0), 't', 2]] 970.975\n",
      "---> Model[[(6, 0), 'ct', 0]] 714.124\n",
      "---> Model[[(6, 0), 'ct', 1]] 1000.236\n",
      "---> Model[[(6, 0), 'ct', 2]] 1121.878\n",
      "---> Model[[(6, 1), 'n', 0]] 977.393\n",
      "---> Model[[(6, 1), 'n', 1]] 1236.342\n",
      "---> Model[[(6, 1), 'n', 2]] 1099.460\n",
      "---> Model[[(6, 1), 'c', 0]] 601.100\n",
      "---> Model[[(6, 1), 'c', 1]] 1477.807\n",
      "---> Model[[(6, 1), 'c', 2]] 1264.889\n",
      "---> Model[[(6, 1), 't', 0]] 608.608\n",
      "---> Model[[(6, 1), 't', 1]] 1021.243\n",
      "---> Model[[(6, 1), 't', 2]] 1303.618\n",
      "---> Model[[(6, 1), 'ct', 0]] 657.590\n",
      "---> Model[[(6, 1), 'ct', 1]] 1335.194\n",
      "---> Model[[(6, 1), 'ct', 2]] 1270.911\n",
      "---> Model[[(6, 2), 'n', 0]] 841.155\n",
      "---> Model[[(6, 2), 'n', 1]] 1623.599\n",
      "---> Model[[(6, 2), 'n', 2]] 1029.335\n",
      "---> Model[[(6, 2), 'c', 0]] 798.739\n",
      "---> Model[[(6, 2), 'c', 1]] 1284.194\n",
      "---> Model[[(6, 2), 'c', 2]] 1270.877\n",
      "---> Model[[(6, 2), 't', 0]] 1077.301\n",
      "---> Model[[(6, 2), 't', 1]] 1598.181\n",
      "---> Model[[(6, 2), 't', 2]] 1372.856\n",
      "---> Model[[(6, 2), 'ct', 0]] 1167.235\n",
      "---> Model[[(6, 2), 'ct', 1]] 1251.052\n",
      "---> Model[[(7, 0), 'n', 0]] 611.488\n",
      "---> Model[[(6, 2), 'ct', 2]] 1556.198\n",
      "---> Model[[(7, 0), 'n', 1]] 1214.801\n",
      "---> Model[[(7, 0), 'n', 2]] 1298.042\n",
      "---> Model[[(7, 0), 'c', 0]] 555.670\n",
      "---> Model[[(7, 0), 'c', 1]] 1410.184\n",
      "---> Model[[(7, 0), 'c', 2]] 1470.894\n",
      "---> Model[[(7, 0), 't', 0]] 475.785\n",
      "---> Model[[(7, 0), 't', 1]] 1552.751\n",
      "---> Model[[(7, 0), 't', 2]] 1639.060\n",
      "---> Model[[(7, 0), 'ct', 0]] 852.069\n",
      "---> Model[[(7, 0), 'ct', 1]] 1362.792\n",
      "---> Model[[(7, 0), 'ct', 2]] 1504.337\n",
      "---> Model[[(7, 1), 'n', 0]] 827.910\n",
      "---> Model[[(7, 1), 'n', 1]] 1506.024\n",
      "---> Model[[(7, 1), 'n', 2]] 1304.563\n",
      "---> Model[[(7, 1), 'c', 0]] 685.341\n",
      "---> Model[[(7, 1), 'c', 1]] 1498.872\n",
      "---> Model[[(7, 1), 'c', 2]] 1320.111\n",
      "---> Model[[(7, 1), 't', 0]] 542.363\n",
      "---> Model[[(7, 1), 't', 1]] 1710.489\n",
      "---> Model[[(7, 1), 't', 2]] 1502.852\n",
      "---> Model[[(7, 1), 'ct', 0]] 726.922\n",
      "---> Model[[(7, 1), 'ct', 1]] 1343.969\n",
      "---> Model[[(7, 1), 'ct', 2]] 1744.754\n",
      "---> Model[[(7, 2), 'n', 0]] 1188.973\n",
      "---> Model[[(7, 2), 'n', 1]] 1508.508\n",
      "---> Model[[(7, 2), 'n', 2]] 1098.970\n",
      "---> Model[[(7, 2), 'c', 0]] 710.837\n",
      "---> Model[[(7, 2), 'c', 1]] 1734.503\n",
      "---> Model[[(7, 2), 'c', 2]] 1386.349\n",
      "---> Model[[(7, 2), 't', 0]] 890.767\n",
      "---> Model[[(7, 2), 't', 1]] 1543.151\n",
      "---> Model[[(7, 2), 't', 2]] 1407.950\n",
      "---> Model[[(7, 2), 'ct', 0]] 1255.891\n",
      "---> Model[[(7, 2), 'ct', 1]] 1361.880\n",
      "---> Model[[(8, 0), 'n', 0]] 964.066\n",
      "---> Model[[(7, 2), 'ct', 2]] 1667.062\n",
      "---> Model[[(8, 0), 'n', 1]] 1371.563\n",
      "---> Model[[(8, 0), 'n', 2]] 1168.073\n",
      "---> Model[[(8, 0), 'c', 0]] 728.546\n",
      "---> Model[[(8, 0), 'c', 1]] 1349.859\n",
      "---> Model[[(8, 0), 'c', 2]] 1615.912\n",
      "---> Model[[(8, 0), 't', 0]] 975.847\n",
      "---> Model[[(8, 0), 't', 1]] 1314.823\n",
      "---> Model[[(8, 0), 't', 2]] 1357.793\n",
      "---> Model[[(8, 0), 'ct', 0]] 1014.656\n",
      "---> Model[[(8, 0), 'ct', 1]] 1276.632\n",
      "---> Model[[(8, 0), 'ct', 2]] 1635.893\n",
      "---> Model[[(8, 1), 'n', 0]] 1441.428\n",
      "---> Model[[(8, 1), 'n', 1]] 1410.666\n",
      "---> Model[[(8, 1), 'n', 2]] 1307.984\n",
      "---> Model[[(8, 1), 'c', 0]] 754.970\n",
      "---> Model[[(8, 1), 'c', 1]] 1560.975\n",
      "---> Model[[(8, 1), 'c', 2]] 1526.268\n",
      "---> Model[[(8, 1), 't', 0]] 872.141\n",
      "---> Model[[(8, 1), 't', 1]] 1397.986\n",
      "---> Model[[(8, 1), 't', 2]] 1243.295\n",
      "---> Model[[(8, 1), 'ct', 1]] 1333.701\n",
      "---> Model[[(8, 1), 'ct', 0]] 1061.266\n",
      "---> Model[[(8, 1), 'ct', 2]] 1400.381\n",
      "---> Model[[(8, 2), 'n', 0]] 1034.803\n",
      "---> Model[[(8, 2), 'n', 1]] 1388.898\n",
      "---> Model[[(8, 2), 'n', 2]] 1199.736\n",
      "---> Model[[(8, 2), 'c', 0]] 895.097\n",
      "---> Model[[(8, 2), 'c', 1]] 1787.933\n",
      "---> Model[[(8, 2), 'c', 2]] 1488.127\n",
      "---> Model[[(8, 2), 't', 0]] 923.439\n",
      "---> Model[[(8, 2), 't', 1]] 1409.797\n",
      "---> Model[[(8, 2), 't', 2]] 1262.084\n",
      "---> Model[[(8, 2), 'ct', 0]] 1049.849\n",
      "---> Model[[(8, 2), 'ct', 1]] 1356.855\n",
      "---> Model[[(9, 0), 'n', 0]] 1067.770\n",
      "---> Model[[(8, 2), 'ct', 2]] 1607.418\n"
     ]
    },
    {
     "name": "stdout",
     "output_type": "stream",
     "text": [
      "---> Model[[(9, 0), 'n', 1]] 1274.935\n",
      "---> Model[[(9, 0), 'n', 2]] 1264.660\n",
      "---> Model[[(9, 0), 'c', 0]] 530.116\n",
      "---> Model[[(9, 0), 'c', 1]] 1215.497\n",
      "---> Model[[(9, 0), 'c', 2]] 1327.711\n",
      "---> Model[[(9, 0), 't', 0]] 1288.540\n",
      "---> Model[[(9, 0), 't', 1]] 1188.016\n",
      "---> Model[[(9, 0), 't', 2]] 1304.344\n",
      "---> Model[[(9, 0), 'ct', 0]] 1048.726\n",
      "---> Model[[(9, 0), 'ct', 1]] 1244.929\n",
      "---> Model[[(9, 0), 'ct', 2]] 1343.171\n",
      "---> Model[[(9, 1), 'n', 0]] 1191.025\n",
      "---> Model[[(9, 1), 'n', 1]] 1352.599\n",
      "---> Model[[(9, 1), 'n', 2]] 1185.238\n",
      "---> Model[[(9, 1), 'c', 0]] 574.308\n",
      "---> Model[[(9, 1), 'c', 1]] 1435.088\n",
      "---> Model[[(9, 1), 'c', 2]] 1347.951\n",
      "---> Model[[(9, 1), 't', 0]] 998.843\n",
      "---> Model[[(9, 1), 't', 1]] 1329.495\n",
      "---> Model[[(9, 1), 't', 2]] 1318.517\n",
      "---> Model[[(9, 1), 'ct', 0]] 982.812\n",
      "---> Model[[(9, 1), 'ct', 1]] 1355.017\n",
      "---> Model[[(9, 1), 'ct', 2]] 1254.887\n",
      "---> Model[[(9, 2), 'n', 0]] 1278.388\n",
      "---> Model[[(9, 2), 'n', 1]] 1422.238\n",
      "---> Model[[(9, 2), 'n', 2]] 1314.446\n",
      "---> Model[[(9, 2), 'c', 0]] 851.336\n",
      "---> Model[[(9, 2), 'c', 1]] 1462.862\n",
      "---> Model[[(9, 2), 'c', 2]] 1320.370\n",
      "---> Model[[(9, 2), 't', 0]] 854.911\n",
      "---> Model[[(9, 2), 't', 1]] 1558.337\n",
      "---> Model[[(9, 2), 't', 2]] 1534.774\n",
      "---> Model[[(9, 2), 'ct', 0]] 1035.231\n",
      "---> Model[[(9, 2), 'ct', 1]] 1368.545\n",
      "---> Model[[(10, 0), 'n', 0]] 1258.739\n",
      "---> Model[[(9, 2), 'ct', 2]] 1312.113\n",
      "---> Model[[(10, 0), 'n', 1]] 1429.197\n",
      "---> Model[[(10, 0), 'n', 2]] 1326.356\n",
      "---> Model[[(10, 0), 'c', 0]] 556.022\n",
      "---> Model[[(10, 0), 'c', 1]] 1267.437\n",
      "---> Model[[(10, 0), 'c', 2]] 1379.952\n",
      "---> Model[[(10, 0), 't', 0]] 1251.940\n",
      "---> Model[[(10, 0), 't', 1]] 1326.170\n",
      "---> Model[[(10, 0), 't', 2]] 1376.111\n",
      "---> Model[[(10, 0), 'ct', 0]] 657.617\n",
      "---> Model[[(10, 0), 'ct', 1]] 1345.507\n",
      "---> Model[[(10, 0), 'ct', 2]] 1393.489\n",
      "---> Model[[(10, 1), 'n', 0]] 1122.607\n",
      "---> Model[[(10, 1), 'n', 1]] 1378.311\n",
      "---> Model[[(10, 1), 'n', 2]] 1194.076\n",
      "---> Model[[(10, 1), 'c', 0]] 623.503\n",
      "---> Model[[(10, 1), 'c', 1]] 1500.083\n",
      "---> Model[[(10, 1), 'c', 2]] 1338.804\n",
      "---> Model[[(10, 1), 't', 0]] 1192.424\n",
      "---> Model[[(10, 1), 't', 1]] 1369.375\n",
      "---> Model[[(10, 1), 't', 2]] 1453.318\n",
      "---> Model[[(10, 1), 'ct', 0]] 720.908\n",
      "---> Model[[(10, 1), 'ct', 1]] 1522.077\n",
      "---> Model[[(10, 1), 'ct', 2]] 1236.155\n",
      "---> Model[[(10, 2), 'n', 0]] 1127.681\n",
      "---> Model[[(10, 2), 'n', 1]] 1508.823\n",
      "---> Model[[(10, 2), 'n', 2]] 1350.135\n",
      "---> Model[[(10, 2), 'c', 0]] 770.752\n",
      "---> Model[[(10, 2), 'c', 1]] 1474.149\n",
      "---> Model[[(10, 2), 'c', 2]] 1364.953\n",
      "---> Model[[(10, 2), 't', 0]] 1054.362\n",
      "---> Model[[(10, 2), 't', 1]] 1499.462\n",
      "---> Model[[(10, 2), 't', 2]] 1475.556\n",
      "---> Model[[(10, 2), 'ct', 0]] 916.503\n",
      "---> Model[[(10, 2), 'ct', 1]] 1574.097\n",
      "---> Model[[(10, 2), 'ct', 2]] 1391.530\n",
      "n_test:7, method:walk, best_cfg parameters are:[(3, 0), 'n', 0], rmse:432.0311951419171\n"
     ]
    }
   ],
   "source": [
    "n_test = 7\n",
    "cfg_list = varmax_configs()\n",
    "method = 'walk'\n",
    "scores = grid_search(df_combined_linkedin[['New','Jobnums']], cfg_list, n_test, method,exog=df_combined_linkedin[['Weekend']])\n",
    "print('n_test:{}, method:{}, best_cfg parameters are:{}, rmse:{}'.format(n_test,method,scores[0][0],scores[0][1]))\n",
    "#model_summary = model_summary.append({'n_test':n_test, 'validation':method, 'data':'LinkedIn', 'model':'X=weekend', 'best_param':scores[0][0], 'rmse':scores[0][1]},ignore_index=True)"
   ]
  },
  {
   "cell_type": "code",
   "execution_count": 46,
   "metadata": {},
   "outputs": [],
   "source": [
    "n_test = 7\n",
    "best_cfg = [(3, 0), 'n', 0]\n",
    "data = df_combined_linkedin[['New','Jobnums']]\n",
    "train, test = train_test_split(data, n_test)\n",
    "yhat_varmax, errorx = walk_forward_best(data, n_test, best_cfg, exog=df_combined_linkedin[['Weekend']])"
   ]
  },
  {
   "cell_type": "code",
   "execution_count": 49,
   "metadata": {},
   "outputs": [
    {
     "data": {
      "application/vnd.plotly.v1+json": {
       "config": {
        "plotlyServerURL": "https://plot.ly"
       },
       "data": [
        {
         "mode": "lines+markers",
         "name": "Train",
         "showlegend": false,
         "type": "scatter",
         "x": [
          "2020-06-12T00:00:00",
          "2020-06-13T00:00:00",
          "2020-06-14T00:00:00",
          "2020-06-15T00:00:00",
          "2020-06-16T00:00:00",
          "2020-06-17T00:00:00",
          "2020-06-18T00:00:00",
          "2020-06-19T00:00:00",
          "2020-06-20T00:00:00",
          "2020-06-21T00:00:00",
          "2020-06-22T00:00:00",
          "2020-06-23T00:00:00",
          "2020-06-24T00:00:00",
          "2020-06-25T00:00:00",
          "2020-06-26T00:00:00",
          "2020-06-27T00:00:00",
          "2020-06-28T00:00:00",
          "2020-06-29T00:00:00",
          "2020-06-30T00:00:00",
          "2020-07-01T00:00:00",
          "2020-07-02T00:00:00",
          "2020-07-03T00:00:00",
          "2020-07-04T00:00:00",
          "2020-07-05T00:00:00",
          "2020-07-06T00:00:00",
          "2020-07-07T00:00:00",
          "2020-07-08T00:00:00",
          "2020-07-09T00:00:00",
          "2020-07-10T00:00:00",
          "2020-07-11T00:00:00",
          "2020-07-12T00:00:00",
          "2020-07-13T00:00:00",
          "2020-07-14T00:00:00",
          "2020-07-15T00:00:00",
          "2020-07-16T00:00:00",
          "2020-07-17T00:00:00",
          "2020-07-18T00:00:00",
          "2020-07-19T00:00:00",
          "2020-07-20T00:00:00",
          "2020-07-21T00:00:00",
          "2020-07-22T00:00:00",
          "2020-07-23T00:00:00",
          "2020-07-24T00:00:00",
          "2020-07-25T00:00:00",
          "2020-07-26T00:00:00"
         ],
         "xaxis": "x",
         "y": [
          759,
          624,
          733,
          673,
          953,
          1540,
          1982,
          1625,
          1046,
          965,
          2140,
          2375,
          2096,
          2676,
          2794,
          2225,
          1175,
          1481,
          1924,
          2579,
          4777,
          2306,
          1195,
          1088,
          1725,
          2715,
          3581,
          4825,
          5456,
          2981,
          5378,
          5248,
          5423,
          4452,
          4856,
          5824,
          3528,
          2666,
          4025,
          4280,
          2548,
          2574,
          2267,
          1459,
          681
         ],
         "yaxis": "y"
        },
        {
         "line": {
          "color": "green"
         },
         "mode": "lines+markers",
         "name": "Test",
         "showlegend": false,
         "type": "scatter",
         "x": [
          "2020-07-27T00:00:00",
          "2020-07-28T00:00:00",
          "2020-07-29T00:00:00",
          "2020-07-30T00:00:00",
          "2020-07-31T00:00:00",
          "2020-08-01T00:00:00",
          "2020-08-02T00:00:00"
         ],
         "xaxis": "x2",
         "y": [
          1571,
          2456,
          2503,
          3154,
          3459,
          3302,
          4145
         ],
         "yaxis": "y2"
        },
        {
         "line": {
          "color": "red"
         },
         "mode": "lines+markers",
         "name": "Prediction",
         "showlegend": false,
         "type": "scatter",
         "x": [
          "2020-07-27T00:00:00",
          "2020-07-28T00:00:00",
          "2020-07-29T00:00:00",
          "2020-07-30T00:00:00",
          "2020-07-31T00:00:00",
          "2020-08-01T00:00:00",
          "2020-08-02T00:00:00"
         ],
         "xaxis": "x2",
         "y": [
          1432.3837927859918,
          2317.7205317574244,
          2806.1841535181834,
          2604.6446333478775,
          3191.30667665631,
          3504.2929553319736,
          3309.4420909471255
         ],
         "yaxis": "y2"
        },
        {
         "line": {
          "color": "green"
         },
         "mode": "lines+markers",
         "name": "Test",
         "showlegend": true,
         "type": "scatter",
         "x": [
          "2020-07-27T00:00:00",
          "2020-07-28T00:00:00",
          "2020-07-29T00:00:00",
          "2020-07-30T00:00:00",
          "2020-07-31T00:00:00",
          "2020-08-01T00:00:00",
          "2020-08-02T00:00:00"
         ],
         "xaxis": "x3",
         "y": [
          1571,
          2456,
          2503,
          3154,
          3459,
          3302,
          4145
         ],
         "yaxis": "y3"
        },
        {
         "line": {
          "color": "red"
         },
         "mode": "lines+markers",
         "name": "Prediction",
         "showlegend": true,
         "type": "scatter",
         "x": [
          "2020-07-27T00:00:00",
          "2020-07-28T00:00:00",
          "2020-07-29T00:00:00",
          "2020-07-30T00:00:00",
          "2020-07-31T00:00:00",
          "2020-08-01T00:00:00",
          "2020-08-02T00:00:00"
         ],
         "xaxis": "x3",
         "y": [
          1510.044457219601,
          2313.50907169536,
          2758.4466891234624,
          2797.489860575023,
          3221.6328220222385,
          3201.064507818637,
          3133.242227148451
         ],
         "yaxis": "y3"
        }
       ],
       "layout": {
        "annotations": [
         {
          "font": {
           "size": 16
          },
          "showarrow": false,
          "text": "Train data",
          "x": 0.5,
          "xanchor": "center",
          "xref": "paper",
          "y": 1,
          "yanchor": "bottom",
          "yref": "paper"
         },
         {
          "font": {
           "size": 16
          },
          "showarrow": false,
          "text": "No eXog, RMSE: 421.36",
          "x": 0.225,
          "xanchor": "center",
          "xref": "paper",
          "y": 0.375,
          "yanchor": "bottom",
          "yref": "paper"
         },
         {
          "font": {
           "size": 16
          },
          "showarrow": false,
          "text": "X=Weekend, RMSE: 432.03",
          "x": 0.775,
          "xanchor": "center",
          "xref": "paper",
          "y": 0.375,
          "yanchor": "bottom",
          "yref": "paper"
         }
        ],
        "legend": {
         "x": 1,
         "y": 0.25
        },
        "template": {
         "data": {
          "bar": [
           {
            "error_x": {
             "color": "#2a3f5f"
            },
            "error_y": {
             "color": "#2a3f5f"
            },
            "marker": {
             "line": {
              "color": "#E5ECF6",
              "width": 0.5
             }
            },
            "type": "bar"
           }
          ],
          "barpolar": [
           {
            "marker": {
             "line": {
              "color": "#E5ECF6",
              "width": 0.5
             }
            },
            "type": "barpolar"
           }
          ],
          "carpet": [
           {
            "aaxis": {
             "endlinecolor": "#2a3f5f",
             "gridcolor": "white",
             "linecolor": "white",
             "minorgridcolor": "white",
             "startlinecolor": "#2a3f5f"
            },
            "baxis": {
             "endlinecolor": "#2a3f5f",
             "gridcolor": "white",
             "linecolor": "white",
             "minorgridcolor": "white",
             "startlinecolor": "#2a3f5f"
            },
            "type": "carpet"
           }
          ],
          "choropleth": [
           {
            "colorbar": {
             "outlinewidth": 0,
             "ticks": ""
            },
            "type": "choropleth"
           }
          ],
          "contour": [
           {
            "colorbar": {
             "outlinewidth": 0,
             "ticks": ""
            },
            "colorscale": [
             [
              0,
              "#0d0887"
             ],
             [
              0.1111111111111111,
              "#46039f"
             ],
             [
              0.2222222222222222,
              "#7201a8"
             ],
             [
              0.3333333333333333,
              "#9c179e"
             ],
             [
              0.4444444444444444,
              "#bd3786"
             ],
             [
              0.5555555555555556,
              "#d8576b"
             ],
             [
              0.6666666666666666,
              "#ed7953"
             ],
             [
              0.7777777777777778,
              "#fb9f3a"
             ],
             [
              0.8888888888888888,
              "#fdca26"
             ],
             [
              1,
              "#f0f921"
             ]
            ],
            "type": "contour"
           }
          ],
          "contourcarpet": [
           {
            "colorbar": {
             "outlinewidth": 0,
             "ticks": ""
            },
            "type": "contourcarpet"
           }
          ],
          "heatmap": [
           {
            "colorbar": {
             "outlinewidth": 0,
             "ticks": ""
            },
            "colorscale": [
             [
              0,
              "#0d0887"
             ],
             [
              0.1111111111111111,
              "#46039f"
             ],
             [
              0.2222222222222222,
              "#7201a8"
             ],
             [
              0.3333333333333333,
              "#9c179e"
             ],
             [
              0.4444444444444444,
              "#bd3786"
             ],
             [
              0.5555555555555556,
              "#d8576b"
             ],
             [
              0.6666666666666666,
              "#ed7953"
             ],
             [
              0.7777777777777778,
              "#fb9f3a"
             ],
             [
              0.8888888888888888,
              "#fdca26"
             ],
             [
              1,
              "#f0f921"
             ]
            ],
            "type": "heatmap"
           }
          ],
          "heatmapgl": [
           {
            "colorbar": {
             "outlinewidth": 0,
             "ticks": ""
            },
            "colorscale": [
             [
              0,
              "#0d0887"
             ],
             [
              0.1111111111111111,
              "#46039f"
             ],
             [
              0.2222222222222222,
              "#7201a8"
             ],
             [
              0.3333333333333333,
              "#9c179e"
             ],
             [
              0.4444444444444444,
              "#bd3786"
             ],
             [
              0.5555555555555556,
              "#d8576b"
             ],
             [
              0.6666666666666666,
              "#ed7953"
             ],
             [
              0.7777777777777778,
              "#fb9f3a"
             ],
             [
              0.8888888888888888,
              "#fdca26"
             ],
             [
              1,
              "#f0f921"
             ]
            ],
            "type": "heatmapgl"
           }
          ],
          "histogram": [
           {
            "marker": {
             "colorbar": {
              "outlinewidth": 0,
              "ticks": ""
             }
            },
            "type": "histogram"
           }
          ],
          "histogram2d": [
           {
            "colorbar": {
             "outlinewidth": 0,
             "ticks": ""
            },
            "colorscale": [
             [
              0,
              "#0d0887"
             ],
             [
              0.1111111111111111,
              "#46039f"
             ],
             [
              0.2222222222222222,
              "#7201a8"
             ],
             [
              0.3333333333333333,
              "#9c179e"
             ],
             [
              0.4444444444444444,
              "#bd3786"
             ],
             [
              0.5555555555555556,
              "#d8576b"
             ],
             [
              0.6666666666666666,
              "#ed7953"
             ],
             [
              0.7777777777777778,
              "#fb9f3a"
             ],
             [
              0.8888888888888888,
              "#fdca26"
             ],
             [
              1,
              "#f0f921"
             ]
            ],
            "type": "histogram2d"
           }
          ],
          "histogram2dcontour": [
           {
            "colorbar": {
             "outlinewidth": 0,
             "ticks": ""
            },
            "colorscale": [
             [
              0,
              "#0d0887"
             ],
             [
              0.1111111111111111,
              "#46039f"
             ],
             [
              0.2222222222222222,
              "#7201a8"
             ],
             [
              0.3333333333333333,
              "#9c179e"
             ],
             [
              0.4444444444444444,
              "#bd3786"
             ],
             [
              0.5555555555555556,
              "#d8576b"
             ],
             [
              0.6666666666666666,
              "#ed7953"
             ],
             [
              0.7777777777777778,
              "#fb9f3a"
             ],
             [
              0.8888888888888888,
              "#fdca26"
             ],
             [
              1,
              "#f0f921"
             ]
            ],
            "type": "histogram2dcontour"
           }
          ],
          "mesh3d": [
           {
            "colorbar": {
             "outlinewidth": 0,
             "ticks": ""
            },
            "type": "mesh3d"
           }
          ],
          "parcoords": [
           {
            "line": {
             "colorbar": {
              "outlinewidth": 0,
              "ticks": ""
             }
            },
            "type": "parcoords"
           }
          ],
          "pie": [
           {
            "automargin": true,
            "type": "pie"
           }
          ],
          "scatter": [
           {
            "marker": {
             "colorbar": {
              "outlinewidth": 0,
              "ticks": ""
             }
            },
            "type": "scatter"
           }
          ],
          "scatter3d": [
           {
            "line": {
             "colorbar": {
              "outlinewidth": 0,
              "ticks": ""
             }
            },
            "marker": {
             "colorbar": {
              "outlinewidth": 0,
              "ticks": ""
             }
            },
            "type": "scatter3d"
           }
          ],
          "scattercarpet": [
           {
            "marker": {
             "colorbar": {
              "outlinewidth": 0,
              "ticks": ""
             }
            },
            "type": "scattercarpet"
           }
          ],
          "scattergeo": [
           {
            "marker": {
             "colorbar": {
              "outlinewidth": 0,
              "ticks": ""
             }
            },
            "type": "scattergeo"
           }
          ],
          "scattergl": [
           {
            "marker": {
             "colorbar": {
              "outlinewidth": 0,
              "ticks": ""
             }
            },
            "type": "scattergl"
           }
          ],
          "scattermapbox": [
           {
            "marker": {
             "colorbar": {
              "outlinewidth": 0,
              "ticks": ""
             }
            },
            "type": "scattermapbox"
           }
          ],
          "scatterpolar": [
           {
            "marker": {
             "colorbar": {
              "outlinewidth": 0,
              "ticks": ""
             }
            },
            "type": "scatterpolar"
           }
          ],
          "scatterpolargl": [
           {
            "marker": {
             "colorbar": {
              "outlinewidth": 0,
              "ticks": ""
             }
            },
            "type": "scatterpolargl"
           }
          ],
          "scatterternary": [
           {
            "marker": {
             "colorbar": {
              "outlinewidth": 0,
              "ticks": ""
             }
            },
            "type": "scatterternary"
           }
          ],
          "surface": [
           {
            "colorbar": {
             "outlinewidth": 0,
             "ticks": ""
            },
            "colorscale": [
             [
              0,
              "#0d0887"
             ],
             [
              0.1111111111111111,
              "#46039f"
             ],
             [
              0.2222222222222222,
              "#7201a8"
             ],
             [
              0.3333333333333333,
              "#9c179e"
             ],
             [
              0.4444444444444444,
              "#bd3786"
             ],
             [
              0.5555555555555556,
              "#d8576b"
             ],
             [
              0.6666666666666666,
              "#ed7953"
             ],
             [
              0.7777777777777778,
              "#fb9f3a"
             ],
             [
              0.8888888888888888,
              "#fdca26"
             ],
             [
              1,
              "#f0f921"
             ]
            ],
            "type": "surface"
           }
          ],
          "table": [
           {
            "cells": {
             "fill": {
              "color": "#EBF0F8"
             },
             "line": {
              "color": "white"
             }
            },
            "header": {
             "fill": {
              "color": "#C8D4E3"
             },
             "line": {
              "color": "white"
             }
            },
            "type": "table"
           }
          ]
         },
         "layout": {
          "annotationdefaults": {
           "arrowcolor": "#2a3f5f",
           "arrowhead": 0,
           "arrowwidth": 1
          },
          "coloraxis": {
           "colorbar": {
            "outlinewidth": 0,
            "ticks": ""
           }
          },
          "colorscale": {
           "diverging": [
            [
             0,
             "#8e0152"
            ],
            [
             0.1,
             "#c51b7d"
            ],
            [
             0.2,
             "#de77ae"
            ],
            [
             0.3,
             "#f1b6da"
            ],
            [
             0.4,
             "#fde0ef"
            ],
            [
             0.5,
             "#f7f7f7"
            ],
            [
             0.6,
             "#e6f5d0"
            ],
            [
             0.7,
             "#b8e186"
            ],
            [
             0.8,
             "#7fbc41"
            ],
            [
             0.9,
             "#4d9221"
            ],
            [
             1,
             "#276419"
            ]
           ],
           "sequential": [
            [
             0,
             "#0d0887"
            ],
            [
             0.1111111111111111,
             "#46039f"
            ],
            [
             0.2222222222222222,
             "#7201a8"
            ],
            [
             0.3333333333333333,
             "#9c179e"
            ],
            [
             0.4444444444444444,
             "#bd3786"
            ],
            [
             0.5555555555555556,
             "#d8576b"
            ],
            [
             0.6666666666666666,
             "#ed7953"
            ],
            [
             0.7777777777777778,
             "#fb9f3a"
            ],
            [
             0.8888888888888888,
             "#fdca26"
            ],
            [
             1,
             "#f0f921"
            ]
           ],
           "sequentialminus": [
            [
             0,
             "#0d0887"
            ],
            [
             0.1111111111111111,
             "#46039f"
            ],
            [
             0.2222222222222222,
             "#7201a8"
            ],
            [
             0.3333333333333333,
             "#9c179e"
            ],
            [
             0.4444444444444444,
             "#bd3786"
            ],
            [
             0.5555555555555556,
             "#d8576b"
            ],
            [
             0.6666666666666666,
             "#ed7953"
            ],
            [
             0.7777777777777778,
             "#fb9f3a"
            ],
            [
             0.8888888888888888,
             "#fdca26"
            ],
            [
             1,
             "#f0f921"
            ]
           ]
          },
          "colorway": [
           "#636efa",
           "#EF553B",
           "#00cc96",
           "#ab63fa",
           "#FFA15A",
           "#19d3f3",
           "#FF6692",
           "#B6E880",
           "#FF97FF",
           "#FECB52"
          ],
          "font": {
           "color": "#2a3f5f"
          },
          "geo": {
           "bgcolor": "white",
           "lakecolor": "white",
           "landcolor": "#E5ECF6",
           "showlakes": true,
           "showland": true,
           "subunitcolor": "white"
          },
          "hoverlabel": {
           "align": "left"
          },
          "hovermode": "closest",
          "mapbox": {
           "style": "light"
          },
          "paper_bgcolor": "white",
          "plot_bgcolor": "#E5ECF6",
          "polar": {
           "angularaxis": {
            "gridcolor": "white",
            "linecolor": "white",
            "ticks": ""
           },
           "bgcolor": "#E5ECF6",
           "radialaxis": {
            "gridcolor": "white",
            "linecolor": "white",
            "ticks": ""
           }
          },
          "scene": {
           "xaxis": {
            "backgroundcolor": "#E5ECF6",
            "gridcolor": "white",
            "gridwidth": 2,
            "linecolor": "white",
            "showbackground": true,
            "ticks": "",
            "zerolinecolor": "white"
           },
           "yaxis": {
            "backgroundcolor": "#E5ECF6",
            "gridcolor": "white",
            "gridwidth": 2,
            "linecolor": "white",
            "showbackground": true,
            "ticks": "",
            "zerolinecolor": "white"
           },
           "zaxis": {
            "backgroundcolor": "#E5ECF6",
            "gridcolor": "white",
            "gridwidth": 2,
            "linecolor": "white",
            "showbackground": true,
            "ticks": "",
            "zerolinecolor": "white"
           }
          },
          "shapedefaults": {
           "line": {
            "color": "#2a3f5f"
           }
          },
          "ternary": {
           "aaxis": {
            "gridcolor": "white",
            "linecolor": "white",
            "ticks": ""
           },
           "baxis": {
            "gridcolor": "white",
            "linecolor": "white",
            "ticks": ""
           },
           "bgcolor": "#E5ECF6",
           "caxis": {
            "gridcolor": "white",
            "linecolor": "white",
            "ticks": ""
           }
          },
          "title": {
           "x": 0.05
          },
          "xaxis": {
           "automargin": true,
           "gridcolor": "white",
           "linecolor": "white",
           "ticks": "",
           "title": {
            "standoff": 15
           },
           "zerolinecolor": "white",
           "zerolinewidth": 2
          },
          "yaxis": {
           "automargin": true,
           "gridcolor": "white",
           "linecolor": "white",
           "ticks": "",
           "title": {
            "standoff": 15
           },
           "zerolinecolor": "white",
           "zerolinewidth": 2
          }
         }
        },
        "title": {
         "text": "LinkedIn Software Engineer Job Openings Forecast via VARMAX Model"
        },
        "xaxis": {
         "anchor": "y",
         "domain": [
          0,
          1
         ]
        },
        "xaxis2": {
         "anchor": "y2",
         "domain": [
          0,
          0.45
         ]
        },
        "xaxis3": {
         "anchor": "y3",
         "domain": [
          0.55,
          1
         ]
        },
        "yaxis": {
         "anchor": "x",
         "domain": [
          0.625,
          1
         ]
        },
        "yaxis2": {
         "anchor": "x2",
         "domain": [
          0,
          0.375
         ]
        },
        "yaxis3": {
         "anchor": "x3",
         "domain": [
          0,
          0.375
         ]
        }
       }
      },
      "text/html": [
       "<div>\n",
       "        \n",
       "        \n",
       "            <div id=\"d38af1d2-104e-40ae-8a55-d4571d8d106d\" class=\"plotly-graph-div\" style=\"height:525px; width:100%;\"></div>\n",
       "            <script type=\"text/javascript\">\n",
       "                require([\"plotly\"], function(Plotly) {\n",
       "                    window.PLOTLYENV=window.PLOTLYENV || {};\n",
       "                    \n",
       "                if (document.getElementById(\"d38af1d2-104e-40ae-8a55-d4571d8d106d\")) {\n",
       "                    Plotly.newPlot(\n",
       "                        'd38af1d2-104e-40ae-8a55-d4571d8d106d',\n",
       "                        [{\"mode\": \"lines+markers\", \"name\": \"Train\", \"showlegend\": false, \"type\": \"scatter\", \"x\": [\"2020-06-12T00:00:00\", \"2020-06-13T00:00:00\", \"2020-06-14T00:00:00\", \"2020-06-15T00:00:00\", \"2020-06-16T00:00:00\", \"2020-06-17T00:00:00\", \"2020-06-18T00:00:00\", \"2020-06-19T00:00:00\", \"2020-06-20T00:00:00\", \"2020-06-21T00:00:00\", \"2020-06-22T00:00:00\", \"2020-06-23T00:00:00\", \"2020-06-24T00:00:00\", \"2020-06-25T00:00:00\", \"2020-06-26T00:00:00\", \"2020-06-27T00:00:00\", \"2020-06-28T00:00:00\", \"2020-06-29T00:00:00\", \"2020-06-30T00:00:00\", \"2020-07-01T00:00:00\", \"2020-07-02T00:00:00\", \"2020-07-03T00:00:00\", \"2020-07-04T00:00:00\", \"2020-07-05T00:00:00\", \"2020-07-06T00:00:00\", \"2020-07-07T00:00:00\", \"2020-07-08T00:00:00\", \"2020-07-09T00:00:00\", \"2020-07-10T00:00:00\", \"2020-07-11T00:00:00\", \"2020-07-12T00:00:00\", \"2020-07-13T00:00:00\", \"2020-07-14T00:00:00\", \"2020-07-15T00:00:00\", \"2020-07-16T00:00:00\", \"2020-07-17T00:00:00\", \"2020-07-18T00:00:00\", \"2020-07-19T00:00:00\", \"2020-07-20T00:00:00\", \"2020-07-21T00:00:00\", \"2020-07-22T00:00:00\", \"2020-07-23T00:00:00\", \"2020-07-24T00:00:00\", \"2020-07-25T00:00:00\", \"2020-07-26T00:00:00\"], \"xaxis\": \"x\", \"y\": [759, 624, 733, 673, 953, 1540, 1982, 1625, 1046, 965, 2140, 2375, 2096, 2676, 2794, 2225, 1175, 1481, 1924, 2579, 4777, 2306, 1195, 1088, 1725, 2715, 3581, 4825, 5456, 2981, 5378, 5248, 5423, 4452, 4856, 5824, 3528, 2666, 4025, 4280, 2548, 2574, 2267, 1459, 681], \"yaxis\": \"y\"}, {\"line\": {\"color\": \"green\"}, \"mode\": \"lines+markers\", \"name\": \"Test\", \"showlegend\": false, \"type\": \"scatter\", \"x\": [\"2020-07-27T00:00:00\", \"2020-07-28T00:00:00\", \"2020-07-29T00:00:00\", \"2020-07-30T00:00:00\", \"2020-07-31T00:00:00\", \"2020-08-01T00:00:00\", \"2020-08-02T00:00:00\"], \"xaxis\": \"x2\", \"y\": [1571, 2456, 2503, 3154, 3459, 3302, 4145], \"yaxis\": \"y2\"}, {\"line\": {\"color\": \"red\"}, \"mode\": \"lines+markers\", \"name\": \"Prediction\", \"showlegend\": false, \"type\": \"scatter\", \"x\": [\"2020-07-27T00:00:00\", \"2020-07-28T00:00:00\", \"2020-07-29T00:00:00\", \"2020-07-30T00:00:00\", \"2020-07-31T00:00:00\", \"2020-08-01T00:00:00\", \"2020-08-02T00:00:00\"], \"xaxis\": \"x2\", \"y\": [1432.3837927859918, 2317.7205317574244, 2806.1841535181834, 2604.6446333478775, 3191.30667665631, 3504.2929553319736, 3309.4420909471255], \"yaxis\": \"y2\"}, {\"line\": {\"color\": \"green\"}, \"mode\": \"lines+markers\", \"name\": \"Test\", \"showlegend\": true, \"type\": \"scatter\", \"x\": [\"2020-07-27T00:00:00\", \"2020-07-28T00:00:00\", \"2020-07-29T00:00:00\", \"2020-07-30T00:00:00\", \"2020-07-31T00:00:00\", \"2020-08-01T00:00:00\", \"2020-08-02T00:00:00\"], \"xaxis\": \"x3\", \"y\": [1571, 2456, 2503, 3154, 3459, 3302, 4145], \"yaxis\": \"y3\"}, {\"line\": {\"color\": \"red\"}, \"mode\": \"lines+markers\", \"name\": \"Prediction\", \"showlegend\": true, \"type\": \"scatter\", \"x\": [\"2020-07-27T00:00:00\", \"2020-07-28T00:00:00\", \"2020-07-29T00:00:00\", \"2020-07-30T00:00:00\", \"2020-07-31T00:00:00\", \"2020-08-01T00:00:00\", \"2020-08-02T00:00:00\"], \"xaxis\": \"x3\", \"y\": [1510.044457219601, 2313.50907169536, 2758.4466891234624, 2797.489860575023, 3221.6328220222385, 3201.064507818637, 3133.242227148451], \"yaxis\": \"y3\"}],\n",
       "                        {\"annotations\": [{\"font\": {\"size\": 16}, \"showarrow\": false, \"text\": \"Train data\", \"x\": 0.5, \"xanchor\": \"center\", \"xref\": \"paper\", \"y\": 1.0, \"yanchor\": \"bottom\", \"yref\": \"paper\"}, {\"font\": {\"size\": 16}, \"showarrow\": false, \"text\": \"No eXog, RMSE: 421.36\", \"x\": 0.225, \"xanchor\": \"center\", \"xref\": \"paper\", \"y\": 0.375, \"yanchor\": \"bottom\", \"yref\": \"paper\"}, {\"font\": {\"size\": 16}, \"showarrow\": false, \"text\": \"X=Weekend, RMSE: 432.03\", \"x\": 0.775, \"xanchor\": \"center\", \"xref\": \"paper\", \"y\": 0.375, \"yanchor\": \"bottom\", \"yref\": \"paper\"}], \"legend\": {\"x\": 1, \"y\": 0.25}, \"template\": {\"data\": {\"bar\": [{\"error_x\": {\"color\": \"#2a3f5f\"}, \"error_y\": {\"color\": \"#2a3f5f\"}, \"marker\": {\"line\": {\"color\": \"#E5ECF6\", \"width\": 0.5}}, \"type\": \"bar\"}], \"barpolar\": [{\"marker\": {\"line\": {\"color\": \"#E5ECF6\", \"width\": 0.5}}, \"type\": \"barpolar\"}], \"carpet\": [{\"aaxis\": {\"endlinecolor\": \"#2a3f5f\", \"gridcolor\": \"white\", \"linecolor\": \"white\", \"minorgridcolor\": \"white\", \"startlinecolor\": \"#2a3f5f\"}, \"baxis\": {\"endlinecolor\": \"#2a3f5f\", \"gridcolor\": \"white\", \"linecolor\": \"white\", \"minorgridcolor\": \"white\", \"startlinecolor\": \"#2a3f5f\"}, \"type\": \"carpet\"}], \"choropleth\": [{\"colorbar\": {\"outlinewidth\": 0, \"ticks\": \"\"}, \"type\": \"choropleth\"}], \"contour\": [{\"colorbar\": {\"outlinewidth\": 0, \"ticks\": \"\"}, \"colorscale\": [[0.0, \"#0d0887\"], [0.1111111111111111, \"#46039f\"], [0.2222222222222222, \"#7201a8\"], [0.3333333333333333, \"#9c179e\"], [0.4444444444444444, \"#bd3786\"], [0.5555555555555556, \"#d8576b\"], [0.6666666666666666, \"#ed7953\"], [0.7777777777777778, \"#fb9f3a\"], [0.8888888888888888, \"#fdca26\"], [1.0, \"#f0f921\"]], \"type\": \"contour\"}], \"contourcarpet\": [{\"colorbar\": {\"outlinewidth\": 0, \"ticks\": \"\"}, \"type\": \"contourcarpet\"}], \"heatmap\": [{\"colorbar\": {\"outlinewidth\": 0, \"ticks\": \"\"}, \"colorscale\": [[0.0, \"#0d0887\"], [0.1111111111111111, \"#46039f\"], [0.2222222222222222, \"#7201a8\"], [0.3333333333333333, \"#9c179e\"], [0.4444444444444444, \"#bd3786\"], [0.5555555555555556, \"#d8576b\"], [0.6666666666666666, \"#ed7953\"], [0.7777777777777778, \"#fb9f3a\"], [0.8888888888888888, \"#fdca26\"], [1.0, \"#f0f921\"]], \"type\": \"heatmap\"}], \"heatmapgl\": [{\"colorbar\": {\"outlinewidth\": 0, \"ticks\": \"\"}, \"colorscale\": [[0.0, \"#0d0887\"], [0.1111111111111111, \"#46039f\"], [0.2222222222222222, \"#7201a8\"], [0.3333333333333333, \"#9c179e\"], [0.4444444444444444, \"#bd3786\"], [0.5555555555555556, \"#d8576b\"], [0.6666666666666666, \"#ed7953\"], [0.7777777777777778, \"#fb9f3a\"], [0.8888888888888888, \"#fdca26\"], [1.0, \"#f0f921\"]], \"type\": \"heatmapgl\"}], \"histogram\": [{\"marker\": {\"colorbar\": {\"outlinewidth\": 0, \"ticks\": \"\"}}, \"type\": \"histogram\"}], \"histogram2d\": [{\"colorbar\": {\"outlinewidth\": 0, \"ticks\": \"\"}, \"colorscale\": [[0.0, \"#0d0887\"], [0.1111111111111111, \"#46039f\"], [0.2222222222222222, \"#7201a8\"], [0.3333333333333333, \"#9c179e\"], [0.4444444444444444, \"#bd3786\"], [0.5555555555555556, \"#d8576b\"], [0.6666666666666666, \"#ed7953\"], [0.7777777777777778, \"#fb9f3a\"], [0.8888888888888888, \"#fdca26\"], [1.0, \"#f0f921\"]], \"type\": \"histogram2d\"}], \"histogram2dcontour\": [{\"colorbar\": {\"outlinewidth\": 0, \"ticks\": \"\"}, \"colorscale\": [[0.0, \"#0d0887\"], [0.1111111111111111, \"#46039f\"], [0.2222222222222222, \"#7201a8\"], [0.3333333333333333, \"#9c179e\"], [0.4444444444444444, \"#bd3786\"], [0.5555555555555556, \"#d8576b\"], [0.6666666666666666, \"#ed7953\"], [0.7777777777777778, \"#fb9f3a\"], [0.8888888888888888, \"#fdca26\"], [1.0, \"#f0f921\"]], \"type\": \"histogram2dcontour\"}], \"mesh3d\": [{\"colorbar\": {\"outlinewidth\": 0, \"ticks\": \"\"}, \"type\": \"mesh3d\"}], \"parcoords\": [{\"line\": {\"colorbar\": {\"outlinewidth\": 0, \"ticks\": \"\"}}, \"type\": \"parcoords\"}], \"pie\": [{\"automargin\": true, \"type\": \"pie\"}], \"scatter\": [{\"marker\": {\"colorbar\": {\"outlinewidth\": 0, \"ticks\": \"\"}}, \"type\": \"scatter\"}], \"scatter3d\": [{\"line\": {\"colorbar\": {\"outlinewidth\": 0, \"ticks\": \"\"}}, \"marker\": {\"colorbar\": {\"outlinewidth\": 0, \"ticks\": \"\"}}, \"type\": \"scatter3d\"}], \"scattercarpet\": [{\"marker\": {\"colorbar\": {\"outlinewidth\": 0, \"ticks\": \"\"}}, \"type\": \"scattercarpet\"}], \"scattergeo\": [{\"marker\": {\"colorbar\": {\"outlinewidth\": 0, \"ticks\": \"\"}}, \"type\": \"scattergeo\"}], \"scattergl\": [{\"marker\": {\"colorbar\": {\"outlinewidth\": 0, \"ticks\": \"\"}}, \"type\": \"scattergl\"}], \"scattermapbox\": [{\"marker\": {\"colorbar\": {\"outlinewidth\": 0, \"ticks\": \"\"}}, \"type\": \"scattermapbox\"}], \"scatterpolar\": [{\"marker\": {\"colorbar\": {\"outlinewidth\": 0, \"ticks\": \"\"}}, \"type\": \"scatterpolar\"}], \"scatterpolargl\": [{\"marker\": {\"colorbar\": {\"outlinewidth\": 0, \"ticks\": \"\"}}, \"type\": \"scatterpolargl\"}], \"scatterternary\": [{\"marker\": {\"colorbar\": {\"outlinewidth\": 0, \"ticks\": \"\"}}, \"type\": \"scatterternary\"}], \"surface\": [{\"colorbar\": {\"outlinewidth\": 0, \"ticks\": \"\"}, \"colorscale\": [[0.0, \"#0d0887\"], [0.1111111111111111, \"#46039f\"], [0.2222222222222222, \"#7201a8\"], [0.3333333333333333, \"#9c179e\"], [0.4444444444444444, \"#bd3786\"], [0.5555555555555556, \"#d8576b\"], [0.6666666666666666, \"#ed7953\"], [0.7777777777777778, \"#fb9f3a\"], [0.8888888888888888, \"#fdca26\"], [1.0, \"#f0f921\"]], \"type\": \"surface\"}], \"table\": [{\"cells\": {\"fill\": {\"color\": \"#EBF0F8\"}, \"line\": {\"color\": \"white\"}}, \"header\": {\"fill\": {\"color\": \"#C8D4E3\"}, \"line\": {\"color\": \"white\"}}, \"type\": \"table\"}]}, \"layout\": {\"annotationdefaults\": {\"arrowcolor\": \"#2a3f5f\", \"arrowhead\": 0, \"arrowwidth\": 1}, \"coloraxis\": {\"colorbar\": {\"outlinewidth\": 0, \"ticks\": \"\"}}, \"colorscale\": {\"diverging\": [[0, \"#8e0152\"], [0.1, \"#c51b7d\"], [0.2, \"#de77ae\"], [0.3, \"#f1b6da\"], [0.4, \"#fde0ef\"], [0.5, \"#f7f7f7\"], [0.6, \"#e6f5d0\"], [0.7, \"#b8e186\"], [0.8, \"#7fbc41\"], [0.9, \"#4d9221\"], [1, \"#276419\"]], \"sequential\": [[0.0, \"#0d0887\"], [0.1111111111111111, \"#46039f\"], [0.2222222222222222, \"#7201a8\"], [0.3333333333333333, \"#9c179e\"], [0.4444444444444444, \"#bd3786\"], [0.5555555555555556, \"#d8576b\"], [0.6666666666666666, \"#ed7953\"], [0.7777777777777778, \"#fb9f3a\"], [0.8888888888888888, \"#fdca26\"], [1.0, \"#f0f921\"]], \"sequentialminus\": [[0.0, \"#0d0887\"], [0.1111111111111111, \"#46039f\"], [0.2222222222222222, \"#7201a8\"], [0.3333333333333333, \"#9c179e\"], [0.4444444444444444, \"#bd3786\"], [0.5555555555555556, \"#d8576b\"], [0.6666666666666666, \"#ed7953\"], [0.7777777777777778, \"#fb9f3a\"], [0.8888888888888888, \"#fdca26\"], [1.0, \"#f0f921\"]]}, \"colorway\": [\"#636efa\", \"#EF553B\", \"#00cc96\", \"#ab63fa\", \"#FFA15A\", \"#19d3f3\", \"#FF6692\", \"#B6E880\", \"#FF97FF\", \"#FECB52\"], \"font\": {\"color\": \"#2a3f5f\"}, \"geo\": {\"bgcolor\": \"white\", \"lakecolor\": \"white\", \"landcolor\": \"#E5ECF6\", \"showlakes\": true, \"showland\": true, \"subunitcolor\": \"white\"}, \"hoverlabel\": {\"align\": \"left\"}, \"hovermode\": \"closest\", \"mapbox\": {\"style\": \"light\"}, \"paper_bgcolor\": \"white\", \"plot_bgcolor\": \"#E5ECF6\", \"polar\": {\"angularaxis\": {\"gridcolor\": \"white\", \"linecolor\": \"white\", \"ticks\": \"\"}, \"bgcolor\": \"#E5ECF6\", \"radialaxis\": {\"gridcolor\": \"white\", \"linecolor\": \"white\", \"ticks\": \"\"}}, \"scene\": {\"xaxis\": {\"backgroundcolor\": \"#E5ECF6\", \"gridcolor\": \"white\", \"gridwidth\": 2, \"linecolor\": \"white\", \"showbackground\": true, \"ticks\": \"\", \"zerolinecolor\": \"white\"}, \"yaxis\": {\"backgroundcolor\": \"#E5ECF6\", \"gridcolor\": \"white\", \"gridwidth\": 2, \"linecolor\": \"white\", \"showbackground\": true, \"ticks\": \"\", \"zerolinecolor\": \"white\"}, \"zaxis\": {\"backgroundcolor\": \"#E5ECF6\", \"gridcolor\": \"white\", \"gridwidth\": 2, \"linecolor\": \"white\", \"showbackground\": true, \"ticks\": \"\", \"zerolinecolor\": \"white\"}}, \"shapedefaults\": {\"line\": {\"color\": \"#2a3f5f\"}}, \"ternary\": {\"aaxis\": {\"gridcolor\": \"white\", \"linecolor\": \"white\", \"ticks\": \"\"}, \"baxis\": {\"gridcolor\": \"white\", \"linecolor\": \"white\", \"ticks\": \"\"}, \"bgcolor\": \"#E5ECF6\", \"caxis\": {\"gridcolor\": \"white\", \"linecolor\": \"white\", \"ticks\": \"\"}}, \"title\": {\"x\": 0.05}, \"xaxis\": {\"automargin\": true, \"gridcolor\": \"white\", \"linecolor\": \"white\", \"ticks\": \"\", \"title\": {\"standoff\": 15}, \"zerolinecolor\": \"white\", \"zerolinewidth\": 2}, \"yaxis\": {\"automargin\": true, \"gridcolor\": \"white\", \"linecolor\": \"white\", \"ticks\": \"\", \"title\": {\"standoff\": 15}, \"zerolinecolor\": \"white\", \"zerolinewidth\": 2}}}, \"title\": {\"text\": \"LinkedIn Software Engineer Job Openings Forecast via VARMAX Model\"}, \"xaxis\": {\"anchor\": \"y\", \"domain\": [0.0, 1.0]}, \"xaxis2\": {\"anchor\": \"y2\", \"domain\": [0.0, 0.45]}, \"xaxis3\": {\"anchor\": \"y3\", \"domain\": [0.55, 1.0]}, \"yaxis\": {\"anchor\": \"x\", \"domain\": [0.625, 1.0]}, \"yaxis2\": {\"anchor\": \"x2\", \"domain\": [0.0, 0.375]}, \"yaxis3\": {\"anchor\": \"x3\", \"domain\": [0.0, 0.375]}},\n",
       "                        {\"responsive\": true}\n",
       "                    ).then(function(){\n",
       "                            \n",
       "var gd = document.getElementById('d38af1d2-104e-40ae-8a55-d4571d8d106d');\n",
       "var x = new MutationObserver(function (mutations, observer) {{\n",
       "        var display = window.getComputedStyle(gd).display;\n",
       "        if (!display || display === 'none') {{\n",
       "            console.log([gd, 'removed!']);\n",
       "            Plotly.purge(gd);\n",
       "            observer.disconnect();\n",
       "        }}\n",
       "}});\n",
       "\n",
       "// Listen for the removal of the full notebook cells\n",
       "var notebookContainer = gd.closest('#notebook-container');\n",
       "if (notebookContainer) {{\n",
       "    x.observe(notebookContainer, {childList: true});\n",
       "}}\n",
       "\n",
       "// Listen for the clearing of the current output cell\n",
       "var outputEl = gd.closest('.output');\n",
       "if (outputEl) {{\n",
       "    x.observe(outputEl, {childList: true});\n",
       "}}\n",
       "\n",
       "                        })\n",
       "                };\n",
       "                });\n",
       "            </script>\n",
       "        </div>"
      ]
     },
     "metadata": {},
     "output_type": "display_data"
    }
   ],
   "source": [
    "fig = make_subplots(\n",
    "    rows=2, cols=2,\n",
    "    specs=[[{\"colspan\": 2}, None],[{}, {}]],\n",
    "    subplot_titles=(\"Train data\",'No eXog, RMSE: {:0.2f}'.format(error), 'X=Weekend, RMSE: {:0.2f}'.format(errorx)))\n",
    "\n",
    "fig.add_trace(go.Scatter(x=train.index, y=train['Jobnums'], mode='lines+markers',name='Train', showlegend=False), row=1, col=1)\n",
    "fig.add_trace(go.Scatter(x=test.index, y=test['Jobnums'], mode='lines+markers',line=dict(color='green'), name='Test', showlegend=False), row=2, col=1)\n",
    "fig.add_trace(go.Scatter(x=test.index, y=yhat_varma[\"Jobnums\"], mode='lines+markers',line=dict(color='red'), name='Prediction',showlegend=False),row=2, col=1)\n",
    "#fig.add_trace(go.Scatter(x=pred_cix.index, y=pred_ci.iloc[:,1], fill=None, mode='lines',line=dict(width=0.0,color='lightgray'),showlegend=False), row=2, col=1)\n",
    "#fig.add_trace(go.Scatter(x=pred_cix.index, y=pred_ci.iloc[:,3], fill='tonexty', mode='lines',line=dict(width=0.0,color='lightgray'),showlegend=False),row=2, col=1)\n",
    "fig.add_trace(go.Scatter(x=test.index, y=test['Jobnums'], mode='lines+markers', line=dict(color='green'), name='Test',showlegend=True), row=2, col=2)\n",
    "fig.add_trace(go.Scatter(x=test.index, y=yhat_varmax[\"Jobnums\"], mode='lines+markers', line=dict(color='red'), name='Prediction',showlegend=True),row=2, col=2)\n",
    "#fig.add_trace(go.Scatter(x=pred_cix.index, y=pred_u, fill=None, mode='lines',line=dict(width=0.0,color='lightgray'),showlegend=False), row=2, col=2)\n",
    "#fig.add_trace(go.Scatter(x=pred_cix.index, y=pred_l, fill='tonexty', mode='lines',line=dict(width=0.0,color='lightgray'),showlegend=False),row=2, col=2)\n",
    "fig.update_layout(title='LinkedIn Software Engineer Job Openings Forecast via VARMAX Model',legend=dict(x=1,y=0.25))\n",
    "fig.show()"
   ]
  },
  {
   "cell_type": "markdown",
   "metadata": {},
   "source": [
    "### Future Forecast"
   ]
  },
  {
   "cell_type": "code",
   "execution_count": 57,
   "metadata": {},
   "outputs": [
    {
     "data": {
      "text/html": [
       "<div>\n",
       "<style scoped>\n",
       "    .dataframe tbody tr th:only-of-type {\n",
       "        vertical-align: middle;\n",
       "    }\n",
       "\n",
       "    .dataframe tbody tr th {\n",
       "        vertical-align: top;\n",
       "    }\n",
       "\n",
       "    .dataframe thead th {\n",
       "        text-align: right;\n",
       "    }\n",
       "</style>\n",
       "<table border=\"1\" class=\"dataframe\">\n",
       "  <thead>\n",
       "    <tr style=\"text-align: right;\">\n",
       "      <th></th>\n",
       "      <th>Date</th>\n",
       "      <th>Day of week</th>\n",
       "      <th>Weekend</th>\n",
       "    </tr>\n",
       "    <tr>\n",
       "      <th>Date</th>\n",
       "      <th></th>\n",
       "      <th></th>\n",
       "      <th></th>\n",
       "    </tr>\n",
       "  </thead>\n",
       "  <tbody>\n",
       "    <tr>\n",
       "      <td>2020-08-03</td>\n",
       "      <td>2020-08-03</td>\n",
       "      <td>Mon</td>\n",
       "      <td>0</td>\n",
       "    </tr>\n",
       "    <tr>\n",
       "      <td>2020-08-04</td>\n",
       "      <td>2020-08-04</td>\n",
       "      <td>Tue</td>\n",
       "      <td>0</td>\n",
       "    </tr>\n",
       "    <tr>\n",
       "      <td>2020-08-05</td>\n",
       "      <td>2020-08-05</td>\n",
       "      <td>Wed</td>\n",
       "      <td>0</td>\n",
       "    </tr>\n",
       "    <tr>\n",
       "      <td>2020-08-06</td>\n",
       "      <td>2020-08-06</td>\n",
       "      <td>Thu</td>\n",
       "      <td>0</td>\n",
       "    </tr>\n",
       "    <tr>\n",
       "      <td>2020-08-07</td>\n",
       "      <td>2020-08-07</td>\n",
       "      <td>Fri</td>\n",
       "      <td>0</td>\n",
       "    </tr>\n",
       "    <tr>\n",
       "      <td>2020-08-08</td>\n",
       "      <td>2020-08-08</td>\n",
       "      <td>Sat</td>\n",
       "      <td>1</td>\n",
       "    </tr>\n",
       "    <tr>\n",
       "      <td>2020-08-09</td>\n",
       "      <td>2020-08-09</td>\n",
       "      <td>Sun</td>\n",
       "      <td>1</td>\n",
       "    </tr>\n",
       "  </tbody>\n",
       "</table>\n",
       "</div>"
      ],
      "text/plain": [
       "                 Date Day of week  Weekend\n",
       "Date                                      \n",
       "2020-08-03 2020-08-03         Mon        0\n",
       "2020-08-04 2020-08-04         Tue        0\n",
       "2020-08-05 2020-08-05         Wed        0\n",
       "2020-08-06 2020-08-06         Thu        0\n",
       "2020-08-07 2020-08-07         Fri        0\n",
       "2020-08-08 2020-08-08         Sat        1\n",
       "2020-08-09 2020-08-09         Sun        1"
      ]
     },
     "execution_count": 57,
     "metadata": {},
     "output_type": "execute_result"
    }
   ],
   "source": [
    "df_linkedin_future = pd.DataFrame(columns=['Date', 'Day of week', 'Weekend'])\n",
    "df_linkedin_future['Date'] = pd.date_range('2020-08-03', '2020-08-09')\n",
    "df_linkedin_future.set_index('Date', inplace=True, drop=False)\n",
    "df_linkedin_future['Day of week'] = df_indeed_future['Date'].apply(lambda x: week[x.weekday()])\n",
    "df_linkedin_future['Weekend'] = df_indeed_future['Day of week'].apply(lambda x: 1 if (x=='Sun') or (x=='Sat') else 0)\n",
    "df_linkedin_future"
   ]
  },
  {
   "cell_type": "code",
   "execution_count": 58,
   "metadata": {},
   "outputs": [],
   "source": [
    "n_test = 7\n",
    "best_cfg = [(3, 0), 'n', 0]\n",
    "train = df_combined_linkedin[['New','Jobnums']]\n",
    "exog_train = df_combined_linkedin[['Weekend']]\n",
    "exog_test = df_linkedin_future[['Weekend']]\n",
    "linkedin_pred = pd.DataFrame()\n",
    "history = train.copy()\n",
    "exog_ = [x[:] for x in exog_train.values]\n",
    "for i in range(n_test):\n",
    "    yhat = varmax_forecast(history, 1, best_cfg, exog1=exog_, exog2=np.array(exog_test.iloc[i]).reshape(1,-1))\n",
    "    linkedin_pred = linkedin_pred.append(yhat)\n",
    "    history = history.append(yhat)\n",
    "    exog_.append(np.array(exog_test.iloc[i]))"
   ]
  },
  {
   "cell_type": "code",
   "execution_count": 62,
   "metadata": {},
   "outputs": [
    {
     "data": {
      "application/vnd.plotly.v1+json": {
       "config": {
        "plotlyServerURL": "https://plot.ly"
       },
       "data": [
        {
         "marker": {
          "color": "royalblue",
          "size": 8
         },
         "mode": "lines+markers",
         "name": "Train",
         "type": "scatter",
         "x": [
          "2020-06-12T00:00:00",
          "2020-06-13T00:00:00",
          "2020-06-14T00:00:00",
          "2020-06-15T00:00:00",
          "2020-06-16T00:00:00",
          "2020-06-17T00:00:00",
          "2020-06-18T00:00:00",
          "2020-06-19T00:00:00",
          "2020-06-20T00:00:00",
          "2020-06-21T00:00:00",
          "2020-06-22T00:00:00",
          "2020-06-23T00:00:00",
          "2020-06-24T00:00:00",
          "2020-06-25T00:00:00",
          "2020-06-26T00:00:00",
          "2020-06-27T00:00:00",
          "2020-06-28T00:00:00",
          "2020-06-29T00:00:00",
          "2020-06-30T00:00:00",
          "2020-07-01T00:00:00",
          "2020-07-02T00:00:00",
          "2020-07-03T00:00:00",
          "2020-07-04T00:00:00",
          "2020-07-05T00:00:00",
          "2020-07-06T00:00:00",
          "2020-07-07T00:00:00",
          "2020-07-08T00:00:00",
          "2020-07-09T00:00:00",
          "2020-07-10T00:00:00",
          "2020-07-11T00:00:00",
          "2020-07-12T00:00:00",
          "2020-07-13T00:00:00",
          "2020-07-14T00:00:00",
          "2020-07-15T00:00:00",
          "2020-07-16T00:00:00",
          "2020-07-17T00:00:00",
          "2020-07-18T00:00:00",
          "2020-07-19T00:00:00",
          "2020-07-20T00:00:00",
          "2020-07-21T00:00:00",
          "2020-07-22T00:00:00",
          "2020-07-23T00:00:00",
          "2020-07-24T00:00:00",
          "2020-07-25T00:00:00",
          "2020-07-26T00:00:00",
          "2020-07-27T00:00:00",
          "2020-07-28T00:00:00",
          "2020-07-29T00:00:00",
          "2020-07-30T00:00:00",
          "2020-07-31T00:00:00",
          "2020-08-01T00:00:00",
          "2020-08-02T00:00:00"
         ],
         "y": [
          759,
          624,
          733,
          673,
          953,
          1540,
          1982,
          1625,
          1046,
          965,
          2140,
          2375,
          2096,
          2676,
          2794,
          2225,
          1175,
          1481,
          1924,
          2579,
          4777,
          2306,
          1195,
          1088,
          1725,
          2715,
          3581,
          4825,
          5456,
          2981,
          5378,
          5248,
          5423,
          4452,
          4856,
          5824,
          3528,
          2666,
          4025,
          4280,
          2548,
          2574,
          2267,
          1459,
          681,
          1571,
          2456,
          2503,
          3154,
          3459,
          3302,
          4145
         ]
        },
        {
         "marker": {
          "color": "red",
          "size": 8
         },
         "mode": "lines+markers",
         "name": "Future Forecast",
         "type": "scatter",
         "x": [
          "2020-08-03T00:00:00",
          "2020-08-04T00:00:00",
          "2020-08-05T00:00:00",
          "2020-08-06T00:00:00",
          "2020-08-07T00:00:00",
          "2020-08-08T00:00:00",
          "2020-08-09T00:00:00"
         ],
         "y": [
          3780.274526011621,
          3555.018262836578,
          3298.7306573926458,
          3093.1206550583834,
          2970.1738563062268,
          2902.8166864981454,
          2965.90134728704
         ]
        }
       ],
       "layout": {
        "annotations": [
         {
          "arrowhead": 2,
          "arrowsize": 1,
          "arrowwidth": 2,
          "ax": 10,
          "ay": -70,
          "font": {
           "size": 16
          },
          "text": "Future<br>forecast",
          "x": "2020-08-06",
          "y": 3600
         }
        ],
        "height": 500,
        "legend": {
         "font": {
          "size": 16
         },
         "x": 0.05,
         "y": 0.95
        },
        "margin": {
         "b": 0,
         "l": 0,
         "r": 10,
         "t": 90
        },
        "shapes": [
         {
          "fillcolor": "LightSalmon",
          "layer": "below",
          "line": {
           "width": 0
          },
          "opacity": 0.2,
          "type": "rect",
          "x0": "2020-08-03T00:00:00",
          "x1": "2020-08-09T00:00:00",
          "xref": "x",
          "y0": 0,
          "y1": 1,
          "yref": "paper"
         }
        ],
        "template": {
         "data": {
          "bar": [
           {
            "error_x": {
             "color": "#2a3f5f"
            },
            "error_y": {
             "color": "#2a3f5f"
            },
            "marker": {
             "line": {
              "color": "#E5ECF6",
              "width": 0.5
             }
            },
            "type": "bar"
           }
          ],
          "barpolar": [
           {
            "marker": {
             "line": {
              "color": "#E5ECF6",
              "width": 0.5
             }
            },
            "type": "barpolar"
           }
          ],
          "carpet": [
           {
            "aaxis": {
             "endlinecolor": "#2a3f5f",
             "gridcolor": "white",
             "linecolor": "white",
             "minorgridcolor": "white",
             "startlinecolor": "#2a3f5f"
            },
            "baxis": {
             "endlinecolor": "#2a3f5f",
             "gridcolor": "white",
             "linecolor": "white",
             "minorgridcolor": "white",
             "startlinecolor": "#2a3f5f"
            },
            "type": "carpet"
           }
          ],
          "choropleth": [
           {
            "colorbar": {
             "outlinewidth": 0,
             "ticks": ""
            },
            "type": "choropleth"
           }
          ],
          "contour": [
           {
            "colorbar": {
             "outlinewidth": 0,
             "ticks": ""
            },
            "colorscale": [
             [
              0,
              "#0d0887"
             ],
             [
              0.1111111111111111,
              "#46039f"
             ],
             [
              0.2222222222222222,
              "#7201a8"
             ],
             [
              0.3333333333333333,
              "#9c179e"
             ],
             [
              0.4444444444444444,
              "#bd3786"
             ],
             [
              0.5555555555555556,
              "#d8576b"
             ],
             [
              0.6666666666666666,
              "#ed7953"
             ],
             [
              0.7777777777777778,
              "#fb9f3a"
             ],
             [
              0.8888888888888888,
              "#fdca26"
             ],
             [
              1,
              "#f0f921"
             ]
            ],
            "type": "contour"
           }
          ],
          "contourcarpet": [
           {
            "colorbar": {
             "outlinewidth": 0,
             "ticks": ""
            },
            "type": "contourcarpet"
           }
          ],
          "heatmap": [
           {
            "colorbar": {
             "outlinewidth": 0,
             "ticks": ""
            },
            "colorscale": [
             [
              0,
              "#0d0887"
             ],
             [
              0.1111111111111111,
              "#46039f"
             ],
             [
              0.2222222222222222,
              "#7201a8"
             ],
             [
              0.3333333333333333,
              "#9c179e"
             ],
             [
              0.4444444444444444,
              "#bd3786"
             ],
             [
              0.5555555555555556,
              "#d8576b"
             ],
             [
              0.6666666666666666,
              "#ed7953"
             ],
             [
              0.7777777777777778,
              "#fb9f3a"
             ],
             [
              0.8888888888888888,
              "#fdca26"
             ],
             [
              1,
              "#f0f921"
             ]
            ],
            "type": "heatmap"
           }
          ],
          "heatmapgl": [
           {
            "colorbar": {
             "outlinewidth": 0,
             "ticks": ""
            },
            "colorscale": [
             [
              0,
              "#0d0887"
             ],
             [
              0.1111111111111111,
              "#46039f"
             ],
             [
              0.2222222222222222,
              "#7201a8"
             ],
             [
              0.3333333333333333,
              "#9c179e"
             ],
             [
              0.4444444444444444,
              "#bd3786"
             ],
             [
              0.5555555555555556,
              "#d8576b"
             ],
             [
              0.6666666666666666,
              "#ed7953"
             ],
             [
              0.7777777777777778,
              "#fb9f3a"
             ],
             [
              0.8888888888888888,
              "#fdca26"
             ],
             [
              1,
              "#f0f921"
             ]
            ],
            "type": "heatmapgl"
           }
          ],
          "histogram": [
           {
            "marker": {
             "colorbar": {
              "outlinewidth": 0,
              "ticks": ""
             }
            },
            "type": "histogram"
           }
          ],
          "histogram2d": [
           {
            "colorbar": {
             "outlinewidth": 0,
             "ticks": ""
            },
            "colorscale": [
             [
              0,
              "#0d0887"
             ],
             [
              0.1111111111111111,
              "#46039f"
             ],
             [
              0.2222222222222222,
              "#7201a8"
             ],
             [
              0.3333333333333333,
              "#9c179e"
             ],
             [
              0.4444444444444444,
              "#bd3786"
             ],
             [
              0.5555555555555556,
              "#d8576b"
             ],
             [
              0.6666666666666666,
              "#ed7953"
             ],
             [
              0.7777777777777778,
              "#fb9f3a"
             ],
             [
              0.8888888888888888,
              "#fdca26"
             ],
             [
              1,
              "#f0f921"
             ]
            ],
            "type": "histogram2d"
           }
          ],
          "histogram2dcontour": [
           {
            "colorbar": {
             "outlinewidth": 0,
             "ticks": ""
            },
            "colorscale": [
             [
              0,
              "#0d0887"
             ],
             [
              0.1111111111111111,
              "#46039f"
             ],
             [
              0.2222222222222222,
              "#7201a8"
             ],
             [
              0.3333333333333333,
              "#9c179e"
             ],
             [
              0.4444444444444444,
              "#bd3786"
             ],
             [
              0.5555555555555556,
              "#d8576b"
             ],
             [
              0.6666666666666666,
              "#ed7953"
             ],
             [
              0.7777777777777778,
              "#fb9f3a"
             ],
             [
              0.8888888888888888,
              "#fdca26"
             ],
             [
              1,
              "#f0f921"
             ]
            ],
            "type": "histogram2dcontour"
           }
          ],
          "mesh3d": [
           {
            "colorbar": {
             "outlinewidth": 0,
             "ticks": ""
            },
            "type": "mesh3d"
           }
          ],
          "parcoords": [
           {
            "line": {
             "colorbar": {
              "outlinewidth": 0,
              "ticks": ""
             }
            },
            "type": "parcoords"
           }
          ],
          "pie": [
           {
            "automargin": true,
            "type": "pie"
           }
          ],
          "scatter": [
           {
            "marker": {
             "colorbar": {
              "outlinewidth": 0,
              "ticks": ""
             }
            },
            "type": "scatter"
           }
          ],
          "scatter3d": [
           {
            "line": {
             "colorbar": {
              "outlinewidth": 0,
              "ticks": ""
             }
            },
            "marker": {
             "colorbar": {
              "outlinewidth": 0,
              "ticks": ""
             }
            },
            "type": "scatter3d"
           }
          ],
          "scattercarpet": [
           {
            "marker": {
             "colorbar": {
              "outlinewidth": 0,
              "ticks": ""
             }
            },
            "type": "scattercarpet"
           }
          ],
          "scattergeo": [
           {
            "marker": {
             "colorbar": {
              "outlinewidth": 0,
              "ticks": ""
             }
            },
            "type": "scattergeo"
           }
          ],
          "scattergl": [
           {
            "marker": {
             "colorbar": {
              "outlinewidth": 0,
              "ticks": ""
             }
            },
            "type": "scattergl"
           }
          ],
          "scattermapbox": [
           {
            "marker": {
             "colorbar": {
              "outlinewidth": 0,
              "ticks": ""
             }
            },
            "type": "scattermapbox"
           }
          ],
          "scatterpolar": [
           {
            "marker": {
             "colorbar": {
              "outlinewidth": 0,
              "ticks": ""
             }
            },
            "type": "scatterpolar"
           }
          ],
          "scatterpolargl": [
           {
            "marker": {
             "colorbar": {
              "outlinewidth": 0,
              "ticks": ""
             }
            },
            "type": "scatterpolargl"
           }
          ],
          "scatterternary": [
           {
            "marker": {
             "colorbar": {
              "outlinewidth": 0,
              "ticks": ""
             }
            },
            "type": "scatterternary"
           }
          ],
          "surface": [
           {
            "colorbar": {
             "outlinewidth": 0,
             "ticks": ""
            },
            "colorscale": [
             [
              0,
              "#0d0887"
             ],
             [
              0.1111111111111111,
              "#46039f"
             ],
             [
              0.2222222222222222,
              "#7201a8"
             ],
             [
              0.3333333333333333,
              "#9c179e"
             ],
             [
              0.4444444444444444,
              "#bd3786"
             ],
             [
              0.5555555555555556,
              "#d8576b"
             ],
             [
              0.6666666666666666,
              "#ed7953"
             ],
             [
              0.7777777777777778,
              "#fb9f3a"
             ],
             [
              0.8888888888888888,
              "#fdca26"
             ],
             [
              1,
              "#f0f921"
             ]
            ],
            "type": "surface"
           }
          ],
          "table": [
           {
            "cells": {
             "fill": {
              "color": "#EBF0F8"
             },
             "line": {
              "color": "white"
             }
            },
            "header": {
             "fill": {
              "color": "#C8D4E3"
             },
             "line": {
              "color": "white"
             }
            },
            "type": "table"
           }
          ]
         },
         "layout": {
          "annotationdefaults": {
           "arrowcolor": "#2a3f5f",
           "arrowhead": 0,
           "arrowwidth": 1
          },
          "coloraxis": {
           "colorbar": {
            "outlinewidth": 0,
            "ticks": ""
           }
          },
          "colorscale": {
           "diverging": [
            [
             0,
             "#8e0152"
            ],
            [
             0.1,
             "#c51b7d"
            ],
            [
             0.2,
             "#de77ae"
            ],
            [
             0.3,
             "#f1b6da"
            ],
            [
             0.4,
             "#fde0ef"
            ],
            [
             0.5,
             "#f7f7f7"
            ],
            [
             0.6,
             "#e6f5d0"
            ],
            [
             0.7,
             "#b8e186"
            ],
            [
             0.8,
             "#7fbc41"
            ],
            [
             0.9,
             "#4d9221"
            ],
            [
             1,
             "#276419"
            ]
           ],
           "sequential": [
            [
             0,
             "#0d0887"
            ],
            [
             0.1111111111111111,
             "#46039f"
            ],
            [
             0.2222222222222222,
             "#7201a8"
            ],
            [
             0.3333333333333333,
             "#9c179e"
            ],
            [
             0.4444444444444444,
             "#bd3786"
            ],
            [
             0.5555555555555556,
             "#d8576b"
            ],
            [
             0.6666666666666666,
             "#ed7953"
            ],
            [
             0.7777777777777778,
             "#fb9f3a"
            ],
            [
             0.8888888888888888,
             "#fdca26"
            ],
            [
             1,
             "#f0f921"
            ]
           ],
           "sequentialminus": [
            [
             0,
             "#0d0887"
            ],
            [
             0.1111111111111111,
             "#46039f"
            ],
            [
             0.2222222222222222,
             "#7201a8"
            ],
            [
             0.3333333333333333,
             "#9c179e"
            ],
            [
             0.4444444444444444,
             "#bd3786"
            ],
            [
             0.5555555555555556,
             "#d8576b"
            ],
            [
             0.6666666666666666,
             "#ed7953"
            ],
            [
             0.7777777777777778,
             "#fb9f3a"
            ],
            [
             0.8888888888888888,
             "#fdca26"
            ],
            [
             1,
             "#f0f921"
            ]
           ]
          },
          "colorway": [
           "#636efa",
           "#EF553B",
           "#00cc96",
           "#ab63fa",
           "#FFA15A",
           "#19d3f3",
           "#FF6692",
           "#B6E880",
           "#FF97FF",
           "#FECB52"
          ],
          "font": {
           "color": "#2a3f5f"
          },
          "geo": {
           "bgcolor": "white",
           "lakecolor": "white",
           "landcolor": "#E5ECF6",
           "showlakes": true,
           "showland": true,
           "subunitcolor": "white"
          },
          "hoverlabel": {
           "align": "left"
          },
          "hovermode": "closest",
          "mapbox": {
           "style": "light"
          },
          "paper_bgcolor": "white",
          "plot_bgcolor": "#E5ECF6",
          "polar": {
           "angularaxis": {
            "gridcolor": "white",
            "linecolor": "white",
            "ticks": ""
           },
           "bgcolor": "#E5ECF6",
           "radialaxis": {
            "gridcolor": "white",
            "linecolor": "white",
            "ticks": ""
           }
          },
          "scene": {
           "xaxis": {
            "backgroundcolor": "#E5ECF6",
            "gridcolor": "white",
            "gridwidth": 2,
            "linecolor": "white",
            "showbackground": true,
            "ticks": "",
            "zerolinecolor": "white"
           },
           "yaxis": {
            "backgroundcolor": "#E5ECF6",
            "gridcolor": "white",
            "gridwidth": 2,
            "linecolor": "white",
            "showbackground": true,
            "ticks": "",
            "zerolinecolor": "white"
           },
           "zaxis": {
            "backgroundcolor": "#E5ECF6",
            "gridcolor": "white",
            "gridwidth": 2,
            "linecolor": "white",
            "showbackground": true,
            "ticks": "",
            "zerolinecolor": "white"
           }
          },
          "shapedefaults": {
           "line": {
            "color": "#2a3f5f"
           }
          },
          "ternary": {
           "aaxis": {
            "gridcolor": "white",
            "linecolor": "white",
            "ticks": ""
           },
           "baxis": {
            "gridcolor": "white",
            "linecolor": "white",
            "ticks": ""
           },
           "bgcolor": "#E5ECF6",
           "caxis": {
            "gridcolor": "white",
            "linecolor": "white",
            "ticks": ""
           }
          },
          "title": {
           "x": 0.05
          },
          "xaxis": {
           "automargin": true,
           "gridcolor": "white",
           "linecolor": "white",
           "ticks": "",
           "title": {
            "standoff": 15
           },
           "zerolinecolor": "white",
           "zerolinewidth": 2
          },
          "yaxis": {
           "automargin": true,
           "gridcolor": "white",
           "linecolor": "white",
           "ticks": "",
           "title": {
            "standoff": 15
           },
           "zerolinecolor": "white",
           "zerolinewidth": 2
          }
         }
        },
        "title": {
         "font": {
          "size": 20
         },
         "text": "LinkedIn Software Engineer Open Positions Future Forecast (VARMAX Model)",
         "x": 0.52,
         "xanchor": "center",
         "y": 0.9,
         "yanchor": "top"
        },
        "width": 900,
        "xaxis": {
         "tickfont": {
          "size": 16
         },
         "title": {
          "font": {
           "size": 18
          },
          "standoff": 0,
          "text": "Post date"
         }
        },
        "yaxis": {
         "tickfont": {
          "size": 16
         },
         "title": {
          "font": {
           "size": 18
          },
          "text": "Job numbers"
         }
        }
       }
      },
      "text/html": [
       "<div>\n",
       "        \n",
       "        \n",
       "            <div id=\"7836f5be-a3e2-44e0-ae7e-2531f418e3be\" class=\"plotly-graph-div\" style=\"height:500px; width:900px;\"></div>\n",
       "            <script type=\"text/javascript\">\n",
       "                require([\"plotly\"], function(Plotly) {\n",
       "                    window.PLOTLYENV=window.PLOTLYENV || {};\n",
       "                    \n",
       "                if (document.getElementById(\"7836f5be-a3e2-44e0-ae7e-2531f418e3be\")) {\n",
       "                    Plotly.newPlot(\n",
       "                        '7836f5be-a3e2-44e0-ae7e-2531f418e3be',\n",
       "                        [{\"marker\": {\"color\": \"royalblue\", \"size\": 8}, \"mode\": \"lines+markers\", \"name\": \"Train\", \"type\": \"scatter\", \"x\": [\"2020-06-12T00:00:00\", \"2020-06-13T00:00:00\", \"2020-06-14T00:00:00\", \"2020-06-15T00:00:00\", \"2020-06-16T00:00:00\", \"2020-06-17T00:00:00\", \"2020-06-18T00:00:00\", \"2020-06-19T00:00:00\", \"2020-06-20T00:00:00\", \"2020-06-21T00:00:00\", \"2020-06-22T00:00:00\", \"2020-06-23T00:00:00\", \"2020-06-24T00:00:00\", \"2020-06-25T00:00:00\", \"2020-06-26T00:00:00\", \"2020-06-27T00:00:00\", \"2020-06-28T00:00:00\", \"2020-06-29T00:00:00\", \"2020-06-30T00:00:00\", \"2020-07-01T00:00:00\", \"2020-07-02T00:00:00\", \"2020-07-03T00:00:00\", \"2020-07-04T00:00:00\", \"2020-07-05T00:00:00\", \"2020-07-06T00:00:00\", \"2020-07-07T00:00:00\", \"2020-07-08T00:00:00\", \"2020-07-09T00:00:00\", \"2020-07-10T00:00:00\", \"2020-07-11T00:00:00\", \"2020-07-12T00:00:00\", \"2020-07-13T00:00:00\", \"2020-07-14T00:00:00\", \"2020-07-15T00:00:00\", \"2020-07-16T00:00:00\", \"2020-07-17T00:00:00\", \"2020-07-18T00:00:00\", \"2020-07-19T00:00:00\", \"2020-07-20T00:00:00\", \"2020-07-21T00:00:00\", \"2020-07-22T00:00:00\", \"2020-07-23T00:00:00\", \"2020-07-24T00:00:00\", \"2020-07-25T00:00:00\", \"2020-07-26T00:00:00\", \"2020-07-27T00:00:00\", \"2020-07-28T00:00:00\", \"2020-07-29T00:00:00\", \"2020-07-30T00:00:00\", \"2020-07-31T00:00:00\", \"2020-08-01T00:00:00\", \"2020-08-02T00:00:00\"], \"y\": [759, 624, 733, 673, 953, 1540, 1982, 1625, 1046, 965, 2140, 2375, 2096, 2676, 2794, 2225, 1175, 1481, 1924, 2579, 4777, 2306, 1195, 1088, 1725, 2715, 3581, 4825, 5456, 2981, 5378, 5248, 5423, 4452, 4856, 5824, 3528, 2666, 4025, 4280, 2548, 2574, 2267, 1459, 681, 1571, 2456, 2503, 3154, 3459, 3302, 4145]}, {\"marker\": {\"color\": \"red\", \"size\": 8}, \"mode\": \"lines+markers\", \"name\": \"Future Forecast\", \"type\": \"scatter\", \"x\": [\"2020-08-03T00:00:00\", \"2020-08-04T00:00:00\", \"2020-08-05T00:00:00\", \"2020-08-06T00:00:00\", \"2020-08-07T00:00:00\", \"2020-08-08T00:00:00\", \"2020-08-09T00:00:00\"], \"y\": [3780.274526011621, 3555.018262836578, 3298.7306573926458, 3093.1206550583834, 2970.1738563062268, 2902.8166864981454, 2965.90134728704]}],\n",
       "                        {\"annotations\": [{\"arrowhead\": 2, \"arrowsize\": 1, \"arrowwidth\": 2, \"ax\": 10, \"ay\": -70, \"font\": {\"size\": 16}, \"text\": \"Future<br>forecast\", \"x\": \"2020-08-06\", \"y\": 3600}], \"height\": 500, \"legend\": {\"font\": {\"size\": 16}, \"x\": 0.05, \"y\": 0.95}, \"margin\": {\"b\": 0, \"l\": 0, \"r\": 10, \"t\": 90}, \"shapes\": [{\"fillcolor\": \"LightSalmon\", \"layer\": \"below\", \"line\": {\"width\": 0}, \"opacity\": 0.2, \"type\": \"rect\", \"x0\": \"2020-08-03T00:00:00\", \"x1\": \"2020-08-09T00:00:00\", \"xref\": \"x\", \"y0\": 0, \"y1\": 1, \"yref\": \"paper\"}], \"template\": {\"data\": {\"bar\": [{\"error_x\": {\"color\": \"#2a3f5f\"}, \"error_y\": {\"color\": \"#2a3f5f\"}, \"marker\": {\"line\": {\"color\": \"#E5ECF6\", \"width\": 0.5}}, \"type\": \"bar\"}], \"barpolar\": [{\"marker\": {\"line\": {\"color\": \"#E5ECF6\", \"width\": 0.5}}, \"type\": \"barpolar\"}], \"carpet\": [{\"aaxis\": {\"endlinecolor\": \"#2a3f5f\", \"gridcolor\": \"white\", \"linecolor\": \"white\", \"minorgridcolor\": \"white\", \"startlinecolor\": \"#2a3f5f\"}, \"baxis\": {\"endlinecolor\": \"#2a3f5f\", \"gridcolor\": \"white\", \"linecolor\": \"white\", \"minorgridcolor\": \"white\", \"startlinecolor\": \"#2a3f5f\"}, \"type\": \"carpet\"}], \"choropleth\": [{\"colorbar\": {\"outlinewidth\": 0, \"ticks\": \"\"}, \"type\": \"choropleth\"}], \"contour\": [{\"colorbar\": {\"outlinewidth\": 0, \"ticks\": \"\"}, \"colorscale\": [[0.0, \"#0d0887\"], [0.1111111111111111, \"#46039f\"], [0.2222222222222222, \"#7201a8\"], [0.3333333333333333, \"#9c179e\"], [0.4444444444444444, \"#bd3786\"], [0.5555555555555556, \"#d8576b\"], [0.6666666666666666, \"#ed7953\"], [0.7777777777777778, \"#fb9f3a\"], [0.8888888888888888, \"#fdca26\"], [1.0, \"#f0f921\"]], \"type\": \"contour\"}], \"contourcarpet\": [{\"colorbar\": {\"outlinewidth\": 0, \"ticks\": \"\"}, \"type\": \"contourcarpet\"}], \"heatmap\": [{\"colorbar\": {\"outlinewidth\": 0, \"ticks\": \"\"}, \"colorscale\": [[0.0, \"#0d0887\"], [0.1111111111111111, \"#46039f\"], [0.2222222222222222, \"#7201a8\"], [0.3333333333333333, \"#9c179e\"], [0.4444444444444444, \"#bd3786\"], [0.5555555555555556, \"#d8576b\"], [0.6666666666666666, \"#ed7953\"], [0.7777777777777778, \"#fb9f3a\"], [0.8888888888888888, \"#fdca26\"], [1.0, \"#f0f921\"]], \"type\": \"heatmap\"}], \"heatmapgl\": [{\"colorbar\": {\"outlinewidth\": 0, \"ticks\": \"\"}, \"colorscale\": [[0.0, \"#0d0887\"], [0.1111111111111111, \"#46039f\"], [0.2222222222222222, \"#7201a8\"], [0.3333333333333333, \"#9c179e\"], [0.4444444444444444, \"#bd3786\"], [0.5555555555555556, \"#d8576b\"], [0.6666666666666666, \"#ed7953\"], [0.7777777777777778, \"#fb9f3a\"], [0.8888888888888888, \"#fdca26\"], [1.0, \"#f0f921\"]], \"type\": \"heatmapgl\"}], \"histogram\": [{\"marker\": {\"colorbar\": {\"outlinewidth\": 0, \"ticks\": \"\"}}, \"type\": \"histogram\"}], \"histogram2d\": [{\"colorbar\": {\"outlinewidth\": 0, \"ticks\": \"\"}, \"colorscale\": [[0.0, \"#0d0887\"], [0.1111111111111111, \"#46039f\"], [0.2222222222222222, \"#7201a8\"], [0.3333333333333333, \"#9c179e\"], [0.4444444444444444, \"#bd3786\"], [0.5555555555555556, \"#d8576b\"], [0.6666666666666666, \"#ed7953\"], [0.7777777777777778, \"#fb9f3a\"], [0.8888888888888888, \"#fdca26\"], [1.0, \"#f0f921\"]], \"type\": \"histogram2d\"}], \"histogram2dcontour\": [{\"colorbar\": {\"outlinewidth\": 0, \"ticks\": \"\"}, \"colorscale\": [[0.0, \"#0d0887\"], [0.1111111111111111, \"#46039f\"], [0.2222222222222222, \"#7201a8\"], [0.3333333333333333, \"#9c179e\"], [0.4444444444444444, \"#bd3786\"], [0.5555555555555556, \"#d8576b\"], [0.6666666666666666, \"#ed7953\"], [0.7777777777777778, \"#fb9f3a\"], [0.8888888888888888, \"#fdca26\"], [1.0, \"#f0f921\"]], \"type\": \"histogram2dcontour\"}], \"mesh3d\": [{\"colorbar\": {\"outlinewidth\": 0, \"ticks\": \"\"}, \"type\": \"mesh3d\"}], \"parcoords\": [{\"line\": {\"colorbar\": {\"outlinewidth\": 0, \"ticks\": \"\"}}, \"type\": \"parcoords\"}], \"pie\": [{\"automargin\": true, \"type\": \"pie\"}], \"scatter\": [{\"marker\": {\"colorbar\": {\"outlinewidth\": 0, \"ticks\": \"\"}}, \"type\": \"scatter\"}], \"scatter3d\": [{\"line\": {\"colorbar\": {\"outlinewidth\": 0, \"ticks\": \"\"}}, \"marker\": {\"colorbar\": {\"outlinewidth\": 0, \"ticks\": \"\"}}, \"type\": \"scatter3d\"}], \"scattercarpet\": [{\"marker\": {\"colorbar\": {\"outlinewidth\": 0, \"ticks\": \"\"}}, \"type\": \"scattercarpet\"}], \"scattergeo\": [{\"marker\": {\"colorbar\": {\"outlinewidth\": 0, \"ticks\": \"\"}}, \"type\": \"scattergeo\"}], \"scattergl\": [{\"marker\": {\"colorbar\": {\"outlinewidth\": 0, \"ticks\": \"\"}}, \"type\": \"scattergl\"}], \"scattermapbox\": [{\"marker\": {\"colorbar\": {\"outlinewidth\": 0, \"ticks\": \"\"}}, \"type\": \"scattermapbox\"}], \"scatterpolar\": [{\"marker\": {\"colorbar\": {\"outlinewidth\": 0, \"ticks\": \"\"}}, \"type\": \"scatterpolar\"}], \"scatterpolargl\": [{\"marker\": {\"colorbar\": {\"outlinewidth\": 0, \"ticks\": \"\"}}, \"type\": \"scatterpolargl\"}], \"scatterternary\": [{\"marker\": {\"colorbar\": {\"outlinewidth\": 0, \"ticks\": \"\"}}, \"type\": \"scatterternary\"}], \"surface\": [{\"colorbar\": {\"outlinewidth\": 0, \"ticks\": \"\"}, \"colorscale\": [[0.0, \"#0d0887\"], [0.1111111111111111, \"#46039f\"], [0.2222222222222222, \"#7201a8\"], [0.3333333333333333, \"#9c179e\"], [0.4444444444444444, \"#bd3786\"], [0.5555555555555556, \"#d8576b\"], [0.6666666666666666, \"#ed7953\"], [0.7777777777777778, \"#fb9f3a\"], [0.8888888888888888, \"#fdca26\"], [1.0, \"#f0f921\"]], \"type\": \"surface\"}], \"table\": [{\"cells\": {\"fill\": {\"color\": \"#EBF0F8\"}, \"line\": {\"color\": \"white\"}}, \"header\": {\"fill\": {\"color\": \"#C8D4E3\"}, \"line\": {\"color\": \"white\"}}, \"type\": \"table\"}]}, \"layout\": {\"annotationdefaults\": {\"arrowcolor\": \"#2a3f5f\", \"arrowhead\": 0, \"arrowwidth\": 1}, \"coloraxis\": {\"colorbar\": {\"outlinewidth\": 0, \"ticks\": \"\"}}, \"colorscale\": {\"diverging\": [[0, \"#8e0152\"], [0.1, \"#c51b7d\"], [0.2, \"#de77ae\"], [0.3, \"#f1b6da\"], [0.4, \"#fde0ef\"], [0.5, \"#f7f7f7\"], [0.6, \"#e6f5d0\"], [0.7, \"#b8e186\"], [0.8, \"#7fbc41\"], [0.9, \"#4d9221\"], [1, \"#276419\"]], \"sequential\": [[0.0, \"#0d0887\"], [0.1111111111111111, \"#46039f\"], [0.2222222222222222, \"#7201a8\"], [0.3333333333333333, \"#9c179e\"], [0.4444444444444444, \"#bd3786\"], [0.5555555555555556, \"#d8576b\"], [0.6666666666666666, \"#ed7953\"], [0.7777777777777778, \"#fb9f3a\"], [0.8888888888888888, \"#fdca26\"], [1.0, \"#f0f921\"]], \"sequentialminus\": [[0.0, \"#0d0887\"], [0.1111111111111111, \"#46039f\"], [0.2222222222222222, \"#7201a8\"], [0.3333333333333333, \"#9c179e\"], [0.4444444444444444, \"#bd3786\"], [0.5555555555555556, \"#d8576b\"], [0.6666666666666666, \"#ed7953\"], [0.7777777777777778, \"#fb9f3a\"], [0.8888888888888888, \"#fdca26\"], [1.0, \"#f0f921\"]]}, \"colorway\": [\"#636efa\", \"#EF553B\", \"#00cc96\", \"#ab63fa\", \"#FFA15A\", \"#19d3f3\", \"#FF6692\", \"#B6E880\", \"#FF97FF\", \"#FECB52\"], \"font\": {\"color\": \"#2a3f5f\"}, \"geo\": {\"bgcolor\": \"white\", \"lakecolor\": \"white\", \"landcolor\": \"#E5ECF6\", \"showlakes\": true, \"showland\": true, \"subunitcolor\": \"white\"}, \"hoverlabel\": {\"align\": \"left\"}, \"hovermode\": \"closest\", \"mapbox\": {\"style\": \"light\"}, \"paper_bgcolor\": \"white\", \"plot_bgcolor\": \"#E5ECF6\", \"polar\": {\"angularaxis\": {\"gridcolor\": \"white\", \"linecolor\": \"white\", \"ticks\": \"\"}, \"bgcolor\": \"#E5ECF6\", \"radialaxis\": {\"gridcolor\": \"white\", \"linecolor\": \"white\", \"ticks\": \"\"}}, \"scene\": {\"xaxis\": {\"backgroundcolor\": \"#E5ECF6\", \"gridcolor\": \"white\", \"gridwidth\": 2, \"linecolor\": \"white\", \"showbackground\": true, \"ticks\": \"\", \"zerolinecolor\": \"white\"}, \"yaxis\": {\"backgroundcolor\": \"#E5ECF6\", \"gridcolor\": \"white\", \"gridwidth\": 2, \"linecolor\": \"white\", \"showbackground\": true, \"ticks\": \"\", \"zerolinecolor\": \"white\"}, \"zaxis\": {\"backgroundcolor\": \"#E5ECF6\", \"gridcolor\": \"white\", \"gridwidth\": 2, \"linecolor\": \"white\", \"showbackground\": true, \"ticks\": \"\", \"zerolinecolor\": \"white\"}}, \"shapedefaults\": {\"line\": {\"color\": \"#2a3f5f\"}}, \"ternary\": {\"aaxis\": {\"gridcolor\": \"white\", \"linecolor\": \"white\", \"ticks\": \"\"}, \"baxis\": {\"gridcolor\": \"white\", \"linecolor\": \"white\", \"ticks\": \"\"}, \"bgcolor\": \"#E5ECF6\", \"caxis\": {\"gridcolor\": \"white\", \"linecolor\": \"white\", \"ticks\": \"\"}}, \"title\": {\"x\": 0.05}, \"xaxis\": {\"automargin\": true, \"gridcolor\": \"white\", \"linecolor\": \"white\", \"ticks\": \"\", \"title\": {\"standoff\": 15}, \"zerolinecolor\": \"white\", \"zerolinewidth\": 2}, \"yaxis\": {\"automargin\": true, \"gridcolor\": \"white\", \"linecolor\": \"white\", \"ticks\": \"\", \"title\": {\"standoff\": 15}, \"zerolinecolor\": \"white\", \"zerolinewidth\": 2}}}, \"title\": {\"font\": {\"size\": 20}, \"text\": \"LinkedIn Software Engineer Open Positions Future Forecast (VARMAX Model)\", \"x\": 0.52, \"xanchor\": \"center\", \"y\": 0.9, \"yanchor\": \"top\"}, \"width\": 900, \"xaxis\": {\"tickfont\": {\"size\": 16}, \"title\": {\"font\": {\"size\": 18}, \"standoff\": 0, \"text\": \"Post date\"}}, \"yaxis\": {\"tickfont\": {\"size\": 16}, \"title\": {\"font\": {\"size\": 18}, \"text\": \"Job numbers\"}}},\n",
       "                        {\"responsive\": true}\n",
       "                    ).then(function(){\n",
       "                            \n",
       "var gd = document.getElementById('7836f5be-a3e2-44e0-ae7e-2531f418e3be');\n",
       "var x = new MutationObserver(function (mutations, observer) {{\n",
       "        var display = window.getComputedStyle(gd).display;\n",
       "        if (!display || display === 'none') {{\n",
       "            console.log([gd, 'removed!']);\n",
       "            Plotly.purge(gd);\n",
       "            observer.disconnect();\n",
       "        }}\n",
       "}});\n",
       "\n",
       "// Listen for the removal of the full notebook cells\n",
       "var notebookContainer = gd.closest('#notebook-container');\n",
       "if (notebookContainer) {{\n",
       "    x.observe(notebookContainer, {childList: true});\n",
       "}}\n",
       "\n",
       "// Listen for the clearing of the current output cell\n",
       "var outputEl = gd.closest('.output');\n",
       "if (outputEl) {{\n",
       "    x.observe(outputEl, {childList: true});\n",
       "}}\n",
       "\n",
       "                        })\n",
       "                };\n",
       "                });\n",
       "            </script>\n",
       "        </div>"
      ]
     },
     "metadata": {},
     "output_type": "display_data"
    }
   ],
   "source": [
    "fig = go.Figure()\n",
    "\n",
    "fig.update_layout(\n",
    "    shapes=[\n",
    "        dict(\n",
    "            type=\"rect\",\n",
    "            xref=\"x\",\n",
    "            yref=\"paper\",\n",
    "            x0=df_linkedin_future.index[0],\n",
    "            y0=0,\n",
    "            x1=df_linkedin_future.index[-1],\n",
    "            y1=1,\n",
    "            fillcolor=\"LightSalmon\",\n",
    "            opacity=0.2,\n",
    "            layer=\"below\",\n",
    "            line_width=0,\n",
    "        )\n",
    "    ]\n",
    ")\n",
    "\n",
    "fig.add_trace(go.Scatter(x=df_combined_linkedin.index, y=df_combined_linkedin['Jobnums'], mode='lines+markers', \n",
    "                         marker=dict(size=8, color='royalblue'), name='Train'))\n",
    "\n",
    "fig.add_trace(go.Scatter(x=df_linkedin_future.index, y=linkedin_pred['Jobnums'], mode='lines+markers', \n",
    "                         marker=dict(size=8, color='red'), name='Future Forecast'))\n",
    "\n",
    "\n",
    "fig.add_annotation(\n",
    "            x='2020-08-06',\n",
    "            y=3600,\n",
    "            text=\"Future<br>forecast\",\n",
    "            font=dict(size=16),\n",
    "            arrowhead=2,\n",
    "            arrowsize=1,\n",
    "            arrowwidth=2,\n",
    "            ax=10,\n",
    "            ay=-70,)\n",
    "\n",
    "fig.update_layout(title={'text': \"LinkedIn Software Engineer Open Positions Future Forecast (VARMAX Model)\", \n",
    "                         'y':0.9, 'x':0.52,\n",
    "                         'xanchor': 'center',\n",
    "                         'yanchor': 'top'},\n",
    "                  width=900,\n",
    "                  height=500,\n",
    "                  titlefont=dict(size=20),\n",
    "                  xaxis=dict(title=dict(text='Post date', standoff=0), titlefont=dict(size=18), tickfont=dict(size=16)),\n",
    "                  yaxis=dict(title=dict(text='Job numbers'), titlefont=dict(size=18), tickfont=dict(size=16)),\n",
    "                  legend=dict(font=dict(size=16), x=0.05, y=0.95),\n",
    "                  margin = {'r':10, 'l': 0, 't':90, 'b':0}\n",
    "                 )\n",
    "fig.show()"
   ]
  },
  {
   "cell_type": "code",
   "execution_count": null,
   "metadata": {},
   "outputs": [],
   "source": []
  }
 ],
 "metadata": {
  "kernelspec": {
   "display_name": "Python 3",
   "language": "python",
   "name": "python3"
  },
  "language_info": {
   "codemirror_mode": {
    "name": "ipython",
    "version": 3
   },
   "file_extension": ".py",
   "mimetype": "text/x-python",
   "name": "python",
   "nbconvert_exporter": "python",
   "pygments_lexer": "ipython3",
   "version": "3.7.4"
  }
 },
 "nbformat": 4,
 "nbformat_minor": 2
}
