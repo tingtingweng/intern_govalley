{
 "cells": [
  {
   "cell_type": "code",
   "execution_count": 1,
   "metadata": {},
   "outputs": [
    {
     "data": {
      "text/html": [
       "        <script type=\"text/javascript\">\n",
       "        window.PlotlyConfig = {MathJaxConfig: 'local'};\n",
       "        if (window.MathJax) {MathJax.Hub.Config({SVG: {font: \"STIX-Web\"}});}\n",
       "        if (typeof require !== 'undefined') {\n",
       "        require.undef(\"plotly\");\n",
       "        requirejs.config({\n",
       "            paths: {\n",
       "                'plotly': ['https://cdn.plot.ly/plotly-latest.min']\n",
       "            }\n",
       "        });\n",
       "        require(['plotly'], function(Plotly) {\n",
       "            window._Plotly = Plotly;\n",
       "        });\n",
       "        }\n",
       "        </script>\n",
       "        "
      ]
     },
     "metadata": {},
     "output_type": "display_data"
    }
   ],
   "source": [
    "import pandas as pd\n",
    "import numpy as np\n",
    "import os\n",
    "import seaborn as sns\n",
    "import matplotlib.pyplot as plt\n",
    "%matplotlib inline\n",
    "\n",
    "import plotly as py\n",
    "import plotly.graph_objs as go\n",
    "from plotly.subplots import make_subplots\n",
    "from plotly.offline import download_plotlyjs, init_notebook_mode, plot, iplot\n",
    "import plotly.express as px\n",
    "from plotly.subplots import make_subplots\n",
    "import datetime as dt\n",
    "from datetime import timedelta\n",
    "from sklearn.model_selection import GridSearchCV\n",
    "from sklearn.preprocessing import StandardScaler\n",
    "from sklearn.cluster import KMeans\n",
    "from sklearn.metrics import silhouette_score,silhouette_samples\n",
    "from sklearn.linear_model import LinearRegression,Ridge,Lasso\n",
    "from sklearn.svm import SVR\n",
    "from sklearn.metrics import mean_squared_error,r2_score\n",
    "import statsmodels.api as sm\n",
    "from statsmodels.tsa.api import Holt,SimpleExpSmoothing,ExponentialSmoothing\n",
    "#from fbprophet import Prophet\n",
    "from sklearn.preprocessing import PolynomialFeatures\n",
    "from statsmodels.tsa.stattools import adfuller\n",
    "\n",
    "std=StandardScaler()\n",
    "# set up everything so that the figures show up in the notebook\n",
    "init_notebook_mode(connected=True)"
   ]
  },
  {
   "cell_type": "code",
   "execution_count": 2,
   "metadata": {},
   "outputs": [],
   "source": [
    "from statsmodels.tsa.statespace.sarimax import SARIMAX\n",
    "from statsmodels.tsa.api import VAR\n",
    "from statsmodels.tsa.statespace.varmax import VARMAX\n",
    "from multiprocessing import cpu_count\n",
    "from joblib import Parallel, delayed\n",
    "from warnings import catch_warnings, filterwarnings\n",
    "from statsmodels.tools.eval_measures import rmse, aic\n",
    "\n",
    "filterwarnings('ignore')"
   ]
  },
  {
   "cell_type": "markdown",
   "metadata": {},
   "source": [
    "# Indeed data modeling"
   ]
  },
  {
   "cell_type": "markdown",
   "metadata": {},
   "source": [
    "## Load data"
   ]
  },
  {
   "cell_type": "code",
   "execution_count": 3,
   "metadata": {},
   "outputs": [
    {
     "data": {
      "text/html": [
       "<div>\n",
       "<style scoped>\n",
       "    .dataframe tbody tr th:only-of-type {\n",
       "        vertical-align: middle;\n",
       "    }\n",
       "\n",
       "    .dataframe tbody tr th {\n",
       "        vertical-align: top;\n",
       "    }\n",
       "\n",
       "    .dataframe thead th {\n",
       "        text-align: right;\n",
       "    }\n",
       "</style>\n",
       "<table border=\"1\" class=\"dataframe\">\n",
       "  <thead>\n",
       "    <tr style=\"text-align: right;\">\n",
       "      <th></th>\n",
       "      <th>Title</th>\n",
       "      <th>Company</th>\n",
       "      <th>State</th>\n",
       "      <th>Location</th>\n",
       "      <th>Date</th>\n",
       "      <th>Salary</th>\n",
       "      <th>Summary</th>\n",
       "      <th>Description</th>\n",
       "      <th>Code</th>\n",
       "      <th>Post date</th>\n",
       "      <th>Day of week</th>\n",
       "      <th>City</th>\n",
       "      <th>Date in num</th>\n",
       "    </tr>\n",
       "  </thead>\n",
       "  <tbody>\n",
       "    <tr>\n",
       "      <td>0</td>\n",
       "      <td>Full Stack Engineer</td>\n",
       "      <td>Triad Behavioral Health</td>\n",
       "      <td>Alabama</td>\n",
       "      <td>Huntsville, AL</td>\n",
       "      <td>2 days ago</td>\n",
       "      <td>NaN</td>\n",
       "      <td>Technical assignment in our Slack channel - 5 ...</td>\n",
       "      <td>About Triad Behavioral HealthTriad Behavioral ...</td>\n",
       "      <td>AL</td>\n",
       "      <td>2020-08-14</td>\n",
       "      <td>Fri</td>\n",
       "      <td>Huntsville</td>\n",
       "      <td>NaN</td>\n",
       "    </tr>\n",
       "    <tr>\n",
       "      <td>1</td>\n",
       "      <td>Automation Controls Engineer</td>\n",
       "      <td>Tonya Michael</td>\n",
       "      <td>Alabama</td>\n",
       "      <td>Troy, AL</td>\n",
       "      <td>2 days ago</td>\n",
       "      <td>NaN</td>\n",
       "      <td>Proven project management skills required to d...</td>\n",
       "      <td>Controls Engineer  AT3 Staffing is partnered w...</td>\n",
       "      <td>AL</td>\n",
       "      <td>2020-08-14</td>\n",
       "      <td>Fri</td>\n",
       "      <td>Troy</td>\n",
       "      <td>NaN</td>\n",
       "    </tr>\n",
       "    <tr>\n",
       "      <td>2</td>\n",
       "      <td>Junior to Mid-Level Software Developer - GH WST</td>\n",
       "      <td>Dynetics</td>\n",
       "      <td>Alabama</td>\n",
       "      <td>Huntsville, AL</td>\n",
       "      <td>2 days ago</td>\n",
       "      <td>NaN</td>\n",
       "      <td>The team follows Agile software development pr...</td>\n",
       "      <td>Dynetics, a wholly owned subsidiary of Leidos,...</td>\n",
       "      <td>AL</td>\n",
       "      <td>2020-08-14</td>\n",
       "      <td>Fri</td>\n",
       "      <td>Huntsville</td>\n",
       "      <td>NaN</td>\n",
       "    </tr>\n",
       "    <tr>\n",
       "      <td>3</td>\n",
       "      <td>Technical Support Analyst (SQL)</td>\n",
       "      <td>ProctorU</td>\n",
       "      <td>Alabama</td>\n",
       "      <td>Birmingham, AL 35244</td>\n",
       "      <td>2 days ago</td>\n",
       "      <td>NaN</td>\n",
       "      <td>Experience with a scripting language (powershe...</td>\n",
       "      <td>The Company: Headquartered in Birmingham, AL (...</td>\n",
       "      <td>AL</td>\n",
       "      <td>2020-08-14</td>\n",
       "      <td>Fri</td>\n",
       "      <td>Birmingham</td>\n",
       "      <td>NaN</td>\n",
       "    </tr>\n",
       "    <tr>\n",
       "      <td>4</td>\n",
       "      <td>Software Airworthiness Engineer</td>\n",
       "      <td>COLSA</td>\n",
       "      <td>Alabama</td>\n",
       "      <td>Huntsville, AL 35806</td>\n",
       "      <td>2 days ago</td>\n",
       "      <td>NaN</td>\n",
       "      <td>Participate in government and/or developer inf...</td>\n",
       "      <td>General Summary  Located at the US Army AMRDEC...</td>\n",
       "      <td>AL</td>\n",
       "      <td>2020-08-14</td>\n",
       "      <td>Fri</td>\n",
       "      <td>Huntsville</td>\n",
       "      <td>NaN</td>\n",
       "    </tr>\n",
       "  </tbody>\n",
       "</table>\n",
       "</div>"
      ],
      "text/plain": [
       "                                             Title                  Company  \\\n",
       "0                              Full Stack Engineer  Triad Behavioral Health   \n",
       "1                     Automation Controls Engineer            Tonya Michael   \n",
       "2  Junior to Mid-Level Software Developer - GH WST                 Dynetics   \n",
       "3                  Technical Support Analyst (SQL)                 ProctorU   \n",
       "4                  Software Airworthiness Engineer                    COLSA   \n",
       "\n",
       "     State              Location        Date Salary  \\\n",
       "0  Alabama        Huntsville, AL  2 days ago    NaN   \n",
       "1  Alabama              Troy, AL  2 days ago    NaN   \n",
       "2  Alabama        Huntsville, AL  2 days ago    NaN   \n",
       "3  Alabama  Birmingham, AL 35244  2 days ago    NaN   \n",
       "4  Alabama  Huntsville, AL 35806  2 days ago    NaN   \n",
       "\n",
       "                                             Summary  \\\n",
       "0  Technical assignment in our Slack channel - 5 ...   \n",
       "1  Proven project management skills required to d...   \n",
       "2  The team follows Agile software development pr...   \n",
       "3  Experience with a scripting language (powershe...   \n",
       "4  Participate in government and/or developer inf...   \n",
       "\n",
       "                                         Description Code   Post date  \\\n",
       "0  About Triad Behavioral HealthTriad Behavioral ...   AL  2020-08-14   \n",
       "1  Controls Engineer  AT3 Staffing is partnered w...   AL  2020-08-14   \n",
       "2  Dynetics, a wholly owned subsidiary of Leidos,...   AL  2020-08-14   \n",
       "3  The Company: Headquartered in Birmingham, AL (...   AL  2020-08-14   \n",
       "4  General Summary  Located at the US Army AMRDEC...   AL  2020-08-14   \n",
       "\n",
       "  Day of week        City  Date in num  \n",
       "0         Fri  Huntsville          NaN  \n",
       "1         Fri        Troy          NaN  \n",
       "2         Fri  Huntsville          NaN  \n",
       "3         Fri  Birmingham          NaN  \n",
       "4         Fri  Huntsville          NaN  "
      ]
     },
     "execution_count": 3,
     "metadata": {},
     "output_type": "execute_result"
    }
   ],
   "source": [
    "df_indeed = pd.read_csv('/Users/tingtingweng/Documents/summer_intern/data/Indeed_SDEJobs_20200816_combined.csv')\n",
    "df_indeed.head()"
   ]
  },
  {
   "cell_type": "code",
   "execution_count": 34,
   "metadata": {},
   "outputs": [
    {
     "data": {
      "text/html": [
       "<div>\n",
       "<style scoped>\n",
       "    .dataframe tbody tr th:only-of-type {\n",
       "        vertical-align: middle;\n",
       "    }\n",
       "\n",
       "    .dataframe tbody tr th {\n",
       "        vertical-align: top;\n",
       "    }\n",
       "\n",
       "    .dataframe thead th {\n",
       "        text-align: right;\n",
       "    }\n",
       "</style>\n",
       "<table border=\"1\" class=\"dataframe\">\n",
       "  <thead>\n",
       "    <tr style=\"text-align: right;\">\n",
       "      <th></th>\n",
       "      <th>Title</th>\n",
       "      <th>Company</th>\n",
       "      <th>State</th>\n",
       "      <th>Location</th>\n",
       "      <th>Date</th>\n",
       "      <th>Salary</th>\n",
       "      <th>Summary</th>\n",
       "      <th>Description</th>\n",
       "      <th>Code</th>\n",
       "      <th>Post date</th>\n",
       "      <th>Day of week</th>\n",
       "      <th>City</th>\n",
       "      <th>Date in num</th>\n",
       "    </tr>\n",
       "  </thead>\n",
       "  <tbody>\n",
       "    <tr>\n",
       "      <td>0</td>\n",
       "      <td>Full Stack Engineer</td>\n",
       "      <td>Triad Behavioral Health</td>\n",
       "      <td>Alabama</td>\n",
       "      <td>Huntsville, AL</td>\n",
       "      <td>2 days ago</td>\n",
       "      <td>NaN</td>\n",
       "      <td>Technical assignment in our Slack channel - 5 ...</td>\n",
       "      <td>About Triad Behavioral HealthTriad Behavioral ...</td>\n",
       "      <td>AL</td>\n",
       "      <td>2020-08-14</td>\n",
       "      <td>Fri</td>\n",
       "      <td>Huntsville</td>\n",
       "      <td>NaN</td>\n",
       "    </tr>\n",
       "    <tr>\n",
       "      <td>1</td>\n",
       "      <td>Automation Controls Engineer</td>\n",
       "      <td>Tonya Michael</td>\n",
       "      <td>Alabama</td>\n",
       "      <td>Troy, AL</td>\n",
       "      <td>2 days ago</td>\n",
       "      <td>NaN</td>\n",
       "      <td>Proven project management skills required to d...</td>\n",
       "      <td>Controls Engineer  AT3 Staffing is partnered w...</td>\n",
       "      <td>AL</td>\n",
       "      <td>2020-08-14</td>\n",
       "      <td>Fri</td>\n",
       "      <td>Troy</td>\n",
       "      <td>NaN</td>\n",
       "    </tr>\n",
       "    <tr>\n",
       "      <td>2</td>\n",
       "      <td>Junior to Mid-Level Software Developer - GH WST</td>\n",
       "      <td>Dynetics</td>\n",
       "      <td>Alabama</td>\n",
       "      <td>Huntsville, AL</td>\n",
       "      <td>2 days ago</td>\n",
       "      <td>NaN</td>\n",
       "      <td>The team follows Agile software development pr...</td>\n",
       "      <td>Dynetics, a wholly owned subsidiary of Leidos,...</td>\n",
       "      <td>AL</td>\n",
       "      <td>2020-08-14</td>\n",
       "      <td>Fri</td>\n",
       "      <td>Huntsville</td>\n",
       "      <td>NaN</td>\n",
       "    </tr>\n",
       "    <tr>\n",
       "      <td>3</td>\n",
       "      <td>Technical Support Analyst (SQL)</td>\n",
       "      <td>ProctorU</td>\n",
       "      <td>Alabama</td>\n",
       "      <td>Birmingham, AL 35244</td>\n",
       "      <td>2 days ago</td>\n",
       "      <td>NaN</td>\n",
       "      <td>Experience with a scripting language (powershe...</td>\n",
       "      <td>The Company: Headquartered in Birmingham, AL (...</td>\n",
       "      <td>AL</td>\n",
       "      <td>2020-08-14</td>\n",
       "      <td>Fri</td>\n",
       "      <td>Birmingham</td>\n",
       "      <td>NaN</td>\n",
       "    </tr>\n",
       "    <tr>\n",
       "      <td>4</td>\n",
       "      <td>Software Airworthiness Engineer</td>\n",
       "      <td>COLSA</td>\n",
       "      <td>Alabama</td>\n",
       "      <td>Huntsville, AL 35806</td>\n",
       "      <td>2 days ago</td>\n",
       "      <td>NaN</td>\n",
       "      <td>Participate in government and/or developer inf...</td>\n",
       "      <td>General Summary  Located at the US Army AMRDEC...</td>\n",
       "      <td>AL</td>\n",
       "      <td>2020-08-14</td>\n",
       "      <td>Fri</td>\n",
       "      <td>Huntsville</td>\n",
       "      <td>NaN</td>\n",
       "    </tr>\n",
       "    <tr>\n",
       "      <td>...</td>\n",
       "      <td>...</td>\n",
       "      <td>...</td>\n",
       "      <td>...</td>\n",
       "      <td>...</td>\n",
       "      <td>...</td>\n",
       "      <td>...</td>\n",
       "      <td>...</td>\n",
       "      <td>...</td>\n",
       "      <td>...</td>\n",
       "      <td>...</td>\n",
       "      <td>...</td>\n",
       "      <td>...</td>\n",
       "      <td>...</td>\n",
       "    </tr>\n",
       "    <tr>\n",
       "      <td>61094</td>\n",
       "      <td>Python Web Developer</td>\n",
       "      <td>Nfinity LLC</td>\n",
       "      <td>Washington DC</td>\n",
       "      <td>Washington, DC</td>\n",
       "      <td>29 days ago</td>\n",
       "      <td>$120,000 - $140,000 a year</td>\n",
       "      <td>Must possess at least 5 years of web developer...</td>\n",
       "      <td>Senior Web Developer  ********Must be a U.S. C...</td>\n",
       "      <td>DC</td>\n",
       "      <td>2020-06-13</td>\n",
       "      <td>Sat</td>\n",
       "      <td>Washington</td>\n",
       "      <td>29.0</td>\n",
       "    </tr>\n",
       "    <tr>\n",
       "      <td>61095</td>\n",
       "      <td>Senior DevOPs Engineer - AWS - Terraform</td>\n",
       "      <td>CEDENT</td>\n",
       "      <td>Washington DC</td>\n",
       "      <td>Washington, DC</td>\n",
       "      <td>29 days ago</td>\n",
       "      <td>$120,000 - $175,000 a year</td>\n",
       "      <td>Act as enablement expert for software engineer...</td>\n",
       "      <td>Title: Senior DevOPs Engineer - AWS - Terrafor...</td>\n",
       "      <td>DC</td>\n",
       "      <td>2020-06-13</td>\n",
       "      <td>Sat</td>\n",
       "      <td>Washington</td>\n",
       "      <td>29.0</td>\n",
       "    </tr>\n",
       "    <tr>\n",
       "      <td>61096</td>\n",
       "      <td>Software Engineer (SME)</td>\n",
       "      <td>Leidos</td>\n",
       "      <td>Washington DC</td>\n",
       "      <td>Washington, DC 20090 (South West area)</td>\n",
       "      <td>19 days ago</td>\n",
       "      <td>NaN</td>\n",
       "      <td>Perform software systems development, includin...</td>\n",
       "      <td>Description Job Description: Leidos is seeking...</td>\n",
       "      <td>DC</td>\n",
       "      <td>2020-06-23</td>\n",
       "      <td>Tue</td>\n",
       "      <td>Washington</td>\n",
       "      <td>19.0</td>\n",
       "    </tr>\n",
       "    <tr>\n",
       "      <td>61097</td>\n",
       "      <td>Principal Java/J2EE Software Engineer, ICAM/LD...</td>\n",
       "      <td>Northrop Grumman</td>\n",
       "      <td>Washington DC</td>\n",
       "      <td>Fort Belvoir, VA</td>\n",
       "      <td>25 days ago</td>\n",
       "      <td>NaN</td>\n",
       "      <td>Participate in the agile software development ...</td>\n",
       "      <td>Are you interested in expanding your career th...</td>\n",
       "      <td>VA</td>\n",
       "      <td>2020-06-17</td>\n",
       "      <td>Wed</td>\n",
       "      <td>Fort Belvoir</td>\n",
       "      <td>25.0</td>\n",
       "    </tr>\n",
       "    <tr>\n",
       "      <td>61098</td>\n",
       "      <td>Java Developer</td>\n",
       "      <td>SAIC</td>\n",
       "      <td>Washington DC</td>\n",
       "      <td>Columbia, MD 21046</td>\n",
       "      <td>5 days ago</td>\n",
       "      <td>NaN</td>\n",
       "      <td>SAIC is seeking candidates for the Defense Inf...</td>\n",
       "      <td>Description SAIC is seeking candidates for the...</td>\n",
       "      <td>MD</td>\n",
       "      <td>2020-07-07</td>\n",
       "      <td>Tue</td>\n",
       "      <td>Columbia</td>\n",
       "      <td>5.0</td>\n",
       "    </tr>\n",
       "  </tbody>\n",
       "</table>\n",
       "<p>61099 rows × 13 columns</p>\n",
       "</div>"
      ],
      "text/plain": [
       "                                                   Title  \\\n",
       "0                                    Full Stack Engineer   \n",
       "1                           Automation Controls Engineer   \n",
       "2        Junior to Mid-Level Software Developer - GH WST   \n",
       "3                        Technical Support Analyst (SQL)   \n",
       "4                        Software Airworthiness Engineer   \n",
       "...                                                  ...   \n",
       "61094                               Python Web Developer   \n",
       "61095           Senior DevOPs Engineer - AWS - Terraform   \n",
       "61096                            Software Engineer (SME)   \n",
       "61097  Principal Java/J2EE Software Engineer, ICAM/LD...   \n",
       "61098                                     Java Developer   \n",
       "\n",
       "                       Company          State  \\\n",
       "0      Triad Behavioral Health        Alabama   \n",
       "1                Tonya Michael        Alabama   \n",
       "2                     Dynetics        Alabama   \n",
       "3                     ProctorU        Alabama   \n",
       "4                        COLSA        Alabama   \n",
       "...                        ...            ...   \n",
       "61094              Nfinity LLC  Washington DC   \n",
       "61095                   CEDENT  Washington DC   \n",
       "61096                   Leidos  Washington DC   \n",
       "61097         Northrop Grumman  Washington DC   \n",
       "61098                     SAIC  Washington DC   \n",
       "\n",
       "                                     Location         Date  \\\n",
       "0                              Huntsville, AL   2 days ago   \n",
       "1                                    Troy, AL   2 days ago   \n",
       "2                              Huntsville, AL   2 days ago   \n",
       "3                        Birmingham, AL 35244   2 days ago   \n",
       "4                        Huntsville, AL 35806   2 days ago   \n",
       "...                                       ...          ...   \n",
       "61094                          Washington, DC  29 days ago   \n",
       "61095                          Washington, DC  29 days ago   \n",
       "61096  Washington, DC 20090 (South West area)  19 days ago   \n",
       "61097                        Fort Belvoir, VA  25 days ago   \n",
       "61098                      Columbia, MD 21046   5 days ago   \n",
       "\n",
       "                           Salary  \\\n",
       "0                             NaN   \n",
       "1                             NaN   \n",
       "2                             NaN   \n",
       "3                             NaN   \n",
       "4                             NaN   \n",
       "...                           ...   \n",
       "61094  $120,000 - $140,000 a year   \n",
       "61095  $120,000 - $175,000 a year   \n",
       "61096                         NaN   \n",
       "61097                         NaN   \n",
       "61098                         NaN   \n",
       "\n",
       "                                                 Summary  \\\n",
       "0      Technical assignment in our Slack channel - 5 ...   \n",
       "1      Proven project management skills required to d...   \n",
       "2      The team follows Agile software development pr...   \n",
       "3      Experience with a scripting language (powershe...   \n",
       "4      Participate in government and/or developer inf...   \n",
       "...                                                  ...   \n",
       "61094  Must possess at least 5 years of web developer...   \n",
       "61095  Act as enablement expert for software engineer...   \n",
       "61096  Perform software systems development, includin...   \n",
       "61097  Participate in the agile software development ...   \n",
       "61098  SAIC is seeking candidates for the Defense Inf...   \n",
       "\n",
       "                                             Description Code   Post date  \\\n",
       "0      About Triad Behavioral HealthTriad Behavioral ...   AL  2020-08-14   \n",
       "1      Controls Engineer  AT3 Staffing is partnered w...   AL  2020-08-14   \n",
       "2      Dynetics, a wholly owned subsidiary of Leidos,...   AL  2020-08-14   \n",
       "3      The Company: Headquartered in Birmingham, AL (...   AL  2020-08-14   \n",
       "4      General Summary  Located at the US Army AMRDEC...   AL  2020-08-14   \n",
       "...                                                  ...  ...         ...   \n",
       "61094  Senior Web Developer  ********Must be a U.S. C...   DC  2020-06-13   \n",
       "61095  Title: Senior DevOPs Engineer - AWS - Terrafor...   DC  2020-06-13   \n",
       "61096  Description Job Description: Leidos is seeking...   DC  2020-06-23   \n",
       "61097  Are you interested in expanding your career th...   VA  2020-06-17   \n",
       "61098  Description SAIC is seeking candidates for the...   MD  2020-07-07   \n",
       "\n",
       "      Day of week          City  Date in num  \n",
       "0             Fri    Huntsville          NaN  \n",
       "1             Fri          Troy          NaN  \n",
       "2             Fri    Huntsville          NaN  \n",
       "3             Fri    Birmingham          NaN  \n",
       "4             Fri    Huntsville          NaN  \n",
       "...           ...           ...          ...  \n",
       "61094         Sat    Washington         29.0  \n",
       "61095         Sat    Washington         29.0  \n",
       "61096         Tue    Washington         19.0  \n",
       "61097         Wed  Fort Belvoir         25.0  \n",
       "61098         Tue      Columbia          5.0  \n",
       "\n",
       "[61099 rows x 13 columns]"
      ]
     },
     "execution_count": 34,
     "metadata": {},
     "output_type": "execute_result"
    }
   ],
   "source": [
    "df_indeed"
   ]
  },
  {
   "cell_type": "code",
   "execution_count": 4,
   "metadata": {},
   "outputs": [],
   "source": [
    "bydate = df_indeed.groupby('Post date').size()\n",
    "\n",
    "df_date_indeed = pd.DataFrame({'Date': bydate.index, 'Jobnums': bydate.values})"
   ]
  },
  {
   "cell_type": "code",
   "execution_count": 5,
   "metadata": {},
   "outputs": [
    {
     "data": {
      "application/vnd.plotly.v1+json": {
       "config": {
        "plotlyServerURL": "https://plot.ly"
       },
       "data": [
        {
         "mode": "lines+markers",
         "type": "scatter",
         "x": [
          "2020-06-13",
          "2020-06-14",
          "2020-06-15",
          "2020-06-16",
          "2020-06-17",
          "2020-06-18",
          "2020-06-19",
          "2020-06-20",
          "2020-06-21",
          "2020-06-22",
          "2020-06-23",
          "2020-06-24",
          "2020-06-25",
          "2020-06-26",
          "2020-06-27",
          "2020-06-28",
          "2020-06-29",
          "2020-06-30",
          "2020-07-01",
          "2020-07-02",
          "2020-07-03",
          "2020-07-04",
          "2020-07-05",
          "2020-07-06",
          "2020-07-07",
          "2020-07-08",
          "2020-07-09",
          "2020-07-10",
          "2020-07-11",
          "2020-07-12",
          "2020-07-13",
          "2020-07-14",
          "2020-07-15",
          "2020-07-16",
          "2020-07-17",
          "2020-07-18",
          "2020-07-19",
          "2020-07-20",
          "2020-07-21",
          "2020-07-22",
          "2020-07-23",
          "2020-07-24",
          "2020-07-25",
          "2020-07-26",
          "2020-07-27",
          "2020-07-28",
          "2020-07-29",
          "2020-07-30",
          "2020-07-31",
          "2020-08-01",
          "2020-08-02",
          "2020-08-03",
          "2020-08-04",
          "2020-08-05",
          "2020-08-06",
          "2020-08-07",
          "2020-08-08",
          "2020-08-09",
          "2020-08-10",
          "2020-08-11",
          "2020-08-12",
          "2020-08-13",
          "2020-08-14",
          "2020-08-15",
          "2020-08-16"
         ],
         "y": [
          330,
          61,
          227,
          576,
          645,
          680,
          686,
          334,
          39,
          302,
          815,
          726,
          719,
          805,
          433,
          55,
          326,
          964,
          1865,
          863,
          619,
          176,
          85,
          786,
          1740,
          1747,
          1794,
          1943,
          1167,
          205,
          606,
          804,
          820,
          793,
          721,
          499,
          178,
          1057,
          1730,
          1669,
          1737,
          1732,
          632,
          130,
          1275,
          2116,
          2184,
          2626,
          2683,
          1051,
          222,
          697,
          1047,
          1072,
          1049,
          1189,
          374,
          133,
          1094,
          1362,
          1484,
          1503,
          1429,
          622,
          1066
         ]
        }
       ],
       "layout": {
        "template": {
         "data": {
          "bar": [
           {
            "error_x": {
             "color": "#2a3f5f"
            },
            "error_y": {
             "color": "#2a3f5f"
            },
            "marker": {
             "line": {
              "color": "#E5ECF6",
              "width": 0.5
             }
            },
            "type": "bar"
           }
          ],
          "barpolar": [
           {
            "marker": {
             "line": {
              "color": "#E5ECF6",
              "width": 0.5
             }
            },
            "type": "barpolar"
           }
          ],
          "carpet": [
           {
            "aaxis": {
             "endlinecolor": "#2a3f5f",
             "gridcolor": "white",
             "linecolor": "white",
             "minorgridcolor": "white",
             "startlinecolor": "#2a3f5f"
            },
            "baxis": {
             "endlinecolor": "#2a3f5f",
             "gridcolor": "white",
             "linecolor": "white",
             "minorgridcolor": "white",
             "startlinecolor": "#2a3f5f"
            },
            "type": "carpet"
           }
          ],
          "choropleth": [
           {
            "colorbar": {
             "outlinewidth": 0,
             "ticks": ""
            },
            "type": "choropleth"
           }
          ],
          "contour": [
           {
            "colorbar": {
             "outlinewidth": 0,
             "ticks": ""
            },
            "colorscale": [
             [
              0,
              "#0d0887"
             ],
             [
              0.1111111111111111,
              "#46039f"
             ],
             [
              0.2222222222222222,
              "#7201a8"
             ],
             [
              0.3333333333333333,
              "#9c179e"
             ],
             [
              0.4444444444444444,
              "#bd3786"
             ],
             [
              0.5555555555555556,
              "#d8576b"
             ],
             [
              0.6666666666666666,
              "#ed7953"
             ],
             [
              0.7777777777777778,
              "#fb9f3a"
             ],
             [
              0.8888888888888888,
              "#fdca26"
             ],
             [
              1,
              "#f0f921"
             ]
            ],
            "type": "contour"
           }
          ],
          "contourcarpet": [
           {
            "colorbar": {
             "outlinewidth": 0,
             "ticks": ""
            },
            "type": "contourcarpet"
           }
          ],
          "heatmap": [
           {
            "colorbar": {
             "outlinewidth": 0,
             "ticks": ""
            },
            "colorscale": [
             [
              0,
              "#0d0887"
             ],
             [
              0.1111111111111111,
              "#46039f"
             ],
             [
              0.2222222222222222,
              "#7201a8"
             ],
             [
              0.3333333333333333,
              "#9c179e"
             ],
             [
              0.4444444444444444,
              "#bd3786"
             ],
             [
              0.5555555555555556,
              "#d8576b"
             ],
             [
              0.6666666666666666,
              "#ed7953"
             ],
             [
              0.7777777777777778,
              "#fb9f3a"
             ],
             [
              0.8888888888888888,
              "#fdca26"
             ],
             [
              1,
              "#f0f921"
             ]
            ],
            "type": "heatmap"
           }
          ],
          "heatmapgl": [
           {
            "colorbar": {
             "outlinewidth": 0,
             "ticks": ""
            },
            "colorscale": [
             [
              0,
              "#0d0887"
             ],
             [
              0.1111111111111111,
              "#46039f"
             ],
             [
              0.2222222222222222,
              "#7201a8"
             ],
             [
              0.3333333333333333,
              "#9c179e"
             ],
             [
              0.4444444444444444,
              "#bd3786"
             ],
             [
              0.5555555555555556,
              "#d8576b"
             ],
             [
              0.6666666666666666,
              "#ed7953"
             ],
             [
              0.7777777777777778,
              "#fb9f3a"
             ],
             [
              0.8888888888888888,
              "#fdca26"
             ],
             [
              1,
              "#f0f921"
             ]
            ],
            "type": "heatmapgl"
           }
          ],
          "histogram": [
           {
            "marker": {
             "colorbar": {
              "outlinewidth": 0,
              "ticks": ""
             }
            },
            "type": "histogram"
           }
          ],
          "histogram2d": [
           {
            "colorbar": {
             "outlinewidth": 0,
             "ticks": ""
            },
            "colorscale": [
             [
              0,
              "#0d0887"
             ],
             [
              0.1111111111111111,
              "#46039f"
             ],
             [
              0.2222222222222222,
              "#7201a8"
             ],
             [
              0.3333333333333333,
              "#9c179e"
             ],
             [
              0.4444444444444444,
              "#bd3786"
             ],
             [
              0.5555555555555556,
              "#d8576b"
             ],
             [
              0.6666666666666666,
              "#ed7953"
             ],
             [
              0.7777777777777778,
              "#fb9f3a"
             ],
             [
              0.8888888888888888,
              "#fdca26"
             ],
             [
              1,
              "#f0f921"
             ]
            ],
            "type": "histogram2d"
           }
          ],
          "histogram2dcontour": [
           {
            "colorbar": {
             "outlinewidth": 0,
             "ticks": ""
            },
            "colorscale": [
             [
              0,
              "#0d0887"
             ],
             [
              0.1111111111111111,
              "#46039f"
             ],
             [
              0.2222222222222222,
              "#7201a8"
             ],
             [
              0.3333333333333333,
              "#9c179e"
             ],
             [
              0.4444444444444444,
              "#bd3786"
             ],
             [
              0.5555555555555556,
              "#d8576b"
             ],
             [
              0.6666666666666666,
              "#ed7953"
             ],
             [
              0.7777777777777778,
              "#fb9f3a"
             ],
             [
              0.8888888888888888,
              "#fdca26"
             ],
             [
              1,
              "#f0f921"
             ]
            ],
            "type": "histogram2dcontour"
           }
          ],
          "mesh3d": [
           {
            "colorbar": {
             "outlinewidth": 0,
             "ticks": ""
            },
            "type": "mesh3d"
           }
          ],
          "parcoords": [
           {
            "line": {
             "colorbar": {
              "outlinewidth": 0,
              "ticks": ""
             }
            },
            "type": "parcoords"
           }
          ],
          "pie": [
           {
            "automargin": true,
            "type": "pie"
           }
          ],
          "scatter": [
           {
            "marker": {
             "colorbar": {
              "outlinewidth": 0,
              "ticks": ""
             }
            },
            "type": "scatter"
           }
          ],
          "scatter3d": [
           {
            "line": {
             "colorbar": {
              "outlinewidth": 0,
              "ticks": ""
             }
            },
            "marker": {
             "colorbar": {
              "outlinewidth": 0,
              "ticks": ""
             }
            },
            "type": "scatter3d"
           }
          ],
          "scattercarpet": [
           {
            "marker": {
             "colorbar": {
              "outlinewidth": 0,
              "ticks": ""
             }
            },
            "type": "scattercarpet"
           }
          ],
          "scattergeo": [
           {
            "marker": {
             "colorbar": {
              "outlinewidth": 0,
              "ticks": ""
             }
            },
            "type": "scattergeo"
           }
          ],
          "scattergl": [
           {
            "marker": {
             "colorbar": {
              "outlinewidth": 0,
              "ticks": ""
             }
            },
            "type": "scattergl"
           }
          ],
          "scattermapbox": [
           {
            "marker": {
             "colorbar": {
              "outlinewidth": 0,
              "ticks": ""
             }
            },
            "type": "scattermapbox"
           }
          ],
          "scatterpolar": [
           {
            "marker": {
             "colorbar": {
              "outlinewidth": 0,
              "ticks": ""
             }
            },
            "type": "scatterpolar"
           }
          ],
          "scatterpolargl": [
           {
            "marker": {
             "colorbar": {
              "outlinewidth": 0,
              "ticks": ""
             }
            },
            "type": "scatterpolargl"
           }
          ],
          "scatterternary": [
           {
            "marker": {
             "colorbar": {
              "outlinewidth": 0,
              "ticks": ""
             }
            },
            "type": "scatterternary"
           }
          ],
          "surface": [
           {
            "colorbar": {
             "outlinewidth": 0,
             "ticks": ""
            },
            "colorscale": [
             [
              0,
              "#0d0887"
             ],
             [
              0.1111111111111111,
              "#46039f"
             ],
             [
              0.2222222222222222,
              "#7201a8"
             ],
             [
              0.3333333333333333,
              "#9c179e"
             ],
             [
              0.4444444444444444,
              "#bd3786"
             ],
             [
              0.5555555555555556,
              "#d8576b"
             ],
             [
              0.6666666666666666,
              "#ed7953"
             ],
             [
              0.7777777777777778,
              "#fb9f3a"
             ],
             [
              0.8888888888888888,
              "#fdca26"
             ],
             [
              1,
              "#f0f921"
             ]
            ],
            "type": "surface"
           }
          ],
          "table": [
           {
            "cells": {
             "fill": {
              "color": "#EBF0F8"
             },
             "line": {
              "color": "white"
             }
            },
            "header": {
             "fill": {
              "color": "#C8D4E3"
             },
             "line": {
              "color": "white"
             }
            },
            "type": "table"
           }
          ]
         },
         "layout": {
          "annotationdefaults": {
           "arrowcolor": "#2a3f5f",
           "arrowhead": 0,
           "arrowwidth": 1
          },
          "coloraxis": {
           "colorbar": {
            "outlinewidth": 0,
            "ticks": ""
           }
          },
          "colorscale": {
           "diverging": [
            [
             0,
             "#8e0152"
            ],
            [
             0.1,
             "#c51b7d"
            ],
            [
             0.2,
             "#de77ae"
            ],
            [
             0.3,
             "#f1b6da"
            ],
            [
             0.4,
             "#fde0ef"
            ],
            [
             0.5,
             "#f7f7f7"
            ],
            [
             0.6,
             "#e6f5d0"
            ],
            [
             0.7,
             "#b8e186"
            ],
            [
             0.8,
             "#7fbc41"
            ],
            [
             0.9,
             "#4d9221"
            ],
            [
             1,
             "#276419"
            ]
           ],
           "sequential": [
            [
             0,
             "#0d0887"
            ],
            [
             0.1111111111111111,
             "#46039f"
            ],
            [
             0.2222222222222222,
             "#7201a8"
            ],
            [
             0.3333333333333333,
             "#9c179e"
            ],
            [
             0.4444444444444444,
             "#bd3786"
            ],
            [
             0.5555555555555556,
             "#d8576b"
            ],
            [
             0.6666666666666666,
             "#ed7953"
            ],
            [
             0.7777777777777778,
             "#fb9f3a"
            ],
            [
             0.8888888888888888,
             "#fdca26"
            ],
            [
             1,
             "#f0f921"
            ]
           ],
           "sequentialminus": [
            [
             0,
             "#0d0887"
            ],
            [
             0.1111111111111111,
             "#46039f"
            ],
            [
             0.2222222222222222,
             "#7201a8"
            ],
            [
             0.3333333333333333,
             "#9c179e"
            ],
            [
             0.4444444444444444,
             "#bd3786"
            ],
            [
             0.5555555555555556,
             "#d8576b"
            ],
            [
             0.6666666666666666,
             "#ed7953"
            ],
            [
             0.7777777777777778,
             "#fb9f3a"
            ],
            [
             0.8888888888888888,
             "#fdca26"
            ],
            [
             1,
             "#f0f921"
            ]
           ]
          },
          "colorway": [
           "#636efa",
           "#EF553B",
           "#00cc96",
           "#ab63fa",
           "#FFA15A",
           "#19d3f3",
           "#FF6692",
           "#B6E880",
           "#FF97FF",
           "#FECB52"
          ],
          "font": {
           "color": "#2a3f5f"
          },
          "geo": {
           "bgcolor": "white",
           "lakecolor": "white",
           "landcolor": "#E5ECF6",
           "showlakes": true,
           "showland": true,
           "subunitcolor": "white"
          },
          "hoverlabel": {
           "align": "left"
          },
          "hovermode": "closest",
          "mapbox": {
           "style": "light"
          },
          "paper_bgcolor": "white",
          "plot_bgcolor": "#E5ECF6",
          "polar": {
           "angularaxis": {
            "gridcolor": "white",
            "linecolor": "white",
            "ticks": ""
           },
           "bgcolor": "#E5ECF6",
           "radialaxis": {
            "gridcolor": "white",
            "linecolor": "white",
            "ticks": ""
           }
          },
          "scene": {
           "xaxis": {
            "backgroundcolor": "#E5ECF6",
            "gridcolor": "white",
            "gridwidth": 2,
            "linecolor": "white",
            "showbackground": true,
            "ticks": "",
            "zerolinecolor": "white"
           },
           "yaxis": {
            "backgroundcolor": "#E5ECF6",
            "gridcolor": "white",
            "gridwidth": 2,
            "linecolor": "white",
            "showbackground": true,
            "ticks": "",
            "zerolinecolor": "white"
           },
           "zaxis": {
            "backgroundcolor": "#E5ECF6",
            "gridcolor": "white",
            "gridwidth": 2,
            "linecolor": "white",
            "showbackground": true,
            "ticks": "",
            "zerolinecolor": "white"
           }
          },
          "shapedefaults": {
           "line": {
            "color": "#2a3f5f"
           }
          },
          "ternary": {
           "aaxis": {
            "gridcolor": "white",
            "linecolor": "white",
            "ticks": ""
           },
           "baxis": {
            "gridcolor": "white",
            "linecolor": "white",
            "ticks": ""
           },
           "bgcolor": "#E5ECF6",
           "caxis": {
            "gridcolor": "white",
            "linecolor": "white",
            "ticks": ""
           }
          },
          "title": {
           "x": 0.05
          },
          "xaxis": {
           "automargin": true,
           "gridcolor": "white",
           "linecolor": "white",
           "ticks": "",
           "title": {
            "standoff": 15
           },
           "zerolinecolor": "white",
           "zerolinewidth": 2
          },
          "yaxis": {
           "automargin": true,
           "gridcolor": "white",
           "linecolor": "white",
           "ticks": "",
           "title": {
            "standoff": 15
           },
           "zerolinecolor": "white",
           "zerolinewidth": 2
          }
         }
        },
        "title": {
         "text": "Data scientist open positions vs. post date"
        }
       }
      },
      "text/html": [
       "<div>\n",
       "        \n",
       "        \n",
       "            <div id=\"2615fb2d-b1b2-4a60-9a38-e45cdc3fe391\" class=\"plotly-graph-div\" style=\"height:525px; width:100%;\"></div>\n",
       "            <script type=\"text/javascript\">\n",
       "                require([\"plotly\"], function(Plotly) {\n",
       "                    window.PLOTLYENV=window.PLOTLYENV || {};\n",
       "                    \n",
       "                if (document.getElementById(\"2615fb2d-b1b2-4a60-9a38-e45cdc3fe391\")) {\n",
       "                    Plotly.newPlot(\n",
       "                        '2615fb2d-b1b2-4a60-9a38-e45cdc3fe391',\n",
       "                        [{\"mode\": \"lines+markers\", \"type\": \"scatter\", \"x\": [\"2020-06-13\", \"2020-06-14\", \"2020-06-15\", \"2020-06-16\", \"2020-06-17\", \"2020-06-18\", \"2020-06-19\", \"2020-06-20\", \"2020-06-21\", \"2020-06-22\", \"2020-06-23\", \"2020-06-24\", \"2020-06-25\", \"2020-06-26\", \"2020-06-27\", \"2020-06-28\", \"2020-06-29\", \"2020-06-30\", \"2020-07-01\", \"2020-07-02\", \"2020-07-03\", \"2020-07-04\", \"2020-07-05\", \"2020-07-06\", \"2020-07-07\", \"2020-07-08\", \"2020-07-09\", \"2020-07-10\", \"2020-07-11\", \"2020-07-12\", \"2020-07-13\", \"2020-07-14\", \"2020-07-15\", \"2020-07-16\", \"2020-07-17\", \"2020-07-18\", \"2020-07-19\", \"2020-07-20\", \"2020-07-21\", \"2020-07-22\", \"2020-07-23\", \"2020-07-24\", \"2020-07-25\", \"2020-07-26\", \"2020-07-27\", \"2020-07-28\", \"2020-07-29\", \"2020-07-30\", \"2020-07-31\", \"2020-08-01\", \"2020-08-02\", \"2020-08-03\", \"2020-08-04\", \"2020-08-05\", \"2020-08-06\", \"2020-08-07\", \"2020-08-08\", \"2020-08-09\", \"2020-08-10\", \"2020-08-11\", \"2020-08-12\", \"2020-08-13\", \"2020-08-14\", \"2020-08-15\", \"2020-08-16\"], \"y\": [330, 61, 227, 576, 645, 680, 686, 334, 39, 302, 815, 726, 719, 805, 433, 55, 326, 964, 1865, 863, 619, 176, 85, 786, 1740, 1747, 1794, 1943, 1167, 205, 606, 804, 820, 793, 721, 499, 178, 1057, 1730, 1669, 1737, 1732, 632, 130, 1275, 2116, 2184, 2626, 2683, 1051, 222, 697, 1047, 1072, 1049, 1189, 374, 133, 1094, 1362, 1484, 1503, 1429, 622, 1066]}],\n",
       "                        {\"template\": {\"data\": {\"bar\": [{\"error_x\": {\"color\": \"#2a3f5f\"}, \"error_y\": {\"color\": \"#2a3f5f\"}, \"marker\": {\"line\": {\"color\": \"#E5ECF6\", \"width\": 0.5}}, \"type\": \"bar\"}], \"barpolar\": [{\"marker\": {\"line\": {\"color\": \"#E5ECF6\", \"width\": 0.5}}, \"type\": \"barpolar\"}], \"carpet\": [{\"aaxis\": {\"endlinecolor\": \"#2a3f5f\", \"gridcolor\": \"white\", \"linecolor\": \"white\", \"minorgridcolor\": \"white\", \"startlinecolor\": \"#2a3f5f\"}, \"baxis\": {\"endlinecolor\": \"#2a3f5f\", \"gridcolor\": \"white\", \"linecolor\": \"white\", \"minorgridcolor\": \"white\", \"startlinecolor\": \"#2a3f5f\"}, \"type\": \"carpet\"}], \"choropleth\": [{\"colorbar\": {\"outlinewidth\": 0, \"ticks\": \"\"}, \"type\": \"choropleth\"}], \"contour\": [{\"colorbar\": {\"outlinewidth\": 0, \"ticks\": \"\"}, \"colorscale\": [[0.0, \"#0d0887\"], [0.1111111111111111, \"#46039f\"], [0.2222222222222222, \"#7201a8\"], [0.3333333333333333, \"#9c179e\"], [0.4444444444444444, \"#bd3786\"], [0.5555555555555556, \"#d8576b\"], [0.6666666666666666, \"#ed7953\"], [0.7777777777777778, \"#fb9f3a\"], [0.8888888888888888, \"#fdca26\"], [1.0, \"#f0f921\"]], \"type\": \"contour\"}], \"contourcarpet\": [{\"colorbar\": {\"outlinewidth\": 0, \"ticks\": \"\"}, \"type\": \"contourcarpet\"}], \"heatmap\": [{\"colorbar\": {\"outlinewidth\": 0, \"ticks\": \"\"}, \"colorscale\": [[0.0, \"#0d0887\"], [0.1111111111111111, \"#46039f\"], [0.2222222222222222, \"#7201a8\"], [0.3333333333333333, \"#9c179e\"], [0.4444444444444444, \"#bd3786\"], [0.5555555555555556, \"#d8576b\"], [0.6666666666666666, \"#ed7953\"], [0.7777777777777778, \"#fb9f3a\"], [0.8888888888888888, \"#fdca26\"], [1.0, \"#f0f921\"]], \"type\": \"heatmap\"}], \"heatmapgl\": [{\"colorbar\": {\"outlinewidth\": 0, \"ticks\": \"\"}, \"colorscale\": [[0.0, \"#0d0887\"], [0.1111111111111111, \"#46039f\"], [0.2222222222222222, \"#7201a8\"], [0.3333333333333333, \"#9c179e\"], [0.4444444444444444, \"#bd3786\"], [0.5555555555555556, \"#d8576b\"], [0.6666666666666666, \"#ed7953\"], [0.7777777777777778, \"#fb9f3a\"], [0.8888888888888888, \"#fdca26\"], [1.0, \"#f0f921\"]], \"type\": \"heatmapgl\"}], \"histogram\": [{\"marker\": {\"colorbar\": {\"outlinewidth\": 0, \"ticks\": \"\"}}, \"type\": \"histogram\"}], \"histogram2d\": [{\"colorbar\": {\"outlinewidth\": 0, \"ticks\": \"\"}, \"colorscale\": [[0.0, \"#0d0887\"], [0.1111111111111111, \"#46039f\"], [0.2222222222222222, \"#7201a8\"], [0.3333333333333333, \"#9c179e\"], [0.4444444444444444, \"#bd3786\"], [0.5555555555555556, \"#d8576b\"], [0.6666666666666666, \"#ed7953\"], [0.7777777777777778, \"#fb9f3a\"], [0.8888888888888888, \"#fdca26\"], [1.0, \"#f0f921\"]], \"type\": \"histogram2d\"}], \"histogram2dcontour\": [{\"colorbar\": {\"outlinewidth\": 0, \"ticks\": \"\"}, \"colorscale\": [[0.0, \"#0d0887\"], [0.1111111111111111, \"#46039f\"], [0.2222222222222222, \"#7201a8\"], [0.3333333333333333, \"#9c179e\"], [0.4444444444444444, \"#bd3786\"], [0.5555555555555556, \"#d8576b\"], [0.6666666666666666, \"#ed7953\"], [0.7777777777777778, \"#fb9f3a\"], [0.8888888888888888, \"#fdca26\"], [1.0, \"#f0f921\"]], \"type\": \"histogram2dcontour\"}], \"mesh3d\": [{\"colorbar\": {\"outlinewidth\": 0, \"ticks\": \"\"}, \"type\": \"mesh3d\"}], \"parcoords\": [{\"line\": {\"colorbar\": {\"outlinewidth\": 0, \"ticks\": \"\"}}, \"type\": \"parcoords\"}], \"pie\": [{\"automargin\": true, \"type\": \"pie\"}], \"scatter\": [{\"marker\": {\"colorbar\": {\"outlinewidth\": 0, \"ticks\": \"\"}}, \"type\": \"scatter\"}], \"scatter3d\": [{\"line\": {\"colorbar\": {\"outlinewidth\": 0, \"ticks\": \"\"}}, \"marker\": {\"colorbar\": {\"outlinewidth\": 0, \"ticks\": \"\"}}, \"type\": \"scatter3d\"}], \"scattercarpet\": [{\"marker\": {\"colorbar\": {\"outlinewidth\": 0, \"ticks\": \"\"}}, \"type\": \"scattercarpet\"}], \"scattergeo\": [{\"marker\": {\"colorbar\": {\"outlinewidth\": 0, \"ticks\": \"\"}}, \"type\": \"scattergeo\"}], \"scattergl\": [{\"marker\": {\"colorbar\": {\"outlinewidth\": 0, \"ticks\": \"\"}}, \"type\": \"scattergl\"}], \"scattermapbox\": [{\"marker\": {\"colorbar\": {\"outlinewidth\": 0, \"ticks\": \"\"}}, \"type\": \"scattermapbox\"}], \"scatterpolar\": [{\"marker\": {\"colorbar\": {\"outlinewidth\": 0, \"ticks\": \"\"}}, \"type\": \"scatterpolar\"}], \"scatterpolargl\": [{\"marker\": {\"colorbar\": {\"outlinewidth\": 0, \"ticks\": \"\"}}, \"type\": \"scatterpolargl\"}], \"scatterternary\": [{\"marker\": {\"colorbar\": {\"outlinewidth\": 0, \"ticks\": \"\"}}, \"type\": \"scatterternary\"}], \"surface\": [{\"colorbar\": {\"outlinewidth\": 0, \"ticks\": \"\"}, \"colorscale\": [[0.0, \"#0d0887\"], [0.1111111111111111, \"#46039f\"], [0.2222222222222222, \"#7201a8\"], [0.3333333333333333, \"#9c179e\"], [0.4444444444444444, \"#bd3786\"], [0.5555555555555556, \"#d8576b\"], [0.6666666666666666, \"#ed7953\"], [0.7777777777777778, \"#fb9f3a\"], [0.8888888888888888, \"#fdca26\"], [1.0, \"#f0f921\"]], \"type\": \"surface\"}], \"table\": [{\"cells\": {\"fill\": {\"color\": \"#EBF0F8\"}, \"line\": {\"color\": \"white\"}}, \"header\": {\"fill\": {\"color\": \"#C8D4E3\"}, \"line\": {\"color\": \"white\"}}, \"type\": \"table\"}]}, \"layout\": {\"annotationdefaults\": {\"arrowcolor\": \"#2a3f5f\", \"arrowhead\": 0, \"arrowwidth\": 1}, \"coloraxis\": {\"colorbar\": {\"outlinewidth\": 0, \"ticks\": \"\"}}, \"colorscale\": {\"diverging\": [[0, \"#8e0152\"], [0.1, \"#c51b7d\"], [0.2, \"#de77ae\"], [0.3, \"#f1b6da\"], [0.4, \"#fde0ef\"], [0.5, \"#f7f7f7\"], [0.6, \"#e6f5d0\"], [0.7, \"#b8e186\"], [0.8, \"#7fbc41\"], [0.9, \"#4d9221\"], [1, \"#276419\"]], \"sequential\": [[0.0, \"#0d0887\"], [0.1111111111111111, \"#46039f\"], [0.2222222222222222, \"#7201a8\"], [0.3333333333333333, \"#9c179e\"], [0.4444444444444444, \"#bd3786\"], [0.5555555555555556, \"#d8576b\"], [0.6666666666666666, \"#ed7953\"], [0.7777777777777778, \"#fb9f3a\"], [0.8888888888888888, \"#fdca26\"], [1.0, \"#f0f921\"]], \"sequentialminus\": [[0.0, \"#0d0887\"], [0.1111111111111111, \"#46039f\"], [0.2222222222222222, \"#7201a8\"], [0.3333333333333333, \"#9c179e\"], [0.4444444444444444, \"#bd3786\"], [0.5555555555555556, \"#d8576b\"], [0.6666666666666666, \"#ed7953\"], [0.7777777777777778, \"#fb9f3a\"], [0.8888888888888888, \"#fdca26\"], [1.0, \"#f0f921\"]]}, \"colorway\": [\"#636efa\", \"#EF553B\", \"#00cc96\", \"#ab63fa\", \"#FFA15A\", \"#19d3f3\", \"#FF6692\", \"#B6E880\", \"#FF97FF\", \"#FECB52\"], \"font\": {\"color\": \"#2a3f5f\"}, \"geo\": {\"bgcolor\": \"white\", \"lakecolor\": \"white\", \"landcolor\": \"#E5ECF6\", \"showlakes\": true, \"showland\": true, \"subunitcolor\": \"white\"}, \"hoverlabel\": {\"align\": \"left\"}, \"hovermode\": \"closest\", \"mapbox\": {\"style\": \"light\"}, \"paper_bgcolor\": \"white\", \"plot_bgcolor\": \"#E5ECF6\", \"polar\": {\"angularaxis\": {\"gridcolor\": \"white\", \"linecolor\": \"white\", \"ticks\": \"\"}, \"bgcolor\": \"#E5ECF6\", \"radialaxis\": {\"gridcolor\": \"white\", \"linecolor\": \"white\", \"ticks\": \"\"}}, \"scene\": {\"xaxis\": {\"backgroundcolor\": \"#E5ECF6\", \"gridcolor\": \"white\", \"gridwidth\": 2, \"linecolor\": \"white\", \"showbackground\": true, \"ticks\": \"\", \"zerolinecolor\": \"white\"}, \"yaxis\": {\"backgroundcolor\": \"#E5ECF6\", \"gridcolor\": \"white\", \"gridwidth\": 2, \"linecolor\": \"white\", \"showbackground\": true, \"ticks\": \"\", \"zerolinecolor\": \"white\"}, \"zaxis\": {\"backgroundcolor\": \"#E5ECF6\", \"gridcolor\": \"white\", \"gridwidth\": 2, \"linecolor\": \"white\", \"showbackground\": true, \"ticks\": \"\", \"zerolinecolor\": \"white\"}}, \"shapedefaults\": {\"line\": {\"color\": \"#2a3f5f\"}}, \"ternary\": {\"aaxis\": {\"gridcolor\": \"white\", \"linecolor\": \"white\", \"ticks\": \"\"}, \"baxis\": {\"gridcolor\": \"white\", \"linecolor\": \"white\", \"ticks\": \"\"}, \"bgcolor\": \"#E5ECF6\", \"caxis\": {\"gridcolor\": \"white\", \"linecolor\": \"white\", \"ticks\": \"\"}}, \"title\": {\"x\": 0.05}, \"xaxis\": {\"automargin\": true, \"gridcolor\": \"white\", \"linecolor\": \"white\", \"ticks\": \"\", \"title\": {\"standoff\": 15}, \"zerolinecolor\": \"white\", \"zerolinewidth\": 2}, \"yaxis\": {\"automargin\": true, \"gridcolor\": \"white\", \"linecolor\": \"white\", \"ticks\": \"\", \"title\": {\"standoff\": 15}, \"zerolinecolor\": \"white\", \"zerolinewidth\": 2}}}, \"title\": {\"text\": \"Data scientist open positions vs. post date\"}},\n",
       "                        {\"responsive\": true}\n",
       "                    ).then(function(){\n",
       "                            \n",
       "var gd = document.getElementById('2615fb2d-b1b2-4a60-9a38-e45cdc3fe391');\n",
       "var x = new MutationObserver(function (mutations, observer) {{\n",
       "        var display = window.getComputedStyle(gd).display;\n",
       "        if (!display || display === 'none') {{\n",
       "            console.log([gd, 'removed!']);\n",
       "            Plotly.purge(gd);\n",
       "            observer.disconnect();\n",
       "        }}\n",
       "}});\n",
       "\n",
       "// Listen for the removal of the full notebook cells\n",
       "var notebookContainer = gd.closest('#notebook-container');\n",
       "if (notebookContainer) {{\n",
       "    x.observe(notebookContainer, {childList: true});\n",
       "}}\n",
       "\n",
       "// Listen for the clearing of the current output cell\n",
       "var outputEl = gd.closest('.output');\n",
       "if (outputEl) {{\n",
       "    x.observe(outputEl, {childList: true});\n",
       "}}\n",
       "\n",
       "                        })\n",
       "                };\n",
       "                });\n",
       "            </script>\n",
       "        </div>"
      ]
     },
     "metadata": {},
     "output_type": "display_data"
    }
   ],
   "source": [
    "fig = go.Figure()\n",
    "\n",
    "fig.add_trace(go.Scatter(x=df_date_indeed['Date'], y=df_date_indeed['Jobnums'], mode='lines+markers'))\n",
    "\n",
    "fig.update_layout(title='Data scientist open positions vs. post date')\n",
    "fig.show()"
   ]
  },
  {
   "cell_type": "code",
   "execution_count": 6,
   "metadata": {},
   "outputs": [],
   "source": [
    "df_date_indeed['Date'] = pd.to_datetime(df_date_indeed['Date'])\n",
    "df_date_indeed.set_index('Date', drop=False, inplace=True)"
   ]
  },
  {
   "cell_type": "code",
   "execution_count": 7,
   "metadata": {},
   "outputs": [],
   "source": [
    "week = {0: 'Mon', 1: 'Tue', 2: 'Wed', 3: 'Thu', 4: 'Fri', 5: 'Sat', 6: 'Sun'}\n",
    "df_date_indeed['Day of week'] = df_date_indeed['Date'].apply(lambda x: week[x.weekday()])"
   ]
  },
  {
   "cell_type": "code",
   "execution_count": 8,
   "metadata": {},
   "outputs": [],
   "source": [
    "df_date_indeed['Weekend'] = df_date_indeed['Day of week'].apply(lambda x: 1 if (x == 'Sun') or (x == 'Sat') else 0)"
   ]
  },
  {
   "cell_type": "code",
   "execution_count": 9,
   "metadata": {},
   "outputs": [
    {
     "name": "stdout",
     "output_type": "stream",
     "text": [
      "<class 'pandas.core.frame.DataFrame'>\n",
      "DatetimeIndex: 65 entries, 2020-06-13 to 2020-08-16\n",
      "Data columns (total 4 columns):\n",
      "Date           65 non-null datetime64[ns]\n",
      "Jobnums        65 non-null int64\n",
      "Day of week    65 non-null object\n",
      "Weekend        65 non-null int64\n",
      "dtypes: datetime64[ns](1), int64(2), object(1)\n",
      "memory usage: 2.5+ KB\n"
     ]
    }
   ],
   "source": [
    "df_date_indeed.info()"
   ]
  },
  {
   "cell_type": "code",
   "execution_count": 10,
   "metadata": {},
   "outputs": [
    {
     "data": {
      "text/plain": [
       "Text(0.5, 0, ' ')"
      ]
     },
     "execution_count": 10,
     "metadata": {},
     "output_type": "execute_result"
    },
    {
     "data": {
      "image/png": "[encoded data removed]",
      "text/plain": [
       "<Figure size 576x288 with 1 Axes>"
      ]
     },
     "metadata": {
      "needs_background": "light"
     },
     "output_type": "display_data"
    }
   ],
   "source": [
    "by_weekday = df_date_indeed.groupby('Day of week').sum()\n",
    "by_weekday.reset_index(inplace=True)\n",
    "by_weekday\n",
    "\n",
    "plt.figure(figsize=(8,4))\n",
    "sns.barplot(x='Day of week', y='Jobnums', data=by_weekday)\n",
    "plt.xticks(horizontalalignment='right', fontweight='light', fontsize='large')\n",
    "plt.yticks(fontsize='large')\n",
    "plt.ylabel('Job numbers', fontsize='x-large')\n",
    "plt.xlabel(' ')"
   ]
  },
  {
   "cell_type": "markdown",
   "metadata": {},
   "source": [
    "## Load Covid-19 Data"
   ]
  },
  {
   "cell_type": "code",
   "execution_count": 11,
   "metadata": {},
   "outputs": [
    {
     "data": {
      "text/html": [
       "<div>\n",
       "<style scoped>\n",
       "    .dataframe tbody tr th:only-of-type {\n",
       "        vertical-align: middle;\n",
       "    }\n",
       "\n",
       "    .dataframe tbody tr th {\n",
       "        vertical-align: top;\n",
       "    }\n",
       "\n",
       "    .dataframe thead th {\n",
       "        text-align: right;\n",
       "    }\n",
       "</style>\n",
       "<table border=\"1\" class=\"dataframe\">\n",
       "  <thead>\n",
       "    <tr style=\"text-align: right;\">\n",
       "      <th></th>\n",
       "      <th>Date</th>\n",
       "      <th>Confirmed</th>\n",
       "      <th>Deaths</th>\n",
       "      <th>Recovered</th>\n",
       "      <th>Active</th>\n",
       "      <th>New</th>\n",
       "      <th>Fatality</th>\n",
       "    </tr>\n",
       "  </thead>\n",
       "  <tbody>\n",
       "    <tr>\n",
       "      <td>0</td>\n",
       "      <td>2020-01-22</td>\n",
       "      <td>1</td>\n",
       "      <td>0</td>\n",
       "      <td>0</td>\n",
       "      <td>1</td>\n",
       "      <td>0</td>\n",
       "      <td>0.0</td>\n",
       "    </tr>\n",
       "    <tr>\n",
       "      <td>1</td>\n",
       "      <td>2020-01-23</td>\n",
       "      <td>1</td>\n",
       "      <td>0</td>\n",
       "      <td>0</td>\n",
       "      <td>1</td>\n",
       "      <td>0</td>\n",
       "      <td>0.0</td>\n",
       "    </tr>\n",
       "    <tr>\n",
       "      <td>2</td>\n",
       "      <td>2020-01-24</td>\n",
       "      <td>2</td>\n",
       "      <td>0</td>\n",
       "      <td>0</td>\n",
       "      <td>2</td>\n",
       "      <td>1</td>\n",
       "      <td>0.0</td>\n",
       "    </tr>\n",
       "    <tr>\n",
       "      <td>3</td>\n",
       "      <td>2020-01-25</td>\n",
       "      <td>2</td>\n",
       "      <td>0</td>\n",
       "      <td>0</td>\n",
       "      <td>2</td>\n",
       "      <td>0</td>\n",
       "      <td>0.0</td>\n",
       "    </tr>\n",
       "    <tr>\n",
       "      <td>4</td>\n",
       "      <td>2020-01-26</td>\n",
       "      <td>5</td>\n",
       "      <td>0</td>\n",
       "      <td>0</td>\n",
       "      <td>5</td>\n",
       "      <td>3</td>\n",
       "      <td>0.0</td>\n",
       "    </tr>\n",
       "  </tbody>\n",
       "</table>\n",
       "</div>"
      ],
      "text/plain": [
       "         Date  Confirmed  Deaths  Recovered  Active  New  Fatality\n",
       "0  2020-01-22          1       0          0       1    0       0.0\n",
       "1  2020-01-23          1       0          0       1    0       0.0\n",
       "2  2020-01-24          2       0          0       2    1       0.0\n",
       "3  2020-01-25          2       0          0       2    0       0.0\n",
       "4  2020-01-26          5       0          0       5    3       0.0"
      ]
     },
     "execution_count": 11,
     "metadata": {},
     "output_type": "execute_result"
    }
   ],
   "source": [
    "bydate_us = pd.read_csv('/Users/tingtingweng/Documents/summer_intern/data/us_covid_19_data.csv')\n",
    "bydate_us.head()"
   ]
  },
  {
   "cell_type": "code",
   "execution_count": 12,
   "metadata": {},
   "outputs": [
    {
     "data": {
      "text/html": [
       "<div>\n",
       "<style scoped>\n",
       "    .dataframe tbody tr th:only-of-type {\n",
       "        vertical-align: middle;\n",
       "    }\n",
       "\n",
       "    .dataframe tbody tr th {\n",
       "        vertical-align: top;\n",
       "    }\n",
       "\n",
       "    .dataframe thead th {\n",
       "        text-align: right;\n",
       "    }\n",
       "</style>\n",
       "<table border=\"1\" class=\"dataframe\">\n",
       "  <thead>\n",
       "    <tr style=\"text-align: right;\">\n",
       "      <th></th>\n",
       "      <th>Confirmed</th>\n",
       "      <th>Deaths</th>\n",
       "      <th>Recovered</th>\n",
       "      <th>Active</th>\n",
       "      <th>New</th>\n",
       "      <th>Fatality</th>\n",
       "    </tr>\n",
       "    <tr>\n",
       "      <th>Date</th>\n",
       "      <th></th>\n",
       "      <th></th>\n",
       "      <th></th>\n",
       "      <th></th>\n",
       "      <th></th>\n",
       "      <th></th>\n",
       "    </tr>\n",
       "  </thead>\n",
       "  <tbody>\n",
       "    <tr>\n",
       "      <td>2020-01-22</td>\n",
       "      <td>1</td>\n",
       "      <td>0</td>\n",
       "      <td>0</td>\n",
       "      <td>1</td>\n",
       "      <td>0.0</td>\n",
       "      <td>0.000000</td>\n",
       "    </tr>\n",
       "    <tr>\n",
       "      <td>2020-01-23</td>\n",
       "      <td>1</td>\n",
       "      <td>0</td>\n",
       "      <td>0</td>\n",
       "      <td>1</td>\n",
       "      <td>0.0</td>\n",
       "      <td>0.000000</td>\n",
       "    </tr>\n",
       "    <tr>\n",
       "      <td>2020-01-24</td>\n",
       "      <td>2</td>\n",
       "      <td>0</td>\n",
       "      <td>0</td>\n",
       "      <td>2</td>\n",
       "      <td>1.0</td>\n",
       "      <td>0.000000</td>\n",
       "    </tr>\n",
       "    <tr>\n",
       "      <td>2020-01-25</td>\n",
       "      <td>2</td>\n",
       "      <td>0</td>\n",
       "      <td>0</td>\n",
       "      <td>2</td>\n",
       "      <td>0.0</td>\n",
       "      <td>0.000000</td>\n",
       "    </tr>\n",
       "    <tr>\n",
       "      <td>2020-01-26</td>\n",
       "      <td>5</td>\n",
       "      <td>0</td>\n",
       "      <td>0</td>\n",
       "      <td>5</td>\n",
       "      <td>3.0</td>\n",
       "      <td>0.000000</td>\n",
       "    </tr>\n",
       "    <tr>\n",
       "      <td>...</td>\n",
       "      <td>...</td>\n",
       "      <td>...</td>\n",
       "      <td>...</td>\n",
       "      <td>...</td>\n",
       "      <td>...</td>\n",
       "      <td>...</td>\n",
       "    </tr>\n",
       "    <tr>\n",
       "      <td>2020-08-13</td>\n",
       "      <td>5248958</td>\n",
       "      <td>167110</td>\n",
       "      <td>1774648</td>\n",
       "      <td>3307200</td>\n",
       "      <td>51547.0</td>\n",
       "      <td>3.183680</td>\n",
       "    </tr>\n",
       "    <tr>\n",
       "      <td>2020-08-14</td>\n",
       "      <td>5313252</td>\n",
       "      <td>168452</td>\n",
       "      <td>1796326</td>\n",
       "      <td>3348474</td>\n",
       "      <td>64294.0</td>\n",
       "      <td>3.170412</td>\n",
       "    </tr>\n",
       "    <tr>\n",
       "      <td>2020-08-15</td>\n",
       "      <td>5361165</td>\n",
       "      <td>169481</td>\n",
       "      <td>1818527</td>\n",
       "      <td>3373157</td>\n",
       "      <td>47913.0</td>\n",
       "      <td>3.161272</td>\n",
       "    </tr>\n",
       "    <tr>\n",
       "      <td>2020-08-16</td>\n",
       "      <td>5403213</td>\n",
       "      <td>170052</td>\n",
       "      <td>1833067</td>\n",
       "      <td>3400094</td>\n",
       "      <td>42048.0</td>\n",
       "      <td>3.147239</td>\n",
       "    </tr>\n",
       "    <tr>\n",
       "      <td>2020-08-17</td>\n",
       "      <td>5438325</td>\n",
       "      <td>170497</td>\n",
       "      <td>1865580</td>\n",
       "      <td>3402248</td>\n",
       "      <td>35112.0</td>\n",
       "      <td>3.135101</td>\n",
       "    </tr>\n",
       "  </tbody>\n",
       "</table>\n",
       "<p>209 rows × 6 columns</p>\n",
       "</div>"
      ],
      "text/plain": [
       "            Confirmed  Deaths  Recovered   Active      New  Fatality\n",
       "Date                                                                \n",
       "2020-01-22          1       0          0        1      0.0  0.000000\n",
       "2020-01-23          1       0          0        1      0.0  0.000000\n",
       "2020-01-24          2       0          0        2      1.0  0.000000\n",
       "2020-01-25          2       0          0        2      0.0  0.000000\n",
       "2020-01-26          5       0          0        5      3.0  0.000000\n",
       "...               ...     ...        ...      ...      ...       ...\n",
       "2020-08-13    5248958  167110    1774648  3307200  51547.0  3.183680\n",
       "2020-08-14    5313252  168452    1796326  3348474  64294.0  3.170412\n",
       "2020-08-15    5361165  169481    1818527  3373157  47913.0  3.161272\n",
       "2020-08-16    5403213  170052    1833067  3400094  42048.0  3.147239\n",
       "2020-08-17    5438325  170497    1865580  3402248  35112.0  3.135101\n",
       "\n",
       "[209 rows x 6 columns]"
      ]
     },
     "execution_count": 12,
     "metadata": {},
     "output_type": "execute_result"
    }
   ],
   "source": [
    "bydate_us.set_index('Date', drop=True, inplace=True)\n",
    "bydate_us['New']=bydate_us['New'].astype(np.float64)\n",
    "bydate_us"
   ]
  },
  {
   "cell_type": "code",
   "execution_count": 13,
   "metadata": {},
   "outputs": [
    {
     "data": {
      "application/vnd.plotly.v1+json": {
       "config": {
        "plotlyServerURL": "https://plot.ly"
       },
       "data": [
        {
         "mode": "lines",
         "name": "Confirmed",
         "type": "scatter",
         "x": [
          "2020-01-22",
          "2020-01-23",
          "2020-01-24",
          "2020-01-25",
          "2020-01-26",
          "2020-01-27",
          "2020-01-28",
          "2020-01-29",
          "2020-01-30",
          "2020-01-31",
          "2020-02-01",
          "2020-02-02",
          "2020-02-03",
          "2020-02-04",
          "2020-02-05",
          "2020-02-06",
          "2020-02-07",
          "2020-02-08",
          "2020-02-09",
          "2020-02-10",
          "2020-02-11",
          "2020-02-12",
          "2020-02-13",
          "2020-02-14",
          "2020-02-15",
          "2020-02-16",
          "2020-02-17",
          "2020-02-18",
          "2020-02-19",
          "2020-02-20",
          "2020-02-21",
          "2020-02-22",
          "2020-02-23",
          "2020-02-24",
          "2020-02-25",
          "2020-02-26",
          "2020-02-27",
          "2020-02-28",
          "2020-02-29",
          "2020-03-01",
          "2020-03-02",
          "2020-03-03",
          "2020-03-04",
          "2020-03-05",
          "2020-03-06",
          "2020-03-07",
          "2020-03-08",
          "2020-03-09",
          "2020-03-10",
          "2020-03-11",
          "2020-03-12",
          "2020-03-13",
          "2020-03-14",
          "2020-03-15",
          "2020-03-16",
          "2020-03-17",
          "2020-03-18",
          "2020-03-19",
          "2020-03-20",
          "2020-03-21",
          "2020-03-22",
          "2020-03-23",
          "2020-03-24",
          "2020-03-25",
          "2020-03-26",
          "2020-03-27",
          "2020-03-28",
          "2020-03-29",
          "2020-03-30",
          "2020-03-31",
          "2020-04-01",
          "2020-04-02",
          "2020-04-03",
          "2020-04-04",
          "2020-04-05",
          "2020-04-06",
          "2020-04-07",
          "2020-04-08",
          "2020-04-09",
          "2020-04-10",
          "2020-04-11",
          "2020-04-12",
          "2020-04-13",
          "2020-04-14",
          "2020-04-15",
          "2020-04-16",
          "2020-04-17",
          "2020-04-18",
          "2020-04-19",
          "2020-04-20",
          "2020-04-21",
          "2020-04-22",
          "2020-04-23",
          "2020-04-24",
          "2020-04-25",
          "2020-04-26",
          "2020-04-27",
          "2020-04-28",
          "2020-04-29",
          "2020-04-30",
          "2020-05-01",
          "2020-05-02",
          "2020-05-03",
          "2020-05-04",
          "2020-05-05",
          "2020-05-06",
          "2020-05-07",
          "2020-05-08",
          "2020-05-09",
          "2020-05-10",
          "2020-05-11",
          "2020-05-12",
          "2020-05-13",
          "2020-05-14",
          "2020-05-15",
          "2020-05-16",
          "2020-05-17",
          "2020-05-18",
          "2020-05-19",
          "2020-05-20",
          "2020-05-21",
          "2020-05-22",
          "2020-05-23",
          "2020-05-24",
          "2020-05-25",
          "2020-05-26",
          "2020-05-27",
          "2020-05-28",
          "2020-05-29",
          "2020-05-30",
          "2020-05-31",
          "2020-06-01",
          "2020-06-02",
          "2020-06-03",
          "2020-06-04",
          "2020-06-05",
          "2020-06-06",
          "2020-06-07",
          "2020-06-08",
          "2020-06-09",
          "2020-06-10",
          "2020-06-11",
          "2020-06-12",
          "2020-06-13",
          "2020-06-14",
          "2020-06-15",
          "2020-06-16",
          "2020-06-17",
          "2020-06-18",
          "2020-06-19",
          "2020-06-20",
          "2020-06-21",
          "2020-06-22",
          "2020-06-23",
          "2020-06-24",
          "2020-06-25",
          "2020-06-26",
          "2020-06-27",
          "2020-06-28",
          "2020-06-29",
          "2020-06-30",
          "2020-07-01",
          "2020-07-02",
          "2020-07-03",
          "2020-07-04",
          "2020-07-05",
          "2020-07-06",
          "2020-07-07",
          "2020-07-08",
          "2020-07-09",
          "2020-07-10",
          "2020-07-11",
          "2020-07-12",
          "2020-07-13",
          "2020-07-14",
          "2020-07-15",
          "2020-07-16",
          "2020-07-17",
          "2020-07-18",
          "2020-07-19",
          "2020-07-20",
          "2020-07-21",
          "2020-07-22",
          "2020-07-23",
          "2020-07-24",
          "2020-07-25",
          "2020-07-26",
          "2020-07-27",
          "2020-07-28",
          "2020-07-29",
          "2020-07-30",
          "2020-07-31",
          "2020-08-01",
          "2020-08-02",
          "2020-08-03",
          "2020-08-04",
          "2020-08-05",
          "2020-08-06",
          "2020-08-07",
          "2020-08-08",
          "2020-08-09",
          "2020-08-10",
          "2020-08-11",
          "2020-08-12",
          "2020-08-13",
          "2020-08-14",
          "2020-08-15",
          "2020-08-16",
          "2020-08-17"
         ],
         "y": [
          1,
          1,
          2,
          2,
          5,
          5,
          5,
          5,
          5,
          7,
          8,
          8,
          11,
          11,
          11,
          11,
          11,
          11,
          11,
          11,
          12,
          12,
          13,
          13,
          13,
          13,
          13,
          13,
          13,
          13,
          15,
          15,
          15,
          15,
          15,
          15,
          16,
          16,
          24,
          30,
          53,
          73,
          104,
          174,
          222,
          337,
          451,
          519,
          711,
          1109,
          1561,
          2157,
          2870,
          2968,
          4360,
          6141,
          8917,
          14157,
          19479,
          25825,
          33761,
          43850,
          54112,
          66055,
          84091,
          102276,
          122069,
          141205,
          162707,
          188724,
          214205,
          244610,
          276547,
          309699,
          337573,
          367215,
          397992,
          429686,
          464442,
          497943,
          527969,
          556522,
          581813,
          608878,
          637974,
          669272,
          701996,
          730337,
          756375,
          783716,
          809318,
          837422,
          871617,
          907908,
          940829,
          968518,
          990983,
          1015518,
          1043038,
          1072667,
          1106829,
          1136024,
          1161611,
          1184086,
          1208271,
          1233527,
          1261409,
          1288587,
          1314320,
          1334084,
          1352962,
          1375152,
          1396110,
          1423727,
          1449027,
          1474128,
          1493132,
          1514901,
          1535350,
          1559157,
          1584512,
          1608653,
          1630476,
          1651289,
          1670280,
          1689163,
          1707445,
          1730260,
          1754764,
          1779214,
          1799124,
          1816479,
          1837374,
          1857332,
          1878683,
          1903907,
          1926639,
          1944370,
          1961785,
          1979912,
          2000706,
          2023656,
          2048986,
          2074542,
          2094366,
          2114026,
          2137731,
          2163290,
          2191099,
          2222579,
          2255328,
          2281767,
          2312303,
          2347491,
          2382426,
          2422299,
          2467554,
          2510259,
          2549864,
          2590668,
          2636414,
          2687588,
          2742049,
          2795361,
          2841241,
          2891124,
          2936077,
          2996098,
          3054699,
          3117946,
          3185737,
          3245925,
          3304942,
          3364157,
          3431574,
          3498902,
          3576157,
          3647715,
          3711413,
          3773260,
          3834677,
          3899211,
          3970121,
          4038816,
          4112531,
          4178970,
          4233923,
          4290337,
          4356206,
          4426982,
          4495015,
          4562107,
          4620592,
          4668172,
          4713540,
          4771080,
          4823890,
          4883582,
          4941755,
          4997929,
          5044864,
          5094400,
          5141208,
          5197411,
          5248958,
          5313252,
          5361165,
          5403213,
          5438325
         ]
        },
        {
         "mode": "lines",
         "name": "Deaths",
         "type": "scatter",
         "x": [
          "2020-01-22",
          "2020-01-23",
          "2020-01-24",
          "2020-01-25",
          "2020-01-26",
          "2020-01-27",
          "2020-01-28",
          "2020-01-29",
          "2020-01-30",
          "2020-01-31",
          "2020-02-01",
          "2020-02-02",
          "2020-02-03",
          "2020-02-04",
          "2020-02-05",
          "2020-02-06",
          "2020-02-07",
          "2020-02-08",
          "2020-02-09",
          "2020-02-10",
          "2020-02-11",
          "2020-02-12",
          "2020-02-13",
          "2020-02-14",
          "2020-02-15",
          "2020-02-16",
          "2020-02-17",
          "2020-02-18",
          "2020-02-19",
          "2020-02-20",
          "2020-02-21",
          "2020-02-22",
          "2020-02-23",
          "2020-02-24",
          "2020-02-25",
          "2020-02-26",
          "2020-02-27",
          "2020-02-28",
          "2020-02-29",
          "2020-03-01",
          "2020-03-02",
          "2020-03-03",
          "2020-03-04",
          "2020-03-05",
          "2020-03-06",
          "2020-03-07",
          "2020-03-08",
          "2020-03-09",
          "2020-03-10",
          "2020-03-11",
          "2020-03-12",
          "2020-03-13",
          "2020-03-14",
          "2020-03-15",
          "2020-03-16",
          "2020-03-17",
          "2020-03-18",
          "2020-03-19",
          "2020-03-20",
          "2020-03-21",
          "2020-03-22",
          "2020-03-23",
          "2020-03-24",
          "2020-03-25",
          "2020-03-26",
          "2020-03-27",
          "2020-03-28",
          "2020-03-29",
          "2020-03-30",
          "2020-03-31",
          "2020-04-01",
          "2020-04-02",
          "2020-04-03",
          "2020-04-04",
          "2020-04-05",
          "2020-04-06",
          "2020-04-07",
          "2020-04-08",
          "2020-04-09",
          "2020-04-10",
          "2020-04-11",
          "2020-04-12",
          "2020-04-13",
          "2020-04-14",
          "2020-04-15",
          "2020-04-16",
          "2020-04-17",
          "2020-04-18",
          "2020-04-19",
          "2020-04-20",
          "2020-04-21",
          "2020-04-22",
          "2020-04-23",
          "2020-04-24",
          "2020-04-25",
          "2020-04-26",
          "2020-04-27",
          "2020-04-28",
          "2020-04-29",
          "2020-04-30",
          "2020-05-01",
          "2020-05-02",
          "2020-05-03",
          "2020-05-04",
          "2020-05-05",
          "2020-05-06",
          "2020-05-07",
          "2020-05-08",
          "2020-05-09",
          "2020-05-10",
          "2020-05-11",
          "2020-05-12",
          "2020-05-13",
          "2020-05-14",
          "2020-05-15",
          "2020-05-16",
          "2020-05-17",
          "2020-05-18",
          "2020-05-19",
          "2020-05-20",
          "2020-05-21",
          "2020-05-22",
          "2020-05-23",
          "2020-05-24",
          "2020-05-25",
          "2020-05-26",
          "2020-05-27",
          "2020-05-28",
          "2020-05-29",
          "2020-05-30",
          "2020-05-31",
          "2020-06-01",
          "2020-06-02",
          "2020-06-03",
          "2020-06-04",
          "2020-06-05",
          "2020-06-06",
          "2020-06-07",
          "2020-06-08",
          "2020-06-09",
          "2020-06-10",
          "2020-06-11",
          "2020-06-12",
          "2020-06-13",
          "2020-06-14",
          "2020-06-15",
          "2020-06-16",
          "2020-06-17",
          "2020-06-18",
          "2020-06-19",
          "2020-06-20",
          "2020-06-21",
          "2020-06-22",
          "2020-06-23",
          "2020-06-24",
          "2020-06-25",
          "2020-06-26",
          "2020-06-27",
          "2020-06-28",
          "2020-06-29",
          "2020-06-30",
          "2020-07-01",
          "2020-07-02",
          "2020-07-03",
          "2020-07-04",
          "2020-07-05",
          "2020-07-06",
          "2020-07-07",
          "2020-07-08",
          "2020-07-09",
          "2020-07-10",
          "2020-07-11",
          "2020-07-12",
          "2020-07-13",
          "2020-07-14",
          "2020-07-15",
          "2020-07-16",
          "2020-07-17",
          "2020-07-18",
          "2020-07-19",
          "2020-07-20",
          "2020-07-21",
          "2020-07-22",
          "2020-07-23",
          "2020-07-24",
          "2020-07-25",
          "2020-07-26",
          "2020-07-27",
          "2020-07-28",
          "2020-07-29",
          "2020-07-30",
          "2020-07-31",
          "2020-08-01",
          "2020-08-02",
          "2020-08-03",
          "2020-08-04",
          "2020-08-05",
          "2020-08-06",
          "2020-08-07",
          "2020-08-08",
          "2020-08-09",
          "2020-08-10",
          "2020-08-11",
          "2020-08-12",
          "2020-08-13",
          "2020-08-14",
          "2020-08-15",
          "2020-08-16",
          "2020-08-17"
         ],
         "y": [
          0,
          0,
          0,
          0,
          0,
          0,
          0,
          0,
          0,
          0,
          0,
          0,
          0,
          0,
          0,
          0,
          0,
          0,
          0,
          0,
          0,
          0,
          0,
          0,
          0,
          0,
          0,
          0,
          0,
          0,
          0,
          0,
          0,
          0,
          0,
          0,
          0,
          0,
          1,
          1,
          6,
          7,
          11,
          12,
          14,
          17,
          21,
          22,
          28,
          33,
          43,
          52,
          58,
          70,
          97,
          132,
          191,
          269,
          368,
          463,
          611,
          798,
          1040,
          1356,
          1778,
          2341,
          2995,
          3629,
          4463,
          5718,
          6986,
          8599,
          9936,
          11263,
          12765,
          14504,
          16883,
          19065,
          21216,
          23362,
          25486,
          27336,
          29242,
          31699,
          34308,
          36483,
          39149,
          41594,
          42870,
          44704,
          47208,
          49639,
          52108,
          54262,
          55959,
          57289,
          58756,
          60997,
          63518,
          65842,
          67733,
          69425,
          70546,
          71879,
          74197,
          76560,
          78496,
          80243,
          81731,
          82625,
          83640,
          85266,
          87029,
          88812,
          90493,
          91709,
          92467,
          93243,
          94798,
          96377,
          97611,
          98884,
          100014,
          100628,
          101151,
          101846,
          103364,
          104556,
          105727,
          106706,
          107297,
          108074,
          109117,
          110128,
          111151,
          112100,
          112787,
          113234,
          113747,
          114692,
          115610,
          116498,
          117330,
          118093,
          118401,
          118792,
          119635,
          120387,
          121097,
          121769,
          122382,
          122666,
          123053,
          123900,
          124664,
          125223,
          125835,
          126335,
          126586,
          126950,
          127685,
          128372,
          129096,
          129749,
          130020,
          130319,
          130670,
          131894,
          132744,
          133756,
          134586,
          135277,
          135728,
          136117,
          137045,
          138013,
          138966,
          139886,
          140756,
          141201,
          141715,
          142824,
          144035,
          145156,
          146279,
          147180,
          147657,
          148782,
          150150,
          151586,
          152802,
          154048,
          155159,
          155565,
          156104,
          157482,
          158854,
          160104,
          161347,
          162423,
          162938,
          163463,
          164527,
          166034,
          167110,
          168452,
          169481,
          170052,
          170497
         ]
        },
        {
         "mode": "lines",
         "name": "Recovered",
         "type": "scatter",
         "x": [
          "2020-01-22",
          "2020-01-23",
          "2020-01-24",
          "2020-01-25",
          "2020-01-26",
          "2020-01-27",
          "2020-01-28",
          "2020-01-29",
          "2020-01-30",
          "2020-01-31",
          "2020-02-01",
          "2020-02-02",
          "2020-02-03",
          "2020-02-04",
          "2020-02-05",
          "2020-02-06",
          "2020-02-07",
          "2020-02-08",
          "2020-02-09",
          "2020-02-10",
          "2020-02-11",
          "2020-02-12",
          "2020-02-13",
          "2020-02-14",
          "2020-02-15",
          "2020-02-16",
          "2020-02-17",
          "2020-02-18",
          "2020-02-19",
          "2020-02-20",
          "2020-02-21",
          "2020-02-22",
          "2020-02-23",
          "2020-02-24",
          "2020-02-25",
          "2020-02-26",
          "2020-02-27",
          "2020-02-28",
          "2020-02-29",
          "2020-03-01",
          "2020-03-02",
          "2020-03-03",
          "2020-03-04",
          "2020-03-05",
          "2020-03-06",
          "2020-03-07",
          "2020-03-08",
          "2020-03-09",
          "2020-03-10",
          "2020-03-11",
          "2020-03-12",
          "2020-03-13",
          "2020-03-14",
          "2020-03-15",
          "2020-03-16",
          "2020-03-17",
          "2020-03-18",
          "2020-03-19",
          "2020-03-20",
          "2020-03-21",
          "2020-03-22",
          "2020-03-23",
          "2020-03-24",
          "2020-03-25",
          "2020-03-26",
          "2020-03-27",
          "2020-03-28",
          "2020-03-29",
          "2020-03-30",
          "2020-03-31",
          "2020-04-01",
          "2020-04-02",
          "2020-04-03",
          "2020-04-04",
          "2020-04-05",
          "2020-04-06",
          "2020-04-07",
          "2020-04-08",
          "2020-04-09",
          "2020-04-10",
          "2020-04-11",
          "2020-04-12",
          "2020-04-13",
          "2020-04-14",
          "2020-04-15",
          "2020-04-16",
          "2020-04-17",
          "2020-04-18",
          "2020-04-19",
          "2020-04-20",
          "2020-04-21",
          "2020-04-22",
          "2020-04-23",
          "2020-04-24",
          "2020-04-25",
          "2020-04-26",
          "2020-04-27",
          "2020-04-28",
          "2020-04-29",
          "2020-04-30",
          "2020-05-01",
          "2020-05-02",
          "2020-05-03",
          "2020-05-04",
          "2020-05-05",
          "2020-05-06",
          "2020-05-07",
          "2020-05-08",
          "2020-05-09",
          "2020-05-10",
          "2020-05-11",
          "2020-05-12",
          "2020-05-13",
          "2020-05-14",
          "2020-05-15",
          "2020-05-16",
          "2020-05-17",
          "2020-05-18",
          "2020-05-19",
          "2020-05-20",
          "2020-05-21",
          "2020-05-22",
          "2020-05-23",
          "2020-05-24",
          "2020-05-25",
          "2020-05-26",
          "2020-05-27",
          "2020-05-28",
          "2020-05-29",
          "2020-05-30",
          "2020-05-31",
          "2020-06-01",
          "2020-06-02",
          "2020-06-03",
          "2020-06-04",
          "2020-06-05",
          "2020-06-06",
          "2020-06-07",
          "2020-06-08",
          "2020-06-09",
          "2020-06-10",
          "2020-06-11",
          "2020-06-12",
          "2020-06-13",
          "2020-06-14",
          "2020-06-15",
          "2020-06-16",
          "2020-06-17",
          "2020-06-18",
          "2020-06-19",
          "2020-06-20",
          "2020-06-21",
          "2020-06-22",
          "2020-06-23",
          "2020-06-24",
          "2020-06-25",
          "2020-06-26",
          "2020-06-27",
          "2020-06-28",
          "2020-06-29",
          "2020-06-30",
          "2020-07-01",
          "2020-07-02",
          "2020-07-03",
          "2020-07-04",
          "2020-07-05",
          "2020-07-06",
          "2020-07-07",
          "2020-07-08",
          "2020-07-09",
          "2020-07-10",
          "2020-07-11",
          "2020-07-12",
          "2020-07-13",
          "2020-07-14",
          "2020-07-15",
          "2020-07-16",
          "2020-07-17",
          "2020-07-18",
          "2020-07-19",
          "2020-07-20",
          "2020-07-21",
          "2020-07-22",
          "2020-07-23",
          "2020-07-24",
          "2020-07-25",
          "2020-07-26",
          "2020-07-27",
          "2020-07-28",
          "2020-07-29",
          "2020-07-30",
          "2020-07-31",
          "2020-08-01",
          "2020-08-02",
          "2020-08-03",
          "2020-08-04",
          "2020-08-05",
          "2020-08-06",
          "2020-08-07",
          "2020-08-08",
          "2020-08-09",
          "2020-08-10",
          "2020-08-11",
          "2020-08-12",
          "2020-08-13",
          "2020-08-14",
          "2020-08-15",
          "2020-08-16",
          "2020-08-17"
         ],
         "y": [
          0,
          0,
          0,
          0,
          0,
          0,
          0,
          0,
          0,
          0,
          0,
          0,
          0,
          0,
          0,
          0,
          0,
          0,
          3,
          3,
          3,
          3,
          3,
          3,
          3,
          3,
          3,
          3,
          3,
          3,
          5,
          5,
          5,
          5,
          6,
          6,
          6,
          7,
          7,
          7,
          7,
          7,
          7,
          7,
          7,
          7,
          7,
          7,
          8,
          8,
          12,
          12,
          12,
          12,
          17,
          17,
          105,
          121,
          147,
          176,
          178,
          178,
          348,
          361,
          681,
          869,
          1072,
          2665,
          5644,
          7024,
          8474,
          9001,
          9707,
          14652,
          17448,
          19581,
          21763,
          23559,
          25410,
          28790,
          31270,
          32988,
          43482,
          47763,
          52096,
          54703,
          58545,
          64840,
          70337,
          72329,
          75204,
          77366,
          80203,
          99079,
          100372,
          106988,
          111424,
          115936,
          120720,
          153947,
          164015,
          175382,
          180152,
          187180,
          189791,
          189910,
          195036,
          198993,
          212534,
          216169,
          232733,
          230287,
          243430,
          246414,
          250747,
          268376,
          272265,
          283178,
          289392,
          294312,
          298418,
          350135,
          361239,
          366736,
          379157,
          384902,
          391508,
          399991,
          406446,
          416461,
          444758,
          458231,
          463868,
          479258,
          485002,
          491706,
          500849,
          506367,
          518522,
          524855,
          533504,
          540292,
          547386,
          556606,
          561816,
          576334,
          583503,
          592191,
          599115,
          606715,
          617460,
          622133,
          640198,
          647548,
          656161,
          663562,
          670809,
          679308,
          685164,
          705203,
          720631,
          729994,
          781970,
          790404,
          894325,
          906763,
          924148,
          936476,
          953462,
          969111,
          983185,
          995576,
          1006326,
          1031939,
          1049098,
          1075882,
          1090645,
          1107204,
          1122720,
          1131121,
          1160087,
          1182018,
          1210849,
          1233269,
          1261624,
          1279414,
          1297863,
          1325804,
          1355363,
          1389425,
          1414155,
          1438160,
          1461885,
          1468689,
          1513446,
          1528979,
          1577851,
          1598624,
          1623870,
          1643118,
          1656864,
          1670755,
          1714960,
          1753760,
          1774648,
          1796326,
          1818527,
          1833067,
          1865580
         ]
        },
        {
         "mode": "lines",
         "name": "Active",
         "type": "scatter",
         "x": [
          "2020-01-22",
          "2020-01-23",
          "2020-01-24",
          "2020-01-25",
          "2020-01-26",
          "2020-01-27",
          "2020-01-28",
          "2020-01-29",
          "2020-01-30",
          "2020-01-31",
          "2020-02-01",
          "2020-02-02",
          "2020-02-03",
          "2020-02-04",
          "2020-02-05",
          "2020-02-06",
          "2020-02-07",
          "2020-02-08",
          "2020-02-09",
          "2020-02-10",
          "2020-02-11",
          "2020-02-12",
          "2020-02-13",
          "2020-02-14",
          "2020-02-15",
          "2020-02-16",
          "2020-02-17",
          "2020-02-18",
          "2020-02-19",
          "2020-02-20",
          "2020-02-21",
          "2020-02-22",
          "2020-02-23",
          "2020-02-24",
          "2020-02-25",
          "2020-02-26",
          "2020-02-27",
          "2020-02-28",
          "2020-02-29",
          "2020-03-01",
          "2020-03-02",
          "2020-03-03",
          "2020-03-04",
          "2020-03-05",
          "2020-03-06",
          "2020-03-07",
          "2020-03-08",
          "2020-03-09",
          "2020-03-10",
          "2020-03-11",
          "2020-03-12",
          "2020-03-13",
          "2020-03-14",
          "2020-03-15",
          "2020-03-16",
          "2020-03-17",
          "2020-03-18",
          "2020-03-19",
          "2020-03-20",
          "2020-03-21",
          "2020-03-22",
          "2020-03-23",
          "2020-03-24",
          "2020-03-25",
          "2020-03-26",
          "2020-03-27",
          "2020-03-28",
          "2020-03-29",
          "2020-03-30",
          "2020-03-31",
          "2020-04-01",
          "2020-04-02",
          "2020-04-03",
          "2020-04-04",
          "2020-04-05",
          "2020-04-06",
          "2020-04-07",
          "2020-04-08",
          "2020-04-09",
          "2020-04-10",
          "2020-04-11",
          "2020-04-12",
          "2020-04-13",
          "2020-04-14",
          "2020-04-15",
          "2020-04-16",
          "2020-04-17",
          "2020-04-18",
          "2020-04-19",
          "2020-04-20",
          "2020-04-21",
          "2020-04-22",
          "2020-04-23",
          "2020-04-24",
          "2020-04-25",
          "2020-04-26",
          "2020-04-27",
          "2020-04-28",
          "2020-04-29",
          "2020-04-30",
          "2020-05-01",
          "2020-05-02",
          "2020-05-03",
          "2020-05-04",
          "2020-05-05",
          "2020-05-06",
          "2020-05-07",
          "2020-05-08",
          "2020-05-09",
          "2020-05-10",
          "2020-05-11",
          "2020-05-12",
          "2020-05-13",
          "2020-05-14",
          "2020-05-15",
          "2020-05-16",
          "2020-05-17",
          "2020-05-18",
          "2020-05-19",
          "2020-05-20",
          "2020-05-21",
          "2020-05-22",
          "2020-05-23",
          "2020-05-24",
          "2020-05-25",
          "2020-05-26",
          "2020-05-27",
          "2020-05-28",
          "2020-05-29",
          "2020-05-30",
          "2020-05-31",
          "2020-06-01",
          "2020-06-02",
          "2020-06-03",
          "2020-06-04",
          "2020-06-05",
          "2020-06-06",
          "2020-06-07",
          "2020-06-08",
          "2020-06-09",
          "2020-06-10",
          "2020-06-11",
          "2020-06-12",
          "2020-06-13",
          "2020-06-14",
          "2020-06-15",
          "2020-06-16",
          "2020-06-17",
          "2020-06-18",
          "2020-06-19",
          "2020-06-20",
          "2020-06-21",
          "2020-06-22",
          "2020-06-23",
          "2020-06-24",
          "2020-06-25",
          "2020-06-26",
          "2020-06-27",
          "2020-06-28",
          "2020-06-29",
          "2020-06-30",
          "2020-07-01",
          "2020-07-02",
          "2020-07-03",
          "2020-07-04",
          "2020-07-05",
          "2020-07-06",
          "2020-07-07",
          "2020-07-08",
          "2020-07-09",
          "2020-07-10",
          "2020-07-11",
          "2020-07-12",
          "2020-07-13",
          "2020-07-14",
          "2020-07-15",
          "2020-07-16",
          "2020-07-17",
          "2020-07-18",
          "2020-07-19",
          "2020-07-20",
          "2020-07-21",
          "2020-07-22",
          "2020-07-23",
          "2020-07-24",
          "2020-07-25",
          "2020-07-26",
          "2020-07-27",
          "2020-07-28",
          "2020-07-29",
          "2020-07-30",
          "2020-07-31",
          "2020-08-01",
          "2020-08-02",
          "2020-08-03",
          "2020-08-04",
          "2020-08-05",
          "2020-08-06",
          "2020-08-07",
          "2020-08-08",
          "2020-08-09",
          "2020-08-10",
          "2020-08-11",
          "2020-08-12",
          "2020-08-13",
          "2020-08-14",
          "2020-08-15",
          "2020-08-16",
          "2020-08-17"
         ],
         "y": [
          1,
          1,
          2,
          2,
          5,
          5,
          5,
          5,
          5,
          7,
          8,
          8,
          11,
          11,
          11,
          11,
          11,
          11,
          8,
          8,
          9,
          9,
          10,
          10,
          10,
          10,
          10,
          10,
          10,
          10,
          10,
          10,
          10,
          10,
          9,
          9,
          10,
          9,
          16,
          22,
          40,
          59,
          86,
          155,
          201,
          313,
          423,
          490,
          675,
          1068,
          1506,
          2093,
          2800,
          2886,
          4246,
          5992,
          8621,
          13767,
          18964,
          25186,
          32972,
          42874,
          52724,
          64338,
          81632,
          99066,
          118002,
          134911,
          152600,
          175982,
          198745,
          227010,
          256904,
          283784,
          307360,
          333130,
          359346,
          387062,
          417816,
          445791,
          471213,
          496198,
          509089,
          529416,
          551570,
          578086,
          604302,
          623903,
          643168,
          666683,
          686906,
          710417,
          739306,
          754567,
          784498,
          804241,
          820803,
          838585,
          858800,
          852878,
          875081,
          891217,
          910913,
          925027,
          944283,
          967057,
          987877,
          1009351,
          1020055,
          1035290,
          1036589,
          1059599,
          1065651,
          1088501,
          1107787,
          1114043,
          1128400,
          1138480,
          1151160,
          1168468,
          1188483,
          1159634,
          1169223,
          1183925,
          1189972,
          1202415,
          1212573,
          1225713,
          1242591,
          1256047,
          1247069,
          1250174,
          1264389,
          1267946,
          1282530,
          1300101,
          1313003,
          1324769,
          1329516,
          1340365,
          1351592,
          1366866,
          1384270,
          1399843,
          1414149,
          1418900,
          1434593,
          1450712,
          1470887,
          1494095,
          1515486,
          1536968,
          1549052,
          1576043,
          1601601,
          1633514,
          1670910,
          1704616,
          1738114,
          1758515,
          1788098,
          1829222,
          1830983,
          1875208,
          1816896,
          1854042,
          1881259,
          1927728,
          1968493,
          2015079,
          2067966,
          2115072,
          2162888,
          2196101,
          2245431,
          2285007,
          2346546,
          2400625,
          2447937,
          2500938,
          2532875,
          2574369,
          2615237,
          2660391,
          2704628,
          2752376,
          2788403,
          2815751,
          2850693,
          2885971,
          2928058,
          2969899,
          3003548,
          3043918,
          3043990,
          3084619,
          3087185,
          3124854,
          3156538,
          3192388,
          3225062,
          3260182,
          3261721,
          3277617,
          3307200,
          3348474,
          3373157,
          3400094,
          3402248
         ]
        },
        {
         "mode": "lines",
         "name": "New",
         "type": "scatter",
         "x": [
          "2020-01-22",
          "2020-01-23",
          "2020-01-24",
          "2020-01-25",
          "2020-01-26",
          "2020-01-27",
          "2020-01-28",
          "2020-01-29",
          "2020-01-30",
          "2020-01-31",
          "2020-02-01",
          "2020-02-02",
          "2020-02-03",
          "2020-02-04",
          "2020-02-05",
          "2020-02-06",
          "2020-02-07",
          "2020-02-08",
          "2020-02-09",
          "2020-02-10",
          "2020-02-11",
          "2020-02-12",
          "2020-02-13",
          "2020-02-14",
          "2020-02-15",
          "2020-02-16",
          "2020-02-17",
          "2020-02-18",
          "2020-02-19",
          "2020-02-20",
          "2020-02-21",
          "2020-02-22",
          "2020-02-23",
          "2020-02-24",
          "2020-02-25",
          "2020-02-26",
          "2020-02-27",
          "2020-02-28",
          "2020-02-29",
          "2020-03-01",
          "2020-03-02",
          "2020-03-03",
          "2020-03-04",
          "2020-03-05",
          "2020-03-06",
          "2020-03-07",
          "2020-03-08",
          "2020-03-09",
          "2020-03-10",
          "2020-03-11",
          "2020-03-12",
          "2020-03-13",
          "2020-03-14",
          "2020-03-15",
          "2020-03-16",
          "2020-03-17",
          "2020-03-18",
          "2020-03-19",
          "2020-03-20",
          "2020-03-21",
          "2020-03-22",
          "2020-03-23",
          "2020-03-24",
          "2020-03-25",
          "2020-03-26",
          "2020-03-27",
          "2020-03-28",
          "2020-03-29",
          "2020-03-30",
          "2020-03-31",
          "2020-04-01",
          "2020-04-02",
          "2020-04-03",
          "2020-04-04",
          "2020-04-05",
          "2020-04-06",
          "2020-04-07",
          "2020-04-08",
          "2020-04-09",
          "2020-04-10",
          "2020-04-11",
          "2020-04-12",
          "2020-04-13",
          "2020-04-14",
          "2020-04-15",
          "2020-04-16",
          "2020-04-17",
          "2020-04-18",
          "2020-04-19",
          "2020-04-20",
          "2020-04-21",
          "2020-04-22",
          "2020-04-23",
          "2020-04-24",
          "2020-04-25",
          "2020-04-26",
          "2020-04-27",
          "2020-04-28",
          "2020-04-29",
          "2020-04-30",
          "2020-05-01",
          "2020-05-02",
          "2020-05-03",
          "2020-05-04",
          "2020-05-05",
          "2020-05-06",
          "2020-05-07",
          "2020-05-08",
          "2020-05-09",
          "2020-05-10",
          "2020-05-11",
          "2020-05-12",
          "2020-05-13",
          "2020-05-14",
          "2020-05-15",
          "2020-05-16",
          "2020-05-17",
          "2020-05-18",
          "2020-05-19",
          "2020-05-20",
          "2020-05-21",
          "2020-05-22",
          "2020-05-23",
          "2020-05-24",
          "2020-05-25",
          "2020-05-26",
          "2020-05-27",
          "2020-05-28",
          "2020-05-29",
          "2020-05-30",
          "2020-05-31",
          "2020-06-01",
          "2020-06-02",
          "2020-06-03",
          "2020-06-04",
          "2020-06-05",
          "2020-06-06",
          "2020-06-07",
          "2020-06-08",
          "2020-06-09",
          "2020-06-10",
          "2020-06-11",
          "2020-06-12",
          "2020-06-13",
          "2020-06-14",
          "2020-06-15",
          "2020-06-16",
          "2020-06-17",
          "2020-06-18",
          "2020-06-19",
          "2020-06-20",
          "2020-06-21",
          "2020-06-22",
          "2020-06-23",
          "2020-06-24",
          "2020-06-25",
          "2020-06-26",
          "2020-06-27",
          "2020-06-28",
          "2020-06-29",
          "2020-06-30",
          "2020-07-01",
          "2020-07-02",
          "2020-07-03",
          "2020-07-04",
          "2020-07-05",
          "2020-07-06",
          "2020-07-07",
          "2020-07-08",
          "2020-07-09",
          "2020-07-10",
          "2020-07-11",
          "2020-07-12",
          "2020-07-13",
          "2020-07-14",
          "2020-07-15",
          "2020-07-16",
          "2020-07-17",
          "2020-07-18",
          "2020-07-19",
          "2020-07-20",
          "2020-07-21",
          "2020-07-22",
          "2020-07-23",
          "2020-07-24",
          "2020-07-25",
          "2020-07-26",
          "2020-07-27",
          "2020-07-28",
          "2020-07-29",
          "2020-07-30",
          "2020-07-31",
          "2020-08-01",
          "2020-08-02",
          "2020-08-03",
          "2020-08-04",
          "2020-08-05",
          "2020-08-06",
          "2020-08-07",
          "2020-08-08",
          "2020-08-09",
          "2020-08-10",
          "2020-08-11",
          "2020-08-12",
          "2020-08-13",
          "2020-08-14",
          "2020-08-15",
          "2020-08-16",
          "2020-08-17"
         ],
         "y": [
          0,
          0,
          1,
          0,
          3,
          0,
          0,
          0,
          0,
          2,
          1,
          0,
          3,
          0,
          0,
          0,
          0,
          0,
          0,
          0,
          1,
          0,
          1,
          0,
          0,
          0,
          0,
          0,
          0,
          0,
          2,
          0,
          0,
          0,
          0,
          0,
          1,
          0,
          8,
          6,
          23,
          20,
          31,
          70,
          48,
          115,
          114,
          68,
          192,
          398,
          452,
          596,
          713,
          98,
          1392,
          1781,
          2776,
          5240,
          5322,
          6346,
          7936,
          10089,
          10262,
          11943,
          18036,
          18185,
          19793,
          19136,
          21502,
          26017,
          25481,
          30405,
          31937,
          33152,
          27874,
          29642,
          30777,
          31694,
          34756,
          33501,
          30026,
          28553,
          25291,
          27065,
          29096,
          31298,
          32724,
          28341,
          26038,
          27341,
          25602,
          28104,
          34195,
          36291,
          32921,
          27689,
          22465,
          24535,
          27520,
          29629,
          34162,
          29195,
          25587,
          22475,
          24185,
          25256,
          27882,
          27178,
          25733,
          19764,
          18878,
          22190,
          20958,
          27617,
          25300,
          25101,
          19004,
          21769,
          20449,
          23807,
          25355,
          24141,
          21823,
          20813,
          18991,
          18883,
          18282,
          22815,
          24504,
          24450,
          19910,
          17355,
          20895,
          19958,
          21351,
          25224,
          22732,
          17731,
          17415,
          18127,
          20794,
          22950,
          25330,
          25556,
          19824,
          19660,
          23705,
          25559,
          27809,
          31480,
          32749,
          26439,
          30536,
          35188,
          34935,
          39873,
          45255,
          42705,
          39605,
          40804,
          45746,
          51174,
          54461,
          53312,
          45880,
          49883,
          44953,
          60021,
          58601,
          63247,
          67791,
          60188,
          59017,
          59215,
          67417,
          67328,
          77255,
          71558,
          63698,
          61847,
          61417,
          64534,
          70910,
          68695,
          73715,
          66439,
          54953,
          56414,
          65869,
          70776,
          68033,
          67092,
          58485,
          47580,
          45368,
          57540,
          52810,
          59692,
          58173,
          56174,
          46935,
          49536,
          46808,
          56203,
          51547,
          64294,
          47913,
          42048,
          35112
         ]
        },
        {
         "mode": "lines",
         "name": "Fatality Rate",
         "type": "scatter",
         "x": [
          "2020-01-22",
          "2020-01-23",
          "2020-01-24",
          "2020-01-25",
          "2020-01-26",
          "2020-01-27",
          "2020-01-28",
          "2020-01-29",
          "2020-01-30",
          "2020-01-31",
          "2020-02-01",
          "2020-02-02",
          "2020-02-03",
          "2020-02-04",
          "2020-02-05",
          "2020-02-06",
          "2020-02-07",
          "2020-02-08",
          "2020-02-09",
          "2020-02-10",
          "2020-02-11",
          "2020-02-12",
          "2020-02-13",
          "2020-02-14",
          "2020-02-15",
          "2020-02-16",
          "2020-02-17",
          "2020-02-18",
          "2020-02-19",
          "2020-02-20",
          "2020-02-21",
          "2020-02-22",
          "2020-02-23",
          "2020-02-24",
          "2020-02-25",
          "2020-02-26",
          "2020-02-27",
          "2020-02-28",
          "2020-02-29",
          "2020-03-01",
          "2020-03-02",
          "2020-03-03",
          "2020-03-04",
          "2020-03-05",
          "2020-03-06",
          "2020-03-07",
          "2020-03-08",
          "2020-03-09",
          "2020-03-10",
          "2020-03-11",
          "2020-03-12",
          "2020-03-13",
          "2020-03-14",
          "2020-03-15",
          "2020-03-16",
          "2020-03-17",
          "2020-03-18",
          "2020-03-19",
          "2020-03-20",
          "2020-03-21",
          "2020-03-22",
          "2020-03-23",
          "2020-03-24",
          "2020-03-25",
          "2020-03-26",
          "2020-03-27",
          "2020-03-28",
          "2020-03-29",
          "2020-03-30",
          "2020-03-31",
          "2020-04-01",
          "2020-04-02",
          "2020-04-03",
          "2020-04-04",
          "2020-04-05",
          "2020-04-06",
          "2020-04-07",
          "2020-04-08",
          "2020-04-09",
          "2020-04-10",
          "2020-04-11",
          "2020-04-12",
          "2020-04-13",
          "2020-04-14",
          "2020-04-15",
          "2020-04-16",
          "2020-04-17",
          "2020-04-18",
          "2020-04-19",
          "2020-04-20",
          "2020-04-21",
          "2020-04-22",
          "2020-04-23",
          "2020-04-24",
          "2020-04-25",
          "2020-04-26",
          "2020-04-27",
          "2020-04-28",
          "2020-04-29",
          "2020-04-30",
          "2020-05-01",
          "2020-05-02",
          "2020-05-03",
          "2020-05-04",
          "2020-05-05",
          "2020-05-06",
          "2020-05-07",
          "2020-05-08",
          "2020-05-09",
          "2020-05-10",
          "2020-05-11",
          "2020-05-12",
          "2020-05-13",
          "2020-05-14",
          "2020-05-15",
          "2020-05-16",
          "2020-05-17",
          "2020-05-18",
          "2020-05-19",
          "2020-05-20",
          "2020-05-21",
          "2020-05-22",
          "2020-05-23",
          "2020-05-24",
          "2020-05-25",
          "2020-05-26",
          "2020-05-27",
          "2020-05-28",
          "2020-05-29",
          "2020-05-30",
          "2020-05-31",
          "2020-06-01",
          "2020-06-02",
          "2020-06-03",
          "2020-06-04",
          "2020-06-05",
          "2020-06-06",
          "2020-06-07",
          "2020-06-08",
          "2020-06-09",
          "2020-06-10",
          "2020-06-11",
          "2020-06-12",
          "2020-06-13",
          "2020-06-14",
          "2020-06-15",
          "2020-06-16",
          "2020-06-17",
          "2020-06-18",
          "2020-06-19",
          "2020-06-20",
          "2020-06-21",
          "2020-06-22",
          "2020-06-23",
          "2020-06-24",
          "2020-06-25",
          "2020-06-26",
          "2020-06-27",
          "2020-06-28",
          "2020-06-29",
          "2020-06-30",
          "2020-07-01",
          "2020-07-02",
          "2020-07-03",
          "2020-07-04",
          "2020-07-05",
          "2020-07-06",
          "2020-07-07",
          "2020-07-08",
          "2020-07-09",
          "2020-07-10",
          "2020-07-11",
          "2020-07-12",
          "2020-07-13",
          "2020-07-14",
          "2020-07-15",
          "2020-07-16",
          "2020-07-17",
          "2020-07-18",
          "2020-07-19",
          "2020-07-20",
          "2020-07-21",
          "2020-07-22",
          "2020-07-23",
          "2020-07-24",
          "2020-07-25",
          "2020-07-26",
          "2020-07-27",
          "2020-07-28",
          "2020-07-29",
          "2020-07-30",
          "2020-07-31",
          "2020-08-01",
          "2020-08-02",
          "2020-08-03",
          "2020-08-04",
          "2020-08-05",
          "2020-08-06",
          "2020-08-07",
          "2020-08-08",
          "2020-08-09",
          "2020-08-10",
          "2020-08-11",
          "2020-08-12",
          "2020-08-13",
          "2020-08-14",
          "2020-08-15",
          "2020-08-16",
          "2020-08-17"
         ],
         "y": [
          0,
          0,
          0,
          0,
          0,
          0,
          0,
          0,
          0,
          0,
          0,
          0,
          0,
          0,
          0,
          0,
          0,
          0,
          0,
          0,
          0,
          0,
          0,
          0,
          0,
          0,
          0,
          0,
          0,
          0,
          0,
          0,
          0,
          0,
          0,
          0,
          0,
          0,
          4.166666666666666,
          3.333333333333333,
          11.320754716981131,
          9.58904109589041,
          10.576923076923077,
          6.896551724137932,
          6.306306306306306,
          5.044510385756675,
          4.656319290465632,
          4.238921001926782,
          3.938115330520394,
          2.9756537421100093,
          2.7546444586803327,
          2.4107556791840516,
          2.020905923344948,
          2.358490566037736,
          2.2247706422018347,
          2.149487054225696,
          2.1419760008971633,
          1.900120081938264,
          1.8892140253606449,
          1.7928363988383351,
          1.809780515979977,
          1.8198403648802737,
          1.9219396806623301,
          2.052834758913027,
          2.1143760925663857,
          2.2889045328327278,
          2.4535303803586497,
          2.570022307991927,
          2.7429674199634926,
          3.0298213263813825,
          3.2613617796036505,
          3.515391848248232,
          3.592879329734186,
          3.6367569801646114,
          3.781404318473337,
          3.9497297223697285,
          4.242045066232487,
          4.436960943572749,
          4.5680623199452235,
          4.69170166063184,
          4.827177353215814,
          4.911935197530376,
          5.02601351293285,
          5.206133248368309,
          5.377648618909235,
          5.451146917845062,
          5.576812403489479,
          5.695179074865439,
          5.667823500247892,
          5.704107100020926,
          5.833059440170612,
          5.927596838869769,
          5.9783138695092,
          5.9765967476880935,
          5.9478396180389845,
          5.915119801593776,
          5.929062355257356,
          6.006491268495487,
          6.089711017240024,
          6.1381584405971275,
          6.1195541497376755,
          6.1112265233833085,
          6.073117420547843,
          6.070420560668736,
          6.14075815773117,
          6.206592964726349,
          6.222882506784082,
          6.227208562557283,
          6.218500821717695,
          6.19338812248704,
          6.181991807604352,
          6.200478201682433,
          6.23367786205958,
          6.2379936603014485,
          6.245087220596994,
          6.221237233130367,
          6.192821532188715,
          6.15505567690562,
          6.174357638323508,
          6.1813531286458,
          6.160319391711769,
          6.1470062219757775,
          6.13403693154637,
          6.0939060334078405,
          6.055930742151017,
          6.029376679456037,
          6.053723546000018,
          6.042791256805336,
          6.025140702681386,
          5.997367376830442,
          5.963846849911401,
          5.949642137343728,
          5.9387473644451285,
          5.9293653477138175,
          5.916431883399168,
          5.887892633411192,
          5.854080603579601,
          5.823685821114294,
          5.798137920312367,
          5.792782709534565,
          5.778460203548148,
          5.756808469423658,
          5.726247031458487,
          5.6924853774953705,
          5.6533098799350245,
          5.619230794701672,
          5.596354265340214,
          5.564995909008963,
          5.526769899488794,
          5.478725390638533,
          5.426350402247479,
          5.375921380228569,
          5.3216641590656595,
          5.277975506615362,
          5.232649408628012,
          5.169593018863486,
          5.099584446784143,
          5.032747616879374,
          4.9644216318988,
          4.900280545403733,
          4.843131617416688,
          4.776476156315626,
          4.708012147120638,
          4.641582965491756,
          4.576169356981684,
          4.5075548471805424,
          4.4504963595981994,
          4.402192451648778,
          4.345567271930883,
          4.289875450055902,
          4.224642523849268,
          4.167594753421598,
          4.106819423759934,
          4.0460953516735385,
          3.9936483957507543,
          3.9444660067644084,
          3.8859032195734136,
          3.8348938993314987,
          3.7925178361987744,
          3.742148699002984,
          3.695617649152719,
          3.662894877963773,
          3.627975066754893,
          3.5940235950337924,
          3.5569093582516462,
          3.521920473226656,
          3.4874748548804497,
          3.467839472750043,
          3.4468066937146684,
          3.424138611812743,
          3.3993657418273355,
          3.3766853780500985,
          3.357989625571788,
          3.3324607576584584,
          3.3118208395388606,
          3.3007620916019014,
          3.29306845719948,
          3.278413263051588,
          3.2649736783794423,
          3.2498060696740585,
          3.229779831527668,
          3.2086801193467336,
          3.200162296487518,
          3.1945520567836563,
          3.183679503627196,
          3.1704123952712946,
          3.161271850428032,
          3.147238504201112,
          3.135101340945971
         ]
        }
       ],
       "layout": {
        "template": {
         "data": {
          "bar": [
           {
            "error_x": {
             "color": "#2a3f5f"
            },
            "error_y": {
             "color": "#2a3f5f"
            },
            "marker": {
             "line": {
              "color": "#E5ECF6",
              "width": 0.5
             }
            },
            "type": "bar"
           }
          ],
          "barpolar": [
           {
            "marker": {
             "line": {
              "color": "#E5ECF6",
              "width": 0.5
             }
            },
            "type": "barpolar"
           }
          ],
          "carpet": [
           {
            "aaxis": {
             "endlinecolor": "#2a3f5f",
             "gridcolor": "white",
             "linecolor": "white",
             "minorgridcolor": "white",
             "startlinecolor": "#2a3f5f"
            },
            "baxis": {
             "endlinecolor": "#2a3f5f",
             "gridcolor": "white",
             "linecolor": "white",
             "minorgridcolor": "white",
             "startlinecolor": "#2a3f5f"
            },
            "type": "carpet"
           }
          ],
          "choropleth": [
           {
            "colorbar": {
             "outlinewidth": 0,
             "ticks": ""
            },
            "type": "choropleth"
           }
          ],
          "contour": [
           {
            "colorbar": {
             "outlinewidth": 0,
             "ticks": ""
            },
            "colorscale": [
             [
              0,
              "#0d0887"
             ],
             [
              0.1111111111111111,
              "#46039f"
             ],
             [
              0.2222222222222222,
              "#7201a8"
             ],
             [
              0.3333333333333333,
              "#9c179e"
             ],
             [
              0.4444444444444444,
              "#bd3786"
             ],
             [
              0.5555555555555556,
              "#d8576b"
             ],
             [
              0.6666666666666666,
              "#ed7953"
             ],
             [
              0.7777777777777778,
              "#fb9f3a"
             ],
             [
              0.8888888888888888,
              "#fdca26"
             ],
             [
              1,
              "#f0f921"
             ]
            ],
            "type": "contour"
           }
          ],
          "contourcarpet": [
           {
            "colorbar": {
             "outlinewidth": 0,
             "ticks": ""
            },
            "type": "contourcarpet"
           }
          ],
          "heatmap": [
           {
            "colorbar": {
             "outlinewidth": 0,
             "ticks": ""
            },
            "colorscale": [
             [
              0,
              "#0d0887"
             ],
             [
              0.1111111111111111,
              "#46039f"
             ],
             [
              0.2222222222222222,
              "#7201a8"
             ],
             [
              0.3333333333333333,
              "#9c179e"
             ],
             [
              0.4444444444444444,
              "#bd3786"
             ],
             [
              0.5555555555555556,
              "#d8576b"
             ],
             [
              0.6666666666666666,
              "#ed7953"
             ],
             [
              0.7777777777777778,
              "#fb9f3a"
             ],
             [
              0.8888888888888888,
              "#fdca26"
             ],
             [
              1,
              "#f0f921"
             ]
            ],
            "type": "heatmap"
           }
          ],
          "heatmapgl": [
           {
            "colorbar": {
             "outlinewidth": 0,
             "ticks": ""
            },
            "colorscale": [
             [
              0,
              "#0d0887"
             ],
             [
              0.1111111111111111,
              "#46039f"
             ],
             [
              0.2222222222222222,
              "#7201a8"
             ],
             [
              0.3333333333333333,
              "#9c179e"
             ],
             [
              0.4444444444444444,
              "#bd3786"
             ],
             [
              0.5555555555555556,
              "#d8576b"
             ],
             [
              0.6666666666666666,
              "#ed7953"
             ],
             [
              0.7777777777777778,
              "#fb9f3a"
             ],
             [
              0.8888888888888888,
              "#fdca26"
             ],
             [
              1,
              "#f0f921"
             ]
            ],
            "type": "heatmapgl"
           }
          ],
          "histogram": [
           {
            "marker": {
             "colorbar": {
              "outlinewidth": 0,
              "ticks": ""
             }
            },
            "type": "histogram"
           }
          ],
          "histogram2d": [
           {
            "colorbar": {
             "outlinewidth": 0,
             "ticks": ""
            },
            "colorscale": [
             [
              0,
              "#0d0887"
             ],
             [
              0.1111111111111111,
              "#46039f"
             ],
             [
              0.2222222222222222,
              "#7201a8"
             ],
             [
              0.3333333333333333,
              "#9c179e"
             ],
             [
              0.4444444444444444,
              "#bd3786"
             ],
             [
              0.5555555555555556,
              "#d8576b"
             ],
             [
              0.6666666666666666,
              "#ed7953"
             ],
             [
              0.7777777777777778,
              "#fb9f3a"
             ],
             [
              0.8888888888888888,
              "#fdca26"
             ],
             [
              1,
              "#f0f921"
             ]
            ],
            "type": "histogram2d"
           }
          ],
          "histogram2dcontour": [
           {
            "colorbar": {
             "outlinewidth": 0,
             "ticks": ""
            },
            "colorscale": [
             [
              0,
              "#0d0887"
             ],
             [
              0.1111111111111111,
              "#46039f"
             ],
             [
              0.2222222222222222,
              "#7201a8"
             ],
             [
              0.3333333333333333,
              "#9c179e"
             ],
             [
              0.4444444444444444,
              "#bd3786"
             ],
             [
              0.5555555555555556,
              "#d8576b"
             ],
             [
              0.6666666666666666,
              "#ed7953"
             ],
             [
              0.7777777777777778,
              "#fb9f3a"
             ],
             [
              0.8888888888888888,
              "#fdca26"
             ],
             [
              1,
              "#f0f921"
             ]
            ],
            "type": "histogram2dcontour"
           }
          ],
          "mesh3d": [
           {
            "colorbar": {
             "outlinewidth": 0,
             "ticks": ""
            },
            "type": "mesh3d"
           }
          ],
          "parcoords": [
           {
            "line": {
             "colorbar": {
              "outlinewidth": 0,
              "ticks": ""
             }
            },
            "type": "parcoords"
           }
          ],
          "pie": [
           {
            "automargin": true,
            "type": "pie"
           }
          ],
          "scatter": [
           {
            "marker": {
             "colorbar": {
              "outlinewidth": 0,
              "ticks": ""
             }
            },
            "type": "scatter"
           }
          ],
          "scatter3d": [
           {
            "line": {
             "colorbar": {
              "outlinewidth": 0,
              "ticks": ""
             }
            },
            "marker": {
             "colorbar": {
              "outlinewidth": 0,
              "ticks": ""
             }
            },
            "type": "scatter3d"
           }
          ],
          "scattercarpet": [
           {
            "marker": {
             "colorbar": {
              "outlinewidth": 0,
              "ticks": ""
             }
            },
            "type": "scattercarpet"
           }
          ],
          "scattergeo": [
           {
            "marker": {
             "colorbar": {
              "outlinewidth": 0,
              "ticks": ""
             }
            },
            "type": "scattergeo"
           }
          ],
          "scattergl": [
           {
            "marker": {
             "colorbar": {
              "outlinewidth": 0,
              "ticks": ""
             }
            },
            "type": "scattergl"
           }
          ],
          "scattermapbox": [
           {
            "marker": {
             "colorbar": {
              "outlinewidth": 0,
              "ticks": ""
             }
            },
            "type": "scattermapbox"
           }
          ],
          "scatterpolar": [
           {
            "marker": {
             "colorbar": {
              "outlinewidth": 0,
              "ticks": ""
             }
            },
            "type": "scatterpolar"
           }
          ],
          "scatterpolargl": [
           {
            "marker": {
             "colorbar": {
              "outlinewidth": 0,
              "ticks": ""
             }
            },
            "type": "scatterpolargl"
           }
          ],
          "scatterternary": [
           {
            "marker": {
             "colorbar": {
              "outlinewidth": 0,
              "ticks": ""
             }
            },
            "type": "scatterternary"
           }
          ],
          "surface": [
           {
            "colorbar": {
             "outlinewidth": 0,
             "ticks": ""
            },
            "colorscale": [
             [
              0,
              "#0d0887"
             ],
             [
              0.1111111111111111,
              "#46039f"
             ],
             [
              0.2222222222222222,
              "#7201a8"
             ],
             [
              0.3333333333333333,
              "#9c179e"
             ],
             [
              0.4444444444444444,
              "#bd3786"
             ],
             [
              0.5555555555555556,
              "#d8576b"
             ],
             [
              0.6666666666666666,
              "#ed7953"
             ],
             [
              0.7777777777777778,
              "#fb9f3a"
             ],
             [
              0.8888888888888888,
              "#fdca26"
             ],
             [
              1,
              "#f0f921"
             ]
            ],
            "type": "surface"
           }
          ],
          "table": [
           {
            "cells": {
             "fill": {
              "color": "#EBF0F8"
             },
             "line": {
              "color": "white"
             }
            },
            "header": {
             "fill": {
              "color": "#C8D4E3"
             },
             "line": {
              "color": "white"
             }
            },
            "type": "table"
           }
          ]
         },
         "layout": {
          "annotationdefaults": {
           "arrowcolor": "#2a3f5f",
           "arrowhead": 0,
           "arrowwidth": 1
          },
          "coloraxis": {
           "colorbar": {
            "outlinewidth": 0,
            "ticks": ""
           }
          },
          "colorscale": {
           "diverging": [
            [
             0,
             "#8e0152"
            ],
            [
             0.1,
             "#c51b7d"
            ],
            [
             0.2,
             "#de77ae"
            ],
            [
             0.3,
             "#f1b6da"
            ],
            [
             0.4,
             "#fde0ef"
            ],
            [
             0.5,
             "#f7f7f7"
            ],
            [
             0.6,
             "#e6f5d0"
            ],
            [
             0.7,
             "#b8e186"
            ],
            [
             0.8,
             "#7fbc41"
            ],
            [
             0.9,
             "#4d9221"
            ],
            [
             1,
             "#276419"
            ]
           ],
           "sequential": [
            [
             0,
             "#0d0887"
            ],
            [
             0.1111111111111111,
             "#46039f"
            ],
            [
             0.2222222222222222,
             "#7201a8"
            ],
            [
             0.3333333333333333,
             "#9c179e"
            ],
            [
             0.4444444444444444,
             "#bd3786"
            ],
            [
             0.5555555555555556,
             "#d8576b"
            ],
            [
             0.6666666666666666,
             "#ed7953"
            ],
            [
             0.7777777777777778,
             "#fb9f3a"
            ],
            [
             0.8888888888888888,
             "#fdca26"
            ],
            [
             1,
             "#f0f921"
            ]
           ],
           "sequentialminus": [
            [
             0,
             "#0d0887"
            ],
            [
             0.1111111111111111,
             "#46039f"
            ],
            [
             0.2222222222222222,
             "#7201a8"
            ],
            [
             0.3333333333333333,
             "#9c179e"
            ],
            [
             0.4444444444444444,
             "#bd3786"
            ],
            [
             0.5555555555555556,
             "#d8576b"
            ],
            [
             0.6666666666666666,
             "#ed7953"
            ],
            [
             0.7777777777777778,
             "#fb9f3a"
            ],
            [
             0.8888888888888888,
             "#fdca26"
            ],
            [
             1,
             "#f0f921"
            ]
           ]
          },
          "colorway": [
           "#636efa",
           "#EF553B",
           "#00cc96",
           "#ab63fa",
           "#FFA15A",
           "#19d3f3",
           "#FF6692",
           "#B6E880",
           "#FF97FF",
           "#FECB52"
          ],
          "font": {
           "color": "#2a3f5f"
          },
          "geo": {
           "bgcolor": "white",
           "lakecolor": "white",
           "landcolor": "#E5ECF6",
           "showlakes": true,
           "showland": true,
           "subunitcolor": "white"
          },
          "hoverlabel": {
           "align": "left"
          },
          "hovermode": "closest",
          "mapbox": {
           "style": "light"
          },
          "paper_bgcolor": "white",
          "plot_bgcolor": "#E5ECF6",
          "polar": {
           "angularaxis": {
            "gridcolor": "white",
            "linecolor": "white",
            "ticks": ""
           },
           "bgcolor": "#E5ECF6",
           "radialaxis": {
            "gridcolor": "white",
            "linecolor": "white",
            "ticks": ""
           }
          },
          "scene": {
           "xaxis": {
            "backgroundcolor": "#E5ECF6",
            "gridcolor": "white",
            "gridwidth": 2,
            "linecolor": "white",
            "showbackground": true,
            "ticks": "",
            "zerolinecolor": "white"
           },
           "yaxis": {
            "backgroundcolor": "#E5ECF6",
            "gridcolor": "white",
            "gridwidth": 2,
            "linecolor": "white",
            "showbackground": true,
            "ticks": "",
            "zerolinecolor": "white"
           },
           "zaxis": {
            "backgroundcolor": "#E5ECF6",
            "gridcolor": "white",
            "gridwidth": 2,
            "linecolor": "white",
            "showbackground": true,
            "ticks": "",
            "zerolinecolor": "white"
           }
          },
          "shapedefaults": {
           "line": {
            "color": "#2a3f5f"
           }
          },
          "ternary": {
           "aaxis": {
            "gridcolor": "white",
            "linecolor": "white",
            "ticks": ""
           },
           "baxis": {
            "gridcolor": "white",
            "linecolor": "white",
            "ticks": ""
           },
           "bgcolor": "#E5ECF6",
           "caxis": {
            "gridcolor": "white",
            "linecolor": "white",
            "ticks": ""
           }
          },
          "title": {
           "x": 0.05
          },
          "xaxis": {
           "automargin": true,
           "gridcolor": "white",
           "linecolor": "white",
           "ticks": "",
           "title": {
            "standoff": 15
           },
           "zerolinecolor": "white",
           "zerolinewidth": 2
          },
          "yaxis": {
           "automargin": true,
           "gridcolor": "white",
           "linecolor": "white",
           "ticks": "",
           "title": {
            "standoff": 15
           },
           "zerolinecolor": "white",
           "zerolinewidth": 2
          }
         }
        },
        "title": {
         "text": "US COVID-19 Cases"
        }
       }
      },
      "text/html": [
       "<div>\n",
       "        \n",
       "        \n",
       "            <div id=\"513a63c3-f482-49b5-b9f7-78972dcf06f3\" class=\"plotly-graph-div\" style=\"height:525px; width:100%;\"></div>\n",
       "            <script type=\"text/javascript\">\n",
       "                require([\"plotly\"], function(Plotly) {\n",
       "                    window.PLOTLYENV=window.PLOTLYENV || {};\n",
       "                    \n",
       "                if (document.getElementById(\"513a63c3-f482-49b5-b9f7-78972dcf06f3\")) {\n",
       "                    Plotly.newPlot(\n",
       "                        '513a63c3-f482-49b5-b9f7-78972dcf06f3',\n",
       "                        [{\"mode\": \"lines\", \"name\": \"Confirmed\", \"type\": \"scatter\", \"x\": [\"2020-01-22\", \"2020-01-23\", \"2020-01-24\", \"2020-01-25\", \"2020-01-26\", \"2020-01-27\", \"2020-01-28\", \"2020-01-29\", \"2020-01-30\", \"2020-01-31\", \"2020-02-01\", \"2020-02-02\", \"2020-02-03\", \"2020-02-04\", \"2020-02-05\", \"2020-02-06\", \"2020-02-07\", \"2020-02-08\", \"2020-02-09\", \"2020-02-10\", \"2020-02-11\", \"2020-02-12\", \"2020-02-13\", \"2020-02-14\", \"2020-02-15\", \"2020-02-16\", \"2020-02-17\", \"2020-02-18\", \"2020-02-19\", \"2020-02-20\", \"2020-02-21\", \"2020-02-22\", \"2020-02-23\", \"2020-02-24\", \"2020-02-25\", \"2020-02-26\", \"2020-02-27\", \"2020-02-28\", \"2020-02-29\", \"2020-03-01\", \"2020-03-02\", \"2020-03-03\", \"2020-03-04\", \"2020-03-05\", \"2020-03-06\", \"2020-03-07\", \"2020-03-08\", \"2020-03-09\", \"2020-03-10\", \"2020-03-11\", \"2020-03-12\", \"2020-03-13\", \"2020-03-14\", \"2020-03-15\", \"2020-03-16\", \"2020-03-17\", \"2020-03-18\", \"2020-03-19\", \"2020-03-20\", \"2020-03-21\", \"2020-03-22\", \"2020-03-23\", \"2020-03-24\", \"2020-03-25\", \"2020-03-26\", \"2020-03-27\", \"2020-03-28\", \"2020-03-29\", \"2020-03-30\", \"2020-03-31\", \"2020-04-01\", \"2020-04-02\", \"2020-04-03\", \"2020-04-04\", \"2020-04-05\", \"2020-04-06\", \"2020-04-07\", \"2020-04-08\", \"2020-04-09\", \"2020-04-10\", \"2020-04-11\", \"2020-04-12\", \"2020-04-13\", \"2020-04-14\", \"2020-04-15\", \"2020-04-16\", \"2020-04-17\", \"2020-04-18\", \"2020-04-19\", \"2020-04-20\", \"2020-04-21\", \"2020-04-22\", \"2020-04-23\", \"2020-04-24\", \"2020-04-25\", \"2020-04-26\", \"2020-04-27\", \"2020-04-28\", \"2020-04-29\", \"2020-04-30\", \"2020-05-01\", \"2020-05-02\", \"2020-05-03\", \"2020-05-04\", \"2020-05-05\", \"2020-05-06\", \"2020-05-07\", \"2020-05-08\", \"2020-05-09\", \"2020-05-10\", \"2020-05-11\", \"2020-05-12\", \"2020-05-13\", \"2020-05-14\", \"2020-05-15\", \"2020-05-16\", \"2020-05-17\", \"2020-05-18\", \"2020-05-19\", \"2020-05-20\", \"2020-05-21\", \"2020-05-22\", \"2020-05-23\", \"2020-05-24\", \"2020-05-25\", \"2020-05-26\", \"2020-05-27\", \"2020-05-28\", \"2020-05-29\", \"2020-05-30\", \"2020-05-31\", \"2020-06-01\", \"2020-06-02\", \"2020-06-03\", \"2020-06-04\", \"2020-06-05\", \"2020-06-06\", \"2020-06-07\", \"2020-06-08\", \"2020-06-09\", \"2020-06-10\", \"2020-06-11\", \"2020-06-12\", \"2020-06-13\", \"2020-06-14\", \"2020-06-15\", \"2020-06-16\", \"2020-06-17\", \"2020-06-18\", \"2020-06-19\", \"2020-06-20\", \"2020-06-21\", \"2020-06-22\", \"2020-06-23\", \"2020-06-24\", \"2020-06-25\", \"2020-06-26\", \"2020-06-27\", \"2020-06-28\", \"2020-06-29\", \"2020-06-30\", \"2020-07-01\", \"2020-07-02\", \"2020-07-03\", \"2020-07-04\", \"2020-07-05\", \"2020-07-06\", \"2020-07-07\", \"2020-07-08\", \"2020-07-09\", \"2020-07-10\", \"2020-07-11\", \"2020-07-12\", \"2020-07-13\", \"2020-07-14\", \"2020-07-15\", \"2020-07-16\", \"2020-07-17\", \"2020-07-18\", \"2020-07-19\", \"2020-07-20\", \"2020-07-21\", \"2020-07-22\", \"2020-07-23\", \"2020-07-24\", \"2020-07-25\", \"2020-07-26\", \"2020-07-27\", \"2020-07-28\", \"2020-07-29\", \"2020-07-30\", \"2020-07-31\", \"2020-08-01\", \"2020-08-02\", \"2020-08-03\", \"2020-08-04\", \"2020-08-05\", \"2020-08-06\", \"2020-08-07\", \"2020-08-08\", \"2020-08-09\", \"2020-08-10\", \"2020-08-11\", \"2020-08-12\", \"2020-08-13\", \"2020-08-14\", \"2020-08-15\", \"2020-08-16\", \"2020-08-17\"], \"y\": [1, 1, 2, 2, 5, 5, 5, 5, 5, 7, 8, 8, 11, 11, 11, 11, 11, 11, 11, 11, 12, 12, 13, 13, 13, 13, 13, 13, 13, 13, 15, 15, 15, 15, 15, 15, 16, 16, 24, 30, 53, 73, 104, 174, 222, 337, 451, 519, 711, 1109, 1561, 2157, 2870, 2968, 4360, 6141, 8917, 14157, 19479, 25825, 33761, 43850, 54112, 66055, 84091, 102276, 122069, 141205, 162707, 188724, 214205, 244610, 276547, 309699, 337573, 367215, 397992, 429686, 464442, 497943, 527969, 556522, 581813, 608878, 637974, 669272, 701996, 730337, 756375, 783716, 809318, 837422, 871617, 907908, 940829, 968518, 990983, 1015518, 1043038, 1072667, 1106829, 1136024, 1161611, 1184086, 1208271, 1233527, 1261409, 1288587, 1314320, 1334084, 1352962, 1375152, 1396110, 1423727, 1449027, 1474128, 1493132, 1514901, 1535350, 1559157, 1584512, 1608653, 1630476, 1651289, 1670280, 1689163, 1707445, 1730260, 1754764, 1779214, 1799124, 1816479, 1837374, 1857332, 1878683, 1903907, 1926639, 1944370, 1961785, 1979912, 2000706, 2023656, 2048986, 2074542, 2094366, 2114026, 2137731, 2163290, 2191099, 2222579, 2255328, 2281767, 2312303, 2347491, 2382426, 2422299, 2467554, 2510259, 2549864, 2590668, 2636414, 2687588, 2742049, 2795361, 2841241, 2891124, 2936077, 2996098, 3054699, 3117946, 3185737, 3245925, 3304942, 3364157, 3431574, 3498902, 3576157, 3647715, 3711413, 3773260, 3834677, 3899211, 3970121, 4038816, 4112531, 4178970, 4233923, 4290337, 4356206, 4426982, 4495015, 4562107, 4620592, 4668172, 4713540, 4771080, 4823890, 4883582, 4941755, 4997929, 5044864, 5094400, 5141208, 5197411, 5248958, 5313252, 5361165, 5403213, 5438325]}, {\"mode\": \"lines\", \"name\": \"Deaths\", \"type\": \"scatter\", \"x\": [\"2020-01-22\", \"2020-01-23\", \"2020-01-24\", \"2020-01-25\", \"2020-01-26\", \"2020-01-27\", \"2020-01-28\", \"2020-01-29\", \"2020-01-30\", \"2020-01-31\", \"2020-02-01\", \"2020-02-02\", \"2020-02-03\", \"2020-02-04\", \"2020-02-05\", \"2020-02-06\", \"2020-02-07\", \"2020-02-08\", \"2020-02-09\", \"2020-02-10\", \"2020-02-11\", \"2020-02-12\", \"2020-02-13\", \"2020-02-14\", \"2020-02-15\", \"2020-02-16\", \"2020-02-17\", \"2020-02-18\", \"2020-02-19\", \"2020-02-20\", \"2020-02-21\", \"2020-02-22\", \"2020-02-23\", \"2020-02-24\", \"2020-02-25\", \"2020-02-26\", \"2020-02-27\", \"2020-02-28\", \"2020-02-29\", \"2020-03-01\", \"2020-03-02\", \"2020-03-03\", \"2020-03-04\", \"2020-03-05\", \"2020-03-06\", \"2020-03-07\", \"2020-03-08\", \"2020-03-09\", \"2020-03-10\", \"2020-03-11\", \"2020-03-12\", \"2020-03-13\", \"2020-03-14\", \"2020-03-15\", \"2020-03-16\", \"2020-03-17\", \"2020-03-18\", \"2020-03-19\", \"2020-03-20\", \"2020-03-21\", \"2020-03-22\", \"2020-03-23\", \"2020-03-24\", \"2020-03-25\", \"2020-03-26\", \"2020-03-27\", \"2020-03-28\", \"2020-03-29\", \"2020-03-30\", \"2020-03-31\", \"2020-04-01\", \"2020-04-02\", \"2020-04-03\", \"2020-04-04\", \"2020-04-05\", \"2020-04-06\", \"2020-04-07\", \"2020-04-08\", \"2020-04-09\", \"2020-04-10\", \"2020-04-11\", \"2020-04-12\", \"2020-04-13\", \"2020-04-14\", \"2020-04-15\", \"2020-04-16\", \"2020-04-17\", \"2020-04-18\", \"2020-04-19\", \"2020-04-20\", \"2020-04-21\", \"2020-04-22\", \"2020-04-23\", \"2020-04-24\", \"2020-04-25\", \"2020-04-26\", \"2020-04-27\", \"2020-04-28\", \"2020-04-29\", \"2020-04-30\", \"2020-05-01\", \"2020-05-02\", \"2020-05-03\", \"2020-05-04\", \"2020-05-05\", \"2020-05-06\", \"2020-05-07\", \"2020-05-08\", \"2020-05-09\", \"2020-05-10\", \"2020-05-11\", \"2020-05-12\", \"2020-05-13\", \"2020-05-14\", \"2020-05-15\", \"2020-05-16\", \"2020-05-17\", \"2020-05-18\", \"2020-05-19\", \"2020-05-20\", \"2020-05-21\", \"2020-05-22\", \"2020-05-23\", \"2020-05-24\", \"2020-05-25\", \"2020-05-26\", \"2020-05-27\", \"2020-05-28\", \"2020-05-29\", \"2020-05-30\", \"2020-05-31\", \"2020-06-01\", \"2020-06-02\", \"2020-06-03\", \"2020-06-04\", \"2020-06-05\", \"2020-06-06\", \"2020-06-07\", \"2020-06-08\", \"2020-06-09\", \"2020-06-10\", \"2020-06-11\", \"2020-06-12\", \"2020-06-13\", \"2020-06-14\", \"2020-06-15\", \"2020-06-16\", \"2020-06-17\", \"2020-06-18\", \"2020-06-19\", \"2020-06-20\", \"2020-06-21\", \"2020-06-22\", \"2020-06-23\", \"2020-06-24\", \"2020-06-25\", \"2020-06-26\", \"2020-06-27\", \"2020-06-28\", \"2020-06-29\", \"2020-06-30\", \"2020-07-01\", \"2020-07-02\", \"2020-07-03\", \"2020-07-04\", \"2020-07-05\", \"2020-07-06\", \"2020-07-07\", \"2020-07-08\", \"2020-07-09\", \"2020-07-10\", \"2020-07-11\", \"2020-07-12\", \"2020-07-13\", \"2020-07-14\", \"2020-07-15\", \"2020-07-16\", \"2020-07-17\", \"2020-07-18\", \"2020-07-19\", \"2020-07-20\", \"2020-07-21\", \"2020-07-22\", \"2020-07-23\", \"2020-07-24\", \"2020-07-25\", \"2020-07-26\", \"2020-07-27\", \"2020-07-28\", \"2020-07-29\", \"2020-07-30\", \"2020-07-31\", \"2020-08-01\", \"2020-08-02\", \"2020-08-03\", \"2020-08-04\", \"2020-08-05\", \"2020-08-06\", \"2020-08-07\", \"2020-08-08\", \"2020-08-09\", \"2020-08-10\", \"2020-08-11\", \"2020-08-12\", \"2020-08-13\", \"2020-08-14\", \"2020-08-15\", \"2020-08-16\", \"2020-08-17\"], \"y\": [0, 0, 0, 0, 0, 0, 0, 0, 0, 0, 0, 0, 0, 0, 0, 0, 0, 0, 0, 0, 0, 0, 0, 0, 0, 0, 0, 0, 0, 0, 0, 0, 0, 0, 0, 0, 0, 0, 1, 1, 6, 7, 11, 12, 14, 17, 21, 22, 28, 33, 43, 52, 58, 70, 97, 132, 191, 269, 368, 463, 611, 798, 1040, 1356, 1778, 2341, 2995, 3629, 4463, 5718, 6986, 8599, 9936, 11263, 12765, 14504, 16883, 19065, 21216, 23362, 25486, 27336, 29242, 31699, 34308, 36483, 39149, 41594, 42870, 44704, 47208, 49639, 52108, 54262, 55959, 57289, 58756, 60997, 63518, 65842, 67733, 69425, 70546, 71879, 74197, 76560, 78496, 80243, 81731, 82625, 83640, 85266, 87029, 88812, 90493, 91709, 92467, 93243, 94798, 96377, 97611, 98884, 100014, 100628, 101151, 101846, 103364, 104556, 105727, 106706, 107297, 108074, 109117, 110128, 111151, 112100, 112787, 113234, 113747, 114692, 115610, 116498, 117330, 118093, 118401, 118792, 119635, 120387, 121097, 121769, 122382, 122666, 123053, 123900, 124664, 125223, 125835, 126335, 126586, 126950, 127685, 128372, 129096, 129749, 130020, 130319, 130670, 131894, 132744, 133756, 134586, 135277, 135728, 136117, 137045, 138013, 138966, 139886, 140756, 141201, 141715, 142824, 144035, 145156, 146279, 147180, 147657, 148782, 150150, 151586, 152802, 154048, 155159, 155565, 156104, 157482, 158854, 160104, 161347, 162423, 162938, 163463, 164527, 166034, 167110, 168452, 169481, 170052, 170497]}, {\"mode\": \"lines\", \"name\": \"Recovered\", \"type\": \"scatter\", \"x\": [\"2020-01-22\", \"2020-01-23\", \"2020-01-24\", \"2020-01-25\", \"2020-01-26\", \"2020-01-27\", \"2020-01-28\", \"2020-01-29\", \"2020-01-30\", \"2020-01-31\", \"2020-02-01\", \"2020-02-02\", \"2020-02-03\", \"2020-02-04\", \"2020-02-05\", \"2020-02-06\", \"2020-02-07\", \"2020-02-08\", \"2020-02-09\", \"2020-02-10\", \"2020-02-11\", \"2020-02-12\", \"2020-02-13\", \"2020-02-14\", \"2020-02-15\", \"2020-02-16\", \"2020-02-17\", \"2020-02-18\", \"2020-02-19\", \"2020-02-20\", \"2020-02-21\", \"2020-02-22\", \"2020-02-23\", \"2020-02-24\", \"2020-02-25\", \"2020-02-26\", \"2020-02-27\", \"2020-02-28\", \"2020-02-29\", \"2020-03-01\", \"2020-03-02\", \"2020-03-03\", \"2020-03-04\", \"2020-03-05\", \"2020-03-06\", \"2020-03-07\", \"2020-03-08\", \"2020-03-09\", \"2020-03-10\", \"2020-03-11\", \"2020-03-12\", \"2020-03-13\", \"2020-03-14\", \"2020-03-15\", \"2020-03-16\", \"2020-03-17\", \"2020-03-18\", \"2020-03-19\", \"2020-03-20\", \"2020-03-21\", \"2020-03-22\", \"2020-03-23\", \"2020-03-24\", \"2020-03-25\", \"2020-03-26\", \"2020-03-27\", \"2020-03-28\", \"2020-03-29\", \"2020-03-30\", \"2020-03-31\", \"2020-04-01\", \"2020-04-02\", \"2020-04-03\", \"2020-04-04\", \"2020-04-05\", \"2020-04-06\", \"2020-04-07\", \"2020-04-08\", \"2020-04-09\", \"2020-04-10\", \"2020-04-11\", \"2020-04-12\", \"2020-04-13\", \"2020-04-14\", \"2020-04-15\", \"2020-04-16\", \"2020-04-17\", \"2020-04-18\", \"2020-04-19\", \"2020-04-20\", \"2020-04-21\", \"2020-04-22\", \"2020-04-23\", \"2020-04-24\", \"2020-04-25\", \"2020-04-26\", \"2020-04-27\", \"2020-04-28\", \"2020-04-29\", \"2020-04-30\", \"2020-05-01\", \"2020-05-02\", \"2020-05-03\", \"2020-05-04\", \"2020-05-05\", \"2020-05-06\", \"2020-05-07\", \"2020-05-08\", \"2020-05-09\", \"2020-05-10\", \"2020-05-11\", \"2020-05-12\", \"2020-05-13\", \"2020-05-14\", \"2020-05-15\", \"2020-05-16\", \"2020-05-17\", \"2020-05-18\", \"2020-05-19\", \"2020-05-20\", \"2020-05-21\", \"2020-05-22\", \"2020-05-23\", \"2020-05-24\", \"2020-05-25\", \"2020-05-26\", \"2020-05-27\", \"2020-05-28\", \"2020-05-29\", \"2020-05-30\", \"2020-05-31\", \"2020-06-01\", \"2020-06-02\", \"2020-06-03\", \"2020-06-04\", \"2020-06-05\", \"2020-06-06\", \"2020-06-07\", \"2020-06-08\", \"2020-06-09\", \"2020-06-10\", \"2020-06-11\", \"2020-06-12\", \"2020-06-13\", \"2020-06-14\", \"2020-06-15\", \"2020-06-16\", \"2020-06-17\", \"2020-06-18\", \"2020-06-19\", \"2020-06-20\", \"2020-06-21\", \"2020-06-22\", \"2020-06-23\", \"2020-06-24\", \"2020-06-25\", \"2020-06-26\", \"2020-06-27\", \"2020-06-28\", \"2020-06-29\", \"2020-06-30\", \"2020-07-01\", \"2020-07-02\", \"2020-07-03\", \"2020-07-04\", \"2020-07-05\", \"2020-07-06\", \"2020-07-07\", \"2020-07-08\", \"2020-07-09\", \"2020-07-10\", \"2020-07-11\", \"2020-07-12\", \"2020-07-13\", \"2020-07-14\", \"2020-07-15\", \"2020-07-16\", \"2020-07-17\", \"2020-07-18\", \"2020-07-19\", \"2020-07-20\", \"2020-07-21\", \"2020-07-22\", \"2020-07-23\", \"2020-07-24\", \"2020-07-25\", \"2020-07-26\", \"2020-07-27\", \"2020-07-28\", \"2020-07-29\", \"2020-07-30\", \"2020-07-31\", \"2020-08-01\", \"2020-08-02\", \"2020-08-03\", \"2020-08-04\", \"2020-08-05\", \"2020-08-06\", \"2020-08-07\", \"2020-08-08\", \"2020-08-09\", \"2020-08-10\", \"2020-08-11\", \"2020-08-12\", \"2020-08-13\", \"2020-08-14\", \"2020-08-15\", \"2020-08-16\", \"2020-08-17\"], \"y\": [0, 0, 0, 0, 0, 0, 0, 0, 0, 0, 0, 0, 0, 0, 0, 0, 0, 0, 3, 3, 3, 3, 3, 3, 3, 3, 3, 3, 3, 3, 5, 5, 5, 5, 6, 6, 6, 7, 7, 7, 7, 7, 7, 7, 7, 7, 7, 7, 8, 8, 12, 12, 12, 12, 17, 17, 105, 121, 147, 176, 178, 178, 348, 361, 681, 869, 1072, 2665, 5644, 7024, 8474, 9001, 9707, 14652, 17448, 19581, 21763, 23559, 25410, 28790, 31270, 32988, 43482, 47763, 52096, 54703, 58545, 64840, 70337, 72329, 75204, 77366, 80203, 99079, 100372, 106988, 111424, 115936, 120720, 153947, 164015, 175382, 180152, 187180, 189791, 189910, 195036, 198993, 212534, 216169, 232733, 230287, 243430, 246414, 250747, 268376, 272265, 283178, 289392, 294312, 298418, 350135, 361239, 366736, 379157, 384902, 391508, 399991, 406446, 416461, 444758, 458231, 463868, 479258, 485002, 491706, 500849, 506367, 518522, 524855, 533504, 540292, 547386, 556606, 561816, 576334, 583503, 592191, 599115, 606715, 617460, 622133, 640198, 647548, 656161, 663562, 670809, 679308, 685164, 705203, 720631, 729994, 781970, 790404, 894325, 906763, 924148, 936476, 953462, 969111, 983185, 995576, 1006326, 1031939, 1049098, 1075882, 1090645, 1107204, 1122720, 1131121, 1160087, 1182018, 1210849, 1233269, 1261624, 1279414, 1297863, 1325804, 1355363, 1389425, 1414155, 1438160, 1461885, 1468689, 1513446, 1528979, 1577851, 1598624, 1623870, 1643118, 1656864, 1670755, 1714960, 1753760, 1774648, 1796326, 1818527, 1833067, 1865580]}, {\"mode\": \"lines\", \"name\": \"Active\", \"type\": \"scatter\", \"x\": [\"2020-01-22\", \"2020-01-23\", \"2020-01-24\", \"2020-01-25\", \"2020-01-26\", \"2020-01-27\", \"2020-01-28\", \"2020-01-29\", \"2020-01-30\", \"2020-01-31\", \"2020-02-01\", \"2020-02-02\", \"2020-02-03\", \"2020-02-04\", \"2020-02-05\", \"2020-02-06\", \"2020-02-07\", \"2020-02-08\", \"2020-02-09\", \"2020-02-10\", \"2020-02-11\", \"2020-02-12\", \"2020-02-13\", \"2020-02-14\", \"2020-02-15\", \"2020-02-16\", \"2020-02-17\", \"2020-02-18\", \"2020-02-19\", \"2020-02-20\", \"2020-02-21\", \"2020-02-22\", \"2020-02-23\", \"2020-02-24\", \"2020-02-25\", \"2020-02-26\", \"2020-02-27\", \"2020-02-28\", \"2020-02-29\", \"2020-03-01\", \"2020-03-02\", \"2020-03-03\", \"2020-03-04\", \"2020-03-05\", \"2020-03-06\", \"2020-03-07\", \"2020-03-08\", \"2020-03-09\", \"2020-03-10\", \"2020-03-11\", \"2020-03-12\", \"2020-03-13\", \"2020-03-14\", \"2020-03-15\", \"2020-03-16\", \"2020-03-17\", \"2020-03-18\", \"2020-03-19\", \"2020-03-20\", \"2020-03-21\", \"2020-03-22\", \"2020-03-23\", \"2020-03-24\", \"2020-03-25\", \"2020-03-26\", \"2020-03-27\", \"2020-03-28\", \"2020-03-29\", \"2020-03-30\", \"2020-03-31\", \"2020-04-01\", \"2020-04-02\", \"2020-04-03\", \"2020-04-04\", \"2020-04-05\", \"2020-04-06\", \"2020-04-07\", \"2020-04-08\", \"2020-04-09\", \"2020-04-10\", \"2020-04-11\", \"2020-04-12\", \"2020-04-13\", \"2020-04-14\", \"2020-04-15\", \"2020-04-16\", \"2020-04-17\", \"2020-04-18\", \"2020-04-19\", \"2020-04-20\", \"2020-04-21\", \"2020-04-22\", \"2020-04-23\", \"2020-04-24\", \"2020-04-25\", \"2020-04-26\", \"2020-04-27\", \"2020-04-28\", \"2020-04-29\", \"2020-04-30\", \"2020-05-01\", \"2020-05-02\", \"2020-05-03\", \"2020-05-04\", \"2020-05-05\", \"2020-05-06\", \"2020-05-07\", \"2020-05-08\", \"2020-05-09\", \"2020-05-10\", \"2020-05-11\", \"2020-05-12\", \"2020-05-13\", \"2020-05-14\", \"2020-05-15\", \"2020-05-16\", \"2020-05-17\", \"2020-05-18\", \"2020-05-19\", \"2020-05-20\", \"2020-05-21\", \"2020-05-22\", \"2020-05-23\", \"2020-05-24\", \"2020-05-25\", \"2020-05-26\", \"2020-05-27\", \"2020-05-28\", \"2020-05-29\", \"2020-05-30\", \"2020-05-31\", \"2020-06-01\", \"2020-06-02\", \"2020-06-03\", \"2020-06-04\", \"2020-06-05\", \"2020-06-06\", \"2020-06-07\", \"2020-06-08\", \"2020-06-09\", \"2020-06-10\", \"2020-06-11\", \"2020-06-12\", \"2020-06-13\", \"2020-06-14\", \"2020-06-15\", \"2020-06-16\", \"2020-06-17\", \"2020-06-18\", \"2020-06-19\", \"2020-06-20\", \"2020-06-21\", \"2020-06-22\", \"2020-06-23\", \"2020-06-24\", \"2020-06-25\", \"2020-06-26\", \"2020-06-27\", \"2020-06-28\", \"2020-06-29\", \"2020-06-30\", \"2020-07-01\", \"2020-07-02\", \"2020-07-03\", \"2020-07-04\", \"2020-07-05\", \"2020-07-06\", \"2020-07-07\", \"2020-07-08\", \"2020-07-09\", \"2020-07-10\", \"2020-07-11\", \"2020-07-12\", \"2020-07-13\", \"2020-07-14\", \"2020-07-15\", \"2020-07-16\", \"2020-07-17\", \"2020-07-18\", \"2020-07-19\", \"2020-07-20\", \"2020-07-21\", \"2020-07-22\", \"2020-07-23\", \"2020-07-24\", \"2020-07-25\", \"2020-07-26\", \"2020-07-27\", \"2020-07-28\", \"2020-07-29\", \"2020-07-30\", \"2020-07-31\", \"2020-08-01\", \"2020-08-02\", \"2020-08-03\", \"2020-08-04\", \"2020-08-05\", \"2020-08-06\", \"2020-08-07\", \"2020-08-08\", \"2020-08-09\", \"2020-08-10\", \"2020-08-11\", \"2020-08-12\", \"2020-08-13\", \"2020-08-14\", \"2020-08-15\", \"2020-08-16\", \"2020-08-17\"], \"y\": [1, 1, 2, 2, 5, 5, 5, 5, 5, 7, 8, 8, 11, 11, 11, 11, 11, 11, 8, 8, 9, 9, 10, 10, 10, 10, 10, 10, 10, 10, 10, 10, 10, 10, 9, 9, 10, 9, 16, 22, 40, 59, 86, 155, 201, 313, 423, 490, 675, 1068, 1506, 2093, 2800, 2886, 4246, 5992, 8621, 13767, 18964, 25186, 32972, 42874, 52724, 64338, 81632, 99066, 118002, 134911, 152600, 175982, 198745, 227010, 256904, 283784, 307360, 333130, 359346, 387062, 417816, 445791, 471213, 496198, 509089, 529416, 551570, 578086, 604302, 623903, 643168, 666683, 686906, 710417, 739306, 754567, 784498, 804241, 820803, 838585, 858800, 852878, 875081, 891217, 910913, 925027, 944283, 967057, 987877, 1009351, 1020055, 1035290, 1036589, 1059599, 1065651, 1088501, 1107787, 1114043, 1128400, 1138480, 1151160, 1168468, 1188483, 1159634, 1169223, 1183925, 1189972, 1202415, 1212573, 1225713, 1242591, 1256047, 1247069, 1250174, 1264389, 1267946, 1282530, 1300101, 1313003, 1324769, 1329516, 1340365, 1351592, 1366866, 1384270, 1399843, 1414149, 1418900, 1434593, 1450712, 1470887, 1494095, 1515486, 1536968, 1549052, 1576043, 1601601, 1633514, 1670910, 1704616, 1738114, 1758515, 1788098, 1829222, 1830983, 1875208, 1816896, 1854042, 1881259, 1927728, 1968493, 2015079, 2067966, 2115072, 2162888, 2196101, 2245431, 2285007, 2346546, 2400625, 2447937, 2500938, 2532875, 2574369, 2615237, 2660391, 2704628, 2752376, 2788403, 2815751, 2850693, 2885971, 2928058, 2969899, 3003548, 3043918, 3043990, 3084619, 3087185, 3124854, 3156538, 3192388, 3225062, 3260182, 3261721, 3277617, 3307200, 3348474, 3373157, 3400094, 3402248]}, {\"mode\": \"lines\", \"name\": \"New\", \"type\": \"scatter\", \"x\": [\"2020-01-22\", \"2020-01-23\", \"2020-01-24\", \"2020-01-25\", \"2020-01-26\", \"2020-01-27\", \"2020-01-28\", \"2020-01-29\", \"2020-01-30\", \"2020-01-31\", \"2020-02-01\", \"2020-02-02\", \"2020-02-03\", \"2020-02-04\", \"2020-02-05\", \"2020-02-06\", \"2020-02-07\", \"2020-02-08\", \"2020-02-09\", \"2020-02-10\", \"2020-02-11\", \"2020-02-12\", \"2020-02-13\", \"2020-02-14\", \"2020-02-15\", \"2020-02-16\", \"2020-02-17\", \"2020-02-18\", \"2020-02-19\", \"2020-02-20\", \"2020-02-21\", \"2020-02-22\", \"2020-02-23\", \"2020-02-24\", \"2020-02-25\", \"2020-02-26\", \"2020-02-27\", \"2020-02-28\", \"2020-02-29\", \"2020-03-01\", \"2020-03-02\", \"2020-03-03\", \"2020-03-04\", \"2020-03-05\", \"2020-03-06\", \"2020-03-07\", \"2020-03-08\", \"2020-03-09\", \"2020-03-10\", \"2020-03-11\", \"2020-03-12\", \"2020-03-13\", \"2020-03-14\", \"2020-03-15\", \"2020-03-16\", \"2020-03-17\", \"2020-03-18\", \"2020-03-19\", \"2020-03-20\", \"2020-03-21\", \"2020-03-22\", \"2020-03-23\", \"2020-03-24\", \"2020-03-25\", \"2020-03-26\", \"2020-03-27\", \"2020-03-28\", \"2020-03-29\", \"2020-03-30\", \"2020-03-31\", \"2020-04-01\", \"2020-04-02\", \"2020-04-03\", \"2020-04-04\", \"2020-04-05\", \"2020-04-06\", \"2020-04-07\", \"2020-04-08\", \"2020-04-09\", \"2020-04-10\", \"2020-04-11\", \"2020-04-12\", \"2020-04-13\", \"2020-04-14\", \"2020-04-15\", \"2020-04-16\", \"2020-04-17\", \"2020-04-18\", \"2020-04-19\", \"2020-04-20\", \"2020-04-21\", \"2020-04-22\", \"2020-04-23\", \"2020-04-24\", \"2020-04-25\", \"2020-04-26\", \"2020-04-27\", \"2020-04-28\", \"2020-04-29\", \"2020-04-30\", \"2020-05-01\", \"2020-05-02\", \"2020-05-03\", \"2020-05-04\", \"2020-05-05\", \"2020-05-06\", \"2020-05-07\", \"2020-05-08\", \"2020-05-09\", \"2020-05-10\", \"2020-05-11\", \"2020-05-12\", \"2020-05-13\", \"2020-05-14\", \"2020-05-15\", \"2020-05-16\", \"2020-05-17\", \"2020-05-18\", \"2020-05-19\", \"2020-05-20\", \"2020-05-21\", \"2020-05-22\", \"2020-05-23\", \"2020-05-24\", \"2020-05-25\", \"2020-05-26\", \"2020-05-27\", \"2020-05-28\", \"2020-05-29\", \"2020-05-30\", \"2020-05-31\", \"2020-06-01\", \"2020-06-02\", \"2020-06-03\", \"2020-06-04\", \"2020-06-05\", \"2020-06-06\", \"2020-06-07\", \"2020-06-08\", \"2020-06-09\", \"2020-06-10\", \"2020-06-11\", \"2020-06-12\", \"2020-06-13\", \"2020-06-14\", \"2020-06-15\", \"2020-06-16\", \"2020-06-17\", \"2020-06-18\", \"2020-06-19\", \"2020-06-20\", \"2020-06-21\", \"2020-06-22\", \"2020-06-23\", \"2020-06-24\", \"2020-06-25\", \"2020-06-26\", \"2020-06-27\", \"2020-06-28\", \"2020-06-29\", \"2020-06-30\", \"2020-07-01\", \"2020-07-02\", \"2020-07-03\", \"2020-07-04\", \"2020-07-05\", \"2020-07-06\", \"2020-07-07\", \"2020-07-08\", \"2020-07-09\", \"2020-07-10\", \"2020-07-11\", \"2020-07-12\", \"2020-07-13\", \"2020-07-14\", \"2020-07-15\", \"2020-07-16\", \"2020-07-17\", \"2020-07-18\", \"2020-07-19\", \"2020-07-20\", \"2020-07-21\", \"2020-07-22\", \"2020-07-23\", \"2020-07-24\", \"2020-07-25\", \"2020-07-26\", \"2020-07-27\", \"2020-07-28\", \"2020-07-29\", \"2020-07-30\", \"2020-07-31\", \"2020-08-01\", \"2020-08-02\", \"2020-08-03\", \"2020-08-04\", \"2020-08-05\", \"2020-08-06\", \"2020-08-07\", \"2020-08-08\", \"2020-08-09\", \"2020-08-10\", \"2020-08-11\", \"2020-08-12\", \"2020-08-13\", \"2020-08-14\", \"2020-08-15\", \"2020-08-16\", \"2020-08-17\"], \"y\": [0.0, 0.0, 1.0, 0.0, 3.0, 0.0, 0.0, 0.0, 0.0, 2.0, 1.0, 0.0, 3.0, 0.0, 0.0, 0.0, 0.0, 0.0, 0.0, 0.0, 1.0, 0.0, 1.0, 0.0, 0.0, 0.0, 0.0, 0.0, 0.0, 0.0, 2.0, 0.0, 0.0, 0.0, 0.0, 0.0, 1.0, 0.0, 8.0, 6.0, 23.0, 20.0, 31.0, 70.0, 48.0, 115.0, 114.0, 68.0, 192.0, 398.0, 452.0, 596.0, 713.0, 98.0, 1392.0, 1781.0, 2776.0, 5240.0, 5322.0, 6346.0, 7936.0, 10089.0, 10262.0, 11943.0, 18036.0, 18185.0, 19793.0, 19136.0, 21502.0, 26017.0, 25481.0, 30405.0, 31937.0, 33152.0, 27874.0, 29642.0, 30777.0, 31694.0, 34756.0, 33501.0, 30026.0, 28553.0, 25291.0, 27065.0, 29096.0, 31298.0, 32724.0, 28341.0, 26038.0, 27341.0, 25602.0, 28104.0, 34195.0, 36291.0, 32921.0, 27689.0, 22465.0, 24535.0, 27520.0, 29629.0, 34162.0, 29195.0, 25587.0, 22475.0, 24185.0, 25256.0, 27882.0, 27178.0, 25733.0, 19764.0, 18878.0, 22190.0, 20958.0, 27617.0, 25300.0, 25101.0, 19004.0, 21769.0, 20449.0, 23807.0, 25355.0, 24141.0, 21823.0, 20813.0, 18991.0, 18883.0, 18282.0, 22815.0, 24504.0, 24450.0, 19910.0, 17355.0, 20895.0, 19958.0, 21351.0, 25224.0, 22732.0, 17731.0, 17415.0, 18127.0, 20794.0, 22950.0, 25330.0, 25556.0, 19824.0, 19660.0, 23705.0, 25559.0, 27809.0, 31480.0, 32749.0, 26439.0, 30536.0, 35188.0, 34935.0, 39873.0, 45255.0, 42705.0, 39605.0, 40804.0, 45746.0, 51174.0, 54461.0, 53312.0, 45880.0, 49883.0, 44953.0, 60021.0, 58601.0, 63247.0, 67791.0, 60188.0, 59017.0, 59215.0, 67417.0, 67328.0, 77255.0, 71558.0, 63698.0, 61847.0, 61417.0, 64534.0, 70910.0, 68695.0, 73715.0, 66439.0, 54953.0, 56414.0, 65869.0, 70776.0, 68033.0, 67092.0, 58485.0, 47580.0, 45368.0, 57540.0, 52810.0, 59692.0, 58173.0, 56174.0, 46935.0, 49536.0, 46808.0, 56203.0, 51547.0, 64294.0, 47913.0, 42048.0, 35112.0]}, {\"mode\": \"lines\", \"name\": \"Fatality Rate\", \"type\": \"scatter\", \"x\": [\"2020-01-22\", \"2020-01-23\", \"2020-01-24\", \"2020-01-25\", \"2020-01-26\", \"2020-01-27\", \"2020-01-28\", \"2020-01-29\", \"2020-01-30\", \"2020-01-31\", \"2020-02-01\", \"2020-02-02\", \"2020-02-03\", \"2020-02-04\", \"2020-02-05\", \"2020-02-06\", \"2020-02-07\", \"2020-02-08\", \"2020-02-09\", \"2020-02-10\", \"2020-02-11\", \"2020-02-12\", \"2020-02-13\", \"2020-02-14\", \"2020-02-15\", \"2020-02-16\", \"2020-02-17\", \"2020-02-18\", \"2020-02-19\", \"2020-02-20\", \"2020-02-21\", \"2020-02-22\", \"2020-02-23\", \"2020-02-24\", \"2020-02-25\", \"2020-02-26\", \"2020-02-27\", \"2020-02-28\", \"2020-02-29\", \"2020-03-01\", \"2020-03-02\", \"2020-03-03\", \"2020-03-04\", \"2020-03-05\", \"2020-03-06\", \"2020-03-07\", \"2020-03-08\", \"2020-03-09\", \"2020-03-10\", \"2020-03-11\", \"2020-03-12\", \"2020-03-13\", \"2020-03-14\", \"2020-03-15\", \"2020-03-16\", \"2020-03-17\", \"2020-03-18\", \"2020-03-19\", \"2020-03-20\", \"2020-03-21\", \"2020-03-22\", \"2020-03-23\", \"2020-03-24\", \"2020-03-25\", \"2020-03-26\", \"2020-03-27\", \"2020-03-28\", \"2020-03-29\", \"2020-03-30\", \"2020-03-31\", \"2020-04-01\", \"2020-04-02\", \"2020-04-03\", \"2020-04-04\", \"2020-04-05\", \"2020-04-06\", \"2020-04-07\", \"2020-04-08\", \"2020-04-09\", \"2020-04-10\", \"2020-04-11\", \"2020-04-12\", \"2020-04-13\", \"2020-04-14\", \"2020-04-15\", \"2020-04-16\", \"2020-04-17\", \"2020-04-18\", \"2020-04-19\", \"2020-04-20\", \"2020-04-21\", \"2020-04-22\", \"2020-04-23\", \"2020-04-24\", \"2020-04-25\", \"2020-04-26\", \"2020-04-27\", \"2020-04-28\", \"2020-04-29\", \"2020-04-30\", \"2020-05-01\", \"2020-05-02\", \"2020-05-03\", \"2020-05-04\", \"2020-05-05\", \"2020-05-06\", \"2020-05-07\", \"2020-05-08\", \"2020-05-09\", \"2020-05-10\", \"2020-05-11\", \"2020-05-12\", \"2020-05-13\", \"2020-05-14\", \"2020-05-15\", \"2020-05-16\", \"2020-05-17\", \"2020-05-18\", \"2020-05-19\", \"2020-05-20\", \"2020-05-21\", \"2020-05-22\", \"2020-05-23\", \"2020-05-24\", \"2020-05-25\", \"2020-05-26\", \"2020-05-27\", \"2020-05-28\", \"2020-05-29\", \"2020-05-30\", \"2020-05-31\", \"2020-06-01\", \"2020-06-02\", \"2020-06-03\", \"2020-06-04\", \"2020-06-05\", \"2020-06-06\", \"2020-06-07\", \"2020-06-08\", \"2020-06-09\", \"2020-06-10\", \"2020-06-11\", \"2020-06-12\", \"2020-06-13\", \"2020-06-14\", \"2020-06-15\", \"2020-06-16\", \"2020-06-17\", \"2020-06-18\", \"2020-06-19\", \"2020-06-20\", \"2020-06-21\", \"2020-06-22\", \"2020-06-23\", \"2020-06-24\", \"2020-06-25\", \"2020-06-26\", \"2020-06-27\", \"2020-06-28\", \"2020-06-29\", \"2020-06-30\", \"2020-07-01\", \"2020-07-02\", \"2020-07-03\", \"2020-07-04\", \"2020-07-05\", \"2020-07-06\", \"2020-07-07\", \"2020-07-08\", \"2020-07-09\", \"2020-07-10\", \"2020-07-11\", \"2020-07-12\", \"2020-07-13\", \"2020-07-14\", \"2020-07-15\", \"2020-07-16\", \"2020-07-17\", \"2020-07-18\", \"2020-07-19\", \"2020-07-20\", \"2020-07-21\", \"2020-07-22\", \"2020-07-23\", \"2020-07-24\", \"2020-07-25\", \"2020-07-26\", \"2020-07-27\", \"2020-07-28\", \"2020-07-29\", \"2020-07-30\", \"2020-07-31\", \"2020-08-01\", \"2020-08-02\", \"2020-08-03\", \"2020-08-04\", \"2020-08-05\", \"2020-08-06\", \"2020-08-07\", \"2020-08-08\", \"2020-08-09\", \"2020-08-10\", \"2020-08-11\", \"2020-08-12\", \"2020-08-13\", \"2020-08-14\", \"2020-08-15\", \"2020-08-16\", \"2020-08-17\"], \"y\": [0.0, 0.0, 0.0, 0.0, 0.0, 0.0, 0.0, 0.0, 0.0, 0.0, 0.0, 0.0, 0.0, 0.0, 0.0, 0.0, 0.0, 0.0, 0.0, 0.0, 0.0, 0.0, 0.0, 0.0, 0.0, 0.0, 0.0, 0.0, 0.0, 0.0, 0.0, 0.0, 0.0, 0.0, 0.0, 0.0, 0.0, 0.0, 4.166666666666666, 3.333333333333333, 11.320754716981131, 9.58904109589041, 10.576923076923077, 6.896551724137932, 6.306306306306306, 5.044510385756675, 4.656319290465632, 4.238921001926782, 3.938115330520394, 2.9756537421100093, 2.7546444586803327, 2.4107556791840516, 2.020905923344948, 2.358490566037736, 2.2247706422018347, 2.149487054225696, 2.1419760008971633, 1.900120081938264, 1.8892140253606449, 1.7928363988383351, 1.809780515979977, 1.8198403648802737, 1.9219396806623301, 2.052834758913027, 2.1143760925663857, 2.2889045328327278, 2.4535303803586497, 2.570022307991927, 2.7429674199634926, 3.0298213263813825, 3.2613617796036505, 3.515391848248232, 3.592879329734186, 3.6367569801646114, 3.781404318473337, 3.9497297223697285, 4.242045066232487, 4.436960943572749, 4.5680623199452235, 4.69170166063184, 4.827177353215814, 4.911935197530376, 5.02601351293285, 5.206133248368309, 5.377648618909235, 5.451146917845062, 5.576812403489479, 5.695179074865439, 5.667823500247892, 5.704107100020926, 5.833059440170612, 5.927596838869769, 5.9783138695092, 5.9765967476880935, 5.9478396180389845, 5.915119801593776, 5.929062355257356, 6.006491268495487, 6.089711017240024, 6.1381584405971275, 6.1195541497376755, 6.1112265233833085, 6.073117420547843, 6.070420560668736, 6.14075815773117, 6.206592964726349, 6.222882506784082, 6.227208562557283, 6.218500821717695, 6.19338812248704, 6.181991807604352, 6.200478201682433, 6.23367786205958, 6.2379936603014485, 6.245087220596994, 6.221237233130367, 6.192821532188715, 6.15505567690562, 6.174357638323508, 6.1813531286458, 6.160319391711769, 6.1470062219757775, 6.13403693154637, 6.0939060334078405, 6.055930742151017, 6.029376679456037, 6.053723546000018, 6.042791256805336, 6.025140702681386, 5.997367376830442, 5.963846849911401, 5.949642137343728, 5.9387473644451285, 5.9293653477138175, 5.916431883399168, 5.887892633411192, 5.854080603579601, 5.823685821114294, 5.798137920312367, 5.792782709534565, 5.778460203548148, 5.756808469423658, 5.726247031458487, 5.6924853774953705, 5.6533098799350245, 5.619230794701672, 5.596354265340214, 5.564995909008963, 5.526769899488794, 5.478725390638533, 5.426350402247479, 5.375921380228569, 5.3216641590656595, 5.277975506615362, 5.232649408628012, 5.169593018863486, 5.099584446784143, 5.032747616879374, 4.9644216318988, 4.900280545403733, 4.843131617416688, 4.776476156315626, 4.708012147120638, 4.641582965491756, 4.576169356981684, 4.5075548471805424, 4.4504963595981994, 4.402192451648778, 4.345567271930883, 4.289875450055902, 4.224642523849268, 4.167594753421598, 4.106819423759934, 4.0460953516735385, 3.9936483957507543, 3.9444660067644084, 3.8859032195734136, 3.8348938993314987, 3.7925178361987744, 3.742148699002984, 3.695617649152719, 3.662894877963773, 3.627975066754893, 3.5940235950337924, 3.5569093582516462, 3.521920473226656, 3.4874748548804497, 3.467839472750043, 3.4468066937146684, 3.424138611812743, 3.3993657418273355, 3.3766853780500985, 3.357989625571788, 3.3324607576584584, 3.3118208395388606, 3.3007620916019014, 3.29306845719948, 3.278413263051588, 3.2649736783794423, 3.2498060696740585, 3.229779831527668, 3.2086801193467336, 3.200162296487518, 3.1945520567836563, 3.183679503627196, 3.1704123952712946, 3.161271850428032, 3.147238504201112, 3.135101340945971]}],\n",
       "                        {\"template\": {\"data\": {\"bar\": [{\"error_x\": {\"color\": \"#2a3f5f\"}, \"error_y\": {\"color\": \"#2a3f5f\"}, \"marker\": {\"line\": {\"color\": \"#E5ECF6\", \"width\": 0.5}}, \"type\": \"bar\"}], \"barpolar\": [{\"marker\": {\"line\": {\"color\": \"#E5ECF6\", \"width\": 0.5}}, \"type\": \"barpolar\"}], \"carpet\": [{\"aaxis\": {\"endlinecolor\": \"#2a3f5f\", \"gridcolor\": \"white\", \"linecolor\": \"white\", \"minorgridcolor\": \"white\", \"startlinecolor\": \"#2a3f5f\"}, \"baxis\": {\"endlinecolor\": \"#2a3f5f\", \"gridcolor\": \"white\", \"linecolor\": \"white\", \"minorgridcolor\": \"white\", \"startlinecolor\": \"#2a3f5f\"}, \"type\": \"carpet\"}], \"choropleth\": [{\"colorbar\": {\"outlinewidth\": 0, \"ticks\": \"\"}, \"type\": \"choropleth\"}], \"contour\": [{\"colorbar\": {\"outlinewidth\": 0, \"ticks\": \"\"}, \"colorscale\": [[0.0, \"#0d0887\"], [0.1111111111111111, \"#46039f\"], [0.2222222222222222, \"#7201a8\"], [0.3333333333333333, \"#9c179e\"], [0.4444444444444444, \"#bd3786\"], [0.5555555555555556, \"#d8576b\"], [0.6666666666666666, \"#ed7953\"], [0.7777777777777778, \"#fb9f3a\"], [0.8888888888888888, \"#fdca26\"], [1.0, \"#f0f921\"]], \"type\": \"contour\"}], \"contourcarpet\": [{\"colorbar\": {\"outlinewidth\": 0, \"ticks\": \"\"}, \"type\": \"contourcarpet\"}], \"heatmap\": [{\"colorbar\": {\"outlinewidth\": 0, \"ticks\": \"\"}, \"colorscale\": [[0.0, \"#0d0887\"], [0.1111111111111111, \"#46039f\"], [0.2222222222222222, \"#7201a8\"], [0.3333333333333333, \"#9c179e\"], [0.4444444444444444, \"#bd3786\"], [0.5555555555555556, \"#d8576b\"], [0.6666666666666666, \"#ed7953\"], [0.7777777777777778, \"#fb9f3a\"], [0.8888888888888888, \"#fdca26\"], [1.0, \"#f0f921\"]], \"type\": \"heatmap\"}], \"heatmapgl\": [{\"colorbar\": {\"outlinewidth\": 0, \"ticks\": \"\"}, \"colorscale\": [[0.0, \"#0d0887\"], [0.1111111111111111, \"#46039f\"], [0.2222222222222222, \"#7201a8\"], [0.3333333333333333, \"#9c179e\"], [0.4444444444444444, \"#bd3786\"], [0.5555555555555556, \"#d8576b\"], [0.6666666666666666, \"#ed7953\"], [0.7777777777777778, \"#fb9f3a\"], [0.8888888888888888, \"#fdca26\"], [1.0, \"#f0f921\"]], \"type\": \"heatmapgl\"}], \"histogram\": [{\"marker\": {\"colorbar\": {\"outlinewidth\": 0, \"ticks\": \"\"}}, \"type\": \"histogram\"}], \"histogram2d\": [{\"colorbar\": {\"outlinewidth\": 0, \"ticks\": \"\"}, \"colorscale\": [[0.0, \"#0d0887\"], [0.1111111111111111, \"#46039f\"], [0.2222222222222222, \"#7201a8\"], [0.3333333333333333, \"#9c179e\"], [0.4444444444444444, \"#bd3786\"], [0.5555555555555556, \"#d8576b\"], [0.6666666666666666, \"#ed7953\"], [0.7777777777777778, \"#fb9f3a\"], [0.8888888888888888, \"#fdca26\"], [1.0, \"#f0f921\"]], \"type\": \"histogram2d\"}], \"histogram2dcontour\": [{\"colorbar\": {\"outlinewidth\": 0, \"ticks\": \"\"}, \"colorscale\": [[0.0, \"#0d0887\"], [0.1111111111111111, \"#46039f\"], [0.2222222222222222, \"#7201a8\"], [0.3333333333333333, \"#9c179e\"], [0.4444444444444444, \"#bd3786\"], [0.5555555555555556, \"#d8576b\"], [0.6666666666666666, \"#ed7953\"], [0.7777777777777778, \"#fb9f3a\"], [0.8888888888888888, \"#fdca26\"], [1.0, \"#f0f921\"]], \"type\": \"histogram2dcontour\"}], \"mesh3d\": [{\"colorbar\": {\"outlinewidth\": 0, \"ticks\": \"\"}, \"type\": \"mesh3d\"}], \"parcoords\": [{\"line\": {\"colorbar\": {\"outlinewidth\": 0, \"ticks\": \"\"}}, \"type\": \"parcoords\"}], \"pie\": [{\"automargin\": true, \"type\": \"pie\"}], \"scatter\": [{\"marker\": {\"colorbar\": {\"outlinewidth\": 0, \"ticks\": \"\"}}, \"type\": \"scatter\"}], \"scatter3d\": [{\"line\": {\"colorbar\": {\"outlinewidth\": 0, \"ticks\": \"\"}}, \"marker\": {\"colorbar\": {\"outlinewidth\": 0, \"ticks\": \"\"}}, \"type\": \"scatter3d\"}], \"scattercarpet\": [{\"marker\": {\"colorbar\": {\"outlinewidth\": 0, \"ticks\": \"\"}}, \"type\": \"scattercarpet\"}], \"scattergeo\": [{\"marker\": {\"colorbar\": {\"outlinewidth\": 0, \"ticks\": \"\"}}, \"type\": \"scattergeo\"}], \"scattergl\": [{\"marker\": {\"colorbar\": {\"outlinewidth\": 0, \"ticks\": \"\"}}, \"type\": \"scattergl\"}], \"scattermapbox\": [{\"marker\": {\"colorbar\": {\"outlinewidth\": 0, \"ticks\": \"\"}}, \"type\": \"scattermapbox\"}], \"scatterpolar\": [{\"marker\": {\"colorbar\": {\"outlinewidth\": 0, \"ticks\": \"\"}}, \"type\": \"scatterpolar\"}], \"scatterpolargl\": [{\"marker\": {\"colorbar\": {\"outlinewidth\": 0, \"ticks\": \"\"}}, \"type\": \"scatterpolargl\"}], \"scatterternary\": [{\"marker\": {\"colorbar\": {\"outlinewidth\": 0, \"ticks\": \"\"}}, \"type\": \"scatterternary\"}], \"surface\": [{\"colorbar\": {\"outlinewidth\": 0, \"ticks\": \"\"}, \"colorscale\": [[0.0, \"#0d0887\"], [0.1111111111111111, \"#46039f\"], [0.2222222222222222, \"#7201a8\"], [0.3333333333333333, \"#9c179e\"], [0.4444444444444444, \"#bd3786\"], [0.5555555555555556, \"#d8576b\"], [0.6666666666666666, \"#ed7953\"], [0.7777777777777778, \"#fb9f3a\"], [0.8888888888888888, \"#fdca26\"], [1.0, \"#f0f921\"]], \"type\": \"surface\"}], \"table\": [{\"cells\": {\"fill\": {\"color\": \"#EBF0F8\"}, \"line\": {\"color\": \"white\"}}, \"header\": {\"fill\": {\"color\": \"#C8D4E3\"}, \"line\": {\"color\": \"white\"}}, \"type\": \"table\"}]}, \"layout\": {\"annotationdefaults\": {\"arrowcolor\": \"#2a3f5f\", \"arrowhead\": 0, \"arrowwidth\": 1}, \"coloraxis\": {\"colorbar\": {\"outlinewidth\": 0, \"ticks\": \"\"}}, \"colorscale\": {\"diverging\": [[0, \"#8e0152\"], [0.1, \"#c51b7d\"], [0.2, \"#de77ae\"], [0.3, \"#f1b6da\"], [0.4, \"#fde0ef\"], [0.5, \"#f7f7f7\"], [0.6, \"#e6f5d0\"], [0.7, \"#b8e186\"], [0.8, \"#7fbc41\"], [0.9, \"#4d9221\"], [1, \"#276419\"]], \"sequential\": [[0.0, \"#0d0887\"], [0.1111111111111111, \"#46039f\"], [0.2222222222222222, \"#7201a8\"], [0.3333333333333333, \"#9c179e\"], [0.4444444444444444, \"#bd3786\"], [0.5555555555555556, \"#d8576b\"], [0.6666666666666666, \"#ed7953\"], [0.7777777777777778, \"#fb9f3a\"], [0.8888888888888888, \"#fdca26\"], [1.0, \"#f0f921\"]], \"sequentialminus\": [[0.0, \"#0d0887\"], [0.1111111111111111, \"#46039f\"], [0.2222222222222222, \"#7201a8\"], [0.3333333333333333, \"#9c179e\"], [0.4444444444444444, \"#bd3786\"], [0.5555555555555556, \"#d8576b\"], [0.6666666666666666, \"#ed7953\"], [0.7777777777777778, \"#fb9f3a\"], [0.8888888888888888, \"#fdca26\"], [1.0, \"#f0f921\"]]}, \"colorway\": [\"#636efa\", \"#EF553B\", \"#00cc96\", \"#ab63fa\", \"#FFA15A\", \"#19d3f3\", \"#FF6692\", \"#B6E880\", \"#FF97FF\", \"#FECB52\"], \"font\": {\"color\": \"#2a3f5f\"}, \"geo\": {\"bgcolor\": \"white\", \"lakecolor\": \"white\", \"landcolor\": \"#E5ECF6\", \"showlakes\": true, \"showland\": true, \"subunitcolor\": \"white\"}, \"hoverlabel\": {\"align\": \"left\"}, \"hovermode\": \"closest\", \"mapbox\": {\"style\": \"light\"}, \"paper_bgcolor\": \"white\", \"plot_bgcolor\": \"#E5ECF6\", \"polar\": {\"angularaxis\": {\"gridcolor\": \"white\", \"linecolor\": \"white\", \"ticks\": \"\"}, \"bgcolor\": \"#E5ECF6\", \"radialaxis\": {\"gridcolor\": \"white\", \"linecolor\": \"white\", \"ticks\": \"\"}}, \"scene\": {\"xaxis\": {\"backgroundcolor\": \"#E5ECF6\", \"gridcolor\": \"white\", \"gridwidth\": 2, \"linecolor\": \"white\", \"showbackground\": true, \"ticks\": \"\", \"zerolinecolor\": \"white\"}, \"yaxis\": {\"backgroundcolor\": \"#E5ECF6\", \"gridcolor\": \"white\", \"gridwidth\": 2, \"linecolor\": \"white\", \"showbackground\": true, \"ticks\": \"\", \"zerolinecolor\": \"white\"}, \"zaxis\": {\"backgroundcolor\": \"#E5ECF6\", \"gridcolor\": \"white\", \"gridwidth\": 2, \"linecolor\": \"white\", \"showbackground\": true, \"ticks\": \"\", \"zerolinecolor\": \"white\"}}, \"shapedefaults\": {\"line\": {\"color\": \"#2a3f5f\"}}, \"ternary\": {\"aaxis\": {\"gridcolor\": \"white\", \"linecolor\": \"white\", \"ticks\": \"\"}, \"baxis\": {\"gridcolor\": \"white\", \"linecolor\": \"white\", \"ticks\": \"\"}, \"bgcolor\": \"#E5ECF6\", \"caxis\": {\"gridcolor\": \"white\", \"linecolor\": \"white\", \"ticks\": \"\"}}, \"title\": {\"x\": 0.05}, \"xaxis\": {\"automargin\": true, \"gridcolor\": \"white\", \"linecolor\": \"white\", \"ticks\": \"\", \"title\": {\"standoff\": 15}, \"zerolinecolor\": \"white\", \"zerolinewidth\": 2}, \"yaxis\": {\"automargin\": true, \"gridcolor\": \"white\", \"linecolor\": \"white\", \"ticks\": \"\", \"title\": {\"standoff\": 15}, \"zerolinecolor\": \"white\", \"zerolinewidth\": 2}}}, \"title\": {\"text\": \"US COVID-19 Cases\"}},\n",
       "                        {\"responsive\": true}\n",
       "                    ).then(function(){\n",
       "                            \n",
       "var gd = document.getElementById('513a63c3-f482-49b5-b9f7-78972dcf06f3');\n",
       "var x = new MutationObserver(function (mutations, observer) {{\n",
       "        var display = window.getComputedStyle(gd).display;\n",
       "        if (!display || display === 'none') {{\n",
       "            console.log([gd, 'removed!']);\n",
       "            Plotly.purge(gd);\n",
       "            observer.disconnect();\n",
       "        }}\n",
       "}});\n",
       "\n",
       "// Listen for the removal of the full notebook cells\n",
       "var notebookContainer = gd.closest('#notebook-container');\n",
       "if (notebookContainer) {{\n",
       "    x.observe(notebookContainer, {childList: true});\n",
       "}}\n",
       "\n",
       "// Listen for the clearing of the current output cell\n",
       "var outputEl = gd.closest('.output');\n",
       "if (outputEl) {{\n",
       "    x.observe(outputEl, {childList: true});\n",
       "}}\n",
       "\n",
       "                        })\n",
       "                };\n",
       "                });\n",
       "            </script>\n",
       "        </div>"
      ]
     },
     "metadata": {},
     "output_type": "display_data"
    }
   ],
   "source": [
    "fig = go.Figure()\n",
    "\n",
    "fig.add_trace(go.Scatter(x=bydate_us.index, y=bydate_us['Confirmed'], mode='lines', name='Confirmed'))\n",
    "fig.add_trace(go.Scatter(x=bydate_us.index, y=bydate_us['Deaths'], mode='lines', name='Deaths'))\n",
    "fig.add_trace(go.Scatter(x=bydate_us.index, y=bydate_us['Recovered'], mode='lines', name='Recovered'))\n",
    "fig.add_trace(go.Scatter(x=bydate_us.index, y=bydate_us['Active'], mode='lines', name='Active'))\n",
    "fig.add_trace(go.Scatter(x=bydate_us.index, y=bydate_us['New'], mode='lines', name='New'))\n",
    "fig.add_trace(go.Scatter(x=bydate_us.index, y=bydate_us['Fatality'], mode='lines', name='Fatality Rate'))\n",
    "\n",
    "fig.update_layout(title='US COVID-19 Cases')\n",
    "fig.show()"
   ]
  },
  {
   "cell_type": "markdown",
   "metadata": {},
   "source": [
    "## Combine Data"
   ]
  },
  {
   "cell_type": "code",
   "execution_count": 15,
   "metadata": {},
   "outputs": [
    {
     "data": {
      "text/html": [
       "<div>\n",
       "<style scoped>\n",
       "    .dataframe tbody tr th:only-of-type {\n",
       "        vertical-align: middle;\n",
       "    }\n",
       "\n",
       "    .dataframe tbody tr th {\n",
       "        vertical-align: top;\n",
       "    }\n",
       "\n",
       "    .dataframe thead th {\n",
       "        text-align: right;\n",
       "    }\n",
       "</style>\n",
       "<table border=\"1\" class=\"dataframe\">\n",
       "  <thead>\n",
       "    <tr style=\"text-align: right;\">\n",
       "      <th></th>\n",
       "      <th>Date</th>\n",
       "      <th>Jobnums</th>\n",
       "      <th>Day of week</th>\n",
       "      <th>Weekend</th>\n",
       "      <th>Confirmed</th>\n",
       "      <th>Deaths</th>\n",
       "      <th>Recovered</th>\n",
       "      <th>Active</th>\n",
       "      <th>New</th>\n",
       "      <th>Fatality</th>\n",
       "    </tr>\n",
       "    <tr>\n",
       "      <th>Date</th>\n",
       "      <th></th>\n",
       "      <th></th>\n",
       "      <th></th>\n",
       "      <th></th>\n",
       "      <th></th>\n",
       "      <th></th>\n",
       "      <th></th>\n",
       "      <th></th>\n",
       "      <th></th>\n",
       "      <th></th>\n",
       "    </tr>\n",
       "  </thead>\n",
       "  <tbody>\n",
       "    <tr>\n",
       "      <td>2020-06-13</td>\n",
       "      <td>2020-06-13</td>\n",
       "      <td>330</td>\n",
       "      <td>Sat</td>\n",
       "      <td>1</td>\n",
       "      <td>2074542</td>\n",
       "      <td>118093</td>\n",
       "      <td>556606</td>\n",
       "      <td>1399843</td>\n",
       "      <td>25556.0</td>\n",
       "      <td>5.692485</td>\n",
       "    </tr>\n",
       "    <tr>\n",
       "      <td>2020-06-14</td>\n",
       "      <td>2020-06-14</td>\n",
       "      <td>61</td>\n",
       "      <td>Sun</td>\n",
       "      <td>1</td>\n",
       "      <td>2094366</td>\n",
       "      <td>118401</td>\n",
       "      <td>561816</td>\n",
       "      <td>1414149</td>\n",
       "      <td>19824.0</td>\n",
       "      <td>5.653310</td>\n",
       "    </tr>\n",
       "    <tr>\n",
       "      <td>2020-06-15</td>\n",
       "      <td>2020-06-15</td>\n",
       "      <td>227</td>\n",
       "      <td>Mon</td>\n",
       "      <td>0</td>\n",
       "      <td>2114026</td>\n",
       "      <td>118792</td>\n",
       "      <td>576334</td>\n",
       "      <td>1418900</td>\n",
       "      <td>19660.0</td>\n",
       "      <td>5.619231</td>\n",
       "    </tr>\n",
       "    <tr>\n",
       "      <td>2020-06-16</td>\n",
       "      <td>2020-06-16</td>\n",
       "      <td>576</td>\n",
       "      <td>Tue</td>\n",
       "      <td>0</td>\n",
       "      <td>2137731</td>\n",
       "      <td>119635</td>\n",
       "      <td>583503</td>\n",
       "      <td>1434593</td>\n",
       "      <td>23705.0</td>\n",
       "      <td>5.596354</td>\n",
       "    </tr>\n",
       "    <tr>\n",
       "      <td>2020-06-17</td>\n",
       "      <td>2020-06-17</td>\n",
       "      <td>645</td>\n",
       "      <td>Wed</td>\n",
       "      <td>0</td>\n",
       "      <td>2163290</td>\n",
       "      <td>120387</td>\n",
       "      <td>592191</td>\n",
       "      <td>1450712</td>\n",
       "      <td>25559.0</td>\n",
       "      <td>5.564996</td>\n",
       "    </tr>\n",
       "  </tbody>\n",
       "</table>\n",
       "</div>"
      ],
      "text/plain": [
       "                 Date  Jobnums Day of week  Weekend  Confirmed  Deaths  \\\n",
       "Date                                                                     \n",
       "2020-06-13 2020-06-13      330         Sat        1    2074542  118093   \n",
       "2020-06-14 2020-06-14       61         Sun        1    2094366  118401   \n",
       "2020-06-15 2020-06-15      227         Mon        0    2114026  118792   \n",
       "2020-06-16 2020-06-16      576         Tue        0    2137731  119635   \n",
       "2020-06-17 2020-06-17      645         Wed        0    2163290  120387   \n",
       "\n",
       "            Recovered   Active      New  Fatality  \n",
       "Date                                               \n",
       "2020-06-13     556606  1399843  25556.0  5.692485  \n",
       "2020-06-14     561816  1414149  19824.0  5.653310  \n",
       "2020-06-15     576334  1418900  19660.0  5.619231  \n",
       "2020-06-16     583503  1434593  23705.0  5.596354  \n",
       "2020-06-17     592191  1450712  25559.0  5.564996  "
      ]
     },
     "execution_count": 15,
     "metadata": {},
     "output_type": "execute_result"
    }
   ],
   "source": [
    "df_covid_trunc1 = bydate_us['2020-06-13':'2020-08-15']\n",
    "df_indeed_trunc = df_date_indeed['2020-06-13':'2020-08-15']\n",
    "\n",
    "df_combined_indeed = pd.concat([df_indeed_trunc, df_covid_trunc1], axis=1)\n",
    "df_combined_indeed.head()"
   ]
  },
  {
   "cell_type": "code",
   "execution_count": 16,
   "metadata": {
    "scrolled": true
   },
   "outputs": [
    {
     "data": {
      "image/png": "[encoded data removed]",
      "text/plain": [
       "<Figure size 792x648 with 4 Axes>"
      ]
     },
     "metadata": {
      "needs_background": "light"
     },
     "output_type": "display_data"
    }
   ],
   "source": [
    "from pylab import rcParams\n",
    "rcParams['figure.figsize'] = 11, 9\n",
    "\n",
    "y=df_combined_indeed['Jobnums']\n",
    "decomposition = sm.tsa.seasonal_decompose(y, model='additive')\n",
    "fig = decomposition.plot()\n",
    "plt.show()"
   ]
  },
  {
   "cell_type": "markdown",
   "metadata": {},
   "source": [
    "### Grid Search"
   ]
  },
  {
   "cell_type": "code",
   "execution_count": 17,
   "metadata": {},
   "outputs": [],
   "source": [
    "def diff_transform(df_train,  d):\n",
    "    \"\"\"take difference\"\"\"\n",
    "    df_diff = df_train.copy()\n",
    "    columns = df_train.columns\n",
    "    if d>0:\n",
    "        for col in columns:        \n",
    "            df_diff[str(col)+'_1d'] = df_diff[col].diff().fillna(0)\n",
    "            df_diff.drop(columns=[col],inplace=True)\n",
    "            if d>1:\n",
    "                df_diff[str(col)+'_2d'] = df_diff[str(col)+'_1d'].diff().fillna(0)\n",
    "                df_diff.drop(columns=[str(col)+'_1d'],inplace=True)\n",
    "            \n",
    "    return df_diff"
   ]
  },
  {
   "cell_type": "code",
   "execution_count": 18,
   "metadata": {},
   "outputs": [],
   "source": [
    "def invert_transform(df_train, df_forecast, d):\n",
    "    \"\"\"Revert back the differencing to get the forecast to original scale.\"\"\"\n",
    "    df_fc = df_forecast.copy()\n",
    "    columns = df_train.columns\n",
    "    if d>0:\n",
    "        for col in columns:        \n",
    "            # Roll back 2nd Diff\n",
    "            if d==2:\n",
    "                df_fc[str(col)+'_1d'] = (df_train[col].iloc[-1]-df_train[col].iloc[-2]) + df_fc[str(col)+'_2d'].cumsum()\n",
    "                df_fc.drop(columns=[str(col)+'_2d'],inplace=True)\n",
    "            # Roll back 1st Diff\n",
    "            df_fc[col] = df_train[col].iloc[-1] + df_fc[str(col)+'_1d'].cumsum()\n",
    "            df_fc.drop(columns=[str(col)+'_1d'],inplace=True)\n",
    "    return df_fc"
   ]
  },
  {
   "cell_type": "code",
   "execution_count": 19,
   "metadata": {},
   "outputs": [],
   "source": [
    "def train_test_split(data, n_test):\n",
    "    return data[:-n_test], data[-n_test:]\n",
    "\n",
    "def measure_rmse(actual, predicted):\n",
    "    return rmse(actual, predicted)\n",
    "\n",
    "def varmax_forecast(train, test_len, config, exog1=None, exog2=None):\n",
    "    order, trend, d= config\n",
    "    #d parameter to take difference\n",
    "    df_diff = diff_transform(train,  d)\n",
    "    try:\n",
    "        model = VARMAX(df_diff, order=order, trend=trend, exog=exog1, initialization='approximate_diffuse')\n",
    "        model_fit = model.fit(disp=False)\n",
    "        yhat_diff = model_fit.forecast(steps=test_len, exog=exog2)\n",
    "        yhat = invert_transform(train, yhat_diff, d)\n",
    "    except:\n",
    "        yhat = None\n",
    "    return yhat\n",
    "\n",
    "def single_validation(data, n_test, cfg, exog=None):\n",
    "    train, test = train_test_split(data, n_test)\n",
    "    if exog is not None:\n",
    "        exog_train, exog_test = train_test_split(exog, n_test)\n",
    "        yhat = varmax_forecast(train, len(test), cfg, exog1=exog_train, exog2=exog_test)\n",
    "    else:\n",
    "        yhat = varmax_forecast(train, len(test), cfg)\n",
    "    if yhat is not None:\n",
    "        error = measure_rmse(test['Jobnums'], yhat['Jobnums'])\n",
    "    else:\n",
    "        error = None\n",
    "    return error\n",
    "\n",
    "def walk_forward_validation(data, n_test, cfg, exog=None):\n",
    "    train, test = train_test_split(data, n_test)\n",
    "    predictions = pd.DataFrame()\n",
    "    history = train.copy()\n",
    "    if exog is not None:\n",
    "        exog_train, exog_test = train_test_split(exog, n_test)\n",
    "        exog_ = [x[:] for x in exog_train.values]\n",
    "        for i in range(len(test)):\n",
    "            yhat = varmax_forecast(history, 1, cfg, exog1=exog_, exog2=np.array(exog_test.iloc[i]).reshape(1,-1))\n",
    "            predictions = predictions.append(yhat)\n",
    "            history = history.append(test.iloc[i])\n",
    "            exog_.append(np.array(exog_test.iloc[i]))\n",
    "        error = measure_rmse(test['Jobnums'], predictions['Jobnums'])\n",
    "        return error\n",
    "    else:\n",
    "        for i in range(len(test)):\n",
    "            yhat = varmax_forecast(history, 1, cfg)\n",
    "            predictions = predictions.append(yhat)\n",
    "            history = history.append(test.iloc[i])\n",
    "        error = measure_rmse(test['Jobnums'], predictions['Jobnums'])\n",
    "        return error\n",
    "\n",
    "def score_model(data, n_test, cfg, method, exog=None, debug=True):\n",
    "    result = None\n",
    "    key = str(cfg)\n",
    "    if debug:\n",
    "        if method=='walk':\n",
    "            result = walk_forward_validation(data, n_test, cfg, exog)\n",
    "        else:\n",
    "            result = single_validation(data, n_test, cfg, exog)\n",
    "    else:\n",
    "        try:\n",
    "            with catch_warnings():\n",
    "                filterwarnings(\"ignore\")\n",
    "                if method=='walk':\n",
    "                    result = walk_forward_validation(data, n_test, cfg, exog)\n",
    "                else:\n",
    "                    result = single_validation(data, n_test, cfg, exog)\n",
    "        except:\n",
    "            error = None\n",
    "    if result is not None:\n",
    "        print('---> Model[%s] %.3f' % (key, result))\n",
    "    return (key, result)\n",
    "\n",
    "def grid_search(data, cfg_list, n_test, method, exog=None, parallel=True):\n",
    "    scores = None\n",
    "    if parallel:\n",
    "        executor = Parallel(n_jobs=cpu_count(), backend='multiprocessing')\n",
    "        tasks = (delayed(score_model)(data, n_test, cfg, method, exog) for cfg in cfg_list)\n",
    "        scores = executor(tasks)\n",
    "    else:\n",
    "        scores = [score_model(data, n_test, cfg, method, exog) for cfg in cfg_list]\n",
    "    scores = [r for r in scores if r[1] != None]\n",
    "    scores.sort(key=lambda tup: tup[1])\n",
    "    return scores\n",
    "\n",
    "def varmax_configs():\n",
    "    models = list()\n",
    "    p_params = [3, 4, 5, 6, 7, 8, 9, 10]\n",
    "    q_params = [0, 1, 2]\n",
    "    t_params = ['n', 'c', 't', 'ct']\n",
    "    d_params = [0, 1, 2]\n",
    "    \n",
    "    for p in p_params:\n",
    "        for q in q_params:\n",
    "            for t in t_params:\n",
    "                for d in d_params:\n",
    "                    cfg = [(p,q), t, d]\n",
    "                    models.append(cfg)\n",
    "    return models"
   ]
  },
  {
   "cell_type": "code",
   "execution_count": 20,
   "metadata": {},
   "outputs": [],
   "source": [
    "def walk_forward_best(data, n_test, cfg, exog=None):\n",
    "    train, test = train_test_split(data, n_test)\n",
    "    predictions = pd.DataFrame()\n",
    "    history = train.copy()\n",
    "    if exog is not None:\n",
    "        exog_train, exog_test = train_test_split(exog, n_test)\n",
    "        exog_ = [x[:] for x in exog_train.values]\n",
    "        for i in range(len(test)):\n",
    "            yhat = varmax_forecast(history, 1, cfg, exog1=exog_, exog2=np.array(exog_test.iloc[i]).reshape(1,-1))\n",
    "            predictions = predictions.append(yhat)\n",
    "            history = history.append(test.iloc[i])\n",
    "            exog_.append(np.array(exog_test.iloc[i]))\n",
    "        error = measure_rmse(test['Jobnums'], predictions['Jobnums'])\n",
    "        return predictions, error\n",
    "    else:\n",
    "        for i in range(len(test)):\n",
    "            yhat = varmax_forecast(history, 1, cfg)\n",
    "            predictions = predictions.append(yhat)\n",
    "            history = history.append(test.iloc[i])\n",
    "        error = measure_rmse(test['Jobnums'], predictions['Jobnums'])\n",
    "        return predictions, error"
   ]
  },
  {
   "cell_type": "markdown",
   "metadata": {},
   "source": [
    "#### No eXog + Walk"
   ]
  },
  {
   "cell_type": "code",
   "execution_count": 21,
   "metadata": {},
   "outputs": [
    {
     "name": "stdout",
     "output_type": "stream",
     "text": [
      "---> Model[[(3, 0), 'n', 0]] 345.431\n",
      "---> Model[[(3, 0), 'n', 1]] 338.502\n",
      "---> Model[[(3, 0), 'n', 2]] 420.344\n",
      "---> Model[[(3, 0), 'c', 0]] 343.934\n",
      "---> Model[[(3, 0), 'c', 1]] 340.886\n",
      "---> Model[[(3, 0), 'c', 2]] 436.021\n",
      "---> Model[[(3, 0), 't', 0]] 500.040\n",
      "---> Model[[(3, 0), 't', 1]] 347.497\n",
      "---> Model[[(3, 0), 't', 2]] 442.699\n",
      "---> Model[[(3, 0), 'ct', 0]] 401.048\n",
      "---> Model[[(3, 0), 'ct', 1]] 336.736\n",
      "---> Model[[(3, 0), 'ct', 2]] 448.365\n",
      "---> Model[[(3, 1), 'n', 0]] 328.828\n",
      "---> Model[[(3, 1), 'n', 1]] 247.647\n",
      "---> Model[[(3, 1), 'n', 2]] 343.151\n",
      "---> Model[[(3, 1), 'c', 0]] 276.543\n",
      "---> Model[[(3, 1), 'c', 1]] 343.391\n",
      "---> Model[[(3, 1), 'c', 2]] 434.120\n",
      "---> Model[[(3, 1), 't', 0]] 712.345\n",
      "---> Model[[(3, 1), 't', 1]] 285.046\n",
      "---> Model[[(3, 1), 't', 2]] 472.156\n",
      "---> Model[[(3, 1), 'ct', 0]] 495.815\n",
      "---> Model[[(3, 1), 'ct', 1]] 391.885\n",
      "---> Model[[(3, 1), 'ct', 2]] 532.221\n",
      "---> Model[[(3, 2), 'n', 0]] 262.247\n",
      "---> Model[[(3, 2), 'n', 1]] 286.894\n",
      "---> Model[[(3, 2), 'n', 2]] 328.878\n",
      "---> Model[[(3, 2), 'c', 0]] 282.318\n",
      "---> Model[[(3, 2), 'c', 1]] 277.812\n",
      "---> Model[[(3, 2), 'c', 2]] 417.683\n",
      "---> Model[[(3, 2), 't', 0]] 587.255\n",
      "---> Model[[(3, 2), 't', 1]] 372.646\n",
      "---> Model[[(3, 2), 't', 2]] 530.046\n",
      "---> Model[[(3, 2), 'ct', 0]] 433.070\n",
      "---> Model[[(3, 2), 'ct', 1]] 337.352\n",
      "---> Model[[(3, 2), 'ct', 2]] 576.532\n",
      "---> Model[[(4, 0), 'n', 0]] 234.699\n",
      "---> Model[[(4, 0), 'n', 1]] 369.274\n",
      "---> Model[[(4, 0), 'n', 2]] 514.575\n",
      "---> Model[[(4, 0), 'c', 0]] 232.887\n",
      "---> Model[[(4, 0), 'c', 1]] 376.834\n",
      "---> Model[[(4, 0), 'c', 2]] 538.522\n",
      "---> Model[[(4, 0), 't', 0]] 324.940\n",
      "---> Model[[(4, 0), 't', 1]] 375.427\n",
      "---> Model[[(4, 0), 't', 2]] 523.367\n",
      "---> Model[[(4, 0), 'ct', 0]] 325.760\n",
      "---> Model[[(4, 0), 'ct', 1]] 390.336\n",
      "---> Model[[(4, 0), 'ct', 2]] 548.502\n",
      "---> Model[[(4, 1), 'n', 0]] 257.783\n",
      "---> Model[[(4, 1), 'n', 1]] 304.405\n",
      "---> Model[[(4, 1), 'n', 2]] 400.889\n",
      "---> Model[[(4, 1), 'c', 0]] 244.495\n",
      "---> Model[[(4, 1), 'c', 1]] 351.202\n",
      "---> Model[[(4, 1), 'c', 2]] 486.788\n",
      "---> Model[[(4, 1), 't', 0]] 475.958\n",
      "---> Model[[(4, 1), 't', 1]] 319.269\n",
      "---> Model[[(4, 1), 't', 2]] 525.051\n",
      "---> Model[[(4, 1), 'ct', 0]] 386.302\n",
      "---> Model[[(4, 1), 'ct', 1]] 370.525\n",
      "---> Model[[(4, 1), 'ct', 2]] 537.943\n",
      "---> Model[[(4, 2), 'n', 0]] 404.581\n",
      "---> Model[[(4, 2), 'n', 1]] 361.051\n",
      "---> Model[[(4, 2), 'n', 2]] 415.769\n",
      "---> Model[[(4, 2), 'c', 0]] 249.022\n",
      "---> Model[[(4, 2), 'c', 1]] 384.198\n",
      "---> Model[[(4, 2), 'c', 2]] 495.563\n",
      "---> Model[[(4, 2), 't', 0]] 466.758\n",
      "---> Model[[(4, 2), 't', 1]] 361.173\n",
      "---> Model[[(4, 2), 't', 2]] 442.318\n",
      "---> Model[[(4, 2), 'ct', 0]] 375.703\n",
      "---> Model[[(4, 2), 'ct', 1]] 366.072\n",
      "---> Model[[(4, 2), 'ct', 2]] 482.739\n",
      "---> Model[[(5, 0), 'n', 0]] 288.632\n",
      "---> Model[[(5, 0), 'n', 1]] 335.792\n",
      "---> Model[[(5, 0), 'n', 2]] 339.993\n",
      "---> Model[[(5, 0), 'c', 0]] 285.770\n",
      "---> Model[[(5, 0), 'c', 1]] 332.105\n",
      "---> Model[[(5, 0), 'c', 2]] 355.832\n",
      "---> Model[[(5, 0), 't', 0]] 328.190\n",
      "---> Model[[(5, 0), 't', 1]] 356.755\n",
      "---> Model[[(5, 0), 't', 2]] 397.871\n",
      "---> Model[[(5, 0), 'ct', 0]] 342.825\n",
      "---> Model[[(5, 0), 'ct', 1]] 366.414\n",
      "---> Model[[(5, 0), 'ct', 2]] 421.975\n",
      "---> Model[[(5, 1), 'n', 0]] 294.203\n",
      "---> Model[[(5, 1), 'n', 1]] 310.395\n",
      "---> Model[[(5, 1), 'n', 2]] 421.852\n",
      "---> Model[[(5, 1), 'c', 0]] 275.603\n",
      "---> Model[[(5, 1), 'c', 1]] 328.753\n",
      "---> Model[[(5, 1), 'c', 2]] 393.437\n",
      "---> Model[[(5, 1), 't', 0]] 405.359\n",
      "---> Model[[(5, 1), 't', 1]] 330.323\n",
      "---> Model[[(5, 1), 't', 2]] 430.107\n",
      "---> Model[[(5, 1), 'ct', 0]] 368.906\n",
      "---> Model[[(5, 1), 'ct', 1]] 373.699\n",
      "---> Model[[(5, 1), 'ct', 2]] 515.109\n",
      "---> Model[[(5, 2), 'n', 0]] 357.197\n",
      "---> Model[[(5, 2), 'n', 1]] 234.328\n",
      "---> Model[[(5, 2), 'n', 2]] 448.118\n",
      "---> Model[[(5, 2), 'c', 0]] 311.011\n",
      "---> Model[[(5, 2), 'c', 1]] 273.982\n",
      "---> Model[[(5, 2), 'c', 2]] 488.022\n",
      "---> Model[[(5, 2), 't', 0]] 394.778\n",
      "---> Model[[(5, 2), 't', 1]] 276.127\n",
      "---> Model[[(5, 2), 't', 2]] 444.047\n",
      "---> Model[[(5, 2), 'ct', 0]] 334.789\n",
      "---> Model[[(5, 2), 'ct', 1]] 372.839\n",
      "---> Model[[(5, 2), 'ct', 2]] 568.817\n",
      "---> Model[[(6, 0), 'n', 0]] 218.021\n",
      "---> Model[[(6, 0), 'n', 1]] 251.285\n",
      "---> Model[[(6, 0), 'n', 2]] 306.920\n",
      "---> Model[[(6, 0), 'c', 0]] 252.673\n",
      "---> Model[[(6, 0), 'c', 1]] 262.539\n",
      "---> Model[[(6, 0), 'c', 2]] 343.121\n",
      "---> Model[[(6, 0), 't', 0]] 895.768\n",
      "---> Model[[(6, 0), 't', 1]] 246.080\n",
      "---> Model[[(6, 0), 't', 2]] 338.062\n",
      "---> Model[[(6, 0), 'ct', 0]] 300.752\n",
      "---> Model[[(6, 0), 'ct', 1]] 310.037\n",
      "---> Model[[(6, 0), 'ct', 2]] 367.108\n",
      "---> Model[[(6, 1), 'n', 0]] 235.228\n",
      "---> Model[[(6, 1), 'n', 1]] 277.031\n",
      "---> Model[[(6, 1), 'n', 2]] 344.614\n",
      "---> Model[[(6, 1), 'c', 0]] 240.653\n",
      "---> Model[[(6, 1), 'c', 1]] 260.736\n",
      "---> Model[[(6, 1), 'c', 2]] 471.921\n",
      "---> Model[[(6, 1), 't', 0]] 891.653\n",
      "---> Model[[(6, 1), 't', 1]] 319.908\n",
      "---> Model[[(6, 1), 't', 2]] 498.830\n",
      "---> Model[[(6, 1), 'ct', 0]] 343.745\n",
      "---> Model[[(6, 1), 'ct', 1]] 335.142\n",
      "---> Model[[(6, 1), 'ct', 2]] 690.374\n",
      "---> Model[[(6, 2), 'n', 0]] 217.787\n",
      "---> Model[[(6, 2), 'n', 1]] 236.854\n",
      "---> Model[[(6, 2), 'n', 2]] 359.337\n",
      "---> Model[[(6, 2), 'c', 0]] 267.749\n",
      "---> Model[[(6, 2), 'c', 1]] 268.754\n",
      "---> Model[[(6, 2), 'c', 2]] 473.078\n",
      "---> Model[[(6, 2), 't', 0]] 956.678\n",
      "---> Model[[(6, 2), 't', 1]] 256.500\n",
      "---> Model[[(6, 2), 't', 2]] 427.038\n",
      "---> Model[[(6, 2), 'ct', 0]] 312.530\n",
      "---> Model[[(6, 2), 'ct', 1]] 348.126\n",
      "---> Model[[(6, 2), 'ct', 2]] 563.396\n",
      "---> Model[[(7, 0), 'n', 0]] 193.148\n",
      "---> Model[[(7, 0), 'n', 1]] 243.400\n",
      "---> Model[[(7, 0), 'n', 2]] 447.292\n",
      "---> Model[[(7, 0), 'c', 0]] 218.045\n",
      "---> Model[[(7, 0), 'c', 1]] 255.525\n",
      "---> Model[[(7, 0), 'c', 2]] 501.127\n",
      "---> Model[[(7, 0), 't', 0]] 290.099\n",
      "---> Model[[(7, 0), 't', 1]] 258.862\n",
      "---> Model[[(7, 0), 't', 2]] 489.267\n",
      "---> Model[[(7, 0), 'ct', 0]] 247.983\n",
      "---> Model[[(7, 0), 'ct', 1]] 308.251\n",
      "---> Model[[(7, 0), 'ct', 2]] 545.280\n",
      "---> Model[[(7, 1), 'n', 0]] 234.780\n",
      "---> Model[[(7, 1), 'n', 1]] 313.378\n",
      "---> Model[[(7, 1), 'n', 2]] 453.007\n",
      "---> Model[[(7, 1), 'c', 0]] 232.134\n",
      "---> Model[[(7, 1), 'c', 1]] 304.136\n",
      "---> Model[[(7, 1), 'c', 2]] 540.069\n",
      "---> Model[[(7, 1), 't', 0]] 315.834\n",
      "---> Model[[(7, 1), 't', 1]] 336.131\n",
      "---> Model[[(7, 1), 't', 2]] 597.792\n",
      "---> Model[[(7, 1), 'ct', 0]] 248.955\n",
      "---> Model[[(7, 1), 'ct', 1]] 381.448\n",
      "---> Model[[(7, 1), 'ct', 2]] 677.688\n",
      "---> Model[[(7, 2), 'n', 0]] 213.452\n",
      "---> Model[[(7, 2), 'n', 1]] 225.523\n",
      "---> Model[[(7, 2), 'n', 2]] 375.060\n",
      "---> Model[[(7, 2), 'c', 0]] 261.071\n",
      "---> Model[[(7, 2), 'c', 1]] 228.966\n",
      "---> Model[[(7, 2), 'c', 2]] 447.679\n",
      "---> Model[[(7, 2), 't', 0]] 495.361\n",
      "---> Model[[(7, 2), 't', 1]] 239.256\n",
      "---> Model[[(7, 2), 't', 2]] 510.143\n",
      "---> Model[[(7, 2), 'ct', 0]] 265.368\n",
      "---> Model[[(7, 2), 'ct', 1]] 319.955\n",
      "---> Model[[(7, 2), 'ct', 2]] 703.735\n",
      "---> Model[[(8, 0), 'n', 0]] 222.895\n",
      "---> Model[[(8, 0), 'n', 1]] 306.859\n",
      "---> Model[[(8, 0), 'n', 2]] 430.715\n",
      "---> Model[[(8, 0), 'c', 0]] 184.649\n",
      "---> Model[[(8, 0), 'c', 1]] 320.755\n",
      "---> Model[[(8, 0), 'c', 2]] 482.302\n",
      "---> Model[[(8, 0), 't', 0]] 207.774\n",
      "---> Model[[(8, 0), 't', 1]] 325.994\n",
      "---> Model[[(8, 0), 't', 2]] 474.461\n",
      "---> Model[[(8, 0), 'ct', 0]] 228.399\n",
      "---> Model[[(8, 0), 'ct', 1]] 360.756\n",
      "---> Model[[(8, 0), 'ct', 2]] 544.327\n",
      "---> Model[[(8, 1), 'n', 0]] 231.149\n",
      "---> Model[[(8, 1), 'n', 1]] 286.883\n",
      "---> Model[[(8, 1), 'n', 2]] 370.027\n",
      "---> Model[[(8, 1), 'c', 0]] 239.217\n",
      "---> Model[[(8, 1), 'c', 1]] 318.046\n",
      "---> Model[[(8, 1), 'c', 2]] 529.559\n",
      "---> Model[[(8, 1), 't', 0]] 262.196\n",
      "---> Model[[(8, 1), 't', 1]] 324.640\n",
      "---> Model[[(8, 1), 't', 2]] 527.113\n",
      "---> Model[[(8, 1), 'ct', 0]] 301.894\n",
      "---> Model[[(8, 1), 'ct', 1]] 400.982\n",
      "---> Model[[(8, 1), 'ct', 2]] 594.068\n",
      "---> Model[[(8, 2), 'n', 0]] 212.102\n",
      "---> Model[[(8, 2), 'n', 1]] 200.218\n",
      "---> Model[[(8, 2), 'n', 2]] 412.509\n",
      "---> Model[[(8, 2), 'c', 0]] 251.446\n",
      "---> Model[[(8, 2), 'c', 1]] 203.484\n",
      "---> Model[[(8, 2), 'c', 2]] 518.477\n",
      "---> Model[[(8, 2), 't', 0]] 264.459\n",
      "---> Model[[(8, 2), 't', 1]] 215.763\n",
      "---> Model[[(8, 2), 't', 2]] 612.774\n",
      "---> Model[[(8, 2), 'ct', 0]] 272.924\n",
      "---> Model[[(8, 2), 'ct', 1]] 354.564\n",
      "---> Model[[(8, 2), 'ct', 2]] 735.068\n",
      "---> Model[[(9, 0), 'n', 0]] 267.505\n",
      "---> Model[[(9, 0), 'n', 1]] 285.004\n",
      "---> Model[[(9, 0), 'n', 2]] 319.337\n",
      "---> Model[[(9, 0), 'c', 0]] 251.520\n"
     ]
    },
    {
     "name": "stdout",
     "output_type": "stream",
     "text": [
      "---> Model[[(9, 0), 'c', 1]] 308.959\n",
      "---> Model[[(9, 0), 'c', 2]] 406.747\n",
      "---> Model[[(9, 0), 't', 0]] 257.461\n",
      "---> Model[[(9, 0), 't', 1]] 278.754\n",
      "---> Model[[(9, 0), 't', 2]] 390.176\n",
      "---> Model[[(9, 0), 'ct', 0]] 275.787\n",
      "---> Model[[(9, 0), 'ct', 1]] 297.534\n",
      "---> Model[[(9, 0), 'ct', 2]] 500.997\n",
      "---> Model[[(9, 1), 'n', 0]] 333.166\n",
      "---> Model[[(9, 1), 'n', 1]] 275.493\n",
      "---> Model[[(9, 1), 'n', 2]] 343.387\n",
      "---> Model[[(9, 1), 'c', 0]] 273.261\n",
      "---> Model[[(9, 1), 'c', 1]] 291.161\n",
      "---> Model[[(9, 1), 'c', 2]] 411.988\n",
      "---> Model[[(9, 1), 't', 0]] 284.636\n",
      "---> Model[[(9, 1), 't', 1]] 312.206\n",
      "---> Model[[(9, 1), 't', 2]] 483.482\n",
      "---> Model[[(9, 1), 'ct', 0]] 289.153\n",
      "---> Model[[(9, 1), 'ct', 1]] 310.828\n",
      "---> Model[[(9, 1), 'ct', 2]] 514.768\n",
      "---> Model[[(9, 2), 'n', 0]] 374.029\n",
      "---> Model[[(9, 2), 'n', 1]] 355.858\n",
      "---> Model[[(9, 2), 'n', 2]] 318.292\n",
      "---> Model[[(9, 2), 'c', 0]] 313.361\n",
      "---> Model[[(9, 2), 'c', 1]] 354.030\n",
      "---> Model[[(9, 2), 'c', 2]] 326.003\n",
      "---> Model[[(9, 2), 't', 0]] 314.858\n",
      "---> Model[[(9, 2), 't', 1]] 364.051\n",
      "---> Model[[(9, 2), 't', 2]] 354.797\n",
      "---> Model[[(9, 2), 'ct', 0]] 324.581\n",
      "---> Model[[(9, 2), 'ct', 1]] 373.072\n",
      "---> Model[[(9, 2), 'ct', 2]] 507.521\n",
      "---> Model[[(10, 0), 'n', 0]] 245.082\n",
      "---> Model[[(10, 0), 'n', 1]] 238.017\n",
      "---> Model[[(10, 0), 'n', 2]] 356.101\n",
      "---> Model[[(10, 0), 'c', 0]] 200.884\n",
      "---> Model[[(10, 0), 'c', 1]] 248.135\n",
      "---> Model[[(10, 0), 'c', 2]] 455.829\n",
      "---> Model[[(10, 0), 't', 0]] 435.335\n",
      "---> Model[[(10, 0), 't', 1]] 228.833\n",
      "---> Model[[(10, 0), 't', 2]] 489.582\n",
      "---> Model[[(10, 0), 'ct', 0]] 265.196\n",
      "---> Model[[(10, 0), 'ct', 1]] 256.599\n",
      "---> Model[[(10, 0), 'ct', 2]] 676.342\n",
      "---> Model[[(10, 1), 'n', 0]] 284.983\n",
      "---> Model[[(10, 1), 'n', 1]] 298.874\n",
      "---> Model[[(10, 1), 'n', 2]] 338.295\n",
      "---> Model[[(10, 1), 'c', 0]] 226.543\n",
      "---> Model[[(10, 1), 'c', 1]] 289.418\n",
      "---> Model[[(10, 1), 'c', 2]] 469.915\n",
      "---> Model[[(10, 1), 't', 0]] 247.078\n",
      "---> Model[[(10, 1), 't', 1]] 297.764\n",
      "---> Model[[(10, 1), 't', 2]] 542.389\n",
      "---> Model[[(10, 1), 'ct', 0]] 339.545\n",
      "---> Model[[(10, 1), 'ct', 1]] 310.525\n",
      "---> Model[[(10, 1), 'ct', 2]] 725.418\n",
      "---> Model[[(10, 2), 'n', 0]] 335.234\n",
      "---> Model[[(10, 2), 'n', 1]] 268.028\n",
      "---> Model[[(10, 2), 'n', 2]] 463.423\n",
      "---> Model[[(10, 2), 'c', 0]] 232.467\n",
      "---> Model[[(10, 2), 'c', 1]] 274.825\n",
      "---> Model[[(10, 2), 'c', 2]] 385.243\n",
      "---> Model[[(10, 2), 't', 0]] 414.426\n",
      "---> Model[[(10, 2), 't', 1]] 286.461\n",
      "---> Model[[(10, 2), 't', 2]] 493.360\n",
      "---> Model[[(10, 2), 'ct', 0]] 351.575\n",
      "---> Model[[(10, 2), 'ct', 1]] 361.664\n",
      "---> Model[[(10, 2), 'ct', 2]] 684.379\n",
      "n_test:7, method:walk, best_cfg parameters are:[(8, 0), 'c', 0], rmse:184.64899551927988\n"
     ]
    }
   ],
   "source": [
    "n_test = 7\n",
    "cfg_list = varmax_configs()\n",
    "method = 'walk'\n",
    "scores = grid_search(df_combined_indeed[['New','Jobnums']], cfg_list, n_test, method, exog=None, parallel=False)\n",
    "print('n_test:{}, method:{}, best_cfg parameters are:{}, rmse:{}'.format(n_test,method,scores[0][0],scores[0][1]))"
   ]
  },
  {
   "cell_type": "code",
   "execution_count": 36,
   "metadata": {},
   "outputs": [],
   "source": [
    "best_cfg = [(8, 0), 'c', 0]\n",
    "n_test = 7\n",
    "indeed_data = df_combined_indeed[['New','Jobnums']]\n",
    "train, test = train_test_split(indeed_data, n_test)\n",
    "yhat_in_varma, error_in_varma = walk_forward_best(indeed_data, n_test, best_cfg)"
   ]
  },
  {
   "cell_type": "markdown",
   "metadata": {},
   "source": [
    "#### X=weekend + Walk"
   ]
  },
  {
   "cell_type": "code",
   "execution_count": 22,
   "metadata": {},
   "outputs": [
    {
     "name": "stdout",
     "output_type": "stream",
     "text": [
      "---> Model[[(3, 0), 'n', 1]] 322.179\n",
      "---> Model[[(3, 0), 'n', 0]] 279.027\n",
      "---> Model[[(3, 0), 'n', 2]] 418.966\n",
      "---> Model[[(3, 0), 'c', 0]] 195.910\n",
      "---> Model[[(3, 0), 'c', 1]] 266.602\n",
      "---> Model[[(3, 0), 'c', 2]] 396.649\n",
      "---> Model[[(3, 0), 't', 0]] 294.837\n",
      "---> Model[[(3, 0), 't', 1]] 283.823\n",
      "---> Model[[(3, 0), 't', 2]] 408.295\n",
      "---> Model[[(3, 0), 'ct', 0]] 280.982\n",
      "---> Model[[(3, 0), 'ct', 1]] 303.545\n",
      "---> Model[[(3, 0), 'ct', 2]] 441.459\n",
      "---> Model[[(3, 1), 'n', 0]] 184.184\n",
      "---> Model[[(3, 1), 'n', 2]] 322.136\n",
      "---> Model[[(3, 1), 'n', 1]] 269.631\n",
      "---> Model[[(3, 1), 'c', 0]] 195.744\n",
      "---> Model[[(3, 1), 'c', 1]] 252.850\n",
      "---> Model[[(3, 1), 'c', 2]] 312.100\n",
      "---> Model[[(3, 1), 't', 0]] 266.585\n",
      "---> Model[[(3, 1), 't', 1]] 235.760\n",
      "---> Model[[(3, 1), 't', 2]] 314.396\n",
      "---> Model[[(3, 1), 'ct', 0]] 279.241\n",
      "---> Model[[(3, 1), 'ct', 1]] 269.921\n",
      "---> Model[[(3, 1), 'ct', 2]] 326.747\n",
      "---> Model[[(3, 2), 'n', 0]] 253.222\n",
      "---> Model[[(3, 2), 'n', 1]] 251.813\n",
      "---> Model[[(3, 2), 'n', 2]] 383.536\n",
      "---> Model[[(3, 2), 'c', 0]] 198.315\n",
      "---> Model[[(3, 2), 'c', 1]] 231.646\n",
      "---> Model[[(3, 2), 'c', 2]] 284.095\n",
      "---> Model[[(3, 2), 't', 0]] 233.642\n",
      "---> Model[[(3, 2), 't', 1]] 201.862\n",
      "---> Model[[(3, 2), 't', 2]] 286.938\n",
      "---> Model[[(4, 0), 'n', 0]] 151.607\n",
      "---> Model[[(3, 2), 'ct', 0]] 257.901\n",
      "---> Model[[(3, 2), 'ct', 1]] 267.981\n",
      "---> Model[[(3, 2), 'ct', 2]] 369.686\n",
      "---> Model[[(4, 0), 'n', 1]] 311.942\n",
      "---> Model[[(4, 0), 'n', 2]] 406.027\n",
      "---> Model[[(4, 0), 'c', 0]] 138.219\n",
      "---> Model[[(4, 0), 'c', 1]] 264.208\n",
      "---> Model[[(4, 0), 'c', 2]] 361.644\n",
      "---> Model[[(4, 0), 't', 0]] 173.333\n",
      "---> Model[[(4, 0), 't', 1]] 223.598\n",
      "---> Model[[(4, 0), 't', 2]] 427.427\n",
      "---> Model[[(4, 0), 'ct', 0]] 191.643\n",
      "---> Model[[(4, 0), 'ct', 1]] 418.718\n",
      "---> Model[[(4, 0), 'ct', 2]] 408.984\n",
      "---> Model[[(4, 1), 'n', 0]] 207.325\n",
      "---> Model[[(4, 1), 'n', 1]] 253.323\n",
      "---> Model[[(4, 1), 'n', 2]] 249.800\n",
      "---> Model[[(4, 1), 'c', 0]] 138.958\n",
      "---> Model[[(4, 1), 'c', 1]] 303.004\n",
      "---> Model[[(4, 1), 'c', 2]] 290.294\n",
      "---> Model[[(4, 1), 't', 0]] 185.232\n",
      "---> Model[[(4, 1), 't', 1]] 226.279\n",
      "---> Model[[(4, 1), 't', 2]] 267.503\n",
      "---> Model[[(4, 1), 'ct', 0]] 167.504\n",
      "---> Model[[(4, 1), 'ct', 1]] 363.688\n",
      "---> Model[[(4, 1), 'ct', 2]] 283.262\n",
      "---> Model[[(4, 2), 'n', 0]] 248.177\n",
      "---> Model[[(4, 2), 'n', 1]] 324.186\n",
      "---> Model[[(4, 2), 'n', 2]] 288.601\n",
      "---> Model[[(4, 2), 'c', 0]] 159.664\n",
      "---> Model[[(4, 2), 'c', 1]] 286.855\n",
      "---> Model[[(4, 2), 'c', 2]] 318.080\n",
      "---> Model[[(4, 2), 't', 0]] 202.645\n",
      "---> Model[[(4, 2), 't', 1]] 216.434\n",
      "---> Model[[(4, 2), 't', 2]] 259.993\n",
      "---> Model[[(4, 2), 'ct', 0]] 165.517\n",
      "---> Model[[(4, 2), 'ct', 1]] 399.455\n",
      "---> Model[[(5, 0), 'n', 0]] 194.714\n",
      "---> Model[[(4, 2), 'ct', 2]] 333.557\n",
      "---> Model[[(5, 0), 'n', 1]] 345.154\n",
      "---> Model[[(5, 0), 'n', 2]] 371.228\n",
      "---> Model[[(5, 0), 'c', 0]] 175.025\n",
      "---> Model[[(5, 0), 'c', 1]] 360.652\n",
      "---> Model[[(5, 0), 'c', 2]] 421.151\n",
      "---> Model[[(5, 0), 't', 0]] 243.883\n",
      "---> Model[[(5, 0), 't', 1]] 241.223\n",
      "---> Model[[(5, 0), 't', 2]] 406.818\n",
      "---> Model[[(5, 0), 'ct', 0]] 198.340\n",
      "---> Model[[(5, 0), 'ct', 1]] 453.369\n",
      "---> Model[[(5, 0), 'ct', 2]] 432.278\n",
      "---> Model[[(5, 1), 'n', 0]] 220.241\n",
      "---> Model[[(5, 1), 'n', 1]] 324.367\n",
      "---> Model[[(5, 1), 'n', 2]] 246.014\n",
      "---> Model[[(5, 1), 'c', 0]] 161.838\n",
      "---> Model[[(5, 1), 'c', 1]] 361.349\n",
      "---> Model[[(5, 1), 'c', 2]] 395.151\n",
      "---> Model[[(5, 1), 't', 0]] 190.066\n",
      "---> Model[[(5, 1), 't', 1]] 232.974\n",
      "---> Model[[(5, 1), 't', 2]] 304.443\n",
      "---> Model[[(5, 1), 'ct', 0]] 197.432\n",
      "---> Model[[(5, 1), 'ct', 1]] 462.073\n",
      "---> Model[[(5, 1), 'ct', 2]] 443.699\n",
      "---> Model[[(5, 2), 'n', 0]] 169.796\n",
      "---> Model[[(5, 2), 'n', 1]] 300.794\n",
      "---> Model[[(5, 2), 'n', 2]] 222.981\n",
      "---> Model[[(5, 2), 'c', 0]] 176.220\n",
      "---> Model[[(5, 2), 'c', 1]] 375.014\n",
      "---> Model[[(5, 2), 'c', 2]] 459.001\n",
      "---> Model[[(5, 2), 't', 0]] 196.348\n",
      "---> Model[[(5, 2), 't', 1]] 273.182\n",
      "---> Model[[(5, 2), 't', 2]] 307.632\n",
      "---> Model[[(5, 2), 'ct', 0]] 191.980\n",
      "---> Model[[(6, 0), 'n', 0]] 355.792\n",
      "---> Model[[(5, 2), 'ct', 1]] 516.830\n",
      "---> Model[[(5, 2), 'ct', 2]] 438.208\n",
      "---> Model[[(6, 0), 'n', 1]] 258.982\n",
      "---> Model[[(6, 0), 'n', 2]] 398.616\n",
      "---> Model[[(6, 0), 'c', 0]] 185.524\n",
      "---> Model[[(6, 0), 'c', 1]] 317.449\n",
      "---> Model[[(6, 0), 'c', 2]] 387.457\n",
      "---> Model[[(6, 0), 't', 0]] 840.303\n",
      "---> Model[[(6, 0), 't', 1]] 190.126\n",
      "---> Model[[(6, 0), 't', 2]] 345.524\n",
      "---> Model[[(6, 0), 'ct', 0]] 187.360\n",
      "---> Model[[(6, 0), 'ct', 1]] 467.129\n",
      "---> Model[[(6, 0), 'ct', 2]] 402.051\n",
      "---> Model[[(6, 1), 'n', 0]] 240.773\n",
      "---> Model[[(6, 1), 'n', 1]] 252.340\n",
      "---> Model[[(6, 1), 'n', 2]] 261.319\n",
      "---> Model[[(6, 1), 'c', 0]] 155.883\n",
      "---> Model[[(6, 1), 'c', 1]] 294.070\n",
      "---> Model[[(6, 1), 'c', 2]] 491.044\n",
      "---> Model[[(6, 1), 't', 0]] 498.423\n",
      "---> Model[[(6, 1), 't', 1]] 158.484\n",
      "---> Model[[(6, 1), 't', 2]] 277.208\n",
      "---> Model[[(6, 1), 'ct', 0]] 173.960\n",
      "---> Model[[(6, 1), 'ct', 1]] 330.818\n",
      "---> Model[[(6, 1), 'ct', 2]] 464.991\n",
      "---> Model[[(6, 2), 'n', 0]] 333.248\n",
      "---> Model[[(6, 2), 'n', 1]] 240.626\n",
      "---> Model[[(6, 2), 'n', 2]] 188.852\n",
      "---> Model[[(6, 2), 'c', 0]] 165.546\n",
      "---> Model[[(6, 2), 'c', 1]] 282.134\n",
      "---> Model[[(6, 2), 'c', 2]] 428.455\n",
      "---> Model[[(6, 2), 't', 0]] 357.153\n",
      "---> Model[[(6, 2), 't', 1]] 176.880\n",
      "---> Model[[(6, 2), 't', 2]] 324.858\n",
      "---> Model[[(6, 2), 'ct', 0]] 166.941\n",
      "---> Model[[(7, 0), 'n', 0]] 264.488\n",
      "---> Model[[(6, 2), 'ct', 1]] 440.532\n",
      "---> Model[[(6, 2), 'ct', 2]] 450.694\n",
      "---> Model[[(7, 0), 'n', 1]] 242.903\n",
      "---> Model[[(7, 0), 'n', 2]] 535.708\n",
      "---> Model[[(7, 0), 'c', 0]] 150.920\n",
      "---> Model[[(7, 0), 'c', 1]] 243.737\n",
      "---> Model[[(7, 0), 'c', 2]] 350.780\n",
      "---> Model[[(7, 0), 't', 0]] 569.226\n",
      "---> Model[[(7, 0), 't', 1]] 182.137\n",
      "---> Model[[(7, 0), 't', 2]] 321.244\n",
      "---> Model[[(7, 0), 'ct', 0]] 174.987\n",
      "---> Model[[(7, 0), 'ct', 1]] 317.667\n",
      "---> Model[[(7, 0), 'ct', 2]] 458.108\n",
      "---> Model[[(7, 1), 'n', 0]] 286.405\n",
      "---> Model[[(7, 1), 'n', 1]] 318.081\n",
      "---> Model[[(7, 1), 'n', 2]] 358.368\n",
      "---> Model[[(7, 1), 'c', 0]] 147.559\n",
      "---> Model[[(7, 1), 'c', 1]] 253.354\n",
      "---> Model[[(7, 1), 'c', 2]] 312.132\n",
      "---> Model[[(7, 1), 't', 0]] 351.152\n",
      "---> Model[[(7, 1), 't', 1]] 218.001\n",
      "---> Model[[(7, 1), 't', 2]] 371.665\n",
      "---> Model[[(7, 1), 'ct', 0]] 127.403\n",
      "---> Model[[(7, 1), 'ct', 1]] 243.973\n",
      "---> Model[[(7, 1), 'ct', 2]] 377.142\n",
      "---> Model[[(7, 2), 'n', 0]] 205.194\n",
      "---> Model[[(7, 2), 'n', 1]] 278.481\n",
      "---> Model[[(7, 2), 'n', 2]] 373.935\n",
      "---> Model[[(7, 2), 'c', 0]] 164.162\n",
      "---> Model[[(7, 2), 'c', 1]] 265.292\n",
      "---> Model[[(7, 2), 'c', 2]] 466.902\n",
      "---> Model[[(7, 2), 't', 0]] 388.817\n",
      "---> Model[[(7, 2), 't', 1]] 210.637\n",
      "---> Model[[(7, 2), 't', 2]] 298.213\n",
      "---> Model[[(7, 2), 'ct', 0]] 134.753\n",
      "---> Model[[(7, 2), 'ct', 1]] 400.479\n",
      "---> Model[[(8, 0), 'n', 0]] 270.651\n",
      "---> Model[[(7, 2), 'ct', 2]] 485.446\n",
      "---> Model[[(8, 0), 'n', 1]] 341.777\n",
      "---> Model[[(8, 0), 'n', 2]] 434.034\n",
      "---> Model[[(8, 0), 'c', 0]] 149.422\n",
      "---> Model[[(8, 0), 'c', 1]] 235.993\n",
      "---> Model[[(8, 0), 'c', 2]] 371.279\n",
      "---> Model[[(8, 0), 't', 0]] 167.268\n",
      "---> Model[[(8, 0), 't', 1]] 256.131\n",
      "---> Model[[(8, 0), 't', 2]] 359.450\n",
      "---> Model[[(8, 0), 'ct', 0]] 190.755\n",
      "---> Model[[(8, 0), 'ct', 1]] 295.069\n",
      "---> Model[[(8, 0), 'ct', 2]] 467.985\n",
      "---> Model[[(8, 1), 'n', 0]] 266.275\n",
      "---> Model[[(8, 1), 'n', 1]] 236.606\n",
      "---> Model[[(8, 1), 'n', 2]] 314.314\n",
      "---> Model[[(8, 1), 'c', 0]] 179.067\n",
      "---> Model[[(8, 1), 'c', 1]] 223.744\n",
      "---> Model[[(8, 1), 'c', 2]] 328.950\n",
      "---> Model[[(8, 1), 't', 0]] 174.951\n",
      "---> Model[[(8, 1), 't', 1]] 224.264\n",
      "---> Model[[(8, 1), 't', 2]] 369.106\n",
      "---> Model[[(8, 1), 'ct', 0]] 200.306\n",
      "---> Model[[(8, 1), 'ct', 1]] 319.624\n",
      "---> Model[[(8, 1), 'ct', 2]] 363.876\n",
      "---> Model[[(8, 2), 'n', 0]] 278.527\n",
      "---> Model[[(8, 2), 'n', 1]] 242.303\n",
      "---> Model[[(8, 2), 'n', 2]] 343.706\n",
      "---> Model[[(8, 2), 'c', 0]] 183.003\n",
      "---> Model[[(8, 2), 'c', 1]] 239.614\n",
      "---> Model[[(8, 2), 'c', 2]] 228.761\n",
      "---> Model[[(8, 2), 't', 0]] 164.252\n",
      "---> Model[[(8, 2), 't', 1]] 222.445\n",
      "---> Model[[(8, 2), 't', 2]] 410.393\n",
      "---> Model[[(8, 2), 'ct', 0]] 199.561\n",
      "---> Model[[(8, 2), 'ct', 1]] 362.585\n",
      "---> Model[[(9, 0), 'n', 0]] 349.786\n",
      "---> Model[[(8, 2), 'ct', 2]] 544.322\n",
      "---> Model[[(9, 0), 'n', 1]] 332.513\n",
      "---> Model[[(9, 0), 'n', 2]] 340.778\n",
      "---> Model[[(9, 0), 'c', 0]] 204.473\n"
     ]
    },
    {
     "name": "stdout",
     "output_type": "stream",
     "text": [
      "---> Model[[(9, 0), 'c', 1]] 209.241\n",
      "---> Model[[(9, 0), 'c', 2]] 403.210\n",
      "---> Model[[(9, 0), 't', 0]] 209.098\n",
      "---> Model[[(9, 0), 't', 1]] 174.044\n",
      "---> Model[[(9, 0), 't', 2]] 301.803\n",
      "---> Model[[(9, 0), 'ct', 0]] 199.751\n",
      "---> Model[[(9, 0), 'ct', 1]] 283.997\n",
      "---> Model[[(9, 0), 'ct', 2]] 474.932\n",
      "---> Model[[(9, 1), 'n', 0]] 323.580\n",
      "---> Model[[(9, 1), 'n', 1]] 358.280\n",
      "---> Model[[(9, 1), 'n', 2]] 277.255\n",
      "---> Model[[(9, 1), 'c', 0]] 204.324\n",
      "---> Model[[(9, 1), 'c', 1]] 138.335\n",
      "---> Model[[(9, 1), 'c', 2]] 357.159\n",
      "---> Model[[(9, 1), 't', 0]] 197.308\n",
      "---> Model[[(9, 1), 't', 1]] 287.816\n",
      "---> Model[[(9, 1), 't', 2]] 246.121\n",
      "---> Model[[(9, 1), 'ct', 0]] 201.826\n",
      "---> Model[[(9, 1), 'ct', 1]] 235.980\n",
      "---> Model[[(9, 1), 'ct', 2]] 316.708\n",
      "---> Model[[(9, 2), 'n', 0]] 258.444\n",
      "---> Model[[(9, 2), 'n', 1]] 344.897\n",
      "---> Model[[(9, 2), 'n', 2]] 324.713\n",
      "---> Model[[(9, 2), 'c', 0]] 241.588\n",
      "---> Model[[(9, 2), 'c', 1]] 262.990\n",
      "---> Model[[(9, 2), 'c', 2]] 446.481\n",
      "---> Model[[(9, 2), 't', 0]] 172.713\n",
      "---> Model[[(9, 2), 't', 1]] 232.521\n",
      "---> Model[[(9, 2), 't', 2]] 320.130\n",
      "---> Model[[(9, 2), 'ct', 0]] 226.703\n",
      "---> Model[[(9, 2), 'ct', 1]] 206.892\n",
      "---> Model[[(9, 2), 'ct', 2]] 370.928\n",
      "---> Model[[(10, 0), 'n', 0]] 302.670\n",
      "---> Model[[(10, 0), 'n', 1]] 279.045\n",
      "---> Model[[(10, 0), 'n', 2]] 355.436\n",
      "---> Model[[(10, 0), 'c', 1]] 177.048\n",
      "---> Model[[(10, 0), 'c', 0]] 184.987\n",
      "---> Model[[(10, 0), 'c', 2]] 466.969\n",
      "---> Model[[(10, 0), 't', 0]] 573.461\n",
      "---> Model[[(10, 0), 't', 2]] 242.229\n",
      "---> Model[[(10, 0), 't', 1]] 198.440\n",
      "---> Model[[(10, 0), 'ct', 0]] 223.698\n",
      "---> Model[[(10, 0), 'ct', 1]] 261.503\n",
      "---> Model[[(10, 0), 'ct', 2]] 587.617\n",
      "---> Model[[(10, 1), 'n', 0]] 346.035\n",
      "---> Model[[(10, 1), 'n', 1]] 337.599\n",
      "---> Model[[(10, 1), 'n', 2]] 328.380\n",
      "---> Model[[(10, 1), 'c', 0]] 198.797\n",
      "---> Model[[(10, 1), 'c', 1]] 183.776\n",
      "---> Model[[(10, 1), 'c', 2]] 416.082\n",
      "---> Model[[(10, 1), 't', 0]] 553.127\n",
      "---> Model[[(10, 1), 't', 1]] 221.991\n",
      "---> Model[[(10, 1), 't', 2]] 264.692\n",
      "---> Model[[(10, 1), 'ct', 0]] 265.978\n",
      "---> Model[[(10, 1), 'ct', 1]] 214.431\n",
      "---> Model[[(10, 1), 'ct', 2]] 545.552\n",
      "---> Model[[(10, 2), 'n', 0]] 350.738\n",
      "---> Model[[(10, 2), 'n', 1]] 294.830\n",
      "---> Model[[(10, 2), 'n', 2]] 287.774\n",
      "---> Model[[(10, 2), 'c', 0]] 204.271\n",
      "---> Model[[(10, 2), 'c', 1]] 246.273\n",
      "---> Model[[(10, 2), 'c', 2]] 350.595\n",
      "---> Model[[(10, 2), 't', 0]] 517.838\n",
      "---> Model[[(10, 2), 't', 1]] 225.473\n",
      "---> Model[[(10, 2), 't', 2]] 224.529\n",
      "---> Model[[(10, 2), 'ct', 0]] 274.885\n",
      "---> Model[[(10, 2), 'ct', 1]] 213.912\n",
      "---> Model[[(10, 2), 'ct', 2]] 409.887\n",
      "n_test:7, method:walk, best_cfg parameters are:[(7, 1), 'ct', 0], rmse:127.40315764674894\n"
     ]
    }
   ],
   "source": [
    "n_test = 7\n",
    "cfg_list = varmax_configs()\n",
    "method = 'walk'\n",
    "scores = grid_search(df_combined_indeed[['New','Jobnums']], cfg_list, n_test, method, exog=df_combined_indeed[['Weekend']])\n",
    "print('n_test:{}, method:{}, best_cfg parameters are:{}, rmse:{}'.format(n_test,method,scores[0][0],scores[0][1]))"
   ]
  },
  {
   "cell_type": "code",
   "execution_count": 37,
   "metadata": {},
   "outputs": [],
   "source": [
    "n_test = 7\n",
    "best_cfg = [(7, 1), 'ct', 0]\n",
    "indeed_data = df_combined_indeed[['New','Jobnums']]\n",
    "train, test = train_test_split(indeed_data, n_test)\n",
    "yhat_in_varmax, error_in_varmax = walk_forward_best(indeed_data, n_test, best_cfg, exog=df_combined_indeed[['Weekend']])"
   ]
  },
  {
   "cell_type": "code",
   "execution_count": 38,
   "metadata": {},
   "outputs": [
    {
     "data": {
      "application/vnd.plotly.v1+json": {
       "config": {
        "plotlyServerURL": "https://plot.ly"
       },
       "data": [
        {
         "mode": "lines+markers",
         "name": "Train",
         "showlegend": false,
         "type": "scatter",
         "x": [
          "2020-06-13T00:00:00",
          "2020-06-14T00:00:00",
          "2020-06-15T00:00:00",
          "2020-06-16T00:00:00",
          "2020-06-17T00:00:00",
          "2020-06-18T00:00:00",
          "2020-06-19T00:00:00",
          "2020-06-20T00:00:00",
          "2020-06-21T00:00:00",
          "2020-06-22T00:00:00",
          "2020-06-23T00:00:00",
          "2020-06-24T00:00:00",
          "2020-06-25T00:00:00",
          "2020-06-26T00:00:00",
          "2020-06-27T00:00:00",
          "2020-06-28T00:00:00",
          "2020-06-29T00:00:00",
          "2020-06-30T00:00:00",
          "2020-07-01T00:00:00",
          "2020-07-02T00:00:00",
          "2020-07-03T00:00:00",
          "2020-07-04T00:00:00",
          "2020-07-05T00:00:00",
          "2020-07-06T00:00:00",
          "2020-07-07T00:00:00",
          "2020-07-08T00:00:00",
          "2020-07-09T00:00:00",
          "2020-07-10T00:00:00",
          "2020-07-11T00:00:00",
          "2020-07-12T00:00:00",
          "2020-07-13T00:00:00",
          "2020-07-14T00:00:00",
          "2020-07-15T00:00:00",
          "2020-07-16T00:00:00",
          "2020-07-17T00:00:00",
          "2020-07-18T00:00:00",
          "2020-07-19T00:00:00",
          "2020-07-20T00:00:00",
          "2020-07-21T00:00:00",
          "2020-07-22T00:00:00",
          "2020-07-23T00:00:00",
          "2020-07-24T00:00:00",
          "2020-07-25T00:00:00",
          "2020-07-26T00:00:00",
          "2020-07-27T00:00:00",
          "2020-07-28T00:00:00",
          "2020-07-29T00:00:00",
          "2020-07-30T00:00:00",
          "2020-07-31T00:00:00",
          "2020-08-01T00:00:00",
          "2020-08-02T00:00:00",
          "2020-08-03T00:00:00",
          "2020-08-04T00:00:00",
          "2020-08-05T00:00:00",
          "2020-08-06T00:00:00",
          "2020-08-07T00:00:00",
          "2020-08-08T00:00:00"
         ],
         "xaxis": "x",
         "y": [
          330,
          61,
          227,
          576,
          645,
          680,
          686,
          334,
          39,
          302,
          815,
          726,
          719,
          805,
          433,
          55,
          326,
          964,
          1865,
          863,
          619,
          176,
          85,
          786,
          1740,
          1747,
          1794,
          1943,
          1167,
          205,
          606,
          804,
          820,
          793,
          721,
          499,
          178,
          1057,
          1730,
          1669,
          1737,
          1732,
          632,
          130,
          1275,
          2116,
          2184,
          2626,
          2683,
          1051,
          222,
          697,
          1047,
          1072,
          1049,
          1189,
          374
         ],
         "yaxis": "y"
        },
        {
         "line": {
          "color": "green"
         },
         "mode": "lines+markers",
         "name": "Test",
         "showlegend": false,
         "type": "scatter",
         "x": [
          "2020-08-09T00:00:00",
          "2020-08-10T00:00:00",
          "2020-08-11T00:00:00",
          "2020-08-12T00:00:00",
          "2020-08-13T00:00:00",
          "2020-08-14T00:00:00",
          "2020-08-15T00:00:00"
         ],
         "xaxis": "x2",
         "y": [
          133,
          1094,
          1362,
          1484,
          1503,
          1429,
          622
         ],
         "yaxis": "y2"
        },
        {
         "line": {
          "color": "red"
         },
         "mode": "lines+markers",
         "name": "Prediction",
         "showlegend": false,
         "type": "scatter",
         "x": [
          "2020-08-09T00:00:00",
          "2020-08-10T00:00:00",
          "2020-08-11T00:00:00",
          "2020-08-12T00:00:00",
          "2020-08-13T00:00:00",
          "2020-08-14T00:00:00",
          "2020-08-15T00:00:00"
         ],
         "xaxis": "x2",
         "y": [
          74.54726668837046,
          766.3875208720026,
          1567.6279760940909,
          1437.5166853496237,
          1745.4435639757373,
          1298.3342293115952,
          534.6838280977106
         ],
         "yaxis": "y2"
        },
        {
         "line": {
          "color": "green"
         },
         "mode": "lines+markers",
         "name": "Test",
         "showlegend": true,
         "type": "scatter",
         "x": [
          "2020-08-09T00:00:00",
          "2020-08-10T00:00:00",
          "2020-08-11T00:00:00",
          "2020-08-12T00:00:00",
          "2020-08-13T00:00:00",
          "2020-08-14T00:00:00",
          "2020-08-15T00:00:00"
         ],
         "xaxis": "x3",
         "y": [
          133,
          1094,
          1362,
          1484,
          1503,
          1429,
          622
         ],
         "yaxis": "y3"
        },
        {
         "line": {
          "color": "red"
         },
         "mode": "lines+markers",
         "name": "Prediction",
         "showlegend": true,
         "type": "scatter",
         "x": [
          "2020-08-09T00:00:00",
          "2020-08-10T00:00:00",
          "2020-08-11T00:00:00",
          "2020-08-12T00:00:00",
          "2020-08-13T00:00:00",
          "2020-08-14T00:00:00",
          "2020-08-15T00:00:00"
         ],
         "xaxis": "x3",
         "y": [
          170.93998205245515,
          1005.1235127362954,
          1567.2713882155892,
          1507.419921554129,
          1734.1729334952502,
          1491.3543310030516,
          593.21542283079
         ],
         "yaxis": "y3"
        }
       ],
       "layout": {
        "annotations": [
         {
          "font": {
           "size": 16
          },
          "showarrow": false,
          "text": "Train data",
          "x": 0.5,
          "xanchor": "center",
          "xref": "paper",
          "y": 1,
          "yanchor": "bottom",
          "yref": "paper"
         },
         {
          "font": {
           "size": 16
          },
          "showarrow": false,
          "text": "No eXog, RMSE: 184.65",
          "x": 0.225,
          "xanchor": "center",
          "xref": "paper",
          "y": 0.375,
          "yanchor": "bottom",
          "yref": "paper"
         },
         {
          "font": {
           "size": 16
          },
          "showarrow": false,
          "text": "X=Weekend, RMSE: 125.46",
          "x": 0.775,
          "xanchor": "center",
          "xref": "paper",
          "y": 0.375,
          "yanchor": "bottom",
          "yref": "paper"
         }
        ],
        "legend": {
         "x": 1,
         "y": 0.25
        },
        "template": {
         "data": {
          "bar": [
           {
            "error_x": {
             "color": "#2a3f5f"
            },
            "error_y": {
             "color": "#2a3f5f"
            },
            "marker": {
             "line": {
              "color": "#E5ECF6",
              "width": 0.5
             }
            },
            "type": "bar"
           }
          ],
          "barpolar": [
           {
            "marker": {
             "line": {
              "color": "#E5ECF6",
              "width": 0.5
             }
            },
            "type": "barpolar"
           }
          ],
          "carpet": [
           {
            "aaxis": {
             "endlinecolor": "#2a3f5f",
             "gridcolor": "white",
             "linecolor": "white",
             "minorgridcolor": "white",
             "startlinecolor": "#2a3f5f"
            },
            "baxis": {
             "endlinecolor": "#2a3f5f",
             "gridcolor": "white",
             "linecolor": "white",
             "minorgridcolor": "white",
             "startlinecolor": "#2a3f5f"
            },
            "type": "carpet"
           }
          ],
          "choropleth": [
           {
            "colorbar": {
             "outlinewidth": 0,
             "ticks": ""
            },
            "type": "choropleth"
           }
          ],
          "contour": [
           {
            "colorbar": {
             "outlinewidth": 0,
             "ticks": ""
            },
            "colorscale": [
             [
              0,
              "#0d0887"
             ],
             [
              0.1111111111111111,
              "#46039f"
             ],
             [
              0.2222222222222222,
              "#7201a8"
             ],
             [
              0.3333333333333333,
              "#9c179e"
             ],
             [
              0.4444444444444444,
              "#bd3786"
             ],
             [
              0.5555555555555556,
              "#d8576b"
             ],
             [
              0.6666666666666666,
              "#ed7953"
             ],
             [
              0.7777777777777778,
              "#fb9f3a"
             ],
             [
              0.8888888888888888,
              "#fdca26"
             ],
             [
              1,
              "#f0f921"
             ]
            ],
            "type": "contour"
           }
          ],
          "contourcarpet": [
           {
            "colorbar": {
             "outlinewidth": 0,
             "ticks": ""
            },
            "type": "contourcarpet"
           }
          ],
          "heatmap": [
           {
            "colorbar": {
             "outlinewidth": 0,
             "ticks": ""
            },
            "colorscale": [
             [
              0,
              "#0d0887"
             ],
             [
              0.1111111111111111,
              "#46039f"
             ],
             [
              0.2222222222222222,
              "#7201a8"
             ],
             [
              0.3333333333333333,
              "#9c179e"
             ],
             [
              0.4444444444444444,
              "#bd3786"
             ],
             [
              0.5555555555555556,
              "#d8576b"
             ],
             [
              0.6666666666666666,
              "#ed7953"
             ],
             [
              0.7777777777777778,
              "#fb9f3a"
             ],
             [
              0.8888888888888888,
              "#fdca26"
             ],
             [
              1,
              "#f0f921"
             ]
            ],
            "type": "heatmap"
           }
          ],
          "heatmapgl": [
           {
            "colorbar": {
             "outlinewidth": 0,
             "ticks": ""
            },
            "colorscale": [
             [
              0,
              "#0d0887"
             ],
             [
              0.1111111111111111,
              "#46039f"
             ],
             [
              0.2222222222222222,
              "#7201a8"
             ],
             [
              0.3333333333333333,
              "#9c179e"
             ],
             [
              0.4444444444444444,
              "#bd3786"
             ],
             [
              0.5555555555555556,
              "#d8576b"
             ],
             [
              0.6666666666666666,
              "#ed7953"
             ],
             [
              0.7777777777777778,
              "#fb9f3a"
             ],
             [
              0.8888888888888888,
              "#fdca26"
             ],
             [
              1,
              "#f0f921"
             ]
            ],
            "type": "heatmapgl"
           }
          ],
          "histogram": [
           {
            "marker": {
             "colorbar": {
              "outlinewidth": 0,
              "ticks": ""
             }
            },
            "type": "histogram"
           }
          ],
          "histogram2d": [
           {
            "colorbar": {
             "outlinewidth": 0,
             "ticks": ""
            },
            "colorscale": [
             [
              0,
              "#0d0887"
             ],
             [
              0.1111111111111111,
              "#46039f"
             ],
             [
              0.2222222222222222,
              "#7201a8"
             ],
             [
              0.3333333333333333,
              "#9c179e"
             ],
             [
              0.4444444444444444,
              "#bd3786"
             ],
             [
              0.5555555555555556,
              "#d8576b"
             ],
             [
              0.6666666666666666,
              "#ed7953"
             ],
             [
              0.7777777777777778,
              "#fb9f3a"
             ],
             [
              0.8888888888888888,
              "#fdca26"
             ],
             [
              1,
              "#f0f921"
             ]
            ],
            "type": "histogram2d"
           }
          ],
          "histogram2dcontour": [
           {
            "colorbar": {
             "outlinewidth": 0,
             "ticks": ""
            },
            "colorscale": [
             [
              0,
              "#0d0887"
             ],
             [
              0.1111111111111111,
              "#46039f"
             ],
             [
              0.2222222222222222,
              "#7201a8"
             ],
             [
              0.3333333333333333,
              "#9c179e"
             ],
             [
              0.4444444444444444,
              "#bd3786"
             ],
             [
              0.5555555555555556,
              "#d8576b"
             ],
             [
              0.6666666666666666,
              "#ed7953"
             ],
             [
              0.7777777777777778,
              "#fb9f3a"
             ],
             [
              0.8888888888888888,
              "#fdca26"
             ],
             [
              1,
              "#f0f921"
             ]
            ],
            "type": "histogram2dcontour"
           }
          ],
          "mesh3d": [
           {
            "colorbar": {
             "outlinewidth": 0,
             "ticks": ""
            },
            "type": "mesh3d"
           }
          ],
          "parcoords": [
           {
            "line": {
             "colorbar": {
              "outlinewidth": 0,
              "ticks": ""
             }
            },
            "type": "parcoords"
           }
          ],
          "pie": [
           {
            "automargin": true,
            "type": "pie"
           }
          ],
          "scatter": [
           {
            "marker": {
             "colorbar": {
              "outlinewidth": 0,
              "ticks": ""
             }
            },
            "type": "scatter"
           }
          ],
          "scatter3d": [
           {
            "line": {
             "colorbar": {
              "outlinewidth": 0,
              "ticks": ""
             }
            },
            "marker": {
             "colorbar": {
              "outlinewidth": 0,
              "ticks": ""
             }
            },
            "type": "scatter3d"
           }
          ],
          "scattercarpet": [
           {
            "marker": {
             "colorbar": {
              "outlinewidth": 0,
              "ticks": ""
             }
            },
            "type": "scattercarpet"
           }
          ],
          "scattergeo": [
           {
            "marker": {
             "colorbar": {
              "outlinewidth": 0,
              "ticks": ""
             }
            },
            "type": "scattergeo"
           }
          ],
          "scattergl": [
           {
            "marker": {
             "colorbar": {
              "outlinewidth": 0,
              "ticks": ""
             }
            },
            "type": "scattergl"
           }
          ],
          "scattermapbox": [
           {
            "marker": {
             "colorbar": {
              "outlinewidth": 0,
              "ticks": ""
             }
            },
            "type": "scattermapbox"
           }
          ],
          "scatterpolar": [
           {
            "marker": {
             "colorbar": {
              "outlinewidth": 0,
              "ticks": ""
             }
            },
            "type": "scatterpolar"
           }
          ],
          "scatterpolargl": [
           {
            "marker": {
             "colorbar": {
              "outlinewidth": 0,
              "ticks": ""
             }
            },
            "type": "scatterpolargl"
           }
          ],
          "scatterternary": [
           {
            "marker": {
             "colorbar": {
              "outlinewidth": 0,
              "ticks": ""
             }
            },
            "type": "scatterternary"
           }
          ],
          "surface": [
           {
            "colorbar": {
             "outlinewidth": 0,
             "ticks": ""
            },
            "colorscale": [
             [
              0,
              "#0d0887"
             ],
             [
              0.1111111111111111,
              "#46039f"
             ],
             [
              0.2222222222222222,
              "#7201a8"
             ],
             [
              0.3333333333333333,
              "#9c179e"
             ],
             [
              0.4444444444444444,
              "#bd3786"
             ],
             [
              0.5555555555555556,
              "#d8576b"
             ],
             [
              0.6666666666666666,
              "#ed7953"
             ],
             [
              0.7777777777777778,
              "#fb9f3a"
             ],
             [
              0.8888888888888888,
              "#fdca26"
             ],
             [
              1,
              "#f0f921"
             ]
            ],
            "type": "surface"
           }
          ],
          "table": [
           {
            "cells": {
             "fill": {
              "color": "#EBF0F8"
             },
             "line": {
              "color": "white"
             }
            },
            "header": {
             "fill": {
              "color": "#C8D4E3"
             },
             "line": {
              "color": "white"
             }
            },
            "type": "table"
           }
          ]
         },
         "layout": {
          "annotationdefaults": {
           "arrowcolor": "#2a3f5f",
           "arrowhead": 0,
           "arrowwidth": 1
          },
          "coloraxis": {
           "colorbar": {
            "outlinewidth": 0,
            "ticks": ""
           }
          },
          "colorscale": {
           "diverging": [
            [
             0,
             "#8e0152"
            ],
            [
             0.1,
             "#c51b7d"
            ],
            [
             0.2,
             "#de77ae"
            ],
            [
             0.3,
             "#f1b6da"
            ],
            [
             0.4,
             "#fde0ef"
            ],
            [
             0.5,
             "#f7f7f7"
            ],
            [
             0.6,
             "#e6f5d0"
            ],
            [
             0.7,
             "#b8e186"
            ],
            [
             0.8,
             "#7fbc41"
            ],
            [
             0.9,
             "#4d9221"
            ],
            [
             1,
             "#276419"
            ]
           ],
           "sequential": [
            [
             0,
             "#0d0887"
            ],
            [
             0.1111111111111111,
             "#46039f"
            ],
            [
             0.2222222222222222,
             "#7201a8"
            ],
            [
             0.3333333333333333,
             "#9c179e"
            ],
            [
             0.4444444444444444,
             "#bd3786"
            ],
            [
             0.5555555555555556,
             "#d8576b"
            ],
            [
             0.6666666666666666,
             "#ed7953"
            ],
            [
             0.7777777777777778,
             "#fb9f3a"
            ],
            [
             0.8888888888888888,
             "#fdca26"
            ],
            [
             1,
             "#f0f921"
            ]
           ],
           "sequentialminus": [
            [
             0,
             "#0d0887"
            ],
            [
             0.1111111111111111,
             "#46039f"
            ],
            [
             0.2222222222222222,
             "#7201a8"
            ],
            [
             0.3333333333333333,
             "#9c179e"
            ],
            [
             0.4444444444444444,
             "#bd3786"
            ],
            [
             0.5555555555555556,
             "#d8576b"
            ],
            [
             0.6666666666666666,
             "#ed7953"
            ],
            [
             0.7777777777777778,
             "#fb9f3a"
            ],
            [
             0.8888888888888888,
             "#fdca26"
            ],
            [
             1,
             "#f0f921"
            ]
           ]
          },
          "colorway": [
           "#636efa",
           "#EF553B",
           "#00cc96",
           "#ab63fa",
           "#FFA15A",
           "#19d3f3",
           "#FF6692",
           "#B6E880",
           "#FF97FF",
           "#FECB52"
          ],
          "font": {
           "color": "#2a3f5f"
          },
          "geo": {
           "bgcolor": "white",
           "lakecolor": "white",
           "landcolor": "#E5ECF6",
           "showlakes": true,
           "showland": true,
           "subunitcolor": "white"
          },
          "hoverlabel": {
           "align": "left"
          },
          "hovermode": "closest",
          "mapbox": {
           "style": "light"
          },
          "paper_bgcolor": "white",
          "plot_bgcolor": "#E5ECF6",
          "polar": {
           "angularaxis": {
            "gridcolor": "white",
            "linecolor": "white",
            "ticks": ""
           },
           "bgcolor": "#E5ECF6",
           "radialaxis": {
            "gridcolor": "white",
            "linecolor": "white",
            "ticks": ""
           }
          },
          "scene": {
           "xaxis": {
            "backgroundcolor": "#E5ECF6",
            "gridcolor": "white",
            "gridwidth": 2,
            "linecolor": "white",
            "showbackground": true,
            "ticks": "",
            "zerolinecolor": "white"
           },
           "yaxis": {
            "backgroundcolor": "#E5ECF6",
            "gridcolor": "white",
            "gridwidth": 2,
            "linecolor": "white",
            "showbackground": true,
            "ticks": "",
            "zerolinecolor": "white"
           },
           "zaxis": {
            "backgroundcolor": "#E5ECF6",
            "gridcolor": "white",
            "gridwidth": 2,
            "linecolor": "white",
            "showbackground": true,
            "ticks": "",
            "zerolinecolor": "white"
           }
          },
          "shapedefaults": {
           "line": {
            "color": "#2a3f5f"
           }
          },
          "ternary": {
           "aaxis": {
            "gridcolor": "white",
            "linecolor": "white",
            "ticks": ""
           },
           "baxis": {
            "gridcolor": "white",
            "linecolor": "white",
            "ticks": ""
           },
           "bgcolor": "#E5ECF6",
           "caxis": {
            "gridcolor": "white",
            "linecolor": "white",
            "ticks": ""
           }
          },
          "title": {
           "x": 0.05
          },
          "xaxis": {
           "automargin": true,
           "gridcolor": "white",
           "linecolor": "white",
           "ticks": "",
           "title": {
            "standoff": 15
           },
           "zerolinecolor": "white",
           "zerolinewidth": 2
          },
          "yaxis": {
           "automargin": true,
           "gridcolor": "white",
           "linecolor": "white",
           "ticks": "",
           "title": {
            "standoff": 15
           },
           "zerolinecolor": "white",
           "zerolinewidth": 2
          }
         }
        },
        "title": {
         "text": "Indeed Software Engineer Job Openings Forecast via VARMAX Model"
        },
        "xaxis": {
         "anchor": "y",
         "domain": [
          0,
          1
         ]
        },
        "xaxis2": {
         "anchor": "y2",
         "domain": [
          0,
          0.45
         ]
        },
        "xaxis3": {
         "anchor": "y3",
         "domain": [
          0.55,
          1
         ]
        },
        "yaxis": {
         "anchor": "x",
         "domain": [
          0.625,
          1
         ]
        },
        "yaxis2": {
         "anchor": "x2",
         "domain": [
          0,
          0.375
         ]
        },
        "yaxis3": {
         "anchor": "x3",
         "domain": [
          0,
          0.375
         ]
        }
       }
      },
      "text/html": [
       "<div>\n",
       "        \n",
       "        \n",
       "            <div id=\"5bd340f8-38b1-401a-9c99-6107e004cced\" class=\"plotly-graph-div\" style=\"height:525px; width:100%;\"></div>\n",
       "            <script type=\"text/javascript\">\n",
       "                require([\"plotly\"], function(Plotly) {\n",
       "                    window.PLOTLYENV=window.PLOTLYENV || {};\n",
       "                    \n",
       "                if (document.getElementById(\"5bd340f8-38b1-401a-9c99-6107e004cced\")) {\n",
       "                    Plotly.newPlot(\n",
       "                        '5bd340f8-38b1-401a-9c99-6107e004cced',\n",
       "                        [{\"mode\": \"lines+markers\", \"name\": \"Train\", \"showlegend\": false, \"type\": \"scatter\", \"x\": [\"2020-06-13T00:00:00\", \"2020-06-14T00:00:00\", \"2020-06-15T00:00:00\", \"2020-06-16T00:00:00\", \"2020-06-17T00:00:00\", \"2020-06-18T00:00:00\", \"2020-06-19T00:00:00\", \"2020-06-20T00:00:00\", \"2020-06-21T00:00:00\", \"2020-06-22T00:00:00\", \"2020-06-23T00:00:00\", \"2020-06-24T00:00:00\", \"2020-06-25T00:00:00\", \"2020-06-26T00:00:00\", \"2020-06-27T00:00:00\", \"2020-06-28T00:00:00\", \"2020-06-29T00:00:00\", \"2020-06-30T00:00:00\", \"2020-07-01T00:00:00\", \"2020-07-02T00:00:00\", \"2020-07-03T00:00:00\", \"2020-07-04T00:00:00\", \"2020-07-05T00:00:00\", \"2020-07-06T00:00:00\", \"2020-07-07T00:00:00\", \"2020-07-08T00:00:00\", \"2020-07-09T00:00:00\", \"2020-07-10T00:00:00\", \"2020-07-11T00:00:00\", \"2020-07-12T00:00:00\", \"2020-07-13T00:00:00\", \"2020-07-14T00:00:00\", \"2020-07-15T00:00:00\", \"2020-07-16T00:00:00\", \"2020-07-17T00:00:00\", \"2020-07-18T00:00:00\", \"2020-07-19T00:00:00\", \"2020-07-20T00:00:00\", \"2020-07-21T00:00:00\", \"2020-07-22T00:00:00\", \"2020-07-23T00:00:00\", \"2020-07-24T00:00:00\", \"2020-07-25T00:00:00\", \"2020-07-26T00:00:00\", \"2020-07-27T00:00:00\", \"2020-07-28T00:00:00\", \"2020-07-29T00:00:00\", \"2020-07-30T00:00:00\", \"2020-07-31T00:00:00\", \"2020-08-01T00:00:00\", \"2020-08-02T00:00:00\", \"2020-08-03T00:00:00\", \"2020-08-04T00:00:00\", \"2020-08-05T00:00:00\", \"2020-08-06T00:00:00\", \"2020-08-07T00:00:00\", \"2020-08-08T00:00:00\"], \"xaxis\": \"x\", \"y\": [330, 61, 227, 576, 645, 680, 686, 334, 39, 302, 815, 726, 719, 805, 433, 55, 326, 964, 1865, 863, 619, 176, 85, 786, 1740, 1747, 1794, 1943, 1167, 205, 606, 804, 820, 793, 721, 499, 178, 1057, 1730, 1669, 1737, 1732, 632, 130, 1275, 2116, 2184, 2626, 2683, 1051, 222, 697, 1047, 1072, 1049, 1189, 374], \"yaxis\": \"y\"}, {\"line\": {\"color\": \"green\"}, \"mode\": \"lines+markers\", \"name\": \"Test\", \"showlegend\": false, \"type\": \"scatter\", \"x\": [\"2020-08-09T00:00:00\", \"2020-08-10T00:00:00\", \"2020-08-11T00:00:00\", \"2020-08-12T00:00:00\", \"2020-08-13T00:00:00\", \"2020-08-14T00:00:00\", \"2020-08-15T00:00:00\"], \"xaxis\": \"x2\", \"y\": [133, 1094, 1362, 1484, 1503, 1429, 622], \"yaxis\": \"y2\"}, {\"line\": {\"color\": \"red\"}, \"mode\": \"lines+markers\", \"name\": \"Prediction\", \"showlegend\": false, \"type\": \"scatter\", \"x\": [\"2020-08-09T00:00:00\", \"2020-08-10T00:00:00\", \"2020-08-11T00:00:00\", \"2020-08-12T00:00:00\", \"2020-08-13T00:00:00\", \"2020-08-14T00:00:00\", \"2020-08-15T00:00:00\"], \"xaxis\": \"x2\", \"y\": [74.54726668837046, 766.3875208720026, 1567.6279760940909, 1437.5166853496237, 1745.4435639757373, 1298.3342293115952, 534.6838280977106], \"yaxis\": \"y2\"}, {\"line\": {\"color\": \"green\"}, \"mode\": \"lines+markers\", \"name\": \"Test\", \"showlegend\": true, \"type\": \"scatter\", \"x\": [\"2020-08-09T00:00:00\", \"2020-08-10T00:00:00\", \"2020-08-11T00:00:00\", \"2020-08-12T00:00:00\", \"2020-08-13T00:00:00\", \"2020-08-14T00:00:00\", \"2020-08-15T00:00:00\"], \"xaxis\": \"x3\", \"y\": [133, 1094, 1362, 1484, 1503, 1429, 622], \"yaxis\": \"y3\"}, {\"line\": {\"color\": \"red\"}, \"mode\": \"lines+markers\", \"name\": \"Prediction\", \"showlegend\": true, \"type\": \"scatter\", \"x\": [\"2020-08-09T00:00:00\", \"2020-08-10T00:00:00\", \"2020-08-11T00:00:00\", \"2020-08-12T00:00:00\", \"2020-08-13T00:00:00\", \"2020-08-14T00:00:00\", \"2020-08-15T00:00:00\"], \"xaxis\": \"x3\", \"y\": [170.93998205245515, 1005.1235127362954, 1567.2713882155892, 1507.419921554129, 1734.1729334952502, 1491.3543310030516, 593.21542283079], \"yaxis\": \"y3\"}],\n",
       "                        {\"annotations\": [{\"font\": {\"size\": 16}, \"showarrow\": false, \"text\": \"Train data\", \"x\": 0.5, \"xanchor\": \"center\", \"xref\": \"paper\", \"y\": 1.0, \"yanchor\": \"bottom\", \"yref\": \"paper\"}, {\"font\": {\"size\": 16}, \"showarrow\": false, \"text\": \"No eXog, RMSE: 184.65\", \"x\": 0.225, \"xanchor\": \"center\", \"xref\": \"paper\", \"y\": 0.375, \"yanchor\": \"bottom\", \"yref\": \"paper\"}, {\"font\": {\"size\": 16}, \"showarrow\": false, \"text\": \"X=Weekend, RMSE: 125.46\", \"x\": 0.775, \"xanchor\": \"center\", \"xref\": \"paper\", \"y\": 0.375, \"yanchor\": \"bottom\", \"yref\": \"paper\"}], \"legend\": {\"x\": 1, \"y\": 0.25}, \"template\": {\"data\": {\"bar\": [{\"error_x\": {\"color\": \"#2a3f5f\"}, \"error_y\": {\"color\": \"#2a3f5f\"}, \"marker\": {\"line\": {\"color\": \"#E5ECF6\", \"width\": 0.5}}, \"type\": \"bar\"}], \"barpolar\": [{\"marker\": {\"line\": {\"color\": \"#E5ECF6\", \"width\": 0.5}}, \"type\": \"barpolar\"}], \"carpet\": [{\"aaxis\": {\"endlinecolor\": \"#2a3f5f\", \"gridcolor\": \"white\", \"linecolor\": \"white\", \"minorgridcolor\": \"white\", \"startlinecolor\": \"#2a3f5f\"}, \"baxis\": {\"endlinecolor\": \"#2a3f5f\", \"gridcolor\": \"white\", \"linecolor\": \"white\", \"minorgridcolor\": \"white\", \"startlinecolor\": \"#2a3f5f\"}, \"type\": \"carpet\"}], \"choropleth\": [{\"colorbar\": {\"outlinewidth\": 0, \"ticks\": \"\"}, \"type\": \"choropleth\"}], \"contour\": [{\"colorbar\": {\"outlinewidth\": 0, \"ticks\": \"\"}, \"colorscale\": [[0.0, \"#0d0887\"], [0.1111111111111111, \"#46039f\"], [0.2222222222222222, \"#7201a8\"], [0.3333333333333333, \"#9c179e\"], [0.4444444444444444, \"#bd3786\"], [0.5555555555555556, \"#d8576b\"], [0.6666666666666666, \"#ed7953\"], [0.7777777777777778, \"#fb9f3a\"], [0.8888888888888888, \"#fdca26\"], [1.0, \"#f0f921\"]], \"type\": \"contour\"}], \"contourcarpet\": [{\"colorbar\": {\"outlinewidth\": 0, \"ticks\": \"\"}, \"type\": \"contourcarpet\"}], \"heatmap\": [{\"colorbar\": {\"outlinewidth\": 0, \"ticks\": \"\"}, \"colorscale\": [[0.0, \"#0d0887\"], [0.1111111111111111, \"#46039f\"], [0.2222222222222222, \"#7201a8\"], [0.3333333333333333, \"#9c179e\"], [0.4444444444444444, \"#bd3786\"], [0.5555555555555556, \"#d8576b\"], [0.6666666666666666, \"#ed7953\"], [0.7777777777777778, \"#fb9f3a\"], [0.8888888888888888, \"#fdca26\"], [1.0, \"#f0f921\"]], \"type\": \"heatmap\"}], \"heatmapgl\": [{\"colorbar\": {\"outlinewidth\": 0, \"ticks\": \"\"}, \"colorscale\": [[0.0, \"#0d0887\"], [0.1111111111111111, \"#46039f\"], [0.2222222222222222, \"#7201a8\"], [0.3333333333333333, \"#9c179e\"], [0.4444444444444444, \"#bd3786\"], [0.5555555555555556, \"#d8576b\"], [0.6666666666666666, \"#ed7953\"], [0.7777777777777778, \"#fb9f3a\"], [0.8888888888888888, \"#fdca26\"], [1.0, \"#f0f921\"]], \"type\": \"heatmapgl\"}], \"histogram\": [{\"marker\": {\"colorbar\": {\"outlinewidth\": 0, \"ticks\": \"\"}}, \"type\": \"histogram\"}], \"histogram2d\": [{\"colorbar\": {\"outlinewidth\": 0, \"ticks\": \"\"}, \"colorscale\": [[0.0, \"#0d0887\"], [0.1111111111111111, \"#46039f\"], [0.2222222222222222, \"#7201a8\"], [0.3333333333333333, \"#9c179e\"], [0.4444444444444444, \"#bd3786\"], [0.5555555555555556, \"#d8576b\"], [0.6666666666666666, \"#ed7953\"], [0.7777777777777778, \"#fb9f3a\"], [0.8888888888888888, \"#fdca26\"], [1.0, \"#f0f921\"]], \"type\": \"histogram2d\"}], \"histogram2dcontour\": [{\"colorbar\": {\"outlinewidth\": 0, \"ticks\": \"\"}, \"colorscale\": [[0.0, \"#0d0887\"], [0.1111111111111111, \"#46039f\"], [0.2222222222222222, \"#7201a8\"], [0.3333333333333333, \"#9c179e\"], [0.4444444444444444, \"#bd3786\"], [0.5555555555555556, \"#d8576b\"], [0.6666666666666666, \"#ed7953\"], [0.7777777777777778, \"#fb9f3a\"], [0.8888888888888888, \"#fdca26\"], [1.0, \"#f0f921\"]], \"type\": \"histogram2dcontour\"}], \"mesh3d\": [{\"colorbar\": {\"outlinewidth\": 0, \"ticks\": \"\"}, \"type\": \"mesh3d\"}], \"parcoords\": [{\"line\": {\"colorbar\": {\"outlinewidth\": 0, \"ticks\": \"\"}}, \"type\": \"parcoords\"}], \"pie\": [{\"automargin\": true, \"type\": \"pie\"}], \"scatter\": [{\"marker\": {\"colorbar\": {\"outlinewidth\": 0, \"ticks\": \"\"}}, \"type\": \"scatter\"}], \"scatter3d\": [{\"line\": {\"colorbar\": {\"outlinewidth\": 0, \"ticks\": \"\"}}, \"marker\": {\"colorbar\": {\"outlinewidth\": 0, \"ticks\": \"\"}}, \"type\": \"scatter3d\"}], \"scattercarpet\": [{\"marker\": {\"colorbar\": {\"outlinewidth\": 0, \"ticks\": \"\"}}, \"type\": \"scattercarpet\"}], \"scattergeo\": [{\"marker\": {\"colorbar\": {\"outlinewidth\": 0, \"ticks\": \"\"}}, \"type\": \"scattergeo\"}], \"scattergl\": [{\"marker\": {\"colorbar\": {\"outlinewidth\": 0, \"ticks\": \"\"}}, \"type\": \"scattergl\"}], \"scattermapbox\": [{\"marker\": {\"colorbar\": {\"outlinewidth\": 0, \"ticks\": \"\"}}, \"type\": \"scattermapbox\"}], \"scatterpolar\": [{\"marker\": {\"colorbar\": {\"outlinewidth\": 0, \"ticks\": \"\"}}, \"type\": \"scatterpolar\"}], \"scatterpolargl\": [{\"marker\": {\"colorbar\": {\"outlinewidth\": 0, \"ticks\": \"\"}}, \"type\": \"scatterpolargl\"}], \"scatterternary\": [{\"marker\": {\"colorbar\": {\"outlinewidth\": 0, \"ticks\": \"\"}}, \"type\": \"scatterternary\"}], \"surface\": [{\"colorbar\": {\"outlinewidth\": 0, \"ticks\": \"\"}, \"colorscale\": [[0.0, \"#0d0887\"], [0.1111111111111111, \"#46039f\"], [0.2222222222222222, \"#7201a8\"], [0.3333333333333333, \"#9c179e\"], [0.4444444444444444, \"#bd3786\"], [0.5555555555555556, \"#d8576b\"], [0.6666666666666666, \"#ed7953\"], [0.7777777777777778, \"#fb9f3a\"], [0.8888888888888888, \"#fdca26\"], [1.0, \"#f0f921\"]], \"type\": \"surface\"}], \"table\": [{\"cells\": {\"fill\": {\"color\": \"#EBF0F8\"}, \"line\": {\"color\": \"white\"}}, \"header\": {\"fill\": {\"color\": \"#C8D4E3\"}, \"line\": {\"color\": \"white\"}}, \"type\": \"table\"}]}, \"layout\": {\"annotationdefaults\": {\"arrowcolor\": \"#2a3f5f\", \"arrowhead\": 0, \"arrowwidth\": 1}, \"coloraxis\": {\"colorbar\": {\"outlinewidth\": 0, \"ticks\": \"\"}}, \"colorscale\": {\"diverging\": [[0, \"#8e0152\"], [0.1, \"#c51b7d\"], [0.2, \"#de77ae\"], [0.3, \"#f1b6da\"], [0.4, \"#fde0ef\"], [0.5, \"#f7f7f7\"], [0.6, \"#e6f5d0\"], [0.7, \"#b8e186\"], [0.8, \"#7fbc41\"], [0.9, \"#4d9221\"], [1, \"#276419\"]], \"sequential\": [[0.0, \"#0d0887\"], [0.1111111111111111, \"#46039f\"], [0.2222222222222222, \"#7201a8\"], [0.3333333333333333, \"#9c179e\"], [0.4444444444444444, \"#bd3786\"], [0.5555555555555556, \"#d8576b\"], [0.6666666666666666, \"#ed7953\"], [0.7777777777777778, \"#fb9f3a\"], [0.8888888888888888, \"#fdca26\"], [1.0, \"#f0f921\"]], \"sequentialminus\": [[0.0, \"#0d0887\"], [0.1111111111111111, \"#46039f\"], [0.2222222222222222, \"#7201a8\"], [0.3333333333333333, \"#9c179e\"], [0.4444444444444444, \"#bd3786\"], [0.5555555555555556, \"#d8576b\"], [0.6666666666666666, \"#ed7953\"], [0.7777777777777778, \"#fb9f3a\"], [0.8888888888888888, \"#fdca26\"], [1.0, \"#f0f921\"]]}, \"colorway\": [\"#636efa\", \"#EF553B\", \"#00cc96\", \"#ab63fa\", \"#FFA15A\", \"#19d3f3\", \"#FF6692\", \"#B6E880\", \"#FF97FF\", \"#FECB52\"], \"font\": {\"color\": \"#2a3f5f\"}, \"geo\": {\"bgcolor\": \"white\", \"lakecolor\": \"white\", \"landcolor\": \"#E5ECF6\", \"showlakes\": true, \"showland\": true, \"subunitcolor\": \"white\"}, \"hoverlabel\": {\"align\": \"left\"}, \"hovermode\": \"closest\", \"mapbox\": {\"style\": \"light\"}, \"paper_bgcolor\": \"white\", \"plot_bgcolor\": \"#E5ECF6\", \"polar\": {\"angularaxis\": {\"gridcolor\": \"white\", \"linecolor\": \"white\", \"ticks\": \"\"}, \"bgcolor\": \"#E5ECF6\", \"radialaxis\": {\"gridcolor\": \"white\", \"linecolor\": \"white\", \"ticks\": \"\"}}, \"scene\": {\"xaxis\": {\"backgroundcolor\": \"#E5ECF6\", \"gridcolor\": \"white\", \"gridwidth\": 2, \"linecolor\": \"white\", \"showbackground\": true, \"ticks\": \"\", \"zerolinecolor\": \"white\"}, \"yaxis\": {\"backgroundcolor\": \"#E5ECF6\", \"gridcolor\": \"white\", \"gridwidth\": 2, \"linecolor\": \"white\", \"showbackground\": true, \"ticks\": \"\", \"zerolinecolor\": \"white\"}, \"zaxis\": {\"backgroundcolor\": \"#E5ECF6\", \"gridcolor\": \"white\", \"gridwidth\": 2, \"linecolor\": \"white\", \"showbackground\": true, \"ticks\": \"\", \"zerolinecolor\": \"white\"}}, \"shapedefaults\": {\"line\": {\"color\": \"#2a3f5f\"}}, \"ternary\": {\"aaxis\": {\"gridcolor\": \"white\", \"linecolor\": \"white\", \"ticks\": \"\"}, \"baxis\": {\"gridcolor\": \"white\", \"linecolor\": \"white\", \"ticks\": \"\"}, \"bgcolor\": \"#E5ECF6\", \"caxis\": {\"gridcolor\": \"white\", \"linecolor\": \"white\", \"ticks\": \"\"}}, \"title\": {\"x\": 0.05}, \"xaxis\": {\"automargin\": true, \"gridcolor\": \"white\", \"linecolor\": \"white\", \"ticks\": \"\", \"title\": {\"standoff\": 15}, \"zerolinecolor\": \"white\", \"zerolinewidth\": 2}, \"yaxis\": {\"automargin\": true, \"gridcolor\": \"white\", \"linecolor\": \"white\", \"ticks\": \"\", \"title\": {\"standoff\": 15}, \"zerolinecolor\": \"white\", \"zerolinewidth\": 2}}}, \"title\": {\"text\": \"Indeed Software Engineer Job Openings Forecast via VARMAX Model\"}, \"xaxis\": {\"anchor\": \"y\", \"domain\": [0.0, 1.0]}, \"xaxis2\": {\"anchor\": \"y2\", \"domain\": [0.0, 0.45]}, \"xaxis3\": {\"anchor\": \"y3\", \"domain\": [0.55, 1.0]}, \"yaxis\": {\"anchor\": \"x\", \"domain\": [0.625, 1.0]}, \"yaxis2\": {\"anchor\": \"x2\", \"domain\": [0.0, 0.375]}, \"yaxis3\": {\"anchor\": \"x3\", \"domain\": [0.0, 0.375]}},\n",
       "                        {\"responsive\": true}\n",
       "                    ).then(function(){\n",
       "                            \n",
       "var gd = document.getElementById('5bd340f8-38b1-401a-9c99-6107e004cced');\n",
       "var x = new MutationObserver(function (mutations, observer) {{\n",
       "        var display = window.getComputedStyle(gd).display;\n",
       "        if (!display || display === 'none') {{\n",
       "            console.log([gd, 'removed!']);\n",
       "            Plotly.purge(gd);\n",
       "            observer.disconnect();\n",
       "        }}\n",
       "}});\n",
       "\n",
       "// Listen for the removal of the full notebook cells\n",
       "var notebookContainer = gd.closest('#notebook-container');\n",
       "if (notebookContainer) {{\n",
       "    x.observe(notebookContainer, {childList: true});\n",
       "}}\n",
       "\n",
       "// Listen for the clearing of the current output cell\n",
       "var outputEl = gd.closest('.output');\n",
       "if (outputEl) {{\n",
       "    x.observe(outputEl, {childList: true});\n",
       "}}\n",
       "\n",
       "                        })\n",
       "                };\n",
       "                });\n",
       "            </script>\n",
       "        </div>"
      ]
     },
     "metadata": {},
     "output_type": "display_data"
    }
   ],
   "source": [
    "fig = make_subplots(\n",
    "    rows=2, cols=2,\n",
    "    specs=[[{\"colspan\": 2}, None],[{}, {}]],\n",
    "    subplot_titles=(\"Train data\",'No eXog, RMSE: {:0.2f}'.format(error_in_varma), 'X=Weekend, RMSE: {:0.2f}'.format(error_in_varmax)))\n",
    "\n",
    "fig.add_trace(go.Scatter(x=train.index, y=train['Jobnums'], mode='lines+markers',name='Train', showlegend=False), row=1, col=1)\n",
    "fig.add_trace(go.Scatter(x=test.index, y=test['Jobnums'], mode='lines+markers',line=dict(color='green'), name='Test', showlegend=False), row=2, col=1)\n",
    "fig.add_trace(go.Scatter(x=test.index, y=yhat_in_varma[\"Jobnums\"], mode='lines+markers',line=dict(color='red'), name='Prediction',showlegend=False),row=2, col=1)\n",
    "#fig.add_trace(go.Scatter(x=pred_cix.index, y=pred_ci.iloc[:,1], fill=None, mode='lines',line=dict(width=0.0,color='lightgray'),showlegend=False), row=2, col=1)\n",
    "#fig.add_trace(go.Scatter(x=pred_cix.index, y=pred_ci.iloc[:,3], fill='tonexty', mode='lines',line=dict(width=0.0,color='lightgray'),showlegend=False),row=2, col=1)\n",
    "fig.add_trace(go.Scatter(x=test.index, y=test['Jobnums'], mode='lines+markers', line=dict(color='green'), name='Test',showlegend=True), row=2, col=2)\n",
    "fig.add_trace(go.Scatter(x=test.index, y=yhat_in_varmax[\"Jobnums\"], mode='lines+markers', line=dict(color='red'), name='Prediction',showlegend=True),row=2, col=2)\n",
    "#fig.add_trace(go.Scatter(x=pred_cix.index, y=pred_u, fill=None, mode='lines',line=dict(width=0.0,color='lightgray'),showlegend=False), row=2, col=2)\n",
    "#fig.add_trace(go.Scatter(x=pred_cix.index, y=pred_l, fill='tonexty', mode='lines',line=dict(width=0.0,color='lightgray'),showlegend=False),row=2, col=2)\n",
    "fig.update_layout(title='Indeed Software Engineer Job Openings Forecast via VARMAX Model',legend=dict(x=1,y=0.25))\n",
    "fig.show()"
   ]
  },
  {
   "cell_type": "markdown",
   "metadata": {},
   "source": [
    "### Forecast the Future"
   ]
  },
  {
   "cell_type": "code",
   "execution_count": 40,
   "metadata": {},
   "outputs": [
    {
     "data": {
      "text/html": [
       "<div>\n",
       "<style scoped>\n",
       "    .dataframe tbody tr th:only-of-type {\n",
       "        vertical-align: middle;\n",
       "    }\n",
       "\n",
       "    .dataframe tbody tr th {\n",
       "        vertical-align: top;\n",
       "    }\n",
       "\n",
       "    .dataframe thead th {\n",
       "        text-align: right;\n",
       "    }\n",
       "</style>\n",
       "<table border=\"1\" class=\"dataframe\">\n",
       "  <thead>\n",
       "    <tr style=\"text-align: right;\">\n",
       "      <th></th>\n",
       "      <th>Date</th>\n",
       "      <th>Day of week</th>\n",
       "      <th>Weekend</th>\n",
       "    </tr>\n",
       "    <tr>\n",
       "      <th>Date</th>\n",
       "      <th></th>\n",
       "      <th></th>\n",
       "      <th></th>\n",
       "    </tr>\n",
       "  </thead>\n",
       "  <tbody>\n",
       "    <tr>\n",
       "      <td>2020-08-16</td>\n",
       "      <td>2020-08-16</td>\n",
       "      <td>Sun</td>\n",
       "      <td>1</td>\n",
       "    </tr>\n",
       "    <tr>\n",
       "      <td>2020-08-17</td>\n",
       "      <td>2020-08-17</td>\n",
       "      <td>Mon</td>\n",
       "      <td>0</td>\n",
       "    </tr>\n",
       "    <tr>\n",
       "      <td>2020-08-18</td>\n",
       "      <td>2020-08-18</td>\n",
       "      <td>Tue</td>\n",
       "      <td>0</td>\n",
       "    </tr>\n",
       "    <tr>\n",
       "      <td>2020-08-19</td>\n",
       "      <td>2020-08-19</td>\n",
       "      <td>Wed</td>\n",
       "      <td>0</td>\n",
       "    </tr>\n",
       "    <tr>\n",
       "      <td>2020-08-20</td>\n",
       "      <td>2020-08-20</td>\n",
       "      <td>Thu</td>\n",
       "      <td>0</td>\n",
       "    </tr>\n",
       "    <tr>\n",
       "      <td>2020-08-21</td>\n",
       "      <td>2020-08-21</td>\n",
       "      <td>Fri</td>\n",
       "      <td>0</td>\n",
       "    </tr>\n",
       "    <tr>\n",
       "      <td>2020-08-22</td>\n",
       "      <td>2020-08-22</td>\n",
       "      <td>Sat</td>\n",
       "      <td>1</td>\n",
       "    </tr>\n",
       "  </tbody>\n",
       "</table>\n",
       "</div>"
      ],
      "text/plain": [
       "                 Date Day of week  Weekend\n",
       "Date                                      \n",
       "2020-08-16 2020-08-16         Sun        1\n",
       "2020-08-17 2020-08-17         Mon        0\n",
       "2020-08-18 2020-08-18         Tue        0\n",
       "2020-08-19 2020-08-19         Wed        0\n",
       "2020-08-20 2020-08-20         Thu        0\n",
       "2020-08-21 2020-08-21         Fri        0\n",
       "2020-08-22 2020-08-22         Sat        1"
      ]
     },
     "execution_count": 40,
     "metadata": {},
     "output_type": "execute_result"
    }
   ],
   "source": [
    "df_indeed_future = pd.DataFrame(columns=['Date', 'Day of week', 'Weekend'])\n",
    "df_indeed_future['Date'] = pd.date_range('2020-08-16', '2020-08-22')\n",
    "df_indeed_future.set_index('Date', inplace=True, drop=False)\n",
    "df_indeed_future['Day of week'] = df_indeed_future['Date'].apply(lambda x: week[x.weekday()])\n",
    "df_indeed_future['Weekend'] = df_indeed_future['Day of week'].apply(lambda x: 1 if (x=='Sun') or (x=='Sat') else 0)\n",
    "df_indeed_future"
   ]
  },
  {
   "cell_type": "code",
   "execution_count": 41,
   "metadata": {},
   "outputs": [],
   "source": [
    "n_test = 7\n",
    "best_cfg = [(7, 1), 'ct', 0]\n",
    "train = df_combined_indeed[['New','Jobnums']]\n",
    "exog_train = df_combined_indeed[['Weekend']]\n",
    "exog_test = df_indeed_future[['Weekend']]\n",
    "indeed_pred = pd.DataFrame()\n",
    "history = train.copy()\n",
    "exog_ = [x[:] for x in exog_train.values]\n",
    "for i in range(n_test):\n",
    "    yhat = varmax_forecast(history, 1, best_cfg, exog1=exog_, exog2=np.array(exog_test.iloc[i]).reshape(1,-1))\n",
    "    indeed_pred = indeed_pred.append(yhat)\n",
    "    history = history.append(yhat)\n",
    "    exog_.append(np.array(exog_test.iloc[i]))"
   ]
  },
  {
   "cell_type": "code",
   "execution_count": 42,
   "metadata": {},
   "outputs": [
    {
     "data": {
      "application/vnd.plotly.v1+json": {
       "config": {
        "plotlyServerURL": "https://plot.ly"
       },
       "data": [
        {
         "marker": {
          "color": "royalblue",
          "size": 8
         },
         "mode": "lines+markers",
         "name": "Train",
         "type": "scatter",
         "x": [
          "2020-06-13T00:00:00",
          "2020-06-14T00:00:00",
          "2020-06-15T00:00:00",
          "2020-06-16T00:00:00",
          "2020-06-17T00:00:00",
          "2020-06-18T00:00:00",
          "2020-06-19T00:00:00",
          "2020-06-20T00:00:00",
          "2020-06-21T00:00:00",
          "2020-06-22T00:00:00",
          "2020-06-23T00:00:00",
          "2020-06-24T00:00:00",
          "2020-06-25T00:00:00",
          "2020-06-26T00:00:00",
          "2020-06-27T00:00:00",
          "2020-06-28T00:00:00",
          "2020-06-29T00:00:00",
          "2020-06-30T00:00:00",
          "2020-07-01T00:00:00",
          "2020-07-02T00:00:00",
          "2020-07-03T00:00:00",
          "2020-07-04T00:00:00",
          "2020-07-05T00:00:00",
          "2020-07-06T00:00:00",
          "2020-07-07T00:00:00",
          "2020-07-08T00:00:00",
          "2020-07-09T00:00:00",
          "2020-07-10T00:00:00",
          "2020-07-11T00:00:00",
          "2020-07-12T00:00:00",
          "2020-07-13T00:00:00",
          "2020-07-14T00:00:00",
          "2020-07-15T00:00:00",
          "2020-07-16T00:00:00",
          "2020-07-17T00:00:00",
          "2020-07-18T00:00:00",
          "2020-07-19T00:00:00",
          "2020-07-20T00:00:00",
          "2020-07-21T00:00:00",
          "2020-07-22T00:00:00",
          "2020-07-23T00:00:00",
          "2020-07-24T00:00:00",
          "2020-07-25T00:00:00",
          "2020-07-26T00:00:00",
          "2020-07-27T00:00:00",
          "2020-07-28T00:00:00",
          "2020-07-29T00:00:00",
          "2020-07-30T00:00:00",
          "2020-07-31T00:00:00",
          "2020-08-01T00:00:00",
          "2020-08-02T00:00:00",
          "2020-08-03T00:00:00",
          "2020-08-04T00:00:00",
          "2020-08-05T00:00:00",
          "2020-08-06T00:00:00",
          "2020-08-07T00:00:00",
          "2020-08-08T00:00:00",
          "2020-08-09T00:00:00",
          "2020-08-10T00:00:00",
          "2020-08-11T00:00:00",
          "2020-08-12T00:00:00",
          "2020-08-13T00:00:00",
          "2020-08-14T00:00:00",
          "2020-08-15T00:00:00"
         ],
         "y": [
          330,
          61,
          227,
          576,
          645,
          680,
          686,
          334,
          39,
          302,
          815,
          726,
          719,
          805,
          433,
          55,
          326,
          964,
          1865,
          863,
          619,
          176,
          85,
          786,
          1740,
          1747,
          1794,
          1943,
          1167,
          205,
          606,
          804,
          820,
          793,
          721,
          499,
          178,
          1057,
          1730,
          1669,
          1737,
          1732,
          632,
          130,
          1275,
          2116,
          2184,
          2626,
          2683,
          1051,
          222,
          697,
          1047,
          1072,
          1049,
          1189,
          374,
          133,
          1094,
          1362,
          1484,
          1503,
          1429,
          622
         ]
        },
        {
         "marker": {
          "color": "red",
          "size": 8
         },
         "mode": "lines+markers",
         "name": "Future Forecast",
         "type": "scatter",
         "x": [
          "2020-08-16T00:00:00",
          "2020-08-17T00:00:00",
          "2020-08-18T00:00:00",
          "2020-08-19T00:00:00",
          "2020-08-20T00:00:00",
          "2020-08-21T00:00:00",
          "2020-08-22T00:00:00"
         ],
         "y": [
          339.7798063346177,
          791.477745101415,
          1300.681819846377,
          1366.3568069070684,
          1634.1631694801285,
          1495.0090324442958,
          953.0490778920275
         ]
        }
       ],
       "layout": {
        "annotations": [
         {
          "arrowhead": 2,
          "arrowsize": 1,
          "arrowwidth": 2,
          "ax": 10,
          "ay": -70,
          "font": {
           "size": 16
          },
          "text": "Future<br>forecast",
          "x": "2020-08-18",
          "y": 1600
         }
        ],
        "height": 500,
        "legend": {
         "font": {
          "size": 16
         },
         "x": 0.05,
         "y": 0.95
        },
        "margin": {
         "b": 0,
         "l": 0,
         "r": 10,
         "t": 90
        },
        "shapes": [
         {
          "fillcolor": "LightSalmon",
          "layer": "below",
          "line": {
           "width": 0
          },
          "opacity": 0.2,
          "type": "rect",
          "x0": "2020-08-16T00:00:00",
          "x1": "2020-08-22T00:00:00",
          "xref": "x",
          "y0": 0,
          "y1": 1,
          "yref": "paper"
         }
        ],
        "template": {
         "data": {
          "bar": [
           {
            "error_x": {
             "color": "#2a3f5f"
            },
            "error_y": {
             "color": "#2a3f5f"
            },
            "marker": {
             "line": {
              "color": "#E5ECF6",
              "width": 0.5
             }
            },
            "type": "bar"
           }
          ],
          "barpolar": [
           {
            "marker": {
             "line": {
              "color": "#E5ECF6",
              "width": 0.5
             }
            },
            "type": "barpolar"
           }
          ],
          "carpet": [
           {
            "aaxis": {
             "endlinecolor": "#2a3f5f",
             "gridcolor": "white",
             "linecolor": "white",
             "minorgridcolor": "white",
             "startlinecolor": "#2a3f5f"
            },
            "baxis": {
             "endlinecolor": "#2a3f5f",
             "gridcolor": "white",
             "linecolor": "white",
             "minorgridcolor": "white",
             "startlinecolor": "#2a3f5f"
            },
            "type": "carpet"
           }
          ],
          "choropleth": [
           {
            "colorbar": {
             "outlinewidth": 0,
             "ticks": ""
            },
            "type": "choropleth"
           }
          ],
          "contour": [
           {
            "colorbar": {
             "outlinewidth": 0,
             "ticks": ""
            },
            "colorscale": [
             [
              0,
              "#0d0887"
             ],
             [
              0.1111111111111111,
              "#46039f"
             ],
             [
              0.2222222222222222,
              "#7201a8"
             ],
             [
              0.3333333333333333,
              "#9c179e"
             ],
             [
              0.4444444444444444,
              "#bd3786"
             ],
             [
              0.5555555555555556,
              "#d8576b"
             ],
             [
              0.6666666666666666,
              "#ed7953"
             ],
             [
              0.7777777777777778,
              "#fb9f3a"
             ],
             [
              0.8888888888888888,
              "#fdca26"
             ],
             [
              1,
              "#f0f921"
             ]
            ],
            "type": "contour"
           }
          ],
          "contourcarpet": [
           {
            "colorbar": {
             "outlinewidth": 0,
             "ticks": ""
            },
            "type": "contourcarpet"
           }
          ],
          "heatmap": [
           {
            "colorbar": {
             "outlinewidth": 0,
             "ticks": ""
            },
            "colorscale": [
             [
              0,
              "#0d0887"
             ],
             [
              0.1111111111111111,
              "#46039f"
             ],
             [
              0.2222222222222222,
              "#7201a8"
             ],
             [
              0.3333333333333333,
              "#9c179e"
             ],
             [
              0.4444444444444444,
              "#bd3786"
             ],
             [
              0.5555555555555556,
              "#d8576b"
             ],
             [
              0.6666666666666666,
              "#ed7953"
             ],
             [
              0.7777777777777778,
              "#fb9f3a"
             ],
             [
              0.8888888888888888,
              "#fdca26"
             ],
             [
              1,
              "#f0f921"
             ]
            ],
            "type": "heatmap"
           }
          ],
          "heatmapgl": [
           {
            "colorbar": {
             "outlinewidth": 0,
             "ticks": ""
            },
            "colorscale": [
             [
              0,
              "#0d0887"
             ],
             [
              0.1111111111111111,
              "#46039f"
             ],
             [
              0.2222222222222222,
              "#7201a8"
             ],
             [
              0.3333333333333333,
              "#9c179e"
             ],
             [
              0.4444444444444444,
              "#bd3786"
             ],
             [
              0.5555555555555556,
              "#d8576b"
             ],
             [
              0.6666666666666666,
              "#ed7953"
             ],
             [
              0.7777777777777778,
              "#fb9f3a"
             ],
             [
              0.8888888888888888,
              "#fdca26"
             ],
             [
              1,
              "#f0f921"
             ]
            ],
            "type": "heatmapgl"
           }
          ],
          "histogram": [
           {
            "marker": {
             "colorbar": {
              "outlinewidth": 0,
              "ticks": ""
             }
            },
            "type": "histogram"
           }
          ],
          "histogram2d": [
           {
            "colorbar": {
             "outlinewidth": 0,
             "ticks": ""
            },
            "colorscale": [
             [
              0,
              "#0d0887"
             ],
             [
              0.1111111111111111,
              "#46039f"
             ],
             [
              0.2222222222222222,
              "#7201a8"
             ],
             [
              0.3333333333333333,
              "#9c179e"
             ],
             [
              0.4444444444444444,
              "#bd3786"
             ],
             [
              0.5555555555555556,
              "#d8576b"
             ],
             [
              0.6666666666666666,
              "#ed7953"
             ],
             [
              0.7777777777777778,
              "#fb9f3a"
             ],
             [
              0.8888888888888888,
              "#fdca26"
             ],
             [
              1,
              "#f0f921"
             ]
            ],
            "type": "histogram2d"
           }
          ],
          "histogram2dcontour": [
           {
            "colorbar": {
             "outlinewidth": 0,
             "ticks": ""
            },
            "colorscale": [
             [
              0,
              "#0d0887"
             ],
             [
              0.1111111111111111,
              "#46039f"
             ],
             [
              0.2222222222222222,
              "#7201a8"
             ],
             [
              0.3333333333333333,
              "#9c179e"
             ],
             [
              0.4444444444444444,
              "#bd3786"
             ],
             [
              0.5555555555555556,
              "#d8576b"
             ],
             [
              0.6666666666666666,
              "#ed7953"
             ],
             [
              0.7777777777777778,
              "#fb9f3a"
             ],
             [
              0.8888888888888888,
              "#fdca26"
             ],
             [
              1,
              "#f0f921"
             ]
            ],
            "type": "histogram2dcontour"
           }
          ],
          "mesh3d": [
           {
            "colorbar": {
             "outlinewidth": 0,
             "ticks": ""
            },
            "type": "mesh3d"
           }
          ],
          "parcoords": [
           {
            "line": {
             "colorbar": {
              "outlinewidth": 0,
              "ticks": ""
             }
            },
            "type": "parcoords"
           }
          ],
          "pie": [
           {
            "automargin": true,
            "type": "pie"
           }
          ],
          "scatter": [
           {
            "marker": {
             "colorbar": {
              "outlinewidth": 0,
              "ticks": ""
             }
            },
            "type": "scatter"
           }
          ],
          "scatter3d": [
           {
            "line": {
             "colorbar": {
              "outlinewidth": 0,
              "ticks": ""
             }
            },
            "marker": {
             "colorbar": {
              "outlinewidth": 0,
              "ticks": ""
             }
            },
            "type": "scatter3d"
           }
          ],
          "scattercarpet": [
           {
            "marker": {
             "colorbar": {
              "outlinewidth": 0,
              "ticks": ""
             }
            },
            "type": "scattercarpet"
           }
          ],
          "scattergeo": [
           {
            "marker": {
             "colorbar": {
              "outlinewidth": 0,
              "ticks": ""
             }
            },
            "type": "scattergeo"
           }
          ],
          "scattergl": [
           {
            "marker": {
             "colorbar": {
              "outlinewidth": 0,
              "ticks": ""
             }
            },
            "type": "scattergl"
           }
          ],
          "scattermapbox": [
           {
            "marker": {
             "colorbar": {
              "outlinewidth": 0,
              "ticks": ""
             }
            },
            "type": "scattermapbox"
           }
          ],
          "scatterpolar": [
           {
            "marker": {
             "colorbar": {
              "outlinewidth": 0,
              "ticks": ""
             }
            },
            "type": "scatterpolar"
           }
          ],
          "scatterpolargl": [
           {
            "marker": {
             "colorbar": {
              "outlinewidth": 0,
              "ticks": ""
             }
            },
            "type": "scatterpolargl"
           }
          ],
          "scatterternary": [
           {
            "marker": {
             "colorbar": {
              "outlinewidth": 0,
              "ticks": ""
             }
            },
            "type": "scatterternary"
           }
          ],
          "surface": [
           {
            "colorbar": {
             "outlinewidth": 0,
             "ticks": ""
            },
            "colorscale": [
             [
              0,
              "#0d0887"
             ],
             [
              0.1111111111111111,
              "#46039f"
             ],
             [
              0.2222222222222222,
              "#7201a8"
             ],
             [
              0.3333333333333333,
              "#9c179e"
             ],
             [
              0.4444444444444444,
              "#bd3786"
             ],
             [
              0.5555555555555556,
              "#d8576b"
             ],
             [
              0.6666666666666666,
              "#ed7953"
             ],
             [
              0.7777777777777778,
              "#fb9f3a"
             ],
             [
              0.8888888888888888,
              "#fdca26"
             ],
             [
              1,
              "#f0f921"
             ]
            ],
            "type": "surface"
           }
          ],
          "table": [
           {
            "cells": {
             "fill": {
              "color": "#EBF0F8"
             },
             "line": {
              "color": "white"
             }
            },
            "header": {
             "fill": {
              "color": "#C8D4E3"
             },
             "line": {
              "color": "white"
             }
            },
            "type": "table"
           }
          ]
         },
         "layout": {
          "annotationdefaults": {
           "arrowcolor": "#2a3f5f",
           "arrowhead": 0,
           "arrowwidth": 1
          },
          "coloraxis": {
           "colorbar": {
            "outlinewidth": 0,
            "ticks": ""
           }
          },
          "colorscale": {
           "diverging": [
            [
             0,
             "#8e0152"
            ],
            [
             0.1,
             "#c51b7d"
            ],
            [
             0.2,
             "#de77ae"
            ],
            [
             0.3,
             "#f1b6da"
            ],
            [
             0.4,
             "#fde0ef"
            ],
            [
             0.5,
             "#f7f7f7"
            ],
            [
             0.6,
             "#e6f5d0"
            ],
            [
             0.7,
             "#b8e186"
            ],
            [
             0.8,
             "#7fbc41"
            ],
            [
             0.9,
             "#4d9221"
            ],
            [
             1,
             "#276419"
            ]
           ],
           "sequential": [
            [
             0,
             "#0d0887"
            ],
            [
             0.1111111111111111,
             "#46039f"
            ],
            [
             0.2222222222222222,
             "#7201a8"
            ],
            [
             0.3333333333333333,
             "#9c179e"
            ],
            [
             0.4444444444444444,
             "#bd3786"
            ],
            [
             0.5555555555555556,
             "#d8576b"
            ],
            [
             0.6666666666666666,
             "#ed7953"
            ],
            [
             0.7777777777777778,
             "#fb9f3a"
            ],
            [
             0.8888888888888888,
             "#fdca26"
            ],
            [
             1,
             "#f0f921"
            ]
           ],
           "sequentialminus": [
            [
             0,
             "#0d0887"
            ],
            [
             0.1111111111111111,
             "#46039f"
            ],
            [
             0.2222222222222222,
             "#7201a8"
            ],
            [
             0.3333333333333333,
             "#9c179e"
            ],
            [
             0.4444444444444444,
             "#bd3786"
            ],
            [
             0.5555555555555556,
             "#d8576b"
            ],
            [
             0.6666666666666666,
             "#ed7953"
            ],
            [
             0.7777777777777778,
             "#fb9f3a"
            ],
            [
             0.8888888888888888,
             "#fdca26"
            ],
            [
             1,
             "#f0f921"
            ]
           ]
          },
          "colorway": [
           "#636efa",
           "#EF553B",
           "#00cc96",
           "#ab63fa",
           "#FFA15A",
           "#19d3f3",
           "#FF6692",
           "#B6E880",
           "#FF97FF",
           "#FECB52"
          ],
          "font": {
           "color": "#2a3f5f"
          },
          "geo": {
           "bgcolor": "white",
           "lakecolor": "white",
           "landcolor": "#E5ECF6",
           "showlakes": true,
           "showland": true,
           "subunitcolor": "white"
          },
          "hoverlabel": {
           "align": "left"
          },
          "hovermode": "closest",
          "mapbox": {
           "style": "light"
          },
          "paper_bgcolor": "white",
          "plot_bgcolor": "#E5ECF6",
          "polar": {
           "angularaxis": {
            "gridcolor": "white",
            "linecolor": "white",
            "ticks": ""
           },
           "bgcolor": "#E5ECF6",
           "radialaxis": {
            "gridcolor": "white",
            "linecolor": "white",
            "ticks": ""
           }
          },
          "scene": {
           "xaxis": {
            "backgroundcolor": "#E5ECF6",
            "gridcolor": "white",
            "gridwidth": 2,
            "linecolor": "white",
            "showbackground": true,
            "ticks": "",
            "zerolinecolor": "white"
           },
           "yaxis": {
            "backgroundcolor": "#E5ECF6",
            "gridcolor": "white",
            "gridwidth": 2,
            "linecolor": "white",
            "showbackground": true,
            "ticks": "",
            "zerolinecolor": "white"
           },
           "zaxis": {
            "backgroundcolor": "#E5ECF6",
            "gridcolor": "white",
            "gridwidth": 2,
            "linecolor": "white",
            "showbackground": true,
            "ticks": "",
            "zerolinecolor": "white"
           }
          },
          "shapedefaults": {
           "line": {
            "color": "#2a3f5f"
           }
          },
          "ternary": {
           "aaxis": {
            "gridcolor": "white",
            "linecolor": "white",
            "ticks": ""
           },
           "baxis": {
            "gridcolor": "white",
            "linecolor": "white",
            "ticks": ""
           },
           "bgcolor": "#E5ECF6",
           "caxis": {
            "gridcolor": "white",
            "linecolor": "white",
            "ticks": ""
           }
          },
          "title": {
           "x": 0.05
          },
          "xaxis": {
           "automargin": true,
           "gridcolor": "white",
           "linecolor": "white",
           "ticks": "",
           "title": {
            "standoff": 15
           },
           "zerolinecolor": "white",
           "zerolinewidth": 2
          },
          "yaxis": {
           "automargin": true,
           "gridcolor": "white",
           "linecolor": "white",
           "ticks": "",
           "title": {
            "standoff": 15
           },
           "zerolinecolor": "white",
           "zerolinewidth": 2
          }
         }
        },
        "title": {
         "font": {
          "size": 20
         },
         "text": "Indeed Software Engineer Open Positions Future Forecast (VARMAX Model)",
         "x": 0.52,
         "xanchor": "center",
         "y": 0.9,
         "yanchor": "top"
        },
        "width": 900,
        "xaxis": {
         "tickfont": {
          "size": 16
         },
         "title": {
          "font": {
           "size": 18
          },
          "standoff": 0,
          "text": "Post date"
         }
        },
        "yaxis": {
         "tickfont": {
          "size": 16
         },
         "title": {
          "font": {
           "size": 18
          },
          "text": "Job numbers"
         }
        }
       }
      },
      "text/html": [
       "<div>\n",
       "        \n",
       "        \n",
       "            <div id=\"2fdfa94c-687b-45c6-af20-2dbb51fe3785\" class=\"plotly-graph-div\" style=\"height:500px; width:900px;\"></div>\n",
       "            <script type=\"text/javascript\">\n",
       "                require([\"plotly\"], function(Plotly) {\n",
       "                    window.PLOTLYENV=window.PLOTLYENV || {};\n",
       "                    \n",
       "                if (document.getElementById(\"2fdfa94c-687b-45c6-af20-2dbb51fe3785\")) {\n",
       "                    Plotly.newPlot(\n",
       "                        '2fdfa94c-687b-45c6-af20-2dbb51fe3785',\n",
       "                        [{\"marker\": {\"color\": \"royalblue\", \"size\": 8}, \"mode\": \"lines+markers\", \"name\": \"Train\", \"type\": \"scatter\", \"x\": [\"2020-06-13T00:00:00\", \"2020-06-14T00:00:00\", \"2020-06-15T00:00:00\", \"2020-06-16T00:00:00\", \"2020-06-17T00:00:00\", \"2020-06-18T00:00:00\", \"2020-06-19T00:00:00\", \"2020-06-20T00:00:00\", \"2020-06-21T00:00:00\", \"2020-06-22T00:00:00\", \"2020-06-23T00:00:00\", \"2020-06-24T00:00:00\", \"2020-06-25T00:00:00\", \"2020-06-26T00:00:00\", \"2020-06-27T00:00:00\", \"2020-06-28T00:00:00\", \"2020-06-29T00:00:00\", \"2020-06-30T00:00:00\", \"2020-07-01T00:00:00\", \"2020-07-02T00:00:00\", \"2020-07-03T00:00:00\", \"2020-07-04T00:00:00\", \"2020-07-05T00:00:00\", \"2020-07-06T00:00:00\", \"2020-07-07T00:00:00\", \"2020-07-08T00:00:00\", \"2020-07-09T00:00:00\", \"2020-07-10T00:00:00\", \"2020-07-11T00:00:00\", \"2020-07-12T00:00:00\", \"2020-07-13T00:00:00\", \"2020-07-14T00:00:00\", \"2020-07-15T00:00:00\", \"2020-07-16T00:00:00\", \"2020-07-17T00:00:00\", \"2020-07-18T00:00:00\", \"2020-07-19T00:00:00\", \"2020-07-20T00:00:00\", \"2020-07-21T00:00:00\", \"2020-07-22T00:00:00\", \"2020-07-23T00:00:00\", \"2020-07-24T00:00:00\", \"2020-07-25T00:00:00\", \"2020-07-26T00:00:00\", \"2020-07-27T00:00:00\", \"2020-07-28T00:00:00\", \"2020-07-29T00:00:00\", \"2020-07-30T00:00:00\", \"2020-07-31T00:00:00\", \"2020-08-01T00:00:00\", \"2020-08-02T00:00:00\", \"2020-08-03T00:00:00\", \"2020-08-04T00:00:00\", \"2020-08-05T00:00:00\", \"2020-08-06T00:00:00\", \"2020-08-07T00:00:00\", \"2020-08-08T00:00:00\", \"2020-08-09T00:00:00\", \"2020-08-10T00:00:00\", \"2020-08-11T00:00:00\", \"2020-08-12T00:00:00\", \"2020-08-13T00:00:00\", \"2020-08-14T00:00:00\", \"2020-08-15T00:00:00\"], \"y\": [330, 61, 227, 576, 645, 680, 686, 334, 39, 302, 815, 726, 719, 805, 433, 55, 326, 964, 1865, 863, 619, 176, 85, 786, 1740, 1747, 1794, 1943, 1167, 205, 606, 804, 820, 793, 721, 499, 178, 1057, 1730, 1669, 1737, 1732, 632, 130, 1275, 2116, 2184, 2626, 2683, 1051, 222, 697, 1047, 1072, 1049, 1189, 374, 133, 1094, 1362, 1484, 1503, 1429, 622]}, {\"marker\": {\"color\": \"red\", \"size\": 8}, \"mode\": \"lines+markers\", \"name\": \"Future Forecast\", \"type\": \"scatter\", \"x\": [\"2020-08-16T00:00:00\", \"2020-08-17T00:00:00\", \"2020-08-18T00:00:00\", \"2020-08-19T00:00:00\", \"2020-08-20T00:00:00\", \"2020-08-21T00:00:00\", \"2020-08-22T00:00:00\"], \"y\": [339.7798063346177, 791.477745101415, 1300.681819846377, 1366.3568069070684, 1634.1631694801285, 1495.0090324442958, 953.0490778920275]}],\n",
       "                        {\"annotations\": [{\"arrowhead\": 2, \"arrowsize\": 1, \"arrowwidth\": 2, \"ax\": 10, \"ay\": -70, \"font\": {\"size\": 16}, \"text\": \"Future<br>forecast\", \"x\": \"2020-08-18\", \"y\": 1600}], \"height\": 500, \"legend\": {\"font\": {\"size\": 16}, \"x\": 0.05, \"y\": 0.95}, \"margin\": {\"b\": 0, \"l\": 0, \"r\": 10, \"t\": 90}, \"shapes\": [{\"fillcolor\": \"LightSalmon\", \"layer\": \"below\", \"line\": {\"width\": 0}, \"opacity\": 0.2, \"type\": \"rect\", \"x0\": \"2020-08-16T00:00:00\", \"x1\": \"2020-08-22T00:00:00\", \"xref\": \"x\", \"y0\": 0, \"y1\": 1, \"yref\": \"paper\"}], \"template\": {\"data\": {\"bar\": [{\"error_x\": {\"color\": \"#2a3f5f\"}, \"error_y\": {\"color\": \"#2a3f5f\"}, \"marker\": {\"line\": {\"color\": \"#E5ECF6\", \"width\": 0.5}}, \"type\": \"bar\"}], \"barpolar\": [{\"marker\": {\"line\": {\"color\": \"#E5ECF6\", \"width\": 0.5}}, \"type\": \"barpolar\"}], \"carpet\": [{\"aaxis\": {\"endlinecolor\": \"#2a3f5f\", \"gridcolor\": \"white\", \"linecolor\": \"white\", \"minorgridcolor\": \"white\", \"startlinecolor\": \"#2a3f5f\"}, \"baxis\": {\"endlinecolor\": \"#2a3f5f\", \"gridcolor\": \"white\", \"linecolor\": \"white\", \"minorgridcolor\": \"white\", \"startlinecolor\": \"#2a3f5f\"}, \"type\": \"carpet\"}], \"choropleth\": [{\"colorbar\": {\"outlinewidth\": 0, \"ticks\": \"\"}, \"type\": \"choropleth\"}], \"contour\": [{\"colorbar\": {\"outlinewidth\": 0, \"ticks\": \"\"}, \"colorscale\": [[0.0, \"#0d0887\"], [0.1111111111111111, \"#46039f\"], [0.2222222222222222, \"#7201a8\"], [0.3333333333333333, \"#9c179e\"], [0.4444444444444444, \"#bd3786\"], [0.5555555555555556, \"#d8576b\"], [0.6666666666666666, \"#ed7953\"], [0.7777777777777778, \"#fb9f3a\"], [0.8888888888888888, \"#fdca26\"], [1.0, \"#f0f921\"]], \"type\": \"contour\"}], \"contourcarpet\": [{\"colorbar\": {\"outlinewidth\": 0, \"ticks\": \"\"}, \"type\": \"contourcarpet\"}], \"heatmap\": [{\"colorbar\": {\"outlinewidth\": 0, \"ticks\": \"\"}, \"colorscale\": [[0.0, \"#0d0887\"], [0.1111111111111111, \"#46039f\"], [0.2222222222222222, \"#7201a8\"], [0.3333333333333333, \"#9c179e\"], [0.4444444444444444, \"#bd3786\"], [0.5555555555555556, \"#d8576b\"], [0.6666666666666666, \"#ed7953\"], [0.7777777777777778, \"#fb9f3a\"], [0.8888888888888888, \"#fdca26\"], [1.0, \"#f0f921\"]], \"type\": \"heatmap\"}], \"heatmapgl\": [{\"colorbar\": {\"outlinewidth\": 0, \"ticks\": \"\"}, \"colorscale\": [[0.0, \"#0d0887\"], [0.1111111111111111, \"#46039f\"], [0.2222222222222222, \"#7201a8\"], [0.3333333333333333, \"#9c179e\"], [0.4444444444444444, \"#bd3786\"], [0.5555555555555556, \"#d8576b\"], [0.6666666666666666, \"#ed7953\"], [0.7777777777777778, \"#fb9f3a\"], [0.8888888888888888, \"#fdca26\"], [1.0, \"#f0f921\"]], \"type\": \"heatmapgl\"}], \"histogram\": [{\"marker\": {\"colorbar\": {\"outlinewidth\": 0, \"ticks\": \"\"}}, \"type\": \"histogram\"}], \"histogram2d\": [{\"colorbar\": {\"outlinewidth\": 0, \"ticks\": \"\"}, \"colorscale\": [[0.0, \"#0d0887\"], [0.1111111111111111, \"#46039f\"], [0.2222222222222222, \"#7201a8\"], [0.3333333333333333, \"#9c179e\"], [0.4444444444444444, \"#bd3786\"], [0.5555555555555556, \"#d8576b\"], [0.6666666666666666, \"#ed7953\"], [0.7777777777777778, \"#fb9f3a\"], [0.8888888888888888, \"#fdca26\"], [1.0, \"#f0f921\"]], \"type\": \"histogram2d\"}], \"histogram2dcontour\": [{\"colorbar\": {\"outlinewidth\": 0, \"ticks\": \"\"}, \"colorscale\": [[0.0, \"#0d0887\"], [0.1111111111111111, \"#46039f\"], [0.2222222222222222, \"#7201a8\"], [0.3333333333333333, \"#9c179e\"], [0.4444444444444444, \"#bd3786\"], [0.5555555555555556, \"#d8576b\"], [0.6666666666666666, \"#ed7953\"], [0.7777777777777778, \"#fb9f3a\"], [0.8888888888888888, \"#fdca26\"], [1.0, \"#f0f921\"]], \"type\": \"histogram2dcontour\"}], \"mesh3d\": [{\"colorbar\": {\"outlinewidth\": 0, \"ticks\": \"\"}, \"type\": \"mesh3d\"}], \"parcoords\": [{\"line\": {\"colorbar\": {\"outlinewidth\": 0, \"ticks\": \"\"}}, \"type\": \"parcoords\"}], \"pie\": [{\"automargin\": true, \"type\": \"pie\"}], \"scatter\": [{\"marker\": {\"colorbar\": {\"outlinewidth\": 0, \"ticks\": \"\"}}, \"type\": \"scatter\"}], \"scatter3d\": [{\"line\": {\"colorbar\": {\"outlinewidth\": 0, \"ticks\": \"\"}}, \"marker\": {\"colorbar\": {\"outlinewidth\": 0, \"ticks\": \"\"}}, \"type\": \"scatter3d\"}], \"scattercarpet\": [{\"marker\": {\"colorbar\": {\"outlinewidth\": 0, \"ticks\": \"\"}}, \"type\": \"scattercarpet\"}], \"scattergeo\": [{\"marker\": {\"colorbar\": {\"outlinewidth\": 0, \"ticks\": \"\"}}, \"type\": \"scattergeo\"}], \"scattergl\": [{\"marker\": {\"colorbar\": {\"outlinewidth\": 0, \"ticks\": \"\"}}, \"type\": \"scattergl\"}], \"scattermapbox\": [{\"marker\": {\"colorbar\": {\"outlinewidth\": 0, \"ticks\": \"\"}}, \"type\": \"scattermapbox\"}], \"scatterpolar\": [{\"marker\": {\"colorbar\": {\"outlinewidth\": 0, \"ticks\": \"\"}}, \"type\": \"scatterpolar\"}], \"scatterpolargl\": [{\"marker\": {\"colorbar\": {\"outlinewidth\": 0, \"ticks\": \"\"}}, \"type\": \"scatterpolargl\"}], \"scatterternary\": [{\"marker\": {\"colorbar\": {\"outlinewidth\": 0, \"ticks\": \"\"}}, \"type\": \"scatterternary\"}], \"surface\": [{\"colorbar\": {\"outlinewidth\": 0, \"ticks\": \"\"}, \"colorscale\": [[0.0, \"#0d0887\"], [0.1111111111111111, \"#46039f\"], [0.2222222222222222, \"#7201a8\"], [0.3333333333333333, \"#9c179e\"], [0.4444444444444444, \"#bd3786\"], [0.5555555555555556, \"#d8576b\"], [0.6666666666666666, \"#ed7953\"], [0.7777777777777778, \"#fb9f3a\"], [0.8888888888888888, \"#fdca26\"], [1.0, \"#f0f921\"]], \"type\": \"surface\"}], \"table\": [{\"cells\": {\"fill\": {\"color\": \"#EBF0F8\"}, \"line\": {\"color\": \"white\"}}, \"header\": {\"fill\": {\"color\": \"#C8D4E3\"}, \"line\": {\"color\": \"white\"}}, \"type\": \"table\"}]}, \"layout\": {\"annotationdefaults\": {\"arrowcolor\": \"#2a3f5f\", \"arrowhead\": 0, \"arrowwidth\": 1}, \"coloraxis\": {\"colorbar\": {\"outlinewidth\": 0, \"ticks\": \"\"}}, \"colorscale\": {\"diverging\": [[0, \"#8e0152\"], [0.1, \"#c51b7d\"], [0.2, \"#de77ae\"], [0.3, \"#f1b6da\"], [0.4, \"#fde0ef\"], [0.5, \"#f7f7f7\"], [0.6, \"#e6f5d0\"], [0.7, \"#b8e186\"], [0.8, \"#7fbc41\"], [0.9, \"#4d9221\"], [1, \"#276419\"]], \"sequential\": [[0.0, \"#0d0887\"], [0.1111111111111111, \"#46039f\"], [0.2222222222222222, \"#7201a8\"], [0.3333333333333333, \"#9c179e\"], [0.4444444444444444, \"#bd3786\"], [0.5555555555555556, \"#d8576b\"], [0.6666666666666666, \"#ed7953\"], [0.7777777777777778, \"#fb9f3a\"], [0.8888888888888888, \"#fdca26\"], [1.0, \"#f0f921\"]], \"sequentialminus\": [[0.0, \"#0d0887\"], [0.1111111111111111, \"#46039f\"], [0.2222222222222222, \"#7201a8\"], [0.3333333333333333, \"#9c179e\"], [0.4444444444444444, \"#bd3786\"], [0.5555555555555556, \"#d8576b\"], [0.6666666666666666, \"#ed7953\"], [0.7777777777777778, \"#fb9f3a\"], [0.8888888888888888, \"#fdca26\"], [1.0, \"#f0f921\"]]}, \"colorway\": [\"#636efa\", \"#EF553B\", \"#00cc96\", \"#ab63fa\", \"#FFA15A\", \"#19d3f3\", \"#FF6692\", \"#B6E880\", \"#FF97FF\", \"#FECB52\"], \"font\": {\"color\": \"#2a3f5f\"}, \"geo\": {\"bgcolor\": \"white\", \"lakecolor\": \"white\", \"landcolor\": \"#E5ECF6\", \"showlakes\": true, \"showland\": true, \"subunitcolor\": \"white\"}, \"hoverlabel\": {\"align\": \"left\"}, \"hovermode\": \"closest\", \"mapbox\": {\"style\": \"light\"}, \"paper_bgcolor\": \"white\", \"plot_bgcolor\": \"#E5ECF6\", \"polar\": {\"angularaxis\": {\"gridcolor\": \"white\", \"linecolor\": \"white\", \"ticks\": \"\"}, \"bgcolor\": \"#E5ECF6\", \"radialaxis\": {\"gridcolor\": \"white\", \"linecolor\": \"white\", \"ticks\": \"\"}}, \"scene\": {\"xaxis\": {\"backgroundcolor\": \"#E5ECF6\", \"gridcolor\": \"white\", \"gridwidth\": 2, \"linecolor\": \"white\", \"showbackground\": true, \"ticks\": \"\", \"zerolinecolor\": \"white\"}, \"yaxis\": {\"backgroundcolor\": \"#E5ECF6\", \"gridcolor\": \"white\", \"gridwidth\": 2, \"linecolor\": \"white\", \"showbackground\": true, \"ticks\": \"\", \"zerolinecolor\": \"white\"}, \"zaxis\": {\"backgroundcolor\": \"#E5ECF6\", \"gridcolor\": \"white\", \"gridwidth\": 2, \"linecolor\": \"white\", \"showbackground\": true, \"ticks\": \"\", \"zerolinecolor\": \"white\"}}, \"shapedefaults\": {\"line\": {\"color\": \"#2a3f5f\"}}, \"ternary\": {\"aaxis\": {\"gridcolor\": \"white\", \"linecolor\": \"white\", \"ticks\": \"\"}, \"baxis\": {\"gridcolor\": \"white\", \"linecolor\": \"white\", \"ticks\": \"\"}, \"bgcolor\": \"#E5ECF6\", \"caxis\": {\"gridcolor\": \"white\", \"linecolor\": \"white\", \"ticks\": \"\"}}, \"title\": {\"x\": 0.05}, \"xaxis\": {\"automargin\": true, \"gridcolor\": \"white\", \"linecolor\": \"white\", \"ticks\": \"\", \"title\": {\"standoff\": 15}, \"zerolinecolor\": \"white\", \"zerolinewidth\": 2}, \"yaxis\": {\"automargin\": true, \"gridcolor\": \"white\", \"linecolor\": \"white\", \"ticks\": \"\", \"title\": {\"standoff\": 15}, \"zerolinecolor\": \"white\", \"zerolinewidth\": 2}}}, \"title\": {\"font\": {\"size\": 20}, \"text\": \"Indeed Software Engineer Open Positions Future Forecast (VARMAX Model)\", \"x\": 0.52, \"xanchor\": \"center\", \"y\": 0.9, \"yanchor\": \"top\"}, \"width\": 900, \"xaxis\": {\"tickfont\": {\"size\": 16}, \"title\": {\"font\": {\"size\": 18}, \"standoff\": 0, \"text\": \"Post date\"}}, \"yaxis\": {\"tickfont\": {\"size\": 16}, \"title\": {\"font\": {\"size\": 18}, \"text\": \"Job numbers\"}}},\n",
       "                        {\"responsive\": true}\n",
       "                    ).then(function(){\n",
       "                            \n",
       "var gd = document.getElementById('2fdfa94c-687b-45c6-af20-2dbb51fe3785');\n",
       "var x = new MutationObserver(function (mutations, observer) {{\n",
       "        var display = window.getComputedStyle(gd).display;\n",
       "        if (!display || display === 'none') {{\n",
       "            console.log([gd, 'removed!']);\n",
       "            Plotly.purge(gd);\n",
       "            observer.disconnect();\n",
       "        }}\n",
       "}});\n",
       "\n",
       "// Listen for the removal of the full notebook cells\n",
       "var notebookContainer = gd.closest('#notebook-container');\n",
       "if (notebookContainer) {{\n",
       "    x.observe(notebookContainer, {childList: true});\n",
       "}}\n",
       "\n",
       "// Listen for the clearing of the current output cell\n",
       "var outputEl = gd.closest('.output');\n",
       "if (outputEl) {{\n",
       "    x.observe(outputEl, {childList: true});\n",
       "}}\n",
       "\n",
       "                        })\n",
       "                };\n",
       "                });\n",
       "            </script>\n",
       "        </div>"
      ]
     },
     "metadata": {},
     "output_type": "display_data"
    }
   ],
   "source": [
    "fig = go.Figure()\n",
    "\n",
    "fig.update_layout(\n",
    "    shapes=[\n",
    "        dict(\n",
    "            type=\"rect\",\n",
    "            xref=\"x\",\n",
    "            yref=\"paper\",\n",
    "            x0=df_indeed_future.index[0],\n",
    "            y0=0,\n",
    "            x1=df_indeed_future.index[-1],\n",
    "            y1=1,\n",
    "            fillcolor=\"LightSalmon\",\n",
    "            opacity=0.2,\n",
    "            layer=\"below\",\n",
    "            line_width=0,\n",
    "        )\n",
    "    ]\n",
    ")\n",
    "\n",
    "fig.add_trace(go.Scatter(x=df_combined_indeed.index, y=df_combined_indeed['Jobnums'], mode='lines+markers', \n",
    "                         marker=dict(size=8, color='royalblue'), name='Train'))\n",
    "\n",
    "fig.add_trace(go.Scatter(x=df_indeed_future.index, y=indeed_pred['Jobnums'], mode='lines+markers', \n",
    "                         marker=dict(size=8, color='red'), name='Future Forecast'))\n",
    "#fig.add_trace(go.Scatter(x=df_indeed_future.index, y=yhat_fcast['Jobnums'], mode='lines+markers', \n",
    "#                         marker=dict(size=8, color='green'), name='Future Forecast'))\n",
    "\n",
    "# fig.add_trace(go.Scatter(x=df_indeed_future.index, y=pred_ci.iloc[:,1],\n",
    "#                          fill='tonexty',\n",
    "#                          mode='lines', line_color='lightgrey',line_width=0,\n",
    "#                          showlegend=False))\n",
    "# fig.add_trace(go.Scatter(x=df_indeed_future.index, y=pred_ci.iloc[:,0],\n",
    "#                          fill='tonexty',\n",
    "#                          mode='lines', line_color='grey', opacity=0.1, line_width=0,\n",
    "#                          showlegend=False))\n",
    "\n",
    "fig.add_annotation(\n",
    "            x='2020-08-18',\n",
    "            y=1600,\n",
    "            text=\"Future<br>forecast\",\n",
    "            font=dict(size=16),\n",
    "            arrowhead=2,\n",
    "            arrowsize=1,\n",
    "            arrowwidth=2,\n",
    "            ax=10,\n",
    "            ay=-70,)\n",
    "\n",
    "fig.update_layout(title={'text': \"Indeed Software Engineer Open Positions Future Forecast (VARMAX Model)\", \n",
    "                         'y':0.9, 'x':0.52,\n",
    "                         'xanchor': 'center',\n",
    "                         'yanchor': 'top'},\n",
    "                  width=900,\n",
    "                  height=500,\n",
    "                  titlefont=dict(size=20),\n",
    "                  xaxis=dict(title=dict(text='Post date', standoff=0), titlefont=dict(size=18), tickfont=dict(size=16)),\n",
    "                  yaxis=dict(title=dict(text='Job numbers'), titlefont=dict(size=18), tickfont=dict(size=16)),\n",
    "                  legend=dict(font=dict(size=16), x=0.05, y=0.95),\n",
    "                  margin = {'r':10, 'l': 0, 't':90, 'b':0}\n",
    "                 )\n",
    "fig.show()"
   ]
  },
  {
   "cell_type": "code",
   "execution_count": 43,
   "metadata": {},
   "outputs": [
    {
     "data": {
      "text/html": [
       "<div>\n",
       "<style scoped>\n",
       "    .dataframe tbody tr th:only-of-type {\n",
       "        vertical-align: middle;\n",
       "    }\n",
       "\n",
       "    .dataframe tbody tr th {\n",
       "        vertical-align: top;\n",
       "    }\n",
       "\n",
       "    .dataframe thead th {\n",
       "        text-align: right;\n",
       "    }\n",
       "</style>\n",
       "<table border=\"1\" class=\"dataframe\">\n",
       "  <thead>\n",
       "    <tr style=\"text-align: right;\">\n",
       "      <th></th>\n",
       "      <th>Source</th>\n",
       "      <th>Test_date</th>\n",
       "      <th>Yhat_varma</th>\n",
       "      <th>Yhat_varmax</th>\n",
       "      <th>Future_date</th>\n",
       "      <th>Forecast_varmax</th>\n",
       "    </tr>\n",
       "  </thead>\n",
       "  <tbody>\n",
       "    <tr>\n",
       "      <td>0</td>\n",
       "      <td>Indeed_SDE</td>\n",
       "      <td>2020-08-09</td>\n",
       "      <td>74.547267</td>\n",
       "      <td>170.939982</td>\n",
       "      <td>2020-08-16</td>\n",
       "      <td>339.779806</td>\n",
       "    </tr>\n",
       "    <tr>\n",
       "      <td>1</td>\n",
       "      <td>Indeed_SDE</td>\n",
       "      <td>2020-08-10</td>\n",
       "      <td>766.387521</td>\n",
       "      <td>1005.123513</td>\n",
       "      <td>2020-08-17</td>\n",
       "      <td>791.477745</td>\n",
       "    </tr>\n",
       "    <tr>\n",
       "      <td>2</td>\n",
       "      <td>Indeed_SDE</td>\n",
       "      <td>2020-08-11</td>\n",
       "      <td>1567.627976</td>\n",
       "      <td>1567.271388</td>\n",
       "      <td>2020-08-18</td>\n",
       "      <td>1300.681820</td>\n",
       "    </tr>\n",
       "    <tr>\n",
       "      <td>3</td>\n",
       "      <td>Indeed_SDE</td>\n",
       "      <td>2020-08-12</td>\n",
       "      <td>1437.516685</td>\n",
       "      <td>1507.419922</td>\n",
       "      <td>2020-08-19</td>\n",
       "      <td>1366.356807</td>\n",
       "    </tr>\n",
       "    <tr>\n",
       "      <td>4</td>\n",
       "      <td>Indeed_SDE</td>\n",
       "      <td>2020-08-13</td>\n",
       "      <td>1745.443564</td>\n",
       "      <td>1734.172933</td>\n",
       "      <td>2020-08-20</td>\n",
       "      <td>1634.163169</td>\n",
       "    </tr>\n",
       "    <tr>\n",
       "      <td>5</td>\n",
       "      <td>Indeed_SDE</td>\n",
       "      <td>2020-08-14</td>\n",
       "      <td>1298.334229</td>\n",
       "      <td>1491.354331</td>\n",
       "      <td>2020-08-21</td>\n",
       "      <td>1495.009032</td>\n",
       "    </tr>\n",
       "    <tr>\n",
       "      <td>6</td>\n",
       "      <td>Indeed_SDE</td>\n",
       "      <td>2020-08-15</td>\n",
       "      <td>534.683828</td>\n",
       "      <td>593.215423</td>\n",
       "      <td>2020-08-22</td>\n",
       "      <td>953.049078</td>\n",
       "    </tr>\n",
       "  </tbody>\n",
       "</table>\n",
       "</div>"
      ],
      "text/plain": [
       "       Source  Test_date   Yhat_varma  Yhat_varmax Future_date  \\\n",
       "0  Indeed_SDE 2020-08-09    74.547267   170.939982  2020-08-16   \n",
       "1  Indeed_SDE 2020-08-10   766.387521  1005.123513  2020-08-17   \n",
       "2  Indeed_SDE 2020-08-11  1567.627976  1567.271388  2020-08-18   \n",
       "3  Indeed_SDE 2020-08-12  1437.516685  1507.419922  2020-08-19   \n",
       "4  Indeed_SDE 2020-08-13  1745.443564  1734.172933  2020-08-20   \n",
       "5  Indeed_SDE 2020-08-14  1298.334229  1491.354331  2020-08-21   \n",
       "6  Indeed_SDE 2020-08-15   534.683828   593.215423  2020-08-22   \n",
       "\n",
       "   Forecast_varmax  \n",
       "0       339.779806  \n",
       "1       791.477745  \n",
       "2      1300.681820  \n",
       "3      1366.356807  \n",
       "4      1634.163169  \n",
       "5      1495.009032  \n",
       "6       953.049078  "
      ]
     },
     "execution_count": 43,
     "metadata": {},
     "output_type": "execute_result"
    }
   ],
   "source": [
    "indeed_sde = pd.DataFrame(columns=['Source','Test_date','Yhat_varma','Yhat_varmax','Future_date','Forecast_varmax'])\n",
    "indeed_sde['Source'] = 'Indeed_SDE'\n",
    "indeed_sde['Test_date'] = test.index\n",
    "indeed_sde['Yhat_varma'] = yhat_in_varma['Jobnums'].values\n",
    "indeed_sde['Yhat_varmax'] = yhat_in_varmax['Jobnums'].values\n",
    "indeed_sde['Future_date'] = df_indeed_future.index\n",
    "indeed_sde['Forecast_varmax'] = indeed_pred['Jobnums'].values\n",
    "indeed_sde.loc[:,'Source'] ='Indeed_SDE'\n",
    "indeed_sde"
   ]
  },
  {
   "cell_type": "markdown",
   "metadata": {},
   "source": [
    "# LinkedIn Data Modeling"
   ]
  },
  {
   "cell_type": "markdown",
   "metadata": {},
   "source": [
    "## Load data"
   ]
  },
  {
   "cell_type": "code",
   "execution_count": 23,
   "metadata": {},
   "outputs": [
    {
     "data": {
      "text/html": [
       "<div>\n",
       "<style scoped>\n",
       "    .dataframe tbody tr th:only-of-type {\n",
       "        vertical-align: middle;\n",
       "    }\n",
       "\n",
       "    .dataframe tbody tr th {\n",
       "        vertical-align: top;\n",
       "    }\n",
       "\n",
       "    .dataframe thead th {\n",
       "        text-align: right;\n",
       "    }\n",
       "</style>\n",
       "<table border=\"1\" class=\"dataframe\">\n",
       "  <thead>\n",
       "    <tr style=\"text-align: right;\">\n",
       "      <th></th>\n",
       "      <th>Title</th>\n",
       "      <th>Company</th>\n",
       "      <th>Location</th>\n",
       "      <th>Date</th>\n",
       "      <th>Seniority level</th>\n",
       "      <th>Employment type</th>\n",
       "      <th>Industry</th>\n",
       "      <th>Description</th>\n",
       "      <th>State</th>\n",
       "      <th>Code</th>\n",
       "    </tr>\n",
       "  </thead>\n",
       "  <tbody>\n",
       "    <tr>\n",
       "      <td>0</td>\n",
       "      <td>Senior Software Engineer</td>\n",
       "      <td>Integrate</td>\n",
       "      <td>Birmingham, Alabama, United States</td>\n",
       "      <td>2020-08-16</td>\n",
       "      <td>Mid-Senior level</td>\n",
       "      <td>Full-time</td>\n",
       "      <td>Computer Software,Online Media,Marketing and A...</td>\n",
       "      <td>Integrate&amp;nbsp;is a rapidly growing, venture-b...</td>\n",
       "      <td>Alabama</td>\n",
       "      <td>AL</td>\n",
       "    </tr>\n",
       "    <tr>\n",
       "      <td>1</td>\n",
       "      <td>Software Engineer - THAAD Foreign Military Sales</td>\n",
       "      <td>Modern Technology Solutions, Inc. (MTSI)</td>\n",
       "      <td>Huntsville, Alabama, United States</td>\n",
       "      <td>2020-08-16</td>\n",
       "      <td>Entry level</td>\n",
       "      <td>Full-time</td>\n",
       "      <td>Defense &amp; Space,Aviation &amp; Aerospace,Military</td>\n",
       "      <td>OverviewModern Technology Solutions, Inc. (MTS...</td>\n",
       "      <td>Alabama</td>\n",
       "      <td>AL</td>\n",
       "    </tr>\n",
       "    <tr>\n",
       "      <td>2</td>\n",
       "      <td>Sr. Software Engineer - Ruby/Rails, Python or ...</td>\n",
       "      <td>CyberCoders</td>\n",
       "      <td>Huntsville, Alabama, United States</td>\n",
       "      <td>2020-08-16</td>\n",
       "      <td>Mid-Senior level</td>\n",
       "      <td>Full-time</td>\n",
       "      <td>Internet</td>\n",
       "      <td>-This role reports to Birmingham, AL-If you ar...</td>\n",
       "      <td>Alabama</td>\n",
       "      <td>AL</td>\n",
       "    </tr>\n",
       "    <tr>\n",
       "      <td>3</td>\n",
       "      <td>Big Data Developer with Security Clearance</td>\n",
       "      <td>ClearanceJobs</td>\n",
       "      <td>Huntsville, Alabama, United States</td>\n",
       "      <td>2020-08-16</td>\n",
       "      <td>Entry level</td>\n",
       "      <td>Full-time</td>\n",
       "      <td>Information Technology and Services,Defense &amp; ...</td>\n",
       "      <td>Please contact Matt at to discuss in further d...</td>\n",
       "      <td>Alabama</td>\n",
       "      <td>AL</td>\n",
       "    </tr>\n",
       "    <tr>\n",
       "      <td>4</td>\n",
       "      <td>Software Engineer</td>\n",
       "      <td>Geeks and Nerds (GaN Corporation)</td>\n",
       "      <td>Auburn, Alabama, United States</td>\n",
       "      <td>2020-08-16</td>\n",
       "      <td>Entry level</td>\n",
       "      <td>Full-time</td>\n",
       "      <td>Information Technology and Services,Defense &amp; ...</td>\n",
       "      <td>Geeks and Nerds, as an employee owned company,...</td>\n",
       "      <td>Alabama</td>\n",
       "      <td>AL</td>\n",
       "    </tr>\n",
       "  </tbody>\n",
       "</table>\n",
       "</div>"
      ],
      "text/plain": [
       "                                               Title  \\\n",
       "0                           Senior Software Engineer   \n",
       "1   Software Engineer - THAAD Foreign Military Sales   \n",
       "2  Sr. Software Engineer - Ruby/Rails, Python or ...   \n",
       "3         Big Data Developer with Security Clearance   \n",
       "4                                  Software Engineer   \n",
       "\n",
       "                                    Company  \\\n",
       "0                                 Integrate   \n",
       "1  Modern Technology Solutions, Inc. (MTSI)   \n",
       "2                               CyberCoders   \n",
       "3                             ClearanceJobs   \n",
       "4         Geeks and Nerds (GaN Corporation)   \n",
       "\n",
       "                             Location        Date   Seniority level  \\\n",
       "0  Birmingham, Alabama, United States  2020-08-16  Mid-Senior level   \n",
       "1  Huntsville, Alabama, United States  2020-08-16       Entry level   \n",
       "2  Huntsville, Alabama, United States  2020-08-16  Mid-Senior level   \n",
       "3  Huntsville, Alabama, United States  2020-08-16       Entry level   \n",
       "4      Auburn, Alabama, United States  2020-08-16       Entry level   \n",
       "\n",
       "  Employment type                                           Industry  \\\n",
       "0       Full-time  Computer Software,Online Media,Marketing and A...   \n",
       "1       Full-time      Defense & Space,Aviation & Aerospace,Military   \n",
       "2       Full-time                                           Internet   \n",
       "3       Full-time  Information Technology and Services,Defense & ...   \n",
       "4       Full-time  Information Technology and Services,Defense & ...   \n",
       "\n",
       "                                         Description    State Code  \n",
       "0  Integrate&nbsp;is a rapidly growing, venture-b...  Alabama   AL  \n",
       "1  OverviewModern Technology Solutions, Inc. (MTS...  Alabama   AL  \n",
       "2  -This role reports to Birmingham, AL-If you ar...  Alabama   AL  \n",
       "3  Please contact Matt at to discuss in further d...  Alabama   AL  \n",
       "4  Geeks and Nerds, as an employee owned company,...  Alabama   AL  "
      ]
     },
     "execution_count": 23,
     "metadata": {},
     "output_type": "execute_result"
    }
   ],
   "source": [
    "df_linkedin = pd.read_csv('/Users/tingtingweng/Documents/summer_intern/data/linkedin_se_081620_combined.csv')\n",
    "df_linkedin.head()"
   ]
  },
  {
   "cell_type": "code",
   "execution_count": 35,
   "metadata": {},
   "outputs": [
    {
     "data": {
      "text/html": [
       "<div>\n",
       "<style scoped>\n",
       "    .dataframe tbody tr th:only-of-type {\n",
       "        vertical-align: middle;\n",
       "    }\n",
       "\n",
       "    .dataframe tbody tr th {\n",
       "        vertical-align: top;\n",
       "    }\n",
       "\n",
       "    .dataframe thead th {\n",
       "        text-align: right;\n",
       "    }\n",
       "</style>\n",
       "<table border=\"1\" class=\"dataframe\">\n",
       "  <thead>\n",
       "    <tr style=\"text-align: right;\">\n",
       "      <th></th>\n",
       "      <th>Title</th>\n",
       "      <th>Company</th>\n",
       "      <th>Location</th>\n",
       "      <th>Date</th>\n",
       "      <th>Seniority level</th>\n",
       "      <th>Employment type</th>\n",
       "      <th>Industry</th>\n",
       "      <th>Description</th>\n",
       "      <th>State</th>\n",
       "      <th>Code</th>\n",
       "    </tr>\n",
       "  </thead>\n",
       "  <tbody>\n",
       "    <tr>\n",
       "      <td>0</td>\n",
       "      <td>Senior Software Engineer</td>\n",
       "      <td>Integrate</td>\n",
       "      <td>Birmingham, Alabama, United States</td>\n",
       "      <td>2020-08-16</td>\n",
       "      <td>Mid-Senior level</td>\n",
       "      <td>Full-time</td>\n",
       "      <td>Computer Software,Online Media,Marketing and A...</td>\n",
       "      <td>Integrate&amp;nbsp;is a rapidly growing, venture-b...</td>\n",
       "      <td>Alabama</td>\n",
       "      <td>AL</td>\n",
       "    </tr>\n",
       "    <tr>\n",
       "      <td>1</td>\n",
       "      <td>Software Engineer - THAAD Foreign Military Sales</td>\n",
       "      <td>Modern Technology Solutions, Inc. (MTSI)</td>\n",
       "      <td>Huntsville, Alabama, United States</td>\n",
       "      <td>2020-08-16</td>\n",
       "      <td>Entry level</td>\n",
       "      <td>Full-time</td>\n",
       "      <td>Defense &amp; Space,Aviation &amp; Aerospace,Military</td>\n",
       "      <td>OverviewModern Technology Solutions, Inc. (MTS...</td>\n",
       "      <td>Alabama</td>\n",
       "      <td>AL</td>\n",
       "    </tr>\n",
       "    <tr>\n",
       "      <td>2</td>\n",
       "      <td>Sr. Software Engineer - Ruby/Rails, Python or ...</td>\n",
       "      <td>CyberCoders</td>\n",
       "      <td>Huntsville, Alabama, United States</td>\n",
       "      <td>2020-08-16</td>\n",
       "      <td>Mid-Senior level</td>\n",
       "      <td>Full-time</td>\n",
       "      <td>Internet</td>\n",
       "      <td>-This role reports to Birmingham, AL-If you ar...</td>\n",
       "      <td>Alabama</td>\n",
       "      <td>AL</td>\n",
       "    </tr>\n",
       "    <tr>\n",
       "      <td>3</td>\n",
       "      <td>Big Data Developer with Security Clearance</td>\n",
       "      <td>ClearanceJobs</td>\n",
       "      <td>Huntsville, Alabama, United States</td>\n",
       "      <td>2020-08-16</td>\n",
       "      <td>Entry level</td>\n",
       "      <td>Full-time</td>\n",
       "      <td>Information Technology and Services,Defense &amp; ...</td>\n",
       "      <td>Please contact Matt at to discuss in further d...</td>\n",
       "      <td>Alabama</td>\n",
       "      <td>AL</td>\n",
       "    </tr>\n",
       "    <tr>\n",
       "      <td>4</td>\n",
       "      <td>Software Engineer</td>\n",
       "      <td>Geeks and Nerds (GaN Corporation)</td>\n",
       "      <td>Auburn, Alabama, United States</td>\n",
       "      <td>2020-08-16</td>\n",
       "      <td>Entry level</td>\n",
       "      <td>Full-time</td>\n",
       "      <td>Information Technology and Services,Defense &amp; ...</td>\n",
       "      <td>Geeks and Nerds, as an employee owned company,...</td>\n",
       "      <td>Alabama</td>\n",
       "      <td>AL</td>\n",
       "    </tr>\n",
       "    <tr>\n",
       "      <td>...</td>\n",
       "      <td>...</td>\n",
       "      <td>...</td>\n",
       "      <td>...</td>\n",
       "      <td>...</td>\n",
       "      <td>...</td>\n",
       "      <td>...</td>\n",
       "      <td>...</td>\n",
       "      <td>...</td>\n",
       "      <td>...</td>\n",
       "      <td>...</td>\n",
       "    </tr>\n",
       "    <tr>\n",
       "      <td>237168</td>\n",
       "      <td>C++ Embedded Software Engineer</td>\n",
       "      <td>Avesta Computer Services</td>\n",
       "      <td>San Jose, California, United States</td>\n",
       "      <td>2020-07-22</td>\n",
       "      <td>Mid-Senior level</td>\n",
       "      <td>Contract</td>\n",
       "      <td>Information Technology and Services</td>\n",
       "      <td>Client:Our Client IS THE WORLDWIDE LEADER in n...</td>\n",
       "      <td>California</td>\n",
       "      <td>CA</td>\n",
       "    </tr>\n",
       "    <tr>\n",
       "      <td>237169</td>\n",
       "      <td>Principal Software Engineer (Remote, Side Gig,...</td>\n",
       "      <td>Earbug, Inc.</td>\n",
       "      <td>San Francisco Bay Area</td>\n",
       "      <td>2020-07-17</td>\n",
       "      <td>NaN</td>\n",
       "      <td>NaN</td>\n",
       "      <td>NaN</td>\n",
       "      <td>NaN</td>\n",
       "      <td>California</td>\n",
       "      <td>CA</td>\n",
       "    </tr>\n",
       "    <tr>\n",
       "      <td>237170</td>\n",
       "      <td>Full Stack/Software Engineer</td>\n",
       "      <td>Populus Group</td>\n",
       "      <td>San Francisco Bay Area</td>\n",
       "      <td>2020-07-09</td>\n",
       "      <td>NaN</td>\n",
       "      <td>NaN</td>\n",
       "      <td>NaN</td>\n",
       "      <td>NaN</td>\n",
       "      <td>California</td>\n",
       "      <td>CA</td>\n",
       "    </tr>\n",
       "    <tr>\n",
       "      <td>237171</td>\n",
       "      <td>No C2C : No Sponsorship Offered : Job opportun...</td>\n",
       "      <td>DISYS</td>\n",
       "      <td>San Francisco Bay Area</td>\n",
       "      <td>2020-06-29</td>\n",
       "      <td>Mid-Senior level</td>\n",
       "      <td>Contract</td>\n",
       "      <td>Banking,Investment Banking,Financial Services</td>\n",
       "      <td>This is a W2 Job, No C2C !!!  Multiple FTE job...</td>\n",
       "      <td>California</td>\n",
       "      <td>CA</td>\n",
       "    </tr>\n",
       "    <tr>\n",
       "      <td>237172</td>\n",
       "      <td>Product Owner</td>\n",
       "      <td>Jobs Interviewing Now from HCS</td>\n",
       "      <td>Palo Alto, California, United States</td>\n",
       "      <td>2020-06-23</td>\n",
       "      <td>Director</td>\n",
       "      <td>NaN</td>\n",
       "      <td>Information Technology and Services,Computer S...</td>\n",
       "      <td>Current Opening is Product Owner in D2Q domain...</td>\n",
       "      <td>California</td>\n",
       "      <td>CA</td>\n",
       "    </tr>\n",
       "  </tbody>\n",
       "</table>\n",
       "<p>237173 rows × 10 columns</p>\n",
       "</div>"
      ],
      "text/plain": [
       "                                                    Title  \\\n",
       "0                                Senior Software Engineer   \n",
       "1        Software Engineer - THAAD Foreign Military Sales   \n",
       "2       Sr. Software Engineer - Ruby/Rails, Python or ...   \n",
       "3              Big Data Developer with Security Clearance   \n",
       "4                                       Software Engineer   \n",
       "...                                                   ...   \n",
       "237168                     C++ Embedded Software Engineer   \n",
       "237169  Principal Software Engineer (Remote, Side Gig,...   \n",
       "237170                       Full Stack/Software Engineer   \n",
       "237171  No C2C : No Sponsorship Offered : Job opportun...   \n",
       "237172                                      Product Owner   \n",
       "\n",
       "                                         Company  \\\n",
       "0                                      Integrate   \n",
       "1       Modern Technology Solutions, Inc. (MTSI)   \n",
       "2                                    CyberCoders   \n",
       "3                                  ClearanceJobs   \n",
       "4              Geeks and Nerds (GaN Corporation)   \n",
       "...                                          ...   \n",
       "237168                  Avesta Computer Services   \n",
       "237169                              Earbug, Inc.   \n",
       "237170                             Populus Group   \n",
       "237171                                     DISYS   \n",
       "237172            Jobs Interviewing Now from HCS   \n",
       "\n",
       "                                    Location        Date   Seniority level  \\\n",
       "0         Birmingham, Alabama, United States  2020-08-16  Mid-Senior level   \n",
       "1         Huntsville, Alabama, United States  2020-08-16       Entry level   \n",
       "2         Huntsville, Alabama, United States  2020-08-16  Mid-Senior level   \n",
       "3         Huntsville, Alabama, United States  2020-08-16       Entry level   \n",
       "4             Auburn, Alabama, United States  2020-08-16       Entry level   \n",
       "...                                      ...         ...               ...   \n",
       "237168   San Jose, California, United States  2020-07-22  Mid-Senior level   \n",
       "237169                San Francisco Bay Area  2020-07-17               NaN   \n",
       "237170                San Francisco Bay Area  2020-07-09               NaN   \n",
       "237171                San Francisco Bay Area  2020-06-29  Mid-Senior level   \n",
       "237172  Palo Alto, California, United States  2020-06-23          Director   \n",
       "\n",
       "       Employment type                                           Industry  \\\n",
       "0            Full-time  Computer Software,Online Media,Marketing and A...   \n",
       "1            Full-time      Defense & Space,Aviation & Aerospace,Military   \n",
       "2            Full-time                                           Internet   \n",
       "3            Full-time  Information Technology and Services,Defense & ...   \n",
       "4            Full-time  Information Technology and Services,Defense & ...   \n",
       "...                ...                                                ...   \n",
       "237168        Contract                Information Technology and Services   \n",
       "237169             NaN                                                NaN   \n",
       "237170             NaN                                                NaN   \n",
       "237171        Contract      Banking,Investment Banking,Financial Services   \n",
       "237172             NaN  Information Technology and Services,Computer S...   \n",
       "\n",
       "                                              Description       State Code  \n",
       "0       Integrate&nbsp;is a rapidly growing, venture-b...     Alabama   AL  \n",
       "1       OverviewModern Technology Solutions, Inc. (MTS...     Alabama   AL  \n",
       "2       -This role reports to Birmingham, AL-If you ar...     Alabama   AL  \n",
       "3       Please contact Matt at to discuss in further d...     Alabama   AL  \n",
       "4       Geeks and Nerds, as an employee owned company,...     Alabama   AL  \n",
       "...                                                   ...         ...  ...  \n",
       "237168  Client:Our Client IS THE WORLDWIDE LEADER in n...  California   CA  \n",
       "237169                                                NaN  California   CA  \n",
       "237170                                                NaN  California   CA  \n",
       "237171  This is a W2 Job, No C2C !!!  Multiple FTE job...  California   CA  \n",
       "237172  Current Opening is Product Owner in D2Q domain...  California   CA  \n",
       "\n",
       "[237173 rows x 10 columns]"
      ]
     },
     "execution_count": 35,
     "metadata": {},
     "output_type": "execute_result"
    }
   ],
   "source": [
    "df_linkedin"
   ]
  },
  {
   "cell_type": "code",
   "execution_count": 24,
   "metadata": {},
   "outputs": [],
   "source": [
    "bydate = df_linkedin.groupby('Date').size()\n",
    "\n",
    "df_date_linkedin = pd.DataFrame({'Date': bydate.index, 'Jobnums': bydate.values})\n",
    "df_date_linkedin['Date'] = pd.to_datetime(df_date_linkedin['Date'])\n",
    "df_date_linkedin.set_index('Date', inplace=True, drop=False)"
   ]
  },
  {
   "cell_type": "code",
   "execution_count": 25,
   "metadata": {},
   "outputs": [],
   "source": [
    "week = {0: 'Mon', 1: 'Tue', 2: 'Wed', 3: 'Thu', 4: 'Fri', 5: 'Sat', 6: 'Sun'}\n",
    "df_date_linkedin['Day of week'] = df_date_linkedin['Date'].apply(lambda x: week[x.weekday()])"
   ]
  },
  {
   "cell_type": "code",
   "execution_count": 26,
   "metadata": {},
   "outputs": [],
   "source": [
    "df_date_linkedin['Weekend'] = df_date_linkedin['Day of week'].apply(lambda x: 1 if (x == 'Sun') or (x == 'Sat') else 0)"
   ]
  },
  {
   "cell_type": "code",
   "execution_count": 27,
   "metadata": {},
   "outputs": [],
   "source": [
    "df_date_linkedin_trunc = df_date_linkedin['2020-06-12':'2020-08-15']"
   ]
  },
  {
   "cell_type": "code",
   "execution_count": 28,
   "metadata": {},
   "outputs": [
    {
     "data": {
      "application/vnd.plotly.v1+json": {
       "config": {
        "plotlyServerURL": "https://plot.ly"
       },
       "data": [
        {
         "mode": "lines+markers",
         "type": "scatter",
         "x": [
          "2020-06-12T00:00:00",
          "2020-06-13T00:00:00",
          "2020-06-14T00:00:00",
          "2020-06-15T00:00:00",
          "2020-06-16T00:00:00",
          "2020-06-17T00:00:00",
          "2020-06-18T00:00:00",
          "2020-06-19T00:00:00",
          "2020-06-20T00:00:00",
          "2020-06-21T00:00:00",
          "2020-06-22T00:00:00",
          "2020-06-23T00:00:00",
          "2020-06-24T00:00:00",
          "2020-06-25T00:00:00",
          "2020-06-26T00:00:00",
          "2020-06-27T00:00:00",
          "2020-06-28T00:00:00",
          "2020-06-29T00:00:00",
          "2020-06-30T00:00:00",
          "2020-07-01T00:00:00",
          "2020-07-02T00:00:00",
          "2020-07-03T00:00:00",
          "2020-07-04T00:00:00",
          "2020-07-05T00:00:00",
          "2020-07-06T00:00:00",
          "2020-07-07T00:00:00",
          "2020-07-08T00:00:00",
          "2020-07-09T00:00:00",
          "2020-07-10T00:00:00",
          "2020-07-11T00:00:00",
          "2020-07-12T00:00:00",
          "2020-07-13T00:00:00",
          "2020-07-14T00:00:00",
          "2020-07-15T00:00:00",
          "2020-07-16T00:00:00",
          "2020-07-17T00:00:00",
          "2020-07-18T00:00:00",
          "2020-07-19T00:00:00",
          "2020-07-20T00:00:00",
          "2020-07-21T00:00:00",
          "2020-07-22T00:00:00",
          "2020-07-23T00:00:00",
          "2020-07-24T00:00:00",
          "2020-07-25T00:00:00",
          "2020-07-26T00:00:00",
          "2020-07-27T00:00:00",
          "2020-07-28T00:00:00",
          "2020-07-29T00:00:00",
          "2020-07-30T00:00:00",
          "2020-07-31T00:00:00",
          "2020-08-01T00:00:00",
          "2020-08-02T00:00:00",
          "2020-08-03T00:00:00",
          "2020-08-04T00:00:00",
          "2020-08-05T00:00:00",
          "2020-08-06T00:00:00",
          "2020-08-07T00:00:00",
          "2020-08-08T00:00:00",
          "2020-08-09T00:00:00",
          "2020-08-10T00:00:00",
          "2020-08-11T00:00:00",
          "2020-08-12T00:00:00",
          "2020-08-13T00:00:00",
          "2020-08-14T00:00:00",
          "2020-08-15T00:00:00"
         ],
         "y": [
          773,
          630,
          740,
          675,
          962,
          1554,
          1997,
          1636,
          1055,
          970,
          2141,
          2388,
          2110,
          2686,
          2805,
          2240,
          1193,
          1488,
          1938,
          2586,
          4784,
          2309,
          1196,
          1093,
          1749,
          2762,
          3596,
          4852,
          5483,
          2991,
          5396,
          5279,
          5559,
          4486,
          4928,
          6120,
          4148,
          3075,
          4381,
          5275,
          5328,
          3314,
          3217,
          2051,
          920,
          1976,
          3118,
          3185,
          3947,
          4505,
          4154,
          4800,
          5869,
          5363,
          6510,
          4154,
          3147,
          3954,
          5302,
          3641,
          3633,
          4252,
          5754,
          4204,
          3821
         ]
        }
       ],
       "layout": {
        "template": {
         "data": {
          "bar": [
           {
            "error_x": {
             "color": "#2a3f5f"
            },
            "error_y": {
             "color": "#2a3f5f"
            },
            "marker": {
             "line": {
              "color": "#E5ECF6",
              "width": 0.5
             }
            },
            "type": "bar"
           }
          ],
          "barpolar": [
           {
            "marker": {
             "line": {
              "color": "#E5ECF6",
              "width": 0.5
             }
            },
            "type": "barpolar"
           }
          ],
          "carpet": [
           {
            "aaxis": {
             "endlinecolor": "#2a3f5f",
             "gridcolor": "white",
             "linecolor": "white",
             "minorgridcolor": "white",
             "startlinecolor": "#2a3f5f"
            },
            "baxis": {
             "endlinecolor": "#2a3f5f",
             "gridcolor": "white",
             "linecolor": "white",
             "minorgridcolor": "white",
             "startlinecolor": "#2a3f5f"
            },
            "type": "carpet"
           }
          ],
          "choropleth": [
           {
            "colorbar": {
             "outlinewidth": 0,
             "ticks": ""
            },
            "type": "choropleth"
           }
          ],
          "contour": [
           {
            "colorbar": {
             "outlinewidth": 0,
             "ticks": ""
            },
            "colorscale": [
             [
              0,
              "#0d0887"
             ],
             [
              0.1111111111111111,
              "#46039f"
             ],
             [
              0.2222222222222222,
              "#7201a8"
             ],
             [
              0.3333333333333333,
              "#9c179e"
             ],
             [
              0.4444444444444444,
              "#bd3786"
             ],
             [
              0.5555555555555556,
              "#d8576b"
             ],
             [
              0.6666666666666666,
              "#ed7953"
             ],
             [
              0.7777777777777778,
              "#fb9f3a"
             ],
             [
              0.8888888888888888,
              "#fdca26"
             ],
             [
              1,
              "#f0f921"
             ]
            ],
            "type": "contour"
           }
          ],
          "contourcarpet": [
           {
            "colorbar": {
             "outlinewidth": 0,
             "ticks": ""
            },
            "type": "contourcarpet"
           }
          ],
          "heatmap": [
           {
            "colorbar": {
             "outlinewidth": 0,
             "ticks": ""
            },
            "colorscale": [
             [
              0,
              "#0d0887"
             ],
             [
              0.1111111111111111,
              "#46039f"
             ],
             [
              0.2222222222222222,
              "#7201a8"
             ],
             [
              0.3333333333333333,
              "#9c179e"
             ],
             [
              0.4444444444444444,
              "#bd3786"
             ],
             [
              0.5555555555555556,
              "#d8576b"
             ],
             [
              0.6666666666666666,
              "#ed7953"
             ],
             [
              0.7777777777777778,
              "#fb9f3a"
             ],
             [
              0.8888888888888888,
              "#fdca26"
             ],
             [
              1,
              "#f0f921"
             ]
            ],
            "type": "heatmap"
           }
          ],
          "heatmapgl": [
           {
            "colorbar": {
             "outlinewidth": 0,
             "ticks": ""
            },
            "colorscale": [
             [
              0,
              "#0d0887"
             ],
             [
              0.1111111111111111,
              "#46039f"
             ],
             [
              0.2222222222222222,
              "#7201a8"
             ],
             [
              0.3333333333333333,
              "#9c179e"
             ],
             [
              0.4444444444444444,
              "#bd3786"
             ],
             [
              0.5555555555555556,
              "#d8576b"
             ],
             [
              0.6666666666666666,
              "#ed7953"
             ],
             [
              0.7777777777777778,
              "#fb9f3a"
             ],
             [
              0.8888888888888888,
              "#fdca26"
             ],
             [
              1,
              "#f0f921"
             ]
            ],
            "type": "heatmapgl"
           }
          ],
          "histogram": [
           {
            "marker": {
             "colorbar": {
              "outlinewidth": 0,
              "ticks": ""
             }
            },
            "type": "histogram"
           }
          ],
          "histogram2d": [
           {
            "colorbar": {
             "outlinewidth": 0,
             "ticks": ""
            },
            "colorscale": [
             [
              0,
              "#0d0887"
             ],
             [
              0.1111111111111111,
              "#46039f"
             ],
             [
              0.2222222222222222,
              "#7201a8"
             ],
             [
              0.3333333333333333,
              "#9c179e"
             ],
             [
              0.4444444444444444,
              "#bd3786"
             ],
             [
              0.5555555555555556,
              "#d8576b"
             ],
             [
              0.6666666666666666,
              "#ed7953"
             ],
             [
              0.7777777777777778,
              "#fb9f3a"
             ],
             [
              0.8888888888888888,
              "#fdca26"
             ],
             [
              1,
              "#f0f921"
             ]
            ],
            "type": "histogram2d"
           }
          ],
          "histogram2dcontour": [
           {
            "colorbar": {
             "outlinewidth": 0,
             "ticks": ""
            },
            "colorscale": [
             [
              0,
              "#0d0887"
             ],
             [
              0.1111111111111111,
              "#46039f"
             ],
             [
              0.2222222222222222,
              "#7201a8"
             ],
             [
              0.3333333333333333,
              "#9c179e"
             ],
             [
              0.4444444444444444,
              "#bd3786"
             ],
             [
              0.5555555555555556,
              "#d8576b"
             ],
             [
              0.6666666666666666,
              "#ed7953"
             ],
             [
              0.7777777777777778,
              "#fb9f3a"
             ],
             [
              0.8888888888888888,
              "#fdca26"
             ],
             [
              1,
              "#f0f921"
             ]
            ],
            "type": "histogram2dcontour"
           }
          ],
          "mesh3d": [
           {
            "colorbar": {
             "outlinewidth": 0,
             "ticks": ""
            },
            "type": "mesh3d"
           }
          ],
          "parcoords": [
           {
            "line": {
             "colorbar": {
              "outlinewidth": 0,
              "ticks": ""
             }
            },
            "type": "parcoords"
           }
          ],
          "pie": [
           {
            "automargin": true,
            "type": "pie"
           }
          ],
          "scatter": [
           {
            "marker": {
             "colorbar": {
              "outlinewidth": 0,
              "ticks": ""
             }
            },
            "type": "scatter"
           }
          ],
          "scatter3d": [
           {
            "line": {
             "colorbar": {
              "outlinewidth": 0,
              "ticks": ""
             }
            },
            "marker": {
             "colorbar": {
              "outlinewidth": 0,
              "ticks": ""
             }
            },
            "type": "scatter3d"
           }
          ],
          "scattercarpet": [
           {
            "marker": {
             "colorbar": {
              "outlinewidth": 0,
              "ticks": ""
             }
            },
            "type": "scattercarpet"
           }
          ],
          "scattergeo": [
           {
            "marker": {
             "colorbar": {
              "outlinewidth": 0,
              "ticks": ""
             }
            },
            "type": "scattergeo"
           }
          ],
          "scattergl": [
           {
            "marker": {
             "colorbar": {
              "outlinewidth": 0,
              "ticks": ""
             }
            },
            "type": "scattergl"
           }
          ],
          "scattermapbox": [
           {
            "marker": {
             "colorbar": {
              "outlinewidth": 0,
              "ticks": ""
             }
            },
            "type": "scattermapbox"
           }
          ],
          "scatterpolar": [
           {
            "marker": {
             "colorbar": {
              "outlinewidth": 0,
              "ticks": ""
             }
            },
            "type": "scatterpolar"
           }
          ],
          "scatterpolargl": [
           {
            "marker": {
             "colorbar": {
              "outlinewidth": 0,
              "ticks": ""
             }
            },
            "type": "scatterpolargl"
           }
          ],
          "scatterternary": [
           {
            "marker": {
             "colorbar": {
              "outlinewidth": 0,
              "ticks": ""
             }
            },
            "type": "scatterternary"
           }
          ],
          "surface": [
           {
            "colorbar": {
             "outlinewidth": 0,
             "ticks": ""
            },
            "colorscale": [
             [
              0,
              "#0d0887"
             ],
             [
              0.1111111111111111,
              "#46039f"
             ],
             [
              0.2222222222222222,
              "#7201a8"
             ],
             [
              0.3333333333333333,
              "#9c179e"
             ],
             [
              0.4444444444444444,
              "#bd3786"
             ],
             [
              0.5555555555555556,
              "#d8576b"
             ],
             [
              0.6666666666666666,
              "#ed7953"
             ],
             [
              0.7777777777777778,
              "#fb9f3a"
             ],
             [
              0.8888888888888888,
              "#fdca26"
             ],
             [
              1,
              "#f0f921"
             ]
            ],
            "type": "surface"
           }
          ],
          "table": [
           {
            "cells": {
             "fill": {
              "color": "#EBF0F8"
             },
             "line": {
              "color": "white"
             }
            },
            "header": {
             "fill": {
              "color": "#C8D4E3"
             },
             "line": {
              "color": "white"
             }
            },
            "type": "table"
           }
          ]
         },
         "layout": {
          "annotationdefaults": {
           "arrowcolor": "#2a3f5f",
           "arrowhead": 0,
           "arrowwidth": 1
          },
          "coloraxis": {
           "colorbar": {
            "outlinewidth": 0,
            "ticks": ""
           }
          },
          "colorscale": {
           "diverging": [
            [
             0,
             "#8e0152"
            ],
            [
             0.1,
             "#c51b7d"
            ],
            [
             0.2,
             "#de77ae"
            ],
            [
             0.3,
             "#f1b6da"
            ],
            [
             0.4,
             "#fde0ef"
            ],
            [
             0.5,
             "#f7f7f7"
            ],
            [
             0.6,
             "#e6f5d0"
            ],
            [
             0.7,
             "#b8e186"
            ],
            [
             0.8,
             "#7fbc41"
            ],
            [
             0.9,
             "#4d9221"
            ],
            [
             1,
             "#276419"
            ]
           ],
           "sequential": [
            [
             0,
             "#0d0887"
            ],
            [
             0.1111111111111111,
             "#46039f"
            ],
            [
             0.2222222222222222,
             "#7201a8"
            ],
            [
             0.3333333333333333,
             "#9c179e"
            ],
            [
             0.4444444444444444,
             "#bd3786"
            ],
            [
             0.5555555555555556,
             "#d8576b"
            ],
            [
             0.6666666666666666,
             "#ed7953"
            ],
            [
             0.7777777777777778,
             "#fb9f3a"
            ],
            [
             0.8888888888888888,
             "#fdca26"
            ],
            [
             1,
             "#f0f921"
            ]
           ],
           "sequentialminus": [
            [
             0,
             "#0d0887"
            ],
            [
             0.1111111111111111,
             "#46039f"
            ],
            [
             0.2222222222222222,
             "#7201a8"
            ],
            [
             0.3333333333333333,
             "#9c179e"
            ],
            [
             0.4444444444444444,
             "#bd3786"
            ],
            [
             0.5555555555555556,
             "#d8576b"
            ],
            [
             0.6666666666666666,
             "#ed7953"
            ],
            [
             0.7777777777777778,
             "#fb9f3a"
            ],
            [
             0.8888888888888888,
             "#fdca26"
            ],
            [
             1,
             "#f0f921"
            ]
           ]
          },
          "colorway": [
           "#636efa",
           "#EF553B",
           "#00cc96",
           "#ab63fa",
           "#FFA15A",
           "#19d3f3",
           "#FF6692",
           "#B6E880",
           "#FF97FF",
           "#FECB52"
          ],
          "font": {
           "color": "#2a3f5f"
          },
          "geo": {
           "bgcolor": "white",
           "lakecolor": "white",
           "landcolor": "#E5ECF6",
           "showlakes": true,
           "showland": true,
           "subunitcolor": "white"
          },
          "hoverlabel": {
           "align": "left"
          },
          "hovermode": "closest",
          "mapbox": {
           "style": "light"
          },
          "paper_bgcolor": "white",
          "plot_bgcolor": "#E5ECF6",
          "polar": {
           "angularaxis": {
            "gridcolor": "white",
            "linecolor": "white",
            "ticks": ""
           },
           "bgcolor": "#E5ECF6",
           "radialaxis": {
            "gridcolor": "white",
            "linecolor": "white",
            "ticks": ""
           }
          },
          "scene": {
           "xaxis": {
            "backgroundcolor": "#E5ECF6",
            "gridcolor": "white",
            "gridwidth": 2,
            "linecolor": "white",
            "showbackground": true,
            "ticks": "",
            "zerolinecolor": "white"
           },
           "yaxis": {
            "backgroundcolor": "#E5ECF6",
            "gridcolor": "white",
            "gridwidth": 2,
            "linecolor": "white",
            "showbackground": true,
            "ticks": "",
            "zerolinecolor": "white"
           },
           "zaxis": {
            "backgroundcolor": "#E5ECF6",
            "gridcolor": "white",
            "gridwidth": 2,
            "linecolor": "white",
            "showbackground": true,
            "ticks": "",
            "zerolinecolor": "white"
           }
          },
          "shapedefaults": {
           "line": {
            "color": "#2a3f5f"
           }
          },
          "ternary": {
           "aaxis": {
            "gridcolor": "white",
            "linecolor": "white",
            "ticks": ""
           },
           "baxis": {
            "gridcolor": "white",
            "linecolor": "white",
            "ticks": ""
           },
           "bgcolor": "#E5ECF6",
           "caxis": {
            "gridcolor": "white",
            "linecolor": "white",
            "ticks": ""
           }
          },
          "title": {
           "x": 0.05
          },
          "xaxis": {
           "automargin": true,
           "gridcolor": "white",
           "linecolor": "white",
           "ticks": "",
           "title": {
            "standoff": 15
           },
           "zerolinecolor": "white",
           "zerolinewidth": 2
          },
          "yaxis": {
           "automargin": true,
           "gridcolor": "white",
           "linecolor": "white",
           "ticks": "",
           "title": {
            "standoff": 15
           },
           "zerolinecolor": "white",
           "zerolinewidth": 2
          }
         }
        },
        "title": {
         "text": "Data scientist(LinkedIn) open positions vs. post date"
        }
       }
      },
      "text/html": [
       "<div>\n",
       "        \n",
       "        \n",
       "            <div id=\"c15577eb-bc39-4d2c-88f7-b3edb89df01b\" class=\"plotly-graph-div\" style=\"height:525px; width:100%;\"></div>\n",
       "            <script type=\"text/javascript\">\n",
       "                require([\"plotly\"], function(Plotly) {\n",
       "                    window.PLOTLYENV=window.PLOTLYENV || {};\n",
       "                    \n",
       "                if (document.getElementById(\"c15577eb-bc39-4d2c-88f7-b3edb89df01b\")) {\n",
       "                    Plotly.newPlot(\n",
       "                        'c15577eb-bc39-4d2c-88f7-b3edb89df01b',\n",
       "                        [{\"mode\": \"lines+markers\", \"type\": \"scatter\", \"x\": [\"2020-06-12T00:00:00\", \"2020-06-13T00:00:00\", \"2020-06-14T00:00:00\", \"2020-06-15T00:00:00\", \"2020-06-16T00:00:00\", \"2020-06-17T00:00:00\", \"2020-06-18T00:00:00\", \"2020-06-19T00:00:00\", \"2020-06-20T00:00:00\", \"2020-06-21T00:00:00\", \"2020-06-22T00:00:00\", \"2020-06-23T00:00:00\", \"2020-06-24T00:00:00\", \"2020-06-25T00:00:00\", \"2020-06-26T00:00:00\", \"2020-06-27T00:00:00\", \"2020-06-28T00:00:00\", \"2020-06-29T00:00:00\", \"2020-06-30T00:00:00\", \"2020-07-01T00:00:00\", \"2020-07-02T00:00:00\", \"2020-07-03T00:00:00\", \"2020-07-04T00:00:00\", \"2020-07-05T00:00:00\", \"2020-07-06T00:00:00\", \"2020-07-07T00:00:00\", \"2020-07-08T00:00:00\", \"2020-07-09T00:00:00\", \"2020-07-10T00:00:00\", \"2020-07-11T00:00:00\", \"2020-07-12T00:00:00\", \"2020-07-13T00:00:00\", \"2020-07-14T00:00:00\", \"2020-07-15T00:00:00\", \"2020-07-16T00:00:00\", \"2020-07-17T00:00:00\", \"2020-07-18T00:00:00\", \"2020-07-19T00:00:00\", \"2020-07-20T00:00:00\", \"2020-07-21T00:00:00\", \"2020-07-22T00:00:00\", \"2020-07-23T00:00:00\", \"2020-07-24T00:00:00\", \"2020-07-25T00:00:00\", \"2020-07-26T00:00:00\", \"2020-07-27T00:00:00\", \"2020-07-28T00:00:00\", \"2020-07-29T00:00:00\", \"2020-07-30T00:00:00\", \"2020-07-31T00:00:00\", \"2020-08-01T00:00:00\", \"2020-08-02T00:00:00\", \"2020-08-03T00:00:00\", \"2020-08-04T00:00:00\", \"2020-08-05T00:00:00\", \"2020-08-06T00:00:00\", \"2020-08-07T00:00:00\", \"2020-08-08T00:00:00\", \"2020-08-09T00:00:00\", \"2020-08-10T00:00:00\", \"2020-08-11T00:00:00\", \"2020-08-12T00:00:00\", \"2020-08-13T00:00:00\", \"2020-08-14T00:00:00\", \"2020-08-15T00:00:00\"], \"y\": [773, 630, 740, 675, 962, 1554, 1997, 1636, 1055, 970, 2141, 2388, 2110, 2686, 2805, 2240, 1193, 1488, 1938, 2586, 4784, 2309, 1196, 1093, 1749, 2762, 3596, 4852, 5483, 2991, 5396, 5279, 5559, 4486, 4928, 6120, 4148, 3075, 4381, 5275, 5328, 3314, 3217, 2051, 920, 1976, 3118, 3185, 3947, 4505, 4154, 4800, 5869, 5363, 6510, 4154, 3147, 3954, 5302, 3641, 3633, 4252, 5754, 4204, 3821]}],\n",
       "                        {\"template\": {\"data\": {\"bar\": [{\"error_x\": {\"color\": \"#2a3f5f\"}, \"error_y\": {\"color\": \"#2a3f5f\"}, \"marker\": {\"line\": {\"color\": \"#E5ECF6\", \"width\": 0.5}}, \"type\": \"bar\"}], \"barpolar\": [{\"marker\": {\"line\": {\"color\": \"#E5ECF6\", \"width\": 0.5}}, \"type\": \"barpolar\"}], \"carpet\": [{\"aaxis\": {\"endlinecolor\": \"#2a3f5f\", \"gridcolor\": \"white\", \"linecolor\": \"white\", \"minorgridcolor\": \"white\", \"startlinecolor\": \"#2a3f5f\"}, \"baxis\": {\"endlinecolor\": \"#2a3f5f\", \"gridcolor\": \"white\", \"linecolor\": \"white\", \"minorgridcolor\": \"white\", \"startlinecolor\": \"#2a3f5f\"}, \"type\": \"carpet\"}], \"choropleth\": [{\"colorbar\": {\"outlinewidth\": 0, \"ticks\": \"\"}, \"type\": \"choropleth\"}], \"contour\": [{\"colorbar\": {\"outlinewidth\": 0, \"ticks\": \"\"}, \"colorscale\": [[0.0, \"#0d0887\"], [0.1111111111111111, \"#46039f\"], [0.2222222222222222, \"#7201a8\"], [0.3333333333333333, \"#9c179e\"], [0.4444444444444444, \"#bd3786\"], [0.5555555555555556, \"#d8576b\"], [0.6666666666666666, \"#ed7953\"], [0.7777777777777778, \"#fb9f3a\"], [0.8888888888888888, \"#fdca26\"], [1.0, \"#f0f921\"]], \"type\": \"contour\"}], \"contourcarpet\": [{\"colorbar\": {\"outlinewidth\": 0, \"ticks\": \"\"}, \"type\": \"contourcarpet\"}], \"heatmap\": [{\"colorbar\": {\"outlinewidth\": 0, \"ticks\": \"\"}, \"colorscale\": [[0.0, \"#0d0887\"], [0.1111111111111111, \"#46039f\"], [0.2222222222222222, \"#7201a8\"], [0.3333333333333333, \"#9c179e\"], [0.4444444444444444, \"#bd3786\"], [0.5555555555555556, \"#d8576b\"], [0.6666666666666666, \"#ed7953\"], [0.7777777777777778, \"#fb9f3a\"], [0.8888888888888888, \"#fdca26\"], [1.0, \"#f0f921\"]], \"type\": \"heatmap\"}], \"heatmapgl\": [{\"colorbar\": {\"outlinewidth\": 0, \"ticks\": \"\"}, \"colorscale\": [[0.0, \"#0d0887\"], [0.1111111111111111, \"#46039f\"], [0.2222222222222222, \"#7201a8\"], [0.3333333333333333, \"#9c179e\"], [0.4444444444444444, \"#bd3786\"], [0.5555555555555556, \"#d8576b\"], [0.6666666666666666, \"#ed7953\"], [0.7777777777777778, \"#fb9f3a\"], [0.8888888888888888, \"#fdca26\"], [1.0, \"#f0f921\"]], \"type\": \"heatmapgl\"}], \"histogram\": [{\"marker\": {\"colorbar\": {\"outlinewidth\": 0, \"ticks\": \"\"}}, \"type\": \"histogram\"}], \"histogram2d\": [{\"colorbar\": {\"outlinewidth\": 0, \"ticks\": \"\"}, \"colorscale\": [[0.0, \"#0d0887\"], [0.1111111111111111, \"#46039f\"], [0.2222222222222222, \"#7201a8\"], [0.3333333333333333, \"#9c179e\"], [0.4444444444444444, \"#bd3786\"], [0.5555555555555556, \"#d8576b\"], [0.6666666666666666, \"#ed7953\"], [0.7777777777777778, \"#fb9f3a\"], [0.8888888888888888, \"#fdca26\"], [1.0, \"#f0f921\"]], \"type\": \"histogram2d\"}], \"histogram2dcontour\": [{\"colorbar\": {\"outlinewidth\": 0, \"ticks\": \"\"}, \"colorscale\": [[0.0, \"#0d0887\"], [0.1111111111111111, \"#46039f\"], [0.2222222222222222, \"#7201a8\"], [0.3333333333333333, \"#9c179e\"], [0.4444444444444444, \"#bd3786\"], [0.5555555555555556, \"#d8576b\"], [0.6666666666666666, \"#ed7953\"], [0.7777777777777778, \"#fb9f3a\"], [0.8888888888888888, \"#fdca26\"], [1.0, \"#f0f921\"]], \"type\": \"histogram2dcontour\"}], \"mesh3d\": [{\"colorbar\": {\"outlinewidth\": 0, \"ticks\": \"\"}, \"type\": \"mesh3d\"}], \"parcoords\": [{\"line\": {\"colorbar\": {\"outlinewidth\": 0, \"ticks\": \"\"}}, \"type\": \"parcoords\"}], \"pie\": [{\"automargin\": true, \"type\": \"pie\"}], \"scatter\": [{\"marker\": {\"colorbar\": {\"outlinewidth\": 0, \"ticks\": \"\"}}, \"type\": \"scatter\"}], \"scatter3d\": [{\"line\": {\"colorbar\": {\"outlinewidth\": 0, \"ticks\": \"\"}}, \"marker\": {\"colorbar\": {\"outlinewidth\": 0, \"ticks\": \"\"}}, \"type\": \"scatter3d\"}], \"scattercarpet\": [{\"marker\": {\"colorbar\": {\"outlinewidth\": 0, \"ticks\": \"\"}}, \"type\": \"scattercarpet\"}], \"scattergeo\": [{\"marker\": {\"colorbar\": {\"outlinewidth\": 0, \"ticks\": \"\"}}, \"type\": \"scattergeo\"}], \"scattergl\": [{\"marker\": {\"colorbar\": {\"outlinewidth\": 0, \"ticks\": \"\"}}, \"type\": \"scattergl\"}], \"scattermapbox\": [{\"marker\": {\"colorbar\": {\"outlinewidth\": 0, \"ticks\": \"\"}}, \"type\": \"scattermapbox\"}], \"scatterpolar\": [{\"marker\": {\"colorbar\": {\"outlinewidth\": 0, \"ticks\": \"\"}}, \"type\": \"scatterpolar\"}], \"scatterpolargl\": [{\"marker\": {\"colorbar\": {\"outlinewidth\": 0, \"ticks\": \"\"}}, \"type\": \"scatterpolargl\"}], \"scatterternary\": [{\"marker\": {\"colorbar\": {\"outlinewidth\": 0, \"ticks\": \"\"}}, \"type\": \"scatterternary\"}], \"surface\": [{\"colorbar\": {\"outlinewidth\": 0, \"ticks\": \"\"}, \"colorscale\": [[0.0, \"#0d0887\"], [0.1111111111111111, \"#46039f\"], [0.2222222222222222, \"#7201a8\"], [0.3333333333333333, \"#9c179e\"], [0.4444444444444444, \"#bd3786\"], [0.5555555555555556, \"#d8576b\"], [0.6666666666666666, \"#ed7953\"], [0.7777777777777778, \"#fb9f3a\"], [0.8888888888888888, \"#fdca26\"], [1.0, \"#f0f921\"]], \"type\": \"surface\"}], \"table\": [{\"cells\": {\"fill\": {\"color\": \"#EBF0F8\"}, \"line\": {\"color\": \"white\"}}, \"header\": {\"fill\": {\"color\": \"#C8D4E3\"}, \"line\": {\"color\": \"white\"}}, \"type\": \"table\"}]}, \"layout\": {\"annotationdefaults\": {\"arrowcolor\": \"#2a3f5f\", \"arrowhead\": 0, \"arrowwidth\": 1}, \"coloraxis\": {\"colorbar\": {\"outlinewidth\": 0, \"ticks\": \"\"}}, \"colorscale\": {\"diverging\": [[0, \"#8e0152\"], [0.1, \"#c51b7d\"], [0.2, \"#de77ae\"], [0.3, \"#f1b6da\"], [0.4, \"#fde0ef\"], [0.5, \"#f7f7f7\"], [0.6, \"#e6f5d0\"], [0.7, \"#b8e186\"], [0.8, \"#7fbc41\"], [0.9, \"#4d9221\"], [1, \"#276419\"]], \"sequential\": [[0.0, \"#0d0887\"], [0.1111111111111111, \"#46039f\"], [0.2222222222222222, \"#7201a8\"], [0.3333333333333333, \"#9c179e\"], [0.4444444444444444, \"#bd3786\"], [0.5555555555555556, \"#d8576b\"], [0.6666666666666666, \"#ed7953\"], [0.7777777777777778, \"#fb9f3a\"], [0.8888888888888888, \"#fdca26\"], [1.0, \"#f0f921\"]], \"sequentialminus\": [[0.0, \"#0d0887\"], [0.1111111111111111, \"#46039f\"], [0.2222222222222222, \"#7201a8\"], [0.3333333333333333, \"#9c179e\"], [0.4444444444444444, \"#bd3786\"], [0.5555555555555556, \"#d8576b\"], [0.6666666666666666, \"#ed7953\"], [0.7777777777777778, \"#fb9f3a\"], [0.8888888888888888, \"#fdca26\"], [1.0, \"#f0f921\"]]}, \"colorway\": [\"#636efa\", \"#EF553B\", \"#00cc96\", \"#ab63fa\", \"#FFA15A\", \"#19d3f3\", \"#FF6692\", \"#B6E880\", \"#FF97FF\", \"#FECB52\"], \"font\": {\"color\": \"#2a3f5f\"}, \"geo\": {\"bgcolor\": \"white\", \"lakecolor\": \"white\", \"landcolor\": \"#E5ECF6\", \"showlakes\": true, \"showland\": true, \"subunitcolor\": \"white\"}, \"hoverlabel\": {\"align\": \"left\"}, \"hovermode\": \"closest\", \"mapbox\": {\"style\": \"light\"}, \"paper_bgcolor\": \"white\", \"plot_bgcolor\": \"#E5ECF6\", \"polar\": {\"angularaxis\": {\"gridcolor\": \"white\", \"linecolor\": \"white\", \"ticks\": \"\"}, \"bgcolor\": \"#E5ECF6\", \"radialaxis\": {\"gridcolor\": \"white\", \"linecolor\": \"white\", \"ticks\": \"\"}}, \"scene\": {\"xaxis\": {\"backgroundcolor\": \"#E5ECF6\", \"gridcolor\": \"white\", \"gridwidth\": 2, \"linecolor\": \"white\", \"showbackground\": true, \"ticks\": \"\", \"zerolinecolor\": \"white\"}, \"yaxis\": {\"backgroundcolor\": \"#E5ECF6\", \"gridcolor\": \"white\", \"gridwidth\": 2, \"linecolor\": \"white\", \"showbackground\": true, \"ticks\": \"\", \"zerolinecolor\": \"white\"}, \"zaxis\": {\"backgroundcolor\": \"#E5ECF6\", \"gridcolor\": \"white\", \"gridwidth\": 2, \"linecolor\": \"white\", \"showbackground\": true, \"ticks\": \"\", \"zerolinecolor\": \"white\"}}, \"shapedefaults\": {\"line\": {\"color\": \"#2a3f5f\"}}, \"ternary\": {\"aaxis\": {\"gridcolor\": \"white\", \"linecolor\": \"white\", \"ticks\": \"\"}, \"baxis\": {\"gridcolor\": \"white\", \"linecolor\": \"white\", \"ticks\": \"\"}, \"bgcolor\": \"#E5ECF6\", \"caxis\": {\"gridcolor\": \"white\", \"linecolor\": \"white\", \"ticks\": \"\"}}, \"title\": {\"x\": 0.05}, \"xaxis\": {\"automargin\": true, \"gridcolor\": \"white\", \"linecolor\": \"white\", \"ticks\": \"\", \"title\": {\"standoff\": 15}, \"zerolinecolor\": \"white\", \"zerolinewidth\": 2}, \"yaxis\": {\"automargin\": true, \"gridcolor\": \"white\", \"linecolor\": \"white\", \"ticks\": \"\", \"title\": {\"standoff\": 15}, \"zerolinecolor\": \"white\", \"zerolinewidth\": 2}}}, \"title\": {\"text\": \"Data scientist(LinkedIn) open positions vs. post date\"}},\n",
       "                        {\"responsive\": true}\n",
       "                    ).then(function(){\n",
       "                            \n",
       "var gd = document.getElementById('c15577eb-bc39-4d2c-88f7-b3edb89df01b');\n",
       "var x = new MutationObserver(function (mutations, observer) {{\n",
       "        var display = window.getComputedStyle(gd).display;\n",
       "        if (!display || display === 'none') {{\n",
       "            console.log([gd, 'removed!']);\n",
       "            Plotly.purge(gd);\n",
       "            observer.disconnect();\n",
       "        }}\n",
       "}});\n",
       "\n",
       "// Listen for the removal of the full notebook cells\n",
       "var notebookContainer = gd.closest('#notebook-container');\n",
       "if (notebookContainer) {{\n",
       "    x.observe(notebookContainer, {childList: true});\n",
       "}}\n",
       "\n",
       "// Listen for the clearing of the current output cell\n",
       "var outputEl = gd.closest('.output');\n",
       "if (outputEl) {{\n",
       "    x.observe(outputEl, {childList: true});\n",
       "}}\n",
       "\n",
       "                        })\n",
       "                };\n",
       "                });\n",
       "            </script>\n",
       "        </div>"
      ]
     },
     "metadata": {},
     "output_type": "display_data"
    }
   ],
   "source": [
    "fig = go.Figure()\n",
    "\n",
    "fig.add_trace(go.Scatter(x=df_date_linkedin_trunc.index, y=df_date_linkedin_trunc['Jobnums'], mode='lines+markers'))\n",
    "\n",
    "fig.update_layout(title='Data scientist(LinkedIn) open positions vs. post date')\n",
    "fig.show()"
   ]
  },
  {
   "cell_type": "code",
   "execution_count": 29,
   "metadata": {},
   "outputs": [
    {
     "data": {
      "text/plain": [
       "Text(0.5, 0, ' ')"
      ]
     },
     "execution_count": 29,
     "metadata": {},
     "output_type": "execute_result"
    },
    {
     "data": {
      "image/png": "[encoded data removed]",
      "text/plain": [
       "<Figure size 576x288 with 1 Axes>"
      ]
     },
     "metadata": {
      "needs_background": "light"
     },
     "output_type": "display_data"
    }
   ],
   "source": [
    "by_weekday = df_date_linkedin_trunc.groupby('Day of week').sum()\n",
    "by_weekday.reset_index(inplace=True)\n",
    "by_weekday\n",
    "\n",
    "plt.figure(figsize=(8,4))\n",
    "sns.barplot(x='Day of week', y='Jobnums', data=by_weekday, palette='viridis')\n",
    "plt.xticks(horizontalalignment='right', fontweight='light', fontsize='large')\n",
    "plt.yticks(fontsize='large')\n",
    "plt.ylabel('Job numbers', fontsize='x-large')\n",
    "plt.xlabel(' ')"
   ]
  },
  {
   "cell_type": "markdown",
   "metadata": {},
   "source": [
    "## Combine with COVID-19 "
   ]
  },
  {
   "cell_type": "code",
   "execution_count": 30,
   "metadata": {},
   "outputs": [
    {
     "data": {
      "text/html": [
       "<div>\n",
       "<style scoped>\n",
       "    .dataframe tbody tr th:only-of-type {\n",
       "        vertical-align: middle;\n",
       "    }\n",
       "\n",
       "    .dataframe tbody tr th {\n",
       "        vertical-align: top;\n",
       "    }\n",
       "\n",
       "    .dataframe thead th {\n",
       "        text-align: right;\n",
       "    }\n",
       "</style>\n",
       "<table border=\"1\" class=\"dataframe\">\n",
       "  <thead>\n",
       "    <tr style=\"text-align: right;\">\n",
       "      <th></th>\n",
       "      <th>Date</th>\n",
       "      <th>Jobnums</th>\n",
       "      <th>Day of week</th>\n",
       "      <th>Weekend</th>\n",
       "      <th>Confirmed</th>\n",
       "      <th>Deaths</th>\n",
       "      <th>Recovered</th>\n",
       "      <th>Active</th>\n",
       "      <th>New</th>\n",
       "      <th>Fatality</th>\n",
       "    </tr>\n",
       "    <tr>\n",
       "      <th>Date</th>\n",
       "      <th></th>\n",
       "      <th></th>\n",
       "      <th></th>\n",
       "      <th></th>\n",
       "      <th></th>\n",
       "      <th></th>\n",
       "      <th></th>\n",
       "      <th></th>\n",
       "      <th></th>\n",
       "      <th></th>\n",
       "    </tr>\n",
       "  </thead>\n",
       "  <tbody>\n",
       "    <tr>\n",
       "      <td>2020-06-12</td>\n",
       "      <td>2020-06-12</td>\n",
       "      <td>773</td>\n",
       "      <td>Fri</td>\n",
       "      <td>0</td>\n",
       "      <td>2048986</td>\n",
       "      <td>117330</td>\n",
       "      <td>547386</td>\n",
       "      <td>1384270</td>\n",
       "      <td>25330.0</td>\n",
       "      <td>5.726247</td>\n",
       "    </tr>\n",
       "    <tr>\n",
       "      <td>2020-06-13</td>\n",
       "      <td>2020-06-13</td>\n",
       "      <td>630</td>\n",
       "      <td>Sat</td>\n",
       "      <td>1</td>\n",
       "      <td>2074542</td>\n",
       "      <td>118093</td>\n",
       "      <td>556606</td>\n",
       "      <td>1399843</td>\n",
       "      <td>25556.0</td>\n",
       "      <td>5.692485</td>\n",
       "    </tr>\n",
       "    <tr>\n",
       "      <td>2020-06-14</td>\n",
       "      <td>2020-06-14</td>\n",
       "      <td>740</td>\n",
       "      <td>Sun</td>\n",
       "      <td>1</td>\n",
       "      <td>2094366</td>\n",
       "      <td>118401</td>\n",
       "      <td>561816</td>\n",
       "      <td>1414149</td>\n",
       "      <td>19824.0</td>\n",
       "      <td>5.653310</td>\n",
       "    </tr>\n",
       "    <tr>\n",
       "      <td>2020-06-15</td>\n",
       "      <td>2020-06-15</td>\n",
       "      <td>675</td>\n",
       "      <td>Mon</td>\n",
       "      <td>0</td>\n",
       "      <td>2114026</td>\n",
       "      <td>118792</td>\n",
       "      <td>576334</td>\n",
       "      <td>1418900</td>\n",
       "      <td>19660.0</td>\n",
       "      <td>5.619231</td>\n",
       "    </tr>\n",
       "    <tr>\n",
       "      <td>2020-06-16</td>\n",
       "      <td>2020-06-16</td>\n",
       "      <td>962</td>\n",
       "      <td>Tue</td>\n",
       "      <td>0</td>\n",
       "      <td>2137731</td>\n",
       "      <td>119635</td>\n",
       "      <td>583503</td>\n",
       "      <td>1434593</td>\n",
       "      <td>23705.0</td>\n",
       "      <td>5.596354</td>\n",
       "    </tr>\n",
       "    <tr>\n",
       "      <td>...</td>\n",
       "      <td>...</td>\n",
       "      <td>...</td>\n",
       "      <td>...</td>\n",
       "      <td>...</td>\n",
       "      <td>...</td>\n",
       "      <td>...</td>\n",
       "      <td>...</td>\n",
       "      <td>...</td>\n",
       "      <td>...</td>\n",
       "      <td>...</td>\n",
       "    </tr>\n",
       "    <tr>\n",
       "      <td>2020-08-11</td>\n",
       "      <td>2020-08-11</td>\n",
       "      <td>3633</td>\n",
       "      <td>Tue</td>\n",
       "      <td>0</td>\n",
       "      <td>5141208</td>\n",
       "      <td>164527</td>\n",
       "      <td>1714960</td>\n",
       "      <td>3261721</td>\n",
       "      <td>46808.0</td>\n",
       "      <td>3.200162</td>\n",
       "    </tr>\n",
       "    <tr>\n",
       "      <td>2020-08-12</td>\n",
       "      <td>2020-08-12</td>\n",
       "      <td>4252</td>\n",
       "      <td>Wed</td>\n",
       "      <td>0</td>\n",
       "      <td>5197411</td>\n",
       "      <td>166034</td>\n",
       "      <td>1753760</td>\n",
       "      <td>3277617</td>\n",
       "      <td>56203.0</td>\n",
       "      <td>3.194552</td>\n",
       "    </tr>\n",
       "    <tr>\n",
       "      <td>2020-08-13</td>\n",
       "      <td>2020-08-13</td>\n",
       "      <td>5754</td>\n",
       "      <td>Thu</td>\n",
       "      <td>0</td>\n",
       "      <td>5248958</td>\n",
       "      <td>167110</td>\n",
       "      <td>1774648</td>\n",
       "      <td>3307200</td>\n",
       "      <td>51547.0</td>\n",
       "      <td>3.183680</td>\n",
       "    </tr>\n",
       "    <tr>\n",
       "      <td>2020-08-14</td>\n",
       "      <td>2020-08-14</td>\n",
       "      <td>4204</td>\n",
       "      <td>Fri</td>\n",
       "      <td>0</td>\n",
       "      <td>5313252</td>\n",
       "      <td>168452</td>\n",
       "      <td>1796326</td>\n",
       "      <td>3348474</td>\n",
       "      <td>64294.0</td>\n",
       "      <td>3.170412</td>\n",
       "    </tr>\n",
       "    <tr>\n",
       "      <td>2020-08-15</td>\n",
       "      <td>2020-08-15</td>\n",
       "      <td>3821</td>\n",
       "      <td>Sat</td>\n",
       "      <td>1</td>\n",
       "      <td>5361165</td>\n",
       "      <td>169481</td>\n",
       "      <td>1818527</td>\n",
       "      <td>3373157</td>\n",
       "      <td>47913.0</td>\n",
       "      <td>3.161272</td>\n",
       "    </tr>\n",
       "  </tbody>\n",
       "</table>\n",
       "<p>65 rows × 10 columns</p>\n",
       "</div>"
      ],
      "text/plain": [
       "                 Date  Jobnums Day of week  Weekend  Confirmed  Deaths  \\\n",
       "Date                                                                     \n",
       "2020-06-12 2020-06-12      773         Fri        0    2048986  117330   \n",
       "2020-06-13 2020-06-13      630         Sat        1    2074542  118093   \n",
       "2020-06-14 2020-06-14      740         Sun        1    2094366  118401   \n",
       "2020-06-15 2020-06-15      675         Mon        0    2114026  118792   \n",
       "2020-06-16 2020-06-16      962         Tue        0    2137731  119635   \n",
       "...               ...      ...         ...      ...        ...     ...   \n",
       "2020-08-11 2020-08-11     3633         Tue        0    5141208  164527   \n",
       "2020-08-12 2020-08-12     4252         Wed        0    5197411  166034   \n",
       "2020-08-13 2020-08-13     5754         Thu        0    5248958  167110   \n",
       "2020-08-14 2020-08-14     4204         Fri        0    5313252  168452   \n",
       "2020-08-15 2020-08-15     3821         Sat        1    5361165  169481   \n",
       "\n",
       "            Recovered   Active      New  Fatality  \n",
       "Date                                               \n",
       "2020-06-12     547386  1384270  25330.0  5.726247  \n",
       "2020-06-13     556606  1399843  25556.0  5.692485  \n",
       "2020-06-14     561816  1414149  19824.0  5.653310  \n",
       "2020-06-15     576334  1418900  19660.0  5.619231  \n",
       "2020-06-16     583503  1434593  23705.0  5.596354  \n",
       "...               ...      ...      ...       ...  \n",
       "2020-08-11    1714960  3261721  46808.0  3.200162  \n",
       "2020-08-12    1753760  3277617  56203.0  3.194552  \n",
       "2020-08-13    1774648  3307200  51547.0  3.183680  \n",
       "2020-08-14    1796326  3348474  64294.0  3.170412  \n",
       "2020-08-15    1818527  3373157  47913.0  3.161272  \n",
       "\n",
       "[65 rows x 10 columns]"
      ]
     },
     "execution_count": 30,
     "metadata": {},
     "output_type": "execute_result"
    }
   ],
   "source": [
    "df_covid_trunc = bydate_us['2020-06-12':'2020-08-15']\n",
    "\n",
    "df_combined_linkedin = pd.concat([df_date_linkedin_trunc, df_covid_trunc], axis=1)\n",
    "df_combined_linkedin"
   ]
  },
  {
   "cell_type": "code",
   "execution_count": 31,
   "metadata": {},
   "outputs": [
    {
     "data": {
      "image/png": "[encoded data removed]",
      "text/plain": [
       "<Figure size 1080x432 with 2 Axes>"
      ]
     },
     "metadata": {
      "needs_background": "light"
     },
     "output_type": "display_data"
    }
   ],
   "source": [
    "plt.figure(figsize=(15,6))\n",
    "sns.set_context('poster',font_scale=0.5)\n",
    "plt.subplot(121)\n",
    "sns.boxplot(data=df_combined_indeed, x='Day of week', y='Jobnums',order=['Mon','Tue','Wed','Thu','Fri','Sat','Sun'])\n",
    "plt.ylabel('Job Openings', fontsize='large')\n",
    "plt.xlabel('Day of Week', fontsize='large')\n",
    "plt.title('Indeed', fontsize='x-large')\n",
    "plt.subplot(122)\n",
    "sns.boxplot(data=df_combined_linkedin, x='Day of week', y='Jobnums',order=['Mon','Tue','Wed','Thu','Fri','Sat','Sun'])\n",
    "plt.ylabel('Job Openings', fontsize='large')\n",
    "plt.xlabel('Day of Week', fontsize='large')\n",
    "plt.title('LinkedIn', fontsize='x-large')\n",
    "plt.suptitle('Software Engineer Openings Boxplot by Day of Week', fontsize='xx-large')\n",
    "plt.show()"
   ]
  },
  {
   "cell_type": "markdown",
   "metadata": {},
   "source": [
    "## Grid Search"
   ]
  },
  {
   "cell_type": "code",
   "execution_count": 32,
   "metadata": {},
   "outputs": [
    {
     "name": "stdout",
     "output_type": "stream",
     "text": [
      "---> Model[[(3, 0), 'n', 2]] 1051.530\n",
      "---> Model[[(3, 0), 'n', 1]] 983.336\n",
      "---> Model[[(3, 0), 'c', 0]] 990.909\n",
      "---> Model[[(3, 0), 'c', 1]] 999.844\n",
      "---> Model[[(3, 0), 'c', 2]] 1062.139\n",
      "---> Model[[(3, 0), 'n', 0]] 988.904\n",
      "---> Model[[(3, 0), 't', 1]] 1007.870\n",
      "---> Model[[(3, 0), 't', 0]] 998.720\n",
      "---> Model[[(3, 0), 't', 2]] 1081.512\n",
      "---> Model[[(3, 0), 'ct', 1]] 1026.926\n",
      "---> Model[[(3, 0), 'ct', 0]] 1118.410\n",
      "---> Model[[(3, 0), 'ct', 2]] 1080.434\n",
      "---> Model[[(3, 1), 'n', 0]] 923.440\n",
      "---> Model[[(3, 1), 'n', 1]] 777.566\n",
      "---> Model[[(3, 1), 'n', 2]] 983.828\n",
      "---> Model[[(3, 1), 'c', 0]] 1010.253\n",
      "---> Model[[(3, 1), 'c', 1]] 977.317\n",
      "---> Model[[(3, 1), 'c', 2]] 914.155\n",
      "---> Model[[(3, 1), 't', 0]] 977.808\n",
      "---> Model[[(3, 1), 't', 1]] 843.969\n",
      "---> Model[[(3, 1), 't', 2]] 989.002\n",
      "---> Model[[(3, 1), 'ct', 0]] 1006.161\n",
      "---> Model[[(3, 1), 'ct', 1]] 1082.729\n",
      "---> Model[[(3, 1), 'ct', 2]] 1179.027\n",
      "---> Model[[(3, 2), 'n', 0]] 1004.088\n",
      "---> Model[[(3, 2), 'n', 1]] 967.230\n",
      "---> Model[[(3, 2), 'n', 2]] 744.674\n",
      "---> Model[[(3, 2), 'c', 0]] 1013.766\n",
      "---> Model[[(3, 2), 'c', 1]] 969.162\n",
      "---> Model[[(3, 2), 'c', 2]] 827.266\n",
      "---> Model[[(3, 2), 't', 0]] 989.216\n",
      "---> Model[[(3, 2), 't', 1]] 1018.328\n",
      "---> Model[[(3, 2), 't', 2]] 764.968\n",
      "---> Model[[(3, 2), 'ct', 0]] 1026.657\n",
      "---> Model[[(4, 0), 'n', 0]] 1127.683\n",
      "---> Model[[(3, 2), 'ct', 1]] 995.505\n",
      "---> Model[[(4, 0), 'n', 1]] 706.555\n",
      "---> Model[[(4, 0), 'n', 2]] 571.999\n",
      "---> Model[[(4, 0), 'c', 0]] 1128.778\n",
      "---> Model[[(3, 2), 'ct', 2]] 784.667\n",
      "---> Model[[(4, 0), 'c', 1]] 736.815\n",
      "---> Model[[(4, 0), 'c', 2]] 545.811\n",
      "---> Model[[(4, 0), 't', 1]] 735.339\n",
      "---> Model[[(4, 0), 't', 0]] 1183.767\n",
      "---> Model[[(4, 0), 't', 2]] 588.583\n",
      "---> Model[[(4, 0), 'ct', 0]] 1053.825\n",
      "---> Model[[(4, 0), 'ct', 1]] 706.505\n",
      "---> Model[[(4, 0), 'ct', 2]] 564.363\n",
      "---> Model[[(4, 1), 'n', 0]] 801.245\n",
      "---> Model[[(4, 1), 'n', 1]] 1077.347\n",
      "---> Model[[(4, 1), 'n', 2]] 855.362\n",
      "---> Model[[(4, 1), 'c', 0]] 1023.273\n",
      "---> Model[[(4, 1), 'c', 1]] 1026.029\n",
      "---> Model[[(4, 1), 'c', 2]] 789.994\n",
      "---> Model[[(4, 1), 't', 0]] 1087.816\n",
      "---> Model[[(4, 1), 't', 1]] 1153.808\n",
      "---> Model[[(4, 1), 't', 2]] 875.719\n",
      "---> Model[[(4, 1), 'ct', 0]] 1038.481\n",
      "---> Model[[(4, 1), 'ct', 1]] 867.953\n",
      "---> Model[[(4, 1), 'ct', 2]] 976.296\n",
      "---> Model[[(4, 2), 'n', 0]] 1209.161\n",
      "---> Model[[(4, 2), 'n', 1]] 969.582\n",
      "---> Model[[(4, 2), 'n', 2]] 1041.003\n",
      "---> Model[[(4, 2), 'c', 0]] 1001.249\n",
      "---> Model[[(4, 2), 'c', 1]] 817.491\n",
      "---> Model[[(4, 2), 'c', 2]] 1023.997\n",
      "---> Model[[(4, 2), 't', 0]] 924.601\n",
      "---> Model[[(4, 2), 't', 1]] 980.210\n",
      "---> Model[[(4, 2), 't', 2]] 965.283\n",
      "---> Model[[(4, 2), 'ct', 0]] 958.190\n",
      "---> Model[[(5, 0), 'n', 0]] 786.731\n",
      "---> Model[[(5, 0), 'n', 1]] 609.319\n",
      "---> Model[[(4, 2), 'ct', 1]] 768.539\n",
      "---> Model[[(5, 0), 'n', 2]] 655.881\n",
      "---> Model[[(4, 2), 'ct', 2]] 937.803\n",
      "---> Model[[(5, 0), 'c', 0]] 788.953\n",
      "---> Model[[(5, 0), 'c', 1]] 655.054\n",
      "---> Model[[(5, 0), 'c', 2]] 644.302\n",
      "---> Model[[(5, 0), 't', 0]] 1783.391\n",
      "---> Model[[(5, 0), 't', 2]] 703.240\n",
      "---> Model[[(5, 0), 't', 1]] 671.761\n",
      "---> Model[[(5, 0), 'ct', 0]] 803.376\n",
      "---> Model[[(5, 0), 'ct', 1]] 631.606\n",
      "---> Model[[(5, 1), 'n', 0]] 723.939\n",
      "---> Model[[(5, 0), 'ct', 2]] 674.861\n",
      "---> Model[[(5, 1), 'n', 1]] 747.714\n",
      "---> Model[[(5, 1), 'n', 2]] 608.569\n",
      "---> Model[[(5, 1), 'c', 0]] 713.369\n",
      "---> Model[[(5, 1), 'c', 1]] 864.678\n",
      "---> Model[[(5, 1), 'c', 2]] 713.709\n",
      "---> Model[[(5, 1), 't', 0]] 912.744\n",
      "---> Model[[(5, 1), 't', 1]] 944.593\n",
      "---> Model[[(5, 1), 't', 2]] 674.088\n",
      "---> Model[[(5, 1), 'ct', 0]] 700.693\n",
      "---> Model[[(5, 1), 'ct', 1]] 937.805\n",
      "---> Model[[(5, 2), 'n', 0]] 780.776\n",
      "---> Model[[(5, 1), 'ct', 2]] 751.982\n",
      "---> Model[[(5, 2), 'n', 1]] 1005.151\n",
      "---> Model[[(5, 2), 'n', 2]] 1105.363\n",
      "---> Model[[(5, 2), 'c', 0]] 816.891\n",
      "---> Model[[(5, 2), 'c', 1]] 916.290\n",
      "---> Model[[(5, 2), 'c', 2]] 962.315\n",
      "---> Model[[(5, 2), 't', 0]] 851.733\n",
      "---> Model[[(5, 2), 't', 1]] 1087.922\n",
      "---> Model[[(5, 2), 't', 2]] 825.332\n",
      "---> Model[[(6, 0), 'n', 0]] 831.194\n",
      "---> Model[[(5, 2), 'ct', 0]] 828.674\n",
      "---> Model[[(5, 2), 'ct', 1]] 969.769\n",
      "---> Model[[(5, 2), 'ct', 2]] 822.851\n",
      "---> Model[[(6, 0), 'n', 1]] 741.359\n",
      "---> Model[[(6, 0), 'n', 2]] 914.637\n",
      "---> Model[[(6, 0), 'c', 0]] 835.865\n",
      "---> Model[[(6, 0), 'c', 1]] 798.769\n",
      "---> Model[[(6, 0), 'c', 2]] 954.915\n",
      "---> Model[[(6, 0), 't', 0]] 1531.359\n",
      "---> Model[[(6, 0), 't', 1]] 778.351\n",
      "---> Model[[(6, 0), 't', 2]] 933.112\n",
      "---> Model[[(6, 0), 'ct', 0]] 907.321\n",
      "---> Model[[(6, 0), 'ct', 1]] 785.013\n",
      "---> Model[[(6, 0), 'ct', 2]] 895.990\n",
      "---> Model[[(6, 1), 'n', 0]] 833.121\n",
      "---> Model[[(6, 1), 'n', 1]] 872.557\n",
      "---> Model[[(6, 1), 'n', 2]] 1054.846\n",
      "---> Model[[(6, 1), 'c', 0]] 898.775\n",
      "---> Model[[(6, 1), 'c', 1]] 1082.708\n",
      "---> Model[[(6, 1), 'c', 2]] 935.754\n",
      "---> Model[[(6, 1), 't', 0]] 957.480\n",
      "---> Model[[(6, 1), 't', 1]] 1131.521\n",
      "---> Model[[(6, 1), 't', 2]] 901.612\n",
      "---> Model[[(6, 1), 'ct', 0]] 937.217\n",
      "---> Model[[(6, 1), 'ct', 1]] 1086.907\n",
      "---> Model[[(6, 1), 'ct', 2]] 921.214\n",
      "---> Model[[(6, 2), 'n', 0]] 945.717\n",
      "---> Model[[(6, 2), 'n', 1]] 984.943\n",
      "---> Model[[(6, 2), 'n', 2]] 1156.875\n",
      "---> Model[[(6, 2), 'c', 0]] 961.880\n",
      "---> Model[[(6, 2), 'c', 1]] 976.410\n",
      "---> Model[[(6, 2), 'c', 2]] 1099.800\n",
      "---> Model[[(6, 2), 't', 0]] 1074.438\n",
      "---> Model[[(6, 2), 't', 1]] 1108.535\n",
      "---> Model[[(6, 2), 't', 2]] 1000.040\n",
      "---> Model[[(6, 2), 'ct', 0]] 806.921\n",
      "---> Model[[(7, 0), 'n', 0]] 886.775\n",
      "---> Model[[(6, 2), 'ct', 1]] 1013.033\n",
      "---> Model[[(7, 0), 'n', 1]] 985.822\n",
      "---> Model[[(6, 2), 'ct', 2]] 933.798\n",
      "---> Model[[(7, 0), 'n', 2]] 1206.927\n",
      "---> Model[[(7, 0), 'c', 0]] 837.429\n",
      "---> Model[[(7, 0), 'c', 1]] 1052.268\n",
      "---> Model[[(7, 0), 'c', 2]] 1227.978\n",
      "---> Model[[(7, 0), 't', 0]] 1496.733\n",
      "---> Model[[(7, 0), 't', 1]] 970.812\n",
      "---> Model[[(7, 0), 't', 2]] 1300.576\n",
      "---> Model[[(7, 0), 'ct', 0]] 791.448\n",
      "---> Model[[(7, 0), 'ct', 1]] 990.458\n",
      "---> Model[[(7, 0), 'ct', 2]] 1311.229\n",
      "---> Model[[(7, 1), 'n', 0]] 825.824\n",
      "---> Model[[(7, 1), 'n', 1]] 1078.268\n",
      "---> Model[[(7, 1), 'n', 2]] 1235.873\n",
      "---> Model[[(7, 1), 'c', 1]] 1198.841\n",
      "---> Model[[(7, 1), 'c', 0]] 988.140\n",
      "---> Model[[(7, 1), 'c', 2]] 1176.999\n",
      "---> Model[[(7, 1), 't', 0]] 958.152\n",
      "---> Model[[(7, 1), 't', 1]] 1177.778\n",
      "---> Model[[(7, 1), 't', 2]] 1119.586\n",
      "---> Model[[(7, 1), 'ct', 0]] 1100.858\n",
      "---> Model[[(7, 1), 'ct', 1]] 913.753\n",
      "---> Model[[(7, 1), 'ct', 2]] 1160.073\n",
      "---> Model[[(7, 2), 'n', 0]] 855.530\n",
      "---> Model[[(7, 2), 'n', 1]] 1122.164\n",
      "---> Model[[(7, 2), 'n', 2]] 963.803\n",
      "---> Model[[(7, 2), 'c', 1]] 1015.179\n",
      "---> Model[[(7, 2), 'c', 0]] 949.252\n",
      "---> Model[[(7, 2), 'c', 2]] 1252.435\n",
      "---> Model[[(7, 2), 't', 0]] 965.194\n",
      "---> Model[[(7, 2), 't', 1]] 1076.387\n",
      "---> Model[[(7, 2), 't', 2]] 1268.316\n",
      "---> Model[[(7, 2), 'ct', 0]] 780.312\n",
      "---> Model[[(8, 0), 'n', 0]] 1006.874\n",
      "---> Model[[(7, 2), 'ct', 1]] 1064.543\n",
      "---> Model[[(8, 0), 'n', 1]] 1078.796\n",
      "---> Model[[(7, 2), 'ct', 2]] 1337.621\n",
      "---> Model[[(8, 0), 'n', 2]] 1273.698\n",
      "---> Model[[(8, 0), 'c', 0]] 1051.246\n",
      "---> Model[[(8, 0), 'c', 1]] 1107.673\n",
      "---> Model[[(8, 0), 'c', 2]] 1310.389\n",
      "---> Model[[(8, 0), 't', 0]] 905.040\n",
      "---> Model[[(8, 0), 't', 1]] 1125.049\n",
      "---> Model[[(8, 0), 't', 2]] 1395.725\n",
      "---> Model[[(8, 0), 'ct', 0]] 924.192\n",
      "---> Model[[(8, 0), 'ct', 1]] 1101.392\n",
      "---> Model[[(8, 0), 'ct', 2]] 1463.829\n",
      "---> Model[[(8, 1), 'n', 0]] 1118.212\n",
      "---> Model[[(8, 1), 'n', 1]] 996.327\n",
      "---> Model[[(8, 1), 'n', 2]] 1420.669\n",
      "---> Model[[(8, 1), 'c', 0]] 1394.486\n",
      "---> Model[[(8, 1), 'c', 1]] 1019.646\n",
      "---> Model[[(8, 1), 'c', 2]] 1267.234\n",
      "---> Model[[(8, 1), 't', 0]] 931.505\n",
      "---> Model[[(8, 1), 't', 1]] 1172.806\n",
      "---> Model[[(8, 1), 't', 2]] 1328.187\n",
      "---> Model[[(8, 1), 'ct', 0]] 1037.925\n",
      "---> Model[[(8, 1), 'ct', 1]] 972.624\n",
      "---> Model[[(8, 1), 'ct', 2]] 1410.151\n",
      "---> Model[[(8, 2), 'n', 0]] 872.820\n",
      "---> Model[[(8, 2), 'n', 1]] 1105.810\n",
      "---> Model[[(8, 2), 'n', 2]] 1263.171\n",
      "---> Model[[(8, 2), 'c', 0]] 1079.484\n",
      "---> Model[[(8, 2), 'c', 1]] 1115.280\n",
      "---> Model[[(8, 2), 'c', 2]] 1176.845\n",
      "---> Model[[(8, 2), 't', 0]] 914.859\n",
      "---> Model[[(8, 2), 't', 1]] 1160.482\n",
      "---> Model[[(8, 2), 't', 2]] 1169.012\n",
      "---> Model[[(8, 2), 'ct', 0]] 985.241\n",
      "---> Model[[(9, 0), 'n', 0]] 1340.606\n",
      "---> Model[[(8, 2), 'ct', 1]] 1119.247\n",
      "---> Model[[(9, 0), 'n', 1]] 1038.169\n",
      "---> Model[[(8, 2), 'ct', 2]] 1269.509\n"
     ]
    },
    {
     "name": "stdout",
     "output_type": "stream",
     "text": [
      "---> Model[[(9, 0), 'n', 2]] 1329.297\n",
      "---> Model[[(9, 0), 'c', 0]] 1410.715\n",
      "---> Model[[(9, 0), 'c', 1]] 1083.266\n",
      "---> Model[[(9, 0), 'c', 2]] 1379.005\n",
      "---> Model[[(9, 0), 't', 0]] 1052.484\n",
      "---> Model[[(9, 0), 't', 1]] 1125.396\n",
      "---> Model[[(9, 0), 't', 2]] 1485.035\n",
      "---> Model[[(9, 0), 'ct', 0]] 1060.058\n",
      "---> Model[[(9, 0), 'ct', 1]] 1130.536\n",
      "---> Model[[(9, 0), 'ct', 2]] 1789.303\n",
      "---> Model[[(9, 1), 'n', 0]] 1263.706\n",
      "---> Model[[(9, 1), 'n', 1]] 1124.794\n",
      "---> Model[[(9, 1), 'n', 2]] 1363.087\n",
      "---> Model[[(9, 1), 'c', 0]] 1374.084\n",
      "---> Model[[(9, 1), 'c', 1]] 1179.434\n",
      "---> Model[[(9, 1), 'c', 2]] 1519.913\n",
      "---> Model[[(9, 1), 't', 0]] 1052.210\n",
      "---> Model[[(9, 1), 't', 1]] 1210.678\n",
      "---> Model[[(9, 1), 't', 2]] 1630.466\n",
      "---> Model[[(9, 1), 'ct', 0]] 1092.333\n",
      "---> Model[[(9, 1), 'ct', 1]] 1105.101\n",
      "---> Model[[(9, 1), 'ct', 2]] 1799.019\n",
      "---> Model[[(9, 2), 'n', 0]] 1556.158\n",
      "---> Model[[(9, 2), 'n', 1]] 1040.119\n",
      "---> Model[[(9, 2), 'n', 2]] 1593.012\n",
      "---> Model[[(9, 2), 'c', 0]] 1551.567\n",
      "---> Model[[(9, 2), 'c', 1]] 1090.189\n",
      "---> Model[[(9, 2), 'c', 2]] 1520.504\n",
      "---> Model[[(9, 2), 't', 0]] 940.580\n",
      "---> Model[[(9, 2), 't', 1]] 1131.966\n",
      "---> Model[[(9, 2), 't', 2]] 1574.915\n",
      "---> Model[[(9, 2), 'ct', 0]] 1084.638\n",
      "---> Model[[(10, 0), 'n', 0]] 1301.019\n",
      "---> Model[[(9, 2), 'ct', 1]] 1148.326\n",
      "---> Model[[(10, 0), 'n', 1]] 1145.841\n",
      "---> Model[[(9, 2), 'ct', 2]] 1753.129\n",
      "---> Model[[(10, 0), 'n', 2]] 1352.946\n",
      "---> Model[[(10, 0), 'c', 0]] 1382.787\n",
      "---> Model[[(10, 0), 'c', 1]] 1191.248\n",
      "---> Model[[(10, 0), 'c', 2]] 1434.026\n",
      "---> Model[[(10, 0), 't', 0]] 2470.344\n",
      "---> Model[[(10, 0), 't', 1]] 1275.472\n",
      "---> Model[[(10, 0), 't', 2]] 1383.958\n",
      "---> Model[[(10, 0), 'ct', 0]] 1104.528\n",
      "---> Model[[(10, 0), 'ct', 1]] 1232.712\n",
      "---> Model[[(10, 0), 'ct', 2]] 1352.405\n",
      "---> Model[[(10, 1), 'n', 0]] 1326.125\n",
      "---> Model[[(10, 1), 'n', 1]] 1192.064\n",
      "---> Model[[(10, 1), 'c', 0]] 1384.766\n",
      "---> Model[[(10, 1), 'n', 2]] 1340.814\n",
      "---> Model[[(10, 1), 'c', 1]] 1305.431\n",
      "---> Model[[(10, 1), 'c', 2]] 1414.951\n",
      "---> Model[[(10, 1), 't', 1]] 1421.893\n",
      "---> Model[[(10, 1), 't', 0]] 1342.660\n",
      "---> Model[[(10, 1), 't', 2]] 1575.690\n",
      "---> Model[[(10, 1), 'ct', 0]] 1082.639\n",
      "---> Model[[(10, 1), 'ct', 2]] 1680.557\n",
      "---> Model[[(10, 2), 'n', 0]] 1326.921\n",
      "---> Model[[(10, 1), 'ct', 1]] 1289.038\n",
      "---> Model[[(10, 2), 'n', 1]] 1327.076\n",
      "---> Model[[(10, 2), 'n', 2]] 1367.003\n",
      "---> Model[[(10, 2), 'c', 0]] 1322.747\n",
      "---> Model[[(10, 2), 'c', 1]] 1391.330\n",
      "---> Model[[(10, 2), 'c', 2]] 1442.040\n",
      "---> Model[[(10, 2), 't', 1]] 1464.664\n",
      "---> Model[[(10, 2), 't', 0]] 1492.717\n",
      "---> Model[[(10, 2), 't', 2]] 1431.119\n",
      "---> Model[[(10, 2), 'ct', 0]] 937.628\n",
      "---> Model[[(10, 2), 'ct', 1]] 1153.090\n",
      "---> Model[[(10, 2), 'ct', 2]] 1465.986\n",
      "n_test:7, method:walk, best_cfg parameters are:[(4, 0), 'c', 2], rmse:545.8109230528236\n"
     ]
    }
   ],
   "source": [
    "n_test = 7\n",
    "cfg_list = varmax_configs()\n",
    "method = 'walk'\n",
    "scores = grid_search(df_combined_linkedin[['New','Jobnums']], cfg_list, n_test, method)\n",
    "print('n_test:{}, method:{}, best_cfg parameters are:{}, rmse:{}'.format(n_test,method,scores[0][0],scores[0][1]))\n",
    "#model_summary = model_summary.append({'n_test':n_test, 'validation':method, 'data':'LinkedIn', 'model':'No eXog', 'best_param':scores[0][0], 'rmse':scores[0][1]},ignore_index=True)"
   ]
  },
  {
   "cell_type": "code",
   "execution_count": 44,
   "metadata": {},
   "outputs": [],
   "source": [
    "best_cfg = [(4, 0), 'c', 2]\n",
    "n_test = 7\n",
    "data = df_combined_linkedin[['New','Jobnums']]\n",
    "train, test = train_test_split(data, n_test)\n",
    "yhat_li_varma, error_li_varma = walk_forward_best(data, n_test, best_cfg)"
   ]
  },
  {
   "cell_type": "markdown",
   "metadata": {},
   "source": [
    "### X=Weekend"
   ]
  },
  {
   "cell_type": "code",
   "execution_count": 33,
   "metadata": {},
   "outputs": [
    {
     "name": "stdout",
     "output_type": "stream",
     "text": [
      "---> Model[[(3, 0), 'n', 1]] 1106.956\n",
      "---> Model[[(3, 0), 'c', 0]] 1010.493\n",
      "---> Model[[(3, 0), 'c', 1]] 1294.829\n",
      "---> Model[[(3, 0), 'n', 0]] 984.121\n",
      "---> Model[[(3, 0), 'n', 2]] 1079.605\n",
      "---> Model[[(3, 0), 'c', 2]] 1036.344\n",
      "---> Model[[(3, 0), 't', 1]] 1157.515\n",
      "---> Model[[(3, 0), 't', 0]] 996.400\n",
      "---> Model[[(3, 0), 't', 2]] 1068.134\n",
      "---> Model[[(3, 0), 'ct', 0]] 1015.306\n",
      "---> Model[[(3, 0), 'ct', 1]] 1441.729\n",
      "---> Model[[(3, 0), 'ct', 2]] 1045.534\n",
      "---> Model[[(3, 1), 'n', 0]] 1447.817\n",
      "---> Model[[(3, 1), 'n', 1]] 1217.316\n",
      "---> Model[[(3, 1), 'n', 2]] 660.172\n",
      "---> Model[[(3, 1), 'c', 0]] 1018.167\n",
      "---> Model[[(3, 1), 'c', 1]] 1411.268\n",
      "---> Model[[(3, 1), 'c', 2]] 1360.238\n",
      "---> Model[[(3, 1), 't', 0]] 1007.897\n",
      "---> Model[[(3, 1), 't', 1]] 1401.753\n",
      "---> Model[[(3, 1), 't', 2]] 812.308\n",
      "---> Model[[(3, 1), 'ct', 0]] 1089.646\n",
      "---> Model[[(3, 1), 'ct', 1]] 1310.696\n",
      "---> Model[[(3, 1), 'ct', 2]] 1660.749\n",
      "---> Model[[(3, 2), 'n', 0]] 1107.352\n",
      "---> Model[[(3, 2), 'n', 1]] 1148.127\n",
      "---> Model[[(3, 2), 'n', 2]] 665.454\n",
      "---> Model[[(3, 2), 'c', 0]] 993.597\n",
      "---> Model[[(3, 2), 'c', 1]] 1162.572\n",
      "---> Model[[(3, 2), 'c', 2]] 1370.607\n",
      "---> Model[[(3, 2), 't', 0]] 1009.283\n",
      "---> Model[[(3, 2), 't', 1]] 1185.383\n",
      "---> Model[[(3, 2), 't', 2]] 790.439\n",
      "---> Model[[(3, 2), 'ct', 0]] 989.380\n",
      "---> Model[[(4, 0), 'n', 0]] 1128.518\n",
      "---> Model[[(3, 2), 'ct', 1]] 1336.949\n",
      "---> Model[[(3, 2), 'ct', 2]] 1273.111\n",
      "---> Model[[(4, 0), 'n', 1]] 935.061\n",
      "---> Model[[(4, 0), 'c', 0]] 1173.310\n",
      "---> Model[[(4, 0), 'n', 2]] 709.420\n",
      "---> Model[[(4, 0), 'c', 1]] 1462.871\n",
      "---> Model[[(4, 0), 'c', 2]] 750.648\n",
      "---> Model[[(4, 0), 't', 0]] 1213.542\n",
      "---> Model[[(4, 0), 't', 1]] 1082.370\n",
      "---> Model[[(4, 0), 't', 2]] 690.412\n",
      "---> Model[[(4, 0), 'ct', 0]] 1172.103\n",
      "---> Model[[(4, 0), 'ct', 1]] 1798.760\n",
      "---> Model[[(4, 0), 'ct', 2]] 685.018\n",
      "---> Model[[(4, 1), 'n', 0]] 1274.319\n",
      "---> Model[[(4, 1), 'n', 1]] 1064.826\n",
      "---> Model[[(4, 1), 'n', 2]] 799.407\n",
      "---> Model[[(4, 1), 'c', 0]] 1012.971\n",
      "---> Model[[(4, 1), 'c', 1]] 968.881\n",
      "---> Model[[(4, 1), 'c', 2]] 755.848\n",
      "---> Model[[(4, 1), 't', 0]] 1070.879\n",
      "---> Model[[(4, 1), 't', 1]] 1109.733\n",
      "---> Model[[(4, 1), 't', 2]] 848.450\n",
      "---> Model[[(4, 1), 'ct', 0]] 1083.604\n",
      "---> Model[[(4, 1), 'ct', 1]] 1017.833\n",
      "---> Model[[(4, 1), 'ct', 2]] 890.430\n",
      "---> Model[[(4, 2), 'n', 0]] 1179.803\n",
      "---> Model[[(4, 2), 'n', 1]] 889.344\n",
      "---> Model[[(4, 2), 'n', 2]] 639.246\n",
      "---> Model[[(4, 2), 'c', 0]] 1092.676\n",
      "---> Model[[(4, 2), 'c', 1]] 990.021\n",
      "---> Model[[(4, 2), 'c', 2]] 1010.877\n",
      "---> Model[[(4, 2), 't', 0]] 1096.082\n",
      "---> Model[[(4, 2), 't', 1]] 965.129\n",
      "---> Model[[(4, 2), 't', 2]] 935.906\n",
      "---> Model[[(4, 2), 'ct', 0]] 1102.241\n",
      "---> Model[[(5, 0), 'n', 0]] 845.580\n",
      "---> Model[[(4, 2), 'ct', 1]] 1233.313\n",
      "---> Model[[(4, 2), 'ct', 2]] 1137.577\n",
      "---> Model[[(5, 0), 'n', 1]] 633.520\n",
      "---> Model[[(5, 0), 'c', 0]] 901.594\n",
      "---> Model[[(5, 0), 'n', 2]] 650.669\n",
      "---> Model[[(5, 0), 'c', 1]] 780.860\n",
      "---> Model[[(5, 0), 'c', 2]] 753.726\n",
      "---> Model[[(5, 0), 't', 0]] 1377.595\n",
      "---> Model[[(5, 0), 't', 1]] 728.953\n",
      "---> Model[[(5, 0), 't', 2]] 681.448\n",
      "---> Model[[(5, 0), 'ct', 0]] 955.549\n",
      "---> Model[[(5, 0), 'ct', 1]] 769.989\n",
      "---> Model[[(5, 0), 'ct', 2]] 644.608\n",
      "---> Model[[(5, 1), 'n', 0]] 1149.897\n",
      "---> Model[[(5, 1), 'n', 1]] 924.241\n",
      "---> Model[[(5, 1), 'n', 2]] 591.989\n",
      "---> Model[[(5, 1), 'c', 0]] 821.961\n",
      "---> Model[[(5, 1), 'c', 1]] 900.647\n",
      "---> Model[[(5, 1), 'c', 2]] 606.840\n",
      "---> Model[[(5, 1), 't', 0]] 841.457\n",
      "---> Model[[(5, 1), 't', 1]] 1002.651\n",
      "---> Model[[(5, 1), 't', 2]] 735.475\n",
      "---> Model[[(5, 1), 'ct', 0]] 739.413\n",
      "---> Model[[(5, 1), 'ct', 1]] 891.385\n",
      "---> Model[[(5, 1), 'ct', 2]] 801.078\n",
      "---> Model[[(5, 2), 'n', 0]] 1219.659\n",
      "---> Model[[(5, 2), 'n', 1]] 911.176\n",
      "---> Model[[(5, 2), 'n', 2]] 552.312\n",
      "---> Model[[(5, 2), 'c', 0]] 881.594\n",
      "---> Model[[(5, 2), 'c', 1]] 890.512\n",
      "---> Model[[(5, 2), 'c', 2]] 917.051\n",
      "---> Model[[(5, 2), 't', 0]] 1001.431\n",
      "---> Model[[(5, 2), 't', 1]] 925.674\n",
      "---> Model[[(5, 2), 't', 2]] 955.310\n",
      "---> Model[[(5, 2), 'ct', 0]] 968.460\n",
      "---> Model[[(6, 0), 'n', 0]] 1221.768\n",
      "---> Model[[(5, 2), 'ct', 1]] 876.164\n",
      "---> Model[[(5, 2), 'ct', 2]] 831.163\n",
      "---> Model[[(6, 0), 'n', 1]] 762.308\n",
      "---> Model[[(6, 0), 'c', 0]] 951.676\n",
      "---> Model[[(6, 0), 'n', 2]] 853.715\n",
      "---> Model[[(6, 0), 'c', 1]] 920.894\n",
      "---> Model[[(6, 0), 'c', 2]] 815.253\n",
      "---> Model[[(6, 0), 't', 1]] 866.495\n",
      "---> Model[[(6, 0), 't', 0]] 1816.764\n",
      "---> Model[[(6, 0), 't', 2]] 932.840\n",
      "---> Model[[(6, 0), 'ct', 0]] 1005.615\n",
      "---> Model[[(6, 0), 'ct', 1]] 930.296\n",
      "---> Model[[(6, 0), 'ct', 2]] 787.225\n",
      "---> Model[[(6, 1), 'n', 0]] 1200.222\n",
      "---> Model[[(6, 1), 'n', 1]] 1085.511\n",
      "---> Model[[(6, 1), 'n', 2]] 939.402\n",
      "---> Model[[(6, 1), 'c', 0]] 953.780\n",
      "---> Model[[(6, 1), 'c', 1]] 918.872\n",
      "---> Model[[(6, 1), 'c', 2]] 1084.888\n",
      "---> Model[[(6, 1), 't', 0]] 1083.143\n",
      "---> Model[[(6, 1), 't', 1]] 1124.020\n",
      "---> Model[[(6, 1), 't', 2]] 946.648\n",
      "---> Model[[(6, 1), 'ct', 0]] 842.768\n",
      "---> Model[[(6, 1), 'ct', 1]] 1168.351\n",
      "---> Model[[(6, 1), 'ct', 2]] 1208.388\n",
      "---> Model[[(6, 2), 'n', 0]] 1287.178\n",
      "---> Model[[(6, 2), 'n', 1]] 1061.260\n",
      "---> Model[[(6, 2), 'n', 2]] 697.451\n",
      "---> Model[[(6, 2), 'c', 0]] 1154.021\n",
      "---> Model[[(6, 2), 'c', 1]] 1026.463\n",
      "---> Model[[(6, 2), 'c', 2]] 914.340\n",
      "---> Model[[(6, 2), 't', 0]] 1574.605\n",
      "---> Model[[(6, 2), 't', 1]] 1131.388\n",
      "---> Model[[(6, 2), 't', 2]] 1171.201\n",
      "---> Model[[(6, 2), 'ct', 0]] 775.380\n",
      "---> Model[[(6, 2), 'ct', 1]] 996.786\n",
      "---> Model[[(6, 2), 'ct', 2]] 1222.307\n",
      "---> Model[[(7, 0), 'n', 0]] 1251.213\n",
      "---> Model[[(7, 0), 'n', 1]] 946.152\n",
      "---> Model[[(7, 0), 'n', 2]] 1220.783\n",
      "---> Model[[(7, 0), 'c', 0]] 970.289\n",
      "---> Model[[(7, 0), 'c', 1]] 1082.253\n",
      "---> Model[[(7, 0), 'c', 2]] 1320.569\n",
      "---> Model[[(7, 0), 't', 1]] 1079.159\n",
      "---> Model[[(7, 0), 't', 0]] 1638.802\n",
      "---> Model[[(7, 0), 't', 2]] 1598.625\n",
      "---> Model[[(7, 0), 'ct', 0]] 809.935\n",
      "---> Model[[(7, 0), 'ct', 1]] 1077.840\n",
      "---> Model[[(7, 0), 'ct', 2]] 1517.396\n",
      "---> Model[[(7, 1), 'n', 0]] 1115.813\n",
      "---> Model[[(7, 1), 'n', 1]] 1214.072\n",
      "---> Model[[(7, 1), 'n', 2]] 1235.350\n",
      "---> Model[[(7, 1), 'c', 0]] 935.048\n",
      "---> Model[[(7, 1), 'c', 1]] 1159.669\n",
      "---> Model[[(7, 1), 'c', 2]] 1443.116\n",
      "---> Model[[(7, 1), 't', 0]] 1142.048\n",
      "---> Model[[(7, 1), 't', 1]] 1423.855\n",
      "---> Model[[(7, 1), 't', 2]] 1593.885\n",
      "---> Model[[(7, 1), 'ct', 0]] 1026.728\n",
      "---> Model[[(7, 1), 'ct', 1]] 1001.521\n",
      "---> Model[[(7, 1), 'ct', 2]] 1349.183\n",
      "---> Model[[(7, 2), 'n', 0]] 1200.092\n",
      "---> Model[[(7, 2), 'n', 1]] 1248.981\n",
      "---> Model[[(7, 2), 'n', 2]] 1308.865\n",
      "---> Model[[(7, 2), 'c', 0]] 1118.973\n",
      "---> Model[[(7, 2), 'c', 1]] 919.728\n",
      "---> Model[[(7, 2), 'c', 2]] 1128.870\n",
      "---> Model[[(7, 2), 't', 0]] 1484.722\n",
      "---> Model[[(7, 2), 't', 1]] 1317.292\n",
      "---> Model[[(7, 2), 't', 2]] 1643.691\n",
      "---> Model[[(7, 2), 'ct', 0]] 763.611\n",
      "---> Model[[(8, 0), 'n', 0]] 1123.909\n",
      "---> Model[[(7, 2), 'ct', 1]] 1037.126\n",
      "---> Model[[(7, 2), 'ct', 2]] 1329.218\n",
      "---> Model[[(8, 0), 'n', 1]] 1094.150\n",
      "---> Model[[(8, 0), 'n', 2]] 1298.086\n",
      "---> Model[[(8, 0), 'c', 0]] 1144.909\n",
      "---> Model[[(8, 0), 'c', 1]] 1215.896\n",
      "---> Model[[(8, 0), 'c', 2]] 1846.172\n",
      "---> Model[[(8, 0), 't', 0]] 1008.253\n",
      "---> Model[[(8, 0), 't', 1]] 1163.859\n",
      "---> Model[[(8, 0), 't', 2]] 1532.853\n",
      "---> Model[[(8, 0), 'ct', 0]] 1010.501\n",
      "---> Model[[(8, 0), 'ct', 1]] 1174.678\n",
      "---> Model[[(8, 0), 'ct', 2]] 1727.300\n",
      "---> Model[[(8, 1), 'n', 0]] 1308.585\n",
      "---> Model[[(8, 1), 'n', 1]] 1006.715\n",
      "---> Model[[(8, 1), 'n', 2]] 1396.371\n",
      "---> Model[[(8, 1), 'c', 0]] 1194.120\n",
      "---> Model[[(8, 1), 'c', 1]] 1370.254\n",
      "---> Model[[(8, 1), 'c', 2]] 1715.426\n",
      "---> Model[[(8, 1), 't', 0]] 1084.221\n",
      "---> Model[[(8, 1), 't', 1]] 1118.835\n",
      "---> Model[[(8, 1), 't', 2]] 1415.056\n",
      "---> Model[[(8, 1), 'ct', 0]] 1083.345\n",
      "---> Model[[(8, 1), 'ct', 1]] 1554.668\n",
      "---> Model[[(8, 1), 'ct', 2]] 1660.236\n",
      "---> Model[[(8, 2), 'n', 0]] 1121.510\n",
      "---> Model[[(8, 2), 'n', 1]] 1119.149\n",
      "---> Model[[(8, 2), 'n', 2]] 1114.897\n",
      "---> Model[[(8, 2), 'c', 0]] 1105.227\n",
      "---> Model[[(8, 2), 'c', 1]] 1309.792\n",
      "---> Model[[(8, 2), 'c', 2]] 1695.993\n",
      "---> Model[[(8, 2), 't', 0]] 1053.749\n",
      "---> Model[[(8, 2), 't', 1]] 1185.187\n",
      "---> Model[[(8, 2), 't', 2]] 1583.091\n",
      "---> Model[[(8, 2), 'ct', 0]] 1054.825\n",
      "---> Model[[(8, 2), 'ct', 1]] 1393.621\n",
      "---> Model[[(9, 0), 'n', 0]] 1678.004\n",
      "---> Model[[(8, 2), 'ct', 2]] 1840.839\n"
     ]
    },
    {
     "name": "stdout",
     "output_type": "stream",
     "text": [
      "---> Model[[(9, 0), 'n', 1]] 1059.235\n",
      "---> Model[[(9, 0), 'n', 2]] 1440.584\n",
      "---> Model[[(9, 0), 'c', 0]] 1463.486\n",
      "---> Model[[(9, 0), 'c', 1]] 980.918\n",
      "---> Model[[(9, 0), 'c', 2]] 1460.646\n",
      "---> Model[[(9, 0), 't', 0]] 1236.781\n",
      "---> Model[[(9, 0), 't', 1]] 1138.774\n",
      "---> Model[[(9, 0), 't', 2]] 1264.119\n",
      "---> Model[[(9, 0), 'ct', 0]] 1109.378\n",
      "---> Model[[(9, 0), 'ct', 1]] 1171.097\n",
      "---> Model[[(9, 0), 'ct', 2]] 2101.283\n",
      "---> Model[[(9, 1), 'n', 0]] 2128.447\n",
      "---> Model[[(9, 1), 'n', 1]] 1196.264\n",
      "---> Model[[(9, 1), 'n', 2]] 1596.713\n",
      "---> Model[[(9, 1), 'c', 0]] 1388.028\n",
      "---> Model[[(9, 1), 'c', 1]] 1443.328\n",
      "---> Model[[(9, 1), 'c', 2]] 1834.056\n",
      "---> Model[[(9, 1), 't', 0]] 1346.766\n",
      "---> Model[[(9, 1), 't', 1]] 1387.973\n",
      "---> Model[[(9, 1), 't', 2]] 1421.611\n",
      "---> Model[[(9, 1), 'ct', 0]] 1121.747\n",
      "---> Model[[(9, 1), 'ct', 1]] 1352.379\n",
      "---> Model[[(9, 1), 'ct', 2]] 2251.241\n",
      "---> Model[[(9, 2), 'n', 0]] 1309.684\n",
      "---> Model[[(9, 2), 'n', 1]] 1200.817\n",
      "---> Model[[(9, 2), 'n', 2]] 1751.326\n",
      "---> Model[[(9, 2), 'c', 0]] 1576.834\n",
      "---> Model[[(9, 2), 'c', 1]] 1356.074\n",
      "---> Model[[(9, 2), 'c', 2]] 2249.989\n",
      "---> Model[[(9, 2), 't', 0]] 998.765\n",
      "---> Model[[(9, 2), 't', 1]] 1475.209\n",
      "---> Model[[(9, 2), 't', 2]] 1334.612\n",
      "---> Model[[(9, 2), 'ct', 0]] 1012.656\n",
      "---> Model[[(9, 2), 'ct', 1]] 1242.553\n",
      "---> Model[[(10, 0), 'n', 0]] 1846.933\n",
      "---> Model[[(9, 2), 'ct', 2]] 2215.347\n",
      "---> Model[[(10, 0), 'n', 1]] 1129.415\n",
      "---> Model[[(10, 0), 'n', 2]] 1383.866\n",
      "---> Model[[(10, 0), 'c', 0]] 1424.952\n",
      "---> Model[[(10, 0), 'c', 1]] 1291.713\n",
      "---> Model[[(10, 0), 'c', 2]] 2087.140\n",
      "---> Model[[(10, 0), 't', 0]] 1554.335\n",
      "---> Model[[(10, 0), 't', 1]] 1350.035\n",
      "---> Model[[(10, 0), 't', 2]] 1331.487\n",
      "---> Model[[(10, 0), 'ct', 0]] 1136.814\n",
      "---> Model[[(10, 0), 'ct', 1]] 1352.451\n",
      "---> Model[[(10, 0), 'ct', 2]] 1890.717\n",
      "---> Model[[(10, 1), 'n', 0]] 2215.708\n",
      "---> Model[[(10, 1), 'n', 1]] 1256.780\n",
      "---> Model[[(10, 1), 'n', 2]] 1432.425\n",
      "---> Model[[(10, 1), 'c', 0]] 1436.371\n",
      "---> Model[[(10, 1), 'c', 1]] 1388.168\n",
      "---> Model[[(10, 1), 'c', 2]] 1921.130\n",
      "---> Model[[(10, 1), 't', 0]] 1201.223\n",
      "---> Model[[(10, 1), 't', 1]] 1400.493\n",
      "---> Model[[(10, 1), 't', 2]] 1476.571\n",
      "---> Model[[(10, 1), 'ct', 0]] 1162.785\n",
      "---> Model[[(10, 1), 'ct', 1]] 1550.880\n",
      "---> Model[[(10, 1), 'ct', 2]] 1614.867\n",
      "---> Model[[(10, 2), 'n', 0]] 1541.150\n",
      "---> Model[[(10, 2), 'n', 1]] 1426.645\n",
      "---> Model[[(10, 2), 'n', 2]] 1374.701\n",
      "---> Model[[(10, 2), 'c', 0]] 1445.503\n",
      "---> Model[[(10, 2), 'c', 1]] 1665.409\n",
      "---> Model[[(10, 2), 'c', 2]] 2130.072\n",
      "---> Model[[(10, 2), 't', 0]] 1283.673\n",
      "---> Model[[(10, 2), 't', 1]] 1589.790\n",
      "---> Model[[(10, 2), 't', 2]] 1573.397\n",
      "---> Model[[(10, 2), 'ct', 0]] 989.618\n",
      "---> Model[[(10, 2), 'ct', 1]] 1481.726\n",
      "---> Model[[(10, 2), 'ct', 2]] 1834.703\n",
      "n_test:7, method:walk, best_cfg parameters are:[(5, 2), 'n', 2], rmse:552.3117291268568\n"
     ]
    }
   ],
   "source": [
    "n_test = 7\n",
    "cfg_list = varmax_configs()\n",
    "method = 'walk'\n",
    "scores = grid_search(df_combined_linkedin[['New','Jobnums']], cfg_list, n_test, method,exog=df_combined_linkedin[['Weekend']])\n",
    "print('n_test:{}, method:{}, best_cfg parameters are:{}, rmse:{}'.format(n_test,method,scores[0][0],scores[0][1]))\n",
    "#model_summary = model_summary.append({'n_test':n_test, 'validation':method, 'data':'LinkedIn', 'model':'X=weekend', 'best_param':scores[0][0], 'rmse':scores[0][1]},ignore_index=True)"
   ]
  },
  {
   "cell_type": "code",
   "execution_count": 45,
   "metadata": {},
   "outputs": [],
   "source": [
    "n_test = 7\n",
    "best_cfg = [(5, 2), 'n', 2]\n",
    "data = df_combined_linkedin[['New','Jobnums']]\n",
    "train, test = train_test_split(data, n_test)\n",
    "yhat_li_varmax, error_li_varmax = walk_forward_best(data, n_test, best_cfg, exog=df_combined_linkedin[['Weekend']])"
   ]
  },
  {
   "cell_type": "code",
   "execution_count": 46,
   "metadata": {},
   "outputs": [
    {
     "data": {
      "application/vnd.plotly.v1+json": {
       "config": {
        "plotlyServerURL": "https://plot.ly"
       },
       "data": [
        {
         "mode": "lines+markers",
         "name": "Train",
         "showlegend": false,
         "type": "scatter",
         "x": [
          "2020-06-12T00:00:00",
          "2020-06-13T00:00:00",
          "2020-06-14T00:00:00",
          "2020-06-15T00:00:00",
          "2020-06-16T00:00:00",
          "2020-06-17T00:00:00",
          "2020-06-18T00:00:00",
          "2020-06-19T00:00:00",
          "2020-06-20T00:00:00",
          "2020-06-21T00:00:00",
          "2020-06-22T00:00:00",
          "2020-06-23T00:00:00",
          "2020-06-24T00:00:00",
          "2020-06-25T00:00:00",
          "2020-06-26T00:00:00",
          "2020-06-27T00:00:00",
          "2020-06-28T00:00:00",
          "2020-06-29T00:00:00",
          "2020-06-30T00:00:00",
          "2020-07-01T00:00:00",
          "2020-07-02T00:00:00",
          "2020-07-03T00:00:00",
          "2020-07-04T00:00:00",
          "2020-07-05T00:00:00",
          "2020-07-06T00:00:00",
          "2020-07-07T00:00:00",
          "2020-07-08T00:00:00",
          "2020-07-09T00:00:00",
          "2020-07-10T00:00:00",
          "2020-07-11T00:00:00",
          "2020-07-12T00:00:00",
          "2020-07-13T00:00:00",
          "2020-07-14T00:00:00",
          "2020-07-15T00:00:00",
          "2020-07-16T00:00:00",
          "2020-07-17T00:00:00",
          "2020-07-18T00:00:00",
          "2020-07-19T00:00:00",
          "2020-07-20T00:00:00",
          "2020-07-21T00:00:00",
          "2020-07-22T00:00:00",
          "2020-07-23T00:00:00",
          "2020-07-24T00:00:00",
          "2020-07-25T00:00:00",
          "2020-07-26T00:00:00",
          "2020-07-27T00:00:00",
          "2020-07-28T00:00:00",
          "2020-07-29T00:00:00",
          "2020-07-30T00:00:00",
          "2020-07-31T00:00:00",
          "2020-08-01T00:00:00",
          "2020-08-02T00:00:00",
          "2020-08-03T00:00:00",
          "2020-08-04T00:00:00",
          "2020-08-05T00:00:00",
          "2020-08-06T00:00:00",
          "2020-08-07T00:00:00",
          "2020-08-08T00:00:00"
         ],
         "xaxis": "x",
         "y": [
          773,
          630,
          740,
          675,
          962,
          1554,
          1997,
          1636,
          1055,
          970,
          2141,
          2388,
          2110,
          2686,
          2805,
          2240,
          1193,
          1488,
          1938,
          2586,
          4784,
          2309,
          1196,
          1093,
          1749,
          2762,
          3596,
          4852,
          5483,
          2991,
          5396,
          5279,
          5559,
          4486,
          4928,
          6120,
          4148,
          3075,
          4381,
          5275,
          5328,
          3314,
          3217,
          2051,
          920,
          1976,
          3118,
          3185,
          3947,
          4505,
          4154,
          4800,
          5869,
          5363,
          6510,
          4154,
          3147,
          3954
         ],
         "yaxis": "y"
        },
        {
         "line": {
          "color": "green"
         },
         "mode": "lines+markers",
         "name": "Test",
         "showlegend": false,
         "type": "scatter",
         "x": [
          "2020-08-09T00:00:00",
          "2020-08-10T00:00:00",
          "2020-08-11T00:00:00",
          "2020-08-12T00:00:00",
          "2020-08-13T00:00:00",
          "2020-08-14T00:00:00",
          "2020-08-15T00:00:00"
         ],
         "xaxis": "x2",
         "y": [
          5302,
          3641,
          3633,
          4252,
          5754,
          4204,
          3821
         ],
         "yaxis": "y2"
        },
        {
         "line": {
          "color": "red"
         },
         "mode": "lines+markers",
         "name": "Prediction",
         "showlegend": false,
         "type": "scatter",
         "x": [
          "2020-08-09T00:00:00",
          "2020-08-10T00:00:00",
          "2020-08-11T00:00:00",
          "2020-08-12T00:00:00",
          "2020-08-13T00:00:00",
          "2020-08-14T00:00:00",
          "2020-08-15T00:00:00"
         ],
         "xaxis": "x2",
         "y": [
          4435.994632367946,
          3946.6762558809714,
          3904.2144532641382,
          4244.078643275776,
          4853.94638486132,
          4565.695900355845,
          4297.889100189278
         ],
         "yaxis": "y2"
        },
        {
         "line": {
          "color": "green"
         },
         "mode": "lines+markers",
         "name": "Test",
         "showlegend": true,
         "type": "scatter",
         "x": [
          "2020-08-09T00:00:00",
          "2020-08-10T00:00:00",
          "2020-08-11T00:00:00",
          "2020-08-12T00:00:00",
          "2020-08-13T00:00:00",
          "2020-08-14T00:00:00",
          "2020-08-15T00:00:00"
         ],
         "xaxis": "x3",
         "y": [
          5302,
          3641,
          3633,
          4252,
          5754,
          4204,
          3821
         ],
         "yaxis": "y3"
        },
        {
         "line": {
          "color": "red"
         },
         "mode": "lines+markers",
         "name": "Prediction",
         "showlegend": true,
         "type": "scatter",
         "x": [
          "2020-08-09T00:00:00",
          "2020-08-10T00:00:00",
          "2020-08-11T00:00:00",
          "2020-08-12T00:00:00",
          "2020-08-13T00:00:00",
          "2020-08-14T00:00:00",
          "2020-08-15T00:00:00"
         ],
         "xaxis": "x3",
         "y": [
          4469.1708709115765,
          3896.6000941005996,
          4472.943029524645,
          4318.414832165306,
          5219.158473016888,
          4289.091613408227,
          4393.512352465028
         ],
         "yaxis": "y3"
        }
       ],
       "layout": {
        "annotations": [
         {
          "font": {
           "size": 16
          },
          "showarrow": false,
          "text": "Train data",
          "x": 0.5,
          "xanchor": "center",
          "xref": "paper",
          "y": 1,
          "yanchor": "bottom",
          "yref": "paper"
         },
         {
          "font": {
           "size": 16
          },
          "showarrow": false,
          "text": "No eXog, RMSE: 545.81",
          "x": 0.225,
          "xanchor": "center",
          "xref": "paper",
          "y": 0.375,
          "yanchor": "bottom",
          "yref": "paper"
         },
         {
          "font": {
           "size": 16
          },
          "showarrow": false,
          "text": "X=Weekend, RMSE: 546.41",
          "x": 0.775,
          "xanchor": "center",
          "xref": "paper",
          "y": 0.375,
          "yanchor": "bottom",
          "yref": "paper"
         }
        ],
        "legend": {
         "x": 1,
         "y": 0.25
        },
        "template": {
         "data": {
          "bar": [
           {
            "error_x": {
             "color": "#2a3f5f"
            },
            "error_y": {
             "color": "#2a3f5f"
            },
            "marker": {
             "line": {
              "color": "#E5ECF6",
              "width": 0.5
             }
            },
            "type": "bar"
           }
          ],
          "barpolar": [
           {
            "marker": {
             "line": {
              "color": "#E5ECF6",
              "width": 0.5
             }
            },
            "type": "barpolar"
           }
          ],
          "carpet": [
           {
            "aaxis": {
             "endlinecolor": "#2a3f5f",
             "gridcolor": "white",
             "linecolor": "white",
             "minorgridcolor": "white",
             "startlinecolor": "#2a3f5f"
            },
            "baxis": {
             "endlinecolor": "#2a3f5f",
             "gridcolor": "white",
             "linecolor": "white",
             "minorgridcolor": "white",
             "startlinecolor": "#2a3f5f"
            },
            "type": "carpet"
           }
          ],
          "choropleth": [
           {
            "colorbar": {
             "outlinewidth": 0,
             "ticks": ""
            },
            "type": "choropleth"
           }
          ],
          "contour": [
           {
            "colorbar": {
             "outlinewidth": 0,
             "ticks": ""
            },
            "colorscale": [
             [
              0,
              "#0d0887"
             ],
             [
              0.1111111111111111,
              "#46039f"
             ],
             [
              0.2222222222222222,
              "#7201a8"
             ],
             [
              0.3333333333333333,
              "#9c179e"
             ],
             [
              0.4444444444444444,
              "#bd3786"
             ],
             [
              0.5555555555555556,
              "#d8576b"
             ],
             [
              0.6666666666666666,
              "#ed7953"
             ],
             [
              0.7777777777777778,
              "#fb9f3a"
             ],
             [
              0.8888888888888888,
              "#fdca26"
             ],
             [
              1,
              "#f0f921"
             ]
            ],
            "type": "contour"
           }
          ],
          "contourcarpet": [
           {
            "colorbar": {
             "outlinewidth": 0,
             "ticks": ""
            },
            "type": "contourcarpet"
           }
          ],
          "heatmap": [
           {
            "colorbar": {
             "outlinewidth": 0,
             "ticks": ""
            },
            "colorscale": [
             [
              0,
              "#0d0887"
             ],
             [
              0.1111111111111111,
              "#46039f"
             ],
             [
              0.2222222222222222,
              "#7201a8"
             ],
             [
              0.3333333333333333,
              "#9c179e"
             ],
             [
              0.4444444444444444,
              "#bd3786"
             ],
             [
              0.5555555555555556,
              "#d8576b"
             ],
             [
              0.6666666666666666,
              "#ed7953"
             ],
             [
              0.7777777777777778,
              "#fb9f3a"
             ],
             [
              0.8888888888888888,
              "#fdca26"
             ],
             [
              1,
              "#f0f921"
             ]
            ],
            "type": "heatmap"
           }
          ],
          "heatmapgl": [
           {
            "colorbar": {
             "outlinewidth": 0,
             "ticks": ""
            },
            "colorscale": [
             [
              0,
              "#0d0887"
             ],
             [
              0.1111111111111111,
              "#46039f"
             ],
             [
              0.2222222222222222,
              "#7201a8"
             ],
             [
              0.3333333333333333,
              "#9c179e"
             ],
             [
              0.4444444444444444,
              "#bd3786"
             ],
             [
              0.5555555555555556,
              "#d8576b"
             ],
             [
              0.6666666666666666,
              "#ed7953"
             ],
             [
              0.7777777777777778,
              "#fb9f3a"
             ],
             [
              0.8888888888888888,
              "#fdca26"
             ],
             [
              1,
              "#f0f921"
             ]
            ],
            "type": "heatmapgl"
           }
          ],
          "histogram": [
           {
            "marker": {
             "colorbar": {
              "outlinewidth": 0,
              "ticks": ""
             }
            },
            "type": "histogram"
           }
          ],
          "histogram2d": [
           {
            "colorbar": {
             "outlinewidth": 0,
             "ticks": ""
            },
            "colorscale": [
             [
              0,
              "#0d0887"
             ],
             [
              0.1111111111111111,
              "#46039f"
             ],
             [
              0.2222222222222222,
              "#7201a8"
             ],
             [
              0.3333333333333333,
              "#9c179e"
             ],
             [
              0.4444444444444444,
              "#bd3786"
             ],
             [
              0.5555555555555556,
              "#d8576b"
             ],
             [
              0.6666666666666666,
              "#ed7953"
             ],
             [
              0.7777777777777778,
              "#fb9f3a"
             ],
             [
              0.8888888888888888,
              "#fdca26"
             ],
             [
              1,
              "#f0f921"
             ]
            ],
            "type": "histogram2d"
           }
          ],
          "histogram2dcontour": [
           {
            "colorbar": {
             "outlinewidth": 0,
             "ticks": ""
            },
            "colorscale": [
             [
              0,
              "#0d0887"
             ],
             [
              0.1111111111111111,
              "#46039f"
             ],
             [
              0.2222222222222222,
              "#7201a8"
             ],
             [
              0.3333333333333333,
              "#9c179e"
             ],
             [
              0.4444444444444444,
              "#bd3786"
             ],
             [
              0.5555555555555556,
              "#d8576b"
             ],
             [
              0.6666666666666666,
              "#ed7953"
             ],
             [
              0.7777777777777778,
              "#fb9f3a"
             ],
             [
              0.8888888888888888,
              "#fdca26"
             ],
             [
              1,
              "#f0f921"
             ]
            ],
            "type": "histogram2dcontour"
           }
          ],
          "mesh3d": [
           {
            "colorbar": {
             "outlinewidth": 0,
             "ticks": ""
            },
            "type": "mesh3d"
           }
          ],
          "parcoords": [
           {
            "line": {
             "colorbar": {
              "outlinewidth": 0,
              "ticks": ""
             }
            },
            "type": "parcoords"
           }
          ],
          "pie": [
           {
            "automargin": true,
            "type": "pie"
           }
          ],
          "scatter": [
           {
            "marker": {
             "colorbar": {
              "outlinewidth": 0,
              "ticks": ""
             }
            },
            "type": "scatter"
           }
          ],
          "scatter3d": [
           {
            "line": {
             "colorbar": {
              "outlinewidth": 0,
              "ticks": ""
             }
            },
            "marker": {
             "colorbar": {
              "outlinewidth": 0,
              "ticks": ""
             }
            },
            "type": "scatter3d"
           }
          ],
          "scattercarpet": [
           {
            "marker": {
             "colorbar": {
              "outlinewidth": 0,
              "ticks": ""
             }
            },
            "type": "scattercarpet"
           }
          ],
          "scattergeo": [
           {
            "marker": {
             "colorbar": {
              "outlinewidth": 0,
              "ticks": ""
             }
            },
            "type": "scattergeo"
           }
          ],
          "scattergl": [
           {
            "marker": {
             "colorbar": {
              "outlinewidth": 0,
              "ticks": ""
             }
            },
            "type": "scattergl"
           }
          ],
          "scattermapbox": [
           {
            "marker": {
             "colorbar": {
              "outlinewidth": 0,
              "ticks": ""
             }
            },
            "type": "scattermapbox"
           }
          ],
          "scatterpolar": [
           {
            "marker": {
             "colorbar": {
              "outlinewidth": 0,
              "ticks": ""
             }
            },
            "type": "scatterpolar"
           }
          ],
          "scatterpolargl": [
           {
            "marker": {
             "colorbar": {
              "outlinewidth": 0,
              "ticks": ""
             }
            },
            "type": "scatterpolargl"
           }
          ],
          "scatterternary": [
           {
            "marker": {
             "colorbar": {
              "outlinewidth": 0,
              "ticks": ""
             }
            },
            "type": "scatterternary"
           }
          ],
          "surface": [
           {
            "colorbar": {
             "outlinewidth": 0,
             "ticks": ""
            },
            "colorscale": [
             [
              0,
              "#0d0887"
             ],
             [
              0.1111111111111111,
              "#46039f"
             ],
             [
              0.2222222222222222,
              "#7201a8"
             ],
             [
              0.3333333333333333,
              "#9c179e"
             ],
             [
              0.4444444444444444,
              "#bd3786"
             ],
             [
              0.5555555555555556,
              "#d8576b"
             ],
             [
              0.6666666666666666,
              "#ed7953"
             ],
             [
              0.7777777777777778,
              "#fb9f3a"
             ],
             [
              0.8888888888888888,
              "#fdca26"
             ],
             [
              1,
              "#f0f921"
             ]
            ],
            "type": "surface"
           }
          ],
          "table": [
           {
            "cells": {
             "fill": {
              "color": "#EBF0F8"
             },
             "line": {
              "color": "white"
             }
            },
            "header": {
             "fill": {
              "color": "#C8D4E3"
             },
             "line": {
              "color": "white"
             }
            },
            "type": "table"
           }
          ]
         },
         "layout": {
          "annotationdefaults": {
           "arrowcolor": "#2a3f5f",
           "arrowhead": 0,
           "arrowwidth": 1
          },
          "coloraxis": {
           "colorbar": {
            "outlinewidth": 0,
            "ticks": ""
           }
          },
          "colorscale": {
           "diverging": [
            [
             0,
             "#8e0152"
            ],
            [
             0.1,
             "#c51b7d"
            ],
            [
             0.2,
             "#de77ae"
            ],
            [
             0.3,
             "#f1b6da"
            ],
            [
             0.4,
             "#fde0ef"
            ],
            [
             0.5,
             "#f7f7f7"
            ],
            [
             0.6,
             "#e6f5d0"
            ],
            [
             0.7,
             "#b8e186"
            ],
            [
             0.8,
             "#7fbc41"
            ],
            [
             0.9,
             "#4d9221"
            ],
            [
             1,
             "#276419"
            ]
           ],
           "sequential": [
            [
             0,
             "#0d0887"
            ],
            [
             0.1111111111111111,
             "#46039f"
            ],
            [
             0.2222222222222222,
             "#7201a8"
            ],
            [
             0.3333333333333333,
             "#9c179e"
            ],
            [
             0.4444444444444444,
             "#bd3786"
            ],
            [
             0.5555555555555556,
             "#d8576b"
            ],
            [
             0.6666666666666666,
             "#ed7953"
            ],
            [
             0.7777777777777778,
             "#fb9f3a"
            ],
            [
             0.8888888888888888,
             "#fdca26"
            ],
            [
             1,
             "#f0f921"
            ]
           ],
           "sequentialminus": [
            [
             0,
             "#0d0887"
            ],
            [
             0.1111111111111111,
             "#46039f"
            ],
            [
             0.2222222222222222,
             "#7201a8"
            ],
            [
             0.3333333333333333,
             "#9c179e"
            ],
            [
             0.4444444444444444,
             "#bd3786"
            ],
            [
             0.5555555555555556,
             "#d8576b"
            ],
            [
             0.6666666666666666,
             "#ed7953"
            ],
            [
             0.7777777777777778,
             "#fb9f3a"
            ],
            [
             0.8888888888888888,
             "#fdca26"
            ],
            [
             1,
             "#f0f921"
            ]
           ]
          },
          "colorway": [
           "#636efa",
           "#EF553B",
           "#00cc96",
           "#ab63fa",
           "#FFA15A",
           "#19d3f3",
           "#FF6692",
           "#B6E880",
           "#FF97FF",
           "#FECB52"
          ],
          "font": {
           "color": "#2a3f5f"
          },
          "geo": {
           "bgcolor": "white",
           "lakecolor": "white",
           "landcolor": "#E5ECF6",
           "showlakes": true,
           "showland": true,
           "subunitcolor": "white"
          },
          "hoverlabel": {
           "align": "left"
          },
          "hovermode": "closest",
          "mapbox": {
           "style": "light"
          },
          "paper_bgcolor": "white",
          "plot_bgcolor": "#E5ECF6",
          "polar": {
           "angularaxis": {
            "gridcolor": "white",
            "linecolor": "white",
            "ticks": ""
           },
           "bgcolor": "#E5ECF6",
           "radialaxis": {
            "gridcolor": "white",
            "linecolor": "white",
            "ticks": ""
           }
          },
          "scene": {
           "xaxis": {
            "backgroundcolor": "#E5ECF6",
            "gridcolor": "white",
            "gridwidth": 2,
            "linecolor": "white",
            "showbackground": true,
            "ticks": "",
            "zerolinecolor": "white"
           },
           "yaxis": {
            "backgroundcolor": "#E5ECF6",
            "gridcolor": "white",
            "gridwidth": 2,
            "linecolor": "white",
            "showbackground": true,
            "ticks": "",
            "zerolinecolor": "white"
           },
           "zaxis": {
            "backgroundcolor": "#E5ECF6",
            "gridcolor": "white",
            "gridwidth": 2,
            "linecolor": "white",
            "showbackground": true,
            "ticks": "",
            "zerolinecolor": "white"
           }
          },
          "shapedefaults": {
           "line": {
            "color": "#2a3f5f"
           }
          },
          "ternary": {
           "aaxis": {
            "gridcolor": "white",
            "linecolor": "white",
            "ticks": ""
           },
           "baxis": {
            "gridcolor": "white",
            "linecolor": "white",
            "ticks": ""
           },
           "bgcolor": "#E5ECF6",
           "caxis": {
            "gridcolor": "white",
            "linecolor": "white",
            "ticks": ""
           }
          },
          "title": {
           "x": 0.05
          },
          "xaxis": {
           "automargin": true,
           "gridcolor": "white",
           "linecolor": "white",
           "ticks": "",
           "title": {
            "standoff": 15
           },
           "zerolinecolor": "white",
           "zerolinewidth": 2
          },
          "yaxis": {
           "automargin": true,
           "gridcolor": "white",
           "linecolor": "white",
           "ticks": "",
           "title": {
            "standoff": 15
           },
           "zerolinecolor": "white",
           "zerolinewidth": 2
          }
         }
        },
        "title": {
         "text": "LinkedIn Software Engineer Job Openings Forecast via VARMAX Model"
        },
        "xaxis": {
         "anchor": "y",
         "domain": [
          0,
          1
         ]
        },
        "xaxis2": {
         "anchor": "y2",
         "domain": [
          0,
          0.45
         ]
        },
        "xaxis3": {
         "anchor": "y3",
         "domain": [
          0.55,
          1
         ]
        },
        "yaxis": {
         "anchor": "x",
         "domain": [
          0.625,
          1
         ]
        },
        "yaxis2": {
         "anchor": "x2",
         "domain": [
          0,
          0.375
         ]
        },
        "yaxis3": {
         "anchor": "x3",
         "domain": [
          0,
          0.375
         ]
        }
       }
      },
      "text/html": [
       "<div>\n",
       "        \n",
       "        \n",
       "            <div id=\"3ae0d165-b4ef-4773-ac49-310340b3beaf\" class=\"plotly-graph-div\" style=\"height:525px; width:100%;\"></div>\n",
       "            <script type=\"text/javascript\">\n",
       "                require([\"plotly\"], function(Plotly) {\n",
       "                    window.PLOTLYENV=window.PLOTLYENV || {};\n",
       "                    \n",
       "                if (document.getElementById(\"3ae0d165-b4ef-4773-ac49-310340b3beaf\")) {\n",
       "                    Plotly.newPlot(\n",
       "                        '3ae0d165-b4ef-4773-ac49-310340b3beaf',\n",
       "                        [{\"mode\": \"lines+markers\", \"name\": \"Train\", \"showlegend\": false, \"type\": \"scatter\", \"x\": [\"2020-06-12T00:00:00\", \"2020-06-13T00:00:00\", \"2020-06-14T00:00:00\", \"2020-06-15T00:00:00\", \"2020-06-16T00:00:00\", \"2020-06-17T00:00:00\", \"2020-06-18T00:00:00\", \"2020-06-19T00:00:00\", \"2020-06-20T00:00:00\", \"2020-06-21T00:00:00\", \"2020-06-22T00:00:00\", \"2020-06-23T00:00:00\", \"2020-06-24T00:00:00\", \"2020-06-25T00:00:00\", \"2020-06-26T00:00:00\", \"2020-06-27T00:00:00\", \"2020-06-28T00:00:00\", \"2020-06-29T00:00:00\", \"2020-06-30T00:00:00\", \"2020-07-01T00:00:00\", \"2020-07-02T00:00:00\", \"2020-07-03T00:00:00\", \"2020-07-04T00:00:00\", \"2020-07-05T00:00:00\", \"2020-07-06T00:00:00\", \"2020-07-07T00:00:00\", \"2020-07-08T00:00:00\", \"2020-07-09T00:00:00\", \"2020-07-10T00:00:00\", \"2020-07-11T00:00:00\", \"2020-07-12T00:00:00\", \"2020-07-13T00:00:00\", \"2020-07-14T00:00:00\", \"2020-07-15T00:00:00\", \"2020-07-16T00:00:00\", \"2020-07-17T00:00:00\", \"2020-07-18T00:00:00\", \"2020-07-19T00:00:00\", \"2020-07-20T00:00:00\", \"2020-07-21T00:00:00\", \"2020-07-22T00:00:00\", \"2020-07-23T00:00:00\", \"2020-07-24T00:00:00\", \"2020-07-25T00:00:00\", \"2020-07-26T00:00:00\", \"2020-07-27T00:00:00\", \"2020-07-28T00:00:00\", \"2020-07-29T00:00:00\", \"2020-07-30T00:00:00\", \"2020-07-31T00:00:00\", \"2020-08-01T00:00:00\", \"2020-08-02T00:00:00\", \"2020-08-03T00:00:00\", \"2020-08-04T00:00:00\", \"2020-08-05T00:00:00\", \"2020-08-06T00:00:00\", \"2020-08-07T00:00:00\", \"2020-08-08T00:00:00\"], \"xaxis\": \"x\", \"y\": [773, 630, 740, 675, 962, 1554, 1997, 1636, 1055, 970, 2141, 2388, 2110, 2686, 2805, 2240, 1193, 1488, 1938, 2586, 4784, 2309, 1196, 1093, 1749, 2762, 3596, 4852, 5483, 2991, 5396, 5279, 5559, 4486, 4928, 6120, 4148, 3075, 4381, 5275, 5328, 3314, 3217, 2051, 920, 1976, 3118, 3185, 3947, 4505, 4154, 4800, 5869, 5363, 6510, 4154, 3147, 3954], \"yaxis\": \"y\"}, {\"line\": {\"color\": \"green\"}, \"mode\": \"lines+markers\", \"name\": \"Test\", \"showlegend\": false, \"type\": \"scatter\", \"x\": [\"2020-08-09T00:00:00\", \"2020-08-10T00:00:00\", \"2020-08-11T00:00:00\", \"2020-08-12T00:00:00\", \"2020-08-13T00:00:00\", \"2020-08-14T00:00:00\", \"2020-08-15T00:00:00\"], \"xaxis\": \"x2\", \"y\": [5302, 3641, 3633, 4252, 5754, 4204, 3821], \"yaxis\": \"y2\"}, {\"line\": {\"color\": \"red\"}, \"mode\": \"lines+markers\", \"name\": \"Prediction\", \"showlegend\": false, \"type\": \"scatter\", \"x\": [\"2020-08-09T00:00:00\", \"2020-08-10T00:00:00\", \"2020-08-11T00:00:00\", \"2020-08-12T00:00:00\", \"2020-08-13T00:00:00\", \"2020-08-14T00:00:00\", \"2020-08-15T00:00:00\"], \"xaxis\": \"x2\", \"y\": [4435.994632367946, 3946.6762558809714, 3904.2144532641382, 4244.078643275776, 4853.94638486132, 4565.695900355845, 4297.889100189278], \"yaxis\": \"y2\"}, {\"line\": {\"color\": \"green\"}, \"mode\": \"lines+markers\", \"name\": \"Test\", \"showlegend\": true, \"type\": \"scatter\", \"x\": [\"2020-08-09T00:00:00\", \"2020-08-10T00:00:00\", \"2020-08-11T00:00:00\", \"2020-08-12T00:00:00\", \"2020-08-13T00:00:00\", \"2020-08-14T00:00:00\", \"2020-08-15T00:00:00\"], \"xaxis\": \"x3\", \"y\": [5302, 3641, 3633, 4252, 5754, 4204, 3821], \"yaxis\": \"y3\"}, {\"line\": {\"color\": \"red\"}, \"mode\": \"lines+markers\", \"name\": \"Prediction\", \"showlegend\": true, \"type\": \"scatter\", \"x\": [\"2020-08-09T00:00:00\", \"2020-08-10T00:00:00\", \"2020-08-11T00:00:00\", \"2020-08-12T00:00:00\", \"2020-08-13T00:00:00\", \"2020-08-14T00:00:00\", \"2020-08-15T00:00:00\"], \"xaxis\": \"x3\", \"y\": [4469.1708709115765, 3896.6000941005996, 4472.943029524645, 4318.414832165306, 5219.158473016888, 4289.091613408227, 4393.512352465028], \"yaxis\": \"y3\"}],\n",
       "                        {\"annotations\": [{\"font\": {\"size\": 16}, \"showarrow\": false, \"text\": \"Train data\", \"x\": 0.5, \"xanchor\": \"center\", \"xref\": \"paper\", \"y\": 1.0, \"yanchor\": \"bottom\", \"yref\": \"paper\"}, {\"font\": {\"size\": 16}, \"showarrow\": false, \"text\": \"No eXog, RMSE: 545.81\", \"x\": 0.225, \"xanchor\": \"center\", \"xref\": \"paper\", \"y\": 0.375, \"yanchor\": \"bottom\", \"yref\": \"paper\"}, {\"font\": {\"size\": 16}, \"showarrow\": false, \"text\": \"X=Weekend, RMSE: 546.41\", \"x\": 0.775, \"xanchor\": \"center\", \"xref\": \"paper\", \"y\": 0.375, \"yanchor\": \"bottom\", \"yref\": \"paper\"}], \"legend\": {\"x\": 1, \"y\": 0.25}, \"template\": {\"data\": {\"bar\": [{\"error_x\": {\"color\": \"#2a3f5f\"}, \"error_y\": {\"color\": \"#2a3f5f\"}, \"marker\": {\"line\": {\"color\": \"#E5ECF6\", \"width\": 0.5}}, \"type\": \"bar\"}], \"barpolar\": [{\"marker\": {\"line\": {\"color\": \"#E5ECF6\", \"width\": 0.5}}, \"type\": \"barpolar\"}], \"carpet\": [{\"aaxis\": {\"endlinecolor\": \"#2a3f5f\", \"gridcolor\": \"white\", \"linecolor\": \"white\", \"minorgridcolor\": \"white\", \"startlinecolor\": \"#2a3f5f\"}, \"baxis\": {\"endlinecolor\": \"#2a3f5f\", \"gridcolor\": \"white\", \"linecolor\": \"white\", \"minorgridcolor\": \"white\", \"startlinecolor\": \"#2a3f5f\"}, \"type\": \"carpet\"}], \"choropleth\": [{\"colorbar\": {\"outlinewidth\": 0, \"ticks\": \"\"}, \"type\": \"choropleth\"}], \"contour\": [{\"colorbar\": {\"outlinewidth\": 0, \"ticks\": \"\"}, \"colorscale\": [[0.0, \"#0d0887\"], [0.1111111111111111, \"#46039f\"], [0.2222222222222222, \"#7201a8\"], [0.3333333333333333, \"#9c179e\"], [0.4444444444444444, \"#bd3786\"], [0.5555555555555556, \"#d8576b\"], [0.6666666666666666, \"#ed7953\"], [0.7777777777777778, \"#fb9f3a\"], [0.8888888888888888, \"#fdca26\"], [1.0, \"#f0f921\"]], \"type\": \"contour\"}], \"contourcarpet\": [{\"colorbar\": {\"outlinewidth\": 0, \"ticks\": \"\"}, \"type\": \"contourcarpet\"}], \"heatmap\": [{\"colorbar\": {\"outlinewidth\": 0, \"ticks\": \"\"}, \"colorscale\": [[0.0, \"#0d0887\"], [0.1111111111111111, \"#46039f\"], [0.2222222222222222, \"#7201a8\"], [0.3333333333333333, \"#9c179e\"], [0.4444444444444444, \"#bd3786\"], [0.5555555555555556, \"#d8576b\"], [0.6666666666666666, \"#ed7953\"], [0.7777777777777778, \"#fb9f3a\"], [0.8888888888888888, \"#fdca26\"], [1.0, \"#f0f921\"]], \"type\": \"heatmap\"}], \"heatmapgl\": [{\"colorbar\": {\"outlinewidth\": 0, \"ticks\": \"\"}, \"colorscale\": [[0.0, \"#0d0887\"], [0.1111111111111111, \"#46039f\"], [0.2222222222222222, \"#7201a8\"], [0.3333333333333333, \"#9c179e\"], [0.4444444444444444, \"#bd3786\"], [0.5555555555555556, \"#d8576b\"], [0.6666666666666666, \"#ed7953\"], [0.7777777777777778, \"#fb9f3a\"], [0.8888888888888888, \"#fdca26\"], [1.0, \"#f0f921\"]], \"type\": \"heatmapgl\"}], \"histogram\": [{\"marker\": {\"colorbar\": {\"outlinewidth\": 0, \"ticks\": \"\"}}, \"type\": \"histogram\"}], \"histogram2d\": [{\"colorbar\": {\"outlinewidth\": 0, \"ticks\": \"\"}, \"colorscale\": [[0.0, \"#0d0887\"], [0.1111111111111111, \"#46039f\"], [0.2222222222222222, \"#7201a8\"], [0.3333333333333333, \"#9c179e\"], [0.4444444444444444, \"#bd3786\"], [0.5555555555555556, \"#d8576b\"], [0.6666666666666666, \"#ed7953\"], [0.7777777777777778, \"#fb9f3a\"], [0.8888888888888888, \"#fdca26\"], [1.0, \"#f0f921\"]], \"type\": \"histogram2d\"}], \"histogram2dcontour\": [{\"colorbar\": {\"outlinewidth\": 0, \"ticks\": \"\"}, \"colorscale\": [[0.0, \"#0d0887\"], [0.1111111111111111, \"#46039f\"], [0.2222222222222222, \"#7201a8\"], [0.3333333333333333, \"#9c179e\"], [0.4444444444444444, \"#bd3786\"], [0.5555555555555556, \"#d8576b\"], [0.6666666666666666, \"#ed7953\"], [0.7777777777777778, \"#fb9f3a\"], [0.8888888888888888, \"#fdca26\"], [1.0, \"#f0f921\"]], \"type\": \"histogram2dcontour\"}], \"mesh3d\": [{\"colorbar\": {\"outlinewidth\": 0, \"ticks\": \"\"}, \"type\": \"mesh3d\"}], \"parcoords\": [{\"line\": {\"colorbar\": {\"outlinewidth\": 0, \"ticks\": \"\"}}, \"type\": \"parcoords\"}], \"pie\": [{\"automargin\": true, \"type\": \"pie\"}], \"scatter\": [{\"marker\": {\"colorbar\": {\"outlinewidth\": 0, \"ticks\": \"\"}}, \"type\": \"scatter\"}], \"scatter3d\": [{\"line\": {\"colorbar\": {\"outlinewidth\": 0, \"ticks\": \"\"}}, \"marker\": {\"colorbar\": {\"outlinewidth\": 0, \"ticks\": \"\"}}, \"type\": \"scatter3d\"}], \"scattercarpet\": [{\"marker\": {\"colorbar\": {\"outlinewidth\": 0, \"ticks\": \"\"}}, \"type\": \"scattercarpet\"}], \"scattergeo\": [{\"marker\": {\"colorbar\": {\"outlinewidth\": 0, \"ticks\": \"\"}}, \"type\": \"scattergeo\"}], \"scattergl\": [{\"marker\": {\"colorbar\": {\"outlinewidth\": 0, \"ticks\": \"\"}}, \"type\": \"scattergl\"}], \"scattermapbox\": [{\"marker\": {\"colorbar\": {\"outlinewidth\": 0, \"ticks\": \"\"}}, \"type\": \"scattermapbox\"}], \"scatterpolar\": [{\"marker\": {\"colorbar\": {\"outlinewidth\": 0, \"ticks\": \"\"}}, \"type\": \"scatterpolar\"}], \"scatterpolargl\": [{\"marker\": {\"colorbar\": {\"outlinewidth\": 0, \"ticks\": \"\"}}, \"type\": \"scatterpolargl\"}], \"scatterternary\": [{\"marker\": {\"colorbar\": {\"outlinewidth\": 0, \"ticks\": \"\"}}, \"type\": \"scatterternary\"}], \"surface\": [{\"colorbar\": {\"outlinewidth\": 0, \"ticks\": \"\"}, \"colorscale\": [[0.0, \"#0d0887\"], [0.1111111111111111, \"#46039f\"], [0.2222222222222222, \"#7201a8\"], [0.3333333333333333, \"#9c179e\"], [0.4444444444444444, \"#bd3786\"], [0.5555555555555556, \"#d8576b\"], [0.6666666666666666, \"#ed7953\"], [0.7777777777777778, \"#fb9f3a\"], [0.8888888888888888, \"#fdca26\"], [1.0, \"#f0f921\"]], \"type\": \"surface\"}], \"table\": [{\"cells\": {\"fill\": {\"color\": \"#EBF0F8\"}, \"line\": {\"color\": \"white\"}}, \"header\": {\"fill\": {\"color\": \"#C8D4E3\"}, \"line\": {\"color\": \"white\"}}, \"type\": \"table\"}]}, \"layout\": {\"annotationdefaults\": {\"arrowcolor\": \"#2a3f5f\", \"arrowhead\": 0, \"arrowwidth\": 1}, \"coloraxis\": {\"colorbar\": {\"outlinewidth\": 0, \"ticks\": \"\"}}, \"colorscale\": {\"diverging\": [[0, \"#8e0152\"], [0.1, \"#c51b7d\"], [0.2, \"#de77ae\"], [0.3, \"#f1b6da\"], [0.4, \"#fde0ef\"], [0.5, \"#f7f7f7\"], [0.6, \"#e6f5d0\"], [0.7, \"#b8e186\"], [0.8, \"#7fbc41\"], [0.9, \"#4d9221\"], [1, \"#276419\"]], \"sequential\": [[0.0, \"#0d0887\"], [0.1111111111111111, \"#46039f\"], [0.2222222222222222, \"#7201a8\"], [0.3333333333333333, \"#9c179e\"], [0.4444444444444444, \"#bd3786\"], [0.5555555555555556, \"#d8576b\"], [0.6666666666666666, \"#ed7953\"], [0.7777777777777778, \"#fb9f3a\"], [0.8888888888888888, \"#fdca26\"], [1.0, \"#f0f921\"]], \"sequentialminus\": [[0.0, \"#0d0887\"], [0.1111111111111111, \"#46039f\"], [0.2222222222222222, \"#7201a8\"], [0.3333333333333333, \"#9c179e\"], [0.4444444444444444, \"#bd3786\"], [0.5555555555555556, \"#d8576b\"], [0.6666666666666666, \"#ed7953\"], [0.7777777777777778, \"#fb9f3a\"], [0.8888888888888888, \"#fdca26\"], [1.0, \"#f0f921\"]]}, \"colorway\": [\"#636efa\", \"#EF553B\", \"#00cc96\", \"#ab63fa\", \"#FFA15A\", \"#19d3f3\", \"#FF6692\", \"#B6E880\", \"#FF97FF\", \"#FECB52\"], \"font\": {\"color\": \"#2a3f5f\"}, \"geo\": {\"bgcolor\": \"white\", \"lakecolor\": \"white\", \"landcolor\": \"#E5ECF6\", \"showlakes\": true, \"showland\": true, \"subunitcolor\": \"white\"}, \"hoverlabel\": {\"align\": \"left\"}, \"hovermode\": \"closest\", \"mapbox\": {\"style\": \"light\"}, \"paper_bgcolor\": \"white\", \"plot_bgcolor\": \"#E5ECF6\", \"polar\": {\"angularaxis\": {\"gridcolor\": \"white\", \"linecolor\": \"white\", \"ticks\": \"\"}, \"bgcolor\": \"#E5ECF6\", \"radialaxis\": {\"gridcolor\": \"white\", \"linecolor\": \"white\", \"ticks\": \"\"}}, \"scene\": {\"xaxis\": {\"backgroundcolor\": \"#E5ECF6\", \"gridcolor\": \"white\", \"gridwidth\": 2, \"linecolor\": \"white\", \"showbackground\": true, \"ticks\": \"\", \"zerolinecolor\": \"white\"}, \"yaxis\": {\"backgroundcolor\": \"#E5ECF6\", \"gridcolor\": \"white\", \"gridwidth\": 2, \"linecolor\": \"white\", \"showbackground\": true, \"ticks\": \"\", \"zerolinecolor\": \"white\"}, \"zaxis\": {\"backgroundcolor\": \"#E5ECF6\", \"gridcolor\": \"white\", \"gridwidth\": 2, \"linecolor\": \"white\", \"showbackground\": true, \"ticks\": \"\", \"zerolinecolor\": \"white\"}}, \"shapedefaults\": {\"line\": {\"color\": \"#2a3f5f\"}}, \"ternary\": {\"aaxis\": {\"gridcolor\": \"white\", \"linecolor\": \"white\", \"ticks\": \"\"}, \"baxis\": {\"gridcolor\": \"white\", \"linecolor\": \"white\", \"ticks\": \"\"}, \"bgcolor\": \"#E5ECF6\", \"caxis\": {\"gridcolor\": \"white\", \"linecolor\": \"white\", \"ticks\": \"\"}}, \"title\": {\"x\": 0.05}, \"xaxis\": {\"automargin\": true, \"gridcolor\": \"white\", \"linecolor\": \"white\", \"ticks\": \"\", \"title\": {\"standoff\": 15}, \"zerolinecolor\": \"white\", \"zerolinewidth\": 2}, \"yaxis\": {\"automargin\": true, \"gridcolor\": \"white\", \"linecolor\": \"white\", \"ticks\": \"\", \"title\": {\"standoff\": 15}, \"zerolinecolor\": \"white\", \"zerolinewidth\": 2}}}, \"title\": {\"text\": \"LinkedIn Software Engineer Job Openings Forecast via VARMAX Model\"}, \"xaxis\": {\"anchor\": \"y\", \"domain\": [0.0, 1.0]}, \"xaxis2\": {\"anchor\": \"y2\", \"domain\": [0.0, 0.45]}, \"xaxis3\": {\"anchor\": \"y3\", \"domain\": [0.55, 1.0]}, \"yaxis\": {\"anchor\": \"x\", \"domain\": [0.625, 1.0]}, \"yaxis2\": {\"anchor\": \"x2\", \"domain\": [0.0, 0.375]}, \"yaxis3\": {\"anchor\": \"x3\", \"domain\": [0.0, 0.375]}},\n",
       "                        {\"responsive\": true}\n",
       "                    ).then(function(){\n",
       "                            \n",
       "var gd = document.getElementById('3ae0d165-b4ef-4773-ac49-310340b3beaf');\n",
       "var x = new MutationObserver(function (mutations, observer) {{\n",
       "        var display = window.getComputedStyle(gd).display;\n",
       "        if (!display || display === 'none') {{\n",
       "            console.log([gd, 'removed!']);\n",
       "            Plotly.purge(gd);\n",
       "            observer.disconnect();\n",
       "        }}\n",
       "}});\n",
       "\n",
       "// Listen for the removal of the full notebook cells\n",
       "var notebookContainer = gd.closest('#notebook-container');\n",
       "if (notebookContainer) {{\n",
       "    x.observe(notebookContainer, {childList: true});\n",
       "}}\n",
       "\n",
       "// Listen for the clearing of the current output cell\n",
       "var outputEl = gd.closest('.output');\n",
       "if (outputEl) {{\n",
       "    x.observe(outputEl, {childList: true});\n",
       "}}\n",
       "\n",
       "                        })\n",
       "                };\n",
       "                });\n",
       "            </script>\n",
       "        </div>"
      ]
     },
     "metadata": {},
     "output_type": "display_data"
    }
   ],
   "source": [
    "fig = make_subplots(\n",
    "    rows=2, cols=2,\n",
    "    specs=[[{\"colspan\": 2}, None],[{}, {}]],\n",
    "    subplot_titles=(\"Train data\",'No eXog, RMSE: {:0.2f}'.format(error_li_varma), 'X=Weekend, RMSE: {:0.2f}'.format(error_li_varmax)))\n",
    "\n",
    "fig.add_trace(go.Scatter(x=train.index, y=train['Jobnums'], mode='lines+markers',name='Train', showlegend=False), row=1, col=1)\n",
    "fig.add_trace(go.Scatter(x=test.index, y=test['Jobnums'], mode='lines+markers',line=dict(color='green'), name='Test', showlegend=False), row=2, col=1)\n",
    "fig.add_trace(go.Scatter(x=test.index, y=yhat_li_varma[\"Jobnums\"], mode='lines+markers',line=dict(color='red'), name='Prediction',showlegend=False),row=2, col=1)\n",
    "#fig.add_trace(go.Scatter(x=pred_cix.index, y=pred_ci.iloc[:,1], fill=None, mode='lines',line=dict(width=0.0,color='lightgray'),showlegend=False), row=2, col=1)\n",
    "#fig.add_trace(go.Scatter(x=pred_cix.index, y=pred_ci.iloc[:,3], fill='tonexty', mode='lines',line=dict(width=0.0,color='lightgray'),showlegend=False),row=2, col=1)\n",
    "fig.add_trace(go.Scatter(x=test.index, y=test['Jobnums'], mode='lines+markers', line=dict(color='green'), name='Test',showlegend=True), row=2, col=2)\n",
    "fig.add_trace(go.Scatter(x=test.index, y=yhat_li_varmax[\"Jobnums\"], mode='lines+markers', line=dict(color='red'), name='Prediction',showlegend=True),row=2, col=2)\n",
    "#fig.add_trace(go.Scatter(x=pred_cix.index, y=pred_u, fill=None, mode='lines',line=dict(width=0.0,color='lightgray'),showlegend=False), row=2, col=2)\n",
    "#fig.add_trace(go.Scatter(x=pred_cix.index, y=pred_l, fill='tonexty', mode='lines',line=dict(width=0.0,color='lightgray'),showlegend=False),row=2, col=2)\n",
    "fig.update_layout(title='LinkedIn Software Engineer Job Openings Forecast via VARMAX Model',legend=dict(x=1,y=0.25))\n",
    "fig.show()"
   ]
  },
  {
   "cell_type": "markdown",
   "metadata": {},
   "source": [
    "### Future Forecast"
   ]
  },
  {
   "cell_type": "code",
   "execution_count": 48,
   "metadata": {},
   "outputs": [
    {
     "data": {
      "text/html": [
       "<div>\n",
       "<style scoped>\n",
       "    .dataframe tbody tr th:only-of-type {\n",
       "        vertical-align: middle;\n",
       "    }\n",
       "\n",
       "    .dataframe tbody tr th {\n",
       "        vertical-align: top;\n",
       "    }\n",
       "\n",
       "    .dataframe thead th {\n",
       "        text-align: right;\n",
       "    }\n",
       "</style>\n",
       "<table border=\"1\" class=\"dataframe\">\n",
       "  <thead>\n",
       "    <tr style=\"text-align: right;\">\n",
       "      <th></th>\n",
       "      <th>Date</th>\n",
       "      <th>Day of week</th>\n",
       "      <th>Weekend</th>\n",
       "    </tr>\n",
       "    <tr>\n",
       "      <th>Date</th>\n",
       "      <th></th>\n",
       "      <th></th>\n",
       "      <th></th>\n",
       "    </tr>\n",
       "  </thead>\n",
       "  <tbody>\n",
       "    <tr>\n",
       "      <td>2020-08-16</td>\n",
       "      <td>2020-08-16</td>\n",
       "      <td>Sun</td>\n",
       "      <td>1</td>\n",
       "    </tr>\n",
       "    <tr>\n",
       "      <td>2020-08-17</td>\n",
       "      <td>2020-08-17</td>\n",
       "      <td>Mon</td>\n",
       "      <td>0</td>\n",
       "    </tr>\n",
       "    <tr>\n",
       "      <td>2020-08-18</td>\n",
       "      <td>2020-08-18</td>\n",
       "      <td>Tue</td>\n",
       "      <td>0</td>\n",
       "    </tr>\n",
       "    <tr>\n",
       "      <td>2020-08-19</td>\n",
       "      <td>2020-08-19</td>\n",
       "      <td>Wed</td>\n",
       "      <td>0</td>\n",
       "    </tr>\n",
       "    <tr>\n",
       "      <td>2020-08-20</td>\n",
       "      <td>2020-08-20</td>\n",
       "      <td>Thu</td>\n",
       "      <td>0</td>\n",
       "    </tr>\n",
       "    <tr>\n",
       "      <td>2020-08-21</td>\n",
       "      <td>2020-08-21</td>\n",
       "      <td>Fri</td>\n",
       "      <td>0</td>\n",
       "    </tr>\n",
       "    <tr>\n",
       "      <td>2020-08-22</td>\n",
       "      <td>2020-08-22</td>\n",
       "      <td>Sat</td>\n",
       "      <td>1</td>\n",
       "    </tr>\n",
       "  </tbody>\n",
       "</table>\n",
       "</div>"
      ],
      "text/plain": [
       "                 Date Day of week  Weekend\n",
       "Date                                      \n",
       "2020-08-16 2020-08-16         Sun        1\n",
       "2020-08-17 2020-08-17         Mon        0\n",
       "2020-08-18 2020-08-18         Tue        0\n",
       "2020-08-19 2020-08-19         Wed        0\n",
       "2020-08-20 2020-08-20         Thu        0\n",
       "2020-08-21 2020-08-21         Fri        0\n",
       "2020-08-22 2020-08-22         Sat        1"
      ]
     },
     "execution_count": 48,
     "metadata": {},
     "output_type": "execute_result"
    }
   ],
   "source": [
    "df_linkedin_future = pd.DataFrame(columns=['Date', 'Day of week', 'Weekend'])\n",
    "df_linkedin_future['Date'] = pd.date_range('2020-08-16', '2020-08-22')\n",
    "df_linkedin_future.set_index('Date', inplace=True, drop=False)\n",
    "df_linkedin_future['Day of week'] = df_indeed_future['Date'].apply(lambda x: week[x.weekday()])\n",
    "df_linkedin_future['Weekend'] = df_indeed_future['Day of week'].apply(lambda x: 1 if (x=='Sun') or (x=='Sat') else 0)\n",
    "df_linkedin_future"
   ]
  },
  {
   "cell_type": "code",
   "execution_count": 49,
   "metadata": {},
   "outputs": [],
   "source": [
    "n_test = 7\n",
    "best_cfg = [(5, 2), 'n', 2]\n",
    "train = df_combined_linkedin[['New','Jobnums']]\n",
    "exog_train = df_combined_linkedin[['Weekend']]\n",
    "exog_test = df_linkedin_future[['Weekend']]\n",
    "linkedin_pred = pd.DataFrame()\n",
    "history = train.copy()\n",
    "exog_ = [x[:] for x in exog_train.values]\n",
    "for i in range(n_test):\n",
    "    yhat = varmax_forecast(history, 1, best_cfg, exog1=exog_, exog2=np.array(exog_test.iloc[i]).reshape(1,-1))\n",
    "    linkedin_pred = linkedin_pred.append(yhat)\n",
    "    history = history.append(yhat)\n",
    "    exog_.append(np.array(exog_test.iloc[i]))"
   ]
  },
  {
   "cell_type": "code",
   "execution_count": 51,
   "metadata": {},
   "outputs": [
    {
     "data": {
      "application/vnd.plotly.v1+json": {
       "config": {
        "plotlyServerURL": "https://plot.ly"
       },
       "data": [
        {
         "marker": {
          "color": "royalblue",
          "size": 8
         },
         "mode": "lines+markers",
         "name": "Train",
         "type": "scatter",
         "x": [
          "2020-06-12T00:00:00",
          "2020-06-13T00:00:00",
          "2020-06-14T00:00:00",
          "2020-06-15T00:00:00",
          "2020-06-16T00:00:00",
          "2020-06-17T00:00:00",
          "2020-06-18T00:00:00",
          "2020-06-19T00:00:00",
          "2020-06-20T00:00:00",
          "2020-06-21T00:00:00",
          "2020-06-22T00:00:00",
          "2020-06-23T00:00:00",
          "2020-06-24T00:00:00",
          "2020-06-25T00:00:00",
          "2020-06-26T00:00:00",
          "2020-06-27T00:00:00",
          "2020-06-28T00:00:00",
          "2020-06-29T00:00:00",
          "2020-06-30T00:00:00",
          "2020-07-01T00:00:00",
          "2020-07-02T00:00:00",
          "2020-07-03T00:00:00",
          "2020-07-04T00:00:00",
          "2020-07-05T00:00:00",
          "2020-07-06T00:00:00",
          "2020-07-07T00:00:00",
          "2020-07-08T00:00:00",
          "2020-07-09T00:00:00",
          "2020-07-10T00:00:00",
          "2020-07-11T00:00:00",
          "2020-07-12T00:00:00",
          "2020-07-13T00:00:00",
          "2020-07-14T00:00:00",
          "2020-07-15T00:00:00",
          "2020-07-16T00:00:00",
          "2020-07-17T00:00:00",
          "2020-07-18T00:00:00",
          "2020-07-19T00:00:00",
          "2020-07-20T00:00:00",
          "2020-07-21T00:00:00",
          "2020-07-22T00:00:00",
          "2020-07-23T00:00:00",
          "2020-07-24T00:00:00",
          "2020-07-25T00:00:00",
          "2020-07-26T00:00:00",
          "2020-07-27T00:00:00",
          "2020-07-28T00:00:00",
          "2020-07-29T00:00:00",
          "2020-07-30T00:00:00",
          "2020-07-31T00:00:00",
          "2020-08-01T00:00:00",
          "2020-08-02T00:00:00",
          "2020-08-03T00:00:00",
          "2020-08-04T00:00:00",
          "2020-08-05T00:00:00",
          "2020-08-06T00:00:00",
          "2020-08-07T00:00:00",
          "2020-08-08T00:00:00",
          "2020-08-09T00:00:00",
          "2020-08-10T00:00:00",
          "2020-08-11T00:00:00",
          "2020-08-12T00:00:00",
          "2020-08-13T00:00:00",
          "2020-08-14T00:00:00",
          "2020-08-15T00:00:00"
         ],
         "y": [
          773,
          630,
          740,
          675,
          962,
          1554,
          1997,
          1636,
          1055,
          970,
          2141,
          2388,
          2110,
          2686,
          2805,
          2240,
          1193,
          1488,
          1938,
          2586,
          4784,
          2309,
          1196,
          1093,
          1749,
          2762,
          3596,
          4852,
          5483,
          2991,
          5396,
          5279,
          5559,
          4486,
          4928,
          6120,
          4148,
          3075,
          4381,
          5275,
          5328,
          3314,
          3217,
          2051,
          920,
          1976,
          3118,
          3185,
          3947,
          4505,
          4154,
          4800,
          5869,
          5363,
          6510,
          4154,
          3147,
          3954,
          5302,
          3641,
          3633,
          4252,
          5754,
          4204,
          3821
         ]
        },
        {
         "marker": {
          "color": "red",
          "size": 8
         },
         "mode": "lines+markers",
         "name": "Future Forecast",
         "type": "scatter",
         "x": [
          "2020-08-16T00:00:00",
          "2020-08-17T00:00:00",
          "2020-08-18T00:00:00",
          "2020-08-19T00:00:00",
          "2020-08-20T00:00:00",
          "2020-08-21T00:00:00",
          "2020-08-22T00:00:00"
         ],
         "y": [
          3261.315777114329,
          4121.7007876508205,
          3238.3333174495046,
          5110.244266338113,
          4241.7011438589925,
          4896.068813539601,
          4243.552830634832
         ]
        }
       ],
       "layout": {
        "annotations": [
         {
          "arrowhead": 2,
          "arrowsize": 1,
          "arrowwidth": 2,
          "ax": 10,
          "ay": -70,
          "font": {
           "size": 16
          },
          "text": "Future<br>forecast",
          "x": "2020-08-18",
          "y": 5120
         }
        ],
        "height": 500,
        "legend": {
         "font": {
          "size": 16
         },
         "x": 0.05,
         "y": 0.95
        },
        "margin": {
         "b": 0,
         "l": 0,
         "r": 10,
         "t": 90
        },
        "shapes": [
         {
          "fillcolor": "LightSalmon",
          "layer": "below",
          "line": {
           "width": 0
          },
          "opacity": 0.2,
          "type": "rect",
          "x0": "2020-08-16T00:00:00",
          "x1": "2020-08-22T00:00:00",
          "xref": "x",
          "y0": 0,
          "y1": 1,
          "yref": "paper"
         }
        ],
        "template": {
         "data": {
          "bar": [
           {
            "error_x": {
             "color": "#2a3f5f"
            },
            "error_y": {
             "color": "#2a3f5f"
            },
            "marker": {
             "line": {
              "color": "#E5ECF6",
              "width": 0.5
             }
            },
            "type": "bar"
           }
          ],
          "barpolar": [
           {
            "marker": {
             "line": {
              "color": "#E5ECF6",
              "width": 0.5
             }
            },
            "type": "barpolar"
           }
          ],
          "carpet": [
           {
            "aaxis": {
             "endlinecolor": "#2a3f5f",
             "gridcolor": "white",
             "linecolor": "white",
             "minorgridcolor": "white",
             "startlinecolor": "#2a3f5f"
            },
            "baxis": {
             "endlinecolor": "#2a3f5f",
             "gridcolor": "white",
             "linecolor": "white",
             "minorgridcolor": "white",
             "startlinecolor": "#2a3f5f"
            },
            "type": "carpet"
           }
          ],
          "choropleth": [
           {
            "colorbar": {
             "outlinewidth": 0,
             "ticks": ""
            },
            "type": "choropleth"
           }
          ],
          "contour": [
           {
            "colorbar": {
             "outlinewidth": 0,
             "ticks": ""
            },
            "colorscale": [
             [
              0,
              "#0d0887"
             ],
             [
              0.1111111111111111,
              "#46039f"
             ],
             [
              0.2222222222222222,
              "#7201a8"
             ],
             [
              0.3333333333333333,
              "#9c179e"
             ],
             [
              0.4444444444444444,
              "#bd3786"
             ],
             [
              0.5555555555555556,
              "#d8576b"
             ],
             [
              0.6666666666666666,
              "#ed7953"
             ],
             [
              0.7777777777777778,
              "#fb9f3a"
             ],
             [
              0.8888888888888888,
              "#fdca26"
             ],
             [
              1,
              "#f0f921"
             ]
            ],
            "type": "contour"
           }
          ],
          "contourcarpet": [
           {
            "colorbar": {
             "outlinewidth": 0,
             "ticks": ""
            },
            "type": "contourcarpet"
           }
          ],
          "heatmap": [
           {
            "colorbar": {
             "outlinewidth": 0,
             "ticks": ""
            },
            "colorscale": [
             [
              0,
              "#0d0887"
             ],
             [
              0.1111111111111111,
              "#46039f"
             ],
             [
              0.2222222222222222,
              "#7201a8"
             ],
             [
              0.3333333333333333,
              "#9c179e"
             ],
             [
              0.4444444444444444,
              "#bd3786"
             ],
             [
              0.5555555555555556,
              "#d8576b"
             ],
             [
              0.6666666666666666,
              "#ed7953"
             ],
             [
              0.7777777777777778,
              "#fb9f3a"
             ],
             [
              0.8888888888888888,
              "#fdca26"
             ],
             [
              1,
              "#f0f921"
             ]
            ],
            "type": "heatmap"
           }
          ],
          "heatmapgl": [
           {
            "colorbar": {
             "outlinewidth": 0,
             "ticks": ""
            },
            "colorscale": [
             [
              0,
              "#0d0887"
             ],
             [
              0.1111111111111111,
              "#46039f"
             ],
             [
              0.2222222222222222,
              "#7201a8"
             ],
             [
              0.3333333333333333,
              "#9c179e"
             ],
             [
              0.4444444444444444,
              "#bd3786"
             ],
             [
              0.5555555555555556,
              "#d8576b"
             ],
             [
              0.6666666666666666,
              "#ed7953"
             ],
             [
              0.7777777777777778,
              "#fb9f3a"
             ],
             [
              0.8888888888888888,
              "#fdca26"
             ],
             [
              1,
              "#f0f921"
             ]
            ],
            "type": "heatmapgl"
           }
          ],
          "histogram": [
           {
            "marker": {
             "colorbar": {
              "outlinewidth": 0,
              "ticks": ""
             }
            },
            "type": "histogram"
           }
          ],
          "histogram2d": [
           {
            "colorbar": {
             "outlinewidth": 0,
             "ticks": ""
            },
            "colorscale": [
             [
              0,
              "#0d0887"
             ],
             [
              0.1111111111111111,
              "#46039f"
             ],
             [
              0.2222222222222222,
              "#7201a8"
             ],
             [
              0.3333333333333333,
              "#9c179e"
             ],
             [
              0.4444444444444444,
              "#bd3786"
             ],
             [
              0.5555555555555556,
              "#d8576b"
             ],
             [
              0.6666666666666666,
              "#ed7953"
             ],
             [
              0.7777777777777778,
              "#fb9f3a"
             ],
             [
              0.8888888888888888,
              "#fdca26"
             ],
             [
              1,
              "#f0f921"
             ]
            ],
            "type": "histogram2d"
           }
          ],
          "histogram2dcontour": [
           {
            "colorbar": {
             "outlinewidth": 0,
             "ticks": ""
            },
            "colorscale": [
             [
              0,
              "#0d0887"
             ],
             [
              0.1111111111111111,
              "#46039f"
             ],
             [
              0.2222222222222222,
              "#7201a8"
             ],
             [
              0.3333333333333333,
              "#9c179e"
             ],
             [
              0.4444444444444444,
              "#bd3786"
             ],
             [
              0.5555555555555556,
              "#d8576b"
             ],
             [
              0.6666666666666666,
              "#ed7953"
             ],
             [
              0.7777777777777778,
              "#fb9f3a"
             ],
             [
              0.8888888888888888,
              "#fdca26"
             ],
             [
              1,
              "#f0f921"
             ]
            ],
            "type": "histogram2dcontour"
           }
          ],
          "mesh3d": [
           {
            "colorbar": {
             "outlinewidth": 0,
             "ticks": ""
            },
            "type": "mesh3d"
           }
          ],
          "parcoords": [
           {
            "line": {
             "colorbar": {
              "outlinewidth": 0,
              "ticks": ""
             }
            },
            "type": "parcoords"
           }
          ],
          "pie": [
           {
            "automargin": true,
            "type": "pie"
           }
          ],
          "scatter": [
           {
            "marker": {
             "colorbar": {
              "outlinewidth": 0,
              "ticks": ""
             }
            },
            "type": "scatter"
           }
          ],
          "scatter3d": [
           {
            "line": {
             "colorbar": {
              "outlinewidth": 0,
              "ticks": ""
             }
            },
            "marker": {
             "colorbar": {
              "outlinewidth": 0,
              "ticks": ""
             }
            },
            "type": "scatter3d"
           }
          ],
          "scattercarpet": [
           {
            "marker": {
             "colorbar": {
              "outlinewidth": 0,
              "ticks": ""
             }
            },
            "type": "scattercarpet"
           }
          ],
          "scattergeo": [
           {
            "marker": {
             "colorbar": {
              "outlinewidth": 0,
              "ticks": ""
             }
            },
            "type": "scattergeo"
           }
          ],
          "scattergl": [
           {
            "marker": {
             "colorbar": {
              "outlinewidth": 0,
              "ticks": ""
             }
            },
            "type": "scattergl"
           }
          ],
          "scattermapbox": [
           {
            "marker": {
             "colorbar": {
              "outlinewidth": 0,
              "ticks": ""
             }
            },
            "type": "scattermapbox"
           }
          ],
          "scatterpolar": [
           {
            "marker": {
             "colorbar": {
              "outlinewidth": 0,
              "ticks": ""
             }
            },
            "type": "scatterpolar"
           }
          ],
          "scatterpolargl": [
           {
            "marker": {
             "colorbar": {
              "outlinewidth": 0,
              "ticks": ""
             }
            },
            "type": "scatterpolargl"
           }
          ],
          "scatterternary": [
           {
            "marker": {
             "colorbar": {
              "outlinewidth": 0,
              "ticks": ""
             }
            },
            "type": "scatterternary"
           }
          ],
          "surface": [
           {
            "colorbar": {
             "outlinewidth": 0,
             "ticks": ""
            },
            "colorscale": [
             [
              0,
              "#0d0887"
             ],
             [
              0.1111111111111111,
              "#46039f"
             ],
             [
              0.2222222222222222,
              "#7201a8"
             ],
             [
              0.3333333333333333,
              "#9c179e"
             ],
             [
              0.4444444444444444,
              "#bd3786"
             ],
             [
              0.5555555555555556,
              "#d8576b"
             ],
             [
              0.6666666666666666,
              "#ed7953"
             ],
             [
              0.7777777777777778,
              "#fb9f3a"
             ],
             [
              0.8888888888888888,
              "#fdca26"
             ],
             [
              1,
              "#f0f921"
             ]
            ],
            "type": "surface"
           }
          ],
          "table": [
           {
            "cells": {
             "fill": {
              "color": "#EBF0F8"
             },
             "line": {
              "color": "white"
             }
            },
            "header": {
             "fill": {
              "color": "#C8D4E3"
             },
             "line": {
              "color": "white"
             }
            },
            "type": "table"
           }
          ]
         },
         "layout": {
          "annotationdefaults": {
           "arrowcolor": "#2a3f5f",
           "arrowhead": 0,
           "arrowwidth": 1
          },
          "coloraxis": {
           "colorbar": {
            "outlinewidth": 0,
            "ticks": ""
           }
          },
          "colorscale": {
           "diverging": [
            [
             0,
             "#8e0152"
            ],
            [
             0.1,
             "#c51b7d"
            ],
            [
             0.2,
             "#de77ae"
            ],
            [
             0.3,
             "#f1b6da"
            ],
            [
             0.4,
             "#fde0ef"
            ],
            [
             0.5,
             "#f7f7f7"
            ],
            [
             0.6,
             "#e6f5d0"
            ],
            [
             0.7,
             "#b8e186"
            ],
            [
             0.8,
             "#7fbc41"
            ],
            [
             0.9,
             "#4d9221"
            ],
            [
             1,
             "#276419"
            ]
           ],
           "sequential": [
            [
             0,
             "#0d0887"
            ],
            [
             0.1111111111111111,
             "#46039f"
            ],
            [
             0.2222222222222222,
             "#7201a8"
            ],
            [
             0.3333333333333333,
             "#9c179e"
            ],
            [
             0.4444444444444444,
             "#bd3786"
            ],
            [
             0.5555555555555556,
             "#d8576b"
            ],
            [
             0.6666666666666666,
             "#ed7953"
            ],
            [
             0.7777777777777778,
             "#fb9f3a"
            ],
            [
             0.8888888888888888,
             "#fdca26"
            ],
            [
             1,
             "#f0f921"
            ]
           ],
           "sequentialminus": [
            [
             0,
             "#0d0887"
            ],
            [
             0.1111111111111111,
             "#46039f"
            ],
            [
             0.2222222222222222,
             "#7201a8"
            ],
            [
             0.3333333333333333,
             "#9c179e"
            ],
            [
             0.4444444444444444,
             "#bd3786"
            ],
            [
             0.5555555555555556,
             "#d8576b"
            ],
            [
             0.6666666666666666,
             "#ed7953"
            ],
            [
             0.7777777777777778,
             "#fb9f3a"
            ],
            [
             0.8888888888888888,
             "#fdca26"
            ],
            [
             1,
             "#f0f921"
            ]
           ]
          },
          "colorway": [
           "#636efa",
           "#EF553B",
           "#00cc96",
           "#ab63fa",
           "#FFA15A",
           "#19d3f3",
           "#FF6692",
           "#B6E880",
           "#FF97FF",
           "#FECB52"
          ],
          "font": {
           "color": "#2a3f5f"
          },
          "geo": {
           "bgcolor": "white",
           "lakecolor": "white",
           "landcolor": "#E5ECF6",
           "showlakes": true,
           "showland": true,
           "subunitcolor": "white"
          },
          "hoverlabel": {
           "align": "left"
          },
          "hovermode": "closest",
          "mapbox": {
           "style": "light"
          },
          "paper_bgcolor": "white",
          "plot_bgcolor": "#E5ECF6",
          "polar": {
           "angularaxis": {
            "gridcolor": "white",
            "linecolor": "white",
            "ticks": ""
           },
           "bgcolor": "#E5ECF6",
           "radialaxis": {
            "gridcolor": "white",
            "linecolor": "white",
            "ticks": ""
           }
          },
          "scene": {
           "xaxis": {
            "backgroundcolor": "#E5ECF6",
            "gridcolor": "white",
            "gridwidth": 2,
            "linecolor": "white",
            "showbackground": true,
            "ticks": "",
            "zerolinecolor": "white"
           },
           "yaxis": {
            "backgroundcolor": "#E5ECF6",
            "gridcolor": "white",
            "gridwidth": 2,
            "linecolor": "white",
            "showbackground": true,
            "ticks": "",
            "zerolinecolor": "white"
           },
           "zaxis": {
            "backgroundcolor": "#E5ECF6",
            "gridcolor": "white",
            "gridwidth": 2,
            "linecolor": "white",
            "showbackground": true,
            "ticks": "",
            "zerolinecolor": "white"
           }
          },
          "shapedefaults": {
           "line": {
            "color": "#2a3f5f"
           }
          },
          "ternary": {
           "aaxis": {
            "gridcolor": "white",
            "linecolor": "white",
            "ticks": ""
           },
           "baxis": {
            "gridcolor": "white",
            "linecolor": "white",
            "ticks": ""
           },
           "bgcolor": "#E5ECF6",
           "caxis": {
            "gridcolor": "white",
            "linecolor": "white",
            "ticks": ""
           }
          },
          "title": {
           "x": 0.05
          },
          "xaxis": {
           "automargin": true,
           "gridcolor": "white",
           "linecolor": "white",
           "ticks": "",
           "title": {
            "standoff": 15
           },
           "zerolinecolor": "white",
           "zerolinewidth": 2
          },
          "yaxis": {
           "automargin": true,
           "gridcolor": "white",
           "linecolor": "white",
           "ticks": "",
           "title": {
            "standoff": 15
           },
           "zerolinecolor": "white",
           "zerolinewidth": 2
          }
         }
        },
        "title": {
         "font": {
          "size": 20
         },
         "text": "LinkedIn Software Engineer Open Positions Future Forecast (VARMAX Model)",
         "x": 0.52,
         "xanchor": "center",
         "y": 0.9,
         "yanchor": "top"
        },
        "width": 900,
        "xaxis": {
         "tickfont": {
          "size": 16
         },
         "title": {
          "font": {
           "size": 18
          },
          "standoff": 0,
          "text": "Post date"
         }
        },
        "yaxis": {
         "tickfont": {
          "size": 16
         },
         "title": {
          "font": {
           "size": 18
          },
          "text": "Job numbers"
         }
        }
       }
      },
      "text/html": [
       "<div>\n",
       "        \n",
       "        \n",
       "            <div id=\"9b886d62-7b32-4020-a8cf-7a04714ca5a7\" class=\"plotly-graph-div\" style=\"height:500px; width:900px;\"></div>\n",
       "            <script type=\"text/javascript\">\n",
       "                require([\"plotly\"], function(Plotly) {\n",
       "                    window.PLOTLYENV=window.PLOTLYENV || {};\n",
       "                    \n",
       "                if (document.getElementById(\"9b886d62-7b32-4020-a8cf-7a04714ca5a7\")) {\n",
       "                    Plotly.newPlot(\n",
       "                        '9b886d62-7b32-4020-a8cf-7a04714ca5a7',\n",
       "                        [{\"marker\": {\"color\": \"royalblue\", \"size\": 8}, \"mode\": \"lines+markers\", \"name\": \"Train\", \"type\": \"scatter\", \"x\": [\"2020-06-12T00:00:00\", \"2020-06-13T00:00:00\", \"2020-06-14T00:00:00\", \"2020-06-15T00:00:00\", \"2020-06-16T00:00:00\", \"2020-06-17T00:00:00\", \"2020-06-18T00:00:00\", \"2020-06-19T00:00:00\", \"2020-06-20T00:00:00\", \"2020-06-21T00:00:00\", \"2020-06-22T00:00:00\", \"2020-06-23T00:00:00\", \"2020-06-24T00:00:00\", \"2020-06-25T00:00:00\", \"2020-06-26T00:00:00\", \"2020-06-27T00:00:00\", \"2020-06-28T00:00:00\", \"2020-06-29T00:00:00\", \"2020-06-30T00:00:00\", \"2020-07-01T00:00:00\", \"2020-07-02T00:00:00\", \"2020-07-03T00:00:00\", \"2020-07-04T00:00:00\", \"2020-07-05T00:00:00\", \"2020-07-06T00:00:00\", \"2020-07-07T00:00:00\", \"2020-07-08T00:00:00\", \"2020-07-09T00:00:00\", \"2020-07-10T00:00:00\", \"2020-07-11T00:00:00\", \"2020-07-12T00:00:00\", \"2020-07-13T00:00:00\", \"2020-07-14T00:00:00\", \"2020-07-15T00:00:00\", \"2020-07-16T00:00:00\", \"2020-07-17T00:00:00\", \"2020-07-18T00:00:00\", \"2020-07-19T00:00:00\", \"2020-07-20T00:00:00\", \"2020-07-21T00:00:00\", \"2020-07-22T00:00:00\", \"2020-07-23T00:00:00\", \"2020-07-24T00:00:00\", \"2020-07-25T00:00:00\", \"2020-07-26T00:00:00\", \"2020-07-27T00:00:00\", \"2020-07-28T00:00:00\", \"2020-07-29T00:00:00\", \"2020-07-30T00:00:00\", \"2020-07-31T00:00:00\", \"2020-08-01T00:00:00\", \"2020-08-02T00:00:00\", \"2020-08-03T00:00:00\", \"2020-08-04T00:00:00\", \"2020-08-05T00:00:00\", \"2020-08-06T00:00:00\", \"2020-08-07T00:00:00\", \"2020-08-08T00:00:00\", \"2020-08-09T00:00:00\", \"2020-08-10T00:00:00\", \"2020-08-11T00:00:00\", \"2020-08-12T00:00:00\", \"2020-08-13T00:00:00\", \"2020-08-14T00:00:00\", \"2020-08-15T00:00:00\"], \"y\": [773, 630, 740, 675, 962, 1554, 1997, 1636, 1055, 970, 2141, 2388, 2110, 2686, 2805, 2240, 1193, 1488, 1938, 2586, 4784, 2309, 1196, 1093, 1749, 2762, 3596, 4852, 5483, 2991, 5396, 5279, 5559, 4486, 4928, 6120, 4148, 3075, 4381, 5275, 5328, 3314, 3217, 2051, 920, 1976, 3118, 3185, 3947, 4505, 4154, 4800, 5869, 5363, 6510, 4154, 3147, 3954, 5302, 3641, 3633, 4252, 5754, 4204, 3821]}, {\"marker\": {\"color\": \"red\", \"size\": 8}, \"mode\": \"lines+markers\", \"name\": \"Future Forecast\", \"type\": \"scatter\", \"x\": [\"2020-08-16T00:00:00\", \"2020-08-17T00:00:00\", \"2020-08-18T00:00:00\", \"2020-08-19T00:00:00\", \"2020-08-20T00:00:00\", \"2020-08-21T00:00:00\", \"2020-08-22T00:00:00\"], \"y\": [3261.315777114329, 4121.7007876508205, 3238.3333174495046, 5110.244266338113, 4241.7011438589925, 4896.068813539601, 4243.552830634832]}],\n",
       "                        {\"annotations\": [{\"arrowhead\": 2, \"arrowsize\": 1, \"arrowwidth\": 2, \"ax\": 10, \"ay\": -70, \"font\": {\"size\": 16}, \"text\": \"Future<br>forecast\", \"x\": \"2020-08-18\", \"y\": 5120}], \"height\": 500, \"legend\": {\"font\": {\"size\": 16}, \"x\": 0.05, \"y\": 0.95}, \"margin\": {\"b\": 0, \"l\": 0, \"r\": 10, \"t\": 90}, \"shapes\": [{\"fillcolor\": \"LightSalmon\", \"layer\": \"below\", \"line\": {\"width\": 0}, \"opacity\": 0.2, \"type\": \"rect\", \"x0\": \"2020-08-16T00:00:00\", \"x1\": \"2020-08-22T00:00:00\", \"xref\": \"x\", \"y0\": 0, \"y1\": 1, \"yref\": \"paper\"}], \"template\": {\"data\": {\"bar\": [{\"error_x\": {\"color\": \"#2a3f5f\"}, \"error_y\": {\"color\": \"#2a3f5f\"}, \"marker\": {\"line\": {\"color\": \"#E5ECF6\", \"width\": 0.5}}, \"type\": \"bar\"}], \"barpolar\": [{\"marker\": {\"line\": {\"color\": \"#E5ECF6\", \"width\": 0.5}}, \"type\": \"barpolar\"}], \"carpet\": [{\"aaxis\": {\"endlinecolor\": \"#2a3f5f\", \"gridcolor\": \"white\", \"linecolor\": \"white\", \"minorgridcolor\": \"white\", \"startlinecolor\": \"#2a3f5f\"}, \"baxis\": {\"endlinecolor\": \"#2a3f5f\", \"gridcolor\": \"white\", \"linecolor\": \"white\", \"minorgridcolor\": \"white\", \"startlinecolor\": \"#2a3f5f\"}, \"type\": \"carpet\"}], \"choropleth\": [{\"colorbar\": {\"outlinewidth\": 0, \"ticks\": \"\"}, \"type\": \"choropleth\"}], \"contour\": [{\"colorbar\": {\"outlinewidth\": 0, \"ticks\": \"\"}, \"colorscale\": [[0.0, \"#0d0887\"], [0.1111111111111111, \"#46039f\"], [0.2222222222222222, \"#7201a8\"], [0.3333333333333333, \"#9c179e\"], [0.4444444444444444, \"#bd3786\"], [0.5555555555555556, \"#d8576b\"], [0.6666666666666666, \"#ed7953\"], [0.7777777777777778, \"#fb9f3a\"], [0.8888888888888888, \"#fdca26\"], [1.0, \"#f0f921\"]], \"type\": \"contour\"}], \"contourcarpet\": [{\"colorbar\": {\"outlinewidth\": 0, \"ticks\": \"\"}, \"type\": \"contourcarpet\"}], \"heatmap\": [{\"colorbar\": {\"outlinewidth\": 0, \"ticks\": \"\"}, \"colorscale\": [[0.0, \"#0d0887\"], [0.1111111111111111, \"#46039f\"], [0.2222222222222222, \"#7201a8\"], [0.3333333333333333, \"#9c179e\"], [0.4444444444444444, \"#bd3786\"], [0.5555555555555556, \"#d8576b\"], [0.6666666666666666, \"#ed7953\"], [0.7777777777777778, \"#fb9f3a\"], [0.8888888888888888, \"#fdca26\"], [1.0, \"#f0f921\"]], \"type\": \"heatmap\"}], \"heatmapgl\": [{\"colorbar\": {\"outlinewidth\": 0, \"ticks\": \"\"}, \"colorscale\": [[0.0, \"#0d0887\"], [0.1111111111111111, \"#46039f\"], [0.2222222222222222, \"#7201a8\"], [0.3333333333333333, \"#9c179e\"], [0.4444444444444444, \"#bd3786\"], [0.5555555555555556, \"#d8576b\"], [0.6666666666666666, \"#ed7953\"], [0.7777777777777778, \"#fb9f3a\"], [0.8888888888888888, \"#fdca26\"], [1.0, \"#f0f921\"]], \"type\": \"heatmapgl\"}], \"histogram\": [{\"marker\": {\"colorbar\": {\"outlinewidth\": 0, \"ticks\": \"\"}}, \"type\": \"histogram\"}], \"histogram2d\": [{\"colorbar\": {\"outlinewidth\": 0, \"ticks\": \"\"}, \"colorscale\": [[0.0, \"#0d0887\"], [0.1111111111111111, \"#46039f\"], [0.2222222222222222, \"#7201a8\"], [0.3333333333333333, \"#9c179e\"], [0.4444444444444444, \"#bd3786\"], [0.5555555555555556, \"#d8576b\"], [0.6666666666666666, \"#ed7953\"], [0.7777777777777778, \"#fb9f3a\"], [0.8888888888888888, \"#fdca26\"], [1.0, \"#f0f921\"]], \"type\": \"histogram2d\"}], \"histogram2dcontour\": [{\"colorbar\": {\"outlinewidth\": 0, \"ticks\": \"\"}, \"colorscale\": [[0.0, \"#0d0887\"], [0.1111111111111111, \"#46039f\"], [0.2222222222222222, \"#7201a8\"], [0.3333333333333333, \"#9c179e\"], [0.4444444444444444, \"#bd3786\"], [0.5555555555555556, \"#d8576b\"], [0.6666666666666666, \"#ed7953\"], [0.7777777777777778, \"#fb9f3a\"], [0.8888888888888888, \"#fdca26\"], [1.0, \"#f0f921\"]], \"type\": \"histogram2dcontour\"}], \"mesh3d\": [{\"colorbar\": {\"outlinewidth\": 0, \"ticks\": \"\"}, \"type\": \"mesh3d\"}], \"parcoords\": [{\"line\": {\"colorbar\": {\"outlinewidth\": 0, \"ticks\": \"\"}}, \"type\": \"parcoords\"}], \"pie\": [{\"automargin\": true, \"type\": \"pie\"}], \"scatter\": [{\"marker\": {\"colorbar\": {\"outlinewidth\": 0, \"ticks\": \"\"}}, \"type\": \"scatter\"}], \"scatter3d\": [{\"line\": {\"colorbar\": {\"outlinewidth\": 0, \"ticks\": \"\"}}, \"marker\": {\"colorbar\": {\"outlinewidth\": 0, \"ticks\": \"\"}}, \"type\": \"scatter3d\"}], \"scattercarpet\": [{\"marker\": {\"colorbar\": {\"outlinewidth\": 0, \"ticks\": \"\"}}, \"type\": \"scattercarpet\"}], \"scattergeo\": [{\"marker\": {\"colorbar\": {\"outlinewidth\": 0, \"ticks\": \"\"}}, \"type\": \"scattergeo\"}], \"scattergl\": [{\"marker\": {\"colorbar\": {\"outlinewidth\": 0, \"ticks\": \"\"}}, \"type\": \"scattergl\"}], \"scattermapbox\": [{\"marker\": {\"colorbar\": {\"outlinewidth\": 0, \"ticks\": \"\"}}, \"type\": \"scattermapbox\"}], \"scatterpolar\": [{\"marker\": {\"colorbar\": {\"outlinewidth\": 0, \"ticks\": \"\"}}, \"type\": \"scatterpolar\"}], \"scatterpolargl\": [{\"marker\": {\"colorbar\": {\"outlinewidth\": 0, \"ticks\": \"\"}}, \"type\": \"scatterpolargl\"}], \"scatterternary\": [{\"marker\": {\"colorbar\": {\"outlinewidth\": 0, \"ticks\": \"\"}}, \"type\": \"scatterternary\"}], \"surface\": [{\"colorbar\": {\"outlinewidth\": 0, \"ticks\": \"\"}, \"colorscale\": [[0.0, \"#0d0887\"], [0.1111111111111111, \"#46039f\"], [0.2222222222222222, \"#7201a8\"], [0.3333333333333333, \"#9c179e\"], [0.4444444444444444, \"#bd3786\"], [0.5555555555555556, \"#d8576b\"], [0.6666666666666666, \"#ed7953\"], [0.7777777777777778, \"#fb9f3a\"], [0.8888888888888888, \"#fdca26\"], [1.0, \"#f0f921\"]], \"type\": \"surface\"}], \"table\": [{\"cells\": {\"fill\": {\"color\": \"#EBF0F8\"}, \"line\": {\"color\": \"white\"}}, \"header\": {\"fill\": {\"color\": \"#C8D4E3\"}, \"line\": {\"color\": \"white\"}}, \"type\": \"table\"}]}, \"layout\": {\"annotationdefaults\": {\"arrowcolor\": \"#2a3f5f\", \"arrowhead\": 0, \"arrowwidth\": 1}, \"coloraxis\": {\"colorbar\": {\"outlinewidth\": 0, \"ticks\": \"\"}}, \"colorscale\": {\"diverging\": [[0, \"#8e0152\"], [0.1, \"#c51b7d\"], [0.2, \"#de77ae\"], [0.3, \"#f1b6da\"], [0.4, \"#fde0ef\"], [0.5, \"#f7f7f7\"], [0.6, \"#e6f5d0\"], [0.7, \"#b8e186\"], [0.8, \"#7fbc41\"], [0.9, \"#4d9221\"], [1, \"#276419\"]], \"sequential\": [[0.0, \"#0d0887\"], [0.1111111111111111, \"#46039f\"], [0.2222222222222222, \"#7201a8\"], [0.3333333333333333, \"#9c179e\"], [0.4444444444444444, \"#bd3786\"], [0.5555555555555556, \"#d8576b\"], [0.6666666666666666, \"#ed7953\"], [0.7777777777777778, \"#fb9f3a\"], [0.8888888888888888, \"#fdca26\"], [1.0, \"#f0f921\"]], \"sequentialminus\": [[0.0, \"#0d0887\"], [0.1111111111111111, \"#46039f\"], [0.2222222222222222, \"#7201a8\"], [0.3333333333333333, \"#9c179e\"], [0.4444444444444444, \"#bd3786\"], [0.5555555555555556, \"#d8576b\"], [0.6666666666666666, \"#ed7953\"], [0.7777777777777778, \"#fb9f3a\"], [0.8888888888888888, \"#fdca26\"], [1.0, \"#f0f921\"]]}, \"colorway\": [\"#636efa\", \"#EF553B\", \"#00cc96\", \"#ab63fa\", \"#FFA15A\", \"#19d3f3\", \"#FF6692\", \"#B6E880\", \"#FF97FF\", \"#FECB52\"], \"font\": {\"color\": \"#2a3f5f\"}, \"geo\": {\"bgcolor\": \"white\", \"lakecolor\": \"white\", \"landcolor\": \"#E5ECF6\", \"showlakes\": true, \"showland\": true, \"subunitcolor\": \"white\"}, \"hoverlabel\": {\"align\": \"left\"}, \"hovermode\": \"closest\", \"mapbox\": {\"style\": \"light\"}, \"paper_bgcolor\": \"white\", \"plot_bgcolor\": \"#E5ECF6\", \"polar\": {\"angularaxis\": {\"gridcolor\": \"white\", \"linecolor\": \"white\", \"ticks\": \"\"}, \"bgcolor\": \"#E5ECF6\", \"radialaxis\": {\"gridcolor\": \"white\", \"linecolor\": \"white\", \"ticks\": \"\"}}, \"scene\": {\"xaxis\": {\"backgroundcolor\": \"#E5ECF6\", \"gridcolor\": \"white\", \"gridwidth\": 2, \"linecolor\": \"white\", \"showbackground\": true, \"ticks\": \"\", \"zerolinecolor\": \"white\"}, \"yaxis\": {\"backgroundcolor\": \"#E5ECF6\", \"gridcolor\": \"white\", \"gridwidth\": 2, \"linecolor\": \"white\", \"showbackground\": true, \"ticks\": \"\", \"zerolinecolor\": \"white\"}, \"zaxis\": {\"backgroundcolor\": \"#E5ECF6\", \"gridcolor\": \"white\", \"gridwidth\": 2, \"linecolor\": \"white\", \"showbackground\": true, \"ticks\": \"\", \"zerolinecolor\": \"white\"}}, \"shapedefaults\": {\"line\": {\"color\": \"#2a3f5f\"}}, \"ternary\": {\"aaxis\": {\"gridcolor\": \"white\", \"linecolor\": \"white\", \"ticks\": \"\"}, \"baxis\": {\"gridcolor\": \"white\", \"linecolor\": \"white\", \"ticks\": \"\"}, \"bgcolor\": \"#E5ECF6\", \"caxis\": {\"gridcolor\": \"white\", \"linecolor\": \"white\", \"ticks\": \"\"}}, \"title\": {\"x\": 0.05}, \"xaxis\": {\"automargin\": true, \"gridcolor\": \"white\", \"linecolor\": \"white\", \"ticks\": \"\", \"title\": {\"standoff\": 15}, \"zerolinecolor\": \"white\", \"zerolinewidth\": 2}, \"yaxis\": {\"automargin\": true, \"gridcolor\": \"white\", \"linecolor\": \"white\", \"ticks\": \"\", \"title\": {\"standoff\": 15}, \"zerolinecolor\": \"white\", \"zerolinewidth\": 2}}}, \"title\": {\"font\": {\"size\": 20}, \"text\": \"LinkedIn Software Engineer Open Positions Future Forecast (VARMAX Model)\", \"x\": 0.52, \"xanchor\": \"center\", \"y\": 0.9, \"yanchor\": \"top\"}, \"width\": 900, \"xaxis\": {\"tickfont\": {\"size\": 16}, \"title\": {\"font\": {\"size\": 18}, \"standoff\": 0, \"text\": \"Post date\"}}, \"yaxis\": {\"tickfont\": {\"size\": 16}, \"title\": {\"font\": {\"size\": 18}, \"text\": \"Job numbers\"}}},\n",
       "                        {\"responsive\": true}\n",
       "                    ).then(function(){\n",
       "                            \n",
       "var gd = document.getElementById('9b886d62-7b32-4020-a8cf-7a04714ca5a7');\n",
       "var x = new MutationObserver(function (mutations, observer) {{\n",
       "        var display = window.getComputedStyle(gd).display;\n",
       "        if (!display || display === 'none') {{\n",
       "            console.log([gd, 'removed!']);\n",
       "            Plotly.purge(gd);\n",
       "            observer.disconnect();\n",
       "        }}\n",
       "}});\n",
       "\n",
       "// Listen for the removal of the full notebook cells\n",
       "var notebookContainer = gd.closest('#notebook-container');\n",
       "if (notebookContainer) {{\n",
       "    x.observe(notebookContainer, {childList: true});\n",
       "}}\n",
       "\n",
       "// Listen for the clearing of the current output cell\n",
       "var outputEl = gd.closest('.output');\n",
       "if (outputEl) {{\n",
       "    x.observe(outputEl, {childList: true});\n",
       "}}\n",
       "\n",
       "                        })\n",
       "                };\n",
       "                });\n",
       "            </script>\n",
       "        </div>"
      ]
     },
     "metadata": {},
     "output_type": "display_data"
    }
   ],
   "source": [
    "fig = go.Figure()\n",
    "\n",
    "fig.update_layout(\n",
    "    shapes=[\n",
    "        dict(\n",
    "            type=\"rect\",\n",
    "            xref=\"x\",\n",
    "            yref=\"paper\",\n",
    "            x0=df_linkedin_future.index[0],\n",
    "            y0=0,\n",
    "            x1=df_linkedin_future.index[-1],\n",
    "            y1=1,\n",
    "            fillcolor=\"LightSalmon\",\n",
    "            opacity=0.2,\n",
    "            layer=\"below\",\n",
    "            line_width=0,\n",
    "        )\n",
    "    ]\n",
    ")\n",
    "\n",
    "fig.add_trace(go.Scatter(x=df_combined_linkedin.index, y=df_combined_linkedin['Jobnums'], mode='lines+markers', \n",
    "                         marker=dict(size=8, color='royalblue'), name='Train'))\n",
    "\n",
    "fig.add_trace(go.Scatter(x=df_linkedin_future.index, y=linkedin_pred['Jobnums'], mode='lines+markers', \n",
    "                         marker=dict(size=8, color='red'), name='Future Forecast'))\n",
    "\n",
    "\n",
    "fig.add_annotation(\n",
    "            x='2020-08-18',\n",
    "            y=5120,\n",
    "            text=\"Future<br>forecast\",\n",
    "            font=dict(size=16),\n",
    "            arrowhead=2,\n",
    "            arrowsize=1,\n",
    "            arrowwidth=2,\n",
    "            ax=10,\n",
    "            ay=-70,)\n",
    "\n",
    "fig.update_layout(title={'text': \"LinkedIn Software Engineer Open Positions Future Forecast (VARMAX Model)\", \n",
    "                         'y':0.9, 'x':0.52,\n",
    "                         'xanchor': 'center',\n",
    "                         'yanchor': 'top'},\n",
    "                  width=900,\n",
    "                  height=500,\n",
    "                  titlefont=dict(size=20),\n",
    "                  xaxis=dict(title=dict(text='Post date', standoff=0), titlefont=dict(size=18), tickfont=dict(size=16)),\n",
    "                  yaxis=dict(title=dict(text='Job numbers'), titlefont=dict(size=18), tickfont=dict(size=16)),\n",
    "                  legend=dict(font=dict(size=16), x=0.05, y=0.95),\n",
    "                  margin = {'r':10, 'l': 0, 't':90, 'b':0}\n",
    "                 )\n",
    "fig.show()"
   ]
  },
  {
   "cell_type": "code",
   "execution_count": 54,
   "metadata": {},
   "outputs": [
    {
     "data": {
      "text/html": [
       "<div>\n",
       "<style scoped>\n",
       "    .dataframe tbody tr th:only-of-type {\n",
       "        vertical-align: middle;\n",
       "    }\n",
       "\n",
       "    .dataframe tbody tr th {\n",
       "        vertical-align: top;\n",
       "    }\n",
       "\n",
       "    .dataframe thead th {\n",
       "        text-align: right;\n",
       "    }\n",
       "</style>\n",
       "<table border=\"1\" class=\"dataframe\">\n",
       "  <thead>\n",
       "    <tr style=\"text-align: right;\">\n",
       "      <th></th>\n",
       "      <th>Source</th>\n",
       "      <th>Test_date</th>\n",
       "      <th>Yhat_varma</th>\n",
       "      <th>Yhat_varmax</th>\n",
       "      <th>Future_date</th>\n",
       "      <th>Forecast_varmax</th>\n",
       "    </tr>\n",
       "  </thead>\n",
       "  <tbody>\n",
       "    <tr>\n",
       "      <td>0</td>\n",
       "      <td>LinkedIn_SDE</td>\n",
       "      <td>2020-08-09</td>\n",
       "      <td>4435.994632</td>\n",
       "      <td>4469.170871</td>\n",
       "      <td>2020-08-16</td>\n",
       "      <td>3261.315777</td>\n",
       "    </tr>\n",
       "    <tr>\n",
       "      <td>1</td>\n",
       "      <td>LinkedIn_SDE</td>\n",
       "      <td>2020-08-10</td>\n",
       "      <td>3946.676256</td>\n",
       "      <td>3896.600094</td>\n",
       "      <td>2020-08-17</td>\n",
       "      <td>4121.700788</td>\n",
       "    </tr>\n",
       "    <tr>\n",
       "      <td>2</td>\n",
       "      <td>LinkedIn_SDE</td>\n",
       "      <td>2020-08-11</td>\n",
       "      <td>3904.214453</td>\n",
       "      <td>4472.943030</td>\n",
       "      <td>2020-08-18</td>\n",
       "      <td>3238.333317</td>\n",
       "    </tr>\n",
       "    <tr>\n",
       "      <td>3</td>\n",
       "      <td>LinkedIn_SDE</td>\n",
       "      <td>2020-08-12</td>\n",
       "      <td>4244.078643</td>\n",
       "      <td>4318.414832</td>\n",
       "      <td>2020-08-19</td>\n",
       "      <td>5110.244266</td>\n",
       "    </tr>\n",
       "    <tr>\n",
       "      <td>4</td>\n",
       "      <td>LinkedIn_SDE</td>\n",
       "      <td>2020-08-13</td>\n",
       "      <td>4853.946385</td>\n",
       "      <td>5219.158473</td>\n",
       "      <td>2020-08-20</td>\n",
       "      <td>4241.701144</td>\n",
       "    </tr>\n",
       "    <tr>\n",
       "      <td>5</td>\n",
       "      <td>LinkedIn_SDE</td>\n",
       "      <td>2020-08-14</td>\n",
       "      <td>4565.695900</td>\n",
       "      <td>4289.091613</td>\n",
       "      <td>2020-08-21</td>\n",
       "      <td>4896.068814</td>\n",
       "    </tr>\n",
       "    <tr>\n",
       "      <td>6</td>\n",
       "      <td>LinkedIn_SDE</td>\n",
       "      <td>2020-08-15</td>\n",
       "      <td>4297.889100</td>\n",
       "      <td>4393.512352</td>\n",
       "      <td>2020-08-22</td>\n",
       "      <td>4243.552831</td>\n",
       "    </tr>\n",
       "  </tbody>\n",
       "</table>\n",
       "</div>"
      ],
      "text/plain": [
       "         Source  Test_date   Yhat_varma  Yhat_varmax Future_date  \\\n",
       "0  LinkedIn_SDE 2020-08-09  4435.994632  4469.170871  2020-08-16   \n",
       "1  LinkedIn_SDE 2020-08-10  3946.676256  3896.600094  2020-08-17   \n",
       "2  LinkedIn_SDE 2020-08-11  3904.214453  4472.943030  2020-08-18   \n",
       "3  LinkedIn_SDE 2020-08-12  4244.078643  4318.414832  2020-08-19   \n",
       "4  LinkedIn_SDE 2020-08-13  4853.946385  5219.158473  2020-08-20   \n",
       "5  LinkedIn_SDE 2020-08-14  4565.695900  4289.091613  2020-08-21   \n",
       "6  LinkedIn_SDE 2020-08-15  4297.889100  4393.512352  2020-08-22   \n",
       "\n",
       "   Forecast_varmax  \n",
       "0      3261.315777  \n",
       "1      4121.700788  \n",
       "2      3238.333317  \n",
       "3      5110.244266  \n",
       "4      4241.701144  \n",
       "5      4896.068814  \n",
       "6      4243.552831  "
      ]
     },
     "execution_count": 54,
     "metadata": {},
     "output_type": "execute_result"
    }
   ],
   "source": [
    "linkedin_sde = pd.DataFrame(columns=['Source','Test_date','Yhat_varma','Yhat_varmax','Future_date','Forecast_varmax'])\n",
    "linkedin_sde['Source'] = 'LinkedIn_SDE'\n",
    "linkedin_sde['Test_date'] = test.index\n",
    "linkedin_sde['Yhat_varma'] = yhat_li_varma['Jobnums'].values\n",
    "linkedin_sde['Yhat_varmax'] = yhat_li_varmax['Jobnums'].values\n",
    "linkedin_sde['Future_date'] = df_linkedin_future.index\n",
    "linkedin_sde['Forecast_varmax'] = linkedin_pred['Jobnums'].values\n",
    "linkedin_sde.loc[:,'Source'] = 'LinkedIn_SDE'\n",
    "linkedin_sde"
   ]
  },
  {
   "cell_type": "code",
   "execution_count": 55,
   "metadata": {},
   "outputs": [
    {
     "data": {
      "text/html": [
       "<div>\n",
       "<style scoped>\n",
       "    .dataframe tbody tr th:only-of-type {\n",
       "        vertical-align: middle;\n",
       "    }\n",
       "\n",
       "    .dataframe tbody tr th {\n",
       "        vertical-align: top;\n",
       "    }\n",
       "\n",
       "    .dataframe thead th {\n",
       "        text-align: right;\n",
       "    }\n",
       "</style>\n",
       "<table border=\"1\" class=\"dataframe\">\n",
       "  <thead>\n",
       "    <tr style=\"text-align: right;\">\n",
       "      <th></th>\n",
       "      <th>Source</th>\n",
       "      <th>Test_date</th>\n",
       "      <th>Yhat_varma</th>\n",
       "      <th>Yhat_varmax</th>\n",
       "      <th>Future_date</th>\n",
       "      <th>Forecast_varmax</th>\n",
       "    </tr>\n",
       "  </thead>\n",
       "  <tbody>\n",
       "    <tr>\n",
       "      <td>0</td>\n",
       "      <td>Indeed_SDE</td>\n",
       "      <td>2020-08-09</td>\n",
       "      <td>74.547267</td>\n",
       "      <td>170.939982</td>\n",
       "      <td>2020-08-16</td>\n",
       "      <td>339.779806</td>\n",
       "    </tr>\n",
       "    <tr>\n",
       "      <td>1</td>\n",
       "      <td>Indeed_SDE</td>\n",
       "      <td>2020-08-10</td>\n",
       "      <td>766.387521</td>\n",
       "      <td>1005.123513</td>\n",
       "      <td>2020-08-17</td>\n",
       "      <td>791.477745</td>\n",
       "    </tr>\n",
       "    <tr>\n",
       "      <td>2</td>\n",
       "      <td>Indeed_SDE</td>\n",
       "      <td>2020-08-11</td>\n",
       "      <td>1567.627976</td>\n",
       "      <td>1567.271388</td>\n",
       "      <td>2020-08-18</td>\n",
       "      <td>1300.681820</td>\n",
       "    </tr>\n",
       "    <tr>\n",
       "      <td>3</td>\n",
       "      <td>Indeed_SDE</td>\n",
       "      <td>2020-08-12</td>\n",
       "      <td>1437.516685</td>\n",
       "      <td>1507.419922</td>\n",
       "      <td>2020-08-19</td>\n",
       "      <td>1366.356807</td>\n",
       "    </tr>\n",
       "    <tr>\n",
       "      <td>4</td>\n",
       "      <td>Indeed_SDE</td>\n",
       "      <td>2020-08-13</td>\n",
       "      <td>1745.443564</td>\n",
       "      <td>1734.172933</td>\n",
       "      <td>2020-08-20</td>\n",
       "      <td>1634.163169</td>\n",
       "    </tr>\n",
       "    <tr>\n",
       "      <td>5</td>\n",
       "      <td>Indeed_SDE</td>\n",
       "      <td>2020-08-14</td>\n",
       "      <td>1298.334229</td>\n",
       "      <td>1491.354331</td>\n",
       "      <td>2020-08-21</td>\n",
       "      <td>1495.009032</td>\n",
       "    </tr>\n",
       "    <tr>\n",
       "      <td>6</td>\n",
       "      <td>Indeed_SDE</td>\n",
       "      <td>2020-08-15</td>\n",
       "      <td>534.683828</td>\n",
       "      <td>593.215423</td>\n",
       "      <td>2020-08-22</td>\n",
       "      <td>953.049078</td>\n",
       "    </tr>\n",
       "    <tr>\n",
       "      <td>0</td>\n",
       "      <td>LinkedIn_SDE</td>\n",
       "      <td>2020-08-09</td>\n",
       "      <td>4435.994632</td>\n",
       "      <td>4469.170871</td>\n",
       "      <td>2020-08-16</td>\n",
       "      <td>3261.315777</td>\n",
       "    </tr>\n",
       "    <tr>\n",
       "      <td>1</td>\n",
       "      <td>LinkedIn_SDE</td>\n",
       "      <td>2020-08-10</td>\n",
       "      <td>3946.676256</td>\n",
       "      <td>3896.600094</td>\n",
       "      <td>2020-08-17</td>\n",
       "      <td>4121.700788</td>\n",
       "    </tr>\n",
       "    <tr>\n",
       "      <td>2</td>\n",
       "      <td>LinkedIn_SDE</td>\n",
       "      <td>2020-08-11</td>\n",
       "      <td>3904.214453</td>\n",
       "      <td>4472.943030</td>\n",
       "      <td>2020-08-18</td>\n",
       "      <td>3238.333317</td>\n",
       "    </tr>\n",
       "    <tr>\n",
       "      <td>3</td>\n",
       "      <td>LinkedIn_SDE</td>\n",
       "      <td>2020-08-12</td>\n",
       "      <td>4244.078643</td>\n",
       "      <td>4318.414832</td>\n",
       "      <td>2020-08-19</td>\n",
       "      <td>5110.244266</td>\n",
       "    </tr>\n",
       "    <tr>\n",
       "      <td>4</td>\n",
       "      <td>LinkedIn_SDE</td>\n",
       "      <td>2020-08-13</td>\n",
       "      <td>4853.946385</td>\n",
       "      <td>5219.158473</td>\n",
       "      <td>2020-08-20</td>\n",
       "      <td>4241.701144</td>\n",
       "    </tr>\n",
       "    <tr>\n",
       "      <td>5</td>\n",
       "      <td>LinkedIn_SDE</td>\n",
       "      <td>2020-08-14</td>\n",
       "      <td>4565.695900</td>\n",
       "      <td>4289.091613</td>\n",
       "      <td>2020-08-21</td>\n",
       "      <td>4896.068814</td>\n",
       "    </tr>\n",
       "    <tr>\n",
       "      <td>6</td>\n",
       "      <td>LinkedIn_SDE</td>\n",
       "      <td>2020-08-15</td>\n",
       "      <td>4297.889100</td>\n",
       "      <td>4393.512352</td>\n",
       "      <td>2020-08-22</td>\n",
       "      <td>4243.552831</td>\n",
       "    </tr>\n",
       "  </tbody>\n",
       "</table>\n",
       "</div>"
      ],
      "text/plain": [
       "         Source  Test_date   Yhat_varma  Yhat_varmax Future_date  \\\n",
       "0    Indeed_SDE 2020-08-09    74.547267   170.939982  2020-08-16   \n",
       "1    Indeed_SDE 2020-08-10   766.387521  1005.123513  2020-08-17   \n",
       "2    Indeed_SDE 2020-08-11  1567.627976  1567.271388  2020-08-18   \n",
       "3    Indeed_SDE 2020-08-12  1437.516685  1507.419922  2020-08-19   \n",
       "4    Indeed_SDE 2020-08-13  1745.443564  1734.172933  2020-08-20   \n",
       "5    Indeed_SDE 2020-08-14  1298.334229  1491.354331  2020-08-21   \n",
       "6    Indeed_SDE 2020-08-15   534.683828   593.215423  2020-08-22   \n",
       "0  LinkedIn_SDE 2020-08-09  4435.994632  4469.170871  2020-08-16   \n",
       "1  LinkedIn_SDE 2020-08-10  3946.676256  3896.600094  2020-08-17   \n",
       "2  LinkedIn_SDE 2020-08-11  3904.214453  4472.943030  2020-08-18   \n",
       "3  LinkedIn_SDE 2020-08-12  4244.078643  4318.414832  2020-08-19   \n",
       "4  LinkedIn_SDE 2020-08-13  4853.946385  5219.158473  2020-08-20   \n",
       "5  LinkedIn_SDE 2020-08-14  4565.695900  4289.091613  2020-08-21   \n",
       "6  LinkedIn_SDE 2020-08-15  4297.889100  4393.512352  2020-08-22   \n",
       "\n",
       "   Forecast_varmax  \n",
       "0       339.779806  \n",
       "1       791.477745  \n",
       "2      1300.681820  \n",
       "3      1366.356807  \n",
       "4      1634.163169  \n",
       "5      1495.009032  \n",
       "6       953.049078  \n",
       "0      3261.315777  \n",
       "1      4121.700788  \n",
       "2      3238.333317  \n",
       "3      5110.244266  \n",
       "4      4241.701144  \n",
       "5      4896.068814  \n",
       "6      4243.552831  "
      ]
     },
     "execution_count": 55,
     "metadata": {},
     "output_type": "execute_result"
    }
   ],
   "source": [
    "sde_combined = indeed_sde.append(linkedin_sde)\n",
    "sde_combined"
   ]
  },
  {
   "cell_type": "code",
   "execution_count": 56,
   "metadata": {},
   "outputs": [],
   "source": [
    "sde_combined.to_csv('/Users/tingtingweng/Documents/summer_intern/data/var_sde_0815.csv',index=False)"
   ]
  },
  {
   "cell_type": "code",
   "execution_count": 57,
   "metadata": {},
   "outputs": [
    {
     "data": {
      "text/html": [
       "<div>\n",
       "<style scoped>\n",
       "    .dataframe tbody tr th:only-of-type {\n",
       "        vertical-align: middle;\n",
       "    }\n",
       "\n",
       "    .dataframe tbody tr th {\n",
       "        vertical-align: top;\n",
       "    }\n",
       "\n",
       "    .dataframe thead th {\n",
       "        text-align: right;\n",
       "    }\n",
       "</style>\n",
       "<table border=\"1\" class=\"dataframe\">\n",
       "  <thead>\n",
       "    <tr style=\"text-align: right;\">\n",
       "      <th></th>\n",
       "      <th>Source</th>\n",
       "      <th>Test_date</th>\n",
       "      <th>Yhat_varma</th>\n",
       "      <th>Yhat_varmax</th>\n",
       "      <th>Future_date</th>\n",
       "      <th>Forecast_varmax</th>\n",
       "    </tr>\n",
       "  </thead>\n",
       "  <tbody>\n",
       "    <tr>\n",
       "      <td>0</td>\n",
       "      <td>Indeed_DS</td>\n",
       "      <td>2020-08-09</td>\n",
       "      <td>20.980635</td>\n",
       "      <td>36.005440</td>\n",
       "      <td>2020-08-16</td>\n",
       "      <td>95.398523</td>\n",
       "    </tr>\n",
       "    <tr>\n",
       "      <td>1</td>\n",
       "      <td>Indeed_DS</td>\n",
       "      <td>2020-08-10</td>\n",
       "      <td>162.067301</td>\n",
       "      <td>150.091450</td>\n",
       "      <td>2020-08-17</td>\n",
       "      <td>161.567159</td>\n",
       "    </tr>\n",
       "    <tr>\n",
       "      <td>2</td>\n",
       "      <td>Indeed_DS</td>\n",
       "      <td>2020-08-11</td>\n",
       "      <td>187.303514</td>\n",
       "      <td>159.933595</td>\n",
       "      <td>2020-08-18</td>\n",
       "      <td>226.551819</td>\n",
       "    </tr>\n",
       "    <tr>\n",
       "      <td>3</td>\n",
       "      <td>Indeed_DS</td>\n",
       "      <td>2020-08-12</td>\n",
       "      <td>223.290504</td>\n",
       "      <td>215.837825</td>\n",
       "      <td>2020-08-19</td>\n",
       "      <td>185.225254</td>\n",
       "    </tr>\n",
       "    <tr>\n",
       "      <td>4</td>\n",
       "      <td>Indeed_DS</td>\n",
       "      <td>2020-08-13</td>\n",
       "      <td>179.088326</td>\n",
       "      <td>187.010141</td>\n",
       "      <td>2020-08-20</td>\n",
       "      <td>261.120855</td>\n",
       "    </tr>\n",
       "    <tr>\n",
       "      <td>5</td>\n",
       "      <td>Indeed_DS</td>\n",
       "      <td>2020-08-14</td>\n",
       "      <td>216.299127</td>\n",
       "      <td>236.907966</td>\n",
       "      <td>2020-08-21</td>\n",
       "      <td>200.189607</td>\n",
       "    </tr>\n",
       "    <tr>\n",
       "      <td>6</td>\n",
       "      <td>Indeed_DS</td>\n",
       "      <td>2020-08-15</td>\n",
       "      <td>91.928873</td>\n",
       "      <td>90.116349</td>\n",
       "      <td>2020-08-22</td>\n",
       "      <td>151.479609</td>\n",
       "    </tr>\n",
       "    <tr>\n",
       "      <td>7</td>\n",
       "      <td>LinkedIn_DS</td>\n",
       "      <td>2020-08-09</td>\n",
       "      <td>549.455028</td>\n",
       "      <td>605.865936</td>\n",
       "      <td>2020-08-16</td>\n",
       "      <td>413.877435</td>\n",
       "    </tr>\n",
       "    <tr>\n",
       "      <td>8</td>\n",
       "      <td>LinkedIn_DS</td>\n",
       "      <td>2020-08-10</td>\n",
       "      <td>449.458831</td>\n",
       "      <td>522.479883</td>\n",
       "      <td>2020-08-17</td>\n",
       "      <td>603.853651</td>\n",
       "    </tr>\n",
       "    <tr>\n",
       "      <td>9</td>\n",
       "      <td>LinkedIn_DS</td>\n",
       "      <td>2020-08-11</td>\n",
       "      <td>550.142644</td>\n",
       "      <td>586.518102</td>\n",
       "      <td>2020-08-18</td>\n",
       "      <td>598.374612</td>\n",
       "    </tr>\n",
       "    <tr>\n",
       "      <td>10</td>\n",
       "      <td>LinkedIn_DS</td>\n",
       "      <td>2020-08-12</td>\n",
       "      <td>525.387808</td>\n",
       "      <td>592.652019</td>\n",
       "      <td>2020-08-19</td>\n",
       "      <td>746.627196</td>\n",
       "    </tr>\n",
       "    <tr>\n",
       "      <td>11</td>\n",
       "      <td>LinkedIn_DS</td>\n",
       "      <td>2020-08-13</td>\n",
       "      <td>639.878801</td>\n",
       "      <td>667.537542</td>\n",
       "      <td>2020-08-20</td>\n",
       "      <td>615.238074</td>\n",
       "    </tr>\n",
       "    <tr>\n",
       "      <td>12</td>\n",
       "      <td>LinkedIn_DS</td>\n",
       "      <td>2020-08-14</td>\n",
       "      <td>558.431746</td>\n",
       "      <td>646.637375</td>\n",
       "      <td>2020-08-21</td>\n",
       "      <td>678.706736</td>\n",
       "    </tr>\n",
       "    <tr>\n",
       "      <td>13</td>\n",
       "      <td>LinkedIn_DS</td>\n",
       "      <td>2020-08-15</td>\n",
       "      <td>520.401247</td>\n",
       "      <td>554.093101</td>\n",
       "      <td>2020-08-22</td>\n",
       "      <td>554.511686</td>\n",
       "    </tr>\n",
       "  </tbody>\n",
       "</table>\n",
       "</div>"
      ],
      "text/plain": [
       "         Source   Test_date  Yhat_varma  Yhat_varmax Future_date  \\\n",
       "0     Indeed_DS  2020-08-09   20.980635    36.005440  2020-08-16   \n",
       "1     Indeed_DS  2020-08-10  162.067301   150.091450  2020-08-17   \n",
       "2     Indeed_DS  2020-08-11  187.303514   159.933595  2020-08-18   \n",
       "3     Indeed_DS  2020-08-12  223.290504   215.837825  2020-08-19   \n",
       "4     Indeed_DS  2020-08-13  179.088326   187.010141  2020-08-20   \n",
       "5     Indeed_DS  2020-08-14  216.299127   236.907966  2020-08-21   \n",
       "6     Indeed_DS  2020-08-15   91.928873    90.116349  2020-08-22   \n",
       "7   LinkedIn_DS  2020-08-09  549.455028   605.865936  2020-08-16   \n",
       "8   LinkedIn_DS  2020-08-10  449.458831   522.479883  2020-08-17   \n",
       "9   LinkedIn_DS  2020-08-11  550.142644   586.518102  2020-08-18   \n",
       "10  LinkedIn_DS  2020-08-12  525.387808   592.652019  2020-08-19   \n",
       "11  LinkedIn_DS  2020-08-13  639.878801   667.537542  2020-08-20   \n",
       "12  LinkedIn_DS  2020-08-14  558.431746   646.637375  2020-08-21   \n",
       "13  LinkedIn_DS  2020-08-15  520.401247   554.093101  2020-08-22   \n",
       "\n",
       "    Forecast_varmax  \n",
       "0         95.398523  \n",
       "1        161.567159  \n",
       "2        226.551819  \n",
       "3        185.225254  \n",
       "4        261.120855  \n",
       "5        200.189607  \n",
       "6        151.479609  \n",
       "7        413.877435  \n",
       "8        603.853651  \n",
       "9        598.374612  \n",
       "10       746.627196  \n",
       "11       615.238074  \n",
       "12       678.706736  \n",
       "13       554.511686  "
      ]
     },
     "execution_count": 57,
     "metadata": {},
     "output_type": "execute_result"
    }
   ],
   "source": [
    "ds_combined = pd.read_csv('/Users/tingtingweng/Documents/summer_intern/data/var_ds_0815.csv')\n",
    "ds_combined"
   ]
  },
  {
   "cell_type": "code",
   "execution_count": 58,
   "metadata": {},
   "outputs": [
    {
     "data": {
      "text/html": [
       "<div>\n",
       "<style scoped>\n",
       "    .dataframe tbody tr th:only-of-type {\n",
       "        vertical-align: middle;\n",
       "    }\n",
       "\n",
       "    .dataframe tbody tr th {\n",
       "        vertical-align: top;\n",
       "    }\n",
       "\n",
       "    .dataframe thead th {\n",
       "        text-align: right;\n",
       "    }\n",
       "</style>\n",
       "<table border=\"1\" class=\"dataframe\">\n",
       "  <thead>\n",
       "    <tr style=\"text-align: right;\">\n",
       "      <th></th>\n",
       "      <th>Source</th>\n",
       "      <th>Test_date</th>\n",
       "      <th>Yhat_varma</th>\n",
       "      <th>Yhat_varmax</th>\n",
       "      <th>Future_date</th>\n",
       "      <th>Forecast_varmax</th>\n",
       "    </tr>\n",
       "  </thead>\n",
       "  <tbody>\n",
       "    <tr>\n",
       "      <td>0</td>\n",
       "      <td>Indeed_SDE</td>\n",
       "      <td>2020-08-09</td>\n",
       "      <td>74.547267</td>\n",
       "      <td>170.939982</td>\n",
       "      <td>2020-08-16</td>\n",
       "      <td>339.779806</td>\n",
       "    </tr>\n",
       "    <tr>\n",
       "      <td>1</td>\n",
       "      <td>Indeed_SDE</td>\n",
       "      <td>2020-08-10</td>\n",
       "      <td>766.387521</td>\n",
       "      <td>1005.123513</td>\n",
       "      <td>2020-08-17</td>\n",
       "      <td>791.477745</td>\n",
       "    </tr>\n",
       "    <tr>\n",
       "      <td>2</td>\n",
       "      <td>Indeed_SDE</td>\n",
       "      <td>2020-08-11</td>\n",
       "      <td>1567.627976</td>\n",
       "      <td>1567.271388</td>\n",
       "      <td>2020-08-18</td>\n",
       "      <td>1300.681820</td>\n",
       "    </tr>\n",
       "    <tr>\n",
       "      <td>3</td>\n",
       "      <td>Indeed_SDE</td>\n",
       "      <td>2020-08-12</td>\n",
       "      <td>1437.516685</td>\n",
       "      <td>1507.419922</td>\n",
       "      <td>2020-08-19</td>\n",
       "      <td>1366.356807</td>\n",
       "    </tr>\n",
       "    <tr>\n",
       "      <td>4</td>\n",
       "      <td>Indeed_SDE</td>\n",
       "      <td>2020-08-13</td>\n",
       "      <td>1745.443564</td>\n",
       "      <td>1734.172933</td>\n",
       "      <td>2020-08-20</td>\n",
       "      <td>1634.163169</td>\n",
       "    </tr>\n",
       "    <tr>\n",
       "      <td>5</td>\n",
       "      <td>Indeed_SDE</td>\n",
       "      <td>2020-08-14</td>\n",
       "      <td>1298.334229</td>\n",
       "      <td>1491.354331</td>\n",
       "      <td>2020-08-21</td>\n",
       "      <td>1495.009032</td>\n",
       "    </tr>\n",
       "    <tr>\n",
       "      <td>6</td>\n",
       "      <td>Indeed_SDE</td>\n",
       "      <td>2020-08-15</td>\n",
       "      <td>534.683828</td>\n",
       "      <td>593.215423</td>\n",
       "      <td>2020-08-22</td>\n",
       "      <td>953.049078</td>\n",
       "    </tr>\n",
       "    <tr>\n",
       "      <td>7</td>\n",
       "      <td>LinkedIn_SDE</td>\n",
       "      <td>2020-08-09</td>\n",
       "      <td>4435.994632</td>\n",
       "      <td>4469.170871</td>\n",
       "      <td>2020-08-16</td>\n",
       "      <td>3261.315777</td>\n",
       "    </tr>\n",
       "    <tr>\n",
       "      <td>8</td>\n",
       "      <td>LinkedIn_SDE</td>\n",
       "      <td>2020-08-10</td>\n",
       "      <td>3946.676256</td>\n",
       "      <td>3896.600094</td>\n",
       "      <td>2020-08-17</td>\n",
       "      <td>4121.700788</td>\n",
       "    </tr>\n",
       "    <tr>\n",
       "      <td>9</td>\n",
       "      <td>LinkedIn_SDE</td>\n",
       "      <td>2020-08-11</td>\n",
       "      <td>3904.214453</td>\n",
       "      <td>4472.943030</td>\n",
       "      <td>2020-08-18</td>\n",
       "      <td>3238.333317</td>\n",
       "    </tr>\n",
       "    <tr>\n",
       "      <td>10</td>\n",
       "      <td>LinkedIn_SDE</td>\n",
       "      <td>2020-08-12</td>\n",
       "      <td>4244.078643</td>\n",
       "      <td>4318.414832</td>\n",
       "      <td>2020-08-19</td>\n",
       "      <td>5110.244266</td>\n",
       "    </tr>\n",
       "    <tr>\n",
       "      <td>11</td>\n",
       "      <td>LinkedIn_SDE</td>\n",
       "      <td>2020-08-13</td>\n",
       "      <td>4853.946385</td>\n",
       "      <td>5219.158473</td>\n",
       "      <td>2020-08-20</td>\n",
       "      <td>4241.701144</td>\n",
       "    </tr>\n",
       "    <tr>\n",
       "      <td>12</td>\n",
       "      <td>LinkedIn_SDE</td>\n",
       "      <td>2020-08-14</td>\n",
       "      <td>4565.695900</td>\n",
       "      <td>4289.091613</td>\n",
       "      <td>2020-08-21</td>\n",
       "      <td>4896.068814</td>\n",
       "    </tr>\n",
       "    <tr>\n",
       "      <td>13</td>\n",
       "      <td>LinkedIn_SDE</td>\n",
       "      <td>2020-08-15</td>\n",
       "      <td>4297.889100</td>\n",
       "      <td>4393.512352</td>\n",
       "      <td>2020-08-22</td>\n",
       "      <td>4243.552831</td>\n",
       "    </tr>\n",
       "  </tbody>\n",
       "</table>\n",
       "</div>"
      ],
      "text/plain": [
       "          Source   Test_date   Yhat_varma  Yhat_varmax Future_date  \\\n",
       "0     Indeed_SDE  2020-08-09    74.547267   170.939982  2020-08-16   \n",
       "1     Indeed_SDE  2020-08-10   766.387521  1005.123513  2020-08-17   \n",
       "2     Indeed_SDE  2020-08-11  1567.627976  1567.271388  2020-08-18   \n",
       "3     Indeed_SDE  2020-08-12  1437.516685  1507.419922  2020-08-19   \n",
       "4     Indeed_SDE  2020-08-13  1745.443564  1734.172933  2020-08-20   \n",
       "5     Indeed_SDE  2020-08-14  1298.334229  1491.354331  2020-08-21   \n",
       "6     Indeed_SDE  2020-08-15   534.683828   593.215423  2020-08-22   \n",
       "7   LinkedIn_SDE  2020-08-09  4435.994632  4469.170871  2020-08-16   \n",
       "8   LinkedIn_SDE  2020-08-10  3946.676256  3896.600094  2020-08-17   \n",
       "9   LinkedIn_SDE  2020-08-11  3904.214453  4472.943030  2020-08-18   \n",
       "10  LinkedIn_SDE  2020-08-12  4244.078643  4318.414832  2020-08-19   \n",
       "11  LinkedIn_SDE  2020-08-13  4853.946385  5219.158473  2020-08-20   \n",
       "12  LinkedIn_SDE  2020-08-14  4565.695900  4289.091613  2020-08-21   \n",
       "13  LinkedIn_SDE  2020-08-15  4297.889100  4393.512352  2020-08-22   \n",
       "\n",
       "    Forecast_varmax  \n",
       "0        339.779806  \n",
       "1        791.477745  \n",
       "2       1300.681820  \n",
       "3       1366.356807  \n",
       "4       1634.163169  \n",
       "5       1495.009032  \n",
       "6        953.049078  \n",
       "7       3261.315777  \n",
       "8       4121.700788  \n",
       "9       3238.333317  \n",
       "10      5110.244266  \n",
       "11      4241.701144  \n",
       "12      4896.068814  \n",
       "13      4243.552831  "
      ]
     },
     "execution_count": 58,
     "metadata": {},
     "output_type": "execute_result"
    }
   ],
   "source": [
    "sde_combined = pd.read_csv('/Users/tingtingweng/Documents/summer_intern/data/var_sde_0815.csv')\n",
    "sde_combined"
   ]
  },
  {
   "cell_type": "code",
   "execution_count": 59,
   "metadata": {},
   "outputs": [
    {
     "data": {
      "text/html": [
       "<div>\n",
       "<style scoped>\n",
       "    .dataframe tbody tr th:only-of-type {\n",
       "        vertical-align: middle;\n",
       "    }\n",
       "\n",
       "    .dataframe tbody tr th {\n",
       "        vertical-align: top;\n",
       "    }\n",
       "\n",
       "    .dataframe thead th {\n",
       "        text-align: right;\n",
       "    }\n",
       "</style>\n",
       "<table border=\"1\" class=\"dataframe\">\n",
       "  <thead>\n",
       "    <tr style=\"text-align: right;\">\n",
       "      <th></th>\n",
       "      <th>Source</th>\n",
       "      <th>Test_date</th>\n",
       "      <th>Yhat_varma</th>\n",
       "      <th>Yhat_varmax</th>\n",
       "      <th>Future_date</th>\n",
       "      <th>Forecast_varmax</th>\n",
       "    </tr>\n",
       "  </thead>\n",
       "  <tbody>\n",
       "    <tr>\n",
       "      <td>0</td>\n",
       "      <td>Indeed_DS</td>\n",
       "      <td>2020-08-09</td>\n",
       "      <td>20.980635</td>\n",
       "      <td>36.005440</td>\n",
       "      <td>2020-08-16</td>\n",
       "      <td>95.398523</td>\n",
       "    </tr>\n",
       "    <tr>\n",
       "      <td>1</td>\n",
       "      <td>Indeed_DS</td>\n",
       "      <td>2020-08-10</td>\n",
       "      <td>162.067301</td>\n",
       "      <td>150.091450</td>\n",
       "      <td>2020-08-17</td>\n",
       "      <td>161.567159</td>\n",
       "    </tr>\n",
       "    <tr>\n",
       "      <td>2</td>\n",
       "      <td>Indeed_DS</td>\n",
       "      <td>2020-08-11</td>\n",
       "      <td>187.303514</td>\n",
       "      <td>159.933595</td>\n",
       "      <td>2020-08-18</td>\n",
       "      <td>226.551819</td>\n",
       "    </tr>\n",
       "    <tr>\n",
       "      <td>3</td>\n",
       "      <td>Indeed_DS</td>\n",
       "      <td>2020-08-12</td>\n",
       "      <td>223.290504</td>\n",
       "      <td>215.837825</td>\n",
       "      <td>2020-08-19</td>\n",
       "      <td>185.225254</td>\n",
       "    </tr>\n",
       "    <tr>\n",
       "      <td>4</td>\n",
       "      <td>Indeed_DS</td>\n",
       "      <td>2020-08-13</td>\n",
       "      <td>179.088326</td>\n",
       "      <td>187.010141</td>\n",
       "      <td>2020-08-20</td>\n",
       "      <td>261.120855</td>\n",
       "    </tr>\n",
       "    <tr>\n",
       "      <td>5</td>\n",
       "      <td>Indeed_DS</td>\n",
       "      <td>2020-08-14</td>\n",
       "      <td>216.299127</td>\n",
       "      <td>236.907966</td>\n",
       "      <td>2020-08-21</td>\n",
       "      <td>200.189607</td>\n",
       "    </tr>\n",
       "    <tr>\n",
       "      <td>6</td>\n",
       "      <td>Indeed_DS</td>\n",
       "      <td>2020-08-15</td>\n",
       "      <td>91.928873</td>\n",
       "      <td>90.116349</td>\n",
       "      <td>2020-08-22</td>\n",
       "      <td>151.479609</td>\n",
       "    </tr>\n",
       "    <tr>\n",
       "      <td>7</td>\n",
       "      <td>LinkedIn_DS</td>\n",
       "      <td>2020-08-09</td>\n",
       "      <td>549.455028</td>\n",
       "      <td>605.865936</td>\n",
       "      <td>2020-08-16</td>\n",
       "      <td>413.877435</td>\n",
       "    </tr>\n",
       "    <tr>\n",
       "      <td>8</td>\n",
       "      <td>LinkedIn_DS</td>\n",
       "      <td>2020-08-10</td>\n",
       "      <td>449.458831</td>\n",
       "      <td>522.479883</td>\n",
       "      <td>2020-08-17</td>\n",
       "      <td>603.853651</td>\n",
       "    </tr>\n",
       "    <tr>\n",
       "      <td>9</td>\n",
       "      <td>LinkedIn_DS</td>\n",
       "      <td>2020-08-11</td>\n",
       "      <td>550.142644</td>\n",
       "      <td>586.518102</td>\n",
       "      <td>2020-08-18</td>\n",
       "      <td>598.374612</td>\n",
       "    </tr>\n",
       "    <tr>\n",
       "      <td>10</td>\n",
       "      <td>LinkedIn_DS</td>\n",
       "      <td>2020-08-12</td>\n",
       "      <td>525.387808</td>\n",
       "      <td>592.652019</td>\n",
       "      <td>2020-08-19</td>\n",
       "      <td>746.627196</td>\n",
       "    </tr>\n",
       "    <tr>\n",
       "      <td>11</td>\n",
       "      <td>LinkedIn_DS</td>\n",
       "      <td>2020-08-13</td>\n",
       "      <td>639.878801</td>\n",
       "      <td>667.537542</td>\n",
       "      <td>2020-08-20</td>\n",
       "      <td>615.238074</td>\n",
       "    </tr>\n",
       "    <tr>\n",
       "      <td>12</td>\n",
       "      <td>LinkedIn_DS</td>\n",
       "      <td>2020-08-14</td>\n",
       "      <td>558.431746</td>\n",
       "      <td>646.637375</td>\n",
       "      <td>2020-08-21</td>\n",
       "      <td>678.706736</td>\n",
       "    </tr>\n",
       "    <tr>\n",
       "      <td>13</td>\n",
       "      <td>LinkedIn_DS</td>\n",
       "      <td>2020-08-15</td>\n",
       "      <td>520.401247</td>\n",
       "      <td>554.093101</td>\n",
       "      <td>2020-08-22</td>\n",
       "      <td>554.511686</td>\n",
       "    </tr>\n",
       "    <tr>\n",
       "      <td>0</td>\n",
       "      <td>Indeed_SDE</td>\n",
       "      <td>2020-08-09</td>\n",
       "      <td>74.547267</td>\n",
       "      <td>170.939982</td>\n",
       "      <td>2020-08-16</td>\n",
       "      <td>339.779806</td>\n",
       "    </tr>\n",
       "    <tr>\n",
       "      <td>1</td>\n",
       "      <td>Indeed_SDE</td>\n",
       "      <td>2020-08-10</td>\n",
       "      <td>766.387521</td>\n",
       "      <td>1005.123513</td>\n",
       "      <td>2020-08-17</td>\n",
       "      <td>791.477745</td>\n",
       "    </tr>\n",
       "    <tr>\n",
       "      <td>2</td>\n",
       "      <td>Indeed_SDE</td>\n",
       "      <td>2020-08-11</td>\n",
       "      <td>1567.627976</td>\n",
       "      <td>1567.271388</td>\n",
       "      <td>2020-08-18</td>\n",
       "      <td>1300.681820</td>\n",
       "    </tr>\n",
       "    <tr>\n",
       "      <td>3</td>\n",
       "      <td>Indeed_SDE</td>\n",
       "      <td>2020-08-12</td>\n",
       "      <td>1437.516685</td>\n",
       "      <td>1507.419922</td>\n",
       "      <td>2020-08-19</td>\n",
       "      <td>1366.356807</td>\n",
       "    </tr>\n",
       "    <tr>\n",
       "      <td>4</td>\n",
       "      <td>Indeed_SDE</td>\n",
       "      <td>2020-08-13</td>\n",
       "      <td>1745.443564</td>\n",
       "      <td>1734.172933</td>\n",
       "      <td>2020-08-20</td>\n",
       "      <td>1634.163169</td>\n",
       "    </tr>\n",
       "    <tr>\n",
       "      <td>5</td>\n",
       "      <td>Indeed_SDE</td>\n",
       "      <td>2020-08-14</td>\n",
       "      <td>1298.334229</td>\n",
       "      <td>1491.354331</td>\n",
       "      <td>2020-08-21</td>\n",
       "      <td>1495.009032</td>\n",
       "    </tr>\n",
       "    <tr>\n",
       "      <td>6</td>\n",
       "      <td>Indeed_SDE</td>\n",
       "      <td>2020-08-15</td>\n",
       "      <td>534.683828</td>\n",
       "      <td>593.215423</td>\n",
       "      <td>2020-08-22</td>\n",
       "      <td>953.049078</td>\n",
       "    </tr>\n",
       "    <tr>\n",
       "      <td>7</td>\n",
       "      <td>LinkedIn_SDE</td>\n",
       "      <td>2020-08-09</td>\n",
       "      <td>4435.994632</td>\n",
       "      <td>4469.170871</td>\n",
       "      <td>2020-08-16</td>\n",
       "      <td>3261.315777</td>\n",
       "    </tr>\n",
       "    <tr>\n",
       "      <td>8</td>\n",
       "      <td>LinkedIn_SDE</td>\n",
       "      <td>2020-08-10</td>\n",
       "      <td>3946.676256</td>\n",
       "      <td>3896.600094</td>\n",
       "      <td>2020-08-17</td>\n",
       "      <td>4121.700788</td>\n",
       "    </tr>\n",
       "    <tr>\n",
       "      <td>9</td>\n",
       "      <td>LinkedIn_SDE</td>\n",
       "      <td>2020-08-11</td>\n",
       "      <td>3904.214453</td>\n",
       "      <td>4472.943030</td>\n",
       "      <td>2020-08-18</td>\n",
       "      <td>3238.333317</td>\n",
       "    </tr>\n",
       "    <tr>\n",
       "      <td>10</td>\n",
       "      <td>LinkedIn_SDE</td>\n",
       "      <td>2020-08-12</td>\n",
       "      <td>4244.078643</td>\n",
       "      <td>4318.414832</td>\n",
       "      <td>2020-08-19</td>\n",
       "      <td>5110.244266</td>\n",
       "    </tr>\n",
       "    <tr>\n",
       "      <td>11</td>\n",
       "      <td>LinkedIn_SDE</td>\n",
       "      <td>2020-08-13</td>\n",
       "      <td>4853.946385</td>\n",
       "      <td>5219.158473</td>\n",
       "      <td>2020-08-20</td>\n",
       "      <td>4241.701144</td>\n",
       "    </tr>\n",
       "    <tr>\n",
       "      <td>12</td>\n",
       "      <td>LinkedIn_SDE</td>\n",
       "      <td>2020-08-14</td>\n",
       "      <td>4565.695900</td>\n",
       "      <td>4289.091613</td>\n",
       "      <td>2020-08-21</td>\n",
       "      <td>4896.068814</td>\n",
       "    </tr>\n",
       "    <tr>\n",
       "      <td>13</td>\n",
       "      <td>LinkedIn_SDE</td>\n",
       "      <td>2020-08-15</td>\n",
       "      <td>4297.889100</td>\n",
       "      <td>4393.512352</td>\n",
       "      <td>2020-08-22</td>\n",
       "      <td>4243.552831</td>\n",
       "    </tr>\n",
       "  </tbody>\n",
       "</table>\n",
       "</div>"
      ],
      "text/plain": [
       "          Source   Test_date   Yhat_varma  Yhat_varmax Future_date  \\\n",
       "0      Indeed_DS  2020-08-09    20.980635    36.005440  2020-08-16   \n",
       "1      Indeed_DS  2020-08-10   162.067301   150.091450  2020-08-17   \n",
       "2      Indeed_DS  2020-08-11   187.303514   159.933595  2020-08-18   \n",
       "3      Indeed_DS  2020-08-12   223.290504   215.837825  2020-08-19   \n",
       "4      Indeed_DS  2020-08-13   179.088326   187.010141  2020-08-20   \n",
       "5      Indeed_DS  2020-08-14   216.299127   236.907966  2020-08-21   \n",
       "6      Indeed_DS  2020-08-15    91.928873    90.116349  2020-08-22   \n",
       "7    LinkedIn_DS  2020-08-09   549.455028   605.865936  2020-08-16   \n",
       "8    LinkedIn_DS  2020-08-10   449.458831   522.479883  2020-08-17   \n",
       "9    LinkedIn_DS  2020-08-11   550.142644   586.518102  2020-08-18   \n",
       "10   LinkedIn_DS  2020-08-12   525.387808   592.652019  2020-08-19   \n",
       "11   LinkedIn_DS  2020-08-13   639.878801   667.537542  2020-08-20   \n",
       "12   LinkedIn_DS  2020-08-14   558.431746   646.637375  2020-08-21   \n",
       "13   LinkedIn_DS  2020-08-15   520.401247   554.093101  2020-08-22   \n",
       "0     Indeed_SDE  2020-08-09    74.547267   170.939982  2020-08-16   \n",
       "1     Indeed_SDE  2020-08-10   766.387521  1005.123513  2020-08-17   \n",
       "2     Indeed_SDE  2020-08-11  1567.627976  1567.271388  2020-08-18   \n",
       "3     Indeed_SDE  2020-08-12  1437.516685  1507.419922  2020-08-19   \n",
       "4     Indeed_SDE  2020-08-13  1745.443564  1734.172933  2020-08-20   \n",
       "5     Indeed_SDE  2020-08-14  1298.334229  1491.354331  2020-08-21   \n",
       "6     Indeed_SDE  2020-08-15   534.683828   593.215423  2020-08-22   \n",
       "7   LinkedIn_SDE  2020-08-09  4435.994632  4469.170871  2020-08-16   \n",
       "8   LinkedIn_SDE  2020-08-10  3946.676256  3896.600094  2020-08-17   \n",
       "9   LinkedIn_SDE  2020-08-11  3904.214453  4472.943030  2020-08-18   \n",
       "10  LinkedIn_SDE  2020-08-12  4244.078643  4318.414832  2020-08-19   \n",
       "11  LinkedIn_SDE  2020-08-13  4853.946385  5219.158473  2020-08-20   \n",
       "12  LinkedIn_SDE  2020-08-14  4565.695900  4289.091613  2020-08-21   \n",
       "13  LinkedIn_SDE  2020-08-15  4297.889100  4393.512352  2020-08-22   \n",
       "\n",
       "    Forecast_varmax  \n",
       "0         95.398523  \n",
       "1        161.567159  \n",
       "2        226.551819  \n",
       "3        185.225254  \n",
       "4        261.120855  \n",
       "5        200.189607  \n",
       "6        151.479609  \n",
       "7        413.877435  \n",
       "8        603.853651  \n",
       "9        598.374612  \n",
       "10       746.627196  \n",
       "11       615.238074  \n",
       "12       678.706736  \n",
       "13       554.511686  \n",
       "0        339.779806  \n",
       "1        791.477745  \n",
       "2       1300.681820  \n",
       "3       1366.356807  \n",
       "4       1634.163169  \n",
       "5       1495.009032  \n",
       "6        953.049078  \n",
       "7       3261.315777  \n",
       "8       4121.700788  \n",
       "9       3238.333317  \n",
       "10      5110.244266  \n",
       "11      4241.701144  \n",
       "12      4896.068814  \n",
       "13      4243.552831  "
      ]
     },
     "execution_count": 59,
     "metadata": {},
     "output_type": "execute_result"
    }
   ],
   "source": [
    "tot_combined = ds_combined.append(sde_combined)\n",
    "tot_combined"
   ]
  },
  {
   "cell_type": "code",
   "execution_count": 60,
   "metadata": {},
   "outputs": [],
   "source": [
    "tot_combined.to_csv('/Users/tingtingweng/Documents/summer_intern/data/var_ds_sde_0815.csv',index=False)"
   ]
  }
 ],
 "metadata": {
  "kernelspec": {
   "display_name": "Python 3",
   "language": "python",
   "name": "python3"
  },
  "language_info": {
   "codemirror_mode": {
    "name": "ipython",
    "version": 3
   },
   "file_extension": ".py",
   "mimetype": "text/x-python",
   "name": "python",
   "nbconvert_exporter": "python",
   "pygments_lexer": "ipython3",
   "version": "3.7.4"
  }
 },
 "nbformat": 4,
 "nbformat_minor": 2
}
