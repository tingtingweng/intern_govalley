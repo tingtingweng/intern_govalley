{
 "cells": [
  {
   "cell_type": "code",
   "execution_count": 1,
   "metadata": {},
   "outputs": [
    {
     "data": {
      "text/html": [
       "        <script type=\"text/javascript\">\n",
       "        window.PlotlyConfig = {MathJaxConfig: 'local'};\n",
       "        if (window.MathJax) {MathJax.Hub.Config({SVG: {font: \"STIX-Web\"}});}\n",
       "        if (typeof require !== 'undefined') {\n",
       "        require.undef(\"plotly\");\n",
       "        requirejs.config({\n",
       "            paths: {\n",
       "                'plotly': ['https://cdn.plot.ly/plotly-latest.min']\n",
       "            }\n",
       "        });\n",
       "        require(['plotly'], function(Plotly) {\n",
       "            window._Plotly = Plotly;\n",
       "        });\n",
       "        }\n",
       "        </script>\n",
       "        "
      ]
     },
     "metadata": {},
     "output_type": "display_data"
    }
   ],
   "source": [
    "import pandas as pd\n",
    "import numpy as np\n",
    "import os\n",
    "import seaborn as sns\n",
    "import matplotlib.pyplot as plt\n",
    "%matplotlib inline\n",
    "\n",
    "import plotly as py\n",
    "import plotly.graph_objs as go\n",
    "from plotly.subplots import make_subplots\n",
    "from plotly.offline import download_plotlyjs, init_notebook_mode, plot, iplot\n",
    "import plotly.express as px\n",
    "from plotly.subplots import make_subplots\n",
    "import datetime as dt\n",
    "from datetime import timedelta\n",
    "from sklearn.model_selection import GridSearchCV\n",
    "from sklearn.preprocessing import StandardScaler\n",
    "from sklearn.cluster import KMeans\n",
    "from sklearn.metrics import silhouette_score,silhouette_samples\n",
    "from sklearn.linear_model import LinearRegression,Ridge,Lasso\n",
    "from sklearn.svm import SVR\n",
    "from sklearn.metrics import mean_squared_error,r2_score\n",
    "import statsmodels.api as sm\n",
    "from statsmodels.tsa.api import Holt,SimpleExpSmoothing,ExponentialSmoothing\n",
    "#from fbprophet import Prophet\n",
    "from sklearn.preprocessing import PolynomialFeatures\n",
    "from statsmodels.tsa.stattools import adfuller\n",
    "\n",
    "std=StandardScaler()\n",
    "# set up everything so that the figures show up in the notebook\n",
    "init_notebook_mode(connected=True)"
   ]
  },
  {
   "cell_type": "code",
   "execution_count": 2,
   "metadata": {},
   "outputs": [],
   "source": [
    "from statsmodels.tsa.statespace.sarimax import SARIMAX\n",
    "from statsmodels.tsa.api import VAR\n",
    "from statsmodels.tsa.statespace.varmax import VARMAX\n",
    "from multiprocessing import cpu_count\n",
    "from joblib import Parallel, delayed\n",
    "from warnings import catch_warnings, filterwarnings\n",
    "from statsmodels.tools.eval_measures import rmse, aic\n",
    "\n",
    "filterwarnings('ignore')"
   ]
  },
  {
   "cell_type": "markdown",
   "metadata": {},
   "source": [
    "# Indeed data modeling"
   ]
  },
  {
   "cell_type": "markdown",
   "metadata": {},
   "source": [
    "## Load data"
   ]
  },
  {
   "cell_type": "code",
   "execution_count": 3,
   "metadata": {},
   "outputs": [
    {
     "data": {
      "text/html": [
       "<div>\n",
       "<style scoped>\n",
       "    .dataframe tbody tr th:only-of-type {\n",
       "        vertical-align: middle;\n",
       "    }\n",
       "\n",
       "    .dataframe tbody tr th {\n",
       "        vertical-align: top;\n",
       "    }\n",
       "\n",
       "    .dataframe thead th {\n",
       "        text-align: right;\n",
       "    }\n",
       "</style>\n",
       "<table border=\"1\" class=\"dataframe\">\n",
       "  <thead>\n",
       "    <tr style=\"text-align: right;\">\n",
       "      <th></th>\n",
       "      <th>Title</th>\n",
       "      <th>Company</th>\n",
       "      <th>State</th>\n",
       "      <th>Location</th>\n",
       "      <th>Date</th>\n",
       "      <th>Salary</th>\n",
       "      <th>Summary</th>\n",
       "      <th>Description</th>\n",
       "      <th>Code</th>\n",
       "      <th>Post date</th>\n",
       "      <th>Day of week</th>\n",
       "      <th>City</th>\n",
       "    </tr>\n",
       "  </thead>\n",
       "  <tbody>\n",
       "    <tr>\n",
       "      <td>0</td>\n",
       "      <td>Senior Data Analyst</td>\n",
       "      <td>Pack Health</td>\n",
       "      <td>Alabama</td>\n",
       "      <td>Birmingham, AL 35203 (Fountain Heights area)</td>\n",
       "      <td>2 days ago</td>\n",
       "      <td>NaN</td>\n",
       "      <td>Analyzing and reporting of health outcomes and...</td>\n",
       "      <td>Pack Health is a digital health coaching platf...</td>\n",
       "      <td>AL</td>\n",
       "      <td>2020-08-14</td>\n",
       "      <td>Fri</td>\n",
       "      <td>Birmingham</td>\n",
       "    </tr>\n",
       "    <tr>\n",
       "      <td>1</td>\n",
       "      <td>DATA SCIENTIST I</td>\n",
       "      <td>BBVA Continental</td>\n",
       "      <td>Alabama</td>\n",
       "      <td>Birmingham, AL</td>\n",
       "      <td>3 days ago</td>\n",
       "      <td>NaN</td>\n",
       "      <td>Perform data analytics in support of various b...</td>\n",
       "      <td>Location: Birmingham, Alabama. United States J...</td>\n",
       "      <td>AL</td>\n",
       "      <td>2020-08-13</td>\n",
       "      <td>Thu</td>\n",
       "      <td>Birmingham</td>\n",
       "    </tr>\n",
       "    <tr>\n",
       "      <td>2</td>\n",
       "      <td>DATA SCIENTIST I</td>\n",
       "      <td>BBVA</td>\n",
       "      <td>Alabama</td>\n",
       "      <td>Birmingham, AL 35233 (Southside area)</td>\n",
       "      <td>3 days ago</td>\n",
       "      <td>NaN</td>\n",
       "      <td>Perform data analytics in support of various b...</td>\n",
       "      <td>Company: Compass Bank dba BBVA Compass Locatio...</td>\n",
       "      <td>AL</td>\n",
       "      <td>2020-08-13</td>\n",
       "      <td>Thu</td>\n",
       "      <td>Birmingham</td>\n",
       "    </tr>\n",
       "    <tr>\n",
       "      <td>3</td>\n",
       "      <td>Data Engineer</td>\n",
       "      <td>Riverstone Solutions</td>\n",
       "      <td>Alabama</td>\n",
       "      <td>Huntsville, AL</td>\n",
       "      <td>3 days ago</td>\n",
       "      <td>NaN</td>\n",
       "      <td>Experience using data analytics and visualizat...</td>\n",
       "      <td>Full Time Huntsville, AL Job Description:  Riv...</td>\n",
       "      <td>AL</td>\n",
       "      <td>2020-08-13</td>\n",
       "      <td>Thu</td>\n",
       "      <td>Huntsville</td>\n",
       "    </tr>\n",
       "    <tr>\n",
       "      <td>4</td>\n",
       "      <td>Artificial Intelligence (AI) and Machine Learn...</td>\n",
       "      <td>COLSA</td>\n",
       "      <td>Alabama</td>\n",
       "      <td>Huntsville, AL 35806</td>\n",
       "      <td>4 days ago</td>\n",
       "      <td>NaN</td>\n",
       "      <td>Work closely with developers and engineers to ...</td>\n",
       "      <td>General Summary   Conducts highly specialized,...</td>\n",
       "      <td>AL</td>\n",
       "      <td>2020-08-12</td>\n",
       "      <td>Wed</td>\n",
       "      <td>Huntsville</td>\n",
       "    </tr>\n",
       "  </tbody>\n",
       "</table>\n",
       "</div>"
      ],
      "text/plain": [
       "                                               Title               Company  \\\n",
       "0                                Senior Data Analyst           Pack Health   \n",
       "1                                   DATA SCIENTIST I      BBVA Continental   \n",
       "2                                   DATA SCIENTIST I                  BBVA   \n",
       "3                                      Data Engineer  Riverstone Solutions   \n",
       "4  Artificial Intelligence (AI) and Machine Learn...                 COLSA   \n",
       "\n",
       "     State                                      Location        Date Salary  \\\n",
       "0  Alabama  Birmingham, AL 35203 (Fountain Heights area)  2 days ago    NaN   \n",
       "1  Alabama                                Birmingham, AL  3 days ago    NaN   \n",
       "2  Alabama         Birmingham, AL 35233 (Southside area)  3 days ago    NaN   \n",
       "3  Alabama                                Huntsville, AL  3 days ago    NaN   \n",
       "4  Alabama                          Huntsville, AL 35806  4 days ago    NaN   \n",
       "\n",
       "                                             Summary  \\\n",
       "0  Analyzing and reporting of health outcomes and...   \n",
       "1  Perform data analytics in support of various b...   \n",
       "2  Perform data analytics in support of various b...   \n",
       "3  Experience using data analytics and visualizat...   \n",
       "4  Work closely with developers and engineers to ...   \n",
       "\n",
       "                                         Description Code   Post date  \\\n",
       "0  Pack Health is a digital health coaching platf...   AL  2020-08-14   \n",
       "1  Location: Birmingham, Alabama. United States J...   AL  2020-08-13   \n",
       "2  Company: Compass Bank dba BBVA Compass Locatio...   AL  2020-08-13   \n",
       "3  Full Time Huntsville, AL Job Description:  Riv...   AL  2020-08-13   \n",
       "4  General Summary   Conducts highly specialized,...   AL  2020-08-12   \n",
       "\n",
       "  Day of week        City  \n",
       "0         Fri  Birmingham  \n",
       "1         Thu  Birmingham  \n",
       "2         Thu  Birmingham  \n",
       "3         Thu  Huntsville  \n",
       "4         Wed  Huntsville  "
      ]
     },
     "execution_count": 3,
     "metadata": {},
     "output_type": "execute_result"
    }
   ],
   "source": [
    "df_indeed = pd.read_csv('/Users/tingtingweng/Documents/summer_intern/data/Indeed_DSJobs_20200816_combined.csv')\n",
    "df_indeed.head()"
   ]
  },
  {
   "cell_type": "code",
   "execution_count": 45,
   "metadata": {},
   "outputs": [
    {
     "data": {
      "text/html": [
       "<div>\n",
       "<style scoped>\n",
       "    .dataframe tbody tr th:only-of-type {\n",
       "        vertical-align: middle;\n",
       "    }\n",
       "\n",
       "    .dataframe tbody tr th {\n",
       "        vertical-align: top;\n",
       "    }\n",
       "\n",
       "    .dataframe thead th {\n",
       "        text-align: right;\n",
       "    }\n",
       "</style>\n",
       "<table border=\"1\" class=\"dataframe\">\n",
       "  <thead>\n",
       "    <tr style=\"text-align: right;\">\n",
       "      <th></th>\n",
       "      <th>Title</th>\n",
       "      <th>Company</th>\n",
       "      <th>State</th>\n",
       "      <th>Location</th>\n",
       "      <th>Date</th>\n",
       "      <th>Salary</th>\n",
       "      <th>Summary</th>\n",
       "      <th>Description</th>\n",
       "      <th>Code</th>\n",
       "      <th>Post date</th>\n",
       "      <th>Day of week</th>\n",
       "      <th>City</th>\n",
       "    </tr>\n",
       "  </thead>\n",
       "  <tbody>\n",
       "    <tr>\n",
       "      <td>0</td>\n",
       "      <td>Senior Data Analyst</td>\n",
       "      <td>Pack Health</td>\n",
       "      <td>Alabama</td>\n",
       "      <td>Birmingham, AL 35203 (Fountain Heights area)</td>\n",
       "      <td>2 days ago</td>\n",
       "      <td>NaN</td>\n",
       "      <td>Analyzing and reporting of health outcomes and...</td>\n",
       "      <td>Pack Health is a digital health coaching platf...</td>\n",
       "      <td>AL</td>\n",
       "      <td>2020-08-14</td>\n",
       "      <td>Fri</td>\n",
       "      <td>Birmingham</td>\n",
       "    </tr>\n",
       "    <tr>\n",
       "      <td>1</td>\n",
       "      <td>DATA SCIENTIST I</td>\n",
       "      <td>BBVA Continental</td>\n",
       "      <td>Alabama</td>\n",
       "      <td>Birmingham, AL</td>\n",
       "      <td>3 days ago</td>\n",
       "      <td>NaN</td>\n",
       "      <td>Perform data analytics in support of various b...</td>\n",
       "      <td>Location: Birmingham, Alabama. United States J...</td>\n",
       "      <td>AL</td>\n",
       "      <td>2020-08-13</td>\n",
       "      <td>Thu</td>\n",
       "      <td>Birmingham</td>\n",
       "    </tr>\n",
       "    <tr>\n",
       "      <td>2</td>\n",
       "      <td>DATA SCIENTIST I</td>\n",
       "      <td>BBVA</td>\n",
       "      <td>Alabama</td>\n",
       "      <td>Birmingham, AL 35233 (Southside area)</td>\n",
       "      <td>3 days ago</td>\n",
       "      <td>NaN</td>\n",
       "      <td>Perform data analytics in support of various b...</td>\n",
       "      <td>Company: Compass Bank dba BBVA Compass Locatio...</td>\n",
       "      <td>AL</td>\n",
       "      <td>2020-08-13</td>\n",
       "      <td>Thu</td>\n",
       "      <td>Birmingham</td>\n",
       "    </tr>\n",
       "    <tr>\n",
       "      <td>3</td>\n",
       "      <td>Data Engineer</td>\n",
       "      <td>Riverstone Solutions</td>\n",
       "      <td>Alabama</td>\n",
       "      <td>Huntsville, AL</td>\n",
       "      <td>3 days ago</td>\n",
       "      <td>NaN</td>\n",
       "      <td>Experience using data analytics and visualizat...</td>\n",
       "      <td>Full Time Huntsville, AL Job Description:  Riv...</td>\n",
       "      <td>AL</td>\n",
       "      <td>2020-08-13</td>\n",
       "      <td>Thu</td>\n",
       "      <td>Huntsville</td>\n",
       "    </tr>\n",
       "    <tr>\n",
       "      <td>4</td>\n",
       "      <td>Artificial Intelligence (AI) and Machine Learn...</td>\n",
       "      <td>COLSA</td>\n",
       "      <td>Alabama</td>\n",
       "      <td>Huntsville, AL 35806</td>\n",
       "      <td>4 days ago</td>\n",
       "      <td>NaN</td>\n",
       "      <td>Work closely with developers and engineers to ...</td>\n",
       "      <td>General Summary   Conducts highly specialized,...</td>\n",
       "      <td>AL</td>\n",
       "      <td>2020-08-12</td>\n",
       "      <td>Wed</td>\n",
       "      <td>Huntsville</td>\n",
       "    </tr>\n",
       "    <tr>\n",
       "      <td>...</td>\n",
       "      <td>...</td>\n",
       "      <td>...</td>\n",
       "      <td>...</td>\n",
       "      <td>...</td>\n",
       "      <td>...</td>\n",
       "      <td>...</td>\n",
       "      <td>...</td>\n",
       "      <td>...</td>\n",
       "      <td>...</td>\n",
       "      <td>...</td>\n",
       "      <td>...</td>\n",
       "      <td>...</td>\n",
       "    </tr>\n",
       "    <tr>\n",
       "      <td>10477</td>\n",
       "      <td>Supervisory Research Statistician</td>\n",
       "      <td>US Department of Labor</td>\n",
       "      <td>Washington, DC</td>\n",
       "      <td>Washington, DC</td>\n",
       "      <td>22 days ago</td>\n",
       "      <td>$142,701 - $170,800 a year</td>\n",
       "      <td>Encourages and nurtures interaction among beha...</td>\n",
       "      <td>Duties Summary The Bureau of Labor Statistics ...</td>\n",
       "      <td>DC</td>\n",
       "      <td>2020-05-26</td>\n",
       "      <td>Tue</td>\n",
       "      <td>Washington</td>\n",
       "    </tr>\n",
       "    <tr>\n",
       "      <td>10478</td>\n",
       "      <td>Supervisory Mathematical Statistician, GS-1529...</td>\n",
       "      <td>US Department of Commerce</td>\n",
       "      <td>Washington, DC</td>\n",
       "      <td>Suitland, MD</td>\n",
       "      <td>27 days ago</td>\n",
       "      <td>$121,316 - $157,709 a year</td>\n",
       "      <td>The experience offered in combination with edu...</td>\n",
       "      <td>Duties Summary This vacancy is for a Superviso...</td>\n",
       "      <td>MD</td>\n",
       "      <td>2020-05-21</td>\n",
       "      <td>Thu</td>\n",
       "      <td>Suitland</td>\n",
       "    </tr>\n",
       "    <tr>\n",
       "      <td>10479</td>\n",
       "      <td>Full Stack Developer - Data Science</td>\n",
       "      <td>Guidehouse</td>\n",
       "      <td>Washington, DC</td>\n",
       "      <td>Washington, DC 20006 (Foggy Bottom area)</td>\n",
       "      <td>25 days ago</td>\n",
       "      <td>NaN</td>\n",
       "      <td>As a full stack engineer on the team you will ...</td>\n",
       "      <td>Overview: Interested in working with talented ...</td>\n",
       "      <td>DC</td>\n",
       "      <td>2020-05-23</td>\n",
       "      <td>Sat</td>\n",
       "      <td>Washington</td>\n",
       "    </tr>\n",
       "    <tr>\n",
       "      <td>10480</td>\n",
       "      <td>Machine Learning Engineer, Lead</td>\n",
       "      <td>Booz Allen Hamilton</td>\n",
       "      <td>Washington, DC</td>\n",
       "      <td>Arlington, VA 22202 (Aurora Highlands area)</td>\n",
       "      <td>27 days ago</td>\n",
       "      <td>NaN</td>\n",
       "      <td>You’ll mentor teammates, develop algorithms, w...</td>\n",
       "      <td>The Challenge: Are you excited at the prospect...</td>\n",
       "      <td>VA</td>\n",
       "      <td>2020-05-21</td>\n",
       "      <td>Thu</td>\n",
       "      <td>Arlington</td>\n",
       "    </tr>\n",
       "    <tr>\n",
       "      <td>10481</td>\n",
       "      <td>AI Software Engineer</td>\n",
       "      <td>Johns Hopkins Applied Physics Laboratory (APL)</td>\n",
       "      <td>Washington, DC</td>\n",
       "      <td>Laurel, MD 20708</td>\n",
       "      <td>29 days ago</td>\n",
       "      <td>NaN</td>\n",
       "      <td>You will work with a skilled team of engineers...</td>\n",
       "      <td>Are you an experienced software engineer or co...</td>\n",
       "      <td>MD</td>\n",
       "      <td>2020-05-19</td>\n",
       "      <td>Tue</td>\n",
       "      <td>Laurel</td>\n",
       "    </tr>\n",
       "  </tbody>\n",
       "</table>\n",
       "<p>10482 rows × 12 columns</p>\n",
       "</div>"
      ],
      "text/plain": [
       "                                                   Title  \\\n",
       "0                                    Senior Data Analyst   \n",
       "1                                       DATA SCIENTIST I   \n",
       "2                                       DATA SCIENTIST I   \n",
       "3                                          Data Engineer   \n",
       "4      Artificial Intelligence (AI) and Machine Learn...   \n",
       "...                                                  ...   \n",
       "10477                  Supervisory Research Statistician   \n",
       "10478  Supervisory Mathematical Statistician, GS-1529...   \n",
       "10479                Full Stack Developer - Data Science   \n",
       "10480                    Machine Learning Engineer, Lead   \n",
       "10481                               AI Software Engineer   \n",
       "\n",
       "                                              Company           State  \\\n",
       "0                                         Pack Health         Alabama   \n",
       "1                                    BBVA Continental         Alabama   \n",
       "2                                                BBVA         Alabama   \n",
       "3                                Riverstone Solutions         Alabama   \n",
       "4                                               COLSA         Alabama   \n",
       "...                                               ...             ...   \n",
       "10477                          US Department of Labor  Washington, DC   \n",
       "10478                       US Department of Commerce  Washington, DC   \n",
       "10479                                      Guidehouse  Washington, DC   \n",
       "10480                             Booz Allen Hamilton  Washington, DC   \n",
       "10481  Johns Hopkins Applied Physics Laboratory (APL)  Washington, DC   \n",
       "\n",
       "                                           Location         Date  \\\n",
       "0      Birmingham, AL 35203 (Fountain Heights area)   2 days ago   \n",
       "1                                    Birmingham, AL   3 days ago   \n",
       "2             Birmingham, AL 35233 (Southside area)   3 days ago   \n",
       "3                                    Huntsville, AL   3 days ago   \n",
       "4                              Huntsville, AL 35806   4 days ago   \n",
       "...                                             ...          ...   \n",
       "10477                                Washington, DC  22 days ago   \n",
       "10478                                  Suitland, MD  27 days ago   \n",
       "10479      Washington, DC 20006 (Foggy Bottom area)  25 days ago   \n",
       "10480   Arlington, VA 22202 (Aurora Highlands area)  27 days ago   \n",
       "10481                              Laurel, MD 20708  29 days ago   \n",
       "\n",
       "                           Salary  \\\n",
       "0                             NaN   \n",
       "1                             NaN   \n",
       "2                             NaN   \n",
       "3                             NaN   \n",
       "4                             NaN   \n",
       "...                           ...   \n",
       "10477  $142,701 - $170,800 a year   \n",
       "10478  $121,316 - $157,709 a year   \n",
       "10479                         NaN   \n",
       "10480                         NaN   \n",
       "10481                         NaN   \n",
       "\n",
       "                                                 Summary  \\\n",
       "0      Analyzing and reporting of health outcomes and...   \n",
       "1      Perform data analytics in support of various b...   \n",
       "2      Perform data analytics in support of various b...   \n",
       "3      Experience using data analytics and visualizat...   \n",
       "4      Work closely with developers and engineers to ...   \n",
       "...                                                  ...   \n",
       "10477  Encourages and nurtures interaction among beha...   \n",
       "10478  The experience offered in combination with edu...   \n",
       "10479  As a full stack engineer on the team you will ...   \n",
       "10480  You’ll mentor teammates, develop algorithms, w...   \n",
       "10481  You will work with a skilled team of engineers...   \n",
       "\n",
       "                                             Description Code   Post date  \\\n",
       "0      Pack Health is a digital health coaching platf...   AL  2020-08-14   \n",
       "1      Location: Birmingham, Alabama. United States J...   AL  2020-08-13   \n",
       "2      Company: Compass Bank dba BBVA Compass Locatio...   AL  2020-08-13   \n",
       "3      Full Time Huntsville, AL Job Description:  Riv...   AL  2020-08-13   \n",
       "4      General Summary   Conducts highly specialized,...   AL  2020-08-12   \n",
       "...                                                  ...  ...         ...   \n",
       "10477  Duties Summary The Bureau of Labor Statistics ...   DC  2020-05-26   \n",
       "10478  Duties Summary This vacancy is for a Superviso...   MD  2020-05-21   \n",
       "10479  Overview: Interested in working with talented ...   DC  2020-05-23   \n",
       "10480  The Challenge: Are you excited at the prospect...   VA  2020-05-21   \n",
       "10481  Are you an experienced software engineer or co...   MD  2020-05-19   \n",
       "\n",
       "      Day of week        City  \n",
       "0             Fri  Birmingham  \n",
       "1             Thu  Birmingham  \n",
       "2             Thu  Birmingham  \n",
       "3             Thu  Huntsville  \n",
       "4             Wed  Huntsville  \n",
       "...           ...         ...  \n",
       "10477         Tue  Washington  \n",
       "10478         Thu    Suitland  \n",
       "10479         Sat  Washington  \n",
       "10480         Thu   Arlington  \n",
       "10481         Tue      Laurel  \n",
       "\n",
       "[10482 rows x 12 columns]"
      ]
     },
     "execution_count": 45,
     "metadata": {},
     "output_type": "execute_result"
    }
   ],
   "source": [
    "df_indeed"
   ]
  },
  {
   "cell_type": "code",
   "execution_count": 4,
   "metadata": {},
   "outputs": [],
   "source": [
    "bydate = df_indeed.groupby('Post date').size()\n",
    "\n",
    "df_date_indeed = pd.DataFrame({'Date': bydate.index, 'Jobnums': bydate.values})"
   ]
  },
  {
   "cell_type": "code",
   "execution_count": 5,
   "metadata": {},
   "outputs": [
    {
     "data": {
      "application/vnd.plotly.v1+json": {
       "config": {
        "plotlyServerURL": "https://plot.ly"
       },
       "data": [
        {
         "mode": "lines+markers",
         "type": "scatter",
         "x": [
          "2020-05-19",
          "2020-05-20",
          "2020-05-21",
          "2020-05-22",
          "2020-05-23",
          "2020-05-24",
          "2020-05-25",
          "2020-05-26",
          "2020-05-27",
          "2020-05-28",
          "2020-05-29",
          "2020-05-30",
          "2020-05-31",
          "2020-06-01",
          "2020-06-02",
          "2020-06-03",
          "2020-06-04",
          "2020-06-05",
          "2020-06-06",
          "2020-06-07",
          "2020-06-08",
          "2020-06-09",
          "2020-06-10",
          "2020-06-11",
          "2020-06-12",
          "2020-06-13",
          "2020-06-14",
          "2020-06-15",
          "2020-06-16",
          "2020-06-17",
          "2020-06-18",
          "2020-06-19",
          "2020-06-20",
          "2020-06-21",
          "2020-06-22",
          "2020-06-23",
          "2020-06-24",
          "2020-06-25",
          "2020-06-26",
          "2020-06-27",
          "2020-06-28",
          "2020-06-29",
          "2020-06-30",
          "2020-07-01",
          "2020-07-02",
          "2020-07-03",
          "2020-07-04",
          "2020-07-05",
          "2020-07-06",
          "2020-07-07",
          "2020-07-08",
          "2020-07-09",
          "2020-07-10",
          "2020-07-11",
          "2020-07-12",
          "2020-07-13",
          "2020-07-14",
          "2020-07-15",
          "2020-07-16",
          "2020-07-17",
          "2020-07-18",
          "2020-07-19",
          "2020-07-20",
          "2020-07-21",
          "2020-07-22",
          "2020-07-23",
          "2020-07-24",
          "2020-07-25",
          "2020-07-26",
          "2020-07-27",
          "2020-07-28",
          "2020-07-29",
          "2020-07-30",
          "2020-07-31",
          "2020-08-01",
          "2020-08-02",
          "2020-08-03",
          "2020-08-04",
          "2020-08-05",
          "2020-08-06",
          "2020-08-07",
          "2020-08-08",
          "2020-08-09",
          "2020-08-10",
          "2020-08-11",
          "2020-08-12",
          "2020-08-13",
          "2020-08-14",
          "2020-08-15",
          "2020-08-16"
         ],
         "y": [
          45,
          57,
          47,
          51,
          51,
          8,
          3,
          15,
          53,
          71,
          66,
          58,
          9,
          17,
          76,
          73,
          104,
          80,
          58,
          5,
          17,
          78,
          84,
          115,
          150,
          102,
          12,
          29,
          127,
          223,
          90,
          94,
          16,
          2,
          67,
          80,
          111,
          97,
          124,
          27,
          7,
          62,
          216,
          130,
          90,
          48,
          26,
          36,
          99,
          226,
          231,
          234,
          193,
          89,
          23,
          344,
          285,
          276,
          231,
          96,
          147,
          16,
          86,
          254,
          231,
          272,
          203,
          139,
          14,
          196,
          209,
          284,
          311,
          495,
          142,
          21,
          73,
          175,
          129,
          220,
          163,
          82,
          12,
          136,
          177,
          205,
          196,
          256,
          94,
          10
         ]
        }
       ],
       "layout": {
        "template": {
         "data": {
          "bar": [
           {
            "error_x": {
             "color": "#2a3f5f"
            },
            "error_y": {
             "color": "#2a3f5f"
            },
            "marker": {
             "line": {
              "color": "#E5ECF6",
              "width": 0.5
             }
            },
            "type": "bar"
           }
          ],
          "barpolar": [
           {
            "marker": {
             "line": {
              "color": "#E5ECF6",
              "width": 0.5
             }
            },
            "type": "barpolar"
           }
          ],
          "carpet": [
           {
            "aaxis": {
             "endlinecolor": "#2a3f5f",
             "gridcolor": "white",
             "linecolor": "white",
             "minorgridcolor": "white",
             "startlinecolor": "#2a3f5f"
            },
            "baxis": {
             "endlinecolor": "#2a3f5f",
             "gridcolor": "white",
             "linecolor": "white",
             "minorgridcolor": "white",
             "startlinecolor": "#2a3f5f"
            },
            "type": "carpet"
           }
          ],
          "choropleth": [
           {
            "colorbar": {
             "outlinewidth": 0,
             "ticks": ""
            },
            "type": "choropleth"
           }
          ],
          "contour": [
           {
            "colorbar": {
             "outlinewidth": 0,
             "ticks": ""
            },
            "colorscale": [
             [
              0,
              "#0d0887"
             ],
             [
              0.1111111111111111,
              "#46039f"
             ],
             [
              0.2222222222222222,
              "#7201a8"
             ],
             [
              0.3333333333333333,
              "#9c179e"
             ],
             [
              0.4444444444444444,
              "#bd3786"
             ],
             [
              0.5555555555555556,
              "#d8576b"
             ],
             [
              0.6666666666666666,
              "#ed7953"
             ],
             [
              0.7777777777777778,
              "#fb9f3a"
             ],
             [
              0.8888888888888888,
              "#fdca26"
             ],
             [
              1,
              "#f0f921"
             ]
            ],
            "type": "contour"
           }
          ],
          "contourcarpet": [
           {
            "colorbar": {
             "outlinewidth": 0,
             "ticks": ""
            },
            "type": "contourcarpet"
           }
          ],
          "heatmap": [
           {
            "colorbar": {
             "outlinewidth": 0,
             "ticks": ""
            },
            "colorscale": [
             [
              0,
              "#0d0887"
             ],
             [
              0.1111111111111111,
              "#46039f"
             ],
             [
              0.2222222222222222,
              "#7201a8"
             ],
             [
              0.3333333333333333,
              "#9c179e"
             ],
             [
              0.4444444444444444,
              "#bd3786"
             ],
             [
              0.5555555555555556,
              "#d8576b"
             ],
             [
              0.6666666666666666,
              "#ed7953"
             ],
             [
              0.7777777777777778,
              "#fb9f3a"
             ],
             [
              0.8888888888888888,
              "#fdca26"
             ],
             [
              1,
              "#f0f921"
             ]
            ],
            "type": "heatmap"
           }
          ],
          "heatmapgl": [
           {
            "colorbar": {
             "outlinewidth": 0,
             "ticks": ""
            },
            "colorscale": [
             [
              0,
              "#0d0887"
             ],
             [
              0.1111111111111111,
              "#46039f"
             ],
             [
              0.2222222222222222,
              "#7201a8"
             ],
             [
              0.3333333333333333,
              "#9c179e"
             ],
             [
              0.4444444444444444,
              "#bd3786"
             ],
             [
              0.5555555555555556,
              "#d8576b"
             ],
             [
              0.6666666666666666,
              "#ed7953"
             ],
             [
              0.7777777777777778,
              "#fb9f3a"
             ],
             [
              0.8888888888888888,
              "#fdca26"
             ],
             [
              1,
              "#f0f921"
             ]
            ],
            "type": "heatmapgl"
           }
          ],
          "histogram": [
           {
            "marker": {
             "colorbar": {
              "outlinewidth": 0,
              "ticks": ""
             }
            },
            "type": "histogram"
           }
          ],
          "histogram2d": [
           {
            "colorbar": {
             "outlinewidth": 0,
             "ticks": ""
            },
            "colorscale": [
             [
              0,
              "#0d0887"
             ],
             [
              0.1111111111111111,
              "#46039f"
             ],
             [
              0.2222222222222222,
              "#7201a8"
             ],
             [
              0.3333333333333333,
              "#9c179e"
             ],
             [
              0.4444444444444444,
              "#bd3786"
             ],
             [
              0.5555555555555556,
              "#d8576b"
             ],
             [
              0.6666666666666666,
              "#ed7953"
             ],
             [
              0.7777777777777778,
              "#fb9f3a"
             ],
             [
              0.8888888888888888,
              "#fdca26"
             ],
             [
              1,
              "#f0f921"
             ]
            ],
            "type": "histogram2d"
           }
          ],
          "histogram2dcontour": [
           {
            "colorbar": {
             "outlinewidth": 0,
             "ticks": ""
            },
            "colorscale": [
             [
              0,
              "#0d0887"
             ],
             [
              0.1111111111111111,
              "#46039f"
             ],
             [
              0.2222222222222222,
              "#7201a8"
             ],
             [
              0.3333333333333333,
              "#9c179e"
             ],
             [
              0.4444444444444444,
              "#bd3786"
             ],
             [
              0.5555555555555556,
              "#d8576b"
             ],
             [
              0.6666666666666666,
              "#ed7953"
             ],
             [
              0.7777777777777778,
              "#fb9f3a"
             ],
             [
              0.8888888888888888,
              "#fdca26"
             ],
             [
              1,
              "#f0f921"
             ]
            ],
            "type": "histogram2dcontour"
           }
          ],
          "mesh3d": [
           {
            "colorbar": {
             "outlinewidth": 0,
             "ticks": ""
            },
            "type": "mesh3d"
           }
          ],
          "parcoords": [
           {
            "line": {
             "colorbar": {
              "outlinewidth": 0,
              "ticks": ""
             }
            },
            "type": "parcoords"
           }
          ],
          "pie": [
           {
            "automargin": true,
            "type": "pie"
           }
          ],
          "scatter": [
           {
            "marker": {
             "colorbar": {
              "outlinewidth": 0,
              "ticks": ""
             }
            },
            "type": "scatter"
           }
          ],
          "scatter3d": [
           {
            "line": {
             "colorbar": {
              "outlinewidth": 0,
              "ticks": ""
             }
            },
            "marker": {
             "colorbar": {
              "outlinewidth": 0,
              "ticks": ""
             }
            },
            "type": "scatter3d"
           }
          ],
          "scattercarpet": [
           {
            "marker": {
             "colorbar": {
              "outlinewidth": 0,
              "ticks": ""
             }
            },
            "type": "scattercarpet"
           }
          ],
          "scattergeo": [
           {
            "marker": {
             "colorbar": {
              "outlinewidth": 0,
              "ticks": ""
             }
            },
            "type": "scattergeo"
           }
          ],
          "scattergl": [
           {
            "marker": {
             "colorbar": {
              "outlinewidth": 0,
              "ticks": ""
             }
            },
            "type": "scattergl"
           }
          ],
          "scattermapbox": [
           {
            "marker": {
             "colorbar": {
              "outlinewidth": 0,
              "ticks": ""
             }
            },
            "type": "scattermapbox"
           }
          ],
          "scatterpolar": [
           {
            "marker": {
             "colorbar": {
              "outlinewidth": 0,
              "ticks": ""
             }
            },
            "type": "scatterpolar"
           }
          ],
          "scatterpolargl": [
           {
            "marker": {
             "colorbar": {
              "outlinewidth": 0,
              "ticks": ""
             }
            },
            "type": "scatterpolargl"
           }
          ],
          "scatterternary": [
           {
            "marker": {
             "colorbar": {
              "outlinewidth": 0,
              "ticks": ""
             }
            },
            "type": "scatterternary"
           }
          ],
          "surface": [
           {
            "colorbar": {
             "outlinewidth": 0,
             "ticks": ""
            },
            "colorscale": [
             [
              0,
              "#0d0887"
             ],
             [
              0.1111111111111111,
              "#46039f"
             ],
             [
              0.2222222222222222,
              "#7201a8"
             ],
             [
              0.3333333333333333,
              "#9c179e"
             ],
             [
              0.4444444444444444,
              "#bd3786"
             ],
             [
              0.5555555555555556,
              "#d8576b"
             ],
             [
              0.6666666666666666,
              "#ed7953"
             ],
             [
              0.7777777777777778,
              "#fb9f3a"
             ],
             [
              0.8888888888888888,
              "#fdca26"
             ],
             [
              1,
              "#f0f921"
             ]
            ],
            "type": "surface"
           }
          ],
          "table": [
           {
            "cells": {
             "fill": {
              "color": "#EBF0F8"
             },
             "line": {
              "color": "white"
             }
            },
            "header": {
             "fill": {
              "color": "#C8D4E3"
             },
             "line": {
              "color": "white"
             }
            },
            "type": "table"
           }
          ]
         },
         "layout": {
          "annotationdefaults": {
           "arrowcolor": "#2a3f5f",
           "arrowhead": 0,
           "arrowwidth": 1
          },
          "coloraxis": {
           "colorbar": {
            "outlinewidth": 0,
            "ticks": ""
           }
          },
          "colorscale": {
           "diverging": [
            [
             0,
             "#8e0152"
            ],
            [
             0.1,
             "#c51b7d"
            ],
            [
             0.2,
             "#de77ae"
            ],
            [
             0.3,
             "#f1b6da"
            ],
            [
             0.4,
             "#fde0ef"
            ],
            [
             0.5,
             "#f7f7f7"
            ],
            [
             0.6,
             "#e6f5d0"
            ],
            [
             0.7,
             "#b8e186"
            ],
            [
             0.8,
             "#7fbc41"
            ],
            [
             0.9,
             "#4d9221"
            ],
            [
             1,
             "#276419"
            ]
           ],
           "sequential": [
            [
             0,
             "#0d0887"
            ],
            [
             0.1111111111111111,
             "#46039f"
            ],
            [
             0.2222222222222222,
             "#7201a8"
            ],
            [
             0.3333333333333333,
             "#9c179e"
            ],
            [
             0.4444444444444444,
             "#bd3786"
            ],
            [
             0.5555555555555556,
             "#d8576b"
            ],
            [
             0.6666666666666666,
             "#ed7953"
            ],
            [
             0.7777777777777778,
             "#fb9f3a"
            ],
            [
             0.8888888888888888,
             "#fdca26"
            ],
            [
             1,
             "#f0f921"
            ]
           ],
           "sequentialminus": [
            [
             0,
             "#0d0887"
            ],
            [
             0.1111111111111111,
             "#46039f"
            ],
            [
             0.2222222222222222,
             "#7201a8"
            ],
            [
             0.3333333333333333,
             "#9c179e"
            ],
            [
             0.4444444444444444,
             "#bd3786"
            ],
            [
             0.5555555555555556,
             "#d8576b"
            ],
            [
             0.6666666666666666,
             "#ed7953"
            ],
            [
             0.7777777777777778,
             "#fb9f3a"
            ],
            [
             0.8888888888888888,
             "#fdca26"
            ],
            [
             1,
             "#f0f921"
            ]
           ]
          },
          "colorway": [
           "#636efa",
           "#EF553B",
           "#00cc96",
           "#ab63fa",
           "#FFA15A",
           "#19d3f3",
           "#FF6692",
           "#B6E880",
           "#FF97FF",
           "#FECB52"
          ],
          "font": {
           "color": "#2a3f5f"
          },
          "geo": {
           "bgcolor": "white",
           "lakecolor": "white",
           "landcolor": "#E5ECF6",
           "showlakes": true,
           "showland": true,
           "subunitcolor": "white"
          },
          "hoverlabel": {
           "align": "left"
          },
          "hovermode": "closest",
          "mapbox": {
           "style": "light"
          },
          "paper_bgcolor": "white",
          "plot_bgcolor": "#E5ECF6",
          "polar": {
           "angularaxis": {
            "gridcolor": "white",
            "linecolor": "white",
            "ticks": ""
           },
           "bgcolor": "#E5ECF6",
           "radialaxis": {
            "gridcolor": "white",
            "linecolor": "white",
            "ticks": ""
           }
          },
          "scene": {
           "xaxis": {
            "backgroundcolor": "#E5ECF6",
            "gridcolor": "white",
            "gridwidth": 2,
            "linecolor": "white",
            "showbackground": true,
            "ticks": "",
            "zerolinecolor": "white"
           },
           "yaxis": {
            "backgroundcolor": "#E5ECF6",
            "gridcolor": "white",
            "gridwidth": 2,
            "linecolor": "white",
            "showbackground": true,
            "ticks": "",
            "zerolinecolor": "white"
           },
           "zaxis": {
            "backgroundcolor": "#E5ECF6",
            "gridcolor": "white",
            "gridwidth": 2,
            "linecolor": "white",
            "showbackground": true,
            "ticks": "",
            "zerolinecolor": "white"
           }
          },
          "shapedefaults": {
           "line": {
            "color": "#2a3f5f"
           }
          },
          "ternary": {
           "aaxis": {
            "gridcolor": "white",
            "linecolor": "white",
            "ticks": ""
           },
           "baxis": {
            "gridcolor": "white",
            "linecolor": "white",
            "ticks": ""
           },
           "bgcolor": "#E5ECF6",
           "caxis": {
            "gridcolor": "white",
            "linecolor": "white",
            "ticks": ""
           }
          },
          "title": {
           "x": 0.05
          },
          "xaxis": {
           "automargin": true,
           "gridcolor": "white",
           "linecolor": "white",
           "ticks": "",
           "title": {
            "standoff": 15
           },
           "zerolinecolor": "white",
           "zerolinewidth": 2
          },
          "yaxis": {
           "automargin": true,
           "gridcolor": "white",
           "linecolor": "white",
           "ticks": "",
           "title": {
            "standoff": 15
           },
           "zerolinecolor": "white",
           "zerolinewidth": 2
          }
         }
        },
        "title": {
         "text": "Data scientist open positions vs. post date"
        }
       }
      },
      "text/html": [
       "<div>\n",
       "        \n",
       "        \n",
       "            <div id=\"2ee2882f-6b6e-413b-b5f2-400b9a83be9d\" class=\"plotly-graph-div\" style=\"height:525px; width:100%;\"></div>\n",
       "            <script type=\"text/javascript\">\n",
       "                require([\"plotly\"], function(Plotly) {\n",
       "                    window.PLOTLYENV=window.PLOTLYENV || {};\n",
       "                    \n",
       "                if (document.getElementById(\"2ee2882f-6b6e-413b-b5f2-400b9a83be9d\")) {\n",
       "                    Plotly.newPlot(\n",
       "                        '2ee2882f-6b6e-413b-b5f2-400b9a83be9d',\n",
       "                        [{\"mode\": \"lines+markers\", \"type\": \"scatter\", \"x\": [\"2020-05-19\", \"2020-05-20\", \"2020-05-21\", \"2020-05-22\", \"2020-05-23\", \"2020-05-24\", \"2020-05-25\", \"2020-05-26\", \"2020-05-27\", \"2020-05-28\", \"2020-05-29\", \"2020-05-30\", \"2020-05-31\", \"2020-06-01\", \"2020-06-02\", \"2020-06-03\", \"2020-06-04\", \"2020-06-05\", \"2020-06-06\", \"2020-06-07\", \"2020-06-08\", \"2020-06-09\", \"2020-06-10\", \"2020-06-11\", \"2020-06-12\", \"2020-06-13\", \"2020-06-14\", \"2020-06-15\", \"2020-06-16\", \"2020-06-17\", \"2020-06-18\", \"2020-06-19\", \"2020-06-20\", \"2020-06-21\", \"2020-06-22\", \"2020-06-23\", \"2020-06-24\", \"2020-06-25\", \"2020-06-26\", \"2020-06-27\", \"2020-06-28\", \"2020-06-29\", \"2020-06-30\", \"2020-07-01\", \"2020-07-02\", \"2020-07-03\", \"2020-07-04\", \"2020-07-05\", \"2020-07-06\", \"2020-07-07\", \"2020-07-08\", \"2020-07-09\", \"2020-07-10\", \"2020-07-11\", \"2020-07-12\", \"2020-07-13\", \"2020-07-14\", \"2020-07-15\", \"2020-07-16\", \"2020-07-17\", \"2020-07-18\", \"2020-07-19\", \"2020-07-20\", \"2020-07-21\", \"2020-07-22\", \"2020-07-23\", \"2020-07-24\", \"2020-07-25\", \"2020-07-26\", \"2020-07-27\", \"2020-07-28\", \"2020-07-29\", \"2020-07-30\", \"2020-07-31\", \"2020-08-01\", \"2020-08-02\", \"2020-08-03\", \"2020-08-04\", \"2020-08-05\", \"2020-08-06\", \"2020-08-07\", \"2020-08-08\", \"2020-08-09\", \"2020-08-10\", \"2020-08-11\", \"2020-08-12\", \"2020-08-13\", \"2020-08-14\", \"2020-08-15\", \"2020-08-16\"], \"y\": [45, 57, 47, 51, 51, 8, 3, 15, 53, 71, 66, 58, 9, 17, 76, 73, 104, 80, 58, 5, 17, 78, 84, 115, 150, 102, 12, 29, 127, 223, 90, 94, 16, 2, 67, 80, 111, 97, 124, 27, 7, 62, 216, 130, 90, 48, 26, 36, 99, 226, 231, 234, 193, 89, 23, 344, 285, 276, 231, 96, 147, 16, 86, 254, 231, 272, 203, 139, 14, 196, 209, 284, 311, 495, 142, 21, 73, 175, 129, 220, 163, 82, 12, 136, 177, 205, 196, 256, 94, 10]}],\n",
       "                        {\"template\": {\"data\": {\"bar\": [{\"error_x\": {\"color\": \"#2a3f5f\"}, \"error_y\": {\"color\": \"#2a3f5f\"}, \"marker\": {\"line\": {\"color\": \"#E5ECF6\", \"width\": 0.5}}, \"type\": \"bar\"}], \"barpolar\": [{\"marker\": {\"line\": {\"color\": \"#E5ECF6\", \"width\": 0.5}}, \"type\": \"barpolar\"}], \"carpet\": [{\"aaxis\": {\"endlinecolor\": \"#2a3f5f\", \"gridcolor\": \"white\", \"linecolor\": \"white\", \"minorgridcolor\": \"white\", \"startlinecolor\": \"#2a3f5f\"}, \"baxis\": {\"endlinecolor\": \"#2a3f5f\", \"gridcolor\": \"white\", \"linecolor\": \"white\", \"minorgridcolor\": \"white\", \"startlinecolor\": \"#2a3f5f\"}, \"type\": \"carpet\"}], \"choropleth\": [{\"colorbar\": {\"outlinewidth\": 0, \"ticks\": \"\"}, \"type\": \"choropleth\"}], \"contour\": [{\"colorbar\": {\"outlinewidth\": 0, \"ticks\": \"\"}, \"colorscale\": [[0.0, \"#0d0887\"], [0.1111111111111111, \"#46039f\"], [0.2222222222222222, \"#7201a8\"], [0.3333333333333333, \"#9c179e\"], [0.4444444444444444, \"#bd3786\"], [0.5555555555555556, \"#d8576b\"], [0.6666666666666666, \"#ed7953\"], [0.7777777777777778, \"#fb9f3a\"], [0.8888888888888888, \"#fdca26\"], [1.0, \"#f0f921\"]], \"type\": \"contour\"}], \"contourcarpet\": [{\"colorbar\": {\"outlinewidth\": 0, \"ticks\": \"\"}, \"type\": \"contourcarpet\"}], \"heatmap\": [{\"colorbar\": {\"outlinewidth\": 0, \"ticks\": \"\"}, \"colorscale\": [[0.0, \"#0d0887\"], [0.1111111111111111, \"#46039f\"], [0.2222222222222222, \"#7201a8\"], [0.3333333333333333, \"#9c179e\"], [0.4444444444444444, \"#bd3786\"], [0.5555555555555556, \"#d8576b\"], [0.6666666666666666, \"#ed7953\"], [0.7777777777777778, \"#fb9f3a\"], [0.8888888888888888, \"#fdca26\"], [1.0, \"#f0f921\"]], \"type\": \"heatmap\"}], \"heatmapgl\": [{\"colorbar\": {\"outlinewidth\": 0, \"ticks\": \"\"}, \"colorscale\": [[0.0, \"#0d0887\"], [0.1111111111111111, \"#46039f\"], [0.2222222222222222, \"#7201a8\"], [0.3333333333333333, \"#9c179e\"], [0.4444444444444444, \"#bd3786\"], [0.5555555555555556, \"#d8576b\"], [0.6666666666666666, \"#ed7953\"], [0.7777777777777778, \"#fb9f3a\"], [0.8888888888888888, \"#fdca26\"], [1.0, \"#f0f921\"]], \"type\": \"heatmapgl\"}], \"histogram\": [{\"marker\": {\"colorbar\": {\"outlinewidth\": 0, \"ticks\": \"\"}}, \"type\": \"histogram\"}], \"histogram2d\": [{\"colorbar\": {\"outlinewidth\": 0, \"ticks\": \"\"}, \"colorscale\": [[0.0, \"#0d0887\"], [0.1111111111111111, \"#46039f\"], [0.2222222222222222, \"#7201a8\"], [0.3333333333333333, \"#9c179e\"], [0.4444444444444444, \"#bd3786\"], [0.5555555555555556, \"#d8576b\"], [0.6666666666666666, \"#ed7953\"], [0.7777777777777778, \"#fb9f3a\"], [0.8888888888888888, \"#fdca26\"], [1.0, \"#f0f921\"]], \"type\": \"histogram2d\"}], \"histogram2dcontour\": [{\"colorbar\": {\"outlinewidth\": 0, \"ticks\": \"\"}, \"colorscale\": [[0.0, \"#0d0887\"], [0.1111111111111111, \"#46039f\"], [0.2222222222222222, \"#7201a8\"], [0.3333333333333333, \"#9c179e\"], [0.4444444444444444, \"#bd3786\"], [0.5555555555555556, \"#d8576b\"], [0.6666666666666666, \"#ed7953\"], [0.7777777777777778, \"#fb9f3a\"], [0.8888888888888888, \"#fdca26\"], [1.0, \"#f0f921\"]], \"type\": \"histogram2dcontour\"}], \"mesh3d\": [{\"colorbar\": {\"outlinewidth\": 0, \"ticks\": \"\"}, \"type\": \"mesh3d\"}], \"parcoords\": [{\"line\": {\"colorbar\": {\"outlinewidth\": 0, \"ticks\": \"\"}}, \"type\": \"parcoords\"}], \"pie\": [{\"automargin\": true, \"type\": \"pie\"}], \"scatter\": [{\"marker\": {\"colorbar\": {\"outlinewidth\": 0, \"ticks\": \"\"}}, \"type\": \"scatter\"}], \"scatter3d\": [{\"line\": {\"colorbar\": {\"outlinewidth\": 0, \"ticks\": \"\"}}, \"marker\": {\"colorbar\": {\"outlinewidth\": 0, \"ticks\": \"\"}}, \"type\": \"scatter3d\"}], \"scattercarpet\": [{\"marker\": {\"colorbar\": {\"outlinewidth\": 0, \"ticks\": \"\"}}, \"type\": \"scattercarpet\"}], \"scattergeo\": [{\"marker\": {\"colorbar\": {\"outlinewidth\": 0, \"ticks\": \"\"}}, \"type\": \"scattergeo\"}], \"scattergl\": [{\"marker\": {\"colorbar\": {\"outlinewidth\": 0, \"ticks\": \"\"}}, \"type\": \"scattergl\"}], \"scattermapbox\": [{\"marker\": {\"colorbar\": {\"outlinewidth\": 0, \"ticks\": \"\"}}, \"type\": \"scattermapbox\"}], \"scatterpolar\": [{\"marker\": {\"colorbar\": {\"outlinewidth\": 0, \"ticks\": \"\"}}, \"type\": \"scatterpolar\"}], \"scatterpolargl\": [{\"marker\": {\"colorbar\": {\"outlinewidth\": 0, \"ticks\": \"\"}}, \"type\": \"scatterpolargl\"}], \"scatterternary\": [{\"marker\": {\"colorbar\": {\"outlinewidth\": 0, \"ticks\": \"\"}}, \"type\": \"scatterternary\"}], \"surface\": [{\"colorbar\": {\"outlinewidth\": 0, \"ticks\": \"\"}, \"colorscale\": [[0.0, \"#0d0887\"], [0.1111111111111111, \"#46039f\"], [0.2222222222222222, \"#7201a8\"], [0.3333333333333333, \"#9c179e\"], [0.4444444444444444, \"#bd3786\"], [0.5555555555555556, \"#d8576b\"], [0.6666666666666666, \"#ed7953\"], [0.7777777777777778, \"#fb9f3a\"], [0.8888888888888888, \"#fdca26\"], [1.0, \"#f0f921\"]], \"type\": \"surface\"}], \"table\": [{\"cells\": {\"fill\": {\"color\": \"#EBF0F8\"}, \"line\": {\"color\": \"white\"}}, \"header\": {\"fill\": {\"color\": \"#C8D4E3\"}, \"line\": {\"color\": \"white\"}}, \"type\": \"table\"}]}, \"layout\": {\"annotationdefaults\": {\"arrowcolor\": \"#2a3f5f\", \"arrowhead\": 0, \"arrowwidth\": 1}, \"coloraxis\": {\"colorbar\": {\"outlinewidth\": 0, \"ticks\": \"\"}}, \"colorscale\": {\"diverging\": [[0, \"#8e0152\"], [0.1, \"#c51b7d\"], [0.2, \"#de77ae\"], [0.3, \"#f1b6da\"], [0.4, \"#fde0ef\"], [0.5, \"#f7f7f7\"], [0.6, \"#e6f5d0\"], [0.7, \"#b8e186\"], [0.8, \"#7fbc41\"], [0.9, \"#4d9221\"], [1, \"#276419\"]], \"sequential\": [[0.0, \"#0d0887\"], [0.1111111111111111, \"#46039f\"], [0.2222222222222222, \"#7201a8\"], [0.3333333333333333, \"#9c179e\"], [0.4444444444444444, \"#bd3786\"], [0.5555555555555556, \"#d8576b\"], [0.6666666666666666, \"#ed7953\"], [0.7777777777777778, \"#fb9f3a\"], [0.8888888888888888, \"#fdca26\"], [1.0, \"#f0f921\"]], \"sequentialminus\": [[0.0, \"#0d0887\"], [0.1111111111111111, \"#46039f\"], [0.2222222222222222, \"#7201a8\"], [0.3333333333333333, \"#9c179e\"], [0.4444444444444444, \"#bd3786\"], [0.5555555555555556, \"#d8576b\"], [0.6666666666666666, \"#ed7953\"], [0.7777777777777778, \"#fb9f3a\"], [0.8888888888888888, \"#fdca26\"], [1.0, \"#f0f921\"]]}, \"colorway\": [\"#636efa\", \"#EF553B\", \"#00cc96\", \"#ab63fa\", \"#FFA15A\", \"#19d3f3\", \"#FF6692\", \"#B6E880\", \"#FF97FF\", \"#FECB52\"], \"font\": {\"color\": \"#2a3f5f\"}, \"geo\": {\"bgcolor\": \"white\", \"lakecolor\": \"white\", \"landcolor\": \"#E5ECF6\", \"showlakes\": true, \"showland\": true, \"subunitcolor\": \"white\"}, \"hoverlabel\": {\"align\": \"left\"}, \"hovermode\": \"closest\", \"mapbox\": {\"style\": \"light\"}, \"paper_bgcolor\": \"white\", \"plot_bgcolor\": \"#E5ECF6\", \"polar\": {\"angularaxis\": {\"gridcolor\": \"white\", \"linecolor\": \"white\", \"ticks\": \"\"}, \"bgcolor\": \"#E5ECF6\", \"radialaxis\": {\"gridcolor\": \"white\", \"linecolor\": \"white\", \"ticks\": \"\"}}, \"scene\": {\"xaxis\": {\"backgroundcolor\": \"#E5ECF6\", \"gridcolor\": \"white\", \"gridwidth\": 2, \"linecolor\": \"white\", \"showbackground\": true, \"ticks\": \"\", \"zerolinecolor\": \"white\"}, \"yaxis\": {\"backgroundcolor\": \"#E5ECF6\", \"gridcolor\": \"white\", \"gridwidth\": 2, \"linecolor\": \"white\", \"showbackground\": true, \"ticks\": \"\", \"zerolinecolor\": \"white\"}, \"zaxis\": {\"backgroundcolor\": \"#E5ECF6\", \"gridcolor\": \"white\", \"gridwidth\": 2, \"linecolor\": \"white\", \"showbackground\": true, \"ticks\": \"\", \"zerolinecolor\": \"white\"}}, \"shapedefaults\": {\"line\": {\"color\": \"#2a3f5f\"}}, \"ternary\": {\"aaxis\": {\"gridcolor\": \"white\", \"linecolor\": \"white\", \"ticks\": \"\"}, \"baxis\": {\"gridcolor\": \"white\", \"linecolor\": \"white\", \"ticks\": \"\"}, \"bgcolor\": \"#E5ECF6\", \"caxis\": {\"gridcolor\": \"white\", \"linecolor\": \"white\", \"ticks\": \"\"}}, \"title\": {\"x\": 0.05}, \"xaxis\": {\"automargin\": true, \"gridcolor\": \"white\", \"linecolor\": \"white\", \"ticks\": \"\", \"title\": {\"standoff\": 15}, \"zerolinecolor\": \"white\", \"zerolinewidth\": 2}, \"yaxis\": {\"automargin\": true, \"gridcolor\": \"white\", \"linecolor\": \"white\", \"ticks\": \"\", \"title\": {\"standoff\": 15}, \"zerolinecolor\": \"white\", \"zerolinewidth\": 2}}}, \"title\": {\"text\": \"Data scientist open positions vs. post date\"}},\n",
       "                        {\"responsive\": true}\n",
       "                    ).then(function(){\n",
       "                            \n",
       "var gd = document.getElementById('2ee2882f-6b6e-413b-b5f2-400b9a83be9d');\n",
       "var x = new MutationObserver(function (mutations, observer) {{\n",
       "        var display = window.getComputedStyle(gd).display;\n",
       "        if (!display || display === 'none') {{\n",
       "            console.log([gd, 'removed!']);\n",
       "            Plotly.purge(gd);\n",
       "            observer.disconnect();\n",
       "        }}\n",
       "}});\n",
       "\n",
       "// Listen for the removal of the full notebook cells\n",
       "var notebookContainer = gd.closest('#notebook-container');\n",
       "if (notebookContainer) {{\n",
       "    x.observe(notebookContainer, {childList: true});\n",
       "}}\n",
       "\n",
       "// Listen for the clearing of the current output cell\n",
       "var outputEl = gd.closest('.output');\n",
       "if (outputEl) {{\n",
       "    x.observe(outputEl, {childList: true});\n",
       "}}\n",
       "\n",
       "                        })\n",
       "                };\n",
       "                });\n",
       "            </script>\n",
       "        </div>"
      ]
     },
     "metadata": {},
     "output_type": "display_data"
    }
   ],
   "source": [
    "fig = go.Figure()\n",
    "\n",
    "fig.add_trace(go.Scatter(x=df_date_indeed['Date'], y=df_date_indeed['Jobnums'], mode='lines+markers'))\n",
    "\n",
    "fig.update_layout(title='Data scientist open positions vs. post date')\n",
    "fig.show()"
   ]
  },
  {
   "cell_type": "code",
   "execution_count": 6,
   "metadata": {},
   "outputs": [],
   "source": [
    "df_date_indeed['Date'] = pd.to_datetime(df_date_indeed['Date'])\n",
    "df_date_indeed.set_index('Date', drop=False, inplace=True)"
   ]
  },
  {
   "cell_type": "code",
   "execution_count": 7,
   "metadata": {},
   "outputs": [],
   "source": [
    "week = {0: 'Mon', 1: 'Tue', 2: 'Wed', 3: 'Thu', 4: 'Fri', 5: 'Sat', 6: 'Sun'}\n",
    "df_date_indeed['Day of week'] = df_date_indeed['Date'].apply(lambda x: week[x.weekday()])"
   ]
  },
  {
   "cell_type": "code",
   "execution_count": 8,
   "metadata": {},
   "outputs": [],
   "source": [
    "df_date_indeed['Weekend'] = df_date_indeed['Day of week'].apply(lambda x: 1 if (x == 'Sun') or (x == 'Sat') else 0)\n",
    "df_date_indeed.at['2020-05-25','Weekend'] = 1 # memorial day"
   ]
  },
  {
   "cell_type": "code",
   "execution_count": 9,
   "metadata": {},
   "outputs": [
    {
     "name": "stdout",
     "output_type": "stream",
     "text": [
      "<class 'pandas.core.frame.DataFrame'>\n",
      "DatetimeIndex: 90 entries, 2020-05-19 to 2020-08-16\n",
      "Data columns (total 4 columns):\n",
      "Date           90 non-null datetime64[ns]\n",
      "Jobnums        90 non-null int64\n",
      "Day of week    90 non-null object\n",
      "Weekend        90 non-null int64\n",
      "dtypes: datetime64[ns](1), int64(2), object(1)\n",
      "memory usage: 6.0+ KB\n"
     ]
    }
   ],
   "source": [
    "df_date_indeed.info()"
   ]
  },
  {
   "cell_type": "code",
   "execution_count": 10,
   "metadata": {},
   "outputs": [
    {
     "data": {
      "text/plain": [
       "Text(0.5, 0, ' ')"
      ]
     },
     "execution_count": 10,
     "metadata": {},
     "output_type": "execute_result"
    },
    {
     "data": {
      "image/png": "[encoded data removed]",
      "text/plain": [
       "<Figure size 576x288 with 1 Axes>"
      ]
     },
     "metadata": {
      "needs_background": "light"
     },
     "output_type": "display_data"
    }
   ],
   "source": [
    "by_weekday = df_date_indeed.groupby('Day of week').sum()\n",
    "by_weekday.reset_index(inplace=True)\n",
    "by_weekday\n",
    "\n",
    "plt.figure(figsize=(8,4))\n",
    "sns.barplot(x='Day of week', y='Jobnums', data=by_weekday)\n",
    "plt.xticks(horizontalalignment='right', fontweight='light', fontsize='large')\n",
    "plt.yticks(fontsize='large')\n",
    "plt.ylabel('Job numbers', fontsize='x-large')\n",
    "plt.xlabel(' ')"
   ]
  },
  {
   "cell_type": "markdown",
   "metadata": {},
   "source": [
    "## Load Covid-19 Data"
   ]
  },
  {
   "cell_type": "code",
   "execution_count": 12,
   "metadata": {},
   "outputs": [
    {
     "data": {
      "text/html": [
       "<div>\n",
       "<style scoped>\n",
       "    .dataframe tbody tr th:only-of-type {\n",
       "        vertical-align: middle;\n",
       "    }\n",
       "\n",
       "    .dataframe tbody tr th {\n",
       "        vertical-align: top;\n",
       "    }\n",
       "\n",
       "    .dataframe thead th {\n",
       "        text-align: right;\n",
       "    }\n",
       "</style>\n",
       "<table border=\"1\" class=\"dataframe\">\n",
       "  <thead>\n",
       "    <tr style=\"text-align: right;\">\n",
       "      <th></th>\n",
       "      <th>Date</th>\n",
       "      <th>Confirmed</th>\n",
       "      <th>Deaths</th>\n",
       "      <th>Recovered</th>\n",
       "      <th>Active</th>\n",
       "      <th>New</th>\n",
       "      <th>Fatality</th>\n",
       "    </tr>\n",
       "  </thead>\n",
       "  <tbody>\n",
       "    <tr>\n",
       "      <td>0</td>\n",
       "      <td>2020-01-22</td>\n",
       "      <td>1</td>\n",
       "      <td>0</td>\n",
       "      <td>0</td>\n",
       "      <td>1</td>\n",
       "      <td>0</td>\n",
       "      <td>0.0</td>\n",
       "    </tr>\n",
       "    <tr>\n",
       "      <td>1</td>\n",
       "      <td>2020-01-23</td>\n",
       "      <td>1</td>\n",
       "      <td>0</td>\n",
       "      <td>0</td>\n",
       "      <td>1</td>\n",
       "      <td>0</td>\n",
       "      <td>0.0</td>\n",
       "    </tr>\n",
       "    <tr>\n",
       "      <td>2</td>\n",
       "      <td>2020-01-24</td>\n",
       "      <td>2</td>\n",
       "      <td>0</td>\n",
       "      <td>0</td>\n",
       "      <td>2</td>\n",
       "      <td>1</td>\n",
       "      <td>0.0</td>\n",
       "    </tr>\n",
       "    <tr>\n",
       "      <td>3</td>\n",
       "      <td>2020-01-25</td>\n",
       "      <td>2</td>\n",
       "      <td>0</td>\n",
       "      <td>0</td>\n",
       "      <td>2</td>\n",
       "      <td>0</td>\n",
       "      <td>0.0</td>\n",
       "    </tr>\n",
       "    <tr>\n",
       "      <td>4</td>\n",
       "      <td>2020-01-26</td>\n",
       "      <td>5</td>\n",
       "      <td>0</td>\n",
       "      <td>0</td>\n",
       "      <td>5</td>\n",
       "      <td>3</td>\n",
       "      <td>0.0</td>\n",
       "    </tr>\n",
       "  </tbody>\n",
       "</table>\n",
       "</div>"
      ],
      "text/plain": [
       "         Date  Confirmed  Deaths  Recovered  Active  New  Fatality\n",
       "0  2020-01-22          1       0          0       1    0       0.0\n",
       "1  2020-01-23          1       0          0       1    0       0.0\n",
       "2  2020-01-24          2       0          0       2    1       0.0\n",
       "3  2020-01-25          2       0          0       2    0       0.0\n",
       "4  2020-01-26          5       0          0       5    3       0.0"
      ]
     },
     "execution_count": 12,
     "metadata": {},
     "output_type": "execute_result"
    }
   ],
   "source": [
    "bydate_us = pd.read_csv('/Users/tingtingweng/Documents/summer_intern/data/us_covid_19_data.csv')\n",
    "bydate_us.head()"
   ]
  },
  {
   "cell_type": "code",
   "execution_count": 14,
   "metadata": {},
   "outputs": [
    {
     "data": {
      "text/html": [
       "<div>\n",
       "<style scoped>\n",
       "    .dataframe tbody tr th:only-of-type {\n",
       "        vertical-align: middle;\n",
       "    }\n",
       "\n",
       "    .dataframe tbody tr th {\n",
       "        vertical-align: top;\n",
       "    }\n",
       "\n",
       "    .dataframe thead th {\n",
       "        text-align: right;\n",
       "    }\n",
       "</style>\n",
       "<table border=\"1\" class=\"dataframe\">\n",
       "  <thead>\n",
       "    <tr style=\"text-align: right;\">\n",
       "      <th></th>\n",
       "      <th>Confirmed</th>\n",
       "      <th>Deaths</th>\n",
       "      <th>Recovered</th>\n",
       "      <th>Active</th>\n",
       "      <th>New</th>\n",
       "      <th>Fatality</th>\n",
       "    </tr>\n",
       "    <tr>\n",
       "      <th>Date</th>\n",
       "      <th></th>\n",
       "      <th></th>\n",
       "      <th></th>\n",
       "      <th></th>\n",
       "      <th></th>\n",
       "      <th></th>\n",
       "    </tr>\n",
       "  </thead>\n",
       "  <tbody>\n",
       "    <tr>\n",
       "      <td>2020-01-22</td>\n",
       "      <td>1</td>\n",
       "      <td>0</td>\n",
       "      <td>0</td>\n",
       "      <td>1</td>\n",
       "      <td>0</td>\n",
       "      <td>0.000000</td>\n",
       "    </tr>\n",
       "    <tr>\n",
       "      <td>2020-01-23</td>\n",
       "      <td>1</td>\n",
       "      <td>0</td>\n",
       "      <td>0</td>\n",
       "      <td>1</td>\n",
       "      <td>0</td>\n",
       "      <td>0.000000</td>\n",
       "    </tr>\n",
       "    <tr>\n",
       "      <td>2020-01-24</td>\n",
       "      <td>2</td>\n",
       "      <td>0</td>\n",
       "      <td>0</td>\n",
       "      <td>2</td>\n",
       "      <td>1</td>\n",
       "      <td>0.000000</td>\n",
       "    </tr>\n",
       "    <tr>\n",
       "      <td>2020-01-25</td>\n",
       "      <td>2</td>\n",
       "      <td>0</td>\n",
       "      <td>0</td>\n",
       "      <td>2</td>\n",
       "      <td>0</td>\n",
       "      <td>0.000000</td>\n",
       "    </tr>\n",
       "    <tr>\n",
       "      <td>2020-01-26</td>\n",
       "      <td>5</td>\n",
       "      <td>0</td>\n",
       "      <td>0</td>\n",
       "      <td>5</td>\n",
       "      <td>3</td>\n",
       "      <td>0.000000</td>\n",
       "    </tr>\n",
       "    <tr>\n",
       "      <td>...</td>\n",
       "      <td>...</td>\n",
       "      <td>...</td>\n",
       "      <td>...</td>\n",
       "      <td>...</td>\n",
       "      <td>...</td>\n",
       "      <td>...</td>\n",
       "    </tr>\n",
       "    <tr>\n",
       "      <td>2020-08-13</td>\n",
       "      <td>5248958</td>\n",
       "      <td>167110</td>\n",
       "      <td>1774648</td>\n",
       "      <td>3307200</td>\n",
       "      <td>51547</td>\n",
       "      <td>3.183680</td>\n",
       "    </tr>\n",
       "    <tr>\n",
       "      <td>2020-08-14</td>\n",
       "      <td>5313252</td>\n",
       "      <td>168452</td>\n",
       "      <td>1796326</td>\n",
       "      <td>3348474</td>\n",
       "      <td>64294</td>\n",
       "      <td>3.170412</td>\n",
       "    </tr>\n",
       "    <tr>\n",
       "      <td>2020-08-15</td>\n",
       "      <td>5361165</td>\n",
       "      <td>169481</td>\n",
       "      <td>1818527</td>\n",
       "      <td>3373157</td>\n",
       "      <td>47913</td>\n",
       "      <td>3.161272</td>\n",
       "    </tr>\n",
       "    <tr>\n",
       "      <td>2020-08-16</td>\n",
       "      <td>5403213</td>\n",
       "      <td>170052</td>\n",
       "      <td>1833067</td>\n",
       "      <td>3400094</td>\n",
       "      <td>42048</td>\n",
       "      <td>3.147239</td>\n",
       "    </tr>\n",
       "    <tr>\n",
       "      <td>2020-08-17</td>\n",
       "      <td>5438325</td>\n",
       "      <td>170497</td>\n",
       "      <td>1865580</td>\n",
       "      <td>3402248</td>\n",
       "      <td>35112</td>\n",
       "      <td>3.135101</td>\n",
       "    </tr>\n",
       "  </tbody>\n",
       "</table>\n",
       "<p>209 rows × 6 columns</p>\n",
       "</div>"
      ],
      "text/plain": [
       "            Confirmed  Deaths  Recovered   Active    New  Fatality\n",
       "Date                                                              \n",
       "2020-01-22          1       0          0        1      0  0.000000\n",
       "2020-01-23          1       0          0        1      0  0.000000\n",
       "2020-01-24          2       0          0        2      1  0.000000\n",
       "2020-01-25          2       0          0        2      0  0.000000\n",
       "2020-01-26          5       0          0        5      3  0.000000\n",
       "...               ...     ...        ...      ...    ...       ...\n",
       "2020-08-13    5248958  167110    1774648  3307200  51547  3.183680\n",
       "2020-08-14    5313252  168452    1796326  3348474  64294  3.170412\n",
       "2020-08-15    5361165  169481    1818527  3373157  47913  3.161272\n",
       "2020-08-16    5403213  170052    1833067  3400094  42048  3.147239\n",
       "2020-08-17    5438325  170497    1865580  3402248  35112  3.135101\n",
       "\n",
       "[209 rows x 6 columns]"
      ]
     },
     "execution_count": 14,
     "metadata": {},
     "output_type": "execute_result"
    }
   ],
   "source": [
    "bydate_us.set_index('Date', drop=True, inplace=True)\n",
    "bydate_us"
   ]
  },
  {
   "cell_type": "code",
   "execution_count": 15,
   "metadata": {},
   "outputs": [
    {
     "data": {
      "application/vnd.plotly.v1+json": {
       "config": {
        "plotlyServerURL": "https://plot.ly"
       },
       "data": [
        {
         "mode": "lines",
         "name": "Confirmed",
         "type": "scatter",
         "x": [
          "2020-01-22",
          "2020-01-23",
          "2020-01-24",
          "2020-01-25",
          "2020-01-26",
          "2020-01-27",
          "2020-01-28",
          "2020-01-29",
          "2020-01-30",
          "2020-01-31",
          "2020-02-01",
          "2020-02-02",
          "2020-02-03",
          "2020-02-04",
          "2020-02-05",
          "2020-02-06",
          "2020-02-07",
          "2020-02-08",
          "2020-02-09",
          "2020-02-10",
          "2020-02-11",
          "2020-02-12",
          "2020-02-13",
          "2020-02-14",
          "2020-02-15",
          "2020-02-16",
          "2020-02-17",
          "2020-02-18",
          "2020-02-19",
          "2020-02-20",
          "2020-02-21",
          "2020-02-22",
          "2020-02-23",
          "2020-02-24",
          "2020-02-25",
          "2020-02-26",
          "2020-02-27",
          "2020-02-28",
          "2020-02-29",
          "2020-03-01",
          "2020-03-02",
          "2020-03-03",
          "2020-03-04",
          "2020-03-05",
          "2020-03-06",
          "2020-03-07",
          "2020-03-08",
          "2020-03-09",
          "2020-03-10",
          "2020-03-11",
          "2020-03-12",
          "2020-03-13",
          "2020-03-14",
          "2020-03-15",
          "2020-03-16",
          "2020-03-17",
          "2020-03-18",
          "2020-03-19",
          "2020-03-20",
          "2020-03-21",
          "2020-03-22",
          "2020-03-23",
          "2020-03-24",
          "2020-03-25",
          "2020-03-26",
          "2020-03-27",
          "2020-03-28",
          "2020-03-29",
          "2020-03-30",
          "2020-03-31",
          "2020-04-01",
          "2020-04-02",
          "2020-04-03",
          "2020-04-04",
          "2020-04-05",
          "2020-04-06",
          "2020-04-07",
          "2020-04-08",
          "2020-04-09",
          "2020-04-10",
          "2020-04-11",
          "2020-04-12",
          "2020-04-13",
          "2020-04-14",
          "2020-04-15",
          "2020-04-16",
          "2020-04-17",
          "2020-04-18",
          "2020-04-19",
          "2020-04-20",
          "2020-04-21",
          "2020-04-22",
          "2020-04-23",
          "2020-04-24",
          "2020-04-25",
          "2020-04-26",
          "2020-04-27",
          "2020-04-28",
          "2020-04-29",
          "2020-04-30",
          "2020-05-01",
          "2020-05-02",
          "2020-05-03",
          "2020-05-04",
          "2020-05-05",
          "2020-05-06",
          "2020-05-07",
          "2020-05-08",
          "2020-05-09",
          "2020-05-10",
          "2020-05-11",
          "2020-05-12",
          "2020-05-13",
          "2020-05-14",
          "2020-05-15",
          "2020-05-16",
          "2020-05-17",
          "2020-05-18",
          "2020-05-19",
          "2020-05-20",
          "2020-05-21",
          "2020-05-22",
          "2020-05-23",
          "2020-05-24",
          "2020-05-25",
          "2020-05-26",
          "2020-05-27",
          "2020-05-28",
          "2020-05-29",
          "2020-05-30",
          "2020-05-31",
          "2020-06-01",
          "2020-06-02",
          "2020-06-03",
          "2020-06-04",
          "2020-06-05",
          "2020-06-06",
          "2020-06-07",
          "2020-06-08",
          "2020-06-09",
          "2020-06-10",
          "2020-06-11",
          "2020-06-12",
          "2020-06-13",
          "2020-06-14",
          "2020-06-15",
          "2020-06-16",
          "2020-06-17",
          "2020-06-18",
          "2020-06-19",
          "2020-06-20",
          "2020-06-21",
          "2020-06-22",
          "2020-06-23",
          "2020-06-24",
          "2020-06-25",
          "2020-06-26",
          "2020-06-27",
          "2020-06-28",
          "2020-06-29",
          "2020-06-30",
          "2020-07-01",
          "2020-07-02",
          "2020-07-03",
          "2020-07-04",
          "2020-07-05",
          "2020-07-06",
          "2020-07-07",
          "2020-07-08",
          "2020-07-09",
          "2020-07-10",
          "2020-07-11",
          "2020-07-12",
          "2020-07-13",
          "2020-07-14",
          "2020-07-15",
          "2020-07-16",
          "2020-07-17",
          "2020-07-18",
          "2020-07-19",
          "2020-07-20",
          "2020-07-21",
          "2020-07-22",
          "2020-07-23",
          "2020-07-24",
          "2020-07-25",
          "2020-07-26",
          "2020-07-27",
          "2020-07-28",
          "2020-07-29",
          "2020-07-30",
          "2020-07-31",
          "2020-08-01",
          "2020-08-02",
          "2020-08-03",
          "2020-08-04",
          "2020-08-05",
          "2020-08-06",
          "2020-08-07",
          "2020-08-08",
          "2020-08-09",
          "2020-08-10",
          "2020-08-11",
          "2020-08-12",
          "2020-08-13",
          "2020-08-14",
          "2020-08-15",
          "2020-08-16",
          "2020-08-17"
         ],
         "y": [
          1,
          1,
          2,
          2,
          5,
          5,
          5,
          5,
          5,
          7,
          8,
          8,
          11,
          11,
          11,
          11,
          11,
          11,
          11,
          11,
          12,
          12,
          13,
          13,
          13,
          13,
          13,
          13,
          13,
          13,
          15,
          15,
          15,
          15,
          15,
          15,
          16,
          16,
          24,
          30,
          53,
          73,
          104,
          174,
          222,
          337,
          451,
          519,
          711,
          1109,
          1561,
          2157,
          2870,
          2968,
          4360,
          6141,
          8917,
          14157,
          19479,
          25825,
          33761,
          43850,
          54112,
          66055,
          84091,
          102276,
          122069,
          141205,
          162707,
          188724,
          214205,
          244610,
          276547,
          309699,
          337573,
          367215,
          397992,
          429686,
          464442,
          497943,
          527969,
          556522,
          581813,
          608878,
          637974,
          669272,
          701996,
          730337,
          756375,
          783716,
          809318,
          837422,
          871617,
          907908,
          940829,
          968518,
          990983,
          1015518,
          1043038,
          1072667,
          1106829,
          1136024,
          1161611,
          1184086,
          1208271,
          1233527,
          1261409,
          1288587,
          1314320,
          1334084,
          1352962,
          1375152,
          1396110,
          1423727,
          1449027,
          1474128,
          1493132,
          1514901,
          1535350,
          1559157,
          1584512,
          1608653,
          1630476,
          1651289,
          1670280,
          1689163,
          1707445,
          1730260,
          1754764,
          1779214,
          1799124,
          1816479,
          1837374,
          1857332,
          1878683,
          1903907,
          1926639,
          1944370,
          1961785,
          1979912,
          2000706,
          2023656,
          2048986,
          2074542,
          2094366,
          2114026,
          2137731,
          2163290,
          2191099,
          2222579,
          2255328,
          2281767,
          2312303,
          2347491,
          2382426,
          2422299,
          2467554,
          2510259,
          2549864,
          2590668,
          2636414,
          2687588,
          2742049,
          2795361,
          2841241,
          2891124,
          2936077,
          2996098,
          3054699,
          3117946,
          3185737,
          3245925,
          3304942,
          3364157,
          3431574,
          3498902,
          3576157,
          3647715,
          3711413,
          3773260,
          3834677,
          3899211,
          3970121,
          4038816,
          4112531,
          4178970,
          4233923,
          4290337,
          4356206,
          4426982,
          4495015,
          4562107,
          4620592,
          4668172,
          4713540,
          4771080,
          4823890,
          4883582,
          4941755,
          4997929,
          5044864,
          5094400,
          5141208,
          5197411,
          5248958,
          5313252,
          5361165,
          5403213,
          5438325
         ]
        },
        {
         "mode": "lines",
         "name": "Deaths",
         "type": "scatter",
         "x": [
          "2020-01-22",
          "2020-01-23",
          "2020-01-24",
          "2020-01-25",
          "2020-01-26",
          "2020-01-27",
          "2020-01-28",
          "2020-01-29",
          "2020-01-30",
          "2020-01-31",
          "2020-02-01",
          "2020-02-02",
          "2020-02-03",
          "2020-02-04",
          "2020-02-05",
          "2020-02-06",
          "2020-02-07",
          "2020-02-08",
          "2020-02-09",
          "2020-02-10",
          "2020-02-11",
          "2020-02-12",
          "2020-02-13",
          "2020-02-14",
          "2020-02-15",
          "2020-02-16",
          "2020-02-17",
          "2020-02-18",
          "2020-02-19",
          "2020-02-20",
          "2020-02-21",
          "2020-02-22",
          "2020-02-23",
          "2020-02-24",
          "2020-02-25",
          "2020-02-26",
          "2020-02-27",
          "2020-02-28",
          "2020-02-29",
          "2020-03-01",
          "2020-03-02",
          "2020-03-03",
          "2020-03-04",
          "2020-03-05",
          "2020-03-06",
          "2020-03-07",
          "2020-03-08",
          "2020-03-09",
          "2020-03-10",
          "2020-03-11",
          "2020-03-12",
          "2020-03-13",
          "2020-03-14",
          "2020-03-15",
          "2020-03-16",
          "2020-03-17",
          "2020-03-18",
          "2020-03-19",
          "2020-03-20",
          "2020-03-21",
          "2020-03-22",
          "2020-03-23",
          "2020-03-24",
          "2020-03-25",
          "2020-03-26",
          "2020-03-27",
          "2020-03-28",
          "2020-03-29",
          "2020-03-30",
          "2020-03-31",
          "2020-04-01",
          "2020-04-02",
          "2020-04-03",
          "2020-04-04",
          "2020-04-05",
          "2020-04-06",
          "2020-04-07",
          "2020-04-08",
          "2020-04-09",
          "2020-04-10",
          "2020-04-11",
          "2020-04-12",
          "2020-04-13",
          "2020-04-14",
          "2020-04-15",
          "2020-04-16",
          "2020-04-17",
          "2020-04-18",
          "2020-04-19",
          "2020-04-20",
          "2020-04-21",
          "2020-04-22",
          "2020-04-23",
          "2020-04-24",
          "2020-04-25",
          "2020-04-26",
          "2020-04-27",
          "2020-04-28",
          "2020-04-29",
          "2020-04-30",
          "2020-05-01",
          "2020-05-02",
          "2020-05-03",
          "2020-05-04",
          "2020-05-05",
          "2020-05-06",
          "2020-05-07",
          "2020-05-08",
          "2020-05-09",
          "2020-05-10",
          "2020-05-11",
          "2020-05-12",
          "2020-05-13",
          "2020-05-14",
          "2020-05-15",
          "2020-05-16",
          "2020-05-17",
          "2020-05-18",
          "2020-05-19",
          "2020-05-20",
          "2020-05-21",
          "2020-05-22",
          "2020-05-23",
          "2020-05-24",
          "2020-05-25",
          "2020-05-26",
          "2020-05-27",
          "2020-05-28",
          "2020-05-29",
          "2020-05-30",
          "2020-05-31",
          "2020-06-01",
          "2020-06-02",
          "2020-06-03",
          "2020-06-04",
          "2020-06-05",
          "2020-06-06",
          "2020-06-07",
          "2020-06-08",
          "2020-06-09",
          "2020-06-10",
          "2020-06-11",
          "2020-06-12",
          "2020-06-13",
          "2020-06-14",
          "2020-06-15",
          "2020-06-16",
          "2020-06-17",
          "2020-06-18",
          "2020-06-19",
          "2020-06-20",
          "2020-06-21",
          "2020-06-22",
          "2020-06-23",
          "2020-06-24",
          "2020-06-25",
          "2020-06-26",
          "2020-06-27",
          "2020-06-28",
          "2020-06-29",
          "2020-06-30",
          "2020-07-01",
          "2020-07-02",
          "2020-07-03",
          "2020-07-04",
          "2020-07-05",
          "2020-07-06",
          "2020-07-07",
          "2020-07-08",
          "2020-07-09",
          "2020-07-10",
          "2020-07-11",
          "2020-07-12",
          "2020-07-13",
          "2020-07-14",
          "2020-07-15",
          "2020-07-16",
          "2020-07-17",
          "2020-07-18",
          "2020-07-19",
          "2020-07-20",
          "2020-07-21",
          "2020-07-22",
          "2020-07-23",
          "2020-07-24",
          "2020-07-25",
          "2020-07-26",
          "2020-07-27",
          "2020-07-28",
          "2020-07-29",
          "2020-07-30",
          "2020-07-31",
          "2020-08-01",
          "2020-08-02",
          "2020-08-03",
          "2020-08-04",
          "2020-08-05",
          "2020-08-06",
          "2020-08-07",
          "2020-08-08",
          "2020-08-09",
          "2020-08-10",
          "2020-08-11",
          "2020-08-12",
          "2020-08-13",
          "2020-08-14",
          "2020-08-15",
          "2020-08-16",
          "2020-08-17"
         ],
         "y": [
          0,
          0,
          0,
          0,
          0,
          0,
          0,
          0,
          0,
          0,
          0,
          0,
          0,
          0,
          0,
          0,
          0,
          0,
          0,
          0,
          0,
          0,
          0,
          0,
          0,
          0,
          0,
          0,
          0,
          0,
          0,
          0,
          0,
          0,
          0,
          0,
          0,
          0,
          1,
          1,
          6,
          7,
          11,
          12,
          14,
          17,
          21,
          22,
          28,
          33,
          43,
          52,
          58,
          70,
          97,
          132,
          191,
          269,
          368,
          463,
          611,
          798,
          1040,
          1356,
          1778,
          2341,
          2995,
          3629,
          4463,
          5718,
          6986,
          8599,
          9936,
          11263,
          12765,
          14504,
          16883,
          19065,
          21216,
          23362,
          25486,
          27336,
          29242,
          31699,
          34308,
          36483,
          39149,
          41594,
          42870,
          44704,
          47208,
          49639,
          52108,
          54262,
          55959,
          57289,
          58756,
          60997,
          63518,
          65842,
          67733,
          69425,
          70546,
          71879,
          74197,
          76560,
          78496,
          80243,
          81731,
          82625,
          83640,
          85266,
          87029,
          88812,
          90493,
          91709,
          92467,
          93243,
          94798,
          96377,
          97611,
          98884,
          100014,
          100628,
          101151,
          101846,
          103364,
          104556,
          105727,
          106706,
          107297,
          108074,
          109117,
          110128,
          111151,
          112100,
          112787,
          113234,
          113747,
          114692,
          115610,
          116498,
          117330,
          118093,
          118401,
          118792,
          119635,
          120387,
          121097,
          121769,
          122382,
          122666,
          123053,
          123900,
          124664,
          125223,
          125835,
          126335,
          126586,
          126950,
          127685,
          128372,
          129096,
          129749,
          130020,
          130319,
          130670,
          131894,
          132744,
          133756,
          134586,
          135277,
          135728,
          136117,
          137045,
          138013,
          138966,
          139886,
          140756,
          141201,
          141715,
          142824,
          144035,
          145156,
          146279,
          147180,
          147657,
          148782,
          150150,
          151586,
          152802,
          154048,
          155159,
          155565,
          156104,
          157482,
          158854,
          160104,
          161347,
          162423,
          162938,
          163463,
          164527,
          166034,
          167110,
          168452,
          169481,
          170052,
          170497
         ]
        },
        {
         "mode": "lines",
         "name": "Recovered",
         "type": "scatter",
         "x": [
          "2020-01-22",
          "2020-01-23",
          "2020-01-24",
          "2020-01-25",
          "2020-01-26",
          "2020-01-27",
          "2020-01-28",
          "2020-01-29",
          "2020-01-30",
          "2020-01-31",
          "2020-02-01",
          "2020-02-02",
          "2020-02-03",
          "2020-02-04",
          "2020-02-05",
          "2020-02-06",
          "2020-02-07",
          "2020-02-08",
          "2020-02-09",
          "2020-02-10",
          "2020-02-11",
          "2020-02-12",
          "2020-02-13",
          "2020-02-14",
          "2020-02-15",
          "2020-02-16",
          "2020-02-17",
          "2020-02-18",
          "2020-02-19",
          "2020-02-20",
          "2020-02-21",
          "2020-02-22",
          "2020-02-23",
          "2020-02-24",
          "2020-02-25",
          "2020-02-26",
          "2020-02-27",
          "2020-02-28",
          "2020-02-29",
          "2020-03-01",
          "2020-03-02",
          "2020-03-03",
          "2020-03-04",
          "2020-03-05",
          "2020-03-06",
          "2020-03-07",
          "2020-03-08",
          "2020-03-09",
          "2020-03-10",
          "2020-03-11",
          "2020-03-12",
          "2020-03-13",
          "2020-03-14",
          "2020-03-15",
          "2020-03-16",
          "2020-03-17",
          "2020-03-18",
          "2020-03-19",
          "2020-03-20",
          "2020-03-21",
          "2020-03-22",
          "2020-03-23",
          "2020-03-24",
          "2020-03-25",
          "2020-03-26",
          "2020-03-27",
          "2020-03-28",
          "2020-03-29",
          "2020-03-30",
          "2020-03-31",
          "2020-04-01",
          "2020-04-02",
          "2020-04-03",
          "2020-04-04",
          "2020-04-05",
          "2020-04-06",
          "2020-04-07",
          "2020-04-08",
          "2020-04-09",
          "2020-04-10",
          "2020-04-11",
          "2020-04-12",
          "2020-04-13",
          "2020-04-14",
          "2020-04-15",
          "2020-04-16",
          "2020-04-17",
          "2020-04-18",
          "2020-04-19",
          "2020-04-20",
          "2020-04-21",
          "2020-04-22",
          "2020-04-23",
          "2020-04-24",
          "2020-04-25",
          "2020-04-26",
          "2020-04-27",
          "2020-04-28",
          "2020-04-29",
          "2020-04-30",
          "2020-05-01",
          "2020-05-02",
          "2020-05-03",
          "2020-05-04",
          "2020-05-05",
          "2020-05-06",
          "2020-05-07",
          "2020-05-08",
          "2020-05-09",
          "2020-05-10",
          "2020-05-11",
          "2020-05-12",
          "2020-05-13",
          "2020-05-14",
          "2020-05-15",
          "2020-05-16",
          "2020-05-17",
          "2020-05-18",
          "2020-05-19",
          "2020-05-20",
          "2020-05-21",
          "2020-05-22",
          "2020-05-23",
          "2020-05-24",
          "2020-05-25",
          "2020-05-26",
          "2020-05-27",
          "2020-05-28",
          "2020-05-29",
          "2020-05-30",
          "2020-05-31",
          "2020-06-01",
          "2020-06-02",
          "2020-06-03",
          "2020-06-04",
          "2020-06-05",
          "2020-06-06",
          "2020-06-07",
          "2020-06-08",
          "2020-06-09",
          "2020-06-10",
          "2020-06-11",
          "2020-06-12",
          "2020-06-13",
          "2020-06-14",
          "2020-06-15",
          "2020-06-16",
          "2020-06-17",
          "2020-06-18",
          "2020-06-19",
          "2020-06-20",
          "2020-06-21",
          "2020-06-22",
          "2020-06-23",
          "2020-06-24",
          "2020-06-25",
          "2020-06-26",
          "2020-06-27",
          "2020-06-28",
          "2020-06-29",
          "2020-06-30",
          "2020-07-01",
          "2020-07-02",
          "2020-07-03",
          "2020-07-04",
          "2020-07-05",
          "2020-07-06",
          "2020-07-07",
          "2020-07-08",
          "2020-07-09",
          "2020-07-10",
          "2020-07-11",
          "2020-07-12",
          "2020-07-13",
          "2020-07-14",
          "2020-07-15",
          "2020-07-16",
          "2020-07-17",
          "2020-07-18",
          "2020-07-19",
          "2020-07-20",
          "2020-07-21",
          "2020-07-22",
          "2020-07-23",
          "2020-07-24",
          "2020-07-25",
          "2020-07-26",
          "2020-07-27",
          "2020-07-28",
          "2020-07-29",
          "2020-07-30",
          "2020-07-31",
          "2020-08-01",
          "2020-08-02",
          "2020-08-03",
          "2020-08-04",
          "2020-08-05",
          "2020-08-06",
          "2020-08-07",
          "2020-08-08",
          "2020-08-09",
          "2020-08-10",
          "2020-08-11",
          "2020-08-12",
          "2020-08-13",
          "2020-08-14",
          "2020-08-15",
          "2020-08-16",
          "2020-08-17"
         ],
         "y": [
          0,
          0,
          0,
          0,
          0,
          0,
          0,
          0,
          0,
          0,
          0,
          0,
          0,
          0,
          0,
          0,
          0,
          0,
          3,
          3,
          3,
          3,
          3,
          3,
          3,
          3,
          3,
          3,
          3,
          3,
          5,
          5,
          5,
          5,
          6,
          6,
          6,
          7,
          7,
          7,
          7,
          7,
          7,
          7,
          7,
          7,
          7,
          7,
          8,
          8,
          12,
          12,
          12,
          12,
          17,
          17,
          105,
          121,
          147,
          176,
          178,
          178,
          348,
          361,
          681,
          869,
          1072,
          2665,
          5644,
          7024,
          8474,
          9001,
          9707,
          14652,
          17448,
          19581,
          21763,
          23559,
          25410,
          28790,
          31270,
          32988,
          43482,
          47763,
          52096,
          54703,
          58545,
          64840,
          70337,
          72329,
          75204,
          77366,
          80203,
          99079,
          100372,
          106988,
          111424,
          115936,
          120720,
          153947,
          164015,
          175382,
          180152,
          187180,
          189791,
          189910,
          195036,
          198993,
          212534,
          216169,
          232733,
          230287,
          243430,
          246414,
          250747,
          268376,
          272265,
          283178,
          289392,
          294312,
          298418,
          350135,
          361239,
          366736,
          379157,
          384902,
          391508,
          399991,
          406446,
          416461,
          444758,
          458231,
          463868,
          479258,
          485002,
          491706,
          500849,
          506367,
          518522,
          524855,
          533504,
          540292,
          547386,
          556606,
          561816,
          576334,
          583503,
          592191,
          599115,
          606715,
          617460,
          622133,
          640198,
          647548,
          656161,
          663562,
          670809,
          679308,
          685164,
          705203,
          720631,
          729994,
          781970,
          790404,
          894325,
          906763,
          924148,
          936476,
          953462,
          969111,
          983185,
          995576,
          1006326,
          1031939,
          1049098,
          1075882,
          1090645,
          1107204,
          1122720,
          1131121,
          1160087,
          1182018,
          1210849,
          1233269,
          1261624,
          1279414,
          1297863,
          1325804,
          1355363,
          1389425,
          1414155,
          1438160,
          1461885,
          1468689,
          1513446,
          1528979,
          1577851,
          1598624,
          1623870,
          1643118,
          1656864,
          1670755,
          1714960,
          1753760,
          1774648,
          1796326,
          1818527,
          1833067,
          1865580
         ]
        },
        {
         "mode": "lines",
         "name": "Active",
         "type": "scatter",
         "x": [
          "2020-01-22",
          "2020-01-23",
          "2020-01-24",
          "2020-01-25",
          "2020-01-26",
          "2020-01-27",
          "2020-01-28",
          "2020-01-29",
          "2020-01-30",
          "2020-01-31",
          "2020-02-01",
          "2020-02-02",
          "2020-02-03",
          "2020-02-04",
          "2020-02-05",
          "2020-02-06",
          "2020-02-07",
          "2020-02-08",
          "2020-02-09",
          "2020-02-10",
          "2020-02-11",
          "2020-02-12",
          "2020-02-13",
          "2020-02-14",
          "2020-02-15",
          "2020-02-16",
          "2020-02-17",
          "2020-02-18",
          "2020-02-19",
          "2020-02-20",
          "2020-02-21",
          "2020-02-22",
          "2020-02-23",
          "2020-02-24",
          "2020-02-25",
          "2020-02-26",
          "2020-02-27",
          "2020-02-28",
          "2020-02-29",
          "2020-03-01",
          "2020-03-02",
          "2020-03-03",
          "2020-03-04",
          "2020-03-05",
          "2020-03-06",
          "2020-03-07",
          "2020-03-08",
          "2020-03-09",
          "2020-03-10",
          "2020-03-11",
          "2020-03-12",
          "2020-03-13",
          "2020-03-14",
          "2020-03-15",
          "2020-03-16",
          "2020-03-17",
          "2020-03-18",
          "2020-03-19",
          "2020-03-20",
          "2020-03-21",
          "2020-03-22",
          "2020-03-23",
          "2020-03-24",
          "2020-03-25",
          "2020-03-26",
          "2020-03-27",
          "2020-03-28",
          "2020-03-29",
          "2020-03-30",
          "2020-03-31",
          "2020-04-01",
          "2020-04-02",
          "2020-04-03",
          "2020-04-04",
          "2020-04-05",
          "2020-04-06",
          "2020-04-07",
          "2020-04-08",
          "2020-04-09",
          "2020-04-10",
          "2020-04-11",
          "2020-04-12",
          "2020-04-13",
          "2020-04-14",
          "2020-04-15",
          "2020-04-16",
          "2020-04-17",
          "2020-04-18",
          "2020-04-19",
          "2020-04-20",
          "2020-04-21",
          "2020-04-22",
          "2020-04-23",
          "2020-04-24",
          "2020-04-25",
          "2020-04-26",
          "2020-04-27",
          "2020-04-28",
          "2020-04-29",
          "2020-04-30",
          "2020-05-01",
          "2020-05-02",
          "2020-05-03",
          "2020-05-04",
          "2020-05-05",
          "2020-05-06",
          "2020-05-07",
          "2020-05-08",
          "2020-05-09",
          "2020-05-10",
          "2020-05-11",
          "2020-05-12",
          "2020-05-13",
          "2020-05-14",
          "2020-05-15",
          "2020-05-16",
          "2020-05-17",
          "2020-05-18",
          "2020-05-19",
          "2020-05-20",
          "2020-05-21",
          "2020-05-22",
          "2020-05-23",
          "2020-05-24",
          "2020-05-25",
          "2020-05-26",
          "2020-05-27",
          "2020-05-28",
          "2020-05-29",
          "2020-05-30",
          "2020-05-31",
          "2020-06-01",
          "2020-06-02",
          "2020-06-03",
          "2020-06-04",
          "2020-06-05",
          "2020-06-06",
          "2020-06-07",
          "2020-06-08",
          "2020-06-09",
          "2020-06-10",
          "2020-06-11",
          "2020-06-12",
          "2020-06-13",
          "2020-06-14",
          "2020-06-15",
          "2020-06-16",
          "2020-06-17",
          "2020-06-18",
          "2020-06-19",
          "2020-06-20",
          "2020-06-21",
          "2020-06-22",
          "2020-06-23",
          "2020-06-24",
          "2020-06-25",
          "2020-06-26",
          "2020-06-27",
          "2020-06-28",
          "2020-06-29",
          "2020-06-30",
          "2020-07-01",
          "2020-07-02",
          "2020-07-03",
          "2020-07-04",
          "2020-07-05",
          "2020-07-06",
          "2020-07-07",
          "2020-07-08",
          "2020-07-09",
          "2020-07-10",
          "2020-07-11",
          "2020-07-12",
          "2020-07-13",
          "2020-07-14",
          "2020-07-15",
          "2020-07-16",
          "2020-07-17",
          "2020-07-18",
          "2020-07-19",
          "2020-07-20",
          "2020-07-21",
          "2020-07-22",
          "2020-07-23",
          "2020-07-24",
          "2020-07-25",
          "2020-07-26",
          "2020-07-27",
          "2020-07-28",
          "2020-07-29",
          "2020-07-30",
          "2020-07-31",
          "2020-08-01",
          "2020-08-02",
          "2020-08-03",
          "2020-08-04",
          "2020-08-05",
          "2020-08-06",
          "2020-08-07",
          "2020-08-08",
          "2020-08-09",
          "2020-08-10",
          "2020-08-11",
          "2020-08-12",
          "2020-08-13",
          "2020-08-14",
          "2020-08-15",
          "2020-08-16",
          "2020-08-17"
         ],
         "y": [
          1,
          1,
          2,
          2,
          5,
          5,
          5,
          5,
          5,
          7,
          8,
          8,
          11,
          11,
          11,
          11,
          11,
          11,
          8,
          8,
          9,
          9,
          10,
          10,
          10,
          10,
          10,
          10,
          10,
          10,
          10,
          10,
          10,
          10,
          9,
          9,
          10,
          9,
          16,
          22,
          40,
          59,
          86,
          155,
          201,
          313,
          423,
          490,
          675,
          1068,
          1506,
          2093,
          2800,
          2886,
          4246,
          5992,
          8621,
          13767,
          18964,
          25186,
          32972,
          42874,
          52724,
          64338,
          81632,
          99066,
          118002,
          134911,
          152600,
          175982,
          198745,
          227010,
          256904,
          283784,
          307360,
          333130,
          359346,
          387062,
          417816,
          445791,
          471213,
          496198,
          509089,
          529416,
          551570,
          578086,
          604302,
          623903,
          643168,
          666683,
          686906,
          710417,
          739306,
          754567,
          784498,
          804241,
          820803,
          838585,
          858800,
          852878,
          875081,
          891217,
          910913,
          925027,
          944283,
          967057,
          987877,
          1009351,
          1020055,
          1035290,
          1036589,
          1059599,
          1065651,
          1088501,
          1107787,
          1114043,
          1128400,
          1138480,
          1151160,
          1168468,
          1188483,
          1159634,
          1169223,
          1183925,
          1189972,
          1202415,
          1212573,
          1225713,
          1242591,
          1256047,
          1247069,
          1250174,
          1264389,
          1267946,
          1282530,
          1300101,
          1313003,
          1324769,
          1329516,
          1340365,
          1351592,
          1366866,
          1384270,
          1399843,
          1414149,
          1418900,
          1434593,
          1450712,
          1470887,
          1494095,
          1515486,
          1536968,
          1549052,
          1576043,
          1601601,
          1633514,
          1670910,
          1704616,
          1738114,
          1758515,
          1788098,
          1829222,
          1830983,
          1875208,
          1816896,
          1854042,
          1881259,
          1927728,
          1968493,
          2015079,
          2067966,
          2115072,
          2162888,
          2196101,
          2245431,
          2285007,
          2346546,
          2400625,
          2447937,
          2500938,
          2532875,
          2574369,
          2615237,
          2660391,
          2704628,
          2752376,
          2788403,
          2815751,
          2850693,
          2885971,
          2928058,
          2969899,
          3003548,
          3043918,
          3043990,
          3084619,
          3087185,
          3124854,
          3156538,
          3192388,
          3225062,
          3260182,
          3261721,
          3277617,
          3307200,
          3348474,
          3373157,
          3400094,
          3402248
         ]
        },
        {
         "mode": "lines",
         "name": "New",
         "type": "scatter",
         "x": [
          "2020-01-22",
          "2020-01-23",
          "2020-01-24",
          "2020-01-25",
          "2020-01-26",
          "2020-01-27",
          "2020-01-28",
          "2020-01-29",
          "2020-01-30",
          "2020-01-31",
          "2020-02-01",
          "2020-02-02",
          "2020-02-03",
          "2020-02-04",
          "2020-02-05",
          "2020-02-06",
          "2020-02-07",
          "2020-02-08",
          "2020-02-09",
          "2020-02-10",
          "2020-02-11",
          "2020-02-12",
          "2020-02-13",
          "2020-02-14",
          "2020-02-15",
          "2020-02-16",
          "2020-02-17",
          "2020-02-18",
          "2020-02-19",
          "2020-02-20",
          "2020-02-21",
          "2020-02-22",
          "2020-02-23",
          "2020-02-24",
          "2020-02-25",
          "2020-02-26",
          "2020-02-27",
          "2020-02-28",
          "2020-02-29",
          "2020-03-01",
          "2020-03-02",
          "2020-03-03",
          "2020-03-04",
          "2020-03-05",
          "2020-03-06",
          "2020-03-07",
          "2020-03-08",
          "2020-03-09",
          "2020-03-10",
          "2020-03-11",
          "2020-03-12",
          "2020-03-13",
          "2020-03-14",
          "2020-03-15",
          "2020-03-16",
          "2020-03-17",
          "2020-03-18",
          "2020-03-19",
          "2020-03-20",
          "2020-03-21",
          "2020-03-22",
          "2020-03-23",
          "2020-03-24",
          "2020-03-25",
          "2020-03-26",
          "2020-03-27",
          "2020-03-28",
          "2020-03-29",
          "2020-03-30",
          "2020-03-31",
          "2020-04-01",
          "2020-04-02",
          "2020-04-03",
          "2020-04-04",
          "2020-04-05",
          "2020-04-06",
          "2020-04-07",
          "2020-04-08",
          "2020-04-09",
          "2020-04-10",
          "2020-04-11",
          "2020-04-12",
          "2020-04-13",
          "2020-04-14",
          "2020-04-15",
          "2020-04-16",
          "2020-04-17",
          "2020-04-18",
          "2020-04-19",
          "2020-04-20",
          "2020-04-21",
          "2020-04-22",
          "2020-04-23",
          "2020-04-24",
          "2020-04-25",
          "2020-04-26",
          "2020-04-27",
          "2020-04-28",
          "2020-04-29",
          "2020-04-30",
          "2020-05-01",
          "2020-05-02",
          "2020-05-03",
          "2020-05-04",
          "2020-05-05",
          "2020-05-06",
          "2020-05-07",
          "2020-05-08",
          "2020-05-09",
          "2020-05-10",
          "2020-05-11",
          "2020-05-12",
          "2020-05-13",
          "2020-05-14",
          "2020-05-15",
          "2020-05-16",
          "2020-05-17",
          "2020-05-18",
          "2020-05-19",
          "2020-05-20",
          "2020-05-21",
          "2020-05-22",
          "2020-05-23",
          "2020-05-24",
          "2020-05-25",
          "2020-05-26",
          "2020-05-27",
          "2020-05-28",
          "2020-05-29",
          "2020-05-30",
          "2020-05-31",
          "2020-06-01",
          "2020-06-02",
          "2020-06-03",
          "2020-06-04",
          "2020-06-05",
          "2020-06-06",
          "2020-06-07",
          "2020-06-08",
          "2020-06-09",
          "2020-06-10",
          "2020-06-11",
          "2020-06-12",
          "2020-06-13",
          "2020-06-14",
          "2020-06-15",
          "2020-06-16",
          "2020-06-17",
          "2020-06-18",
          "2020-06-19",
          "2020-06-20",
          "2020-06-21",
          "2020-06-22",
          "2020-06-23",
          "2020-06-24",
          "2020-06-25",
          "2020-06-26",
          "2020-06-27",
          "2020-06-28",
          "2020-06-29",
          "2020-06-30",
          "2020-07-01",
          "2020-07-02",
          "2020-07-03",
          "2020-07-04",
          "2020-07-05",
          "2020-07-06",
          "2020-07-07",
          "2020-07-08",
          "2020-07-09",
          "2020-07-10",
          "2020-07-11",
          "2020-07-12",
          "2020-07-13",
          "2020-07-14",
          "2020-07-15",
          "2020-07-16",
          "2020-07-17",
          "2020-07-18",
          "2020-07-19",
          "2020-07-20",
          "2020-07-21",
          "2020-07-22",
          "2020-07-23",
          "2020-07-24",
          "2020-07-25",
          "2020-07-26",
          "2020-07-27",
          "2020-07-28",
          "2020-07-29",
          "2020-07-30",
          "2020-07-31",
          "2020-08-01",
          "2020-08-02",
          "2020-08-03",
          "2020-08-04",
          "2020-08-05",
          "2020-08-06",
          "2020-08-07",
          "2020-08-08",
          "2020-08-09",
          "2020-08-10",
          "2020-08-11",
          "2020-08-12",
          "2020-08-13",
          "2020-08-14",
          "2020-08-15",
          "2020-08-16",
          "2020-08-17"
         ],
         "y": [
          0,
          0,
          1,
          0,
          3,
          0,
          0,
          0,
          0,
          2,
          1,
          0,
          3,
          0,
          0,
          0,
          0,
          0,
          0,
          0,
          1,
          0,
          1,
          0,
          0,
          0,
          0,
          0,
          0,
          0,
          2,
          0,
          0,
          0,
          0,
          0,
          1,
          0,
          8,
          6,
          23,
          20,
          31,
          70,
          48,
          115,
          114,
          68,
          192,
          398,
          452,
          596,
          713,
          98,
          1392,
          1781,
          2776,
          5240,
          5322,
          6346,
          7936,
          10089,
          10262,
          11943,
          18036,
          18185,
          19793,
          19136,
          21502,
          26017,
          25481,
          30405,
          31937,
          33152,
          27874,
          29642,
          30777,
          31694,
          34756,
          33501,
          30026,
          28553,
          25291,
          27065,
          29096,
          31298,
          32724,
          28341,
          26038,
          27341,
          25602,
          28104,
          34195,
          36291,
          32921,
          27689,
          22465,
          24535,
          27520,
          29629,
          34162,
          29195,
          25587,
          22475,
          24185,
          25256,
          27882,
          27178,
          25733,
          19764,
          18878,
          22190,
          20958,
          27617,
          25300,
          25101,
          19004,
          21769,
          20449,
          23807,
          25355,
          24141,
          21823,
          20813,
          18991,
          18883,
          18282,
          22815,
          24504,
          24450,
          19910,
          17355,
          20895,
          19958,
          21351,
          25224,
          22732,
          17731,
          17415,
          18127,
          20794,
          22950,
          25330,
          25556,
          19824,
          19660,
          23705,
          25559,
          27809,
          31480,
          32749,
          26439,
          30536,
          35188,
          34935,
          39873,
          45255,
          42705,
          39605,
          40804,
          45746,
          51174,
          54461,
          53312,
          45880,
          49883,
          44953,
          60021,
          58601,
          63247,
          67791,
          60188,
          59017,
          59215,
          67417,
          67328,
          77255,
          71558,
          63698,
          61847,
          61417,
          64534,
          70910,
          68695,
          73715,
          66439,
          54953,
          56414,
          65869,
          70776,
          68033,
          67092,
          58485,
          47580,
          45368,
          57540,
          52810,
          59692,
          58173,
          56174,
          46935,
          49536,
          46808,
          56203,
          51547,
          64294,
          47913,
          42048,
          35112
         ]
        },
        {
         "mode": "lines",
         "name": "Fatality Rate",
         "type": "scatter",
         "x": [
          "2020-01-22",
          "2020-01-23",
          "2020-01-24",
          "2020-01-25",
          "2020-01-26",
          "2020-01-27",
          "2020-01-28",
          "2020-01-29",
          "2020-01-30",
          "2020-01-31",
          "2020-02-01",
          "2020-02-02",
          "2020-02-03",
          "2020-02-04",
          "2020-02-05",
          "2020-02-06",
          "2020-02-07",
          "2020-02-08",
          "2020-02-09",
          "2020-02-10",
          "2020-02-11",
          "2020-02-12",
          "2020-02-13",
          "2020-02-14",
          "2020-02-15",
          "2020-02-16",
          "2020-02-17",
          "2020-02-18",
          "2020-02-19",
          "2020-02-20",
          "2020-02-21",
          "2020-02-22",
          "2020-02-23",
          "2020-02-24",
          "2020-02-25",
          "2020-02-26",
          "2020-02-27",
          "2020-02-28",
          "2020-02-29",
          "2020-03-01",
          "2020-03-02",
          "2020-03-03",
          "2020-03-04",
          "2020-03-05",
          "2020-03-06",
          "2020-03-07",
          "2020-03-08",
          "2020-03-09",
          "2020-03-10",
          "2020-03-11",
          "2020-03-12",
          "2020-03-13",
          "2020-03-14",
          "2020-03-15",
          "2020-03-16",
          "2020-03-17",
          "2020-03-18",
          "2020-03-19",
          "2020-03-20",
          "2020-03-21",
          "2020-03-22",
          "2020-03-23",
          "2020-03-24",
          "2020-03-25",
          "2020-03-26",
          "2020-03-27",
          "2020-03-28",
          "2020-03-29",
          "2020-03-30",
          "2020-03-31",
          "2020-04-01",
          "2020-04-02",
          "2020-04-03",
          "2020-04-04",
          "2020-04-05",
          "2020-04-06",
          "2020-04-07",
          "2020-04-08",
          "2020-04-09",
          "2020-04-10",
          "2020-04-11",
          "2020-04-12",
          "2020-04-13",
          "2020-04-14",
          "2020-04-15",
          "2020-04-16",
          "2020-04-17",
          "2020-04-18",
          "2020-04-19",
          "2020-04-20",
          "2020-04-21",
          "2020-04-22",
          "2020-04-23",
          "2020-04-24",
          "2020-04-25",
          "2020-04-26",
          "2020-04-27",
          "2020-04-28",
          "2020-04-29",
          "2020-04-30",
          "2020-05-01",
          "2020-05-02",
          "2020-05-03",
          "2020-05-04",
          "2020-05-05",
          "2020-05-06",
          "2020-05-07",
          "2020-05-08",
          "2020-05-09",
          "2020-05-10",
          "2020-05-11",
          "2020-05-12",
          "2020-05-13",
          "2020-05-14",
          "2020-05-15",
          "2020-05-16",
          "2020-05-17",
          "2020-05-18",
          "2020-05-19",
          "2020-05-20",
          "2020-05-21",
          "2020-05-22",
          "2020-05-23",
          "2020-05-24",
          "2020-05-25",
          "2020-05-26",
          "2020-05-27",
          "2020-05-28",
          "2020-05-29",
          "2020-05-30",
          "2020-05-31",
          "2020-06-01",
          "2020-06-02",
          "2020-06-03",
          "2020-06-04",
          "2020-06-05",
          "2020-06-06",
          "2020-06-07",
          "2020-06-08",
          "2020-06-09",
          "2020-06-10",
          "2020-06-11",
          "2020-06-12",
          "2020-06-13",
          "2020-06-14",
          "2020-06-15",
          "2020-06-16",
          "2020-06-17",
          "2020-06-18",
          "2020-06-19",
          "2020-06-20",
          "2020-06-21",
          "2020-06-22",
          "2020-06-23",
          "2020-06-24",
          "2020-06-25",
          "2020-06-26",
          "2020-06-27",
          "2020-06-28",
          "2020-06-29",
          "2020-06-30",
          "2020-07-01",
          "2020-07-02",
          "2020-07-03",
          "2020-07-04",
          "2020-07-05",
          "2020-07-06",
          "2020-07-07",
          "2020-07-08",
          "2020-07-09",
          "2020-07-10",
          "2020-07-11",
          "2020-07-12",
          "2020-07-13",
          "2020-07-14",
          "2020-07-15",
          "2020-07-16",
          "2020-07-17",
          "2020-07-18",
          "2020-07-19",
          "2020-07-20",
          "2020-07-21",
          "2020-07-22",
          "2020-07-23",
          "2020-07-24",
          "2020-07-25",
          "2020-07-26",
          "2020-07-27",
          "2020-07-28",
          "2020-07-29",
          "2020-07-30",
          "2020-07-31",
          "2020-08-01",
          "2020-08-02",
          "2020-08-03",
          "2020-08-04",
          "2020-08-05",
          "2020-08-06",
          "2020-08-07",
          "2020-08-08",
          "2020-08-09",
          "2020-08-10",
          "2020-08-11",
          "2020-08-12",
          "2020-08-13",
          "2020-08-14",
          "2020-08-15",
          "2020-08-16",
          "2020-08-17"
         ],
         "y": [
          0,
          0,
          0,
          0,
          0,
          0,
          0,
          0,
          0,
          0,
          0,
          0,
          0,
          0,
          0,
          0,
          0,
          0,
          0,
          0,
          0,
          0,
          0,
          0,
          0,
          0,
          0,
          0,
          0,
          0,
          0,
          0,
          0,
          0,
          0,
          0,
          0,
          0,
          4.166666666666666,
          3.333333333333333,
          11.320754716981131,
          9.58904109589041,
          10.576923076923077,
          6.896551724137932,
          6.306306306306306,
          5.044510385756675,
          4.656319290465632,
          4.238921001926782,
          3.938115330520394,
          2.9756537421100093,
          2.7546444586803327,
          2.4107556791840516,
          2.020905923344948,
          2.358490566037736,
          2.2247706422018347,
          2.149487054225696,
          2.1419760008971633,
          1.900120081938264,
          1.8892140253606449,
          1.7928363988383351,
          1.809780515979977,
          1.8198403648802737,
          1.9219396806623301,
          2.052834758913027,
          2.1143760925663857,
          2.2889045328327278,
          2.4535303803586497,
          2.570022307991927,
          2.7429674199634926,
          3.0298213263813825,
          3.2613617796036505,
          3.515391848248232,
          3.592879329734186,
          3.6367569801646114,
          3.781404318473337,
          3.9497297223697285,
          4.242045066232487,
          4.436960943572749,
          4.5680623199452235,
          4.69170166063184,
          4.827177353215814,
          4.911935197530376,
          5.02601351293285,
          5.206133248368309,
          5.377648618909235,
          5.451146917845062,
          5.576812403489479,
          5.695179074865439,
          5.667823500247892,
          5.704107100020926,
          5.833059440170612,
          5.927596838869769,
          5.9783138695092,
          5.9765967476880935,
          5.9478396180389845,
          5.915119801593776,
          5.929062355257356,
          6.006491268495487,
          6.089711017240024,
          6.1381584405971275,
          6.1195541497376755,
          6.1112265233833085,
          6.073117420547843,
          6.070420560668736,
          6.14075815773117,
          6.206592964726349,
          6.222882506784082,
          6.227208562557283,
          6.218500821717695,
          6.19338812248704,
          6.181991807604352,
          6.200478201682433,
          6.23367786205958,
          6.2379936603014485,
          6.245087220596994,
          6.221237233130367,
          6.192821532188715,
          6.15505567690562,
          6.174357638323508,
          6.1813531286458,
          6.160319391711769,
          6.1470062219757775,
          6.13403693154637,
          6.0939060334078405,
          6.055930742151017,
          6.029376679456037,
          6.053723546000018,
          6.042791256805336,
          6.025140702681386,
          5.997367376830442,
          5.963846849911401,
          5.949642137343728,
          5.9387473644451285,
          5.9293653477138175,
          5.916431883399168,
          5.887892633411192,
          5.854080603579601,
          5.823685821114294,
          5.798137920312367,
          5.792782709534565,
          5.778460203548148,
          5.756808469423658,
          5.726247031458487,
          5.6924853774953705,
          5.6533098799350245,
          5.619230794701672,
          5.596354265340214,
          5.564995909008963,
          5.526769899488794,
          5.478725390638533,
          5.426350402247479,
          5.375921380228569,
          5.3216641590656595,
          5.277975506615362,
          5.232649408628012,
          5.169593018863486,
          5.099584446784143,
          5.032747616879374,
          4.9644216318988,
          4.900280545403733,
          4.843131617416688,
          4.776476156315626,
          4.708012147120638,
          4.641582965491756,
          4.576169356981684,
          4.5075548471805424,
          4.4504963595981994,
          4.402192451648778,
          4.345567271930883,
          4.289875450055902,
          4.224642523849268,
          4.167594753421598,
          4.106819423759934,
          4.0460953516735385,
          3.9936483957507543,
          3.9444660067644084,
          3.8859032195734136,
          3.8348938993314987,
          3.7925178361987744,
          3.742148699002984,
          3.695617649152719,
          3.662894877963773,
          3.627975066754893,
          3.5940235950337924,
          3.5569093582516462,
          3.521920473226656,
          3.4874748548804497,
          3.467839472750043,
          3.4468066937146684,
          3.424138611812743,
          3.3993657418273355,
          3.3766853780500985,
          3.357989625571788,
          3.3324607576584584,
          3.3118208395388606,
          3.3007620916019014,
          3.29306845719948,
          3.278413263051588,
          3.2649736783794423,
          3.2498060696740585,
          3.229779831527668,
          3.2086801193467336,
          3.200162296487518,
          3.1945520567836563,
          3.183679503627196,
          3.1704123952712946,
          3.161271850428032,
          3.147238504201112,
          3.135101340945971
         ]
        }
       ],
       "layout": {
        "template": {
         "data": {
          "bar": [
           {
            "error_x": {
             "color": "#2a3f5f"
            },
            "error_y": {
             "color": "#2a3f5f"
            },
            "marker": {
             "line": {
              "color": "#E5ECF6",
              "width": 0.5
             }
            },
            "type": "bar"
           }
          ],
          "barpolar": [
           {
            "marker": {
             "line": {
              "color": "#E5ECF6",
              "width": 0.5
             }
            },
            "type": "barpolar"
           }
          ],
          "carpet": [
           {
            "aaxis": {
             "endlinecolor": "#2a3f5f",
             "gridcolor": "white",
             "linecolor": "white",
             "minorgridcolor": "white",
             "startlinecolor": "#2a3f5f"
            },
            "baxis": {
             "endlinecolor": "#2a3f5f",
             "gridcolor": "white",
             "linecolor": "white",
             "minorgridcolor": "white",
             "startlinecolor": "#2a3f5f"
            },
            "type": "carpet"
           }
          ],
          "choropleth": [
           {
            "colorbar": {
             "outlinewidth": 0,
             "ticks": ""
            },
            "type": "choropleth"
           }
          ],
          "contour": [
           {
            "colorbar": {
             "outlinewidth": 0,
             "ticks": ""
            },
            "colorscale": [
             [
              0,
              "#0d0887"
             ],
             [
              0.1111111111111111,
              "#46039f"
             ],
             [
              0.2222222222222222,
              "#7201a8"
             ],
             [
              0.3333333333333333,
              "#9c179e"
             ],
             [
              0.4444444444444444,
              "#bd3786"
             ],
             [
              0.5555555555555556,
              "#d8576b"
             ],
             [
              0.6666666666666666,
              "#ed7953"
             ],
             [
              0.7777777777777778,
              "#fb9f3a"
             ],
             [
              0.8888888888888888,
              "#fdca26"
             ],
             [
              1,
              "#f0f921"
             ]
            ],
            "type": "contour"
           }
          ],
          "contourcarpet": [
           {
            "colorbar": {
             "outlinewidth": 0,
             "ticks": ""
            },
            "type": "contourcarpet"
           }
          ],
          "heatmap": [
           {
            "colorbar": {
             "outlinewidth": 0,
             "ticks": ""
            },
            "colorscale": [
             [
              0,
              "#0d0887"
             ],
             [
              0.1111111111111111,
              "#46039f"
             ],
             [
              0.2222222222222222,
              "#7201a8"
             ],
             [
              0.3333333333333333,
              "#9c179e"
             ],
             [
              0.4444444444444444,
              "#bd3786"
             ],
             [
              0.5555555555555556,
              "#d8576b"
             ],
             [
              0.6666666666666666,
              "#ed7953"
             ],
             [
              0.7777777777777778,
              "#fb9f3a"
             ],
             [
              0.8888888888888888,
              "#fdca26"
             ],
             [
              1,
              "#f0f921"
             ]
            ],
            "type": "heatmap"
           }
          ],
          "heatmapgl": [
           {
            "colorbar": {
             "outlinewidth": 0,
             "ticks": ""
            },
            "colorscale": [
             [
              0,
              "#0d0887"
             ],
             [
              0.1111111111111111,
              "#46039f"
             ],
             [
              0.2222222222222222,
              "#7201a8"
             ],
             [
              0.3333333333333333,
              "#9c179e"
             ],
             [
              0.4444444444444444,
              "#bd3786"
             ],
             [
              0.5555555555555556,
              "#d8576b"
             ],
             [
              0.6666666666666666,
              "#ed7953"
             ],
             [
              0.7777777777777778,
              "#fb9f3a"
             ],
             [
              0.8888888888888888,
              "#fdca26"
             ],
             [
              1,
              "#f0f921"
             ]
            ],
            "type": "heatmapgl"
           }
          ],
          "histogram": [
           {
            "marker": {
             "colorbar": {
              "outlinewidth": 0,
              "ticks": ""
             }
            },
            "type": "histogram"
           }
          ],
          "histogram2d": [
           {
            "colorbar": {
             "outlinewidth": 0,
             "ticks": ""
            },
            "colorscale": [
             [
              0,
              "#0d0887"
             ],
             [
              0.1111111111111111,
              "#46039f"
             ],
             [
              0.2222222222222222,
              "#7201a8"
             ],
             [
              0.3333333333333333,
              "#9c179e"
             ],
             [
              0.4444444444444444,
              "#bd3786"
             ],
             [
              0.5555555555555556,
              "#d8576b"
             ],
             [
              0.6666666666666666,
              "#ed7953"
             ],
             [
              0.7777777777777778,
              "#fb9f3a"
             ],
             [
              0.8888888888888888,
              "#fdca26"
             ],
             [
              1,
              "#f0f921"
             ]
            ],
            "type": "histogram2d"
           }
          ],
          "histogram2dcontour": [
           {
            "colorbar": {
             "outlinewidth": 0,
             "ticks": ""
            },
            "colorscale": [
             [
              0,
              "#0d0887"
             ],
             [
              0.1111111111111111,
              "#46039f"
             ],
             [
              0.2222222222222222,
              "#7201a8"
             ],
             [
              0.3333333333333333,
              "#9c179e"
             ],
             [
              0.4444444444444444,
              "#bd3786"
             ],
             [
              0.5555555555555556,
              "#d8576b"
             ],
             [
              0.6666666666666666,
              "#ed7953"
             ],
             [
              0.7777777777777778,
              "#fb9f3a"
             ],
             [
              0.8888888888888888,
              "#fdca26"
             ],
             [
              1,
              "#f0f921"
             ]
            ],
            "type": "histogram2dcontour"
           }
          ],
          "mesh3d": [
           {
            "colorbar": {
             "outlinewidth": 0,
             "ticks": ""
            },
            "type": "mesh3d"
           }
          ],
          "parcoords": [
           {
            "line": {
             "colorbar": {
              "outlinewidth": 0,
              "ticks": ""
             }
            },
            "type": "parcoords"
           }
          ],
          "pie": [
           {
            "automargin": true,
            "type": "pie"
           }
          ],
          "scatter": [
           {
            "marker": {
             "colorbar": {
              "outlinewidth": 0,
              "ticks": ""
             }
            },
            "type": "scatter"
           }
          ],
          "scatter3d": [
           {
            "line": {
             "colorbar": {
              "outlinewidth": 0,
              "ticks": ""
             }
            },
            "marker": {
             "colorbar": {
              "outlinewidth": 0,
              "ticks": ""
             }
            },
            "type": "scatter3d"
           }
          ],
          "scattercarpet": [
           {
            "marker": {
             "colorbar": {
              "outlinewidth": 0,
              "ticks": ""
             }
            },
            "type": "scattercarpet"
           }
          ],
          "scattergeo": [
           {
            "marker": {
             "colorbar": {
              "outlinewidth": 0,
              "ticks": ""
             }
            },
            "type": "scattergeo"
           }
          ],
          "scattergl": [
           {
            "marker": {
             "colorbar": {
              "outlinewidth": 0,
              "ticks": ""
             }
            },
            "type": "scattergl"
           }
          ],
          "scattermapbox": [
           {
            "marker": {
             "colorbar": {
              "outlinewidth": 0,
              "ticks": ""
             }
            },
            "type": "scattermapbox"
           }
          ],
          "scatterpolar": [
           {
            "marker": {
             "colorbar": {
              "outlinewidth": 0,
              "ticks": ""
             }
            },
            "type": "scatterpolar"
           }
          ],
          "scatterpolargl": [
           {
            "marker": {
             "colorbar": {
              "outlinewidth": 0,
              "ticks": ""
             }
            },
            "type": "scatterpolargl"
           }
          ],
          "scatterternary": [
           {
            "marker": {
             "colorbar": {
              "outlinewidth": 0,
              "ticks": ""
             }
            },
            "type": "scatterternary"
           }
          ],
          "surface": [
           {
            "colorbar": {
             "outlinewidth": 0,
             "ticks": ""
            },
            "colorscale": [
             [
              0,
              "#0d0887"
             ],
             [
              0.1111111111111111,
              "#46039f"
             ],
             [
              0.2222222222222222,
              "#7201a8"
             ],
             [
              0.3333333333333333,
              "#9c179e"
             ],
             [
              0.4444444444444444,
              "#bd3786"
             ],
             [
              0.5555555555555556,
              "#d8576b"
             ],
             [
              0.6666666666666666,
              "#ed7953"
             ],
             [
              0.7777777777777778,
              "#fb9f3a"
             ],
             [
              0.8888888888888888,
              "#fdca26"
             ],
             [
              1,
              "#f0f921"
             ]
            ],
            "type": "surface"
           }
          ],
          "table": [
           {
            "cells": {
             "fill": {
              "color": "#EBF0F8"
             },
             "line": {
              "color": "white"
             }
            },
            "header": {
             "fill": {
              "color": "#C8D4E3"
             },
             "line": {
              "color": "white"
             }
            },
            "type": "table"
           }
          ]
         },
         "layout": {
          "annotationdefaults": {
           "arrowcolor": "#2a3f5f",
           "arrowhead": 0,
           "arrowwidth": 1
          },
          "coloraxis": {
           "colorbar": {
            "outlinewidth": 0,
            "ticks": ""
           }
          },
          "colorscale": {
           "diverging": [
            [
             0,
             "#8e0152"
            ],
            [
             0.1,
             "#c51b7d"
            ],
            [
             0.2,
             "#de77ae"
            ],
            [
             0.3,
             "#f1b6da"
            ],
            [
             0.4,
             "#fde0ef"
            ],
            [
             0.5,
             "#f7f7f7"
            ],
            [
             0.6,
             "#e6f5d0"
            ],
            [
             0.7,
             "#b8e186"
            ],
            [
             0.8,
             "#7fbc41"
            ],
            [
             0.9,
             "#4d9221"
            ],
            [
             1,
             "#276419"
            ]
           ],
           "sequential": [
            [
             0,
             "#0d0887"
            ],
            [
             0.1111111111111111,
             "#46039f"
            ],
            [
             0.2222222222222222,
             "#7201a8"
            ],
            [
             0.3333333333333333,
             "#9c179e"
            ],
            [
             0.4444444444444444,
             "#bd3786"
            ],
            [
             0.5555555555555556,
             "#d8576b"
            ],
            [
             0.6666666666666666,
             "#ed7953"
            ],
            [
             0.7777777777777778,
             "#fb9f3a"
            ],
            [
             0.8888888888888888,
             "#fdca26"
            ],
            [
             1,
             "#f0f921"
            ]
           ],
           "sequentialminus": [
            [
             0,
             "#0d0887"
            ],
            [
             0.1111111111111111,
             "#46039f"
            ],
            [
             0.2222222222222222,
             "#7201a8"
            ],
            [
             0.3333333333333333,
             "#9c179e"
            ],
            [
             0.4444444444444444,
             "#bd3786"
            ],
            [
             0.5555555555555556,
             "#d8576b"
            ],
            [
             0.6666666666666666,
             "#ed7953"
            ],
            [
             0.7777777777777778,
             "#fb9f3a"
            ],
            [
             0.8888888888888888,
             "#fdca26"
            ],
            [
             1,
             "#f0f921"
            ]
           ]
          },
          "colorway": [
           "#636efa",
           "#EF553B",
           "#00cc96",
           "#ab63fa",
           "#FFA15A",
           "#19d3f3",
           "#FF6692",
           "#B6E880",
           "#FF97FF",
           "#FECB52"
          ],
          "font": {
           "color": "#2a3f5f"
          },
          "geo": {
           "bgcolor": "white",
           "lakecolor": "white",
           "landcolor": "#E5ECF6",
           "showlakes": true,
           "showland": true,
           "subunitcolor": "white"
          },
          "hoverlabel": {
           "align": "left"
          },
          "hovermode": "closest",
          "mapbox": {
           "style": "light"
          },
          "paper_bgcolor": "white",
          "plot_bgcolor": "#E5ECF6",
          "polar": {
           "angularaxis": {
            "gridcolor": "white",
            "linecolor": "white",
            "ticks": ""
           },
           "bgcolor": "#E5ECF6",
           "radialaxis": {
            "gridcolor": "white",
            "linecolor": "white",
            "ticks": ""
           }
          },
          "scene": {
           "xaxis": {
            "backgroundcolor": "#E5ECF6",
            "gridcolor": "white",
            "gridwidth": 2,
            "linecolor": "white",
            "showbackground": true,
            "ticks": "",
            "zerolinecolor": "white"
           },
           "yaxis": {
            "backgroundcolor": "#E5ECF6",
            "gridcolor": "white",
            "gridwidth": 2,
            "linecolor": "white",
            "showbackground": true,
            "ticks": "",
            "zerolinecolor": "white"
           },
           "zaxis": {
            "backgroundcolor": "#E5ECF6",
            "gridcolor": "white",
            "gridwidth": 2,
            "linecolor": "white",
            "showbackground": true,
            "ticks": "",
            "zerolinecolor": "white"
           }
          },
          "shapedefaults": {
           "line": {
            "color": "#2a3f5f"
           }
          },
          "ternary": {
           "aaxis": {
            "gridcolor": "white",
            "linecolor": "white",
            "ticks": ""
           },
           "baxis": {
            "gridcolor": "white",
            "linecolor": "white",
            "ticks": ""
           },
           "bgcolor": "#E5ECF6",
           "caxis": {
            "gridcolor": "white",
            "linecolor": "white",
            "ticks": ""
           }
          },
          "title": {
           "x": 0.05
          },
          "xaxis": {
           "automargin": true,
           "gridcolor": "white",
           "linecolor": "white",
           "ticks": "",
           "title": {
            "standoff": 15
           },
           "zerolinecolor": "white",
           "zerolinewidth": 2
          },
          "yaxis": {
           "automargin": true,
           "gridcolor": "white",
           "linecolor": "white",
           "ticks": "",
           "title": {
            "standoff": 15
           },
           "zerolinecolor": "white",
           "zerolinewidth": 2
          }
         }
        },
        "title": {
         "text": "US COVID-19 Cases"
        }
       }
      },
      "text/html": [
       "<div>\n",
       "        \n",
       "        \n",
       "            <div id=\"a92e4048-716f-4075-882d-83d792161dfd\" class=\"plotly-graph-div\" style=\"height:525px; width:100%;\"></div>\n",
       "            <script type=\"text/javascript\">\n",
       "                require([\"plotly\"], function(Plotly) {\n",
       "                    window.PLOTLYENV=window.PLOTLYENV || {};\n",
       "                    \n",
       "                if (document.getElementById(\"a92e4048-716f-4075-882d-83d792161dfd\")) {\n",
       "                    Plotly.newPlot(\n",
       "                        'a92e4048-716f-4075-882d-83d792161dfd',\n",
       "                        [{\"mode\": \"lines\", \"name\": \"Confirmed\", \"type\": \"scatter\", \"x\": [\"2020-01-22\", \"2020-01-23\", \"2020-01-24\", \"2020-01-25\", \"2020-01-26\", \"2020-01-27\", \"2020-01-28\", \"2020-01-29\", \"2020-01-30\", \"2020-01-31\", \"2020-02-01\", \"2020-02-02\", \"2020-02-03\", \"2020-02-04\", \"2020-02-05\", \"2020-02-06\", \"2020-02-07\", \"2020-02-08\", \"2020-02-09\", \"2020-02-10\", \"2020-02-11\", \"2020-02-12\", \"2020-02-13\", \"2020-02-14\", \"2020-02-15\", \"2020-02-16\", \"2020-02-17\", \"2020-02-18\", \"2020-02-19\", \"2020-02-20\", \"2020-02-21\", \"2020-02-22\", \"2020-02-23\", \"2020-02-24\", \"2020-02-25\", \"2020-02-26\", \"2020-02-27\", \"2020-02-28\", \"2020-02-29\", \"2020-03-01\", \"2020-03-02\", \"2020-03-03\", \"2020-03-04\", \"2020-03-05\", \"2020-03-06\", \"2020-03-07\", \"2020-03-08\", \"2020-03-09\", \"2020-03-10\", \"2020-03-11\", \"2020-03-12\", \"2020-03-13\", \"2020-03-14\", \"2020-03-15\", \"2020-03-16\", \"2020-03-17\", \"2020-03-18\", \"2020-03-19\", \"2020-03-20\", \"2020-03-21\", \"2020-03-22\", \"2020-03-23\", \"2020-03-24\", \"2020-03-25\", \"2020-03-26\", \"2020-03-27\", \"2020-03-28\", \"2020-03-29\", \"2020-03-30\", \"2020-03-31\", \"2020-04-01\", \"2020-04-02\", \"2020-04-03\", \"2020-04-04\", \"2020-04-05\", \"2020-04-06\", \"2020-04-07\", \"2020-04-08\", \"2020-04-09\", \"2020-04-10\", \"2020-04-11\", \"2020-04-12\", \"2020-04-13\", \"2020-04-14\", \"2020-04-15\", \"2020-04-16\", \"2020-04-17\", \"2020-04-18\", \"2020-04-19\", \"2020-04-20\", \"2020-04-21\", \"2020-04-22\", \"2020-04-23\", \"2020-04-24\", \"2020-04-25\", \"2020-04-26\", \"2020-04-27\", \"2020-04-28\", \"2020-04-29\", \"2020-04-30\", \"2020-05-01\", \"2020-05-02\", \"2020-05-03\", \"2020-05-04\", \"2020-05-05\", \"2020-05-06\", \"2020-05-07\", \"2020-05-08\", \"2020-05-09\", \"2020-05-10\", \"2020-05-11\", \"2020-05-12\", \"2020-05-13\", \"2020-05-14\", \"2020-05-15\", \"2020-05-16\", \"2020-05-17\", \"2020-05-18\", \"2020-05-19\", \"2020-05-20\", \"2020-05-21\", \"2020-05-22\", \"2020-05-23\", \"2020-05-24\", \"2020-05-25\", \"2020-05-26\", \"2020-05-27\", \"2020-05-28\", \"2020-05-29\", \"2020-05-30\", \"2020-05-31\", \"2020-06-01\", \"2020-06-02\", \"2020-06-03\", \"2020-06-04\", \"2020-06-05\", \"2020-06-06\", \"2020-06-07\", \"2020-06-08\", \"2020-06-09\", \"2020-06-10\", \"2020-06-11\", \"2020-06-12\", \"2020-06-13\", \"2020-06-14\", \"2020-06-15\", \"2020-06-16\", \"2020-06-17\", \"2020-06-18\", \"2020-06-19\", \"2020-06-20\", \"2020-06-21\", \"2020-06-22\", \"2020-06-23\", \"2020-06-24\", \"2020-06-25\", \"2020-06-26\", \"2020-06-27\", \"2020-06-28\", \"2020-06-29\", \"2020-06-30\", \"2020-07-01\", \"2020-07-02\", \"2020-07-03\", \"2020-07-04\", \"2020-07-05\", \"2020-07-06\", \"2020-07-07\", \"2020-07-08\", \"2020-07-09\", \"2020-07-10\", \"2020-07-11\", \"2020-07-12\", \"2020-07-13\", \"2020-07-14\", \"2020-07-15\", \"2020-07-16\", \"2020-07-17\", \"2020-07-18\", \"2020-07-19\", \"2020-07-20\", \"2020-07-21\", \"2020-07-22\", \"2020-07-23\", \"2020-07-24\", \"2020-07-25\", \"2020-07-26\", \"2020-07-27\", \"2020-07-28\", \"2020-07-29\", \"2020-07-30\", \"2020-07-31\", \"2020-08-01\", \"2020-08-02\", \"2020-08-03\", \"2020-08-04\", \"2020-08-05\", \"2020-08-06\", \"2020-08-07\", \"2020-08-08\", \"2020-08-09\", \"2020-08-10\", \"2020-08-11\", \"2020-08-12\", \"2020-08-13\", \"2020-08-14\", \"2020-08-15\", \"2020-08-16\", \"2020-08-17\"], \"y\": [1, 1, 2, 2, 5, 5, 5, 5, 5, 7, 8, 8, 11, 11, 11, 11, 11, 11, 11, 11, 12, 12, 13, 13, 13, 13, 13, 13, 13, 13, 15, 15, 15, 15, 15, 15, 16, 16, 24, 30, 53, 73, 104, 174, 222, 337, 451, 519, 711, 1109, 1561, 2157, 2870, 2968, 4360, 6141, 8917, 14157, 19479, 25825, 33761, 43850, 54112, 66055, 84091, 102276, 122069, 141205, 162707, 188724, 214205, 244610, 276547, 309699, 337573, 367215, 397992, 429686, 464442, 497943, 527969, 556522, 581813, 608878, 637974, 669272, 701996, 730337, 756375, 783716, 809318, 837422, 871617, 907908, 940829, 968518, 990983, 1015518, 1043038, 1072667, 1106829, 1136024, 1161611, 1184086, 1208271, 1233527, 1261409, 1288587, 1314320, 1334084, 1352962, 1375152, 1396110, 1423727, 1449027, 1474128, 1493132, 1514901, 1535350, 1559157, 1584512, 1608653, 1630476, 1651289, 1670280, 1689163, 1707445, 1730260, 1754764, 1779214, 1799124, 1816479, 1837374, 1857332, 1878683, 1903907, 1926639, 1944370, 1961785, 1979912, 2000706, 2023656, 2048986, 2074542, 2094366, 2114026, 2137731, 2163290, 2191099, 2222579, 2255328, 2281767, 2312303, 2347491, 2382426, 2422299, 2467554, 2510259, 2549864, 2590668, 2636414, 2687588, 2742049, 2795361, 2841241, 2891124, 2936077, 2996098, 3054699, 3117946, 3185737, 3245925, 3304942, 3364157, 3431574, 3498902, 3576157, 3647715, 3711413, 3773260, 3834677, 3899211, 3970121, 4038816, 4112531, 4178970, 4233923, 4290337, 4356206, 4426982, 4495015, 4562107, 4620592, 4668172, 4713540, 4771080, 4823890, 4883582, 4941755, 4997929, 5044864, 5094400, 5141208, 5197411, 5248958, 5313252, 5361165, 5403213, 5438325]}, {\"mode\": \"lines\", \"name\": \"Deaths\", \"type\": \"scatter\", \"x\": [\"2020-01-22\", \"2020-01-23\", \"2020-01-24\", \"2020-01-25\", \"2020-01-26\", \"2020-01-27\", \"2020-01-28\", \"2020-01-29\", \"2020-01-30\", \"2020-01-31\", \"2020-02-01\", \"2020-02-02\", \"2020-02-03\", \"2020-02-04\", \"2020-02-05\", \"2020-02-06\", \"2020-02-07\", \"2020-02-08\", \"2020-02-09\", \"2020-02-10\", \"2020-02-11\", \"2020-02-12\", \"2020-02-13\", \"2020-02-14\", \"2020-02-15\", \"2020-02-16\", \"2020-02-17\", \"2020-02-18\", \"2020-02-19\", \"2020-02-20\", \"2020-02-21\", \"2020-02-22\", \"2020-02-23\", \"2020-02-24\", \"2020-02-25\", \"2020-02-26\", \"2020-02-27\", \"2020-02-28\", \"2020-02-29\", \"2020-03-01\", \"2020-03-02\", \"2020-03-03\", \"2020-03-04\", \"2020-03-05\", \"2020-03-06\", \"2020-03-07\", \"2020-03-08\", \"2020-03-09\", \"2020-03-10\", \"2020-03-11\", \"2020-03-12\", \"2020-03-13\", \"2020-03-14\", \"2020-03-15\", \"2020-03-16\", \"2020-03-17\", \"2020-03-18\", \"2020-03-19\", \"2020-03-20\", \"2020-03-21\", \"2020-03-22\", \"2020-03-23\", \"2020-03-24\", \"2020-03-25\", \"2020-03-26\", \"2020-03-27\", \"2020-03-28\", \"2020-03-29\", \"2020-03-30\", \"2020-03-31\", \"2020-04-01\", \"2020-04-02\", \"2020-04-03\", \"2020-04-04\", \"2020-04-05\", \"2020-04-06\", \"2020-04-07\", \"2020-04-08\", \"2020-04-09\", \"2020-04-10\", \"2020-04-11\", \"2020-04-12\", \"2020-04-13\", \"2020-04-14\", \"2020-04-15\", \"2020-04-16\", \"2020-04-17\", \"2020-04-18\", \"2020-04-19\", \"2020-04-20\", \"2020-04-21\", \"2020-04-22\", \"2020-04-23\", \"2020-04-24\", \"2020-04-25\", \"2020-04-26\", \"2020-04-27\", \"2020-04-28\", \"2020-04-29\", \"2020-04-30\", \"2020-05-01\", \"2020-05-02\", \"2020-05-03\", \"2020-05-04\", \"2020-05-05\", \"2020-05-06\", \"2020-05-07\", \"2020-05-08\", \"2020-05-09\", \"2020-05-10\", \"2020-05-11\", \"2020-05-12\", \"2020-05-13\", \"2020-05-14\", \"2020-05-15\", \"2020-05-16\", \"2020-05-17\", \"2020-05-18\", \"2020-05-19\", \"2020-05-20\", \"2020-05-21\", \"2020-05-22\", \"2020-05-23\", \"2020-05-24\", \"2020-05-25\", \"2020-05-26\", \"2020-05-27\", \"2020-05-28\", \"2020-05-29\", \"2020-05-30\", \"2020-05-31\", \"2020-06-01\", \"2020-06-02\", \"2020-06-03\", \"2020-06-04\", \"2020-06-05\", \"2020-06-06\", \"2020-06-07\", \"2020-06-08\", \"2020-06-09\", \"2020-06-10\", \"2020-06-11\", \"2020-06-12\", \"2020-06-13\", \"2020-06-14\", \"2020-06-15\", \"2020-06-16\", \"2020-06-17\", \"2020-06-18\", \"2020-06-19\", \"2020-06-20\", \"2020-06-21\", \"2020-06-22\", \"2020-06-23\", \"2020-06-24\", \"2020-06-25\", \"2020-06-26\", \"2020-06-27\", \"2020-06-28\", \"2020-06-29\", \"2020-06-30\", \"2020-07-01\", \"2020-07-02\", \"2020-07-03\", \"2020-07-04\", \"2020-07-05\", \"2020-07-06\", \"2020-07-07\", \"2020-07-08\", \"2020-07-09\", \"2020-07-10\", \"2020-07-11\", \"2020-07-12\", \"2020-07-13\", \"2020-07-14\", \"2020-07-15\", \"2020-07-16\", \"2020-07-17\", \"2020-07-18\", \"2020-07-19\", \"2020-07-20\", \"2020-07-21\", \"2020-07-22\", \"2020-07-23\", \"2020-07-24\", \"2020-07-25\", \"2020-07-26\", \"2020-07-27\", \"2020-07-28\", \"2020-07-29\", \"2020-07-30\", \"2020-07-31\", \"2020-08-01\", \"2020-08-02\", \"2020-08-03\", \"2020-08-04\", \"2020-08-05\", \"2020-08-06\", \"2020-08-07\", \"2020-08-08\", \"2020-08-09\", \"2020-08-10\", \"2020-08-11\", \"2020-08-12\", \"2020-08-13\", \"2020-08-14\", \"2020-08-15\", \"2020-08-16\", \"2020-08-17\"], \"y\": [0, 0, 0, 0, 0, 0, 0, 0, 0, 0, 0, 0, 0, 0, 0, 0, 0, 0, 0, 0, 0, 0, 0, 0, 0, 0, 0, 0, 0, 0, 0, 0, 0, 0, 0, 0, 0, 0, 1, 1, 6, 7, 11, 12, 14, 17, 21, 22, 28, 33, 43, 52, 58, 70, 97, 132, 191, 269, 368, 463, 611, 798, 1040, 1356, 1778, 2341, 2995, 3629, 4463, 5718, 6986, 8599, 9936, 11263, 12765, 14504, 16883, 19065, 21216, 23362, 25486, 27336, 29242, 31699, 34308, 36483, 39149, 41594, 42870, 44704, 47208, 49639, 52108, 54262, 55959, 57289, 58756, 60997, 63518, 65842, 67733, 69425, 70546, 71879, 74197, 76560, 78496, 80243, 81731, 82625, 83640, 85266, 87029, 88812, 90493, 91709, 92467, 93243, 94798, 96377, 97611, 98884, 100014, 100628, 101151, 101846, 103364, 104556, 105727, 106706, 107297, 108074, 109117, 110128, 111151, 112100, 112787, 113234, 113747, 114692, 115610, 116498, 117330, 118093, 118401, 118792, 119635, 120387, 121097, 121769, 122382, 122666, 123053, 123900, 124664, 125223, 125835, 126335, 126586, 126950, 127685, 128372, 129096, 129749, 130020, 130319, 130670, 131894, 132744, 133756, 134586, 135277, 135728, 136117, 137045, 138013, 138966, 139886, 140756, 141201, 141715, 142824, 144035, 145156, 146279, 147180, 147657, 148782, 150150, 151586, 152802, 154048, 155159, 155565, 156104, 157482, 158854, 160104, 161347, 162423, 162938, 163463, 164527, 166034, 167110, 168452, 169481, 170052, 170497]}, {\"mode\": \"lines\", \"name\": \"Recovered\", \"type\": \"scatter\", \"x\": [\"2020-01-22\", \"2020-01-23\", \"2020-01-24\", \"2020-01-25\", \"2020-01-26\", \"2020-01-27\", \"2020-01-28\", \"2020-01-29\", \"2020-01-30\", \"2020-01-31\", \"2020-02-01\", \"2020-02-02\", \"2020-02-03\", \"2020-02-04\", \"2020-02-05\", \"2020-02-06\", \"2020-02-07\", \"2020-02-08\", \"2020-02-09\", \"2020-02-10\", \"2020-02-11\", \"2020-02-12\", \"2020-02-13\", \"2020-02-14\", \"2020-02-15\", \"2020-02-16\", \"2020-02-17\", \"2020-02-18\", \"2020-02-19\", \"2020-02-20\", \"2020-02-21\", \"2020-02-22\", \"2020-02-23\", \"2020-02-24\", \"2020-02-25\", \"2020-02-26\", \"2020-02-27\", \"2020-02-28\", \"2020-02-29\", \"2020-03-01\", \"2020-03-02\", \"2020-03-03\", \"2020-03-04\", \"2020-03-05\", \"2020-03-06\", \"2020-03-07\", \"2020-03-08\", \"2020-03-09\", \"2020-03-10\", \"2020-03-11\", \"2020-03-12\", \"2020-03-13\", \"2020-03-14\", \"2020-03-15\", \"2020-03-16\", \"2020-03-17\", \"2020-03-18\", \"2020-03-19\", \"2020-03-20\", \"2020-03-21\", \"2020-03-22\", \"2020-03-23\", \"2020-03-24\", \"2020-03-25\", \"2020-03-26\", \"2020-03-27\", \"2020-03-28\", \"2020-03-29\", \"2020-03-30\", \"2020-03-31\", \"2020-04-01\", \"2020-04-02\", \"2020-04-03\", \"2020-04-04\", \"2020-04-05\", \"2020-04-06\", \"2020-04-07\", \"2020-04-08\", \"2020-04-09\", \"2020-04-10\", \"2020-04-11\", \"2020-04-12\", \"2020-04-13\", \"2020-04-14\", \"2020-04-15\", \"2020-04-16\", \"2020-04-17\", \"2020-04-18\", \"2020-04-19\", \"2020-04-20\", \"2020-04-21\", \"2020-04-22\", \"2020-04-23\", \"2020-04-24\", \"2020-04-25\", \"2020-04-26\", \"2020-04-27\", \"2020-04-28\", \"2020-04-29\", \"2020-04-30\", \"2020-05-01\", \"2020-05-02\", \"2020-05-03\", \"2020-05-04\", \"2020-05-05\", \"2020-05-06\", \"2020-05-07\", \"2020-05-08\", \"2020-05-09\", \"2020-05-10\", \"2020-05-11\", \"2020-05-12\", \"2020-05-13\", \"2020-05-14\", \"2020-05-15\", \"2020-05-16\", \"2020-05-17\", \"2020-05-18\", \"2020-05-19\", \"2020-05-20\", \"2020-05-21\", \"2020-05-22\", \"2020-05-23\", \"2020-05-24\", \"2020-05-25\", \"2020-05-26\", \"2020-05-27\", \"2020-05-28\", \"2020-05-29\", \"2020-05-30\", \"2020-05-31\", \"2020-06-01\", \"2020-06-02\", \"2020-06-03\", \"2020-06-04\", \"2020-06-05\", \"2020-06-06\", \"2020-06-07\", \"2020-06-08\", \"2020-06-09\", \"2020-06-10\", \"2020-06-11\", \"2020-06-12\", \"2020-06-13\", \"2020-06-14\", \"2020-06-15\", \"2020-06-16\", \"2020-06-17\", \"2020-06-18\", \"2020-06-19\", \"2020-06-20\", \"2020-06-21\", \"2020-06-22\", \"2020-06-23\", \"2020-06-24\", \"2020-06-25\", \"2020-06-26\", \"2020-06-27\", \"2020-06-28\", \"2020-06-29\", \"2020-06-30\", \"2020-07-01\", \"2020-07-02\", \"2020-07-03\", \"2020-07-04\", \"2020-07-05\", \"2020-07-06\", \"2020-07-07\", \"2020-07-08\", \"2020-07-09\", \"2020-07-10\", \"2020-07-11\", \"2020-07-12\", \"2020-07-13\", \"2020-07-14\", \"2020-07-15\", \"2020-07-16\", \"2020-07-17\", \"2020-07-18\", \"2020-07-19\", \"2020-07-20\", \"2020-07-21\", \"2020-07-22\", \"2020-07-23\", \"2020-07-24\", \"2020-07-25\", \"2020-07-26\", \"2020-07-27\", \"2020-07-28\", \"2020-07-29\", \"2020-07-30\", \"2020-07-31\", \"2020-08-01\", \"2020-08-02\", \"2020-08-03\", \"2020-08-04\", \"2020-08-05\", \"2020-08-06\", \"2020-08-07\", \"2020-08-08\", \"2020-08-09\", \"2020-08-10\", \"2020-08-11\", \"2020-08-12\", \"2020-08-13\", \"2020-08-14\", \"2020-08-15\", \"2020-08-16\", \"2020-08-17\"], \"y\": [0, 0, 0, 0, 0, 0, 0, 0, 0, 0, 0, 0, 0, 0, 0, 0, 0, 0, 3, 3, 3, 3, 3, 3, 3, 3, 3, 3, 3, 3, 5, 5, 5, 5, 6, 6, 6, 7, 7, 7, 7, 7, 7, 7, 7, 7, 7, 7, 8, 8, 12, 12, 12, 12, 17, 17, 105, 121, 147, 176, 178, 178, 348, 361, 681, 869, 1072, 2665, 5644, 7024, 8474, 9001, 9707, 14652, 17448, 19581, 21763, 23559, 25410, 28790, 31270, 32988, 43482, 47763, 52096, 54703, 58545, 64840, 70337, 72329, 75204, 77366, 80203, 99079, 100372, 106988, 111424, 115936, 120720, 153947, 164015, 175382, 180152, 187180, 189791, 189910, 195036, 198993, 212534, 216169, 232733, 230287, 243430, 246414, 250747, 268376, 272265, 283178, 289392, 294312, 298418, 350135, 361239, 366736, 379157, 384902, 391508, 399991, 406446, 416461, 444758, 458231, 463868, 479258, 485002, 491706, 500849, 506367, 518522, 524855, 533504, 540292, 547386, 556606, 561816, 576334, 583503, 592191, 599115, 606715, 617460, 622133, 640198, 647548, 656161, 663562, 670809, 679308, 685164, 705203, 720631, 729994, 781970, 790404, 894325, 906763, 924148, 936476, 953462, 969111, 983185, 995576, 1006326, 1031939, 1049098, 1075882, 1090645, 1107204, 1122720, 1131121, 1160087, 1182018, 1210849, 1233269, 1261624, 1279414, 1297863, 1325804, 1355363, 1389425, 1414155, 1438160, 1461885, 1468689, 1513446, 1528979, 1577851, 1598624, 1623870, 1643118, 1656864, 1670755, 1714960, 1753760, 1774648, 1796326, 1818527, 1833067, 1865580]}, {\"mode\": \"lines\", \"name\": \"Active\", \"type\": \"scatter\", \"x\": [\"2020-01-22\", \"2020-01-23\", \"2020-01-24\", \"2020-01-25\", \"2020-01-26\", \"2020-01-27\", \"2020-01-28\", \"2020-01-29\", \"2020-01-30\", \"2020-01-31\", \"2020-02-01\", \"2020-02-02\", \"2020-02-03\", \"2020-02-04\", \"2020-02-05\", \"2020-02-06\", \"2020-02-07\", \"2020-02-08\", \"2020-02-09\", \"2020-02-10\", \"2020-02-11\", \"2020-02-12\", \"2020-02-13\", \"2020-02-14\", \"2020-02-15\", \"2020-02-16\", \"2020-02-17\", \"2020-02-18\", \"2020-02-19\", \"2020-02-20\", \"2020-02-21\", \"2020-02-22\", \"2020-02-23\", \"2020-02-24\", \"2020-02-25\", \"2020-02-26\", \"2020-02-27\", \"2020-02-28\", \"2020-02-29\", \"2020-03-01\", \"2020-03-02\", \"2020-03-03\", \"2020-03-04\", \"2020-03-05\", \"2020-03-06\", \"2020-03-07\", \"2020-03-08\", \"2020-03-09\", \"2020-03-10\", \"2020-03-11\", \"2020-03-12\", \"2020-03-13\", \"2020-03-14\", \"2020-03-15\", \"2020-03-16\", \"2020-03-17\", \"2020-03-18\", \"2020-03-19\", \"2020-03-20\", \"2020-03-21\", \"2020-03-22\", \"2020-03-23\", \"2020-03-24\", \"2020-03-25\", \"2020-03-26\", \"2020-03-27\", \"2020-03-28\", \"2020-03-29\", \"2020-03-30\", \"2020-03-31\", \"2020-04-01\", \"2020-04-02\", \"2020-04-03\", \"2020-04-04\", \"2020-04-05\", \"2020-04-06\", \"2020-04-07\", \"2020-04-08\", \"2020-04-09\", \"2020-04-10\", \"2020-04-11\", \"2020-04-12\", \"2020-04-13\", \"2020-04-14\", \"2020-04-15\", \"2020-04-16\", \"2020-04-17\", \"2020-04-18\", \"2020-04-19\", \"2020-04-20\", \"2020-04-21\", \"2020-04-22\", \"2020-04-23\", \"2020-04-24\", \"2020-04-25\", \"2020-04-26\", \"2020-04-27\", \"2020-04-28\", \"2020-04-29\", \"2020-04-30\", \"2020-05-01\", \"2020-05-02\", \"2020-05-03\", \"2020-05-04\", \"2020-05-05\", \"2020-05-06\", \"2020-05-07\", \"2020-05-08\", \"2020-05-09\", \"2020-05-10\", \"2020-05-11\", \"2020-05-12\", \"2020-05-13\", \"2020-05-14\", \"2020-05-15\", \"2020-05-16\", \"2020-05-17\", \"2020-05-18\", \"2020-05-19\", \"2020-05-20\", \"2020-05-21\", \"2020-05-22\", \"2020-05-23\", \"2020-05-24\", \"2020-05-25\", \"2020-05-26\", \"2020-05-27\", \"2020-05-28\", \"2020-05-29\", \"2020-05-30\", \"2020-05-31\", \"2020-06-01\", \"2020-06-02\", \"2020-06-03\", \"2020-06-04\", \"2020-06-05\", \"2020-06-06\", \"2020-06-07\", \"2020-06-08\", \"2020-06-09\", \"2020-06-10\", \"2020-06-11\", \"2020-06-12\", \"2020-06-13\", \"2020-06-14\", \"2020-06-15\", \"2020-06-16\", \"2020-06-17\", \"2020-06-18\", \"2020-06-19\", \"2020-06-20\", \"2020-06-21\", \"2020-06-22\", \"2020-06-23\", \"2020-06-24\", \"2020-06-25\", \"2020-06-26\", \"2020-06-27\", \"2020-06-28\", \"2020-06-29\", \"2020-06-30\", \"2020-07-01\", \"2020-07-02\", \"2020-07-03\", \"2020-07-04\", \"2020-07-05\", \"2020-07-06\", \"2020-07-07\", \"2020-07-08\", \"2020-07-09\", \"2020-07-10\", \"2020-07-11\", \"2020-07-12\", \"2020-07-13\", \"2020-07-14\", \"2020-07-15\", \"2020-07-16\", \"2020-07-17\", \"2020-07-18\", \"2020-07-19\", \"2020-07-20\", \"2020-07-21\", \"2020-07-22\", \"2020-07-23\", \"2020-07-24\", \"2020-07-25\", \"2020-07-26\", \"2020-07-27\", \"2020-07-28\", \"2020-07-29\", \"2020-07-30\", \"2020-07-31\", \"2020-08-01\", \"2020-08-02\", \"2020-08-03\", \"2020-08-04\", \"2020-08-05\", \"2020-08-06\", \"2020-08-07\", \"2020-08-08\", \"2020-08-09\", \"2020-08-10\", \"2020-08-11\", \"2020-08-12\", \"2020-08-13\", \"2020-08-14\", \"2020-08-15\", \"2020-08-16\", \"2020-08-17\"], \"y\": [1, 1, 2, 2, 5, 5, 5, 5, 5, 7, 8, 8, 11, 11, 11, 11, 11, 11, 8, 8, 9, 9, 10, 10, 10, 10, 10, 10, 10, 10, 10, 10, 10, 10, 9, 9, 10, 9, 16, 22, 40, 59, 86, 155, 201, 313, 423, 490, 675, 1068, 1506, 2093, 2800, 2886, 4246, 5992, 8621, 13767, 18964, 25186, 32972, 42874, 52724, 64338, 81632, 99066, 118002, 134911, 152600, 175982, 198745, 227010, 256904, 283784, 307360, 333130, 359346, 387062, 417816, 445791, 471213, 496198, 509089, 529416, 551570, 578086, 604302, 623903, 643168, 666683, 686906, 710417, 739306, 754567, 784498, 804241, 820803, 838585, 858800, 852878, 875081, 891217, 910913, 925027, 944283, 967057, 987877, 1009351, 1020055, 1035290, 1036589, 1059599, 1065651, 1088501, 1107787, 1114043, 1128400, 1138480, 1151160, 1168468, 1188483, 1159634, 1169223, 1183925, 1189972, 1202415, 1212573, 1225713, 1242591, 1256047, 1247069, 1250174, 1264389, 1267946, 1282530, 1300101, 1313003, 1324769, 1329516, 1340365, 1351592, 1366866, 1384270, 1399843, 1414149, 1418900, 1434593, 1450712, 1470887, 1494095, 1515486, 1536968, 1549052, 1576043, 1601601, 1633514, 1670910, 1704616, 1738114, 1758515, 1788098, 1829222, 1830983, 1875208, 1816896, 1854042, 1881259, 1927728, 1968493, 2015079, 2067966, 2115072, 2162888, 2196101, 2245431, 2285007, 2346546, 2400625, 2447937, 2500938, 2532875, 2574369, 2615237, 2660391, 2704628, 2752376, 2788403, 2815751, 2850693, 2885971, 2928058, 2969899, 3003548, 3043918, 3043990, 3084619, 3087185, 3124854, 3156538, 3192388, 3225062, 3260182, 3261721, 3277617, 3307200, 3348474, 3373157, 3400094, 3402248]}, {\"mode\": \"lines\", \"name\": \"New\", \"type\": \"scatter\", \"x\": [\"2020-01-22\", \"2020-01-23\", \"2020-01-24\", \"2020-01-25\", \"2020-01-26\", \"2020-01-27\", \"2020-01-28\", \"2020-01-29\", \"2020-01-30\", \"2020-01-31\", \"2020-02-01\", \"2020-02-02\", \"2020-02-03\", \"2020-02-04\", \"2020-02-05\", \"2020-02-06\", \"2020-02-07\", \"2020-02-08\", \"2020-02-09\", \"2020-02-10\", \"2020-02-11\", \"2020-02-12\", \"2020-02-13\", \"2020-02-14\", \"2020-02-15\", \"2020-02-16\", \"2020-02-17\", \"2020-02-18\", \"2020-02-19\", \"2020-02-20\", \"2020-02-21\", \"2020-02-22\", \"2020-02-23\", \"2020-02-24\", \"2020-02-25\", \"2020-02-26\", \"2020-02-27\", \"2020-02-28\", \"2020-02-29\", \"2020-03-01\", \"2020-03-02\", \"2020-03-03\", \"2020-03-04\", \"2020-03-05\", \"2020-03-06\", \"2020-03-07\", \"2020-03-08\", \"2020-03-09\", \"2020-03-10\", \"2020-03-11\", \"2020-03-12\", \"2020-03-13\", \"2020-03-14\", \"2020-03-15\", \"2020-03-16\", \"2020-03-17\", \"2020-03-18\", \"2020-03-19\", \"2020-03-20\", \"2020-03-21\", \"2020-03-22\", \"2020-03-23\", \"2020-03-24\", \"2020-03-25\", \"2020-03-26\", \"2020-03-27\", \"2020-03-28\", \"2020-03-29\", \"2020-03-30\", \"2020-03-31\", \"2020-04-01\", \"2020-04-02\", \"2020-04-03\", \"2020-04-04\", \"2020-04-05\", \"2020-04-06\", \"2020-04-07\", \"2020-04-08\", \"2020-04-09\", \"2020-04-10\", \"2020-04-11\", \"2020-04-12\", \"2020-04-13\", \"2020-04-14\", \"2020-04-15\", \"2020-04-16\", \"2020-04-17\", \"2020-04-18\", \"2020-04-19\", \"2020-04-20\", \"2020-04-21\", \"2020-04-22\", \"2020-04-23\", \"2020-04-24\", \"2020-04-25\", \"2020-04-26\", \"2020-04-27\", \"2020-04-28\", \"2020-04-29\", \"2020-04-30\", \"2020-05-01\", \"2020-05-02\", \"2020-05-03\", \"2020-05-04\", \"2020-05-05\", \"2020-05-06\", \"2020-05-07\", \"2020-05-08\", \"2020-05-09\", \"2020-05-10\", \"2020-05-11\", \"2020-05-12\", \"2020-05-13\", \"2020-05-14\", \"2020-05-15\", \"2020-05-16\", \"2020-05-17\", \"2020-05-18\", \"2020-05-19\", \"2020-05-20\", \"2020-05-21\", \"2020-05-22\", \"2020-05-23\", \"2020-05-24\", \"2020-05-25\", \"2020-05-26\", \"2020-05-27\", \"2020-05-28\", \"2020-05-29\", \"2020-05-30\", \"2020-05-31\", \"2020-06-01\", \"2020-06-02\", \"2020-06-03\", \"2020-06-04\", \"2020-06-05\", \"2020-06-06\", \"2020-06-07\", \"2020-06-08\", \"2020-06-09\", \"2020-06-10\", \"2020-06-11\", \"2020-06-12\", \"2020-06-13\", \"2020-06-14\", \"2020-06-15\", \"2020-06-16\", \"2020-06-17\", \"2020-06-18\", \"2020-06-19\", \"2020-06-20\", \"2020-06-21\", \"2020-06-22\", \"2020-06-23\", \"2020-06-24\", \"2020-06-25\", \"2020-06-26\", \"2020-06-27\", \"2020-06-28\", \"2020-06-29\", \"2020-06-30\", \"2020-07-01\", \"2020-07-02\", \"2020-07-03\", \"2020-07-04\", \"2020-07-05\", \"2020-07-06\", \"2020-07-07\", \"2020-07-08\", \"2020-07-09\", \"2020-07-10\", \"2020-07-11\", \"2020-07-12\", \"2020-07-13\", \"2020-07-14\", \"2020-07-15\", \"2020-07-16\", \"2020-07-17\", \"2020-07-18\", \"2020-07-19\", \"2020-07-20\", \"2020-07-21\", \"2020-07-22\", \"2020-07-23\", \"2020-07-24\", \"2020-07-25\", \"2020-07-26\", \"2020-07-27\", \"2020-07-28\", \"2020-07-29\", \"2020-07-30\", \"2020-07-31\", \"2020-08-01\", \"2020-08-02\", \"2020-08-03\", \"2020-08-04\", \"2020-08-05\", \"2020-08-06\", \"2020-08-07\", \"2020-08-08\", \"2020-08-09\", \"2020-08-10\", \"2020-08-11\", \"2020-08-12\", \"2020-08-13\", \"2020-08-14\", \"2020-08-15\", \"2020-08-16\", \"2020-08-17\"], \"y\": [0, 0, 1, 0, 3, 0, 0, 0, 0, 2, 1, 0, 3, 0, 0, 0, 0, 0, 0, 0, 1, 0, 1, 0, 0, 0, 0, 0, 0, 0, 2, 0, 0, 0, 0, 0, 1, 0, 8, 6, 23, 20, 31, 70, 48, 115, 114, 68, 192, 398, 452, 596, 713, 98, 1392, 1781, 2776, 5240, 5322, 6346, 7936, 10089, 10262, 11943, 18036, 18185, 19793, 19136, 21502, 26017, 25481, 30405, 31937, 33152, 27874, 29642, 30777, 31694, 34756, 33501, 30026, 28553, 25291, 27065, 29096, 31298, 32724, 28341, 26038, 27341, 25602, 28104, 34195, 36291, 32921, 27689, 22465, 24535, 27520, 29629, 34162, 29195, 25587, 22475, 24185, 25256, 27882, 27178, 25733, 19764, 18878, 22190, 20958, 27617, 25300, 25101, 19004, 21769, 20449, 23807, 25355, 24141, 21823, 20813, 18991, 18883, 18282, 22815, 24504, 24450, 19910, 17355, 20895, 19958, 21351, 25224, 22732, 17731, 17415, 18127, 20794, 22950, 25330, 25556, 19824, 19660, 23705, 25559, 27809, 31480, 32749, 26439, 30536, 35188, 34935, 39873, 45255, 42705, 39605, 40804, 45746, 51174, 54461, 53312, 45880, 49883, 44953, 60021, 58601, 63247, 67791, 60188, 59017, 59215, 67417, 67328, 77255, 71558, 63698, 61847, 61417, 64534, 70910, 68695, 73715, 66439, 54953, 56414, 65869, 70776, 68033, 67092, 58485, 47580, 45368, 57540, 52810, 59692, 58173, 56174, 46935, 49536, 46808, 56203, 51547, 64294, 47913, 42048, 35112]}, {\"mode\": \"lines\", \"name\": \"Fatality Rate\", \"type\": \"scatter\", \"x\": [\"2020-01-22\", \"2020-01-23\", \"2020-01-24\", \"2020-01-25\", \"2020-01-26\", \"2020-01-27\", \"2020-01-28\", \"2020-01-29\", \"2020-01-30\", \"2020-01-31\", \"2020-02-01\", \"2020-02-02\", \"2020-02-03\", \"2020-02-04\", \"2020-02-05\", \"2020-02-06\", \"2020-02-07\", \"2020-02-08\", \"2020-02-09\", \"2020-02-10\", \"2020-02-11\", \"2020-02-12\", \"2020-02-13\", \"2020-02-14\", \"2020-02-15\", \"2020-02-16\", \"2020-02-17\", \"2020-02-18\", \"2020-02-19\", \"2020-02-20\", \"2020-02-21\", \"2020-02-22\", \"2020-02-23\", \"2020-02-24\", \"2020-02-25\", \"2020-02-26\", \"2020-02-27\", \"2020-02-28\", \"2020-02-29\", \"2020-03-01\", \"2020-03-02\", \"2020-03-03\", \"2020-03-04\", \"2020-03-05\", \"2020-03-06\", \"2020-03-07\", \"2020-03-08\", \"2020-03-09\", \"2020-03-10\", \"2020-03-11\", \"2020-03-12\", \"2020-03-13\", \"2020-03-14\", \"2020-03-15\", \"2020-03-16\", \"2020-03-17\", \"2020-03-18\", \"2020-03-19\", \"2020-03-20\", \"2020-03-21\", \"2020-03-22\", \"2020-03-23\", \"2020-03-24\", \"2020-03-25\", \"2020-03-26\", \"2020-03-27\", \"2020-03-28\", \"2020-03-29\", \"2020-03-30\", \"2020-03-31\", \"2020-04-01\", \"2020-04-02\", \"2020-04-03\", \"2020-04-04\", \"2020-04-05\", \"2020-04-06\", \"2020-04-07\", \"2020-04-08\", \"2020-04-09\", \"2020-04-10\", \"2020-04-11\", \"2020-04-12\", \"2020-04-13\", \"2020-04-14\", \"2020-04-15\", \"2020-04-16\", \"2020-04-17\", \"2020-04-18\", \"2020-04-19\", \"2020-04-20\", \"2020-04-21\", \"2020-04-22\", \"2020-04-23\", \"2020-04-24\", \"2020-04-25\", \"2020-04-26\", \"2020-04-27\", \"2020-04-28\", \"2020-04-29\", \"2020-04-30\", \"2020-05-01\", \"2020-05-02\", \"2020-05-03\", \"2020-05-04\", \"2020-05-05\", \"2020-05-06\", \"2020-05-07\", \"2020-05-08\", \"2020-05-09\", \"2020-05-10\", \"2020-05-11\", \"2020-05-12\", \"2020-05-13\", \"2020-05-14\", \"2020-05-15\", \"2020-05-16\", \"2020-05-17\", \"2020-05-18\", \"2020-05-19\", \"2020-05-20\", \"2020-05-21\", \"2020-05-22\", \"2020-05-23\", \"2020-05-24\", \"2020-05-25\", \"2020-05-26\", \"2020-05-27\", \"2020-05-28\", \"2020-05-29\", \"2020-05-30\", \"2020-05-31\", \"2020-06-01\", \"2020-06-02\", \"2020-06-03\", \"2020-06-04\", \"2020-06-05\", \"2020-06-06\", \"2020-06-07\", \"2020-06-08\", \"2020-06-09\", \"2020-06-10\", \"2020-06-11\", \"2020-06-12\", \"2020-06-13\", \"2020-06-14\", \"2020-06-15\", \"2020-06-16\", \"2020-06-17\", \"2020-06-18\", \"2020-06-19\", \"2020-06-20\", \"2020-06-21\", \"2020-06-22\", \"2020-06-23\", \"2020-06-24\", \"2020-06-25\", \"2020-06-26\", \"2020-06-27\", \"2020-06-28\", \"2020-06-29\", \"2020-06-30\", \"2020-07-01\", \"2020-07-02\", \"2020-07-03\", \"2020-07-04\", \"2020-07-05\", \"2020-07-06\", \"2020-07-07\", \"2020-07-08\", \"2020-07-09\", \"2020-07-10\", \"2020-07-11\", \"2020-07-12\", \"2020-07-13\", \"2020-07-14\", \"2020-07-15\", \"2020-07-16\", \"2020-07-17\", \"2020-07-18\", \"2020-07-19\", \"2020-07-20\", \"2020-07-21\", \"2020-07-22\", \"2020-07-23\", \"2020-07-24\", \"2020-07-25\", \"2020-07-26\", \"2020-07-27\", \"2020-07-28\", \"2020-07-29\", \"2020-07-30\", \"2020-07-31\", \"2020-08-01\", \"2020-08-02\", \"2020-08-03\", \"2020-08-04\", \"2020-08-05\", \"2020-08-06\", \"2020-08-07\", \"2020-08-08\", \"2020-08-09\", \"2020-08-10\", \"2020-08-11\", \"2020-08-12\", \"2020-08-13\", \"2020-08-14\", \"2020-08-15\", \"2020-08-16\", \"2020-08-17\"], \"y\": [0.0, 0.0, 0.0, 0.0, 0.0, 0.0, 0.0, 0.0, 0.0, 0.0, 0.0, 0.0, 0.0, 0.0, 0.0, 0.0, 0.0, 0.0, 0.0, 0.0, 0.0, 0.0, 0.0, 0.0, 0.0, 0.0, 0.0, 0.0, 0.0, 0.0, 0.0, 0.0, 0.0, 0.0, 0.0, 0.0, 0.0, 0.0, 4.166666666666666, 3.333333333333333, 11.320754716981131, 9.58904109589041, 10.576923076923077, 6.896551724137932, 6.306306306306306, 5.044510385756675, 4.656319290465632, 4.238921001926782, 3.938115330520394, 2.9756537421100093, 2.7546444586803327, 2.4107556791840516, 2.020905923344948, 2.358490566037736, 2.2247706422018347, 2.149487054225696, 2.1419760008971633, 1.900120081938264, 1.8892140253606449, 1.7928363988383351, 1.809780515979977, 1.8198403648802737, 1.9219396806623301, 2.052834758913027, 2.1143760925663857, 2.2889045328327278, 2.4535303803586497, 2.570022307991927, 2.7429674199634926, 3.0298213263813825, 3.2613617796036505, 3.515391848248232, 3.592879329734186, 3.6367569801646114, 3.781404318473337, 3.9497297223697285, 4.242045066232487, 4.436960943572749, 4.5680623199452235, 4.69170166063184, 4.827177353215814, 4.911935197530376, 5.02601351293285, 5.206133248368309, 5.377648618909235, 5.451146917845062, 5.576812403489479, 5.695179074865439, 5.667823500247892, 5.704107100020926, 5.833059440170612, 5.927596838869769, 5.9783138695092, 5.9765967476880935, 5.9478396180389845, 5.915119801593776, 5.929062355257356, 6.006491268495487, 6.089711017240024, 6.1381584405971275, 6.1195541497376755, 6.1112265233833085, 6.073117420547843, 6.070420560668736, 6.14075815773117, 6.206592964726349, 6.222882506784082, 6.227208562557283, 6.218500821717695, 6.19338812248704, 6.181991807604352, 6.200478201682433, 6.23367786205958, 6.2379936603014485, 6.245087220596994, 6.221237233130367, 6.192821532188715, 6.15505567690562, 6.174357638323508, 6.1813531286458, 6.160319391711769, 6.1470062219757775, 6.13403693154637, 6.0939060334078405, 6.055930742151017, 6.029376679456037, 6.053723546000018, 6.042791256805336, 6.025140702681386, 5.997367376830442, 5.963846849911401, 5.949642137343728, 5.9387473644451285, 5.9293653477138175, 5.916431883399168, 5.887892633411192, 5.854080603579601, 5.823685821114294, 5.798137920312367, 5.792782709534565, 5.778460203548148, 5.756808469423658, 5.726247031458487, 5.6924853774953705, 5.6533098799350245, 5.619230794701672, 5.596354265340214, 5.564995909008963, 5.526769899488794, 5.478725390638533, 5.426350402247479, 5.375921380228569, 5.3216641590656595, 5.277975506615362, 5.232649408628012, 5.169593018863486, 5.099584446784143, 5.032747616879374, 4.9644216318988, 4.900280545403733, 4.843131617416688, 4.776476156315626, 4.708012147120638, 4.641582965491756, 4.576169356981684, 4.5075548471805424, 4.4504963595981994, 4.402192451648778, 4.345567271930883, 4.289875450055902, 4.224642523849268, 4.167594753421598, 4.106819423759934, 4.0460953516735385, 3.9936483957507543, 3.9444660067644084, 3.8859032195734136, 3.8348938993314987, 3.7925178361987744, 3.742148699002984, 3.695617649152719, 3.662894877963773, 3.627975066754893, 3.5940235950337924, 3.5569093582516462, 3.521920473226656, 3.4874748548804497, 3.467839472750043, 3.4468066937146684, 3.424138611812743, 3.3993657418273355, 3.3766853780500985, 3.357989625571788, 3.3324607576584584, 3.3118208395388606, 3.3007620916019014, 3.29306845719948, 3.278413263051588, 3.2649736783794423, 3.2498060696740585, 3.229779831527668, 3.2086801193467336, 3.200162296487518, 3.1945520567836563, 3.183679503627196, 3.1704123952712946, 3.161271850428032, 3.147238504201112, 3.135101340945971]}],\n",
       "                        {\"template\": {\"data\": {\"bar\": [{\"error_x\": {\"color\": \"#2a3f5f\"}, \"error_y\": {\"color\": \"#2a3f5f\"}, \"marker\": {\"line\": {\"color\": \"#E5ECF6\", \"width\": 0.5}}, \"type\": \"bar\"}], \"barpolar\": [{\"marker\": {\"line\": {\"color\": \"#E5ECF6\", \"width\": 0.5}}, \"type\": \"barpolar\"}], \"carpet\": [{\"aaxis\": {\"endlinecolor\": \"#2a3f5f\", \"gridcolor\": \"white\", \"linecolor\": \"white\", \"minorgridcolor\": \"white\", \"startlinecolor\": \"#2a3f5f\"}, \"baxis\": {\"endlinecolor\": \"#2a3f5f\", \"gridcolor\": \"white\", \"linecolor\": \"white\", \"minorgridcolor\": \"white\", \"startlinecolor\": \"#2a3f5f\"}, \"type\": \"carpet\"}], \"choropleth\": [{\"colorbar\": {\"outlinewidth\": 0, \"ticks\": \"\"}, \"type\": \"choropleth\"}], \"contour\": [{\"colorbar\": {\"outlinewidth\": 0, \"ticks\": \"\"}, \"colorscale\": [[0.0, \"#0d0887\"], [0.1111111111111111, \"#46039f\"], [0.2222222222222222, \"#7201a8\"], [0.3333333333333333, \"#9c179e\"], [0.4444444444444444, \"#bd3786\"], [0.5555555555555556, \"#d8576b\"], [0.6666666666666666, \"#ed7953\"], [0.7777777777777778, \"#fb9f3a\"], [0.8888888888888888, \"#fdca26\"], [1.0, \"#f0f921\"]], \"type\": \"contour\"}], \"contourcarpet\": [{\"colorbar\": {\"outlinewidth\": 0, \"ticks\": \"\"}, \"type\": \"contourcarpet\"}], \"heatmap\": [{\"colorbar\": {\"outlinewidth\": 0, \"ticks\": \"\"}, \"colorscale\": [[0.0, \"#0d0887\"], [0.1111111111111111, \"#46039f\"], [0.2222222222222222, \"#7201a8\"], [0.3333333333333333, \"#9c179e\"], [0.4444444444444444, \"#bd3786\"], [0.5555555555555556, \"#d8576b\"], [0.6666666666666666, \"#ed7953\"], [0.7777777777777778, \"#fb9f3a\"], [0.8888888888888888, \"#fdca26\"], [1.0, \"#f0f921\"]], \"type\": \"heatmap\"}], \"heatmapgl\": [{\"colorbar\": {\"outlinewidth\": 0, \"ticks\": \"\"}, \"colorscale\": [[0.0, \"#0d0887\"], [0.1111111111111111, \"#46039f\"], [0.2222222222222222, \"#7201a8\"], [0.3333333333333333, \"#9c179e\"], [0.4444444444444444, \"#bd3786\"], [0.5555555555555556, \"#d8576b\"], [0.6666666666666666, \"#ed7953\"], [0.7777777777777778, \"#fb9f3a\"], [0.8888888888888888, \"#fdca26\"], [1.0, \"#f0f921\"]], \"type\": \"heatmapgl\"}], \"histogram\": [{\"marker\": {\"colorbar\": {\"outlinewidth\": 0, \"ticks\": \"\"}}, \"type\": \"histogram\"}], \"histogram2d\": [{\"colorbar\": {\"outlinewidth\": 0, \"ticks\": \"\"}, \"colorscale\": [[0.0, \"#0d0887\"], [0.1111111111111111, \"#46039f\"], [0.2222222222222222, \"#7201a8\"], [0.3333333333333333, \"#9c179e\"], [0.4444444444444444, \"#bd3786\"], [0.5555555555555556, \"#d8576b\"], [0.6666666666666666, \"#ed7953\"], [0.7777777777777778, \"#fb9f3a\"], [0.8888888888888888, \"#fdca26\"], [1.0, \"#f0f921\"]], \"type\": \"histogram2d\"}], \"histogram2dcontour\": [{\"colorbar\": {\"outlinewidth\": 0, \"ticks\": \"\"}, \"colorscale\": [[0.0, \"#0d0887\"], [0.1111111111111111, \"#46039f\"], [0.2222222222222222, \"#7201a8\"], [0.3333333333333333, \"#9c179e\"], [0.4444444444444444, \"#bd3786\"], [0.5555555555555556, \"#d8576b\"], [0.6666666666666666, \"#ed7953\"], [0.7777777777777778, \"#fb9f3a\"], [0.8888888888888888, \"#fdca26\"], [1.0, \"#f0f921\"]], \"type\": \"histogram2dcontour\"}], \"mesh3d\": [{\"colorbar\": {\"outlinewidth\": 0, \"ticks\": \"\"}, \"type\": \"mesh3d\"}], \"parcoords\": [{\"line\": {\"colorbar\": {\"outlinewidth\": 0, \"ticks\": \"\"}}, \"type\": \"parcoords\"}], \"pie\": [{\"automargin\": true, \"type\": \"pie\"}], \"scatter\": [{\"marker\": {\"colorbar\": {\"outlinewidth\": 0, \"ticks\": \"\"}}, \"type\": \"scatter\"}], \"scatter3d\": [{\"line\": {\"colorbar\": {\"outlinewidth\": 0, \"ticks\": \"\"}}, \"marker\": {\"colorbar\": {\"outlinewidth\": 0, \"ticks\": \"\"}}, \"type\": \"scatter3d\"}], \"scattercarpet\": [{\"marker\": {\"colorbar\": {\"outlinewidth\": 0, \"ticks\": \"\"}}, \"type\": \"scattercarpet\"}], \"scattergeo\": [{\"marker\": {\"colorbar\": {\"outlinewidth\": 0, \"ticks\": \"\"}}, \"type\": \"scattergeo\"}], \"scattergl\": [{\"marker\": {\"colorbar\": {\"outlinewidth\": 0, \"ticks\": \"\"}}, \"type\": \"scattergl\"}], \"scattermapbox\": [{\"marker\": {\"colorbar\": {\"outlinewidth\": 0, \"ticks\": \"\"}}, \"type\": \"scattermapbox\"}], \"scatterpolar\": [{\"marker\": {\"colorbar\": {\"outlinewidth\": 0, \"ticks\": \"\"}}, \"type\": \"scatterpolar\"}], \"scatterpolargl\": [{\"marker\": {\"colorbar\": {\"outlinewidth\": 0, \"ticks\": \"\"}}, \"type\": \"scatterpolargl\"}], \"scatterternary\": [{\"marker\": {\"colorbar\": {\"outlinewidth\": 0, \"ticks\": \"\"}}, \"type\": \"scatterternary\"}], \"surface\": [{\"colorbar\": {\"outlinewidth\": 0, \"ticks\": \"\"}, \"colorscale\": [[0.0, \"#0d0887\"], [0.1111111111111111, \"#46039f\"], [0.2222222222222222, \"#7201a8\"], [0.3333333333333333, \"#9c179e\"], [0.4444444444444444, \"#bd3786\"], [0.5555555555555556, \"#d8576b\"], [0.6666666666666666, \"#ed7953\"], [0.7777777777777778, \"#fb9f3a\"], [0.8888888888888888, \"#fdca26\"], [1.0, \"#f0f921\"]], \"type\": \"surface\"}], \"table\": [{\"cells\": {\"fill\": {\"color\": \"#EBF0F8\"}, \"line\": {\"color\": \"white\"}}, \"header\": {\"fill\": {\"color\": \"#C8D4E3\"}, \"line\": {\"color\": \"white\"}}, \"type\": \"table\"}]}, \"layout\": {\"annotationdefaults\": {\"arrowcolor\": \"#2a3f5f\", \"arrowhead\": 0, \"arrowwidth\": 1}, \"coloraxis\": {\"colorbar\": {\"outlinewidth\": 0, \"ticks\": \"\"}}, \"colorscale\": {\"diverging\": [[0, \"#8e0152\"], [0.1, \"#c51b7d\"], [0.2, \"#de77ae\"], [0.3, \"#f1b6da\"], [0.4, \"#fde0ef\"], [0.5, \"#f7f7f7\"], [0.6, \"#e6f5d0\"], [0.7, \"#b8e186\"], [0.8, \"#7fbc41\"], [0.9, \"#4d9221\"], [1, \"#276419\"]], \"sequential\": [[0.0, \"#0d0887\"], [0.1111111111111111, \"#46039f\"], [0.2222222222222222, \"#7201a8\"], [0.3333333333333333, \"#9c179e\"], [0.4444444444444444, \"#bd3786\"], [0.5555555555555556, \"#d8576b\"], [0.6666666666666666, \"#ed7953\"], [0.7777777777777778, \"#fb9f3a\"], [0.8888888888888888, \"#fdca26\"], [1.0, \"#f0f921\"]], \"sequentialminus\": [[0.0, \"#0d0887\"], [0.1111111111111111, \"#46039f\"], [0.2222222222222222, \"#7201a8\"], [0.3333333333333333, \"#9c179e\"], [0.4444444444444444, \"#bd3786\"], [0.5555555555555556, \"#d8576b\"], [0.6666666666666666, \"#ed7953\"], [0.7777777777777778, \"#fb9f3a\"], [0.8888888888888888, \"#fdca26\"], [1.0, \"#f0f921\"]]}, \"colorway\": [\"#636efa\", \"#EF553B\", \"#00cc96\", \"#ab63fa\", \"#FFA15A\", \"#19d3f3\", \"#FF6692\", \"#B6E880\", \"#FF97FF\", \"#FECB52\"], \"font\": {\"color\": \"#2a3f5f\"}, \"geo\": {\"bgcolor\": \"white\", \"lakecolor\": \"white\", \"landcolor\": \"#E5ECF6\", \"showlakes\": true, \"showland\": true, \"subunitcolor\": \"white\"}, \"hoverlabel\": {\"align\": \"left\"}, \"hovermode\": \"closest\", \"mapbox\": {\"style\": \"light\"}, \"paper_bgcolor\": \"white\", \"plot_bgcolor\": \"#E5ECF6\", \"polar\": {\"angularaxis\": {\"gridcolor\": \"white\", \"linecolor\": \"white\", \"ticks\": \"\"}, \"bgcolor\": \"#E5ECF6\", \"radialaxis\": {\"gridcolor\": \"white\", \"linecolor\": \"white\", \"ticks\": \"\"}}, \"scene\": {\"xaxis\": {\"backgroundcolor\": \"#E5ECF6\", \"gridcolor\": \"white\", \"gridwidth\": 2, \"linecolor\": \"white\", \"showbackground\": true, \"ticks\": \"\", \"zerolinecolor\": \"white\"}, \"yaxis\": {\"backgroundcolor\": \"#E5ECF6\", \"gridcolor\": \"white\", \"gridwidth\": 2, \"linecolor\": \"white\", \"showbackground\": true, \"ticks\": \"\", \"zerolinecolor\": \"white\"}, \"zaxis\": {\"backgroundcolor\": \"#E5ECF6\", \"gridcolor\": \"white\", \"gridwidth\": 2, \"linecolor\": \"white\", \"showbackground\": true, \"ticks\": \"\", \"zerolinecolor\": \"white\"}}, \"shapedefaults\": {\"line\": {\"color\": \"#2a3f5f\"}}, \"ternary\": {\"aaxis\": {\"gridcolor\": \"white\", \"linecolor\": \"white\", \"ticks\": \"\"}, \"baxis\": {\"gridcolor\": \"white\", \"linecolor\": \"white\", \"ticks\": \"\"}, \"bgcolor\": \"#E5ECF6\", \"caxis\": {\"gridcolor\": \"white\", \"linecolor\": \"white\", \"ticks\": \"\"}}, \"title\": {\"x\": 0.05}, \"xaxis\": {\"automargin\": true, \"gridcolor\": \"white\", \"linecolor\": \"white\", \"ticks\": \"\", \"title\": {\"standoff\": 15}, \"zerolinecolor\": \"white\", \"zerolinewidth\": 2}, \"yaxis\": {\"automargin\": true, \"gridcolor\": \"white\", \"linecolor\": \"white\", \"ticks\": \"\", \"title\": {\"standoff\": 15}, \"zerolinecolor\": \"white\", \"zerolinewidth\": 2}}}, \"title\": {\"text\": \"US COVID-19 Cases\"}},\n",
       "                        {\"responsive\": true}\n",
       "                    ).then(function(){\n",
       "                            \n",
       "var gd = document.getElementById('a92e4048-716f-4075-882d-83d792161dfd');\n",
       "var x = new MutationObserver(function (mutations, observer) {{\n",
       "        var display = window.getComputedStyle(gd).display;\n",
       "        if (!display || display === 'none') {{\n",
       "            console.log([gd, 'removed!']);\n",
       "            Plotly.purge(gd);\n",
       "            observer.disconnect();\n",
       "        }}\n",
       "}});\n",
       "\n",
       "// Listen for the removal of the full notebook cells\n",
       "var notebookContainer = gd.closest('#notebook-container');\n",
       "if (notebookContainer) {{\n",
       "    x.observe(notebookContainer, {childList: true});\n",
       "}}\n",
       "\n",
       "// Listen for the clearing of the current output cell\n",
       "var outputEl = gd.closest('.output');\n",
       "if (outputEl) {{\n",
       "    x.observe(outputEl, {childList: true});\n",
       "}}\n",
       "\n",
       "                        })\n",
       "                };\n",
       "                });\n",
       "            </script>\n",
       "        </div>"
      ]
     },
     "metadata": {},
     "output_type": "display_data"
    }
   ],
   "source": [
    "fig = go.Figure()\n",
    "\n",
    "fig.add_trace(go.Scatter(x=bydate_us.index, y=bydate_us['Confirmed'], mode='lines', name='Confirmed'))\n",
    "fig.add_trace(go.Scatter(x=bydate_us.index, y=bydate_us['Deaths'], mode='lines', name='Deaths'))\n",
    "fig.add_trace(go.Scatter(x=bydate_us.index, y=bydate_us['Recovered'], mode='lines', name='Recovered'))\n",
    "fig.add_trace(go.Scatter(x=bydate_us.index, y=bydate_us['Active'], mode='lines', name='Active'))\n",
    "fig.add_trace(go.Scatter(x=bydate_us.index, y=bydate_us['New'], mode='lines', name='New'))\n",
    "fig.add_trace(go.Scatter(x=bydate_us.index, y=bydate_us['Fatality'], mode='lines', name='Fatality Rate'))\n",
    "\n",
    "fig.update_layout(title='US COVID-19 Cases')\n",
    "fig.show()"
   ]
  },
  {
   "cell_type": "markdown",
   "metadata": {},
   "source": [
    "## Combine Data"
   ]
  },
  {
   "cell_type": "code",
   "execution_count": 16,
   "metadata": {},
   "outputs": [
    {
     "data": {
      "text/html": [
       "<div>\n",
       "<style scoped>\n",
       "    .dataframe tbody tr th:only-of-type {\n",
       "        vertical-align: middle;\n",
       "    }\n",
       "\n",
       "    .dataframe tbody tr th {\n",
       "        vertical-align: top;\n",
       "    }\n",
       "\n",
       "    .dataframe thead th {\n",
       "        text-align: right;\n",
       "    }\n",
       "</style>\n",
       "<table border=\"1\" class=\"dataframe\">\n",
       "  <thead>\n",
       "    <tr style=\"text-align: right;\">\n",
       "      <th></th>\n",
       "      <th>Date</th>\n",
       "      <th>Jobnums</th>\n",
       "      <th>Day of week</th>\n",
       "      <th>Weekend</th>\n",
       "      <th>Confirmed</th>\n",
       "      <th>Deaths</th>\n",
       "      <th>Recovered</th>\n",
       "      <th>Active</th>\n",
       "      <th>New</th>\n",
       "      <th>Fatality</th>\n",
       "    </tr>\n",
       "    <tr>\n",
       "      <th>Date</th>\n",
       "      <th></th>\n",
       "      <th></th>\n",
       "      <th></th>\n",
       "      <th></th>\n",
       "      <th></th>\n",
       "      <th></th>\n",
       "      <th></th>\n",
       "      <th></th>\n",
       "      <th></th>\n",
       "      <th></th>\n",
       "    </tr>\n",
       "  </thead>\n",
       "  <tbody>\n",
       "    <tr>\n",
       "      <td>2020-05-19</td>\n",
       "      <td>2020-05-19</td>\n",
       "      <td>45</td>\n",
       "      <td>Tue</td>\n",
       "      <td>0</td>\n",
       "      <td>1535350</td>\n",
       "      <td>94798</td>\n",
       "      <td>289392</td>\n",
       "      <td>1151160</td>\n",
       "      <td>20449</td>\n",
       "      <td>6.174358</td>\n",
       "    </tr>\n",
       "    <tr>\n",
       "      <td>2020-05-20</td>\n",
       "      <td>2020-05-20</td>\n",
       "      <td>57</td>\n",
       "      <td>Wed</td>\n",
       "      <td>0</td>\n",
       "      <td>1559157</td>\n",
       "      <td>96377</td>\n",
       "      <td>294312</td>\n",
       "      <td>1168468</td>\n",
       "      <td>23807</td>\n",
       "      <td>6.181353</td>\n",
       "    </tr>\n",
       "    <tr>\n",
       "      <td>2020-05-21</td>\n",
       "      <td>2020-05-21</td>\n",
       "      <td>47</td>\n",
       "      <td>Thu</td>\n",
       "      <td>0</td>\n",
       "      <td>1584512</td>\n",
       "      <td>97611</td>\n",
       "      <td>298418</td>\n",
       "      <td>1188483</td>\n",
       "      <td>25355</td>\n",
       "      <td>6.160319</td>\n",
       "    </tr>\n",
       "    <tr>\n",
       "      <td>2020-05-22</td>\n",
       "      <td>2020-05-22</td>\n",
       "      <td>51</td>\n",
       "      <td>Fri</td>\n",
       "      <td>0</td>\n",
       "      <td>1608653</td>\n",
       "      <td>98884</td>\n",
       "      <td>350135</td>\n",
       "      <td>1159634</td>\n",
       "      <td>24141</td>\n",
       "      <td>6.147006</td>\n",
       "    </tr>\n",
       "    <tr>\n",
       "      <td>2020-05-23</td>\n",
       "      <td>2020-05-23</td>\n",
       "      <td>51</td>\n",
       "      <td>Sat</td>\n",
       "      <td>1</td>\n",
       "      <td>1630476</td>\n",
       "      <td>100014</td>\n",
       "      <td>361239</td>\n",
       "      <td>1169223</td>\n",
       "      <td>21823</td>\n",
       "      <td>6.134037</td>\n",
       "    </tr>\n",
       "  </tbody>\n",
       "</table>\n",
       "</div>"
      ],
      "text/plain": [
       "                 Date  Jobnums Day of week  Weekend  Confirmed  Deaths  \\\n",
       "Date                                                                     \n",
       "2020-05-19 2020-05-19       45         Tue        0    1535350   94798   \n",
       "2020-05-20 2020-05-20       57         Wed        0    1559157   96377   \n",
       "2020-05-21 2020-05-21       47         Thu        0    1584512   97611   \n",
       "2020-05-22 2020-05-22       51         Fri        0    1608653   98884   \n",
       "2020-05-23 2020-05-23       51         Sat        1    1630476  100014   \n",
       "\n",
       "            Recovered   Active    New  Fatality  \n",
       "Date                                             \n",
       "2020-05-19     289392  1151160  20449  6.174358  \n",
       "2020-05-20     294312  1168468  23807  6.181353  \n",
       "2020-05-21     298418  1188483  25355  6.160319  \n",
       "2020-05-22     350135  1159634  24141  6.147006  \n",
       "2020-05-23     361239  1169223  21823  6.134037  "
      ]
     },
     "execution_count": 16,
     "metadata": {},
     "output_type": "execute_result"
    }
   ],
   "source": [
    "df_covid_trunc1 = bydate_us['2020-05-19':'2020-08-15']\n",
    "df_indeed_trunc = df_date_indeed['2020-05-19':'2020-08-15']\n",
    "\n",
    "df_combined_indeed = pd.concat([df_indeed_trunc, df_covid_trunc1], axis=1)\n",
    "df_combined_indeed.head()"
   ]
  },
  {
   "cell_type": "code",
   "execution_count": 29,
   "metadata": {},
   "outputs": [
    {
     "data": {
      "text/html": [
       "<div>\n",
       "<style scoped>\n",
       "    .dataframe tbody tr th:only-of-type {\n",
       "        vertical-align: middle;\n",
       "    }\n",
       "\n",
       "    .dataframe tbody tr th {\n",
       "        vertical-align: top;\n",
       "    }\n",
       "\n",
       "    .dataframe thead th {\n",
       "        text-align: right;\n",
       "    }\n",
       "</style>\n",
       "<table border=\"1\" class=\"dataframe\">\n",
       "  <thead>\n",
       "    <tr style=\"text-align: right;\">\n",
       "      <th></th>\n",
       "      <th>Date</th>\n",
       "      <th>Jobnums</th>\n",
       "      <th>Day of week</th>\n",
       "      <th>Weekend</th>\n",
       "      <th>Confirmed</th>\n",
       "      <th>Deaths</th>\n",
       "      <th>Recovered</th>\n",
       "      <th>Active</th>\n",
       "      <th>New</th>\n",
       "      <th>Fatality</th>\n",
       "    </tr>\n",
       "    <tr>\n",
       "      <th>Date</th>\n",
       "      <th></th>\n",
       "      <th></th>\n",
       "      <th></th>\n",
       "      <th></th>\n",
       "      <th></th>\n",
       "      <th></th>\n",
       "      <th></th>\n",
       "      <th></th>\n",
       "      <th></th>\n",
       "      <th></th>\n",
       "    </tr>\n",
       "  </thead>\n",
       "  <tbody>\n",
       "    <tr>\n",
       "      <td>2020-05-19</td>\n",
       "      <td>2020-05-19</td>\n",
       "      <td>45</td>\n",
       "      <td>Tue</td>\n",
       "      <td>0</td>\n",
       "      <td>1535350</td>\n",
       "      <td>94798</td>\n",
       "      <td>289392</td>\n",
       "      <td>1151160</td>\n",
       "      <td>20449.0</td>\n",
       "      <td>6.174358</td>\n",
       "    </tr>\n",
       "    <tr>\n",
       "      <td>2020-05-20</td>\n",
       "      <td>2020-05-20</td>\n",
       "      <td>57</td>\n",
       "      <td>Wed</td>\n",
       "      <td>0</td>\n",
       "      <td>1559157</td>\n",
       "      <td>96377</td>\n",
       "      <td>294312</td>\n",
       "      <td>1168468</td>\n",
       "      <td>23807.0</td>\n",
       "      <td>6.181353</td>\n",
       "    </tr>\n",
       "    <tr>\n",
       "      <td>2020-05-21</td>\n",
       "      <td>2020-05-21</td>\n",
       "      <td>47</td>\n",
       "      <td>Thu</td>\n",
       "      <td>0</td>\n",
       "      <td>1584512</td>\n",
       "      <td>97611</td>\n",
       "      <td>298418</td>\n",
       "      <td>1188483</td>\n",
       "      <td>25355.0</td>\n",
       "      <td>6.160319</td>\n",
       "    </tr>\n",
       "    <tr>\n",
       "      <td>2020-05-22</td>\n",
       "      <td>2020-05-22</td>\n",
       "      <td>51</td>\n",
       "      <td>Fri</td>\n",
       "      <td>0</td>\n",
       "      <td>1608653</td>\n",
       "      <td>98884</td>\n",
       "      <td>350135</td>\n",
       "      <td>1159634</td>\n",
       "      <td>24141.0</td>\n",
       "      <td>6.147006</td>\n",
       "    </tr>\n",
       "    <tr>\n",
       "      <td>2020-05-23</td>\n",
       "      <td>2020-05-23</td>\n",
       "      <td>51</td>\n",
       "      <td>Sat</td>\n",
       "      <td>1</td>\n",
       "      <td>1630476</td>\n",
       "      <td>100014</td>\n",
       "      <td>361239</td>\n",
       "      <td>1169223</td>\n",
       "      <td>21823.0</td>\n",
       "      <td>6.134037</td>\n",
       "    </tr>\n",
       "  </tbody>\n",
       "</table>\n",
       "</div>"
      ],
      "text/plain": [
       "                 Date  Jobnums Day of week  Weekend  Confirmed  Deaths  \\\n",
       "Date                                                                     \n",
       "2020-05-19 2020-05-19       45         Tue        0    1535350   94798   \n",
       "2020-05-20 2020-05-20       57         Wed        0    1559157   96377   \n",
       "2020-05-21 2020-05-21       47         Thu        0    1584512   97611   \n",
       "2020-05-22 2020-05-22       51         Fri        0    1608653   98884   \n",
       "2020-05-23 2020-05-23       51         Sat        1    1630476  100014   \n",
       "\n",
       "            Recovered   Active      New  Fatality  \n",
       "Date                                               \n",
       "2020-05-19     289392  1151160  20449.0  6.174358  \n",
       "2020-05-20     294312  1168468  23807.0  6.181353  \n",
       "2020-05-21     298418  1188483  25355.0  6.160319  \n",
       "2020-05-22     350135  1159634  24141.0  6.147006  \n",
       "2020-05-23     361239  1169223  21823.0  6.134037  "
      ]
     },
     "execution_count": 29,
     "metadata": {},
     "output_type": "execute_result"
    }
   ],
   "source": [
    "df_combined_indeed['New']=df_combined_indeed['New'].astype(np.float64)\n",
    "df_combined_indeed.head()"
   ]
  },
  {
   "cell_type": "code",
   "execution_count": 17,
   "metadata": {},
   "outputs": [
    {
     "data": {
      "image/png": "[encoded data removed]",
      "text/plain": [
       "<Figure size 792x648 with 4 Axes>"
      ]
     },
     "metadata": {
      "needs_background": "light"
     },
     "output_type": "display_data"
    }
   ],
   "source": [
    "from pylab import rcParams\n",
    "rcParams['figure.figsize'] = 11, 9\n",
    "\n",
    "y=df_combined_indeed['Jobnums']\n",
    "decomposition = sm.tsa.seasonal_decompose(y, model='additive')\n",
    "fig = decomposition.plot()\n",
    "plt.show()"
   ]
  },
  {
   "cell_type": "markdown",
   "metadata": {},
   "source": [
    "### Grid Search"
   ]
  },
  {
   "cell_type": "code",
   "execution_count": 18,
   "metadata": {},
   "outputs": [],
   "source": [
    "def diff_transform(df_train,  d):\n",
    "    \"\"\"take difference\"\"\"\n",
    "    df_diff = df_train.copy()\n",
    "    columns = df_train.columns\n",
    "    if d>0:\n",
    "        for col in columns:        \n",
    "            df_diff[str(col)+'_1d'] = df_diff[col].diff().fillna(0)\n",
    "            df_diff.drop(columns=[col],inplace=True)\n",
    "            if d>1:\n",
    "                df_diff[str(col)+'_2d'] = df_diff[str(col)+'_1d'].diff().fillna(0)\n",
    "                df_diff.drop(columns=[str(col)+'_1d'],inplace=True)\n",
    "            \n",
    "    return df_diff"
   ]
  },
  {
   "cell_type": "code",
   "execution_count": 19,
   "metadata": {},
   "outputs": [],
   "source": [
    "def invert_transform(df_train, df_forecast, d):\n",
    "    \"\"\"Revert back the differencing to get the forecast to original scale.\"\"\"\n",
    "    df_fc = df_forecast.copy()\n",
    "    columns = df_train.columns\n",
    "    if d>0:\n",
    "        for col in columns:        \n",
    "            # Roll back 2nd Diff\n",
    "            if d==2:\n",
    "                df_fc[str(col)+'_1d'] = (df_train[col].iloc[-1]-df_train[col].iloc[-2]) + df_fc[str(col)+'_2d'].cumsum()\n",
    "                df_fc.drop(columns=[str(col)+'_2d'],inplace=True)\n",
    "            # Roll back 1st Diff\n",
    "            df_fc[col] = df_train[col].iloc[-1] + df_fc[str(col)+'_1d'].cumsum()\n",
    "            df_fc.drop(columns=[str(col)+'_1d'],inplace=True)\n",
    "    return df_fc"
   ]
  },
  {
   "cell_type": "code",
   "execution_count": 30,
   "metadata": {},
   "outputs": [],
   "source": [
    "def train_test_split(data, n_test):\n",
    "    return data[:-n_test], data[-n_test:]\n",
    "\n",
    "def measure_rmse(actual, predicted):\n",
    "    return rmse(actual, predicted)\n",
    "\n",
    "def varmax_forecast(train, test_len, config, exog1=None, exog2=None):\n",
    "    order, trend, d= config\n",
    "    #d parameter to take difference\n",
    "    df_diff = diff_transform(train,  d)\n",
    "    try:\n",
    "        model = VARMAX(df_diff, order=order, trend=trend, exog=exog1,initialization='approximate_diffuse')\n",
    "        model_fit = model.fit(disp=False)\n",
    "        yhat_diff = model_fit.forecast(steps=test_len, exog=exog2)\n",
    "        yhat = invert_transform(train, yhat_diff, d)\n",
    "    except:\n",
    "        yhat = None\n",
    "    return yhat\n",
    "\n",
    "def single_validation(data, n_test, cfg, exog=None):\n",
    "    train, test = train_test_split(data, n_test)\n",
    "    if exog is not None:\n",
    "        exog_train, exog_test = train_test_split(exog, n_test)\n",
    "        yhat = varmax_forecast(train, len(test), cfg, exog1=exog_train, exog2=exog_test)\n",
    "    else:\n",
    "        yhat = varmax_forecast(train, len(test), cfg)\n",
    "    if yhat is not None:\n",
    "        error = measure_rmse(test['Jobnums'], yhat['Jobnums'])\n",
    "    else:\n",
    "        error = None\n",
    "    return error\n",
    "\n",
    "def walk_forward_validation(data, n_test, cfg, exog=None):\n",
    "    train, test = train_test_split(data, n_test)\n",
    "    predictions = pd.DataFrame()\n",
    "    history = train.copy()\n",
    "    if exog is not None:\n",
    "        exog_train, exog_test = train_test_split(exog, n_test)\n",
    "        exog_ = [x[:] for x in exog_train.values]\n",
    "        for i in range(len(test)):\n",
    "            yhat = varmax_forecast(history, 1, cfg, exog1=exog_, exog2=np.array(exog_test.iloc[i]).reshape(1,-1))\n",
    "            predictions = predictions.append(yhat)\n",
    "            history = history.append(test.iloc[i])\n",
    "            exog_.append(np.array(exog_test.iloc[i]))\n",
    "        error = measure_rmse(test['Jobnums'], predictions['Jobnums'])\n",
    "        return error\n",
    "    else:\n",
    "        for i in range(len(test)):\n",
    "            yhat = varmax_forecast(history, 1, cfg)\n",
    "            predictions = predictions.append(yhat)\n",
    "            history = history.append(test.iloc[i])\n",
    "        error = measure_rmse(test['Jobnums'], predictions['Jobnums'])\n",
    "        return error\n",
    "\n",
    "def score_model(data, n_test, cfg, method, exog=None, debug=True):\n",
    "    result = None\n",
    "    key = str(cfg)\n",
    "    if debug:\n",
    "        if method=='walk':\n",
    "            result = walk_forward_validation(data, n_test, cfg, exog)\n",
    "        else:\n",
    "            result = single_validation(data, n_test, cfg, exog)\n",
    "    else:\n",
    "        try:\n",
    "            with catch_warnings():\n",
    "                filterwarnings(\"ignore\")\n",
    "                if method=='walk':\n",
    "                    result = walk_forward_validation(data, n_test, cfg, exog)\n",
    "                else:\n",
    "                    result = single_validation(data, n_test, cfg, exog)\n",
    "        except:\n",
    "            result = None\n",
    "    if result is not None:\n",
    "        print('---> Model[%s] %.3f' % (key, result))\n",
    "    return (key, result)\n",
    "\n",
    "def grid_search(data, cfg_list, n_test, method, exog=None, parallel=True):\n",
    "    scores = None\n",
    "    if parallel:\n",
    "        executor = Parallel(n_jobs=cpu_count(), backend='multiprocessing')\n",
    "        tasks = (delayed(score_model)(data, n_test, cfg, method, exog) for cfg in cfg_list)\n",
    "        scores = executor(tasks)\n",
    "    else:\n",
    "        scores = [score_model(data, n_test, cfg, method, exog) for cfg in cfg_list]\n",
    "    scores = [r for r in scores if r[1] != None]\n",
    "    scores.sort(key=lambda tup: tup[1])\n",
    "    return scores\n",
    "\n",
    "def varmax_configs():\n",
    "    models = list()\n",
    "    p_params = [3, 4, 5, 6, 7, 8, 9, 10]\n",
    "    q_params = [0, 1, 2]\n",
    "    t_params = ['n', 'c', 't', 'ct']\n",
    "    d_params = [0, 1, 2]\n",
    "    \n",
    "    for p in p_params:\n",
    "        for q in q_params:\n",
    "            for t in t_params:\n",
    "                for d in d_params:\n",
    "                    cfg = [(p,q), t, d]\n",
    "                    models.append(cfg)\n",
    "    return models"
   ]
  },
  {
   "cell_type": "code",
   "execution_count": 21,
   "metadata": {},
   "outputs": [],
   "source": [
    "def walk_forward_best(data, n_test, cfg, exog=None):\n",
    "    train, test = train_test_split(data, n_test)\n",
    "    predictions = pd.DataFrame()\n",
    "    history = train.copy()\n",
    "    if exog is not None:\n",
    "        exog_train, exog_test = train_test_split(exog, n_test)\n",
    "        exog_ = [x[:] for x in exog_train.values]\n",
    "        for i in range(len(test)):\n",
    "            yhat = varmax_forecast(history, 1, cfg, exog1=exog_, exog2=np.array(exog_test.iloc[i]).reshape(1,-1))\n",
    "            predictions = predictions.append(yhat)\n",
    "            history = history.append(test.iloc[i])\n",
    "            exog_.append(np.array(exog_test.iloc[i]))\n",
    "        error = measure_rmse(test['Jobnums'], predictions['Jobnums'])\n",
    "        return predictions, error\n",
    "    else:\n",
    "        for i in range(len(test)):\n",
    "            yhat = varmax_forecast(history, 1, cfg)\n",
    "            predictions = predictions.append(yhat)\n",
    "            history = history.append(test.iloc[i])\n",
    "        error = measure_rmse(test['Jobnums'], predictions['Jobnums'])\n",
    "        return predictions, error"
   ]
  },
  {
   "cell_type": "markdown",
   "metadata": {},
   "source": [
    "#### No eXog + Walk"
   ]
  },
  {
   "cell_type": "code",
   "execution_count": 31,
   "metadata": {},
   "outputs": [
    {
     "name": "stdout",
     "output_type": "stream",
     "text": [
      "---> Model[[(3, 0), 'n', 0]] 69.759\n",
      "---> Model[[(3, 0), 'n', 1]] 63.555\n",
      "---> Model[[(3, 0), 'n', 2]] 82.602\n",
      "---> Model[[(3, 0), 'c', 0]] 70.780\n",
      "---> Model[[(3, 0), 'c', 1]] 63.358\n",
      "---> Model[[(3, 0), 'c', 2]] 83.875\n",
      "---> Model[[(3, 0), 't', 0]] 77.119\n",
      "---> Model[[(3, 0), 't', 1]] 64.470\n",
      "---> Model[[(3, 0), 't', 2]] 84.137\n",
      "---> Model[[(3, 0), 'ct', 0]] 75.189\n",
      "---> Model[[(3, 0), 'ct', 1]] 64.936\n",
      "---> Model[[(3, 0), 'ct', 2]] 85.422\n",
      "---> Model[[(3, 1), 'n', 0]] 62.587\n",
      "---> Model[[(3, 1), 'n', 1]] 64.207\n",
      "---> Model[[(3, 1), 'n', 2]] 96.569\n",
      "---> Model[[(3, 1), 'c', 0]] 68.772\n",
      "---> Model[[(3, 1), 'c', 1]] 60.427\n",
      "---> Model[[(3, 1), 'c', 2]] 90.582\n",
      "---> Model[[(3, 1), 't', 0]] 82.016\n",
      "---> Model[[(3, 1), 't', 1]] 62.895\n",
      "---> Model[[(3, 1), 't', 2]] 101.491\n",
      "---> Model[[(3, 1), 'ct', 0]] 81.737\n",
      "---> Model[[(3, 1), 'ct', 1]] 68.121\n",
      "---> Model[[(3, 1), 'ct', 2]] 89.787\n",
      "---> Model[[(3, 2), 'n', 0]] 66.498\n",
      "---> Model[[(3, 2), 'n', 1]] 63.709\n",
      "---> Model[[(3, 2), 'n', 2]] 57.386\n",
      "---> Model[[(3, 2), 'c', 0]] 64.288\n",
      "---> Model[[(3, 2), 'c', 1]] 70.706\n",
      "---> Model[[(3, 2), 'c', 2]] 71.678\n",
      "---> Model[[(3, 2), 't', 0]] 79.895\n",
      "---> Model[[(3, 2), 't', 1]] 70.003\n",
      "---> Model[[(3, 2), 't', 2]] 93.870\n",
      "---> Model[[(3, 2), 'ct', 0]] 78.247\n",
      "---> Model[[(3, 2), 'ct', 1]] 70.320\n",
      "---> Model[[(3, 2), 'ct', 2]] 92.795\n",
      "---> Model[[(4, 0), 'n', 0]] 62.830\n",
      "---> Model[[(4, 0), 'n', 1]] 76.845\n",
      "---> Model[[(4, 0), 'n', 2]] 93.512\n",
      "---> Model[[(4, 0), 'c', 0]] 64.017\n",
      "---> Model[[(4, 0), 'c', 1]] 77.515\n",
      "---> Model[[(4, 0), 'c', 2]] 95.736\n",
      "---> Model[[(4, 0), 't', 0]] 76.850\n",
      "---> Model[[(4, 0), 't', 1]] 78.504\n",
      "---> Model[[(4, 0), 't', 2]] 95.190\n",
      "---> Model[[(4, 0), 'ct', 0]] 74.732\n",
      "---> Model[[(4, 0), 'ct', 1]] 78.819\n",
      "---> Model[[(4, 0), 'ct', 2]] 96.721\n",
      "---> Model[[(4, 1), 'n', 0]] 60.711\n",
      "---> Model[[(4, 1), 'n', 1]] 63.510\n",
      "---> Model[[(4, 1), 'n', 2]] 90.974\n",
      "---> Model[[(4, 1), 'c', 0]] 58.731\n",
      "---> Model[[(4, 1), 'c', 1]] 67.552\n",
      "---> Model[[(4, 1), 'c', 2]] 91.920\n",
      "---> Model[[(4, 1), 't', 0]] 78.742\n",
      "---> Model[[(4, 1), 't', 1]] 64.209\n",
      "---> Model[[(4, 1), 't', 2]] 116.164\n",
      "---> Model[[(4, 1), 'ct', 0]] 77.864\n",
      "---> Model[[(4, 1), 'ct', 1]] 68.982\n",
      "---> Model[[(4, 1), 'ct', 2]] 106.719\n",
      "---> Model[[(4, 2), 'n', 0]] 56.090\n",
      "---> Model[[(4, 2), 'n', 1]] 55.727\n",
      "---> Model[[(4, 2), 'n', 2]] 71.641\n",
      "---> Model[[(4, 2), 'c', 0]] 57.945\n",
      "---> Model[[(4, 2), 'c', 1]] 48.714\n",
      "---> Model[[(4, 2), 'c', 2]] 66.162\n",
      "---> Model[[(4, 2), 't', 0]] 77.569\n",
      "---> Model[[(4, 2), 't', 1]] 53.805\n",
      "---> Model[[(4, 2), 't', 2]] 67.959\n",
      "---> Model[[(4, 2), 'ct', 0]] 76.434\n",
      "---> Model[[(4, 2), 'ct', 1]] 55.226\n",
      "---> Model[[(4, 2), 'ct', 2]] 67.126\n",
      "---> Model[[(5, 0), 'n', 0]] 66.486\n",
      "---> Model[[(5, 0), 'n', 1]] 40.988\n",
      "---> Model[[(5, 0), 'n', 2]] 58.762\n",
      "---> Model[[(5, 0), 'c', 0]] 65.350\n",
      "---> Model[[(5, 0), 'c', 1]] 38.064\n",
      "---> Model[[(5, 0), 'c', 2]] 59.169\n",
      "---> Model[[(5, 0), 't', 0]] 74.442\n",
      "---> Model[[(5, 0), 't', 1]] 39.407\n",
      "---> Model[[(5, 0), 't', 2]] 60.360\n",
      "---> Model[[(5, 0), 'ct', 0]] 72.865\n",
      "---> Model[[(5, 0), 'ct', 1]] 41.789\n",
      "---> Model[[(5, 0), 'ct', 2]] 60.097\n",
      "---> Model[[(5, 1), 'n', 0]] 59.958\n",
      "---> Model[[(5, 1), 'n', 1]] 39.734\n",
      "---> Model[[(5, 1), 'n', 2]] 46.493\n",
      "---> Model[[(5, 1), 'c', 0]] 54.627\n",
      "---> Model[[(5, 1), 'c', 1]] 36.862\n",
      "---> Model[[(5, 1), 'c', 2]] 39.776\n",
      "---> Model[[(5, 1), 't', 0]] 78.751\n",
      "---> Model[[(5, 1), 't', 1]] 40.730\n",
      "---> Model[[(5, 1), 't', 2]] 47.119\n",
      "---> Model[[(5, 1), 'ct', 0]] 76.363\n",
      "---> Model[[(5, 1), 'ct', 1]] 43.011\n",
      "---> Model[[(5, 1), 'ct', 2]] 58.451\n",
      "---> Model[[(5, 2), 'n', 0]] 61.427\n",
      "---> Model[[(5, 2), 'n', 1]] 46.679\n",
      "---> Model[[(5, 2), 'n', 2]] 46.340\n",
      "---> Model[[(5, 2), 'c', 0]] 47.161\n",
      "---> Model[[(5, 2), 'c', 1]] 33.302\n",
      "---> Model[[(5, 2), 'c', 2]] 37.138\n",
      "---> Model[[(5, 2), 't', 0]] 65.401\n",
      "---> Model[[(5, 2), 't', 1]] 37.299\n",
      "---> Model[[(5, 2), 't', 2]] 39.310\n",
      "---> Model[[(5, 2), 'ct', 0]] 64.433\n",
      "---> Model[[(5, 2), 'ct', 1]] 36.127\n",
      "---> Model[[(5, 2), 'ct', 2]] 57.125\n",
      "---> Model[[(6, 0), 'n', 0]] 38.175\n",
      "---> Model[[(6, 0), 'n', 1]] 40.305\n",
      "---> Model[[(6, 0), 'n', 2]] 36.280\n",
      "---> Model[[(6, 0), 'c', 0]] 35.669\n",
      "---> Model[[(6, 0), 'c', 1]] 37.757\n",
      "---> Model[[(6, 0), 'c', 2]] 38.607\n",
      "---> Model[[(6, 0), 't', 0]] 33.337\n",
      "---> Model[[(6, 0), 't', 1]] 39.487\n",
      "---> Model[[(6, 0), 't', 2]] 35.786\n",
      "---> Model[[(6, 0), 'ct', 0]] 37.298\n",
      "---> Model[[(6, 0), 'ct', 1]] 41.113\n",
      "---> Model[[(6, 0), 'ct', 2]] 39.768\n",
      "---> Model[[(6, 1), 'n', 0]] 43.272\n",
      "---> Model[[(6, 1), 'n', 1]] 34.384\n",
      "---> Model[[(6, 1), 'n', 2]] 43.438\n",
      "---> Model[[(6, 1), 'c', 0]] 33.399\n",
      "---> Model[[(6, 1), 'c', 1]] 30.244\n",
      "---> Model[[(6, 1), 'c', 2]] 43.805\n",
      "---> Model[[(6, 1), 't', 0]] 37.668\n",
      "---> Model[[(6, 1), 't', 1]] 35.822\n",
      "---> Model[[(6, 1), 't', 2]] 50.493\n",
      "---> Model[[(6, 1), 'ct', 0]] 37.192\n",
      "---> Model[[(6, 1), 'ct', 1]] 43.175\n",
      "---> Model[[(6, 1), 'ct', 2]] 52.696\n",
      "---> Model[[(6, 2), 'n', 0]] 31.345\n",
      "---> Model[[(6, 2), 'n', 1]] 34.845\n",
      "---> Model[[(6, 2), 'n', 2]] 43.311\n",
      "---> Model[[(6, 2), 'c', 0]] 28.045\n",
      "---> Model[[(6, 2), 'c', 1]] 27.133\n",
      "---> Model[[(6, 2), 'c', 2]] 58.548\n",
      "---> Model[[(6, 2), 't', 0]] 25.923\n",
      "---> Model[[(6, 2), 't', 1]] 36.275\n",
      "---> Model[[(6, 2), 't', 2]] 45.243\n",
      "---> Model[[(6, 2), 'ct', 0]] 28.234\n",
      "---> Model[[(6, 2), 'ct', 1]] 44.919\n",
      "---> Model[[(6, 2), 'ct', 2]] 64.988\n",
      "---> Model[[(7, 0), 'n', 0]] 40.669\n",
      "---> Model[[(7, 0), 'n', 1]] 33.098\n",
      "---> Model[[(7, 0), 'n', 2]] 87.400\n",
      "---> Model[[(7, 0), 'c', 0]] 35.595\n",
      "---> Model[[(7, 0), 'c', 1]] 31.756\n",
      "---> Model[[(7, 0), 'c', 2]] 87.588\n",
      "---> Model[[(7, 0), 't', 0]] 38.702\n",
      "---> Model[[(7, 0), 't', 1]] 34.103\n",
      "---> Model[[(7, 0), 't', 2]] 92.989\n",
      "---> Model[[(7, 0), 'ct', 0]] 36.471\n",
      "---> Model[[(7, 0), 'ct', 1]] 35.599\n",
      "---> Model[[(7, 0), 'ct', 2]] 94.506\n",
      "---> Model[[(7, 1), 'n', 0]] 42.482\n",
      "---> Model[[(7, 1), 'n', 1]] 37.495\n",
      "---> Model[[(7, 1), 'n', 2]] 54.305\n",
      "---> Model[[(7, 1), 'c', 0]] 31.830\n",
      "---> Model[[(7, 1), 'c', 1]] 34.757\n",
      "---> Model[[(7, 1), 'c', 2]] 45.030\n",
      "---> Model[[(7, 1), 't', 0]] 39.560\n",
      "---> Model[[(7, 1), 't', 1]] 41.725\n",
      "---> Model[[(7, 1), 't', 2]] 54.083\n",
      "---> Model[[(7, 1), 'ct', 0]] 39.260\n",
      "---> Model[[(7, 1), 'ct', 1]] 42.285\n",
      "---> Model[[(7, 1), 'ct', 2]] 94.237\n",
      "---> Model[[(7, 2), 'n', 0]] 31.647\n",
      "---> Model[[(7, 2), 'n', 1]] 32.137\n",
      "---> Model[[(7, 2), 'n', 2]] 45.656\n",
      "---> Model[[(7, 2), 'c', 0]] 26.874\n",
      "---> Model[[(7, 2), 'c', 1]] 36.894\n",
      "---> Model[[(7, 2), 'c', 2]] 52.488\n",
      "---> Model[[(7, 2), 't', 0]] 34.613\n",
      "---> Model[[(7, 2), 't', 1]] 33.279\n",
      "---> Model[[(7, 2), 't', 2]] 54.046\n",
      "---> Model[[(7, 2), 'ct', 0]] 34.857\n",
      "---> Model[[(7, 2), 'ct', 1]] 30.439\n",
      "---> Model[[(7, 2), 'ct', 2]] 62.925\n",
      "---> Model[[(8, 0), 'n', 0]] 33.172\n",
      "---> Model[[(8, 0), 'n', 1]] 38.223\n",
      "---> Model[[(8, 0), 'n', 2]] 74.052\n",
      "---> Model[[(8, 0), 'c', 0]] 27.815\n",
      "---> Model[[(8, 0), 'c', 1]] 39.745\n",
      "---> Model[[(8, 0), 'c', 2]] 76.473\n",
      "---> Model[[(8, 0), 't', 0]] 31.817\n",
      "---> Model[[(8, 0), 't', 1]] 44.070\n",
      "---> Model[[(8, 0), 't', 2]] 79.295\n",
      "---> Model[[(8, 0), 'ct', 0]] 32.911\n",
      "---> Model[[(8, 0), 'ct', 1]] 44.991\n",
      "---> Model[[(8, 0), 'ct', 2]] 81.552\n",
      "---> Model[[(8, 1), 'n', 0]] 36.322\n",
      "---> Model[[(8, 1), 'n', 1]] 33.436\n",
      "---> Model[[(8, 1), 'n', 2]] 54.358\n",
      "---> Model[[(8, 1), 'c', 0]] 25.276\n",
      "---> Model[[(8, 1), 'c', 1]] 41.544\n",
      "---> Model[[(8, 1), 'c', 2]] 57.349\n",
      "---> Model[[(8, 1), 't', 0]] 28.933\n",
      "---> Model[[(8, 1), 't', 1]] 35.003\n",
      "---> Model[[(8, 1), 't', 2]] 63.136\n",
      "---> Model[[(8, 1), 'ct', 0]] 30.316\n",
      "---> Model[[(8, 1), 'ct', 1]] 37.886\n",
      "---> Model[[(8, 1), 'ct', 2]] 59.471\n",
      "---> Model[[(8, 2), 'n', 0]] 58.371\n",
      "---> Model[[(8, 2), 'n', 1]] 40.742\n",
      "---> Model[[(8, 2), 'n', 2]] 60.599\n",
      "---> Model[[(8, 2), 'c', 0]] 22.680\n",
      "---> Model[[(8, 2), 'c', 1]] 44.158\n",
      "---> Model[[(8, 2), 'c', 2]] 67.245\n",
      "---> Model[[(8, 2), 't', 0]] 24.875\n",
      "---> Model[[(8, 2), 't', 1]] 41.249\n",
      "---> Model[[(8, 2), 't', 2]] 57.990\n",
      "---> Model[[(8, 2), 'ct', 0]] 20.933\n",
      "---> Model[[(8, 2), 'ct', 1]] 37.596\n",
      "---> Model[[(8, 2), 'ct', 2]] 64.087\n",
      "---> Model[[(9, 0), 'n', 0]] 24.771\n",
      "---> Model[[(9, 0), 'n', 1]] 33.118\n",
      "---> Model[[(9, 0), 'n', 2]] 62.084\n",
      "---> Model[[(9, 0), 'c', 0]] 23.581\n",
      "---> Model[[(9, 0), 'c', 1]] 33.607\n",
      "---> Model[[(9, 0), 'c', 2]] 62.830\n",
      "---> Model[[(9, 0), 't', 0]] 38.338\n",
      "---> Model[[(9, 0), 't', 1]] 36.150\n",
      "---> Model[[(9, 0), 't', 2]] 62.952\n",
      "---> Model[[(9, 0), 'ct', 0]] 31.528\n"
     ]
    },
    {
     "name": "stdout",
     "output_type": "stream",
     "text": [
      "---> Model[[(9, 0), 'ct', 1]] 36.212\n",
      "---> Model[[(9, 0), 'ct', 2]] 64.261\n",
      "---> Model[[(9, 1), 'n', 0]] 22.615\n",
      "---> Model[[(9, 1), 'n', 1]] 43.377\n",
      "---> Model[[(9, 1), 'n', 2]] 50.889\n",
      "---> Model[[(9, 1), 'c', 0]] 91.495\n",
      "---> Model[[(9, 1), 'c', 1]] 45.315\n",
      "---> Model[[(9, 1), 'c', 2]] 54.722\n",
      "---> Model[[(9, 1), 't', 0]] 33.850\n",
      "---> Model[[(9, 1), 't', 1]] 40.872\n",
      "---> Model[[(9, 1), 't', 2]] 53.976\n",
      "---> Model[[(9, 1), 'ct', 0]] 27.825\n",
      "---> Model[[(9, 1), 'ct', 1]] 42.881\n",
      "---> Model[[(9, 1), 'ct', 2]] 57.969\n",
      "---> Model[[(9, 2), 'n', 0]] 30.467\n",
      "---> Model[[(9, 2), 'n', 1]] 34.330\n",
      "---> Model[[(9, 2), 'n', 2]] 61.190\n",
      "---> Model[[(9, 2), 'c', 0]] 32.180\n",
      "---> Model[[(9, 2), 'c', 1]] 36.445\n",
      "---> Model[[(9, 2), 'c', 2]] 66.559\n",
      "---> Model[[(9, 2), 't', 0]] 41.678\n",
      "---> Model[[(9, 2), 't', 1]] 31.598\n",
      "---> Model[[(9, 2), 't', 2]] 63.338\n",
      "---> Model[[(9, 2), 'ct', 0]] 43.960\n",
      "---> Model[[(9, 2), 'ct', 1]] 31.982\n",
      "---> Model[[(9, 2), 'ct', 2]] 77.130\n",
      "---> Model[[(10, 0), 'n', 0]] 23.041\n",
      "---> Model[[(10, 0), 'n', 1]] 52.071\n",
      "---> Model[[(10, 0), 'n', 2]] 65.220\n",
      "---> Model[[(10, 0), 'c', 0]] 23.422\n",
      "---> Model[[(10, 0), 'c', 1]] 51.295\n",
      "---> Model[[(10, 0), 'c', 2]] 71.209\n",
      "---> Model[[(10, 0), 't', 0]] 37.809\n",
      "---> Model[[(10, 0), 't', 1]] 55.117\n",
      "---> Model[[(10, 0), 't', 2]] 72.822\n",
      "---> Model[[(10, 0), 'ct', 0]] 39.843\n",
      "---> Model[[(10, 0), 'ct', 1]] 55.601\n",
      "---> Model[[(10, 0), 'ct', 2]] 75.158\n",
      "---> Model[[(10, 1), 'n', 0]] 31.393\n",
      "---> Model[[(10, 1), 'n', 1]] 52.071\n",
      "---> Model[[(10, 1), 'n', 2]] 67.128\n",
      "---> Model[[(10, 1), 'c', 0]] 29.967\n",
      "---> Model[[(10, 1), 'c', 1]] 49.958\n",
      "---> Model[[(10, 1), 'c', 2]] 72.955\n",
      "---> Model[[(10, 1), 't', 0]] 40.229\n",
      "---> Model[[(10, 1), 't', 1]] 53.083\n",
      "---> Model[[(10, 1), 't', 2]] 70.674\n",
      "---> Model[[(10, 1), 'ct', 0]] 42.414\n",
      "---> Model[[(10, 1), 'ct', 1]] 52.521\n",
      "---> Model[[(10, 1), 'ct', 2]] 79.834\n",
      "---> Model[[(10, 2), 'n', 0]] 36.196\n",
      "---> Model[[(10, 2), 'n', 1]] 49.431\n",
      "---> Model[[(10, 2), 'n', 2]] 66.373\n",
      "---> Model[[(10, 2), 'c', 0]] 35.698\n",
      "---> Model[[(10, 2), 'c', 1]] 53.523\n",
      "---> Model[[(10, 2), 'c', 2]] 72.963\n",
      "---> Model[[(10, 2), 't', 0]] 40.311\n",
      "---> Model[[(10, 2), 't', 1]] 53.435\n",
      "---> Model[[(10, 2), 't', 2]] 84.223\n",
      "---> Model[[(10, 2), 'ct', 0]] 46.350\n",
      "---> Model[[(10, 2), 'ct', 1]] 52.675\n",
      "---> Model[[(10, 2), 'ct', 2]] 90.088\n",
      "n_test:7, method:walk, best_cfg parameters are:[(8, 2), 'ct', 0], rmse:20.932935481532002\n"
     ]
    }
   ],
   "source": [
    "n_test = 7\n",
    "cfg_list = varmax_configs()\n",
    "method = 'walk'\n",
    "scores = grid_search(df_combined_indeed[['New','Jobnums']], cfg_list, n_test, method, exog=None, parallel=False)\n",
    "print('n_test:{}, method:{}, best_cfg parameters are:{}, rmse:{}'.format(n_test,method,scores[0][0],scores[0][1]))"
   ]
  },
  {
   "cell_type": "code",
   "execution_count": 54,
   "metadata": {},
   "outputs": [],
   "source": [
    "best_cfg = [(8, 2), 'ct', 0]\n",
    "n_test = 7\n",
    "indeed_data = df_combined_indeed[['New','Jobnums']]\n",
    "train, test = train_test_split(indeed_data, n_test)\n",
    "yhat_in_varma, error_in_varma = walk_forward_best(indeed_data, n_test, best_cfg)"
   ]
  },
  {
   "cell_type": "markdown",
   "metadata": {},
   "source": [
    "#### X=weekend + Walk"
   ]
  },
  {
   "cell_type": "code",
   "execution_count": 32,
   "metadata": {},
   "outputs": [
    {
     "name": "stdout",
     "output_type": "stream",
     "text": [
      "---> Model[[(3, 0), 'n', 1]] 47.974\n",
      "---> Model[[(3, 0), 'n', 2]] 57.709\n",
      "---> Model[[(3, 0), 'n', 0]] 44.146\n",
      "---> Model[[(3, 0), 'c', 0]] 34.612\n",
      "---> Model[[(3, 0), 'c', 1]] 15.607\n",
      "---> Model[[(3, 0), 'c', 2]] 46.218\n",
      "---> Model[[(3, 0), 't', 0]] 41.067\n",
      "---> Model[[(3, 0), 't', 1]] 25.961\n",
      "---> Model[[(3, 0), 't', 2]] 48.814\n",
      "---> Model[[(3, 0), 'ct', 0]] 35.091\n",
      "---> Model[[(3, 0), 'ct', 1]] 23.843\n",
      "---> Model[[(3, 0), 'ct', 2]] 48.422\n",
      "---> Model[[(3, 1), 'n', 0]] 46.703\n",
      "---> Model[[(3, 1), 'n', 1]] 44.521\n",
      "---> Model[[(3, 1), 'n', 2]] 65.279\n",
      "---> Model[[(3, 1), 'c', 0]] 32.745\n",
      "---> Model[[(3, 1), 'c', 1]] 21.021\n",
      "---> Model[[(3, 1), 't', 0]] 43.272\n",
      "---> Model[[(3, 1), 'c', 2]] 49.086\n",
      "---> Model[[(3, 1), 't', 1]] 28.698\n",
      "---> Model[[(3, 1), 't', 2]] 62.889\n",
      "---> Model[[(3, 1), 'ct', 0]] 37.183\n",
      "---> Model[[(3, 1), 'ct', 1]] 20.119\n",
      "---> Model[[(3, 1), 'ct', 2]] 53.646\n",
      "---> Model[[(3, 2), 'n', 0]] 42.818\n",
      "---> Model[[(3, 2), 'n', 1]] 47.648\n",
      "---> Model[[(3, 2), 'c', 0]] 33.142\n",
      "---> Model[[(3, 2), 'n', 2]] 68.423\n",
      "---> Model[[(3, 2), 'c', 1]] 25.165\n",
      "---> Model[[(3, 2), 'c', 2]] 55.846\n",
      "---> Model[[(3, 2), 't', 0]] 38.575\n",
      "---> Model[[(3, 2), 't', 1]] 31.008\n",
      "---> Model[[(3, 2), 't', 2]] 59.540\n",
      "---> Model[[(3, 2), 'ct', 0]] 31.585\n",
      "---> Model[[(3, 2), 'ct', 1]] 19.532\n",
      "---> Model[[(4, 0), 'n', 0]] 35.622\n",
      "---> Model[[(3, 2), 'ct', 2]] 54.135\n",
      "---> Model[[(4, 0), 'n', 1]] 55.446\n",
      "---> Model[[(4, 0), 'n', 2]] 60.401\n",
      "---> Model[[(4, 0), 'c', 0]] 30.011\n",
      "---> Model[[(4, 0), 'c', 1]] 18.058\n",
      "---> Model[[(4, 0), 'c', 2]] 44.436\n",
      "---> Model[[(4, 0), 't', 0]] 36.515\n",
      "---> Model[[(4, 0), 't', 1]] 36.285\n",
      "---> Model[[(4, 0), 't', 2]] 50.657\n",
      "---> Model[[(4, 0), 'ct', 0]] 31.576\n",
      "---> Model[[(4, 0), 'ct', 1]] 31.086\n",
      "---> Model[[(4, 0), 'ct', 2]] 43.822\n",
      "---> Model[[(4, 1), 'n', 0]] 38.608\n",
      "---> Model[[(4, 1), 'n', 1]] 50.101\n",
      "---> Model[[(4, 1), 'n', 2]] 65.253\n",
      "---> Model[[(4, 1), 'c', 0]] 28.927\n",
      "---> Model[[(4, 1), 'c', 1]] 26.634\n",
      "---> Model[[(4, 1), 'c', 2]] 32.233\n",
      "---> Model[[(4, 1), 't', 0]] 36.326\n",
      "---> Model[[(4, 1), 't', 1]] 20.469\n",
      "---> Model[[(4, 1), 't', 2]] 51.942\n",
      "---> Model[[(4, 1), 'ct', 0]] 35.922\n",
      "---> Model[[(4, 1), 'ct', 1]] 40.932\n",
      "---> Model[[(4, 1), 'ct', 2]] 40.136\n",
      "---> Model[[(4, 2), 'n', 0]] 42.506\n",
      "---> Model[[(4, 2), 'n', 1]] 46.357\n",
      "---> Model[[(4, 2), 'n', 2]] 65.481\n",
      "---> Model[[(4, 2), 'c', 0]] 31.412\n",
      "---> Model[[(4, 2), 'c', 1]] 31.090\n",
      "---> Model[[(4, 2), 'c', 2]] 47.594\n",
      "---> Model[[(4, 2), 't', 0]] 34.334\n",
      "---> Model[[(4, 2), 't', 1]] 26.797\n",
      "---> Model[[(4, 2), 't', 2]] 55.809\n",
      "---> Model[[(4, 2), 'ct', 0]] 26.145\n",
      "---> Model[[(4, 2), 'ct', 1]] 43.650\n",
      "---> Model[[(5, 0), 'n', 0]] 41.037\n",
      "---> Model[[(4, 2), 'ct', 2]] 57.209\n",
      "---> Model[[(5, 0), 'n', 1]] 46.755\n",
      "---> Model[[(5, 0), 'n', 2]] 49.394\n",
      "---> Model[[(5, 0), 'c', 0]] 26.048\n",
      "---> Model[[(5, 0), 'c', 1]] 38.285\n",
      "---> Model[[(5, 0), 'c', 2]] 41.470\n",
      "---> Model[[(5, 0), 't', 0]] 38.251\n",
      "---> Model[[(5, 0), 't', 1]] 20.943\n",
      "---> Model[[(5, 0), 't', 2]] 40.273\n",
      "---> Model[[(5, 0), 'ct', 0]] 26.738\n",
      "---> Model[[(5, 0), 'ct', 1]] 56.899\n",
      "---> Model[[(5, 0), 'ct', 2]] 47.519\n",
      "---> Model[[(5, 1), 'n', 0]] 33.648\n",
      "---> Model[[(5, 1), 'n', 1]] 50.089\n",
      "---> Model[[(5, 1), 'n', 2]] 50.336\n",
      "---> Model[[(5, 1), 'c', 0]] 24.538\n",
      "---> Model[[(5, 1), 'c', 1]] 45.398\n",
      "---> Model[[(5, 1), 'c', 2]] 60.624\n",
      "---> Model[[(5, 1), 't', 0]] 34.565\n",
      "---> Model[[(5, 1), 't', 1]] 17.083\n",
      "---> Model[[(5, 1), 't', 2]] 35.844\n",
      "---> Model[[(5, 1), 'ct', 0]] 30.146\n",
      "---> Model[[(5, 1), 'ct', 1]] 56.866\n",
      "---> Model[[(5, 1), 'ct', 2]] 61.261\n",
      "---> Model[[(5, 2), 'n', 0]] 34.553\n",
      "---> Model[[(5, 2), 'n', 1]] 50.952\n",
      "---> Model[[(5, 2), 'n', 2]] 46.228\n",
      "---> Model[[(5, 2), 'c', 0]] 24.328\n",
      "---> Model[[(5, 2), 'c', 1]] 43.422\n",
      "---> Model[[(5, 2), 'c', 2]] 51.720\n",
      "---> Model[[(5, 2), 't', 0]] 26.811\n",
      "---> Model[[(5, 2), 't', 1]] 28.569\n",
      "---> Model[[(5, 2), 't', 2]] 27.713\n",
      "---> Model[[(5, 2), 'ct', 0]] 22.351\n",
      "---> Model[[(5, 2), 'ct', 1]] 55.807\n",
      "---> Model[[(6, 0), 'n', 0]] 41.605\n",
      "---> Model[[(5, 2), 'ct', 2]] 65.911\n",
      "---> Model[[(6, 0), 'n', 1]] 47.409\n",
      "---> Model[[(6, 0), 'n', 2]] 42.914\n",
      "---> Model[[(6, 0), 'c', 0]] 18.253\n",
      "---> Model[[(6, 0), 'c', 1]] 50.204\n",
      "---> Model[[(6, 0), 'c', 2]] 45.289\n",
      "---> Model[[(6, 0), 't', 0]] 21.983\n",
      "---> Model[[(6, 0), 't', 2]] 36.070\n",
      "---> Model[[(6, 0), 't', 1]] 23.611\n",
      "---> Model[[(6, 0), 'ct', 0]] 16.342\n",
      "---> Model[[(6, 0), 'ct', 1]] 56.914\n",
      "---> Model[[(6, 0), 'ct', 2]] 46.104\n",
      "---> Model[[(6, 1), 'n', 0]] 64.307\n",
      "---> Model[[(6, 1), 'n', 1]] 50.586\n",
      "---> Model[[(6, 1), 'n', 2]] 38.908\n",
      "---> Model[[(6, 1), 'c', 0]] 15.855\n",
      "---> Model[[(6, 1), 'c', 1]] 49.037\n",
      "---> Model[[(6, 1), 'c', 2]] 41.352\n",
      "---> Model[[(6, 1), 't', 0]] 14.628\n",
      "---> Model[[(6, 1), 't', 1]] 29.668\n",
      "---> Model[[(6, 1), 't', 2]] 39.092\n",
      "---> Model[[(6, 1), 'ct', 1]] 41.548\n",
      "---> Model[[(6, 1), 'ct', 0]] 21.632\n",
      "---> Model[[(6, 2), 'n', 0]] 68.869\n",
      "---> Model[[(6, 1), 'ct', 2]] 43.644\n",
      "---> Model[[(6, 2), 'n', 1]] 46.991\n",
      "---> Model[[(6, 2), 'n', 2]] 43.561\n",
      "---> Model[[(6, 2), 'c', 0]] 20.267\n",
      "---> Model[[(6, 2), 'c', 1]] 49.035\n",
      "---> Model[[(6, 2), 't', 0]] 17.305\n",
      "---> Model[[(6, 2), 'c', 2]] 47.356\n",
      "---> Model[[(6, 2), 't', 1]] 27.007\n",
      "---> Model[[(6, 2), 't', 2]] 23.393\n",
      "---> Model[[(6, 2), 'ct', 0]] 24.291\n",
      "---> Model[[(6, 2), 'ct', 1]] 60.495\n",
      "---> Model[[(7, 0), 'n', 0]] 42.089\n",
      "---> Model[[(6, 2), 'ct', 2]] 39.643\n",
      "---> Model[[(7, 0), 'n', 1]] 47.428\n",
      "---> Model[[(7, 0), 'n', 2]] 106.857\n",
      "---> Model[[(7, 0), 'c', 0]] 21.208\n",
      "---> Model[[(7, 0), 'c', 1]] 63.678\n",
      "---> Model[[(7, 0), 'c', 2]] 67.240\n",
      "---> Model[[(7, 0), 't', 0]] 26.429\n",
      "---> Model[[(7, 0), 't', 1]] 21.585\n",
      "---> Model[[(7, 0), 't', 2]] 84.416\n",
      "---> Model[[(7, 0), 'ct', 0]] 22.498\n",
      "---> Model[[(7, 0), 'ct', 1]] 68.070\n",
      "---> Model[[(7, 0), 'ct', 2]] 141.670\n",
      "---> Model[[(7, 1), 'n', 0]] 57.024\n",
      "---> Model[[(7, 1), 'n', 1]] 54.613\n",
      "---> Model[[(7, 1), 'n', 2]] 66.086\n",
      "---> Model[[(7, 1), 'c', 0]] 20.351\n",
      "---> Model[[(7, 1), 'c', 1]] 57.772\n",
      "---> Model[[(7, 1), 'c', 2]] 140.288\n",
      "---> Model[[(7, 1), 't', 0]] 24.680\n",
      "---> Model[[(7, 1), 't', 1]] 21.368\n",
      "---> Model[[(7, 1), 't', 2]] 71.292\n",
      "---> Model[[(7, 1), 'ct', 0]] 30.822\n",
      "---> Model[[(7, 1), 'ct', 1]] 69.262\n",
      "---> Model[[(7, 1), 'ct', 2]] 159.408\n",
      "---> Model[[(7, 2), 'n', 0]] 65.644\n",
      "---> Model[[(7, 2), 'n', 1]] 47.040\n",
      "---> Model[[(7, 2), 'n', 2]] 51.983\n",
      "---> Model[[(7, 2), 'c', 0]] 25.448\n",
      "---> Model[[(7, 2), 'c', 1]] 52.356\n",
      "---> Model[[(7, 2), 'c', 2]] 274670267.418\n",
      "---> Model[[(7, 2), 't', 0]] 29.038\n",
      "---> Model[[(7, 2), 't', 1]] 31.694\n",
      "---> Model[[(7, 2), 't', 2]] 74.582\n",
      "---> Model[[(7, 2), 'ct', 0]] 32.390\n",
      "---> Model[[(7, 2), 'ct', 1]] 64.677\n",
      "---> Model[[(8, 0), 'n', 0]] 39.323\n",
      "---> Model[[(7, 2), 'ct', 2]] 134.600\n",
      "---> Model[[(8, 0), 'n', 1]] 55.420\n",
      "---> Model[[(8, 0), 'n', 2]] 83.071\n",
      "---> Model[[(8, 0), 'c', 0]] 20.604\n",
      "---> Model[[(8, 0), 'c', 1]] 45.370\n",
      "---> Model[[(8, 0), 'c', 2]] 82.608\n",
      "---> Model[[(8, 0), 't', 0]] 24.288\n",
      "---> Model[[(8, 0), 't', 2]] 73.845\n",
      "---> Model[[(8, 0), 't', 1]] 33.783\n",
      "---> Model[[(8, 0), 'ct', 0]] 21.252\n",
      "---> Model[[(8, 0), 'ct', 1]] 55.229\n",
      "---> Model[[(8, 0), 'ct', 2]] 140.099\n",
      "---> Model[[(8, 1), 'n', 0]] 51.311\n",
      "---> Model[[(8, 1), 'n', 1]] 51.107\n",
      "---> Model[[(8, 1), 'n', 2]] 59.591\n",
      "---> Model[[(8, 1), 'c', 0]] 22.845\n",
      "---> Model[[(8, 1), 'c', 1]] 48.641\n",
      "---> Model[[(8, 1), 'c', 2]] 148.887\n",
      "---> Model[[(8, 1), 't', 0]] 20.304\n",
      "---> Model[[(8, 1), 't', 1]] 30.951\n",
      "---> Model[[(8, 1), 't', 2]] 69.088\n",
      "---> Model[[(8, 1), 'ct', 0]] 28.230\n",
      "---> Model[[(8, 1), 'ct', 1]] 57.921\n",
      "---> Model[[(8, 1), 'ct', 2]] 133.855\n",
      "---> Model[[(8, 2), 'n', 0]] 104.001\n",
      "---> Model[[(8, 2), 'n', 1]] 51.203\n",
      "---> Model[[(8, 2), 'n', 2]] 55.990\n",
      "---> Model[[(8, 2), 'c', 0]] 23.341\n",
      "---> Model[[(8, 2), 'c', 1]] 51.134\n",
      "---> Model[[(8, 2), 't', 0]] 21.828\n",
      "---> Model[[(8, 2), 'c', 2]] 107.580\n",
      "---> Model[[(8, 2), 't', 1]] 46.755\n",
      "---> Model[[(8, 2), 't', 2]] 75.565\n",
      "---> Model[[(8, 2), 'ct', 1]] 61.534\n",
      "---> Model[[(8, 2), 'ct', 0]] 26.314\n",
      "---> Model[[(9, 0), 'n', 0]] 28.383\n",
      "---> Model[[(8, 2), 'ct', 2]] 113.923\n",
      "---> Model[[(9, 0), 'n', 1]] 49.067\n",
      "---> Model[[(9, 0), 'n', 2]] 65.966\n",
      "---> Model[[(9, 0), 'c', 0]] 29.511\n",
      "---> Model[[(9, 0), 'c', 1]] 50.941\n",
      "---> Model[[(9, 0), 'c', 2]] 74.592\n",
      "---> Model[[(9, 0), 't', 0]] 23.051\n",
      "---> Model[[(9, 0), 't', 1]] 35.758\n",
      "---> Model[[(9, 0), 't', 2]] 77.102\n",
      "---> Model[[(9, 0), 'ct', 0]] 28.068\n"
     ]
    },
    {
     "name": "stdout",
     "output_type": "stream",
     "text": [
      "---> Model[[(9, 0), 'ct', 1]] 60.041\n",
      "---> Model[[(9, 0), 'ct', 2]] 135.617\n",
      "---> Model[[(9, 1), 'n', 0]] 51.952\n",
      "---> Model[[(9, 1), 'n', 2]] 73.308\n",
      "---> Model[[(9, 1), 'n', 1]] 52.406\n",
      "---> Model[[(9, 1), 'c', 0]] 35.199\n",
      "---> Model[[(9, 1), 'c', 1]] 51.819\n",
      "---> Model[[(9, 1), 'c', 2]] 108.389\n",
      "---> Model[[(9, 1), 't', 0]] 19.619\n",
      "---> Model[[(9, 1), 't', 1]] 42.995\n",
      "---> Model[[(9, 1), 't', 2]] 73.319\n",
      "---> Model[[(9, 1), 'ct', 0]] 37.164\n",
      "---> Model[[(9, 1), 'ct', 1]] 60.018\n",
      "---> Model[[(9, 1), 'ct', 2]] 139.129\n",
      "---> Model[[(9, 2), 'n', 0]] 60.923\n",
      "---> Model[[(9, 2), 'n', 2]] 60.750\n",
      "---> Model[[(9, 2), 'n', 1]] 47.697\n",
      "---> Model[[(9, 2), 'c', 0]] 55.403\n",
      "---> Model[[(9, 2), 'c', 1]] 56.653\n",
      "---> Model[[(9, 2), 't', 0]] 45.522\n",
      "---> Model[[(9, 2), 'c', 2]] 91.902\n",
      "---> Model[[(9, 2), 't', 1]] 47.404\n",
      "---> Model[[(9, 2), 't', 2]] 72.223\n",
      "---> Model[[(9, 2), 'ct', 0]] 47.684\n",
      "---> Model[[(9, 2), 'ct', 1]] 66.550\n",
      "---> Model[[(10, 0), 'n', 0]] 36.042\n",
      "---> Model[[(9, 2), 'ct', 2]] 132.893\n",
      "---> Model[[(10, 0), 'n', 1]] 53.156\n",
      "---> Model[[(10, 0), 'n', 2]] 70.061\n",
      "---> Model[[(10, 0), 'c', 1]] 49.363\n",
      "---> Model[[(10, 0), 'c', 0]] 24.227\n",
      "---> Model[[(10, 0), 'c', 2]] 67.248\n",
      "---> Model[[(10, 0), 't', 0]] 25.738\n",
      "---> Model[[(10, 0), 't', 1]] 49.022\n",
      "---> Model[[(10, 0), 't', 2]] 75.548\n",
      "---> Model[[(10, 0), 'ct', 0]] 32.029\n",
      "---> Model[[(10, 0), 'ct', 1]] 47.027\n",
      "---> Model[[(10, 0), 'ct', 2]] 104.818\n",
      "---> Model[[(10, 1), 'n', 0]] 37174731.097\n",
      "---> Model[[(10, 1), 'n', 2]] 65.728\n",
      "---> Model[[(10, 1), 'n', 1]] 52.738\n",
      "---> Model[[(10, 1), 'c', 0]] 32.460\n",
      "---> Model[[(10, 1), 'c', 1]] 48.837\n",
      "---> Model[[(10, 1), 'c', 2]] 110.663\n",
      "---> Model[[(10, 1), 't', 0]] 31.095\n",
      "---> Model[[(10, 1), 't', 1]] 49.787\n",
      "---> Model[[(10, 1), 't', 2]] 82.568\n",
      "---> Model[[(10, 1), 'ct', 0]] 36.190\n",
      "---> Model[[(10, 1), 'ct', 1]] 49.537\n",
      "---> Model[[(10, 1), 'ct', 2]] 147.271\n",
      "---> Model[[(10, 2), 'n', 0]] 9185671.121\n",
      "---> Model[[(10, 2), 'n', 1]] 52.905\n",
      "---> Model[[(10, 2), 'n', 2]] 67.579\n",
      "---> Model[[(10, 2), 'c', 0]] 39.898\n",
      "---> Model[[(10, 2), 'c', 1]] 46.960\n",
      "---> Model[[(10, 2), 'c', 2]] 108.340\n",
      "---> Model[[(10, 2), 't', 0]] 45.038\n",
      "---> Model[[(10, 2), 't', 1]] 50.962\n",
      "---> Model[[(10, 2), 't', 2]] 74.408\n",
      "---> Model[[(10, 2), 'ct', 0]] 41.518\n",
      "---> Model[[(10, 2), 'ct', 1]] 57.199\n",
      "---> Model[[(10, 2), 'ct', 2]] 151.046\n",
      "n_test:7, method:walk, best_cfg parameters are:[(6, 1), 't', 0], rmse:14.627597834960572\n"
     ]
    }
   ],
   "source": [
    "n_test = 7\n",
    "cfg_list = varmax_configs()\n",
    "method = 'walk'\n",
    "scores = grid_search(df_combined_indeed[['New','Jobnums']], cfg_list, n_test, method, exog=df_combined_indeed[['Weekend']])\n",
    "print('n_test:{}, method:{}, best_cfg parameters are:{}, rmse:{}'.format(n_test,method,scores[0][0],scores[0][1]))"
   ]
  },
  {
   "cell_type": "code",
   "execution_count": 55,
   "metadata": {},
   "outputs": [],
   "source": [
    "n_test = 7\n",
    "best_cfg = [(6, 1), 't', 0]\n",
    "indeed_data = df_combined_indeed[['New','Jobnums']]\n",
    "train, test = train_test_split(indeed_data, n_test)\n",
    "yhat_in_varmax, error_in_varmax = walk_forward_best(indeed_data, n_test, best_cfg, exog=df_combined_indeed[['Weekend']])"
   ]
  },
  {
   "cell_type": "code",
   "execution_count": 56,
   "metadata": {
    "scrolled": true
   },
   "outputs": [
    {
     "data": {
      "application/vnd.plotly.v1+json": {
       "config": {
        "plotlyServerURL": "https://plot.ly"
       },
       "data": [
        {
         "mode": "lines+markers",
         "name": "Train",
         "showlegend": false,
         "type": "scatter",
         "x": [
          "2020-05-19T00:00:00",
          "2020-05-20T00:00:00",
          "2020-05-21T00:00:00",
          "2020-05-22T00:00:00",
          "2020-05-23T00:00:00",
          "2020-05-24T00:00:00",
          "2020-05-25T00:00:00",
          "2020-05-26T00:00:00",
          "2020-05-27T00:00:00",
          "2020-05-28T00:00:00",
          "2020-05-29T00:00:00",
          "2020-05-30T00:00:00",
          "2020-05-31T00:00:00",
          "2020-06-01T00:00:00",
          "2020-06-02T00:00:00",
          "2020-06-03T00:00:00",
          "2020-06-04T00:00:00",
          "2020-06-05T00:00:00",
          "2020-06-06T00:00:00",
          "2020-06-07T00:00:00",
          "2020-06-08T00:00:00",
          "2020-06-09T00:00:00",
          "2020-06-10T00:00:00",
          "2020-06-11T00:00:00",
          "2020-06-12T00:00:00",
          "2020-06-13T00:00:00",
          "2020-06-14T00:00:00",
          "2020-06-15T00:00:00",
          "2020-06-16T00:00:00",
          "2020-06-17T00:00:00",
          "2020-06-18T00:00:00",
          "2020-06-19T00:00:00",
          "2020-06-20T00:00:00",
          "2020-06-21T00:00:00",
          "2020-06-22T00:00:00",
          "2020-06-23T00:00:00",
          "2020-06-24T00:00:00",
          "2020-06-25T00:00:00",
          "2020-06-26T00:00:00",
          "2020-06-27T00:00:00",
          "2020-06-28T00:00:00",
          "2020-06-29T00:00:00",
          "2020-06-30T00:00:00",
          "2020-07-01T00:00:00",
          "2020-07-02T00:00:00",
          "2020-07-03T00:00:00",
          "2020-07-04T00:00:00",
          "2020-07-05T00:00:00",
          "2020-07-06T00:00:00",
          "2020-07-07T00:00:00",
          "2020-07-08T00:00:00",
          "2020-07-09T00:00:00",
          "2020-07-10T00:00:00",
          "2020-07-11T00:00:00",
          "2020-07-12T00:00:00",
          "2020-07-13T00:00:00",
          "2020-07-14T00:00:00",
          "2020-07-15T00:00:00",
          "2020-07-16T00:00:00",
          "2020-07-17T00:00:00",
          "2020-07-18T00:00:00",
          "2020-07-19T00:00:00",
          "2020-07-20T00:00:00",
          "2020-07-21T00:00:00",
          "2020-07-22T00:00:00",
          "2020-07-23T00:00:00",
          "2020-07-24T00:00:00",
          "2020-07-25T00:00:00",
          "2020-07-26T00:00:00",
          "2020-07-27T00:00:00",
          "2020-07-28T00:00:00",
          "2020-07-29T00:00:00",
          "2020-07-30T00:00:00",
          "2020-07-31T00:00:00",
          "2020-08-01T00:00:00",
          "2020-08-02T00:00:00",
          "2020-08-03T00:00:00",
          "2020-08-04T00:00:00",
          "2020-08-05T00:00:00",
          "2020-08-06T00:00:00",
          "2020-08-07T00:00:00",
          "2020-08-08T00:00:00"
         ],
         "xaxis": "x",
         "y": [
          45,
          57,
          47,
          51,
          51,
          8,
          3,
          15,
          53,
          71,
          66,
          58,
          9,
          17,
          76,
          73,
          104,
          80,
          58,
          5,
          17,
          78,
          84,
          115,
          150,
          102,
          12,
          29,
          127,
          223,
          90,
          94,
          16,
          2,
          67,
          80,
          111,
          97,
          124,
          27,
          7,
          62,
          216,
          130,
          90,
          48,
          26,
          36,
          99,
          226,
          231,
          234,
          193,
          89,
          23,
          344,
          285,
          276,
          231,
          96,
          147,
          16,
          86,
          254,
          231,
          272,
          203,
          139,
          14,
          196,
          209,
          284,
          311,
          495,
          142,
          21,
          73,
          175,
          129,
          220,
          163,
          82
         ],
         "yaxis": "y"
        },
        {
         "line": {
          "color": "green"
         },
         "mode": "lines+markers",
         "name": "Test",
         "showlegend": false,
         "type": "scatter",
         "x": [
          "2020-08-09T00:00:00",
          "2020-08-10T00:00:00",
          "2020-08-11T00:00:00",
          "2020-08-12T00:00:00",
          "2020-08-13T00:00:00",
          "2020-08-14T00:00:00",
          "2020-08-15T00:00:00"
         ],
         "xaxis": "x2",
         "y": [
          12,
          136,
          177,
          205,
          196,
          256,
          94
         ],
         "yaxis": "y2"
        },
        {
         "line": {
          "color": "red"
         },
         "mode": "lines+markers",
         "name": "Prediction",
         "showlegend": false,
         "type": "scatter",
         "x": [
          "2020-08-09T00:00:00",
          "2020-08-10T00:00:00",
          "2020-08-11T00:00:00",
          "2020-08-12T00:00:00",
          "2020-08-13T00:00:00",
          "2020-08-14T00:00:00",
          "2020-08-15T00:00:00"
         ],
         "xaxis": "x2",
         "y": [
          20.980634704802686,
          162.06730052134466,
          187.30351356187205,
          223.29050422331932,
          179.08832641645614,
          216.29912657197397,
          91.92887273707137
         ],
         "yaxis": "y2"
        },
        {
         "line": {
          "color": "green"
         },
         "mode": "lines+markers",
         "name": "Test",
         "showlegend": true,
         "type": "scatter",
         "x": [
          "2020-08-09T00:00:00",
          "2020-08-10T00:00:00",
          "2020-08-11T00:00:00",
          "2020-08-12T00:00:00",
          "2020-08-13T00:00:00",
          "2020-08-14T00:00:00",
          "2020-08-15T00:00:00"
         ],
         "xaxis": "x3",
         "y": [
          12,
          136,
          177,
          205,
          196,
          256,
          94
         ],
         "yaxis": "y3"
        },
        {
         "line": {
          "color": "red"
         },
         "mode": "lines+markers",
         "name": "Prediction",
         "showlegend": true,
         "type": "scatter",
         "x": [
          "2020-08-09T00:00:00",
          "2020-08-10T00:00:00",
          "2020-08-11T00:00:00",
          "2020-08-12T00:00:00",
          "2020-08-13T00:00:00",
          "2020-08-14T00:00:00",
          "2020-08-15T00:00:00"
         ],
         "xaxis": "x3",
         "y": [
          36.00543968051222,
          150.09144950249092,
          159.93359457586214,
          215.8378247875157,
          187.01014092096923,
          236.9079661066639,
          90.11634863224646
         ],
         "yaxis": "y3"
        }
       ],
       "layout": {
        "annotations": [
         {
          "font": {
           "size": 16
          },
          "showarrow": false,
          "text": "Train data",
          "x": 0.5,
          "xanchor": "center",
          "xref": "paper",
          "y": 1,
          "yanchor": "bottom",
          "yref": "paper"
         },
         {
          "font": {
           "size": 16
          },
          "showarrow": false,
          "text": "No eXog, RMSE: 20.93",
          "x": 0.225,
          "xanchor": "center",
          "xref": "paper",
          "y": 0.375,
          "yanchor": "bottom",
          "yref": "paper"
         },
         {
          "font": {
           "size": 16
          },
          "showarrow": false,
          "text": "X=Weekend, RMSE: 15.32",
          "x": 0.775,
          "xanchor": "center",
          "xref": "paper",
          "y": 0.375,
          "yanchor": "bottom",
          "yref": "paper"
         }
        ],
        "legend": {
         "x": 1,
         "y": 0.25
        },
        "template": {
         "data": {
          "bar": [
           {
            "error_x": {
             "color": "#2a3f5f"
            },
            "error_y": {
             "color": "#2a3f5f"
            },
            "marker": {
             "line": {
              "color": "#E5ECF6",
              "width": 0.5
             }
            },
            "type": "bar"
           }
          ],
          "barpolar": [
           {
            "marker": {
             "line": {
              "color": "#E5ECF6",
              "width": 0.5
             }
            },
            "type": "barpolar"
           }
          ],
          "carpet": [
           {
            "aaxis": {
             "endlinecolor": "#2a3f5f",
             "gridcolor": "white",
             "linecolor": "white",
             "minorgridcolor": "white",
             "startlinecolor": "#2a3f5f"
            },
            "baxis": {
             "endlinecolor": "#2a3f5f",
             "gridcolor": "white",
             "linecolor": "white",
             "minorgridcolor": "white",
             "startlinecolor": "#2a3f5f"
            },
            "type": "carpet"
           }
          ],
          "choropleth": [
           {
            "colorbar": {
             "outlinewidth": 0,
             "ticks": ""
            },
            "type": "choropleth"
           }
          ],
          "contour": [
           {
            "colorbar": {
             "outlinewidth": 0,
             "ticks": ""
            },
            "colorscale": [
             [
              0,
              "#0d0887"
             ],
             [
              0.1111111111111111,
              "#46039f"
             ],
             [
              0.2222222222222222,
              "#7201a8"
             ],
             [
              0.3333333333333333,
              "#9c179e"
             ],
             [
              0.4444444444444444,
              "#bd3786"
             ],
             [
              0.5555555555555556,
              "#d8576b"
             ],
             [
              0.6666666666666666,
              "#ed7953"
             ],
             [
              0.7777777777777778,
              "#fb9f3a"
             ],
             [
              0.8888888888888888,
              "#fdca26"
             ],
             [
              1,
              "#f0f921"
             ]
            ],
            "type": "contour"
           }
          ],
          "contourcarpet": [
           {
            "colorbar": {
             "outlinewidth": 0,
             "ticks": ""
            },
            "type": "contourcarpet"
           }
          ],
          "heatmap": [
           {
            "colorbar": {
             "outlinewidth": 0,
             "ticks": ""
            },
            "colorscale": [
             [
              0,
              "#0d0887"
             ],
             [
              0.1111111111111111,
              "#46039f"
             ],
             [
              0.2222222222222222,
              "#7201a8"
             ],
             [
              0.3333333333333333,
              "#9c179e"
             ],
             [
              0.4444444444444444,
              "#bd3786"
             ],
             [
              0.5555555555555556,
              "#d8576b"
             ],
             [
              0.6666666666666666,
              "#ed7953"
             ],
             [
              0.7777777777777778,
              "#fb9f3a"
             ],
             [
              0.8888888888888888,
              "#fdca26"
             ],
             [
              1,
              "#f0f921"
             ]
            ],
            "type": "heatmap"
           }
          ],
          "heatmapgl": [
           {
            "colorbar": {
             "outlinewidth": 0,
             "ticks": ""
            },
            "colorscale": [
             [
              0,
              "#0d0887"
             ],
             [
              0.1111111111111111,
              "#46039f"
             ],
             [
              0.2222222222222222,
              "#7201a8"
             ],
             [
              0.3333333333333333,
              "#9c179e"
             ],
             [
              0.4444444444444444,
              "#bd3786"
             ],
             [
              0.5555555555555556,
              "#d8576b"
             ],
             [
              0.6666666666666666,
              "#ed7953"
             ],
             [
              0.7777777777777778,
              "#fb9f3a"
             ],
             [
              0.8888888888888888,
              "#fdca26"
             ],
             [
              1,
              "#f0f921"
             ]
            ],
            "type": "heatmapgl"
           }
          ],
          "histogram": [
           {
            "marker": {
             "colorbar": {
              "outlinewidth": 0,
              "ticks": ""
             }
            },
            "type": "histogram"
           }
          ],
          "histogram2d": [
           {
            "colorbar": {
             "outlinewidth": 0,
             "ticks": ""
            },
            "colorscale": [
             [
              0,
              "#0d0887"
             ],
             [
              0.1111111111111111,
              "#46039f"
             ],
             [
              0.2222222222222222,
              "#7201a8"
             ],
             [
              0.3333333333333333,
              "#9c179e"
             ],
             [
              0.4444444444444444,
              "#bd3786"
             ],
             [
              0.5555555555555556,
              "#d8576b"
             ],
             [
              0.6666666666666666,
              "#ed7953"
             ],
             [
              0.7777777777777778,
              "#fb9f3a"
             ],
             [
              0.8888888888888888,
              "#fdca26"
             ],
             [
              1,
              "#f0f921"
             ]
            ],
            "type": "histogram2d"
           }
          ],
          "histogram2dcontour": [
           {
            "colorbar": {
             "outlinewidth": 0,
             "ticks": ""
            },
            "colorscale": [
             [
              0,
              "#0d0887"
             ],
             [
              0.1111111111111111,
              "#46039f"
             ],
             [
              0.2222222222222222,
              "#7201a8"
             ],
             [
              0.3333333333333333,
              "#9c179e"
             ],
             [
              0.4444444444444444,
              "#bd3786"
             ],
             [
              0.5555555555555556,
              "#d8576b"
             ],
             [
              0.6666666666666666,
              "#ed7953"
             ],
             [
              0.7777777777777778,
              "#fb9f3a"
             ],
             [
              0.8888888888888888,
              "#fdca26"
             ],
             [
              1,
              "#f0f921"
             ]
            ],
            "type": "histogram2dcontour"
           }
          ],
          "mesh3d": [
           {
            "colorbar": {
             "outlinewidth": 0,
             "ticks": ""
            },
            "type": "mesh3d"
           }
          ],
          "parcoords": [
           {
            "line": {
             "colorbar": {
              "outlinewidth": 0,
              "ticks": ""
             }
            },
            "type": "parcoords"
           }
          ],
          "pie": [
           {
            "automargin": true,
            "type": "pie"
           }
          ],
          "scatter": [
           {
            "marker": {
             "colorbar": {
              "outlinewidth": 0,
              "ticks": ""
             }
            },
            "type": "scatter"
           }
          ],
          "scatter3d": [
           {
            "line": {
             "colorbar": {
              "outlinewidth": 0,
              "ticks": ""
             }
            },
            "marker": {
             "colorbar": {
              "outlinewidth": 0,
              "ticks": ""
             }
            },
            "type": "scatter3d"
           }
          ],
          "scattercarpet": [
           {
            "marker": {
             "colorbar": {
              "outlinewidth": 0,
              "ticks": ""
             }
            },
            "type": "scattercarpet"
           }
          ],
          "scattergeo": [
           {
            "marker": {
             "colorbar": {
              "outlinewidth": 0,
              "ticks": ""
             }
            },
            "type": "scattergeo"
           }
          ],
          "scattergl": [
           {
            "marker": {
             "colorbar": {
              "outlinewidth": 0,
              "ticks": ""
             }
            },
            "type": "scattergl"
           }
          ],
          "scattermapbox": [
           {
            "marker": {
             "colorbar": {
              "outlinewidth": 0,
              "ticks": ""
             }
            },
            "type": "scattermapbox"
           }
          ],
          "scatterpolar": [
           {
            "marker": {
             "colorbar": {
              "outlinewidth": 0,
              "ticks": ""
             }
            },
            "type": "scatterpolar"
           }
          ],
          "scatterpolargl": [
           {
            "marker": {
             "colorbar": {
              "outlinewidth": 0,
              "ticks": ""
             }
            },
            "type": "scatterpolargl"
           }
          ],
          "scatterternary": [
           {
            "marker": {
             "colorbar": {
              "outlinewidth": 0,
              "ticks": ""
             }
            },
            "type": "scatterternary"
           }
          ],
          "surface": [
           {
            "colorbar": {
             "outlinewidth": 0,
             "ticks": ""
            },
            "colorscale": [
             [
              0,
              "#0d0887"
             ],
             [
              0.1111111111111111,
              "#46039f"
             ],
             [
              0.2222222222222222,
              "#7201a8"
             ],
             [
              0.3333333333333333,
              "#9c179e"
             ],
             [
              0.4444444444444444,
              "#bd3786"
             ],
             [
              0.5555555555555556,
              "#d8576b"
             ],
             [
              0.6666666666666666,
              "#ed7953"
             ],
             [
              0.7777777777777778,
              "#fb9f3a"
             ],
             [
              0.8888888888888888,
              "#fdca26"
             ],
             [
              1,
              "#f0f921"
             ]
            ],
            "type": "surface"
           }
          ],
          "table": [
           {
            "cells": {
             "fill": {
              "color": "#EBF0F8"
             },
             "line": {
              "color": "white"
             }
            },
            "header": {
             "fill": {
              "color": "#C8D4E3"
             },
             "line": {
              "color": "white"
             }
            },
            "type": "table"
           }
          ]
         },
         "layout": {
          "annotationdefaults": {
           "arrowcolor": "#2a3f5f",
           "arrowhead": 0,
           "arrowwidth": 1
          },
          "coloraxis": {
           "colorbar": {
            "outlinewidth": 0,
            "ticks": ""
           }
          },
          "colorscale": {
           "diverging": [
            [
             0,
             "#8e0152"
            ],
            [
             0.1,
             "#c51b7d"
            ],
            [
             0.2,
             "#de77ae"
            ],
            [
             0.3,
             "#f1b6da"
            ],
            [
             0.4,
             "#fde0ef"
            ],
            [
             0.5,
             "#f7f7f7"
            ],
            [
             0.6,
             "#e6f5d0"
            ],
            [
             0.7,
             "#b8e186"
            ],
            [
             0.8,
             "#7fbc41"
            ],
            [
             0.9,
             "#4d9221"
            ],
            [
             1,
             "#276419"
            ]
           ],
           "sequential": [
            [
             0,
             "#0d0887"
            ],
            [
             0.1111111111111111,
             "#46039f"
            ],
            [
             0.2222222222222222,
             "#7201a8"
            ],
            [
             0.3333333333333333,
             "#9c179e"
            ],
            [
             0.4444444444444444,
             "#bd3786"
            ],
            [
             0.5555555555555556,
             "#d8576b"
            ],
            [
             0.6666666666666666,
             "#ed7953"
            ],
            [
             0.7777777777777778,
             "#fb9f3a"
            ],
            [
             0.8888888888888888,
             "#fdca26"
            ],
            [
             1,
             "#f0f921"
            ]
           ],
           "sequentialminus": [
            [
             0,
             "#0d0887"
            ],
            [
             0.1111111111111111,
             "#46039f"
            ],
            [
             0.2222222222222222,
             "#7201a8"
            ],
            [
             0.3333333333333333,
             "#9c179e"
            ],
            [
             0.4444444444444444,
             "#bd3786"
            ],
            [
             0.5555555555555556,
             "#d8576b"
            ],
            [
             0.6666666666666666,
             "#ed7953"
            ],
            [
             0.7777777777777778,
             "#fb9f3a"
            ],
            [
             0.8888888888888888,
             "#fdca26"
            ],
            [
             1,
             "#f0f921"
            ]
           ]
          },
          "colorway": [
           "#636efa",
           "#EF553B",
           "#00cc96",
           "#ab63fa",
           "#FFA15A",
           "#19d3f3",
           "#FF6692",
           "#B6E880",
           "#FF97FF",
           "#FECB52"
          ],
          "font": {
           "color": "#2a3f5f"
          },
          "geo": {
           "bgcolor": "white",
           "lakecolor": "white",
           "landcolor": "#E5ECF6",
           "showlakes": true,
           "showland": true,
           "subunitcolor": "white"
          },
          "hoverlabel": {
           "align": "left"
          },
          "hovermode": "closest",
          "mapbox": {
           "style": "light"
          },
          "paper_bgcolor": "white",
          "plot_bgcolor": "#E5ECF6",
          "polar": {
           "angularaxis": {
            "gridcolor": "white",
            "linecolor": "white",
            "ticks": ""
           },
           "bgcolor": "#E5ECF6",
           "radialaxis": {
            "gridcolor": "white",
            "linecolor": "white",
            "ticks": ""
           }
          },
          "scene": {
           "xaxis": {
            "backgroundcolor": "#E5ECF6",
            "gridcolor": "white",
            "gridwidth": 2,
            "linecolor": "white",
            "showbackground": true,
            "ticks": "",
            "zerolinecolor": "white"
           },
           "yaxis": {
            "backgroundcolor": "#E5ECF6",
            "gridcolor": "white",
            "gridwidth": 2,
            "linecolor": "white",
            "showbackground": true,
            "ticks": "",
            "zerolinecolor": "white"
           },
           "zaxis": {
            "backgroundcolor": "#E5ECF6",
            "gridcolor": "white",
            "gridwidth": 2,
            "linecolor": "white",
            "showbackground": true,
            "ticks": "",
            "zerolinecolor": "white"
           }
          },
          "shapedefaults": {
           "line": {
            "color": "#2a3f5f"
           }
          },
          "ternary": {
           "aaxis": {
            "gridcolor": "white",
            "linecolor": "white",
            "ticks": ""
           },
           "baxis": {
            "gridcolor": "white",
            "linecolor": "white",
            "ticks": ""
           },
           "bgcolor": "#E5ECF6",
           "caxis": {
            "gridcolor": "white",
            "linecolor": "white",
            "ticks": ""
           }
          },
          "title": {
           "x": 0.05
          },
          "xaxis": {
           "automargin": true,
           "gridcolor": "white",
           "linecolor": "white",
           "ticks": "",
           "title": {
            "standoff": 15
           },
           "zerolinecolor": "white",
           "zerolinewidth": 2
          },
          "yaxis": {
           "automargin": true,
           "gridcolor": "white",
           "linecolor": "white",
           "ticks": "",
           "title": {
            "standoff": 15
           },
           "zerolinecolor": "white",
           "zerolinewidth": 2
          }
         }
        },
        "title": {
         "text": "Indeed Data Scientist Job Openings Forecast via VARMAX Model"
        },
        "xaxis": {
         "anchor": "y",
         "domain": [
          0,
          1
         ]
        },
        "xaxis2": {
         "anchor": "y2",
         "domain": [
          0,
          0.45
         ]
        },
        "xaxis3": {
         "anchor": "y3",
         "domain": [
          0.55,
          1
         ]
        },
        "yaxis": {
         "anchor": "x",
         "domain": [
          0.625,
          1
         ]
        },
        "yaxis2": {
         "anchor": "x2",
         "domain": [
          0,
          0.375
         ]
        },
        "yaxis3": {
         "anchor": "x3",
         "domain": [
          0,
          0.375
         ]
        }
       }
      },
      "text/html": [
       "<div>\n",
       "        \n",
       "        \n",
       "            <div id=\"cc34c28b-a88c-4854-942c-d84d776123fb\" class=\"plotly-graph-div\" style=\"height:525px; width:100%;\"></div>\n",
       "            <script type=\"text/javascript\">\n",
       "                require([\"plotly\"], function(Plotly) {\n",
       "                    window.PLOTLYENV=window.PLOTLYENV || {};\n",
       "                    \n",
       "                if (document.getElementById(\"cc34c28b-a88c-4854-942c-d84d776123fb\")) {\n",
       "                    Plotly.newPlot(\n",
       "                        'cc34c28b-a88c-4854-942c-d84d776123fb',\n",
       "                        [{\"mode\": \"lines+markers\", \"name\": \"Train\", \"showlegend\": false, \"type\": \"scatter\", \"x\": [\"2020-05-19T00:00:00\", \"2020-05-20T00:00:00\", \"2020-05-21T00:00:00\", \"2020-05-22T00:00:00\", \"2020-05-23T00:00:00\", \"2020-05-24T00:00:00\", \"2020-05-25T00:00:00\", \"2020-05-26T00:00:00\", \"2020-05-27T00:00:00\", \"2020-05-28T00:00:00\", \"2020-05-29T00:00:00\", \"2020-05-30T00:00:00\", \"2020-05-31T00:00:00\", \"2020-06-01T00:00:00\", \"2020-06-02T00:00:00\", \"2020-06-03T00:00:00\", \"2020-06-04T00:00:00\", \"2020-06-05T00:00:00\", \"2020-06-06T00:00:00\", \"2020-06-07T00:00:00\", \"2020-06-08T00:00:00\", \"2020-06-09T00:00:00\", \"2020-06-10T00:00:00\", \"2020-06-11T00:00:00\", \"2020-06-12T00:00:00\", \"2020-06-13T00:00:00\", \"2020-06-14T00:00:00\", \"2020-06-15T00:00:00\", \"2020-06-16T00:00:00\", \"2020-06-17T00:00:00\", \"2020-06-18T00:00:00\", \"2020-06-19T00:00:00\", \"2020-06-20T00:00:00\", \"2020-06-21T00:00:00\", \"2020-06-22T00:00:00\", \"2020-06-23T00:00:00\", \"2020-06-24T00:00:00\", \"2020-06-25T00:00:00\", \"2020-06-26T00:00:00\", \"2020-06-27T00:00:00\", \"2020-06-28T00:00:00\", \"2020-06-29T00:00:00\", \"2020-06-30T00:00:00\", \"2020-07-01T00:00:00\", \"2020-07-02T00:00:00\", \"2020-07-03T00:00:00\", \"2020-07-04T00:00:00\", \"2020-07-05T00:00:00\", \"2020-07-06T00:00:00\", \"2020-07-07T00:00:00\", \"2020-07-08T00:00:00\", \"2020-07-09T00:00:00\", \"2020-07-10T00:00:00\", \"2020-07-11T00:00:00\", \"2020-07-12T00:00:00\", \"2020-07-13T00:00:00\", \"2020-07-14T00:00:00\", \"2020-07-15T00:00:00\", \"2020-07-16T00:00:00\", \"2020-07-17T00:00:00\", \"2020-07-18T00:00:00\", \"2020-07-19T00:00:00\", \"2020-07-20T00:00:00\", \"2020-07-21T00:00:00\", \"2020-07-22T00:00:00\", \"2020-07-23T00:00:00\", \"2020-07-24T00:00:00\", \"2020-07-25T00:00:00\", \"2020-07-26T00:00:00\", \"2020-07-27T00:00:00\", \"2020-07-28T00:00:00\", \"2020-07-29T00:00:00\", \"2020-07-30T00:00:00\", \"2020-07-31T00:00:00\", \"2020-08-01T00:00:00\", \"2020-08-02T00:00:00\", \"2020-08-03T00:00:00\", \"2020-08-04T00:00:00\", \"2020-08-05T00:00:00\", \"2020-08-06T00:00:00\", \"2020-08-07T00:00:00\", \"2020-08-08T00:00:00\"], \"xaxis\": \"x\", \"y\": [45, 57, 47, 51, 51, 8, 3, 15, 53, 71, 66, 58, 9, 17, 76, 73, 104, 80, 58, 5, 17, 78, 84, 115, 150, 102, 12, 29, 127, 223, 90, 94, 16, 2, 67, 80, 111, 97, 124, 27, 7, 62, 216, 130, 90, 48, 26, 36, 99, 226, 231, 234, 193, 89, 23, 344, 285, 276, 231, 96, 147, 16, 86, 254, 231, 272, 203, 139, 14, 196, 209, 284, 311, 495, 142, 21, 73, 175, 129, 220, 163, 82], \"yaxis\": \"y\"}, {\"line\": {\"color\": \"green\"}, \"mode\": \"lines+markers\", \"name\": \"Test\", \"showlegend\": false, \"type\": \"scatter\", \"x\": [\"2020-08-09T00:00:00\", \"2020-08-10T00:00:00\", \"2020-08-11T00:00:00\", \"2020-08-12T00:00:00\", \"2020-08-13T00:00:00\", \"2020-08-14T00:00:00\", \"2020-08-15T00:00:00\"], \"xaxis\": \"x2\", \"y\": [12, 136, 177, 205, 196, 256, 94], \"yaxis\": \"y2\"}, {\"line\": {\"color\": \"red\"}, \"mode\": \"lines+markers\", \"name\": \"Prediction\", \"showlegend\": false, \"type\": \"scatter\", \"x\": [\"2020-08-09T00:00:00\", \"2020-08-10T00:00:00\", \"2020-08-11T00:00:00\", \"2020-08-12T00:00:00\", \"2020-08-13T00:00:00\", \"2020-08-14T00:00:00\", \"2020-08-15T00:00:00\"], \"xaxis\": \"x2\", \"y\": [20.980634704802686, 162.06730052134466, 187.30351356187205, 223.29050422331932, 179.08832641645614, 216.29912657197397, 91.92887273707137], \"yaxis\": \"y2\"}, {\"line\": {\"color\": \"green\"}, \"mode\": \"lines+markers\", \"name\": \"Test\", \"showlegend\": true, \"type\": \"scatter\", \"x\": [\"2020-08-09T00:00:00\", \"2020-08-10T00:00:00\", \"2020-08-11T00:00:00\", \"2020-08-12T00:00:00\", \"2020-08-13T00:00:00\", \"2020-08-14T00:00:00\", \"2020-08-15T00:00:00\"], \"xaxis\": \"x3\", \"y\": [12, 136, 177, 205, 196, 256, 94], \"yaxis\": \"y3\"}, {\"line\": {\"color\": \"red\"}, \"mode\": \"lines+markers\", \"name\": \"Prediction\", \"showlegend\": true, \"type\": \"scatter\", \"x\": [\"2020-08-09T00:00:00\", \"2020-08-10T00:00:00\", \"2020-08-11T00:00:00\", \"2020-08-12T00:00:00\", \"2020-08-13T00:00:00\", \"2020-08-14T00:00:00\", \"2020-08-15T00:00:00\"], \"xaxis\": \"x3\", \"y\": [36.00543968051222, 150.09144950249092, 159.93359457586214, 215.8378247875157, 187.01014092096923, 236.9079661066639, 90.11634863224646], \"yaxis\": \"y3\"}],\n",
       "                        {\"annotations\": [{\"font\": {\"size\": 16}, \"showarrow\": false, \"text\": \"Train data\", \"x\": 0.5, \"xanchor\": \"center\", \"xref\": \"paper\", \"y\": 1.0, \"yanchor\": \"bottom\", \"yref\": \"paper\"}, {\"font\": {\"size\": 16}, \"showarrow\": false, \"text\": \"No eXog, RMSE: 20.93\", \"x\": 0.225, \"xanchor\": \"center\", \"xref\": \"paper\", \"y\": 0.375, \"yanchor\": \"bottom\", \"yref\": \"paper\"}, {\"font\": {\"size\": 16}, \"showarrow\": false, \"text\": \"X=Weekend, RMSE: 15.32\", \"x\": 0.775, \"xanchor\": \"center\", \"xref\": \"paper\", \"y\": 0.375, \"yanchor\": \"bottom\", \"yref\": \"paper\"}], \"legend\": {\"x\": 1, \"y\": 0.25}, \"template\": {\"data\": {\"bar\": [{\"error_x\": {\"color\": \"#2a3f5f\"}, \"error_y\": {\"color\": \"#2a3f5f\"}, \"marker\": {\"line\": {\"color\": \"#E5ECF6\", \"width\": 0.5}}, \"type\": \"bar\"}], \"barpolar\": [{\"marker\": {\"line\": {\"color\": \"#E5ECF6\", \"width\": 0.5}}, \"type\": \"barpolar\"}], \"carpet\": [{\"aaxis\": {\"endlinecolor\": \"#2a3f5f\", \"gridcolor\": \"white\", \"linecolor\": \"white\", \"minorgridcolor\": \"white\", \"startlinecolor\": \"#2a3f5f\"}, \"baxis\": {\"endlinecolor\": \"#2a3f5f\", \"gridcolor\": \"white\", \"linecolor\": \"white\", \"minorgridcolor\": \"white\", \"startlinecolor\": \"#2a3f5f\"}, \"type\": \"carpet\"}], \"choropleth\": [{\"colorbar\": {\"outlinewidth\": 0, \"ticks\": \"\"}, \"type\": \"choropleth\"}], \"contour\": [{\"colorbar\": {\"outlinewidth\": 0, \"ticks\": \"\"}, \"colorscale\": [[0.0, \"#0d0887\"], [0.1111111111111111, \"#46039f\"], [0.2222222222222222, \"#7201a8\"], [0.3333333333333333, \"#9c179e\"], [0.4444444444444444, \"#bd3786\"], [0.5555555555555556, \"#d8576b\"], [0.6666666666666666, \"#ed7953\"], [0.7777777777777778, \"#fb9f3a\"], [0.8888888888888888, \"#fdca26\"], [1.0, \"#f0f921\"]], \"type\": \"contour\"}], \"contourcarpet\": [{\"colorbar\": {\"outlinewidth\": 0, \"ticks\": \"\"}, \"type\": \"contourcarpet\"}], \"heatmap\": [{\"colorbar\": {\"outlinewidth\": 0, \"ticks\": \"\"}, \"colorscale\": [[0.0, \"#0d0887\"], [0.1111111111111111, \"#46039f\"], [0.2222222222222222, \"#7201a8\"], [0.3333333333333333, \"#9c179e\"], [0.4444444444444444, \"#bd3786\"], [0.5555555555555556, \"#d8576b\"], [0.6666666666666666, \"#ed7953\"], [0.7777777777777778, \"#fb9f3a\"], [0.8888888888888888, \"#fdca26\"], [1.0, \"#f0f921\"]], \"type\": \"heatmap\"}], \"heatmapgl\": [{\"colorbar\": {\"outlinewidth\": 0, \"ticks\": \"\"}, \"colorscale\": [[0.0, \"#0d0887\"], [0.1111111111111111, \"#46039f\"], [0.2222222222222222, \"#7201a8\"], [0.3333333333333333, \"#9c179e\"], [0.4444444444444444, \"#bd3786\"], [0.5555555555555556, \"#d8576b\"], [0.6666666666666666, \"#ed7953\"], [0.7777777777777778, \"#fb9f3a\"], [0.8888888888888888, \"#fdca26\"], [1.0, \"#f0f921\"]], \"type\": \"heatmapgl\"}], \"histogram\": [{\"marker\": {\"colorbar\": {\"outlinewidth\": 0, \"ticks\": \"\"}}, \"type\": \"histogram\"}], \"histogram2d\": [{\"colorbar\": {\"outlinewidth\": 0, \"ticks\": \"\"}, \"colorscale\": [[0.0, \"#0d0887\"], [0.1111111111111111, \"#46039f\"], [0.2222222222222222, \"#7201a8\"], [0.3333333333333333, \"#9c179e\"], [0.4444444444444444, \"#bd3786\"], [0.5555555555555556, \"#d8576b\"], [0.6666666666666666, \"#ed7953\"], [0.7777777777777778, \"#fb9f3a\"], [0.8888888888888888, \"#fdca26\"], [1.0, \"#f0f921\"]], \"type\": \"histogram2d\"}], \"histogram2dcontour\": [{\"colorbar\": {\"outlinewidth\": 0, \"ticks\": \"\"}, \"colorscale\": [[0.0, \"#0d0887\"], [0.1111111111111111, \"#46039f\"], [0.2222222222222222, \"#7201a8\"], [0.3333333333333333, \"#9c179e\"], [0.4444444444444444, \"#bd3786\"], [0.5555555555555556, \"#d8576b\"], [0.6666666666666666, \"#ed7953\"], [0.7777777777777778, \"#fb9f3a\"], [0.8888888888888888, \"#fdca26\"], [1.0, \"#f0f921\"]], \"type\": \"histogram2dcontour\"}], \"mesh3d\": [{\"colorbar\": {\"outlinewidth\": 0, \"ticks\": \"\"}, \"type\": \"mesh3d\"}], \"parcoords\": [{\"line\": {\"colorbar\": {\"outlinewidth\": 0, \"ticks\": \"\"}}, \"type\": \"parcoords\"}], \"pie\": [{\"automargin\": true, \"type\": \"pie\"}], \"scatter\": [{\"marker\": {\"colorbar\": {\"outlinewidth\": 0, \"ticks\": \"\"}}, \"type\": \"scatter\"}], \"scatter3d\": [{\"line\": {\"colorbar\": {\"outlinewidth\": 0, \"ticks\": \"\"}}, \"marker\": {\"colorbar\": {\"outlinewidth\": 0, \"ticks\": \"\"}}, \"type\": \"scatter3d\"}], \"scattercarpet\": [{\"marker\": {\"colorbar\": {\"outlinewidth\": 0, \"ticks\": \"\"}}, \"type\": \"scattercarpet\"}], \"scattergeo\": [{\"marker\": {\"colorbar\": {\"outlinewidth\": 0, \"ticks\": \"\"}}, \"type\": \"scattergeo\"}], \"scattergl\": [{\"marker\": {\"colorbar\": {\"outlinewidth\": 0, \"ticks\": \"\"}}, \"type\": \"scattergl\"}], \"scattermapbox\": [{\"marker\": {\"colorbar\": {\"outlinewidth\": 0, \"ticks\": \"\"}}, \"type\": \"scattermapbox\"}], \"scatterpolar\": [{\"marker\": {\"colorbar\": {\"outlinewidth\": 0, \"ticks\": \"\"}}, \"type\": \"scatterpolar\"}], \"scatterpolargl\": [{\"marker\": {\"colorbar\": {\"outlinewidth\": 0, \"ticks\": \"\"}}, \"type\": \"scatterpolargl\"}], \"scatterternary\": [{\"marker\": {\"colorbar\": {\"outlinewidth\": 0, \"ticks\": \"\"}}, \"type\": \"scatterternary\"}], \"surface\": [{\"colorbar\": {\"outlinewidth\": 0, \"ticks\": \"\"}, \"colorscale\": [[0.0, \"#0d0887\"], [0.1111111111111111, \"#46039f\"], [0.2222222222222222, \"#7201a8\"], [0.3333333333333333, \"#9c179e\"], [0.4444444444444444, \"#bd3786\"], [0.5555555555555556, \"#d8576b\"], [0.6666666666666666, \"#ed7953\"], [0.7777777777777778, \"#fb9f3a\"], [0.8888888888888888, \"#fdca26\"], [1.0, \"#f0f921\"]], \"type\": \"surface\"}], \"table\": [{\"cells\": {\"fill\": {\"color\": \"#EBF0F8\"}, \"line\": {\"color\": \"white\"}}, \"header\": {\"fill\": {\"color\": \"#C8D4E3\"}, \"line\": {\"color\": \"white\"}}, \"type\": \"table\"}]}, \"layout\": {\"annotationdefaults\": {\"arrowcolor\": \"#2a3f5f\", \"arrowhead\": 0, \"arrowwidth\": 1}, \"coloraxis\": {\"colorbar\": {\"outlinewidth\": 0, \"ticks\": \"\"}}, \"colorscale\": {\"diverging\": [[0, \"#8e0152\"], [0.1, \"#c51b7d\"], [0.2, \"#de77ae\"], [0.3, \"#f1b6da\"], [0.4, \"#fde0ef\"], [0.5, \"#f7f7f7\"], [0.6, \"#e6f5d0\"], [0.7, \"#b8e186\"], [0.8, \"#7fbc41\"], [0.9, \"#4d9221\"], [1, \"#276419\"]], \"sequential\": [[0.0, \"#0d0887\"], [0.1111111111111111, \"#46039f\"], [0.2222222222222222, \"#7201a8\"], [0.3333333333333333, \"#9c179e\"], [0.4444444444444444, \"#bd3786\"], [0.5555555555555556, \"#d8576b\"], [0.6666666666666666, \"#ed7953\"], [0.7777777777777778, \"#fb9f3a\"], [0.8888888888888888, \"#fdca26\"], [1.0, \"#f0f921\"]], \"sequentialminus\": [[0.0, \"#0d0887\"], [0.1111111111111111, \"#46039f\"], [0.2222222222222222, \"#7201a8\"], [0.3333333333333333, \"#9c179e\"], [0.4444444444444444, \"#bd3786\"], [0.5555555555555556, \"#d8576b\"], [0.6666666666666666, \"#ed7953\"], [0.7777777777777778, \"#fb9f3a\"], [0.8888888888888888, \"#fdca26\"], [1.0, \"#f0f921\"]]}, \"colorway\": [\"#636efa\", \"#EF553B\", \"#00cc96\", \"#ab63fa\", \"#FFA15A\", \"#19d3f3\", \"#FF6692\", \"#B6E880\", \"#FF97FF\", \"#FECB52\"], \"font\": {\"color\": \"#2a3f5f\"}, \"geo\": {\"bgcolor\": \"white\", \"lakecolor\": \"white\", \"landcolor\": \"#E5ECF6\", \"showlakes\": true, \"showland\": true, \"subunitcolor\": \"white\"}, \"hoverlabel\": {\"align\": \"left\"}, \"hovermode\": \"closest\", \"mapbox\": {\"style\": \"light\"}, \"paper_bgcolor\": \"white\", \"plot_bgcolor\": \"#E5ECF6\", \"polar\": {\"angularaxis\": {\"gridcolor\": \"white\", \"linecolor\": \"white\", \"ticks\": \"\"}, \"bgcolor\": \"#E5ECF6\", \"radialaxis\": {\"gridcolor\": \"white\", \"linecolor\": \"white\", \"ticks\": \"\"}}, \"scene\": {\"xaxis\": {\"backgroundcolor\": \"#E5ECF6\", \"gridcolor\": \"white\", \"gridwidth\": 2, \"linecolor\": \"white\", \"showbackground\": true, \"ticks\": \"\", \"zerolinecolor\": \"white\"}, \"yaxis\": {\"backgroundcolor\": \"#E5ECF6\", \"gridcolor\": \"white\", \"gridwidth\": 2, \"linecolor\": \"white\", \"showbackground\": true, \"ticks\": \"\", \"zerolinecolor\": \"white\"}, \"zaxis\": {\"backgroundcolor\": \"#E5ECF6\", \"gridcolor\": \"white\", \"gridwidth\": 2, \"linecolor\": \"white\", \"showbackground\": true, \"ticks\": \"\", \"zerolinecolor\": \"white\"}}, \"shapedefaults\": {\"line\": {\"color\": \"#2a3f5f\"}}, \"ternary\": {\"aaxis\": {\"gridcolor\": \"white\", \"linecolor\": \"white\", \"ticks\": \"\"}, \"baxis\": {\"gridcolor\": \"white\", \"linecolor\": \"white\", \"ticks\": \"\"}, \"bgcolor\": \"#E5ECF6\", \"caxis\": {\"gridcolor\": \"white\", \"linecolor\": \"white\", \"ticks\": \"\"}}, \"title\": {\"x\": 0.05}, \"xaxis\": {\"automargin\": true, \"gridcolor\": \"white\", \"linecolor\": \"white\", \"ticks\": \"\", \"title\": {\"standoff\": 15}, \"zerolinecolor\": \"white\", \"zerolinewidth\": 2}, \"yaxis\": {\"automargin\": true, \"gridcolor\": \"white\", \"linecolor\": \"white\", \"ticks\": \"\", \"title\": {\"standoff\": 15}, \"zerolinecolor\": \"white\", \"zerolinewidth\": 2}}}, \"title\": {\"text\": \"Indeed Data Scientist Job Openings Forecast via VARMAX Model\"}, \"xaxis\": {\"anchor\": \"y\", \"domain\": [0.0, 1.0]}, \"xaxis2\": {\"anchor\": \"y2\", \"domain\": [0.0, 0.45]}, \"xaxis3\": {\"anchor\": \"y3\", \"domain\": [0.55, 1.0]}, \"yaxis\": {\"anchor\": \"x\", \"domain\": [0.625, 1.0]}, \"yaxis2\": {\"anchor\": \"x2\", \"domain\": [0.0, 0.375]}, \"yaxis3\": {\"anchor\": \"x3\", \"domain\": [0.0, 0.375]}},\n",
       "                        {\"responsive\": true}\n",
       "                    ).then(function(){\n",
       "                            \n",
       "var gd = document.getElementById('cc34c28b-a88c-4854-942c-d84d776123fb');\n",
       "var x = new MutationObserver(function (mutations, observer) {{\n",
       "        var display = window.getComputedStyle(gd).display;\n",
       "        if (!display || display === 'none') {{\n",
       "            console.log([gd, 'removed!']);\n",
       "            Plotly.purge(gd);\n",
       "            observer.disconnect();\n",
       "        }}\n",
       "}});\n",
       "\n",
       "// Listen for the removal of the full notebook cells\n",
       "var notebookContainer = gd.closest('#notebook-container');\n",
       "if (notebookContainer) {{\n",
       "    x.observe(notebookContainer, {childList: true});\n",
       "}}\n",
       "\n",
       "// Listen for the clearing of the current output cell\n",
       "var outputEl = gd.closest('.output');\n",
       "if (outputEl) {{\n",
       "    x.observe(outputEl, {childList: true});\n",
       "}}\n",
       "\n",
       "                        })\n",
       "                };\n",
       "                });\n",
       "            </script>\n",
       "        </div>"
      ]
     },
     "metadata": {},
     "output_type": "display_data"
    }
   ],
   "source": [
    "fig = make_subplots(\n",
    "    rows=2, cols=2,\n",
    "    specs=[[{\"colspan\": 2}, None],[{}, {}]],\n",
    "    subplot_titles=(\"Train data\",'No eXog, RMSE: {:0.2f}'.format(error_in_varma), 'X=Weekend, RMSE: {:0.2f}'.format(error_in_varmax)))\n",
    "\n",
    "fig.add_trace(go.Scatter(x=train.index, y=train['Jobnums'], mode='lines+markers',name='Train', showlegend=False), row=1, col=1)\n",
    "fig.add_trace(go.Scatter(x=test.index, y=test['Jobnums'], mode='lines+markers',line=dict(color='green'), name='Test', showlegend=False), row=2, col=1)\n",
    "fig.add_trace(go.Scatter(x=test.index, y=yhat_in_varma[\"Jobnums\"], mode='lines+markers',line=dict(color='red'), name='Prediction',showlegend=False),row=2, col=1)\n",
    "#fig.add_trace(go.Scatter(x=pred_cix.index, y=pred_ci.iloc[:,1], fill=None, mode='lines',line=dict(width=0.0,color='lightgray'),showlegend=False), row=2, col=1)\n",
    "#fig.add_trace(go.Scatter(x=pred_cix.index, y=pred_ci.iloc[:,3], fill='tonexty', mode='lines',line=dict(width=0.0,color='lightgray'),showlegend=False),row=2, col=1)\n",
    "fig.add_trace(go.Scatter(x=test.index, y=test['Jobnums'], mode='lines+markers', line=dict(color='green'), name='Test',showlegend=True), row=2, col=2)\n",
    "fig.add_trace(go.Scatter(x=test.index, y=yhat_in_varmax[\"Jobnums\"], mode='lines+markers', line=dict(color='red'), name='Prediction',showlegend=True),row=2, col=2)\n",
    "#fig.add_trace(go.Scatter(x=pred_cix.index, y=pred_u, fill=None, mode='lines',line=dict(width=0.0,color='lightgray'),showlegend=False), row=2, col=2)\n",
    "#fig.add_trace(go.Scatter(x=pred_cix.index, y=pred_l, fill='tonexty', mode='lines',line=dict(width=0.0,color='lightgray'),showlegend=False),row=2, col=2)\n",
    "fig.update_layout(title='Indeed Data Scientist Job Openings Forecast via VARMAX Model',legend=dict(x=1,y=0.25))\n",
    "fig.show()"
   ]
  },
  {
   "cell_type": "markdown",
   "metadata": {},
   "source": [
    "### Forecast the future"
   ]
  },
  {
   "cell_type": "code",
   "execution_count": 57,
   "metadata": {},
   "outputs": [
    {
     "data": {
      "text/html": [
       "<div>\n",
       "<style scoped>\n",
       "    .dataframe tbody tr th:only-of-type {\n",
       "        vertical-align: middle;\n",
       "    }\n",
       "\n",
       "    .dataframe tbody tr th {\n",
       "        vertical-align: top;\n",
       "    }\n",
       "\n",
       "    .dataframe thead th {\n",
       "        text-align: right;\n",
       "    }\n",
       "</style>\n",
       "<table border=\"1\" class=\"dataframe\">\n",
       "  <thead>\n",
       "    <tr style=\"text-align: right;\">\n",
       "      <th></th>\n",
       "      <th>Date</th>\n",
       "      <th>Day of week</th>\n",
       "      <th>Weekend</th>\n",
       "    </tr>\n",
       "    <tr>\n",
       "      <th>Date</th>\n",
       "      <th></th>\n",
       "      <th></th>\n",
       "      <th></th>\n",
       "    </tr>\n",
       "  </thead>\n",
       "  <tbody>\n",
       "    <tr>\n",
       "      <td>2020-08-16</td>\n",
       "      <td>2020-08-16</td>\n",
       "      <td>Sun</td>\n",
       "      <td>1</td>\n",
       "    </tr>\n",
       "    <tr>\n",
       "      <td>2020-08-17</td>\n",
       "      <td>2020-08-17</td>\n",
       "      <td>Mon</td>\n",
       "      <td>0</td>\n",
       "    </tr>\n",
       "    <tr>\n",
       "      <td>2020-08-18</td>\n",
       "      <td>2020-08-18</td>\n",
       "      <td>Tue</td>\n",
       "      <td>0</td>\n",
       "    </tr>\n",
       "    <tr>\n",
       "      <td>2020-08-19</td>\n",
       "      <td>2020-08-19</td>\n",
       "      <td>Wed</td>\n",
       "      <td>0</td>\n",
       "    </tr>\n",
       "    <tr>\n",
       "      <td>2020-08-20</td>\n",
       "      <td>2020-08-20</td>\n",
       "      <td>Thu</td>\n",
       "      <td>0</td>\n",
       "    </tr>\n",
       "    <tr>\n",
       "      <td>2020-08-21</td>\n",
       "      <td>2020-08-21</td>\n",
       "      <td>Fri</td>\n",
       "      <td>0</td>\n",
       "    </tr>\n",
       "    <tr>\n",
       "      <td>2020-08-22</td>\n",
       "      <td>2020-08-22</td>\n",
       "      <td>Sat</td>\n",
       "      <td>1</td>\n",
       "    </tr>\n",
       "  </tbody>\n",
       "</table>\n",
       "</div>"
      ],
      "text/plain": [
       "                 Date Day of week  Weekend\n",
       "Date                                      \n",
       "2020-08-16 2020-08-16         Sun        1\n",
       "2020-08-17 2020-08-17         Mon        0\n",
       "2020-08-18 2020-08-18         Tue        0\n",
       "2020-08-19 2020-08-19         Wed        0\n",
       "2020-08-20 2020-08-20         Thu        0\n",
       "2020-08-21 2020-08-21         Fri        0\n",
       "2020-08-22 2020-08-22         Sat        1"
      ]
     },
     "execution_count": 57,
     "metadata": {},
     "output_type": "execute_result"
    }
   ],
   "source": [
    "df_indeed_future = pd.DataFrame(columns=['Date', 'Day of week', 'Weekend'])\n",
    "df_indeed_future['Date'] = pd.date_range('2020-08-16', '2020-08-22')\n",
    "df_indeed_future.set_index('Date', inplace=True, drop=False)\n",
    "df_indeed_future['Day of week'] = df_indeed_future['Date'].apply(lambda x: week[x.weekday()])\n",
    "df_indeed_future['Weekend'] = df_indeed_future['Day of week'].apply(lambda x: 1 if (x=='Sun') or (x=='Sat') else 0)\n",
    "df_indeed_future"
   ]
  },
  {
   "cell_type": "code",
   "execution_count": 58,
   "metadata": {},
   "outputs": [],
   "source": [
    "n_test = 7\n",
    "best_cfg = [(6, 1), 't', 0]\n",
    "train = df_combined_indeed[['New','Jobnums']]\n",
    "exog_train = df_combined_indeed[['Weekend']]\n",
    "exog_test = df_indeed_future[['Weekend']]\n",
    "indeed_pred = pd.DataFrame()\n",
    "history = train.copy()\n",
    "exog_ = [x[:] for x in exog_train.values]\n",
    "for i in range(n_test):\n",
    "    yhat = varmax_forecast(history, 1, best_cfg, exog1=exog_, exog2=np.array(exog_test.iloc[i]).reshape(1,-1))\n",
    "    indeed_pred = indeed_pred.append(yhat)\n",
    "    history = history.append(yhat)\n",
    "    exog_.append(np.array(exog_test.iloc[i]))"
   ]
  },
  {
   "cell_type": "code",
   "execution_count": 59,
   "metadata": {},
   "outputs": [
    {
     "data": {
      "application/vnd.plotly.v1+json": {
       "config": {
        "plotlyServerURL": "https://plot.ly"
       },
       "data": [
        {
         "marker": {
          "color": "royalblue",
          "size": 8
         },
         "mode": "lines+markers",
         "name": "Train",
         "type": "scatter",
         "x": [
          "2020-05-19T00:00:00",
          "2020-05-20T00:00:00",
          "2020-05-21T00:00:00",
          "2020-05-22T00:00:00",
          "2020-05-23T00:00:00",
          "2020-05-24T00:00:00",
          "2020-05-25T00:00:00",
          "2020-05-26T00:00:00",
          "2020-05-27T00:00:00",
          "2020-05-28T00:00:00",
          "2020-05-29T00:00:00",
          "2020-05-30T00:00:00",
          "2020-05-31T00:00:00",
          "2020-06-01T00:00:00",
          "2020-06-02T00:00:00",
          "2020-06-03T00:00:00",
          "2020-06-04T00:00:00",
          "2020-06-05T00:00:00",
          "2020-06-06T00:00:00",
          "2020-06-07T00:00:00",
          "2020-06-08T00:00:00",
          "2020-06-09T00:00:00",
          "2020-06-10T00:00:00",
          "2020-06-11T00:00:00",
          "2020-06-12T00:00:00",
          "2020-06-13T00:00:00",
          "2020-06-14T00:00:00",
          "2020-06-15T00:00:00",
          "2020-06-16T00:00:00",
          "2020-06-17T00:00:00",
          "2020-06-18T00:00:00",
          "2020-06-19T00:00:00",
          "2020-06-20T00:00:00",
          "2020-06-21T00:00:00",
          "2020-06-22T00:00:00",
          "2020-06-23T00:00:00",
          "2020-06-24T00:00:00",
          "2020-06-25T00:00:00",
          "2020-06-26T00:00:00",
          "2020-06-27T00:00:00",
          "2020-06-28T00:00:00",
          "2020-06-29T00:00:00",
          "2020-06-30T00:00:00",
          "2020-07-01T00:00:00",
          "2020-07-02T00:00:00",
          "2020-07-03T00:00:00",
          "2020-07-04T00:00:00",
          "2020-07-05T00:00:00",
          "2020-07-06T00:00:00",
          "2020-07-07T00:00:00",
          "2020-07-08T00:00:00",
          "2020-07-09T00:00:00",
          "2020-07-10T00:00:00",
          "2020-07-11T00:00:00",
          "2020-07-12T00:00:00",
          "2020-07-13T00:00:00",
          "2020-07-14T00:00:00",
          "2020-07-15T00:00:00",
          "2020-07-16T00:00:00",
          "2020-07-17T00:00:00",
          "2020-07-18T00:00:00",
          "2020-07-19T00:00:00",
          "2020-07-20T00:00:00",
          "2020-07-21T00:00:00",
          "2020-07-22T00:00:00",
          "2020-07-23T00:00:00",
          "2020-07-24T00:00:00",
          "2020-07-25T00:00:00",
          "2020-07-26T00:00:00",
          "2020-07-27T00:00:00",
          "2020-07-28T00:00:00",
          "2020-07-29T00:00:00",
          "2020-07-30T00:00:00",
          "2020-07-31T00:00:00",
          "2020-08-01T00:00:00",
          "2020-08-02T00:00:00",
          "2020-08-03T00:00:00",
          "2020-08-04T00:00:00",
          "2020-08-05T00:00:00",
          "2020-08-06T00:00:00",
          "2020-08-07T00:00:00",
          "2020-08-08T00:00:00",
          "2020-08-09T00:00:00",
          "2020-08-10T00:00:00",
          "2020-08-11T00:00:00",
          "2020-08-12T00:00:00",
          "2020-08-13T00:00:00",
          "2020-08-14T00:00:00",
          "2020-08-15T00:00:00"
         ],
         "y": [
          45,
          57,
          47,
          51,
          51,
          8,
          3,
          15,
          53,
          71,
          66,
          58,
          9,
          17,
          76,
          73,
          104,
          80,
          58,
          5,
          17,
          78,
          84,
          115,
          150,
          102,
          12,
          29,
          127,
          223,
          90,
          94,
          16,
          2,
          67,
          80,
          111,
          97,
          124,
          27,
          7,
          62,
          216,
          130,
          90,
          48,
          26,
          36,
          99,
          226,
          231,
          234,
          193,
          89,
          23,
          344,
          285,
          276,
          231,
          96,
          147,
          16,
          86,
          254,
          231,
          272,
          203,
          139,
          14,
          196,
          209,
          284,
          311,
          495,
          142,
          21,
          73,
          175,
          129,
          220,
          163,
          82,
          12,
          136,
          177,
          205,
          196,
          256,
          94
         ]
        },
        {
         "marker": {
          "color": "red",
          "size": 8
         },
         "mode": "lines+markers",
         "name": "Future Forecast",
         "type": "scatter",
         "x": [
          "2020-08-16T00:00:00",
          "2020-08-17T00:00:00",
          "2020-08-18T00:00:00",
          "2020-08-19T00:00:00",
          "2020-08-20T00:00:00",
          "2020-08-21T00:00:00",
          "2020-08-22T00:00:00"
         ],
         "y": [
          95.39852326734338,
          161.56715915196912,
          226.5518189972736,
          185.22525366389044,
          261.1208554783981,
          200.18960656039278,
          151.4796086029672
         ]
        }
       ],
       "layout": {
        "annotations": [
         {
          "arrowhead": 2,
          "arrowsize": 1,
          "arrowwidth": 2,
          "ax": 10,
          "ay": -70,
          "font": {
           "size": 16
          },
          "text": "Future<br>forecast",
          "x": "2020-08-18",
          "y": 285
         }
        ],
        "height": 500,
        "legend": {
         "font": {
          "size": 16
         },
         "x": 0.05,
         "y": 0.95
        },
        "margin": {
         "b": 0,
         "l": 0,
         "r": 10,
         "t": 90
        },
        "shapes": [
         {
          "fillcolor": "LightSalmon",
          "layer": "below",
          "line": {
           "width": 0
          },
          "opacity": 0.2,
          "type": "rect",
          "x0": "2020-08-16T00:00:00",
          "x1": "2020-08-22T00:00:00",
          "xref": "x",
          "y0": 0,
          "y1": 1,
          "yref": "paper"
         }
        ],
        "template": {
         "data": {
          "bar": [
           {
            "error_x": {
             "color": "#2a3f5f"
            },
            "error_y": {
             "color": "#2a3f5f"
            },
            "marker": {
             "line": {
              "color": "#E5ECF6",
              "width": 0.5
             }
            },
            "type": "bar"
           }
          ],
          "barpolar": [
           {
            "marker": {
             "line": {
              "color": "#E5ECF6",
              "width": 0.5
             }
            },
            "type": "barpolar"
           }
          ],
          "carpet": [
           {
            "aaxis": {
             "endlinecolor": "#2a3f5f",
             "gridcolor": "white",
             "linecolor": "white",
             "minorgridcolor": "white",
             "startlinecolor": "#2a3f5f"
            },
            "baxis": {
             "endlinecolor": "#2a3f5f",
             "gridcolor": "white",
             "linecolor": "white",
             "minorgridcolor": "white",
             "startlinecolor": "#2a3f5f"
            },
            "type": "carpet"
           }
          ],
          "choropleth": [
           {
            "colorbar": {
             "outlinewidth": 0,
             "ticks": ""
            },
            "type": "choropleth"
           }
          ],
          "contour": [
           {
            "colorbar": {
             "outlinewidth": 0,
             "ticks": ""
            },
            "colorscale": [
             [
              0,
              "#0d0887"
             ],
             [
              0.1111111111111111,
              "#46039f"
             ],
             [
              0.2222222222222222,
              "#7201a8"
             ],
             [
              0.3333333333333333,
              "#9c179e"
             ],
             [
              0.4444444444444444,
              "#bd3786"
             ],
             [
              0.5555555555555556,
              "#d8576b"
             ],
             [
              0.6666666666666666,
              "#ed7953"
             ],
             [
              0.7777777777777778,
              "#fb9f3a"
             ],
             [
              0.8888888888888888,
              "#fdca26"
             ],
             [
              1,
              "#f0f921"
             ]
            ],
            "type": "contour"
           }
          ],
          "contourcarpet": [
           {
            "colorbar": {
             "outlinewidth": 0,
             "ticks": ""
            },
            "type": "contourcarpet"
           }
          ],
          "heatmap": [
           {
            "colorbar": {
             "outlinewidth": 0,
             "ticks": ""
            },
            "colorscale": [
             [
              0,
              "#0d0887"
             ],
             [
              0.1111111111111111,
              "#46039f"
             ],
             [
              0.2222222222222222,
              "#7201a8"
             ],
             [
              0.3333333333333333,
              "#9c179e"
             ],
             [
              0.4444444444444444,
              "#bd3786"
             ],
             [
              0.5555555555555556,
              "#d8576b"
             ],
             [
              0.6666666666666666,
              "#ed7953"
             ],
             [
              0.7777777777777778,
              "#fb9f3a"
             ],
             [
              0.8888888888888888,
              "#fdca26"
             ],
             [
              1,
              "#f0f921"
             ]
            ],
            "type": "heatmap"
           }
          ],
          "heatmapgl": [
           {
            "colorbar": {
             "outlinewidth": 0,
             "ticks": ""
            },
            "colorscale": [
             [
              0,
              "#0d0887"
             ],
             [
              0.1111111111111111,
              "#46039f"
             ],
             [
              0.2222222222222222,
              "#7201a8"
             ],
             [
              0.3333333333333333,
              "#9c179e"
             ],
             [
              0.4444444444444444,
              "#bd3786"
             ],
             [
              0.5555555555555556,
              "#d8576b"
             ],
             [
              0.6666666666666666,
              "#ed7953"
             ],
             [
              0.7777777777777778,
              "#fb9f3a"
             ],
             [
              0.8888888888888888,
              "#fdca26"
             ],
             [
              1,
              "#f0f921"
             ]
            ],
            "type": "heatmapgl"
           }
          ],
          "histogram": [
           {
            "marker": {
             "colorbar": {
              "outlinewidth": 0,
              "ticks": ""
             }
            },
            "type": "histogram"
           }
          ],
          "histogram2d": [
           {
            "colorbar": {
             "outlinewidth": 0,
             "ticks": ""
            },
            "colorscale": [
             [
              0,
              "#0d0887"
             ],
             [
              0.1111111111111111,
              "#46039f"
             ],
             [
              0.2222222222222222,
              "#7201a8"
             ],
             [
              0.3333333333333333,
              "#9c179e"
             ],
             [
              0.4444444444444444,
              "#bd3786"
             ],
             [
              0.5555555555555556,
              "#d8576b"
             ],
             [
              0.6666666666666666,
              "#ed7953"
             ],
             [
              0.7777777777777778,
              "#fb9f3a"
             ],
             [
              0.8888888888888888,
              "#fdca26"
             ],
             [
              1,
              "#f0f921"
             ]
            ],
            "type": "histogram2d"
           }
          ],
          "histogram2dcontour": [
           {
            "colorbar": {
             "outlinewidth": 0,
             "ticks": ""
            },
            "colorscale": [
             [
              0,
              "#0d0887"
             ],
             [
              0.1111111111111111,
              "#46039f"
             ],
             [
              0.2222222222222222,
              "#7201a8"
             ],
             [
              0.3333333333333333,
              "#9c179e"
             ],
             [
              0.4444444444444444,
              "#bd3786"
             ],
             [
              0.5555555555555556,
              "#d8576b"
             ],
             [
              0.6666666666666666,
              "#ed7953"
             ],
             [
              0.7777777777777778,
              "#fb9f3a"
             ],
             [
              0.8888888888888888,
              "#fdca26"
             ],
             [
              1,
              "#f0f921"
             ]
            ],
            "type": "histogram2dcontour"
           }
          ],
          "mesh3d": [
           {
            "colorbar": {
             "outlinewidth": 0,
             "ticks": ""
            },
            "type": "mesh3d"
           }
          ],
          "parcoords": [
           {
            "line": {
             "colorbar": {
              "outlinewidth": 0,
              "ticks": ""
             }
            },
            "type": "parcoords"
           }
          ],
          "pie": [
           {
            "automargin": true,
            "type": "pie"
           }
          ],
          "scatter": [
           {
            "marker": {
             "colorbar": {
              "outlinewidth": 0,
              "ticks": ""
             }
            },
            "type": "scatter"
           }
          ],
          "scatter3d": [
           {
            "line": {
             "colorbar": {
              "outlinewidth": 0,
              "ticks": ""
             }
            },
            "marker": {
             "colorbar": {
              "outlinewidth": 0,
              "ticks": ""
             }
            },
            "type": "scatter3d"
           }
          ],
          "scattercarpet": [
           {
            "marker": {
             "colorbar": {
              "outlinewidth": 0,
              "ticks": ""
             }
            },
            "type": "scattercarpet"
           }
          ],
          "scattergeo": [
           {
            "marker": {
             "colorbar": {
              "outlinewidth": 0,
              "ticks": ""
             }
            },
            "type": "scattergeo"
           }
          ],
          "scattergl": [
           {
            "marker": {
             "colorbar": {
              "outlinewidth": 0,
              "ticks": ""
             }
            },
            "type": "scattergl"
           }
          ],
          "scattermapbox": [
           {
            "marker": {
             "colorbar": {
              "outlinewidth": 0,
              "ticks": ""
             }
            },
            "type": "scattermapbox"
           }
          ],
          "scatterpolar": [
           {
            "marker": {
             "colorbar": {
              "outlinewidth": 0,
              "ticks": ""
             }
            },
            "type": "scatterpolar"
           }
          ],
          "scatterpolargl": [
           {
            "marker": {
             "colorbar": {
              "outlinewidth": 0,
              "ticks": ""
             }
            },
            "type": "scatterpolargl"
           }
          ],
          "scatterternary": [
           {
            "marker": {
             "colorbar": {
              "outlinewidth": 0,
              "ticks": ""
             }
            },
            "type": "scatterternary"
           }
          ],
          "surface": [
           {
            "colorbar": {
             "outlinewidth": 0,
             "ticks": ""
            },
            "colorscale": [
             [
              0,
              "#0d0887"
             ],
             [
              0.1111111111111111,
              "#46039f"
             ],
             [
              0.2222222222222222,
              "#7201a8"
             ],
             [
              0.3333333333333333,
              "#9c179e"
             ],
             [
              0.4444444444444444,
              "#bd3786"
             ],
             [
              0.5555555555555556,
              "#d8576b"
             ],
             [
              0.6666666666666666,
              "#ed7953"
             ],
             [
              0.7777777777777778,
              "#fb9f3a"
             ],
             [
              0.8888888888888888,
              "#fdca26"
             ],
             [
              1,
              "#f0f921"
             ]
            ],
            "type": "surface"
           }
          ],
          "table": [
           {
            "cells": {
             "fill": {
              "color": "#EBF0F8"
             },
             "line": {
              "color": "white"
             }
            },
            "header": {
             "fill": {
              "color": "#C8D4E3"
             },
             "line": {
              "color": "white"
             }
            },
            "type": "table"
           }
          ]
         },
         "layout": {
          "annotationdefaults": {
           "arrowcolor": "#2a3f5f",
           "arrowhead": 0,
           "arrowwidth": 1
          },
          "coloraxis": {
           "colorbar": {
            "outlinewidth": 0,
            "ticks": ""
           }
          },
          "colorscale": {
           "diverging": [
            [
             0,
             "#8e0152"
            ],
            [
             0.1,
             "#c51b7d"
            ],
            [
             0.2,
             "#de77ae"
            ],
            [
             0.3,
             "#f1b6da"
            ],
            [
             0.4,
             "#fde0ef"
            ],
            [
             0.5,
             "#f7f7f7"
            ],
            [
             0.6,
             "#e6f5d0"
            ],
            [
             0.7,
             "#b8e186"
            ],
            [
             0.8,
             "#7fbc41"
            ],
            [
             0.9,
             "#4d9221"
            ],
            [
             1,
             "#276419"
            ]
           ],
           "sequential": [
            [
             0,
             "#0d0887"
            ],
            [
             0.1111111111111111,
             "#46039f"
            ],
            [
             0.2222222222222222,
             "#7201a8"
            ],
            [
             0.3333333333333333,
             "#9c179e"
            ],
            [
             0.4444444444444444,
             "#bd3786"
            ],
            [
             0.5555555555555556,
             "#d8576b"
            ],
            [
             0.6666666666666666,
             "#ed7953"
            ],
            [
             0.7777777777777778,
             "#fb9f3a"
            ],
            [
             0.8888888888888888,
             "#fdca26"
            ],
            [
             1,
             "#f0f921"
            ]
           ],
           "sequentialminus": [
            [
             0,
             "#0d0887"
            ],
            [
             0.1111111111111111,
             "#46039f"
            ],
            [
             0.2222222222222222,
             "#7201a8"
            ],
            [
             0.3333333333333333,
             "#9c179e"
            ],
            [
             0.4444444444444444,
             "#bd3786"
            ],
            [
             0.5555555555555556,
             "#d8576b"
            ],
            [
             0.6666666666666666,
             "#ed7953"
            ],
            [
             0.7777777777777778,
             "#fb9f3a"
            ],
            [
             0.8888888888888888,
             "#fdca26"
            ],
            [
             1,
             "#f0f921"
            ]
           ]
          },
          "colorway": [
           "#636efa",
           "#EF553B",
           "#00cc96",
           "#ab63fa",
           "#FFA15A",
           "#19d3f3",
           "#FF6692",
           "#B6E880",
           "#FF97FF",
           "#FECB52"
          ],
          "font": {
           "color": "#2a3f5f"
          },
          "geo": {
           "bgcolor": "white",
           "lakecolor": "white",
           "landcolor": "#E5ECF6",
           "showlakes": true,
           "showland": true,
           "subunitcolor": "white"
          },
          "hoverlabel": {
           "align": "left"
          },
          "hovermode": "closest",
          "mapbox": {
           "style": "light"
          },
          "paper_bgcolor": "white",
          "plot_bgcolor": "#E5ECF6",
          "polar": {
           "angularaxis": {
            "gridcolor": "white",
            "linecolor": "white",
            "ticks": ""
           },
           "bgcolor": "#E5ECF6",
           "radialaxis": {
            "gridcolor": "white",
            "linecolor": "white",
            "ticks": ""
           }
          },
          "scene": {
           "xaxis": {
            "backgroundcolor": "#E5ECF6",
            "gridcolor": "white",
            "gridwidth": 2,
            "linecolor": "white",
            "showbackground": true,
            "ticks": "",
            "zerolinecolor": "white"
           },
           "yaxis": {
            "backgroundcolor": "#E5ECF6",
            "gridcolor": "white",
            "gridwidth": 2,
            "linecolor": "white",
            "showbackground": true,
            "ticks": "",
            "zerolinecolor": "white"
           },
           "zaxis": {
            "backgroundcolor": "#E5ECF6",
            "gridcolor": "white",
            "gridwidth": 2,
            "linecolor": "white",
            "showbackground": true,
            "ticks": "",
            "zerolinecolor": "white"
           }
          },
          "shapedefaults": {
           "line": {
            "color": "#2a3f5f"
           }
          },
          "ternary": {
           "aaxis": {
            "gridcolor": "white",
            "linecolor": "white",
            "ticks": ""
           },
           "baxis": {
            "gridcolor": "white",
            "linecolor": "white",
            "ticks": ""
           },
           "bgcolor": "#E5ECF6",
           "caxis": {
            "gridcolor": "white",
            "linecolor": "white",
            "ticks": ""
           }
          },
          "title": {
           "x": 0.05
          },
          "xaxis": {
           "automargin": true,
           "gridcolor": "white",
           "linecolor": "white",
           "ticks": "",
           "title": {
            "standoff": 15
           },
           "zerolinecolor": "white",
           "zerolinewidth": 2
          },
          "yaxis": {
           "automargin": true,
           "gridcolor": "white",
           "linecolor": "white",
           "ticks": "",
           "title": {
            "standoff": 15
           },
           "zerolinecolor": "white",
           "zerolinewidth": 2
          }
         }
        },
        "title": {
         "font": {
          "size": 20
         },
         "text": "Indeed Data Scientist Open Positions Future Forecast (VARMAX Model)",
         "x": 0.52,
         "xanchor": "center",
         "y": 0.9,
         "yanchor": "top"
        },
        "width": 900,
        "xaxis": {
         "tickfont": {
          "size": 16
         },
         "title": {
          "font": {
           "size": 18
          },
          "standoff": 0,
          "text": "Post date"
         }
        },
        "yaxis": {
         "tickfont": {
          "size": 16
         },
         "title": {
          "font": {
           "size": 18
          },
          "text": "Job numbers"
         }
        }
       }
      },
      "text/html": [
       "<div>\n",
       "        \n",
       "        \n",
       "            <div id=\"f679a49c-0252-425a-8ed4-188909dc6f50\" class=\"plotly-graph-div\" style=\"height:500px; width:900px;\"></div>\n",
       "            <script type=\"text/javascript\">\n",
       "                require([\"plotly\"], function(Plotly) {\n",
       "                    window.PLOTLYENV=window.PLOTLYENV || {};\n",
       "                    \n",
       "                if (document.getElementById(\"f679a49c-0252-425a-8ed4-188909dc6f50\")) {\n",
       "                    Plotly.newPlot(\n",
       "                        'f679a49c-0252-425a-8ed4-188909dc6f50',\n",
       "                        [{\"marker\": {\"color\": \"royalblue\", \"size\": 8}, \"mode\": \"lines+markers\", \"name\": \"Train\", \"type\": \"scatter\", \"x\": [\"2020-05-19T00:00:00\", \"2020-05-20T00:00:00\", \"2020-05-21T00:00:00\", \"2020-05-22T00:00:00\", \"2020-05-23T00:00:00\", \"2020-05-24T00:00:00\", \"2020-05-25T00:00:00\", \"2020-05-26T00:00:00\", \"2020-05-27T00:00:00\", \"2020-05-28T00:00:00\", \"2020-05-29T00:00:00\", \"2020-05-30T00:00:00\", \"2020-05-31T00:00:00\", \"2020-06-01T00:00:00\", \"2020-06-02T00:00:00\", \"2020-06-03T00:00:00\", \"2020-06-04T00:00:00\", \"2020-06-05T00:00:00\", \"2020-06-06T00:00:00\", \"2020-06-07T00:00:00\", \"2020-06-08T00:00:00\", \"2020-06-09T00:00:00\", \"2020-06-10T00:00:00\", \"2020-06-11T00:00:00\", \"2020-06-12T00:00:00\", \"2020-06-13T00:00:00\", \"2020-06-14T00:00:00\", \"2020-06-15T00:00:00\", \"2020-06-16T00:00:00\", \"2020-06-17T00:00:00\", \"2020-06-18T00:00:00\", \"2020-06-19T00:00:00\", \"2020-06-20T00:00:00\", \"2020-06-21T00:00:00\", \"2020-06-22T00:00:00\", \"2020-06-23T00:00:00\", \"2020-06-24T00:00:00\", \"2020-06-25T00:00:00\", \"2020-06-26T00:00:00\", \"2020-06-27T00:00:00\", \"2020-06-28T00:00:00\", \"2020-06-29T00:00:00\", \"2020-06-30T00:00:00\", \"2020-07-01T00:00:00\", \"2020-07-02T00:00:00\", \"2020-07-03T00:00:00\", \"2020-07-04T00:00:00\", \"2020-07-05T00:00:00\", \"2020-07-06T00:00:00\", \"2020-07-07T00:00:00\", \"2020-07-08T00:00:00\", \"2020-07-09T00:00:00\", \"2020-07-10T00:00:00\", \"2020-07-11T00:00:00\", \"2020-07-12T00:00:00\", \"2020-07-13T00:00:00\", \"2020-07-14T00:00:00\", \"2020-07-15T00:00:00\", \"2020-07-16T00:00:00\", \"2020-07-17T00:00:00\", \"2020-07-18T00:00:00\", \"2020-07-19T00:00:00\", \"2020-07-20T00:00:00\", \"2020-07-21T00:00:00\", \"2020-07-22T00:00:00\", \"2020-07-23T00:00:00\", \"2020-07-24T00:00:00\", \"2020-07-25T00:00:00\", \"2020-07-26T00:00:00\", \"2020-07-27T00:00:00\", \"2020-07-28T00:00:00\", \"2020-07-29T00:00:00\", \"2020-07-30T00:00:00\", \"2020-07-31T00:00:00\", \"2020-08-01T00:00:00\", \"2020-08-02T00:00:00\", \"2020-08-03T00:00:00\", \"2020-08-04T00:00:00\", \"2020-08-05T00:00:00\", \"2020-08-06T00:00:00\", \"2020-08-07T00:00:00\", \"2020-08-08T00:00:00\", \"2020-08-09T00:00:00\", \"2020-08-10T00:00:00\", \"2020-08-11T00:00:00\", \"2020-08-12T00:00:00\", \"2020-08-13T00:00:00\", \"2020-08-14T00:00:00\", \"2020-08-15T00:00:00\"], \"y\": [45, 57, 47, 51, 51, 8, 3, 15, 53, 71, 66, 58, 9, 17, 76, 73, 104, 80, 58, 5, 17, 78, 84, 115, 150, 102, 12, 29, 127, 223, 90, 94, 16, 2, 67, 80, 111, 97, 124, 27, 7, 62, 216, 130, 90, 48, 26, 36, 99, 226, 231, 234, 193, 89, 23, 344, 285, 276, 231, 96, 147, 16, 86, 254, 231, 272, 203, 139, 14, 196, 209, 284, 311, 495, 142, 21, 73, 175, 129, 220, 163, 82, 12, 136, 177, 205, 196, 256, 94]}, {\"marker\": {\"color\": \"red\", \"size\": 8}, \"mode\": \"lines+markers\", \"name\": \"Future Forecast\", \"type\": \"scatter\", \"x\": [\"2020-08-16T00:00:00\", \"2020-08-17T00:00:00\", \"2020-08-18T00:00:00\", \"2020-08-19T00:00:00\", \"2020-08-20T00:00:00\", \"2020-08-21T00:00:00\", \"2020-08-22T00:00:00\"], \"y\": [95.39852326734338, 161.56715915196912, 226.5518189972736, 185.22525366389044, 261.1208554783981, 200.18960656039278, 151.4796086029672]}],\n",
       "                        {\"annotations\": [{\"arrowhead\": 2, \"arrowsize\": 1, \"arrowwidth\": 2, \"ax\": 10, \"ay\": -70, \"font\": {\"size\": 16}, \"text\": \"Future<br>forecast\", \"x\": \"2020-08-18\", \"y\": 285}], \"height\": 500, \"legend\": {\"font\": {\"size\": 16}, \"x\": 0.05, \"y\": 0.95}, \"margin\": {\"b\": 0, \"l\": 0, \"r\": 10, \"t\": 90}, \"shapes\": [{\"fillcolor\": \"LightSalmon\", \"layer\": \"below\", \"line\": {\"width\": 0}, \"opacity\": 0.2, \"type\": \"rect\", \"x0\": \"2020-08-16T00:00:00\", \"x1\": \"2020-08-22T00:00:00\", \"xref\": \"x\", \"y0\": 0, \"y1\": 1, \"yref\": \"paper\"}], \"template\": {\"data\": {\"bar\": [{\"error_x\": {\"color\": \"#2a3f5f\"}, \"error_y\": {\"color\": \"#2a3f5f\"}, \"marker\": {\"line\": {\"color\": \"#E5ECF6\", \"width\": 0.5}}, \"type\": \"bar\"}], \"barpolar\": [{\"marker\": {\"line\": {\"color\": \"#E5ECF6\", \"width\": 0.5}}, \"type\": \"barpolar\"}], \"carpet\": [{\"aaxis\": {\"endlinecolor\": \"#2a3f5f\", \"gridcolor\": \"white\", \"linecolor\": \"white\", \"minorgridcolor\": \"white\", \"startlinecolor\": \"#2a3f5f\"}, \"baxis\": {\"endlinecolor\": \"#2a3f5f\", \"gridcolor\": \"white\", \"linecolor\": \"white\", \"minorgridcolor\": \"white\", \"startlinecolor\": \"#2a3f5f\"}, \"type\": \"carpet\"}], \"choropleth\": [{\"colorbar\": {\"outlinewidth\": 0, \"ticks\": \"\"}, \"type\": \"choropleth\"}], \"contour\": [{\"colorbar\": {\"outlinewidth\": 0, \"ticks\": \"\"}, \"colorscale\": [[0.0, \"#0d0887\"], [0.1111111111111111, \"#46039f\"], [0.2222222222222222, \"#7201a8\"], [0.3333333333333333, \"#9c179e\"], [0.4444444444444444, \"#bd3786\"], [0.5555555555555556, \"#d8576b\"], [0.6666666666666666, \"#ed7953\"], [0.7777777777777778, \"#fb9f3a\"], [0.8888888888888888, \"#fdca26\"], [1.0, \"#f0f921\"]], \"type\": \"contour\"}], \"contourcarpet\": [{\"colorbar\": {\"outlinewidth\": 0, \"ticks\": \"\"}, \"type\": \"contourcarpet\"}], \"heatmap\": [{\"colorbar\": {\"outlinewidth\": 0, \"ticks\": \"\"}, \"colorscale\": [[0.0, \"#0d0887\"], [0.1111111111111111, \"#46039f\"], [0.2222222222222222, \"#7201a8\"], [0.3333333333333333, \"#9c179e\"], [0.4444444444444444, \"#bd3786\"], [0.5555555555555556, \"#d8576b\"], [0.6666666666666666, \"#ed7953\"], [0.7777777777777778, \"#fb9f3a\"], [0.8888888888888888, \"#fdca26\"], [1.0, \"#f0f921\"]], \"type\": \"heatmap\"}], \"heatmapgl\": [{\"colorbar\": {\"outlinewidth\": 0, \"ticks\": \"\"}, \"colorscale\": [[0.0, \"#0d0887\"], [0.1111111111111111, \"#46039f\"], [0.2222222222222222, \"#7201a8\"], [0.3333333333333333, \"#9c179e\"], [0.4444444444444444, \"#bd3786\"], [0.5555555555555556, \"#d8576b\"], [0.6666666666666666, \"#ed7953\"], [0.7777777777777778, \"#fb9f3a\"], [0.8888888888888888, \"#fdca26\"], [1.0, \"#f0f921\"]], \"type\": \"heatmapgl\"}], \"histogram\": [{\"marker\": {\"colorbar\": {\"outlinewidth\": 0, \"ticks\": \"\"}}, \"type\": \"histogram\"}], \"histogram2d\": [{\"colorbar\": {\"outlinewidth\": 0, \"ticks\": \"\"}, \"colorscale\": [[0.0, \"#0d0887\"], [0.1111111111111111, \"#46039f\"], [0.2222222222222222, \"#7201a8\"], [0.3333333333333333, \"#9c179e\"], [0.4444444444444444, \"#bd3786\"], [0.5555555555555556, \"#d8576b\"], [0.6666666666666666, \"#ed7953\"], [0.7777777777777778, \"#fb9f3a\"], [0.8888888888888888, \"#fdca26\"], [1.0, \"#f0f921\"]], \"type\": \"histogram2d\"}], \"histogram2dcontour\": [{\"colorbar\": {\"outlinewidth\": 0, \"ticks\": \"\"}, \"colorscale\": [[0.0, \"#0d0887\"], [0.1111111111111111, \"#46039f\"], [0.2222222222222222, \"#7201a8\"], [0.3333333333333333, \"#9c179e\"], [0.4444444444444444, \"#bd3786\"], [0.5555555555555556, \"#d8576b\"], [0.6666666666666666, \"#ed7953\"], [0.7777777777777778, \"#fb9f3a\"], [0.8888888888888888, \"#fdca26\"], [1.0, \"#f0f921\"]], \"type\": \"histogram2dcontour\"}], \"mesh3d\": [{\"colorbar\": {\"outlinewidth\": 0, \"ticks\": \"\"}, \"type\": \"mesh3d\"}], \"parcoords\": [{\"line\": {\"colorbar\": {\"outlinewidth\": 0, \"ticks\": \"\"}}, \"type\": \"parcoords\"}], \"pie\": [{\"automargin\": true, \"type\": \"pie\"}], \"scatter\": [{\"marker\": {\"colorbar\": {\"outlinewidth\": 0, \"ticks\": \"\"}}, \"type\": \"scatter\"}], \"scatter3d\": [{\"line\": {\"colorbar\": {\"outlinewidth\": 0, \"ticks\": \"\"}}, \"marker\": {\"colorbar\": {\"outlinewidth\": 0, \"ticks\": \"\"}}, \"type\": \"scatter3d\"}], \"scattercarpet\": [{\"marker\": {\"colorbar\": {\"outlinewidth\": 0, \"ticks\": \"\"}}, \"type\": \"scattercarpet\"}], \"scattergeo\": [{\"marker\": {\"colorbar\": {\"outlinewidth\": 0, \"ticks\": \"\"}}, \"type\": \"scattergeo\"}], \"scattergl\": [{\"marker\": {\"colorbar\": {\"outlinewidth\": 0, \"ticks\": \"\"}}, \"type\": \"scattergl\"}], \"scattermapbox\": [{\"marker\": {\"colorbar\": {\"outlinewidth\": 0, \"ticks\": \"\"}}, \"type\": \"scattermapbox\"}], \"scatterpolar\": [{\"marker\": {\"colorbar\": {\"outlinewidth\": 0, \"ticks\": \"\"}}, \"type\": \"scatterpolar\"}], \"scatterpolargl\": [{\"marker\": {\"colorbar\": {\"outlinewidth\": 0, \"ticks\": \"\"}}, \"type\": \"scatterpolargl\"}], \"scatterternary\": [{\"marker\": {\"colorbar\": {\"outlinewidth\": 0, \"ticks\": \"\"}}, \"type\": \"scatterternary\"}], \"surface\": [{\"colorbar\": {\"outlinewidth\": 0, \"ticks\": \"\"}, \"colorscale\": [[0.0, \"#0d0887\"], [0.1111111111111111, \"#46039f\"], [0.2222222222222222, \"#7201a8\"], [0.3333333333333333, \"#9c179e\"], [0.4444444444444444, \"#bd3786\"], [0.5555555555555556, \"#d8576b\"], [0.6666666666666666, \"#ed7953\"], [0.7777777777777778, \"#fb9f3a\"], [0.8888888888888888, \"#fdca26\"], [1.0, \"#f0f921\"]], \"type\": \"surface\"}], \"table\": [{\"cells\": {\"fill\": {\"color\": \"#EBF0F8\"}, \"line\": {\"color\": \"white\"}}, \"header\": {\"fill\": {\"color\": \"#C8D4E3\"}, \"line\": {\"color\": \"white\"}}, \"type\": \"table\"}]}, \"layout\": {\"annotationdefaults\": {\"arrowcolor\": \"#2a3f5f\", \"arrowhead\": 0, \"arrowwidth\": 1}, \"coloraxis\": {\"colorbar\": {\"outlinewidth\": 0, \"ticks\": \"\"}}, \"colorscale\": {\"diverging\": [[0, \"#8e0152\"], [0.1, \"#c51b7d\"], [0.2, \"#de77ae\"], [0.3, \"#f1b6da\"], [0.4, \"#fde0ef\"], [0.5, \"#f7f7f7\"], [0.6, \"#e6f5d0\"], [0.7, \"#b8e186\"], [0.8, \"#7fbc41\"], [0.9, \"#4d9221\"], [1, \"#276419\"]], \"sequential\": [[0.0, \"#0d0887\"], [0.1111111111111111, \"#46039f\"], [0.2222222222222222, \"#7201a8\"], [0.3333333333333333, \"#9c179e\"], [0.4444444444444444, \"#bd3786\"], [0.5555555555555556, \"#d8576b\"], [0.6666666666666666, \"#ed7953\"], [0.7777777777777778, \"#fb9f3a\"], [0.8888888888888888, \"#fdca26\"], [1.0, \"#f0f921\"]], \"sequentialminus\": [[0.0, \"#0d0887\"], [0.1111111111111111, \"#46039f\"], [0.2222222222222222, \"#7201a8\"], [0.3333333333333333, \"#9c179e\"], [0.4444444444444444, \"#bd3786\"], [0.5555555555555556, \"#d8576b\"], [0.6666666666666666, \"#ed7953\"], [0.7777777777777778, \"#fb9f3a\"], [0.8888888888888888, \"#fdca26\"], [1.0, \"#f0f921\"]]}, \"colorway\": [\"#636efa\", \"#EF553B\", \"#00cc96\", \"#ab63fa\", \"#FFA15A\", \"#19d3f3\", \"#FF6692\", \"#B6E880\", \"#FF97FF\", \"#FECB52\"], \"font\": {\"color\": \"#2a3f5f\"}, \"geo\": {\"bgcolor\": \"white\", \"lakecolor\": \"white\", \"landcolor\": \"#E5ECF6\", \"showlakes\": true, \"showland\": true, \"subunitcolor\": \"white\"}, \"hoverlabel\": {\"align\": \"left\"}, \"hovermode\": \"closest\", \"mapbox\": {\"style\": \"light\"}, \"paper_bgcolor\": \"white\", \"plot_bgcolor\": \"#E5ECF6\", \"polar\": {\"angularaxis\": {\"gridcolor\": \"white\", \"linecolor\": \"white\", \"ticks\": \"\"}, \"bgcolor\": \"#E5ECF6\", \"radialaxis\": {\"gridcolor\": \"white\", \"linecolor\": \"white\", \"ticks\": \"\"}}, \"scene\": {\"xaxis\": {\"backgroundcolor\": \"#E5ECF6\", \"gridcolor\": \"white\", \"gridwidth\": 2, \"linecolor\": \"white\", \"showbackground\": true, \"ticks\": \"\", \"zerolinecolor\": \"white\"}, \"yaxis\": {\"backgroundcolor\": \"#E5ECF6\", \"gridcolor\": \"white\", \"gridwidth\": 2, \"linecolor\": \"white\", \"showbackground\": true, \"ticks\": \"\", \"zerolinecolor\": \"white\"}, \"zaxis\": {\"backgroundcolor\": \"#E5ECF6\", \"gridcolor\": \"white\", \"gridwidth\": 2, \"linecolor\": \"white\", \"showbackground\": true, \"ticks\": \"\", \"zerolinecolor\": \"white\"}}, \"shapedefaults\": {\"line\": {\"color\": \"#2a3f5f\"}}, \"ternary\": {\"aaxis\": {\"gridcolor\": \"white\", \"linecolor\": \"white\", \"ticks\": \"\"}, \"baxis\": {\"gridcolor\": \"white\", \"linecolor\": \"white\", \"ticks\": \"\"}, \"bgcolor\": \"#E5ECF6\", \"caxis\": {\"gridcolor\": \"white\", \"linecolor\": \"white\", \"ticks\": \"\"}}, \"title\": {\"x\": 0.05}, \"xaxis\": {\"automargin\": true, \"gridcolor\": \"white\", \"linecolor\": \"white\", \"ticks\": \"\", \"title\": {\"standoff\": 15}, \"zerolinecolor\": \"white\", \"zerolinewidth\": 2}, \"yaxis\": {\"automargin\": true, \"gridcolor\": \"white\", \"linecolor\": \"white\", \"ticks\": \"\", \"title\": {\"standoff\": 15}, \"zerolinecolor\": \"white\", \"zerolinewidth\": 2}}}, \"title\": {\"font\": {\"size\": 20}, \"text\": \"Indeed Data Scientist Open Positions Future Forecast (VARMAX Model)\", \"x\": 0.52, \"xanchor\": \"center\", \"y\": 0.9, \"yanchor\": \"top\"}, \"width\": 900, \"xaxis\": {\"tickfont\": {\"size\": 16}, \"title\": {\"font\": {\"size\": 18}, \"standoff\": 0, \"text\": \"Post date\"}}, \"yaxis\": {\"tickfont\": {\"size\": 16}, \"title\": {\"font\": {\"size\": 18}, \"text\": \"Job numbers\"}}},\n",
       "                        {\"responsive\": true}\n",
       "                    ).then(function(){\n",
       "                            \n",
       "var gd = document.getElementById('f679a49c-0252-425a-8ed4-188909dc6f50');\n",
       "var x = new MutationObserver(function (mutations, observer) {{\n",
       "        var display = window.getComputedStyle(gd).display;\n",
       "        if (!display || display === 'none') {{\n",
       "            console.log([gd, 'removed!']);\n",
       "            Plotly.purge(gd);\n",
       "            observer.disconnect();\n",
       "        }}\n",
       "}});\n",
       "\n",
       "// Listen for the removal of the full notebook cells\n",
       "var notebookContainer = gd.closest('#notebook-container');\n",
       "if (notebookContainer) {{\n",
       "    x.observe(notebookContainer, {childList: true});\n",
       "}}\n",
       "\n",
       "// Listen for the clearing of the current output cell\n",
       "var outputEl = gd.closest('.output');\n",
       "if (outputEl) {{\n",
       "    x.observe(outputEl, {childList: true});\n",
       "}}\n",
       "\n",
       "                        })\n",
       "                };\n",
       "                });\n",
       "            </script>\n",
       "        </div>"
      ]
     },
     "metadata": {},
     "output_type": "display_data"
    }
   ],
   "source": [
    "fig = go.Figure()\n",
    "\n",
    "fig.update_layout(\n",
    "    shapes=[\n",
    "        dict(\n",
    "            type=\"rect\",\n",
    "            xref=\"x\",\n",
    "            yref=\"paper\",\n",
    "            x0=df_indeed_future.index[0],\n",
    "            y0=0,\n",
    "            x1=df_indeed_future.index[-1],\n",
    "            y1=1,\n",
    "            fillcolor=\"LightSalmon\",\n",
    "            opacity=0.2,\n",
    "            layer=\"below\",\n",
    "            line_width=0,\n",
    "        )\n",
    "    ]\n",
    ")\n",
    "\n",
    "fig.add_trace(go.Scatter(x=df_combined_indeed.index, y=df_combined_indeed['Jobnums'], mode='lines+markers', \n",
    "                         marker=dict(size=8, color='royalblue'), name='Train'))\n",
    "\n",
    "fig.add_trace(go.Scatter(x=df_indeed_future.index, y=indeed_pred['Jobnums'], mode='lines+markers', \n",
    "                         marker=dict(size=8, color='red'), name='Future Forecast'))\n",
    "#fig.add_trace(go.Scatter(x=df_indeed_future.index, y=yhat_fcast['Jobnums'], mode='lines+markers', \n",
    "#                         marker=dict(size=8, color='green'), name='Future Forecast'))\n",
    "\n",
    "# fig.add_trace(go.Scatter(x=df_indeed_future.index, y=pred_ci.iloc[:,1],\n",
    "#                          fill='tonexty',\n",
    "#                          mode='lines', line_color='lightgrey',line_width=0,\n",
    "#                          showlegend=False))\n",
    "# fig.add_trace(go.Scatter(x=df_indeed_future.index, y=pred_ci.iloc[:,0],\n",
    "#                          fill='tonexty',\n",
    "#                          mode='lines', line_color='grey', opacity=0.1, line_width=0,\n",
    "#                          showlegend=False))\n",
    "\n",
    "fig.add_annotation(\n",
    "            x='2020-08-18',\n",
    "            y=285,\n",
    "            text=\"Future<br>forecast\",\n",
    "            font=dict(size=16),\n",
    "            arrowhead=2,\n",
    "            arrowsize=1,\n",
    "            arrowwidth=2,\n",
    "            ax=10,\n",
    "            ay=-70,)\n",
    "\n",
    "fig.update_layout(title={'text': \"Indeed Data Scientist Open Positions Future Forecast (VARMAX Model)\", \n",
    "                         'y':0.9, 'x':0.52,\n",
    "                         'xanchor': 'center',\n",
    "                         'yanchor': 'top'},\n",
    "                  width=900,\n",
    "                  height=500,\n",
    "                  titlefont=dict(size=20),\n",
    "                  xaxis=dict(title=dict(text='Post date', standoff=0), titlefont=dict(size=18), tickfont=dict(size=16)),\n",
    "                  yaxis=dict(title=dict(text='Job numbers'), titlefont=dict(size=18), tickfont=dict(size=16)),\n",
    "                  legend=dict(font=dict(size=16), x=0.05, y=0.95),\n",
    "                  margin = {'r':10, 'l': 0, 't':90, 'b':0}\n",
    "                 )\n",
    "fig.show()"
   ]
  },
  {
   "cell_type": "code",
   "execution_count": 60,
   "metadata": {},
   "outputs": [
    {
     "data": {
      "text/html": [
       "<div>\n",
       "<style scoped>\n",
       "    .dataframe tbody tr th:only-of-type {\n",
       "        vertical-align: middle;\n",
       "    }\n",
       "\n",
       "    .dataframe tbody tr th {\n",
       "        vertical-align: top;\n",
       "    }\n",
       "\n",
       "    .dataframe thead th {\n",
       "        text-align: right;\n",
       "    }\n",
       "</style>\n",
       "<table border=\"1\" class=\"dataframe\">\n",
       "  <thead>\n",
       "    <tr style=\"text-align: right;\">\n",
       "      <th></th>\n",
       "      <th>Source</th>\n",
       "      <th>Test_date</th>\n",
       "      <th>Yhat_varma</th>\n",
       "      <th>Yhat_varmax</th>\n",
       "      <th>Future_date</th>\n",
       "      <th>Forecast_varmax</th>\n",
       "    </tr>\n",
       "  </thead>\n",
       "  <tbody>\n",
       "    <tr>\n",
       "      <td>0</td>\n",
       "      <td>Indeed_DS</td>\n",
       "      <td>2020-08-09</td>\n",
       "      <td>20.980635</td>\n",
       "      <td>36.005440</td>\n",
       "      <td>2020-08-16</td>\n",
       "      <td>95.398523</td>\n",
       "    </tr>\n",
       "    <tr>\n",
       "      <td>1</td>\n",
       "      <td>Indeed_DS</td>\n",
       "      <td>2020-08-10</td>\n",
       "      <td>162.067301</td>\n",
       "      <td>150.091450</td>\n",
       "      <td>2020-08-17</td>\n",
       "      <td>161.567159</td>\n",
       "    </tr>\n",
       "    <tr>\n",
       "      <td>2</td>\n",
       "      <td>Indeed_DS</td>\n",
       "      <td>2020-08-11</td>\n",
       "      <td>187.303514</td>\n",
       "      <td>159.933595</td>\n",
       "      <td>2020-08-18</td>\n",
       "      <td>226.551819</td>\n",
       "    </tr>\n",
       "    <tr>\n",
       "      <td>3</td>\n",
       "      <td>Indeed_DS</td>\n",
       "      <td>2020-08-12</td>\n",
       "      <td>223.290504</td>\n",
       "      <td>215.837825</td>\n",
       "      <td>2020-08-19</td>\n",
       "      <td>185.225254</td>\n",
       "    </tr>\n",
       "    <tr>\n",
       "      <td>4</td>\n",
       "      <td>Indeed_DS</td>\n",
       "      <td>2020-08-13</td>\n",
       "      <td>179.088326</td>\n",
       "      <td>187.010141</td>\n",
       "      <td>2020-08-20</td>\n",
       "      <td>261.120855</td>\n",
       "    </tr>\n",
       "    <tr>\n",
       "      <td>5</td>\n",
       "      <td>Indeed_DS</td>\n",
       "      <td>2020-08-14</td>\n",
       "      <td>216.299127</td>\n",
       "      <td>236.907966</td>\n",
       "      <td>2020-08-21</td>\n",
       "      <td>200.189607</td>\n",
       "    </tr>\n",
       "    <tr>\n",
       "      <td>6</td>\n",
       "      <td>Indeed_DS</td>\n",
       "      <td>2020-08-15</td>\n",
       "      <td>91.928873</td>\n",
       "      <td>90.116349</td>\n",
       "      <td>2020-08-22</td>\n",
       "      <td>151.479609</td>\n",
       "    </tr>\n",
       "  </tbody>\n",
       "</table>\n",
       "</div>"
      ],
      "text/plain": [
       "      Source  Test_date  Yhat_varma  Yhat_varmax Future_date  Forecast_varmax\n",
       "0  Indeed_DS 2020-08-09   20.980635    36.005440  2020-08-16        95.398523\n",
       "1  Indeed_DS 2020-08-10  162.067301   150.091450  2020-08-17       161.567159\n",
       "2  Indeed_DS 2020-08-11  187.303514   159.933595  2020-08-18       226.551819\n",
       "3  Indeed_DS 2020-08-12  223.290504   215.837825  2020-08-19       185.225254\n",
       "4  Indeed_DS 2020-08-13  179.088326   187.010141  2020-08-20       261.120855\n",
       "5  Indeed_DS 2020-08-14  216.299127   236.907966  2020-08-21       200.189607\n",
       "6  Indeed_DS 2020-08-15   91.928873    90.116349  2020-08-22       151.479609"
      ]
     },
     "execution_count": 60,
     "metadata": {},
     "output_type": "execute_result"
    }
   ],
   "source": [
    "indeed_ds = pd.DataFrame(columns=['Source','Test_date','Yhat_varma','Yhat_varmax','Future_date','Forecast_varmax'])\n",
    "indeed_ds['Source'] = 'Indeed_DS'\n",
    "indeed_ds['Test_date'] = test.index\n",
    "indeed_ds['Yhat_varma'] = yhat_in_varma['Jobnums'].values\n",
    "indeed_ds['Yhat_varmax'] = yhat_in_varmax['Jobnums'].values\n",
    "indeed_ds['Future_date'] = df_indeed_future.index\n",
    "indeed_ds['Forecast_varmax'] = indeed_pred['Jobnums'].values\n",
    "indeed_ds.loc[:,'Source'] ='Indeed_DS'\n",
    "indeed_ds"
   ]
  },
  {
   "cell_type": "markdown",
   "metadata": {},
   "source": [
    "# LinkedIn Data Modeling"
   ]
  },
  {
   "cell_type": "markdown",
   "metadata": {},
   "source": [
    "## Load data"
   ]
  },
  {
   "cell_type": "code",
   "execution_count": 33,
   "metadata": {},
   "outputs": [
    {
     "data": {
      "text/html": [
       "<div>\n",
       "<style scoped>\n",
       "    .dataframe tbody tr th:only-of-type {\n",
       "        vertical-align: middle;\n",
       "    }\n",
       "\n",
       "    .dataframe tbody tr th {\n",
       "        vertical-align: top;\n",
       "    }\n",
       "\n",
       "    .dataframe thead th {\n",
       "        text-align: right;\n",
       "    }\n",
       "</style>\n",
       "<table border=\"1\" class=\"dataframe\">\n",
       "  <thead>\n",
       "    <tr style=\"text-align: right;\">\n",
       "      <th></th>\n",
       "      <th>Title</th>\n",
       "      <th>Company</th>\n",
       "      <th>Location</th>\n",
       "      <th>Date</th>\n",
       "      <th>Seniority level</th>\n",
       "      <th>Employment type</th>\n",
       "      <th>Industry</th>\n",
       "      <th>Description</th>\n",
       "      <th>State</th>\n",
       "      <th>Code</th>\n",
       "    </tr>\n",
       "  </thead>\n",
       "  <tbody>\n",
       "    <tr>\n",
       "      <td>0</td>\n",
       "      <td>Big Data Developer with Security Clearance</td>\n",
       "      <td>ClearanceJobs</td>\n",
       "      <td>Huntsville, Alabama, United States</td>\n",
       "      <td>2020-08-16</td>\n",
       "      <td>Entry level</td>\n",
       "      <td>Full-time</td>\n",
       "      <td>Information Technology and Services,Defense &amp; ...</td>\n",
       "      <td>Please contact Matt at to discuss in further d...</td>\n",
       "      <td>Alabama</td>\n",
       "      <td>AL</td>\n",
       "    </tr>\n",
       "    <tr>\n",
       "      <td>1</td>\n",
       "      <td>Interdisciplinary</td>\n",
       "      <td>United States Department of Defense</td>\n",
       "      <td>Mobile, Alabama, United States</td>\n",
       "      <td>2020-08-15</td>\n",
       "      <td>Not Applicable</td>\n",
       "      <td>Full-time</td>\n",
       "      <td>Construction,Government Administration,Hospita...</td>\n",
       "      <td>DutiesHelpDutiesSummaryAbout the Position: Inc...</td>\n",
       "      <td>Alabama</td>\n",
       "      <td>AL</td>\n",
       "    </tr>\n",
       "    <tr>\n",
       "      <td>2</td>\n",
       "      <td>Medical Lab Scientist (MLS) Night</td>\n",
       "      <td>Ascension</td>\n",
       "      <td>Mobile, Alabama, United States</td>\n",
       "      <td>2020-08-13</td>\n",
       "      <td>Associate</td>\n",
       "      <td>Contract</td>\n",
       "      <td>Hospital &amp; Health Care</td>\n",
       "      <td>We Are HiringWe are hiring for a Medical Lab S...</td>\n",
       "      <td>Alabama</td>\n",
       "      <td>AL</td>\n",
       "    </tr>\n",
       "    <tr>\n",
       "      <td>3</td>\n",
       "      <td>Data Analyst</td>\n",
       "      <td>Integration Innovation, Inc.</td>\n",
       "      <td>Huntsville, Alabama, United States</td>\n",
       "      <td>2020-08-13</td>\n",
       "      <td>Entry level</td>\n",
       "      <td>Full-time</td>\n",
       "      <td>Information Technology and Services,Defense &amp; ...</td>\n",
       "      <td>i3 is seeking a data analytics and architectur...</td>\n",
       "      <td>Alabama</td>\n",
       "      <td>AL</td>\n",
       "    </tr>\n",
       "    <tr>\n",
       "      <td>4</td>\n",
       "      <td>Data Analyst</td>\n",
       "      <td>NMR Consulting</td>\n",
       "      <td>Huntsville, Alabama, United States</td>\n",
       "      <td>2020-08-13</td>\n",
       "      <td>Associate</td>\n",
       "      <td>Full-time</td>\n",
       "      <td>Information Technology and Services</td>\n",
       "      <td>&amp;nbsp;&amp;nbsp; Position:  Data Analyst (QlikView...</td>\n",
       "      <td>Alabama</td>\n",
       "      <td>AL</td>\n",
       "    </tr>\n",
       "  </tbody>\n",
       "</table>\n",
       "</div>"
      ],
      "text/plain": [
       "                                        Title  \\\n",
       "0  Big Data Developer with Security Clearance   \n",
       "1                           Interdisciplinary   \n",
       "2           Medical Lab Scientist (MLS) Night   \n",
       "3                                Data Analyst   \n",
       "4                                Data Analyst   \n",
       "\n",
       "                               Company                            Location  \\\n",
       "0                        ClearanceJobs  Huntsville, Alabama, United States   \n",
       "1  United States Department of Defense      Mobile, Alabama, United States   \n",
       "2                            Ascension      Mobile, Alabama, United States   \n",
       "3         Integration Innovation, Inc.  Huntsville, Alabama, United States   \n",
       "4                       NMR Consulting  Huntsville, Alabama, United States   \n",
       "\n",
       "         Date Seniority level Employment type  \\\n",
       "0  2020-08-16     Entry level       Full-time   \n",
       "1  2020-08-15  Not Applicable       Full-time   \n",
       "2  2020-08-13       Associate        Contract   \n",
       "3  2020-08-13     Entry level       Full-time   \n",
       "4  2020-08-13       Associate       Full-time   \n",
       "\n",
       "                                            Industry  \\\n",
       "0  Information Technology and Services,Defense & ...   \n",
       "1  Construction,Government Administration,Hospita...   \n",
       "2                             Hospital & Health Care   \n",
       "3  Information Technology and Services,Defense & ...   \n",
       "4                Information Technology and Services   \n",
       "\n",
       "                                         Description    State Code  \n",
       "0  Please contact Matt at to discuss in further d...  Alabama   AL  \n",
       "1  DutiesHelpDutiesSummaryAbout the Position: Inc...  Alabama   AL  \n",
       "2  We Are HiringWe are hiring for a Medical Lab S...  Alabama   AL  \n",
       "3  i3 is seeking a data analytics and architectur...  Alabama   AL  \n",
       "4  &nbsp;&nbsp; Position:  Data Analyst (QlikView...  Alabama   AL  "
      ]
     },
     "execution_count": 33,
     "metadata": {},
     "output_type": "execute_result"
    }
   ],
   "source": [
    "df_linkedin = pd.read_csv('/Users/tingtingweng/Documents/summer_intern/data/linkedin_ds_081620_combined.csv')\n",
    "df_linkedin.head()"
   ]
  },
  {
   "cell_type": "code",
   "execution_count": 46,
   "metadata": {},
   "outputs": [
    {
     "data": {
      "text/html": [
       "<div>\n",
       "<style scoped>\n",
       "    .dataframe tbody tr th:only-of-type {\n",
       "        vertical-align: middle;\n",
       "    }\n",
       "\n",
       "    .dataframe tbody tr th {\n",
       "        vertical-align: top;\n",
       "    }\n",
       "\n",
       "    .dataframe thead th {\n",
       "        text-align: right;\n",
       "    }\n",
       "</style>\n",
       "<table border=\"1\" class=\"dataframe\">\n",
       "  <thead>\n",
       "    <tr style=\"text-align: right;\">\n",
       "      <th></th>\n",
       "      <th>Title</th>\n",
       "      <th>Company</th>\n",
       "      <th>Location</th>\n",
       "      <th>Date</th>\n",
       "      <th>Seniority level</th>\n",
       "      <th>Employment type</th>\n",
       "      <th>Industry</th>\n",
       "      <th>Description</th>\n",
       "      <th>State</th>\n",
       "      <th>Code</th>\n",
       "    </tr>\n",
       "  </thead>\n",
       "  <tbody>\n",
       "    <tr>\n",
       "      <td>0</td>\n",
       "      <td>Big Data Developer with Security Clearance</td>\n",
       "      <td>ClearanceJobs</td>\n",
       "      <td>Huntsville, Alabama, United States</td>\n",
       "      <td>2020-08-16</td>\n",
       "      <td>Entry level</td>\n",
       "      <td>Full-time</td>\n",
       "      <td>Information Technology and Services,Defense &amp; ...</td>\n",
       "      <td>Please contact Matt at to discuss in further d...</td>\n",
       "      <td>Alabama</td>\n",
       "      <td>AL</td>\n",
       "    </tr>\n",
       "    <tr>\n",
       "      <td>1</td>\n",
       "      <td>Interdisciplinary</td>\n",
       "      <td>United States Department of Defense</td>\n",
       "      <td>Mobile, Alabama, United States</td>\n",
       "      <td>2020-08-15</td>\n",
       "      <td>Not Applicable</td>\n",
       "      <td>Full-time</td>\n",
       "      <td>Construction,Government Administration,Hospita...</td>\n",
       "      <td>DutiesHelpDutiesSummaryAbout the Position: Inc...</td>\n",
       "      <td>Alabama</td>\n",
       "      <td>AL</td>\n",
       "    </tr>\n",
       "    <tr>\n",
       "      <td>2</td>\n",
       "      <td>Medical Lab Scientist (MLS) Night</td>\n",
       "      <td>Ascension</td>\n",
       "      <td>Mobile, Alabama, United States</td>\n",
       "      <td>2020-08-13</td>\n",
       "      <td>Associate</td>\n",
       "      <td>Contract</td>\n",
       "      <td>Hospital &amp; Health Care</td>\n",
       "      <td>We Are HiringWe are hiring for a Medical Lab S...</td>\n",
       "      <td>Alabama</td>\n",
       "      <td>AL</td>\n",
       "    </tr>\n",
       "    <tr>\n",
       "      <td>3</td>\n",
       "      <td>Data Analyst</td>\n",
       "      <td>Integration Innovation, Inc.</td>\n",
       "      <td>Huntsville, Alabama, United States</td>\n",
       "      <td>2020-08-13</td>\n",
       "      <td>Entry level</td>\n",
       "      <td>Full-time</td>\n",
       "      <td>Information Technology and Services,Defense &amp; ...</td>\n",
       "      <td>i3 is seeking a data analytics and architectur...</td>\n",
       "      <td>Alabama</td>\n",
       "      <td>AL</td>\n",
       "    </tr>\n",
       "    <tr>\n",
       "      <td>4</td>\n",
       "      <td>Data Analyst</td>\n",
       "      <td>NMR Consulting</td>\n",
       "      <td>Huntsville, Alabama, United States</td>\n",
       "      <td>2020-08-13</td>\n",
       "      <td>Associate</td>\n",
       "      <td>Full-time</td>\n",
       "      <td>Information Technology and Services</td>\n",
       "      <td>&amp;nbsp;&amp;nbsp; Position:  Data Analyst (QlikView...</td>\n",
       "      <td>Alabama</td>\n",
       "      <td>AL</td>\n",
       "    </tr>\n",
       "    <tr>\n",
       "      <td>...</td>\n",
       "      <td>...</td>\n",
       "      <td>...</td>\n",
       "      <td>...</td>\n",
       "      <td>...</td>\n",
       "      <td>...</td>\n",
       "      <td>...</td>\n",
       "      <td>...</td>\n",
       "      <td>...</td>\n",
       "      <td>...</td>\n",
       "      <td>...</td>\n",
       "    </tr>\n",
       "    <tr>\n",
       "      <td>63738</td>\n",
       "      <td>Senior Analyst, Analytics and Data Science</td>\n",
       "      <td>Corkyy</td>\n",
       "      <td>Washington, District of Columbia, United States</td>\n",
       "      <td>2020-06-08</td>\n",
       "      <td>Not Applicable</td>\n",
       "      <td>Full-time</td>\n",
       "      <td>Marketing and Advertising,Online Media,Media P...</td>\n",
       "      <td>Corkyy is a purpose-driven job board that show...</td>\n",
       "      <td>Washington, DC</td>\n",
       "      <td>DC</td>\n",
       "    </tr>\n",
       "    <tr>\n",
       "      <td>63739</td>\n",
       "      <td>Lead Data Science Instructor</td>\n",
       "      <td>Corkyy</td>\n",
       "      <td>Washington, District of Columbia, United States</td>\n",
       "      <td>2020-06-08</td>\n",
       "      <td>Not Applicable</td>\n",
       "      <td>Full-time</td>\n",
       "      <td>Marketing and Advertising,Online Media,Media P...</td>\n",
       "      <td>Corkyy is a purpose-driven job board that show...</td>\n",
       "      <td>Washington, DC</td>\n",
       "      <td>DC</td>\n",
       "    </tr>\n",
       "    <tr>\n",
       "      <td>63740</td>\n",
       "      <td>Data Scientist</td>\n",
       "      <td>ClearedJobs.Net</td>\n",
       "      <td>Fort Meade, Maryland, United States</td>\n",
       "      <td>2020-06-08</td>\n",
       "      <td>Entry level</td>\n",
       "      <td>Full-time</td>\n",
       "      <td>Information Technology and Services,Defense &amp; ...</td>\n",
       "      <td>REQ#: RQ58153Travel Required: 10-25% Public Tr...</td>\n",
       "      <td>Maryland</td>\n",
       "      <td>MD</td>\n",
       "    </tr>\n",
       "    <tr>\n",
       "      <td>63741</td>\n",
       "      <td>Data Scientist</td>\n",
       "      <td>Comtech Global, Inc</td>\n",
       "      <td>Washington, District of Columbia, United States</td>\n",
       "      <td>2020-06-08</td>\n",
       "      <td>Entry level</td>\n",
       "      <td>Full-time</td>\n",
       "      <td>Information Technology and Services,Computer S...</td>\n",
       "      <td>Role: Data ScientistLocation: Washington, DC (...</td>\n",
       "      <td>Washington, DC</td>\n",
       "      <td>DC</td>\n",
       "    </tr>\n",
       "    <tr>\n",
       "      <td>63742</td>\n",
       "      <td>Defense Readiness Analyst, Senior</td>\n",
       "      <td>ClearedJobs.Net</td>\n",
       "      <td>Andrews AFB, Maryland, United States</td>\n",
       "      <td>2020-06-07</td>\n",
       "      <td>Associate</td>\n",
       "      <td>Full-time</td>\n",
       "      <td>Information Technology and Services,Defense &amp; ...</td>\n",
       "      <td>Job Number: R0085075Defense Readiness Analyst,...</td>\n",
       "      <td>Maryland</td>\n",
       "      <td>MD</td>\n",
       "    </tr>\n",
       "  </tbody>\n",
       "</table>\n",
       "<p>63743 rows × 10 columns</p>\n",
       "</div>"
      ],
      "text/plain": [
       "                                            Title  \\\n",
       "0      Big Data Developer with Security Clearance   \n",
       "1                               Interdisciplinary   \n",
       "2               Medical Lab Scientist (MLS) Night   \n",
       "3                                    Data Analyst   \n",
       "4                                    Data Analyst   \n",
       "...                                           ...   \n",
       "63738  Senior Analyst, Analytics and Data Science   \n",
       "63739                Lead Data Science Instructor   \n",
       "63740                              Data Scientist   \n",
       "63741                              Data Scientist   \n",
       "63742           Defense Readiness Analyst, Senior   \n",
       "\n",
       "                                   Company  \\\n",
       "0                            ClearanceJobs   \n",
       "1      United States Department of Defense   \n",
       "2                                Ascension   \n",
       "3             Integration Innovation, Inc.   \n",
       "4                           NMR Consulting   \n",
       "...                                    ...   \n",
       "63738                               Corkyy   \n",
       "63739                               Corkyy   \n",
       "63740                      ClearedJobs.Net   \n",
       "63741                  Comtech Global, Inc   \n",
       "63742                      ClearedJobs.Net   \n",
       "\n",
       "                                              Location        Date  \\\n",
       "0                   Huntsville, Alabama, United States  2020-08-16   \n",
       "1                       Mobile, Alabama, United States  2020-08-15   \n",
       "2                       Mobile, Alabama, United States  2020-08-13   \n",
       "3                   Huntsville, Alabama, United States  2020-08-13   \n",
       "4                   Huntsville, Alabama, United States  2020-08-13   \n",
       "...                                                ...         ...   \n",
       "63738  Washington, District of Columbia, United States  2020-06-08   \n",
       "63739  Washington, District of Columbia, United States  2020-06-08   \n",
       "63740              Fort Meade, Maryland, United States  2020-06-08   \n",
       "63741  Washington, District of Columbia, United States  2020-06-08   \n",
       "63742             Andrews AFB, Maryland, United States  2020-06-07   \n",
       "\n",
       "      Seniority level Employment type  \\\n",
       "0         Entry level       Full-time   \n",
       "1      Not Applicable       Full-time   \n",
       "2           Associate        Contract   \n",
       "3         Entry level       Full-time   \n",
       "4           Associate       Full-time   \n",
       "...               ...             ...   \n",
       "63738  Not Applicable       Full-time   \n",
       "63739  Not Applicable       Full-time   \n",
       "63740     Entry level       Full-time   \n",
       "63741     Entry level       Full-time   \n",
       "63742       Associate       Full-time   \n",
       "\n",
       "                                                Industry  \\\n",
       "0      Information Technology and Services,Defense & ...   \n",
       "1      Construction,Government Administration,Hospita...   \n",
       "2                                 Hospital & Health Care   \n",
       "3      Information Technology and Services,Defense & ...   \n",
       "4                    Information Technology and Services   \n",
       "...                                                  ...   \n",
       "63738  Marketing and Advertising,Online Media,Media P...   \n",
       "63739  Marketing and Advertising,Online Media,Media P...   \n",
       "63740  Information Technology and Services,Defense & ...   \n",
       "63741  Information Technology and Services,Computer S...   \n",
       "63742  Information Technology and Services,Defense & ...   \n",
       "\n",
       "                                             Description           State Code  \n",
       "0      Please contact Matt at to discuss in further d...         Alabama   AL  \n",
       "1      DutiesHelpDutiesSummaryAbout the Position: Inc...         Alabama   AL  \n",
       "2      We Are HiringWe are hiring for a Medical Lab S...         Alabama   AL  \n",
       "3      i3 is seeking a data analytics and architectur...         Alabama   AL  \n",
       "4      &nbsp;&nbsp; Position:  Data Analyst (QlikView...         Alabama   AL  \n",
       "...                                                  ...             ...  ...  \n",
       "63738  Corkyy is a purpose-driven job board that show...  Washington, DC   DC  \n",
       "63739  Corkyy is a purpose-driven job board that show...  Washington, DC   DC  \n",
       "63740  REQ#: RQ58153Travel Required: 10-25% Public Tr...        Maryland   MD  \n",
       "63741  Role: Data ScientistLocation: Washington, DC (...  Washington, DC   DC  \n",
       "63742  Job Number: R0085075Defense Readiness Analyst,...        Maryland   MD  \n",
       "\n",
       "[63743 rows x 10 columns]"
      ]
     },
     "execution_count": 46,
     "metadata": {},
     "output_type": "execute_result"
    }
   ],
   "source": [
    "df_linkedin"
   ]
  },
  {
   "cell_type": "code",
   "execution_count": 34,
   "metadata": {},
   "outputs": [],
   "source": [
    "bydate = df_linkedin.groupby('Date').size()\n",
    "\n",
    "df_date_linkedin = pd.DataFrame({'Date': bydate.index, 'Jobnums': bydate.values})\n",
    "df_date_linkedin['Date'] = pd.to_datetime(df_date_linkedin['Date'])\n",
    "df_date_linkedin.set_index('Date', inplace=True, drop=False)"
   ]
  },
  {
   "cell_type": "code",
   "execution_count": 35,
   "metadata": {},
   "outputs": [],
   "source": [
    "week = {0: 'Mon', 1: 'Tue', 2: 'Wed', 3: 'Thu', 4: 'Fri', 5: 'Sat', 6: 'Sun'}\n",
    "df_date_linkedin['Day of week'] = df_date_linkedin['Date'].apply(lambda x: week[x.weekday()])"
   ]
  },
  {
   "cell_type": "code",
   "execution_count": 36,
   "metadata": {},
   "outputs": [],
   "source": [
    "df_date_linkedin['Weekend'] = df_date_linkedin['Day of week'].apply(lambda x: 1 if (x == 'Sun') or (x == 'Sat') else 0)\n",
    "df_date_linkedin.at['2020-05-25','Weekend'] = 1 # memorial day"
   ]
  },
  {
   "cell_type": "code",
   "execution_count": 37,
   "metadata": {},
   "outputs": [],
   "source": [
    "df_date_linkedin_trunc = df_date_linkedin['2020-05-19':'2020-08-15']"
   ]
  },
  {
   "cell_type": "code",
   "execution_count": 38,
   "metadata": {},
   "outputs": [
    {
     "data": {
      "application/vnd.plotly.v1+json": {
       "config": {
        "plotlyServerURL": "https://plot.ly"
       },
       "data": [
        {
         "mode": "lines+markers",
         "type": "scatter",
         "x": [
          "2020-05-19T00:00:00",
          "2020-05-20T00:00:00",
          "2020-05-21T00:00:00",
          "2020-05-22T00:00:00",
          "2020-05-23T00:00:00",
          "2020-05-24T00:00:00",
          "2020-05-25T00:00:00",
          "2020-05-26T00:00:00",
          "2020-05-27T00:00:00",
          "2020-05-28T00:00:00",
          "2020-05-29T00:00:00",
          "2020-05-30T00:00:00",
          "2020-05-31T00:00:00",
          "2020-06-01T00:00:00",
          "2020-06-02T00:00:00",
          "2020-06-03T00:00:00",
          "2020-06-04T00:00:00",
          "2020-06-05T00:00:00",
          "2020-06-06T00:00:00",
          "2020-06-07T00:00:00",
          "2020-06-08T00:00:00",
          "2020-06-09T00:00:00",
          "2020-06-10T00:00:00",
          "2020-06-11T00:00:00",
          "2020-06-12T00:00:00",
          "2020-06-13T00:00:00",
          "2020-06-14T00:00:00",
          "2020-06-15T00:00:00",
          "2020-06-16T00:00:00",
          "2020-06-17T00:00:00",
          "2020-06-18T00:00:00",
          "2020-06-19T00:00:00",
          "2020-06-20T00:00:00",
          "2020-06-21T00:00:00",
          "2020-06-22T00:00:00",
          "2020-06-23T00:00:00",
          "2020-06-24T00:00:00",
          "2020-06-25T00:00:00",
          "2020-06-26T00:00:00",
          "2020-06-27T00:00:00",
          "2020-06-28T00:00:00",
          "2020-06-29T00:00:00",
          "2020-06-30T00:00:00",
          "2020-07-01T00:00:00",
          "2020-07-02T00:00:00",
          "2020-07-03T00:00:00",
          "2020-07-04T00:00:00",
          "2020-07-05T00:00:00",
          "2020-07-06T00:00:00",
          "2020-07-07T00:00:00",
          "2020-07-08T00:00:00",
          "2020-07-09T00:00:00",
          "2020-07-10T00:00:00",
          "2020-07-11T00:00:00",
          "2020-07-12T00:00:00",
          "2020-07-13T00:00:00",
          "2020-07-14T00:00:00",
          "2020-07-15T00:00:00",
          "2020-07-16T00:00:00",
          "2020-07-17T00:00:00",
          "2020-07-18T00:00:00",
          "2020-07-19T00:00:00",
          "2020-07-20T00:00:00",
          "2020-07-21T00:00:00",
          "2020-07-22T00:00:00",
          "2020-07-23T00:00:00",
          "2020-07-24T00:00:00",
          "2020-07-25T00:00:00",
          "2020-07-26T00:00:00",
          "2020-07-27T00:00:00",
          "2020-07-28T00:00:00",
          "2020-07-29T00:00:00",
          "2020-07-30T00:00:00",
          "2020-07-31T00:00:00",
          "2020-08-01T00:00:00",
          "2020-08-02T00:00:00",
          "2020-08-03T00:00:00",
          "2020-08-04T00:00:00",
          "2020-08-05T00:00:00",
          "2020-08-06T00:00:00",
          "2020-08-07T00:00:00",
          "2020-08-08T00:00:00",
          "2020-08-09T00:00:00",
          "2020-08-10T00:00:00",
          "2020-08-11T00:00:00",
          "2020-08-12T00:00:00",
          "2020-08-13T00:00:00",
          "2020-08-14T00:00:00",
          "2020-08-15T00:00:00"
         ],
         "y": [
          433,
          108,
          91,
          126,
          276,
          266,
          129,
          125,
          235,
          362,
          425,
          355,
          428,
          931,
          454,
          424,
          327,
          428,
          373,
          546,
          464,
          539,
          479,
          412,
          573,
          492,
          338,
          386,
          542,
          788,
          1030,
          899,
          662,
          440,
          756,
          979,
          905,
          1087,
          1060,
          1443,
          648,
          608,
          688,
          902,
          1008,
          1020,
          386,
          323,
          570,
          810,
          805,
          842,
          752,
          415,
          625,
          798,
          1048,
          674,
          753,
          1150,
          670,
          471,
          630,
          1018,
          1156,
          1000,
          699,
          415,
          180,
          417,
          561,
          558,
          646,
          709,
          791,
          779,
          945,
          846,
          862,
          671,
          448,
          550,
          529,
          504,
          552,
          597,
          744,
          499,
          510
         ]
        }
       ],
       "layout": {
        "template": {
         "data": {
          "bar": [
           {
            "error_x": {
             "color": "#2a3f5f"
            },
            "error_y": {
             "color": "#2a3f5f"
            },
            "marker": {
             "line": {
              "color": "#E5ECF6",
              "width": 0.5
             }
            },
            "type": "bar"
           }
          ],
          "barpolar": [
           {
            "marker": {
             "line": {
              "color": "#E5ECF6",
              "width": 0.5
             }
            },
            "type": "barpolar"
           }
          ],
          "carpet": [
           {
            "aaxis": {
             "endlinecolor": "#2a3f5f",
             "gridcolor": "white",
             "linecolor": "white",
             "minorgridcolor": "white",
             "startlinecolor": "#2a3f5f"
            },
            "baxis": {
             "endlinecolor": "#2a3f5f",
             "gridcolor": "white",
             "linecolor": "white",
             "minorgridcolor": "white",
             "startlinecolor": "#2a3f5f"
            },
            "type": "carpet"
           }
          ],
          "choropleth": [
           {
            "colorbar": {
             "outlinewidth": 0,
             "ticks": ""
            },
            "type": "choropleth"
           }
          ],
          "contour": [
           {
            "colorbar": {
             "outlinewidth": 0,
             "ticks": ""
            },
            "colorscale": [
             [
              0,
              "#0d0887"
             ],
             [
              0.1111111111111111,
              "#46039f"
             ],
             [
              0.2222222222222222,
              "#7201a8"
             ],
             [
              0.3333333333333333,
              "#9c179e"
             ],
             [
              0.4444444444444444,
              "#bd3786"
             ],
             [
              0.5555555555555556,
              "#d8576b"
             ],
             [
              0.6666666666666666,
              "#ed7953"
             ],
             [
              0.7777777777777778,
              "#fb9f3a"
             ],
             [
              0.8888888888888888,
              "#fdca26"
             ],
             [
              1,
              "#f0f921"
             ]
            ],
            "type": "contour"
           }
          ],
          "contourcarpet": [
           {
            "colorbar": {
             "outlinewidth": 0,
             "ticks": ""
            },
            "type": "contourcarpet"
           }
          ],
          "heatmap": [
           {
            "colorbar": {
             "outlinewidth": 0,
             "ticks": ""
            },
            "colorscale": [
             [
              0,
              "#0d0887"
             ],
             [
              0.1111111111111111,
              "#46039f"
             ],
             [
              0.2222222222222222,
              "#7201a8"
             ],
             [
              0.3333333333333333,
              "#9c179e"
             ],
             [
              0.4444444444444444,
              "#bd3786"
             ],
             [
              0.5555555555555556,
              "#d8576b"
             ],
             [
              0.6666666666666666,
              "#ed7953"
             ],
             [
              0.7777777777777778,
              "#fb9f3a"
             ],
             [
              0.8888888888888888,
              "#fdca26"
             ],
             [
              1,
              "#f0f921"
             ]
            ],
            "type": "heatmap"
           }
          ],
          "heatmapgl": [
           {
            "colorbar": {
             "outlinewidth": 0,
             "ticks": ""
            },
            "colorscale": [
             [
              0,
              "#0d0887"
             ],
             [
              0.1111111111111111,
              "#46039f"
             ],
             [
              0.2222222222222222,
              "#7201a8"
             ],
             [
              0.3333333333333333,
              "#9c179e"
             ],
             [
              0.4444444444444444,
              "#bd3786"
             ],
             [
              0.5555555555555556,
              "#d8576b"
             ],
             [
              0.6666666666666666,
              "#ed7953"
             ],
             [
              0.7777777777777778,
              "#fb9f3a"
             ],
             [
              0.8888888888888888,
              "#fdca26"
             ],
             [
              1,
              "#f0f921"
             ]
            ],
            "type": "heatmapgl"
           }
          ],
          "histogram": [
           {
            "marker": {
             "colorbar": {
              "outlinewidth": 0,
              "ticks": ""
             }
            },
            "type": "histogram"
           }
          ],
          "histogram2d": [
           {
            "colorbar": {
             "outlinewidth": 0,
             "ticks": ""
            },
            "colorscale": [
             [
              0,
              "#0d0887"
             ],
             [
              0.1111111111111111,
              "#46039f"
             ],
             [
              0.2222222222222222,
              "#7201a8"
             ],
             [
              0.3333333333333333,
              "#9c179e"
             ],
             [
              0.4444444444444444,
              "#bd3786"
             ],
             [
              0.5555555555555556,
              "#d8576b"
             ],
             [
              0.6666666666666666,
              "#ed7953"
             ],
             [
              0.7777777777777778,
              "#fb9f3a"
             ],
             [
              0.8888888888888888,
              "#fdca26"
             ],
             [
              1,
              "#f0f921"
             ]
            ],
            "type": "histogram2d"
           }
          ],
          "histogram2dcontour": [
           {
            "colorbar": {
             "outlinewidth": 0,
             "ticks": ""
            },
            "colorscale": [
             [
              0,
              "#0d0887"
             ],
             [
              0.1111111111111111,
              "#46039f"
             ],
             [
              0.2222222222222222,
              "#7201a8"
             ],
             [
              0.3333333333333333,
              "#9c179e"
             ],
             [
              0.4444444444444444,
              "#bd3786"
             ],
             [
              0.5555555555555556,
              "#d8576b"
             ],
             [
              0.6666666666666666,
              "#ed7953"
             ],
             [
              0.7777777777777778,
              "#fb9f3a"
             ],
             [
              0.8888888888888888,
              "#fdca26"
             ],
             [
              1,
              "#f0f921"
             ]
            ],
            "type": "histogram2dcontour"
           }
          ],
          "mesh3d": [
           {
            "colorbar": {
             "outlinewidth": 0,
             "ticks": ""
            },
            "type": "mesh3d"
           }
          ],
          "parcoords": [
           {
            "line": {
             "colorbar": {
              "outlinewidth": 0,
              "ticks": ""
             }
            },
            "type": "parcoords"
           }
          ],
          "pie": [
           {
            "automargin": true,
            "type": "pie"
           }
          ],
          "scatter": [
           {
            "marker": {
             "colorbar": {
              "outlinewidth": 0,
              "ticks": ""
             }
            },
            "type": "scatter"
           }
          ],
          "scatter3d": [
           {
            "line": {
             "colorbar": {
              "outlinewidth": 0,
              "ticks": ""
             }
            },
            "marker": {
             "colorbar": {
              "outlinewidth": 0,
              "ticks": ""
             }
            },
            "type": "scatter3d"
           }
          ],
          "scattercarpet": [
           {
            "marker": {
             "colorbar": {
              "outlinewidth": 0,
              "ticks": ""
             }
            },
            "type": "scattercarpet"
           }
          ],
          "scattergeo": [
           {
            "marker": {
             "colorbar": {
              "outlinewidth": 0,
              "ticks": ""
             }
            },
            "type": "scattergeo"
           }
          ],
          "scattergl": [
           {
            "marker": {
             "colorbar": {
              "outlinewidth": 0,
              "ticks": ""
             }
            },
            "type": "scattergl"
           }
          ],
          "scattermapbox": [
           {
            "marker": {
             "colorbar": {
              "outlinewidth": 0,
              "ticks": ""
             }
            },
            "type": "scattermapbox"
           }
          ],
          "scatterpolar": [
           {
            "marker": {
             "colorbar": {
              "outlinewidth": 0,
              "ticks": ""
             }
            },
            "type": "scatterpolar"
           }
          ],
          "scatterpolargl": [
           {
            "marker": {
             "colorbar": {
              "outlinewidth": 0,
              "ticks": ""
             }
            },
            "type": "scatterpolargl"
           }
          ],
          "scatterternary": [
           {
            "marker": {
             "colorbar": {
              "outlinewidth": 0,
              "ticks": ""
             }
            },
            "type": "scatterternary"
           }
          ],
          "surface": [
           {
            "colorbar": {
             "outlinewidth": 0,
             "ticks": ""
            },
            "colorscale": [
             [
              0,
              "#0d0887"
             ],
             [
              0.1111111111111111,
              "#46039f"
             ],
             [
              0.2222222222222222,
              "#7201a8"
             ],
             [
              0.3333333333333333,
              "#9c179e"
             ],
             [
              0.4444444444444444,
              "#bd3786"
             ],
             [
              0.5555555555555556,
              "#d8576b"
             ],
             [
              0.6666666666666666,
              "#ed7953"
             ],
             [
              0.7777777777777778,
              "#fb9f3a"
             ],
             [
              0.8888888888888888,
              "#fdca26"
             ],
             [
              1,
              "#f0f921"
             ]
            ],
            "type": "surface"
           }
          ],
          "table": [
           {
            "cells": {
             "fill": {
              "color": "#EBF0F8"
             },
             "line": {
              "color": "white"
             }
            },
            "header": {
             "fill": {
              "color": "#C8D4E3"
             },
             "line": {
              "color": "white"
             }
            },
            "type": "table"
           }
          ]
         },
         "layout": {
          "annotationdefaults": {
           "arrowcolor": "#2a3f5f",
           "arrowhead": 0,
           "arrowwidth": 1
          },
          "coloraxis": {
           "colorbar": {
            "outlinewidth": 0,
            "ticks": ""
           }
          },
          "colorscale": {
           "diverging": [
            [
             0,
             "#8e0152"
            ],
            [
             0.1,
             "#c51b7d"
            ],
            [
             0.2,
             "#de77ae"
            ],
            [
             0.3,
             "#f1b6da"
            ],
            [
             0.4,
             "#fde0ef"
            ],
            [
             0.5,
             "#f7f7f7"
            ],
            [
             0.6,
             "#e6f5d0"
            ],
            [
             0.7,
             "#b8e186"
            ],
            [
             0.8,
             "#7fbc41"
            ],
            [
             0.9,
             "#4d9221"
            ],
            [
             1,
             "#276419"
            ]
           ],
           "sequential": [
            [
             0,
             "#0d0887"
            ],
            [
             0.1111111111111111,
             "#46039f"
            ],
            [
             0.2222222222222222,
             "#7201a8"
            ],
            [
             0.3333333333333333,
             "#9c179e"
            ],
            [
             0.4444444444444444,
             "#bd3786"
            ],
            [
             0.5555555555555556,
             "#d8576b"
            ],
            [
             0.6666666666666666,
             "#ed7953"
            ],
            [
             0.7777777777777778,
             "#fb9f3a"
            ],
            [
             0.8888888888888888,
             "#fdca26"
            ],
            [
             1,
             "#f0f921"
            ]
           ],
           "sequentialminus": [
            [
             0,
             "#0d0887"
            ],
            [
             0.1111111111111111,
             "#46039f"
            ],
            [
             0.2222222222222222,
             "#7201a8"
            ],
            [
             0.3333333333333333,
             "#9c179e"
            ],
            [
             0.4444444444444444,
             "#bd3786"
            ],
            [
             0.5555555555555556,
             "#d8576b"
            ],
            [
             0.6666666666666666,
             "#ed7953"
            ],
            [
             0.7777777777777778,
             "#fb9f3a"
            ],
            [
             0.8888888888888888,
             "#fdca26"
            ],
            [
             1,
             "#f0f921"
            ]
           ]
          },
          "colorway": [
           "#636efa",
           "#EF553B",
           "#00cc96",
           "#ab63fa",
           "#FFA15A",
           "#19d3f3",
           "#FF6692",
           "#B6E880",
           "#FF97FF",
           "#FECB52"
          ],
          "font": {
           "color": "#2a3f5f"
          },
          "geo": {
           "bgcolor": "white",
           "lakecolor": "white",
           "landcolor": "#E5ECF6",
           "showlakes": true,
           "showland": true,
           "subunitcolor": "white"
          },
          "hoverlabel": {
           "align": "left"
          },
          "hovermode": "closest",
          "mapbox": {
           "style": "light"
          },
          "paper_bgcolor": "white",
          "plot_bgcolor": "#E5ECF6",
          "polar": {
           "angularaxis": {
            "gridcolor": "white",
            "linecolor": "white",
            "ticks": ""
           },
           "bgcolor": "#E5ECF6",
           "radialaxis": {
            "gridcolor": "white",
            "linecolor": "white",
            "ticks": ""
           }
          },
          "scene": {
           "xaxis": {
            "backgroundcolor": "#E5ECF6",
            "gridcolor": "white",
            "gridwidth": 2,
            "linecolor": "white",
            "showbackground": true,
            "ticks": "",
            "zerolinecolor": "white"
           },
           "yaxis": {
            "backgroundcolor": "#E5ECF6",
            "gridcolor": "white",
            "gridwidth": 2,
            "linecolor": "white",
            "showbackground": true,
            "ticks": "",
            "zerolinecolor": "white"
           },
           "zaxis": {
            "backgroundcolor": "#E5ECF6",
            "gridcolor": "white",
            "gridwidth": 2,
            "linecolor": "white",
            "showbackground": true,
            "ticks": "",
            "zerolinecolor": "white"
           }
          },
          "shapedefaults": {
           "line": {
            "color": "#2a3f5f"
           }
          },
          "ternary": {
           "aaxis": {
            "gridcolor": "white",
            "linecolor": "white",
            "ticks": ""
           },
           "baxis": {
            "gridcolor": "white",
            "linecolor": "white",
            "ticks": ""
           },
           "bgcolor": "#E5ECF6",
           "caxis": {
            "gridcolor": "white",
            "linecolor": "white",
            "ticks": ""
           }
          },
          "title": {
           "x": 0.05
          },
          "xaxis": {
           "automargin": true,
           "gridcolor": "white",
           "linecolor": "white",
           "ticks": "",
           "title": {
            "standoff": 15
           },
           "zerolinecolor": "white",
           "zerolinewidth": 2
          },
          "yaxis": {
           "automargin": true,
           "gridcolor": "white",
           "linecolor": "white",
           "ticks": "",
           "title": {
            "standoff": 15
           },
           "zerolinecolor": "white",
           "zerolinewidth": 2
          }
         }
        },
        "title": {
         "text": "Data scientist(LinkedIn) open positions vs. post date"
        }
       }
      },
      "text/html": [
       "<div>\n",
       "        \n",
       "        \n",
       "            <div id=\"d99add2d-c8ef-48a9-a797-8555df9b781b\" class=\"plotly-graph-div\" style=\"height:525px; width:100%;\"></div>\n",
       "            <script type=\"text/javascript\">\n",
       "                require([\"plotly\"], function(Plotly) {\n",
       "                    window.PLOTLYENV=window.PLOTLYENV || {};\n",
       "                    \n",
       "                if (document.getElementById(\"d99add2d-c8ef-48a9-a797-8555df9b781b\")) {\n",
       "                    Plotly.newPlot(\n",
       "                        'd99add2d-c8ef-48a9-a797-8555df9b781b',\n",
       "                        [{\"mode\": \"lines+markers\", \"type\": \"scatter\", \"x\": [\"2020-05-19T00:00:00\", \"2020-05-20T00:00:00\", \"2020-05-21T00:00:00\", \"2020-05-22T00:00:00\", \"2020-05-23T00:00:00\", \"2020-05-24T00:00:00\", \"2020-05-25T00:00:00\", \"2020-05-26T00:00:00\", \"2020-05-27T00:00:00\", \"2020-05-28T00:00:00\", \"2020-05-29T00:00:00\", \"2020-05-30T00:00:00\", \"2020-05-31T00:00:00\", \"2020-06-01T00:00:00\", \"2020-06-02T00:00:00\", \"2020-06-03T00:00:00\", \"2020-06-04T00:00:00\", \"2020-06-05T00:00:00\", \"2020-06-06T00:00:00\", \"2020-06-07T00:00:00\", \"2020-06-08T00:00:00\", \"2020-06-09T00:00:00\", \"2020-06-10T00:00:00\", \"2020-06-11T00:00:00\", \"2020-06-12T00:00:00\", \"2020-06-13T00:00:00\", \"2020-06-14T00:00:00\", \"2020-06-15T00:00:00\", \"2020-06-16T00:00:00\", \"2020-06-17T00:00:00\", \"2020-06-18T00:00:00\", \"2020-06-19T00:00:00\", \"2020-06-20T00:00:00\", \"2020-06-21T00:00:00\", \"2020-06-22T00:00:00\", \"2020-06-23T00:00:00\", \"2020-06-24T00:00:00\", \"2020-06-25T00:00:00\", \"2020-06-26T00:00:00\", \"2020-06-27T00:00:00\", \"2020-06-28T00:00:00\", \"2020-06-29T00:00:00\", \"2020-06-30T00:00:00\", \"2020-07-01T00:00:00\", \"2020-07-02T00:00:00\", \"2020-07-03T00:00:00\", \"2020-07-04T00:00:00\", \"2020-07-05T00:00:00\", \"2020-07-06T00:00:00\", \"2020-07-07T00:00:00\", \"2020-07-08T00:00:00\", \"2020-07-09T00:00:00\", \"2020-07-10T00:00:00\", \"2020-07-11T00:00:00\", \"2020-07-12T00:00:00\", \"2020-07-13T00:00:00\", \"2020-07-14T00:00:00\", \"2020-07-15T00:00:00\", \"2020-07-16T00:00:00\", \"2020-07-17T00:00:00\", \"2020-07-18T00:00:00\", \"2020-07-19T00:00:00\", \"2020-07-20T00:00:00\", \"2020-07-21T00:00:00\", \"2020-07-22T00:00:00\", \"2020-07-23T00:00:00\", \"2020-07-24T00:00:00\", \"2020-07-25T00:00:00\", \"2020-07-26T00:00:00\", \"2020-07-27T00:00:00\", \"2020-07-28T00:00:00\", \"2020-07-29T00:00:00\", \"2020-07-30T00:00:00\", \"2020-07-31T00:00:00\", \"2020-08-01T00:00:00\", \"2020-08-02T00:00:00\", \"2020-08-03T00:00:00\", \"2020-08-04T00:00:00\", \"2020-08-05T00:00:00\", \"2020-08-06T00:00:00\", \"2020-08-07T00:00:00\", \"2020-08-08T00:00:00\", \"2020-08-09T00:00:00\", \"2020-08-10T00:00:00\", \"2020-08-11T00:00:00\", \"2020-08-12T00:00:00\", \"2020-08-13T00:00:00\", \"2020-08-14T00:00:00\", \"2020-08-15T00:00:00\"], \"y\": [433, 108, 91, 126, 276, 266, 129, 125, 235, 362, 425, 355, 428, 931, 454, 424, 327, 428, 373, 546, 464, 539, 479, 412, 573, 492, 338, 386, 542, 788, 1030, 899, 662, 440, 756, 979, 905, 1087, 1060, 1443, 648, 608, 688, 902, 1008, 1020, 386, 323, 570, 810, 805, 842, 752, 415, 625, 798, 1048, 674, 753, 1150, 670, 471, 630, 1018, 1156, 1000, 699, 415, 180, 417, 561, 558, 646, 709, 791, 779, 945, 846, 862, 671, 448, 550, 529, 504, 552, 597, 744, 499, 510]}],\n",
       "                        {\"template\": {\"data\": {\"bar\": [{\"error_x\": {\"color\": \"#2a3f5f\"}, \"error_y\": {\"color\": \"#2a3f5f\"}, \"marker\": {\"line\": {\"color\": \"#E5ECF6\", \"width\": 0.5}}, \"type\": \"bar\"}], \"barpolar\": [{\"marker\": {\"line\": {\"color\": \"#E5ECF6\", \"width\": 0.5}}, \"type\": \"barpolar\"}], \"carpet\": [{\"aaxis\": {\"endlinecolor\": \"#2a3f5f\", \"gridcolor\": \"white\", \"linecolor\": \"white\", \"minorgridcolor\": \"white\", \"startlinecolor\": \"#2a3f5f\"}, \"baxis\": {\"endlinecolor\": \"#2a3f5f\", \"gridcolor\": \"white\", \"linecolor\": \"white\", \"minorgridcolor\": \"white\", \"startlinecolor\": \"#2a3f5f\"}, \"type\": \"carpet\"}], \"choropleth\": [{\"colorbar\": {\"outlinewidth\": 0, \"ticks\": \"\"}, \"type\": \"choropleth\"}], \"contour\": [{\"colorbar\": {\"outlinewidth\": 0, \"ticks\": \"\"}, \"colorscale\": [[0.0, \"#0d0887\"], [0.1111111111111111, \"#46039f\"], [0.2222222222222222, \"#7201a8\"], [0.3333333333333333, \"#9c179e\"], [0.4444444444444444, \"#bd3786\"], [0.5555555555555556, \"#d8576b\"], [0.6666666666666666, \"#ed7953\"], [0.7777777777777778, \"#fb9f3a\"], [0.8888888888888888, \"#fdca26\"], [1.0, \"#f0f921\"]], \"type\": \"contour\"}], \"contourcarpet\": [{\"colorbar\": {\"outlinewidth\": 0, \"ticks\": \"\"}, \"type\": \"contourcarpet\"}], \"heatmap\": [{\"colorbar\": {\"outlinewidth\": 0, \"ticks\": \"\"}, \"colorscale\": [[0.0, \"#0d0887\"], [0.1111111111111111, \"#46039f\"], [0.2222222222222222, \"#7201a8\"], [0.3333333333333333, \"#9c179e\"], [0.4444444444444444, \"#bd3786\"], [0.5555555555555556, \"#d8576b\"], [0.6666666666666666, \"#ed7953\"], [0.7777777777777778, \"#fb9f3a\"], [0.8888888888888888, \"#fdca26\"], [1.0, \"#f0f921\"]], \"type\": \"heatmap\"}], \"heatmapgl\": [{\"colorbar\": {\"outlinewidth\": 0, \"ticks\": \"\"}, \"colorscale\": [[0.0, \"#0d0887\"], [0.1111111111111111, \"#46039f\"], [0.2222222222222222, \"#7201a8\"], [0.3333333333333333, \"#9c179e\"], [0.4444444444444444, \"#bd3786\"], [0.5555555555555556, \"#d8576b\"], [0.6666666666666666, \"#ed7953\"], [0.7777777777777778, \"#fb9f3a\"], [0.8888888888888888, \"#fdca26\"], [1.0, \"#f0f921\"]], \"type\": \"heatmapgl\"}], \"histogram\": [{\"marker\": {\"colorbar\": {\"outlinewidth\": 0, \"ticks\": \"\"}}, \"type\": \"histogram\"}], \"histogram2d\": [{\"colorbar\": {\"outlinewidth\": 0, \"ticks\": \"\"}, \"colorscale\": [[0.0, \"#0d0887\"], [0.1111111111111111, \"#46039f\"], [0.2222222222222222, \"#7201a8\"], [0.3333333333333333, \"#9c179e\"], [0.4444444444444444, \"#bd3786\"], [0.5555555555555556, \"#d8576b\"], [0.6666666666666666, \"#ed7953\"], [0.7777777777777778, \"#fb9f3a\"], [0.8888888888888888, \"#fdca26\"], [1.0, \"#f0f921\"]], \"type\": \"histogram2d\"}], \"histogram2dcontour\": [{\"colorbar\": {\"outlinewidth\": 0, \"ticks\": \"\"}, \"colorscale\": [[0.0, \"#0d0887\"], [0.1111111111111111, \"#46039f\"], [0.2222222222222222, \"#7201a8\"], [0.3333333333333333, \"#9c179e\"], [0.4444444444444444, \"#bd3786\"], [0.5555555555555556, \"#d8576b\"], [0.6666666666666666, \"#ed7953\"], [0.7777777777777778, \"#fb9f3a\"], [0.8888888888888888, \"#fdca26\"], [1.0, \"#f0f921\"]], \"type\": \"histogram2dcontour\"}], \"mesh3d\": [{\"colorbar\": {\"outlinewidth\": 0, \"ticks\": \"\"}, \"type\": \"mesh3d\"}], \"parcoords\": [{\"line\": {\"colorbar\": {\"outlinewidth\": 0, \"ticks\": \"\"}}, \"type\": \"parcoords\"}], \"pie\": [{\"automargin\": true, \"type\": \"pie\"}], \"scatter\": [{\"marker\": {\"colorbar\": {\"outlinewidth\": 0, \"ticks\": \"\"}}, \"type\": \"scatter\"}], \"scatter3d\": [{\"line\": {\"colorbar\": {\"outlinewidth\": 0, \"ticks\": \"\"}}, \"marker\": {\"colorbar\": {\"outlinewidth\": 0, \"ticks\": \"\"}}, \"type\": \"scatter3d\"}], \"scattercarpet\": [{\"marker\": {\"colorbar\": {\"outlinewidth\": 0, \"ticks\": \"\"}}, \"type\": \"scattercarpet\"}], \"scattergeo\": [{\"marker\": {\"colorbar\": {\"outlinewidth\": 0, \"ticks\": \"\"}}, \"type\": \"scattergeo\"}], \"scattergl\": [{\"marker\": {\"colorbar\": {\"outlinewidth\": 0, \"ticks\": \"\"}}, \"type\": \"scattergl\"}], \"scattermapbox\": [{\"marker\": {\"colorbar\": {\"outlinewidth\": 0, \"ticks\": \"\"}}, \"type\": \"scattermapbox\"}], \"scatterpolar\": [{\"marker\": {\"colorbar\": {\"outlinewidth\": 0, \"ticks\": \"\"}}, \"type\": \"scatterpolar\"}], \"scatterpolargl\": [{\"marker\": {\"colorbar\": {\"outlinewidth\": 0, \"ticks\": \"\"}}, \"type\": \"scatterpolargl\"}], \"scatterternary\": [{\"marker\": {\"colorbar\": {\"outlinewidth\": 0, \"ticks\": \"\"}}, \"type\": \"scatterternary\"}], \"surface\": [{\"colorbar\": {\"outlinewidth\": 0, \"ticks\": \"\"}, \"colorscale\": [[0.0, \"#0d0887\"], [0.1111111111111111, \"#46039f\"], [0.2222222222222222, \"#7201a8\"], [0.3333333333333333, \"#9c179e\"], [0.4444444444444444, \"#bd3786\"], [0.5555555555555556, \"#d8576b\"], [0.6666666666666666, \"#ed7953\"], [0.7777777777777778, \"#fb9f3a\"], [0.8888888888888888, \"#fdca26\"], [1.0, \"#f0f921\"]], \"type\": \"surface\"}], \"table\": [{\"cells\": {\"fill\": {\"color\": \"#EBF0F8\"}, \"line\": {\"color\": \"white\"}}, \"header\": {\"fill\": {\"color\": \"#C8D4E3\"}, \"line\": {\"color\": \"white\"}}, \"type\": \"table\"}]}, \"layout\": {\"annotationdefaults\": {\"arrowcolor\": \"#2a3f5f\", \"arrowhead\": 0, \"arrowwidth\": 1}, \"coloraxis\": {\"colorbar\": {\"outlinewidth\": 0, \"ticks\": \"\"}}, \"colorscale\": {\"diverging\": [[0, \"#8e0152\"], [0.1, \"#c51b7d\"], [0.2, \"#de77ae\"], [0.3, \"#f1b6da\"], [0.4, \"#fde0ef\"], [0.5, \"#f7f7f7\"], [0.6, \"#e6f5d0\"], [0.7, \"#b8e186\"], [0.8, \"#7fbc41\"], [0.9, \"#4d9221\"], [1, \"#276419\"]], \"sequential\": [[0.0, \"#0d0887\"], [0.1111111111111111, \"#46039f\"], [0.2222222222222222, \"#7201a8\"], [0.3333333333333333, \"#9c179e\"], [0.4444444444444444, \"#bd3786\"], [0.5555555555555556, \"#d8576b\"], [0.6666666666666666, \"#ed7953\"], [0.7777777777777778, \"#fb9f3a\"], [0.8888888888888888, \"#fdca26\"], [1.0, \"#f0f921\"]], \"sequentialminus\": [[0.0, \"#0d0887\"], [0.1111111111111111, \"#46039f\"], [0.2222222222222222, \"#7201a8\"], [0.3333333333333333, \"#9c179e\"], [0.4444444444444444, \"#bd3786\"], [0.5555555555555556, \"#d8576b\"], [0.6666666666666666, \"#ed7953\"], [0.7777777777777778, \"#fb9f3a\"], [0.8888888888888888, \"#fdca26\"], [1.0, \"#f0f921\"]]}, \"colorway\": [\"#636efa\", \"#EF553B\", \"#00cc96\", \"#ab63fa\", \"#FFA15A\", \"#19d3f3\", \"#FF6692\", \"#B6E880\", \"#FF97FF\", \"#FECB52\"], \"font\": {\"color\": \"#2a3f5f\"}, \"geo\": {\"bgcolor\": \"white\", \"lakecolor\": \"white\", \"landcolor\": \"#E5ECF6\", \"showlakes\": true, \"showland\": true, \"subunitcolor\": \"white\"}, \"hoverlabel\": {\"align\": \"left\"}, \"hovermode\": \"closest\", \"mapbox\": {\"style\": \"light\"}, \"paper_bgcolor\": \"white\", \"plot_bgcolor\": \"#E5ECF6\", \"polar\": {\"angularaxis\": {\"gridcolor\": \"white\", \"linecolor\": \"white\", \"ticks\": \"\"}, \"bgcolor\": \"#E5ECF6\", \"radialaxis\": {\"gridcolor\": \"white\", \"linecolor\": \"white\", \"ticks\": \"\"}}, \"scene\": {\"xaxis\": {\"backgroundcolor\": \"#E5ECF6\", \"gridcolor\": \"white\", \"gridwidth\": 2, \"linecolor\": \"white\", \"showbackground\": true, \"ticks\": \"\", \"zerolinecolor\": \"white\"}, \"yaxis\": {\"backgroundcolor\": \"#E5ECF6\", \"gridcolor\": \"white\", \"gridwidth\": 2, \"linecolor\": \"white\", \"showbackground\": true, \"ticks\": \"\", \"zerolinecolor\": \"white\"}, \"zaxis\": {\"backgroundcolor\": \"#E5ECF6\", \"gridcolor\": \"white\", \"gridwidth\": 2, \"linecolor\": \"white\", \"showbackground\": true, \"ticks\": \"\", \"zerolinecolor\": \"white\"}}, \"shapedefaults\": {\"line\": {\"color\": \"#2a3f5f\"}}, \"ternary\": {\"aaxis\": {\"gridcolor\": \"white\", \"linecolor\": \"white\", \"ticks\": \"\"}, \"baxis\": {\"gridcolor\": \"white\", \"linecolor\": \"white\", \"ticks\": \"\"}, \"bgcolor\": \"#E5ECF6\", \"caxis\": {\"gridcolor\": \"white\", \"linecolor\": \"white\", \"ticks\": \"\"}}, \"title\": {\"x\": 0.05}, \"xaxis\": {\"automargin\": true, \"gridcolor\": \"white\", \"linecolor\": \"white\", \"ticks\": \"\", \"title\": {\"standoff\": 15}, \"zerolinecolor\": \"white\", \"zerolinewidth\": 2}, \"yaxis\": {\"automargin\": true, \"gridcolor\": \"white\", \"linecolor\": \"white\", \"ticks\": \"\", \"title\": {\"standoff\": 15}, \"zerolinecolor\": \"white\", \"zerolinewidth\": 2}}}, \"title\": {\"text\": \"Data scientist(LinkedIn) open positions vs. post date\"}},\n",
       "                        {\"responsive\": true}\n",
       "                    ).then(function(){\n",
       "                            \n",
       "var gd = document.getElementById('d99add2d-c8ef-48a9-a797-8555df9b781b');\n",
       "var x = new MutationObserver(function (mutations, observer) {{\n",
       "        var display = window.getComputedStyle(gd).display;\n",
       "        if (!display || display === 'none') {{\n",
       "            console.log([gd, 'removed!']);\n",
       "            Plotly.purge(gd);\n",
       "            observer.disconnect();\n",
       "        }}\n",
       "}});\n",
       "\n",
       "// Listen for the removal of the full notebook cells\n",
       "var notebookContainer = gd.closest('#notebook-container');\n",
       "if (notebookContainer) {{\n",
       "    x.observe(notebookContainer, {childList: true});\n",
       "}}\n",
       "\n",
       "// Listen for the clearing of the current output cell\n",
       "var outputEl = gd.closest('.output');\n",
       "if (outputEl) {{\n",
       "    x.observe(outputEl, {childList: true});\n",
       "}}\n",
       "\n",
       "                        })\n",
       "                };\n",
       "                });\n",
       "            </script>\n",
       "        </div>"
      ]
     },
     "metadata": {},
     "output_type": "display_data"
    }
   ],
   "source": [
    "fig = go.Figure()\n",
    "\n",
    "fig.add_trace(go.Scatter(x=df_date_linkedin_trunc.index, y=df_date_linkedin_trunc['Jobnums'], mode='lines+markers'))\n",
    "\n",
    "fig.update_layout(title='Data scientist(LinkedIn) open positions vs. post date')\n",
    "fig.show()"
   ]
  },
  {
   "cell_type": "code",
   "execution_count": 39,
   "metadata": {},
   "outputs": [
    {
     "data": {
      "text/plain": [
       "Text(0.5, 0, ' ')"
      ]
     },
     "execution_count": 39,
     "metadata": {},
     "output_type": "execute_result"
    },
    {
     "data": {
      "image/png": "[encoded data removed]",
      "text/plain": [
       "<Figure size 576x288 with 1 Axes>"
      ]
     },
     "metadata": {
      "needs_background": "light"
     },
     "output_type": "display_data"
    }
   ],
   "source": [
    "by_weekday = df_date_linkedin_trunc.groupby('Day of week').sum()\n",
    "by_weekday.reset_index(inplace=True)\n",
    "by_weekday\n",
    "\n",
    "plt.figure(figsize=(8,4))\n",
    "sns.barplot(x='Day of week', y='Jobnums', data=by_weekday, palette='viridis')\n",
    "plt.xticks(horizontalalignment='right', fontweight='light', fontsize='large')\n",
    "plt.yticks(fontsize='large')\n",
    "plt.ylabel('Job numbers', fontsize='x-large')\n",
    "plt.xlabel(' ')"
   ]
  },
  {
   "cell_type": "markdown",
   "metadata": {},
   "source": [
    "## Combine with COVID-19 "
   ]
  },
  {
   "cell_type": "code",
   "execution_count": 40,
   "metadata": {},
   "outputs": [
    {
     "data": {
      "text/html": [
       "<div>\n",
       "<style scoped>\n",
       "    .dataframe tbody tr th:only-of-type {\n",
       "        vertical-align: middle;\n",
       "    }\n",
       "\n",
       "    .dataframe tbody tr th {\n",
       "        vertical-align: top;\n",
       "    }\n",
       "\n",
       "    .dataframe thead th {\n",
       "        text-align: right;\n",
       "    }\n",
       "</style>\n",
       "<table border=\"1\" class=\"dataframe\">\n",
       "  <thead>\n",
       "    <tr style=\"text-align: right;\">\n",
       "      <th></th>\n",
       "      <th>Date</th>\n",
       "      <th>Jobnums</th>\n",
       "      <th>Day of week</th>\n",
       "      <th>Weekend</th>\n",
       "      <th>Confirmed</th>\n",
       "      <th>Deaths</th>\n",
       "      <th>Recovered</th>\n",
       "      <th>Active</th>\n",
       "      <th>New</th>\n",
       "      <th>Fatality</th>\n",
       "    </tr>\n",
       "    <tr>\n",
       "      <th>Date</th>\n",
       "      <th></th>\n",
       "      <th></th>\n",
       "      <th></th>\n",
       "      <th></th>\n",
       "      <th></th>\n",
       "      <th></th>\n",
       "      <th></th>\n",
       "      <th></th>\n",
       "      <th></th>\n",
       "      <th></th>\n",
       "    </tr>\n",
       "  </thead>\n",
       "  <tbody>\n",
       "    <tr>\n",
       "      <td>2020-05-19</td>\n",
       "      <td>2020-05-19</td>\n",
       "      <td>433</td>\n",
       "      <td>Tue</td>\n",
       "      <td>0</td>\n",
       "      <td>1535350</td>\n",
       "      <td>94798</td>\n",
       "      <td>289392</td>\n",
       "      <td>1151160</td>\n",
       "      <td>20449</td>\n",
       "      <td>6.174358</td>\n",
       "    </tr>\n",
       "    <tr>\n",
       "      <td>2020-05-20</td>\n",
       "      <td>2020-05-20</td>\n",
       "      <td>108</td>\n",
       "      <td>Wed</td>\n",
       "      <td>0</td>\n",
       "      <td>1559157</td>\n",
       "      <td>96377</td>\n",
       "      <td>294312</td>\n",
       "      <td>1168468</td>\n",
       "      <td>23807</td>\n",
       "      <td>6.181353</td>\n",
       "    </tr>\n",
       "    <tr>\n",
       "      <td>2020-05-21</td>\n",
       "      <td>2020-05-21</td>\n",
       "      <td>91</td>\n",
       "      <td>Thu</td>\n",
       "      <td>0</td>\n",
       "      <td>1584512</td>\n",
       "      <td>97611</td>\n",
       "      <td>298418</td>\n",
       "      <td>1188483</td>\n",
       "      <td>25355</td>\n",
       "      <td>6.160319</td>\n",
       "    </tr>\n",
       "    <tr>\n",
       "      <td>2020-05-22</td>\n",
       "      <td>2020-05-22</td>\n",
       "      <td>126</td>\n",
       "      <td>Fri</td>\n",
       "      <td>0</td>\n",
       "      <td>1608653</td>\n",
       "      <td>98884</td>\n",
       "      <td>350135</td>\n",
       "      <td>1159634</td>\n",
       "      <td>24141</td>\n",
       "      <td>6.147006</td>\n",
       "    </tr>\n",
       "    <tr>\n",
       "      <td>2020-05-23</td>\n",
       "      <td>2020-05-23</td>\n",
       "      <td>276</td>\n",
       "      <td>Sat</td>\n",
       "      <td>1</td>\n",
       "      <td>1630476</td>\n",
       "      <td>100014</td>\n",
       "      <td>361239</td>\n",
       "      <td>1169223</td>\n",
       "      <td>21823</td>\n",
       "      <td>6.134037</td>\n",
       "    </tr>\n",
       "    <tr>\n",
       "      <td>...</td>\n",
       "      <td>...</td>\n",
       "      <td>...</td>\n",
       "      <td>...</td>\n",
       "      <td>...</td>\n",
       "      <td>...</td>\n",
       "      <td>...</td>\n",
       "      <td>...</td>\n",
       "      <td>...</td>\n",
       "      <td>...</td>\n",
       "      <td>...</td>\n",
       "    </tr>\n",
       "    <tr>\n",
       "      <td>2020-08-11</td>\n",
       "      <td>2020-08-11</td>\n",
       "      <td>552</td>\n",
       "      <td>Tue</td>\n",
       "      <td>0</td>\n",
       "      <td>5141208</td>\n",
       "      <td>164527</td>\n",
       "      <td>1714960</td>\n",
       "      <td>3261721</td>\n",
       "      <td>46808</td>\n",
       "      <td>3.200162</td>\n",
       "    </tr>\n",
       "    <tr>\n",
       "      <td>2020-08-12</td>\n",
       "      <td>2020-08-12</td>\n",
       "      <td>597</td>\n",
       "      <td>Wed</td>\n",
       "      <td>0</td>\n",
       "      <td>5197411</td>\n",
       "      <td>166034</td>\n",
       "      <td>1753760</td>\n",
       "      <td>3277617</td>\n",
       "      <td>56203</td>\n",
       "      <td>3.194552</td>\n",
       "    </tr>\n",
       "    <tr>\n",
       "      <td>2020-08-13</td>\n",
       "      <td>2020-08-13</td>\n",
       "      <td>744</td>\n",
       "      <td>Thu</td>\n",
       "      <td>0</td>\n",
       "      <td>5248958</td>\n",
       "      <td>167110</td>\n",
       "      <td>1774648</td>\n",
       "      <td>3307200</td>\n",
       "      <td>51547</td>\n",
       "      <td>3.183680</td>\n",
       "    </tr>\n",
       "    <tr>\n",
       "      <td>2020-08-14</td>\n",
       "      <td>2020-08-14</td>\n",
       "      <td>499</td>\n",
       "      <td>Fri</td>\n",
       "      <td>0</td>\n",
       "      <td>5313252</td>\n",
       "      <td>168452</td>\n",
       "      <td>1796326</td>\n",
       "      <td>3348474</td>\n",
       "      <td>64294</td>\n",
       "      <td>3.170412</td>\n",
       "    </tr>\n",
       "    <tr>\n",
       "      <td>2020-08-15</td>\n",
       "      <td>2020-08-15</td>\n",
       "      <td>510</td>\n",
       "      <td>Sat</td>\n",
       "      <td>1</td>\n",
       "      <td>5361165</td>\n",
       "      <td>169481</td>\n",
       "      <td>1818527</td>\n",
       "      <td>3373157</td>\n",
       "      <td>47913</td>\n",
       "      <td>3.161272</td>\n",
       "    </tr>\n",
       "  </tbody>\n",
       "</table>\n",
       "<p>89 rows × 10 columns</p>\n",
       "</div>"
      ],
      "text/plain": [
       "                 Date  Jobnums Day of week  Weekend  Confirmed  Deaths  \\\n",
       "Date                                                                     \n",
       "2020-05-19 2020-05-19      433         Tue        0    1535350   94798   \n",
       "2020-05-20 2020-05-20      108         Wed        0    1559157   96377   \n",
       "2020-05-21 2020-05-21       91         Thu        0    1584512   97611   \n",
       "2020-05-22 2020-05-22      126         Fri        0    1608653   98884   \n",
       "2020-05-23 2020-05-23      276         Sat        1    1630476  100014   \n",
       "...               ...      ...         ...      ...        ...     ...   \n",
       "2020-08-11 2020-08-11      552         Tue        0    5141208  164527   \n",
       "2020-08-12 2020-08-12      597         Wed        0    5197411  166034   \n",
       "2020-08-13 2020-08-13      744         Thu        0    5248958  167110   \n",
       "2020-08-14 2020-08-14      499         Fri        0    5313252  168452   \n",
       "2020-08-15 2020-08-15      510         Sat        1    5361165  169481   \n",
       "\n",
       "            Recovered   Active    New  Fatality  \n",
       "Date                                             \n",
       "2020-05-19     289392  1151160  20449  6.174358  \n",
       "2020-05-20     294312  1168468  23807  6.181353  \n",
       "2020-05-21     298418  1188483  25355  6.160319  \n",
       "2020-05-22     350135  1159634  24141  6.147006  \n",
       "2020-05-23     361239  1169223  21823  6.134037  \n",
       "...               ...      ...    ...       ...  \n",
       "2020-08-11    1714960  3261721  46808  3.200162  \n",
       "2020-08-12    1753760  3277617  56203  3.194552  \n",
       "2020-08-13    1774648  3307200  51547  3.183680  \n",
       "2020-08-14    1796326  3348474  64294  3.170412  \n",
       "2020-08-15    1818527  3373157  47913  3.161272  \n",
       "\n",
       "[89 rows x 10 columns]"
      ]
     },
     "execution_count": 40,
     "metadata": {},
     "output_type": "execute_result"
    }
   ],
   "source": [
    "df_covid_trunc = bydate_us['2020-05-19':'2020-08-15']\n",
    "\n",
    "df_combined_linkedin = pd.concat([df_date_linkedin_trunc, df_covid_trunc], axis=1)\n",
    "df_combined_linkedin"
   ]
  },
  {
   "cell_type": "code",
   "execution_count": 41,
   "metadata": {},
   "outputs": [
    {
     "data": {
      "text/html": [
       "<div>\n",
       "<style scoped>\n",
       "    .dataframe tbody tr th:only-of-type {\n",
       "        vertical-align: middle;\n",
       "    }\n",
       "\n",
       "    .dataframe tbody tr th {\n",
       "        vertical-align: top;\n",
       "    }\n",
       "\n",
       "    .dataframe thead th {\n",
       "        text-align: right;\n",
       "    }\n",
       "</style>\n",
       "<table border=\"1\" class=\"dataframe\">\n",
       "  <thead>\n",
       "    <tr style=\"text-align: right;\">\n",
       "      <th></th>\n",
       "      <th>Date</th>\n",
       "      <th>Jobnums</th>\n",
       "      <th>Day of week</th>\n",
       "      <th>Weekend</th>\n",
       "      <th>Confirmed</th>\n",
       "      <th>Deaths</th>\n",
       "      <th>Recovered</th>\n",
       "      <th>Active</th>\n",
       "      <th>New</th>\n",
       "      <th>Fatality</th>\n",
       "    </tr>\n",
       "    <tr>\n",
       "      <th>Date</th>\n",
       "      <th></th>\n",
       "      <th></th>\n",
       "      <th></th>\n",
       "      <th></th>\n",
       "      <th></th>\n",
       "      <th></th>\n",
       "      <th></th>\n",
       "      <th></th>\n",
       "      <th></th>\n",
       "      <th></th>\n",
       "    </tr>\n",
       "  </thead>\n",
       "  <tbody>\n",
       "    <tr>\n",
       "      <td>2020-05-19</td>\n",
       "      <td>2020-05-19</td>\n",
       "      <td>433</td>\n",
       "      <td>Tue</td>\n",
       "      <td>0</td>\n",
       "      <td>1535350</td>\n",
       "      <td>94798</td>\n",
       "      <td>289392</td>\n",
       "      <td>1151160</td>\n",
       "      <td>20449.0</td>\n",
       "      <td>6.174358</td>\n",
       "    </tr>\n",
       "    <tr>\n",
       "      <td>2020-05-20</td>\n",
       "      <td>2020-05-20</td>\n",
       "      <td>108</td>\n",
       "      <td>Wed</td>\n",
       "      <td>0</td>\n",
       "      <td>1559157</td>\n",
       "      <td>96377</td>\n",
       "      <td>294312</td>\n",
       "      <td>1168468</td>\n",
       "      <td>23807.0</td>\n",
       "      <td>6.181353</td>\n",
       "    </tr>\n",
       "    <tr>\n",
       "      <td>2020-05-21</td>\n",
       "      <td>2020-05-21</td>\n",
       "      <td>91</td>\n",
       "      <td>Thu</td>\n",
       "      <td>0</td>\n",
       "      <td>1584512</td>\n",
       "      <td>97611</td>\n",
       "      <td>298418</td>\n",
       "      <td>1188483</td>\n",
       "      <td>25355.0</td>\n",
       "      <td>6.160319</td>\n",
       "    </tr>\n",
       "    <tr>\n",
       "      <td>2020-05-22</td>\n",
       "      <td>2020-05-22</td>\n",
       "      <td>126</td>\n",
       "      <td>Fri</td>\n",
       "      <td>0</td>\n",
       "      <td>1608653</td>\n",
       "      <td>98884</td>\n",
       "      <td>350135</td>\n",
       "      <td>1159634</td>\n",
       "      <td>24141.0</td>\n",
       "      <td>6.147006</td>\n",
       "    </tr>\n",
       "    <tr>\n",
       "      <td>2020-05-23</td>\n",
       "      <td>2020-05-23</td>\n",
       "      <td>276</td>\n",
       "      <td>Sat</td>\n",
       "      <td>1</td>\n",
       "      <td>1630476</td>\n",
       "      <td>100014</td>\n",
       "      <td>361239</td>\n",
       "      <td>1169223</td>\n",
       "      <td>21823.0</td>\n",
       "      <td>6.134037</td>\n",
       "    </tr>\n",
       "  </tbody>\n",
       "</table>\n",
       "</div>"
      ],
      "text/plain": [
       "                 Date  Jobnums Day of week  Weekend  Confirmed  Deaths  \\\n",
       "Date                                                                     \n",
       "2020-05-19 2020-05-19      433         Tue        0    1535350   94798   \n",
       "2020-05-20 2020-05-20      108         Wed        0    1559157   96377   \n",
       "2020-05-21 2020-05-21       91         Thu        0    1584512   97611   \n",
       "2020-05-22 2020-05-22      126         Fri        0    1608653   98884   \n",
       "2020-05-23 2020-05-23      276         Sat        1    1630476  100014   \n",
       "\n",
       "            Recovered   Active      New  Fatality  \n",
       "Date                                               \n",
       "2020-05-19     289392  1151160  20449.0  6.174358  \n",
       "2020-05-20     294312  1168468  23807.0  6.181353  \n",
       "2020-05-21     298418  1188483  25355.0  6.160319  \n",
       "2020-05-22     350135  1159634  24141.0  6.147006  \n",
       "2020-05-23     361239  1169223  21823.0  6.134037  "
      ]
     },
     "execution_count": 41,
     "metadata": {},
     "output_type": "execute_result"
    }
   ],
   "source": [
    "df_combined_linkedin['New']=df_combined_linkedin['New'].astype(np.float64)\n",
    "df_combined_linkedin.head()"
   ]
  },
  {
   "cell_type": "code",
   "execution_count": 53,
   "metadata": {
    "scrolled": true
   },
   "outputs": [
    {
     "data": {
      "image/png": "[encoded data removed]",
      "text/plain": [
       "<Figure size 576x432 with 1 Axes>"
      ]
     },
     "metadata": {
      "needs_background": "light"
     },
     "output_type": "display_data"
    }
   ],
   "source": [
    "plt.figure(figsize=(8,6))\n",
    "sns.set_context('poster',font_scale=0.5)\n",
    "sns.boxplot(data=df_combined_indeed, x='Day of week', y='Jobnums',order=['Mon','Tue','Wed','Thu','Fri','Sat','Sun'])\n",
    "plt.ylabel('Job Openings', fontsize='large')\n",
    "plt.xlabel('Day of Week', fontsize='large')\n",
    "plt.title('Indeed Data Scientist Jobs Boxplot by Day of Week', fontsize='x-large')\n",
    "plt.show()"
   ]
  },
  {
   "cell_type": "code",
   "execution_count": 42,
   "metadata": {},
   "outputs": [
    {
     "data": {
      "image/png": "[encoded data removed]",
      "text/plain": [
       "<Figure size 1080x432 with 2 Axes>"
      ]
     },
     "metadata": {
      "needs_background": "light"
     },
     "output_type": "display_data"
    }
   ],
   "source": [
    "plt.figure(figsize=(15,6))\n",
    "sns.set_context('poster',font_scale=0.5)\n",
    "plt.subplot(121)\n",
    "sns.boxplot(data=df_combined_indeed, x='Day of week', y='Jobnums',order=['Mon','Tue','Wed','Thu','Fri','Sat','Sun'])\n",
    "plt.ylabel('Job Openings', fontsize='large')\n",
    "plt.xlabel('Day of Week', fontsize='large')\n",
    "plt.title('Indeed', fontsize='x-large')\n",
    "plt.subplot(122)\n",
    "sns.boxplot(data=df_combined_linkedin, x='Day of week', y='Jobnums',order=['Mon','Tue','Wed','Thu','Fri','Sat','Sun'])\n",
    "plt.ylabel('Job Openings', fontsize='large')\n",
    "plt.xlabel('Day of Week', fontsize='large')\n",
    "plt.title('LinkedIn', fontsize='x-large')\n",
    "plt.suptitle('Data Scientist Openings Boxplot by Day of Week', fontsize='xx-large')\n",
    "plt.show()"
   ]
  },
  {
   "cell_type": "markdown",
   "metadata": {},
   "source": [
    "## Grid Search"
   ]
  },
  {
   "cell_type": "code",
   "execution_count": 43,
   "metadata": {},
   "outputs": [
    {
     "name": "stdout",
     "output_type": "stream",
     "text": [
      "---> Model[[(3, 0), 'n', 1]] 79.525\n",
      "---> Model[[(3, 0), 'n', 2]] 105.339\n",
      "---> Model[[(3, 0), 'n', 0]] 94.374\n",
      "---> Model[[(3, 0), 'c', 0]] 99.727\n",
      "---> Model[[(3, 0), 'c', 1]] 82.467\n",
      "---> Model[[(3, 0), 'c', 2]] 105.665\n",
      "---> Model[[(3, 0), 't', 1]] 80.960\n",
      "---> Model[[(3, 0), 't', 0]] 121.799\n",
      "---> Model[[(3, 0), 't', 2]] 105.685\n",
      "---> Model[[(3, 0), 'ct', 0]] 165.463\n",
      "---> Model[[(3, 0), 'ct', 1]] 77.112\n",
      "---> Model[[(3, 0), 'ct', 2]] 108.427\n",
      "---> Model[[(3, 1), 'n', 0]] 96.771\n",
      "---> Model[[(3, 1), 'n', 1]] 86.839\n",
      "---> Model[[(3, 1), 'n', 2]] 85.490\n",
      "---> Model[[(3, 1), 'c', 0]] 95.883\n",
      "---> Model[[(3, 1), 'c', 1]] 98.139\n",
      "---> Model[[(3, 1), 'c', 2]] 98.753\n",
      "---> Model[[(3, 1), 't', 0]] 84.889\n",
      "---> Model[[(3, 1), 't', 1]] 91.338\n",
      "---> Model[[(3, 1), 't', 2]] 63.841\n",
      "---> Model[[(3, 1), 'ct', 0]] 111.435\n",
      "---> Model[[(3, 1), 'ct', 1]] 80.918\n",
      "---> Model[[(3, 1), 'ct', 2]] 66.590\n",
      "---> Model[[(3, 2), 'n', 0]] 81.321\n",
      "---> Model[[(3, 2), 'n', 1]] 93.528\n",
      "---> Model[[(3, 2), 'n', 2]] 82.571\n",
      "---> Model[[(3, 2), 'c', 0]] 100.382\n",
      "---> Model[[(3, 2), 'c', 1]] 80.446\n",
      "---> Model[[(3, 2), 'c', 2]] 95.833\n",
      "---> Model[[(3, 2), 't', 0]] 83.652\n",
      "---> Model[[(3, 2), 't', 1]] 94.152\n",
      "---> Model[[(3, 2), 't', 2]] 67.620\n",
      "---> Model[[(3, 2), 'ct', 0]] 117.366\n",
      "---> Model[[(4, 0), 'n', 0]] 86.254\n",
      "---> Model[[(4, 0), 'n', 1]] 74.860\n",
      "---> Model[[(4, 0), 'n', 2]] 85.674\n",
      "---> Model[[(4, 0), 'c', 1]] 81.216\n",
      "---> Model[[(3, 2), 'ct', 1]] 83.442\n",
      "---> Model[[(3, 2), 'ct', 2]] 60.729\n",
      "---> Model[[(4, 0), 'c', 0]] 99.996\n",
      "---> Model[[(4, 0), 'c', 2]] 86.213\n",
      "---> Model[[(4, 0), 't', 1]] 78.151\n",
      "---> Model[[(4, 0), 't', 0]] 100.087\n",
      "---> Model[[(4, 0), 't', 2]] 88.771\n",
      "---> Model[[(4, 0), 'ct', 0]] 137.750\n",
      "---> Model[[(4, 0), 'ct', 1]] 68.793\n",
      "---> Model[[(4, 0), 'ct', 2]] 88.249\n",
      "---> Model[[(4, 1), 'n', 0]] 102.571\n",
      "---> Model[[(4, 1), 'n', 1]] 76.073\n",
      "---> Model[[(4, 1), 'n', 2]] 79.346\n",
      "---> Model[[(4, 1), 'c', 0]] 88.521\n",
      "---> Model[[(4, 1), 'c', 1]] 79.617\n",
      "---> Model[[(4, 1), 'c', 2]] 100.087\n",
      "---> Model[[(4, 1), 't', 0]] 102.675\n",
      "---> Model[[(4, 1), 't', 1]] 80.129\n",
      "---> Model[[(4, 1), 't', 2]] 62.123\n",
      "---> Model[[(4, 1), 'ct', 0]] 140.793\n",
      "---> Model[[(4, 1), 'ct', 1]] 74.912\n",
      "---> Model[[(4, 1), 'ct', 2]] 67.247\n",
      "---> Model[[(4, 2), 'n', 0]] 92.711\n",
      "---> Model[[(4, 2), 'n', 1]] 80.738\n",
      "---> Model[[(4, 2), 'n', 2]] 103.548\n",
      "---> Model[[(4, 2), 'c', 0]] 87.087\n",
      "---> Model[[(4, 2), 'c', 1]] 61.125\n",
      "---> Model[[(4, 2), 'c', 2]] 110.573\n",
      "---> Model[[(4, 2), 't', 1]] 85.066\n",
      "---> Model[[(4, 2), 't', 0]] 79.464\n",
      "---> Model[[(4, 2), 't', 2]] 76.609\n",
      "---> Model[[(5, 0), 'n', 0]] 83.344\n",
      "---> Model[[(4, 2), 'ct', 0]] 125.832\n",
      "---> Model[[(5, 0), 'n', 1]] 88.152\n",
      "---> Model[[(5, 0), 'n', 2]] 96.495\n",
      "---> Model[[(4, 2), 'ct', 2]] 123.286\n",
      "---> Model[[(4, 2), 'ct', 1]] 83.754\n",
      "---> Model[[(5, 0), 'c', 1]] 96.184\n",
      "---> Model[[(5, 0), 'c', 0]] 98.335\n",
      "---> Model[[(5, 0), 'c', 2]] 97.103\n",
      "---> Model[[(5, 0), 't', 0]] 89.309\n",
      "---> Model[[(5, 0), 't', 1]] 92.402\n",
      "---> Model[[(5, 0), 't', 2]] 99.600\n",
      "---> Model[[(5, 0), 'ct', 0]] 126.742\n",
      "---> Model[[(5, 0), 'ct', 1]] 84.406\n",
      "---> Model[[(5, 0), 'ct', 2]] 102.480\n",
      "---> Model[[(5, 1), 'n', 0]] 90.170\n",
      "---> Model[[(5, 1), 'n', 1]] 92.875\n",
      "---> Model[[(5, 1), 'n', 2]] 90.957\n",
      "---> Model[[(5, 1), 'c', 0]] 75.387\n",
      "---> Model[[(5, 1), 'c', 1]] 105.484\n",
      "---> Model[[(5, 1), 'c', 2]] 90.687\n",
      "---> Model[[(5, 1), 't', 0]] 90.773\n",
      "---> Model[[(5, 1), 't', 1]] 100.058\n",
      "---> Model[[(5, 1), 't', 2]] 64.243\n",
      "---> Model[[(5, 1), 'ct', 0]] 125.945\n",
      "---> Model[[(5, 1), 'ct', 2]] 77.272\n",
      "---> Model[[(5, 2), 'n', 0]] 105.944\n",
      "---> Model[[(5, 1), 'ct', 1]] 85.175\n",
      "---> Model[[(5, 2), 'n', 1]] 103.971\n",
      "---> Model[[(5, 2), 'c', 0]] 79.233\n",
      "---> Model[[(5, 2), 'c', 1]] 108.701\n",
      "---> Model[[(5, 2), 'n', 2]] 81.027\n",
      "---> Model[[(5, 2), 'c', 2]] 87.190\n",
      "---> Model[[(5, 2), 't', 0]] 88.039\n",
      "---> Model[[(5, 2), 't', 1]] 106.413\n",
      "---> Model[[(5, 2), 't', 2]] 112.208\n",
      "---> Model[[(5, 2), 'ct', 0]] 126.382\n",
      "---> Model[[(6, 0), 'n', 0]] 128.314\n",
      "---> Model[[(6, 0), 'n', 1]] 90.220\n",
      "---> Model[[(5, 2), 'ct', 1]] 111.234\n",
      "---> Model[[(6, 0), 'n', 2]] 127.890\n",
      "---> Model[[(5, 2), 'ct', 2]] 130.843\n",
      "---> Model[[(6, 0), 'c', 1]] 101.510\n",
      "---> Model[[(6, 0), 'c', 0]] 106.599\n",
      "---> Model[[(6, 0), 'c', 2]] 129.949\n",
      "---> Model[[(6, 0), 't', 0]] 125.262\n",
      "---> Model[[(6, 0), 't', 1]] 95.730\n",
      "---> Model[[(6, 0), 't', 2]] 131.521\n",
      "---> Model[[(6, 0), 'ct', 0]] 149.508\n",
      "---> Model[[(6, 0), 'ct', 1]] 85.759\n",
      "---> Model[[(6, 1), 'n', 0]] 130.330\n",
      "---> Model[[(6, 0), 'ct', 2]] 138.898\n",
      "---> Model[[(6, 1), 'n', 1]] 86.075\n",
      "---> Model[[(6, 1), 'n', 2]] 125.992\n",
      "---> Model[[(6, 1), 'c', 0]] 92.790\n",
      "---> Model[[(6, 1), 'c', 1]] 122.593\n",
      "---> Model[[(6, 1), 'c', 2]] 129.358\n",
      "---> Model[[(6, 1), 't', 0]] 104.824\n",
      "---> Model[[(6, 1), 't', 2]] 143.893\n",
      "---> Model[[(6, 1), 't', 1]] 92.885\n",
      "---> Model[[(6, 1), 'ct', 0]] 165.473\n",
      "---> Model[[(6, 1), 'ct', 1]] 88.663\n",
      "---> Model[[(6, 2), 'n', 0]] 109.088\n",
      "---> Model[[(6, 1), 'ct', 2]] 149.061\n",
      "---> Model[[(6, 2), 'n', 1]] 117.967\n",
      "---> Model[[(6, 2), 'c', 0]] 106.746\n",
      "---> Model[[(6, 2), 'n', 2]] 95.378\n",
      "---> Model[[(6, 2), 'c', 1]] 106.888\n",
      "---> Model[[(6, 2), 'c', 2]] 103.968\n",
      "---> Model[[(6, 2), 't', 0]] 112.973\n",
      "---> Model[[(6, 2), 't', 1]] 110.599\n",
      "---> Model[[(6, 2), 't', 2]] 114.713\n",
      "---> Model[[(6, 2), 'ct', 0]] 164.603\n",
      "---> Model[[(7, 0), 'n', 0]] 107.052\n",
      "---> Model[[(7, 0), 'n', 1]] 113.820\n",
      "---> Model[[(6, 2), 'ct', 1]] 109.662\n",
      "---> Model[[(6, 2), 'ct', 2]] 133.097\n",
      "---> Model[[(7, 0), 'n', 2]] 124.789\n",
      "---> Model[[(7, 0), 'c', 0]] 116.188\n",
      "---> Model[[(7, 0), 'c', 1]] 117.009\n",
      "---> Model[[(7, 0), 'c', 2]] 122.793\n",
      "---> Model[[(7, 0), 't', 0]] 111.433\n",
      "---> Model[[(7, 0), 't', 1]] 120.334\n",
      "---> Model[[(7, 0), 't', 2]] 144.687\n",
      "---> Model[[(7, 0), 'ct', 0]] 161.754\n",
      "---> Model[[(7, 0), 'ct', 1]] 116.868\n",
      "---> Model[[(7, 1), 'n', 0]] 95.023\n",
      "---> Model[[(7, 0), 'ct', 2]] 135.086\n",
      "---> Model[[(7, 1), 'n', 1]] 160.358\n",
      "---> Model[[(7, 1), 'n', 2]] 142.289\n",
      "---> Model[[(7, 1), 'c', 0]] 102.822\n",
      "---> Model[[(7, 1), 'c', 1]] 130.309\n",
      "---> Model[[(7, 1), 'c', 2]] 152.547\n",
      "---> Model[[(7, 1), 't', 0]] 112.165\n",
      "---> Model[[(7, 1), 't', 1]] 179.202\n",
      "---> Model[[(7, 1), 't', 2]] 162.492\n",
      "---> Model[[(7, 1), 'ct', 0]] 168.382\n",
      "---> Model[[(7, 1), 'ct', 1]] 130.226\n",
      "---> Model[[(7, 2), 'n', 0]] 104.426\n",
      "---> Model[[(7, 1), 'ct', 2]] 179.813\n",
      "---> Model[[(7, 2), 'n', 1]] 176.697\n",
      "---> Model[[(7, 2), 'n', 2]] 117.730\n",
      "---> Model[[(7, 2), 'c', 1]] 155.035\n",
      "---> Model[[(7, 2), 'c', 0]] 112.736\n",
      "---> Model[[(7, 2), 'c', 2]] 112.515\n",
      "---> Model[[(7, 2), 't', 0]] 103.081\n",
      "---> Model[[(7, 2), 't', 1]] 179.409\n",
      "---> Model[[(7, 2), 't', 2]] 119.748\n",
      "---> Model[[(7, 2), 'ct', 0]] 168.155\n",
      "---> Model[[(8, 0), 'n', 0]] 130.965\n",
      "---> Model[[(8, 0), 'n', 1]] 124.641\n",
      "---> Model[[(7, 2), 'ct', 1]] 153.980\n",
      "---> Model[[(7, 2), 'ct', 2]] 140.777\n",
      "---> Model[[(8, 0), 'n', 2]] 175.601\n",
      "---> Model[[(8, 0), 'c', 0]] 111.980\n",
      "---> Model[[(8, 0), 'c', 1]] 125.065\n",
      "---> Model[[(8, 0), 'c', 2]] 174.122\n",
      "---> Model[[(8, 0), 't', 0]] 147.591\n",
      "---> Model[[(8, 0), 't', 1]] 119.991\n",
      "---> Model[[(8, 0), 't', 2]] 182.943\n",
      "---> Model[[(8, 0), 'ct', 0]] 192.775\n",
      "---> Model[[(8, 0), 'ct', 1]] 131.497\n",
      "---> Model[[(8, 0), 'ct', 2]] 178.997\n",
      "---> Model[[(8, 1), 'n', 0]] 125.093\n",
      "---> Model[[(8, 1), 'n', 1]] 167.256\n",
      "---> Model[[(8, 1), 'n', 2]] 153.254\n",
      "---> Model[[(8, 1), 'c', 0]] 142.593\n",
      "---> Model[[(8, 1), 'c', 1]] 156.634\n",
      "---> Model[[(8, 1), 'c', 2]] 154.871\n",
      "---> Model[[(8, 1), 't', 0]] 129.611\n",
      "---> Model[[(8, 1), 't', 1]] 175.876\n",
      "---> Model[[(8, 1), 't', 2]] 173.247\n",
      "---> Model[[(8, 1), 'ct', 0]] 206.814\n",
      "---> Model[[(8, 1), 'ct', 1]] 163.152\n",
      "---> Model[[(8, 2), 'n', 0]] 136.155\n",
      "---> Model[[(8, 1), 'ct', 2]] 193.311\n",
      "---> Model[[(8, 2), 'n', 1]] 177.555\n",
      "---> Model[[(8, 2), 'c', 0]] 142.229\n",
      "---> Model[[(8, 2), 'c', 1]] 168.890\n",
      "---> Model[[(8, 2), 'n', 2]] 149.406\n",
      "---> Model[[(8, 2), 'c', 2]] 152.418\n",
      "---> Model[[(8, 2), 't', 0]] 134.599\n",
      "---> Model[[(8, 2), 't', 1]] 184.420\n",
      "---> Model[[(8, 2), 't', 2]] 149.052\n",
      "---> Model[[(8, 2), 'ct', 0]] 201.951\n",
      "---> Model[[(9, 0), 'n', 0]] 111.660\n",
      "---> Model[[(8, 2), 'ct', 1]] 174.802\n",
      "---> Model[[(9, 0), 'n', 1]] 166.351\n",
      "---> Model[[(8, 2), 'ct', 2]] 160.879\n",
      "---> Model[[(9, 0), 'n', 2]] 182.384\n",
      "---> Model[[(9, 0), 'c', 0]] 111.703\n",
      "---> Model[[(9, 0), 'c', 1]] 169.419\n",
      "---> Model[[(9, 0), 'c', 2]] 174.829\n",
      "---> Model[[(9, 0), 't', 0]] 130.161\n"
     ]
    },
    {
     "name": "stdout",
     "output_type": "stream",
     "text": [
      "---> Model[[(9, 0), 't', 1]] 171.131\n",
      "---> Model[[(9, 0), 't', 2]] 170.305\n",
      "---> Model[[(9, 0), 'ct', 0]] 189.529\n",
      "---> Model[[(9, 0), 'ct', 1]] 167.953\n",
      "---> Model[[(9, 1), 'n', 0]] 126.325\n",
      "---> Model[[(9, 0), 'ct', 2]] 169.417\n",
      "---> Model[[(9, 1), 'n', 1]] 180.431\n",
      "---> Model[[(9, 1), 'n', 2]] 186.054\n",
      "---> Model[[(9, 1), 'c', 0]] 142.444\n",
      "---> Model[[(9, 1), 'c', 1]] 182.981\n",
      "---> Model[[(9, 1), 'c', 2]] 180.331\n",
      "---> Model[[(9, 1), 't', 0]] 128.787\n",
      "---> Model[[(9, 1), 't', 1]] 189.328\n",
      "---> Model[[(9, 1), 't', 2]] 202.070\n",
      "---> Model[[(9, 1), 'ct', 0]] 199.646\n",
      "---> Model[[(9, 1), 'ct', 1]] 178.324\n",
      "---> Model[[(9, 2), 'n', 0]] 129.916\n",
      "---> Model[[(9, 1), 'ct', 2]] 188.476\n",
      "---> Model[[(9, 2), 'n', 1]] 187.442\n",
      "---> Model[[(9, 2), 'c', 0]] 151.320\n",
      "---> Model[[(9, 2), 'n', 2]] 152.235\n",
      "---> Model[[(9, 2), 'c', 1]] 186.350\n",
      "---> Model[[(9, 2), 'c', 2]] 136.390\n",
      "---> Model[[(9, 2), 't', 0]] 132.122\n",
      "---> Model[[(9, 2), 't', 1]] 200.591\n",
      "---> Model[[(9, 2), 't', 2]] 145.170\n",
      "---> Model[[(9, 2), 'ct', 0]] 191.387\n",
      "---> Model[[(10, 0), 'n', 0]] 119.473\n",
      "---> Model[[(10, 0), 'n', 1]] 179.279\n",
      "---> Model[[(9, 2), 'ct', 1]] 194.379\n",
      "---> Model[[(9, 2), 'ct', 2]] 153.327\n",
      "---> Model[[(10, 0), 'n', 2]] 193.138\n",
      "---> Model[[(10, 0), 'c', 0]] 143.546\n",
      "---> Model[[(10, 0), 'c', 1]] 179.218\n",
      "---> Model[[(10, 0), 'c', 2]] 192.865\n",
      "---> Model[[(10, 0), 't', 0]] 146.048\n",
      "---> Model[[(10, 0), 't', 1]] 176.733\n",
      "---> Model[[(10, 0), 't', 2]] 198.353\n",
      "---> Model[[(10, 0), 'ct', 0]] 184.585\n",
      "---> Model[[(10, 0), 'ct', 1]] 174.499\n",
      "---> Model[[(10, 0), 'ct', 2]] 197.881\n",
      "---> Model[[(10, 1), 'n', 0]] 117.890\n",
      "---> Model[[(10, 1), 'n', 1]] 178.427\n",
      "---> Model[[(10, 1), 'n', 2]] 194.937\n",
      "---> Model[[(10, 1), 'c', 0]] 154.672\n",
      "---> Model[[(10, 1), 'c', 1]] 188.248\n",
      "---> Model[[(10, 1), 'c', 2]] 191.870\n",
      "---> Model[[(10, 1), 't', 0]] 134.464\n",
      "---> Model[[(10, 1), 't', 1]] 192.210\n",
      "---> Model[[(10, 1), 't', 2]] 195.254\n",
      "---> Model[[(10, 1), 'ct', 0]] 184.248\n",
      "---> Model[[(10, 1), 'ct', 1]] 181.714\n",
      "---> Model[[(10, 2), 'n', 0]] 125.396\n",
      "---> Model[[(10, 1), 'ct', 2]] 195.226\n",
      "---> Model[[(10, 2), 'n', 1]] 188.237\n",
      "---> Model[[(10, 2), 'n', 2]] 195.501\n",
      "---> Model[[(10, 2), 'c', 0]] 155.037\n",
      "---> Model[[(10, 2), 'c', 1]] 188.094\n",
      "---> Model[[(10, 2), 'c', 2]] 170.136\n",
      "---> Model[[(10, 2), 't', 0]] 132.164\n",
      "---> Model[[(10, 2), 't', 1]] 198.793\n",
      "---> Model[[(10, 2), 't', 2]] 207.377\n",
      "---> Model[[(10, 2), 'ct', 0]] 196.603\n",
      "---> Model[[(10, 2), 'ct', 1]] 195.375\n",
      "---> Model[[(10, 2), 'ct', 2]] 184.777\n",
      "n_test:7, method:walk, best_cfg parameters are:[(3, 2), 'ct', 2], rmse:60.72941397484418\n"
     ]
    }
   ],
   "source": [
    "n_test = 7\n",
    "cfg_list = varmax_configs()\n",
    "method = 'walk'\n",
    "scores = grid_search(df_combined_linkedin[['New','Jobnums']], cfg_list, n_test, method)\n",
    "print('n_test:{}, method:{}, best_cfg parameters are:{}, rmse:{}'.format(n_test,method,scores[0][0],scores[0][1]))\n",
    "#model_summary = model_summary.append({'n_test':n_test, 'validation':method, 'data':'LinkedIn', 'model':'No eXog', 'best_param':scores[0][0], 'rmse':scores[0][1]},ignore_index=True)"
   ]
  },
  {
   "cell_type": "code",
   "execution_count": 76,
   "metadata": {},
   "outputs": [],
   "source": [
    "best_cfg = [(3, 2), 'ct', 2]\n",
    "n_test = 7\n",
    "data = df_combined_linkedin[['New','Jobnums']]\n",
    "train, test = train_test_split(data, n_test)\n",
    "yhat_li_varma, error_li_varma = walk_forward_best(data, n_test, best_cfg)"
   ]
  },
  {
   "cell_type": "markdown",
   "metadata": {},
   "source": [
    "### X=Weekend"
   ]
  },
  {
   "cell_type": "code",
   "execution_count": 44,
   "metadata": {},
   "outputs": [
    {
     "name": "stdout",
     "output_type": "stream",
     "text": [
      "---> Model[[(3, 0), 'n', 0]] 108.899\n",
      "---> Model[[(3, 0), 'n', 1]] 93.915\n",
      "---> Model[[(3, 0), 'n', 2]] 135.987\n",
      "---> Model[[(3, 0), 'c', 0]] 104.082\n",
      "---> Model[[(3, 0), 'c', 1]] 119.230\n",
      "---> Model[[(3, 0), 'c', 2]] 151.039\n",
      "---> Model[[(3, 0), 't', 0]] 118.848\n",
      "---> Model[[(3, 0), 't', 1]] 120.626\n",
      "---> Model[[(3, 0), 't', 2]] 150.178\n",
      "---> Model[[(3, 0), 'ct', 1]] 143.006\n",
      "---> Model[[(3, 0), 'ct', 0]] 154.004\n",
      "---> Model[[(3, 0), 'ct', 2]] 162.437\n",
      "---> Model[[(3, 1), 'n', 0]] 112.728\n",
      "---> Model[[(3, 1), 'n', 1]] 112.805\n",
      "---> Model[[(3, 1), 'n', 2]] 132.804\n",
      "---> Model[[(3, 1), 'c', 0]] 91.159\n",
      "---> Model[[(3, 1), 'c', 1]] 155.595\n",
      "---> Model[[(3, 1), 'c', 2]] 149.223\n",
      "---> Model[[(3, 1), 't', 0]] 83.623\n",
      "---> Model[[(3, 1), 't', 1]] 123.296\n",
      "---> Model[[(3, 1), 't', 2]] 113.518\n",
      "---> Model[[(3, 1), 'ct', 0]] 102.616\n",
      "---> Model[[(3, 1), 'ct', 1]] 164.856\n",
      "---> Model[[(3, 1), 'ct', 2]] 166.815\n",
      "---> Model[[(3, 2), 'n', 0]] 119.987\n",
      "---> Model[[(3, 2), 'n', 1]] 99.068\n",
      "---> Model[[(3, 2), 'c', 0]] 95.131\n",
      "---> Model[[(3, 2), 'n', 2]] 110.474\n",
      "---> Model[[(3, 2), 'c', 1]] 159.087\n",
      "---> Model[[(3, 2), 'c', 2]] 143.851\n",
      "---> Model[[(3, 2), 't', 0]] 77.185\n",
      "---> Model[[(3, 2), 't', 1]] 116.132\n",
      "---> Model[[(3, 2), 't', 2]] 116.229\n",
      "---> Model[[(3, 2), 'ct', 0]] 100.840\n",
      "---> Model[[(3, 2), 'ct', 1]] 160.370\n",
      "---> Model[[(3, 2), 'ct', 2]] 184.619\n",
      "---> Model[[(4, 0), 'n', 0]] 97.833\n",
      "---> Model[[(4, 0), 'n', 1]] 91.936\n",
      "---> Model[[(4, 0), 'n', 2]] 119.616\n",
      "---> Model[[(4, 0), 'c', 0]] 99.279\n",
      "---> Model[[(4, 0), 'c', 1]] 179.087\n",
      "---> Model[[(4, 0), 'c', 2]] 147.179\n",
      "---> Model[[(4, 0), 't', 0]] 101.981\n",
      "---> Model[[(4, 0), 't', 1]] 127.137\n",
      "---> Model[[(4, 0), 't', 2]] 136.384\n",
      "---> Model[[(4, 0), 'ct', 0]] 131.447\n",
      "---> Model[[(4, 0), 'ct', 1]] 221.056\n",
      "---> Model[[(4, 0), 'ct', 2]] 160.497\n",
      "---> Model[[(4, 1), 'n', 0]] 87.964\n",
      "---> Model[[(4, 1), 'n', 1]] 87.572\n",
      "---> Model[[(4, 1), 'n', 2]] 116.039\n",
      "---> Model[[(4, 1), 'c', 0]] 90.047\n",
      "---> Model[[(4, 1), 'c', 1]] 206.659\n",
      "---> Model[[(4, 1), 'c', 2]] 158.696\n",
      "---> Model[[(4, 1), 't', 0]] 105.494\n",
      "---> Model[[(4, 1), 't', 1]] 114.457\n",
      "---> Model[[(4, 1), 't', 2]] 104.728\n",
      "---> Model[[(4, 1), 'ct', 0]] 123.105\n",
      "---> Model[[(4, 1), 'ct', 1]] 212.094\n",
      "---> Model[[(4, 1), 'ct', 2]] 162.237\n",
      "---> Model[[(4, 2), 'n', 0]] 116.571\n",
      "---> Model[[(4, 2), 'n', 1]] 92.830\n",
      "---> Model[[(4, 2), 'n', 2]] 79.407\n",
      "---> Model[[(4, 2), 'c', 0]] 94.149\n",
      "---> Model[[(4, 2), 'c', 1]] 218.471\n",
      "---> Model[[(4, 2), 'c', 2]] 153.044\n",
      "---> Model[[(4, 2), 't', 0]] 82.432\n",
      "---> Model[[(4, 2), 't', 1]] 114.029\n",
      "---> Model[[(4, 2), 't', 2]] 89.205\n",
      "---> Model[[(4, 2), 'ct', 0]] 105.773\n",
      "---> Model[[(4, 2), 'ct', 1]] 237.329\n",
      "---> Model[[(5, 0), 'n', 1]] 83.145\n",
      "---> Model[[(5, 0), 'n', 0]] 89.867\n",
      "---> Model[[(4, 2), 'ct', 2]] 201.280\n",
      "---> Model[[(5, 0), 'n', 2]] 140.389\n",
      "---> Model[[(5, 0), 'c', 1]] 125.380\n",
      "---> Model[[(5, 0), 'c', 0]] 104.338\n",
      "---> Model[[(5, 0), 'c', 2]] 158.426\n",
      "---> Model[[(5, 0), 't', 0]] 84.522\n",
      "---> Model[[(5, 0), 't', 1]] 102.625\n",
      "---> Model[[(5, 0), 't', 2]] 144.701\n",
      "---> Model[[(5, 0), 'ct', 0]] 134.320\n",
      "---> Model[[(5, 0), 'ct', 1]] 140.694\n",
      "---> Model[[(5, 0), 'ct', 2]] 168.470\n",
      "---> Model[[(5, 1), 'n', 0]] 83.632\n",
      "---> Model[[(5, 1), 'n', 1]] 98.925\n",
      "---> Model[[(5, 1), 'n', 2]] 125.420\n",
      "---> Model[[(5, 1), 'c', 0]] 76.121\n",
      "---> Model[[(5, 1), 'c', 1]] 119.205\n",
      "---> Model[[(5, 1), 'c', 2]] 164.327\n",
      "---> Model[[(5, 1), 't', 0]] 92.140\n",
      "---> Model[[(5, 1), 't', 1]] 104.000\n",
      "---> Model[[(5, 1), 't', 2]] 126.347\n",
      "---> Model[[(5, 1), 'ct', 0]] 123.883\n",
      "---> Model[[(5, 1), 'ct', 1]] 127.535\n",
      "---> Model[[(5, 1), 'ct', 2]] 158.577\n",
      "---> Model[[(5, 2), 'n', 0]] 100.323\n",
      "---> Model[[(5, 2), 'n', 1]] 100.418\n",
      "---> Model[[(5, 2), 'n', 2]] 100.339\n",
      "---> Model[[(5, 2), 'c', 0]] 72.725\n",
      "---> Model[[(5, 2), 'c', 1]] 132.372\n",
      "---> Model[[(5, 2), 'c', 2]] 200.378\n",
      "---> Model[[(5, 2), 't', 0]] 90.720\n",
      "---> Model[[(5, 2), 't', 1]] 109.842\n",
      "---> Model[[(5, 2), 't', 2]] 131.625\n",
      "---> Model[[(5, 2), 'ct', 0]] 114.806\n",
      "---> Model[[(6, 0), 'n', 0]] 91.999\n",
      "---> Model[[(5, 2), 'ct', 1]] 150.359\n",
      "---> Model[[(6, 0), 'n', 1]] 83.839\n",
      "---> Model[[(5, 2), 'ct', 2]] 207.957\n",
      "---> Model[[(6, 0), 'n', 2]] 187.252\n",
      "---> Model[[(6, 0), 'c', 0]] 109.513\n",
      "---> Model[[(6, 0), 'c', 1]] 140.509\n",
      "---> Model[[(6, 0), 'c', 2]] 223.834\n",
      "---> Model[[(6, 0), 't', 0]] 124.276\n",
      "---> Model[[(6, 0), 't', 1]] 109.488\n",
      "---> Model[[(6, 0), 't', 2]] 181.390\n",
      "---> Model[[(6, 0), 'ct', 0]] 155.045\n",
      "---> Model[[(6, 0), 'ct', 1]] 166.678\n",
      "---> Model[[(6, 0), 'ct', 2]] 229.378\n",
      "---> Model[[(6, 1), 'n', 0]] 89.045\n",
      "---> Model[[(6, 1), 'n', 1]] 84.067\n",
      "---> Model[[(6, 1), 'n', 2]] 144.798\n",
      "---> Model[[(6, 1), 'c', 0]] 100.393\n",
      "---> Model[[(6, 1), 'c', 1]] 142.865\n",
      "---> Model[[(6, 1), 'c', 2]] 240.480\n",
      "---> Model[[(6, 1), 't', 0]] 108.336\n",
      "---> Model[[(6, 1), 't', 1]] 103.508\n",
      "---> Model[[(6, 1), 't', 2]] 187.184\n",
      "---> Model[[(6, 1), 'ct', 0]] 168.220\n",
      "---> Model[[(6, 1), 'ct', 1]] 169.698\n",
      "---> Model[[(6, 1), 'ct', 2]] 252.920\n",
      "---> Model[[(6, 2), 'n', 0]] 89.542\n",
      "---> Model[[(6, 2), 'n', 1]] 168.329\n",
      "---> Model[[(6, 2), 'n', 2]] 139.638\n",
      "---> Model[[(6, 2), 'c', 0]] 128.005\n",
      "---> Model[[(6, 2), 'c', 1]] 142.101\n",
      "---> Model[[(6, 2), 'c', 2]] 258.805\n",
      "---> Model[[(6, 2), 't', 0]] 107.211\n",
      "---> Model[[(6, 2), 't', 1]] 127.312\n",
      "---> Model[[(6, 2), 't', 2]] 187.022\n",
      "---> Model[[(6, 2), 'ct', 0]] 162.732\n",
      "---> Model[[(7, 0), 'n', 0]] 231.009\n",
      "---> Model[[(6, 2), 'ct', 1]] 160.308\n",
      "---> Model[[(6, 2), 'ct', 2]] 299.996\n",
      "---> Model[[(7, 0), 'n', 1]] 119.381\n",
      "---> Model[[(7, 0), 'n', 2]] 148.580\n",
      "---> Model[[(7, 0), 'c', 0]] 114.665\n",
      "---> Model[[(7, 0), 'c', 1]] 145.391\n",
      "---> Model[[(7, 0), 'c', 2]] 214.669\n",
      "---> Model[[(7, 0), 't', 0]] 266.116\n",
      "---> Model[[(7, 0), 't', 1]] 126.716\n",
      "---> Model[[(7, 0), 't', 2]] 145.923\n",
      "---> Model[[(7, 0), 'ct', 0]] 150.134\n",
      "---> Model[[(7, 0), 'ct', 1]] 154.956\n",
      "---> Model[[(7, 0), 'ct', 2]] 229.314\n",
      "---> Model[[(7, 1), 'n', 0]] 160.266\n",
      "---> Model[[(7, 1), 'n', 1]] 181.863\n",
      "---> Model[[(7, 1), 'n', 2]] 166.667\n",
      "---> Model[[(7, 1), 'c', 0]] 113.564\n",
      "---> Model[[(7, 1), 'c', 1]] 142.293\n",
      "---> Model[[(7, 1), 'c', 2]] 273.483\n",
      "---> Model[[(7, 1), 't', 0]] 156.668\n",
      "---> Model[[(7, 1), 't', 1]] 174.338\n",
      "---> Model[[(7, 1), 't', 2]] 187.996\n",
      "---> Model[[(7, 1), 'ct', 0]] 164.371\n",
      "---> Model[[(7, 1), 'ct', 1]] 158.854\n",
      "---> Model[[(7, 1), 'ct', 2]] 302.765\n",
      "---> Model[[(7, 2), 'n', 0]] 260.482\n",
      "---> Model[[(7, 2), 'n', 1]] 173.390\n",
      "---> Model[[(7, 2), 'n', 2]] 160.137\n",
      "---> Model[[(7, 2), 'c', 0]] 114.833\n",
      "---> Model[[(7, 2), 'c', 1]] 161.804\n",
      "---> Model[[(7, 2), 'c', 2]] 253.355\n",
      "---> Model[[(7, 2), 't', 0]] 146.406\n",
      "---> Model[[(7, 2), 't', 1]] 164.170\n",
      "---> Model[[(7, 2), 't', 2]] 188.506\n",
      "---> Model[[(7, 2), 'ct', 0]] 161.390\n",
      "---> Model[[(8, 0), 'n', 0]] 205.482\n",
      "---> Model[[(7, 2), 'ct', 1]] 176.562\n",
      "---> Model[[(7, 2), 'ct', 2]] 246.920\n",
      "---> Model[[(8, 0), 'n', 1]] 126.214\n",
      "---> Model[[(8, 0), 'n', 2]] 180.897\n",
      "---> Model[[(8, 0), 'c', 0]] 118.842\n",
      "---> Model[[(8, 0), 'c', 1]] 154.744\n",
      "---> Model[[(8, 0), 'c', 2]] 235.810\n",
      "---> Model[[(8, 0), 't', 0]] 152.106\n",
      "---> Model[[(8, 0), 't', 1]] 136.381\n",
      "---> Model[[(8, 0), 't', 2]] 192.501\n",
      "---> Model[[(8, 0), 'ct', 0]] 190.313\n",
      "---> Model[[(8, 0), 'ct', 1]] 167.074\n",
      "---> Model[[(8, 0), 'ct', 2]] 264.220\n",
      "---> Model[[(8, 1), 'n', 0]] 136.453\n",
      "---> Model[[(8, 1), 'n', 1]] 170.897\n",
      "---> Model[[(8, 1), 'n', 2]] 173.495\n",
      "---> Model[[(8, 1), 'c', 0]] 139.828\n",
      "---> Model[[(8, 1), 'c', 1]] 170.655\n",
      "---> Model[[(8, 1), 'c', 2]] 280.344\n",
      "---> Model[[(8, 1), 't', 0]] 128.150\n",
      "---> Model[[(8, 1), 't', 1]] 181.585\n",
      "---> Model[[(8, 1), 't', 2]] 169.646\n",
      "---> Model[[(8, 1), 'ct', 0]] 199.987\n",
      "---> Model[[(8, 1), 'ct', 1]] 172.167\n",
      "---> Model[[(8, 1), 'ct', 2]] 329.032\n",
      "---> Model[[(8, 2), 'n', 0]] 239.573\n",
      "---> Model[[(8, 2), 'n', 1]] 178.325\n",
      "---> Model[[(8, 2), 'n', 2]] 135.084\n",
      "---> Model[[(8, 2), 'c', 0]] 143.940\n",
      "---> Model[[(8, 2), 'c', 1]] 187.482\n",
      "---> Model[[(8, 2), 'c', 2]] 2631321.453\n",
      "---> Model[[(8, 2), 't', 0]] 128.456\n",
      "---> Model[[(8, 2), 't', 1]] 198.414\n",
      "---> Model[[(8, 2), 't', 2]] 124.757\n",
      "---> Model[[(8, 2), 'ct', 0]] 194.932\n",
      "---> Model[[(8, 2), 'ct', 1]] 202.961\n",
      "---> Model[[(9, 0), 'n', 0]] 149.471\n",
      "---> Model[[(8, 2), 'ct', 2]] 261.840\n",
      "---> Model[[(9, 0), 'n', 1]] 156.658\n",
      "---> Model[[(9, 0), 'n', 2]] 166.066\n",
      "---> Model[[(9, 0), 'c', 0]] 117.334\n",
      "---> Model[[(9, 0), 'c', 1]] 194.349\n"
     ]
    },
    {
     "name": "stdout",
     "output_type": "stream",
     "text": [
      "---> Model[[(9, 0), 'c', 2]] 221.241\n",
      "---> Model[[(9, 0), 't', 0]] 132.176\n",
      "---> Model[[(9, 0), 't', 1]] 180.075\n",
      "---> Model[[(9, 0), 't', 2]] 180.602\n",
      "---> Model[[(9, 0), 'ct', 0]] 190.527\n",
      "---> Model[[(9, 0), 'ct', 1]] 195.662\n",
      "---> Model[[(9, 0), 'ct', 2]] 265.748\n",
      "---> Model[[(9, 1), 'n', 0]] 125.522\n",
      "---> Model[[(9, 1), 'n', 1]] 169.893\n",
      "---> Model[[(9, 1), 'n', 2]] 184.426\n",
      "---> Model[[(9, 1), 'c', 0]] 148.862\n",
      "---> Model[[(9, 1), 'c', 1]] 178.830\n",
      "---> Model[[(9, 1), 'c', 2]] 254.845\n",
      "---> Model[[(9, 1), 't', 0]] 129.297\n",
      "---> Model[[(9, 1), 't', 1]] 200.717\n",
      "---> Model[[(9, 1), 't', 2]] 190.794\n",
      "---> Model[[(9, 1), 'ct', 0]] 196.082\n",
      "---> Model[[(9, 1), 'ct', 1]] 185.882\n",
      "---> Model[[(9, 1), 'ct', 2]] 298.561\n",
      "---> Model[[(9, 2), 'n', 0]] 198.600\n",
      "---> Model[[(9, 2), 'n', 1]] 174.661\n",
      "---> Model[[(9, 2), 'n', 2]] 148.466\n",
      "---> Model[[(9, 2), 'c', 0]] 162.132\n",
      "---> Model[[(9, 2), 'c', 1]] 166.693\n",
      "---> Model[[(9, 2), 'c', 2]] 219.392\n",
      "---> Model[[(9, 2), 't', 0]] 132.651\n",
      "---> Model[[(9, 2), 't', 1]] 192.618\n",
      "---> Model[[(9, 2), 't', 2]] 174.852\n",
      "---> Model[[(9, 2), 'ct', 0]] 194.733\n",
      "---> Model[[(9, 2), 'ct', 1]] 181.463\n",
      "---> Model[[(9, 2), 'ct', 2]] 249.638\n",
      "---> Model[[(10, 0), 'n', 0]] 184.470\n",
      "---> Model[[(10, 0), 'n', 1]] 163.090\n",
      "---> Model[[(10, 0), 'n', 2]] 191.068\n",
      "---> Model[[(10, 0), 'c', 0]] 133.610\n",
      "---> Model[[(10, 0), 'c', 1]] 207.151\n",
      "---> Model[[(10, 0), 'c', 2]] 245.158\n",
      "---> Model[[(10, 0), 't', 0]] 146.195\n",
      "---> Model[[(10, 0), 't', 1]] 221.804\n",
      "---> Model[[(10, 0), 't', 2]] 204.620\n",
      "---> Model[[(10, 0), 'ct', 0]] 186.151\n",
      "---> Model[[(10, 0), 'ct', 1]] 190.839\n",
      "---> Model[[(10, 0), 'ct', 2]] 259.069\n",
      "---> Model[[(10, 1), 'n', 0]] 188.430\n",
      "---> Model[[(10, 1), 'n', 1]] 166.247\n",
      "---> Model[[(10, 1), 'n', 2]] 196.559\n",
      "---> Model[[(10, 1), 'c', 0]] 145.190\n",
      "---> Model[[(10, 1), 'c', 1]] 187.812\n",
      "---> Model[[(10, 1), 'c', 2]] 256.964\n",
      "---> Model[[(10, 1), 't', 0]] 138.395\n",
      "---> Model[[(10, 1), 't', 1]] 191.181\n",
      "---> Model[[(10, 1), 't', 2]] 216.109\n",
      "---> Model[[(10, 1), 'ct', 0]] 177.180\n",
      "---> Model[[(10, 1), 'ct', 1]] 196.698\n",
      "---> Model[[(10, 1), 'ct', 2]] 340.716\n",
      "---> Model[[(10, 2), 'n', 0]] 195.589\n",
      "---> Model[[(10, 2), 'n', 1]] 165.008\n",
      "---> Model[[(10, 2), 'n', 2]] 204.428\n",
      "---> Model[[(10, 2), 'c', 0]] 153.584\n",
      "---> Model[[(10, 2), 'c', 1]] 184.116\n",
      "---> Model[[(10, 2), 'c', 2]] 249.266\n",
      "---> Model[[(10, 2), 't', 0]] 131.971\n",
      "---> Model[[(10, 2), 't', 1]] 179.728\n",
      "---> Model[[(10, 2), 't', 2]] 213.786\n",
      "---> Model[[(10, 2), 'ct', 0]] 189.774\n",
      "---> Model[[(10, 2), 'ct', 1]] 167.940\n",
      "---> Model[[(10, 2), 'ct', 2]] 352.368\n",
      "n_test:7, method:walk, best_cfg parameters are:[(5, 2), 'c', 0], rmse:72.72512949447854\n"
     ]
    }
   ],
   "source": [
    "n_test = 7\n",
    "cfg_list = varmax_configs()\n",
    "method = 'walk'\n",
    "scores = grid_search(df_combined_linkedin[['New','Jobnums']], cfg_list, n_test, method,exog=df_combined_linkedin[['Weekend']])\n",
    "print('n_test:{}, method:{}, best_cfg parameters are:{}, rmse:{}'.format(n_test,method,scores[0][0],scores[0][1]))\n",
    "#model_summary = model_summary.append({'n_test':n_test, 'validation':method, 'data':'LinkedIn', 'model':'X=weekend', 'best_param':scores[0][0], 'rmse':scores[0][1]},ignore_index=True)"
   ]
  },
  {
   "cell_type": "code",
   "execution_count": 77,
   "metadata": {},
   "outputs": [],
   "source": [
    "n_test = 7\n",
    "best_cfg = [(5, 2), 'c', 0]\n",
    "data = df_combined_linkedin[['New','Jobnums']]\n",
    "train, test = train_test_split(data, n_test)\n",
    "yhat_li_varmax, error_li_varmax = walk_forward_best(data, n_test, best_cfg, exog=df_combined_linkedin[['Weekend']])"
   ]
  },
  {
   "cell_type": "code",
   "execution_count": 78,
   "metadata": {},
   "outputs": [
    {
     "data": {
      "application/vnd.plotly.v1+json": {
       "config": {
        "plotlyServerURL": "https://plot.ly"
       },
       "data": [
        {
         "mode": "lines+markers",
         "name": "Train",
         "showlegend": false,
         "type": "scatter",
         "x": [
          "2020-05-19T00:00:00",
          "2020-05-20T00:00:00",
          "2020-05-21T00:00:00",
          "2020-05-22T00:00:00",
          "2020-05-23T00:00:00",
          "2020-05-24T00:00:00",
          "2020-05-25T00:00:00",
          "2020-05-26T00:00:00",
          "2020-05-27T00:00:00",
          "2020-05-28T00:00:00",
          "2020-05-29T00:00:00",
          "2020-05-30T00:00:00",
          "2020-05-31T00:00:00",
          "2020-06-01T00:00:00",
          "2020-06-02T00:00:00",
          "2020-06-03T00:00:00",
          "2020-06-04T00:00:00",
          "2020-06-05T00:00:00",
          "2020-06-06T00:00:00",
          "2020-06-07T00:00:00",
          "2020-06-08T00:00:00",
          "2020-06-09T00:00:00",
          "2020-06-10T00:00:00",
          "2020-06-11T00:00:00",
          "2020-06-12T00:00:00",
          "2020-06-13T00:00:00",
          "2020-06-14T00:00:00",
          "2020-06-15T00:00:00",
          "2020-06-16T00:00:00",
          "2020-06-17T00:00:00",
          "2020-06-18T00:00:00",
          "2020-06-19T00:00:00",
          "2020-06-20T00:00:00",
          "2020-06-21T00:00:00",
          "2020-06-22T00:00:00",
          "2020-06-23T00:00:00",
          "2020-06-24T00:00:00",
          "2020-06-25T00:00:00",
          "2020-06-26T00:00:00",
          "2020-06-27T00:00:00",
          "2020-06-28T00:00:00",
          "2020-06-29T00:00:00",
          "2020-06-30T00:00:00",
          "2020-07-01T00:00:00",
          "2020-07-02T00:00:00",
          "2020-07-03T00:00:00",
          "2020-07-04T00:00:00",
          "2020-07-05T00:00:00",
          "2020-07-06T00:00:00",
          "2020-07-07T00:00:00",
          "2020-07-08T00:00:00",
          "2020-07-09T00:00:00",
          "2020-07-10T00:00:00",
          "2020-07-11T00:00:00",
          "2020-07-12T00:00:00",
          "2020-07-13T00:00:00",
          "2020-07-14T00:00:00",
          "2020-07-15T00:00:00",
          "2020-07-16T00:00:00",
          "2020-07-17T00:00:00",
          "2020-07-18T00:00:00",
          "2020-07-19T00:00:00",
          "2020-07-20T00:00:00",
          "2020-07-21T00:00:00",
          "2020-07-22T00:00:00",
          "2020-07-23T00:00:00",
          "2020-07-24T00:00:00",
          "2020-07-25T00:00:00",
          "2020-07-26T00:00:00",
          "2020-07-27T00:00:00",
          "2020-07-28T00:00:00",
          "2020-07-29T00:00:00",
          "2020-07-30T00:00:00",
          "2020-07-31T00:00:00",
          "2020-08-01T00:00:00",
          "2020-08-02T00:00:00",
          "2020-08-03T00:00:00",
          "2020-08-04T00:00:00",
          "2020-08-05T00:00:00",
          "2020-08-06T00:00:00",
          "2020-08-07T00:00:00",
          "2020-08-08T00:00:00"
         ],
         "xaxis": "x",
         "y": [
          433,
          108,
          91,
          126,
          276,
          266,
          129,
          125,
          235,
          362,
          425,
          355,
          428,
          931,
          454,
          424,
          327,
          428,
          373,
          546,
          464,
          539,
          479,
          412,
          573,
          492,
          338,
          386,
          542,
          788,
          1030,
          899,
          662,
          440,
          756,
          979,
          905,
          1087,
          1060,
          1443,
          648,
          608,
          688,
          902,
          1008,
          1020,
          386,
          323,
          570,
          810,
          805,
          842,
          752,
          415,
          625,
          798,
          1048,
          674,
          753,
          1150,
          670,
          471,
          630,
          1018,
          1156,
          1000,
          699,
          415,
          180,
          417,
          561,
          558,
          646,
          709,
          791,
          779,
          945,
          846,
          862,
          671,
          448,
          550
         ],
         "yaxis": "y"
        },
        {
         "line": {
          "color": "green"
         },
         "mode": "lines+markers",
         "name": "Test",
         "showlegend": false,
         "type": "scatter",
         "x": [
          "2020-08-09T00:00:00",
          "2020-08-10T00:00:00",
          "2020-08-11T00:00:00",
          "2020-08-12T00:00:00",
          "2020-08-13T00:00:00",
          "2020-08-14T00:00:00",
          "2020-08-15T00:00:00"
         ],
         "xaxis": "x2",
         "y": [
          529,
          504,
          552,
          597,
          744,
          499,
          510
         ],
         "yaxis": "y2"
        },
        {
         "line": {
          "color": "red"
         },
         "mode": "lines+markers",
         "name": "Prediction",
         "showlegend": false,
         "type": "scatter",
         "x": [
          "2020-08-09T00:00:00",
          "2020-08-10T00:00:00",
          "2020-08-11T00:00:00",
          "2020-08-12T00:00:00",
          "2020-08-13T00:00:00",
          "2020-08-14T00:00:00",
          "2020-08-15T00:00:00"
         ],
         "xaxis": "x2",
         "y": [
          549.4550281248805,
          449.4588306428226,
          550.1426436508057,
          525.3878080980353,
          639.878800708051,
          558.4317456744236,
          520.4012470622797
         ],
         "yaxis": "y2"
        },
        {
         "line": {
          "color": "green"
         },
         "mode": "lines+markers",
         "name": "Test",
         "showlegend": true,
         "type": "scatter",
         "x": [
          "2020-08-09T00:00:00",
          "2020-08-10T00:00:00",
          "2020-08-11T00:00:00",
          "2020-08-12T00:00:00",
          "2020-08-13T00:00:00",
          "2020-08-14T00:00:00",
          "2020-08-15T00:00:00"
         ],
         "xaxis": "x3",
         "y": [
          529,
          504,
          552,
          597,
          744,
          499,
          510
         ],
         "yaxis": "y3"
        },
        {
         "line": {
          "color": "red"
         },
         "mode": "lines+markers",
         "name": "Prediction",
         "showlegend": true,
         "type": "scatter",
         "x": [
          "2020-08-09T00:00:00",
          "2020-08-10T00:00:00",
          "2020-08-11T00:00:00",
          "2020-08-12T00:00:00",
          "2020-08-13T00:00:00",
          "2020-08-14T00:00:00",
          "2020-08-15T00:00:00"
         ],
         "xaxis": "x3",
         "y": [
          605.8659357291851,
          522.4798829023747,
          586.5181024180602,
          592.6520192126627,
          667.5375422836432,
          646.6373749581629,
          554.0931008007551
         ],
         "yaxis": "y3"
        }
       ],
       "layout": {
        "annotations": [
         {
          "font": {
           "size": 16
          },
          "showarrow": false,
          "text": "Train data",
          "x": 0.5,
          "xanchor": "center",
          "xref": "paper",
          "y": 1,
          "yanchor": "bottom",
          "yref": "paper"
         },
         {
          "font": {
           "size": 16
          },
          "showarrow": false,
          "text": "No eXog, RMSE: 57.33",
          "x": 0.225,
          "xanchor": "center",
          "xref": "paper",
          "y": 0.375,
          "yanchor": "bottom",
          "yref": "paper"
         },
         {
          "font": {
           "size": 16
          },
          "showarrow": false,
          "text": "X=Weekend, RMSE: 72.75",
          "x": 0.775,
          "xanchor": "center",
          "xref": "paper",
          "y": 0.375,
          "yanchor": "bottom",
          "yref": "paper"
         }
        ],
        "legend": {
         "x": 1,
         "y": 0.25
        },
        "template": {
         "data": {
          "bar": [
           {
            "error_x": {
             "color": "#2a3f5f"
            },
            "error_y": {
             "color": "#2a3f5f"
            },
            "marker": {
             "line": {
              "color": "#E5ECF6",
              "width": 0.5
             }
            },
            "type": "bar"
           }
          ],
          "barpolar": [
           {
            "marker": {
             "line": {
              "color": "#E5ECF6",
              "width": 0.5
             }
            },
            "type": "barpolar"
           }
          ],
          "carpet": [
           {
            "aaxis": {
             "endlinecolor": "#2a3f5f",
             "gridcolor": "white",
             "linecolor": "white",
             "minorgridcolor": "white",
             "startlinecolor": "#2a3f5f"
            },
            "baxis": {
             "endlinecolor": "#2a3f5f",
             "gridcolor": "white",
             "linecolor": "white",
             "minorgridcolor": "white",
             "startlinecolor": "#2a3f5f"
            },
            "type": "carpet"
           }
          ],
          "choropleth": [
           {
            "colorbar": {
             "outlinewidth": 0,
             "ticks": ""
            },
            "type": "choropleth"
           }
          ],
          "contour": [
           {
            "colorbar": {
             "outlinewidth": 0,
             "ticks": ""
            },
            "colorscale": [
             [
              0,
              "#0d0887"
             ],
             [
              0.1111111111111111,
              "#46039f"
             ],
             [
              0.2222222222222222,
              "#7201a8"
             ],
             [
              0.3333333333333333,
              "#9c179e"
             ],
             [
              0.4444444444444444,
              "#bd3786"
             ],
             [
              0.5555555555555556,
              "#d8576b"
             ],
             [
              0.6666666666666666,
              "#ed7953"
             ],
             [
              0.7777777777777778,
              "#fb9f3a"
             ],
             [
              0.8888888888888888,
              "#fdca26"
             ],
             [
              1,
              "#f0f921"
             ]
            ],
            "type": "contour"
           }
          ],
          "contourcarpet": [
           {
            "colorbar": {
             "outlinewidth": 0,
             "ticks": ""
            },
            "type": "contourcarpet"
           }
          ],
          "heatmap": [
           {
            "colorbar": {
             "outlinewidth": 0,
             "ticks": ""
            },
            "colorscale": [
             [
              0,
              "#0d0887"
             ],
             [
              0.1111111111111111,
              "#46039f"
             ],
             [
              0.2222222222222222,
              "#7201a8"
             ],
             [
              0.3333333333333333,
              "#9c179e"
             ],
             [
              0.4444444444444444,
              "#bd3786"
             ],
             [
              0.5555555555555556,
              "#d8576b"
             ],
             [
              0.6666666666666666,
              "#ed7953"
             ],
             [
              0.7777777777777778,
              "#fb9f3a"
             ],
             [
              0.8888888888888888,
              "#fdca26"
             ],
             [
              1,
              "#f0f921"
             ]
            ],
            "type": "heatmap"
           }
          ],
          "heatmapgl": [
           {
            "colorbar": {
             "outlinewidth": 0,
             "ticks": ""
            },
            "colorscale": [
             [
              0,
              "#0d0887"
             ],
             [
              0.1111111111111111,
              "#46039f"
             ],
             [
              0.2222222222222222,
              "#7201a8"
             ],
             [
              0.3333333333333333,
              "#9c179e"
             ],
             [
              0.4444444444444444,
              "#bd3786"
             ],
             [
              0.5555555555555556,
              "#d8576b"
             ],
             [
              0.6666666666666666,
              "#ed7953"
             ],
             [
              0.7777777777777778,
              "#fb9f3a"
             ],
             [
              0.8888888888888888,
              "#fdca26"
             ],
             [
              1,
              "#f0f921"
             ]
            ],
            "type": "heatmapgl"
           }
          ],
          "histogram": [
           {
            "marker": {
             "colorbar": {
              "outlinewidth": 0,
              "ticks": ""
             }
            },
            "type": "histogram"
           }
          ],
          "histogram2d": [
           {
            "colorbar": {
             "outlinewidth": 0,
             "ticks": ""
            },
            "colorscale": [
             [
              0,
              "#0d0887"
             ],
             [
              0.1111111111111111,
              "#46039f"
             ],
             [
              0.2222222222222222,
              "#7201a8"
             ],
             [
              0.3333333333333333,
              "#9c179e"
             ],
             [
              0.4444444444444444,
              "#bd3786"
             ],
             [
              0.5555555555555556,
              "#d8576b"
             ],
             [
              0.6666666666666666,
              "#ed7953"
             ],
             [
              0.7777777777777778,
              "#fb9f3a"
             ],
             [
              0.8888888888888888,
              "#fdca26"
             ],
             [
              1,
              "#f0f921"
             ]
            ],
            "type": "histogram2d"
           }
          ],
          "histogram2dcontour": [
           {
            "colorbar": {
             "outlinewidth": 0,
             "ticks": ""
            },
            "colorscale": [
             [
              0,
              "#0d0887"
             ],
             [
              0.1111111111111111,
              "#46039f"
             ],
             [
              0.2222222222222222,
              "#7201a8"
             ],
             [
              0.3333333333333333,
              "#9c179e"
             ],
             [
              0.4444444444444444,
              "#bd3786"
             ],
             [
              0.5555555555555556,
              "#d8576b"
             ],
             [
              0.6666666666666666,
              "#ed7953"
             ],
             [
              0.7777777777777778,
              "#fb9f3a"
             ],
             [
              0.8888888888888888,
              "#fdca26"
             ],
             [
              1,
              "#f0f921"
             ]
            ],
            "type": "histogram2dcontour"
           }
          ],
          "mesh3d": [
           {
            "colorbar": {
             "outlinewidth": 0,
             "ticks": ""
            },
            "type": "mesh3d"
           }
          ],
          "parcoords": [
           {
            "line": {
             "colorbar": {
              "outlinewidth": 0,
              "ticks": ""
             }
            },
            "type": "parcoords"
           }
          ],
          "pie": [
           {
            "automargin": true,
            "type": "pie"
           }
          ],
          "scatter": [
           {
            "marker": {
             "colorbar": {
              "outlinewidth": 0,
              "ticks": ""
             }
            },
            "type": "scatter"
           }
          ],
          "scatter3d": [
           {
            "line": {
             "colorbar": {
              "outlinewidth": 0,
              "ticks": ""
             }
            },
            "marker": {
             "colorbar": {
              "outlinewidth": 0,
              "ticks": ""
             }
            },
            "type": "scatter3d"
           }
          ],
          "scattercarpet": [
           {
            "marker": {
             "colorbar": {
              "outlinewidth": 0,
              "ticks": ""
             }
            },
            "type": "scattercarpet"
           }
          ],
          "scattergeo": [
           {
            "marker": {
             "colorbar": {
              "outlinewidth": 0,
              "ticks": ""
             }
            },
            "type": "scattergeo"
           }
          ],
          "scattergl": [
           {
            "marker": {
             "colorbar": {
              "outlinewidth": 0,
              "ticks": ""
             }
            },
            "type": "scattergl"
           }
          ],
          "scattermapbox": [
           {
            "marker": {
             "colorbar": {
              "outlinewidth": 0,
              "ticks": ""
             }
            },
            "type": "scattermapbox"
           }
          ],
          "scatterpolar": [
           {
            "marker": {
             "colorbar": {
              "outlinewidth": 0,
              "ticks": ""
             }
            },
            "type": "scatterpolar"
           }
          ],
          "scatterpolargl": [
           {
            "marker": {
             "colorbar": {
              "outlinewidth": 0,
              "ticks": ""
             }
            },
            "type": "scatterpolargl"
           }
          ],
          "scatterternary": [
           {
            "marker": {
             "colorbar": {
              "outlinewidth": 0,
              "ticks": ""
             }
            },
            "type": "scatterternary"
           }
          ],
          "surface": [
           {
            "colorbar": {
             "outlinewidth": 0,
             "ticks": ""
            },
            "colorscale": [
             [
              0,
              "#0d0887"
             ],
             [
              0.1111111111111111,
              "#46039f"
             ],
             [
              0.2222222222222222,
              "#7201a8"
             ],
             [
              0.3333333333333333,
              "#9c179e"
             ],
             [
              0.4444444444444444,
              "#bd3786"
             ],
             [
              0.5555555555555556,
              "#d8576b"
             ],
             [
              0.6666666666666666,
              "#ed7953"
             ],
             [
              0.7777777777777778,
              "#fb9f3a"
             ],
             [
              0.8888888888888888,
              "#fdca26"
             ],
             [
              1,
              "#f0f921"
             ]
            ],
            "type": "surface"
           }
          ],
          "table": [
           {
            "cells": {
             "fill": {
              "color": "#EBF0F8"
             },
             "line": {
              "color": "white"
             }
            },
            "header": {
             "fill": {
              "color": "#C8D4E3"
             },
             "line": {
              "color": "white"
             }
            },
            "type": "table"
           }
          ]
         },
         "layout": {
          "annotationdefaults": {
           "arrowcolor": "#2a3f5f",
           "arrowhead": 0,
           "arrowwidth": 1
          },
          "coloraxis": {
           "colorbar": {
            "outlinewidth": 0,
            "ticks": ""
           }
          },
          "colorscale": {
           "diverging": [
            [
             0,
             "#8e0152"
            ],
            [
             0.1,
             "#c51b7d"
            ],
            [
             0.2,
             "#de77ae"
            ],
            [
             0.3,
             "#f1b6da"
            ],
            [
             0.4,
             "#fde0ef"
            ],
            [
             0.5,
             "#f7f7f7"
            ],
            [
             0.6,
             "#e6f5d0"
            ],
            [
             0.7,
             "#b8e186"
            ],
            [
             0.8,
             "#7fbc41"
            ],
            [
             0.9,
             "#4d9221"
            ],
            [
             1,
             "#276419"
            ]
           ],
           "sequential": [
            [
             0,
             "#0d0887"
            ],
            [
             0.1111111111111111,
             "#46039f"
            ],
            [
             0.2222222222222222,
             "#7201a8"
            ],
            [
             0.3333333333333333,
             "#9c179e"
            ],
            [
             0.4444444444444444,
             "#bd3786"
            ],
            [
             0.5555555555555556,
             "#d8576b"
            ],
            [
             0.6666666666666666,
             "#ed7953"
            ],
            [
             0.7777777777777778,
             "#fb9f3a"
            ],
            [
             0.8888888888888888,
             "#fdca26"
            ],
            [
             1,
             "#f0f921"
            ]
           ],
           "sequentialminus": [
            [
             0,
             "#0d0887"
            ],
            [
             0.1111111111111111,
             "#46039f"
            ],
            [
             0.2222222222222222,
             "#7201a8"
            ],
            [
             0.3333333333333333,
             "#9c179e"
            ],
            [
             0.4444444444444444,
             "#bd3786"
            ],
            [
             0.5555555555555556,
             "#d8576b"
            ],
            [
             0.6666666666666666,
             "#ed7953"
            ],
            [
             0.7777777777777778,
             "#fb9f3a"
            ],
            [
             0.8888888888888888,
             "#fdca26"
            ],
            [
             1,
             "#f0f921"
            ]
           ]
          },
          "colorway": [
           "#636efa",
           "#EF553B",
           "#00cc96",
           "#ab63fa",
           "#FFA15A",
           "#19d3f3",
           "#FF6692",
           "#B6E880",
           "#FF97FF",
           "#FECB52"
          ],
          "font": {
           "color": "#2a3f5f"
          },
          "geo": {
           "bgcolor": "white",
           "lakecolor": "white",
           "landcolor": "#E5ECF6",
           "showlakes": true,
           "showland": true,
           "subunitcolor": "white"
          },
          "hoverlabel": {
           "align": "left"
          },
          "hovermode": "closest",
          "mapbox": {
           "style": "light"
          },
          "paper_bgcolor": "white",
          "plot_bgcolor": "#E5ECF6",
          "polar": {
           "angularaxis": {
            "gridcolor": "white",
            "linecolor": "white",
            "ticks": ""
           },
           "bgcolor": "#E5ECF6",
           "radialaxis": {
            "gridcolor": "white",
            "linecolor": "white",
            "ticks": ""
           }
          },
          "scene": {
           "xaxis": {
            "backgroundcolor": "#E5ECF6",
            "gridcolor": "white",
            "gridwidth": 2,
            "linecolor": "white",
            "showbackground": true,
            "ticks": "",
            "zerolinecolor": "white"
           },
           "yaxis": {
            "backgroundcolor": "#E5ECF6",
            "gridcolor": "white",
            "gridwidth": 2,
            "linecolor": "white",
            "showbackground": true,
            "ticks": "",
            "zerolinecolor": "white"
           },
           "zaxis": {
            "backgroundcolor": "#E5ECF6",
            "gridcolor": "white",
            "gridwidth": 2,
            "linecolor": "white",
            "showbackground": true,
            "ticks": "",
            "zerolinecolor": "white"
           }
          },
          "shapedefaults": {
           "line": {
            "color": "#2a3f5f"
           }
          },
          "ternary": {
           "aaxis": {
            "gridcolor": "white",
            "linecolor": "white",
            "ticks": ""
           },
           "baxis": {
            "gridcolor": "white",
            "linecolor": "white",
            "ticks": ""
           },
           "bgcolor": "#E5ECF6",
           "caxis": {
            "gridcolor": "white",
            "linecolor": "white",
            "ticks": ""
           }
          },
          "title": {
           "x": 0.05
          },
          "xaxis": {
           "automargin": true,
           "gridcolor": "white",
           "linecolor": "white",
           "ticks": "",
           "title": {
            "standoff": 15
           },
           "zerolinecolor": "white",
           "zerolinewidth": 2
          },
          "yaxis": {
           "automargin": true,
           "gridcolor": "white",
           "linecolor": "white",
           "ticks": "",
           "title": {
            "standoff": 15
           },
           "zerolinecolor": "white",
           "zerolinewidth": 2
          }
         }
        },
        "title": {
         "text": "LinkedIn Data Scientist Job Openings Forecast via VARMAX Model"
        },
        "xaxis": {
         "anchor": "y",
         "domain": [
          0,
          1
         ]
        },
        "xaxis2": {
         "anchor": "y2",
         "domain": [
          0,
          0.45
         ]
        },
        "xaxis3": {
         "anchor": "y3",
         "domain": [
          0.55,
          1
         ]
        },
        "yaxis": {
         "anchor": "x",
         "domain": [
          0.625,
          1
         ]
        },
        "yaxis2": {
         "anchor": "x2",
         "domain": [
          0,
          0.375
         ]
        },
        "yaxis3": {
         "anchor": "x3",
         "domain": [
          0,
          0.375
         ]
        }
       }
      },
      "text/html": [
       "<div>\n",
       "        \n",
       "        \n",
       "            <div id=\"6a4a1a1f-88f6-4f80-b5b8-ee89cd82f4e3\" class=\"plotly-graph-div\" style=\"height:525px; width:100%;\"></div>\n",
       "            <script type=\"text/javascript\">\n",
       "                require([\"plotly\"], function(Plotly) {\n",
       "                    window.PLOTLYENV=window.PLOTLYENV || {};\n",
       "                    \n",
       "                if (document.getElementById(\"6a4a1a1f-88f6-4f80-b5b8-ee89cd82f4e3\")) {\n",
       "                    Plotly.newPlot(\n",
       "                        '6a4a1a1f-88f6-4f80-b5b8-ee89cd82f4e3',\n",
       "                        [{\"mode\": \"lines+markers\", \"name\": \"Train\", \"showlegend\": false, \"type\": \"scatter\", \"x\": [\"2020-05-19T00:00:00\", \"2020-05-20T00:00:00\", \"2020-05-21T00:00:00\", \"2020-05-22T00:00:00\", \"2020-05-23T00:00:00\", \"2020-05-24T00:00:00\", \"2020-05-25T00:00:00\", \"2020-05-26T00:00:00\", \"2020-05-27T00:00:00\", \"2020-05-28T00:00:00\", \"2020-05-29T00:00:00\", \"2020-05-30T00:00:00\", \"2020-05-31T00:00:00\", \"2020-06-01T00:00:00\", \"2020-06-02T00:00:00\", \"2020-06-03T00:00:00\", \"2020-06-04T00:00:00\", \"2020-06-05T00:00:00\", \"2020-06-06T00:00:00\", \"2020-06-07T00:00:00\", \"2020-06-08T00:00:00\", \"2020-06-09T00:00:00\", \"2020-06-10T00:00:00\", \"2020-06-11T00:00:00\", \"2020-06-12T00:00:00\", \"2020-06-13T00:00:00\", \"2020-06-14T00:00:00\", \"2020-06-15T00:00:00\", \"2020-06-16T00:00:00\", \"2020-06-17T00:00:00\", \"2020-06-18T00:00:00\", \"2020-06-19T00:00:00\", \"2020-06-20T00:00:00\", \"2020-06-21T00:00:00\", \"2020-06-22T00:00:00\", \"2020-06-23T00:00:00\", \"2020-06-24T00:00:00\", \"2020-06-25T00:00:00\", \"2020-06-26T00:00:00\", \"2020-06-27T00:00:00\", \"2020-06-28T00:00:00\", \"2020-06-29T00:00:00\", \"2020-06-30T00:00:00\", \"2020-07-01T00:00:00\", \"2020-07-02T00:00:00\", \"2020-07-03T00:00:00\", \"2020-07-04T00:00:00\", \"2020-07-05T00:00:00\", \"2020-07-06T00:00:00\", \"2020-07-07T00:00:00\", \"2020-07-08T00:00:00\", \"2020-07-09T00:00:00\", \"2020-07-10T00:00:00\", \"2020-07-11T00:00:00\", \"2020-07-12T00:00:00\", \"2020-07-13T00:00:00\", \"2020-07-14T00:00:00\", \"2020-07-15T00:00:00\", \"2020-07-16T00:00:00\", \"2020-07-17T00:00:00\", \"2020-07-18T00:00:00\", \"2020-07-19T00:00:00\", \"2020-07-20T00:00:00\", \"2020-07-21T00:00:00\", \"2020-07-22T00:00:00\", \"2020-07-23T00:00:00\", \"2020-07-24T00:00:00\", \"2020-07-25T00:00:00\", \"2020-07-26T00:00:00\", \"2020-07-27T00:00:00\", \"2020-07-28T00:00:00\", \"2020-07-29T00:00:00\", \"2020-07-30T00:00:00\", \"2020-07-31T00:00:00\", \"2020-08-01T00:00:00\", \"2020-08-02T00:00:00\", \"2020-08-03T00:00:00\", \"2020-08-04T00:00:00\", \"2020-08-05T00:00:00\", \"2020-08-06T00:00:00\", \"2020-08-07T00:00:00\", \"2020-08-08T00:00:00\"], \"xaxis\": \"x\", \"y\": [433, 108, 91, 126, 276, 266, 129, 125, 235, 362, 425, 355, 428, 931, 454, 424, 327, 428, 373, 546, 464, 539, 479, 412, 573, 492, 338, 386, 542, 788, 1030, 899, 662, 440, 756, 979, 905, 1087, 1060, 1443, 648, 608, 688, 902, 1008, 1020, 386, 323, 570, 810, 805, 842, 752, 415, 625, 798, 1048, 674, 753, 1150, 670, 471, 630, 1018, 1156, 1000, 699, 415, 180, 417, 561, 558, 646, 709, 791, 779, 945, 846, 862, 671, 448, 550], \"yaxis\": \"y\"}, {\"line\": {\"color\": \"green\"}, \"mode\": \"lines+markers\", \"name\": \"Test\", \"showlegend\": false, \"type\": \"scatter\", \"x\": [\"2020-08-09T00:00:00\", \"2020-08-10T00:00:00\", \"2020-08-11T00:00:00\", \"2020-08-12T00:00:00\", \"2020-08-13T00:00:00\", \"2020-08-14T00:00:00\", \"2020-08-15T00:00:00\"], \"xaxis\": \"x2\", \"y\": [529, 504, 552, 597, 744, 499, 510], \"yaxis\": \"y2\"}, {\"line\": {\"color\": \"red\"}, \"mode\": \"lines+markers\", \"name\": \"Prediction\", \"showlegend\": false, \"type\": \"scatter\", \"x\": [\"2020-08-09T00:00:00\", \"2020-08-10T00:00:00\", \"2020-08-11T00:00:00\", \"2020-08-12T00:00:00\", \"2020-08-13T00:00:00\", \"2020-08-14T00:00:00\", \"2020-08-15T00:00:00\"], \"xaxis\": \"x2\", \"y\": [549.4550281248805, 449.4588306428226, 550.1426436508057, 525.3878080980353, 639.878800708051, 558.4317456744236, 520.4012470622797], \"yaxis\": \"y2\"}, {\"line\": {\"color\": \"green\"}, \"mode\": \"lines+markers\", \"name\": \"Test\", \"showlegend\": true, \"type\": \"scatter\", \"x\": [\"2020-08-09T00:00:00\", \"2020-08-10T00:00:00\", \"2020-08-11T00:00:00\", \"2020-08-12T00:00:00\", \"2020-08-13T00:00:00\", \"2020-08-14T00:00:00\", \"2020-08-15T00:00:00\"], \"xaxis\": \"x3\", \"y\": [529, 504, 552, 597, 744, 499, 510], \"yaxis\": \"y3\"}, {\"line\": {\"color\": \"red\"}, \"mode\": \"lines+markers\", \"name\": \"Prediction\", \"showlegend\": true, \"type\": \"scatter\", \"x\": [\"2020-08-09T00:00:00\", \"2020-08-10T00:00:00\", \"2020-08-11T00:00:00\", \"2020-08-12T00:00:00\", \"2020-08-13T00:00:00\", \"2020-08-14T00:00:00\", \"2020-08-15T00:00:00\"], \"xaxis\": \"x3\", \"y\": [605.8659357291851, 522.4798829023747, 586.5181024180602, 592.6520192126627, 667.5375422836432, 646.6373749581629, 554.0931008007551], \"yaxis\": \"y3\"}],\n",
       "                        {\"annotations\": [{\"font\": {\"size\": 16}, \"showarrow\": false, \"text\": \"Train data\", \"x\": 0.5, \"xanchor\": \"center\", \"xref\": \"paper\", \"y\": 1.0, \"yanchor\": \"bottom\", \"yref\": \"paper\"}, {\"font\": {\"size\": 16}, \"showarrow\": false, \"text\": \"No eXog, RMSE: 57.33\", \"x\": 0.225, \"xanchor\": \"center\", \"xref\": \"paper\", \"y\": 0.375, \"yanchor\": \"bottom\", \"yref\": \"paper\"}, {\"font\": {\"size\": 16}, \"showarrow\": false, \"text\": \"X=Weekend, RMSE: 72.75\", \"x\": 0.775, \"xanchor\": \"center\", \"xref\": \"paper\", \"y\": 0.375, \"yanchor\": \"bottom\", \"yref\": \"paper\"}], \"legend\": {\"x\": 1, \"y\": 0.25}, \"template\": {\"data\": {\"bar\": [{\"error_x\": {\"color\": \"#2a3f5f\"}, \"error_y\": {\"color\": \"#2a3f5f\"}, \"marker\": {\"line\": {\"color\": \"#E5ECF6\", \"width\": 0.5}}, \"type\": \"bar\"}], \"barpolar\": [{\"marker\": {\"line\": {\"color\": \"#E5ECF6\", \"width\": 0.5}}, \"type\": \"barpolar\"}], \"carpet\": [{\"aaxis\": {\"endlinecolor\": \"#2a3f5f\", \"gridcolor\": \"white\", \"linecolor\": \"white\", \"minorgridcolor\": \"white\", \"startlinecolor\": \"#2a3f5f\"}, \"baxis\": {\"endlinecolor\": \"#2a3f5f\", \"gridcolor\": \"white\", \"linecolor\": \"white\", \"minorgridcolor\": \"white\", \"startlinecolor\": \"#2a3f5f\"}, \"type\": \"carpet\"}], \"choropleth\": [{\"colorbar\": {\"outlinewidth\": 0, \"ticks\": \"\"}, \"type\": \"choropleth\"}], \"contour\": [{\"colorbar\": {\"outlinewidth\": 0, \"ticks\": \"\"}, \"colorscale\": [[0.0, \"#0d0887\"], [0.1111111111111111, \"#46039f\"], [0.2222222222222222, \"#7201a8\"], [0.3333333333333333, \"#9c179e\"], [0.4444444444444444, \"#bd3786\"], [0.5555555555555556, \"#d8576b\"], [0.6666666666666666, \"#ed7953\"], [0.7777777777777778, \"#fb9f3a\"], [0.8888888888888888, \"#fdca26\"], [1.0, \"#f0f921\"]], \"type\": \"contour\"}], \"contourcarpet\": [{\"colorbar\": {\"outlinewidth\": 0, \"ticks\": \"\"}, \"type\": \"contourcarpet\"}], \"heatmap\": [{\"colorbar\": {\"outlinewidth\": 0, \"ticks\": \"\"}, \"colorscale\": [[0.0, \"#0d0887\"], [0.1111111111111111, \"#46039f\"], [0.2222222222222222, \"#7201a8\"], [0.3333333333333333, \"#9c179e\"], [0.4444444444444444, \"#bd3786\"], [0.5555555555555556, \"#d8576b\"], [0.6666666666666666, \"#ed7953\"], [0.7777777777777778, \"#fb9f3a\"], [0.8888888888888888, \"#fdca26\"], [1.0, \"#f0f921\"]], \"type\": \"heatmap\"}], \"heatmapgl\": [{\"colorbar\": {\"outlinewidth\": 0, \"ticks\": \"\"}, \"colorscale\": [[0.0, \"#0d0887\"], [0.1111111111111111, \"#46039f\"], [0.2222222222222222, \"#7201a8\"], [0.3333333333333333, \"#9c179e\"], [0.4444444444444444, \"#bd3786\"], [0.5555555555555556, \"#d8576b\"], [0.6666666666666666, \"#ed7953\"], [0.7777777777777778, \"#fb9f3a\"], [0.8888888888888888, \"#fdca26\"], [1.0, \"#f0f921\"]], \"type\": \"heatmapgl\"}], \"histogram\": [{\"marker\": {\"colorbar\": {\"outlinewidth\": 0, \"ticks\": \"\"}}, \"type\": \"histogram\"}], \"histogram2d\": [{\"colorbar\": {\"outlinewidth\": 0, \"ticks\": \"\"}, \"colorscale\": [[0.0, \"#0d0887\"], [0.1111111111111111, \"#46039f\"], [0.2222222222222222, \"#7201a8\"], [0.3333333333333333, \"#9c179e\"], [0.4444444444444444, \"#bd3786\"], [0.5555555555555556, \"#d8576b\"], [0.6666666666666666, \"#ed7953\"], [0.7777777777777778, \"#fb9f3a\"], [0.8888888888888888, \"#fdca26\"], [1.0, \"#f0f921\"]], \"type\": \"histogram2d\"}], \"histogram2dcontour\": [{\"colorbar\": {\"outlinewidth\": 0, \"ticks\": \"\"}, \"colorscale\": [[0.0, \"#0d0887\"], [0.1111111111111111, \"#46039f\"], [0.2222222222222222, \"#7201a8\"], [0.3333333333333333, \"#9c179e\"], [0.4444444444444444, \"#bd3786\"], [0.5555555555555556, \"#d8576b\"], [0.6666666666666666, \"#ed7953\"], [0.7777777777777778, \"#fb9f3a\"], [0.8888888888888888, \"#fdca26\"], [1.0, \"#f0f921\"]], \"type\": \"histogram2dcontour\"}], \"mesh3d\": [{\"colorbar\": {\"outlinewidth\": 0, \"ticks\": \"\"}, \"type\": \"mesh3d\"}], \"parcoords\": [{\"line\": {\"colorbar\": {\"outlinewidth\": 0, \"ticks\": \"\"}}, \"type\": \"parcoords\"}], \"pie\": [{\"automargin\": true, \"type\": \"pie\"}], \"scatter\": [{\"marker\": {\"colorbar\": {\"outlinewidth\": 0, \"ticks\": \"\"}}, \"type\": \"scatter\"}], \"scatter3d\": [{\"line\": {\"colorbar\": {\"outlinewidth\": 0, \"ticks\": \"\"}}, \"marker\": {\"colorbar\": {\"outlinewidth\": 0, \"ticks\": \"\"}}, \"type\": \"scatter3d\"}], \"scattercarpet\": [{\"marker\": {\"colorbar\": {\"outlinewidth\": 0, \"ticks\": \"\"}}, \"type\": \"scattercarpet\"}], \"scattergeo\": [{\"marker\": {\"colorbar\": {\"outlinewidth\": 0, \"ticks\": \"\"}}, \"type\": \"scattergeo\"}], \"scattergl\": [{\"marker\": {\"colorbar\": {\"outlinewidth\": 0, \"ticks\": \"\"}}, \"type\": \"scattergl\"}], \"scattermapbox\": [{\"marker\": {\"colorbar\": {\"outlinewidth\": 0, \"ticks\": \"\"}}, \"type\": \"scattermapbox\"}], \"scatterpolar\": [{\"marker\": {\"colorbar\": {\"outlinewidth\": 0, \"ticks\": \"\"}}, \"type\": \"scatterpolar\"}], \"scatterpolargl\": [{\"marker\": {\"colorbar\": {\"outlinewidth\": 0, \"ticks\": \"\"}}, \"type\": \"scatterpolargl\"}], \"scatterternary\": [{\"marker\": {\"colorbar\": {\"outlinewidth\": 0, \"ticks\": \"\"}}, \"type\": \"scatterternary\"}], \"surface\": [{\"colorbar\": {\"outlinewidth\": 0, \"ticks\": \"\"}, \"colorscale\": [[0.0, \"#0d0887\"], [0.1111111111111111, \"#46039f\"], [0.2222222222222222, \"#7201a8\"], [0.3333333333333333, \"#9c179e\"], [0.4444444444444444, \"#bd3786\"], [0.5555555555555556, \"#d8576b\"], [0.6666666666666666, \"#ed7953\"], [0.7777777777777778, \"#fb9f3a\"], [0.8888888888888888, \"#fdca26\"], [1.0, \"#f0f921\"]], \"type\": \"surface\"}], \"table\": [{\"cells\": {\"fill\": {\"color\": \"#EBF0F8\"}, \"line\": {\"color\": \"white\"}}, \"header\": {\"fill\": {\"color\": \"#C8D4E3\"}, \"line\": {\"color\": \"white\"}}, \"type\": \"table\"}]}, \"layout\": {\"annotationdefaults\": {\"arrowcolor\": \"#2a3f5f\", \"arrowhead\": 0, \"arrowwidth\": 1}, \"coloraxis\": {\"colorbar\": {\"outlinewidth\": 0, \"ticks\": \"\"}}, \"colorscale\": {\"diverging\": [[0, \"#8e0152\"], [0.1, \"#c51b7d\"], [0.2, \"#de77ae\"], [0.3, \"#f1b6da\"], [0.4, \"#fde0ef\"], [0.5, \"#f7f7f7\"], [0.6, \"#e6f5d0\"], [0.7, \"#b8e186\"], [0.8, \"#7fbc41\"], [0.9, \"#4d9221\"], [1, \"#276419\"]], \"sequential\": [[0.0, \"#0d0887\"], [0.1111111111111111, \"#46039f\"], [0.2222222222222222, \"#7201a8\"], [0.3333333333333333, \"#9c179e\"], [0.4444444444444444, \"#bd3786\"], [0.5555555555555556, \"#d8576b\"], [0.6666666666666666, \"#ed7953\"], [0.7777777777777778, \"#fb9f3a\"], [0.8888888888888888, \"#fdca26\"], [1.0, \"#f0f921\"]], \"sequentialminus\": [[0.0, \"#0d0887\"], [0.1111111111111111, \"#46039f\"], [0.2222222222222222, \"#7201a8\"], [0.3333333333333333, \"#9c179e\"], [0.4444444444444444, \"#bd3786\"], [0.5555555555555556, \"#d8576b\"], [0.6666666666666666, \"#ed7953\"], [0.7777777777777778, \"#fb9f3a\"], [0.8888888888888888, \"#fdca26\"], [1.0, \"#f0f921\"]]}, \"colorway\": [\"#636efa\", \"#EF553B\", \"#00cc96\", \"#ab63fa\", \"#FFA15A\", \"#19d3f3\", \"#FF6692\", \"#B6E880\", \"#FF97FF\", \"#FECB52\"], \"font\": {\"color\": \"#2a3f5f\"}, \"geo\": {\"bgcolor\": \"white\", \"lakecolor\": \"white\", \"landcolor\": \"#E5ECF6\", \"showlakes\": true, \"showland\": true, \"subunitcolor\": \"white\"}, \"hoverlabel\": {\"align\": \"left\"}, \"hovermode\": \"closest\", \"mapbox\": {\"style\": \"light\"}, \"paper_bgcolor\": \"white\", \"plot_bgcolor\": \"#E5ECF6\", \"polar\": {\"angularaxis\": {\"gridcolor\": \"white\", \"linecolor\": \"white\", \"ticks\": \"\"}, \"bgcolor\": \"#E5ECF6\", \"radialaxis\": {\"gridcolor\": \"white\", \"linecolor\": \"white\", \"ticks\": \"\"}}, \"scene\": {\"xaxis\": {\"backgroundcolor\": \"#E5ECF6\", \"gridcolor\": \"white\", \"gridwidth\": 2, \"linecolor\": \"white\", \"showbackground\": true, \"ticks\": \"\", \"zerolinecolor\": \"white\"}, \"yaxis\": {\"backgroundcolor\": \"#E5ECF6\", \"gridcolor\": \"white\", \"gridwidth\": 2, \"linecolor\": \"white\", \"showbackground\": true, \"ticks\": \"\", \"zerolinecolor\": \"white\"}, \"zaxis\": {\"backgroundcolor\": \"#E5ECF6\", \"gridcolor\": \"white\", \"gridwidth\": 2, \"linecolor\": \"white\", \"showbackground\": true, \"ticks\": \"\", \"zerolinecolor\": \"white\"}}, \"shapedefaults\": {\"line\": {\"color\": \"#2a3f5f\"}}, \"ternary\": {\"aaxis\": {\"gridcolor\": \"white\", \"linecolor\": \"white\", \"ticks\": \"\"}, \"baxis\": {\"gridcolor\": \"white\", \"linecolor\": \"white\", \"ticks\": \"\"}, \"bgcolor\": \"#E5ECF6\", \"caxis\": {\"gridcolor\": \"white\", \"linecolor\": \"white\", \"ticks\": \"\"}}, \"title\": {\"x\": 0.05}, \"xaxis\": {\"automargin\": true, \"gridcolor\": \"white\", \"linecolor\": \"white\", \"ticks\": \"\", \"title\": {\"standoff\": 15}, \"zerolinecolor\": \"white\", \"zerolinewidth\": 2}, \"yaxis\": {\"automargin\": true, \"gridcolor\": \"white\", \"linecolor\": \"white\", \"ticks\": \"\", \"title\": {\"standoff\": 15}, \"zerolinecolor\": \"white\", \"zerolinewidth\": 2}}}, \"title\": {\"text\": \"LinkedIn Data Scientist Job Openings Forecast via VARMAX Model\"}, \"xaxis\": {\"anchor\": \"y\", \"domain\": [0.0, 1.0]}, \"xaxis2\": {\"anchor\": \"y2\", \"domain\": [0.0, 0.45]}, \"xaxis3\": {\"anchor\": \"y3\", \"domain\": [0.55, 1.0]}, \"yaxis\": {\"anchor\": \"x\", \"domain\": [0.625, 1.0]}, \"yaxis2\": {\"anchor\": \"x2\", \"domain\": [0.0, 0.375]}, \"yaxis3\": {\"anchor\": \"x3\", \"domain\": [0.0, 0.375]}},\n",
       "                        {\"responsive\": true}\n",
       "                    ).then(function(){\n",
       "                            \n",
       "var gd = document.getElementById('6a4a1a1f-88f6-4f80-b5b8-ee89cd82f4e3');\n",
       "var x = new MutationObserver(function (mutations, observer) {{\n",
       "        var display = window.getComputedStyle(gd).display;\n",
       "        if (!display || display === 'none') {{\n",
       "            console.log([gd, 'removed!']);\n",
       "            Plotly.purge(gd);\n",
       "            observer.disconnect();\n",
       "        }}\n",
       "}});\n",
       "\n",
       "// Listen for the removal of the full notebook cells\n",
       "var notebookContainer = gd.closest('#notebook-container');\n",
       "if (notebookContainer) {{\n",
       "    x.observe(notebookContainer, {childList: true});\n",
       "}}\n",
       "\n",
       "// Listen for the clearing of the current output cell\n",
       "var outputEl = gd.closest('.output');\n",
       "if (outputEl) {{\n",
       "    x.observe(outputEl, {childList: true});\n",
       "}}\n",
       "\n",
       "                        })\n",
       "                };\n",
       "                });\n",
       "            </script>\n",
       "        </div>"
      ]
     },
     "metadata": {},
     "output_type": "display_data"
    }
   ],
   "source": [
    "fig = make_subplots(\n",
    "    rows=2, cols=2,\n",
    "    specs=[[{\"colspan\": 2}, None],[{}, {}]],\n",
    "    subplot_titles=(\"Train data\",'No eXog, RMSE: {:0.2f}'.format(error_li_varma), 'X=Weekend, RMSE: {:0.2f}'.format(error_li_varmax)))\n",
    "\n",
    "fig.add_trace(go.Scatter(x=train.index, y=train['Jobnums'], mode='lines+markers',name='Train', showlegend=False), row=1, col=1)\n",
    "fig.add_trace(go.Scatter(x=test.index, y=test['Jobnums'], mode='lines+markers',line=dict(color='green'), name='Test', showlegend=False), row=2, col=1)\n",
    "fig.add_trace(go.Scatter(x=test.index, y=yhat_li_varma[\"Jobnums\"], mode='lines+markers',line=dict(color='red'), name='Prediction',showlegend=False),row=2, col=1)\n",
    "#fig.add_trace(go.Scatter(x=pred_cix.index, y=pred_ci.iloc[:,1], fill=None, mode='lines',line=dict(width=0.0,color='lightgray'),showlegend=False), row=2, col=1)\n",
    "#fig.add_trace(go.Scatter(x=pred_cix.index, y=pred_ci.iloc[:,3], fill='tonexty', mode='lines',line=dict(width=0.0,color='lightgray'),showlegend=False),row=2, col=1)\n",
    "fig.add_trace(go.Scatter(x=test.index, y=test['Jobnums'], mode='lines+markers', line=dict(color='green'), name='Test',showlegend=True), row=2, col=2)\n",
    "fig.add_trace(go.Scatter(x=test.index, y=yhat_li_varmax[\"Jobnums\"], mode='lines+markers', line=dict(color='red'), name='Prediction',showlegend=True),row=2, col=2)\n",
    "#fig.add_trace(go.Scatter(x=pred_cix.index, y=pred_u, fill=None, mode='lines',line=dict(width=0.0,color='lightgray'),showlegend=False), row=2, col=2)\n",
    "#fig.add_trace(go.Scatter(x=pred_cix.index, y=pred_l, fill='tonexty', mode='lines',line=dict(width=0.0,color='lightgray'),showlegend=False),row=2, col=2)\n",
    "fig.update_layout(title='LinkedIn Data Scientist Job Openings Forecast via VARMAX Model',legend=dict(x=1,y=0.25))\n",
    "fig.show()"
   ]
  },
  {
   "cell_type": "markdown",
   "metadata": {},
   "source": [
    "### Forecast the future"
   ]
  },
  {
   "cell_type": "code",
   "execution_count": 64,
   "metadata": {},
   "outputs": [
    {
     "data": {
      "text/html": [
       "<div>\n",
       "<style scoped>\n",
       "    .dataframe tbody tr th:only-of-type {\n",
       "        vertical-align: middle;\n",
       "    }\n",
       "\n",
       "    .dataframe tbody tr th {\n",
       "        vertical-align: top;\n",
       "    }\n",
       "\n",
       "    .dataframe thead th {\n",
       "        text-align: right;\n",
       "    }\n",
       "</style>\n",
       "<table border=\"1\" class=\"dataframe\">\n",
       "  <thead>\n",
       "    <tr style=\"text-align: right;\">\n",
       "      <th></th>\n",
       "      <th>Date</th>\n",
       "      <th>Day of week</th>\n",
       "      <th>Weekend</th>\n",
       "    </tr>\n",
       "    <tr>\n",
       "      <th>Date</th>\n",
       "      <th></th>\n",
       "      <th></th>\n",
       "      <th></th>\n",
       "    </tr>\n",
       "  </thead>\n",
       "  <tbody>\n",
       "    <tr>\n",
       "      <td>2020-08-16</td>\n",
       "      <td>2020-08-16</td>\n",
       "      <td>Sun</td>\n",
       "      <td>1</td>\n",
       "    </tr>\n",
       "    <tr>\n",
       "      <td>2020-08-17</td>\n",
       "      <td>2020-08-17</td>\n",
       "      <td>Mon</td>\n",
       "      <td>0</td>\n",
       "    </tr>\n",
       "    <tr>\n",
       "      <td>2020-08-18</td>\n",
       "      <td>2020-08-18</td>\n",
       "      <td>Tue</td>\n",
       "      <td>0</td>\n",
       "    </tr>\n",
       "    <tr>\n",
       "      <td>2020-08-19</td>\n",
       "      <td>2020-08-19</td>\n",
       "      <td>Wed</td>\n",
       "      <td>0</td>\n",
       "    </tr>\n",
       "    <tr>\n",
       "      <td>2020-08-20</td>\n",
       "      <td>2020-08-20</td>\n",
       "      <td>Thu</td>\n",
       "      <td>0</td>\n",
       "    </tr>\n",
       "    <tr>\n",
       "      <td>2020-08-21</td>\n",
       "      <td>2020-08-21</td>\n",
       "      <td>Fri</td>\n",
       "      <td>0</td>\n",
       "    </tr>\n",
       "    <tr>\n",
       "      <td>2020-08-22</td>\n",
       "      <td>2020-08-22</td>\n",
       "      <td>Sat</td>\n",
       "      <td>1</td>\n",
       "    </tr>\n",
       "  </tbody>\n",
       "</table>\n",
       "</div>"
      ],
      "text/plain": [
       "                 Date Day of week  Weekend\n",
       "Date                                      \n",
       "2020-08-16 2020-08-16         Sun        1\n",
       "2020-08-17 2020-08-17         Mon        0\n",
       "2020-08-18 2020-08-18         Tue        0\n",
       "2020-08-19 2020-08-19         Wed        0\n",
       "2020-08-20 2020-08-20         Thu        0\n",
       "2020-08-21 2020-08-21         Fri        0\n",
       "2020-08-22 2020-08-22         Sat        1"
      ]
     },
     "execution_count": 64,
     "metadata": {},
     "output_type": "execute_result"
    }
   ],
   "source": [
    "df_linkedin_future = pd.DataFrame(columns=['Date', 'Day of week', 'Weekend'])\n",
    "df_linkedin_future['Date'] = pd.date_range('2020-08-16', '2020-08-22')\n",
    "df_linkedin_future.set_index('Date', inplace=True, drop=False)\n",
    "df_linkedin_future['Day of week'] = df_indeed_future['Date'].apply(lambda x: week[x.weekday()])\n",
    "df_linkedin_future['Weekend'] = df_indeed_future['Day of week'].apply(lambda x: 1 if (x=='Sun') or (x=='Sat') else 0)\n",
    "df_linkedin_future"
   ]
  },
  {
   "cell_type": "code",
   "execution_count": 79,
   "metadata": {},
   "outputs": [],
   "source": [
    "n_test = 7\n",
    "best_cfg = [(5, 2), 'c', 0]\n",
    "train = df_combined_linkedin[['New','Jobnums']]\n",
    "exog_train = df_combined_linkedin[['Weekend']]\n",
    "exog_test = df_linkedin_future[['Weekend']]\n",
    "linkedin_pred = pd.DataFrame()\n",
    "history = train.copy()\n",
    "exog_ = [x[:] for x in exog_train.values]\n",
    "for i in range(n_test):\n",
    "    yhat = varmax_forecast(history, 1, best_cfg, exog1=exog_, exog2=np.array(exog_test.iloc[i]).reshape(1,-1))\n",
    "    linkedin_pred = linkedin_pred.append(yhat)\n",
    "    history = history.append(yhat)\n",
    "    exog_.append(np.array(exog_test.iloc[i]))"
   ]
  },
  {
   "cell_type": "code",
   "execution_count": 80,
   "metadata": {
    "scrolled": true
   },
   "outputs": [
    {
     "data": {
      "application/vnd.plotly.v1+json": {
       "config": {
        "plotlyServerURL": "https://plot.ly"
       },
       "data": [
        {
         "marker": {
          "color": "royalblue",
          "size": 8
         },
         "mode": "lines+markers",
         "name": "Train",
         "type": "scatter",
         "x": [
          "2020-05-19T00:00:00",
          "2020-05-20T00:00:00",
          "2020-05-21T00:00:00",
          "2020-05-22T00:00:00",
          "2020-05-23T00:00:00",
          "2020-05-24T00:00:00",
          "2020-05-25T00:00:00",
          "2020-05-26T00:00:00",
          "2020-05-27T00:00:00",
          "2020-05-28T00:00:00",
          "2020-05-29T00:00:00",
          "2020-05-30T00:00:00",
          "2020-05-31T00:00:00",
          "2020-06-01T00:00:00",
          "2020-06-02T00:00:00",
          "2020-06-03T00:00:00",
          "2020-06-04T00:00:00",
          "2020-06-05T00:00:00",
          "2020-06-06T00:00:00",
          "2020-06-07T00:00:00",
          "2020-06-08T00:00:00",
          "2020-06-09T00:00:00",
          "2020-06-10T00:00:00",
          "2020-06-11T00:00:00",
          "2020-06-12T00:00:00",
          "2020-06-13T00:00:00",
          "2020-06-14T00:00:00",
          "2020-06-15T00:00:00",
          "2020-06-16T00:00:00",
          "2020-06-17T00:00:00",
          "2020-06-18T00:00:00",
          "2020-06-19T00:00:00",
          "2020-06-20T00:00:00",
          "2020-06-21T00:00:00",
          "2020-06-22T00:00:00",
          "2020-06-23T00:00:00",
          "2020-06-24T00:00:00",
          "2020-06-25T00:00:00",
          "2020-06-26T00:00:00",
          "2020-06-27T00:00:00",
          "2020-06-28T00:00:00",
          "2020-06-29T00:00:00",
          "2020-06-30T00:00:00",
          "2020-07-01T00:00:00",
          "2020-07-02T00:00:00",
          "2020-07-03T00:00:00",
          "2020-07-04T00:00:00",
          "2020-07-05T00:00:00",
          "2020-07-06T00:00:00",
          "2020-07-07T00:00:00",
          "2020-07-08T00:00:00",
          "2020-07-09T00:00:00",
          "2020-07-10T00:00:00",
          "2020-07-11T00:00:00",
          "2020-07-12T00:00:00",
          "2020-07-13T00:00:00",
          "2020-07-14T00:00:00",
          "2020-07-15T00:00:00",
          "2020-07-16T00:00:00",
          "2020-07-17T00:00:00",
          "2020-07-18T00:00:00",
          "2020-07-19T00:00:00",
          "2020-07-20T00:00:00",
          "2020-07-21T00:00:00",
          "2020-07-22T00:00:00",
          "2020-07-23T00:00:00",
          "2020-07-24T00:00:00",
          "2020-07-25T00:00:00",
          "2020-07-26T00:00:00",
          "2020-07-27T00:00:00",
          "2020-07-28T00:00:00",
          "2020-07-29T00:00:00",
          "2020-07-30T00:00:00",
          "2020-07-31T00:00:00",
          "2020-08-01T00:00:00",
          "2020-08-02T00:00:00",
          "2020-08-03T00:00:00",
          "2020-08-04T00:00:00",
          "2020-08-05T00:00:00",
          "2020-08-06T00:00:00",
          "2020-08-07T00:00:00",
          "2020-08-08T00:00:00",
          "2020-08-09T00:00:00",
          "2020-08-10T00:00:00",
          "2020-08-11T00:00:00",
          "2020-08-12T00:00:00",
          "2020-08-13T00:00:00",
          "2020-08-14T00:00:00",
          "2020-08-15T00:00:00"
         ],
         "y": [
          433,
          108,
          91,
          126,
          276,
          266,
          129,
          125,
          235,
          362,
          425,
          355,
          428,
          931,
          454,
          424,
          327,
          428,
          373,
          546,
          464,
          539,
          479,
          412,
          573,
          492,
          338,
          386,
          542,
          788,
          1030,
          899,
          662,
          440,
          756,
          979,
          905,
          1087,
          1060,
          1443,
          648,
          608,
          688,
          902,
          1008,
          1020,
          386,
          323,
          570,
          810,
          805,
          842,
          752,
          415,
          625,
          798,
          1048,
          674,
          753,
          1150,
          670,
          471,
          630,
          1018,
          1156,
          1000,
          699,
          415,
          180,
          417,
          561,
          558,
          646,
          709,
          791,
          779,
          945,
          846,
          862,
          671,
          448,
          550,
          529,
          504,
          552,
          597,
          744,
          499,
          510
         ]
        },
        {
         "marker": {
          "color": "red",
          "size": 8
         },
         "mode": "lines+markers",
         "name": "Future Forecast",
         "type": "scatter",
         "x": [
          "2020-08-16T00:00:00",
          "2020-08-17T00:00:00",
          "2020-08-18T00:00:00",
          "2020-08-19T00:00:00",
          "2020-08-20T00:00:00",
          "2020-08-21T00:00:00",
          "2020-08-22T00:00:00"
         ],
         "y": [
          413.87743524926736,
          603.8536505284253,
          598.3746124829001,
          746.6271959662294,
          615.2380735738456,
          678.706736283385,
          554.5116856322533
         ]
        }
       ],
       "layout": {
        "annotations": [
         {
          "arrowhead": 2,
          "arrowsize": 1,
          "arrowwidth": 2,
          "ax": 10,
          "ay": -70,
          "font": {
           "size": 16
          },
          "text": "Future<br>forecast",
          "x": "2020-08-18",
          "y": 750
         }
        ],
        "height": 500,
        "legend": {
         "font": {
          "size": 16
         },
         "x": 0.05,
         "y": 0.95
        },
        "margin": {
         "b": 0,
         "l": 0,
         "r": 10,
         "t": 90
        },
        "shapes": [
         {
          "fillcolor": "LightSalmon",
          "layer": "below",
          "line": {
           "width": 0
          },
          "opacity": 0.2,
          "type": "rect",
          "x0": "2020-08-16T00:00:00",
          "x1": "2020-08-22T00:00:00",
          "xref": "x",
          "y0": 0,
          "y1": 1,
          "yref": "paper"
         }
        ],
        "template": {
         "data": {
          "bar": [
           {
            "error_x": {
             "color": "#2a3f5f"
            },
            "error_y": {
             "color": "#2a3f5f"
            },
            "marker": {
             "line": {
              "color": "#E5ECF6",
              "width": 0.5
             }
            },
            "type": "bar"
           }
          ],
          "barpolar": [
           {
            "marker": {
             "line": {
              "color": "#E5ECF6",
              "width": 0.5
             }
            },
            "type": "barpolar"
           }
          ],
          "carpet": [
           {
            "aaxis": {
             "endlinecolor": "#2a3f5f",
             "gridcolor": "white",
             "linecolor": "white",
             "minorgridcolor": "white",
             "startlinecolor": "#2a3f5f"
            },
            "baxis": {
             "endlinecolor": "#2a3f5f",
             "gridcolor": "white",
             "linecolor": "white",
             "minorgridcolor": "white",
             "startlinecolor": "#2a3f5f"
            },
            "type": "carpet"
           }
          ],
          "choropleth": [
           {
            "colorbar": {
             "outlinewidth": 0,
             "ticks": ""
            },
            "type": "choropleth"
           }
          ],
          "contour": [
           {
            "colorbar": {
             "outlinewidth": 0,
             "ticks": ""
            },
            "colorscale": [
             [
              0,
              "#0d0887"
             ],
             [
              0.1111111111111111,
              "#46039f"
             ],
             [
              0.2222222222222222,
              "#7201a8"
             ],
             [
              0.3333333333333333,
              "#9c179e"
             ],
             [
              0.4444444444444444,
              "#bd3786"
             ],
             [
              0.5555555555555556,
              "#d8576b"
             ],
             [
              0.6666666666666666,
              "#ed7953"
             ],
             [
              0.7777777777777778,
              "#fb9f3a"
             ],
             [
              0.8888888888888888,
              "#fdca26"
             ],
             [
              1,
              "#f0f921"
             ]
            ],
            "type": "contour"
           }
          ],
          "contourcarpet": [
           {
            "colorbar": {
             "outlinewidth": 0,
             "ticks": ""
            },
            "type": "contourcarpet"
           }
          ],
          "heatmap": [
           {
            "colorbar": {
             "outlinewidth": 0,
             "ticks": ""
            },
            "colorscale": [
             [
              0,
              "#0d0887"
             ],
             [
              0.1111111111111111,
              "#46039f"
             ],
             [
              0.2222222222222222,
              "#7201a8"
             ],
             [
              0.3333333333333333,
              "#9c179e"
             ],
             [
              0.4444444444444444,
              "#bd3786"
             ],
             [
              0.5555555555555556,
              "#d8576b"
             ],
             [
              0.6666666666666666,
              "#ed7953"
             ],
             [
              0.7777777777777778,
              "#fb9f3a"
             ],
             [
              0.8888888888888888,
              "#fdca26"
             ],
             [
              1,
              "#f0f921"
             ]
            ],
            "type": "heatmap"
           }
          ],
          "heatmapgl": [
           {
            "colorbar": {
             "outlinewidth": 0,
             "ticks": ""
            },
            "colorscale": [
             [
              0,
              "#0d0887"
             ],
             [
              0.1111111111111111,
              "#46039f"
             ],
             [
              0.2222222222222222,
              "#7201a8"
             ],
             [
              0.3333333333333333,
              "#9c179e"
             ],
             [
              0.4444444444444444,
              "#bd3786"
             ],
             [
              0.5555555555555556,
              "#d8576b"
             ],
             [
              0.6666666666666666,
              "#ed7953"
             ],
             [
              0.7777777777777778,
              "#fb9f3a"
             ],
             [
              0.8888888888888888,
              "#fdca26"
             ],
             [
              1,
              "#f0f921"
             ]
            ],
            "type": "heatmapgl"
           }
          ],
          "histogram": [
           {
            "marker": {
             "colorbar": {
              "outlinewidth": 0,
              "ticks": ""
             }
            },
            "type": "histogram"
           }
          ],
          "histogram2d": [
           {
            "colorbar": {
             "outlinewidth": 0,
             "ticks": ""
            },
            "colorscale": [
             [
              0,
              "#0d0887"
             ],
             [
              0.1111111111111111,
              "#46039f"
             ],
             [
              0.2222222222222222,
              "#7201a8"
             ],
             [
              0.3333333333333333,
              "#9c179e"
             ],
             [
              0.4444444444444444,
              "#bd3786"
             ],
             [
              0.5555555555555556,
              "#d8576b"
             ],
             [
              0.6666666666666666,
              "#ed7953"
             ],
             [
              0.7777777777777778,
              "#fb9f3a"
             ],
             [
              0.8888888888888888,
              "#fdca26"
             ],
             [
              1,
              "#f0f921"
             ]
            ],
            "type": "histogram2d"
           }
          ],
          "histogram2dcontour": [
           {
            "colorbar": {
             "outlinewidth": 0,
             "ticks": ""
            },
            "colorscale": [
             [
              0,
              "#0d0887"
             ],
             [
              0.1111111111111111,
              "#46039f"
             ],
             [
              0.2222222222222222,
              "#7201a8"
             ],
             [
              0.3333333333333333,
              "#9c179e"
             ],
             [
              0.4444444444444444,
              "#bd3786"
             ],
             [
              0.5555555555555556,
              "#d8576b"
             ],
             [
              0.6666666666666666,
              "#ed7953"
             ],
             [
              0.7777777777777778,
              "#fb9f3a"
             ],
             [
              0.8888888888888888,
              "#fdca26"
             ],
             [
              1,
              "#f0f921"
             ]
            ],
            "type": "histogram2dcontour"
           }
          ],
          "mesh3d": [
           {
            "colorbar": {
             "outlinewidth": 0,
             "ticks": ""
            },
            "type": "mesh3d"
           }
          ],
          "parcoords": [
           {
            "line": {
             "colorbar": {
              "outlinewidth": 0,
              "ticks": ""
             }
            },
            "type": "parcoords"
           }
          ],
          "pie": [
           {
            "automargin": true,
            "type": "pie"
           }
          ],
          "scatter": [
           {
            "marker": {
             "colorbar": {
              "outlinewidth": 0,
              "ticks": ""
             }
            },
            "type": "scatter"
           }
          ],
          "scatter3d": [
           {
            "line": {
             "colorbar": {
              "outlinewidth": 0,
              "ticks": ""
             }
            },
            "marker": {
             "colorbar": {
              "outlinewidth": 0,
              "ticks": ""
             }
            },
            "type": "scatter3d"
           }
          ],
          "scattercarpet": [
           {
            "marker": {
             "colorbar": {
              "outlinewidth": 0,
              "ticks": ""
             }
            },
            "type": "scattercarpet"
           }
          ],
          "scattergeo": [
           {
            "marker": {
             "colorbar": {
              "outlinewidth": 0,
              "ticks": ""
             }
            },
            "type": "scattergeo"
           }
          ],
          "scattergl": [
           {
            "marker": {
             "colorbar": {
              "outlinewidth": 0,
              "ticks": ""
             }
            },
            "type": "scattergl"
           }
          ],
          "scattermapbox": [
           {
            "marker": {
             "colorbar": {
              "outlinewidth": 0,
              "ticks": ""
             }
            },
            "type": "scattermapbox"
           }
          ],
          "scatterpolar": [
           {
            "marker": {
             "colorbar": {
              "outlinewidth": 0,
              "ticks": ""
             }
            },
            "type": "scatterpolar"
           }
          ],
          "scatterpolargl": [
           {
            "marker": {
             "colorbar": {
              "outlinewidth": 0,
              "ticks": ""
             }
            },
            "type": "scatterpolargl"
           }
          ],
          "scatterternary": [
           {
            "marker": {
             "colorbar": {
              "outlinewidth": 0,
              "ticks": ""
             }
            },
            "type": "scatterternary"
           }
          ],
          "surface": [
           {
            "colorbar": {
             "outlinewidth": 0,
             "ticks": ""
            },
            "colorscale": [
             [
              0,
              "#0d0887"
             ],
             [
              0.1111111111111111,
              "#46039f"
             ],
             [
              0.2222222222222222,
              "#7201a8"
             ],
             [
              0.3333333333333333,
              "#9c179e"
             ],
             [
              0.4444444444444444,
              "#bd3786"
             ],
             [
              0.5555555555555556,
              "#d8576b"
             ],
             [
              0.6666666666666666,
              "#ed7953"
             ],
             [
              0.7777777777777778,
              "#fb9f3a"
             ],
             [
              0.8888888888888888,
              "#fdca26"
             ],
             [
              1,
              "#f0f921"
             ]
            ],
            "type": "surface"
           }
          ],
          "table": [
           {
            "cells": {
             "fill": {
              "color": "#EBF0F8"
             },
             "line": {
              "color": "white"
             }
            },
            "header": {
             "fill": {
              "color": "#C8D4E3"
             },
             "line": {
              "color": "white"
             }
            },
            "type": "table"
           }
          ]
         },
         "layout": {
          "annotationdefaults": {
           "arrowcolor": "#2a3f5f",
           "arrowhead": 0,
           "arrowwidth": 1
          },
          "coloraxis": {
           "colorbar": {
            "outlinewidth": 0,
            "ticks": ""
           }
          },
          "colorscale": {
           "diverging": [
            [
             0,
             "#8e0152"
            ],
            [
             0.1,
             "#c51b7d"
            ],
            [
             0.2,
             "#de77ae"
            ],
            [
             0.3,
             "#f1b6da"
            ],
            [
             0.4,
             "#fde0ef"
            ],
            [
             0.5,
             "#f7f7f7"
            ],
            [
             0.6,
             "#e6f5d0"
            ],
            [
             0.7,
             "#b8e186"
            ],
            [
             0.8,
             "#7fbc41"
            ],
            [
             0.9,
             "#4d9221"
            ],
            [
             1,
             "#276419"
            ]
           ],
           "sequential": [
            [
             0,
             "#0d0887"
            ],
            [
             0.1111111111111111,
             "#46039f"
            ],
            [
             0.2222222222222222,
             "#7201a8"
            ],
            [
             0.3333333333333333,
             "#9c179e"
            ],
            [
             0.4444444444444444,
             "#bd3786"
            ],
            [
             0.5555555555555556,
             "#d8576b"
            ],
            [
             0.6666666666666666,
             "#ed7953"
            ],
            [
             0.7777777777777778,
             "#fb9f3a"
            ],
            [
             0.8888888888888888,
             "#fdca26"
            ],
            [
             1,
             "#f0f921"
            ]
           ],
           "sequentialminus": [
            [
             0,
             "#0d0887"
            ],
            [
             0.1111111111111111,
             "#46039f"
            ],
            [
             0.2222222222222222,
             "#7201a8"
            ],
            [
             0.3333333333333333,
             "#9c179e"
            ],
            [
             0.4444444444444444,
             "#bd3786"
            ],
            [
             0.5555555555555556,
             "#d8576b"
            ],
            [
             0.6666666666666666,
             "#ed7953"
            ],
            [
             0.7777777777777778,
             "#fb9f3a"
            ],
            [
             0.8888888888888888,
             "#fdca26"
            ],
            [
             1,
             "#f0f921"
            ]
           ]
          },
          "colorway": [
           "#636efa",
           "#EF553B",
           "#00cc96",
           "#ab63fa",
           "#FFA15A",
           "#19d3f3",
           "#FF6692",
           "#B6E880",
           "#FF97FF",
           "#FECB52"
          ],
          "font": {
           "color": "#2a3f5f"
          },
          "geo": {
           "bgcolor": "white",
           "lakecolor": "white",
           "landcolor": "#E5ECF6",
           "showlakes": true,
           "showland": true,
           "subunitcolor": "white"
          },
          "hoverlabel": {
           "align": "left"
          },
          "hovermode": "closest",
          "mapbox": {
           "style": "light"
          },
          "paper_bgcolor": "white",
          "plot_bgcolor": "#E5ECF6",
          "polar": {
           "angularaxis": {
            "gridcolor": "white",
            "linecolor": "white",
            "ticks": ""
           },
           "bgcolor": "#E5ECF6",
           "radialaxis": {
            "gridcolor": "white",
            "linecolor": "white",
            "ticks": ""
           }
          },
          "scene": {
           "xaxis": {
            "backgroundcolor": "#E5ECF6",
            "gridcolor": "white",
            "gridwidth": 2,
            "linecolor": "white",
            "showbackground": true,
            "ticks": "",
            "zerolinecolor": "white"
           },
           "yaxis": {
            "backgroundcolor": "#E5ECF6",
            "gridcolor": "white",
            "gridwidth": 2,
            "linecolor": "white",
            "showbackground": true,
            "ticks": "",
            "zerolinecolor": "white"
           },
           "zaxis": {
            "backgroundcolor": "#E5ECF6",
            "gridcolor": "white",
            "gridwidth": 2,
            "linecolor": "white",
            "showbackground": true,
            "ticks": "",
            "zerolinecolor": "white"
           }
          },
          "shapedefaults": {
           "line": {
            "color": "#2a3f5f"
           }
          },
          "ternary": {
           "aaxis": {
            "gridcolor": "white",
            "linecolor": "white",
            "ticks": ""
           },
           "baxis": {
            "gridcolor": "white",
            "linecolor": "white",
            "ticks": ""
           },
           "bgcolor": "#E5ECF6",
           "caxis": {
            "gridcolor": "white",
            "linecolor": "white",
            "ticks": ""
           }
          },
          "title": {
           "x": 0.05
          },
          "xaxis": {
           "automargin": true,
           "gridcolor": "white",
           "linecolor": "white",
           "ticks": "",
           "title": {
            "standoff": 15
           },
           "zerolinecolor": "white",
           "zerolinewidth": 2
          },
          "yaxis": {
           "automargin": true,
           "gridcolor": "white",
           "linecolor": "white",
           "ticks": "",
           "title": {
            "standoff": 15
           },
           "zerolinecolor": "white",
           "zerolinewidth": 2
          }
         }
        },
        "title": {
         "font": {
          "size": 20
         },
         "text": "LinkedIn Data Scientist Open Positions Future Forecast (VARMAX Model)",
         "x": 0.52,
         "xanchor": "center",
         "y": 0.9,
         "yanchor": "top"
        },
        "width": 900,
        "xaxis": {
         "tickfont": {
          "size": 16
         },
         "title": {
          "font": {
           "size": 18
          },
          "standoff": 0,
          "text": "Post date"
         }
        },
        "yaxis": {
         "tickfont": {
          "size": 16
         },
         "title": {
          "font": {
           "size": 18
          },
          "text": "Job numbers"
         }
        }
       }
      },
      "text/html": [
       "<div>\n",
       "        \n",
       "        \n",
       "            <div id=\"c13709a5-d44d-447e-b9c9-85333b91f0e2\" class=\"plotly-graph-div\" style=\"height:500px; width:900px;\"></div>\n",
       "            <script type=\"text/javascript\">\n",
       "                require([\"plotly\"], function(Plotly) {\n",
       "                    window.PLOTLYENV=window.PLOTLYENV || {};\n",
       "                    \n",
       "                if (document.getElementById(\"c13709a5-d44d-447e-b9c9-85333b91f0e2\")) {\n",
       "                    Plotly.newPlot(\n",
       "                        'c13709a5-d44d-447e-b9c9-85333b91f0e2',\n",
       "                        [{\"marker\": {\"color\": \"royalblue\", \"size\": 8}, \"mode\": \"lines+markers\", \"name\": \"Train\", \"type\": \"scatter\", \"x\": [\"2020-05-19T00:00:00\", \"2020-05-20T00:00:00\", \"2020-05-21T00:00:00\", \"2020-05-22T00:00:00\", \"2020-05-23T00:00:00\", \"2020-05-24T00:00:00\", \"2020-05-25T00:00:00\", \"2020-05-26T00:00:00\", \"2020-05-27T00:00:00\", \"2020-05-28T00:00:00\", \"2020-05-29T00:00:00\", \"2020-05-30T00:00:00\", \"2020-05-31T00:00:00\", \"2020-06-01T00:00:00\", \"2020-06-02T00:00:00\", \"2020-06-03T00:00:00\", \"2020-06-04T00:00:00\", \"2020-06-05T00:00:00\", \"2020-06-06T00:00:00\", \"2020-06-07T00:00:00\", \"2020-06-08T00:00:00\", \"2020-06-09T00:00:00\", \"2020-06-10T00:00:00\", \"2020-06-11T00:00:00\", \"2020-06-12T00:00:00\", \"2020-06-13T00:00:00\", \"2020-06-14T00:00:00\", \"2020-06-15T00:00:00\", \"2020-06-16T00:00:00\", \"2020-06-17T00:00:00\", \"2020-06-18T00:00:00\", \"2020-06-19T00:00:00\", \"2020-06-20T00:00:00\", \"2020-06-21T00:00:00\", \"2020-06-22T00:00:00\", \"2020-06-23T00:00:00\", \"2020-06-24T00:00:00\", \"2020-06-25T00:00:00\", \"2020-06-26T00:00:00\", \"2020-06-27T00:00:00\", \"2020-06-28T00:00:00\", \"2020-06-29T00:00:00\", \"2020-06-30T00:00:00\", \"2020-07-01T00:00:00\", \"2020-07-02T00:00:00\", \"2020-07-03T00:00:00\", \"2020-07-04T00:00:00\", \"2020-07-05T00:00:00\", \"2020-07-06T00:00:00\", \"2020-07-07T00:00:00\", \"2020-07-08T00:00:00\", \"2020-07-09T00:00:00\", \"2020-07-10T00:00:00\", \"2020-07-11T00:00:00\", \"2020-07-12T00:00:00\", \"2020-07-13T00:00:00\", \"2020-07-14T00:00:00\", \"2020-07-15T00:00:00\", \"2020-07-16T00:00:00\", \"2020-07-17T00:00:00\", \"2020-07-18T00:00:00\", \"2020-07-19T00:00:00\", \"2020-07-20T00:00:00\", \"2020-07-21T00:00:00\", \"2020-07-22T00:00:00\", \"2020-07-23T00:00:00\", \"2020-07-24T00:00:00\", \"2020-07-25T00:00:00\", \"2020-07-26T00:00:00\", \"2020-07-27T00:00:00\", \"2020-07-28T00:00:00\", \"2020-07-29T00:00:00\", \"2020-07-30T00:00:00\", \"2020-07-31T00:00:00\", \"2020-08-01T00:00:00\", \"2020-08-02T00:00:00\", \"2020-08-03T00:00:00\", \"2020-08-04T00:00:00\", \"2020-08-05T00:00:00\", \"2020-08-06T00:00:00\", \"2020-08-07T00:00:00\", \"2020-08-08T00:00:00\", \"2020-08-09T00:00:00\", \"2020-08-10T00:00:00\", \"2020-08-11T00:00:00\", \"2020-08-12T00:00:00\", \"2020-08-13T00:00:00\", \"2020-08-14T00:00:00\", \"2020-08-15T00:00:00\"], \"y\": [433, 108, 91, 126, 276, 266, 129, 125, 235, 362, 425, 355, 428, 931, 454, 424, 327, 428, 373, 546, 464, 539, 479, 412, 573, 492, 338, 386, 542, 788, 1030, 899, 662, 440, 756, 979, 905, 1087, 1060, 1443, 648, 608, 688, 902, 1008, 1020, 386, 323, 570, 810, 805, 842, 752, 415, 625, 798, 1048, 674, 753, 1150, 670, 471, 630, 1018, 1156, 1000, 699, 415, 180, 417, 561, 558, 646, 709, 791, 779, 945, 846, 862, 671, 448, 550, 529, 504, 552, 597, 744, 499, 510]}, {\"marker\": {\"color\": \"red\", \"size\": 8}, \"mode\": \"lines+markers\", \"name\": \"Future Forecast\", \"type\": \"scatter\", \"x\": [\"2020-08-16T00:00:00\", \"2020-08-17T00:00:00\", \"2020-08-18T00:00:00\", \"2020-08-19T00:00:00\", \"2020-08-20T00:00:00\", \"2020-08-21T00:00:00\", \"2020-08-22T00:00:00\"], \"y\": [413.87743524926736, 603.8536505284253, 598.3746124829001, 746.6271959662294, 615.2380735738456, 678.706736283385, 554.5116856322533]}],\n",
       "                        {\"annotations\": [{\"arrowhead\": 2, \"arrowsize\": 1, \"arrowwidth\": 2, \"ax\": 10, \"ay\": -70, \"font\": {\"size\": 16}, \"text\": \"Future<br>forecast\", \"x\": \"2020-08-18\", \"y\": 750}], \"height\": 500, \"legend\": {\"font\": {\"size\": 16}, \"x\": 0.05, \"y\": 0.95}, \"margin\": {\"b\": 0, \"l\": 0, \"r\": 10, \"t\": 90}, \"shapes\": [{\"fillcolor\": \"LightSalmon\", \"layer\": \"below\", \"line\": {\"width\": 0}, \"opacity\": 0.2, \"type\": \"rect\", \"x0\": \"2020-08-16T00:00:00\", \"x1\": \"2020-08-22T00:00:00\", \"xref\": \"x\", \"y0\": 0, \"y1\": 1, \"yref\": \"paper\"}], \"template\": {\"data\": {\"bar\": [{\"error_x\": {\"color\": \"#2a3f5f\"}, \"error_y\": {\"color\": \"#2a3f5f\"}, \"marker\": {\"line\": {\"color\": \"#E5ECF6\", \"width\": 0.5}}, \"type\": \"bar\"}], \"barpolar\": [{\"marker\": {\"line\": {\"color\": \"#E5ECF6\", \"width\": 0.5}}, \"type\": \"barpolar\"}], \"carpet\": [{\"aaxis\": {\"endlinecolor\": \"#2a3f5f\", \"gridcolor\": \"white\", \"linecolor\": \"white\", \"minorgridcolor\": \"white\", \"startlinecolor\": \"#2a3f5f\"}, \"baxis\": {\"endlinecolor\": \"#2a3f5f\", \"gridcolor\": \"white\", \"linecolor\": \"white\", \"minorgridcolor\": \"white\", \"startlinecolor\": \"#2a3f5f\"}, \"type\": \"carpet\"}], \"choropleth\": [{\"colorbar\": {\"outlinewidth\": 0, \"ticks\": \"\"}, \"type\": \"choropleth\"}], \"contour\": [{\"colorbar\": {\"outlinewidth\": 0, \"ticks\": \"\"}, \"colorscale\": [[0.0, \"#0d0887\"], [0.1111111111111111, \"#46039f\"], [0.2222222222222222, \"#7201a8\"], [0.3333333333333333, \"#9c179e\"], [0.4444444444444444, \"#bd3786\"], [0.5555555555555556, \"#d8576b\"], [0.6666666666666666, \"#ed7953\"], [0.7777777777777778, \"#fb9f3a\"], [0.8888888888888888, \"#fdca26\"], [1.0, \"#f0f921\"]], \"type\": \"contour\"}], \"contourcarpet\": [{\"colorbar\": {\"outlinewidth\": 0, \"ticks\": \"\"}, \"type\": \"contourcarpet\"}], \"heatmap\": [{\"colorbar\": {\"outlinewidth\": 0, \"ticks\": \"\"}, \"colorscale\": [[0.0, \"#0d0887\"], [0.1111111111111111, \"#46039f\"], [0.2222222222222222, \"#7201a8\"], [0.3333333333333333, \"#9c179e\"], [0.4444444444444444, \"#bd3786\"], [0.5555555555555556, \"#d8576b\"], [0.6666666666666666, \"#ed7953\"], [0.7777777777777778, \"#fb9f3a\"], [0.8888888888888888, \"#fdca26\"], [1.0, \"#f0f921\"]], \"type\": \"heatmap\"}], \"heatmapgl\": [{\"colorbar\": {\"outlinewidth\": 0, \"ticks\": \"\"}, \"colorscale\": [[0.0, \"#0d0887\"], [0.1111111111111111, \"#46039f\"], [0.2222222222222222, \"#7201a8\"], [0.3333333333333333, \"#9c179e\"], [0.4444444444444444, \"#bd3786\"], [0.5555555555555556, \"#d8576b\"], [0.6666666666666666, \"#ed7953\"], [0.7777777777777778, \"#fb9f3a\"], [0.8888888888888888, \"#fdca26\"], [1.0, \"#f0f921\"]], \"type\": \"heatmapgl\"}], \"histogram\": [{\"marker\": {\"colorbar\": {\"outlinewidth\": 0, \"ticks\": \"\"}}, \"type\": \"histogram\"}], \"histogram2d\": [{\"colorbar\": {\"outlinewidth\": 0, \"ticks\": \"\"}, \"colorscale\": [[0.0, \"#0d0887\"], [0.1111111111111111, \"#46039f\"], [0.2222222222222222, \"#7201a8\"], [0.3333333333333333, \"#9c179e\"], [0.4444444444444444, \"#bd3786\"], [0.5555555555555556, \"#d8576b\"], [0.6666666666666666, \"#ed7953\"], [0.7777777777777778, \"#fb9f3a\"], [0.8888888888888888, \"#fdca26\"], [1.0, \"#f0f921\"]], \"type\": \"histogram2d\"}], \"histogram2dcontour\": [{\"colorbar\": {\"outlinewidth\": 0, \"ticks\": \"\"}, \"colorscale\": [[0.0, \"#0d0887\"], [0.1111111111111111, \"#46039f\"], [0.2222222222222222, \"#7201a8\"], [0.3333333333333333, \"#9c179e\"], [0.4444444444444444, \"#bd3786\"], [0.5555555555555556, \"#d8576b\"], [0.6666666666666666, \"#ed7953\"], [0.7777777777777778, \"#fb9f3a\"], [0.8888888888888888, \"#fdca26\"], [1.0, \"#f0f921\"]], \"type\": \"histogram2dcontour\"}], \"mesh3d\": [{\"colorbar\": {\"outlinewidth\": 0, \"ticks\": \"\"}, \"type\": \"mesh3d\"}], \"parcoords\": [{\"line\": {\"colorbar\": {\"outlinewidth\": 0, \"ticks\": \"\"}}, \"type\": \"parcoords\"}], \"pie\": [{\"automargin\": true, \"type\": \"pie\"}], \"scatter\": [{\"marker\": {\"colorbar\": {\"outlinewidth\": 0, \"ticks\": \"\"}}, \"type\": \"scatter\"}], \"scatter3d\": [{\"line\": {\"colorbar\": {\"outlinewidth\": 0, \"ticks\": \"\"}}, \"marker\": {\"colorbar\": {\"outlinewidth\": 0, \"ticks\": \"\"}}, \"type\": \"scatter3d\"}], \"scattercarpet\": [{\"marker\": {\"colorbar\": {\"outlinewidth\": 0, \"ticks\": \"\"}}, \"type\": \"scattercarpet\"}], \"scattergeo\": [{\"marker\": {\"colorbar\": {\"outlinewidth\": 0, \"ticks\": \"\"}}, \"type\": \"scattergeo\"}], \"scattergl\": [{\"marker\": {\"colorbar\": {\"outlinewidth\": 0, \"ticks\": \"\"}}, \"type\": \"scattergl\"}], \"scattermapbox\": [{\"marker\": {\"colorbar\": {\"outlinewidth\": 0, \"ticks\": \"\"}}, \"type\": \"scattermapbox\"}], \"scatterpolar\": [{\"marker\": {\"colorbar\": {\"outlinewidth\": 0, \"ticks\": \"\"}}, \"type\": \"scatterpolar\"}], \"scatterpolargl\": [{\"marker\": {\"colorbar\": {\"outlinewidth\": 0, \"ticks\": \"\"}}, \"type\": \"scatterpolargl\"}], \"scatterternary\": [{\"marker\": {\"colorbar\": {\"outlinewidth\": 0, \"ticks\": \"\"}}, \"type\": \"scatterternary\"}], \"surface\": [{\"colorbar\": {\"outlinewidth\": 0, \"ticks\": \"\"}, \"colorscale\": [[0.0, \"#0d0887\"], [0.1111111111111111, \"#46039f\"], [0.2222222222222222, \"#7201a8\"], [0.3333333333333333, \"#9c179e\"], [0.4444444444444444, \"#bd3786\"], [0.5555555555555556, \"#d8576b\"], [0.6666666666666666, \"#ed7953\"], [0.7777777777777778, \"#fb9f3a\"], [0.8888888888888888, \"#fdca26\"], [1.0, \"#f0f921\"]], \"type\": \"surface\"}], \"table\": [{\"cells\": {\"fill\": {\"color\": \"#EBF0F8\"}, \"line\": {\"color\": \"white\"}}, \"header\": {\"fill\": {\"color\": \"#C8D4E3\"}, \"line\": {\"color\": \"white\"}}, \"type\": \"table\"}]}, \"layout\": {\"annotationdefaults\": {\"arrowcolor\": \"#2a3f5f\", \"arrowhead\": 0, \"arrowwidth\": 1}, \"coloraxis\": {\"colorbar\": {\"outlinewidth\": 0, \"ticks\": \"\"}}, \"colorscale\": {\"diverging\": [[0, \"#8e0152\"], [0.1, \"#c51b7d\"], [0.2, \"#de77ae\"], [0.3, \"#f1b6da\"], [0.4, \"#fde0ef\"], [0.5, \"#f7f7f7\"], [0.6, \"#e6f5d0\"], [0.7, \"#b8e186\"], [0.8, \"#7fbc41\"], [0.9, \"#4d9221\"], [1, \"#276419\"]], \"sequential\": [[0.0, \"#0d0887\"], [0.1111111111111111, \"#46039f\"], [0.2222222222222222, \"#7201a8\"], [0.3333333333333333, \"#9c179e\"], [0.4444444444444444, \"#bd3786\"], [0.5555555555555556, \"#d8576b\"], [0.6666666666666666, \"#ed7953\"], [0.7777777777777778, \"#fb9f3a\"], [0.8888888888888888, \"#fdca26\"], [1.0, \"#f0f921\"]], \"sequentialminus\": [[0.0, \"#0d0887\"], [0.1111111111111111, \"#46039f\"], [0.2222222222222222, \"#7201a8\"], [0.3333333333333333, \"#9c179e\"], [0.4444444444444444, \"#bd3786\"], [0.5555555555555556, \"#d8576b\"], [0.6666666666666666, \"#ed7953\"], [0.7777777777777778, \"#fb9f3a\"], [0.8888888888888888, \"#fdca26\"], [1.0, \"#f0f921\"]]}, \"colorway\": [\"#636efa\", \"#EF553B\", \"#00cc96\", \"#ab63fa\", \"#FFA15A\", \"#19d3f3\", \"#FF6692\", \"#B6E880\", \"#FF97FF\", \"#FECB52\"], \"font\": {\"color\": \"#2a3f5f\"}, \"geo\": {\"bgcolor\": \"white\", \"lakecolor\": \"white\", \"landcolor\": \"#E5ECF6\", \"showlakes\": true, \"showland\": true, \"subunitcolor\": \"white\"}, \"hoverlabel\": {\"align\": \"left\"}, \"hovermode\": \"closest\", \"mapbox\": {\"style\": \"light\"}, \"paper_bgcolor\": \"white\", \"plot_bgcolor\": \"#E5ECF6\", \"polar\": {\"angularaxis\": {\"gridcolor\": \"white\", \"linecolor\": \"white\", \"ticks\": \"\"}, \"bgcolor\": \"#E5ECF6\", \"radialaxis\": {\"gridcolor\": \"white\", \"linecolor\": \"white\", \"ticks\": \"\"}}, \"scene\": {\"xaxis\": {\"backgroundcolor\": \"#E5ECF6\", \"gridcolor\": \"white\", \"gridwidth\": 2, \"linecolor\": \"white\", \"showbackground\": true, \"ticks\": \"\", \"zerolinecolor\": \"white\"}, \"yaxis\": {\"backgroundcolor\": \"#E5ECF6\", \"gridcolor\": \"white\", \"gridwidth\": 2, \"linecolor\": \"white\", \"showbackground\": true, \"ticks\": \"\", \"zerolinecolor\": \"white\"}, \"zaxis\": {\"backgroundcolor\": \"#E5ECF6\", \"gridcolor\": \"white\", \"gridwidth\": 2, \"linecolor\": \"white\", \"showbackground\": true, \"ticks\": \"\", \"zerolinecolor\": \"white\"}}, \"shapedefaults\": {\"line\": {\"color\": \"#2a3f5f\"}}, \"ternary\": {\"aaxis\": {\"gridcolor\": \"white\", \"linecolor\": \"white\", \"ticks\": \"\"}, \"baxis\": {\"gridcolor\": \"white\", \"linecolor\": \"white\", \"ticks\": \"\"}, \"bgcolor\": \"#E5ECF6\", \"caxis\": {\"gridcolor\": \"white\", \"linecolor\": \"white\", \"ticks\": \"\"}}, \"title\": {\"x\": 0.05}, \"xaxis\": {\"automargin\": true, \"gridcolor\": \"white\", \"linecolor\": \"white\", \"ticks\": \"\", \"title\": {\"standoff\": 15}, \"zerolinecolor\": \"white\", \"zerolinewidth\": 2}, \"yaxis\": {\"automargin\": true, \"gridcolor\": \"white\", \"linecolor\": \"white\", \"ticks\": \"\", \"title\": {\"standoff\": 15}, \"zerolinecolor\": \"white\", \"zerolinewidth\": 2}}}, \"title\": {\"font\": {\"size\": 20}, \"text\": \"LinkedIn Data Scientist Open Positions Future Forecast (VARMAX Model)\", \"x\": 0.52, \"xanchor\": \"center\", \"y\": 0.9, \"yanchor\": \"top\"}, \"width\": 900, \"xaxis\": {\"tickfont\": {\"size\": 16}, \"title\": {\"font\": {\"size\": 18}, \"standoff\": 0, \"text\": \"Post date\"}}, \"yaxis\": {\"tickfont\": {\"size\": 16}, \"title\": {\"font\": {\"size\": 18}, \"text\": \"Job numbers\"}}},\n",
       "                        {\"responsive\": true}\n",
       "                    ).then(function(){\n",
       "                            \n",
       "var gd = document.getElementById('c13709a5-d44d-447e-b9c9-85333b91f0e2');\n",
       "var x = new MutationObserver(function (mutations, observer) {{\n",
       "        var display = window.getComputedStyle(gd).display;\n",
       "        if (!display || display === 'none') {{\n",
       "            console.log([gd, 'removed!']);\n",
       "            Plotly.purge(gd);\n",
       "            observer.disconnect();\n",
       "        }}\n",
       "}});\n",
       "\n",
       "// Listen for the removal of the full notebook cells\n",
       "var notebookContainer = gd.closest('#notebook-container');\n",
       "if (notebookContainer) {{\n",
       "    x.observe(notebookContainer, {childList: true});\n",
       "}}\n",
       "\n",
       "// Listen for the clearing of the current output cell\n",
       "var outputEl = gd.closest('.output');\n",
       "if (outputEl) {{\n",
       "    x.observe(outputEl, {childList: true});\n",
       "}}\n",
       "\n",
       "                        })\n",
       "                };\n",
       "                });\n",
       "            </script>\n",
       "        </div>"
      ]
     },
     "metadata": {},
     "output_type": "display_data"
    }
   ],
   "source": [
    "fig = go.Figure()\n",
    "\n",
    "fig.update_layout(\n",
    "    shapes=[\n",
    "        dict(\n",
    "            type=\"rect\",\n",
    "            xref=\"x\",\n",
    "            yref=\"paper\",\n",
    "            x0=df_linkedin_future.index[0],\n",
    "            y0=0,\n",
    "            x1=df_linkedin_future.index[-1],\n",
    "            y1=1,\n",
    "            fillcolor=\"LightSalmon\",\n",
    "            opacity=0.2,\n",
    "            layer=\"below\",\n",
    "            line_width=0,\n",
    "        )\n",
    "    ]\n",
    ")\n",
    "\n",
    "fig.add_trace(go.Scatter(x=df_combined_linkedin.index, y=df_combined_linkedin['Jobnums'], mode='lines+markers', \n",
    "                         marker=dict(size=8, color='royalblue'), name='Train'))\n",
    "\n",
    "fig.add_trace(go.Scatter(x=df_linkedin_future.index, y=linkedin_pred['Jobnums'], mode='lines+markers', \n",
    "                         marker=dict(size=8, color='red'), name='Future Forecast'))\n",
    "\n",
    "\n",
    "fig.add_annotation(\n",
    "            x='2020-08-18',\n",
    "            y=750,\n",
    "            text=\"Future<br>forecast\",\n",
    "            font=dict(size=16),\n",
    "            arrowhead=2,\n",
    "            arrowsize=1,\n",
    "            arrowwidth=2,\n",
    "            ax=10,\n",
    "            ay=-70,)\n",
    "\n",
    "fig.update_layout(title={'text': \"LinkedIn Data Scientist Open Positions Future Forecast (VARMAX Model)\", \n",
    "                         'y':0.9, 'x':0.52,\n",
    "                         'xanchor': 'center',\n",
    "                         'yanchor': 'top'},\n",
    "                  width=900,\n",
    "                  height=500,\n",
    "                  titlefont=dict(size=20),\n",
    "                  xaxis=dict(title=dict(text='Post date', standoff=0), titlefont=dict(size=18), tickfont=dict(size=16)),\n",
    "                  yaxis=dict(title=dict(text='Job numbers'), titlefont=dict(size=18), tickfont=dict(size=16)),\n",
    "                  legend=dict(font=dict(size=16), x=0.05, y=0.95),\n",
    "                  margin = {'r':10, 'l': 0, 't':90, 'b':0}\n",
    "                 )\n",
    "fig.show()"
   ]
  },
  {
   "cell_type": "code",
   "execution_count": 81,
   "metadata": {
    "scrolled": true
   },
   "outputs": [
    {
     "data": {
      "text/html": [
       "<div>\n",
       "<style scoped>\n",
       "    .dataframe tbody tr th:only-of-type {\n",
       "        vertical-align: middle;\n",
       "    }\n",
       "\n",
       "    .dataframe tbody tr th {\n",
       "        vertical-align: top;\n",
       "    }\n",
       "\n",
       "    .dataframe thead th {\n",
       "        text-align: right;\n",
       "    }\n",
       "</style>\n",
       "<table border=\"1\" class=\"dataframe\">\n",
       "  <thead>\n",
       "    <tr style=\"text-align: right;\">\n",
       "      <th></th>\n",
       "      <th>Source</th>\n",
       "      <th>Test_date</th>\n",
       "      <th>Yhat_varma</th>\n",
       "      <th>Yhat_varmax</th>\n",
       "      <th>Future_date</th>\n",
       "      <th>Forecast_varmax</th>\n",
       "    </tr>\n",
       "  </thead>\n",
       "  <tbody>\n",
       "    <tr>\n",
       "      <td>0</td>\n",
       "      <td>LinkedIn_DS</td>\n",
       "      <td>2020-08-09</td>\n",
       "      <td>549.455028</td>\n",
       "      <td>605.865936</td>\n",
       "      <td>2020-08-16</td>\n",
       "      <td>413.877435</td>\n",
       "    </tr>\n",
       "    <tr>\n",
       "      <td>1</td>\n",
       "      <td>LinkedIn_DS</td>\n",
       "      <td>2020-08-10</td>\n",
       "      <td>449.458831</td>\n",
       "      <td>522.479883</td>\n",
       "      <td>2020-08-17</td>\n",
       "      <td>603.853651</td>\n",
       "    </tr>\n",
       "    <tr>\n",
       "      <td>2</td>\n",
       "      <td>LinkedIn_DS</td>\n",
       "      <td>2020-08-11</td>\n",
       "      <td>550.142644</td>\n",
       "      <td>586.518102</td>\n",
       "      <td>2020-08-18</td>\n",
       "      <td>598.374612</td>\n",
       "    </tr>\n",
       "    <tr>\n",
       "      <td>3</td>\n",
       "      <td>LinkedIn_DS</td>\n",
       "      <td>2020-08-12</td>\n",
       "      <td>525.387808</td>\n",
       "      <td>592.652019</td>\n",
       "      <td>2020-08-19</td>\n",
       "      <td>746.627196</td>\n",
       "    </tr>\n",
       "    <tr>\n",
       "      <td>4</td>\n",
       "      <td>LinkedIn_DS</td>\n",
       "      <td>2020-08-13</td>\n",
       "      <td>639.878801</td>\n",
       "      <td>667.537542</td>\n",
       "      <td>2020-08-20</td>\n",
       "      <td>615.238074</td>\n",
       "    </tr>\n",
       "    <tr>\n",
       "      <td>5</td>\n",
       "      <td>LinkedIn_DS</td>\n",
       "      <td>2020-08-14</td>\n",
       "      <td>558.431746</td>\n",
       "      <td>646.637375</td>\n",
       "      <td>2020-08-21</td>\n",
       "      <td>678.706736</td>\n",
       "    </tr>\n",
       "    <tr>\n",
       "      <td>6</td>\n",
       "      <td>LinkedIn_DS</td>\n",
       "      <td>2020-08-15</td>\n",
       "      <td>520.401247</td>\n",
       "      <td>554.093101</td>\n",
       "      <td>2020-08-22</td>\n",
       "      <td>554.511686</td>\n",
       "    </tr>\n",
       "  </tbody>\n",
       "</table>\n",
       "</div>"
      ],
      "text/plain": [
       "        Source  Test_date  Yhat_varma  Yhat_varmax Future_date  \\\n",
       "0  LinkedIn_DS 2020-08-09  549.455028   605.865936  2020-08-16   \n",
       "1  LinkedIn_DS 2020-08-10  449.458831   522.479883  2020-08-17   \n",
       "2  LinkedIn_DS 2020-08-11  550.142644   586.518102  2020-08-18   \n",
       "3  LinkedIn_DS 2020-08-12  525.387808   592.652019  2020-08-19   \n",
       "4  LinkedIn_DS 2020-08-13  639.878801   667.537542  2020-08-20   \n",
       "5  LinkedIn_DS 2020-08-14  558.431746   646.637375  2020-08-21   \n",
       "6  LinkedIn_DS 2020-08-15  520.401247   554.093101  2020-08-22   \n",
       "\n",
       "   Forecast_varmax  \n",
       "0       413.877435  \n",
       "1       603.853651  \n",
       "2       598.374612  \n",
       "3       746.627196  \n",
       "4       615.238074  \n",
       "5       678.706736  \n",
       "6       554.511686  "
      ]
     },
     "execution_count": 81,
     "metadata": {},
     "output_type": "execute_result"
    }
   ],
   "source": [
    "linkedin_ds = pd.DataFrame(columns=['Source','Test_date','Yhat_varma','Yhat_varmax','Future_date','Forecast_varmax'])\n",
    "linkedin_ds['Source'] = 'LinkedIn_DS'\n",
    "linkedin_ds['Test_date'] = test.index\n",
    "linkedin_ds['Yhat_varma'] = yhat_li_varma['Jobnums'].values\n",
    "linkedin_ds['Yhat_varmax'] = yhat_li_varmax['Jobnums'].values\n",
    "linkedin_ds['Future_date'] = df_linkedin_future.index\n",
    "linkedin_ds['Forecast_varmax'] = linkedin_pred['Jobnums'].values\n",
    "linkedin_ds.loc[:,'Source'] = 'LinkedIn_DS'\n",
    "linkedin_ds"
   ]
  },
  {
   "cell_type": "code",
   "execution_count": 82,
   "metadata": {},
   "outputs": [
    {
     "data": {
      "text/html": [
       "<div>\n",
       "<style scoped>\n",
       "    .dataframe tbody tr th:only-of-type {\n",
       "        vertical-align: middle;\n",
       "    }\n",
       "\n",
       "    .dataframe tbody tr th {\n",
       "        vertical-align: top;\n",
       "    }\n",
       "\n",
       "    .dataframe thead th {\n",
       "        text-align: right;\n",
       "    }\n",
       "</style>\n",
       "<table border=\"1\" class=\"dataframe\">\n",
       "  <thead>\n",
       "    <tr style=\"text-align: right;\">\n",
       "      <th></th>\n",
       "      <th>Source</th>\n",
       "      <th>Test_date</th>\n",
       "      <th>Yhat_varma</th>\n",
       "      <th>Yhat_varmax</th>\n",
       "      <th>Future_date</th>\n",
       "      <th>Forecast_varmax</th>\n",
       "    </tr>\n",
       "  </thead>\n",
       "  <tbody>\n",
       "    <tr>\n",
       "      <td>0</td>\n",
       "      <td>Indeed_DS</td>\n",
       "      <td>2020-08-09</td>\n",
       "      <td>20.980635</td>\n",
       "      <td>36.005440</td>\n",
       "      <td>2020-08-16</td>\n",
       "      <td>95.398523</td>\n",
       "    </tr>\n",
       "    <tr>\n",
       "      <td>1</td>\n",
       "      <td>Indeed_DS</td>\n",
       "      <td>2020-08-10</td>\n",
       "      <td>162.067301</td>\n",
       "      <td>150.091450</td>\n",
       "      <td>2020-08-17</td>\n",
       "      <td>161.567159</td>\n",
       "    </tr>\n",
       "    <tr>\n",
       "      <td>2</td>\n",
       "      <td>Indeed_DS</td>\n",
       "      <td>2020-08-11</td>\n",
       "      <td>187.303514</td>\n",
       "      <td>159.933595</td>\n",
       "      <td>2020-08-18</td>\n",
       "      <td>226.551819</td>\n",
       "    </tr>\n",
       "    <tr>\n",
       "      <td>3</td>\n",
       "      <td>Indeed_DS</td>\n",
       "      <td>2020-08-12</td>\n",
       "      <td>223.290504</td>\n",
       "      <td>215.837825</td>\n",
       "      <td>2020-08-19</td>\n",
       "      <td>185.225254</td>\n",
       "    </tr>\n",
       "    <tr>\n",
       "      <td>4</td>\n",
       "      <td>Indeed_DS</td>\n",
       "      <td>2020-08-13</td>\n",
       "      <td>179.088326</td>\n",
       "      <td>187.010141</td>\n",
       "      <td>2020-08-20</td>\n",
       "      <td>261.120855</td>\n",
       "    </tr>\n",
       "    <tr>\n",
       "      <td>5</td>\n",
       "      <td>Indeed_DS</td>\n",
       "      <td>2020-08-14</td>\n",
       "      <td>216.299127</td>\n",
       "      <td>236.907966</td>\n",
       "      <td>2020-08-21</td>\n",
       "      <td>200.189607</td>\n",
       "    </tr>\n",
       "    <tr>\n",
       "      <td>6</td>\n",
       "      <td>Indeed_DS</td>\n",
       "      <td>2020-08-15</td>\n",
       "      <td>91.928873</td>\n",
       "      <td>90.116349</td>\n",
       "      <td>2020-08-22</td>\n",
       "      <td>151.479609</td>\n",
       "    </tr>\n",
       "    <tr>\n",
       "      <td>0</td>\n",
       "      <td>LinkedIn_DS</td>\n",
       "      <td>2020-08-09</td>\n",
       "      <td>549.455028</td>\n",
       "      <td>605.865936</td>\n",
       "      <td>2020-08-16</td>\n",
       "      <td>413.877435</td>\n",
       "    </tr>\n",
       "    <tr>\n",
       "      <td>1</td>\n",
       "      <td>LinkedIn_DS</td>\n",
       "      <td>2020-08-10</td>\n",
       "      <td>449.458831</td>\n",
       "      <td>522.479883</td>\n",
       "      <td>2020-08-17</td>\n",
       "      <td>603.853651</td>\n",
       "    </tr>\n",
       "    <tr>\n",
       "      <td>2</td>\n",
       "      <td>LinkedIn_DS</td>\n",
       "      <td>2020-08-11</td>\n",
       "      <td>550.142644</td>\n",
       "      <td>586.518102</td>\n",
       "      <td>2020-08-18</td>\n",
       "      <td>598.374612</td>\n",
       "    </tr>\n",
       "    <tr>\n",
       "      <td>3</td>\n",
       "      <td>LinkedIn_DS</td>\n",
       "      <td>2020-08-12</td>\n",
       "      <td>525.387808</td>\n",
       "      <td>592.652019</td>\n",
       "      <td>2020-08-19</td>\n",
       "      <td>746.627196</td>\n",
       "    </tr>\n",
       "    <tr>\n",
       "      <td>4</td>\n",
       "      <td>LinkedIn_DS</td>\n",
       "      <td>2020-08-13</td>\n",
       "      <td>639.878801</td>\n",
       "      <td>667.537542</td>\n",
       "      <td>2020-08-20</td>\n",
       "      <td>615.238074</td>\n",
       "    </tr>\n",
       "    <tr>\n",
       "      <td>5</td>\n",
       "      <td>LinkedIn_DS</td>\n",
       "      <td>2020-08-14</td>\n",
       "      <td>558.431746</td>\n",
       "      <td>646.637375</td>\n",
       "      <td>2020-08-21</td>\n",
       "      <td>678.706736</td>\n",
       "    </tr>\n",
       "    <tr>\n",
       "      <td>6</td>\n",
       "      <td>LinkedIn_DS</td>\n",
       "      <td>2020-08-15</td>\n",
       "      <td>520.401247</td>\n",
       "      <td>554.093101</td>\n",
       "      <td>2020-08-22</td>\n",
       "      <td>554.511686</td>\n",
       "    </tr>\n",
       "  </tbody>\n",
       "</table>\n",
       "</div>"
      ],
      "text/plain": [
       "        Source  Test_date  Yhat_varma  Yhat_varmax Future_date  \\\n",
       "0    Indeed_DS 2020-08-09   20.980635    36.005440  2020-08-16   \n",
       "1    Indeed_DS 2020-08-10  162.067301   150.091450  2020-08-17   \n",
       "2    Indeed_DS 2020-08-11  187.303514   159.933595  2020-08-18   \n",
       "3    Indeed_DS 2020-08-12  223.290504   215.837825  2020-08-19   \n",
       "4    Indeed_DS 2020-08-13  179.088326   187.010141  2020-08-20   \n",
       "5    Indeed_DS 2020-08-14  216.299127   236.907966  2020-08-21   \n",
       "6    Indeed_DS 2020-08-15   91.928873    90.116349  2020-08-22   \n",
       "0  LinkedIn_DS 2020-08-09  549.455028   605.865936  2020-08-16   \n",
       "1  LinkedIn_DS 2020-08-10  449.458831   522.479883  2020-08-17   \n",
       "2  LinkedIn_DS 2020-08-11  550.142644   586.518102  2020-08-18   \n",
       "3  LinkedIn_DS 2020-08-12  525.387808   592.652019  2020-08-19   \n",
       "4  LinkedIn_DS 2020-08-13  639.878801   667.537542  2020-08-20   \n",
       "5  LinkedIn_DS 2020-08-14  558.431746   646.637375  2020-08-21   \n",
       "6  LinkedIn_DS 2020-08-15  520.401247   554.093101  2020-08-22   \n",
       "\n",
       "   Forecast_varmax  \n",
       "0        95.398523  \n",
       "1       161.567159  \n",
       "2       226.551819  \n",
       "3       185.225254  \n",
       "4       261.120855  \n",
       "5       200.189607  \n",
       "6       151.479609  \n",
       "0       413.877435  \n",
       "1       603.853651  \n",
       "2       598.374612  \n",
       "3       746.627196  \n",
       "4       615.238074  \n",
       "5       678.706736  \n",
       "6       554.511686  "
      ]
     },
     "execution_count": 82,
     "metadata": {},
     "output_type": "execute_result"
    }
   ],
   "source": [
    "ds_combined = indeed_ds.append(linkedin_ds)\n",
    "ds_combined"
   ]
  },
  {
   "cell_type": "code",
   "execution_count": 83,
   "metadata": {},
   "outputs": [],
   "source": [
    "ds_combined.to_csv('/Users/tingtingweng/Documents/summer_intern/data/var_ds_0815.csv',index=False)"
   ]
  }
 ],
 "metadata": {
  "kernelspec": {
   "display_name": "Python 3",
   "language": "python",
   "name": "python3"
  },
  "language_info": {
   "codemirror_mode": {
    "name": "ipython",
    "version": 3
   },
   "file_extension": ".py",
   "mimetype": "text/x-python",
   "name": "python",
   "nbconvert_exporter": "python",
   "pygments_lexer": "ipython3",
   "version": "3.7.4"
  }
 },
 "nbformat": 4,
 "nbformat_minor": 2
}
