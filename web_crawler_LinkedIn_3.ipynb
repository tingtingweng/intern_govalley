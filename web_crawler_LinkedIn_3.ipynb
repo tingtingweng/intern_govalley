{
 "cells": [
  {
   "cell_type": "markdown",
   "metadata": {},
   "source": [
    "## Extract jobs info from LinkedIn"
   ]
  },
  {
   "cell_type": "code",
   "execution_count": 2,
   "metadata": {},
   "outputs": [],
   "source": [
    "import requests\n",
    "from bs4 import BeautifulSoup\n",
    "import pandas as pd\n",
    "import numpy as np\n",
    "import seaborn as sns\n",
    "import matplotlib.pyplot as plt\n",
    "import json\n",
    "from six.moves.urllib import parse\n",
    "import re\n",
    "import time\n",
    "%matplotlib inline"
   ]
  },
  {
   "cell_type": "code",
   "execution_count": 194,
   "metadata": {},
   "outputs": [],
   "source": [
    "#search page see more options\n",
    "url_template = 'https://www.linkedin.com/jobs-guest/jobs/api/seeMoreJobPostings/search?keywords=Data%2BScientist&location=United%2BStates&trk=public_jobs_jobs-search-bar_search-submit&sortBy=DD&start='"
   ]
  },
  {
   "cell_type": "code",
   "execution_count": 199,
   "metadata": {},
   "outputs": [
    {
     "name": "stdout",
     "output_type": "stream",
     "text": [
      "https://www.linkedin.com/jobs-guest/jobs/api/seeMoreJobPostings/search?keywords=Data%2BScientist&location=United%2BStates&trk=public_jobs_jobs-search-bar_search-submit&sortBy=DD&start=0\n",
      "Scraped job numbers: 25 Used time(s): 18.26202130317688\n",
      "https://www.linkedin.com/jobs-guest/jobs/api/seeMoreJobPostings/search?keywords=Data%2BScientist&location=United%2BStates&trk=public_jobs_jobs-search-bar_search-submit&sortBy=DD&start=10\n",
      "Scraped job numbers: 275 Used time(s): 199.49348521232605\n",
      "https://www.linkedin.com/jobs-guest/jobs/api/seeMoreJobPostings/search?keywords=Data%2BScientist&location=United%2BStates&trk=public_jobs_jobs-search-bar_search-submit&sortBy=DD&start=20\n",
      "Scraped job numbers: 525 Used time(s): 382.13392901420593\n",
      "https://www.linkedin.com/jobs-guest/jobs/api/seeMoreJobPostings/search?keywords=Data%2BScientist&location=United%2BStates&trk=public_jobs_jobs-search-bar_search-submit&sortBy=DD&start=30\n",
      "Scraped job numbers: 775 Used time(s): 563.5902140140533\n",
      "https://www.linkedin.com/jobs-guest/jobs/api/seeMoreJobPostings/search?keywords=Data%2BScientist&location=United%2BStates&trk=public_jobs_jobs-search-bar_search-submit&sortBy=DD&start=40\n",
      "Scraped job numbers: 1025 Used time(s): 738.8626601696014\n",
      "https://www.linkedin.com/jobs-guest/jobs/api/seeMoreJobPostings/search?keywords=Data%2BScientist&location=United%2BStates&trk=public_jobs_jobs-search-bar_search-submit&sortBy=DD&start=50\n",
      "Scraped job numbers: 1275 Used time(s): 913.4613089561462\n",
      "https://www.linkedin.com/jobs-guest/jobs/api/seeMoreJobPostings/search?keywords=Data%2BScientist&location=United%2BStates&trk=public_jobs_jobs-search-bar_search-submit&sortBy=DD&start=60\n",
      "Scraped job numbers: 1525 Used time(s): 1089.2985532283783\n",
      "https://www.linkedin.com/jobs-guest/jobs/api/seeMoreJobPostings/search?keywords=Data%2BScientist&location=United%2BStates&trk=public_jobs_jobs-search-bar_search-submit&sortBy=DD&start=70\n",
      "Scraped job numbers: 1775 Used time(s): 1266.8386471271515\n",
      "https://www.linkedin.com/jobs-guest/jobs/api/seeMoreJobPostings/search?keywords=Data%2BScientist&location=United%2BStates&trk=public_jobs_jobs-search-bar_search-submit&sortBy=DD&start=80\n",
      "Scraped job numbers: 2025 Used time(s): 1437.1302001476288\n",
      "https://www.linkedin.com/jobs-guest/jobs/api/seeMoreJobPostings/search?keywords=Data%2BScientist&location=United%2BStates&trk=public_jobs_jobs-search-bar_search-submit&sortBy=DD&start=90\n",
      "Scraped job numbers: 2275 Used time(s): 1606.9114832878113\n",
      "https://www.linkedin.com/jobs-guest/jobs/api/seeMoreJobPostings/search?keywords=Data%2BScientist&location=United%2BStates&trk=public_jobs_jobs-search-bar_search-submit&sortBy=DD&start=100\n",
      "Scraped job numbers: 2525 Used time(s): 1778.2151050567627\n",
      "https://www.linkedin.com/jobs-guest/jobs/api/seeMoreJobPostings/search?keywords=Data%2BScientist&location=United%2BStates&trk=public_jobs_jobs-search-bar_search-submit&sortBy=DD&start=110\n",
      "Scraped job numbers: 2775 Used time(s): 1948.9195580482483\n",
      "https://www.linkedin.com/jobs-guest/jobs/api/seeMoreJobPostings/search?keywords=Data%2BScientist&location=United%2BStates&trk=public_jobs_jobs-search-bar_search-submit&sortBy=DD&start=120\n",
      "Scraped job numbers: 3025 Used time(s): 2117.6761679649353\n",
      "https://www.linkedin.com/jobs-guest/jobs/api/seeMoreJobPostings/search?keywords=Data%2BScientist&location=United%2BStates&trk=public_jobs_jobs-search-bar_search-submit&sortBy=DD&start=130\n",
      "Scraped job numbers: 3275 Used time(s): 2289.8178260326385\n",
      "https://www.linkedin.com/jobs-guest/jobs/api/seeMoreJobPostings/search?keywords=Data%2BScientist&location=United%2BStates&trk=public_jobs_jobs-search-bar_search-submit&sortBy=DD&start=140\n",
      "Scraped job numbers: 3525 Used time(s): 2459.5902910232544\n",
      "https://www.linkedin.com/jobs-guest/jobs/api/seeMoreJobPostings/search?keywords=Data%2BScientist&location=United%2BStates&trk=public_jobs_jobs-search-bar_search-submit&sortBy=DD&start=150\n",
      "Scraped job numbers: 3775 Used time(s): 2634.393467903137\n",
      "https://www.linkedin.com/jobs-guest/jobs/api/seeMoreJobPostings/search?keywords=Data%2BScientist&location=United%2BStates&trk=public_jobs_jobs-search-bar_search-submit&sortBy=DD&start=160\n",
      "Scraped job numbers: 4025 Used time(s): 2811.241110086441\n",
      "https://www.linkedin.com/jobs-guest/jobs/api/seeMoreJobPostings/search?keywords=Data%2BScientist&location=United%2BStates&trk=public_jobs_jobs-search-bar_search-submit&sortBy=DD&start=170\n",
      "Scraped job numbers: 4275 Used time(s): 2982.356050014496\n",
      "https://www.linkedin.com/jobs-guest/jobs/api/seeMoreJobPostings/search?keywords=Data%2BScientist&location=United%2BStates&trk=public_jobs_jobs-search-bar_search-submit&sortBy=DD&start=180\n",
      "Scraped job numbers: 4525 Used time(s): 3401.2407302856445\n",
      "https://www.linkedin.com/jobs-guest/jobs/api/seeMoreJobPostings/search?keywords=Data%2BScientist&location=United%2BStates&trk=public_jobs_jobs-search-bar_search-submit&sortBy=DD&start=190\n",
      "Scraped job numbers: 4775 Used time(s): 3570.563013315201\n",
      "https://www.linkedin.com/jobs-guest/jobs/api/seeMoreJobPostings/search?keywords=Data%2BScientist&location=United%2BStates&trk=public_jobs_jobs-search-bar_search-submit&sortBy=DD&start=200\n",
      "Scraped job numbers: 5025 Used time(s): 3747.091355085373\n",
      "https://www.linkedin.com/jobs-guest/jobs/api/seeMoreJobPostings/search?keywords=Data%2BScientist&location=United%2BStates&trk=public_jobs_jobs-search-bar_search-submit&sortBy=DD&start=210\n",
      "Scraped job numbers: 5275 Used time(s): 3924.54207611084\n",
      "https://www.linkedin.com/jobs-guest/jobs/api/seeMoreJobPostings/search?keywords=Data%2BScientist&location=United%2BStates&trk=public_jobs_jobs-search-bar_search-submit&sortBy=DD&start=220\n",
      "Scraped job numbers: 5500 Used time(s): 4087.6887209415436\n",
      "https://www.linkedin.com/jobs-guest/jobs/api/seeMoreJobPostings/search?keywords=Data%2BScientist&location=United%2BStates&trk=public_jobs_jobs-search-bar_search-submit&sortBy=DD&start=230\n",
      "Scraped job numbers: 5750 Used time(s): 4264.226914167404\n",
      "https://www.linkedin.com/jobs-guest/jobs/api/seeMoreJobPostings/search?keywords=Data%2BScientist&location=United%2BStates&trk=public_jobs_jobs-search-bar_search-submit&sortBy=DD&start=240\n",
      "Scraped job numbers: 6000 Used time(s): 4444.831150054932\n",
      "https://www.linkedin.com/jobs-guest/jobs/api/seeMoreJobPostings/search?keywords=Data%2BScientist&location=United%2BStates&trk=public_jobs_jobs-search-bar_search-submit&sortBy=DD&start=250\n",
      "Scraped job numbers: 6250 Used time(s): 4630.189311981201\n",
      "https://www.linkedin.com/jobs-guest/jobs/api/seeMoreJobPostings/search?keywords=Data%2BScientist&location=United%2BStates&trk=public_jobs_jobs-search-bar_search-submit&sortBy=DD&start=260\n",
      "Scraped job numbers: 6500 Used time(s): 4810.11291718483\n",
      "https://www.linkedin.com/jobs-guest/jobs/api/seeMoreJobPostings/search?keywords=Data%2BScientist&location=United%2BStates&trk=public_jobs_jobs-search-bar_search-submit&sortBy=DD&start=270\n",
      "Scraped job numbers: 6750 Used time(s): 4981.216890096664\n",
      "https://www.linkedin.com/jobs-guest/jobs/api/seeMoreJobPostings/search?keywords=Data%2BScientist&location=United%2BStates&trk=public_jobs_jobs-search-bar_search-submit&sortBy=DD&start=280\n",
      "Scraped job numbers: 7000 Used time(s): 5159.945808887482\n",
      "https://www.linkedin.com/jobs-guest/jobs/api/seeMoreJobPostings/search?keywords=Data%2BScientist&location=United%2BStates&trk=public_jobs_jobs-search-bar_search-submit&sortBy=DD&start=290\n",
      "Scraped job numbers: 7250 Used time(s): 5343.811159133911\n",
      "https://www.linkedin.com/jobs-guest/jobs/api/seeMoreJobPostings/search?keywords=Data%2BScientist&location=United%2BStates&trk=public_jobs_jobs-search-bar_search-submit&sortBy=DD&start=300\n",
      "Scraped job numbers: 7500 Used time(s): 5516.908904075623\n",
      "https://www.linkedin.com/jobs-guest/jobs/api/seeMoreJobPostings/search?keywords=Data%2BScientist&location=United%2BStates&trk=public_jobs_jobs-search-bar_search-submit&sortBy=DD&start=310\n",
      "Scraped job numbers: 7725 Used time(s): 5677.448594093323\n",
      "https://www.linkedin.com/jobs-guest/jobs/api/seeMoreJobPostings/search?keywords=Data%2BScientist&location=United%2BStates&trk=public_jobs_jobs-search-bar_search-submit&sortBy=DD&start=320\n",
      "Scraped job numbers: 7975 Used time(s): 5860.0345051288605\n",
      "https://www.linkedin.com/jobs-guest/jobs/api/seeMoreJobPostings/search?keywords=Data%2BScientist&location=United%2BStates&trk=public_jobs_jobs-search-bar_search-submit&sortBy=DD&start=330\n",
      "Scraped job numbers: 8225 Used time(s): 6044.126460075378\n"
     ]
    },
    {
     "name": "stdout",
     "output_type": "stream",
     "text": [
      "https://www.linkedin.com/jobs-guest/jobs/api/seeMoreJobPostings/search?keywords=Data%2BScientist&location=United%2BStates&trk=public_jobs_jobs-search-bar_search-submit&sortBy=DD&start=340\n",
      "Scraped job numbers: 8475 Used time(s): 6810.791646003723\n",
      "https://www.linkedin.com/jobs-guest/jobs/api/seeMoreJobPostings/search?keywords=Data%2BScientist&location=United%2BStates&trk=public_jobs_jobs-search-bar_search-submit&sortBy=DD&start=350\n",
      "Scraped job numbers: 8725 Used time(s): 6992.799170255661\n",
      "https://www.linkedin.com/jobs-guest/jobs/api/seeMoreJobPostings/search?keywords=Data%2BScientist&location=United%2BStates&trk=public_jobs_jobs-search-bar_search-submit&sortBy=DD&start=360\n",
      "Scraped job numbers: 8975 Used time(s): 7180.670328140259\n",
      "https://www.linkedin.com/jobs-guest/jobs/api/seeMoreJobPostings/search?keywords=Data%2BScientist&location=United%2BStates&trk=public_jobs_jobs-search-bar_search-submit&sortBy=DD&start=370\n",
      "Scraped job numbers: 9225 Used time(s): 7358.400944232941\n",
      "https://www.linkedin.com/jobs-guest/jobs/api/seeMoreJobPostings/search?keywords=Data%2BScientist&location=United%2BStates&trk=public_jobs_jobs-search-bar_search-submit&sortBy=DD&start=380\n",
      "Scraped job numbers: 9475 Used time(s): 7532.818485021591\n",
      "https://www.linkedin.com/jobs-guest/jobs/api/seeMoreJobPostings/search?keywords=Data%2BScientist&location=United%2BStates&trk=public_jobs_jobs-search-bar_search-submit&sortBy=DD&start=390\n",
      "Scraped job numbers: 9725 Used time(s): 7703.732257127762\n",
      "https://www.linkedin.com/jobs-guest/jobs/api/seeMoreJobPostings/search?keywords=Data%2BScientist&location=United%2BStates&trk=public_jobs_jobs-search-bar_search-submit&sortBy=DD&start=400\n",
      "Scraped job numbers: 9975 Used time(s): 7869.029420137405\n",
      "https://www.linkedin.com/jobs-guest/jobs/api/seeMoreJobPostings/search?keywords=Data%2BScientist&location=United%2BStates&trk=public_jobs_jobs-search-bar_search-submit&sortBy=DD&start=410\n",
      "Scraped job numbers: 10225 Used time(s): 8024.376300096512\n",
      "https://www.linkedin.com/jobs-guest/jobs/api/seeMoreJobPostings/search?keywords=Data%2BScientist&location=United%2BStates&trk=public_jobs_jobs-search-bar_search-submit&sortBy=DD&start=420\n",
      "Scraped job numbers: 10475 Used time(s): 8181.928688287735\n",
      "https://www.linkedin.com/jobs-guest/jobs/api/seeMoreJobPostings/search?keywords=Data%2BScientist&location=United%2BStates&trk=public_jobs_jobs-search-bar_search-submit&sortBy=DD&start=430\n",
      "Scraped job numbers: 10725 Used time(s): 8341.316395044327\n",
      "https://www.linkedin.com/jobs-guest/jobs/api/seeMoreJobPostings/search?keywords=Data%2BScientist&location=United%2BStates&trk=public_jobs_jobs-search-bar_search-submit&sortBy=DD&start=440\n",
      "Scraped job numbers: 10975 Used time(s): 8499.508685112\n",
      "https://www.linkedin.com/jobs-guest/jobs/api/seeMoreJobPostings/search?keywords=Data%2BScientist&location=United%2BStates&trk=public_jobs_jobs-search-bar_search-submit&sortBy=DD&start=450\n",
      "Scraped job numbers: 11225 Used time(s): 8663.025250196457\n",
      "https://www.linkedin.com/jobs-guest/jobs/api/seeMoreJobPostings/search?keywords=Data%2BScientist&location=United%2BStates&trk=public_jobs_jobs-search-bar_search-submit&sortBy=DD&start=460\n",
      "Scraped job numbers: 11475 Used time(s): 8834.691390037537\n",
      "https://www.linkedin.com/jobs-guest/jobs/api/seeMoreJobPostings/search?keywords=Data%2BScientist&location=United%2BStates&trk=public_jobs_jobs-search-bar_search-submit&sortBy=DD&start=470\n",
      "Scraped job numbers: 11725 Used time(s): 9013.112678050995\n",
      "https://www.linkedin.com/jobs-guest/jobs/api/seeMoreJobPostings/search?keywords=Data%2BScientist&location=United%2BStates&trk=public_jobs_jobs-search-bar_search-submit&sortBy=DD&start=480\n",
      "Scraped job numbers: 11975 Used time(s): 9175.150759935379\n",
      "https://www.linkedin.com/jobs-guest/jobs/api/seeMoreJobPostings/search?keywords=Data%2BScientist&location=United%2BStates&trk=public_jobs_jobs-search-bar_search-submit&sortBy=DD&start=490\n",
      "Scraped job numbers: 12225 Used time(s): 9330.361876010895\n",
      "https://www.linkedin.com/jobs-guest/jobs/api/seeMoreJobPostings/search?keywords=Data%2BScientist&location=United%2BStates&trk=public_jobs_jobs-search-bar_search-submit&sortBy=DD&start=500\n",
      "Scraped job numbers: 12475 Used time(s): 9495.849543094635\n",
      "https://www.linkedin.com/jobs-guest/jobs/api/seeMoreJobPostings/search?keywords=Data%2BScientist&location=United%2BStates&trk=public_jobs_jobs-search-bar_search-submit&sortBy=DD&start=510\n",
      "Scraped job numbers: 12725 Used time(s): 9656.92801618576\n",
      "https://www.linkedin.com/jobs-guest/jobs/api/seeMoreJobPostings/search?keywords=Data%2BScientist&location=United%2BStates&trk=public_jobs_jobs-search-bar_search-submit&sortBy=DD&start=520\n",
      "Scraped job numbers: 12975 Used time(s): 9828.353175163269\n",
      "https://www.linkedin.com/jobs-guest/jobs/api/seeMoreJobPostings/search?keywords=Data%2BScientist&location=United%2BStates&trk=public_jobs_jobs-search-bar_search-submit&sortBy=DD&start=530\n",
      "Scraped job numbers: 13225 Used time(s): 10015.327414035797\n",
      "https://www.linkedin.com/jobs-guest/jobs/api/seeMoreJobPostings/search?keywords=Data%2BScientist&location=United%2BStates&trk=public_jobs_jobs-search-bar_search-submit&sortBy=DD&start=540\n",
      "Scraped job numbers: 13475 Used time(s): 10210.593492031097\n",
      "https://www.linkedin.com/jobs-guest/jobs/api/seeMoreJobPostings/search?keywords=Data%2BScientist&location=United%2BStates&trk=public_jobs_jobs-search-bar_search-submit&sortBy=DD&start=550\n",
      "Scraped job numbers: 13725 Used time(s): 10404.948268175125\n",
      "https://www.linkedin.com/jobs-guest/jobs/api/seeMoreJobPostings/search?keywords=Data%2BScientist&location=United%2BStates&trk=public_jobs_jobs-search-bar_search-submit&sortBy=DD&start=560\n",
      "Scraped job numbers: 13975 Used time(s): 10567.46002316475\n",
      "https://www.linkedin.com/jobs-guest/jobs/api/seeMoreJobPostings/search?keywords=Data%2BScientist&location=United%2BStates&trk=public_jobs_jobs-search-bar_search-submit&sortBy=DD&start=570\n",
      "Scraped job numbers: 14225 Used time(s): 11032.637089014053\n",
      "https://www.linkedin.com/jobs-guest/jobs/api/seeMoreJobPostings/search?keywords=Data%2BScientist&location=United%2BStates&trk=public_jobs_jobs-search-bar_search-submit&sortBy=DD&start=580\n",
      "Scraped job numbers: 14475 Used time(s): 11204.851786136627\n",
      "https://www.linkedin.com/jobs-guest/jobs/api/seeMoreJobPostings/search?keywords=Data%2BScientist&location=United%2BStates&trk=public_jobs_jobs-search-bar_search-submit&sortBy=DD&start=590\n",
      "Scraped job numbers: 14725 Used time(s): 11377.140347242355\n",
      "https://www.linkedin.com/jobs-guest/jobs/api/seeMoreJobPostings/search?keywords=Data%2BScientist&location=United%2BStates&trk=public_jobs_jobs-search-bar_search-submit&sortBy=DD&start=600\n",
      "Scraped job numbers: 14975 Used time(s): 11559.643403053284\n",
      "https://www.linkedin.com/jobs-guest/jobs/api/seeMoreJobPostings/search?keywords=Data%2BScientist&location=United%2BStates&trk=public_jobs_jobs-search-bar_search-submit&sortBy=DD&start=610\n",
      "Scraped job numbers: 15225 Used time(s): 11745.752395153046\n",
      "https://www.linkedin.com/jobs-guest/jobs/api/seeMoreJobPostings/search?keywords=Data%2BScientist&location=United%2BStates&trk=public_jobs_jobs-search-bar_search-submit&sortBy=DD&start=620\n",
      "Scraped job numbers: 15475 Used time(s): 11928.851495981216\n",
      "https://www.linkedin.com/jobs-guest/jobs/api/seeMoreJobPostings/search?keywords=Data%2BScientist&location=United%2BStates&trk=public_jobs_jobs-search-bar_search-submit&sortBy=DD&start=630\n",
      "Scraped job numbers: 15725 Used time(s): 12110.336516141891\n",
      "https://www.linkedin.com/jobs-guest/jobs/api/seeMoreJobPostings/search?keywords=Data%2BScientist&location=United%2BStates&trk=public_jobs_jobs-search-bar_search-submit&sortBy=DD&start=640\n",
      "Scraped job numbers: 15975 Used time(s): 12290.112107038498\n"
     ]
    },
    {
     "ename": "SSLError",
     "evalue": "HTTPSConnectionPool(host='www.linkedin.com', port=443): Max retries exceeded with url: /jobs/view/data-scientist-senior-at-usaa-1737831099?refId=997fd8cd-23f9-4506-80fa-4e6b8116bb59&position=18&pageNum=25&trk=public_jobs_job-result-card_result-card_full-click (Caused by SSLError(SSLError(\"bad handshake: SysCallError(54, 'ECONNRESET')\")))",
     "output_type": "error",
     "traceback": [
      "\u001b[0;31m---------------------------------------------------------------------------\u001b[0m",
      "\u001b[0;31mSysCallError\u001b[0m                              Traceback (most recent call last)",
      "\u001b[0;32m/opt/anaconda3/lib/python3.7/site-packages/urllib3/contrib/pyopenssl.py\u001b[0m in \u001b[0;36mwrap_socket\u001b[0;34m(self, sock, server_side, do_handshake_on_connect, suppress_ragged_eofs, server_hostname)\u001b[0m\n\u001b[1;32m    455\u001b[0m             \u001b[0;32mtry\u001b[0m\u001b[0;34m:\u001b[0m\u001b[0;34m\u001b[0m\u001b[0;34m\u001b[0m\u001b[0m\n\u001b[0;32m--> 456\u001b[0;31m                 \u001b[0mcnx\u001b[0m\u001b[0;34m.\u001b[0m\u001b[0mdo_handshake\u001b[0m\u001b[0;34m(\u001b[0m\u001b[0;34m)\u001b[0m\u001b[0;34m\u001b[0m\u001b[0;34m\u001b[0m\u001b[0m\n\u001b[0m\u001b[1;32m    457\u001b[0m             \u001b[0;32mexcept\u001b[0m \u001b[0mOpenSSL\u001b[0m\u001b[0;34m.\u001b[0m\u001b[0mSSL\u001b[0m\u001b[0;34m.\u001b[0m\u001b[0mWantReadError\u001b[0m\u001b[0;34m:\u001b[0m\u001b[0;34m\u001b[0m\u001b[0;34m\u001b[0m\u001b[0m\n",
      "\u001b[0;32m/opt/anaconda3/lib/python3.7/site-packages/OpenSSL/SSL.py\u001b[0m in \u001b[0;36mdo_handshake\u001b[0;34m(self)\u001b[0m\n\u001b[1;32m   1914\u001b[0m         \u001b[0mresult\u001b[0m \u001b[0;34m=\u001b[0m \u001b[0m_lib\u001b[0m\u001b[0;34m.\u001b[0m\u001b[0mSSL_do_handshake\u001b[0m\u001b[0;34m(\u001b[0m\u001b[0mself\u001b[0m\u001b[0;34m.\u001b[0m\u001b[0m_ssl\u001b[0m\u001b[0;34m)\u001b[0m\u001b[0;34m\u001b[0m\u001b[0;34m\u001b[0m\u001b[0m\n\u001b[0;32m-> 1915\u001b[0;31m         \u001b[0mself\u001b[0m\u001b[0;34m.\u001b[0m\u001b[0m_raise_ssl_error\u001b[0m\u001b[0;34m(\u001b[0m\u001b[0mself\u001b[0m\u001b[0;34m.\u001b[0m\u001b[0m_ssl\u001b[0m\u001b[0;34m,\u001b[0m \u001b[0mresult\u001b[0m\u001b[0;34m)\u001b[0m\u001b[0;34m\u001b[0m\u001b[0;34m\u001b[0m\u001b[0m\n\u001b[0m\u001b[1;32m   1916\u001b[0m \u001b[0;34m\u001b[0m\u001b[0m\n",
      "\u001b[0;32m/opt/anaconda3/lib/python3.7/site-packages/OpenSSL/SSL.py\u001b[0m in \u001b[0;36m_raise_ssl_error\u001b[0;34m(self, ssl, result)\u001b[0m\n\u001b[1;32m   1638\u001b[0m                     \u001b[0;32mif\u001b[0m \u001b[0merrno\u001b[0m \u001b[0;34m!=\u001b[0m \u001b[0;36m0\u001b[0m\u001b[0;34m:\u001b[0m\u001b[0;34m\u001b[0m\u001b[0;34m\u001b[0m\u001b[0m\n\u001b[0;32m-> 1639\u001b[0;31m                         \u001b[0;32mraise\u001b[0m \u001b[0mSysCallError\u001b[0m\u001b[0;34m(\u001b[0m\u001b[0merrno\u001b[0m\u001b[0;34m,\u001b[0m \u001b[0merrorcode\u001b[0m\u001b[0;34m.\u001b[0m\u001b[0mget\u001b[0m\u001b[0;34m(\u001b[0m\u001b[0merrno\u001b[0m\u001b[0;34m)\u001b[0m\u001b[0;34m)\u001b[0m\u001b[0;34m\u001b[0m\u001b[0;34m\u001b[0m\u001b[0m\n\u001b[0m\u001b[1;32m   1640\u001b[0m                 \u001b[0;32mraise\u001b[0m \u001b[0mSysCallError\u001b[0m\u001b[0;34m(\u001b[0m\u001b[0;34m-\u001b[0m\u001b[0;36m1\u001b[0m\u001b[0;34m,\u001b[0m \u001b[0;34m\"Unexpected EOF\"\u001b[0m\u001b[0;34m)\u001b[0m\u001b[0;34m\u001b[0m\u001b[0;34m\u001b[0m\u001b[0m\n",
      "\u001b[0;31mSysCallError\u001b[0m: (54, 'ECONNRESET')",
      "\nDuring handling of the above exception, another exception occurred:\n",
      "\u001b[0;31mSSLError\u001b[0m                                  Traceback (most recent call last)",
      "\u001b[0;32m/opt/anaconda3/lib/python3.7/site-packages/urllib3/connectionpool.py\u001b[0m in \u001b[0;36murlopen\u001b[0;34m(self, method, url, body, headers, retries, redirect, assert_same_host, timeout, pool_timeout, release_conn, chunked, body_pos, **response_kw)\u001b[0m\n\u001b[1;32m    599\u001b[0m                                                   \u001b[0mbody\u001b[0m\u001b[0;34m=\u001b[0m\u001b[0mbody\u001b[0m\u001b[0;34m,\u001b[0m \u001b[0mheaders\u001b[0m\u001b[0;34m=\u001b[0m\u001b[0mheaders\u001b[0m\u001b[0;34m,\u001b[0m\u001b[0;34m\u001b[0m\u001b[0;34m\u001b[0m\u001b[0m\n\u001b[0;32m--> 600\u001b[0;31m                                                   chunked=chunked)\n\u001b[0m\u001b[1;32m    601\u001b[0m \u001b[0;34m\u001b[0m\u001b[0m\n",
      "\u001b[0;32m/opt/anaconda3/lib/python3.7/site-packages/urllib3/connectionpool.py\u001b[0m in \u001b[0;36m_make_request\u001b[0;34m(self, conn, method, url, timeout, chunked, **httplib_request_kw)\u001b[0m\n\u001b[1;32m    342\u001b[0m         \u001b[0;32mtry\u001b[0m\u001b[0;34m:\u001b[0m\u001b[0;34m\u001b[0m\u001b[0;34m\u001b[0m\u001b[0m\n\u001b[0;32m--> 343\u001b[0;31m             \u001b[0mself\u001b[0m\u001b[0;34m.\u001b[0m\u001b[0m_validate_conn\u001b[0m\u001b[0;34m(\u001b[0m\u001b[0mconn\u001b[0m\u001b[0;34m)\u001b[0m\u001b[0;34m\u001b[0m\u001b[0;34m\u001b[0m\u001b[0m\n\u001b[0m\u001b[1;32m    344\u001b[0m         \u001b[0;32mexcept\u001b[0m \u001b[0;34m(\u001b[0m\u001b[0mSocketTimeout\u001b[0m\u001b[0;34m,\u001b[0m \u001b[0mBaseSSLError\u001b[0m\u001b[0;34m)\u001b[0m \u001b[0;32mas\u001b[0m \u001b[0me\u001b[0m\u001b[0;34m:\u001b[0m\u001b[0;34m\u001b[0m\u001b[0;34m\u001b[0m\u001b[0m\n",
      "\u001b[0;32m/opt/anaconda3/lib/python3.7/site-packages/urllib3/connectionpool.py\u001b[0m in \u001b[0;36m_validate_conn\u001b[0;34m(self, conn)\u001b[0m\n\u001b[1;32m    838\u001b[0m         \u001b[0;32mif\u001b[0m \u001b[0;32mnot\u001b[0m \u001b[0mgetattr\u001b[0m\u001b[0;34m(\u001b[0m\u001b[0mconn\u001b[0m\u001b[0;34m,\u001b[0m \u001b[0;34m'sock'\u001b[0m\u001b[0;34m,\u001b[0m \u001b[0;32mNone\u001b[0m\u001b[0;34m)\u001b[0m\u001b[0;34m:\u001b[0m  \u001b[0;31m# AppEngine might not have  `.sock`\u001b[0m\u001b[0;34m\u001b[0m\u001b[0;34m\u001b[0m\u001b[0m\n\u001b[0;32m--> 839\u001b[0;31m             \u001b[0mconn\u001b[0m\u001b[0;34m.\u001b[0m\u001b[0mconnect\u001b[0m\u001b[0;34m(\u001b[0m\u001b[0;34m)\u001b[0m\u001b[0;34m\u001b[0m\u001b[0;34m\u001b[0m\u001b[0m\n\u001b[0m\u001b[1;32m    840\u001b[0m \u001b[0;34m\u001b[0m\u001b[0m\n",
      "\u001b[0;32m/opt/anaconda3/lib/python3.7/site-packages/urllib3/connection.py\u001b[0m in \u001b[0;36mconnect\u001b[0;34m(self)\u001b[0m\n\u001b[1;32m    343\u001b[0m             \u001b[0mserver_hostname\u001b[0m\u001b[0;34m=\u001b[0m\u001b[0mserver_hostname\u001b[0m\u001b[0;34m,\u001b[0m\u001b[0;34m\u001b[0m\u001b[0;34m\u001b[0m\u001b[0m\n\u001b[0;32m--> 344\u001b[0;31m             ssl_context=context)\n\u001b[0m\u001b[1;32m    345\u001b[0m \u001b[0;34m\u001b[0m\u001b[0m\n",
      "\u001b[0;32m/opt/anaconda3/lib/python3.7/site-packages/urllib3/util/ssl_.py\u001b[0m in \u001b[0;36mssl_wrap_socket\u001b[0;34m(sock, keyfile, certfile, cert_reqs, ca_certs, server_hostname, ssl_version, ciphers, ssl_context, ca_cert_dir)\u001b[0m\n\u001b[1;32m    346\u001b[0m         \u001b[0;32mif\u001b[0m \u001b[0mHAS_SNI\u001b[0m \u001b[0;32mand\u001b[0m \u001b[0mserver_hostname\u001b[0m \u001b[0;32mis\u001b[0m \u001b[0;32mnot\u001b[0m \u001b[0;32mNone\u001b[0m\u001b[0;34m:\u001b[0m\u001b[0;34m\u001b[0m\u001b[0;34m\u001b[0m\u001b[0m\n\u001b[0;32m--> 347\u001b[0;31m             \u001b[0;32mreturn\u001b[0m \u001b[0mcontext\u001b[0m\u001b[0;34m.\u001b[0m\u001b[0mwrap_socket\u001b[0m\u001b[0;34m(\u001b[0m\u001b[0msock\u001b[0m\u001b[0;34m,\u001b[0m \u001b[0mserver_hostname\u001b[0m\u001b[0;34m=\u001b[0m\u001b[0mserver_hostname\u001b[0m\u001b[0;34m)\u001b[0m\u001b[0;34m\u001b[0m\u001b[0;34m\u001b[0m\u001b[0m\n\u001b[0m\u001b[1;32m    348\u001b[0m \u001b[0;34m\u001b[0m\u001b[0m\n",
      "\u001b[0;32m/opt/anaconda3/lib/python3.7/site-packages/urllib3/contrib/pyopenssl.py\u001b[0m in \u001b[0;36mwrap_socket\u001b[0;34m(self, sock, server_side, do_handshake_on_connect, suppress_ragged_eofs, server_hostname)\u001b[0m\n\u001b[1;32m    461\u001b[0m             \u001b[0;32mexcept\u001b[0m \u001b[0mOpenSSL\u001b[0m\u001b[0;34m.\u001b[0m\u001b[0mSSL\u001b[0m\u001b[0;34m.\u001b[0m\u001b[0mError\u001b[0m \u001b[0;32mas\u001b[0m \u001b[0me\u001b[0m\u001b[0;34m:\u001b[0m\u001b[0;34m\u001b[0m\u001b[0;34m\u001b[0m\u001b[0m\n\u001b[0;32m--> 462\u001b[0;31m                 \u001b[0;32mraise\u001b[0m \u001b[0mssl\u001b[0m\u001b[0;34m.\u001b[0m\u001b[0mSSLError\u001b[0m\u001b[0;34m(\u001b[0m\u001b[0;34m'bad handshake: %r'\u001b[0m \u001b[0;34m%\u001b[0m \u001b[0me\u001b[0m\u001b[0;34m)\u001b[0m\u001b[0;34m\u001b[0m\u001b[0;34m\u001b[0m\u001b[0m\n\u001b[0m\u001b[1;32m    463\u001b[0m             \u001b[0;32mbreak\u001b[0m\u001b[0;34m\u001b[0m\u001b[0;34m\u001b[0m\u001b[0m\n",
      "\u001b[0;31mSSLError\u001b[0m: (\"bad handshake: SysCallError(54, 'ECONNRESET')\",)",
      "\nDuring handling of the above exception, another exception occurred:\n",
      "\u001b[0;31mMaxRetryError\u001b[0m                             Traceback (most recent call last)",
      "\u001b[0;32m/opt/anaconda3/lib/python3.7/site-packages/requests/adapters.py\u001b[0m in \u001b[0;36msend\u001b[0;34m(self, request, stream, timeout, verify, cert, proxies)\u001b[0m\n\u001b[1;32m    448\u001b[0m                     \u001b[0mretries\u001b[0m\u001b[0;34m=\u001b[0m\u001b[0mself\u001b[0m\u001b[0;34m.\u001b[0m\u001b[0mmax_retries\u001b[0m\u001b[0;34m,\u001b[0m\u001b[0;34m\u001b[0m\u001b[0;34m\u001b[0m\u001b[0m\n\u001b[0;32m--> 449\u001b[0;31m                     \u001b[0mtimeout\u001b[0m\u001b[0;34m=\u001b[0m\u001b[0mtimeout\u001b[0m\u001b[0;34m\u001b[0m\u001b[0;34m\u001b[0m\u001b[0m\n\u001b[0m\u001b[1;32m    450\u001b[0m                 )\n",
      "\u001b[0;32m/opt/anaconda3/lib/python3.7/site-packages/urllib3/connectionpool.py\u001b[0m in \u001b[0;36murlopen\u001b[0;34m(self, method, url, body, headers, retries, redirect, assert_same_host, timeout, pool_timeout, release_conn, chunked, body_pos, **response_kw)\u001b[0m\n\u001b[1;32m    637\u001b[0m             retries = retries.increment(method, url, error=e, _pool=self,\n\u001b[0;32m--> 638\u001b[0;31m                                         _stacktrace=sys.exc_info()[2])\n\u001b[0m\u001b[1;32m    639\u001b[0m             \u001b[0mretries\u001b[0m\u001b[0;34m.\u001b[0m\u001b[0msleep\u001b[0m\u001b[0;34m(\u001b[0m\u001b[0;34m)\u001b[0m\u001b[0;34m\u001b[0m\u001b[0;34m\u001b[0m\u001b[0m\n",
      "\u001b[0;32m/opt/anaconda3/lib/python3.7/site-packages/urllib3/util/retry.py\u001b[0m in \u001b[0;36mincrement\u001b[0;34m(self, method, url, response, error, _pool, _stacktrace)\u001b[0m\n\u001b[1;32m    398\u001b[0m         \u001b[0;32mif\u001b[0m \u001b[0mnew_retry\u001b[0m\u001b[0;34m.\u001b[0m\u001b[0mis_exhausted\u001b[0m\u001b[0;34m(\u001b[0m\u001b[0;34m)\u001b[0m\u001b[0;34m:\u001b[0m\u001b[0;34m\u001b[0m\u001b[0;34m\u001b[0m\u001b[0m\n\u001b[0;32m--> 399\u001b[0;31m             \u001b[0;32mraise\u001b[0m \u001b[0mMaxRetryError\u001b[0m\u001b[0;34m(\u001b[0m\u001b[0m_pool\u001b[0m\u001b[0;34m,\u001b[0m \u001b[0murl\u001b[0m\u001b[0;34m,\u001b[0m \u001b[0merror\u001b[0m \u001b[0;32mor\u001b[0m \u001b[0mResponseError\u001b[0m\u001b[0;34m(\u001b[0m\u001b[0mcause\u001b[0m\u001b[0;34m)\u001b[0m\u001b[0;34m)\u001b[0m\u001b[0;34m\u001b[0m\u001b[0;34m\u001b[0m\u001b[0m\n\u001b[0m\u001b[1;32m    400\u001b[0m \u001b[0;34m\u001b[0m\u001b[0m\n",
      "\u001b[0;31mMaxRetryError\u001b[0m: HTTPSConnectionPool(host='www.linkedin.com', port=443): Max retries exceeded with url: /jobs/view/data-scientist-senior-at-usaa-1737831099?refId=997fd8cd-23f9-4506-80fa-4e6b8116bb59&position=18&pageNum=25&trk=public_jobs_job-result-card_result-card_full-click (Caused by SSLError(SSLError(\"bad handshake: SysCallError(54, 'ECONNRESET')\")))",
      "\nDuring handling of the above exception, another exception occurred:\n",
      "\u001b[0;31mSSLError\u001b[0m                                  Traceback (most recent call last)",
      "\u001b[0;32m<ipython-input-199-f9a8994cd761>\u001b[0m in \u001b[0;36m<module>\u001b[0;34m\u001b[0m\n\u001b[1;32m     30\u001b[0m         \u001b[0mjob_url\u001b[0m \u001b[0;34m=\u001b[0m \u001b[0mjob_link\u001b[0m\u001b[0;34m.\u001b[0m\u001b[0mget\u001b[0m\u001b[0;34m(\u001b[0m\u001b[0;34m'href'\u001b[0m\u001b[0;34m)\u001b[0m\u001b[0;34m\u001b[0m\u001b[0;34m\u001b[0m\u001b[0m\n\u001b[1;32m     31\u001b[0m         \u001b[0;31m#print(job_url)\u001b[0m\u001b[0;34m\u001b[0m\u001b[0;34m\u001b[0m\u001b[0;34m\u001b[0m\u001b[0m\n\u001b[0;32m---> 32\u001b[0;31m         \u001b[0mjob_web_raw\u001b[0m \u001b[0;34m=\u001b[0m \u001b[0mrequests\u001b[0m\u001b[0;34m.\u001b[0m\u001b[0mget\u001b[0m\u001b[0;34m(\u001b[0m\u001b[0mjob_url\u001b[0m\u001b[0;34m)\u001b[0m\u001b[0;34m.\u001b[0m\u001b[0mtext\u001b[0m\u001b[0;34m\u001b[0m\u001b[0;34m\u001b[0m\u001b[0m\n\u001b[0m\u001b[1;32m     33\u001b[0m         \u001b[0mjob_soup\u001b[0m \u001b[0;34m=\u001b[0m \u001b[0mBeautifulSoup\u001b[0m\u001b[0;34m(\u001b[0m\u001b[0mjob_web_raw\u001b[0m\u001b[0;34m,\u001b[0m \u001b[0;34m'html.parser'\u001b[0m\u001b[0;34m)\u001b[0m\u001b[0;34m\u001b[0m\u001b[0;34m\u001b[0m\u001b[0m\n\u001b[1;32m     34\u001b[0m         \u001b[0;31m#print(job_soup.prettify())\u001b[0m\u001b[0;34m\u001b[0m\u001b[0;34m\u001b[0m\u001b[0;34m\u001b[0m\u001b[0m\n",
      "\u001b[0;32m/opt/anaconda3/lib/python3.7/site-packages/requests/api.py\u001b[0m in \u001b[0;36mget\u001b[0;34m(url, params, **kwargs)\u001b[0m\n\u001b[1;32m     73\u001b[0m \u001b[0;34m\u001b[0m\u001b[0m\n\u001b[1;32m     74\u001b[0m     \u001b[0mkwargs\u001b[0m\u001b[0;34m.\u001b[0m\u001b[0msetdefault\u001b[0m\u001b[0;34m(\u001b[0m\u001b[0;34m'allow_redirects'\u001b[0m\u001b[0;34m,\u001b[0m \u001b[0;32mTrue\u001b[0m\u001b[0;34m)\u001b[0m\u001b[0;34m\u001b[0m\u001b[0;34m\u001b[0m\u001b[0m\n\u001b[0;32m---> 75\u001b[0;31m     \u001b[0;32mreturn\u001b[0m \u001b[0mrequest\u001b[0m\u001b[0;34m(\u001b[0m\u001b[0;34m'get'\u001b[0m\u001b[0;34m,\u001b[0m \u001b[0murl\u001b[0m\u001b[0;34m,\u001b[0m \u001b[0mparams\u001b[0m\u001b[0;34m=\u001b[0m\u001b[0mparams\u001b[0m\u001b[0;34m,\u001b[0m \u001b[0;34m**\u001b[0m\u001b[0mkwargs\u001b[0m\u001b[0;34m)\u001b[0m\u001b[0;34m\u001b[0m\u001b[0;34m\u001b[0m\u001b[0m\n\u001b[0m\u001b[1;32m     76\u001b[0m \u001b[0;34m\u001b[0m\u001b[0m\n\u001b[1;32m     77\u001b[0m \u001b[0;34m\u001b[0m\u001b[0m\n",
      "\u001b[0;32m/opt/anaconda3/lib/python3.7/site-packages/requests/api.py\u001b[0m in \u001b[0;36mrequest\u001b[0;34m(method, url, **kwargs)\u001b[0m\n\u001b[1;32m     58\u001b[0m     \u001b[0;31m# cases, and look like a memory leak in others.\u001b[0m\u001b[0;34m\u001b[0m\u001b[0;34m\u001b[0m\u001b[0;34m\u001b[0m\u001b[0m\n\u001b[1;32m     59\u001b[0m     \u001b[0;32mwith\u001b[0m \u001b[0msessions\u001b[0m\u001b[0;34m.\u001b[0m\u001b[0mSession\u001b[0m\u001b[0;34m(\u001b[0m\u001b[0;34m)\u001b[0m \u001b[0;32mas\u001b[0m \u001b[0msession\u001b[0m\u001b[0;34m:\u001b[0m\u001b[0;34m\u001b[0m\u001b[0;34m\u001b[0m\u001b[0m\n\u001b[0;32m---> 60\u001b[0;31m         \u001b[0;32mreturn\u001b[0m \u001b[0msession\u001b[0m\u001b[0;34m.\u001b[0m\u001b[0mrequest\u001b[0m\u001b[0;34m(\u001b[0m\u001b[0mmethod\u001b[0m\u001b[0;34m=\u001b[0m\u001b[0mmethod\u001b[0m\u001b[0;34m,\u001b[0m \u001b[0murl\u001b[0m\u001b[0;34m=\u001b[0m\u001b[0murl\u001b[0m\u001b[0;34m,\u001b[0m \u001b[0;34m**\u001b[0m\u001b[0mkwargs\u001b[0m\u001b[0;34m)\u001b[0m\u001b[0;34m\u001b[0m\u001b[0;34m\u001b[0m\u001b[0m\n\u001b[0m\u001b[1;32m     61\u001b[0m \u001b[0;34m\u001b[0m\u001b[0m\n\u001b[1;32m     62\u001b[0m \u001b[0;34m\u001b[0m\u001b[0m\n",
      "\u001b[0;32m/opt/anaconda3/lib/python3.7/site-packages/requests/sessions.py\u001b[0m in \u001b[0;36mrequest\u001b[0;34m(self, method, url, params, data, headers, cookies, files, auth, timeout, allow_redirects, proxies, hooks, stream, verify, cert, json)\u001b[0m\n\u001b[1;32m    531\u001b[0m         }\n\u001b[1;32m    532\u001b[0m         \u001b[0msend_kwargs\u001b[0m\u001b[0;34m.\u001b[0m\u001b[0mupdate\u001b[0m\u001b[0;34m(\u001b[0m\u001b[0msettings\u001b[0m\u001b[0;34m)\u001b[0m\u001b[0;34m\u001b[0m\u001b[0;34m\u001b[0m\u001b[0m\n\u001b[0;32m--> 533\u001b[0;31m         \u001b[0mresp\u001b[0m \u001b[0;34m=\u001b[0m \u001b[0mself\u001b[0m\u001b[0;34m.\u001b[0m\u001b[0msend\u001b[0m\u001b[0;34m(\u001b[0m\u001b[0mprep\u001b[0m\u001b[0;34m,\u001b[0m \u001b[0;34m**\u001b[0m\u001b[0msend_kwargs\u001b[0m\u001b[0;34m)\u001b[0m\u001b[0;34m\u001b[0m\u001b[0;34m\u001b[0m\u001b[0m\n\u001b[0m\u001b[1;32m    534\u001b[0m \u001b[0;34m\u001b[0m\u001b[0m\n\u001b[1;32m    535\u001b[0m         \u001b[0;32mreturn\u001b[0m \u001b[0mresp\u001b[0m\u001b[0;34m\u001b[0m\u001b[0;34m\u001b[0m\u001b[0m\n",
      "\u001b[0;32m/opt/anaconda3/lib/python3.7/site-packages/requests/sessions.py\u001b[0m in \u001b[0;36msend\u001b[0;34m(self, request, **kwargs)\u001b[0m\n\u001b[1;32m    644\u001b[0m \u001b[0;34m\u001b[0m\u001b[0m\n\u001b[1;32m    645\u001b[0m         \u001b[0;31m# Send the request\u001b[0m\u001b[0;34m\u001b[0m\u001b[0;34m\u001b[0m\u001b[0;34m\u001b[0m\u001b[0m\n\u001b[0;32m--> 646\u001b[0;31m         \u001b[0mr\u001b[0m \u001b[0;34m=\u001b[0m \u001b[0madapter\u001b[0m\u001b[0;34m.\u001b[0m\u001b[0msend\u001b[0m\u001b[0;34m(\u001b[0m\u001b[0mrequest\u001b[0m\u001b[0;34m,\u001b[0m \u001b[0;34m**\u001b[0m\u001b[0mkwargs\u001b[0m\u001b[0;34m)\u001b[0m\u001b[0;34m\u001b[0m\u001b[0;34m\u001b[0m\u001b[0m\n\u001b[0m\u001b[1;32m    647\u001b[0m \u001b[0;34m\u001b[0m\u001b[0m\n\u001b[1;32m    648\u001b[0m         \u001b[0;31m# Total elapsed time of the request (approximately)\u001b[0m\u001b[0;34m\u001b[0m\u001b[0;34m\u001b[0m\u001b[0;34m\u001b[0m\u001b[0m\n",
      "\u001b[0;32m/opt/anaconda3/lib/python3.7/site-packages/requests/adapters.py\u001b[0m in \u001b[0;36msend\u001b[0;34m(self, request, stream, timeout, verify, cert, proxies)\u001b[0m\n\u001b[1;32m    512\u001b[0m             \u001b[0;32mif\u001b[0m \u001b[0misinstance\u001b[0m\u001b[0;34m(\u001b[0m\u001b[0me\u001b[0m\u001b[0;34m.\u001b[0m\u001b[0mreason\u001b[0m\u001b[0;34m,\u001b[0m \u001b[0m_SSLError\u001b[0m\u001b[0;34m)\u001b[0m\u001b[0;34m:\u001b[0m\u001b[0;34m\u001b[0m\u001b[0;34m\u001b[0m\u001b[0m\n\u001b[1;32m    513\u001b[0m                 \u001b[0;31m# This branch is for urllib3 v1.22 and later.\u001b[0m\u001b[0;34m\u001b[0m\u001b[0;34m\u001b[0m\u001b[0;34m\u001b[0m\u001b[0m\n\u001b[0;32m--> 514\u001b[0;31m                 \u001b[0;32mraise\u001b[0m \u001b[0mSSLError\u001b[0m\u001b[0;34m(\u001b[0m\u001b[0me\u001b[0m\u001b[0;34m,\u001b[0m \u001b[0mrequest\u001b[0m\u001b[0;34m=\u001b[0m\u001b[0mrequest\u001b[0m\u001b[0;34m)\u001b[0m\u001b[0;34m\u001b[0m\u001b[0;34m\u001b[0m\u001b[0m\n\u001b[0m\u001b[1;32m    515\u001b[0m \u001b[0;34m\u001b[0m\u001b[0m\n\u001b[1;32m    516\u001b[0m             \u001b[0;32mraise\u001b[0m \u001b[0mConnectionError\u001b[0m\u001b[0;34m(\u001b[0m\u001b[0me\u001b[0m\u001b[0;34m,\u001b[0m \u001b[0mrequest\u001b[0m\u001b[0;34m=\u001b[0m\u001b[0mrequest\u001b[0m\u001b[0;34m)\u001b[0m\u001b[0;34m\u001b[0m\u001b[0;34m\u001b[0m\u001b[0m\n",
      "\u001b[0;31mSSLError\u001b[0m: HTTPSConnectionPool(host='www.linkedin.com', port=443): Max retries exceeded with url: /jobs/view/data-scientist-senior-at-usaa-1737831099?refId=997fd8cd-23f9-4506-80fa-4e6b8116bb59&position=18&pageNum=25&trk=public_jobs_job-result-card_result-card_full-click (Caused by SSLError(SSLError(\"bad handshake: SysCallError(54, 'ECONNRESET')\")))"
     ]
    }
   ],
   "source": [
    "title_list = []\n",
    "company_list = []\n",
    "location_list = []\n",
    "date_list = []\n",
    "level_list = []\n",
    "emptype_list = []\n",
    "industry_list = []\n",
    "description_list = []\n",
    "start_time = time.time()\n",
    "\n",
    "for page_num in np.arange(1000):\n",
    "    #create link for each website page\n",
    "    link = url_template + str(page_num)\n",
    "    user_agent = 'Mozilla/5.0 (X11; Linux x86_64) AppleWebKit/537.36 (KHTML, like Gecko) Chrome/36.0.1985.143 Safari/537.36'\n",
    "    website_raw = requests.get(link, headers={'User-Agent':user_agent}).text\n",
    "    soup = BeautifulSoup(website_raw, 'html.parser')\n",
    "    #print(soup.prettify())\n",
    "    #find job titles from each 'h3' element\n",
    "    title_list.extend([title.get_text().strip() for title in soup.find_all('h3')])\n",
    "    #find company name from each 'h4' element\n",
    "    #Note that here I changed indicator for company to h4 because some jobs do not have company name just marked \"openly\"\n",
    "    company_list.extend([company.get_text().strip() for company in soup.find_all('h4')])\n",
    "    #find company location from each 'span' element\n",
    "    location_list.extend([location.get_text().strip() for location in soup.find_all('span',{'class':'job-result-card__location'})])\n",
    "    #find job posting date from each 'time' element\n",
    "    date_list.extend([date.get('datetime') for date in soup.find_all('time')])\n",
    "    #get url for each job on the page\n",
    "    job_links = soup.find_all('a',{'class':'result-card__full-card-link'})\n",
    "    for job_link in job_links:\n",
    "        job_url = job_link.get('href')\n",
    "        #print(job_url)\n",
    "        job_web_raw = requests.get(job_url).text\n",
    "        job_soup = BeautifulSoup(job_web_raw, 'html.parser')\n",
    "        #print(job_soup.prettify())\n",
    "        tag = job_soup.find('h3', text='Employment type')\n",
    "        if tag:\n",
    "            emptype_list.append(tag.find_next_siblings('span')[0].get_text())\n",
    "        else:\n",
    "            emptype_list.append('Not Available')\n",
    "        job_context = job_soup.find('script',{'type':'application/ld+json'})\n",
    "        #some job does not have descripton\n",
    "        if job_context:\n",
    "            job_data = json.loads(job_context.get_text())\n",
    "            level_list.append(job_data['experienceRequirements'])\n",
    "            industry_list.append(job_data['industry'])\n",
    "            raw_description = job_data['description']\n",
    "            clean_description = re.sub('<[^>]+>', '', raw_description)\n",
    "            description_list.append(clean_description)\n",
    "        else:\n",
    "            level_list.append('Not Available')\n",
    "            industry_list.append('Not Available')\n",
    "            description_list.append('Not Available')\n",
    "    used_time = time.time()-start_time\n",
    "    if (page_num%10)==0:\n",
    "        print(link)\n",
    "        print(\"Scraped job numbers:\", len(company_list), \"Used time(s):\", used_time)"
   ]
  },
  {
   "cell_type": "code",
   "execution_count": 207,
   "metadata": {},
   "outputs": [
    {
     "name": "stdout",
     "output_type": "stream",
     "text": [
      "16026\n",
      "16025\n",
      "16025\n",
      "16025\n",
      "16017\n",
      "16017\n",
      "16017\n",
      "16017\n"
     ]
    }
   ],
   "source": [
    "print(len(title_list))\n",
    "print(len(company_list))\n",
    "print(len(location_list))\n",
    "print(len(date_list))\n",
    "print(len(level_list))\n",
    "print(len(emptype_list))\n",
    "print(len(industry_list))\n",
    "print(len(description_list))"
   ]
  },
  {
   "cell_type": "code",
   "execution_count": 209,
   "metadata": {},
   "outputs": [],
   "source": [
    "title_list_1 = title_list[:16000]\n",
    "company_list_1 = company_list[:16000]\n",
    "location_list_1 = location_list[:16000]\n",
    "date_list_1 = date_list[:16000]\n",
    "level_list_1 = level_list[:16000]\n",
    "emptype_list_1 = emptype_list[:16000]\n",
    "industry_list_1 = industry_list[:16000]\n",
    "description_list_1 = description_list[:16000]"
   ]
  },
  {
   "cell_type": "code",
   "execution_count": 210,
   "metadata": {},
   "outputs": [],
   "source": [
    "df_1 = pd.DataFrame()\n",
    "df_1['title'] = title_list_1\n",
    "df_1['company'] = company_list_1\n",
    "df_1['location'] = location_list_1\n",
    "df_1['date'] = date_list_1\n",
    "df_1['seniority level'] = level_list_1\n",
    "df_1['employment type'] = emptype_list_1\n",
    "df_1['industry'] = industry_list_1\n",
    "df_1['description'] = description_list_1\n"
   ]
  },
  {
   "cell_type": "code",
   "execution_count": 211,
   "metadata": {
    "scrolled": true
   },
   "outputs": [
    {
     "data": {
      "text/html": [
       "<div>\n",
       "<style scoped>\n",
       "    .dataframe tbody tr th:only-of-type {\n",
       "        vertical-align: middle;\n",
       "    }\n",
       "\n",
       "    .dataframe tbody tr th {\n",
       "        vertical-align: top;\n",
       "    }\n",
       "\n",
       "    .dataframe thead th {\n",
       "        text-align: right;\n",
       "    }\n",
       "</style>\n",
       "<table border=\"1\" class=\"dataframe\">\n",
       "  <thead>\n",
       "    <tr style=\"text-align: right;\">\n",
       "      <th></th>\n",
       "      <th>title</th>\n",
       "      <th>company</th>\n",
       "      <th>location</th>\n",
       "      <th>date</th>\n",
       "      <th>seniority level</th>\n",
       "      <th>employment type</th>\n",
       "      <th>industry</th>\n",
       "      <th>description</th>\n",
       "    </tr>\n",
       "  </thead>\n",
       "  <tbody>\n",
       "    <tr>\n",
       "      <td>0</td>\n",
       "      <td>Data Scientist</td>\n",
       "      <td>The Robinson Group</td>\n",
       "      <td>Cincinnati, Ohio, United States</td>\n",
       "      <td>2020-06-15</td>\n",
       "      <td>Mid-Senior level</td>\n",
       "      <td>Full-time</td>\n",
       "      <td>Consumer Electronics,Management Consulting</td>\n",
       "      <td>The Robinson Group is partnered with a longsta...</td>\n",
       "    </tr>\n",
       "    <tr>\n",
       "      <td>1</td>\n",
       "      <td>Associate Data Scientist</td>\n",
       "      <td>The Home Depot</td>\n",
       "      <td>Atlanta, Georgia, United States</td>\n",
       "      <td>2020-06-15</td>\n",
       "      <td>Entry level</td>\n",
       "      <td>Full-time</td>\n",
       "      <td>Information Technology and Services,Retail,Fin...</td>\n",
       "      <td>POSITION PURPOSEThe Associate Data Scientist w...</td>\n",
       "    </tr>\n",
       "    <tr>\n",
       "      <td>2</td>\n",
       "      <td>Senior Data Analyst</td>\n",
       "      <td>Ascential</td>\n",
       "      <td>Salt Lake City, Utah, United States</td>\n",
       "      <td>2020-06-15</td>\n",
       "      <td>Associate</td>\n",
       "      <td>Full-time</td>\n",
       "      <td>Information Services</td>\n",
       "      <td>We're looking for a Senior Data Analyst to joi...</td>\n",
       "    </tr>\n",
       "    <tr>\n",
       "      <td>3</td>\n",
       "      <td>Data Analyst Nursing</td>\n",
       "      <td>Grady Health System</td>\n",
       "      <td>Atlanta, Georgia, United States</td>\n",
       "      <td>2020-06-15</td>\n",
       "      <td>Entry level</td>\n",
       "      <td>Full-time</td>\n",
       "      <td>Health, Wellness and Fitness,Medical Practice,...</td>\n",
       "      <td>Grady Health System offers many career paths f...</td>\n",
       "    </tr>\n",
       "    <tr>\n",
       "      <td>4</td>\n",
       "      <td>Sr. Manager, Data Science, Personalization &amp; O...</td>\n",
       "      <td>Wiley Job Network</td>\n",
       "      <td>Vienna, Virginia, United States</td>\n",
       "      <td>2020-06-15</td>\n",
       "      <td>Mid-Senior level</td>\n",
       "      <td>Full-time</td>\n",
       "      <td>Information Technology and Services,Staffing a...</td>\n",
       "      <td>Towers Crescent (12066), United States of Amer...</td>\n",
       "    </tr>\n",
       "    <tr>\n",
       "      <td>...</td>\n",
       "      <td>...</td>\n",
       "      <td>...</td>\n",
       "      <td>...</td>\n",
       "      <td>...</td>\n",
       "      <td>...</td>\n",
       "      <td>...</td>\n",
       "      <td>...</td>\n",
       "      <td>...</td>\n",
       "    </tr>\n",
       "    <tr>\n",
       "      <td>15995</td>\n",
       "      <td>Data Analyst</td>\n",
       "      <td>Albany Charter School Network</td>\n",
       "      <td>Spring Valley, Minnesota, United States</td>\n",
       "      <td>2020-06-13</td>\n",
       "      <td>Entry level</td>\n",
       "      <td>Full-time</td>\n",
       "      <td>Primary/Secondary Education,Higher Education,E...</td>\n",
       "      <td>https://jobs.crelate.com/portal/workmonger/job...</td>\n",
       "    </tr>\n",
       "    <tr>\n",
       "      <td>15996</td>\n",
       "      <td>Data Analyst</td>\n",
       "      <td>Amazon</td>\n",
       "      <td>Nashville, Tennessee, United States</td>\n",
       "      <td>2020-06-13</td>\n",
       "      <td>Mid-Senior level</td>\n",
       "      <td>Full-time</td>\n",
       "      <td>Computer Software,Information Technology and S...</td>\n",
       "      <td>DescriptionWorkforce Staffing (WFS), a divisio...</td>\n",
       "    </tr>\n",
       "    <tr>\n",
       "      <td>15997</td>\n",
       "      <td>Manager, Data Science - Labor Markets</td>\n",
       "      <td>Accenture Federal Services</td>\n",
       "      <td>Reston, Virginia, United States</td>\n",
       "      <td>2020-06-13</td>\n",
       "      <td>Mid-Senior level</td>\n",
       "      <td>Full-time</td>\n",
       "      <td>Information Technology and Services,Computer S...</td>\n",
       "      <td>Organization: Accenture Federal ServicesLocati...</td>\n",
       "    </tr>\n",
       "    <tr>\n",
       "      <td>15998</td>\n",
       "      <td>Federal - Data Scientist ++++++++++++++</td>\n",
       "      <td>Amazon</td>\n",
       "      <td>Seattle, Washington, United States</td>\n",
       "      <td>2020-06-13</td>\n",
       "      <td>Mid-Senior level</td>\n",
       "      <td>Full-time</td>\n",
       "      <td>Computer Software,Information Technology and S...</td>\n",
       "      <td>DescriptionAn information-rich and accurate pr...</td>\n",
       "    </tr>\n",
       "    <tr>\n",
       "      <td>15999</td>\n",
       "      <td>Senior Applied Scientist</td>\n",
       "      <td>Pacific Northwest National Laboratory - PNNL</td>\n",
       "      <td>Richland, Washington, United States</td>\n",
       "      <td>2020-06-13</td>\n",
       "      <td>Not Applicable</td>\n",
       "      <td>Full-time</td>\n",
       "      <td>Information Technology and Services,Computer S...</td>\n",
       "      <td>Organization and Job IDJob ID: 310940Directora...</td>\n",
       "    </tr>\n",
       "  </tbody>\n",
       "</table>\n",
       "<p>16000 rows × 8 columns</p>\n",
       "</div>"
      ],
      "text/plain": [
       "                                                   title  \\\n",
       "0                                         Data Scientist   \n",
       "1                               Associate Data Scientist   \n",
       "2                                    Senior Data Analyst   \n",
       "3                                   Data Analyst Nursing   \n",
       "4      Sr. Manager, Data Science, Personalization & O...   \n",
       "...                                                  ...   \n",
       "15995                                       Data Analyst   \n",
       "15996                                       Data Analyst   \n",
       "15997              Manager, Data Science - Labor Markets   \n",
       "15998            Federal - Data Scientist ++++++++++++++   \n",
       "15999                           Senior Applied Scientist   \n",
       "\n",
       "                                            company  \\\n",
       "0                                The Robinson Group   \n",
       "1                                    The Home Depot   \n",
       "2                                         Ascential   \n",
       "3                               Grady Health System   \n",
       "4                                 Wiley Job Network   \n",
       "...                                             ...   \n",
       "15995                 Albany Charter School Network   \n",
       "15996                                        Amazon   \n",
       "15997                    Accenture Federal Services   \n",
       "15998                                        Amazon   \n",
       "15999  Pacific Northwest National Laboratory - PNNL   \n",
       "\n",
       "                                      location        date   seniority level  \\\n",
       "0              Cincinnati, Ohio, United States  2020-06-15  Mid-Senior level   \n",
       "1              Atlanta, Georgia, United States  2020-06-15       Entry level   \n",
       "2          Salt Lake City, Utah, United States  2020-06-15         Associate   \n",
       "3              Atlanta, Georgia, United States  2020-06-15       Entry level   \n",
       "4              Vienna, Virginia, United States  2020-06-15  Mid-Senior level   \n",
       "...                                        ...         ...               ...   \n",
       "15995  Spring Valley, Minnesota, United States  2020-06-13       Entry level   \n",
       "15996      Nashville, Tennessee, United States  2020-06-13  Mid-Senior level   \n",
       "15997          Reston, Virginia, United States  2020-06-13  Mid-Senior level   \n",
       "15998       Seattle, Washington, United States  2020-06-13  Mid-Senior level   \n",
       "15999      Richland, Washington, United States  2020-06-13    Not Applicable   \n",
       "\n",
       "      employment type                                           industry  \\\n",
       "0           Full-time         Consumer Electronics,Management Consulting   \n",
       "1           Full-time  Information Technology and Services,Retail,Fin...   \n",
       "2           Full-time                               Information Services   \n",
       "3           Full-time  Health, Wellness and Fitness,Medical Practice,...   \n",
       "4           Full-time  Information Technology and Services,Staffing a...   \n",
       "...               ...                                                ...   \n",
       "15995       Full-time  Primary/Secondary Education,Higher Education,E...   \n",
       "15996       Full-time  Computer Software,Information Technology and S...   \n",
       "15997       Full-time  Information Technology and Services,Computer S...   \n",
       "15998       Full-time  Computer Software,Information Technology and S...   \n",
       "15999       Full-time  Information Technology and Services,Computer S...   \n",
       "\n",
       "                                             description  \n",
       "0      The Robinson Group is partnered with a longsta...  \n",
       "1      POSITION PURPOSEThe Associate Data Scientist w...  \n",
       "2      We're looking for a Senior Data Analyst to joi...  \n",
       "3      Grady Health System offers many career paths f...  \n",
       "4      Towers Crescent (12066), United States of Amer...  \n",
       "...                                                  ...  \n",
       "15995  https://jobs.crelate.com/portal/workmonger/job...  \n",
       "15996  DescriptionWorkforce Staffing (WFS), a divisio...  \n",
       "15997  Organization: Accenture Federal ServicesLocati...  \n",
       "15998  DescriptionAn information-rich and accurate pr...  \n",
       "15999  Organization and Job IDJob ID: 310940Directora...  \n",
       "\n",
       "[16000 rows x 8 columns]"
      ]
     },
     "execution_count": 211,
     "metadata": {},
     "output_type": "execute_result"
    }
   ],
   "source": [
    "df_1"
   ]
  },
  {
   "cell_type": "code",
   "execution_count": 212,
   "metadata": {},
   "outputs": [
    {
     "name": "stdout",
     "output_type": "stream",
     "text": [
      "<class 'pandas.core.frame.DataFrame'>\n",
      "RangeIndex: 16000 entries, 0 to 15999\n",
      "Data columns (total 8 columns):\n",
      "title              16000 non-null object\n",
      "company            16000 non-null object\n",
      "location           16000 non-null object\n",
      "date               16000 non-null object\n",
      "seniority level    16000 non-null object\n",
      "employment type    16000 non-null object\n",
      "industry           16000 non-null object\n",
      "description        16000 non-null object\n",
      "dtypes: object(8)\n",
      "memory usage: 1000.1+ KB\n"
     ]
    }
   ],
   "source": [
    "df_1.info()"
   ]
  },
  {
   "cell_type": "code",
   "execution_count": 213,
   "metadata": {},
   "outputs": [],
   "source": [
    "df_1.to_csv('/Users/tingtingweng/Documents/linkedin_jobs_part1.csv', header=True, index=False)"
   ]
  },
  {
   "cell_type": "code",
   "execution_count": 3,
   "metadata": {},
   "outputs": [],
   "source": [
    "ds_jobs = pd.read_csv('/Users/tingtingweng/Documents/linkedin_jobs_part1.csv',parse_dates=['date'])"
   ]
  },
  {
   "cell_type": "markdown",
   "metadata": {},
   "source": [
    "### Clean the text data\n",
    "\n",
    "To format our data and build the Term-doc incidence matrix, many operations will be performed on the data :\n",
    "\n",
    "- Stop words removal\n",
    "- Stemming\n",
    "- Punctuations\n",
    "- Lowering"
   ]
  },
  {
   "cell_type": "markdown",
   "metadata": {},
   "source": [
    "#### Stopwords"
   ]
  },
  {
   "cell_type": "code",
   "execution_count": 4,
   "metadata": {},
   "outputs": [
    {
     "name": "stdout",
     "output_type": "stream",
     "text": [
      "['i', 'me', 'my', 'myself', 'we', 'our', 'ours', 'ourselves', 'you', \"you're\", \"you've\", \"you'll\", \"you'd\", 'your', 'yours', 'yourself', 'yourselves', 'he', 'him', 'his', 'himself', 'she', \"she's\", 'her', 'hers', 'herself', 'it', \"it's\", 'its', 'itself', 'they', 'them', 'their', 'theirs', 'themselves', 'what', 'which', 'who', 'whom', 'this', 'that', \"that'll\", 'these', 'those', 'am', 'is', 'are', 'was', 'were', 'be', 'been', 'being', 'have', 'has', 'had', 'having', 'do', 'does', 'did', 'doing', 'a', 'an', 'the', 'and', 'but', 'if', 'or', 'because', 'as', 'until', 'while', 'of', 'at', 'by', 'for', 'with', 'about', 'against', 'between', 'into', 'through', 'during', 'before', 'after', 'above', 'below', 'to', 'from', 'up', 'down', 'in', 'out', 'on', 'off', 'over', 'under', 'again', 'further', 'then', 'once', 'here', 'there', 'when', 'where', 'why', 'how', 'all', 'any', 'both', 'each', 'few', 'more', 'most', 'other', 'some', 'such', 'no', 'nor', 'not', 'only', 'own', 'same', 'so', 'than', 'too', 'very', 's', 't', 'can', 'will', 'just', 'don', \"don't\", 'should', \"should've\", 'now', 'd', 'll', 'm', 'o', 're', 've', 'y', 'ain', 'aren', \"aren't\", 'couldn', \"couldn't\", 'didn', \"didn't\", 'doesn', \"doesn't\", 'hadn', \"hadn't\", 'hasn', \"hasn't\", 'haven', \"haven't\", 'isn', \"isn't\", 'ma', 'mightn', \"mightn't\", 'mustn', \"mustn't\", 'needn', \"needn't\", 'shan', \"shan't\", 'shouldn', \"shouldn't\", 'wasn', \"wasn't\", 'weren', \"weren't\", 'won', \"won't\", 'wouldn', \"wouldn't\"]\n"
     ]
    },
    {
     "name": "stderr",
     "output_type": "stream",
     "text": [
      "[nltk_data] Downloading package stopwords to\n",
      "[nltk_data]     /Users/tingtingweng/nltk_data...\n",
      "[nltk_data]   Package stopwords is already up-to-date!\n"
     ]
    }
   ],
   "source": [
    "import nltk\n",
    "nltk.download('stopwords')\n",
    "from nltk.corpus import stopwords\n",
    "\n",
    "stop = stopwords.words('english')\n",
    "print(stop)"
   ]
  },
  {
   "cell_type": "markdown",
   "metadata": {},
   "source": [
    "#### stemming"
   ]
  },
  {
   "cell_type": "code",
   "execution_count": 5,
   "metadata": {},
   "outputs": [
    {
     "name": "stdout",
     "output_type": "stream",
     "text": [
      "tasti\n",
      "join\n",
      "appl\n"
     ]
    }
   ],
   "source": [
    "from nltk.stem import SnowballStemmer # Stemmers remove morphological affixes from words, leaving only the word stem.\n",
    "snow = SnowballStemmer('english') \n",
    "print(snow.stem('tasty'))\n",
    "print(snow.stem('joined'))\n",
    "print(snow.stem('apples'))"
   ]
  },
  {
   "cell_type": "markdown",
   "metadata": {},
   "source": [
    "#### Punctuations Removal"
   ]
  },
  {
   "cell_type": "code",
   "execution_count": 6,
   "metadata": {},
   "outputs": [
    {
     "data": {
      "text/plain": [
       "'Id like to have some coffee today '"
      ]
     },
     "execution_count": 6,
     "metadata": {},
     "output_type": "execute_result"
    }
   ],
   "source": [
    "import re\n",
    "# cleaning punctuations from the sentence\n",
    "sentence = \"I'd like to have some coffee today!\"\n",
    "sentence = re.sub(r'[\\'|\"|#]', r'', sentence) # remove these punctuation\n",
    "sentence = re.sub(r'[?|!|.|,|)|(|\\|/]',r' ',sentence) # replace these punctuation with space\n",
    "sentence"
   ]
  },
  {
   "cell_type": "markdown",
   "metadata": {},
   "source": [
    "#### combine"
   ]
  },
  {
   "cell_type": "code",
   "execution_count": 38,
   "metadata": {},
   "outputs": [],
   "source": [
    "def cleanup(sentence):\n",
    "    sentence = str(sentence)\n",
    "    sentence = sentence.lower() # lower case\n",
    "    sentence = re.sub(r'[?|!|.|,|)|(|\\|/]',r' ',sentence) # replace these punctuation with space\n",
    "    tokens = sentence.split()\n",
    "    #remove stopwords\n",
    "    for t in tokens:\n",
    "        if t in stop:\n",
    "            tokens.remove(t)\n",
    "    out = []\n",
    "    #for t in tokens:\n",
    "    #    out.append(snow.stem(t))\n",
    "    out = \" \".join(tokens)\n",
    "    out = re.sub(r'[\\'|\"|#]', r'', out) # remove these punctuation\n",
    "    return out"
   ]
  },
  {
   "cell_type": "code",
   "execution_count": 39,
   "metadata": {},
   "outputs": [],
   "source": [
    "ds_jobs['description_clean'] = ds_jobs['description'].apply(cleanup)"
   ]
  },
  {
   "cell_type": "markdown",
   "metadata": {},
   "source": [
    "#### WorldClouds"
   ]
  },
  {
   "cell_type": "code",
   "execution_count": 231,
   "metadata": {},
   "outputs": [
    {
     "name": "stdout",
     "output_type": "stream",
     "text": [
      "Collecting wordcloud\n",
      "\u001b[?25l  Downloading https://files.pythonhosted.org/packages/7e/ea/e531ac225713af626d1d2d108ec4774ffdde54ac83c5c863b42a72e4a164/wordcloud-1.7.0-cp37-cp37m-macosx_10_6_x86_64.whl (160kB)\n",
      "\u001b[K     |████████████████████████████████| 163kB 513kB/s eta 0:00:01\n",
      "\u001b[?25hRequirement already satisfied: numpy>=1.6.1 in /opt/anaconda3/lib/python3.7/site-packages (from wordcloud) (1.17.2)\n",
      "Requirement already satisfied: pillow in /opt/anaconda3/lib/python3.7/site-packages (from wordcloud) (6.2.0)\n",
      "Requirement already satisfied: matplotlib in /opt/anaconda3/lib/python3.7/site-packages (from wordcloud) (3.1.1)\n",
      "Requirement already satisfied: cycler>=0.10 in /opt/anaconda3/lib/python3.7/site-packages (from matplotlib->wordcloud) (0.10.0)\n",
      "Requirement already satisfied: kiwisolver>=1.0.1 in /opt/anaconda3/lib/python3.7/site-packages (from matplotlib->wordcloud) (1.1.0)\n",
      "Requirement already satisfied: pyparsing!=2.0.4,!=2.1.2,!=2.1.6,>=2.0.1 in /opt/anaconda3/lib/python3.7/site-packages (from matplotlib->wordcloud) (2.4.2)\n",
      "Requirement already satisfied: python-dateutil>=2.1 in /opt/anaconda3/lib/python3.7/site-packages (from matplotlib->wordcloud) (2.8.0)\n",
      "Requirement already satisfied: six in /opt/anaconda3/lib/python3.7/site-packages (from cycler>=0.10->matplotlib->wordcloud) (1.12.0)\n",
      "Requirement already satisfied: setuptools in /opt/anaconda3/lib/python3.7/site-packages (from kiwisolver>=1.0.1->matplotlib->wordcloud) (41.4.0)\n",
      "Installing collected packages: wordcloud\n",
      "Successfully installed wordcloud-1.7.0\n"
     ]
    }
   ],
   "source": [
    "!pip install wordcloud"
   ]
  },
  {
   "cell_type": "code",
   "execution_count": 40,
   "metadata": {},
   "outputs": [],
   "source": [
    "from wordcloud import WordCloud, STOPWORDS\n",
    "\n",
    "def show_wordcloud(data, title = None):\n",
    "    wordcloud = WordCloud(\n",
    "        background_color='white',\n",
    "        stopwords=None,\n",
    "        max_words=200,\n",
    "        max_font_size=40, \n",
    "        scale=3,\n",
    "        random_state=1 # chosen at random by flipping a coin; it was heads\n",
    "    ).generate(str(data))\n",
    "    \n",
    "    fig = plt.figure(1, figsize=(8, 8))\n",
    "    plt.axis('off')\n",
    "    if title: \n",
    "        fig.suptitle(title, fontsize=20)\n",
    "        fig.subplots_adjust(top=2.3)\n",
    "\n",
    "    plt.imshow(wordcloud)\n",
    "    plt.show()"
   ]
  },
  {
   "cell_type": "code",
   "execution_count": 41,
   "metadata": {},
   "outputs": [
    {
     "data": {
      "image/png": "[encoded data removed]",
      "text/plain": [
       "<Figure size 576x576 with 1 Axes>"
      ]
     },
     "metadata": {
      "needs_background": "light"
     },
     "output_type": "display_data"
    }
   ],
   "source": [
    "show_wordcloud(ds_jobs['description_clean'], title = \"Clean Job Description\")"
   ]
  },
  {
   "cell_type": "code",
   "execution_count": 42,
   "metadata": {
    "scrolled": false
   },
   "outputs": [
    {
     "data": {
      "image/png": "[encoded data removed]",
      "text/plain": [
       "<Figure size 576x576 with 1 Axes>"
      ]
     },
     "metadata": {
      "needs_background": "light"
     },
     "output_type": "display_data"
    }
   ],
   "source": [
    "show_wordcloud(ds_jobs['description'], title = \"Raw Job Description\")"
   ]
  },
  {
   "cell_type": "markdown",
   "metadata": {},
   "source": [
    "### Convert text to vector"
   ]
  },
  {
   "cell_type": "markdown",
   "metadata": {},
   "source": [
    "#### 1) Uni-gram BOW"
   ]
  },
  {
   "cell_type": "code",
   "execution_count": 13,
   "metadata": {},
   "outputs": [],
   "source": [
    "from sklearn.feature_extraction.text import CountVectorizer"
   ]
  },
  {
   "cell_type": "code",
   "execution_count": 14,
   "metadata": {},
   "outputs": [],
   "source": [
    "uni_gram = CountVectorizer(min_df = 5, binary = True) # only use keyword which shows up more than 5 times. \n",
    "uni_gram_vectors = uni_gram.fit_transform(ds_jobs['description_clean'].values)"
   ]
  },
  {
   "cell_type": "code",
   "execution_count": 15,
   "metadata": {},
   "outputs": [
    {
     "data": {
      "text/plain": [
       "(16000, 10388)"
      ]
     },
     "execution_count": 15,
     "metadata": {},
     "output_type": "execute_result"
    }
   ],
   "source": [
    "uni_gram_vectors.shape"
   ]
  },
  {
   "cell_type": "code",
   "execution_count": 18,
   "metadata": {},
   "outputs": [
    {
     "data": {
      "text/plain": [
       "['00',\n",
       " '000',\n",
       " '0009',\n",
       " '000ndash99',\n",
       " '0028',\n",
       " '0055',\n",
       " '00am',\n",
       " '00job',\n",
       " '00pm',\n",
       " '01']"
      ]
     },
     "execution_count": 18,
     "metadata": {},
     "output_type": "execute_result"
    }
   ],
   "source": [
    "features = uni_gram.get_feature_names()\n",
    "features[0:10]"
   ]
  },
  {
   "cell_type": "markdown",
   "metadata": {},
   "source": [
    "#### 2)Bi-gram BOW"
   ]
  },
  {
   "cell_type": "code",
   "execution_count": 19,
   "metadata": {},
   "outputs": [],
   "source": [
    "bi_gram = CountVectorizer(ngram_range=(1,2), min_df = 5, binary = True)\n",
    "bi_gram_vectors = bi_gram.fit_transform(ds_jobs['description_clean'].values)"
   ]
  },
  {
   "cell_type": "code",
   "execution_count": 20,
   "metadata": {},
   "outputs": [
    {
     "data": {
      "text/plain": [
       "(16000, 93199)"
      ]
     },
     "execution_count": 20,
     "metadata": {},
     "output_type": "execute_result"
    }
   ],
   "source": [
    "bi_gram_vectors.shape"
   ]
  },
  {
   "cell_type": "code",
   "execution_count": 21,
   "metadata": {},
   "outputs": [
    {
     "data": {
      "text/plain": [
       "['00',\n",
       " '00 am4',\n",
       " '00 am5',\n",
       " '00 annual',\n",
       " '00 hour',\n",
       " '00 pm',\n",
       " '000',\n",
       " '000 110',\n",
       " '000 175',\n",
       " '000 48']"
      ]
     },
     "execution_count": 21,
     "metadata": {},
     "output_type": "execute_result"
    }
   ],
   "source": [
    "features = bi_gram.get_feature_names()\n",
    "features[0:10]"
   ]
  },
  {
   "cell_type": "markdown",
   "metadata": {},
   "source": [
    "#### 3) tf-idf"
   ]
  },
  {
   "cell_type": "code",
   "execution_count": 43,
   "metadata": {},
   "outputs": [],
   "source": [
    "from sklearn.feature_extraction.text import TfidfVectorizer\n",
    "tfidf = TfidfVectorizer(ngram_range=(1,2), min_df = 5)\n",
    "tfidf_vectors = tfidf.fit_transform(ds_jobs['description_clean'].values)"
   ]
  },
  {
   "cell_type": "code",
   "execution_count": 44,
   "metadata": {},
   "outputs": [
    {
     "data": {
      "text/plain": [
       "(16000, 103704)"
      ]
     },
     "execution_count": 44,
     "metadata": {},
     "output_type": "execute_result"
    }
   ],
   "source": [
    "tfidf_vectors.shape"
   ]
  },
  {
   "cell_type": "code",
   "execution_count": 45,
   "metadata": {
    "scrolled": true
   },
   "outputs": [
    {
     "data": {
      "text/plain": [
       "['00',\n",
       " '00 am4',\n",
       " '00 am5',\n",
       " '00 annually',\n",
       " '00 hour',\n",
       " '00 pm',\n",
       " '000',\n",
       " '000 110',\n",
       " '000 175',\n",
       " '000 48']"
      ]
     },
     "execution_count": 45,
     "metadata": {},
     "output_type": "execute_result"
    }
   ],
   "source": [
    "features = tfidf.get_feature_names()\n",
    "features[0:10]"
   ]
  },
  {
   "cell_type": "markdown",
   "metadata": {},
   "source": [
    "#### NMF (Nonnegative Matrix Factorization)"
   ]
  },
  {
   "cell_type": "code",
   "execution_count": 46,
   "metadata": {},
   "outputs": [],
   "source": [
    "from sklearn.decomposition import NMF, LatentDirichletAllocation"
   ]
  },
  {
   "cell_type": "code",
   "execution_count": 47,
   "metadata": {},
   "outputs": [],
   "source": [
    "n_samples = 1000000\n",
    "NMF_topics = 50\n",
    "NMF_top_words = 15\n",
    "\n",
    "LDA_topics = 100\n",
    "LDA_top_words = 10"
   ]
  },
  {
   "cell_type": "code",
   "execution_count": 48,
   "metadata": {},
   "outputs": [],
   "source": [
    "nmf = NMF(n_components=NMF_topics, init='nndsvda', random_state=1,alpha=.1, l1_ratio=.5).fit(tfidf_vectors)"
   ]
  },
  {
   "cell_type": "code",
   "execution_count": 49,
   "metadata": {},
   "outputs": [],
   "source": [
    "def print_top_words(model, feature_names, n_top_words):\n",
    "    for topic_idx, topic in enumerate(model.components_):\n",
    "        print(\"Topic #%d: \\n\" %(topic_idx+1))\n",
    "        raw_list = [feature_names[i] for i in topic.argsort()[:-n_top_words - 1:-1]]\n",
    "        weight = [str(topic[i]) for i in topic.argsort()[:-n_top_words - 1:-1]]\n",
    "        print(\",\".join(raw_list))\n",
    "        print('\\n')\n",
    "        print(\",\".join(weight))\n",
    "        print('\\n')\n",
    "        #print('Maximum difference: %d'%(float(weight[0])-float(weight[1])))\n",
    "        #print('\\n')"
   ]
  },
  {
   "cell_type": "code",
   "execution_count": 50,
   "metadata": {},
   "outputs": [
    {
     "name": "stdout",
     "output_type": "stream",
     "text": [
      "Topic #1: \n",
      "\n",
      "quantum,ibm,qiskit,progressive,industries,career,the,you,principles,linear,expertise,data,world,optimization,within\n",
      "\n",
      "\n",
      "1.8239508409847311,1.1574021480572998,0.48524388797358153,0.47584655038523266,0.4234263572353942,0.4052350813491988,0.40144873349057464,0.3842813508556192,0.35545363748187836,0.34430125283293395,0.3271579892662338,0.32399972685783407,0.3208167793099378,0.30071185438982434,0.29327656109523814\n",
      "\n",
      "\n",
      "Topic #2: \n",
      "\n",
      "data,the,experience,business,analytics,work,analysis,science,team,skills,ability,solutions,management,development,sql\n",
      "\n",
      "\n",
      "2.474424092415632,1.0911718323766222,0.9619754214915008,0.9233809513533173,0.528561695859212,0.4995152719852054,0.45633827277127786,0.4525995296162849,0.4465236482219212,0.44003311753718927,0.4287834000938552,0.4192543774660969,0.4071499158980582,0.4001869416075207,0.3870977915832211\n",
      "\n",
      "\n",
      "Topic #3: \n",
      "\n",
      "clinical,clinical scientist,clinical science,activities,trial,clinical development,development,assigned,therapeutic area,program,scientific,therapeutic,indication,clinical studies,study\n",
      "\n",
      "\n",
      "0.8369861673148606,0.276223845943981,0.22266687277465327,0.21743940206425363,0.217097166767015,0.18821687842561097,0.17799353933707152,0.17419100267808443,0.17097089987450861,0.16793075303110883,0.162395718029703,0.1537709151569717,0.1469461174818488,0.14384992483081482,0.14287631823995764\n",
      "\n",
      "\n",
      "Topic #4: \n",
      "\n",
      "you,cybercoders,email,the,email subject,subject line,experience please,apply,the email,line,work the,resume,eligibility,work,way\n",
      "\n",
      "\n",
      "0.5666365044596936,0.5313259787195983,0.44728892553302224,0.4319429903578939,0.42150180336963133,0.42150180336963133,0.3673937229101915,0.3617694111662457,0.3607208773351579,0.35003450255178903,0.34847998900565075,0.34099814751529867,0.33804887995539273,0.30751250042231093,0.30442097822754144\n",
      "\n",
      "\n",
      "Topic #5: \n",
      "\n",
      "autonomous,san diego,diego,tusimple,san,the,role locate,truck,autonomous driving,required easy,apply email,locate,locate san,email algo__data_annotator__34ce31f02us,algo__data_annotator__34ce31f02us\n",
      "\n",
      "\n",
      "0.8071527221898027,0.5625098508859702,0.5625098508859702,0.48588200539490545,0.42887750938736624,0.24503328622740436,0.24151189617491697,0.24151189617491697,0.24151189617491697,0.24151189617491697,0.24151189617491697,0.24151189617491697,0.24151189617491697,0.24151189617491697,0.24151189617491697\n",
      "\n",
      "\n",
      "Topic #6: \n",
      "\n",
      "cell,the scientist,biology,scientist,assay development,cell biology,scientist work,assay,experiments,assays,more years,oncology,with,the,proliferation\n",
      "\n",
      "\n",
      "0.8128859447617081,0.5181636513604565,0.4852383719053267,0.3976995525321858,0.3932557308313217,0.38641536530574017,0.3850510616990744,0.36660915893781537,0.3662211760379584,0.36313456274741357,0.2999159202963435,0.22018740749474186,0.2168921612114429,0.21352161775303277,0.21047432003114386\n",
      "\n",
      "\n",
      "Topic #7: \n",
      "\n",
      "bull,development bull,bull experience,etc bull,java,bull candidate,bull expertise,interface global,data intensive,bull working,applications bull,development,applications,global team,intensive\n",
      "\n",
      "\n",
      "2.8698486815444713,0.378178807020597,0.33035210326684494,0.3298233444703198,0.2757569153406855,0.2754309505874138,0.25796568206810955,0.2517066334609937,0.24919173751733717,0.24812637653626796,0.24812637653626796,0.241715523040688,0.24060289004038538,0.23711836368674685,0.2250477551882345\n",
      "\n",
      "\n",
      "Topic #8: \n",
      "\n",
      "must able,able,customer data,must,bros,data intelligence,data,predictive,able work,schedule,customer,predictive modeling,warner bros,warner,analytics data\n",
      "\n",
      "\n",
      "0.7137464399100096,0.5426730490178056,0.46476978635226585,0.4122163769911273,0.323688920224113,0.3028502953882109,0.28251584288998854,0.23506935240444515,0.22932026449379622,0.22088293162032854,0.2104679643882704,0.20763311367802667,0.20364173151071474,0.20364173151071474,0.20091484521046632\n",
      "\n",
      "\n",
      "Topic #9: \n",
      "\n",
      "soil,soil survey,survey,education,must,gs,the gs,specialized experience,grade,the,specialized,verify,announcement,semester,semester hours\n",
      "\n",
      "\n",
      "1.4742053551260248,0.6863084414592078,0.5256593208751655,0.29238140992681616,0.2656590334848568,0.25505412787126,0.22655035724024056,0.22128826187384112,0.21964042334541728,0.21319123326083103,0.17693280374800593,0.16078491851415244,0.1600574761940072,0.15870886071867166,0.15870886071867166\n",
      "\n",
      "\n",
      "Topic #10: \n",
      "\n",
      "nbsp,nbsp nbsp,analytic,nbsp experience,experience nbsp,the,nbsp you,bioinformatics,commercial experience,nbsp strong,genomics,experience,machine,data nbsp,machine learning\n",
      "\n",
      "\n",
      "3.2253612200576374,2.4478117077713253,0.1136966900077018,0.09450816696819629,0.08193788786666915,0.07949857184684898,0.06651322708716234,0.06386421732118124,0.06019176455509709,0.05890103056970703,0.05549596765488816,0.05466022643896807,0.053795917524637867,0.05272013423019471,0.04523444576059147\n",
      "\n",
      "\n",
      "Topic #11: \n",
      "\n",
      "leidos,leidos com,information,payment related,payment,the,information any,any,telework,employment,email,related information,information technology,computer vision,com\n",
      "\n",
      "\n",
      "0.9640947408344129,0.29578594041604106,0.28908519094424795,0.19627541899265902,0.17355471526931615,0.16775262476990482,0.16226213321871683,0.16194643888288845,0.15591523988571174,0.1542983062768845,0.1492131988964848,0.13735686436417255,0.12663733298986632,0.12603678915356423,0.1243977863306124\n",
      "\n",
      "\n",
      "Topic #12: \n",
      "\n",
      "clinical,clinical development,medical,development,safety,disease,cs,partnership,disease area,scientific,the,area,trial,protocol,interactions\n",
      "\n",
      "\n",
      "1.2240343831428424,0.507215344955538,0.406428111415053,0.3843610954133888,0.3603194785788452,0.35222225889131054,0.320625536913684,0.2998598163885058,0.27602277609653864,0.2683133329783414,0.26450260833756134,0.2589175693553926,0.25084031654457306,0.22134499592404966,0.20590904660581147\n",
      "\n",
      "\n",
      "Topic #13: \n",
      "\n",
      "neurology,developing deploying,data,group,coordinating,deploying,tools,developing,skills requiredexperience,data scientist,managing,requiredexperience,insights are,methodology machine,like shiny\n",
      "\n",
      "\n",
      "0.4548060264114899,0.4065902722971732,0.3928255685121484,0.38414550537844605,0.34977917230093986,0.3018021102138011,0.29987274307031164,0.27187891373503537,0.2572072175642883,0.25445762037674036,0.2478970674728552,0.22912945513728256,0.22542167459645762,0.22542167459645762,0.22542167459645762\n",
      "\n",
      "\n",
      "Topic #14: \n",
      "\n",
      "regulatory,protocol,clinical,planning,study,gbs,the,trial design,trial,statistical,analysis planning,development,execution,trials,work environment\n",
      "\n",
      "\n",
      "0.5374180504486363,0.5139255846328973,0.427439565427465,0.4033870110592794,0.38619202082916587,0.3820055913143953,0.3327840248406905,0.320457985295983,0.3047549381928255,0.3044928591181745,0.2945562034587429,0.2729486874922956,0.25535818307034763,0.24167774279323395,0.22507900641357506\n",
      "\n",
      "\n",
      "Topic #15: \n",
      "\n",
      "ris,data,driven solutions,ai,interdisciplinary,solutions,modern,ai approaches,work product,users other,other stakeholders,approaches,de,data scientists,science ai\n",
      "\n",
      "\n",
      "0.4316010506561726,0.37388577532398903,0.26299354966362626,0.2624762900357708,0.24704408701868244,0.23991211729558198,0.22255453771588746,0.21424855653697158,0.21424855653697158,0.20599505434100415,0.19973954992343243,0.19674672683007766,0.1934142494718715,0.19270161229814495,0.18896050730389458\n",
      "\n",
      "\n",
      "Topic #16: \n",
      "\n",
      "guidehouse,amp,ordinance,rewards,employment,clients,firm,former,law ordinance,public sector,unsolicited resumes,consulting,analytics,unsolicited,resumes\n",
      "\n",
      "\n",
      "0.7635507751557103,0.223785957446154,0.19374795618224205,0.19288534335262966,0.19272637888076843,0.1871069979973025,0.18356227553228563,0.1751196726903663,0.15692704601220878,0.15338193962887173,0.15278612357893337,0.1393840241602713,0.1349391210859309,0.13163699590909744,0.12657350359031583\n",
      "\n",
      "\n",
      "Topic #17: \n",
      "\n",
      "experience life,sciences data,data specifically,alteryx,scientist experience,domain,commercial,life,competence their,analytics physician,workforce across,adept prescriptive,acquainted,acquainted regression,the corresponding\n",
      "\n",
      "\n",
      "0.30919300012277684,0.26601601924230905,0.26002379289573013,0.259301289739997,0.25710860583880724,0.2507052638469637,0.24396310603581262,0.2292876784608546,0.224008047251083,0.224008047251083,0.224008047251083,0.224008047251083,0.224008047251083,0.224008047251083,0.224008047251083\n",
      "\n",
      "\n",
      "Topic #18: \n",
      "\n",
      "franciscan,franciscan alliance,alliance,analytical needs,databases,business,data,local state,or federal,databases reporting,responsible experience,liaison departments,departments analytical,progressively responsible,working databases\n",
      "\n",
      "\n",
      "0.39303871098764764,0.39303871098764764,0.3424875038532132,0.33016432922527583,0.24096304334576873,0.2381984267275088,0.23719204050283774,0.2194541772398929,0.21433498595133965,0.21433498595133965,0.21433498595133965,0.21433498595133965,0.21433498595133965,0.20525174427810353,0.20464127078333344\n",
      "\n",
      "\n",
      "Topic #19: \n",
      "\n",
      "k2share,cybersecurity,reimbursement,reimbursement program,k2share offers,investigation,physical demands,perform essential,the selection,job,selection process,must,power bi,background investigation,bi\n",
      "\n",
      "\n",
      "0.6660330675879538,0.22303546751196063,0.1915697746760468,0.1805413415873623,0.1805413415873623,0.1772368890053687,0.17445311804980854,0.1738577358720729,0.16435394238549167,0.16134207177199508,0.15980365194778665,0.15536730154669132,0.14480474029012136,0.13959831443068618,0.13862310945260634\n",
      "\n",
      "\n",
      "Topic #20: \n",
      "\n",
      "data,optimizing,cloud data,data pipeline,optimizing data,trueblue,pipeline,data engineer,cloud,engineer,aws,experience,workforce,contingent,optimal\n",
      "\n",
      "\n",
      "0.659048060247043,0.413606407929883,0.4037910558522931,0.385153836524458,0.3600702500221529,0.3233832979841694,0.3167490558110838,0.3057503088193798,0.2760468239184151,0.2555567447935076,0.2447744135957908,0.20824673224688836,0.20801871175935102,0.20453030755882085,0.19173089256922318\n",
      "\n",
      "\n",
      "Topic #21: \n",
      "\n",
      "user acquisition,marketing,working marketing,acquisition data,acquisition,campaigns,exp,user,data,retention,tableau,dashboards,looking,what makes,ea\n",
      "\n",
      "\n",
      "0.5787528136743988,0.4696790819662762,0.3843190402855355,0.3520911115512299,0.3443501824025092,0.323839490508537,0.2844899138904888,0.2838849655347988,0.2830758366011675,0.28283090827852786,0.24352886588722514,0.20867618846069003,0.2027180980156806,0.1898852668966733,0.1898852668966733\n",
      "\n",
      "\n",
      "Topic #22: \n",
      "\n",
      "vivo,animal,vivo models,platform,translational vivo,research,the,translational,meeting,tim,project,models,research platform,amp,animal models\n",
      "\n",
      "\n",
      "0.6627466941577549,0.43185705397239416,0.38595455427113456,0.31049285875130894,0.2848723919967864,0.2448152849927285,0.2249285105793374,0.22023724359025348,0.21198691476843484,0.20097446123211116,0.2005911888273705,0.19756236623304813,0.18906784539961288,0.18551970598115305,0.16457965520178294\n",
      "\n",
      "\n",
      "Topic #23: \n",
      "\n",
      "ll,data,you,learning,you ll,training,the,booz,booz allen,allen,data science,training the,access,machine,machine learning\n",
      "\n",
      "\n",
      "0.31420468748783514,0.3109248580191771,0.3024193096398036,0.22450176265302424,0.206239941935534,0.19972560469112868,0.1920035385395952,0.1897503540592415,0.1897503540592415,0.1897503540592415,0.18291256614382811,0.17712220753257754,0.1750431379020869,0.172631645534886,0.16261763504062093\n",
      "\n",
      "\n",
      "Topic #24: \n",
      "\n",
      "global data,data,bloomberg,the,adsk,workflow,technical,economic,will,processes,data products,products,others,global,quality\n",
      "\n",
      "\n",
      "0.24706785406707157,0.2394749233242607,0.22384963312189757,0.20267858030798427,0.18108657293137906,0.18107037506995327,0.1803774619418209,0.1666183488603767,0.1665669398341261,0.16195727888656397,0.14473540176844443,0.1437270906791472,0.14086054893800784,0.14022507428017034,0.13825440244909712\n",
      "\n",
      "\n",
      "Topic #25: \n",
      "\n",
      "10 years,data,10,requirements,resolve scope,standard querying,scope questions,business requirements,business,scope,health insurance,years experience,industry standard,data analysis,industry\n",
      "\n",
      "\n",
      "0.3956747446009755,0.29122823445360196,0.2732916602573006,0.272697782532738,0.2460794055471826,0.2460794055471826,0.2460794055471826,0.2348949643967079,0.2340158810455801,0.2166041989297606,0.20915569027459463,0.20842022941742677,0.20834575433232855,0.18841745017490982,0.1777792761571696\n",
      "\n",
      "\n",
      "Topic #26: \n",
      "\n",
      "livongo,health,applied health,health signals,signals,healthcare,clients,client,history,our,success,existing clients,sales client,exploratory analyses,maintainable code\n",
      "\n",
      "\n",
      "0.7558378216085303,0.24659161179894126,0.18698291744656223,0.18698291744656223,0.1663989795015217,0.1608816041431991,0.148384880560431,0.13993892431476648,0.13660387678555738,0.1309088936848946,0.12463333827342513,0.1237768169841216,0.1237768169841216,0.1237768169841216,0.1237768169841216\n",
      "\n",
      "\n",
      "Topic #27: \n",
      "\n",
      "dsa,navy,digital,ndisc,dsas,analysts inc,research scientist,systems analysts,employee,systems,warfare systems,navy warfare,experience navy,1963,digital products\n",
      "\n",
      "\n",
      "0.5502227105079323,0.3657798601900192,0.2883353515552612,0.2735584350310624,0.2735584350310624,0.22727093476109375,0.20848479471685463,0.20777040698711416,0.1983003679357363,0.18659277327899604,0.18133700987210588,0.18133700987210588,0.18133700987210588,0.18133700987210588,0.17961392537852328\n",
      "\n",
      "\n",
      "Topic #28: \n",
      "\n"
     ]
    },
    {
     "name": "stdout",
     "output_type": "stream",
     "text": [
      "front end,front,backend,angular,their customers,end,village,greenwood,greenwood village,dashboard,product,customers,acceptable,end work,working next\n",
      "\n",
      "\n",
      "0.5184683595186242,0.48797457234092007,0.3575697928749422,0.3506932359512724,0.3461320816603468,0.32752010517875696,0.3077959004331784,0.3077959004331784,0.3077959004331784,0.28457569129529464,0.2712423333550349,0.243871785733564,0.22590615816082693,0.18939109789420067,0.18939109789420067\n",
      "\n",
      "\n",
      "Topic #29: \n",
      "\n",
      "myers squibb,squibb,myers,work environment,research,bristol myers,bristol,personal,work,environment,patients,squibb global,the,lives,pursue\n",
      "\n",
      "\n",
      "0.33847905454143074,0.33847905454143074,0.33815731659582676,0.33740626756110637,0.28718486655053094,0.2803477359135932,0.2803477359135932,0.22481590051310116,0.21719475670312563,0.20990053477745121,0.20283066227453883,0.17050976963895,0.1647123407426705,0.16296322080415743,0.16155180890528284\n",
      "\n",
      "\n",
      "Topic #30: \n",
      "\n",
      "fee schedules,fee,implement changes,schedules,drg,cms,medical bill,procurement interpretation,bill review,data conversions,conversions,state federal,bill,product manager,mysql data\n",
      "\n",
      "\n",
      "0.44011491124072083,0.345893712664342,0.32916027859907454,0.31636747415087524,0.307035213727659,0.2926502390449102,0.27676293567514704,0.27676293567514704,0.27676293567514704,0.26444020504539906,0.2581109543461944,0.25143463809278094,0.249885815248794,0.24649398547106477,0.23882806296384573\n",
      "\n",
      "\n",
      "Topic #31: \n",
      "\n",
      "least,lt,gt,least years,lt lt,gt gt,least year,year experience,cloud big,big data,ead,big,years experience,hit,year\n",
      "\n",
      "\n",
      "0.7137216453981605,0.688486325213114,0.6478720117676721,0.5740254277903429,0.5424904116945821,0.5424904116945821,0.5307378559527365,0.37045379609010104,0.3481202372042376,0.3449542684569539,0.32937666077273997,0.32677668708066154,0.3245023727087058,0.320848253198687,0.3207598125258835\n",
      "\n",
      "\n",
      "Topic #32: \n",
      "\n",
      "the,application,documents,may,application package,your,usajobs,position,education,must,announcement,resume,your application,you,specialized experience\n",
      "\n",
      "\n",
      "0.39701676039735645,0.3724750363413745,0.2880301942747102,0.2868967558466582,0.2704380769932079,0.26107788336224264,0.25059547421297135,0.2302284997197201,0.22778616742738922,0.22556951853699983,0.21348567931262233,0.19746360701527593,0.19394806292193698,0.19196214764741298,0.1900262110493144\n",
      "\n",
      "\n",
      "Topic #33: \n",
      "\n",
      "azure,middot,azure data,hdinsight,data factory,sql dw,factory,dw,data,sql,factory hdinsight,azure azure,dw azure,azure sql,end\n",
      "\n",
      "\n",
      "1.3777117397405292,0.6578176835977536,0.5748359401399176,0.45536147441888625,0.445224225910779,0.4419808436676427,0.43547710447102805,0.4325203746538736,0.363350751827057,0.29414550963810626,0.28517377341857614,0.28517377341857614,0.28517377341857614,0.26836558926921256,0.2582991163243289\n",
      "\n",
      "\n",
      "Topic #34: \n",
      "\n",
      "developer,scientistpython developer,data scientistpython,scientistpython,libraries,working knowledge,knowledge,machine learning,machine,12 years,math probability,knowledge math,hadoop dataiku,learn superior,scala apache\n",
      "\n",
      "\n",
      "0.3806696668732096,0.2961179609224185,0.2961179609224185,0.2961179609224185,0.2179970527817329,0.2071716392542928,0.2010494442180907,0.1979709957414066,0.19695959898485638,0.1965369751982078,0.18590319846342976,0.18590319846342976,0.18590319846342976,0.18590319846342976,0.18590319846342976\n",
      "\n",
      "\n",
      "Topic #35: \n",
      "\n",
      "healthcare,danny,danny herries,herries,their business,data,claims data,subject line,email subject,cybercoders,analyzing,work environment,email,optimizing,claims\n",
      "\n",
      "\n",
      "0.3671557395097201,0.274237435220277,0.274237435220277,0.274237435220277,0.22283279886692944,0.20457159061034363,0.2023451769797238,0.19139837822382155,0.19139837822382155,0.18821756782455407,0.18364235346965363,0.18201565182691146,0.18169348295101184,0.1765052666571285,0.1719934136864971\n",
      "\n",
      "\n",
      "Topic #36: \n",
      "\n",
      "uw,research,assessments,washington,research scientist,the,university washington,university,you,staff,time you,my jobs,jobs page,health,my\n",
      "\n",
      "\n",
      "0.3761268500366607,0.3568663830107043,0.26688130067780413,0.25508047215571034,0.2432400883460935,0.2349355032059318,0.23054788763390327,0.22596067203870476,0.19841161624777795,0.17827539376473608,0.16229383360891622,0.16229383360891622,0.16229383360891622,0.1603843644731881,0.15813039686678051\n",
      "\n",
      "\n",
      "Topic #37: \n",
      "\n",
      "db,database,performance availability,more years,relevant exp,oracle mysql,experience,development to,banking industry,cycle design,to include,architecture banking,experience degree,field typically,exp four\n",
      "\n",
      "\n",
      "0.28006344492431307,0.24029717431878453,0.19616509190551415,0.19344416873643697,0.18748027934847325,0.17961528070089752,0.17206855875834862,0.1687601408128718,0.1687601408128718,0.1687601408128718,0.1687601408128718,0.1687601408128718,0.1687601408128718,0.1687601408128718,0.1687601408128718\n",
      "\n",
      "\n",
      "Topic #38: \n",
      "\n",
      "highly complex,bowes,pitney bowes,pitney,analytics,techniques,statistical,solutions,business,analyze large,algorithms statistical,analytical,highly,external,superior\n",
      "\n",
      "\n",
      "0.24285696593195497,0.23072843046166489,0.23072843046166489,0.23072843046166489,0.194388753608957,0.1583977566508071,0.1567292687304027,0.1514323715806065,0.1464558926235366,0.13604229060401402,0.13322511500538517,0.1283100212415151,0.12505766688249598,0.1246960492691011,0.11878160078053607\n",
      "\n",
      "\n",
      "Topic #39: \n",
      "\n",
      "native,planning,native group,contractor,group companies,all native,the,gis,data,capital,indian,the all,all,analysis,division\n",
      "\n",
      "\n",
      "0.261964136002501,0.21312562719120678,0.18161246365257477,0.17099644508510417,0.17089585646668018,0.16833131197967097,0.15212656627593407,0.14898886103695844,0.1447685751556446,0.12274290468707807,0.11304449859868293,0.106917840175973,0.10420442906454161,0.1029142842686258,0.09828644782031899\n",
      "\n",
      "\n",
      "Topic #40: \n",
      "\n",
      "clinical,clinical science,medical,iovance,scientific,the,clinical scientist,clinical trial,clinical scientific,director clinical,prior clinical,perform,director,literature,basic\n",
      "\n",
      "\n",
      "0.613721522707914,0.29730900215810213,0.2326766934648384,0.20895109775523418,0.18112009564361758,0.15214189681110457,0.15202518076112148,0.1464812672560967,0.1381691276067097,0.1381691276067097,0.1381691276067097,0.13718548944184142,0.1366464086766896,0.1355826529685153,0.13016683565987916\n",
      "\n",
      "\n",
      "Topic #41: \n",
      "\n",
      "computer applications,please specify,specify,requisition,required,preferred,additional knowledge,any degree,required please,licensure certification,degree training,geographic information,health,preferred computer,microsoft\n",
      "\n",
      "\n",
      "0.37982272359091496,0.31655866186767245,0.2773518115841945,0.26582119639595525,0.25311709195776494,0.23021231975867376,0.20982489782908717,0.20982489782908717,0.20982489782908717,0.20982489782908717,0.20982489782908717,0.20888903775730558,0.2087283981121995,0.2009166385455231,0.1960015214557626\n",
      "\n",
      "\n",
      "Topic #42: \n",
      "\n",
      "able,alteryx sql,quality control,tableau alteryx,incumbents,data,reporting,bull,alteryx,control,staff vendors,continuous review,extrapolate,extrapolate information,years strategic\n",
      "\n",
      "\n",
      "0.20746873523537598,0.19295702133032389,0.18912237516329158,0.17249894728704931,0.16799323824097412,0.1580765357731111,0.15487857554253895,0.15358740055259223,0.1496408250561664,0.13606586788110572,0.134797960720477,0.134797960720477,0.134797960720477,0.134797960720477,0.134797960720477\n",
      "\n",
      "\n",
      "Topic #43: \n",
      "\n",
      "javaj2ee,profiles,years overall,currently,hadoop,optimize workforce,call 925,embraces creativity,creativity diversity,workforce accessibility,capacity produce,epik solutions,partner companies,hone business,produce real\n",
      "\n",
      "\n",
      "0.2502057991908088,0.24222729915739363,0.2184850653138235,0.2002522469773008,0.17424708879475495,0.17032069310347842,0.17032069310347842,0.17032069310347842,0.17032069310347842,0.17032069310347842,0.17032069310347842,0.17032069310347842,0.17032069310347842,0.17032069310347842,0.17032069310347842\n",
      "\n",
      "\n",
      "Topic #44: \n",
      "\n",
      "games,fish,aware,gaming,fish games,aware games,self aware,big fish,casino,aristocrat,social,game,social casino,oakland,self\n",
      "\n",
      "\n",
      "0.5704214966625061,0.40861180993442503,0.3122425530855827,0.27727951513351,0.2713234488522871,0.2713234488522871,0.2713234488522871,0.2713234488522871,0.20267926831121874,0.20267926831121874,0.1587540865315178,0.14617123575716562,0.1340350877701498,0.1340350877701498,0.1194979343071014\n",
      "\n",
      "\n",
      "Topic #45: \n",
      "\n",
      "amp experience,skills amp,data,contract,markets,breakdown,hire,amp,experience,exemplary track,sets paired,unique expertise,network provides,major north,american markets\n",
      "\n",
      "\n",
      "0.25614092906194114,0.2545308042170684,0.2457567797987533,0.210722705787033,0.21046760556980704,0.17429544476117467,0.17312872103292815,0.16666678981461472,0.16576068214679568,0.16232035816130957,0.16232035816130957,0.16232035816130957,0.16232035816130957,0.16232035816130957,0.16232035816130957\n",
      "\n",
      "\n",
      "Topic #46: \n",
      "\n",
      "villagecare,mltc hedis,mltc,speak,hedis,data analyst,analyst,data villagecaremax,someone who,analytical insight,at home,possible are,match individuals,transform generate,manipulates\n",
      "\n",
      "\n",
      "0.5127162723873648,0.3402635998891521,0.3182483319386692,0.3031234817983002,0.2940700971887972,0.19008497975177532,0.17654159560629512,0.16781092739093992,0.16781092739093992,0.16781092739093992,0.16781092739093992,0.16781092739093992,0.16781092739093992,0.16781092739093992,0.16781092739093992\n",
      "\n",
      "\n",
      "Topic #47: \n",
      "\n",
      "solutions strategies,strategies business,learning operations,preprocessing structured,information discover,sources automate,models ensemble,automate collection,frameworks hadoop,familiarity scala,10 yrs,models machine,python familiarity,research knowledge,information using\n",
      "\n",
      "\n",
      "0.2995983610012601,0.2995983610012601,0.2995983610012601,0.2995983610012601,0.2995983610012601,0.2995983610012601,0.2995983610012601,0.2995983610012601,0.2995983610012601,0.2995983610012601,0.2995983610012601,0.29737030287857186,0.28770794378893605,0.28753566528892277,0.2866525992731412\n",
      "\n",
      "\n",
      "Topic #48: \n",
      "\n",
      "stability,stability programs,cgmp,stability program,biologics,lims,programs,objectives,global,manufacturing,product,change controls,stability data,directives,cmc\n",
      "\n",
      "\n",
      "1.1915814564830742,0.25413159994483664,0.16932616867055456,0.1592408241929836,0.13803033457462477,0.13345658557358925,0.13184214566486513,0.11377574690514407,0.10422915381949237,0.10152897401374822,0.10071667122052529,0.09875230546050809,0.09847949676391993,0.09659837386349199,0.09639642348873141\n",
      "\n",
      "\n",
      "Topic #49: \n",
      "\n",
      "epidemiology,proficiency sas,analysis,ongoing projects,psychiatric,35,sas stata,longitudinal,quantitative data,stata,assistance,degree equivalent,30,lab,school\n",
      "\n",
      "\n",
      "0.2497463322726543,0.24559293527276257,0.2255832203043755,0.21826192012615106,0.21607420917957226,0.21429390829228057,0.2091677664722918,0.2062135226411437,0.19105274456588847,0.18769407669277577,0.18190119182075423,0.17095975833138238,0.1610801294734377,0.154173886555336,0.15113623143285787\n",
      "\n",
      "\n",
      "Topic #50: \n",
      "\n",
      "kafka,cluster,python pyspark,computer languages,statistical computer,pyspark,languages python,languages,kafka cluster,cth for,ecosystem like,tuning cluster,cluster capacity,cluster monitoring,hire cth\n",
      "\n",
      "\n",
      "0.5933545031901738,0.42384673725856004,0.403536411625963,0.39606379966447375,0.39606379966447375,0.32242729548165683,0.28904045721394095,0.2832964985481731,0.2768992987714113,0.22306488064475719,0.22306488064475719,0.22306488064475719,0.22306488064475719,0.22306488064475719,0.22306488064475719\n",
      "\n",
      "\n"
     ]
    }
   ],
   "source": [
    "tfidf_feature_names = tfidf.get_feature_names()\n",
    "print_top_words(nmf, tfidf_feature_names, NMF_top_words)"
   ]
  },
  {
   "cell_type": "code",
   "execution_count": null,
   "metadata": {},
   "outputs": [],
   "source": []
  }
 ],
 "metadata": {
  "kernelspec": {
   "display_name": "Python 3",
   "language": "python",
   "name": "python3"
  },
  "language_info": {
   "codemirror_mode": {
    "name": "ipython",
    "version": 3
   },
   "file_extension": ".py",
   "mimetype": "text/x-python",
   "name": "python",
   "nbconvert_exporter": "python",
   "pygments_lexer": "ipython3",
   "version": "3.7.4"
  }
 },
 "nbformat": 4,
 "nbformat_minor": 2
}
